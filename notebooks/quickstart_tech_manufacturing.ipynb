{
 "cells": [
  {
   "cell_type": "markdown",
   "id": "7fb27b941602401d91542211134fc71a",
   "metadata": {},
   "source": [
    "# Quickstart: Building a GenAI powered Semantic Data Model with Intugle\n",
    "\n",
    "This quickstart shows you how to use Intugle’s open-source library to transform fragmented datasets into a connected semantic model. The semantic model captures profiling, relationships, and business meaning of your data — making it instantly usable for exploration, search, and data product creation.\n",
    "\n",
    "**What is a Semantic Model?**\n",
    "\n",
    "A semantic model is an intelligent knowledge graph of your data. It connects tables, discovers relationships, and enriches them with business glossaries — so both data teams and business users can query with clarity, not complexity.\n",
    "\n",
    "**Who is this for?**\n",
    "\n",
    "*   **Data Engineers & Architects** often spend weeks manually profiling, classifying, and stitching together fragmented data assets. With Intugle, they can automate this process end-to-end, uncovering meaningful links and relationships to instantly generate a connected semantic layer.\n",
    "*   **Data Analysts & Scientists** spend endless hours on data readiness and preparation before they can even start the real analysis. Intugle accelerates this by providing contextual intelligence, automatically generating SQL and reusable data products enriched with relationships and business meaning.\n",
    "*   **Business Analysts & Decision Makers** are slowed down by constant dependence on technical teams for answers. Intugle removes this bottleneck by enabling natural language queries and semantic search, giving them trusted insights on demand.\n",
    "\n",
    "**In this notebook, you will learn how to:**\n",
    "\n",
    "*   **Generate Semantic Model** → The unified layer that transforms fragmented datasets, creating the foundation for connected intelligence.\n",
    "    *   **1.1 Profile and classify data** → Analyze your data sources to understand their structure, data types, and other characteristics.\n",
    "    *   **1.2 Discover links & relationships among data** → Reveal meaningful connections (PK & FK) across fragmented tables.\n",
    "    *   **1.3 Generate a business glossary** → Create business-friendly terms and use them to query data with context.\n",
    "    *   **1.4 Enable Semantic search** → Intelligent search that understands meaning, not just keywords—making data more accessible across both technical and business users.\n",
    "    *   **1.5 Visualize semantic model** → Get access to enriched metadata of the semantic model and visualize your data and relationships.\n",
    "*   **Build Unified Data Products** → Simply pick the attributes across your data tables, and let the toolkit auto-generate queries with all the required joins, transformations, and aggregations using the semantic layer. When executed, these queries produce reusable data products.\n",
    "\n",
    "Before you start, make sure you install the **Intugle Data Tools**:"
   ]
  },
  {
   "cell_type": "code",
   "execution_count": null,
   "id": "acae54e37e7d407bbb7b55eff062a284",
   "metadata": {},
   "outputs": [],
   "source": [
    "%pip install intugle"
   ]
  },
  {
   "cell_type": "markdown",
   "id": "e719abf3",
   "metadata": {},
   "source": [
    "### Downloading the dataset\n",
    "\n",
    "Make sure you download the sample data before getting started. We will be using a **technology manufacturing** company dataset for this demo. You can run the following cell to download the datasets automatically:"
   ]
  },
  {
   "cell_type": "code",
   "execution_count": null,
   "id": "727927f2",
   "metadata": {},
   "outputs": [],
   "source": [
    "import os\n",
    "import requests\n",
    "\n",
    "raw_datasets='tech_company'\n",
    "api_url = f\"https://api.github.com/repos/Intugle/data-tools/contents/sample_data/{raw_datasets}\"\n",
    "local_dir = f\"sample_data/{raw_datasets}\"\n",
    "os.makedirs(local_dir, exist_ok=True)\n",
    "\n",
    "r = requests.get(api_url)\n",
    "r.raise_for_status()\n",
    "\n",
    "for item in r.json():\n",
    "    if item[\"name\"].endswith(\".csv\"):\n",
    "        print(f\"Downloading {item['name']}...\")\n",
    "        file_data = requests.get(item[\"download_url\"])\n",
    "        with open(os.path.join(local_dir, item[\"name\"]), \"wb\") as f:\n",
    "            f.write(file_data.content)\n",
    "\n",
    "print(\"All CSV files downloaded successfully.\")"
   ]
  },
  {
   "cell_type": "markdown",
   "id": "9a63283cbaf04dbcab1f6479b197f3a8",
   "metadata": {},
   "source": [
    "## 1. LLM Configuration\n",
    "\n",
    "Before running the project, you need to configure a Large Language Model (LLM). This is used for tasks like generating business glossaries and predicting links between tables. For the semantic search feature, you will also need to set up Qdrant and provide an OpenAI API key. For detailed setup instructions, please refer to the [README.md](README.md) file.\n",
    "\n",
    "You can configure the necessary services by setting the following environment variables:\n",
    "\n",
    "*   `LLM_PROVIDER`: The LLM provider and model to use (e.g., `openai:gpt-3.5-turbo`). The format follows langchain's format for initializing chat models. Checkout how to specify your model [here](https://python.langchain.com/docs/integrations/chat/)\n",
    "*   `API_KEY`: Your API key for the LLM provider. The exact name of the variable may vary from provider to provider (e.g., `OPENAI_API_KEY`, `ANTHROPIC_API_KEY`).\n",
    "*   `QDRANT_URL`: The URL of your Qdrant instance (e.g., `http://localhost:6333`).\n",
    "*   `QDRANT_API_KEY`: Your API key for the Qdrant instance, if authorization is enabled.\n",
    "*   `EMBEDDING_MODEL_NAME`: The embedding model to use. The format follows LangChain's conventions for initializing embedding models (e.g., `openai:ada`, `azure_openai:ada`).\n",
    "*   `OPENAI_API_KEY`: Your OpenAI API key, required if you are using an OpenAI embedding model.\n",
    "*   `AZURE_OPENAI_API_KEY`, `AZURE_OPENAI_ENDPOINT`, `OPENAI_API_VERSION`: Your Azure OpenAI credentials, required if you are using an Azure OpenAI embedding model.\n",
    "\n",
    "Here's an example of how to set these variables in your environment:\n",
    "\n",
    "```bash\n",
    "export LLM_PROVIDER=\"openai:gpt-3.5-turbo\"\n",
    "export OPENAI_API_KEY=\"your-openai-api-key\"\n",
    "```\n",
    "Alternatively, you can set them in the notebook like this:"
   ]
  },
  {
   "cell_type": "code",
   "execution_count": null,
   "id": "daab2469",
   "metadata": {},
   "outputs": [],
   "source": [
    "import os\n",
    "\n",
    "os.environ[\"LLM_PROVIDER\"] = \"openai:gpt-3.5-turbo\"\n",
    "os.environ[\"OPENAI_API_KEY\"] = \"your-openai-api-key\"  # Replace with your actual key\n",
    "\n",
    "# Semantic Search Configuration (Optional)\n",
    "os.environ[\"QDRANT_URL\"] = \"http://localhost:6333\"\n",
    "os.environ[\"QDRANT_API_KEY\"] = \"\"  # if authorization is used\n",
    "os.environ[\"EMBEDDING_MODEL_NAME\"] = \"openai:ada\"\n",
    "os.environ[\"OPENAI_API_KEY\"] = \"your-openai-api-key\"\n",
    "\n",
    "# For Azure OpenAI models\n",
    "os.environ[\"EMBEDDING_MODEL_NAME\"] = \"azure_openai:ada\"\n",
    "os.environ[\"AZURE_OPENAI_API_KEY\"] = \"your-azure-openai-api-key\"\n",
    "os.environ[\"AZURE_OPENAI_ENDPOINT\"] = \"your-azure-openai-endpoint\"\n",
    "os.environ[\"OPENAI_API_VERSION\"] = \"your-openai-api-version\"\n",
    "\n"
   ]
  },
  {
   "cell_type": "markdown",
   "id": "8dd0d8092fe74a7c96281538738b07e2",
   "metadata": {},
   "source": [
    "> Currently the langchain packages for OpenAI, Anthropic and Gemini is installed by default. For additional models, make sure you have the integration packages installed. E.g. you should have langchain-deepseek installed to use a DeepSeek model. You can get these packages here: [LangChain Chat Models](https://python.langchain.com/docs/integrations/chat/)"
   ]
  },
  {
   "cell_type": "markdown",
   "id": "72eea5119410473aa328ad9291626812",
   "metadata": {},
   "source": [
    "## 2. Building the Semantic Model\n",
    "\n",
    "The `SemanticModel` is the entry point for building your semantic layer. It takes a dictionary of datasets as input and performs the following steps:\n",
    "\n",
    "1.  **Data Profiling:** Calculates statistics for each column, such as distinct count, uniqueness, and completeness.\n",
    "2.  **Datatype Identification:** Identifies the data type of each column (e.g., integer, string, datetime).\n",
    "3.  **Key Identification:** Identifies potential primary keys.\n",
    "4.  **Glossary Generation:** Generates a business glossary for each column using an LLM.\n",
    "5.  **Link Prediction:** Predicts the relationships (foreign keys) between tables.\n",
    "\n",
    "Let's start by defining the datasets we want to use. The path shown below can be a local file path or a remote URL."
   ]
  },
  {
   "cell_type": "code",
   "execution_count": null,
   "id": "8edb47106e1a46a883d545849b8ab81b",
   "metadata": {},
   "outputs": [],
   "source": [
    "def generate_config(table_name: str) -> str:\n",
    "    \"\"\"Append the base URL to the table name.\"\"\"\n",
    "    return {\n",
    "        \"path\": f\"./sample_data/tech_company/{table_name}.csv\",\n",
    "        \"type\": \"csv\",\n",
    "    }\n",
    "\n",
    "\n",
    "table_names = [\n",
    "    \"campaign_survey\",\n",
    "    \"campaigns\",\n",
    "    \"customer_hierarchy\",\n",
    "    \"customers\",\n",
    "    \"delivery_survey\",\n",
    "    \"expense\",\n",
    "    \"install_base\",\n",
    "    \"inventory\",\n",
    "    \"logistics\",\n",
    "    \"nps_survey\",\n",
    "    \"opportunity\",\n",
    "    \"orders\",\n",
    "    \"prob_statement_issue\",\n",
    "    \"product_feature\",\n",
    "    \"product_hierarchy\",\n",
    "    \"products\",\n",
    "    \"renewals\",\n",
    "    \"returns\",\n",
    "    \"service_requests\",\n",
    "    \"website\"\n",
    "]\n",
    "\n",
    "datasets = {table: generate_config(table) for table in table_names}"
   ]
  },
  {
   "cell_type": "markdown",
   "id": "10185d26023b46108eb7d9f57d49d2b3",
   "metadata": {},
   "source": [
    "Now, let's use the `SemanticModel` to build our semantic layer:\n",
    "\n",
    "> The `domain` parameter helps the LLM generate a more contextual business glossary. It specifies the industry domain that the dataset belongs to (e.g., \"Healthcare\", \"Finance\", \"E-commerce\")."
   ]
  },
  {
   "cell_type": "code",
   "execution_count": 3,
   "id": "8763a12b2bbd4a93a75aff182afb95dc",
   "metadata": {},
   "outputs": [
    {
     "name": "stderr",
     "output_type": "stream",
     "text": [
      "/home/raphael/Downloads/intugle_demo/env/lib/python3.12/site-packages/tqdm/auto.py:21: TqdmWarning: IProgress not found. Please update jupyter and ipywidgets. See https://ipywidgets.readthedocs.io/en/stable/user_install.html\n",
      "  from .autonotebook import tqdm as notebook_tqdm\n",
      "/home/raphael/Downloads/intugle_demo/env/lib/python3.12/site-packages/pydantic/_internal/_fields.py:198: UserWarning: Field name \"schema\" in \"Source\" shadows an attribute in parent \"BaseResource\"\n",
      "  warnings.warn(\n"
     ]
    },
    {
     "name": "stdout",
     "output_type": "stream",
     "text": [
      "campaign_survey loaded\n",
      "campaigns loaded\n",
      "customer_hierarchy loaded\n",
      "customers loaded\n",
      "delivery_survey loaded\n",
      "expense loaded\n",
      "install_base loaded\n",
      "inventory loaded\n",
      "logistics loaded\n",
      "nps_survey loaded\n",
      "opportunity loaded\n",
      "orders loaded\n",
      "prob_statement_issue loaded\n",
      "product_feature loaded\n",
      "product_hierarchy loaded\n",
      "products loaded\n",
      "renewals loaded\n",
      "returns loaded\n",
      "service_requests loaded\n",
      "website loaded\n"
     ]
    },
    {
     "data": {
      "text/html": [
       "<pre style=\"white-space:pre;overflow-x:auto;line-height:normal;font-family:Menlo,'DejaVu Sans Mono',consolas,'Courier New',monospace\"><span style=\"color: #808000; text-decoration-color: #808000\">Starting profiling and key identification stage...</span>\n",
       "</pre>\n"
      ],
      "text/plain": [
       "\u001b[33mStarting profiling and key identification stage\u001b[0m\u001b[33m...\u001b[0m\n"
      ]
     },
     "metadata": {},
     "output_type": "display_data"
    },
    {
     "data": {
      "text/html": [
       "<pre style=\"white-space:pre;overflow-x:auto;line-height:normal;font-family:Menlo,'DejaVu Sans Mono',consolas,'Courier New',monospace\"><span style=\"color: #ffaf00; text-decoration-color: #ffaf00\">Processing dataset: campaign_survey</span>\n",
       "</pre>\n"
      ],
      "text/plain": [
       "\u001b[38;5;214mProcessing dataset: campaign_survey\u001b[0m\n"
      ]
     },
     "metadata": {},
     "output_type": "display_data"
    },
    {
     "name": "stderr",
     "output_type": "stream",
     "text": [
      "/home/raphael/Downloads/intugle_demo/env/lib/python3.12/site-packages/numpy/_core/fromnumeric.py:3859: RuntimeWarning: Mean of empty slice.\n",
      "  return _methods._mean(a, axis=axis, dtype=dtype,\n",
      "/home/raphael/Downloads/intugle_demo/env/lib/python3.12/site-packages/numpy/_core/_methods.py:144: RuntimeWarning: invalid value encountered in scalar divide\n",
      "  ret = ret.dtype.type(ret / rcount)\n",
      "100%|██████████| 9/9 [00:05<00:00,  1.79it/s]\n",
      "[*] campaign_survey:   0%|          | 0/1 [00:00<?, ?it/s]/home/raphael/Downloads/intugle_demo/env/lib/python3.12/site-packages/intugle/core/pipeline/key_identification/ki.py:87: SettingWithCopyWarning: \n",
      "A value is trying to be set on a copy of a slice from a DataFrame\n",
      "\n",
      "See the caveats in the documentation: https://pandas.pydata.org/pandas-docs/stable/user_guide/indexing.html#returning-a-view-versus-a-copy\n",
      "  temp.rename(columns={\"datatype_l1\": \"datatype\"}, inplace=True)\n",
      "[*] campaign_survey: 100%|██████████| 1/1 [00:00<00:00,  1.21it/s]\n"
     ]
    },
    {
     "data": {
      "text/html": [
       "<pre style=\"white-space:pre;overflow-x:auto;line-height:normal;font-family:Menlo,'DejaVu Sans Mono',consolas,'Courier New',monospace\"><span style=\"color: #ffaf00; text-decoration-color: #ffaf00\">Processing dataset: campaigns</span>\n",
       "</pre>\n"
      ],
      "text/plain": [
       "\u001b[38;5;214mProcessing dataset: campaigns\u001b[0m\n"
      ]
     },
     "metadata": {},
     "output_type": "display_data"
    },
    {
     "name": "stderr",
     "output_type": "stream",
     "text": [
      "/home/raphael/Downloads/intugle_demo/env/lib/python3.12/site-packages/numpy/_core/fromnumeric.py:3859: RuntimeWarning: Mean of empty slice.\n",
      "  return _methods._mean(a, axis=axis, dtype=dtype,\n",
      "/home/raphael/Downloads/intugle_demo/env/lib/python3.12/site-packages/numpy/_core/_methods.py:144: RuntimeWarning: invalid value encountered in scalar divide\n",
      "  ret = ret.dtype.type(ret / rcount)\n",
      "100%|██████████| 13/13 [00:07<00:00,  1.76it/s]\n",
      "[*] campaigns:   0%|          | 0/1 [00:00<?, ?it/s]/home/raphael/Downloads/intugle_demo/env/lib/python3.12/site-packages/intugle/core/pipeline/key_identification/ki.py:87: SettingWithCopyWarning: \n",
      "A value is trying to be set on a copy of a slice from a DataFrame\n",
      "\n",
      "See the caveats in the documentation: https://pandas.pydata.org/pandas-docs/stable/user_guide/indexing.html#returning-a-view-versus-a-copy\n",
      "  temp.rename(columns={\"datatype_l1\": \"datatype\"}, inplace=True)\n",
      "[*] campaigns: 100%|██████████| 1/1 [00:01<00:00,  1.15s/it]\n"
     ]
    },
    {
     "data": {
      "text/html": [
       "<pre style=\"white-space:pre;overflow-x:auto;line-height:normal;font-family:Menlo,'DejaVu Sans Mono',consolas,'Courier New',monospace\"><span style=\"color: #ffaf00; text-decoration-color: #ffaf00\">Processing dataset: customer_hierarchy</span>\n",
       "</pre>\n"
      ],
      "text/plain": [
       "\u001b[38;5;214mProcessing dataset: customer_hierarchy\u001b[0m\n"
      ]
     },
     "metadata": {},
     "output_type": "display_data"
    },
    {
     "name": "stderr",
     "output_type": "stream",
     "text": [
      "/home/raphael/Downloads/intugle_demo/env/lib/python3.12/site-packages/numpy/_core/fromnumeric.py:3859: RuntimeWarning: Mean of empty slice.\n",
      "  return _methods._mean(a, axis=axis, dtype=dtype,\n",
      "/home/raphael/Downloads/intugle_demo/env/lib/python3.12/site-packages/numpy/_core/_methods.py:144: RuntimeWarning: invalid value encountered in scalar divide\n",
      "  ret = ret.dtype.type(ret / rcount)\n",
      "100%|██████████| 8/8 [00:03<00:00,  2.23it/s]\n",
      "[*] customer_hierarchy:   0%|          | 0/1 [00:00<?, ?it/s]/home/raphael/Downloads/intugle_demo/env/lib/python3.12/site-packages/intugle/core/pipeline/key_identification/ki.py:87: SettingWithCopyWarning: \n",
      "A value is trying to be set on a copy of a slice from a DataFrame\n",
      "\n",
      "See the caveats in the documentation: https://pandas.pydata.org/pandas-docs/stable/user_guide/indexing.html#returning-a-view-versus-a-copy\n",
      "  temp.rename(columns={\"datatype_l1\": \"datatype\"}, inplace=True)\n",
      "[*] customer_hierarchy: 100%|██████████| 1/1 [00:01<00:00,  1.01s/it]\n"
     ]
    },
    {
     "data": {
      "text/html": [
       "<pre style=\"white-space:pre;overflow-x:auto;line-height:normal;font-family:Menlo,'DejaVu Sans Mono',consolas,'Courier New',monospace\"><span style=\"color: #ffaf00; text-decoration-color: #ffaf00\">Processing dataset: customers</span>\n",
       "</pre>\n"
      ],
      "text/plain": [
       "\u001b[38;5;214mProcessing dataset: customers\u001b[0m\n"
      ]
     },
     "metadata": {},
     "output_type": "display_data"
    },
    {
     "name": "stderr",
     "output_type": "stream",
     "text": [
      "/home/raphael/Downloads/intugle_demo/env/lib/python3.12/site-packages/numpy/_core/fromnumeric.py:3859: RuntimeWarning: Mean of empty slice.\n",
      "  return _methods._mean(a, axis=axis, dtype=dtype,\n",
      "/home/raphael/Downloads/intugle_demo/env/lib/python3.12/site-packages/numpy/_core/_methods.py:144: RuntimeWarning: invalid value encountered in scalar divide\n",
      "  ret = ret.dtype.type(ret / rcount)\n",
      "100%|██████████| 9/9 [00:06<00:00,  1.44it/s]\n",
      "[*] customers:   0%|          | 0/1 [00:00<?, ?it/s]/home/raphael/Downloads/intugle_demo/env/lib/python3.12/site-packages/intugle/core/pipeline/key_identification/ki.py:87: SettingWithCopyWarning: \n",
      "A value is trying to be set on a copy of a slice from a DataFrame\n",
      "\n",
      "See the caveats in the documentation: https://pandas.pydata.org/pandas-docs/stable/user_guide/indexing.html#returning-a-view-versus-a-copy\n",
      "  temp.rename(columns={\"datatype_l1\": \"datatype\"}, inplace=True)\n",
      "[*] customers: 100%|██████████| 1/1 [00:00<00:00,  2.18it/s]\n"
     ]
    },
    {
     "data": {
      "text/html": [
       "<pre style=\"white-space:pre;overflow-x:auto;line-height:normal;font-family:Menlo,'DejaVu Sans Mono',consolas,'Courier New',monospace\"><span style=\"color: #ffaf00; text-decoration-color: #ffaf00\">Processing dataset: delivery_survey</span>\n",
       "</pre>\n"
      ],
      "text/plain": [
       "\u001b[38;5;214mProcessing dataset: delivery_survey\u001b[0m\n"
      ]
     },
     "metadata": {},
     "output_type": "display_data"
    },
    {
     "name": "stderr",
     "output_type": "stream",
     "text": [
      "/home/raphael/Downloads/intugle_demo/env/lib/python3.12/site-packages/numpy/_core/fromnumeric.py:3859: RuntimeWarning: Mean of empty slice.\n",
      "  return _methods._mean(a, axis=axis, dtype=dtype,\n",
      "/home/raphael/Downloads/intugle_demo/env/lib/python3.12/site-packages/numpy/_core/_methods.py:144: RuntimeWarning: invalid value encountered in scalar divide\n",
      "  ret = ret.dtype.type(ret / rcount)\n",
      "100%|██████████| 8/8 [00:04<00:00,  1.80it/s]\n",
      "[*] delivery_survey:   0%|          | 0/1 [00:00<?, ?it/s]/home/raphael/Downloads/intugle_demo/env/lib/python3.12/site-packages/intugle/core/pipeline/key_identification/ki.py:87: SettingWithCopyWarning: \n",
      "A value is trying to be set on a copy of a slice from a DataFrame\n",
      "\n",
      "See the caveats in the documentation: https://pandas.pydata.org/pandas-docs/stable/user_guide/indexing.html#returning-a-view-versus-a-copy\n",
      "  temp.rename(columns={\"datatype_l1\": \"datatype\"}, inplace=True)\n",
      "[*] delivery_survey: 100%|██████████| 1/1 [00:00<00:00,  1.21it/s]\n"
     ]
    },
    {
     "data": {
      "text/html": [
       "<pre style=\"white-space:pre;overflow-x:auto;line-height:normal;font-family:Menlo,'DejaVu Sans Mono',consolas,'Courier New',monospace\"><span style=\"color: #ffaf00; text-decoration-color: #ffaf00\">Processing dataset: expense</span>\n",
       "</pre>\n"
      ],
      "text/plain": [
       "\u001b[38;5;214mProcessing dataset: expense\u001b[0m\n"
      ]
     },
     "metadata": {},
     "output_type": "display_data"
    },
    {
     "name": "stderr",
     "output_type": "stream",
     "text": [
      "/home/raphael/Downloads/intugle_demo/env/lib/python3.12/site-packages/numpy/_core/fromnumeric.py:3859: RuntimeWarning: Mean of empty slice.\n",
      "  return _methods._mean(a, axis=axis, dtype=dtype,\n",
      "/home/raphael/Downloads/intugle_demo/env/lib/python3.12/site-packages/numpy/_core/_methods.py:144: RuntimeWarning: invalid value encountered in scalar divide\n",
      "  ret = ret.dtype.type(ret / rcount)\n",
      "100%|██████████| 11/11 [00:06<00:00,  1.62it/s]\n",
      "[*] expense:   0%|          | 0/1 [00:00<?, ?it/s]/home/raphael/Downloads/intugle_demo/env/lib/python3.12/site-packages/intugle/core/pipeline/key_identification/ki.py:87: SettingWithCopyWarning: \n",
      "A value is trying to be set on a copy of a slice from a DataFrame\n",
      "\n",
      "See the caveats in the documentation: https://pandas.pydata.org/pandas-docs/stable/user_guide/indexing.html#returning-a-view-versus-a-copy\n",
      "  temp.rename(columns={\"datatype_l1\": \"datatype\"}, inplace=True)\n",
      "[*] expense: 100%|██████████| 1/1 [00:05<00:00,  5.61s/it]\n"
     ]
    },
    {
     "data": {
      "text/html": [
       "<pre style=\"white-space:pre;overflow-x:auto;line-height:normal;font-family:Menlo,'DejaVu Sans Mono',consolas,'Courier New',monospace\"><span style=\"color: #ffaf00; text-decoration-color: #ffaf00\">Processing dataset: install_base</span>\n",
       "</pre>\n"
      ],
      "text/plain": [
       "\u001b[38;5;214mProcessing dataset: install_base\u001b[0m\n"
      ]
     },
     "metadata": {},
     "output_type": "display_data"
    },
    {
     "name": "stderr",
     "output_type": "stream",
     "text": [
      "/home/raphael/Downloads/intugle_demo/env/lib/python3.12/site-packages/numpy/_core/fromnumeric.py:3859: RuntimeWarning: Mean of empty slice.\n",
      "  return _methods._mean(a, axis=axis, dtype=dtype,\n",
      "/home/raphael/Downloads/intugle_demo/env/lib/python3.12/site-packages/numpy/_core/_methods.py:144: RuntimeWarning: invalid value encountered in scalar divide\n",
      "  ret = ret.dtype.type(ret / rcount)\n",
      "100%|██████████| 13/13 [00:08<00:00,  1.56it/s]\n",
      "[*] install_base:   0%|          | 0/1 [00:00<?, ?it/s]/home/raphael/Downloads/intugle_demo/env/lib/python3.12/site-packages/intugle/core/pipeline/key_identification/ki.py:87: SettingWithCopyWarning: \n",
      "A value is trying to be set on a copy of a slice from a DataFrame\n",
      "\n",
      "See the caveats in the documentation: https://pandas.pydata.org/pandas-docs/stable/user_guide/indexing.html#returning-a-view-versus-a-copy\n",
      "  temp.rename(columns={\"datatype_l1\": \"datatype\"}, inplace=True)\n",
      "[*] install_base: 100%|██████████| 1/1 [00:00<00:00,  1.79it/s]\n"
     ]
    },
    {
     "data": {
      "text/html": [
       "<pre style=\"white-space:pre;overflow-x:auto;line-height:normal;font-family:Menlo,'DejaVu Sans Mono',consolas,'Courier New',monospace\"><span style=\"color: #ffaf00; text-decoration-color: #ffaf00\">Processing dataset: inventory</span>\n",
       "</pre>\n"
      ],
      "text/plain": [
       "\u001b[38;5;214mProcessing dataset: inventory\u001b[0m\n"
      ]
     },
     "metadata": {},
     "output_type": "display_data"
    },
    {
     "name": "stderr",
     "output_type": "stream",
     "text": [
      "/home/raphael/Downloads/intugle_demo/env/lib/python3.12/site-packages/numpy/_core/fromnumeric.py:3859: RuntimeWarning: Mean of empty slice.\n",
      "  return _methods._mean(a, axis=axis, dtype=dtype,\n",
      "/home/raphael/Downloads/intugle_demo/env/lib/python3.12/site-packages/numpy/_core/_methods.py:144: RuntimeWarning: invalid value encountered in scalar divide\n",
      "  ret = ret.dtype.type(ret / rcount)\n",
      "100%|██████████| 11/11 [00:06<00:00,  1.58it/s]\n",
      "[*] inventory:   0%|          | 0/1 [00:00<?, ?it/s]/home/raphael/Downloads/intugle_demo/env/lib/python3.12/site-packages/intugle/core/pipeline/key_identification/ki.py:87: SettingWithCopyWarning: \n",
      "A value is trying to be set on a copy of a slice from a DataFrame\n",
      "\n",
      "See the caveats in the documentation: https://pandas.pydata.org/pandas-docs/stable/user_guide/indexing.html#returning-a-view-versus-a-copy\n",
      "  temp.rename(columns={\"datatype_l1\": \"datatype\"}, inplace=True)\n",
      "[*] inventory: 100%|██████████| 1/1 [00:00<00:00,  1.49it/s]\n"
     ]
    },
    {
     "data": {
      "text/html": [
       "<pre style=\"white-space:pre;overflow-x:auto;line-height:normal;font-family:Menlo,'DejaVu Sans Mono',consolas,'Courier New',monospace\"><span style=\"color: #ffaf00; text-decoration-color: #ffaf00\">Processing dataset: logistics</span>\n",
       "</pre>\n"
      ],
      "text/plain": [
       "\u001b[38;5;214mProcessing dataset: logistics\u001b[0m\n"
      ]
     },
     "metadata": {},
     "output_type": "display_data"
    },
    {
     "name": "stderr",
     "output_type": "stream",
     "text": [
      "/home/raphael/Downloads/intugle_demo/env/lib/python3.12/site-packages/numpy/_core/fromnumeric.py:3859: RuntimeWarning: Mean of empty slice.\n",
      "  return _methods._mean(a, axis=axis, dtype=dtype,\n",
      "/home/raphael/Downloads/intugle_demo/env/lib/python3.12/site-packages/numpy/_core/_methods.py:144: RuntimeWarning: invalid value encountered in scalar divide\n",
      "  ret = ret.dtype.type(ret / rcount)\n",
      "100%|██████████| 10/10 [00:05<00:00,  1.93it/s]\n",
      "[*] logistics:   0%|          | 0/1 [00:00<?, ?it/s]/home/raphael/Downloads/intugle_demo/env/lib/python3.12/site-packages/intugle/core/pipeline/key_identification/ki.py:87: SettingWithCopyWarning: \n",
      "A value is trying to be set on a copy of a slice from a DataFrame\n",
      "\n",
      "See the caveats in the documentation: https://pandas.pydata.org/pandas-docs/stable/user_guide/indexing.html#returning-a-view-versus-a-copy\n",
      "  temp.rename(columns={\"datatype_l1\": \"datatype\"}, inplace=True)\n",
      "[*] logistics: 100%|██████████| 1/1 [00:00<00:00,  1.47it/s]\n"
     ]
    },
    {
     "data": {
      "text/html": [
       "<pre style=\"white-space:pre;overflow-x:auto;line-height:normal;font-family:Menlo,'DejaVu Sans Mono',consolas,'Courier New',monospace\"><span style=\"color: #ffaf00; text-decoration-color: #ffaf00\">Processing dataset: nps_survey</span>\n",
       "</pre>\n"
      ],
      "text/plain": [
       "\u001b[38;5;214mProcessing dataset: nps_survey\u001b[0m\n"
      ]
     },
     "metadata": {},
     "output_type": "display_data"
    },
    {
     "name": "stderr",
     "output_type": "stream",
     "text": [
      "/home/raphael/Downloads/intugle_demo/env/lib/python3.12/site-packages/numpy/_core/fromnumeric.py:3859: RuntimeWarning: Mean of empty slice.\n",
      "  return _methods._mean(a, axis=axis, dtype=dtype,\n",
      "/home/raphael/Downloads/intugle_demo/env/lib/python3.12/site-packages/numpy/_core/_methods.py:144: RuntimeWarning: invalid value encountered in scalar divide\n",
      "  ret = ret.dtype.type(ret / rcount)\n",
      "100%|██████████| 10/10 [00:04<00:00,  2.05it/s]\n",
      "[*] nps_survey:   0%|          | 0/1 [00:00<?, ?it/s]/home/raphael/Downloads/intugle_demo/env/lib/python3.12/site-packages/intugle/core/pipeline/key_identification/ki.py:87: SettingWithCopyWarning: \n",
      "A value is trying to be set on a copy of a slice from a DataFrame\n",
      "\n",
      "See the caveats in the documentation: https://pandas.pydata.org/pandas-docs/stable/user_guide/indexing.html#returning-a-view-versus-a-copy\n",
      "  temp.rename(columns={\"datatype_l1\": \"datatype\"}, inplace=True)\n",
      "[*] nps_survey: 100%|██████████| 1/1 [00:02<00:00,  2.10s/it]\n"
     ]
    },
    {
     "data": {
      "text/html": [
       "<pre style=\"white-space:pre;overflow-x:auto;line-height:normal;font-family:Menlo,'DejaVu Sans Mono',consolas,'Courier New',monospace\"><span style=\"color: #ffaf00; text-decoration-color: #ffaf00\">Processing dataset: opportunity</span>\n",
       "</pre>\n"
      ],
      "text/plain": [
       "\u001b[38;5;214mProcessing dataset: opportunity\u001b[0m\n"
      ]
     },
     "metadata": {},
     "output_type": "display_data"
    },
    {
     "name": "stderr",
     "output_type": "stream",
     "text": [
      "/home/raphael/Downloads/intugle_demo/env/lib/python3.12/site-packages/numpy/_core/fromnumeric.py:3859: RuntimeWarning: Mean of empty slice.\n",
      "  return _methods._mean(a, axis=axis, dtype=dtype,\n",
      "/home/raphael/Downloads/intugle_demo/env/lib/python3.12/site-packages/numpy/_core/_methods.py:144: RuntimeWarning: invalid value encountered in scalar divide\n",
      "  ret = ret.dtype.type(ret / rcount)\n",
      "100%|██████████| 12/12 [00:06<00:00,  1.75it/s]\n",
      "[*] opportunity:   0%|          | 0/1 [00:00<?, ?it/s]/home/raphael/Downloads/intugle_demo/env/lib/python3.12/site-packages/intugle/core/pipeline/key_identification/ki.py:87: SettingWithCopyWarning: \n",
      "A value is trying to be set on a copy of a slice from a DataFrame\n",
      "\n",
      "See the caveats in the documentation: https://pandas.pydata.org/pandas-docs/stable/user_guide/indexing.html#returning-a-view-versus-a-copy\n",
      "  temp.rename(columns={\"datatype_l1\": \"datatype\"}, inplace=True)\n",
      "[*] opportunity: 100%|██████████| 1/1 [00:00<00:00,  1.62it/s]\n"
     ]
    },
    {
     "data": {
      "text/html": [
       "<pre style=\"white-space:pre;overflow-x:auto;line-height:normal;font-family:Menlo,'DejaVu Sans Mono',consolas,'Courier New',monospace\"><span style=\"color: #ffaf00; text-decoration-color: #ffaf00\">Processing dataset: orders</span>\n",
       "</pre>\n"
      ],
      "text/plain": [
       "\u001b[38;5;214mProcessing dataset: orders\u001b[0m\n"
      ]
     },
     "metadata": {},
     "output_type": "display_data"
    },
    {
     "name": "stderr",
     "output_type": "stream",
     "text": [
      "/home/raphael/Downloads/intugle_demo/env/lib/python3.12/site-packages/numpy/_core/fromnumeric.py:3859: RuntimeWarning: Mean of empty slice.\n",
      "  return _methods._mean(a, axis=axis, dtype=dtype,\n",
      "/home/raphael/Downloads/intugle_demo/env/lib/python3.12/site-packages/numpy/_core/_methods.py:144: RuntimeWarning: invalid value encountered in scalar divide\n",
      "  ret = ret.dtype.type(ret / rcount)\n",
      "100%|██████████| 7/7 [00:04<00:00,  1.56it/s]\n",
      "[*] orders:   0%|          | 0/1 [00:00<?, ?it/s]/home/raphael/Downloads/intugle_demo/env/lib/python3.12/site-packages/intugle/core/pipeline/key_identification/ki.py:87: SettingWithCopyWarning: \n",
      "A value is trying to be set on a copy of a slice from a DataFrame\n",
      "\n",
      "See the caveats in the documentation: https://pandas.pydata.org/pandas-docs/stable/user_guide/indexing.html#returning-a-view-versus-a-copy\n",
      "  temp.rename(columns={\"datatype_l1\": \"datatype\"}, inplace=True)\n",
      "[*] orders: 100%|██████████| 1/1 [00:00<00:00,  1.72it/s]\n"
     ]
    },
    {
     "data": {
      "text/html": [
       "<pre style=\"white-space:pre;overflow-x:auto;line-height:normal;font-family:Menlo,'DejaVu Sans Mono',consolas,'Courier New',monospace\"><span style=\"color: #ffaf00; text-decoration-color: #ffaf00\">Processing dataset: prob_statement_issue</span>\n",
       "</pre>\n"
      ],
      "text/plain": [
       "\u001b[38;5;214mProcessing dataset: prob_statement_issue\u001b[0m\n"
      ]
     },
     "metadata": {},
     "output_type": "display_data"
    },
    {
     "name": "stderr",
     "output_type": "stream",
     "text": [
      "/home/raphael/Downloads/intugle_demo/env/lib/python3.12/site-packages/numpy/_core/fromnumeric.py:3859: RuntimeWarning: Mean of empty slice.\n",
      "  return _methods._mean(a, axis=axis, dtype=dtype,\n",
      "/home/raphael/Downloads/intugle_demo/env/lib/python3.12/site-packages/numpy/_core/_methods.py:144: RuntimeWarning: invalid value encountered in scalar divide\n",
      "  ret = ret.dtype.type(ret / rcount)\n",
      "100%|██████████| 8/8 [00:08<00:00,  1.05s/it]\n",
      "[*] prob_statement_issue:   0%|          | 0/1 [00:00<?, ?it/s]/home/raphael/Downloads/intugle_demo/env/lib/python3.12/site-packages/intugle/core/pipeline/key_identification/ki.py:87: SettingWithCopyWarning: \n",
      "A value is trying to be set on a copy of a slice from a DataFrame\n",
      "\n",
      "See the caveats in the documentation: https://pandas.pydata.org/pandas-docs/stable/user_guide/indexing.html#returning-a-view-versus-a-copy\n",
      "  temp.rename(columns={\"datatype_l1\": \"datatype\"}, inplace=True)\n",
      "[*] prob_statement_issue: 100%|██████████| 1/1 [00:00<00:00,  1.91it/s]\n"
     ]
    },
    {
     "data": {
      "text/html": [
       "<pre style=\"white-space:pre;overflow-x:auto;line-height:normal;font-family:Menlo,'DejaVu Sans Mono',consolas,'Courier New',monospace\"><span style=\"color: #ffaf00; text-decoration-color: #ffaf00\">Processing dataset: product_feature</span>\n",
       "</pre>\n"
      ],
      "text/plain": [
       "\u001b[38;5;214mProcessing dataset: product_feature\u001b[0m\n"
      ]
     },
     "metadata": {},
     "output_type": "display_data"
    },
    {
     "name": "stderr",
     "output_type": "stream",
     "text": [
      "/home/raphael/Downloads/intugle_demo/env/lib/python3.12/site-packages/numpy/_core/fromnumeric.py:3859: RuntimeWarning: Mean of empty slice.\n",
      "  return _methods._mean(a, axis=axis, dtype=dtype,\n",
      "/home/raphael/Downloads/intugle_demo/env/lib/python3.12/site-packages/numpy/_core/_methods.py:144: RuntimeWarning: invalid value encountered in scalar divide\n",
      "  ret = ret.dtype.type(ret / rcount)\n",
      "100%|██████████| 8/8 [00:04<00:00,  1.60it/s]\n"
     ]
    },
    {
     "data": {
      "text/html": [
       "<pre style=\"white-space:pre;overflow-x:auto;line-height:normal;font-family:Menlo,'DejaVu Sans Mono',consolas,'Courier New',monospace\"><span style=\"color: #ffaf00; text-decoration-color: #ffaf00\">Processing dataset: product_hierarchy</span>\n",
       "</pre>\n"
      ],
      "text/plain": [
       "\u001b[38;5;214mProcessing dataset: product_hierarchy\u001b[0m\n"
      ]
     },
     "metadata": {},
     "output_type": "display_data"
    },
    {
     "name": "stderr",
     "output_type": "stream",
     "text": [
      "/home/raphael/Downloads/intugle_demo/env/lib/python3.12/site-packages/numpy/_core/fromnumeric.py:3859: RuntimeWarning: Mean of empty slice.\n",
      "  return _methods._mean(a, axis=axis, dtype=dtype,\n",
      "/home/raphael/Downloads/intugle_demo/env/lib/python3.12/site-packages/numpy/_core/_methods.py:144: RuntimeWarning: invalid value encountered in scalar divide\n",
      "  ret = ret.dtype.type(ret / rcount)\n",
      "100%|██████████| 7/7 [00:03<00:00,  1.80it/s]\n",
      "[*] product_hierarchy:   0%|          | 0/1 [00:00<?, ?it/s]/home/raphael/Downloads/intugle_demo/env/lib/python3.12/site-packages/intugle/core/pipeline/key_identification/ki.py:87: SettingWithCopyWarning: \n",
      "A value is trying to be set on a copy of a slice from a DataFrame\n",
      "\n",
      "See the caveats in the documentation: https://pandas.pydata.org/pandas-docs/stable/user_guide/indexing.html#returning-a-view-versus-a-copy\n",
      "  temp.rename(columns={\"datatype_l1\": \"datatype\"}, inplace=True)\n",
      "[*] product_hierarchy: 100%|██████████| 1/1 [00:00<00:00,  1.96it/s]\n"
     ]
    },
    {
     "data": {
      "text/html": [
       "<pre style=\"white-space:pre;overflow-x:auto;line-height:normal;font-family:Menlo,'DejaVu Sans Mono',consolas,'Courier New',monospace\"><span style=\"color: #ffaf00; text-decoration-color: #ffaf00\">Processing dataset: products</span>\n",
       "</pre>\n"
      ],
      "text/plain": [
       "\u001b[38;5;214mProcessing dataset: products\u001b[0m\n"
      ]
     },
     "metadata": {},
     "output_type": "display_data"
    },
    {
     "name": "stderr",
     "output_type": "stream",
     "text": [
      "/home/raphael/Downloads/intugle_demo/env/lib/python3.12/site-packages/numpy/_core/fromnumeric.py:3859: RuntimeWarning: Mean of empty slice.\n",
      "  return _methods._mean(a, axis=axis, dtype=dtype,\n",
      "/home/raphael/Downloads/intugle_demo/env/lib/python3.12/site-packages/numpy/_core/_methods.py:144: RuntimeWarning: invalid value encountered in scalar divide\n",
      "  ret = ret.dtype.type(ret / rcount)\n",
      "100%|██████████| 10/10 [00:05<00:00,  1.79it/s]\n",
      "[*] products:   0%|          | 0/1 [00:00<?, ?it/s]/home/raphael/Downloads/intugle_demo/env/lib/python3.12/site-packages/intugle/core/pipeline/key_identification/ki.py:87: SettingWithCopyWarning: \n",
      "A value is trying to be set on a copy of a slice from a DataFrame\n",
      "\n",
      "See the caveats in the documentation: https://pandas.pydata.org/pandas-docs/stable/user_guide/indexing.html#returning-a-view-versus-a-copy\n",
      "  temp.rename(columns={\"datatype_l1\": \"datatype\"}, inplace=True)\n",
      "[*] products: 100%|██████████| 1/1 [00:00<00:00,  1.09it/s]\n"
     ]
    },
    {
     "data": {
      "text/html": [
       "<pre style=\"white-space:pre;overflow-x:auto;line-height:normal;font-family:Menlo,'DejaVu Sans Mono',consolas,'Courier New',monospace\"><span style=\"color: #ffaf00; text-decoration-color: #ffaf00\">Processing dataset: renewals</span>\n",
       "</pre>\n"
      ],
      "text/plain": [
       "\u001b[38;5;214mProcessing dataset: renewals\u001b[0m\n"
      ]
     },
     "metadata": {},
     "output_type": "display_data"
    },
    {
     "name": "stderr",
     "output_type": "stream",
     "text": [
      "/home/raphael/Downloads/intugle_demo/env/lib/python3.12/site-packages/numpy/_core/fromnumeric.py:3859: RuntimeWarning: Mean of empty slice.\n",
      "  return _methods._mean(a, axis=axis, dtype=dtype,\n",
      "/home/raphael/Downloads/intugle_demo/env/lib/python3.12/site-packages/numpy/_core/_methods.py:144: RuntimeWarning: invalid value encountered in scalar divide\n",
      "  ret = ret.dtype.type(ret / rcount)\n",
      "100%|██████████| 8/8 [00:05<00:00,  1.37it/s]\n",
      "[*] renewals:   0%|          | 0/1 [00:00<?, ?it/s]/home/raphael/Downloads/intugle_demo/env/lib/python3.12/site-packages/intugle/core/pipeline/key_identification/ki.py:87: SettingWithCopyWarning: \n",
      "A value is trying to be set on a copy of a slice from a DataFrame\n",
      "\n",
      "See the caveats in the documentation: https://pandas.pydata.org/pandas-docs/stable/user_guide/indexing.html#returning-a-view-versus-a-copy\n",
      "  temp.rename(columns={\"datatype_l1\": \"datatype\"}, inplace=True)\n",
      "[*] renewals: 100%|██████████| 1/1 [00:01<00:00,  1.29s/it]\n"
     ]
    },
    {
     "data": {
      "text/html": [
       "<pre style=\"white-space:pre;overflow-x:auto;line-height:normal;font-family:Menlo,'DejaVu Sans Mono',consolas,'Courier New',monospace\"><span style=\"color: #ffaf00; text-decoration-color: #ffaf00\">Processing dataset: returns</span>\n",
       "</pre>\n"
      ],
      "text/plain": [
       "\u001b[38;5;214mProcessing dataset: returns\u001b[0m\n"
      ]
     },
     "metadata": {},
     "output_type": "display_data"
    },
    {
     "name": "stderr",
     "output_type": "stream",
     "text": [
      "/home/raphael/Downloads/intugle_demo/env/lib/python3.12/site-packages/numpy/_core/fromnumeric.py:3859: RuntimeWarning: Mean of empty slice.\n",
      "  return _methods._mean(a, axis=axis, dtype=dtype,\n",
      "/home/raphael/Downloads/intugle_demo/env/lib/python3.12/site-packages/numpy/_core/_methods.py:144: RuntimeWarning: invalid value encountered in scalar divide\n",
      "  ret = ret.dtype.type(ret / rcount)\n",
      "100%|██████████| 11/11 [00:07<00:00,  1.54it/s]\n",
      "[*] returns:   0%|          | 0/1 [00:00<?, ?it/s]/home/raphael/Downloads/intugle_demo/env/lib/python3.12/site-packages/intugle/core/pipeline/key_identification/ki.py:87: SettingWithCopyWarning: \n",
      "A value is trying to be set on a copy of a slice from a DataFrame\n",
      "\n",
      "See the caveats in the documentation: https://pandas.pydata.org/pandas-docs/stable/user_guide/indexing.html#returning-a-view-versus-a-copy\n",
      "  temp.rename(columns={\"datatype_l1\": \"datatype\"}, inplace=True)\n",
      "[*] returns: 100%|██████████| 1/1 [00:01<00:00,  1.82s/it]\n"
     ]
    },
    {
     "data": {
      "text/html": [
       "<pre style=\"white-space:pre;overflow-x:auto;line-height:normal;font-family:Menlo,'DejaVu Sans Mono',consolas,'Courier New',monospace\"><span style=\"color: #ffaf00; text-decoration-color: #ffaf00\">Processing dataset: service_requests</span>\n",
       "</pre>\n"
      ],
      "text/plain": [
       "\u001b[38;5;214mProcessing dataset: service_requests\u001b[0m\n"
      ]
     },
     "metadata": {},
     "output_type": "display_data"
    },
    {
     "name": "stderr",
     "output_type": "stream",
     "text": [
      "/home/raphael/Downloads/intugle_demo/env/lib/python3.12/site-packages/numpy/_core/fromnumeric.py:3859: RuntimeWarning: Mean of empty slice.\n",
      "  return _methods._mean(a, axis=axis, dtype=dtype,\n",
      "/home/raphael/Downloads/intugle_demo/env/lib/python3.12/site-packages/numpy/_core/_methods.py:144: RuntimeWarning: invalid value encountered in scalar divide\n",
      "  ret = ret.dtype.type(ret / rcount)\n",
      "100%|██████████| 11/11 [00:06<00:00,  1.57it/s]\n",
      "[*] service_requests:   0%|          | 0/1 [00:00<?, ?it/s]/home/raphael/Downloads/intugle_demo/env/lib/python3.12/site-packages/intugle/core/pipeline/key_identification/ki.py:87: SettingWithCopyWarning: \n",
      "A value is trying to be set on a copy of a slice from a DataFrame\n",
      "\n",
      "See the caveats in the documentation: https://pandas.pydata.org/pandas-docs/stable/user_guide/indexing.html#returning-a-view-versus-a-copy\n",
      "  temp.rename(columns={\"datatype_l1\": \"datatype\"}, inplace=True)\n",
      "[*] service_requests: 100%|██████████| 1/1 [00:00<00:00,  1.59it/s]\n"
     ]
    },
    {
     "data": {
      "text/html": [
       "<pre style=\"white-space:pre;overflow-x:auto;line-height:normal;font-family:Menlo,'DejaVu Sans Mono',consolas,'Courier New',monospace\"><span style=\"color: #ffaf00; text-decoration-color: #ffaf00\">Processing dataset: website</span>\n",
       "</pre>\n"
      ],
      "text/plain": [
       "\u001b[38;5;214mProcessing dataset: website\u001b[0m\n"
      ]
     },
     "metadata": {},
     "output_type": "display_data"
    },
    {
     "name": "stderr",
     "output_type": "stream",
     "text": [
      "/home/raphael/Downloads/intugle_demo/env/lib/python3.12/site-packages/numpy/_core/fromnumeric.py:3859: RuntimeWarning: Mean of empty slice.\n",
      "  return _methods._mean(a, axis=axis, dtype=dtype,\n",
      "/home/raphael/Downloads/intugle_demo/env/lib/python3.12/site-packages/numpy/_core/_methods.py:144: RuntimeWarning: invalid value encountered in scalar divide\n",
      "  ret = ret.dtype.type(ret / rcount)\n",
      "100%|██████████| 9/9 [00:08<00:00,  1.07it/s]\n",
      "[*] website:   0%|          | 0/1 [00:00<?, ?it/s]/home/raphael/Downloads/intugle_demo/env/lib/python3.12/site-packages/intugle/core/pipeline/key_identification/ki.py:87: SettingWithCopyWarning: \n",
      "A value is trying to be set on a copy of a slice from a DataFrame\n",
      "\n",
      "See the caveats in the documentation: https://pandas.pydata.org/pandas-docs/stable/user_guide/indexing.html#returning-a-view-versus-a-copy\n",
      "  temp.rename(columns={\"datatype_l1\": \"datatype\"}, inplace=True)\n",
      "[*] website: 100%|██████████| 1/1 [00:00<00:00,  1.93it/s]\n"
     ]
    },
    {
     "data": {
      "text/html": [
       "<pre style=\"white-space:pre;overflow-x:auto;line-height:normal;font-family:Menlo,'DejaVu Sans Mono',consolas,'Courier New',monospace\"><span style=\"color: #008000; text-decoration-color: #008000; font-weight: bold\">Profiling and key identification complete.</span>\n",
       "</pre>\n"
      ],
      "text/plain": [
       "\u001b[1;32mProfiling and key identification complete.\u001b[0m\n"
      ]
     },
     "metadata": {},
     "output_type": "display_data"
    },
    {
     "data": {
      "text/html": [
       "<pre style=\"white-space:pre;overflow-x:auto;line-height:normal;font-family:Menlo,'DejaVu Sans Mono',consolas,'Courier New',monospace\"><span style=\"color: #808000; text-decoration-color: #808000\">Starting link prediction stage...</span>\n",
       "</pre>\n"
      ],
      "text/plain": [
       "\u001b[33mStarting link prediction stage\u001b[0m\u001b[33m...\u001b[0m\n"
      ]
     },
     "metadata": {},
     "output_type": "display_data"
    },
    {
     "name": "stdout",
     "output_type": "stream",
     "text": [
      "Dataset 'campaign_survey' already processed. Skipping analysis.\n",
      "Dataset 'campaigns' already processed. Skipping analysis.\n",
      "Dataset 'customer_hierarchy' already processed. Skipping analysis.\n",
      "Dataset 'customers' already processed. Skipping analysis.\n",
      "Dataset 'delivery_survey' already processed. Skipping analysis.\n",
      "Dataset 'expense' already processed. Skipping analysis.\n",
      "Dataset 'install_base' already processed. Skipping analysis.\n",
      "Dataset 'inventory' already processed. Skipping analysis.\n",
      "Dataset 'logistics' already processed. Skipping analysis.\n",
      "Dataset 'nps_survey' already processed. Skipping analysis.\n",
      "Dataset 'opportunity' already processed. Skipping analysis.\n",
      "Dataset 'orders' already processed. Skipping analysis.\n",
      "Dataset 'prob_statement_issue' already processed. Skipping analysis.\n",
      "Dataset 'product_feature' already processed. Skipping analysis.\n",
      "Dataset 'product_hierarchy' already processed. Skipping analysis.\n",
      "Dataset 'products' already processed. Skipping analysis.\n",
      "Dataset 'renewals' already processed. Skipping analysis.\n",
      "Dataset 'returns' already processed. Skipping analysis.\n",
      "Dataset 'service_requests' already processed. Skipping analysis.\n",
      "Dataset 'website' already processed. Skipping analysis.\n",
      "LinkPredictor initialized with datasets: ['campaign_survey', 'campaigns', 'customer_hierarchy', 'customers', 'delivery_survey', 'expense', 'install_base', 'inventory', 'logistics', 'nps_survey', 'opportunity', 'orders', 'prob_statement_issue', 'product_feature', 'product_hierarchy', 'products', 'renewals', 'returns', 'service_requests', 'website']\n",
      "\n",
      "--- Comparing 'campaign_survey' <=> 'campaigns' ---\n"
     ]
    },
    {
     "name": "stderr",
     "output_type": "stream",
     "text": [
      "[*] campaign_survey <==> campaigns Runs:1: 100%|██████████| 1/1 [00:01<00:00,  1.06s/it]\n"
     ]
    },
    {
     "name": "stdout",
     "output_type": "stream",
     "text": [
      "Found 1 potential link(s).\n",
      "\n",
      "--- Comparing 'campaign_survey' <=> 'customer_hierarchy' ---\n"
     ]
    },
    {
     "name": "stderr",
     "output_type": "stream",
     "text": [
      "[*] campaign_survey <==> customer_hierarchy Runs:1: 100%|██████████| 1/1 [00:11<00:00, 11.04s/it]\n"
     ]
    },
    {
     "name": "stdout",
     "output_type": "stream",
     "text": [
      "No links found for this pair.\n",
      "\n",
      "--- Comparing 'campaign_survey' <=> 'customers' ---\n"
     ]
    },
    {
     "name": "stderr",
     "output_type": "stream",
     "text": [
      "[*] campaign_survey <==> customers Runs:1: 100%|██████████| 1/1 [00:01<00:00,  1.36s/it]\n"
     ]
    },
    {
     "name": "stdout",
     "output_type": "stream",
     "text": [
      "No links found for this pair.\n",
      "\n",
      "--- Comparing 'campaign_survey' <=> 'delivery_survey' ---\n"
     ]
    },
    {
     "name": "stderr",
     "output_type": "stream",
     "text": [
      "[*] campaign_survey <==> delivery_survey Runs:1: 100%|██████████| 1/1 [00:01<00:00,  1.04s/it]\n"
     ]
    },
    {
     "name": "stdout",
     "output_type": "stream",
     "text": [
      "No links found for this pair.\n",
      "\n",
      "--- Comparing 'campaign_survey' <=> 'expense' ---\n"
     ]
    },
    {
     "name": "stderr",
     "output_type": "stream",
     "text": [
      "[*] campaign_survey <==> expense Runs:1: 100%|██████████| 1/1 [00:01<00:00,  1.19s/it]\n"
     ]
    },
    {
     "name": "stdout",
     "output_type": "stream",
     "text": [
      "No links found for this pair.\n",
      "\n",
      "--- Comparing 'campaign_survey' <=> 'install_base' ---\n"
     ]
    },
    {
     "name": "stderr",
     "output_type": "stream",
     "text": [
      "[*] campaign_survey <==> install_base Runs:1: 100%|██████████| 1/1 [00:01<00:00,  1.12s/it]\n"
     ]
    },
    {
     "name": "stdout",
     "output_type": "stream",
     "text": [
      "No links found for this pair.\n",
      "\n",
      "--- Comparing 'campaign_survey' <=> 'inventory' ---\n"
     ]
    },
    {
     "name": "stderr",
     "output_type": "stream",
     "text": [
      "[*] campaign_survey <==> inventory Runs:1: 100%|██████████| 1/1 [00:00<00:00,  1.42it/s]\n"
     ]
    },
    {
     "name": "stdout",
     "output_type": "stream",
     "text": [
      "No links found for this pair.\n",
      "\n",
      "--- Comparing 'campaign_survey' <=> 'logistics' ---\n"
     ]
    },
    {
     "name": "stderr",
     "output_type": "stream",
     "text": [
      "[*] campaign_survey <==> logistics Runs:1: 100%|██████████| 1/1 [00:01<00:00,  1.47s/it]\n"
     ]
    },
    {
     "name": "stdout",
     "output_type": "stream",
     "text": [
      "No links found for this pair.\n",
      "\n",
      "--- Comparing 'campaign_survey' <=> 'nps_survey' ---\n"
     ]
    },
    {
     "name": "stderr",
     "output_type": "stream",
     "text": [
      "[*] campaign_survey <==> nps_survey Runs:1: 100%|██████████| 1/1 [00:01<00:00,  1.18s/it]\n"
     ]
    },
    {
     "name": "stdout",
     "output_type": "stream",
     "text": [
      "No links found for this pair.\n",
      "\n",
      "--- Comparing 'campaign_survey' <=> 'opportunity' ---\n"
     ]
    },
    {
     "name": "stderr",
     "output_type": "stream",
     "text": [
      "[*] campaign_survey <==> opportunity Runs:1: 100%|██████████| 1/1 [00:00<00:00,  1.28it/s]\n"
     ]
    },
    {
     "name": "stdout",
     "output_type": "stream",
     "text": [
      "No links found for this pair.\n",
      "\n",
      "--- Comparing 'campaign_survey' <=> 'orders' ---\n"
     ]
    },
    {
     "name": "stderr",
     "output_type": "stream",
     "text": [
      "[*] campaign_survey <==> orders Runs:1: 100%|██████████| 1/1 [00:00<00:00,  1.49it/s]\n"
     ]
    },
    {
     "name": "stdout",
     "output_type": "stream",
     "text": [
      "No links found for this pair.\n",
      "\n",
      "--- Comparing 'campaign_survey' <=> 'prob_statement_issue' ---\n"
     ]
    },
    {
     "name": "stderr",
     "output_type": "stream",
     "text": [
      "[*] campaign_survey <==> prob_statement_issue Runs:1: 100%|██████████| 1/1 [00:01<00:00,  1.01s/it]\n"
     ]
    },
    {
     "name": "stdout",
     "output_type": "stream",
     "text": [
      "No links found for this pair.\n",
      "\n",
      "--- Comparing 'campaign_survey' <=> 'product_feature' ---\n"
     ]
    },
    {
     "name": "stderr",
     "output_type": "stream",
     "text": [
      "[*] campaign_survey <==> product_feature Runs:1: 100%|██████████| 1/1 [00:01<00:00,  1.06s/it]\n"
     ]
    },
    {
     "name": "stdout",
     "output_type": "stream",
     "text": [
      "No links found for this pair.\n",
      "\n",
      "--- Comparing 'campaign_survey' <=> 'product_hierarchy' ---\n"
     ]
    },
    {
     "name": "stderr",
     "output_type": "stream",
     "text": [
      "[*] campaign_survey <==> product_hierarchy Runs:1: 100%|██████████| 1/1 [00:01<00:00,  1.35s/it]\n"
     ]
    },
    {
     "name": "stdout",
     "output_type": "stream",
     "text": [
      "No links found for this pair.\n",
      "\n",
      "--- Comparing 'campaign_survey' <=> 'products' ---\n"
     ]
    },
    {
     "name": "stderr",
     "output_type": "stream",
     "text": [
      "[*] campaign_survey <==> products Runs:1: 100%|██████████| 1/1 [00:00<00:00,  1.12it/s]\n"
     ]
    },
    {
     "name": "stdout",
     "output_type": "stream",
     "text": [
      "No links found for this pair.\n",
      "\n",
      "--- Comparing 'campaign_survey' <=> 'renewals' ---\n"
     ]
    },
    {
     "name": "stderr",
     "output_type": "stream",
     "text": [
      "[*] campaign_survey <==> renewals Runs:1: 100%|██████████| 1/1 [00:00<00:00,  1.11it/s]\n"
     ]
    },
    {
     "name": "stdout",
     "output_type": "stream",
     "text": [
      "No links found for this pair.\n",
      "\n",
      "--- Comparing 'campaign_survey' <=> 'returns' ---\n"
     ]
    },
    {
     "name": "stderr",
     "output_type": "stream",
     "text": [
      "[*] campaign_survey <==> returns Runs:1: 100%|██████████| 1/1 [00:00<00:00,  1.23it/s]\n"
     ]
    },
    {
     "name": "stdout",
     "output_type": "stream",
     "text": [
      "No links found for this pair.\n",
      "\n",
      "--- Comparing 'campaign_survey' <=> 'service_requests' ---\n"
     ]
    },
    {
     "name": "stderr",
     "output_type": "stream",
     "text": [
      "[*] campaign_survey <==> service_requests Runs:1: 100%|██████████| 1/1 [00:06<00:00,  6.03s/it]\n"
     ]
    },
    {
     "name": "stdout",
     "output_type": "stream",
     "text": [
      "No links found for this pair.\n",
      "\n",
      "--- Comparing 'campaign_survey' <=> 'website' ---\n"
     ]
    },
    {
     "name": "stderr",
     "output_type": "stream",
     "text": [
      "[*] campaign_survey <==> website Runs:1: 100%|██████████| 1/1 [00:01<00:00,  1.51s/it]\n"
     ]
    },
    {
     "name": "stdout",
     "output_type": "stream",
     "text": [
      "No links found for this pair.\n",
      "\n",
      "--- Comparing 'campaigns' <=> 'customer_hierarchy' ---\n"
     ]
    },
    {
     "name": "stderr",
     "output_type": "stream",
     "text": [
      "[*] campaigns <==> customer_hierarchy Runs:1: 100%|██████████| 1/1 [00:01<00:00,  1.70s/it]\n"
     ]
    },
    {
     "name": "stdout",
     "output_type": "stream",
     "text": [
      "No links found for this pair.\n",
      "\n",
      "--- Comparing 'campaigns' <=> 'customers' ---\n"
     ]
    },
    {
     "name": "stderr",
     "output_type": "stream",
     "text": [
      "[*] campaigns <==> customers Runs:1: 100%|██████████| 1/1 [00:00<00:00,  1.02it/s]\n"
     ]
    },
    {
     "name": "stdout",
     "output_type": "stream",
     "text": [
      "Found 1 potential link(s).\n",
      "\n",
      "--- Comparing 'campaigns' <=> 'delivery_survey' ---\n"
     ]
    },
    {
     "name": "stderr",
     "output_type": "stream",
     "text": [
      "[*] campaigns <==> delivery_survey Runs:1: 100%|██████████| 1/1 [00:06<00:00,  6.52s/it]\n"
     ]
    },
    {
     "name": "stdout",
     "output_type": "stream",
     "text": [
      "No links found for this pair.\n",
      "\n",
      "--- Comparing 'campaigns' <=> 'expense' ---\n"
     ]
    },
    {
     "name": "stderr",
     "output_type": "stream",
     "text": [
      "[*] campaigns <==> expense Runs:1: 100%|██████████| 1/1 [00:12<00:00, 12.40s/it]\n"
     ]
    },
    {
     "name": "stdout",
     "output_type": "stream",
     "text": [
      "No links found for this pair.\n",
      "\n",
      "--- Comparing 'campaigns' <=> 'install_base' ---\n"
     ]
    },
    {
     "name": "stderr",
     "output_type": "stream",
     "text": [
      "[*] campaigns <==> install_base Runs:1: 100%|██████████| 1/1 [00:01<00:00,  1.75s/it]\n"
     ]
    },
    {
     "name": "stdout",
     "output_type": "stream",
     "text": [
      "No links found for this pair.\n",
      "\n",
      "--- Comparing 'campaigns' <=> 'inventory' ---\n"
     ]
    },
    {
     "name": "stderr",
     "output_type": "stream",
     "text": [
      "[*] campaigns <==> inventory Runs:1: 100%|██████████| 1/1 [00:13<00:00, 13.24s/it]\n"
     ]
    },
    {
     "name": "stdout",
     "output_type": "stream",
     "text": [
      "No links found for this pair.\n",
      "\n",
      "--- Comparing 'campaigns' <=> 'logistics' ---\n"
     ]
    },
    {
     "name": "stderr",
     "output_type": "stream",
     "text": [
      "[*] campaigns <==> logistics Runs:1: 100%|██████████| 1/1 [00:02<00:00,  2.74s/it]\n"
     ]
    },
    {
     "name": "stdout",
     "output_type": "stream",
     "text": [
      "No links found for this pair.\n",
      "\n",
      "--- Comparing 'campaigns' <=> 'nps_survey' ---\n"
     ]
    },
    {
     "name": "stderr",
     "output_type": "stream",
     "text": [
      "[*] campaigns <==> nps_survey Runs:1: 100%|██████████| 1/1 [00:01<00:00,  1.55s/it]\n"
     ]
    },
    {
     "name": "stdout",
     "output_type": "stream",
     "text": [
      "No links found for this pair.\n",
      "\n",
      "--- Comparing 'campaigns' <=> 'opportunity' ---\n"
     ]
    },
    {
     "name": "stderr",
     "output_type": "stream",
     "text": [
      "[*] campaigns <==> opportunity Runs:1: 100%|██████████| 1/1 [00:06<00:00,  6.71s/it]\n"
     ]
    },
    {
     "name": "stdout",
     "output_type": "stream",
     "text": [
      "No links found for this pair.\n",
      "\n",
      "--- Comparing 'campaigns' <=> 'orders' ---\n"
     ]
    },
    {
     "name": "stderr",
     "output_type": "stream",
     "text": [
      "[*] campaigns <==> orders Runs:1: 100%|██████████| 1/1 [00:01<00:00,  1.77s/it]\n"
     ]
    },
    {
     "name": "stdout",
     "output_type": "stream",
     "text": [
      "No links found for this pair.\n",
      "\n",
      "--- Comparing 'campaigns' <=> 'prob_statement_issue' ---\n"
     ]
    },
    {
     "name": "stderr",
     "output_type": "stream",
     "text": [
      "[*] campaigns <==> prob_statement_issue Runs:1: 100%|██████████| 1/1 [00:06<00:00,  6.69s/it]\n"
     ]
    },
    {
     "name": "stdout",
     "output_type": "stream",
     "text": [
      "No links found for this pair.\n",
      "\n",
      "--- Comparing 'campaigns' <=> 'product_feature' ---\n"
     ]
    },
    {
     "name": "stderr",
     "output_type": "stream",
     "text": [
      "[*] campaigns <==> product_feature Runs:1: 100%|██████████| 1/1 [00:02<00:00,  2.01s/it]\n"
     ]
    },
    {
     "name": "stdout",
     "output_type": "stream",
     "text": [
      "No links found for this pair.\n",
      "\n",
      "--- Comparing 'campaigns' <=> 'product_hierarchy' ---\n"
     ]
    },
    {
     "name": "stderr",
     "output_type": "stream",
     "text": [
      "[*] campaigns <==> product_hierarchy Runs:1: 100%|██████████| 1/1 [00:01<00:00,  1.71s/it]\n"
     ]
    },
    {
     "name": "stdout",
     "output_type": "stream",
     "text": [
      "No links found for this pair.\n",
      "\n",
      "--- Comparing 'campaigns' <=> 'products' ---\n"
     ]
    },
    {
     "name": "stderr",
     "output_type": "stream",
     "text": [
      "[*] campaigns <==> products Runs:1: 100%|██████████| 1/1 [00:02<00:00,  2.85s/it]\n"
     ]
    },
    {
     "name": "stdout",
     "output_type": "stream",
     "text": [
      "Found 1 potential link(s).\n",
      "\n",
      "--- Comparing 'campaigns' <=> 'renewals' ---\n"
     ]
    },
    {
     "name": "stderr",
     "output_type": "stream",
     "text": [
      "[*] campaigns <==> renewals Runs:1: 100%|██████████| 1/1 [00:02<00:00,  2.46s/it]\n"
     ]
    },
    {
     "name": "stdout",
     "output_type": "stream",
     "text": [
      "No links found for this pair.\n",
      "\n",
      "--- Comparing 'campaigns' <=> 'returns' ---\n"
     ]
    },
    {
     "name": "stderr",
     "output_type": "stream",
     "text": [
      "[*] campaigns <==> returns Runs:1: 100%|██████████| 1/1 [00:01<00:00,  1.59s/it]\n"
     ]
    },
    {
     "name": "stdout",
     "output_type": "stream",
     "text": [
      "No links found for this pair.\n",
      "\n",
      "--- Comparing 'campaigns' <=> 'service_requests' ---\n"
     ]
    },
    {
     "name": "stderr",
     "output_type": "stream",
     "text": [
      "[*] campaigns <==> service_requests Runs:1: 100%|██████████| 1/1 [00:08<00:00,  8.80s/it]\n"
     ]
    },
    {
     "name": "stdout",
     "output_type": "stream",
     "text": [
      "No links found for this pair.\n",
      "\n",
      "--- Comparing 'campaigns' <=> 'website' ---\n"
     ]
    },
    {
     "name": "stderr",
     "output_type": "stream",
     "text": [
      "[*] campaigns <==> website Runs:1: 100%|██████████| 1/1 [00:04<00:00,  4.69s/it]\n"
     ]
    },
    {
     "name": "stdout",
     "output_type": "stream",
     "text": [
      "Found 1 potential link(s).\n",
      "\n",
      "--- Comparing 'customer_hierarchy' <=> 'customers' ---\n"
     ]
    },
    {
     "name": "stderr",
     "output_type": "stream",
     "text": [
      "[*] customer_hierarchy <==> customers Runs:1: 100%|██████████| 1/1 [00:01<00:00,  1.01s/it]\n"
     ]
    },
    {
     "name": "stdout",
     "output_type": "stream",
     "text": [
      "Found 1 potential link(s).\n",
      "\n",
      "--- Comparing 'customer_hierarchy' <=> 'delivery_survey' ---\n"
     ]
    },
    {
     "name": "stderr",
     "output_type": "stream",
     "text": [
      "[*] customer_hierarchy <==> delivery_survey Runs:1: 100%|██████████| 1/1 [00:02<00:00,  2.64s/it]\n"
     ]
    },
    {
     "name": "stdout",
     "output_type": "stream",
     "text": [
      "No links found for this pair.\n",
      "\n",
      "--- Comparing 'customer_hierarchy' <=> 'expense' ---\n"
     ]
    },
    {
     "name": "stderr",
     "output_type": "stream",
     "text": [
      "[*] customer_hierarchy <==> expense Runs:1: 100%|██████████| 1/1 [00:11<00:00, 11.02s/it]\n"
     ]
    },
    {
     "name": "stdout",
     "output_type": "stream",
     "text": [
      "No links found for this pair.\n",
      "\n",
      "--- Comparing 'customer_hierarchy' <=> 'install_base' ---\n"
     ]
    },
    {
     "name": "stderr",
     "output_type": "stream",
     "text": [
      "[*] customer_hierarchy <==> install_base Runs:1: 100%|██████████| 1/1 [00:02<00:00,  2.89s/it]\n"
     ]
    },
    {
     "name": "stdout",
     "output_type": "stream",
     "text": [
      "No links found for this pair.\n",
      "\n",
      "--- Comparing 'customer_hierarchy' <=> 'inventory' ---\n"
     ]
    },
    {
     "name": "stderr",
     "output_type": "stream",
     "text": [
      "[*] customer_hierarchy <==> inventory Runs:1: 100%|██████████| 1/1 [00:00<00:00,  1.08it/s]\n"
     ]
    },
    {
     "name": "stdout",
     "output_type": "stream",
     "text": [
      "No links found for this pair.\n",
      "\n",
      "--- Comparing 'customer_hierarchy' <=> 'logistics' ---\n"
     ]
    },
    {
     "name": "stderr",
     "output_type": "stream",
     "text": [
      "[*] customer_hierarchy <==> logistics Runs:1: 100%|██████████| 1/1 [00:07<00:00,  7.56s/it]\n"
     ]
    },
    {
     "name": "stdout",
     "output_type": "stream",
     "text": [
      "No links found for this pair.\n",
      "\n",
      "--- Comparing 'customer_hierarchy' <=> 'nps_survey' ---\n"
     ]
    },
    {
     "name": "stderr",
     "output_type": "stream",
     "text": [
      "[*] customer_hierarchy <==> nps_survey Runs:1: 100%|██████████| 1/1 [00:01<00:00,  1.87s/it]\n"
     ]
    },
    {
     "name": "stdout",
     "output_type": "stream",
     "text": [
      "No links found for this pair.\n",
      "\n",
      "--- Comparing 'customer_hierarchy' <=> 'opportunity' ---\n"
     ]
    },
    {
     "name": "stderr",
     "output_type": "stream",
     "text": [
      "[*] customer_hierarchy <==> opportunity Runs:1: 100%|██████████| 1/1 [00:06<00:00,  6.06s/it]\n"
     ]
    },
    {
     "name": "stdout",
     "output_type": "stream",
     "text": [
      "No links found for this pair.\n",
      "\n",
      "--- Comparing 'customer_hierarchy' <=> 'orders' ---\n"
     ]
    },
    {
     "name": "stderr",
     "output_type": "stream",
     "text": [
      "[*] customer_hierarchy <==> orders Runs:1: 100%|██████████| 1/1 [00:01<00:00,  1.84s/it]\n"
     ]
    },
    {
     "name": "stdout",
     "output_type": "stream",
     "text": [
      "No links found for this pair.\n",
      "\n",
      "--- Comparing 'customer_hierarchy' <=> 'prob_statement_issue' ---\n"
     ]
    },
    {
     "name": "stderr",
     "output_type": "stream",
     "text": [
      "[*] customer_hierarchy <==> prob_statement_issue Runs:1: 100%|██████████| 1/1 [00:02<00:00,  2.40s/it]\n"
     ]
    },
    {
     "name": "stdout",
     "output_type": "stream",
     "text": [
      "No links found for this pair.\n",
      "\n",
      "--- Comparing 'customer_hierarchy' <=> 'product_feature' ---\n"
     ]
    },
    {
     "name": "stderr",
     "output_type": "stream",
     "text": [
      "[*] customer_hierarchy <==> product_feature Runs:1: 100%|██████████| 1/1 [00:00<00:00,  1.12it/s]\n"
     ]
    },
    {
     "name": "stdout",
     "output_type": "stream",
     "text": [
      "No links found for this pair.\n",
      "\n",
      "--- Comparing 'customer_hierarchy' <=> 'product_hierarchy' ---\n"
     ]
    },
    {
     "name": "stderr",
     "output_type": "stream",
     "text": [
      "[*] customer_hierarchy <==> product_hierarchy Runs:1: 100%|██████████| 1/1 [00:00<00:00,  1.25it/s]\n"
     ]
    },
    {
     "name": "stdout",
     "output_type": "stream",
     "text": [
      "No links found for this pair.\n",
      "\n",
      "--- Comparing 'customer_hierarchy' <=> 'products' ---\n"
     ]
    },
    {
     "name": "stderr",
     "output_type": "stream",
     "text": [
      "[*] customer_hierarchy <==> products Runs:1: 100%|██████████| 1/1 [00:01<00:00,  1.06s/it]\n"
     ]
    },
    {
     "name": "stdout",
     "output_type": "stream",
     "text": [
      "No links found for this pair.\n",
      "\n",
      "--- Comparing 'customer_hierarchy' <=> 'renewals' ---\n"
     ]
    },
    {
     "name": "stderr",
     "output_type": "stream",
     "text": [
      "[*] customer_hierarchy <==> renewals Runs:1: 100%|██████████| 1/1 [00:02<00:00,  2.60s/it]\n"
     ]
    },
    {
     "name": "stdout",
     "output_type": "stream",
     "text": [
      "No links found for this pair.\n",
      "\n",
      "--- Comparing 'customer_hierarchy' <=> 'returns' ---\n"
     ]
    },
    {
     "name": "stderr",
     "output_type": "stream",
     "text": [
      "[*] customer_hierarchy <==> returns Runs:1: 100%|██████████| 1/1 [00:01<00:00,  1.84s/it]\n"
     ]
    },
    {
     "name": "stdout",
     "output_type": "stream",
     "text": [
      "No links found for this pair.\n",
      "\n",
      "--- Comparing 'customer_hierarchy' <=> 'service_requests' ---\n"
     ]
    },
    {
     "name": "stderr",
     "output_type": "stream",
     "text": [
      "[*] customer_hierarchy <==> service_requests Runs:1: 100%|██████████| 1/1 [00:01<00:00,  1.50s/it]\n"
     ]
    },
    {
     "name": "stdout",
     "output_type": "stream",
     "text": [
      "No links found for this pair.\n",
      "\n",
      "--- Comparing 'customer_hierarchy' <=> 'website' ---\n"
     ]
    },
    {
     "name": "stderr",
     "output_type": "stream",
     "text": [
      "[*] customer_hierarchy <==> website Runs:1: 100%|██████████| 1/1 [00:07<00:00,  7.24s/it]\n"
     ]
    },
    {
     "name": "stdout",
     "output_type": "stream",
     "text": [
      "No links found for this pair.\n",
      "\n",
      "--- Comparing 'customers' <=> 'delivery_survey' ---\n"
     ]
    },
    {
     "name": "stderr",
     "output_type": "stream",
     "text": [
      "[*] customers <==> delivery_survey Runs:1: 100%|██████████| 1/1 [00:02<00:00,  2.98s/it]\n"
     ]
    },
    {
     "name": "stdout",
     "output_type": "stream",
     "text": [
      "Found 1 potential link(s).\n",
      "\n",
      "--- Comparing 'customers' <=> 'expense' ---\n"
     ]
    },
    {
     "name": "stderr",
     "output_type": "stream",
     "text": [
      "[*] customers <==> expense Runs:1: 100%|██████████| 1/1 [00:01<00:00,  1.79s/it]\n"
     ]
    },
    {
     "name": "stdout",
     "output_type": "stream",
     "text": [
      "Found 1 potential link(s).\n",
      "\n",
      "--- Comparing 'customers' <=> 'install_base' ---\n"
     ]
    },
    {
     "name": "stderr",
     "output_type": "stream",
     "text": [
      "[*] customers <==> install_base Runs:1: 100%|██████████| 1/1 [00:02<00:00,  2.11s/it]\n"
     ]
    },
    {
     "name": "stdout",
     "output_type": "stream",
     "text": [
      "Found 1 potential link(s).\n",
      "\n",
      "--- Comparing 'customers' <=> 'inventory' ---\n"
     ]
    },
    {
     "name": "stderr",
     "output_type": "stream",
     "text": [
      "[*] customers <==> inventory Runs:1: 100%|██████████| 1/1 [00:00<00:00,  1.29it/s]\n"
     ]
    },
    {
     "name": "stdout",
     "output_type": "stream",
     "text": [
      "No links found for this pair.\n",
      "\n",
      "--- Comparing 'customers' <=> 'logistics' ---\n"
     ]
    },
    {
     "name": "stderr",
     "output_type": "stream",
     "text": [
      "[*] customers <==> logistics Runs:1: 100%|██████████| 1/1 [00:09<00:00,  9.22s/it]\n"
     ]
    },
    {
     "name": "stdout",
     "output_type": "stream",
     "text": [
      "Found 1 potential link(s).\n",
      "\n",
      "--- Comparing 'customers' <=> 'nps_survey' ---\n"
     ]
    },
    {
     "name": "stderr",
     "output_type": "stream",
     "text": [
      "[*] customers <==> nps_survey Runs:1: 100%|██████████| 1/1 [00:05<00:00,  5.84s/it]\n"
     ]
    },
    {
     "name": "stdout",
     "output_type": "stream",
     "text": [
      "Found 1 potential link(s).\n",
      "\n",
      "--- Comparing 'customers' <=> 'opportunity' ---\n"
     ]
    },
    {
     "name": "stderr",
     "output_type": "stream",
     "text": [
      "[*] customers <==> opportunity Runs:1: 100%|██████████| 1/1 [00:06<00:00,  6.35s/it]\n"
     ]
    },
    {
     "name": "stdout",
     "output_type": "stream",
     "text": [
      "Found 1 potential link(s).\n",
      "\n",
      "--- Comparing 'customers' <=> 'orders' ---\n"
     ]
    },
    {
     "name": "stderr",
     "output_type": "stream",
     "text": [
      "[*] customers <==> orders Runs:1: 100%|██████████| 1/1 [00:01<00:00,  1.02s/it]\n"
     ]
    },
    {
     "name": "stdout",
     "output_type": "stream",
     "text": [
      "Found 1 potential link(s).\n",
      "\n",
      "--- Comparing 'customers' <=> 'prob_statement_issue' ---\n"
     ]
    },
    {
     "name": "stderr",
     "output_type": "stream",
     "text": [
      "[*] customers <==> prob_statement_issue Runs:1: 100%|██████████| 1/1 [00:04<00:00,  4.22s/it]\n"
     ]
    },
    {
     "name": "stdout",
     "output_type": "stream",
     "text": [
      "No links found for this pair.\n",
      "\n",
      "--- Comparing 'customers' <=> 'product_feature' ---\n"
     ]
    },
    {
     "name": "stderr",
     "output_type": "stream",
     "text": [
      "[*] customers <==> product_feature Runs:1: 100%|██████████| 1/1 [00:01<00:00,  1.86s/it]\n"
     ]
    },
    {
     "name": "stdout",
     "output_type": "stream",
     "text": [
      "No links found for this pair.\n",
      "\n",
      "--- Comparing 'customers' <=> 'product_hierarchy' ---\n"
     ]
    },
    {
     "name": "stderr",
     "output_type": "stream",
     "text": [
      "[*] customers <==> product_hierarchy Runs:1: 100%|██████████| 1/1 [00:01<00:00,  1.18s/it]\n"
     ]
    },
    {
     "name": "stdout",
     "output_type": "stream",
     "text": [
      "No links found for this pair.\n",
      "\n",
      "--- Comparing 'customers' <=> 'products' ---\n"
     ]
    },
    {
     "name": "stderr",
     "output_type": "stream",
     "text": [
      "[*] customers <==> products Runs:1: 100%|██████████| 1/1 [00:01<00:00,  1.17s/it]\n"
     ]
    },
    {
     "name": "stdout",
     "output_type": "stream",
     "text": [
      "No links found for this pair.\n",
      "\n",
      "--- Comparing 'customers' <=> 'renewals' ---\n"
     ]
    },
    {
     "name": "stderr",
     "output_type": "stream",
     "text": [
      "[*] customers <==> renewals Runs:1: 100%|██████████| 1/1 [00:01<00:00,  1.13s/it]\n"
     ]
    },
    {
     "name": "stdout",
     "output_type": "stream",
     "text": [
      "Found 1 potential link(s).\n",
      "\n",
      "--- Comparing 'customers' <=> 'returns' ---\n"
     ]
    },
    {
     "name": "stderr",
     "output_type": "stream",
     "text": [
      "[*] customers <==> returns Runs:1: 100%|██████████| 1/1 [00:00<00:00,  1.05it/s]\n"
     ]
    },
    {
     "name": "stdout",
     "output_type": "stream",
     "text": [
      "Found 1 potential link(s).\n",
      "\n",
      "--- Comparing 'customers' <=> 'service_requests' ---\n"
     ]
    },
    {
     "name": "stderr",
     "output_type": "stream",
     "text": [
      "[*] customers <==> service_requests Runs:1: 100%|██████████| 1/1 [00:00<00:00,  1.08it/s]\n"
     ]
    },
    {
     "name": "stdout",
     "output_type": "stream",
     "text": [
      "Found 1 potential link(s).\n",
      "\n",
      "--- Comparing 'customers' <=> 'website' ---\n"
     ]
    },
    {
     "name": "stderr",
     "output_type": "stream",
     "text": [
      "[*] customers <==> website Runs:1: 100%|██████████| 1/1 [00:00<00:00,  1.44it/s]\n"
     ]
    },
    {
     "name": "stdout",
     "output_type": "stream",
     "text": [
      "No links found for this pair.\n",
      "\n",
      "--- Comparing 'delivery_survey' <=> 'expense' ---\n"
     ]
    },
    {
     "name": "stderr",
     "output_type": "stream",
     "text": [
      "[*] delivery_survey <==> expense Runs:1: 100%|██████████| 1/1 [00:02<00:00,  2.90s/it]\n"
     ]
    },
    {
     "name": "stdout",
     "output_type": "stream",
     "text": [
      "No links found for this pair.\n",
      "\n",
      "--- Comparing 'delivery_survey' <=> 'install_base' ---\n"
     ]
    },
    {
     "name": "stderr",
     "output_type": "stream",
     "text": [
      "[*] delivery_survey <==> install_base Runs:1: 100%|██████████| 1/1 [00:02<00:00,  2.41s/it]\n"
     ]
    },
    {
     "name": "stdout",
     "output_type": "stream",
     "text": [
      "No links found for this pair.\n",
      "\n",
      "--- Comparing 'delivery_survey' <=> 'inventory' ---\n"
     ]
    },
    {
     "name": "stderr",
     "output_type": "stream",
     "text": [
      "[*] delivery_survey <==> inventory Runs:1: 100%|██████████| 1/1 [00:02<00:00,  2.05s/it]\n"
     ]
    },
    {
     "name": "stdout",
     "output_type": "stream",
     "text": [
      "No links found for this pair.\n",
      "\n",
      "--- Comparing 'delivery_survey' <=> 'logistics' ---\n"
     ]
    },
    {
     "name": "stderr",
     "output_type": "stream",
     "text": [
      "[*] delivery_survey <==> logistics Runs:1: 100%|██████████| 1/1 [00:01<00:00,  1.77s/it]\n"
     ]
    },
    {
     "name": "stdout",
     "output_type": "stream",
     "text": [
      "No links found for this pair.\n",
      "\n",
      "--- Comparing 'delivery_survey' <=> 'nps_survey' ---\n"
     ]
    },
    {
     "name": "stderr",
     "output_type": "stream",
     "text": [
      "[*] delivery_survey <==> nps_survey Runs:1: 100%|██████████| 1/1 [00:01<00:00,  1.96s/it]\n"
     ]
    },
    {
     "name": "stdout",
     "output_type": "stream",
     "text": [
      "No links found for this pair.\n",
      "\n",
      "--- Comparing 'delivery_survey' <=> 'opportunity' ---\n"
     ]
    },
    {
     "name": "stderr",
     "output_type": "stream",
     "text": [
      "[*] delivery_survey <==> opportunity Runs:1: 100%|██████████| 1/1 [00:01<00:00,  1.81s/it]\n"
     ]
    },
    {
     "name": "stdout",
     "output_type": "stream",
     "text": [
      "No links found for this pair.\n",
      "\n",
      "--- Comparing 'delivery_survey' <=> 'orders' ---\n"
     ]
    },
    {
     "name": "stderr",
     "output_type": "stream",
     "text": [
      "[*] delivery_survey <==> orders Runs:1: 100%|██████████| 1/1 [00:02<00:00,  2.86s/it]\n"
     ]
    },
    {
     "name": "stdout",
     "output_type": "stream",
     "text": [
      "Found 1 potential link(s).\n",
      "\n",
      "--- Comparing 'delivery_survey' <=> 'prob_statement_issue' ---\n"
     ]
    },
    {
     "name": "stderr",
     "output_type": "stream",
     "text": [
      "[*] delivery_survey <==> prob_statement_issue Runs:1: 100%|██████████| 1/1 [00:05<00:00,  5.11s/it]\n"
     ]
    },
    {
     "name": "stdout",
     "output_type": "stream",
     "text": [
      "No links found for this pair.\n",
      "\n",
      "--- Comparing 'delivery_survey' <=> 'product_feature' ---\n"
     ]
    },
    {
     "name": "stderr",
     "output_type": "stream",
     "text": [
      "[*] delivery_survey <==> product_feature Runs:1: 100%|██████████| 1/1 [00:02<00:00,  2.52s/it]\n"
     ]
    },
    {
     "name": "stdout",
     "output_type": "stream",
     "text": [
      "No links found for this pair.\n",
      "\n",
      "--- Comparing 'delivery_survey' <=> 'product_hierarchy' ---\n"
     ]
    },
    {
     "name": "stderr",
     "output_type": "stream",
     "text": [
      "[*] delivery_survey <==> product_hierarchy Runs:1: 100%|██████████| 1/1 [00:08<00:00,  8.82s/it]\n"
     ]
    },
    {
     "name": "stdout",
     "output_type": "stream",
     "text": [
      "No links found for this pair.\n",
      "\n",
      "--- Comparing 'delivery_survey' <=> 'products' ---\n"
     ]
    },
    {
     "name": "stderr",
     "output_type": "stream",
     "text": [
      "[*] delivery_survey <==> products Runs:1: 100%|██████████| 1/1 [00:05<00:00,  5.87s/it]\n"
     ]
    },
    {
     "name": "stdout",
     "output_type": "stream",
     "text": [
      "Found 1 potential link(s).\n",
      "\n",
      "--- Comparing 'delivery_survey' <=> 'renewals' ---\n"
     ]
    },
    {
     "name": "stderr",
     "output_type": "stream",
     "text": [
      "[*] delivery_survey <==> renewals Runs:1: 100%|██████████| 1/1 [00:14<00:00, 14.84s/it]\n"
     ]
    },
    {
     "name": "stdout",
     "output_type": "stream",
     "text": [
      "No links found for this pair.\n",
      "\n",
      "--- Comparing 'delivery_survey' <=> 'returns' ---\n"
     ]
    },
    {
     "name": "stderr",
     "output_type": "stream",
     "text": [
      "[*] delivery_survey <==> returns Runs:1: 100%|██████████| 1/1 [00:01<00:00,  1.56s/it]\n"
     ]
    },
    {
     "name": "stdout",
     "output_type": "stream",
     "text": [
      "No links found for this pair.\n",
      "\n",
      "--- Comparing 'delivery_survey' <=> 'service_requests' ---\n"
     ]
    },
    {
     "name": "stderr",
     "output_type": "stream",
     "text": [
      "[*] delivery_survey <==> service_requests Runs:1: 100%|██████████| 1/1 [00:08<00:00,  8.36s/it]\n"
     ]
    },
    {
     "name": "stdout",
     "output_type": "stream",
     "text": [
      "No links found for this pair.\n",
      "\n",
      "--- Comparing 'delivery_survey' <=> 'website' ---\n"
     ]
    },
    {
     "name": "stderr",
     "output_type": "stream",
     "text": [
      "[*] delivery_survey <==> website Runs:1: 100%|██████████| 1/1 [00:03<00:00,  3.29s/it]\n"
     ]
    },
    {
     "name": "stdout",
     "output_type": "stream",
     "text": [
      "No links found for this pair.\n",
      "\n",
      "--- Comparing 'expense' <=> 'install_base' ---\n"
     ]
    },
    {
     "name": "stderr",
     "output_type": "stream",
     "text": [
      "[*] expense <==> install_base Runs:1: 100%|██████████| 1/1 [00:02<00:00,  2.66s/it]\n"
     ]
    },
    {
     "name": "stdout",
     "output_type": "stream",
     "text": [
      "No links found for this pair.\n",
      "\n",
      "--- Comparing 'expense' <=> 'inventory' ---\n"
     ]
    },
    {
     "name": "stderr",
     "output_type": "stream",
     "text": [
      "[*] expense <==> inventory Runs:1: 100%|██████████| 1/1 [00:01<00:00,  1.58s/it]\n"
     ]
    },
    {
     "name": "stdout",
     "output_type": "stream",
     "text": [
      "Found 1 potential link(s).\n",
      "\n",
      "--- Comparing 'expense' <=> 'logistics' ---\n"
     ]
    },
    {
     "name": "stderr",
     "output_type": "stream",
     "text": [
      "[*] expense <==> logistics Runs:1: 100%|██████████| 1/1 [00:01<00:00,  1.83s/it]\n"
     ]
    },
    {
     "name": "stdout",
     "output_type": "stream",
     "text": [
      "No links found for this pair.\n",
      "\n",
      "--- Comparing 'expense' <=> 'nps_survey' ---\n"
     ]
    },
    {
     "name": "stderr",
     "output_type": "stream",
     "text": [
      "[*] expense <==> nps_survey Runs:1: 100%|██████████| 1/1 [00:05<00:00,  5.46s/it]\n"
     ]
    },
    {
     "name": "stdout",
     "output_type": "stream",
     "text": [
      "No links found for this pair.\n",
      "\n",
      "--- Comparing 'expense' <=> 'opportunity' ---\n"
     ]
    },
    {
     "name": "stderr",
     "output_type": "stream",
     "text": [
      "[*] expense <==> opportunity Runs:1: 100%|██████████| 1/1 [00:04<00:00,  4.71s/it]\n"
     ]
    },
    {
     "name": "stdout",
     "output_type": "stream",
     "text": [
      "No links found for this pair.\n",
      "\n",
      "--- Comparing 'expense' <=> 'orders' ---\n"
     ]
    },
    {
     "name": "stderr",
     "output_type": "stream",
     "text": [
      "[*] expense <==> orders Runs:1: 100%|██████████| 1/1 [00:09<00:00,  9.91s/it]\n"
     ]
    },
    {
     "name": "stdout",
     "output_type": "stream",
     "text": [
      "No links found for this pair.\n",
      "\n",
      "--- Comparing 'expense' <=> 'prob_statement_issue' ---\n"
     ]
    },
    {
     "name": "stderr",
     "output_type": "stream",
     "text": [
      "[*] expense <==> prob_statement_issue Runs:1: 100%|██████████| 1/1 [00:15<00:00, 15.26s/it]\n"
     ]
    },
    {
     "name": "stdout",
     "output_type": "stream",
     "text": [
      "No links found for this pair.\n",
      "\n",
      "--- Comparing 'expense' <=> 'product_feature' ---\n"
     ]
    },
    {
     "name": "stderr",
     "output_type": "stream",
     "text": [
      "[*] expense <==> product_feature Runs:1: 100%|██████████| 1/1 [00:03<00:00,  3.82s/it]\n"
     ]
    },
    {
     "name": "stdout",
     "output_type": "stream",
     "text": [
      "No links found for this pair.\n",
      "\n",
      "--- Comparing 'expense' <=> 'product_hierarchy' ---\n"
     ]
    },
    {
     "name": "stderr",
     "output_type": "stream",
     "text": [
      "[*] expense <==> product_hierarchy Runs:1: 100%|██████████| 1/1 [00:05<00:00,  5.80s/it]\n"
     ]
    },
    {
     "name": "stdout",
     "output_type": "stream",
     "text": [
      "No links found for this pair.\n",
      "\n",
      "--- Comparing 'expense' <=> 'products' ---\n"
     ]
    },
    {
     "name": "stderr",
     "output_type": "stream",
     "text": [
      "[*] expense <==> products Runs:1: 100%|██████████| 1/1 [00:00<00:00,  1.34it/s]\n"
     ]
    },
    {
     "name": "stdout",
     "output_type": "stream",
     "text": [
      "No links found for this pair.\n",
      "\n",
      "--- Comparing 'expense' <=> 'renewals' ---\n"
     ]
    },
    {
     "name": "stderr",
     "output_type": "stream",
     "text": [
      "[*] expense <==> renewals Runs:1: 100%|██████████| 1/1 [00:01<00:00,  1.87s/it]\n"
     ]
    },
    {
     "name": "stdout",
     "output_type": "stream",
     "text": [
      "No links found for this pair.\n",
      "\n",
      "--- Comparing 'expense' <=> 'returns' ---\n"
     ]
    },
    {
     "name": "stderr",
     "output_type": "stream",
     "text": [
      "[*] expense <==> returns Runs:1: 100%|██████████| 1/1 [00:02<00:00,  2.37s/it]\n"
     ]
    },
    {
     "name": "stdout",
     "output_type": "stream",
     "text": [
      "No links found for this pair.\n",
      "\n",
      "--- Comparing 'expense' <=> 'service_requests' ---\n"
     ]
    },
    {
     "name": "stderr",
     "output_type": "stream",
     "text": [
      "[*] expense <==> service_requests Runs:1: 100%|██████████| 1/1 [00:01<00:00,  1.63s/it]\n"
     ]
    },
    {
     "name": "stdout",
     "output_type": "stream",
     "text": [
      "No links found for this pair.\n",
      "\n",
      "--- Comparing 'expense' <=> 'website' ---\n"
     ]
    },
    {
     "name": "stderr",
     "output_type": "stream",
     "text": [
      "[*] expense <==> website Runs:1: 100%|██████████| 1/1 [00:01<00:00,  1.69s/it]\n"
     ]
    },
    {
     "name": "stdout",
     "output_type": "stream",
     "text": [
      "No links found for this pair.\n",
      "\n",
      "--- Comparing 'install_base' <=> 'inventory' ---\n"
     ]
    },
    {
     "name": "stderr",
     "output_type": "stream",
     "text": [
      "[*] install_base <==> inventory Runs:1: 100%|██████████| 1/1 [00:01<00:00,  1.66s/it]\n"
     ]
    },
    {
     "name": "stdout",
     "output_type": "stream",
     "text": [
      "No links found for this pair.\n",
      "\n",
      "--- Comparing 'install_base' <=> 'logistics' ---\n"
     ]
    },
    {
     "name": "stderr",
     "output_type": "stream",
     "text": [
      "[*] install_base <==> logistics Runs:1: 100%|██████████| 1/1 [00:06<00:00,  6.65s/it]\n"
     ]
    },
    {
     "name": "stdout",
     "output_type": "stream",
     "text": [
      "No links found for this pair.\n",
      "\n",
      "--- Comparing 'install_base' <=> 'nps_survey' ---\n"
     ]
    },
    {
     "name": "stderr",
     "output_type": "stream",
     "text": [
      "[*] install_base <==> nps_survey Runs:1: 100%|██████████| 1/1 [00:01<00:00,  1.54s/it]\n"
     ]
    },
    {
     "name": "stdout",
     "output_type": "stream",
     "text": [
      "No links found for this pair.\n",
      "\n",
      "--- Comparing 'install_base' <=> 'opportunity' ---\n"
     ]
    },
    {
     "name": "stderr",
     "output_type": "stream",
     "text": [
      "[*] install_base <==> opportunity Runs:1: 100%|██████████| 1/1 [00:01<00:00,  1.60s/it]\n"
     ]
    },
    {
     "name": "stdout",
     "output_type": "stream",
     "text": [
      "No links found for this pair.\n",
      "\n",
      "--- Comparing 'install_base' <=> 'orders' ---\n"
     ]
    },
    {
     "name": "stderr",
     "output_type": "stream",
     "text": [
      "[*] install_base <==> orders Runs:1: 100%|██████████| 1/1 [00:01<00:00,  1.22s/it]\n"
     ]
    },
    {
     "name": "stdout",
     "output_type": "stream",
     "text": [
      "Found 1 potential link(s).\n",
      "\n",
      "--- Comparing 'install_base' <=> 'prob_statement_issue' ---\n"
     ]
    },
    {
     "name": "stderr",
     "output_type": "stream",
     "text": [
      "[*] install_base <==> prob_statement_issue Runs:1: 100%|██████████| 1/1 [00:02<00:00,  2.76s/it]\n"
     ]
    },
    {
     "name": "stdout",
     "output_type": "stream",
     "text": [
      "No links found for this pair.\n",
      "\n",
      "--- Comparing 'install_base' <=> 'product_feature' ---\n"
     ]
    },
    {
     "name": "stderr",
     "output_type": "stream",
     "text": [
      "[*] install_base <==> product_feature Runs:1: 100%|██████████| 1/1 [00:01<00:00,  1.93s/it]\n"
     ]
    },
    {
     "name": "stdout",
     "output_type": "stream",
     "text": [
      "No links found for this pair.\n",
      "\n",
      "--- Comparing 'install_base' <=> 'product_hierarchy' ---\n"
     ]
    },
    {
     "name": "stderr",
     "output_type": "stream",
     "text": [
      "[*] install_base <==> product_hierarchy Runs:1: 100%|██████████| 1/1 [00:14<00:00, 14.12s/it]\n"
     ]
    },
    {
     "name": "stdout",
     "output_type": "stream",
     "text": [
      "No links found for this pair.\n",
      "\n",
      "--- Comparing 'install_base' <=> 'products' ---\n"
     ]
    },
    {
     "name": "stderr",
     "output_type": "stream",
     "text": [
      "[*] install_base <==> products Runs:1: 100%|██████████| 1/1 [00:09<00:00,  9.15s/it]\n"
     ]
    },
    {
     "name": "stdout",
     "output_type": "stream",
     "text": [
      "Found 1 potential link(s).\n",
      "\n",
      "--- Comparing 'install_base' <=> 'renewals' ---\n"
     ]
    },
    {
     "name": "stderr",
     "output_type": "stream",
     "text": [
      "[*] install_base <==> renewals Runs:1: 100%|██████████| 1/1 [00:10<00:00, 10.83s/it]\n"
     ]
    },
    {
     "name": "stdout",
     "output_type": "stream",
     "text": [
      "No links found for this pair.\n",
      "\n",
      "--- Comparing 'install_base' <=> 'returns' ---\n"
     ]
    },
    {
     "name": "stderr",
     "output_type": "stream",
     "text": [
      "[*] install_base <==> returns Runs:1: 100%|██████████| 1/1 [00:01<00:00,  1.57s/it]\n"
     ]
    },
    {
     "name": "stdout",
     "output_type": "stream",
     "text": [
      "No links found for this pair.\n",
      "\n",
      "--- Comparing 'install_base' <=> 'service_requests' ---\n"
     ]
    },
    {
     "name": "stderr",
     "output_type": "stream",
     "text": [
      "[*] install_base <==> service_requests Runs:1: 100%|██████████| 1/1 [00:03<00:00,  3.03s/it]\n"
     ]
    },
    {
     "name": "stdout",
     "output_type": "stream",
     "text": [
      "No links found for this pair.\n",
      "\n",
      "--- Comparing 'install_base' <=> 'website' ---\n"
     ]
    },
    {
     "name": "stderr",
     "output_type": "stream",
     "text": [
      "[*] install_base <==> website Runs:1: 100%|██████████| 1/1 [00:00<00:00,  1.29it/s]\n"
     ]
    },
    {
     "name": "stdout",
     "output_type": "stream",
     "text": [
      "No links found for this pair.\n",
      "\n",
      "--- Comparing 'inventory' <=> 'logistics' ---\n"
     ]
    },
    {
     "name": "stderr",
     "output_type": "stream",
     "text": [
      "[*] inventory <==> logistics Runs:1: 100%|██████████| 1/1 [00:00<00:00,  1.01it/s]\n"
     ]
    },
    {
     "name": "stdout",
     "output_type": "stream",
     "text": [
      "No links found for this pair.\n",
      "\n",
      "--- Comparing 'inventory' <=> 'nps_survey' ---\n"
     ]
    },
    {
     "name": "stderr",
     "output_type": "stream",
     "text": [
      "[*] inventory <==> nps_survey Runs:1: 100%|██████████| 1/1 [00:00<00:00,  1.12it/s]\n"
     ]
    },
    {
     "name": "stdout",
     "output_type": "stream",
     "text": [
      "No links found for this pair.\n",
      "\n",
      "--- Comparing 'inventory' <=> 'opportunity' ---\n"
     ]
    },
    {
     "name": "stderr",
     "output_type": "stream",
     "text": [
      "[*] inventory <==> opportunity Runs:1: 100%|██████████| 1/1 [00:00<00:00,  1.09it/s]\n"
     ]
    },
    {
     "name": "stdout",
     "output_type": "stream",
     "text": [
      "No links found for this pair.\n",
      "\n",
      "--- Comparing 'inventory' <=> 'orders' ---\n"
     ]
    },
    {
     "name": "stderr",
     "output_type": "stream",
     "text": [
      "[*] inventory <==> orders Runs:1: 100%|██████████| 1/1 [00:01<00:00,  1.59s/it]\n"
     ]
    },
    {
     "name": "stdout",
     "output_type": "stream",
     "text": [
      "No links found for this pair.\n",
      "\n",
      "--- Comparing 'inventory' <=> 'prob_statement_issue' ---\n"
     ]
    },
    {
     "name": "stderr",
     "output_type": "stream",
     "text": [
      "[*] inventory <==> prob_statement_issue Runs:1: 100%|██████████| 1/1 [00:05<00:00,  5.30s/it]\n"
     ]
    },
    {
     "name": "stdout",
     "output_type": "stream",
     "text": [
      "No links found for this pair.\n",
      "\n",
      "--- Comparing 'inventory' <=> 'product_feature' ---\n"
     ]
    },
    {
     "name": "stderr",
     "output_type": "stream",
     "text": [
      "[*] inventory <==> product_feature Runs:1: 100%|██████████| 1/1 [00:02<00:00,  2.52s/it]\n"
     ]
    },
    {
     "name": "stdout",
     "output_type": "stream",
     "text": [
      "No links found for this pair.\n",
      "\n",
      "--- Comparing 'inventory' <=> 'product_hierarchy' ---\n"
     ]
    },
    {
     "name": "stderr",
     "output_type": "stream",
     "text": [
      "[*] inventory <==> product_hierarchy Runs:1: 100%|██████████| 1/1 [00:01<00:00,  1.72s/it]\n"
     ]
    },
    {
     "name": "stdout",
     "output_type": "stream",
     "text": [
      "No links found for this pair.\n",
      "\n",
      "--- Comparing 'inventory' <=> 'products' ---\n"
     ]
    },
    {
     "name": "stderr",
     "output_type": "stream",
     "text": [
      "[*] inventory <==> products Runs:1: 100%|██████████| 1/1 [00:01<00:00,  1.47s/it]\n"
     ]
    },
    {
     "name": "stdout",
     "output_type": "stream",
     "text": [
      "Found 1 potential link(s).\n",
      "\n",
      "--- Comparing 'inventory' <=> 'renewals' ---\n"
     ]
    },
    {
     "name": "stderr",
     "output_type": "stream",
     "text": [
      "[*] inventory <==> renewals Runs:1: 100%|██████████| 1/1 [00:01<00:00,  1.51s/it]\n"
     ]
    },
    {
     "name": "stdout",
     "output_type": "stream",
     "text": [
      "No links found for this pair.\n",
      "\n",
      "--- Comparing 'inventory' <=> 'returns' ---\n"
     ]
    },
    {
     "name": "stderr",
     "output_type": "stream",
     "text": [
      "[*] inventory <==> returns Runs:1: 100%|██████████| 1/1 [00:02<00:00,  2.05s/it]\n"
     ]
    },
    {
     "name": "stdout",
     "output_type": "stream",
     "text": [
      "No links found for this pair.\n",
      "\n",
      "--- Comparing 'inventory' <=> 'service_requests' ---\n"
     ]
    },
    {
     "name": "stderr",
     "output_type": "stream",
     "text": [
      "[*] inventory <==> service_requests Runs:1: 100%|██████████| 1/1 [00:01<00:00,  1.49s/it]\n"
     ]
    },
    {
     "name": "stdout",
     "output_type": "stream",
     "text": [
      "No links found for this pair.\n",
      "\n",
      "--- Comparing 'inventory' <=> 'website' ---\n"
     ]
    },
    {
     "name": "stderr",
     "output_type": "stream",
     "text": [
      "[*] inventory <==> website Runs:1: 100%|██████████| 1/1 [00:05<00:00,  5.82s/it]\n"
     ]
    },
    {
     "name": "stdout",
     "output_type": "stream",
     "text": [
      "No links found for this pair.\n",
      "\n",
      "--- Comparing 'logistics' <=> 'nps_survey' ---\n"
     ]
    },
    {
     "name": "stderr",
     "output_type": "stream",
     "text": [
      "[*] logistics <==> nps_survey Runs:1: 100%|██████████| 1/1 [00:06<00:00,  6.71s/it]\n"
     ]
    },
    {
     "name": "stdout",
     "output_type": "stream",
     "text": [
      "No links found for this pair.\n",
      "\n",
      "--- Comparing 'logistics' <=> 'opportunity' ---\n"
     ]
    },
    {
     "name": "stderr",
     "output_type": "stream",
     "text": [
      "[*] logistics <==> opportunity Runs:1: 100%|██████████| 1/1 [00:19<00:00, 19.04s/it]\n"
     ]
    },
    {
     "name": "stdout",
     "output_type": "stream",
     "text": [
      "No links found for this pair.\n",
      "\n",
      "--- Comparing 'logistics' <=> 'orders' ---\n"
     ]
    },
    {
     "name": "stderr",
     "output_type": "stream",
     "text": [
      "[*] logistics <==> orders Runs:1: 100%|██████████| 1/1 [00:00<00:00,  1.08it/s]\n"
     ]
    },
    {
     "name": "stdout",
     "output_type": "stream",
     "text": [
      "Found 1 potential link(s).\n",
      "\n",
      "--- Comparing 'logistics' <=> 'prob_statement_issue' ---\n"
     ]
    },
    {
     "name": "stderr",
     "output_type": "stream",
     "text": [
      "[*] logistics <==> prob_statement_issue Runs:1: 100%|██████████| 1/1 [00:01<00:00,  1.14s/it]\n"
     ]
    },
    {
     "name": "stdout",
     "output_type": "stream",
     "text": [
      "No links found for this pair.\n",
      "\n",
      "--- Comparing 'logistics' <=> 'product_feature' ---\n"
     ]
    },
    {
     "name": "stderr",
     "output_type": "stream",
     "text": [
      "[*] logistics <==> product_feature Runs:1: 100%|██████████| 1/1 [00:01<00:00,  1.08s/it]\n"
     ]
    },
    {
     "name": "stdout",
     "output_type": "stream",
     "text": [
      "No links found for this pair.\n",
      "\n",
      "--- Comparing 'logistics' <=> 'product_hierarchy' ---\n"
     ]
    },
    {
     "name": "stderr",
     "output_type": "stream",
     "text": [
      "[*] logistics <==> product_hierarchy Runs:1: 100%|██████████| 1/1 [00:00<00:00,  1.22it/s]\n"
     ]
    },
    {
     "name": "stdout",
     "output_type": "stream",
     "text": [
      "No links found for this pair.\n",
      "\n",
      "--- Comparing 'logistics' <=> 'products' ---\n"
     ]
    },
    {
     "name": "stderr",
     "output_type": "stream",
     "text": [
      "[*] logistics <==> products Runs:1: 100%|██████████| 1/1 [00:00<00:00,  1.41it/s]\n"
     ]
    },
    {
     "name": "stdout",
     "output_type": "stream",
     "text": [
      "No links found for this pair.\n",
      "\n",
      "--- Comparing 'logistics' <=> 'renewals' ---\n"
     ]
    },
    {
     "name": "stderr",
     "output_type": "stream",
     "text": [
      "[*] logistics <==> renewals Runs:1: 100%|██████████| 1/1 [00:01<00:00,  1.91s/it]\n"
     ]
    },
    {
     "name": "stdout",
     "output_type": "stream",
     "text": [
      "No links found for this pair.\n",
      "\n",
      "--- Comparing 'logistics' <=> 'returns' ---\n"
     ]
    },
    {
     "name": "stderr",
     "output_type": "stream",
     "text": [
      "[*] logistics <==> returns Runs:1: 100%|██████████| 1/1 [00:01<00:00,  1.81s/it]\n"
     ]
    },
    {
     "name": "stdout",
     "output_type": "stream",
     "text": [
      "No links found for this pair.\n",
      "\n",
      "--- Comparing 'logistics' <=> 'service_requests' ---\n"
     ]
    },
    {
     "name": "stderr",
     "output_type": "stream",
     "text": [
      "[*] logistics <==> service_requests Runs:1: 100%|██████████| 1/1 [00:01<00:00,  1.50s/it]\n"
     ]
    },
    {
     "name": "stdout",
     "output_type": "stream",
     "text": [
      "No links found for this pair.\n",
      "\n",
      "--- Comparing 'logistics' <=> 'website' ---\n"
     ]
    },
    {
     "name": "stderr",
     "output_type": "stream",
     "text": [
      "[*] logistics <==> website Runs:1: 100%|██████████| 1/1 [00:01<00:00,  1.91s/it]\n"
     ]
    },
    {
     "name": "stdout",
     "output_type": "stream",
     "text": [
      "No links found for this pair.\n",
      "\n",
      "--- Comparing 'nps_survey' <=> 'opportunity' ---\n"
     ]
    },
    {
     "name": "stderr",
     "output_type": "stream",
     "text": [
      "[*] nps_survey <==> opportunity Runs:1: 100%|██████████| 1/1 [00:05<00:00,  5.50s/it]\n"
     ]
    },
    {
     "name": "stdout",
     "output_type": "stream",
     "text": [
      "No links found for this pair.\n",
      "\n",
      "--- Comparing 'nps_survey' <=> 'orders' ---\n"
     ]
    },
    {
     "name": "stderr",
     "output_type": "stream",
     "text": [
      "[*] nps_survey <==> orders Runs:1: 100%|██████████| 1/1 [00:01<00:00,  1.48s/it]\n"
     ]
    },
    {
     "name": "stdout",
     "output_type": "stream",
     "text": [
      "No links found for this pair.\n",
      "\n",
      "--- Comparing 'nps_survey' <=> 'prob_statement_issue' ---\n"
     ]
    },
    {
     "name": "stderr",
     "output_type": "stream",
     "text": [
      "[*] nps_survey <==> prob_statement_issue Runs:1: 100%|██████████| 1/1 [00:01<00:00,  1.51s/it]\n"
     ]
    },
    {
     "name": "stdout",
     "output_type": "stream",
     "text": [
      "No links found for this pair.\n",
      "\n",
      "--- Comparing 'nps_survey' <=> 'product_feature' ---\n"
     ]
    },
    {
     "name": "stderr",
     "output_type": "stream",
     "text": [
      "[*] nps_survey <==> product_feature Runs:1: 100%|██████████| 1/1 [00:01<00:00,  1.82s/it]\n"
     ]
    },
    {
     "name": "stdout",
     "output_type": "stream",
     "text": [
      "No links found for this pair.\n",
      "\n",
      "--- Comparing 'nps_survey' <=> 'product_hierarchy' ---\n"
     ]
    },
    {
     "name": "stderr",
     "output_type": "stream",
     "text": [
      "[*] nps_survey <==> product_hierarchy Runs:1: 100%|██████████| 1/1 [00:00<00:00,  1.00it/s]\n"
     ]
    },
    {
     "name": "stdout",
     "output_type": "stream",
     "text": [
      "No links found for this pair.\n",
      "\n",
      "--- Comparing 'nps_survey' <=> 'products' ---\n"
     ]
    },
    {
     "name": "stderr",
     "output_type": "stream",
     "text": [
      "[*] nps_survey <==> products Runs:1: 100%|██████████| 1/1 [00:01<00:00,  1.18s/it]\n"
     ]
    },
    {
     "name": "stdout",
     "output_type": "stream",
     "text": [
      "No links found for this pair.\n",
      "\n",
      "--- Comparing 'nps_survey' <=> 'renewals' ---\n"
     ]
    },
    {
     "name": "stderr",
     "output_type": "stream",
     "text": [
      "[*] nps_survey <==> renewals Runs:1: 100%|██████████| 1/1 [00:02<00:00,  2.04s/it]\n"
     ]
    },
    {
     "name": "stdout",
     "output_type": "stream",
     "text": [
      "No links found for this pair.\n",
      "\n",
      "--- Comparing 'nps_survey' <=> 'returns' ---\n"
     ]
    },
    {
     "name": "stderr",
     "output_type": "stream",
     "text": [
      "[*] nps_survey <==> returns Runs:1: 100%|██████████| 1/1 [00:05<00:00,  5.89s/it]\n"
     ]
    },
    {
     "name": "stdout",
     "output_type": "stream",
     "text": [
      "Found 1 potential link(s).\n",
      "\n",
      "--- Comparing 'nps_survey' <=> 'service_requests' ---\n"
     ]
    },
    {
     "name": "stderr",
     "output_type": "stream",
     "text": [
      "[*] nps_survey <==> service_requests Runs:1: 100%|██████████| 1/1 [00:03<00:00,  3.09s/it]\n"
     ]
    },
    {
     "name": "stdout",
     "output_type": "stream",
     "text": [
      "Found 1 potential link(s).\n",
      "\n",
      "--- Comparing 'nps_survey' <=> 'website' ---\n"
     ]
    },
    {
     "name": "stderr",
     "output_type": "stream",
     "text": [
      "[*] nps_survey <==> website Runs:1: 100%|██████████| 1/1 [00:02<00:00,  2.74s/it]\n"
     ]
    },
    {
     "name": "stdout",
     "output_type": "stream",
     "text": [
      "No links found for this pair.\n",
      "\n",
      "--- Comparing 'opportunity' <=> 'orders' ---\n"
     ]
    },
    {
     "name": "stderr",
     "output_type": "stream",
     "text": [
      "[*] opportunity <==> orders Runs:1: 100%|██████████| 1/1 [00:09<00:00,  9.91s/it]\n"
     ]
    },
    {
     "name": "stdout",
     "output_type": "stream",
     "text": [
      "No links found for this pair.\n",
      "\n",
      "--- Comparing 'opportunity' <=> 'prob_statement_issue' ---\n"
     ]
    },
    {
     "name": "stderr",
     "output_type": "stream",
     "text": [
      "[*] opportunity <==> prob_statement_issue Runs:1: 100%|██████████| 1/1 [00:11<00:00, 11.06s/it]\n"
     ]
    },
    {
     "name": "stdout",
     "output_type": "stream",
     "text": [
      "No links found for this pair.\n",
      "\n",
      "--- Comparing 'opportunity' <=> 'product_feature' ---\n"
     ]
    },
    {
     "name": "stderr",
     "output_type": "stream",
     "text": [
      "[*] opportunity <==> product_feature Runs:1: 100%|██████████| 1/1 [00:04<00:00,  4.33s/it]\n"
     ]
    },
    {
     "name": "stdout",
     "output_type": "stream",
     "text": [
      "No links found for this pair.\n",
      "\n",
      "--- Comparing 'opportunity' <=> 'product_hierarchy' ---\n"
     ]
    },
    {
     "name": "stderr",
     "output_type": "stream",
     "text": [
      "[*] opportunity <==> product_hierarchy Runs:1: 100%|██████████| 1/1 [00:00<00:00,  1.16it/s]\n"
     ]
    },
    {
     "name": "stdout",
     "output_type": "stream",
     "text": [
      "No links found for this pair.\n",
      "\n",
      "--- Comparing 'opportunity' <=> 'products' ---\n"
     ]
    },
    {
     "name": "stderr",
     "output_type": "stream",
     "text": [
      "[*] opportunity <==> products Runs:1: 100%|██████████| 1/1 [00:00<00:00,  1.25it/s]\n"
     ]
    },
    {
     "name": "stdout",
     "output_type": "stream",
     "text": [
      "No links found for this pair.\n",
      "\n",
      "--- Comparing 'opportunity' <=> 'renewals' ---\n"
     ]
    },
    {
     "name": "stderr",
     "output_type": "stream",
     "text": [
      "[*] opportunity <==> renewals Runs:1: 100%|██████████| 1/1 [00:02<00:00,  2.18s/it]\n"
     ]
    },
    {
     "name": "stdout",
     "output_type": "stream",
     "text": [
      "No links found for this pair.\n",
      "\n",
      "--- Comparing 'opportunity' <=> 'returns' ---\n"
     ]
    },
    {
     "name": "stderr",
     "output_type": "stream",
     "text": [
      "[*] opportunity <==> returns Runs:1: 100%|██████████| 1/1 [00:05<00:00,  5.63s/it]\n"
     ]
    },
    {
     "name": "stdout",
     "output_type": "stream",
     "text": [
      "No links found for this pair.\n",
      "\n",
      "--- Comparing 'opportunity' <=> 'service_requests' ---\n"
     ]
    },
    {
     "name": "stderr",
     "output_type": "stream",
     "text": [
      "[*] opportunity <==> service_requests Runs:1: 100%|██████████| 1/1 [00:01<00:00,  1.97s/it]\n"
     ]
    },
    {
     "name": "stdout",
     "output_type": "stream",
     "text": [
      "No links found for this pair.\n",
      "\n",
      "--- Comparing 'opportunity' <=> 'website' ---\n"
     ]
    },
    {
     "name": "stderr",
     "output_type": "stream",
     "text": [
      "[*] opportunity <==> website Runs:1: 100%|██████████| 1/1 [00:05<00:00,  5.93s/it]\n"
     ]
    },
    {
     "name": "stdout",
     "output_type": "stream",
     "text": [
      "No links found for this pair.\n",
      "\n",
      "--- Comparing 'orders' <=> 'prob_statement_issue' ---\n"
     ]
    },
    {
     "name": "stderr",
     "output_type": "stream",
     "text": [
      "[*] orders <==> prob_statement_issue Runs:1: 100%|██████████| 1/1 [00:01<00:00,  1.87s/it]\n"
     ]
    },
    {
     "name": "stdout",
     "output_type": "stream",
     "text": [
      "No links found for this pair.\n",
      "\n",
      "--- Comparing 'orders' <=> 'product_feature' ---\n"
     ]
    },
    {
     "name": "stderr",
     "output_type": "stream",
     "text": [
      "[*] orders <==> product_feature Runs:1: 100%|██████████| 1/1 [00:02<00:00,  2.63s/it]\n"
     ]
    },
    {
     "name": "stdout",
     "output_type": "stream",
     "text": [
      "No links found for this pair.\n",
      "\n",
      "--- Comparing 'orders' <=> 'product_hierarchy' ---\n"
     ]
    },
    {
     "name": "stderr",
     "output_type": "stream",
     "text": [
      "[*] orders <==> product_hierarchy Runs:1: 100%|██████████| 1/1 [00:02<00:00,  2.01s/it]\n"
     ]
    },
    {
     "name": "stdout",
     "output_type": "stream",
     "text": [
      "No links found for this pair.\n",
      "\n",
      "--- Comparing 'orders' <=> 'products' ---\n"
     ]
    },
    {
     "name": "stderr",
     "output_type": "stream",
     "text": [
      "[*] orders <==> products Runs:1: 100%|██████████| 1/1 [00:01<00:00,  1.32s/it]\n"
     ]
    },
    {
     "name": "stdout",
     "output_type": "stream",
     "text": [
      "Found 1 potential link(s).\n",
      "\n",
      "--- Comparing 'orders' <=> 'renewals' ---\n"
     ]
    },
    {
     "name": "stderr",
     "output_type": "stream",
     "text": [
      "[*] orders <==> renewals Runs:1: 100%|██████████| 1/1 [00:01<00:00,  1.01s/it]\n"
     ]
    },
    {
     "name": "stdout",
     "output_type": "stream",
     "text": [
      "Found 1 potential link(s).\n",
      "\n",
      "--- Comparing 'orders' <=> 'returns' ---\n"
     ]
    },
    {
     "name": "stderr",
     "output_type": "stream",
     "text": [
      "[*] orders <==> returns Runs:1: 100%|██████████| 1/1 [00:01<00:00,  1.05s/it]\n"
     ]
    },
    {
     "name": "stdout",
     "output_type": "stream",
     "text": [
      "Found 1 potential link(s).\n",
      "\n",
      "--- Comparing 'orders' <=> 'service_requests' ---\n"
     ]
    },
    {
     "name": "stderr",
     "output_type": "stream",
     "text": [
      "[*] orders <==> service_requests Runs:1: 100%|██████████| 1/1 [00:00<00:00,  1.04it/s]\n"
     ]
    },
    {
     "name": "stdout",
     "output_type": "stream",
     "text": [
      "Found 1 potential link(s).\n",
      "\n",
      "--- Comparing 'orders' <=> 'website' ---\n"
     ]
    },
    {
     "name": "stderr",
     "output_type": "stream",
     "text": [
      "[*] orders <==> website Runs:1: 100%|██████████| 1/1 [00:01<00:00,  1.13s/it]\n"
     ]
    },
    {
     "name": "stdout",
     "output_type": "stream",
     "text": [
      "No links found for this pair.\n",
      "\n",
      "--- Comparing 'prob_statement_issue' <=> 'product_feature' ---\n"
     ]
    },
    {
     "name": "stderr",
     "output_type": "stream",
     "text": [
      "[*] prob_statement_issue <==> product_feature Runs:1: 100%|██████████| 1/1 [00:01<00:00,  1.38s/it]\n"
     ]
    },
    {
     "name": "stdout",
     "output_type": "stream",
     "text": [
      "No links found for this pair.\n",
      "\n",
      "--- Comparing 'prob_statement_issue' <=> 'product_hierarchy' ---\n"
     ]
    },
    {
     "name": "stderr",
     "output_type": "stream",
     "text": [
      "[*] prob_statement_issue <==> product_hierarchy Runs:1: 100%|██████████| 1/1 [00:01<00:00,  1.85s/it]\n"
     ]
    },
    {
     "name": "stdout",
     "output_type": "stream",
     "text": [
      "No links found for this pair.\n",
      "\n",
      "--- Comparing 'prob_statement_issue' <=> 'products' ---\n"
     ]
    },
    {
     "name": "stderr",
     "output_type": "stream",
     "text": [
      "[*] prob_statement_issue <==> products Runs:1: 100%|██████████| 1/1 [00:01<00:00,  1.15s/it]\n"
     ]
    },
    {
     "name": "stdout",
     "output_type": "stream",
     "text": [
      "Found 1 potential link(s).\n",
      "\n",
      "--- Comparing 'prob_statement_issue' <=> 'renewals' ---\n"
     ]
    },
    {
     "name": "stderr",
     "output_type": "stream",
     "text": [
      "[*] prob_statement_issue <==> renewals Runs:1: 100%|██████████| 1/1 [00:10<00:00, 10.45s/it]\n"
     ]
    },
    {
     "name": "stdout",
     "output_type": "stream",
     "text": [
      "No links found for this pair.\n",
      "\n",
      "--- Comparing 'prob_statement_issue' <=> 'returns' ---\n"
     ]
    },
    {
     "name": "stderr",
     "output_type": "stream",
     "text": [
      "[*] prob_statement_issue <==> returns Runs:1: 100%|██████████| 1/1 [00:10<00:00, 10.02s/it]\n"
     ]
    },
    {
     "name": "stdout",
     "output_type": "stream",
     "text": [
      "No links found for this pair.\n",
      "\n",
      "--- Comparing 'prob_statement_issue' <=> 'service_requests' ---\n"
     ]
    },
    {
     "name": "stderr",
     "output_type": "stream",
     "text": [
      "[*] prob_statement_issue <==> service_requests Runs:1: 100%|██████████| 1/1 [00:04<00:00,  4.06s/it]\n"
     ]
    },
    {
     "name": "stdout",
     "output_type": "stream",
     "text": [
      "Found 1 potential link(s).\n",
      "\n",
      "--- Comparing 'prob_statement_issue' <=> 'website' ---\n"
     ]
    },
    {
     "name": "stderr",
     "output_type": "stream",
     "text": [
      "[*] prob_statement_issue <==> website Runs:1: 100%|██████████| 1/1 [00:01<00:00,  1.78s/it]\n"
     ]
    },
    {
     "name": "stdout",
     "output_type": "stream",
     "text": [
      "No links found for this pair.\n",
      "\n",
      "--- Comparing 'product_feature' <=> 'product_hierarchy' ---\n"
     ]
    },
    {
     "name": "stderr",
     "output_type": "stream",
     "text": [
      "[*] product_feature <==> product_hierarchy Runs:1: 100%|██████████| 1/1 [00:01<00:00,  1.44s/it]\n"
     ]
    },
    {
     "name": "stdout",
     "output_type": "stream",
     "text": [
      "No links found for this pair.\n",
      "\n",
      "--- Comparing 'product_feature' <=> 'products' ---\n"
     ]
    },
    {
     "name": "stderr",
     "output_type": "stream",
     "text": [
      "[*] product_feature <==> products Runs:1: 100%|██████████| 1/1 [00:06<00:00,  6.11s/it]\n"
     ]
    },
    {
     "name": "stdout",
     "output_type": "stream",
     "text": [
      "Found 1 potential link(s).\n",
      "\n",
      "--- Comparing 'product_feature' <=> 'renewals' ---\n"
     ]
    },
    {
     "name": "stderr",
     "output_type": "stream",
     "text": [
      "[*] product_feature <==> renewals Runs:1: 100%|██████████| 1/1 [00:01<00:00,  1.80s/it]\n"
     ]
    },
    {
     "name": "stdout",
     "output_type": "stream",
     "text": [
      "No links found for this pair.\n",
      "\n",
      "--- Comparing 'product_feature' <=> 'returns' ---\n"
     ]
    },
    {
     "name": "stderr",
     "output_type": "stream",
     "text": [
      "[*] product_feature <==> returns Runs:1: 100%|██████████| 1/1 [00:01<00:00,  1.42s/it]\n"
     ]
    },
    {
     "name": "stdout",
     "output_type": "stream",
     "text": [
      "No links found for this pair.\n",
      "\n",
      "--- Comparing 'product_feature' <=> 'service_requests' ---\n"
     ]
    },
    {
     "name": "stderr",
     "output_type": "stream",
     "text": [
      "[*] product_feature <==> service_requests Runs:1: 100%|██████████| 1/1 [00:04<00:00,  4.46s/it]\n"
     ]
    },
    {
     "name": "stdout",
     "output_type": "stream",
     "text": [
      "No links found for this pair.\n",
      "\n",
      "--- Comparing 'product_feature' <=> 'website' ---\n"
     ]
    },
    {
     "name": "stderr",
     "output_type": "stream",
     "text": [
      "[*] product_feature <==> website Runs:1: 100%|██████████| 1/1 [00:00<00:00,  1.06it/s]\n"
     ]
    },
    {
     "name": "stdout",
     "output_type": "stream",
     "text": [
      "No links found for this pair.\n",
      "\n",
      "--- Comparing 'product_hierarchy' <=> 'products' ---\n"
     ]
    },
    {
     "name": "stderr",
     "output_type": "stream",
     "text": [
      "[*] product_hierarchy <==> products Runs:1: 100%|██████████| 1/1 [00:01<00:00,  1.49s/it]\n"
     ]
    },
    {
     "name": "stdout",
     "output_type": "stream",
     "text": [
      "Found 1 potential link(s).\n",
      "\n",
      "--- Comparing 'product_hierarchy' <=> 'renewals' ---\n"
     ]
    },
    {
     "name": "stderr",
     "output_type": "stream",
     "text": [
      "[*] product_hierarchy <==> renewals Runs:1: 100%|██████████| 1/1 [00:02<00:00,  2.15s/it]\n"
     ]
    },
    {
     "name": "stdout",
     "output_type": "stream",
     "text": [
      "No links found for this pair.\n",
      "\n",
      "--- Comparing 'product_hierarchy' <=> 'returns' ---\n"
     ]
    },
    {
     "name": "stderr",
     "output_type": "stream",
     "text": [
      "[*] product_hierarchy <==> returns Runs:1: 100%|██████████| 1/1 [00:01<00:00,  1.41s/it]\n"
     ]
    },
    {
     "name": "stdout",
     "output_type": "stream",
     "text": [
      "No links found for this pair.\n",
      "\n",
      "--- Comparing 'product_hierarchy' <=> 'service_requests' ---\n"
     ]
    },
    {
     "name": "stderr",
     "output_type": "stream",
     "text": [
      "[*] product_hierarchy <==> service_requests Runs:1: 100%|██████████| 1/1 [00:04<00:00,  4.09s/it]\n"
     ]
    },
    {
     "name": "stdout",
     "output_type": "stream",
     "text": [
      "No links found for this pair.\n",
      "\n",
      "--- Comparing 'product_hierarchy' <=> 'website' ---\n"
     ]
    },
    {
     "name": "stderr",
     "output_type": "stream",
     "text": [
      "[*] product_hierarchy <==> website Runs:1: 100%|██████████| 1/1 [00:00<00:00,  1.63it/s]\n"
     ]
    },
    {
     "name": "stdout",
     "output_type": "stream",
     "text": [
      "No links found for this pair.\n",
      "\n",
      "--- Comparing 'products' <=> 'renewals' ---\n"
     ]
    },
    {
     "name": "stderr",
     "output_type": "stream",
     "text": [
      "[*] products <==> renewals Runs:1: 100%|██████████| 1/1 [00:01<00:00,  1.03s/it]\n"
     ]
    },
    {
     "name": "stdout",
     "output_type": "stream",
     "text": [
      "Found 1 potential link(s).\n",
      "\n",
      "--- Comparing 'products' <=> 'returns' ---\n"
     ]
    },
    {
     "name": "stderr",
     "output_type": "stream",
     "text": [
      "[*] products <==> returns Runs:1: 100%|██████████| 1/1 [00:01<00:00,  1.90s/it]\n"
     ]
    },
    {
     "name": "stdout",
     "output_type": "stream",
     "text": [
      "Found 1 potential link(s).\n",
      "\n",
      "--- Comparing 'products' <=> 'service_requests' ---\n"
     ]
    },
    {
     "name": "stderr",
     "output_type": "stream",
     "text": [
      "[*] products <==> service_requests Runs:1: 100%|██████████| 1/1 [00:06<00:00,  6.63s/it]\n"
     ]
    },
    {
     "name": "stdout",
     "output_type": "stream",
     "text": [
      "Found 1 potential link(s).\n",
      "\n",
      "--- Comparing 'products' <=> 'website' ---\n"
     ]
    },
    {
     "name": "stderr",
     "output_type": "stream",
     "text": [
      "[*] products <==> website Runs:1: 100%|██████████| 1/1 [00:00<00:00,  1.13it/s]\n"
     ]
    },
    {
     "name": "stdout",
     "output_type": "stream",
     "text": [
      "No links found for this pair.\n",
      "\n",
      "--- Comparing 'renewals' <=> 'returns' ---\n"
     ]
    },
    {
     "name": "stderr",
     "output_type": "stream",
     "text": [
      "[*] renewals <==> returns Runs:1: 100%|██████████| 1/1 [00:01<00:00,  1.56s/it]\n"
     ]
    },
    {
     "name": "stdout",
     "output_type": "stream",
     "text": [
      "No links found for this pair.\n",
      "\n",
      "--- Comparing 'renewals' <=> 'service_requests' ---\n"
     ]
    },
    {
     "name": "stderr",
     "output_type": "stream",
     "text": [
      "[*] renewals <==> service_requests Runs:1: 100%|██████████| 1/1 [00:03<00:00,  3.46s/it]\n"
     ]
    },
    {
     "name": "stdout",
     "output_type": "stream",
     "text": [
      "No links found for this pair.\n",
      "\n",
      "--- Comparing 'renewals' <=> 'website' ---\n"
     ]
    },
    {
     "name": "stderr",
     "output_type": "stream",
     "text": [
      "[*] renewals <==> website Runs:1: 100%|██████████| 1/1 [00:11<00:00, 11.58s/it]\n"
     ]
    },
    {
     "name": "stdout",
     "output_type": "stream",
     "text": [
      "No links found for this pair.\n",
      "\n",
      "--- Comparing 'returns' <=> 'service_requests' ---\n"
     ]
    },
    {
     "name": "stderr",
     "output_type": "stream",
     "text": [
      "[*] returns <==> service_requests Runs:1: 100%|██████████| 1/1 [00:01<00:00,  1.25s/it]\n"
     ]
    },
    {
     "name": "stdout",
     "output_type": "stream",
     "text": [
      "Found 1 potential link(s).\n",
      "\n",
      "--- Comparing 'returns' <=> 'website' ---\n"
     ]
    },
    {
     "name": "stderr",
     "output_type": "stream",
     "text": [
      "[*] returns <==> website Runs:1: 100%|██████████| 1/1 [00:02<00:00,  2.29s/it]\n"
     ]
    },
    {
     "name": "stdout",
     "output_type": "stream",
     "text": [
      "No links found for this pair.\n",
      "\n",
      "--- Comparing 'service_requests' <=> 'website' ---\n"
     ]
    },
    {
     "name": "stderr",
     "output_type": "stream",
     "text": [
      "[*] service_requests <==> website Runs:1: 100%|██████████| 1/1 [00:00<00:00,  1.26it/s]"
     ]
    },
    {
     "name": "stdout",
     "output_type": "stream",
     "text": [
      "No links found for this pair.\n"
     ]
    },
    {
     "name": "stderr",
     "output_type": "stream",
     "text": [
      "\n"
     ]
    },
    {
     "data": {
      "text/html": [
       "<pre style=\"white-space:pre;overflow-x:auto;line-height:normal;font-family:Menlo,'DejaVu Sans Mono',consolas,'Courier New',monospace\"><span style=\"color: #008000; text-decoration-color: #008000; font-weight: bold\">Link prediction complete.</span>\n",
       "</pre>\n"
      ],
      "text/plain": [
       "\u001b[1;32mLink prediction complete.\u001b[0m\n"
      ]
     },
     "metadata": {},
     "output_type": "display_data"
    },
    {
     "data": {
      "text/html": [
       "<pre style=\"white-space:pre;overflow-x:auto;line-height:normal;font-family:Menlo,'DejaVu Sans Mono',consolas,'Courier New',monospace\"><span style=\"color: #808000; text-decoration-color: #808000\">Starting business glossary generation stage...</span>\n",
       "</pre>\n"
      ],
      "text/plain": [
       "\u001b[33mStarting business glossary generation stage\u001b[0m\u001b[33m...\u001b[0m\n"
      ]
     },
     "metadata": {},
     "output_type": "display_data"
    },
    {
     "data": {
      "text/html": [
       "<pre style=\"white-space:pre;overflow-x:auto;line-height:normal;font-family:Menlo,'DejaVu Sans Mono',consolas,'Courier New',monospace\"><span style=\"color: #008000; text-decoration-color: #008000; font-weight: bold\">Generating glossary for dataset: campaign_survey</span>\n",
       "</pre>\n"
      ],
      "text/plain": [
       "\u001b[1;32mGenerating glossary for dataset: campaign_survey\u001b[0m\n"
      ]
     },
     "metadata": {},
     "output_type": "display_data"
    },
    {
     "name": "stderr",
     "output_type": "stream",
     "text": [
      "100%|██████████| 9/9 [00:14<00:00,  1.60s/it]\n"
     ]
    },
    {
     "data": {
      "text/html": [
       "<pre style=\"white-space:pre;overflow-x:auto;line-height:normal;font-family:Menlo,'DejaVu Sans Mono',consolas,'Courier New',monospace\"><span style=\"color: #008000; text-decoration-color: #008000; font-weight: bold\">Generating glossary for dataset: campaigns</span>\n",
       "</pre>\n"
      ],
      "text/plain": [
       "\u001b[1;32mGenerating glossary for dataset: campaigns\u001b[0m\n"
      ]
     },
     "metadata": {},
     "output_type": "display_data"
    },
    {
     "name": "stderr",
     "output_type": "stream",
     "text": [
      "100%|██████████| 13/13 [00:21<00:00,  1.67s/it]\n"
     ]
    },
    {
     "data": {
      "text/html": [
       "<pre style=\"white-space:pre;overflow-x:auto;line-height:normal;font-family:Menlo,'DejaVu Sans Mono',consolas,'Courier New',monospace\"><span style=\"color: #008000; text-decoration-color: #008000; font-weight: bold\">Generating glossary for dataset: customer_hierarchy</span>\n",
       "</pre>\n"
      ],
      "text/plain": [
       "\u001b[1;32mGenerating glossary for dataset: customer_hierarchy\u001b[0m\n"
      ]
     },
     "metadata": {},
     "output_type": "display_data"
    },
    {
     "name": "stderr",
     "output_type": "stream",
     "text": [
      "100%|██████████| 8/8 [00:12<00:00,  1.57s/it]\n"
     ]
    },
    {
     "data": {
      "text/html": [
       "<pre style=\"white-space:pre;overflow-x:auto;line-height:normal;font-family:Menlo,'DejaVu Sans Mono',consolas,'Courier New',monospace\"><span style=\"color: #008000; text-decoration-color: #008000; font-weight: bold\">Generating glossary for dataset: customers</span>\n",
       "</pre>\n"
      ],
      "text/plain": [
       "\u001b[1;32mGenerating glossary for dataset: customers\u001b[0m\n"
      ]
     },
     "metadata": {},
     "output_type": "display_data"
    },
    {
     "name": "stderr",
     "output_type": "stream",
     "text": [
      "100%|██████████| 9/9 [00:13<00:00,  1.55s/it]\n"
     ]
    },
    {
     "data": {
      "text/html": [
       "<pre style=\"white-space:pre;overflow-x:auto;line-height:normal;font-family:Menlo,'DejaVu Sans Mono',consolas,'Courier New',monospace\"><span style=\"color: #008000; text-decoration-color: #008000; font-weight: bold\">Generating glossary for dataset: delivery_survey</span>\n",
       "</pre>\n"
      ],
      "text/plain": [
       "\u001b[1;32mGenerating glossary for dataset: delivery_survey\u001b[0m\n"
      ]
     },
     "metadata": {},
     "output_type": "display_data"
    },
    {
     "name": "stderr",
     "output_type": "stream",
     "text": [
      "100%|██████████| 8/8 [00:10<00:00,  1.31s/it]\n"
     ]
    },
    {
     "data": {
      "text/html": [
       "<pre style=\"white-space:pre;overflow-x:auto;line-height:normal;font-family:Menlo,'DejaVu Sans Mono',consolas,'Courier New',monospace\"><span style=\"color: #008000; text-decoration-color: #008000; font-weight: bold\">Generating glossary for dataset: expense</span>\n",
       "</pre>\n"
      ],
      "text/plain": [
       "\u001b[1;32mGenerating glossary for dataset: expense\u001b[0m\n"
      ]
     },
     "metadata": {},
     "output_type": "display_data"
    },
    {
     "name": "stderr",
     "output_type": "stream",
     "text": [
      "100%|██████████| 11/11 [00:17<00:00,  1.56s/it]\n"
     ]
    },
    {
     "data": {
      "text/html": [
       "<pre style=\"white-space:pre;overflow-x:auto;line-height:normal;font-family:Menlo,'DejaVu Sans Mono',consolas,'Courier New',monospace\"><span style=\"color: #008000; text-decoration-color: #008000; font-weight: bold\">Generating glossary for dataset: install_base</span>\n",
       "</pre>\n"
      ],
      "text/plain": [
       "\u001b[1;32mGenerating glossary for dataset: install_base\u001b[0m\n"
      ]
     },
     "metadata": {},
     "output_type": "display_data"
    },
    {
     "name": "stderr",
     "output_type": "stream",
     "text": [
      "100%|██████████| 13/13 [00:18<00:00,  1.44s/it]\n"
     ]
    },
    {
     "data": {
      "text/html": [
       "<pre style=\"white-space:pre;overflow-x:auto;line-height:normal;font-family:Menlo,'DejaVu Sans Mono',consolas,'Courier New',monospace\"><span style=\"color: #008000; text-decoration-color: #008000; font-weight: bold\">Generating glossary for dataset: inventory</span>\n",
       "</pre>\n"
      ],
      "text/plain": [
       "\u001b[1;32mGenerating glossary for dataset: inventory\u001b[0m\n"
      ]
     },
     "metadata": {},
     "output_type": "display_data"
    },
    {
     "name": "stderr",
     "output_type": "stream",
     "text": [
      "100%|██████████| 11/11 [00:16<00:00,  1.47s/it]\n"
     ]
    },
    {
     "data": {
      "text/html": [
       "<pre style=\"white-space:pre;overflow-x:auto;line-height:normal;font-family:Menlo,'DejaVu Sans Mono',consolas,'Courier New',monospace\"><span style=\"color: #008000; text-decoration-color: #008000; font-weight: bold\">Generating glossary for dataset: logistics</span>\n",
       "</pre>\n"
      ],
      "text/plain": [
       "\u001b[1;32mGenerating glossary for dataset: logistics\u001b[0m\n"
      ]
     },
     "metadata": {},
     "output_type": "display_data"
    },
    {
     "name": "stderr",
     "output_type": "stream",
     "text": [
      "100%|██████████| 10/10 [00:15<00:00,  1.56s/it]\n"
     ]
    },
    {
     "data": {
      "text/html": [
       "<pre style=\"white-space:pre;overflow-x:auto;line-height:normal;font-family:Menlo,'DejaVu Sans Mono',consolas,'Courier New',monospace\"><span style=\"color: #008000; text-decoration-color: #008000; font-weight: bold\">Generating glossary for dataset: nps_survey</span>\n",
       "</pre>\n"
      ],
      "text/plain": [
       "\u001b[1;32mGenerating glossary for dataset: nps_survey\u001b[0m\n"
      ]
     },
     "metadata": {},
     "output_type": "display_data"
    },
    {
     "name": "stderr",
     "output_type": "stream",
     "text": [
      "100%|██████████| 10/10 [00:16<00:00,  1.64s/it]\n"
     ]
    },
    {
     "data": {
      "text/html": [
       "<pre style=\"white-space:pre;overflow-x:auto;line-height:normal;font-family:Menlo,'DejaVu Sans Mono',consolas,'Courier New',monospace\"><span style=\"color: #008000; text-decoration-color: #008000; font-weight: bold\">Generating glossary for dataset: opportunity</span>\n",
       "</pre>\n"
      ],
      "text/plain": [
       "\u001b[1;32mGenerating glossary for dataset: opportunity\u001b[0m\n"
      ]
     },
     "metadata": {},
     "output_type": "display_data"
    },
    {
     "name": "stderr",
     "output_type": "stream",
     "text": [
      "100%|██████████| 12/12 [00:19<00:00,  1.64s/it]\n"
     ]
    },
    {
     "data": {
      "text/html": [
       "<pre style=\"white-space:pre;overflow-x:auto;line-height:normal;font-family:Menlo,'DejaVu Sans Mono',consolas,'Courier New',monospace\"><span style=\"color: #008000; text-decoration-color: #008000; font-weight: bold\">Generating glossary for dataset: orders</span>\n",
       "</pre>\n"
      ],
      "text/plain": [
       "\u001b[1;32mGenerating glossary for dataset: orders\u001b[0m\n"
      ]
     },
     "metadata": {},
     "output_type": "display_data"
    },
    {
     "name": "stderr",
     "output_type": "stream",
     "text": [
      "100%|██████████| 7/7 [00:11<00:00,  1.66s/it]\n"
     ]
    },
    {
     "data": {
      "text/html": [
       "<pre style=\"white-space:pre;overflow-x:auto;line-height:normal;font-family:Menlo,'DejaVu Sans Mono',consolas,'Courier New',monospace\"><span style=\"color: #008000; text-decoration-color: #008000; font-weight: bold\">Generating glossary for dataset: prob_statement_issue</span>\n",
       "</pre>\n"
      ],
      "text/plain": [
       "\u001b[1;32mGenerating glossary for dataset: prob_statement_issue\u001b[0m\n"
      ]
     },
     "metadata": {},
     "output_type": "display_data"
    },
    {
     "name": "stderr",
     "output_type": "stream",
     "text": [
      "100%|██████████| 8/8 [00:11<00:00,  1.40s/it]\n"
     ]
    },
    {
     "data": {
      "text/html": [
       "<pre style=\"white-space:pre;overflow-x:auto;line-height:normal;font-family:Menlo,'DejaVu Sans Mono',consolas,'Courier New',monospace\"><span style=\"color: #008000; text-decoration-color: #008000; font-weight: bold\">Generating glossary for dataset: product_feature</span>\n",
       "</pre>\n"
      ],
      "text/plain": [
       "\u001b[1;32mGenerating glossary for dataset: product_feature\u001b[0m\n"
      ]
     },
     "metadata": {},
     "output_type": "display_data"
    },
    {
     "name": "stderr",
     "output_type": "stream",
     "text": [
      "100%|██████████| 8/8 [00:12<00:00,  1.51s/it]\n"
     ]
    },
    {
     "data": {
      "text/html": [
       "<pre style=\"white-space:pre;overflow-x:auto;line-height:normal;font-family:Menlo,'DejaVu Sans Mono',consolas,'Courier New',monospace\"><span style=\"color: #008000; text-decoration-color: #008000; font-weight: bold\">Generating glossary for dataset: product_hierarchy</span>\n",
       "</pre>\n"
      ],
      "text/plain": [
       "\u001b[1;32mGenerating glossary for dataset: product_hierarchy\u001b[0m\n"
      ]
     },
     "metadata": {},
     "output_type": "display_data"
    },
    {
     "name": "stderr",
     "output_type": "stream",
     "text": [
      "100%|██████████| 7/7 [00:12<00:00,  1.73s/it]\n"
     ]
    },
    {
     "data": {
      "text/html": [
       "<pre style=\"white-space:pre;overflow-x:auto;line-height:normal;font-family:Menlo,'DejaVu Sans Mono',consolas,'Courier New',monospace\"><span style=\"color: #008000; text-decoration-color: #008000; font-weight: bold\">Generating glossary for dataset: products</span>\n",
       "</pre>\n"
      ],
      "text/plain": [
       "\u001b[1;32mGenerating glossary for dataset: products\u001b[0m\n"
      ]
     },
     "metadata": {},
     "output_type": "display_data"
    },
    {
     "name": "stderr",
     "output_type": "stream",
     "text": [
      "100%|██████████| 10/10 [00:14<00:00,  1.49s/it]\n"
     ]
    },
    {
     "data": {
      "text/html": [
       "<pre style=\"white-space:pre;overflow-x:auto;line-height:normal;font-family:Menlo,'DejaVu Sans Mono',consolas,'Courier New',monospace\"><span style=\"color: #008000; text-decoration-color: #008000; font-weight: bold\">Generating glossary for dataset: renewals</span>\n",
       "</pre>\n"
      ],
      "text/plain": [
       "\u001b[1;32mGenerating glossary for dataset: renewals\u001b[0m\n"
      ]
     },
     "metadata": {},
     "output_type": "display_data"
    },
    {
     "name": "stderr",
     "output_type": "stream",
     "text": [
      "100%|██████████| 8/8 [00:12<00:00,  1.55s/it]\n"
     ]
    },
    {
     "data": {
      "text/html": [
       "<pre style=\"white-space:pre;overflow-x:auto;line-height:normal;font-family:Menlo,'DejaVu Sans Mono',consolas,'Courier New',monospace\"><span style=\"color: #008000; text-decoration-color: #008000; font-weight: bold\">Generating glossary for dataset: returns</span>\n",
       "</pre>\n"
      ],
      "text/plain": [
       "\u001b[1;32mGenerating glossary for dataset: returns\u001b[0m\n"
      ]
     },
     "metadata": {},
     "output_type": "display_data"
    },
    {
     "name": "stderr",
     "output_type": "stream",
     "text": [
      "100%|██████████| 11/11 [00:15<00:00,  1.43s/it]\n"
     ]
    },
    {
     "data": {
      "text/html": [
       "<pre style=\"white-space:pre;overflow-x:auto;line-height:normal;font-family:Menlo,'DejaVu Sans Mono',consolas,'Courier New',monospace\"><span style=\"color: #008000; text-decoration-color: #008000; font-weight: bold\">Generating glossary for dataset: service_requests</span>\n",
       "</pre>\n"
      ],
      "text/plain": [
       "\u001b[1;32mGenerating glossary for dataset: service_requests\u001b[0m\n"
      ]
     },
     "metadata": {},
     "output_type": "display_data"
    },
    {
     "name": "stderr",
     "output_type": "stream",
     "text": [
      "100%|██████████| 11/11 [00:17<00:00,  1.57s/it]\n"
     ]
    },
    {
     "data": {
      "text/html": [
       "<pre style=\"white-space:pre;overflow-x:auto;line-height:normal;font-family:Menlo,'DejaVu Sans Mono',consolas,'Courier New',monospace\"><span style=\"color: #008000; text-decoration-color: #008000; font-weight: bold\">Generating glossary for dataset: website</span>\n",
       "</pre>\n"
      ],
      "text/plain": [
       "\u001b[1;32mGenerating glossary for dataset: website\u001b[0m\n"
      ]
     },
     "metadata": {},
     "output_type": "display_data"
    },
    {
     "name": "stderr",
     "output_type": "stream",
     "text": [
      "100%|██████████| 9/9 [00:13<00:00,  1.52s/it]\n"
     ]
    },
    {
     "data": {
      "text/html": [
       "<pre style=\"white-space:pre;overflow-x:auto;line-height:normal;font-family:Menlo,'DejaVu Sans Mono',consolas,'Courier New',monospace\"><span style=\"color: #008000; text-decoration-color: #008000; font-weight: bold\">Business glossary generation complete.</span>\n",
       "</pre>\n"
      ],
      "text/plain": [
       "\u001b[1;32mBusiness glossary generation complete.\u001b[0m\n"
      ]
     },
     "metadata": {},
     "output_type": "display_data"
    },
    {
     "name": "stdout",
     "output_type": "stream",
     "text": [
      "Initializing semantic search...\n"
     ]
    },
    {
     "name": "stderr",
     "output_type": "stream",
     "text": [
      "/home/raphael/Downloads/intugle_demo/env/lib/python3.12/site-packages/intugle/core/vector_store/qdrant.py:77: UserWarning: Api key is used with an insecure connection.\n",
      "  self._client = AsyncQdrantClient(**self.client_config)\n"
     ]
    },
    {
     "name": "stdout",
     "output_type": "stream",
     "text": [
      "Semantic search initialized.\n"
     ]
    },
    {
     "data": {
      "text/plain": [
       "<intugle.semantic_model.SemanticModel at 0x711c5fcfa8d0>"
      ]
     },
     "execution_count": 3,
     "metadata": {},
     "output_type": "execute_result"
    }
   ],
   "source": [
    "from intugle import SemanticModel\n",
    "\n",
    "# Initialize the semantic model\n",
    "sm = SemanticModel(datasets, domain=\"Technology Manufacturing Company\")\n",
    "\n",
    "# Run the prediction\n",
    "sm.build()"
   ]
  },
  {
   "cell_type": "markdown",
   "id": "7623eae2785240b9bd12b16a66d81610",
   "metadata": {},
   "source": [
    "## 3. Accessing Enriched Metadata\n",
    "\n",
    "Now that the semantic model is built, you can easily access the enriched metadata for each dataset.\n",
    "\n",
    "### Accessing a Dataset\n",
    "\n",
    "You can access a specific dataset by its name from the `sm.datasets` dictionary:"
   ]
  },
  {
   "cell_type": "code",
   "execution_count": 4,
   "id": "7cdc8c89c7104fffa095e18ddfef8986",
   "metadata": {},
   "outputs": [
    {
     "data": {
      "text/html": [
       "<div>\n",
       "<style scoped>\n",
       "    .dataframe tbody tr th:only-of-type {\n",
       "        vertical-align: middle;\n",
       "    }\n",
       "\n",
       "    .dataframe tbody tr th {\n",
       "        vertical-align: top;\n",
       "    }\n",
       "\n",
       "    .dataframe thead th {\n",
       "        text-align: right;\n",
       "    }\n",
       "</style>\n",
       "<table border=\"1\" class=\"dataframe\">\n",
       "  <thead>\n",
       "    <tr style=\"text-align: right;\">\n",
       "      <th></th>\n",
       "      <th>column_name</th>\n",
       "      <th>table_name</th>\n",
       "      <th>business_name</th>\n",
       "      <th>datatype_l1</th>\n",
       "      <th>datatype_l2</th>\n",
       "      <th>business_glossary</th>\n",
       "      <th>business_tags</th>\n",
       "      <th>count</th>\n",
       "      <th>null_count</th>\n",
       "      <th>distinct_count</th>\n",
       "      <th>uniqueness</th>\n",
       "      <th>completeness</th>\n",
       "      <th>sample_data</th>\n",
       "    </tr>\n",
       "  </thead>\n",
       "  <tbody>\n",
       "    <tr>\n",
       "      <th>0</th>\n",
       "      <td>Product ID</td>\n",
       "      <td>products</td>\n",
       "      <td>product_id</td>\n",
       "      <td>alphanumeric</td>\n",
       "      <td>L2OutputTypes.dimension</td>\n",
       "      <td>Serves as a unique identifier for individual p...</td>\n",
       "      <td>[Product Identifier, Inventory Tracking, Manuf...</td>\n",
       "      <td>1000</td>\n",
       "      <td>0</td>\n",
       "      <td>1000</td>\n",
       "      <td>1.000</td>\n",
       "      <td>1.0</td>\n",
       "      <td>[PROD-11543, PROD-11620, PROD-11567, PROD-1197...</td>\n",
       "    </tr>\n",
       "    <tr>\n",
       "      <th>1</th>\n",
       "      <td>Product Name</td>\n",
       "      <td>products</td>\n",
       "      <td>product_name</td>\n",
       "      <td>alphanumeric</td>\n",
       "      <td>L2OutputTypes.dimension</td>\n",
       "      <td>Identifies the name assigned to a product offe...</td>\n",
       "      <td>[Product Portfolio, Technology Solutions, Bran...</td>\n",
       "      <td>1000</td>\n",
       "      <td>0</td>\n",
       "      <td>5</td>\n",
       "      <td>0.005</td>\n",
       "      <td>1.0</td>\n",
       "      <td>[CloudEdge, DataSphere, Insight360, CoreAnalyt...</td>\n",
       "    </tr>\n",
       "    <tr>\n",
       "      <th>2</th>\n",
       "      <td>Product Category</td>\n",
       "      <td>products</td>\n",
       "      <td>product_category</td>\n",
       "      <td>close_ended_text</td>\n",
       "      <td>L2OutputTypes.dimension</td>\n",
       "      <td>Groups products based on their functional or m...</td>\n",
       "      <td>[Product Classification, Business Domain, Tech...</td>\n",
       "      <td>1000</td>\n",
       "      <td>0</td>\n",
       "      <td>5</td>\n",
       "      <td>0.005</td>\n",
       "      <td>1.0</td>\n",
       "      <td>[Analytics, Networking, Cloud Platform, IoT, S...</td>\n",
       "    </tr>\n",
       "    <tr>\n",
       "      <th>3</th>\n",
       "      <td>Product Status</td>\n",
       "      <td>products</td>\n",
       "      <td>product_status</td>\n",
       "      <td>close_ended_text</td>\n",
       "      <td>L2OutputTypes.dimension</td>\n",
       "      <td>Indicates the current lifecycle phase of a pro...</td>\n",
       "      <td>[Lifecycle Management, Product State, Operatio...</td>\n",
       "      <td>1000</td>\n",
       "      <td>0</td>\n",
       "      <td>5</td>\n",
       "      <td>0.005</td>\n",
       "      <td>1.0</td>\n",
       "      <td>[Active, GA (General Availability), In Develop...</td>\n",
       "    </tr>\n",
       "    <tr>\n",
       "      <th>4</th>\n",
       "      <td>R&amp;D Initiation Date</td>\n",
       "      <td>products</td>\n",
       "      <td>r_d_initiation_date</td>\n",
       "      <td>date &amp; time</td>\n",
       "      <td>L2OutputTypes.dimension</td>\n",
       "      <td>Marks the date when the research and developme...</td>\n",
       "      <td>[Research And Development Timeline, Product De...</td>\n",
       "      <td>1000</td>\n",
       "      <td>0</td>\n",
       "      <td>777</td>\n",
       "      <td>0.777</td>\n",
       "      <td>1.0</td>\n",
       "      <td>[2021-09-28, 2022-07-16, 2021-07-22, 2020-10-0...</td>\n",
       "    </tr>\n",
       "    <tr>\n",
       "      <th>5</th>\n",
       "      <td>R&amp;D Stage</td>\n",
       "      <td>products</td>\n",
       "      <td>r_d_stage</td>\n",
       "      <td>close_ended_text</td>\n",
       "      <td>L2OutputTypes.dimension</td>\n",
       "      <td>Describes the current phase of development and...</td>\n",
       "      <td>[Product Development Lifecycle, Innovation Pro...</td>\n",
       "      <td>1000</td>\n",
       "      <td>0</td>\n",
       "      <td>5</td>\n",
       "      <td>0.005</td>\n",
       "      <td>1.0</td>\n",
       "      <td>[Pre-Launch, Concept, Testing, Prototype, Enha...</td>\n",
       "    </tr>\n",
       "    <tr>\n",
       "      <th>6</th>\n",
       "      <td>Launch Status</td>\n",
       "      <td>products</td>\n",
       "      <td>launch_status</td>\n",
       "      <td>close_ended_text</td>\n",
       "      <td>L2OutputTypes.dimension</td>\n",
       "      <td>Indicates the current phase or outcome of a pr...</td>\n",
       "      <td>[Product Lifecycle, Launch Planning, Status Tr...</td>\n",
       "      <td>1000</td>\n",
       "      <td>0</td>\n",
       "      <td>5</td>\n",
       "      <td>0.005</td>\n",
       "      <td>1.0</td>\n",
       "      <td>[In Pipeline, Planned, Cancelled, Launched, No...</td>\n",
       "    </tr>\n",
       "    <tr>\n",
       "      <th>7</th>\n",
       "      <td>Launch Date</td>\n",
       "      <td>products</td>\n",
       "      <td>launch_date</td>\n",
       "      <td>date &amp; time</td>\n",
       "      <td>L2OutputTypes.dimension</td>\n",
       "      <td>Indicates the scheduled date when a product be...</td>\n",
       "      <td>[Product Launch Timeline, Go-To-Market Strateg...</td>\n",
       "      <td>1000</td>\n",
       "      <td>0</td>\n",
       "      <td>659</td>\n",
       "      <td>0.659</td>\n",
       "      <td>1.0</td>\n",
       "      <td>[2024-02-29, 2022-12-24, 2025-04-17, 2023-01-1...</td>\n",
       "    </tr>\n",
       "    <tr>\n",
       "      <th>8</th>\n",
       "      <td>PM Name</td>\n",
       "      <td>products</td>\n",
       "      <td>pm_name</td>\n",
       "      <td>close_ended_text</td>\n",
       "      <td>L2OutputTypes.dimension</td>\n",
       "      <td>Identifies the individual responsible for over...</td>\n",
       "      <td>[Project Manager, Responsible Party, Product O...</td>\n",
       "      <td>1000</td>\n",
       "      <td>0</td>\n",
       "      <td>994</td>\n",
       "      <td>0.994</td>\n",
       "      <td>1.0</td>\n",
       "      <td>[Brittney Sparks, Duane Dunn, Brian Donaldson,...</td>\n",
       "    </tr>\n",
       "    <tr>\n",
       "      <th>9</th>\n",
       "      <td>Product Cost ($)</td>\n",
       "      <td>products</td>\n",
       "      <td>product_cost</td>\n",
       "      <td>integer</td>\n",
       "      <td>L2OutputTypes.measure</td>\n",
       "      <td>Indicates the monetary expense incurred to pro...</td>\n",
       "      <td>[Product Pricing, Cost Analysis, Financial Met...</td>\n",
       "      <td>1000</td>\n",
       "      <td>0</td>\n",
       "      <td>998</td>\n",
       "      <td>0.998</td>\n",
       "      <td>1.0</td>\n",
       "      <td>[331598, 341153, 299459, 447488, 304446, 43843...</td>\n",
       "    </tr>\n",
       "  </tbody>\n",
       "</table>\n",
       "</div>"
      ],
      "text/plain": [
       "           column_name table_name        business_name       datatype_l1  \\\n",
       "0           Product ID   products           product_id      alphanumeric   \n",
       "1         Product Name   products         product_name      alphanumeric   \n",
       "2     Product Category   products     product_category  close_ended_text   \n",
       "3       Product Status   products       product_status  close_ended_text   \n",
       "4  R&D Initiation Date   products  r_d_initiation_date       date & time   \n",
       "5            R&D Stage   products            r_d_stage  close_ended_text   \n",
       "6        Launch Status   products        launch_status  close_ended_text   \n",
       "7          Launch Date   products          launch_date       date & time   \n",
       "8              PM Name   products              pm_name  close_ended_text   \n",
       "9     Product Cost ($)   products         product_cost           integer   \n",
       "\n",
       "               datatype_l2                                  business_glossary  \\\n",
       "0  L2OutputTypes.dimension  Serves as a unique identifier for individual p...   \n",
       "1  L2OutputTypes.dimension  Identifies the name assigned to a product offe...   \n",
       "2  L2OutputTypes.dimension  Groups products based on their functional or m...   \n",
       "3  L2OutputTypes.dimension  Indicates the current lifecycle phase of a pro...   \n",
       "4  L2OutputTypes.dimension  Marks the date when the research and developme...   \n",
       "5  L2OutputTypes.dimension  Describes the current phase of development and...   \n",
       "6  L2OutputTypes.dimension  Indicates the current phase or outcome of a pr...   \n",
       "7  L2OutputTypes.dimension  Indicates the scheduled date when a product be...   \n",
       "8  L2OutputTypes.dimension  Identifies the individual responsible for over...   \n",
       "9    L2OutputTypes.measure  Indicates the monetary expense incurred to pro...   \n",
       "\n",
       "                                       business_tags  count  null_count  \\\n",
       "0  [Product Identifier, Inventory Tracking, Manuf...   1000           0   \n",
       "1  [Product Portfolio, Technology Solutions, Bran...   1000           0   \n",
       "2  [Product Classification, Business Domain, Tech...   1000           0   \n",
       "3  [Lifecycle Management, Product State, Operatio...   1000           0   \n",
       "4  [Research And Development Timeline, Product De...   1000           0   \n",
       "5  [Product Development Lifecycle, Innovation Pro...   1000           0   \n",
       "6  [Product Lifecycle, Launch Planning, Status Tr...   1000           0   \n",
       "7  [Product Launch Timeline, Go-To-Market Strateg...   1000           0   \n",
       "8  [Project Manager, Responsible Party, Product O...   1000           0   \n",
       "9  [Product Pricing, Cost Analysis, Financial Met...   1000           0   \n",
       "\n",
       "   distinct_count  uniqueness  completeness  \\\n",
       "0            1000       1.000           1.0   \n",
       "1               5       0.005           1.0   \n",
       "2               5       0.005           1.0   \n",
       "3               5       0.005           1.0   \n",
       "4             777       0.777           1.0   \n",
       "5               5       0.005           1.0   \n",
       "6               5       0.005           1.0   \n",
       "7             659       0.659           1.0   \n",
       "8             994       0.994           1.0   \n",
       "9             998       0.998           1.0   \n",
       "\n",
       "                                         sample_data  \n",
       "0  [PROD-11543, PROD-11620, PROD-11567, PROD-1197...  \n",
       "1  [CloudEdge, DataSphere, Insight360, CoreAnalyt...  \n",
       "2  [Analytics, Networking, Cloud Platform, IoT, S...  \n",
       "3  [Active, GA (General Availability), In Develop...  \n",
       "4  [2021-09-28, 2022-07-16, 2021-07-22, 2020-10-0...  \n",
       "5  [Pre-Launch, Concept, Testing, Prototype, Enha...  \n",
       "6  [In Pipeline, Planned, Cancelled, Launched, No...  \n",
       "7  [2024-02-29, 2022-12-24, 2025-04-17, 2023-01-1...  \n",
       "8  [Brittney Sparks, Duane Dunn, Brian Donaldson,...  \n",
       "9  [331598, 341153, 299459, 447488, 304446, 43843...  "
      ]
     },
     "execution_count": 4,
     "metadata": {},
     "output_type": "execute_result"
    }
   ],
   "source": [
    "products_dataset = sm.datasets['products']\n",
    "products_dataset.profiling_df\n"
   ]
  },
  {
   "cell_type": "markdown",
   "id": "b118ea5561624da68c537baed56e602f",
   "metadata": {},
   "source": [
    "The profiling results can be accessed through the `profiling_df` property of the `DataSet` object. It's a pandas DataFrame that you can easily explore. \n",
    "> The business glossary is also available in the `profiling_df`:"
   ]
  },
  {
   "cell_type": "markdown",
   "id": "938c804e27f84196a10c8828c723f798",
   "metadata": {},
   "source": [
    "### Visualizing Relationships\n",
    "\n",
    "The `SemanticModel` automatically discovers the relationships between your tables. You can access the predicted links as a list of `PredictedLink` objects:"
   ]
  },
  {
   "cell_type": "code",
   "execution_count": 5,
   "id": "504fb2a444614c0babb325280ed9130a",
   "metadata": {},
   "outputs": [
    {
     "data": {
      "text/plain": [
       "[PredictedLink(from_dataset='campaign_survey', from_column='Camp ID', to_dataset='campaigns', to_column='Campaign ID', intersect_count=635, intersect_ratio_from_col=1.0, intersect_ratio_to_col=0.635, accuracy=1.0),\n",
       " PredictedLink(from_dataset='campaigns', from_column='Prospect ID', to_dataset='customers', to_column='C_ID', intersect_count=622, intersect_ratio_from_col=1.0, intersect_ratio_to_col=0.622, accuracy=1.0),\n",
       " PredictedLink(from_dataset='campaigns', from_column='Prod_ID', to_dataset='products', to_column='Product ID', intersect_count=633, intersect_ratio_from_col=1.0, intersect_ratio_to_col=0.633, accuracy=1.0),\n",
       " PredictedLink(from_dataset='campaigns', from_column='Campaign ID', to_dataset='website', to_column='Cmgn ID', intersect_count=618, intersect_ratio_from_col=0.618, intersect_ratio_to_col=1.0, accuracy=1.0),\n",
       " PredictedLink(from_dataset='customer_hierarchy', from_column='Party ID', to_dataset='customers', to_column='C_ID', intersect_count=616, intersect_ratio_from_col=1.0, intersect_ratio_to_col=0.616, accuracy=1.0),\n",
       " PredictedLink(from_dataset='customers', from_column='C_ID', to_dataset='delivery_survey', to_column='Customer ID', intersect_count=627, intersect_ratio_from_col=0.627, intersect_ratio_to_col=1.0, accuracy=1.0),\n",
       " PredictedLink(from_dataset='customers', from_column='C_ID', to_dataset='expense', to_column='Contact ID', intersect_count=646, intersect_ratio_from_col=0.646, intersect_ratio_to_col=1.0, accuracy=1.0),\n",
       " PredictedLink(from_dataset='customers', from_column='C_ID', to_dataset='install_base', to_column='Party ID', intersect_count=638, intersect_ratio_from_col=0.638, intersect_ratio_to_col=1.0, accuracy=1.0),\n",
       " PredictedLink(from_dataset='customers', from_column='C_ID', to_dataset='logistics', to_column='Cust_ID', intersect_count=612, intersect_ratio_from_col=0.612, intersect_ratio_to_col=1.0, accuracy=1.0),\n",
       " PredictedLink(from_dataset='customers', from_column='C_ID', to_dataset='nps_survey', to_column='Customer_ID', intersect_count=615, intersect_ratio_from_col=0.615, intersect_ratio_to_col=1.0, accuracy=1.0),\n",
       " PredictedLink(from_dataset='customers', from_column='C_ID', to_dataset='opportunity', to_column='Cust ID', intersect_count=636, intersect_ratio_from_col=0.636, intersect_ratio_to_col=1.0, accuracy=1.0),\n",
       " PredictedLink(from_dataset='customers', from_column='C_ID', to_dataset='orders', to_column='Party ID', intersect_count=994, intersect_ratio_from_col=0.994, intersect_ratio_to_col=1.0, accuracy=1.0),\n",
       " PredictedLink(from_dataset='customers', from_column='C_ID', to_dataset='renewals', to_column='Cus ID', intersect_count=637, intersect_ratio_from_col=0.637, intersect_ratio_to_col=1.0, accuracy=1.0),\n",
       " PredictedLink(from_dataset='customers', from_column='C_ID', to_dataset='returns', to_column='Customer ID', intersect_count=652, intersect_ratio_from_col=0.652, intersect_ratio_to_col=1.0, accuracy=1.0),\n",
       " PredictedLink(from_dataset='customers', from_column='C_ID', to_dataset='service_requests', to_column='C ID', intersect_count=993, intersect_ratio_from_col=0.993, intersect_ratio_to_col=1.0, accuracy=1.0),\n",
       " PredictedLink(from_dataset='delivery_survey', from_column='Odr ID', to_dataset='orders', to_column='Order ID', intersect_count=893, intersect_ratio_from_col=1.0, intersect_ratio_to_col=0.179, accuracy=1.0),\n",
       " PredictedLink(from_dataset='delivery_survey', from_column='PD ID', to_dataset='products', to_column='Product ID', intersect_count=640, intersect_ratio_from_col=1.0, intersect_ratio_to_col=0.64, accuracy=1.0),\n",
       " PredictedLink(from_dataset='expense', from_column='Invoice Number', to_dataset='inventory', to_column='Inventory ID', intersect_count=1000, intersect_ratio_from_col=1.0, intersect_ratio_to_col=1.0, accuracy=1.0),\n",
       " PredictedLink(from_dataset='install_base', from_column='Order ID', to_dataset='orders', to_column='Order ID', intersect_count=1000, intersect_ratio_from_col=1.0, intersect_ratio_to_col=0.2, accuracy=1.0),\n",
       " PredictedLink(from_dataset='install_base', from_column='Product ID', to_dataset='products', to_column='Product ID', intersect_count=630, intersect_ratio_from_col=1.0, intersect_ratio_to_col=0.63, accuracy=1.0),\n",
       " PredictedLink(from_dataset='inventory', from_column='Prod_ID', to_dataset='products', to_column='Product ID', intersect_count=621, intersect_ratio_from_col=1.0, intersect_ratio_to_col=0.621, accuracy=1.0),\n",
       " PredictedLink(from_dataset='logistics', from_column='Od_Contract_ID', to_dataset='orders', to_column='Order ID', intersect_count=890, intersect_ratio_from_col=1.0, intersect_ratio_to_col=0.178, accuracy=1.0),\n",
       " PredictedLink(from_dataset='nps_survey', from_column='Return_ID', to_dataset='returns', to_column='Return_ID', intersect_count=627, intersect_ratio_from_col=1.0, intersect_ratio_to_col=0.627, accuracy=1.0),\n",
       " PredictedLink(from_dataset='nps_survey', from_column='Incident ID', to_dataset='service_requests', to_column='SR ID', intersect_count=911, intersect_ratio_from_col=1.0, intersect_ratio_to_col=0.182, accuracy=1.0),\n",
       " PredictedLink(from_dataset='orders', from_column='Product ID', to_dataset='products', to_column='Product ID', intersect_count=994, intersect_ratio_from_col=1.0, intersect_ratio_to_col=0.994, accuracy=1.0),\n",
       " PredictedLink(from_dataset='orders', from_column='Order ID', to_dataset='renewals', to_column='Od ID', intersect_count=906, intersect_ratio_from_col=0.181, intersect_ratio_to_col=1.0, accuracy=1.0),\n",
       " PredictedLink(from_dataset='orders', from_column='Order ID', to_dataset='returns', to_column='R Order ID', intersect_count=925, intersect_ratio_from_col=0.185, intersect_ratio_to_col=1.0, accuracy=1.0),\n",
       " PredictedLink(from_dataset='orders', from_column='Order ID', to_dataset='service_requests', to_column='Sales Ord ID', intersect_count=3223, intersect_ratio_from_col=0.645, intersect_ratio_to_col=1.0, accuracy=1.0),\n",
       " PredictedLink(from_dataset='prob_statement_issue', from_column='Pd_ID', to_dataset='products', to_column='Product ID', intersect_count=628, intersect_ratio_from_col=1.0, intersect_ratio_to_col=0.628, accuracy=1.0),\n",
       " PredictedLink(from_dataset='prob_statement_issue', from_column='SR ID', to_dataset='service_requests', to_column='SR ID', intersect_count=890, intersect_ratio_from_col=1.0, intersect_ratio_to_col=0.178, accuracy=1.0),\n",
       " PredictedLink(from_dataset='product_feature', from_column='P_ID', to_dataset='products', to_column='Product ID', intersect_count=644, intersect_ratio_from_col=1.0, intersect_ratio_to_col=0.644, accuracy=1.0),\n",
       " PredictedLink(from_dataset='product_hierarchy', from_column='Product ID', to_dataset='products', to_column='Product ID', intersect_count=631, intersect_ratio_from_col=1.0, intersect_ratio_to_col=0.631, accuracy=1.0),\n",
       " PredictedLink(from_dataset='products', from_column='Product ID', to_dataset='renewals', to_column='Pr ID', intersect_count=646, intersect_ratio_from_col=0.646, intersect_ratio_to_col=1.0, accuracy=1.0),\n",
       " PredictedLink(from_dataset='products', from_column='Product ID', to_dataset='returns', to_column='Product ID', intersect_count=642, intersect_ratio_from_col=0.642, intersect_ratio_to_col=1.0, accuracy=1.0),\n",
       " PredictedLink(from_dataset='products', from_column='Product ID', to_dataset='service_requests', to_column='Prod ID', intersect_count=993, intersect_ratio_from_col=0.993, intersect_ratio_to_col=1.0, accuracy=1.0),\n",
       " PredictedLink(from_dataset='returns', from_column='SR ID', to_dataset='service_requests', to_column='SR ID', intersect_count=1000, intersect_ratio_from_col=1.0, intersect_ratio_to_col=0.2, accuracy=1.0)]"
      ]
     },
     "execution_count": 5,
     "metadata": {},
     "output_type": "execute_result"
    }
   ],
   "source": [
    "sm.links"
   ]
  },
  {
   "cell_type": "markdown",
   "id": "59bbdb311c014d738909a11f9e486628",
   "metadata": {},
   "source": [
    "You can also visualize these relationships as a graph. In case you run into an error, make sure you install/upgrade your ipykernel package:\n",
    "> %pip install --upgrade ipykernel"
   ]
  },
  {
   "cell_type": "code",
   "execution_count": 6,
   "id": "b43b363d81ae4b689946ece5c682cd59",
   "metadata": {},
   "outputs": [
    {
     "data": {
      "image/png": "[encoded data removed]",
      "text/plain": [
       "<Figure size 2000x2000 with 1 Axes>"
      ]
     },
     "metadata": {},
     "output_type": "display_data"
    }
   ],
   "source": [
    "sm.visualize()  # To visualize the relationships as a graph"
   ]
  },
  {
   "cell_type": "markdown",
   "id": "8a65eabff63a45729fe45fb5ade58bdc",
   "metadata": {},
   "source": [
    "## 4. The Semantic Layer\n",
    "\n",
    "The SemanticModel results are used to generate YAML files which are saved automatically. These files defines the semantic layer, including the models (tables) and their relationships. \n",
    "\n",
    "By default, these files are saved in the current working directory. You can configure this path by setting the `PROJECT_BASE` environment variable."
   ]
  },
  {
   "cell_type": "markdown",
   "id": "c3933fab20d04ec698c2621248eb3be0",
   "metadata": {},
   "source": [
    "## 5. Semantic Search\n",
    "\n",
    "The semantic search feature allows you to search for columns in your datasets using natural language. \n",
    "\n",
    "> **Note:** To use this feature, you need to have a running Qdrant instance and an OpenAI API key. Please refer to the [README.md](README.md) for detailed setup instructions.\n",
    ">\n",
    "> **Google Colab Users:** If you are running this notebook in Google Colab, you may not be able to connect to a local Qdrant instance running in Docker. In this case, you will need to use a remotely hosted Qdrant server.\n",
    ">\n",
    "> **Current Limitation:** Currently, the semantic search feature requires an OpenAI or Azure OpenAI key as it is tightly coupled with Ada embeddings. We are actively working on decoupling this.\n",
    "\n",
    "Once you have built the semantic model, you can use the `search` method to perform a semantic search. The search function returns a pandas DataFrame containing the search results, including the column's profiling metrics, category, table name, and table glossary."
   ]
  },
  {
   "cell_type": "code",
   "execution_count": 7,
   "id": "4dd4641cc4064e0191573fe9c69df29b",
   "metadata": {},
   "outputs": [
    {
     "name": "stderr",
     "output_type": "stream",
     "text": [
      "/home/raphael/Downloads/intugle_demo/env/lib/python3.12/site-packages/intugle/core/vector_store/qdrant.py:77: UserWarning: Api key is used with an insecure connection.\n",
      "  self._client = AsyncQdrantClient(**self.client_config)\n",
      "/home/raphael/Downloads/intugle_demo/env/lib/python3.12/site-packages/intugle/core/vector_store/qdrant.py:77: UserWarning: Api key is used with an insecure connection.\n",
      "  self._client = AsyncQdrantClient(**self.client_config)\n",
      "/home/raphael/Downloads/intugle_demo/env/lib/python3.12/site-packages/intugle/core/semantic_search/semantic_search.py:156: SettingWithCopyWarning: \n",
      "A value is trying to be set on a copy of a slice from a DataFrame.\n",
      "Try using .loc[row_indexer,col_indexer] = value instead\n",
      "\n",
      "See the caveats in the documentation: https://pandas.pydata.org/pandas-docs/stable/user_guide/indexing.html#returning-a-view-versus-a-copy\n",
      "  late_embedding_result_glossary[\"score\"] = late_embedding_result_glossary[\"score\"] / len(late_vector)\n"
     ]
    },
    {
     "data": {
      "text/html": [
       "<div>\n",
       "<style scoped>\n",
       "    .dataframe tbody tr th:only-of-type {\n",
       "        vertical-align: middle;\n",
       "    }\n",
       "\n",
       "    .dataframe tbody tr th {\n",
       "        vertical-align: top;\n",
       "    }\n",
       "\n",
       "    .dataframe thead th {\n",
       "        text-align: right;\n",
       "    }\n",
       "</style>\n",
       "<table border=\"1\" class=\"dataframe\">\n",
       "  <thead>\n",
       "    <tr style=\"text-align: right;\">\n",
       "      <th></th>\n",
       "      <th>column_id</th>\n",
       "      <th>score</th>\n",
       "      <th>relevancy</th>\n",
       "      <th>column_name</th>\n",
       "      <th>column_glossary</th>\n",
       "      <th>column_tags</th>\n",
       "      <th>category</th>\n",
       "      <th>table_name</th>\n",
       "      <th>table_glossary</th>\n",
       "      <th>uniqueness</th>\n",
       "      <th>completeness</th>\n",
       "      <th>count</th>\n",
       "      <th>null_count</th>\n",
       "      <th>distinct_count</th>\n",
       "      <th>sample_data</th>\n",
       "    </tr>\n",
       "  </thead>\n",
       "  <tbody>\n",
       "    <tr>\n",
       "      <th>0</th>\n",
       "      <td>delivery_survey.Odr ID</td>\n",
       "      <td>0.954427</td>\n",
       "      <td>RelevancyCate</td>\n",
       "      <td>Odr ID</td>\n",
       "      <td>Identifies individual customer orders associat...</td>\n",
       "      <td>[Order Identifier, Customer Order Tracking, De...</td>\n",
       "      <td>dimension</td>\n",
       "      <td>delivery_survey</td>\n",
       "      <td>Captures customer feedback and satisfaction le...</td>\n",
       "      <td>0.8930</td>\n",
       "      <td>1.0</td>\n",
       "      <td>1000</td>\n",
       "      <td>0</td>\n",
       "      <td>893</td>\n",
       "      <td>[ORD-44891, ORD-40163, ORD-42469, ORD-43908, O...</td>\n",
       "    </tr>\n",
       "    <tr>\n",
       "      <th>1</th>\n",
       "      <td>orders.Order Value ($)</td>\n",
       "      <td>0.954341</td>\n",
       "      <td>RelevancyCate</td>\n",
       "      <td>Order Value ($)</td>\n",
       "      <td>Tracks the monetary value associated with indi...</td>\n",
       "      <td>[Revenue Tracking, Order Financials, Sales Per...</td>\n",
       "      <td>measure</td>\n",
       "      <td>orders</td>\n",
       "      <td>Tracks customer transactions involving product...</td>\n",
       "      <td>0.8986</td>\n",
       "      <td>1.0</td>\n",
       "      <td>5000</td>\n",
       "      <td>0</td>\n",
       "      <td>4493</td>\n",
       "      <td>[9149, 22967, 14310, 6889, 11727, 4612, 12330,...</td>\n",
       "    </tr>\n",
       "    <tr>\n",
       "      <th>2</th>\n",
       "      <td>orders.Product ID</td>\n",
       "      <td>0.954341</td>\n",
       "      <td>RelevancyCate</td>\n",
       "      <td>Product ID</td>\n",
       "      <td>Identifies individual products associated with...</td>\n",
       "      <td>[Product Identification, Order Tracking, Inven...</td>\n",
       "      <td>dimension</td>\n",
       "      <td>orders</td>\n",
       "      <td>Tracks customer transactions involving product...</td>\n",
       "      <td>0.1988</td>\n",
       "      <td>1.0</td>\n",
       "      <td>5000</td>\n",
       "      <td>0</td>\n",
       "      <td>994</td>\n",
       "      <td>[PROD-11089, PROD-11441, PROD-11473, PROD-1160...</td>\n",
       "    </tr>\n",
       "    <tr>\n",
       "      <th>3</th>\n",
       "      <td>delivery_survey.Customer ID</td>\n",
       "      <td>0.906752</td>\n",
       "      <td>RelevancyCate</td>\n",
       "      <td>Customer ID</td>\n",
       "      <td>Identifies the individual or organization prov...</td>\n",
       "      <td>[Customer Identification, Delivery Feedback Tr...</td>\n",
       "      <td>dimension</td>\n",
       "      <td>delivery_survey</td>\n",
       "      <td>Captures customer feedback and satisfaction le...</td>\n",
       "      <td>0.6270</td>\n",
       "      <td>1.0</td>\n",
       "      <td>1000</td>\n",
       "      <td>0</td>\n",
       "      <td>627</td>\n",
       "      <td>[CUST-10071, CUST-10702, CUST-10135, CUST-1007...</td>\n",
       "    </tr>\n",
       "    <tr>\n",
       "      <th>4</th>\n",
       "      <td>returns.Customer ID</td>\n",
       "      <td>0.906743</td>\n",
       "      <td>RelevancyCate</td>\n",
       "      <td>Customer ID</td>\n",
       "      <td>Identifies the customer associated with a prod...</td>\n",
       "      <td>[Customer Identification, Returns Management, ...</td>\n",
       "      <td>dimension</td>\n",
       "      <td>returns</td>\n",
       "      <td>Tracks customer product returns, including det...</td>\n",
       "      <td>0.6520</td>\n",
       "      <td>1.0</td>\n",
       "      <td>1000</td>\n",
       "      <td>0</td>\n",
       "      <td>652</td>\n",
       "      <td>[CUST-10059, CUST-10273, CUST-10122, CUST-1052...</td>\n",
       "    </tr>\n",
       "    <tr>\n",
       "      <th>...</th>\n",
       "      <td>...</td>\n",
       "      <td>...</td>\n",
       "      <td>...</td>\n",
       "      <td>...</td>\n",
       "      <td>...</td>\n",
       "      <td>...</td>\n",
       "      <td>...</td>\n",
       "      <td>...</td>\n",
       "      <td>...</td>\n",
       "      <td>...</td>\n",
       "      <td>...</td>\n",
       "      <td>...</td>\n",
       "      <td>...</td>\n",
       "      <td>...</td>\n",
       "      <td>...</td>\n",
       "    </tr>\n",
       "    <tr>\n",
       "      <th>188</th>\n",
       "      <td>product_hierarchy.Product ID</td>\n",
       "      <td>0.808863</td>\n",
       "      <td>Relevanc</td>\n",
       "      <td>Product ID</td>\n",
       "      <td>Identifies individual products within the orga...</td>\n",
       "      <td>[Product Identifier, Manufacturing Catalog Ref...</td>\n",
       "      <td>dimension</td>\n",
       "      <td>product_hierarchy</td>\n",
       "      <td>Organizes detailed information about products,...</td>\n",
       "      <td>0.6310</td>\n",
       "      <td>1.0</td>\n",
       "      <td>1000</td>\n",
       "      <td>0</td>\n",
       "      <td>631</td>\n",
       "      <td>[PROD-11572, PROD-11617, PROD-11807, PROD-1178...</td>\n",
       "    </tr>\n",
       "    <tr>\n",
       "      <th>189</th>\n",
       "      <td>campaigns.Campaign Name</td>\n",
       "      <td>0.808810</td>\n",
       "      <td>Relevanc</td>\n",
       "      <td>Campaign Name</td>\n",
       "      <td>Identifies marketing initiatives or events aim...</td>\n",
       "      <td>[Marketing Campaigns, Event Branding, Product ...</td>\n",
       "      <td>dimension</td>\n",
       "      <td>campaigns</td>\n",
       "      <td>Tracks marketing and promotional activities, i...</td>\n",
       "      <td>0.0150</td>\n",
       "      <td>1.0</td>\n",
       "      <td>1000</td>\n",
       "      <td>0</td>\n",
       "      <td>15</td>\n",
       "      <td>[Global Tech Exchange 2025, Hybrid IT Launch 2...</td>\n",
       "    </tr>\n",
       "    <tr>\n",
       "      <th>190</th>\n",
       "      <td>inventory.Product Name</td>\n",
       "      <td>0.807965</td>\n",
       "      <td>Relevanc</td>\n",
       "      <td>Product Name</td>\n",
       "      <td>Identifies the specific product available in t...</td>\n",
       "      <td>[Product Identification, Technology Hardware, ...</td>\n",
       "      <td>dimension</td>\n",
       "      <td>inventory</td>\n",
       "      <td>Tracks stock levels, locations, statuses, and ...</td>\n",
       "      <td>0.0050</td>\n",
       "      <td>1.0</td>\n",
       "      <td>1000</td>\n",
       "      <td>0</td>\n",
       "      <td>5</td>\n",
       "      <td>[CloudHub Gateway, VisionX Switch, SmartEdge R...</td>\n",
       "    </tr>\n",
       "    <tr>\n",
       "      <th>191</th>\n",
       "      <td>inventory.Supplier Name</td>\n",
       "      <td>0.807148</td>\n",
       "      <td>Relevanc</td>\n",
       "      <td>Supplier Name</td>\n",
       "      <td>Identifies the organization providing goods or...</td>\n",
       "      <td>[Supplier Information, Vendor Management, Proc...</td>\n",
       "      <td>dimension</td>\n",
       "      <td>inventory</td>\n",
       "      <td>Tracks stock levels, locations, statuses, and ...</td>\n",
       "      <td>0.0050</td>\n",
       "      <td>1.0</td>\n",
       "      <td>1000</td>\n",
       "      <td>0</td>\n",
       "      <td>5</td>\n",
       "      <td>[SecureLine Distributors, NetWorld Partners, G...</td>\n",
       "    </tr>\n",
       "    <tr>\n",
       "      <th>192</th>\n",
       "      <td>expense.Expense ID</td>\n",
       "      <td>0.800505</td>\n",
       "      <td>Relevanc</td>\n",
       "      <td>Expense ID</td>\n",
       "      <td>Tracks unique identifiers for financial expend...</td>\n",
       "      <td>[Expense Tracking, Financial Management, Cost ...</td>\n",
       "      <td>dimension</td>\n",
       "      <td>expense</td>\n",
       "      <td>Tracks financial expenditures across various c...</td>\n",
       "      <td>1.0000</td>\n",
       "      <td>1.0</td>\n",
       "      <td>1000</td>\n",
       "      <td>0</td>\n",
       "      <td>1000</td>\n",
       "      <td>[EXP-50011, EXP-50554, EXP-50441, EXP-50861, E...</td>\n",
       "    </tr>\n",
       "  </tbody>\n",
       "</table>\n",
       "<p>193 rows × 15 columns</p>\n",
       "</div>"
      ],
      "text/plain": [
       "                        column_id     score      relevancy      column_name  \\\n",
       "0          delivery_survey.Odr ID  0.954427  RelevancyCate           Odr ID   \n",
       "1          orders.Order Value ($)  0.954341  RelevancyCate  Order Value ($)   \n",
       "2               orders.Product ID  0.954341  RelevancyCate       Product ID   \n",
       "3     delivery_survey.Customer ID  0.906752  RelevancyCate      Customer ID   \n",
       "4             returns.Customer ID  0.906743  RelevancyCate      Customer ID   \n",
       "..                            ...       ...            ...              ...   \n",
       "188  product_hierarchy.Product ID  0.808863       Relevanc       Product ID   \n",
       "189       campaigns.Campaign Name  0.808810       Relevanc    Campaign Name   \n",
       "190        inventory.Product Name  0.807965       Relevanc     Product Name   \n",
       "191       inventory.Supplier Name  0.807148       Relevanc    Supplier Name   \n",
       "192            expense.Expense ID  0.800505       Relevanc       Expense ID   \n",
       "\n",
       "                                       column_glossary  \\\n",
       "0    Identifies individual customer orders associat...   \n",
       "1    Tracks the monetary value associated with indi...   \n",
       "2    Identifies individual products associated with...   \n",
       "3    Identifies the individual or organization prov...   \n",
       "4    Identifies the customer associated with a prod...   \n",
       "..                                                 ...   \n",
       "188  Identifies individual products within the orga...   \n",
       "189  Identifies marketing initiatives or events aim...   \n",
       "190  Identifies the specific product available in t...   \n",
       "191  Identifies the organization providing goods or...   \n",
       "192  Tracks unique identifiers for financial expend...   \n",
       "\n",
       "                                           column_tags   category  \\\n",
       "0    [Order Identifier, Customer Order Tracking, De...  dimension   \n",
       "1    [Revenue Tracking, Order Financials, Sales Per...    measure   \n",
       "2    [Product Identification, Order Tracking, Inven...  dimension   \n",
       "3    [Customer Identification, Delivery Feedback Tr...  dimension   \n",
       "4    [Customer Identification, Returns Management, ...  dimension   \n",
       "..                                                 ...        ...   \n",
       "188  [Product Identifier, Manufacturing Catalog Ref...  dimension   \n",
       "189  [Marketing Campaigns, Event Branding, Product ...  dimension   \n",
       "190  [Product Identification, Technology Hardware, ...  dimension   \n",
       "191  [Supplier Information, Vendor Management, Proc...  dimension   \n",
       "192  [Expense Tracking, Financial Management, Cost ...  dimension   \n",
       "\n",
       "            table_name                                     table_glossary  \\\n",
       "0      delivery_survey  Captures customer feedback and satisfaction le...   \n",
       "1               orders  Tracks customer transactions involving product...   \n",
       "2               orders  Tracks customer transactions involving product...   \n",
       "3      delivery_survey  Captures customer feedback and satisfaction le...   \n",
       "4              returns  Tracks customer product returns, including det...   \n",
       "..                 ...                                                ...   \n",
       "188  product_hierarchy  Organizes detailed information about products,...   \n",
       "189          campaigns  Tracks marketing and promotional activities, i...   \n",
       "190          inventory  Tracks stock levels, locations, statuses, and ...   \n",
       "191          inventory  Tracks stock levels, locations, statuses, and ...   \n",
       "192            expense  Tracks financial expenditures across various c...   \n",
       "\n",
       "     uniqueness  completeness  count  null_count  distinct_count  \\\n",
       "0        0.8930           1.0   1000           0             893   \n",
       "1        0.8986           1.0   5000           0            4493   \n",
       "2        0.1988           1.0   5000           0             994   \n",
       "3        0.6270           1.0   1000           0             627   \n",
       "4        0.6520           1.0   1000           0             652   \n",
       "..          ...           ...    ...         ...             ...   \n",
       "188      0.6310           1.0   1000           0             631   \n",
       "189      0.0150           1.0   1000           0              15   \n",
       "190      0.0050           1.0   1000           0               5   \n",
       "191      0.0050           1.0   1000           0               5   \n",
       "192      1.0000           1.0   1000           0            1000   \n",
       "\n",
       "                                           sample_data  \n",
       "0    [ORD-44891, ORD-40163, ORD-42469, ORD-43908, O...  \n",
       "1    [9149, 22967, 14310, 6889, 11727, 4612, 12330,...  \n",
       "2    [PROD-11089, PROD-11441, PROD-11473, PROD-1160...  \n",
       "3    [CUST-10071, CUST-10702, CUST-10135, CUST-1007...  \n",
       "4    [CUST-10059, CUST-10273, CUST-10122, CUST-1052...  \n",
       "..                                                 ...  \n",
       "188  [PROD-11572, PROD-11617, PROD-11807, PROD-1178...  \n",
       "189  [Global Tech Exchange 2025, Hybrid IT Launch 2...  \n",
       "190  [CloudHub Gateway, VisionX Switch, SmartEdge R...  \n",
       "191  [SecureLine Distributors, NetWorld Partners, G...  \n",
       "192  [EXP-50011, EXP-50554, EXP-50441, EXP-50861, E...  \n",
       "\n",
       "[193 rows x 15 columns]"
      ]
     },
     "execution_count": 7,
     "metadata": {},
     "output_type": "execute_result"
    }
   ],
   "source": [
    "# Perform a semantic search\n",
    "search_results = sm.search(\"customer orders\")\n",
    "\n",
    "# View the search results\n",
    "search_results"
   ]
  },
  {
   "cell_type": "markdown",
   "id": "8309879909854d7188b41380fd92a7c3",
   "metadata": {},
   "source": [
    "## 6. Data Product Creation\n",
    "\n",
    "The semantic layer serves as a foundation for the DataProduct, which streamlines the creation of reusable data products. This allows you\n",
    "to encapsulate business logic and create standardized, trustworthy data assets that can be easily shared and reused across different teams and \n",
    "applications.\n",
    "\n",
    "Let's define the model for the data product we want to build:"
   ]
  },
  {
   "cell_type": "code",
   "execution_count": 8,
   "id": "3ed186c9a28b402fb0bc4494df01f08d",
   "metadata": {},
   "outputs": [],
   "source": [
    "data_product_config = {\n",
    "  \"name\": \"product_performance_and_returns\",\n",
    "  \"fields\": [\n",
    "    {\n",
    "      \"id\": \"products.Product Name\",\n",
    "      \"name\": \"product_name\",\n",
    "      \"category\": \"dimension\"\n",
    "    },\n",
    "    {\n",
    "         \"id\": \"products.Product Category\",\n",
    "         \"name\": \"product_category\",\n",
    "         \"category\": \"dimension\"\n",
    "       },\n",
    "       {\n",
    "         \"id\": \"orders.Order Value ($)\",\n",
    "         \"name\": \"total_sales_revenue\",\n",
    "         \"category\": \"measure\",\n",
    "         \"measure_func\": \"sum\"\n",
    "       },\n",
    "       {\n",
    "         \"id\": \"returns.Return Value ($)\",\n",
    "         \"name\": \"total_return_value\",\n",
    "         \"category\": \"measure\",\n",
    "         \"measure_func\": \"sum\"\n",
    "       },\n",
    "       {\n",
    "         \"id\": \"returns.Return_ID\",\n",
    "         \"name\": \"number_of_returns\",\n",
    "         \"category\": \"measure\",\n",
    "         \"measure_func\": \"countDistinct\"\n",
    "       },\n",
    "       {\n",
    "         \"id\": \"orders.Order ID\",\n",
    "         \"name\": \"number_of_orders\",\n",
    "         \"category\": \"measure\",\n",
    "         \"measure_func\": \"countDistinct\"\n",
    "       }\n",
    "     ],\n",
    "     \"filter\": {\n",
    "       \"selections\": [],\n",
    "       \"wildcards\": [],\n",
    "       \"sort_by\": [\n",
    "         {\n",
    "           \"id\": \"orders.Order Value ($)\",\n",
    "           \"alias\": \"total_sales_revenue\",\n",
    "           \"direction\": \"desc\"\n",
    "         }\n",
    "       ],\n",
    "       \"limit\": 1000\n",
    "     }\n",
    "   }"
   ]
  },
  {
   "cell_type": "markdown",
   "id": "cb1e1581032b452c9409d6c6813c49d1",
   "metadata": {},
   "source": [
    "Now, let's use the `DataProduct` to generate the data product:"
   ]
  },
  {
   "cell_type": "code",
   "execution_count": 9,
   "id": "379cbbc1e968416e875cc15c1202d7eb",
   "metadata": {},
   "outputs": [
    {
     "name": "stdout",
     "output_type": "stream",
     "text": [
      "Found existing YAML for 'opportunity'. Checking for staleness.\n",
      "opportunity loaded\n",
      "Found existing YAML for 'expense'. Checking for staleness.\n",
      "expense loaded\n",
      "Found existing YAML for 'customer_hierarchy'. Checking for staleness.\n",
      "customer_hierarchy loaded\n",
      "Found existing YAML for 'nps_survey'. Checking for staleness.\n",
      "nps_survey loaded\n",
      "Found existing YAML for 'product_feature'. Checking for staleness.\n",
      "product_feature loaded\n",
      "Found existing YAML for 'returns'. Checking for staleness.\n",
      "returns loaded\n",
      "Found existing YAML for 'service_requests'. Checking for staleness.\n",
      "service_requests loaded\n",
      "Found existing YAML for 'prob_statement_issue'. Checking for staleness.\n",
      "prob_statement_issue loaded\n",
      "Found existing YAML for 'renewals'. Checking for staleness.\n",
      "renewals loaded\n",
      "Found existing YAML for 'delivery_survey'. Checking for staleness.\n",
      "delivery_survey loaded\n",
      "Found existing YAML for 'orders'. Checking for staleness.\n",
      "orders loaded\n",
      "Found existing YAML for 'inventory'. Checking for staleness.\n",
      "inventory loaded\n",
      "Found existing YAML for 'logistics'. Checking for staleness.\n",
      "logistics loaded\n",
      "Found existing YAML for 'product_hierarchy'. Checking for staleness.\n",
      "product_hierarchy loaded\n",
      "Found existing YAML for 'website'. Checking for staleness.\n",
      "website loaded\n",
      "Found existing YAML for 'customers'. Checking for staleness.\n",
      "customers loaded\n",
      "Found existing YAML for 'campaign_survey'. Checking for staleness.\n",
      "campaign_survey loaded\n",
      "Found existing YAML for 'install_base'. Checking for staleness.\n",
      "install_base loaded\n",
      "Found existing YAML for 'products'. Checking for staleness.\n",
      "products loaded\n",
      "Found existing YAML for 'campaigns'. Checking for staleness.\n",
      "campaigns loaded\n",
      "product_performance_and_returns\n",
      "product_performance_and_returns loaded\n"
     ]
    },
    {
     "data": {
      "text/html": [
       "<div>\n",
       "<style scoped>\n",
       "    .dataframe tbody tr th:only-of-type {\n",
       "        vertical-align: middle;\n",
       "    }\n",
       "\n",
       "    .dataframe tbody tr th {\n",
       "        vertical-align: top;\n",
       "    }\n",
       "\n",
       "    .dataframe thead th {\n",
       "        text-align: right;\n",
       "    }\n",
       "</style>\n",
       "<table border=\"1\" class=\"dataframe\">\n",
       "  <thead>\n",
       "    <tr style=\"text-align: right;\">\n",
       "      <th></th>\n",
       "      <th>product_name</th>\n",
       "      <th>product_category</th>\n",
       "      <th>total_sales_revenue</th>\n",
       "      <th>total_return_value</th>\n",
       "      <th>number_of_returns</th>\n",
       "      <th>number_of_orders</th>\n",
       "    </tr>\n",
       "  </thead>\n",
       "  <tbody>\n",
       "    <tr>\n",
       "      <th>0</th>\n",
       "      <td>CloudEdge</td>\n",
       "      <td>Analytics</td>\n",
       "      <td>744371.0</td>\n",
       "      <td>142151.0</td>\n",
       "      <td>57</td>\n",
       "      <td>54</td>\n",
       "    </tr>\n",
       "    <tr>\n",
       "      <th>1</th>\n",
       "      <td>CloudEdge</td>\n",
       "      <td>Security</td>\n",
       "      <td>692871.0</td>\n",
       "      <td>116077.0</td>\n",
       "      <td>50</td>\n",
       "      <td>49</td>\n",
       "    </tr>\n",
       "    <tr>\n",
       "      <th>2</th>\n",
       "      <td>CoreAnalytics</td>\n",
       "      <td>Networking</td>\n",
       "      <td>657035.0</td>\n",
       "      <td>102221.0</td>\n",
       "      <td>51</td>\n",
       "      <td>46</td>\n",
       "    </tr>\n",
       "    <tr>\n",
       "      <th>3</th>\n",
       "      <td>DataSphere</td>\n",
       "      <td>Analytics</td>\n",
       "      <td>626508.0</td>\n",
       "      <td>106046.0</td>\n",
       "      <td>46</td>\n",
       "      <td>45</td>\n",
       "    </tr>\n",
       "    <tr>\n",
       "      <th>4</th>\n",
       "      <td>DataSphere</td>\n",
       "      <td>Networking</td>\n",
       "      <td>584554.0</td>\n",
       "      <td>101226.0</td>\n",
       "      <td>42</td>\n",
       "      <td>40</td>\n",
       "    </tr>\n",
       "    <tr>\n",
       "      <th>5</th>\n",
       "      <td>DataSphere</td>\n",
       "      <td>Cloud Platform</td>\n",
       "      <td>566411.0</td>\n",
       "      <td>128116.0</td>\n",
       "      <td>45</td>\n",
       "      <td>39</td>\n",
       "    </tr>\n",
       "    <tr>\n",
       "      <th>6</th>\n",
       "      <td>CloudEdge</td>\n",
       "      <td>IoT</td>\n",
       "      <td>552302.0</td>\n",
       "      <td>94908.0</td>\n",
       "      <td>36</td>\n",
       "      <td>34</td>\n",
       "    </tr>\n",
       "    <tr>\n",
       "      <th>7</th>\n",
       "      <td>CoreAnalytics</td>\n",
       "      <td>Analytics</td>\n",
       "      <td>540459.0</td>\n",
       "      <td>92259.0</td>\n",
       "      <td>42</td>\n",
       "      <td>39</td>\n",
       "    </tr>\n",
       "    <tr>\n",
       "      <th>8</th>\n",
       "      <td>NetConnect</td>\n",
       "      <td>Cloud Platform</td>\n",
       "      <td>527363.0</td>\n",
       "      <td>123900.0</td>\n",
       "      <td>43</td>\n",
       "      <td>39</td>\n",
       "    </tr>\n",
       "    <tr>\n",
       "      <th>9</th>\n",
       "      <td>CloudEdge</td>\n",
       "      <td>Cloud Platform</td>\n",
       "      <td>524343.0</td>\n",
       "      <td>94432.0</td>\n",
       "      <td>37</td>\n",
       "      <td>36</td>\n",
       "    </tr>\n",
       "    <tr>\n",
       "      <th>10</th>\n",
       "      <td>Insight360</td>\n",
       "      <td>IoT</td>\n",
       "      <td>519629.0</td>\n",
       "      <td>79866.0</td>\n",
       "      <td>41</td>\n",
       "      <td>37</td>\n",
       "    </tr>\n",
       "    <tr>\n",
       "      <th>11</th>\n",
       "      <td>Insight360</td>\n",
       "      <td>Cloud Platform</td>\n",
       "      <td>519201.0</td>\n",
       "      <td>114911.0</td>\n",
       "      <td>42</td>\n",
       "      <td>36</td>\n",
       "    </tr>\n",
       "    <tr>\n",
       "      <th>12</th>\n",
       "      <td>Insight360</td>\n",
       "      <td>Analytics</td>\n",
       "      <td>509140.0</td>\n",
       "      <td>110683.0</td>\n",
       "      <td>40</td>\n",
       "      <td>35</td>\n",
       "    </tr>\n",
       "    <tr>\n",
       "      <th>13</th>\n",
       "      <td>Insight360</td>\n",
       "      <td>Networking</td>\n",
       "      <td>494479.0</td>\n",
       "      <td>84670.0</td>\n",
       "      <td>35</td>\n",
       "      <td>33</td>\n",
       "    </tr>\n",
       "    <tr>\n",
       "      <th>14</th>\n",
       "      <td>CoreAnalytics</td>\n",
       "      <td>Cloud Platform</td>\n",
       "      <td>484499.0</td>\n",
       "      <td>103017.0</td>\n",
       "      <td>38</td>\n",
       "      <td>32</td>\n",
       "    </tr>\n",
       "    <tr>\n",
       "      <th>15</th>\n",
       "      <td>NetConnect</td>\n",
       "      <td>Networking</td>\n",
       "      <td>476842.0</td>\n",
       "      <td>125650.0</td>\n",
       "      <td>46</td>\n",
       "      <td>40</td>\n",
       "    </tr>\n",
       "    <tr>\n",
       "      <th>16</th>\n",
       "      <td>CloudEdge</td>\n",
       "      <td>Networking</td>\n",
       "      <td>465736.0</td>\n",
       "      <td>95065.0</td>\n",
       "      <td>35</td>\n",
       "      <td>33</td>\n",
       "    </tr>\n",
       "    <tr>\n",
       "      <th>17</th>\n",
       "      <td>Insight360</td>\n",
       "      <td>Security</td>\n",
       "      <td>455691.0</td>\n",
       "      <td>80911.0</td>\n",
       "      <td>36</td>\n",
       "      <td>34</td>\n",
       "    </tr>\n",
       "    <tr>\n",
       "      <th>18</th>\n",
       "      <td>CoreAnalytics</td>\n",
       "      <td>Security</td>\n",
       "      <td>447261.0</td>\n",
       "      <td>86220.0</td>\n",
       "      <td>34</td>\n",
       "      <td>32</td>\n",
       "    </tr>\n",
       "    <tr>\n",
       "      <th>19</th>\n",
       "      <td>DataSphere</td>\n",
       "      <td>IoT</td>\n",
       "      <td>434895.0</td>\n",
       "      <td>87467.0</td>\n",
       "      <td>39</td>\n",
       "      <td>37</td>\n",
       "    </tr>\n",
       "    <tr>\n",
       "      <th>20</th>\n",
       "      <td>NetConnect</td>\n",
       "      <td>IoT</td>\n",
       "      <td>431157.0</td>\n",
       "      <td>96452.0</td>\n",
       "      <td>34</td>\n",
       "      <td>33</td>\n",
       "    </tr>\n",
       "    <tr>\n",
       "      <th>21</th>\n",
       "      <td>NetConnect</td>\n",
       "      <td>Security</td>\n",
       "      <td>400851.0</td>\n",
       "      <td>75441.0</td>\n",
       "      <td>29</td>\n",
       "      <td>25</td>\n",
       "    </tr>\n",
       "    <tr>\n",
       "      <th>22</th>\n",
       "      <td>DataSphere</td>\n",
       "      <td>Security</td>\n",
       "      <td>398253.0</td>\n",
       "      <td>78690.0</td>\n",
       "      <td>33</td>\n",
       "      <td>31</td>\n",
       "    </tr>\n",
       "    <tr>\n",
       "      <th>23</th>\n",
       "      <td>NetConnect</td>\n",
       "      <td>Analytics</td>\n",
       "      <td>391777.0</td>\n",
       "      <td>99878.0</td>\n",
       "      <td>36</td>\n",
       "      <td>34</td>\n",
       "    </tr>\n",
       "    <tr>\n",
       "      <th>24</th>\n",
       "      <td>CoreAnalytics</td>\n",
       "      <td>IoT</td>\n",
       "      <td>390102.0</td>\n",
       "      <td>76707.0</td>\n",
       "      <td>33</td>\n",
       "      <td>32</td>\n",
       "    </tr>\n",
       "  </tbody>\n",
       "</table>\n",
       "</div>"
      ],
      "text/plain": [
       "     product_name product_category  total_sales_revenue  total_return_value  \\\n",
       "0       CloudEdge        Analytics             744371.0            142151.0   \n",
       "1       CloudEdge         Security             692871.0            116077.0   \n",
       "2   CoreAnalytics       Networking             657035.0            102221.0   \n",
       "3      DataSphere        Analytics             626508.0            106046.0   \n",
       "4      DataSphere       Networking             584554.0            101226.0   \n",
       "5      DataSphere   Cloud Platform             566411.0            128116.0   \n",
       "6       CloudEdge              IoT             552302.0             94908.0   \n",
       "7   CoreAnalytics        Analytics             540459.0             92259.0   \n",
       "8      NetConnect   Cloud Platform             527363.0            123900.0   \n",
       "9       CloudEdge   Cloud Platform             524343.0             94432.0   \n",
       "10     Insight360              IoT             519629.0             79866.0   \n",
       "11     Insight360   Cloud Platform             519201.0            114911.0   \n",
       "12     Insight360        Analytics             509140.0            110683.0   \n",
       "13     Insight360       Networking             494479.0             84670.0   \n",
       "14  CoreAnalytics   Cloud Platform             484499.0            103017.0   \n",
       "15     NetConnect       Networking             476842.0            125650.0   \n",
       "16      CloudEdge       Networking             465736.0             95065.0   \n",
       "17     Insight360         Security             455691.0             80911.0   \n",
       "18  CoreAnalytics         Security             447261.0             86220.0   \n",
       "19     DataSphere              IoT             434895.0             87467.0   \n",
       "20     NetConnect              IoT             431157.0             96452.0   \n",
       "21     NetConnect         Security             400851.0             75441.0   \n",
       "22     DataSphere         Security             398253.0             78690.0   \n",
       "23     NetConnect        Analytics             391777.0             99878.0   \n",
       "24  CoreAnalytics              IoT             390102.0             76707.0   \n",
       "\n",
       "    number_of_returns  number_of_orders  \n",
       "0                  57                54  \n",
       "1                  50                49  \n",
       "2                  51                46  \n",
       "3                  46                45  \n",
       "4                  42                40  \n",
       "5                  45                39  \n",
       "6                  36                34  \n",
       "7                  42                39  \n",
       "8                  43                39  \n",
       "9                  37                36  \n",
       "10                 41                37  \n",
       "11                 42                36  \n",
       "12                 40                35  \n",
       "13                 35                33  \n",
       "14                 38                32  \n",
       "15                 46                40  \n",
       "16                 35                33  \n",
       "17                 36                34  \n",
       "18                 34                32  \n",
       "19                 39                37  \n",
       "20                 34                33  \n",
       "21                 29                25  \n",
       "22                 33                31  \n",
       "23                 36                34  \n",
       "24                 33                32  "
      ]
     },
     "execution_count": 9,
     "metadata": {},
     "output_type": "execute_result"
    }
   ],
   "source": [
    "from intugle import DataProduct\n",
    "\n",
    "# Create a DataProduct\n",
    "dp = DataProduct()\n",
    "\n",
    "# Generate the data product\n",
    "data_product = dp.build(data_product_config)\n",
    "\n",
    "data_product.to_df()"
   ]
  },
  {
   "cell_type": "markdown",
   "id": "277c27b1587741f2af2001be3712ef0d",
   "metadata": {},
   "source": [
    "The `build` function returns a `DataSet` object. You can also view the generated SQL query used for creating the data product:"
   ]
  },
  {
   "cell_type": "code",
   "execution_count": 10,
   "id": "db7b79bc585a40fcaf58bf750017e135",
   "metadata": {},
   "outputs": [
    {
     "data": {
      "text/plain": [
       "'SELECT \"products\".\"Product Name\" as product_name, \"products\".\"Product Category\" as product_category, sum(\"orders\".\"Order Value ($)\") as total_sales_revenue, sum(\"returns\".\"Return Value ($)\") as total_return_value, count(distinct \"returns\".\"Return_ID\") as number_of_returns, count(distinct \"orders\".\"Order ID\") as number_of_orders FROM returns LEFT JOIN orders ON \"orders\".\"Order ID\" = \"returns\".\"R Order ID\" LEFT JOIN products ON \"orders\".\"Product ID\" = \"products\".\"Product ID\" GROUP BY \"products\".\"Product Name\" , \"products\".\"Product Category\" ORDER BY total_sales_revenue DESC LIMIT 1000'"
      ]
     },
     "execution_count": 10,
     "metadata": {},
     "output_type": "execute_result"
    }
   ],
   "source": [
    "# The generated SQL query\n",
    "data_product.sql_query"
   ]
  },
  {
   "cell_type": "markdown",
   "id": "916684f9a58a4a2aa5f864670399430d",
   "metadata": {},
   "source": [
    "## Conclusion\n",
    "\n",
    "You've learned how to:\n",
    "\n",
    "*   Configure your LLM provider and Embeddings provider.\n",
    "*   Build a semantic model using the `SemanticModel`.\n",
    "*   Access enriched metadata, business glossaries and visualize the relationships between your tables.\n",
    "*   Perform semantic search on your semantic model.\n",
    "*   Generate data products from the semantic layer using the `DataProduct`.\n",
    "\n",
    "This is just a starting point. This project has many other features to explore. We encourage you to try it with your own data and see how it can help you build a powerful semantic layer."
   ]
  }
 ],
 "metadata": {
  "kernelspec": {
   "display_name": "intugle",
   "language": "python",
   "name": "python3"
  },
  "language_info": {
   "codemirror_mode": {
    "name": "ipython",
    "version": 3
   },
   "file_extension": ".py",
   "mimetype": "text/x-python",
   "name": "python",
   "nbconvert_exporter": "python",
   "pygments_lexer": "ipython3",
   "version": "3.12.3"
  }
 },
 "nbformat": 4,
 "nbformat_minor": 5
}
