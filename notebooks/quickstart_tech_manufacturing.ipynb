{
 "cells": [
  {
   "cell_type": "markdown",
   "id": "757096f5",
   "metadata": {},
   "source": [
    "# Quickstart: Building a GenAI powered Semantic Intelligence with Intugle\n",
    "\n",
    "This quickstart shows you how to use Intugle’s open-source library to transform fragmented datasets into a connected semantic layer. The semantic layer captures profiling, relationships, and business meaning of your data — making it instantly usable for exploration, search, and data product creation.\n",
    "\n",
    "**What is Semantic Intelligence?**\n",
    "\n",
    "A semantic layer is an intelligent knowledge graph of your data. It connects tables, discovers relationships, and enriches them with business glossaries — so both data teams and business users can query with clarity, not complexity.\n",
    "\n",
    "**Who is this for?**\n",
    "\n",
    "*   **Data Engineers & Architects** often spend weeks manually profiling, classifying, and stitching together fragmented data assets. With Intugle, they can automate this process end-to-end, uncovering meaningful links and relationships to instantly generate a connected semantic layer.\n",
    "*   **Data Analysts & Scientists** spend endless hours on data readiness and preparation before they can even start the real analysis. Intugle accelerates this by providing contextual intelligence, automatically generating SQL and reusable data products enriched with relationships and business meaning.\n",
    "*   **Business Analysts & Decision Makers** are slowed down by constant dependence on technical teams for answers. Intugle removes this bottleneck by enabling natural language queries and semantic search, giving them trusted insights on demand.\n",
    "\n",
    "**In this notebook, you will learn how to:**\n",
    "\n",
    "- **Profile and classify data** : Analyze your data sources to understand their structure, data types, and other characteristics.\n",
    "- **Discover links & relationships among data** : Reveal meaningful connections (PK & FK) across fragmented tables.\n",
    "- **Generate a business glossary & enable semantic search** : Create business-friendly terms and use them to query data with context.\n",
    "- **Create a semantic intelligence layer** : Build a unified model (YAML) of your data and relationships.\n",
    "- **Build unified data products** : Generate reusable SQL queries powered by the semantic layer.\n",
    "\n",
    "Before you start, make sure you install the **Intugle Data Tools**:"
   ]
  },
  {
   "cell_type": "code",
   "execution_count": null,
   "id": "0a0b036f",
   "metadata": {},
   "outputs": [],
   "source": [
    "%pip install intugle"
   ]
  },
  {
   "cell_type": "markdown",
   "id": "a2a1b244",
   "metadata": {},
   "source": [
    "## 1. LLM Configuration\n",
    "\n",
    "Before running the project, you need to configure a Large Language Model (LLM). This is used for tasks like generating business glossaries and predicting links between tables. For the semantic search feature, you will also need to set up Qdrant and provide an OpenAI API key. For detailed setup instructions, please refer to the [README.md](README.md) file.\n",
    "\n",
    "You can configure the necessary services by setting the following environment variables:\n",
    "\n",
    "*   `LLM_PROVIDER`: The LLM provider and model to use (e.g., `openai:gpt-3.5-turbo`). The format follows langchain's format for initializing chat models. Checkout how to specify your model [here](https://python.langchain.com/docs/integrations/chat/)\n",
    "*   `API_KEY`: Your API key for the LLM provider. The exact name of the variable may vary from provider to provider (e.g., `OPENAI_API_KEY`, `ANTHROPIC_API_KEY`).\n",
    "*   `QDRANT_URL`: The URL of your Qdrant instance (e.g., `http://localhost:6333`).\n",
    "*   `QDRANT_API_KEY`: Your API key for the Qdrant instance, if authorization is enabled.\n",
    "*   `EMBEDDING_MODEL_NAME`: The embedding model to use. The format follows LangChain's conventions for initializing embedding models (e.g., `openai:ada`, `azure_openai:ada`).\n",
    "*   `OPENAI_API_KEY`: Your OpenAI API key, required if you are using an OpenAI embedding model.\n",
    "*   `AZURE_OPENAI_API_KEY`, `AZURE_OPENAI_ENDPOINT`, `OPENAI_API_VERSION`: Your Azure OpenAI credentials, required if you are using an Azure OpenAI embedding model.\n",
    "\n",
    "Here's an example of how to set these variables in your environment:\n",
    "\n",
    "```bash\n",
    "export LLM_PROVIDER=\"openai:gpt-3.5-turbo\"\n",
    "export OPENAI_API_KEY=\"your-openai-api-key\"\n",
    "```\n",
    "Alternatively, you can set them in the notebook like this:"
   ]
  },
  {
   "cell_type": "code",
   "execution_count": null,
   "id": "36454d44",
   "metadata": {},
   "outputs": [],
   "source": [
    "import os\n",
    "\n",
    "os.environ[\"LLM_PROVIDER\"] = \"openai:gpt-3.5-turbo\"\n",
    "os.environ[\"OPENAI_API_KEY\"] = \"your-openai-api-key\"  # Replace with your actual key\n",
    "\n",
    "# Semantic Search Configuration (Optional)\n",
    "os.environ[\"QDRANT_URL\"] = \"http://localhost:6333\"\n",
    "os.environ[\"QDRANT_API_KEY\"] = \"\" # if authorization is used\n",
    "os.environ[\"EMBEDDING_MODEL_NAME\"] = \"openai:ada\"\n",
    "os.environ[\"OPENAI_API_KEY\"] = \"your-openai-api-key\"\n",
    "\n",
    "# For Azure OpenAI models\n",
    "os.environ[\"EMBEDDING_MODEL_NAME\"] = \"azure_openai:ada\"\n",
    "os.environ[\"AZURE_OPENAI_API_KEY\"] = \"your-azure-openai-api-key\"\n",
    "os.environ[\"AZURE_OPENAI_ENDPOINT\"] = \"your-azure-openai-endpoint\"\n",
    "os.environ[\"OPENAI_API_VERSION\"] = \"your-openai-api-version\"\n",
    "\n"
   ]
  },
  {
   "cell_type": "markdown",
   "id": "fa9fda69",
   "metadata": {},
   "source": [
    "> Currently the langchain packages for OpenAI, Anthropic and Gemini is installed by default. For additional models, make sure you have the integration packages installed. E.g. you should have langchain-deepseek installed to use a DeepSeek model. You can get these packages here: [LangChain Chat Models](https://python.langchain.com/docs/integrations/chat/)"
   ]
  },
  {
   "cell_type": "markdown",
   "id": "a3dad9d8",
   "metadata": {},
   "source": [
    "## 2. Building the Knowledge Base\n",
    "\n",
    "The `KnowledgeBuilder` is the entry point for building your semantic layer. It takes a dictionary of datasets as input and performs the following steps:\n",
    "\n",
    "1.  **Data Profiling:** Calculates statistics for each column, such as distinct count, uniqueness, and completeness.\n",
    "2.  **Datatype Identification:** Identifies the data type of each column (e.g., integer, string, datetime).\n",
    "3.  **Key Identification:** Identifies potential primary keys.\n",
    "4.  **Glossary Generation:** Generates a business glossary for each column using an LLM.\n",
    "5.  **Link Prediction:** Predicts the relationships (foreign keys) between tables.\n",
    "\n",
    "Let's start by defining the datasets we want to use. The path shown below can be a local file path or a remote URL."
   ]
  },
  {
   "cell_type": "code",
   "execution_count": null,
   "id": "7f0e28d7",
   "metadata": {},
   "outputs": [],
   "source": [
    "def generate_config(table_name: str, source: str = \"local\") -> dict[str, str]:\n",
    "    \"\"\"Generate dataset config for local or remote files.\"\"\"\n",
    "    path = f\"https://raw.githubusercontent.com/Intugle/data-tools/refs/heads/main/sample_data/tech_company/{table_name}.csv\"    \n",
    "    return {\n",
    "        \"path\": path,\n",
    "        \"type\": \"csv\"\n",
    "    }\n",
    "\n",
    "\n",
    "table_names = [\n",
    "    \"campaign_survey\",\n",
    "    \"campaigns\",\n",
    "    \"customer_hierarchy\",\n",
    "    \"customers\",\n",
    "    \"delivery_survey\",\n",
    "    \"expense\",\n",
    "    \"install_base\",\n",
    "    \"inventory\",\n",
    "    \"logistics\",\n",
    "    \"nps_survey\",\n",
    "    \"opportunity\",\n",
    "    \"orders\",\n",
    "    \"prob_statement_issue\",\n",
    "    \"product_feature\",\n",
    "    \"product_hierarchy\",\n",
    "    \"products\",\n",
    "    \"renewals\",\n",
    "    \"returns\",\n",
    "    \"service_requests\",\n",
    "    \"website\"\n",
    "]\n",
    "\n",
    "\n",
    "datasets = {table: generate_config(table) for table in table_names}"
   ]
  },
  {
   "cell_type": "markdown",
   "id": "fffe1d34",
   "metadata": {},
   "source": [
    "Now, let's use the `KnowledgeBuilder` to build our semantic layer:\n",
    "\n",
    "> The `domain` parameter helps the LLM generate a more contextual business glossary. It specifies the industry domain that the dataset belongs to (e.g., \"Healthcare\", \"Finance\", \"E-commerce\")."
   ]
  },
  {
   "cell_type": "code",
   "execution_count": 3,
   "id": "ac8a78fa",
   "metadata": {},
   "outputs": [
    {
     "name": "stderr",
     "output_type": "stream",
     "text": [
      "/home/raphael/Downloads/intugle_demo/env/lib/python3.12/site-packages/tqdm/auto.py:21: TqdmWarning: IProgress not found. Please update jupyter and ipywidgets. See https://ipywidgets.readthedocs.io/en/stable/user_install.html\n",
      "  from .autonotebook import tqdm as notebook_tqdm\n",
      "/home/raphael/Downloads/intugle_demo/env/lib/python3.12/site-packages/pydantic/_internal/_fields.py:198: UserWarning: Field name \"schema\" in \"Source\" shadows an attribute in parent \"BaseResource\"\n",
      "  warnings.warn(\n"
     ]
    },
    {
     "name": "stdout",
     "output_type": "stream",
     "text": [
      "campaign_survey loaded\n",
      "campaigns loaded\n",
      "customer_hierarchy loaded\n",
      "customers loaded\n",
      "delivery_survey loaded\n",
      "expense loaded\n",
      "install_base loaded\n",
      "inventory loaded\n",
      "logistics loaded\n",
      "nps_survey loaded\n",
      "opportunity loaded\n",
      "orders loaded\n",
      "prob_statement_issue loaded\n",
      "product_feature loaded\n",
      "product_hierarchy loaded\n",
      "products loaded\n",
      "renewals loaded\n",
      "returns loaded\n",
      "service_requests loaded\n",
      "website loaded\n"
     ]
    },
    {
     "name": "stderr",
     "output_type": "stream",
     "text": [
      "/home/raphael/Downloads/intugle_demo/env/lib/python3.12/site-packages/numpy/_core/fromnumeric.py:3859: RuntimeWarning: Mean of empty slice.\n",
      "  return _methods._mean(a, axis=axis, dtype=dtype,\n",
      "/home/raphael/Downloads/intugle_demo/env/lib/python3.12/site-packages/numpy/_core/_methods.py:144: RuntimeWarning: invalid value encountered in scalar divide\n",
      "  ret = ret.dtype.type(ret / rcount)\n",
      "100%|██████████| 9/9 [00:05<00:00,  1.79it/s]\n",
      "[*] campaign_survey:   0%|          | 0/1 [00:00<?, ?it/s]/home/raphael/Downloads/intugle_demo/env/lib/python3.12/site-packages/intugle/core/pipeline/key_identification/ki.py:87: SettingWithCopyWarning: \n",
      "A value is trying to be set on a copy of a slice from a DataFrame\n",
      "\n",
      "See the caveats in the documentation: https://pandas.pydata.org/pandas-docs/stable/user_guide/indexing.html#returning-a-view-versus-a-copy\n",
      "  temp.rename(columns={\"datatype_l1\": \"datatype\"}, inplace=True)\n",
      "[*] campaign_survey: 100%|██████████| 1/1 [00:00<00:00,  1.52it/s]\n",
      "100%|██████████| 9/9 [00:13<00:00,  1.50s/it]\n",
      "/home/raphael/Downloads/intugle_demo/env/lib/python3.12/site-packages/numpy/_core/fromnumeric.py:3859: RuntimeWarning: Mean of empty slice.\n",
      "  return _methods._mean(a, axis=axis, dtype=dtype,\n",
      "/home/raphael/Downloads/intugle_demo/env/lib/python3.12/site-packages/numpy/_core/_methods.py:144: RuntimeWarning: invalid value encountered in scalar divide\n",
      "  ret = ret.dtype.type(ret / rcount)\n",
      "100%|██████████| 13/13 [00:06<00:00,  1.98it/s]\n",
      "[*] campaigns:   0%|          | 0/1 [00:00<?, ?it/s]/home/raphael/Downloads/intugle_demo/env/lib/python3.12/site-packages/intugle/core/pipeline/key_identification/ki.py:87: SettingWithCopyWarning: \n",
      "A value is trying to be set on a copy of a slice from a DataFrame\n",
      "\n",
      "See the caveats in the documentation: https://pandas.pydata.org/pandas-docs/stable/user_guide/indexing.html#returning-a-view-versus-a-copy\n",
      "  temp.rename(columns={\"datatype_l1\": \"datatype\"}, inplace=True)\n",
      "[*] campaigns: 100%|██████████| 1/1 [00:00<00:00,  2.02it/s]\n",
      "100%|██████████| 13/13 [00:16<00:00,  1.26s/it]\n",
      "/home/raphael/Downloads/intugle_demo/env/lib/python3.12/site-packages/numpy/_core/fromnumeric.py:3859: RuntimeWarning: Mean of empty slice.\n",
      "  return _methods._mean(a, axis=axis, dtype=dtype,\n",
      "/home/raphael/Downloads/intugle_demo/env/lib/python3.12/site-packages/numpy/_core/_methods.py:144: RuntimeWarning: invalid value encountered in scalar divide\n",
      "  ret = ret.dtype.type(ret / rcount)\n",
      "100%|██████████| 8/8 [00:03<00:00,  2.49it/s]\n",
      "[*] customer_hierarchy:   0%|          | 0/1 [00:00<?, ?it/s]/home/raphael/Downloads/intugle_demo/env/lib/python3.12/site-packages/intugle/core/pipeline/key_identification/ki.py:87: SettingWithCopyWarning: \n",
      "A value is trying to be set on a copy of a slice from a DataFrame\n",
      "\n",
      "See the caveats in the documentation: https://pandas.pydata.org/pandas-docs/stable/user_guide/indexing.html#returning-a-view-versus-a-copy\n",
      "  temp.rename(columns={\"datatype_l1\": \"datatype\"}, inplace=True)\n",
      "[*] customer_hierarchy: 100%|██████████| 1/1 [00:00<00:00,  1.53it/s]\n",
      "100%|██████████| 8/8 [00:13<00:00,  1.68s/it]\n",
      "/home/raphael/Downloads/intugle_demo/env/lib/python3.12/site-packages/numpy/_core/fromnumeric.py:3859: RuntimeWarning: Mean of empty slice.\n",
      "  return _methods._mean(a, axis=axis, dtype=dtype,\n",
      "/home/raphael/Downloads/intugle_demo/env/lib/python3.12/site-packages/numpy/_core/_methods.py:144: RuntimeWarning: invalid value encountered in scalar divide\n",
      "  ret = ret.dtype.type(ret / rcount)\n",
      "100%|██████████| 9/9 [00:06<00:00,  1.36it/s]\n",
      "[*] customers:   0%|          | 0/1 [00:00<?, ?it/s]/home/raphael/Downloads/intugle_demo/env/lib/python3.12/site-packages/intugle/core/pipeline/key_identification/ki.py:87: SettingWithCopyWarning: \n",
      "A value is trying to be set on a copy of a slice from a DataFrame\n",
      "\n",
      "See the caveats in the documentation: https://pandas.pydata.org/pandas-docs/stable/user_guide/indexing.html#returning-a-view-versus-a-copy\n",
      "  temp.rename(columns={\"datatype_l1\": \"datatype\"}, inplace=True)\n",
      "[*] customers: 100%|██████████| 1/1 [00:00<00:00,  1.43it/s]\n",
      "100%|██████████| 9/9 [00:15<00:00,  1.68s/it]\n",
      "/home/raphael/Downloads/intugle_demo/env/lib/python3.12/site-packages/numpy/_core/fromnumeric.py:3859: RuntimeWarning: Mean of empty slice.\n",
      "  return _methods._mean(a, axis=axis, dtype=dtype,\n",
      "/home/raphael/Downloads/intugle_demo/env/lib/python3.12/site-packages/numpy/_core/_methods.py:144: RuntimeWarning: invalid value encountered in scalar divide\n",
      "  ret = ret.dtype.type(ret / rcount)\n",
      "100%|██████████| 8/8 [00:04<00:00,  1.99it/s]\n",
      "[*] delivery_survey:   0%|          | 0/1 [00:00<?, ?it/s]/home/raphael/Downloads/intugle_demo/env/lib/python3.12/site-packages/intugle/core/pipeline/key_identification/ki.py:87: SettingWithCopyWarning: \n",
      "A value is trying to be set on a copy of a slice from a DataFrame\n",
      "\n",
      "See the caveats in the documentation: https://pandas.pydata.org/pandas-docs/stable/user_guide/indexing.html#returning-a-view-versus-a-copy\n",
      "  temp.rename(columns={\"datatype_l1\": \"datatype\"}, inplace=True)\n",
      "[*] delivery_survey: 100%|██████████| 1/1 [00:00<00:00,  1.08it/s]\n",
      "100%|██████████| 8/8 [00:11<00:00,  1.44s/it]\n",
      "/home/raphael/Downloads/intugle_demo/env/lib/python3.12/site-packages/numpy/_core/fromnumeric.py:3859: RuntimeWarning: Mean of empty slice.\n",
      "  return _methods._mean(a, axis=axis, dtype=dtype,\n",
      "/home/raphael/Downloads/intugle_demo/env/lib/python3.12/site-packages/numpy/_core/_methods.py:144: RuntimeWarning: invalid value encountered in scalar divide\n",
      "  ret = ret.dtype.type(ret / rcount)\n",
      "100%|██████████| 11/11 [00:06<00:00,  1.66it/s]\n",
      "[*] expense:   0%|          | 0/1 [00:00<?, ?it/s]/home/raphael/Downloads/intugle_demo/env/lib/python3.12/site-packages/intugle/core/pipeline/key_identification/ki.py:87: SettingWithCopyWarning: \n",
      "A value is trying to be set on a copy of a slice from a DataFrame\n",
      "\n",
      "See the caveats in the documentation: https://pandas.pydata.org/pandas-docs/stable/user_guide/indexing.html#returning-a-view-versus-a-copy\n",
      "  temp.rename(columns={\"datatype_l1\": \"datatype\"}, inplace=True)\n",
      "[*] expense: 100%|██████████| 1/1 [00:00<00:00,  2.26it/s]\n",
      "100%|██████████| 11/11 [00:16<00:00,  1.48s/it]\n",
      "/home/raphael/Downloads/intugle_demo/env/lib/python3.12/site-packages/numpy/_core/fromnumeric.py:3859: RuntimeWarning: Mean of empty slice.\n",
      "  return _methods._mean(a, axis=axis, dtype=dtype,\n",
      "/home/raphael/Downloads/intugle_demo/env/lib/python3.12/site-packages/numpy/_core/_methods.py:144: RuntimeWarning: invalid value encountered in scalar divide\n",
      "  ret = ret.dtype.type(ret / rcount)\n",
      "100%|██████████| 13/13 [00:06<00:00,  2.16it/s]\n",
      "[*] install_base:   0%|          | 0/1 [00:00<?, ?it/s]/home/raphael/Downloads/intugle_demo/env/lib/python3.12/site-packages/intugle/core/pipeline/key_identification/ki.py:87: SettingWithCopyWarning: \n",
      "A value is trying to be set on a copy of a slice from a DataFrame\n",
      "\n",
      "See the caveats in the documentation: https://pandas.pydata.org/pandas-docs/stable/user_guide/indexing.html#returning-a-view-versus-a-copy\n",
      "  temp.rename(columns={\"datatype_l1\": \"datatype\"}, inplace=True)\n",
      "[*] install_base: 100%|██████████| 1/1 [00:00<00:00,  1.95it/s]\n",
      "100%|██████████| 13/13 [00:16<00:00,  1.24s/it]\n",
      "/home/raphael/Downloads/intugle_demo/env/lib/python3.12/site-packages/numpy/_core/fromnumeric.py:3859: RuntimeWarning: Mean of empty slice.\n",
      "  return _methods._mean(a, axis=axis, dtype=dtype,\n",
      "/home/raphael/Downloads/intugle_demo/env/lib/python3.12/site-packages/numpy/_core/_methods.py:144: RuntimeWarning: invalid value encountered in scalar divide\n",
      "  ret = ret.dtype.type(ret / rcount)\n",
      "100%|██████████| 11/11 [00:06<00:00,  1.75it/s]\n",
      "[*] inventory:   0%|          | 0/1 [00:00<?, ?it/s]/home/raphael/Downloads/intugle_demo/env/lib/python3.12/site-packages/intugle/core/pipeline/key_identification/ki.py:87: SettingWithCopyWarning: \n",
      "A value is trying to be set on a copy of a slice from a DataFrame\n",
      "\n",
      "See the caveats in the documentation: https://pandas.pydata.org/pandas-docs/stable/user_guide/indexing.html#returning-a-view-versus-a-copy\n",
      "  temp.rename(columns={\"datatype_l1\": \"datatype\"}, inplace=True)\n",
      "[*] inventory: 100%|██████████| 1/1 [00:00<00:00,  1.97it/s]\n",
      "100%|██████████| 11/11 [00:15<00:00,  1.45s/it]\n",
      "/home/raphael/Downloads/intugle_demo/env/lib/python3.12/site-packages/numpy/_core/fromnumeric.py:3859: RuntimeWarning: Mean of empty slice.\n",
      "  return _methods._mean(a, axis=axis, dtype=dtype,\n",
      "/home/raphael/Downloads/intugle_demo/env/lib/python3.12/site-packages/numpy/_core/_methods.py:144: RuntimeWarning: invalid value encountered in scalar divide\n",
      "  ret = ret.dtype.type(ret / rcount)\n",
      "100%|██████████| 10/10 [00:04<00:00,  2.45it/s]\n",
      "[*] logistics:   0%|          | 0/1 [00:00<?, ?it/s]/home/raphael/Downloads/intugle_demo/env/lib/python3.12/site-packages/intugle/core/pipeline/key_identification/ki.py:87: SettingWithCopyWarning: \n",
      "A value is trying to be set on a copy of a slice from a DataFrame\n",
      "\n",
      "See the caveats in the documentation: https://pandas.pydata.org/pandas-docs/stable/user_guide/indexing.html#returning-a-view-versus-a-copy\n",
      "  temp.rename(columns={\"datatype_l1\": \"datatype\"}, inplace=True)\n",
      "[*] logistics: 100%|██████████| 1/1 [00:00<00:00,  1.48it/s]\n",
      "100%|██████████| 10/10 [00:12<00:00,  1.21s/it]\n",
      "/home/raphael/Downloads/intugle_demo/env/lib/python3.12/site-packages/numpy/_core/fromnumeric.py:3859: RuntimeWarning: Mean of empty slice.\n",
      "  return _methods._mean(a, axis=axis, dtype=dtype,\n",
      "/home/raphael/Downloads/intugle_demo/env/lib/python3.12/site-packages/numpy/_core/_methods.py:144: RuntimeWarning: invalid value encountered in scalar divide\n",
      "  ret = ret.dtype.type(ret / rcount)\n",
      "100%|██████████| 10/10 [00:05<00:00,  1.90it/s]\n",
      "[*] nps_survey:   0%|          | 0/1 [00:00<?, ?it/s]/home/raphael/Downloads/intugle_demo/env/lib/python3.12/site-packages/intugle/core/pipeline/key_identification/ki.py:87: SettingWithCopyWarning: \n",
      "A value is trying to be set on a copy of a slice from a DataFrame\n",
      "\n",
      "See the caveats in the documentation: https://pandas.pydata.org/pandas-docs/stable/user_guide/indexing.html#returning-a-view-versus-a-copy\n",
      "  temp.rename(columns={\"datatype_l1\": \"datatype\"}, inplace=True)\n",
      "[*] nps_survey: 100%|██████████| 1/1 [00:01<00:00,  1.05s/it]\n",
      "100%|██████████| 10/10 [00:13<00:00,  1.36s/it]\n",
      "/home/raphael/Downloads/intugle_demo/env/lib/python3.12/site-packages/numpy/_core/fromnumeric.py:3859: RuntimeWarning: Mean of empty slice.\n",
      "  return _methods._mean(a, axis=axis, dtype=dtype,\n",
      "/home/raphael/Downloads/intugle_demo/env/lib/python3.12/site-packages/numpy/_core/_methods.py:144: RuntimeWarning: invalid value encountered in scalar divide\n",
      "  ret = ret.dtype.type(ret / rcount)\n",
      "100%|██████████| 12/12 [00:06<00:00,  1.72it/s]\n",
      "[*] opportunity:   0%|          | 0/1 [00:00<?, ?it/s]/home/raphael/Downloads/intugle_demo/env/lib/python3.12/site-packages/intugle/core/pipeline/key_identification/ki.py:87: SettingWithCopyWarning: \n",
      "A value is trying to be set on a copy of a slice from a DataFrame\n",
      "\n",
      "See the caveats in the documentation: https://pandas.pydata.org/pandas-docs/stable/user_guide/indexing.html#returning-a-view-versus-a-copy\n",
      "  temp.rename(columns={\"datatype_l1\": \"datatype\"}, inplace=True)\n",
      "[*] opportunity: 100%|██████████| 1/1 [00:00<00:00,  2.30it/s]\n",
      "100%|██████████| 12/12 [00:16<00:00,  1.35s/it]\n",
      "/home/raphael/Downloads/intugle_demo/env/lib/python3.12/site-packages/numpy/_core/fromnumeric.py:3859: RuntimeWarning: Mean of empty slice.\n",
      "  return _methods._mean(a, axis=axis, dtype=dtype,\n",
      "/home/raphael/Downloads/intugle_demo/env/lib/python3.12/site-packages/numpy/_core/_methods.py:144: RuntimeWarning: invalid value encountered in scalar divide\n",
      "  ret = ret.dtype.type(ret / rcount)\n",
      "100%|██████████| 7/7 [00:06<00:00,  1.02it/s]\n",
      "[*] orders:   0%|          | 0/1 [00:00<?, ?it/s]/home/raphael/Downloads/intugle_demo/env/lib/python3.12/site-packages/intugle/core/pipeline/key_identification/ki.py:87: SettingWithCopyWarning: \n",
      "A value is trying to be set on a copy of a slice from a DataFrame\n",
      "\n",
      "See the caveats in the documentation: https://pandas.pydata.org/pandas-docs/stable/user_guide/indexing.html#returning-a-view-versus-a-copy\n",
      "  temp.rename(columns={\"datatype_l1\": \"datatype\"}, inplace=True)\n",
      "[*] orders: 100%|██████████| 1/1 [00:00<00:00,  2.17it/s]\n",
      "100%|██████████| 7/7 [00:08<00:00,  1.27s/it]\n",
      "/home/raphael/Downloads/intugle_demo/env/lib/python3.12/site-packages/numpy/_core/fromnumeric.py:3859: RuntimeWarning: Mean of empty slice.\n",
      "  return _methods._mean(a, axis=axis, dtype=dtype,\n",
      "/home/raphael/Downloads/intugle_demo/env/lib/python3.12/site-packages/numpy/_core/_methods.py:144: RuntimeWarning: invalid value encountered in scalar divide\n",
      "  ret = ret.dtype.type(ret / rcount)\n",
      "100%|██████████| 8/8 [00:06<00:00,  1.16it/s]\n",
      "[*] prob_statement_issue:   0%|          | 0/1 [00:00<?, ?it/s]/home/raphael/Downloads/intugle_demo/env/lib/python3.12/site-packages/intugle/core/pipeline/key_identification/ki.py:87: SettingWithCopyWarning: \n",
      "A value is trying to be set on a copy of a slice from a DataFrame\n",
      "\n",
      "See the caveats in the documentation: https://pandas.pydata.org/pandas-docs/stable/user_guide/indexing.html#returning-a-view-versus-a-copy\n",
      "  temp.rename(columns={\"datatype_l1\": \"datatype\"}, inplace=True)\n",
      "[*] prob_statement_issue: 100%|██████████| 1/1 [00:00<00:00,  1.40it/s]\n",
      "100%|██████████| 8/8 [00:10<00:00,  1.37s/it]\n",
      "/home/raphael/Downloads/intugle_demo/env/lib/python3.12/site-packages/numpy/_core/fromnumeric.py:3859: RuntimeWarning: Mean of empty slice.\n",
      "  return _methods._mean(a, axis=axis, dtype=dtype,\n",
      "/home/raphael/Downloads/intugle_demo/env/lib/python3.12/site-packages/numpy/_core/_methods.py:144: RuntimeWarning: invalid value encountered in scalar divide\n",
      "  ret = ret.dtype.type(ret / rcount)\n",
      "100%|██████████| 8/8 [00:05<00:00,  1.38it/s]\n",
      "100%|██████████| 8/8 [00:13<00:00,  1.67s/it]\n",
      "/home/raphael/Downloads/intugle_demo/env/lib/python3.12/site-packages/numpy/_core/fromnumeric.py:3859: RuntimeWarning: Mean of empty slice.\n",
      "  return _methods._mean(a, axis=axis, dtype=dtype,\n",
      "/home/raphael/Downloads/intugle_demo/env/lib/python3.12/site-packages/numpy/_core/_methods.py:144: RuntimeWarning: invalid value encountered in scalar divide\n",
      "  ret = ret.dtype.type(ret / rcount)\n",
      "100%|██████████| 7/7 [00:03<00:00,  1.78it/s]\n",
      "[*] product_hierarchy:   0%|          | 0/1 [00:00<?, ?it/s]/home/raphael/Downloads/intugle_demo/env/lib/python3.12/site-packages/intugle/core/pipeline/key_identification/ki.py:87: SettingWithCopyWarning: \n",
      "A value is trying to be set on a copy of a slice from a DataFrame\n",
      "\n",
      "See the caveats in the documentation: https://pandas.pydata.org/pandas-docs/stable/user_guide/indexing.html#returning-a-view-versus-a-copy\n",
      "  temp.rename(columns={\"datatype_l1\": \"datatype\"}, inplace=True)\n",
      "[*] product_hierarchy: 100%|██████████| 1/1 [00:00<00:00,  1.09it/s]\n",
      "100%|██████████| 7/7 [00:10<00:00,  1.46s/it]\n",
      "/home/raphael/Downloads/intugle_demo/env/lib/python3.12/site-packages/numpy/_core/fromnumeric.py:3859: RuntimeWarning: Mean of empty slice.\n",
      "  return _methods._mean(a, axis=axis, dtype=dtype,\n",
      "/home/raphael/Downloads/intugle_demo/env/lib/python3.12/site-packages/numpy/_core/_methods.py:144: RuntimeWarning: invalid value encountered in scalar divide\n",
      "  ret = ret.dtype.type(ret / rcount)\n",
      "100%|██████████| 10/10 [00:05<00:00,  1.81it/s]\n",
      "[*] products:   0%|          | 0/1 [00:00<?, ?it/s]/home/raphael/Downloads/intugle_demo/env/lib/python3.12/site-packages/intugle/core/pipeline/key_identification/ki.py:87: SettingWithCopyWarning: \n",
      "A value is trying to be set on a copy of a slice from a DataFrame\n",
      "\n",
      "See the caveats in the documentation: https://pandas.pydata.org/pandas-docs/stable/user_guide/indexing.html#returning-a-view-versus-a-copy\n",
      "  temp.rename(columns={\"datatype_l1\": \"datatype\"}, inplace=True)\n",
      "[*] products: 100%|██████████| 1/1 [00:00<00:00,  1.42it/s]\n",
      "100%|██████████| 10/10 [00:17<00:00,  1.77s/it]\n",
      "/home/raphael/Downloads/intugle_demo/env/lib/python3.12/site-packages/numpy/_core/fromnumeric.py:3859: RuntimeWarning: Mean of empty slice.\n",
      "  return _methods._mean(a, axis=axis, dtype=dtype,\n",
      "/home/raphael/Downloads/intugle_demo/env/lib/python3.12/site-packages/numpy/_core/_methods.py:144: RuntimeWarning: invalid value encountered in scalar divide\n",
      "  ret = ret.dtype.type(ret / rcount)\n",
      "100%|██████████| 8/8 [00:03<00:00,  2.06it/s]\n",
      "[*] renewals:   0%|          | 0/1 [00:00<?, ?it/s]/home/raphael/Downloads/intugle_demo/env/lib/python3.12/site-packages/intugle/core/pipeline/key_identification/ki.py:87: SettingWithCopyWarning: \n",
      "A value is trying to be set on a copy of a slice from a DataFrame\n",
      "\n",
      "See the caveats in the documentation: https://pandas.pydata.org/pandas-docs/stable/user_guide/indexing.html#returning-a-view-versus-a-copy\n",
      "  temp.rename(columns={\"datatype_l1\": \"datatype\"}, inplace=True)\n",
      "[*] renewals: 100%|██████████| 1/1 [00:00<00:00,  1.22it/s]\n",
      "100%|██████████| 8/8 [00:12<00:00,  1.51s/it]\n",
      "/home/raphael/Downloads/intugle_demo/env/lib/python3.12/site-packages/numpy/_core/fromnumeric.py:3859: RuntimeWarning: Mean of empty slice.\n",
      "  return _methods._mean(a, axis=axis, dtype=dtype,\n",
      "/home/raphael/Downloads/intugle_demo/env/lib/python3.12/site-packages/numpy/_core/_methods.py:144: RuntimeWarning: invalid value encountered in scalar divide\n",
      "  ret = ret.dtype.type(ret / rcount)\n",
      "100%|██████████| 11/11 [00:06<00:00,  1.64it/s]\n",
      "[*] returns:   0%|          | 0/1 [00:00<?, ?it/s]/home/raphael/Downloads/intugle_demo/env/lib/python3.12/site-packages/intugle/core/pipeline/key_identification/ki.py:87: SettingWithCopyWarning: \n",
      "A value is trying to be set on a copy of a slice from a DataFrame\n",
      "\n",
      "See the caveats in the documentation: https://pandas.pydata.org/pandas-docs/stable/user_guide/indexing.html#returning-a-view-versus-a-copy\n",
      "  temp.rename(columns={\"datatype_l1\": \"datatype\"}, inplace=True)\n",
      "[*] returns: 100%|██████████| 1/1 [00:00<00:00,  1.01it/s]\n",
      "100%|██████████| 11/11 [00:15<00:00,  1.41s/it]\n",
      "/home/raphael/Downloads/intugle_demo/env/lib/python3.12/site-packages/numpy/_core/fromnumeric.py:3859: RuntimeWarning: Mean of empty slice.\n",
      "  return _methods._mean(a, axis=axis, dtype=dtype,\n",
      "/home/raphael/Downloads/intugle_demo/env/lib/python3.12/site-packages/numpy/_core/_methods.py:144: RuntimeWarning: invalid value encountered in scalar divide\n",
      "  ret = ret.dtype.type(ret / rcount)\n",
      "100%|██████████| 11/11 [00:08<00:00,  1.30it/s]\n",
      "[*] service_requests:   0%|          | 0/1 [00:00<?, ?it/s]/home/raphael/Downloads/intugle_demo/env/lib/python3.12/site-packages/intugle/core/pipeline/key_identification/ki.py:87: SettingWithCopyWarning: \n",
      "A value is trying to be set on a copy of a slice from a DataFrame\n",
      "\n",
      "See the caveats in the documentation: https://pandas.pydata.org/pandas-docs/stable/user_guide/indexing.html#returning-a-view-versus-a-copy\n",
      "  temp.rename(columns={\"datatype_l1\": \"datatype\"}, inplace=True)\n",
      "[*] service_requests: 100%|██████████| 1/1 [00:00<00:00,  1.61it/s]\n",
      "100%|██████████| 11/11 [00:17<00:00,  1.57s/it]\n",
      "/home/raphael/Downloads/intugle_demo/env/lib/python3.12/site-packages/numpy/_core/fromnumeric.py:3859: RuntimeWarning: Mean of empty slice.\n",
      "  return _methods._mean(a, axis=axis, dtype=dtype,\n",
      "/home/raphael/Downloads/intugle_demo/env/lib/python3.12/site-packages/numpy/_core/_methods.py:144: RuntimeWarning: invalid value encountered in scalar divide\n",
      "  ret = ret.dtype.type(ret / rcount)\n",
      "100%|██████████| 9/9 [00:06<00:00,  1.39it/s]\n",
      "[*] website:   0%|          | 0/1 [00:00<?, ?it/s]/home/raphael/Downloads/intugle_demo/env/lib/python3.12/site-packages/intugle/core/pipeline/key_identification/ki.py:87: SettingWithCopyWarning: \n",
      "A value is trying to be set on a copy of a slice from a DataFrame\n",
      "\n",
      "See the caveats in the documentation: https://pandas.pydata.org/pandas-docs/stable/user_guide/indexing.html#returning-a-view-versus-a-copy\n",
      "  temp.rename(columns={\"datatype_l1\": \"datatype\"}, inplace=True)\n",
      "[*] website: 100%|██████████| 1/1 [00:00<00:00,  1.93it/s]\n",
      "100%|██████████| 9/9 [00:13<00:00,  1.47s/it]\n"
     ]
    },
    {
     "name": "stdout",
     "output_type": "stream",
     "text": [
      "Dataset 'campaign_survey' already processed. Skipping analysis.\n",
      "Dataset 'campaigns' already processed. Skipping analysis.\n",
      "Dataset 'customer_hierarchy' already processed. Skipping analysis.\n",
      "Dataset 'customers' already processed. Skipping analysis.\n",
      "Dataset 'delivery_survey' already processed. Skipping analysis.\n",
      "Dataset 'expense' already processed. Skipping analysis.\n",
      "Dataset 'install_base' already processed. Skipping analysis.\n",
      "Dataset 'inventory' already processed. Skipping analysis.\n",
      "Dataset 'logistics' already processed. Skipping analysis.\n",
      "Dataset 'nps_survey' already processed. Skipping analysis.\n",
      "Dataset 'opportunity' already processed. Skipping analysis.\n",
      "Dataset 'orders' already processed. Skipping analysis.\n",
      "Dataset 'prob_statement_issue' already processed. Skipping analysis.\n",
      "Dataset 'product_feature' already processed. Skipping analysis.\n",
      "Dataset 'product_hierarchy' already processed. Skipping analysis.\n",
      "Dataset 'products' already processed. Skipping analysis.\n",
      "Dataset 'renewals' already processed. Skipping analysis.\n",
      "Dataset 'returns' already processed. Skipping analysis.\n",
      "Dataset 'service_requests' already processed. Skipping analysis.\n",
      "Dataset 'website' already processed. Skipping analysis.\n",
      "LinkPredictor initialized with datasets: ['campaign_survey', 'campaigns', 'customer_hierarchy', 'customers', 'delivery_survey', 'expense', 'install_base', 'inventory', 'logistics', 'nps_survey', 'opportunity', 'orders', 'prob_statement_issue', 'product_feature', 'product_hierarchy', 'products', 'renewals', 'returns', 'service_requests', 'website']\n",
      "\n",
      "--- Comparing 'campaign_survey' <=> 'campaigns' ---\n"
     ]
    },
    {
     "name": "stderr",
     "output_type": "stream",
     "text": [
      "[*] campaign_survey <==> campaigns Runs:1: 100%|██████████| 1/1 [00:00<00:00,  1.05it/s]\n"
     ]
    },
    {
     "name": "stdout",
     "output_type": "stream",
     "text": [
      "Found 1 potential link(s).\n",
      "\n",
      "--- Comparing 'campaign_survey' <=> 'customer_hierarchy' ---\n"
     ]
    },
    {
     "name": "stderr",
     "output_type": "stream",
     "text": [
      "[*] campaign_survey <==> customer_hierarchy Runs:1: 100%|██████████| 1/1 [00:00<00:00,  1.39it/s]\n"
     ]
    },
    {
     "name": "stdout",
     "output_type": "stream",
     "text": [
      "No links found for this pair.\n",
      "\n",
      "--- Comparing 'campaign_survey' <=> 'customers' ---\n"
     ]
    },
    {
     "name": "stderr",
     "output_type": "stream",
     "text": [
      "[*] campaign_survey <==> customers Runs:1: 100%|██████████| 1/1 [00:00<00:00,  1.42it/s]\n"
     ]
    },
    {
     "name": "stdout",
     "output_type": "stream",
     "text": [
      "No links found for this pair.\n",
      "\n",
      "--- Comparing 'campaign_survey' <=> 'delivery_survey' ---\n"
     ]
    },
    {
     "name": "stderr",
     "output_type": "stream",
     "text": [
      "[*] campaign_survey <==> delivery_survey Runs:1: 100%|██████████| 1/1 [00:00<00:00,  1.00it/s]\n"
     ]
    },
    {
     "name": "stdout",
     "output_type": "stream",
     "text": [
      "No links found for this pair.\n",
      "\n",
      "--- Comparing 'campaign_survey' <=> 'expense' ---\n"
     ]
    },
    {
     "name": "stderr",
     "output_type": "stream",
     "text": [
      "[*] campaign_survey <==> expense Runs:1: 100%|██████████| 1/1 [00:00<00:00,  1.06it/s]\n"
     ]
    },
    {
     "name": "stdout",
     "output_type": "stream",
     "text": [
      "No links found for this pair.\n",
      "\n",
      "--- Comparing 'campaign_survey' <=> 'install_base' ---\n"
     ]
    },
    {
     "name": "stderr",
     "output_type": "stream",
     "text": [
      "[*] campaign_survey <==> install_base Runs:1: 100%|██████████| 1/1 [00:00<00:00,  1.06it/s]\n"
     ]
    },
    {
     "name": "stdout",
     "output_type": "stream",
     "text": [
      "No links found for this pair.\n",
      "\n",
      "--- Comparing 'campaign_survey' <=> 'inventory' ---\n"
     ]
    },
    {
     "name": "stderr",
     "output_type": "stream",
     "text": [
      "[*] campaign_survey <==> inventory Runs:1: 100%|██████████| 1/1 [00:00<00:00,  1.07it/s]\n"
     ]
    },
    {
     "name": "stdout",
     "output_type": "stream",
     "text": [
      "No links found for this pair.\n",
      "\n",
      "--- Comparing 'campaign_survey' <=> 'logistics' ---\n"
     ]
    },
    {
     "name": "stderr",
     "output_type": "stream",
     "text": [
      "[*] campaign_survey <==> logistics Runs:1: 100%|██████████| 1/1 [00:00<00:00,  1.12it/s]\n"
     ]
    },
    {
     "name": "stdout",
     "output_type": "stream",
     "text": [
      "No links found for this pair.\n",
      "\n",
      "--- Comparing 'campaign_survey' <=> 'nps_survey' ---\n"
     ]
    },
    {
     "name": "stderr",
     "output_type": "stream",
     "text": [
      "[*] campaign_survey <==> nps_survey Runs:1: 100%|██████████| 1/1 [00:00<00:00,  1.08it/s]\n"
     ]
    },
    {
     "name": "stdout",
     "output_type": "stream",
     "text": [
      "No links found for this pair.\n",
      "\n",
      "--- Comparing 'campaign_survey' <=> 'opportunity' ---\n"
     ]
    },
    {
     "name": "stderr",
     "output_type": "stream",
     "text": [
      "[*] campaign_survey <==> opportunity Runs:1: 100%|██████████| 1/1 [00:01<00:00,  1.27s/it]\n"
     ]
    },
    {
     "name": "stdout",
     "output_type": "stream",
     "text": [
      "No links found for this pair.\n",
      "\n",
      "--- Comparing 'campaign_survey' <=> 'orders' ---\n"
     ]
    },
    {
     "name": "stderr",
     "output_type": "stream",
     "text": [
      "[*] campaign_survey <==> orders Runs:1: 100%|██████████| 1/1 [00:01<00:00,  1.35s/it]\n"
     ]
    },
    {
     "name": "stdout",
     "output_type": "stream",
     "text": [
      "No links found for this pair.\n",
      "\n",
      "--- Comparing 'campaign_survey' <=> 'prob_statement_issue' ---\n"
     ]
    },
    {
     "name": "stderr",
     "output_type": "stream",
     "text": [
      "[*] campaign_survey <==> prob_statement_issue Runs:1: 100%|██████████| 1/1 [00:01<00:00,  1.38s/it]\n"
     ]
    },
    {
     "name": "stdout",
     "output_type": "stream",
     "text": [
      "No links found for this pair.\n",
      "\n",
      "--- Comparing 'campaign_survey' <=> 'product_feature' ---\n"
     ]
    },
    {
     "name": "stderr",
     "output_type": "stream",
     "text": [
      "[*] campaign_survey <==> product_feature Runs:1: 100%|██████████| 1/1 [00:01<00:00,  1.17s/it]\n"
     ]
    },
    {
     "name": "stdout",
     "output_type": "stream",
     "text": [
      "No links found for this pair.\n",
      "\n",
      "--- Comparing 'campaign_survey' <=> 'product_hierarchy' ---\n"
     ]
    },
    {
     "name": "stderr",
     "output_type": "stream",
     "text": [
      "[*] campaign_survey <==> product_hierarchy Runs:1: 100%|██████████| 1/1 [00:00<00:00,  1.62it/s]\n"
     ]
    },
    {
     "name": "stdout",
     "output_type": "stream",
     "text": [
      "No links found for this pair.\n",
      "\n",
      "--- Comparing 'campaign_survey' <=> 'products' ---\n"
     ]
    },
    {
     "name": "stderr",
     "output_type": "stream",
     "text": [
      "[*] campaign_survey <==> products Runs:1: 100%|██████████| 1/1 [00:00<00:00,  1.08it/s]\n"
     ]
    },
    {
     "name": "stdout",
     "output_type": "stream",
     "text": [
      "No links found for this pair.\n",
      "\n",
      "--- Comparing 'campaign_survey' <=> 'renewals' ---\n"
     ]
    },
    {
     "name": "stderr",
     "output_type": "stream",
     "text": [
      "[*] campaign_survey <==> renewals Runs:1: 100%|██████████| 1/1 [00:00<00:00,  1.12it/s]\n"
     ]
    },
    {
     "name": "stdout",
     "output_type": "stream",
     "text": [
      "No links found for this pair.\n",
      "\n",
      "--- Comparing 'campaign_survey' <=> 'returns' ---\n"
     ]
    },
    {
     "name": "stderr",
     "output_type": "stream",
     "text": [
      "[*] campaign_survey <==> returns Runs:1: 100%|██████████| 1/1 [00:01<00:00,  1.05s/it]\n"
     ]
    },
    {
     "name": "stdout",
     "output_type": "stream",
     "text": [
      "No links found for this pair.\n",
      "\n",
      "--- Comparing 'campaign_survey' <=> 'service_requests' ---\n"
     ]
    },
    {
     "name": "stderr",
     "output_type": "stream",
     "text": [
      "[*] campaign_survey <==> service_requests Runs:1: 100%|██████████| 1/1 [00:01<00:00,  1.25s/it]\n"
     ]
    },
    {
     "name": "stdout",
     "output_type": "stream",
     "text": [
      "No links found for this pair.\n",
      "\n",
      "--- Comparing 'campaign_survey' <=> 'website' ---\n"
     ]
    },
    {
     "name": "stderr",
     "output_type": "stream",
     "text": [
      "[*] campaign_survey <==> website Runs:1: 100%|██████████| 1/1 [00:02<00:00,  2.35s/it]\n"
     ]
    },
    {
     "name": "stdout",
     "output_type": "stream",
     "text": [
      "No links found for this pair.\n",
      "\n",
      "--- Comparing 'campaigns' <=> 'customer_hierarchy' ---\n"
     ]
    },
    {
     "name": "stderr",
     "output_type": "stream",
     "text": [
      "[*] campaigns <==> customer_hierarchy Runs:1: 100%|██████████| 1/1 [00:02<00:00,  2.93s/it]\n"
     ]
    },
    {
     "name": "stdout",
     "output_type": "stream",
     "text": [
      "No links found for this pair.\n",
      "\n",
      "--- Comparing 'campaigns' <=> 'customers' ---\n"
     ]
    },
    {
     "name": "stderr",
     "output_type": "stream",
     "text": [
      "[*] campaigns <==> customers Runs:1: 100%|██████████| 1/1 [00:11<00:00, 11.43s/it]\n"
     ]
    },
    {
     "name": "stdout",
     "output_type": "stream",
     "text": [
      "Found 1 potential link(s).\n",
      "\n",
      "--- Comparing 'campaigns' <=> 'delivery_survey' ---\n"
     ]
    },
    {
     "name": "stderr",
     "output_type": "stream",
     "text": [
      "[*] campaigns <==> delivery_survey Runs:1: 100%|██████████| 1/1 [00:06<00:00,  6.78s/it]\n"
     ]
    },
    {
     "name": "stdout",
     "output_type": "stream",
     "text": [
      "No links found for this pair.\n",
      "\n",
      "--- Comparing 'campaigns' <=> 'expense' ---\n"
     ]
    },
    {
     "name": "stderr",
     "output_type": "stream",
     "text": [
      "[*] campaigns <==> expense Runs:1: 100%|██████████| 1/1 [00:08<00:00,  8.29s/it]\n"
     ]
    },
    {
     "name": "stdout",
     "output_type": "stream",
     "text": [
      "No links found for this pair.\n",
      "\n",
      "--- Comparing 'campaigns' <=> 'install_base' ---\n"
     ]
    },
    {
     "name": "stderr",
     "output_type": "stream",
     "text": [
      "[*] campaigns <==> install_base Runs:1: 100%|██████████| 1/1 [00:04<00:00,  4.99s/it]\n"
     ]
    },
    {
     "name": "stdout",
     "output_type": "stream",
     "text": [
      "No links found for this pair.\n",
      "\n",
      "--- Comparing 'campaigns' <=> 'inventory' ---\n"
     ]
    },
    {
     "name": "stderr",
     "output_type": "stream",
     "text": [
      "[*] campaigns <==> inventory Runs:1: 100%|██████████| 1/1 [00:02<00:00,  2.30s/it]\n"
     ]
    },
    {
     "name": "stdout",
     "output_type": "stream",
     "text": [
      "No links found for this pair.\n",
      "\n",
      "--- Comparing 'campaigns' <=> 'logistics' ---\n"
     ]
    },
    {
     "name": "stderr",
     "output_type": "stream",
     "text": [
      "[*] campaigns <==> logistics Runs:1: 100%|██████████| 1/1 [00:01<00:00,  1.59s/it]\n"
     ]
    },
    {
     "name": "stdout",
     "output_type": "stream",
     "text": [
      "No links found for this pair.\n",
      "\n",
      "--- Comparing 'campaigns' <=> 'nps_survey' ---\n"
     ]
    },
    {
     "name": "stderr",
     "output_type": "stream",
     "text": [
      "[*] campaigns <==> nps_survey Runs:1: 100%|██████████| 1/1 [00:04<00:00,  4.39s/it]\n"
     ]
    },
    {
     "name": "stdout",
     "output_type": "stream",
     "text": [
      "No links found for this pair.\n",
      "\n",
      "--- Comparing 'campaigns' <=> 'opportunity' ---\n"
     ]
    },
    {
     "name": "stderr",
     "output_type": "stream",
     "text": [
      "[*] campaigns <==> opportunity Runs:1: 100%|██████████| 1/1 [00:01<00:00,  1.66s/it]\n"
     ]
    },
    {
     "name": "stdout",
     "output_type": "stream",
     "text": [
      "No links found for this pair.\n",
      "\n",
      "--- Comparing 'campaigns' <=> 'orders' ---\n"
     ]
    },
    {
     "name": "stderr",
     "output_type": "stream",
     "text": [
      "[*] campaigns <==> orders Runs:1: 100%|██████████| 1/1 [00:02<00:00,  2.43s/it]\n"
     ]
    },
    {
     "name": "stdout",
     "output_type": "stream",
     "text": [
      "No links found for this pair.\n",
      "\n",
      "--- Comparing 'campaigns' <=> 'prob_statement_issue' ---\n"
     ]
    },
    {
     "name": "stderr",
     "output_type": "stream",
     "text": [
      "[*] campaigns <==> prob_statement_issue Runs:1: 100%|██████████| 1/1 [00:03<00:00,  3.27s/it]\n"
     ]
    },
    {
     "name": "stdout",
     "output_type": "stream",
     "text": [
      "No links found for this pair.\n",
      "\n",
      "--- Comparing 'campaigns' <=> 'product_feature' ---\n"
     ]
    },
    {
     "name": "stderr",
     "output_type": "stream",
     "text": [
      "[*] campaigns <==> product_feature Runs:1: 100%|██████████| 1/1 [00:02<00:00,  2.21s/it]\n"
     ]
    },
    {
     "name": "stdout",
     "output_type": "stream",
     "text": [
      "No links found for this pair.\n",
      "\n",
      "--- Comparing 'campaigns' <=> 'product_hierarchy' ---\n"
     ]
    },
    {
     "name": "stderr",
     "output_type": "stream",
     "text": [
      "[*] campaigns <==> product_hierarchy Runs:1: 100%|██████████| 1/1 [00:02<00:00,  2.44s/it]\n"
     ]
    },
    {
     "name": "stdout",
     "output_type": "stream",
     "text": [
      "No links found for this pair.\n",
      "\n",
      "--- Comparing 'campaigns' <=> 'products' ---\n"
     ]
    },
    {
     "name": "stderr",
     "output_type": "stream",
     "text": [
      "[*] campaigns <==> products Runs:1: 100%|██████████| 1/1 [00:00<00:00,  1.08it/s]\n"
     ]
    },
    {
     "name": "stdout",
     "output_type": "stream",
     "text": [
      "Found 1 potential link(s).\n",
      "\n",
      "--- Comparing 'campaigns' <=> 'renewals' ---\n"
     ]
    },
    {
     "name": "stderr",
     "output_type": "stream",
     "text": [
      "[*] campaigns <==> renewals Runs:1: 100%|██████████| 1/1 [00:02<00:00,  2.24s/it]\n"
     ]
    },
    {
     "name": "stdout",
     "output_type": "stream",
     "text": [
      "No links found for this pair.\n",
      "\n",
      "--- Comparing 'campaigns' <=> 'returns' ---\n"
     ]
    },
    {
     "name": "stderr",
     "output_type": "stream",
     "text": [
      "[*] campaigns <==> returns Runs:1: 100%|██████████| 1/1 [00:12<00:00, 12.29s/it]\n"
     ]
    },
    {
     "name": "stdout",
     "output_type": "stream",
     "text": [
      "No links found for this pair.\n",
      "\n",
      "--- Comparing 'campaigns' <=> 'service_requests' ---\n"
     ]
    },
    {
     "name": "stderr",
     "output_type": "stream",
     "text": [
      "[*] campaigns <==> service_requests Runs:1: 100%|██████████| 1/1 [00:11<00:00, 11.56s/it]\n"
     ]
    },
    {
     "name": "stdout",
     "output_type": "stream",
     "text": [
      "No links found for this pair.\n",
      "\n",
      "--- Comparing 'campaigns' <=> 'website' ---\n"
     ]
    },
    {
     "name": "stderr",
     "output_type": "stream",
     "text": [
      "[*] campaigns <==> website Runs:1: 100%|██████████| 1/1 [00:03<00:00,  3.06s/it]\n"
     ]
    },
    {
     "name": "stdout",
     "output_type": "stream",
     "text": [
      "Found 1 potential link(s).\n",
      "\n",
      "--- Comparing 'customer_hierarchy' <=> 'customers' ---\n"
     ]
    },
    {
     "name": "stderr",
     "output_type": "stream",
     "text": [
      "[*] customer_hierarchy <==> customers Runs:1: 100%|██████████| 1/1 [00:01<00:00,  1.07s/it]\n"
     ]
    },
    {
     "name": "stdout",
     "output_type": "stream",
     "text": [
      "Found 1 potential link(s).\n",
      "\n",
      "--- Comparing 'customer_hierarchy' <=> 'delivery_survey' ---\n"
     ]
    },
    {
     "name": "stderr",
     "output_type": "stream",
     "text": [
      "[*] customer_hierarchy <==> delivery_survey Runs:1: 100%|██████████| 1/1 [00:04<00:00,  4.85s/it]\n"
     ]
    },
    {
     "name": "stdout",
     "output_type": "stream",
     "text": [
      "No links found for this pair.\n",
      "\n",
      "--- Comparing 'customer_hierarchy' <=> 'expense' ---\n"
     ]
    },
    {
     "name": "stderr",
     "output_type": "stream",
     "text": [
      "[*] customer_hierarchy <==> expense Runs:1: 100%|██████████| 1/1 [00:02<00:00,  2.50s/it]\n"
     ]
    },
    {
     "name": "stdout",
     "output_type": "stream",
     "text": [
      "No links found for this pair.\n",
      "\n",
      "--- Comparing 'customer_hierarchy' <=> 'install_base' ---\n"
     ]
    },
    {
     "name": "stderr",
     "output_type": "stream",
     "text": [
      "[*] customer_hierarchy <==> install_base Runs:1: 100%|██████████| 1/1 [00:01<00:00,  1.84s/it]\n"
     ]
    },
    {
     "name": "stdout",
     "output_type": "stream",
     "text": [
      "No links found for this pair.\n",
      "\n",
      "--- Comparing 'customer_hierarchy' <=> 'inventory' ---\n"
     ]
    },
    {
     "name": "stderr",
     "output_type": "stream",
     "text": [
      "[*] customer_hierarchy <==> inventory Runs:1: 100%|██████████| 1/1 [00:01<00:00,  1.97s/it]\n"
     ]
    },
    {
     "name": "stdout",
     "output_type": "stream",
     "text": [
      "No links found for this pair.\n",
      "\n",
      "--- Comparing 'customer_hierarchy' <=> 'logistics' ---\n"
     ]
    },
    {
     "name": "stderr",
     "output_type": "stream",
     "text": [
      "[*] customer_hierarchy <==> logistics Runs:1: 100%|██████████| 1/1 [00:03<00:00,  3.58s/it]\n"
     ]
    },
    {
     "name": "stdout",
     "output_type": "stream",
     "text": [
      "No links found for this pair.\n",
      "\n",
      "--- Comparing 'customer_hierarchy' <=> 'nps_survey' ---\n"
     ]
    },
    {
     "name": "stderr",
     "output_type": "stream",
     "text": [
      "[*] customer_hierarchy <==> nps_survey Runs:1: 100%|██████████| 1/1 [00:02<00:00,  2.24s/it]\n"
     ]
    },
    {
     "name": "stdout",
     "output_type": "stream",
     "text": [
      "No links found for this pair.\n",
      "\n",
      "--- Comparing 'customer_hierarchy' <=> 'opportunity' ---\n"
     ]
    },
    {
     "name": "stderr",
     "output_type": "stream",
     "text": [
      "[*] customer_hierarchy <==> opportunity Runs:1: 100%|██████████| 1/1 [00:02<00:00,  2.34s/it]\n"
     ]
    },
    {
     "name": "stdout",
     "output_type": "stream",
     "text": [
      "No links found for this pair.\n",
      "\n",
      "--- Comparing 'customer_hierarchy' <=> 'orders' ---\n"
     ]
    },
    {
     "name": "stderr",
     "output_type": "stream",
     "text": [
      "[*] customer_hierarchy <==> orders Runs:1: 100%|██████████| 1/1 [00:02<00:00,  2.53s/it]\n"
     ]
    },
    {
     "name": "stdout",
     "output_type": "stream",
     "text": [
      "No links found for this pair.\n",
      "\n",
      "--- Comparing 'customer_hierarchy' <=> 'prob_statement_issue' ---\n"
     ]
    },
    {
     "name": "stderr",
     "output_type": "stream",
     "text": [
      "[*] customer_hierarchy <==> prob_statement_issue Runs:1: 100%|██████████| 1/1 [00:01<00:00,  1.27s/it]\n"
     ]
    },
    {
     "name": "stdout",
     "output_type": "stream",
     "text": [
      "No links found for this pair.\n",
      "\n",
      "--- Comparing 'customer_hierarchy' <=> 'product_feature' ---\n"
     ]
    },
    {
     "name": "stderr",
     "output_type": "stream",
     "text": [
      "[*] customer_hierarchy <==> product_feature Runs:1: 100%|██████████| 1/1 [00:01<00:00,  1.05s/it]\n"
     ]
    },
    {
     "name": "stdout",
     "output_type": "stream",
     "text": [
      "No links found for this pair.\n",
      "\n",
      "--- Comparing 'customer_hierarchy' <=> 'product_hierarchy' ---\n"
     ]
    },
    {
     "name": "stderr",
     "output_type": "stream",
     "text": [
      "[*] customer_hierarchy <==> product_hierarchy Runs:1: 100%|██████████| 1/1 [00:01<00:00,  1.02s/it]\n"
     ]
    },
    {
     "name": "stdout",
     "output_type": "stream",
     "text": [
      "No links found for this pair.\n",
      "\n",
      "--- Comparing 'customer_hierarchy' <=> 'products' ---\n"
     ]
    },
    {
     "name": "stderr",
     "output_type": "stream",
     "text": [
      "[*] customer_hierarchy <==> products Runs:1: 100%|██████████| 1/1 [00:01<00:00,  1.25s/it]\n"
     ]
    },
    {
     "name": "stdout",
     "output_type": "stream",
     "text": [
      "No links found for this pair.\n",
      "\n",
      "--- Comparing 'customer_hierarchy' <=> 'renewals' ---\n"
     ]
    },
    {
     "name": "stderr",
     "output_type": "stream",
     "text": [
      "[*] customer_hierarchy <==> renewals Runs:1: 100%|██████████| 1/1 [00:02<00:00,  2.81s/it]\n"
     ]
    },
    {
     "name": "stdout",
     "output_type": "stream",
     "text": [
      "No links found for this pair.\n",
      "\n",
      "--- Comparing 'customer_hierarchy' <=> 'returns' ---\n"
     ]
    },
    {
     "name": "stderr",
     "output_type": "stream",
     "text": [
      "[*] customer_hierarchy <==> returns Runs:1: 100%|██████████| 1/1 [00:02<00:00,  2.57s/it]\n"
     ]
    },
    {
     "name": "stdout",
     "output_type": "stream",
     "text": [
      "No links found for this pair.\n",
      "\n",
      "--- Comparing 'customer_hierarchy' <=> 'service_requests' ---\n"
     ]
    },
    {
     "name": "stderr",
     "output_type": "stream",
     "text": [
      "[*] customer_hierarchy <==> service_requests Runs:1: 100%|██████████| 1/1 [00:15<00:00, 16.00s/it]\n"
     ]
    },
    {
     "name": "stdout",
     "output_type": "stream",
     "text": [
      "No links found for this pair.\n",
      "\n",
      "--- Comparing 'customer_hierarchy' <=> 'website' ---\n"
     ]
    },
    {
     "name": "stderr",
     "output_type": "stream",
     "text": [
      "[*] customer_hierarchy <==> website Runs:1: 100%|██████████| 1/1 [00:03<00:00,  3.36s/it]\n"
     ]
    },
    {
     "name": "stdout",
     "output_type": "stream",
     "text": [
      "No links found for this pair.\n",
      "\n",
      "--- Comparing 'customers' <=> 'delivery_survey' ---\n"
     ]
    },
    {
     "name": "stderr",
     "output_type": "stream",
     "text": [
      "[*] customers <==> delivery_survey Runs:1: 100%|██████████| 1/1 [00:03<00:00,  3.13s/it]\n"
     ]
    },
    {
     "name": "stdout",
     "output_type": "stream",
     "text": [
      "Found 1 potential link(s).\n",
      "\n",
      "--- Comparing 'customers' <=> 'expense' ---\n"
     ]
    },
    {
     "name": "stderr",
     "output_type": "stream",
     "text": [
      "[*] customers <==> expense Runs:1: 100%|██████████| 1/1 [00:01<00:00,  1.01s/it]\n"
     ]
    },
    {
     "name": "stdout",
     "output_type": "stream",
     "text": [
      "Found 1 potential link(s).\n",
      "\n",
      "--- Comparing 'customers' <=> 'install_base' ---\n"
     ]
    },
    {
     "name": "stderr",
     "output_type": "stream",
     "text": [
      "[*] customers <==> install_base Runs:1: 100%|██████████| 1/1 [00:02<00:00,  2.15s/it]\n"
     ]
    },
    {
     "name": "stdout",
     "output_type": "stream",
     "text": [
      "Found 1 potential link(s).\n",
      "\n",
      "--- Comparing 'customers' <=> 'inventory' ---\n"
     ]
    },
    {
     "name": "stderr",
     "output_type": "stream",
     "text": [
      "[*] customers <==> inventory Runs:1: 100%|██████████| 1/1 [00:02<00:00,  2.46s/it]\n"
     ]
    },
    {
     "name": "stdout",
     "output_type": "stream",
     "text": [
      "No links found for this pair.\n",
      "\n",
      "--- Comparing 'customers' <=> 'logistics' ---\n"
     ]
    },
    {
     "name": "stderr",
     "output_type": "stream",
     "text": [
      "[*] customers <==> logistics Runs:1: 100%|██████████| 1/1 [00:01<00:00,  1.07s/it]\n"
     ]
    },
    {
     "name": "stdout",
     "output_type": "stream",
     "text": [
      "Found 1 potential link(s).\n",
      "\n",
      "--- Comparing 'customers' <=> 'nps_survey' ---\n"
     ]
    },
    {
     "name": "stderr",
     "output_type": "stream",
     "text": [
      "[*] customers <==> nps_survey Runs:1: 100%|██████████| 1/1 [00:00<00:00,  1.00it/s]\n"
     ]
    },
    {
     "name": "stdout",
     "output_type": "stream",
     "text": [
      "Found 1 potential link(s).\n",
      "\n",
      "--- Comparing 'customers' <=> 'opportunity' ---\n"
     ]
    },
    {
     "name": "stderr",
     "output_type": "stream",
     "text": [
      "[*] customers <==> opportunity Runs:1: 100%|██████████| 1/1 [00:01<00:00,  1.05s/it]\n"
     ]
    },
    {
     "name": "stdout",
     "output_type": "stream",
     "text": [
      "Found 1 potential link(s).\n",
      "\n",
      "--- Comparing 'customers' <=> 'orders' ---\n"
     ]
    },
    {
     "name": "stderr",
     "output_type": "stream",
     "text": [
      "[*] customers <==> orders Runs:1: 100%|██████████| 1/1 [00:00<00:00,  1.13it/s]\n"
     ]
    },
    {
     "name": "stdout",
     "output_type": "stream",
     "text": [
      "Found 1 potential link(s).\n",
      "\n",
      "--- Comparing 'customers' <=> 'prob_statement_issue' ---\n"
     ]
    },
    {
     "name": "stderr",
     "output_type": "stream",
     "text": [
      "[*] customers <==> prob_statement_issue Runs:1: 100%|██████████| 1/1 [00:01<00:00,  1.27s/it]\n"
     ]
    },
    {
     "name": "stdout",
     "output_type": "stream",
     "text": [
      "No links found for this pair.\n",
      "\n",
      "--- Comparing 'customers' <=> 'product_feature' ---\n"
     ]
    },
    {
     "name": "stderr",
     "output_type": "stream",
     "text": [
      "[*] customers <==> product_feature Runs:1: 100%|██████████| 1/1 [00:01<00:00,  1.43s/it]\n"
     ]
    },
    {
     "name": "stdout",
     "output_type": "stream",
     "text": [
      "No links found for this pair.\n",
      "\n",
      "--- Comparing 'customers' <=> 'product_hierarchy' ---\n"
     ]
    },
    {
     "name": "stderr",
     "output_type": "stream",
     "text": [
      "[*] customers <==> product_hierarchy Runs:1: 100%|██████████| 1/1 [00:00<00:00,  1.01it/s]\n"
     ]
    },
    {
     "name": "stdout",
     "output_type": "stream",
     "text": [
      "No links found for this pair.\n",
      "\n",
      "--- Comparing 'customers' <=> 'products' ---\n"
     ]
    },
    {
     "name": "stderr",
     "output_type": "stream",
     "text": [
      "[*] customers <==> products Runs:1: 100%|██████████| 1/1 [00:01<00:00,  1.29s/it]\n"
     ]
    },
    {
     "name": "stdout",
     "output_type": "stream",
     "text": [
      "No links found for this pair.\n",
      "\n",
      "--- Comparing 'customers' <=> 'renewals' ---\n"
     ]
    },
    {
     "name": "stderr",
     "output_type": "stream",
     "text": [
      "[*] customers <==> renewals Runs:1: 100%|██████████| 1/1 [00:00<00:00,  1.05it/s]\n"
     ]
    },
    {
     "name": "stdout",
     "output_type": "stream",
     "text": [
      "Found 1 potential link(s).\n",
      "\n",
      "--- Comparing 'customers' <=> 'returns' ---\n"
     ]
    },
    {
     "name": "stderr",
     "output_type": "stream",
     "text": [
      "[*] customers <==> returns Runs:1: 100%|██████████| 1/1 [00:00<00:00,  1.04it/s]\n"
     ]
    },
    {
     "name": "stdout",
     "output_type": "stream",
     "text": [
      "Found 1 potential link(s).\n",
      "\n",
      "--- Comparing 'customers' <=> 'service_requests' ---\n"
     ]
    },
    {
     "name": "stderr",
     "output_type": "stream",
     "text": [
      "[*] customers <==> service_requests Runs:1: 100%|██████████| 1/1 [00:01<00:00,  1.53s/it]\n"
     ]
    },
    {
     "name": "stdout",
     "output_type": "stream",
     "text": [
      "Found 1 potential link(s).\n",
      "\n",
      "--- Comparing 'customers' <=> 'website' ---\n"
     ]
    },
    {
     "name": "stderr",
     "output_type": "stream",
     "text": [
      "[*] customers <==> website Runs:1: 100%|██████████| 1/1 [00:00<00:00,  1.05it/s]\n"
     ]
    },
    {
     "name": "stdout",
     "output_type": "stream",
     "text": [
      "No links found for this pair.\n",
      "\n",
      "--- Comparing 'delivery_survey' <=> 'expense' ---\n"
     ]
    },
    {
     "name": "stderr",
     "output_type": "stream",
     "text": [
      "[*] delivery_survey <==> expense Runs:1: 100%|██████████| 1/1 [00:02<00:00,  2.80s/it]\n"
     ]
    },
    {
     "name": "stdout",
     "output_type": "stream",
     "text": [
      "No links found for this pair.\n",
      "\n",
      "--- Comparing 'delivery_survey' <=> 'install_base' ---\n"
     ]
    },
    {
     "name": "stderr",
     "output_type": "stream",
     "text": [
      "[*] delivery_survey <==> install_base Runs:1: 100%|██████████| 1/1 [00:01<00:00,  1.07s/it]\n"
     ]
    },
    {
     "name": "stdout",
     "output_type": "stream",
     "text": [
      "Found 1 potential link(s).\n",
      "\n",
      "--- Comparing 'delivery_survey' <=> 'inventory' ---\n"
     ]
    },
    {
     "name": "stderr",
     "output_type": "stream",
     "text": [
      "[*] delivery_survey <==> inventory Runs:1: 100%|██████████| 1/1 [00:02<00:00,  2.81s/it]\n"
     ]
    },
    {
     "name": "stdout",
     "output_type": "stream",
     "text": [
      "No links found for this pair.\n",
      "\n",
      "--- Comparing 'delivery_survey' <=> 'logistics' ---\n"
     ]
    },
    {
     "name": "stderr",
     "output_type": "stream",
     "text": [
      "[*] delivery_survey <==> logistics Runs:1: 100%|██████████| 1/1 [00:02<00:00,  2.81s/it]\n"
     ]
    },
    {
     "name": "stdout",
     "output_type": "stream",
     "text": [
      "No links found for this pair.\n",
      "\n",
      "--- Comparing 'delivery_survey' <=> 'nps_survey' ---\n"
     ]
    },
    {
     "name": "stderr",
     "output_type": "stream",
     "text": [
      "[*] delivery_survey <==> nps_survey Runs:1: 100%|██████████| 1/1 [00:02<00:00,  2.46s/it]\n"
     ]
    },
    {
     "name": "stdout",
     "output_type": "stream",
     "text": [
      "No links found for this pair.\n",
      "\n",
      "--- Comparing 'delivery_survey' <=> 'opportunity' ---\n"
     ]
    },
    {
     "name": "stderr",
     "output_type": "stream",
     "text": [
      "[*] delivery_survey <==> opportunity Runs:1: 100%|██████████| 1/1 [00:09<00:00,  9.58s/it]\n"
     ]
    },
    {
     "name": "stdout",
     "output_type": "stream",
     "text": [
      "No links found for this pair.\n",
      "\n",
      "--- Comparing 'delivery_survey' <=> 'orders' ---\n"
     ]
    },
    {
     "name": "stderr",
     "output_type": "stream",
     "text": [
      "[*] delivery_survey <==> orders Runs:1: 100%|██████████| 1/1 [00:10<00:00, 10.19s/it]\n"
     ]
    },
    {
     "name": "stdout",
     "output_type": "stream",
     "text": [
      "Found 1 potential link(s).\n",
      "\n",
      "--- Comparing 'delivery_survey' <=> 'prob_statement_issue' ---\n"
     ]
    },
    {
     "name": "stderr",
     "output_type": "stream",
     "text": [
      "[*] delivery_survey <==> prob_statement_issue Runs:1: 100%|██████████| 1/1 [00:05<00:00,  5.08s/it]\n"
     ]
    },
    {
     "name": "stdout",
     "output_type": "stream",
     "text": [
      "No links found for this pair.\n",
      "\n",
      "--- Comparing 'delivery_survey' <=> 'product_feature' ---\n"
     ]
    },
    {
     "name": "stderr",
     "output_type": "stream",
     "text": [
      "[*] delivery_survey <==> product_feature Runs:1: 100%|██████████| 1/1 [00:04<00:00,  4.39s/it]\n"
     ]
    },
    {
     "name": "stdout",
     "output_type": "stream",
     "text": [
      "No links found for this pair.\n",
      "\n",
      "--- Comparing 'delivery_survey' <=> 'product_hierarchy' ---\n"
     ]
    },
    {
     "name": "stderr",
     "output_type": "stream",
     "text": [
      "[*] delivery_survey <==> product_hierarchy Runs:1: 100%|██████████| 1/1 [00:02<00:00,  2.23s/it]\n"
     ]
    },
    {
     "name": "stdout",
     "output_type": "stream",
     "text": [
      "No links found for this pair.\n",
      "\n",
      "--- Comparing 'delivery_survey' <=> 'products' ---\n"
     ]
    },
    {
     "name": "stderr",
     "output_type": "stream",
     "text": [
      "[*] delivery_survey <==> products Runs:1: 100%|██████████| 1/1 [00:01<00:00,  1.07s/it]\n"
     ]
    },
    {
     "name": "stdout",
     "output_type": "stream",
     "text": [
      "Found 1 potential link(s).\n",
      "\n",
      "--- Comparing 'delivery_survey' <=> 'renewals' ---\n"
     ]
    },
    {
     "name": "stderr",
     "output_type": "stream",
     "text": [
      "[*] delivery_survey <==> renewals Runs:1: 100%|██████████| 1/1 [00:00<00:00,  1.04it/s]\n"
     ]
    },
    {
     "name": "stdout",
     "output_type": "stream",
     "text": [
      "Found 1 potential link(s).\n",
      "\n",
      "--- Comparing 'delivery_survey' <=> 'returns' ---\n"
     ]
    },
    {
     "name": "stderr",
     "output_type": "stream",
     "text": [
      "[*] delivery_survey <==> returns Runs:1: 100%|██████████| 1/1 [00:01<00:00,  1.63s/it]\n"
     ]
    },
    {
     "name": "stdout",
     "output_type": "stream",
     "text": [
      "Found 1 potential link(s).\n",
      "\n",
      "--- Comparing 'delivery_survey' <=> 'service_requests' ---\n"
     ]
    },
    {
     "name": "stderr",
     "output_type": "stream",
     "text": [
      "[*] delivery_survey <==> service_requests Runs:1: 100%|██████████| 1/1 [00:06<00:00,  6.48s/it]\n"
     ]
    },
    {
     "name": "stdout",
     "output_type": "stream",
     "text": [
      "No links found for this pair.\n",
      "\n",
      "--- Comparing 'delivery_survey' <=> 'website' ---\n"
     ]
    },
    {
     "name": "stderr",
     "output_type": "stream",
     "text": [
      "[*] delivery_survey <==> website Runs:1: 100%|██████████| 1/1 [00:04<00:00,  4.65s/it]\n"
     ]
    },
    {
     "name": "stdout",
     "output_type": "stream",
     "text": [
      "No links found for this pair.\n",
      "\n",
      "--- Comparing 'expense' <=> 'install_base' ---\n"
     ]
    },
    {
     "name": "stderr",
     "output_type": "stream",
     "text": [
      "[*] expense <==> install_base Runs:1: 100%|██████████| 1/1 [00:01<00:00,  1.68s/it]\n"
     ]
    },
    {
     "name": "stdout",
     "output_type": "stream",
     "text": [
      "No links found for this pair.\n",
      "\n",
      "--- Comparing 'expense' <=> 'inventory' ---\n"
     ]
    },
    {
     "name": "stderr",
     "output_type": "stream",
     "text": [
      "[*] expense <==> inventory Runs:1: 100%|██████████| 1/1 [00:01<00:00,  1.08s/it]\n"
     ]
    },
    {
     "name": "stdout",
     "output_type": "stream",
     "text": [
      "Found 1 potential link(s).\n",
      "\n",
      "--- Comparing 'expense' <=> 'logistics' ---\n"
     ]
    },
    {
     "name": "stderr",
     "output_type": "stream",
     "text": [
      "[*] expense <==> logistics Runs:1: 100%|██████████| 1/1 [00:02<00:00,  2.69s/it]\n"
     ]
    },
    {
     "name": "stdout",
     "output_type": "stream",
     "text": [
      "No links found for this pair.\n",
      "\n",
      "--- Comparing 'expense' <=> 'nps_survey' ---\n"
     ]
    },
    {
     "name": "stderr",
     "output_type": "stream",
     "text": [
      "[*] expense <==> nps_survey Runs:1: 100%|██████████| 1/1 [00:02<00:00,  2.29s/it]\n"
     ]
    },
    {
     "name": "stdout",
     "output_type": "stream",
     "text": [
      "No links found for this pair.\n",
      "\n",
      "--- Comparing 'expense' <=> 'opportunity' ---\n"
     ]
    },
    {
     "name": "stderr",
     "output_type": "stream",
     "text": [
      "[*] expense <==> opportunity Runs:1: 100%|██████████| 1/1 [00:02<00:00,  2.35s/it]\n"
     ]
    },
    {
     "name": "stdout",
     "output_type": "stream",
     "text": [
      "No links found for this pair.\n",
      "\n",
      "--- Comparing 'expense' <=> 'orders' ---\n"
     ]
    },
    {
     "name": "stderr",
     "output_type": "stream",
     "text": [
      "[*] expense <==> orders Runs:1: 100%|██████████| 1/1 [00:02<00:00,  2.38s/it]\n"
     ]
    },
    {
     "name": "stdout",
     "output_type": "stream",
     "text": [
      "No links found for this pair.\n",
      "\n",
      "--- Comparing 'expense' <=> 'prob_statement_issue' ---\n"
     ]
    },
    {
     "name": "stderr",
     "output_type": "stream",
     "text": [
      "[*] expense <==> prob_statement_issue Runs:1: 100%|██████████| 1/1 [00:06<00:00,  6.00s/it]\n"
     ]
    },
    {
     "name": "stdout",
     "output_type": "stream",
     "text": [
      "No links found for this pair.\n",
      "\n",
      "--- Comparing 'expense' <=> 'product_feature' ---\n"
     ]
    },
    {
     "name": "stderr",
     "output_type": "stream",
     "text": [
      "[*] expense <==> product_feature Runs:1: 100%|██████████| 1/1 [00:08<00:00,  8.87s/it]\n"
     ]
    },
    {
     "name": "stdout",
     "output_type": "stream",
     "text": [
      "No links found for this pair.\n",
      "\n",
      "--- Comparing 'expense' <=> 'product_hierarchy' ---\n"
     ]
    },
    {
     "name": "stderr",
     "output_type": "stream",
     "text": [
      "[*] expense <==> product_hierarchy Runs:1: 100%|██████████| 1/1 [00:03<00:00,  3.06s/it]\n"
     ]
    },
    {
     "name": "stdout",
     "output_type": "stream",
     "text": [
      "No links found for this pair.\n",
      "\n",
      "--- Comparing 'expense' <=> 'products' ---\n"
     ]
    },
    {
     "name": "stderr",
     "output_type": "stream",
     "text": [
      "[*] expense <==> products Runs:1: 100%|██████████| 1/1 [00:03<00:00,  3.10s/it]\n"
     ]
    },
    {
     "name": "stdout",
     "output_type": "stream",
     "text": [
      "No links found for this pair.\n",
      "\n",
      "--- Comparing 'expense' <=> 'renewals' ---\n"
     ]
    },
    {
     "name": "stderr",
     "output_type": "stream",
     "text": [
      "[*] expense <==> renewals Runs:1: 100%|██████████| 1/1 [00:06<00:00,  6.73s/it]\n"
     ]
    },
    {
     "name": "stdout",
     "output_type": "stream",
     "text": [
      "No links found for this pair.\n",
      "\n",
      "--- Comparing 'expense' <=> 'returns' ---\n"
     ]
    },
    {
     "name": "stderr",
     "output_type": "stream",
     "text": [
      "[*] expense <==> returns Runs:1: 100%|██████████| 1/1 [00:02<00:00,  2.35s/it]\n"
     ]
    },
    {
     "name": "stdout",
     "output_type": "stream",
     "text": [
      "No links found for this pair.\n",
      "\n",
      "--- Comparing 'expense' <=> 'service_requests' ---\n"
     ]
    },
    {
     "name": "stderr",
     "output_type": "stream",
     "text": [
      "[*] expense <==> service_requests Runs:1: 100%|██████████| 1/1 [00:02<00:00,  2.69s/it]\n"
     ]
    },
    {
     "name": "stdout",
     "output_type": "stream",
     "text": [
      "No links found for this pair.\n",
      "\n",
      "--- Comparing 'expense' <=> 'website' ---\n"
     ]
    },
    {
     "name": "stderr",
     "output_type": "stream",
     "text": [
      "[*] expense <==> website Runs:1: 100%|██████████| 1/1 [00:01<00:00,  1.57s/it]\n"
     ]
    },
    {
     "name": "stdout",
     "output_type": "stream",
     "text": [
      "No links found for this pair.\n",
      "\n",
      "--- Comparing 'install_base' <=> 'inventory' ---\n"
     ]
    },
    {
     "name": "stderr",
     "output_type": "stream",
     "text": [
      "[*] install_base <==> inventory Runs:1: 100%|██████████| 1/1 [00:02<00:00,  2.70s/it]\n"
     ]
    },
    {
     "name": "stdout",
     "output_type": "stream",
     "text": [
      "No links found for this pair.\n",
      "\n",
      "--- Comparing 'install_base' <=> 'logistics' ---\n"
     ]
    },
    {
     "name": "stderr",
     "output_type": "stream",
     "text": [
      "[*] install_base <==> logistics Runs:1: 100%|██████████| 1/1 [00:01<00:00,  1.23s/it]\n"
     ]
    },
    {
     "name": "stdout",
     "output_type": "stream",
     "text": [
      "Found 1 potential link(s).\n",
      "\n",
      "--- Comparing 'install_base' <=> 'nps_survey' ---\n"
     ]
    },
    {
     "name": "stderr",
     "output_type": "stream",
     "text": [
      "[*] install_base <==> nps_survey Runs:1: 100%|██████████| 1/1 [00:04<00:00,  4.61s/it]\n"
     ]
    },
    {
     "name": "stdout",
     "output_type": "stream",
     "text": [
      "No links found for this pair.\n",
      "\n",
      "--- Comparing 'install_base' <=> 'opportunity' ---\n"
     ]
    },
    {
     "name": "stderr",
     "output_type": "stream",
     "text": [
      "[*] install_base <==> opportunity Runs:1: 100%|██████████| 1/1 [00:01<00:00,  1.95s/it]\n"
     ]
    },
    {
     "name": "stdout",
     "output_type": "stream",
     "text": [
      "No links found for this pair.\n",
      "\n",
      "--- Comparing 'install_base' <=> 'orders' ---\n"
     ]
    },
    {
     "name": "stderr",
     "output_type": "stream",
     "text": [
      "[*] install_base <==> orders Runs:1: 100%|██████████| 1/1 [00:00<00:00,  1.02it/s]\n"
     ]
    },
    {
     "name": "stdout",
     "output_type": "stream",
     "text": [
      "Found 1 potential link(s).\n",
      "\n",
      "--- Comparing 'install_base' <=> 'prob_statement_issue' ---\n"
     ]
    },
    {
     "name": "stderr",
     "output_type": "stream",
     "text": [
      "[*] install_base <==> prob_statement_issue Runs:1: 100%|██████████| 1/1 [00:02<00:00,  2.98s/it]\n"
     ]
    },
    {
     "name": "stdout",
     "output_type": "stream",
     "text": [
      "No links found for this pair.\n",
      "\n",
      "--- Comparing 'install_base' <=> 'product_feature' ---\n"
     ]
    },
    {
     "name": "stderr",
     "output_type": "stream",
     "text": [
      "[*] install_base <==> product_feature Runs:1: 100%|██████████| 1/1 [00:02<00:00,  2.42s/it]\n"
     ]
    },
    {
     "name": "stdout",
     "output_type": "stream",
     "text": [
      "No links found for this pair.\n",
      "\n",
      "--- Comparing 'install_base' <=> 'product_hierarchy' ---\n"
     ]
    },
    {
     "name": "stderr",
     "output_type": "stream",
     "text": [
      "[*] install_base <==> product_hierarchy Runs:1: 100%|██████████| 1/1 [00:02<00:00,  2.25s/it]\n"
     ]
    },
    {
     "name": "stdout",
     "output_type": "stream",
     "text": [
      "No links found for this pair.\n",
      "\n",
      "--- Comparing 'install_base' <=> 'products' ---\n"
     ]
    },
    {
     "name": "stderr",
     "output_type": "stream",
     "text": [
      "[*] install_base <==> products Runs:1: 100%|██████████| 1/1 [00:01<00:00,  1.10s/it]\n"
     ]
    },
    {
     "name": "stdout",
     "output_type": "stream",
     "text": [
      "Found 1 potential link(s).\n",
      "\n",
      "--- Comparing 'install_base' <=> 'renewals' ---\n"
     ]
    },
    {
     "name": "stderr",
     "output_type": "stream",
     "text": [
      "[*] install_base <==> renewals Runs:1: 100%|██████████| 1/1 [00:01<00:00,  1.55s/it]\n"
     ]
    },
    {
     "name": "stdout",
     "output_type": "stream",
     "text": [
      "Found 1 potential link(s).\n",
      "\n",
      "--- Comparing 'install_base' <=> 'returns' ---\n"
     ]
    },
    {
     "name": "stderr",
     "output_type": "stream",
     "text": [
      "[*] install_base <==> returns Runs:1: 100%|██████████| 1/1 [00:06<00:00,  6.47s/it]\n"
     ]
    },
    {
     "name": "stdout",
     "output_type": "stream",
     "text": [
      "Found 1 potential link(s).\n",
      "\n",
      "--- Comparing 'install_base' <=> 'service_requests' ---\n"
     ]
    },
    {
     "name": "stderr",
     "output_type": "stream",
     "text": [
      "[*] install_base <==> service_requests Runs:1: 100%|██████████| 1/1 [00:07<00:00,  7.28s/it]\n"
     ]
    },
    {
     "name": "stdout",
     "output_type": "stream",
     "text": [
      "Found 1 potential link(s).\n",
      "\n",
      "--- Comparing 'install_base' <=> 'website' ---\n"
     ]
    },
    {
     "name": "stderr",
     "output_type": "stream",
     "text": [
      "[*] install_base <==> website Runs:1: 100%|██████████| 1/1 [00:03<00:00,  3.35s/it]\n"
     ]
    },
    {
     "name": "stdout",
     "output_type": "stream",
     "text": [
      "No links found for this pair.\n",
      "\n",
      "--- Comparing 'inventory' <=> 'logistics' ---\n"
     ]
    },
    {
     "name": "stderr",
     "output_type": "stream",
     "text": [
      "[*] inventory <==> logistics Runs:1: 100%|██████████| 1/1 [00:03<00:00,  3.64s/it]\n"
     ]
    },
    {
     "name": "stdout",
     "output_type": "stream",
     "text": [
      "No links found for this pair.\n",
      "\n",
      "--- Comparing 'inventory' <=> 'nps_survey' ---\n"
     ]
    },
    {
     "name": "stderr",
     "output_type": "stream",
     "text": [
      "[*] inventory <==> nps_survey Runs:1: 100%|██████████| 1/1 [00:01<00:00,  2.00s/it]\n"
     ]
    },
    {
     "name": "stdout",
     "output_type": "stream",
     "text": [
      "No links found for this pair.\n",
      "\n",
      "--- Comparing 'inventory' <=> 'opportunity' ---\n"
     ]
    },
    {
     "name": "stderr",
     "output_type": "stream",
     "text": [
      "[*] inventory <==> opportunity Runs:1: 100%|██████████| 1/1 [00:04<00:00,  4.22s/it]\n"
     ]
    },
    {
     "name": "stdout",
     "output_type": "stream",
     "text": [
      "No links found for this pair.\n",
      "\n",
      "--- Comparing 'inventory' <=> 'orders' ---\n"
     ]
    },
    {
     "name": "stderr",
     "output_type": "stream",
     "text": [
      "[*] inventory <==> orders Runs:1: 100%|██████████| 1/1 [00:02<00:00,  2.13s/it]\n"
     ]
    },
    {
     "name": "stdout",
     "output_type": "stream",
     "text": [
      "No links found for this pair.\n",
      "\n",
      "--- Comparing 'inventory' <=> 'prob_statement_issue' ---\n"
     ]
    },
    {
     "name": "stderr",
     "output_type": "stream",
     "text": [
      "[*] inventory <==> prob_statement_issue Runs:1: 100%|██████████| 1/1 [00:01<00:00,  1.68s/it]\n"
     ]
    },
    {
     "name": "stdout",
     "output_type": "stream",
     "text": [
      "No links found for this pair.\n",
      "\n",
      "--- Comparing 'inventory' <=> 'product_feature' ---\n"
     ]
    },
    {
     "name": "stderr",
     "output_type": "stream",
     "text": [
      "[*] inventory <==> product_feature Runs:1: 100%|██████████| 1/1 [00:02<00:00,  2.24s/it]\n"
     ]
    },
    {
     "name": "stdout",
     "output_type": "stream",
     "text": [
      "No links found for this pair.\n",
      "\n",
      "--- Comparing 'inventory' <=> 'product_hierarchy' ---\n"
     ]
    },
    {
     "name": "stderr",
     "output_type": "stream",
     "text": [
      "[*] inventory <==> product_hierarchy Runs:1: 100%|██████████| 1/1 [00:03<00:00,  3.45s/it]\n"
     ]
    },
    {
     "name": "stdout",
     "output_type": "stream",
     "text": [
      "No links found for this pair.\n",
      "\n",
      "--- Comparing 'inventory' <=> 'products' ---\n"
     ]
    },
    {
     "name": "stderr",
     "output_type": "stream",
     "text": [
      "[*] inventory <==> products Runs:1: 100%|██████████| 1/1 [00:00<00:00,  1.03it/s]\n"
     ]
    },
    {
     "name": "stdout",
     "output_type": "stream",
     "text": [
      "Found 1 potential link(s).\n",
      "\n",
      "--- Comparing 'inventory' <=> 'renewals' ---\n"
     ]
    },
    {
     "name": "stderr",
     "output_type": "stream",
     "text": [
      "[*] inventory <==> renewals Runs:1: 100%|██████████| 1/1 [00:04<00:00,  4.66s/it]\n"
     ]
    },
    {
     "name": "stdout",
     "output_type": "stream",
     "text": [
      "No links found for this pair.\n",
      "\n",
      "--- Comparing 'inventory' <=> 'returns' ---\n"
     ]
    },
    {
     "name": "stderr",
     "output_type": "stream",
     "text": [
      "[*] inventory <==> returns Runs:1: 100%|██████████| 1/1 [00:03<00:00,  3.12s/it]\n"
     ]
    },
    {
     "name": "stdout",
     "output_type": "stream",
     "text": [
      "No links found for this pair.\n",
      "\n",
      "--- Comparing 'inventory' <=> 'service_requests' ---\n"
     ]
    },
    {
     "name": "stderr",
     "output_type": "stream",
     "text": [
      "[*] inventory <==> service_requests Runs:1: 100%|██████████| 1/1 [00:02<00:00,  2.48s/it]\n"
     ]
    },
    {
     "name": "stdout",
     "output_type": "stream",
     "text": [
      "No links found for this pair.\n",
      "\n",
      "--- Comparing 'inventory' <=> 'website' ---\n"
     ]
    },
    {
     "name": "stderr",
     "output_type": "stream",
     "text": [
      "[*] inventory <==> website Runs:1: 100%|██████████| 1/1 [00:01<00:00,  1.05s/it]\n"
     ]
    },
    {
     "name": "stdout",
     "output_type": "stream",
     "text": [
      "No links found for this pair.\n",
      "\n",
      "--- Comparing 'logistics' <=> 'nps_survey' ---\n"
     ]
    },
    {
     "name": "stderr",
     "output_type": "stream",
     "text": [
      "[*] logistics <==> nps_survey Runs:1: 100%|██████████| 1/1 [00:02<00:00,  2.27s/it]\n"
     ]
    },
    {
     "name": "stdout",
     "output_type": "stream",
     "text": [
      "No links found for this pair.\n",
      "\n",
      "--- Comparing 'logistics' <=> 'opportunity' ---\n"
     ]
    },
    {
     "name": "stderr",
     "output_type": "stream",
     "text": [
      "[*] logistics <==> opportunity Runs:1: 100%|██████████| 1/1 [00:01<00:00,  1.74s/it]\n"
     ]
    },
    {
     "name": "stdout",
     "output_type": "stream",
     "text": [
      "No links found for this pair.\n",
      "\n",
      "--- Comparing 'logistics' <=> 'orders' ---\n"
     ]
    },
    {
     "name": "stderr",
     "output_type": "stream",
     "text": [
      "[*] logistics <==> orders Runs:1: 100%|██████████| 1/1 [00:01<00:00,  1.00s/it]\n"
     ]
    },
    {
     "name": "stdout",
     "output_type": "stream",
     "text": [
      "Found 1 potential link(s).\n",
      "\n",
      "--- Comparing 'logistics' <=> 'prob_statement_issue' ---\n"
     ]
    },
    {
     "name": "stderr",
     "output_type": "stream",
     "text": [
      "[*] logistics <==> prob_statement_issue Runs:1: 100%|██████████| 1/1 [00:00<00:00,  1.04it/s]\n"
     ]
    },
    {
     "name": "stdout",
     "output_type": "stream",
     "text": [
      "No links found for this pair.\n",
      "\n",
      "--- Comparing 'logistics' <=> 'product_feature' ---\n"
     ]
    },
    {
     "name": "stderr",
     "output_type": "stream",
     "text": [
      "[*] logistics <==> product_feature Runs:1: 100%|██████████| 1/1 [00:00<00:00,  1.06it/s]\n"
     ]
    },
    {
     "name": "stdout",
     "output_type": "stream",
     "text": [
      "No links found for this pair.\n",
      "\n",
      "--- Comparing 'logistics' <=> 'product_hierarchy' ---\n"
     ]
    },
    {
     "name": "stderr",
     "output_type": "stream",
     "text": [
      "[*] logistics <==> product_hierarchy Runs:1: 100%|██████████| 1/1 [00:06<00:00,  6.12s/it]\n"
     ]
    },
    {
     "name": "stdout",
     "output_type": "stream",
     "text": [
      "No links found for this pair.\n",
      "\n",
      "--- Comparing 'logistics' <=> 'products' ---\n"
     ]
    },
    {
     "name": "stderr",
     "output_type": "stream",
     "text": [
      "[*] logistics <==> products Runs:1: 100%|██████████| 1/1 [00:07<00:00,  7.61s/it]\n"
     ]
    },
    {
     "name": "stdout",
     "output_type": "stream",
     "text": [
      "No links found for this pair.\n",
      "\n",
      "--- Comparing 'logistics' <=> 'renewals' ---\n"
     ]
    },
    {
     "name": "stderr",
     "output_type": "stream",
     "text": [
      "[*] logistics <==> renewals Runs:1: 100%|██████████| 1/1 [00:01<00:00,  1.10s/it]\n"
     ]
    },
    {
     "name": "stdout",
     "output_type": "stream",
     "text": [
      "Found 1 potential link(s).\n",
      "\n",
      "--- Comparing 'logistics' <=> 'returns' ---\n"
     ]
    },
    {
     "name": "stderr",
     "output_type": "stream",
     "text": [
      "[*] logistics <==> returns Runs:1: 100%|██████████| 1/1 [00:00<00:00,  1.38it/s]\n"
     ]
    },
    {
     "name": "stdout",
     "output_type": "stream",
     "text": [
      "Found 1 potential link(s).\n",
      "\n",
      "--- Comparing 'logistics' <=> 'service_requests' ---\n"
     ]
    },
    {
     "name": "stderr",
     "output_type": "stream",
     "text": [
      "[*] logistics <==> service_requests Runs:1: 100%|██████████| 1/1 [00:15<00:00, 15.87s/it]\n"
     ]
    },
    {
     "name": "stdout",
     "output_type": "stream",
     "text": [
      "No links found for this pair.\n",
      "\n",
      "--- Comparing 'logistics' <=> 'website' ---\n"
     ]
    },
    {
     "name": "stderr",
     "output_type": "stream",
     "text": [
      "[*] logistics <==> website Runs:1: 100%|██████████| 1/1 [00:01<00:00,  1.38s/it]\n"
     ]
    },
    {
     "name": "stdout",
     "output_type": "stream",
     "text": [
      "No links found for this pair.\n",
      "\n",
      "--- Comparing 'nps_survey' <=> 'opportunity' ---\n"
     ]
    },
    {
     "name": "stderr",
     "output_type": "stream",
     "text": [
      "[*] nps_survey <==> opportunity Runs:1: 100%|██████████| 1/1 [00:02<00:00,  2.57s/it]\n"
     ]
    },
    {
     "name": "stdout",
     "output_type": "stream",
     "text": [
      "No links found for this pair.\n",
      "\n",
      "--- Comparing 'nps_survey' <=> 'orders' ---\n"
     ]
    },
    {
     "name": "stderr",
     "output_type": "stream",
     "text": [
      "[*] nps_survey <==> orders Runs:1: 100%|██████████| 1/1 [00:02<00:00,  2.20s/it]\n"
     ]
    },
    {
     "name": "stdout",
     "output_type": "stream",
     "text": [
      "No links found for this pair.\n",
      "\n",
      "--- Comparing 'nps_survey' <=> 'prob_statement_issue' ---\n"
     ]
    },
    {
     "name": "stderr",
     "output_type": "stream",
     "text": [
      "[*] nps_survey <==> prob_statement_issue Runs:1: 100%|██████████| 1/1 [00:01<00:00,  1.08s/it]\n"
     ]
    },
    {
     "name": "stdout",
     "output_type": "stream",
     "text": [
      "Found 1 potential link(s).\n",
      "\n",
      "--- Comparing 'nps_survey' <=> 'product_feature' ---\n"
     ]
    },
    {
     "name": "stderr",
     "output_type": "stream",
     "text": [
      "[*] nps_survey <==> product_feature Runs:1: 100%|██████████| 1/1 [00:00<00:00,  1.33it/s]\n"
     ]
    },
    {
     "name": "stdout",
     "output_type": "stream",
     "text": [
      "No links found for this pair.\n",
      "\n",
      "--- Comparing 'nps_survey' <=> 'product_hierarchy' ---\n"
     ]
    },
    {
     "name": "stderr",
     "output_type": "stream",
     "text": [
      "[*] nps_survey <==> product_hierarchy Runs:1: 100%|██████████| 1/1 [00:02<00:00,  2.10s/it]\n"
     ]
    },
    {
     "name": "stdout",
     "output_type": "stream",
     "text": [
      "No links found for this pair.\n",
      "\n",
      "--- Comparing 'nps_survey' <=> 'products' ---\n"
     ]
    },
    {
     "name": "stderr",
     "output_type": "stream",
     "text": [
      "[*] nps_survey <==> products Runs:1: 100%|██████████| 1/1 [00:01<00:00,  1.20s/it]\n"
     ]
    },
    {
     "name": "stdout",
     "output_type": "stream",
     "text": [
      "No links found for this pair.\n",
      "\n",
      "--- Comparing 'nps_survey' <=> 'renewals' ---\n"
     ]
    },
    {
     "name": "stderr",
     "output_type": "stream",
     "text": [
      "[*] nps_survey <==> renewals Runs:1: 100%|██████████| 1/1 [00:04<00:00,  4.47s/it]\n"
     ]
    },
    {
     "name": "stdout",
     "output_type": "stream",
     "text": [
      "No links found for this pair.\n",
      "\n",
      "--- Comparing 'nps_survey' <=> 'returns' ---\n"
     ]
    },
    {
     "name": "stderr",
     "output_type": "stream",
     "text": [
      "[*] nps_survey <==> returns Runs:1: 100%|██████████| 1/1 [00:01<00:00,  1.17s/it]\n"
     ]
    },
    {
     "name": "stdout",
     "output_type": "stream",
     "text": [
      "Found 1 potential link(s).\n",
      "\n",
      "--- Comparing 'nps_survey' <=> 'service_requests' ---\n"
     ]
    },
    {
     "name": "stderr",
     "output_type": "stream",
     "text": [
      "[*] nps_survey <==> service_requests Runs:1: 100%|██████████| 1/1 [00:01<00:00,  1.57s/it]\n"
     ]
    },
    {
     "name": "stdout",
     "output_type": "stream",
     "text": [
      "Found 1 potential link(s).\n",
      "\n",
      "--- Comparing 'nps_survey' <=> 'website' ---\n"
     ]
    },
    {
     "name": "stderr",
     "output_type": "stream",
     "text": [
      "[*] nps_survey <==> website Runs:1: 100%|██████████| 1/1 [00:01<00:00,  1.14s/it]\n"
     ]
    },
    {
     "name": "stdout",
     "output_type": "stream",
     "text": [
      "No links found for this pair.\n",
      "\n",
      "--- Comparing 'opportunity' <=> 'orders' ---\n"
     ]
    },
    {
     "name": "stderr",
     "output_type": "stream",
     "text": [
      "[*] opportunity <==> orders Runs:1: 100%|██████████| 1/1 [00:02<00:00,  2.61s/it]\n"
     ]
    },
    {
     "name": "stdout",
     "output_type": "stream",
     "text": [
      "No links found for this pair.\n",
      "\n",
      "--- Comparing 'opportunity' <=> 'prob_statement_issue' ---\n"
     ]
    },
    {
     "name": "stderr",
     "output_type": "stream",
     "text": [
      "[*] opportunity <==> prob_statement_issue Runs:1: 100%|██████████| 1/1 [00:02<00:00,  2.58s/it]\n"
     ]
    },
    {
     "name": "stdout",
     "output_type": "stream",
     "text": [
      "No links found for this pair.\n",
      "\n",
      "--- Comparing 'opportunity' <=> 'product_feature' ---\n"
     ]
    },
    {
     "name": "stderr",
     "output_type": "stream",
     "text": [
      "[*] opportunity <==> product_feature Runs:1: 100%|██████████| 1/1 [00:00<00:00,  1.57it/s]\n"
     ]
    },
    {
     "name": "stdout",
     "output_type": "stream",
     "text": [
      "No links found for this pair.\n",
      "\n",
      "--- Comparing 'opportunity' <=> 'product_hierarchy' ---\n"
     ]
    },
    {
     "name": "stderr",
     "output_type": "stream",
     "text": [
      "[*] opportunity <==> product_hierarchy Runs:1: 100%|██████████| 1/1 [00:05<00:00,  5.38s/it]\n"
     ]
    },
    {
     "name": "stdout",
     "output_type": "stream",
     "text": [
      "No links found for this pair.\n",
      "\n",
      "--- Comparing 'opportunity' <=> 'products' ---\n"
     ]
    },
    {
     "name": "stderr",
     "output_type": "stream",
     "text": [
      "[*] opportunity <==> products Runs:1: 100%|██████████| 1/1 [00:06<00:00,  6.26s/it]\n"
     ]
    },
    {
     "name": "stdout",
     "output_type": "stream",
     "text": [
      "No links found for this pair.\n",
      "\n",
      "--- Comparing 'opportunity' <=> 'renewals' ---\n"
     ]
    },
    {
     "name": "stderr",
     "output_type": "stream",
     "text": [
      "[*] opportunity <==> renewals Runs:1: 100%|██████████| 1/1 [00:04<00:00,  4.02s/it]\n"
     ]
    },
    {
     "name": "stdout",
     "output_type": "stream",
     "text": [
      "No links found for this pair.\n",
      "\n",
      "--- Comparing 'opportunity' <=> 'returns' ---\n"
     ]
    },
    {
     "name": "stderr",
     "output_type": "stream",
     "text": [
      "[*] opportunity <==> returns Runs:1: 100%|██████████| 1/1 [00:06<00:00,  6.36s/it]\n"
     ]
    },
    {
     "name": "stdout",
     "output_type": "stream",
     "text": [
      "No links found for this pair.\n",
      "\n",
      "--- Comparing 'opportunity' <=> 'service_requests' ---\n"
     ]
    },
    {
     "name": "stderr",
     "output_type": "stream",
     "text": [
      "[*] opportunity <==> service_requests Runs:1: 100%|██████████| 1/1 [00:07<00:00,  7.86s/it]\n"
     ]
    },
    {
     "name": "stdout",
     "output_type": "stream",
     "text": [
      "No links found for this pair.\n",
      "\n",
      "--- Comparing 'opportunity' <=> 'website' ---\n"
     ]
    },
    {
     "name": "stderr",
     "output_type": "stream",
     "text": [
      "[*] opportunity <==> website Runs:1: 100%|██████████| 1/1 [00:01<00:00,  1.34s/it]\n"
     ]
    },
    {
     "name": "stdout",
     "output_type": "stream",
     "text": [
      "No links found for this pair.\n",
      "\n",
      "--- Comparing 'orders' <=> 'prob_statement_issue' ---\n"
     ]
    },
    {
     "name": "stderr",
     "output_type": "stream",
     "text": [
      "[*] orders <==> prob_statement_issue Runs:1: 100%|██████████| 1/1 [00:02<00:00,  2.75s/it]\n"
     ]
    },
    {
     "name": "stdout",
     "output_type": "stream",
     "text": [
      "No links found for this pair.\n",
      "\n",
      "--- Comparing 'orders' <=> 'product_feature' ---\n"
     ]
    },
    {
     "name": "stderr",
     "output_type": "stream",
     "text": [
      "[*] orders <==> product_feature Runs:1: 100%|██████████| 1/1 [00:03<00:00,  3.19s/it]\n"
     ]
    },
    {
     "name": "stdout",
     "output_type": "stream",
     "text": [
      "No links found for this pair.\n",
      "\n",
      "--- Comparing 'orders' <=> 'product_hierarchy' ---\n"
     ]
    },
    {
     "name": "stderr",
     "output_type": "stream",
     "text": [
      "[*] orders <==> product_hierarchy Runs:1: 100%|██████████| 1/1 [00:02<00:00,  2.81s/it]\n"
     ]
    },
    {
     "name": "stdout",
     "output_type": "stream",
     "text": [
      "No links found for this pair.\n",
      "\n",
      "--- Comparing 'orders' <=> 'products' ---\n"
     ]
    },
    {
     "name": "stderr",
     "output_type": "stream",
     "text": [
      "[*] orders <==> products Runs:1: 100%|██████████| 1/1 [00:01<00:00,  1.32s/it]\n"
     ]
    },
    {
     "name": "stdout",
     "output_type": "stream",
     "text": [
      "Found 1 potential link(s).\n",
      "\n",
      "--- Comparing 'orders' <=> 'renewals' ---\n"
     ]
    },
    {
     "name": "stderr",
     "output_type": "stream",
     "text": [
      "[*] orders <==> renewals Runs:1: 100%|██████████| 1/1 [00:01<00:00,  1.24s/it]\n"
     ]
    },
    {
     "name": "stdout",
     "output_type": "stream",
     "text": [
      "Found 1 potential link(s).\n",
      "\n",
      "--- Comparing 'orders' <=> 'returns' ---\n"
     ]
    },
    {
     "name": "stderr",
     "output_type": "stream",
     "text": [
      "[*] orders <==> returns Runs:1: 100%|██████████| 1/1 [00:01<00:00,  1.37s/it]\n"
     ]
    },
    {
     "name": "stdout",
     "output_type": "stream",
     "text": [
      "Found 1 potential link(s).\n",
      "\n",
      "--- Comparing 'orders' <=> 'service_requests' ---\n"
     ]
    },
    {
     "name": "stderr",
     "output_type": "stream",
     "text": [
      "[*] orders <==> service_requests Runs:1: 100%|██████████| 1/1 [00:01<00:00,  1.34s/it]\n"
     ]
    },
    {
     "name": "stdout",
     "output_type": "stream",
     "text": [
      "Found 1 potential link(s).\n",
      "\n",
      "--- Comparing 'orders' <=> 'website' ---\n"
     ]
    },
    {
     "name": "stderr",
     "output_type": "stream",
     "text": [
      "[*] orders <==> website Runs:1: 100%|██████████| 1/1 [00:00<00:00,  1.01it/s]\n"
     ]
    },
    {
     "name": "stdout",
     "output_type": "stream",
     "text": [
      "No links found for this pair.\n",
      "\n",
      "--- Comparing 'prob_statement_issue' <=> 'product_feature' ---\n"
     ]
    },
    {
     "name": "stderr",
     "output_type": "stream",
     "text": [
      "[*] prob_statement_issue <==> product_feature Runs:1: 100%|██████████| 1/1 [00:02<00:00,  2.36s/it]\n"
     ]
    },
    {
     "name": "stdout",
     "output_type": "stream",
     "text": [
      "No links found for this pair.\n",
      "\n",
      "--- Comparing 'prob_statement_issue' <=> 'product_hierarchy' ---\n"
     ]
    },
    {
     "name": "stderr",
     "output_type": "stream",
     "text": [
      "[*] prob_statement_issue <==> product_hierarchy Runs:1: 100%|██████████| 1/1 [00:02<00:00,  2.39s/it]\n"
     ]
    },
    {
     "name": "stdout",
     "output_type": "stream",
     "text": [
      "No links found for this pair.\n",
      "\n",
      "--- Comparing 'prob_statement_issue' <=> 'products' ---\n"
     ]
    },
    {
     "name": "stderr",
     "output_type": "stream",
     "text": [
      "[*] prob_statement_issue <==> products Runs:1: 100%|██████████| 1/1 [00:01<00:00,  1.32s/it]\n"
     ]
    },
    {
     "name": "stdout",
     "output_type": "stream",
     "text": [
      "Found 1 potential link(s).\n",
      "\n",
      "--- Comparing 'prob_statement_issue' <=> 'renewals' ---\n"
     ]
    },
    {
     "name": "stderr",
     "output_type": "stream",
     "text": [
      "[*] prob_statement_issue <==> renewals Runs:1: 100%|██████████| 1/1 [00:02<00:00,  2.84s/it]\n"
     ]
    },
    {
     "name": "stdout",
     "output_type": "stream",
     "text": [
      "No links found for this pair.\n",
      "\n",
      "--- Comparing 'prob_statement_issue' <=> 'returns' ---\n"
     ]
    },
    {
     "name": "stderr",
     "output_type": "stream",
     "text": [
      "[*] prob_statement_issue <==> returns Runs:1: 100%|██████████| 1/1 [00:01<00:00,  1.04s/it]\n"
     ]
    },
    {
     "name": "stdout",
     "output_type": "stream",
     "text": [
      "Found 1 potential link(s).\n",
      "\n",
      "--- Comparing 'prob_statement_issue' <=> 'service_requests' ---\n"
     ]
    },
    {
     "name": "stderr",
     "output_type": "stream",
     "text": [
      "[*] prob_statement_issue <==> service_requests Runs:1: 100%|██████████| 1/1 [00:01<00:00,  1.05s/it]\n"
     ]
    },
    {
     "name": "stdout",
     "output_type": "stream",
     "text": [
      "Found 1 potential link(s).\n",
      "\n",
      "--- Comparing 'prob_statement_issue' <=> 'website' ---\n"
     ]
    },
    {
     "name": "stderr",
     "output_type": "stream",
     "text": [
      "[*] prob_statement_issue <==> website Runs:1: 100%|██████████| 1/1 [00:03<00:00,  3.08s/it]\n"
     ]
    },
    {
     "name": "stdout",
     "output_type": "stream",
     "text": [
      "No links found for this pair.\n",
      "\n",
      "--- Comparing 'product_feature' <=> 'product_hierarchy' ---\n"
     ]
    },
    {
     "name": "stderr",
     "output_type": "stream",
     "text": [
      "[*] product_feature <==> product_hierarchy Runs:1: 100%|██████████| 1/1 [00:06<00:00,  6.31s/it]\n"
     ]
    },
    {
     "name": "stdout",
     "output_type": "stream",
     "text": [
      "No links found for this pair.\n",
      "\n",
      "--- Comparing 'product_feature' <=> 'products' ---\n"
     ]
    },
    {
     "name": "stderr",
     "output_type": "stream",
     "text": [
      "[*] product_feature <==> products Runs:1: 100%|██████████| 1/1 [00:02<00:00,  2.03s/it]\n"
     ]
    },
    {
     "name": "stdout",
     "output_type": "stream",
     "text": [
      "Found 1 potential link(s).\n",
      "\n",
      "--- Comparing 'product_feature' <=> 'renewals' ---\n"
     ]
    },
    {
     "name": "stderr",
     "output_type": "stream",
     "text": [
      "[*] product_feature <==> renewals Runs:1: 100%|██████████| 1/1 [00:05<00:00,  5.66s/it]\n"
     ]
    },
    {
     "name": "stdout",
     "output_type": "stream",
     "text": [
      "No links found for this pair.\n",
      "\n",
      "--- Comparing 'product_feature' <=> 'returns' ---\n"
     ]
    },
    {
     "name": "stderr",
     "output_type": "stream",
     "text": [
      "[*] product_feature <==> returns Runs:1: 100%|██████████| 1/1 [00:03<00:00,  3.02s/it]\n"
     ]
    },
    {
     "name": "stdout",
     "output_type": "stream",
     "text": [
      "No links found for this pair.\n",
      "\n",
      "--- Comparing 'product_feature' <=> 'service_requests' ---\n"
     ]
    },
    {
     "name": "stderr",
     "output_type": "stream",
     "text": [
      "[*] product_feature <==> service_requests Runs:1: 100%|██████████| 1/1 [00:08<00:00,  8.73s/it]\n"
     ]
    },
    {
     "name": "stdout",
     "output_type": "stream",
     "text": [
      "No links found for this pair.\n",
      "\n",
      "--- Comparing 'product_feature' <=> 'website' ---\n"
     ]
    },
    {
     "name": "stderr",
     "output_type": "stream",
     "text": [
      "[*] product_feature <==> website Runs:1: 100%|██████████| 1/1 [00:01<00:00,  1.23s/it]\n"
     ]
    },
    {
     "name": "stdout",
     "output_type": "stream",
     "text": [
      "No links found for this pair.\n",
      "\n",
      "--- Comparing 'product_hierarchy' <=> 'products' ---\n"
     ]
    },
    {
     "name": "stderr",
     "output_type": "stream",
     "text": [
      "[*] product_hierarchy <==> products Runs:1: 100%|██████████| 1/1 [00:00<00:00,  1.66it/s]\n"
     ]
    },
    {
     "name": "stdout",
     "output_type": "stream",
     "text": [
      "Found 1 potential link(s).\n",
      "\n",
      "--- Comparing 'product_hierarchy' <=> 'renewals' ---\n"
     ]
    },
    {
     "name": "stderr",
     "output_type": "stream",
     "text": [
      "[*] product_hierarchy <==> renewals Runs:1: 100%|██████████| 1/1 [00:04<00:00,  4.82s/it]\n"
     ]
    },
    {
     "name": "stdout",
     "output_type": "stream",
     "text": [
      "No links found for this pair.\n",
      "\n",
      "--- Comparing 'product_hierarchy' <=> 'returns' ---\n"
     ]
    },
    {
     "name": "stderr",
     "output_type": "stream",
     "text": [
      "[*] product_hierarchy <==> returns Runs:1: 100%|██████████| 1/1 [00:02<00:00,  2.16s/it]\n"
     ]
    },
    {
     "name": "stdout",
     "output_type": "stream",
     "text": [
      "No links found for this pair.\n",
      "\n",
      "--- Comparing 'product_hierarchy' <=> 'service_requests' ---\n"
     ]
    },
    {
     "name": "stderr",
     "output_type": "stream",
     "text": [
      "[*] product_hierarchy <==> service_requests Runs:1: 100%|██████████| 1/1 [00:02<00:00,  2.37s/it]\n"
     ]
    },
    {
     "name": "stdout",
     "output_type": "stream",
     "text": [
      "No links found for this pair.\n",
      "\n",
      "--- Comparing 'product_hierarchy' <=> 'website' ---\n"
     ]
    },
    {
     "name": "stderr",
     "output_type": "stream",
     "text": [
      "[*] product_hierarchy <==> website Runs:1: 100%|██████████| 1/1 [00:01<00:00,  1.19s/it]\n"
     ]
    },
    {
     "name": "stdout",
     "output_type": "stream",
     "text": [
      "No links found for this pair.\n",
      "\n",
      "--- Comparing 'products' <=> 'renewals' ---\n"
     ]
    },
    {
     "name": "stderr",
     "output_type": "stream",
     "text": [
      "[*] products <==> renewals Runs:1: 100%|██████████| 1/1 [00:01<00:00,  1.05s/it]\n"
     ]
    },
    {
     "name": "stdout",
     "output_type": "stream",
     "text": [
      "Found 1 potential link(s).\n",
      "\n",
      "--- Comparing 'products' <=> 'returns' ---\n"
     ]
    },
    {
     "name": "stderr",
     "output_type": "stream",
     "text": [
      "[*] products <==> returns Runs:1: 100%|██████████| 1/1 [00:00<00:00,  1.55it/s]\n"
     ]
    },
    {
     "name": "stdout",
     "output_type": "stream",
     "text": [
      "Found 1 potential link(s).\n",
      "\n",
      "--- Comparing 'products' <=> 'service_requests' ---\n"
     ]
    },
    {
     "name": "stderr",
     "output_type": "stream",
     "text": [
      "[*] products <==> service_requests Runs:1: 100%|██████████| 1/1 [00:02<00:00,  2.07s/it]\n"
     ]
    },
    {
     "name": "stdout",
     "output_type": "stream",
     "text": [
      "Found 1 potential link(s).\n",
      "\n",
      "--- Comparing 'products' <=> 'website' ---\n"
     ]
    },
    {
     "name": "stderr",
     "output_type": "stream",
     "text": [
      "[*] products <==> website Runs:1: 100%|██████████| 1/1 [00:00<00:00,  1.12it/s]\n"
     ]
    },
    {
     "name": "stdout",
     "output_type": "stream",
     "text": [
      "No links found for this pair.\n",
      "\n",
      "--- Comparing 'renewals' <=> 'returns' ---\n"
     ]
    },
    {
     "name": "stderr",
     "output_type": "stream",
     "text": [
      "[*] renewals <==> returns Runs:1: 100%|██████████| 1/1 [00:01<00:00,  1.31s/it]\n"
     ]
    },
    {
     "name": "stdout",
     "output_type": "stream",
     "text": [
      "Found 1 potential link(s).\n",
      "\n",
      "--- Comparing 'renewals' <=> 'service_requests' ---\n"
     ]
    },
    {
     "name": "stderr",
     "output_type": "stream",
     "text": [
      "[*] renewals <==> service_requests Runs:1: 100%|██████████| 1/1 [00:01<00:00,  2.00s/it]\n"
     ]
    },
    {
     "name": "stdout",
     "output_type": "stream",
     "text": [
      "No links found for this pair.\n",
      "\n",
      "--- Comparing 'renewals' <=> 'website' ---\n"
     ]
    },
    {
     "name": "stderr",
     "output_type": "stream",
     "text": [
      "[*] renewals <==> website Runs:1: 100%|██████████| 1/1 [00:01<00:00,  1.98s/it]\n"
     ]
    },
    {
     "name": "stdout",
     "output_type": "stream",
     "text": [
      "No links found for this pair.\n",
      "\n",
      "--- Comparing 'returns' <=> 'service_requests' ---\n"
     ]
    },
    {
     "name": "stderr",
     "output_type": "stream",
     "text": [
      "[*] returns <==> service_requests Runs:1: 100%|██████████| 1/1 [00:00<00:00,  1.00it/s]\n"
     ]
    },
    {
     "name": "stdout",
     "output_type": "stream",
     "text": [
      "Found 1 potential link(s).\n",
      "\n",
      "--- Comparing 'returns' <=> 'website' ---\n"
     ]
    },
    {
     "name": "stderr",
     "output_type": "stream",
     "text": [
      "[*] returns <==> website Runs:1: 100%|██████████| 1/1 [00:01<00:00,  1.21s/it]\n"
     ]
    },
    {
     "name": "stdout",
     "output_type": "stream",
     "text": [
      "No links found for this pair.\n",
      "\n",
      "--- Comparing 'service_requests' <=> 'website' ---\n"
     ]
    },
    {
     "name": "stderr",
     "output_type": "stream",
     "text": [
      "[*] service_requests <==> website Runs:1: 100%|██████████| 1/1 [00:01<00:00,  1.03s/it]\n"
     ]
    },
    {
     "name": "stdout",
     "output_type": "stream",
     "text": [
      "No links found for this pair.\n"
     ]
    },
    {
     "name": "stderr",
     "output_type": "stream",
     "text": [
      "/home/raphael/Downloads/intugle_demo/env/lib/python3.12/site-packages/intugle/core/vector_store/qdrant.py:77: UserWarning: Api key is used with an insecure connection.\n",
      "  self._client = AsyncQdrantClient(**self.client_config)\n",
      "ERROR:intugle.core.vector_store.qdrant:AsyncQdrantService: Couldn't create collection, reason: All connection attempts failed\n",
      "WARNING:intugle.knowledge_builder:Could not initialize semantic search: All connection attempts failed\n",
      "WARNING:intugle.knowledge_builder:Semantic search initialization failed during build: All connection attempts failed\n"
     ]
    },
    {
     "data": {
      "text/plain": [
       "<intugle.knowledge_builder.KnowledgeBuilder at 0x7075c9f676e0>"
      ]
     },
     "execution_count": 3,
     "metadata": {},
     "output_type": "execute_result"
    }
   ],
   "source": [
    "from intugle import KnowledgeBuilder\n",
    "\n",
    "# Initialize the knowledge builder\n",
    "kb = KnowledgeBuilder(datasets, domain=\"Technology Company\")\n",
    "\n",
    "# Run the prediction\n",
    "kb.build()"
   ]
  },
  {
   "cell_type": "markdown",
   "id": "eb562acd",
   "metadata": {},
   "source": [
    "## 3. Accessing Enriched Metadata\n",
    "\n",
    "Now that the knowledge base is built, you can easily access the enriched metadata for each dataset.\n",
    "\n",
    "### Accessing a Dataset\n",
    "\n",
    "You can access a specific dataset by its name from the `kb.datasets` dictionary:"
   ]
  },
  {
   "cell_type": "code",
   "execution_count": 4,
   "id": "0aa894eb",
   "metadata": {},
   "outputs": [
    {
     "data": {
      "text/html": [
       "<div>\n",
       "<style scoped>\n",
       "    .dataframe tbody tr th:only-of-type {\n",
       "        vertical-align: middle;\n",
       "    }\n",
       "\n",
       "    .dataframe tbody tr th {\n",
       "        vertical-align: top;\n",
       "    }\n",
       "\n",
       "    .dataframe thead th {\n",
       "        text-align: right;\n",
       "    }\n",
       "</style>\n",
       "<table border=\"1\" class=\"dataframe\">\n",
       "  <thead>\n",
       "    <tr style=\"text-align: right;\">\n",
       "      <th></th>\n",
       "      <th>column_name</th>\n",
       "      <th>business_name</th>\n",
       "      <th>table_name</th>\n",
       "      <th>null_count</th>\n",
       "      <th>count</th>\n",
       "      <th>distinct_count</th>\n",
       "      <th>uniqueness</th>\n",
       "      <th>completeness</th>\n",
       "      <th>sample_data</th>\n",
       "      <th>dtype_sample</th>\n",
       "      <th>ts</th>\n",
       "      <th>datatype_l1</th>\n",
       "      <th>datatype_l2</th>\n",
       "      <th>business_glossary</th>\n",
       "      <th>business_tags</th>\n",
       "    </tr>\n",
       "  </thead>\n",
       "  <tbody>\n",
       "    <tr>\n",
       "      <th>0</th>\n",
       "      <td>Product ID</td>\n",
       "      <td>product_id</td>\n",
       "      <td>products</td>\n",
       "      <td>0</td>\n",
       "      <td>1000</td>\n",
       "      <td>1000</td>\n",
       "      <td>1.000</td>\n",
       "      <td>1.0</td>\n",
       "      <td>[PROD-11043, PROD-11099, PROD-11232, PROD-1126...</td>\n",
       "      <td>[PROD-11012, PROD-11024, PROD-11044, PROD-1107...</td>\n",
       "      <td>0.011418</td>\n",
       "      <td>alphanumeric</td>\n",
       "      <td>L2OutputTypes.dimension</td>\n",
       "      <td>Uniquely identifies a product within the compa...</td>\n",
       "      <td>[Product Identifier, Inventory Management, Cat...</td>\n",
       "    </tr>\n",
       "    <tr>\n",
       "      <th>1</th>\n",
       "      <td>Product Name</td>\n",
       "      <td>product_name</td>\n",
       "      <td>products</td>\n",
       "      <td>0</td>\n",
       "      <td>1000</td>\n",
       "      <td>5</td>\n",
       "      <td>0.005</td>\n",
       "      <td>1.0</td>\n",
       "      <td>[NetConnect, DataSphere, CloudEdge, Insight360...</td>\n",
       "      <td>[DataSphere, Insight360, CloudEdge, NetConnect...</td>\n",
       "      <td>0.010229</td>\n",
       "      <td>alphanumeric</td>\n",
       "      <td>L2OutputTypes.dimension</td>\n",
       "      <td>Identifies the name used to distinguish and ma...</td>\n",
       "      <td>[Product Catalog, Product Identification, Busi...</td>\n",
       "    </tr>\n",
       "    <tr>\n",
       "      <th>2</th>\n",
       "      <td>Product Category</td>\n",
       "      <td>product_category</td>\n",
       "      <td>products</td>\n",
       "      <td>0</td>\n",
       "      <td>1000</td>\n",
       "      <td>5</td>\n",
       "      <td>0.005</td>\n",
       "      <td>1.0</td>\n",
       "      <td>[Security, Networking, IoT, Analytics, Cloud P...</td>\n",
       "      <td>[Networking, Analytics, Cloud Platform, Securi...</td>\n",
       "      <td>0.010934</td>\n",
       "      <td>close_ended_text</td>\n",
       "      <td>L2OutputTypes.dimension</td>\n",
       "      <td>Groups products into distinct classifications ...</td>\n",
       "      <td>[Product Classification, Business Offering, Ma...</td>\n",
       "    </tr>\n",
       "    <tr>\n",
       "      <th>3</th>\n",
       "      <td>Product Status</td>\n",
       "      <td>product_status</td>\n",
       "      <td>products</td>\n",
       "      <td>0</td>\n",
       "      <td>1000</td>\n",
       "      <td>5</td>\n",
       "      <td>0.005</td>\n",
       "      <td>1.0</td>\n",
       "      <td>[Pilot, In Development, Active, GA (General Av...</td>\n",
       "      <td>[In Development, GA (General Availability), Ac...</td>\n",
       "      <td>0.013689</td>\n",
       "      <td>close_ended_text</td>\n",
       "      <td>L2OutputTypes.dimension</td>\n",
       "      <td>Indicates the current lifecycle phase of a pro...</td>\n",
       "      <td>[Lifecycle Management, Product State, Operatio...</td>\n",
       "    </tr>\n",
       "    <tr>\n",
       "      <th>4</th>\n",
       "      <td>R&amp;D Initiation Date</td>\n",
       "      <td>r_d_initiation_date</td>\n",
       "      <td>products</td>\n",
       "      <td>0</td>\n",
       "      <td>1000</td>\n",
       "      <td>777</td>\n",
       "      <td>0.777</td>\n",
       "      <td>1.0</td>\n",
       "      <td>[2021-05-07, 2024-02-03, 2021-11-23, 2025-08-0...</td>\n",
       "      <td>[2023-10-19, 2025-02-08, 2023-11-10, 2023-08-0...</td>\n",
       "      <td>0.009860</td>\n",
       "      <td>date &amp; time</td>\n",
       "      <td>L2OutputTypes.dimension</td>\n",
       "      <td>Indicates the date on which the research and d...</td>\n",
       "      <td>[Research And Development, Project Initiation ...</td>\n",
       "    </tr>\n",
       "    <tr>\n",
       "      <th>5</th>\n",
       "      <td>R&amp;D Stage</td>\n",
       "      <td>r_d_stage</td>\n",
       "      <td>products</td>\n",
       "      <td>0</td>\n",
       "      <td>1000</td>\n",
       "      <td>5</td>\n",
       "      <td>0.005</td>\n",
       "      <td>1.0</td>\n",
       "      <td>[Pre-Launch, Prototype, Concept, Enhancement, ...</td>\n",
       "      <td>[Enhancement, Pre-Launch, Concept, Prototype, ...</td>\n",
       "      <td>0.015447</td>\n",
       "      <td>close_ended_text</td>\n",
       "      <td>L2OutputTypes.dimension</td>\n",
       "      <td>Indicates the current phase of development and...</td>\n",
       "      <td>[Product Development Lifecycle, Innovation Man...</td>\n",
       "    </tr>\n",
       "    <tr>\n",
       "      <th>6</th>\n",
       "      <td>Launch Status</td>\n",
       "      <td>launch_status</td>\n",
       "      <td>products</td>\n",
       "      <td>0</td>\n",
       "      <td>1000</td>\n",
       "      <td>5</td>\n",
       "      <td>0.005</td>\n",
       "      <td>1.0</td>\n",
       "      <td>[Not Launched, Launched, Planned, In Pipeline,...</td>\n",
       "      <td>[In Pipeline, Planned, Launched, Not Launched,...</td>\n",
       "      <td>0.014008</td>\n",
       "      <td>close_ended_text</td>\n",
       "      <td>L2OutputTypes.dimension</td>\n",
       "      <td>Indicates the current phase or outcome of a pr...</td>\n",
       "      <td>[Product Lifecycle, Launch Planning, Operation...</td>\n",
       "    </tr>\n",
       "    <tr>\n",
       "      <th>7</th>\n",
       "      <td>Launch Date</td>\n",
       "      <td>launch_date</td>\n",
       "      <td>products</td>\n",
       "      <td>0</td>\n",
       "      <td>1000</td>\n",
       "      <td>659</td>\n",
       "      <td>0.659</td>\n",
       "      <td>1.0</td>\n",
       "      <td>[2025-07-20, 2025-08-15, 2023-05-12, 2022-09-2...</td>\n",
       "      <td>[2023-08-04, 2024-09-02, 2025-03-16, 2023-10-0...</td>\n",
       "      <td>0.009879</td>\n",
       "      <td>date &amp; time</td>\n",
       "      <td>L2OutputTypes.dimension</td>\n",
       "      <td>The date on which a product becomes available ...</td>\n",
       "      <td>[Product Launch Timeline, Go-To-Market Strateg...</td>\n",
       "    </tr>\n",
       "    <tr>\n",
       "      <th>8</th>\n",
       "      <td>PM Name</td>\n",
       "      <td>pm_name</td>\n",
       "      <td>products</td>\n",
       "      <td>0</td>\n",
       "      <td>1000</td>\n",
       "      <td>994</td>\n",
       "      <td>0.994</td>\n",
       "      <td>1.0</td>\n",
       "      <td>[Daniel Cox, Joshua Pacheco, Erica Hines, Rube...</td>\n",
       "      <td>[William Rodgers, Dawn Harris MD, Shannon Osbo...</td>\n",
       "      <td>0.011669</td>\n",
       "      <td>close_ended_text</td>\n",
       "      <td>L2OutputTypes.dimension</td>\n",
       "      <td>Identifies the individual responsible for mana...</td>\n",
       "      <td>[Product Manager, Team Ownership, Project Lead...</td>\n",
       "    </tr>\n",
       "    <tr>\n",
       "      <th>9</th>\n",
       "      <td>Product Cost ($)</td>\n",
       "      <td>product_cost</td>\n",
       "      <td>products</td>\n",
       "      <td>0</td>\n",
       "      <td>1000</td>\n",
       "      <td>998</td>\n",
       "      <td>0.998</td>\n",
       "      <td>1.0</td>\n",
       "      <td>[267011, 244939, 176900, 363770, 230504, 58687...</td>\n",
       "      <td>[222364, 571000, 335185, 558107, 598668, 26134...</td>\n",
       "      <td>0.012803</td>\n",
       "      <td>integer</td>\n",
       "      <td>L2OutputTypes.measure</td>\n",
       "      <td>Indicates the monetary expense incurred to pro...</td>\n",
       "      <td>[Product Pricing, Cost Analysis, Financial Met...</td>\n",
       "    </tr>\n",
       "  </tbody>\n",
       "</table>\n",
       "</div>"
      ],
      "text/plain": [
       "           column_name        business_name table_name  null_count  count  \\\n",
       "0           Product ID           product_id   products           0   1000   \n",
       "1         Product Name         product_name   products           0   1000   \n",
       "2     Product Category     product_category   products           0   1000   \n",
       "3       Product Status       product_status   products           0   1000   \n",
       "4  R&D Initiation Date  r_d_initiation_date   products           0   1000   \n",
       "5            R&D Stage            r_d_stage   products           0   1000   \n",
       "6        Launch Status        launch_status   products           0   1000   \n",
       "7          Launch Date          launch_date   products           0   1000   \n",
       "8              PM Name              pm_name   products           0   1000   \n",
       "9     Product Cost ($)         product_cost   products           0   1000   \n",
       "\n",
       "   distinct_count  uniqueness  completeness  \\\n",
       "0            1000       1.000           1.0   \n",
       "1               5       0.005           1.0   \n",
       "2               5       0.005           1.0   \n",
       "3               5       0.005           1.0   \n",
       "4             777       0.777           1.0   \n",
       "5               5       0.005           1.0   \n",
       "6               5       0.005           1.0   \n",
       "7             659       0.659           1.0   \n",
       "8             994       0.994           1.0   \n",
       "9             998       0.998           1.0   \n",
       "\n",
       "                                         sample_data  \\\n",
       "0  [PROD-11043, PROD-11099, PROD-11232, PROD-1126...   \n",
       "1  [NetConnect, DataSphere, CloudEdge, Insight360...   \n",
       "2  [Security, Networking, IoT, Analytics, Cloud P...   \n",
       "3  [Pilot, In Development, Active, GA (General Av...   \n",
       "4  [2021-05-07, 2024-02-03, 2021-11-23, 2025-08-0...   \n",
       "5  [Pre-Launch, Prototype, Concept, Enhancement, ...   \n",
       "6  [Not Launched, Launched, Planned, In Pipeline,...   \n",
       "7  [2025-07-20, 2025-08-15, 2023-05-12, 2022-09-2...   \n",
       "8  [Daniel Cox, Joshua Pacheco, Erica Hines, Rube...   \n",
       "9  [267011, 244939, 176900, 363770, 230504, 58687...   \n",
       "\n",
       "                                        dtype_sample        ts  \\\n",
       "0  [PROD-11012, PROD-11024, PROD-11044, PROD-1107...  0.011418   \n",
       "1  [DataSphere, Insight360, CloudEdge, NetConnect...  0.010229   \n",
       "2  [Networking, Analytics, Cloud Platform, Securi...  0.010934   \n",
       "3  [In Development, GA (General Availability), Ac...  0.013689   \n",
       "4  [2023-10-19, 2025-02-08, 2023-11-10, 2023-08-0...  0.009860   \n",
       "5  [Enhancement, Pre-Launch, Concept, Prototype, ...  0.015447   \n",
       "6  [In Pipeline, Planned, Launched, Not Launched,...  0.014008   \n",
       "7  [2023-08-04, 2024-09-02, 2025-03-16, 2023-10-0...  0.009879   \n",
       "8  [William Rodgers, Dawn Harris MD, Shannon Osbo...  0.011669   \n",
       "9  [222364, 571000, 335185, 558107, 598668, 26134...  0.012803   \n",
       "\n",
       "        datatype_l1              datatype_l2  \\\n",
       "0      alphanumeric  L2OutputTypes.dimension   \n",
       "1      alphanumeric  L2OutputTypes.dimension   \n",
       "2  close_ended_text  L2OutputTypes.dimension   \n",
       "3  close_ended_text  L2OutputTypes.dimension   \n",
       "4       date & time  L2OutputTypes.dimension   \n",
       "5  close_ended_text  L2OutputTypes.dimension   \n",
       "6  close_ended_text  L2OutputTypes.dimension   \n",
       "7       date & time  L2OutputTypes.dimension   \n",
       "8  close_ended_text  L2OutputTypes.dimension   \n",
       "9           integer    L2OutputTypes.measure   \n",
       "\n",
       "                                   business_glossary  \\\n",
       "0  Uniquely identifies a product within the compa...   \n",
       "1  Identifies the name used to distinguish and ma...   \n",
       "2  Groups products into distinct classifications ...   \n",
       "3  Indicates the current lifecycle phase of a pro...   \n",
       "4  Indicates the date on which the research and d...   \n",
       "5  Indicates the current phase of development and...   \n",
       "6  Indicates the current phase or outcome of a pr...   \n",
       "7  The date on which a product becomes available ...   \n",
       "8  Identifies the individual responsible for mana...   \n",
       "9  Indicates the monetary expense incurred to pro...   \n",
       "\n",
       "                                       business_tags  \n",
       "0  [Product Identifier, Inventory Management, Cat...  \n",
       "1  [Product Catalog, Product Identification, Busi...  \n",
       "2  [Product Classification, Business Offering, Ma...  \n",
       "3  [Lifecycle Management, Product State, Operatio...  \n",
       "4  [Research And Development, Project Initiation ...  \n",
       "5  [Product Development Lifecycle, Innovation Man...  \n",
       "6  [Product Lifecycle, Launch Planning, Operation...  \n",
       "7  [Product Launch Timeline, Go-To-Market Strateg...  \n",
       "8  [Product Manager, Team Ownership, Project Lead...  \n",
       "9  [Product Pricing, Cost Analysis, Financial Met...  "
      ]
     },
     "execution_count": 4,
     "metadata": {},
     "output_type": "execute_result"
    }
   ],
   "source": [
    "products_dataset = kb.datasets['products']\n",
    "products_dataset.profiling_df\n"
   ]
  },
  {
   "cell_type": "markdown",
   "id": "6b3e8bfd",
   "metadata": {},
   "source": [
    "The profiling results can be accessed through the `profiling_df` property of the `DataSet` object. It's a pandas DataFrame that you can easily explore. \n",
    "> The business glossary is also available in the `profiling_df`:"
   ]
  },
  {
   "cell_type": "markdown",
   "id": "e083a8d8",
   "metadata": {},
   "source": [
    "\n",
    "### Visualizing Relationships\n",
    "\n",
    "The `KnowledgeBuilder` automatically discovers the relationships between your tables. You can access the predicted links as a list of `PredictedLink` objects:\n"
   ]
  },
  {
   "cell_type": "code",
   "execution_count": 5,
   "id": "fe4cd56d",
   "metadata": {},
   "outputs": [
    {
     "data": {
      "text/plain": [
       "[PredictedLink(from_dataset='campaign_survey', from_column='Camp ID', to_dataset='campaigns', to_column='Campaign ID'),\n",
       " PredictedLink(from_dataset='campaigns', from_column='Prospect ID', to_dataset='customers', to_column='C_ID'),\n",
       " PredictedLink(from_dataset='campaigns', from_column='Prod_ID', to_dataset='products', to_column='Product ID'),\n",
       " PredictedLink(from_dataset='campaigns', from_column='Campaign ID', to_dataset='website', to_column='Cmgn ID'),\n",
       " PredictedLink(from_dataset='customer_hierarchy', from_column='Party ID', to_dataset='customers', to_column='C_ID'),\n",
       " PredictedLink(from_dataset='customers', from_column='C_ID', to_dataset='delivery_survey', to_column='Customer ID'),\n",
       " PredictedLink(from_dataset='customers', from_column='C_ID', to_dataset='expense', to_column='Contact ID'),\n",
       " PredictedLink(from_dataset='customers', from_column='C_ID', to_dataset='install_base', to_column='Party ID'),\n",
       " PredictedLink(from_dataset='customers', from_column='C_ID', to_dataset='logistics', to_column='Cust_ID'),\n",
       " PredictedLink(from_dataset='customers', from_column='C_ID', to_dataset='nps_survey', to_column='Customer_ID'),\n",
       " PredictedLink(from_dataset='customers', from_column='C_ID', to_dataset='opportunity', to_column='Cust ID'),\n",
       " PredictedLink(from_dataset='customers', from_column='C_ID', to_dataset='orders', to_column='Party ID'),\n",
       " PredictedLink(from_dataset='customers', from_column='C_ID', to_dataset='renewals', to_column='Cus ID'),\n",
       " PredictedLink(from_dataset='customers', from_column='C_ID', to_dataset='returns', to_column='Customer ID'),\n",
       " PredictedLink(from_dataset='customers', from_column='C_ID', to_dataset='service_requests', to_column='C ID'),\n",
       " PredictedLink(from_dataset='delivery_survey', from_column='Odr ID', to_dataset='install_base', to_column='Order ID'),\n",
       " PredictedLink(from_dataset='delivery_survey', from_column='Odr ID', to_dataset='orders', to_column='Order ID'),\n",
       " PredictedLink(from_dataset='delivery_survey', from_column='PD ID', to_dataset='products', to_column='Product ID'),\n",
       " PredictedLink(from_dataset='delivery_survey', from_column='Odr ID', to_dataset='renewals', to_column='Od ID'),\n",
       " PredictedLink(from_dataset='delivery_survey', from_column='Odr ID', to_dataset='returns', to_column='R Order ID'),\n",
       " PredictedLink(from_dataset='expense', from_column='Invoice Number', to_dataset='inventory', to_column='Inventory ID'),\n",
       " PredictedLink(from_dataset='install_base', from_column='Order ID', to_dataset='logistics', to_column='Od_Contract_ID'),\n",
       " PredictedLink(from_dataset='install_base', from_column='Order ID', to_dataset='orders', to_column='Order ID'),\n",
       " PredictedLink(from_dataset='install_base', from_column='Product ID', to_dataset='products', to_column='Product ID'),\n",
       " PredictedLink(from_dataset='install_base', from_column='Order ID', to_dataset='renewals', to_column='Od ID'),\n",
       " PredictedLink(from_dataset='install_base', from_column='Order ID', to_dataset='returns', to_column='R Order ID'),\n",
       " PredictedLink(from_dataset='install_base', from_column='Order ID', to_dataset='service_requests', to_column='Sales Ord ID'),\n",
       " PredictedLink(from_dataset='inventory', from_column='Prod_ID', to_dataset='products', to_column='Product ID'),\n",
       " PredictedLink(from_dataset='logistics', from_column='Od_Contract_ID', to_dataset='orders', to_column='Order ID'),\n",
       " PredictedLink(from_dataset='logistics', from_column='Od_Contract_ID', to_dataset='renewals', to_column='Od ID'),\n",
       " PredictedLink(from_dataset='logistics', from_column='Od_Contract_ID', to_dataset='returns', to_column='R Order ID'),\n",
       " PredictedLink(from_dataset='nps_survey', from_column='Incident ID', to_dataset='prob_statement_issue', to_column='SR ID'),\n",
       " PredictedLink(from_dataset='nps_survey', from_column='Return_ID', to_dataset='returns', to_column='Return_ID'),\n",
       " PredictedLink(from_dataset='nps_survey', from_column='Incident ID', to_dataset='service_requests', to_column='SR ID'),\n",
       " PredictedLink(from_dataset='orders', from_column='Product ID', to_dataset='products', to_column='Product ID'),\n",
       " PredictedLink(from_dataset='orders', from_column='Order ID', to_dataset='renewals', to_column='Od ID'),\n",
       " PredictedLink(from_dataset='orders', from_column='Order ID', to_dataset='returns', to_column='R Order ID'),\n",
       " PredictedLink(from_dataset='orders', from_column='Order ID', to_dataset='service_requests', to_column='Sales Ord ID'),\n",
       " PredictedLink(from_dataset='prob_statement_issue', from_column='Pd_ID', to_dataset='products', to_column='Product ID'),\n",
       " PredictedLink(from_dataset='prob_statement_issue', from_column='SR ID', to_dataset='returns', to_column='SR ID'),\n",
       " PredictedLink(from_dataset='prob_statement_issue', from_column='SR ID', to_dataset='service_requests', to_column='SR ID'),\n",
       " PredictedLink(from_dataset='product_feature', from_column='P_ID', to_dataset='products', to_column='Product ID'),\n",
       " PredictedLink(from_dataset='product_hierarchy', from_column='Product ID', to_dataset='products', to_column='Product ID'),\n",
       " PredictedLink(from_dataset='products', from_column='Product ID', to_dataset='renewals', to_column='Pr ID'),\n",
       " PredictedLink(from_dataset='products', from_column='Product ID', to_dataset='returns', to_column='Product ID'),\n",
       " PredictedLink(from_dataset='products', from_column='Product ID', to_dataset='service_requests', to_column='Prod ID'),\n",
       " PredictedLink(from_dataset='renewals', from_column='Od ID', to_dataset='returns', to_column='R Order ID'),\n",
       " PredictedLink(from_dataset='returns', from_column='SR ID', to_dataset='service_requests', to_column='SR ID')]"
      ]
     },
     "execution_count": 5,
     "metadata": {},
     "output_type": "execute_result"
    }
   ],
   "source": [
    "kb.links"
   ]
  },
  {
   "cell_type": "markdown",
   "id": "9c8aa361",
   "metadata": {},
   "source": [
    "You can also visualize these relationships as a graph. In case you run into an error, make sure you install/upgrade your ipykernel package:\n",
    "> %pip install --upgrade ipykernel"
   ]
  },
  {
   "cell_type": "code",
   "execution_count": null,
   "id": "a59704ba",
   "metadata": {},
   "outputs": [
    {
     "data": {
      "image/png": "[encoded data removed]",
      "text/plain": [
       "<Figure size 2000x2000 with 1 Axes>"
      ]
     },
     "metadata": {},
     "output_type": "display_data"
    }
   ],
   "source": [
    "kb.visualize()  # To visualize the relationships as a graph\n"
   ]
  },
  {
   "cell_type": "markdown",
   "id": "32fd4917",
   "metadata": {},
   "source": [
    "## 4. The Semantic Layer\n",
    "\n",
    "The KnowledgeBuilder results are used to generate YAML files which are saved automatically. These files defines the semantic layer, including the models (tables) and their relationships. \n",
    "\n",
    "By default, these files are saved in the current working directory. You can configure this path by setting the `PROJECT_BASE` environment variable.\n"
   ]
  },
  {
   "cell_type": "markdown",
   "id": "eb79c617",
   "metadata": {},
   "source": [
    "## 5. Semantic Search\n",
    "\n",
    "The semantic search feature allows you to search for columns in your datasets using natural language. \n",
    "\n",
    "> **Note:** To use this feature, you need to have a running Qdrant instance and an OpenAI API key. Please refer to the [README.md](README.md) for detailed setup instructions.\n",
    "\n",
    "Once you have built the knowledge base, you can use the `search` method to perform a semantic search. The search function returns a pandas DataFrame containing the search results, including the column's profiling metrics, category, table name, and table glossary.\n"
   ]
  },
  {
   "cell_type": "code",
   "execution_count": 24,
   "id": "ddbc8fd1",
   "metadata": {},
   "outputs": [
    {
     "name": "stderr",
     "output_type": "stream",
     "text": [
      "/home/raphael/Downloads/intugle_demo/env/lib/python3.12/site-packages/intugle/core/vector_store/qdrant.py:77: UserWarning: Api key is used with an insecure connection.\n",
      "  self._client = AsyncQdrantClient(**self.client_config)\n",
      "/home/raphael/Downloads/intugle_demo/env/lib/python3.12/site-packages/intugle/core/vector_store/qdrant.py:77: UserWarning: Api key is used with an insecure connection.\n",
      "  self._client = AsyncQdrantClient(**self.client_config)\n",
      "/home/raphael/Downloads/intugle_demo/env/lib/python3.12/site-packages/intugle/core/semantic_search/semantic_search.py:156: SettingWithCopyWarning: \n",
      "A value is trying to be set on a copy of a slice from a DataFrame.\n",
      "Try using .loc[row_indexer,col_indexer] = value instead\n",
      "\n",
      "See the caveats in the documentation: https://pandas.pydata.org/pandas-docs/stable/user_guide/indexing.html#returning-a-view-versus-a-copy\n",
      "  late_embedding_result_glossary[\"score\"] = late_embedding_result_glossary[\"score\"] / len(late_vector)\n"
     ]
    },
    {
     "data": {
      "text/html": [
       "<div>\n",
       "<style scoped>\n",
       "    .dataframe tbody tr th:only-of-type {\n",
       "        vertical-align: middle;\n",
       "    }\n",
       "\n",
       "    .dataframe tbody tr th {\n",
       "        vertical-align: top;\n",
       "    }\n",
       "\n",
       "    .dataframe thead th {\n",
       "        text-align: right;\n",
       "    }\n",
       "</style>\n",
       "<table border=\"1\" class=\"dataframe\">\n",
       "  <thead>\n",
       "    <tr style=\"text-align: right;\">\n",
       "      <th></th>\n",
       "      <th>column_id</th>\n",
       "      <th>score</th>\n",
       "      <th>relevancy</th>\n",
       "      <th>column_name</th>\n",
       "      <th>column_glossary</th>\n",
       "      <th>column_tags</th>\n",
       "      <th>category</th>\n",
       "      <th>table_name</th>\n",
       "      <th>table_glossary</th>\n",
       "      <th>uniqueness</th>\n",
       "      <th>completeness</th>\n",
       "      <th>count</th>\n",
       "      <th>null_count</th>\n",
       "      <th>distinct_count</th>\n",
       "      <th>sample_data</th>\n",
       "    </tr>\n",
       "  </thead>\n",
       "  <tbody>\n",
       "    <tr>\n",
       "      <th>0</th>\n",
       "      <td>orders.Order Status</td>\n",
       "      <td>0.930471</td>\n",
       "      <td>most-relevant</td>\n",
       "      <td>Order Status</td>\n",
       "      <td>Indicates the current state or outcome of an o...</td>\n",
       "      <td>[Order Lifecycle, Fulfillment Status, Customer...</td>\n",
       "      <td>dimension</td>\n",
       "      <td>orders</td>\n",
       "      <td>Captures details of customer transactions, inc...</td>\n",
       "      <td>0.001</td>\n",
       "      <td>1.0</td>\n",
       "      <td>5000</td>\n",
       "      <td>0</td>\n",
       "      <td>5</td>\n",
       "      <td>[Returned, In Progress, Cancelled, Shipped, De...</td>\n",
       "    </tr>\n",
       "    <tr>\n",
       "      <th>1</th>\n",
       "      <td>nps_survey.Customer_ID</td>\n",
       "      <td>0.925135</td>\n",
       "      <td>most-relevant</td>\n",
       "      <td>Customer_ID</td>\n",
       "      <td>Identifies individuals or entities participati...</td>\n",
       "      <td>[Customer Identifier, Survey Respondent, Custo...</td>\n",
       "      <td>dimension</td>\n",
       "      <td>nps_survey</td>\n",
       "      <td>Captures customer feedback, satisfaction score...</td>\n",
       "      <td>0.615</td>\n",
       "      <td>1.0</td>\n",
       "      <td>1000</td>\n",
       "      <td>0</td>\n",
       "      <td>615</td>\n",
       "      <td>[CUST-10388, CUST-10839, CUST-10140, CUST-1053...</td>\n",
       "    </tr>\n",
       "    <tr>\n",
       "      <th>2</th>\n",
       "      <td>returns.Customer ID</td>\n",
       "      <td>0.925055</td>\n",
       "      <td>most-relevant</td>\n",
       "      <td>Customer ID</td>\n",
       "      <td>Identifies the individual or organization asso...</td>\n",
       "      <td>[Customer Identification, Returns Management, ...</td>\n",
       "      <td>dimension</td>\n",
       "      <td>returns</td>\n",
       "      <td>Tracks customer-initiated product returns, cap...</td>\n",
       "      <td>0.652</td>\n",
       "      <td>1.0</td>\n",
       "      <td>1000</td>\n",
       "      <td>0</td>\n",
       "      <td>652</td>\n",
       "      <td>[CUST-10373, CUST-10338, CUST-10277, CUST-1095...</td>\n",
       "    </tr>\n",
       "    <tr>\n",
       "      <th>3</th>\n",
       "      <td>delivery_survey.Customer ID</td>\n",
       "      <td>0.925055</td>\n",
       "      <td>most-relevant</td>\n",
       "      <td>Customer ID</td>\n",
       "      <td>Uniquely identifies a customer participating i...</td>\n",
       "      <td>[Customer Identifier, Survey Respondent, Deliv...</td>\n",
       "      <td>dimension</td>\n",
       "      <td>delivery_survey</td>\n",
       "      <td>Captures customer feedback, delivery satisfact...</td>\n",
       "      <td>0.627</td>\n",
       "      <td>1.0</td>\n",
       "      <td>1000</td>\n",
       "      <td>0</td>\n",
       "      <td>627</td>\n",
       "      <td>[CUST-10922, CUST-10726, CUST-10506, CUST-1029...</td>\n",
       "    </tr>\n",
       "    <tr>\n",
       "      <th>4</th>\n",
       "      <td>customers.Address</td>\n",
       "      <td>0.923417</td>\n",
       "      <td>most-relevant</td>\n",
       "      <td>Address</td>\n",
       "      <td>Location information associated with a custome...</td>\n",
       "      <td>[Mailing Address, Customer Location, Military ...</td>\n",
       "      <td>dimension</td>\n",
       "      <td>customers</td>\n",
       "      <td>Captures key details about organizations, incl...</td>\n",
       "      <td>1.000</td>\n",
       "      <td>1.0</td>\n",
       "      <td>1000</td>\n",
       "      <td>0</td>\n",
       "      <td>1000</td>\n",
       "      <td>[USS Johnson, FPO AA 67889, 45328 Bradley Trac...</td>\n",
       "    </tr>\n",
       "    <tr>\n",
       "      <th>...</th>\n",
       "      <td>...</td>\n",
       "      <td>...</td>\n",
       "      <td>...</td>\n",
       "      <td>...</td>\n",
       "      <td>...</td>\n",
       "      <td>...</td>\n",
       "      <td>...</td>\n",
       "      <td>...</td>\n",
       "      <td>...</td>\n",
       "      <td>...</td>\n",
       "      <td>...</td>\n",
       "      <td>...</td>\n",
       "      <td>...</td>\n",
       "      <td>...</td>\n",
       "      <td>...</td>\n",
       "    </tr>\n",
       "    <tr>\n",
       "      <th>188</th>\n",
       "      <td>install_base.Product ID</td>\n",
       "      <td>0.809443</td>\n",
       "      <td>relevant</td>\n",
       "      <td>Product ID</td>\n",
       "      <td>Identifies individual products within the comp...</td>\n",
       "      <td>[Product Identifier, Inventory Tracking, Insta...</td>\n",
       "      <td>dimension</td>\n",
       "      <td>install_base</td>\n",
       "      <td>Tracks customer orders, including product deta...</td>\n",
       "      <td>0.630</td>\n",
       "      <td>1.0</td>\n",
       "      <td>1000</td>\n",
       "      <td>0</td>\n",
       "      <td>630</td>\n",
       "      <td>[PROD-11532, PROD-11363, PROD-11276, PROD-1120...</td>\n",
       "    </tr>\n",
       "    <tr>\n",
       "      <th>189</th>\n",
       "      <td>inventory.Storage Condition</td>\n",
       "      <td>0.809160</td>\n",
       "      <td>relevant</td>\n",
       "      <td>Storage Condition</td>\n",
       "      <td>Defines the environmental or regulatory requir...</td>\n",
       "      <td>[Environmental Requirements, Inventory Classif...</td>\n",
       "      <td>dimension</td>\n",
       "      <td>inventory</td>\n",
       "      <td>Tracks the availability, status, and location ...</td>\n",
       "      <td>0.003</td>\n",
       "      <td>1.0</td>\n",
       "      <td>1000</td>\n",
       "      <td>0</td>\n",
       "      <td>3</td>\n",
       "      <td>[Normal, Restricted, Climate-Controlled]</td>\n",
       "    </tr>\n",
       "    <tr>\n",
       "      <th>190</th>\n",
       "      <td>inventory.Product Name</td>\n",
       "      <td>0.806103</td>\n",
       "      <td>relevant</td>\n",
       "      <td>Product Name</td>\n",
       "      <td>Identifies the specific product available in t...</td>\n",
       "      <td>[Product Catalog, Network Equipment, Technolog...</td>\n",
       "      <td>dimension</td>\n",
       "      <td>inventory</td>\n",
       "      <td>Tracks the availability, status, and location ...</td>\n",
       "      <td>0.005</td>\n",
       "      <td>1.0</td>\n",
       "      <td>1000</td>\n",
       "      <td>0</td>\n",
       "      <td>5</td>\n",
       "      <td>[CloudHub Gateway, SmartEdge Router, Nova Fire...</td>\n",
       "    </tr>\n",
       "    <tr>\n",
       "      <th>191</th>\n",
       "      <td>products.Product ID</td>\n",
       "      <td>0.804653</td>\n",
       "      <td>relevant</td>\n",
       "      <td>Product ID</td>\n",
       "      <td>Uniquely identifies a product within the compa...</td>\n",
       "      <td>[Product Identifier, Inventory Management, Cat...</td>\n",
       "      <td>dimension</td>\n",
       "      <td>products</td>\n",
       "      <td>Tracks the lifecycle, categorization, and mana...</td>\n",
       "      <td>1.000</td>\n",
       "      <td>1.0</td>\n",
       "      <td>1000</td>\n",
       "      <td>0</td>\n",
       "      <td>1000</td>\n",
       "      <td>[PROD-11043, PROD-11099, PROD-11232, PROD-1126...</td>\n",
       "    </tr>\n",
       "    <tr>\n",
       "      <th>192</th>\n",
       "      <td>inventory.Prod_ID</td>\n",
       "      <td>0.801500</td>\n",
       "      <td>relevant</td>\n",
       "      <td>Prod_ID</td>\n",
       "      <td>Identifies individual products within the comp...</td>\n",
       "      <td>[Product Identifier, Inventory Management, Uni...</td>\n",
       "      <td>dimension</td>\n",
       "      <td>inventory</td>\n",
       "      <td>Tracks the availability, status, and location ...</td>\n",
       "      <td>0.621</td>\n",
       "      <td>1.0</td>\n",
       "      <td>1000</td>\n",
       "      <td>0</td>\n",
       "      <td>621</td>\n",
       "      <td>[PROD-11044, PROD-11944, PROD-11571, PROD-1128...</td>\n",
       "    </tr>\n",
       "  </tbody>\n",
       "</table>\n",
       "<p>193 rows × 15 columns</p>\n",
       "</div>"
      ],
      "text/plain": [
       "                       column_id     score      relevancy        column_name  \\\n",
       "0            orders.Order Status  0.930471  most-relevant       Order Status   \n",
       "1         nps_survey.Customer_ID  0.925135  most-relevant        Customer_ID   \n",
       "2            returns.Customer ID  0.925055  most-relevant        Customer ID   \n",
       "3    delivery_survey.Customer ID  0.925055  most-relevant        Customer ID   \n",
       "4              customers.Address  0.923417  most-relevant            Address   \n",
       "..                           ...       ...            ...                ...   \n",
       "188      install_base.Product ID  0.809443       relevant         Product ID   \n",
       "189  inventory.Storage Condition  0.809160       relevant  Storage Condition   \n",
       "190       inventory.Product Name  0.806103       relevant       Product Name   \n",
       "191          products.Product ID  0.804653       relevant         Product ID   \n",
       "192            inventory.Prod_ID  0.801500       relevant            Prod_ID   \n",
       "\n",
       "                                       column_glossary  \\\n",
       "0    Indicates the current state or outcome of an o...   \n",
       "1    Identifies individuals or entities participati...   \n",
       "2    Identifies the individual or organization asso...   \n",
       "3    Uniquely identifies a customer participating i...   \n",
       "4    Location information associated with a custome...   \n",
       "..                                                 ...   \n",
       "188  Identifies individual products within the comp...   \n",
       "189  Defines the environmental or regulatory requir...   \n",
       "190  Identifies the specific product available in t...   \n",
       "191  Uniquely identifies a product within the compa...   \n",
       "192  Identifies individual products within the comp...   \n",
       "\n",
       "                                           column_tags   category  \\\n",
       "0    [Order Lifecycle, Fulfillment Status, Customer...  dimension   \n",
       "1    [Customer Identifier, Survey Respondent, Custo...  dimension   \n",
       "2    [Customer Identification, Returns Management, ...  dimension   \n",
       "3    [Customer Identifier, Survey Respondent, Deliv...  dimension   \n",
       "4    [Mailing Address, Customer Location, Military ...  dimension   \n",
       "..                                                 ...        ...   \n",
       "188  [Product Identifier, Inventory Tracking, Insta...  dimension   \n",
       "189  [Environmental Requirements, Inventory Classif...  dimension   \n",
       "190  [Product Catalog, Network Equipment, Technolog...  dimension   \n",
       "191  [Product Identifier, Inventory Management, Cat...  dimension   \n",
       "192  [Product Identifier, Inventory Management, Uni...  dimension   \n",
       "\n",
       "          table_name                                     table_glossary  \\\n",
       "0             orders  Captures details of customer transactions, inc...   \n",
       "1         nps_survey  Captures customer feedback, satisfaction score...   \n",
       "2            returns  Tracks customer-initiated product returns, cap...   \n",
       "3    delivery_survey  Captures customer feedback, delivery satisfact...   \n",
       "4          customers  Captures key details about organizations, incl...   \n",
       "..               ...                                                ...   \n",
       "188     install_base  Tracks customer orders, including product deta...   \n",
       "189        inventory  Tracks the availability, status, and location ...   \n",
       "190        inventory  Tracks the availability, status, and location ...   \n",
       "191         products  Tracks the lifecycle, categorization, and mana...   \n",
       "192        inventory  Tracks the availability, status, and location ...   \n",
       "\n",
       "     uniqueness  completeness  count  null_count  distinct_count  \\\n",
       "0         0.001           1.0   5000           0               5   \n",
       "1         0.615           1.0   1000           0             615   \n",
       "2         0.652           1.0   1000           0             652   \n",
       "3         0.627           1.0   1000           0             627   \n",
       "4         1.000           1.0   1000           0            1000   \n",
       "..          ...           ...    ...         ...             ...   \n",
       "188       0.630           1.0   1000           0             630   \n",
       "189       0.003           1.0   1000           0               3   \n",
       "190       0.005           1.0   1000           0               5   \n",
       "191       1.000           1.0   1000           0            1000   \n",
       "192       0.621           1.0   1000           0             621   \n",
       "\n",
       "                                           sample_data  \n",
       "0    [Returned, In Progress, Cancelled, Shipped, De...  \n",
       "1    [CUST-10388, CUST-10839, CUST-10140, CUST-1053...  \n",
       "2    [CUST-10373, CUST-10338, CUST-10277, CUST-1095...  \n",
       "3    [CUST-10922, CUST-10726, CUST-10506, CUST-1029...  \n",
       "4    [USS Johnson, FPO AA 67889, 45328 Bradley Trac...  \n",
       "..                                                 ...  \n",
       "188  [PROD-11532, PROD-11363, PROD-11276, PROD-1120...  \n",
       "189           [Normal, Restricted, Climate-Controlled]  \n",
       "190  [CloudHub Gateway, SmartEdge Router, Nova Fire...  \n",
       "191  [PROD-11043, PROD-11099, PROD-11232, PROD-1126...  \n",
       "192  [PROD-11044, PROD-11944, PROD-11571, PROD-1128...  \n",
       "\n",
       "[193 rows x 15 columns]"
      ]
     },
     "execution_count": 24,
     "metadata": {},
     "output_type": "execute_result"
    }
   ],
   "source": [
    "# Perform a semantic search\n",
    "search_results = kb.search(\"customer orders\")\n",
    "\n",
    "# View the search results\n",
    "search_results"
   ]
  },
  {
   "cell_type": "markdown",
   "id": "3d086f45",
   "metadata": {},
   "source": [
    "## 6. Data Product Creation\n",
    "\n",
    "The semantic layer serves as a foundation for the DataProductBuilder, which streamlines the creation of reusable data products. This allows you\n",
    "to encapsulate business logic and create standardized, trustworthy data assets that can be easily shared and reused across different teams and \n",
    "applications.\n",
    "\n",
    "Let's define the model for the data product we want to build:"
   ]
  },
  {
   "cell_type": "code",
   "execution_count": null,
   "id": "4b3ca934",
   "metadata": {},
   "outputs": [],
   "source": [
    "data_product_config = {\n",
    "  \"name\": \"product_performance_and_returns\",\n",
    "  \"fields\": [\n",
    "    {\n",
    "      \"id\": \"products.Product Name\",\n",
    "      \"name\": \"product_name\",\n",
    "      \"category\": \"dimension\"\n",
    "    },\n",
    "    {\n",
    "         \"id\": \"products.Product Category\",\n",
    "         \"name\": \"product_category\",\n",
    "         \"category\": \"dimension\"\n",
    "       },\n",
    "       {\n",
    "         \"id\": \"orders.Order Value ($)\",\n",
    "         \"name\": \"total_sales_revenue\",\n",
    "         \"category\": \"measure\",\n",
    "         \"measure_func\": \"sum\"\n",
    "       },\n",
    "       {\n",
    "         \"id\": \"returns.Return Value ($)\",\n",
    "         \"name\": \"total_return_value\",\n",
    "         \"category\": \"measure\",\n",
    "         \"measure_func\": \"sum\"\n",
    "       },\n",
    "       {\n",
    "         \"id\": \"returns.Return_ID\",\n",
    "         \"name\": \"number_of_returns\",\n",
    "         \"category\": \"measure\",\n",
    "         \"measure_func\": \"countDistinct\"\n",
    "       },\n",
    "       {\n",
    "         \"id\": \"orders.Order ID\",\n",
    "         \"name\": \"number_of_orders\",\n",
    "         \"category\": \"measure\",\n",
    "         \"measure_func\": \"countDistinct\"\n",
    "       }\n",
    "     ],\n",
    "     \"filter\": {\n",
    "       \"selections\": [],\n",
    "       \"wildcards\": [],\n",
    "       \"sort_by\": [\n",
    "         {\n",
    "           \"id\": \"orders.Order Value ($)\",\n",
    "           \"alias\": \"total_sales_revenue\",\n",
    "           \"direction\": \"desc\"\n",
    "         }\n",
    "       ],\n",
    "       \"limit\": 1000\n",
    "     }\n",
    "   }"
   ]
  },
  {
   "cell_type": "markdown",
   "id": "2e4ff6be",
   "metadata": {},
   "source": [
    "Now, let's use the `DataProductBuilder` to generate the data product:"
   ]
  },
  {
   "cell_type": "code",
   "execution_count": null,
   "id": "e0f9a090",
   "metadata": {},
   "outputs": [
    {
     "name": "stdout",
     "output_type": "stream",
     "text": [
      "campaign_survey loaded\n",
      "website loaded\n",
      "expense loaded\n",
      "product_feature loaded\n",
      "renewals loaded\n",
      "nps_survey loaded\n",
      "customer_hierarchy loaded\n",
      "products loaded\n",
      "service_requests loaded\n",
      "product_hierarchy loaded\n",
      "inventory loaded\n",
      "customers loaded\n",
      "campaigns loaded\n",
      "opportunity loaded\n",
      "orders loaded\n",
      "prob_statement_issue loaded\n",
      "delivery_survey loaded\n",
      "returns loaded\n",
      "install_base loaded\n",
      "logistics loaded\n",
      "product_performance_and_returns\n",
      "product_performance_and_returns loaded\n"
     ]
    },
    {
     "data": {
      "text/html": [
       "<div>\n",
       "<style scoped>\n",
       "    .dataframe tbody tr th:only-of-type {\n",
       "        vertical-align: middle;\n",
       "    }\n",
       "\n",
       "    .dataframe tbody tr th {\n",
       "        vertical-align: top;\n",
       "    }\n",
       "\n",
       "    .dataframe thead th {\n",
       "        text-align: right;\n",
       "    }\n",
       "</style>\n",
       "<table border=\"1\" class=\"dataframe\">\n",
       "  <thead>\n",
       "    <tr style=\"text-align: right;\">\n",
       "      <th></th>\n",
       "      <th>product_name</th>\n",
       "      <th>product_category</th>\n",
       "      <th>total_sales_revenue</th>\n",
       "      <th>total_return_value</th>\n",
       "      <th>number_of_returns</th>\n",
       "      <th>number_of_orders</th>\n",
       "    </tr>\n",
       "  </thead>\n",
       "  <tbody>\n",
       "    <tr>\n",
       "      <th>0</th>\n",
       "      <td>CloudEdge</td>\n",
       "      <td>Analytics</td>\n",
       "      <td>744371.0</td>\n",
       "      <td>142151.0</td>\n",
       "      <td>57</td>\n",
       "      <td>54</td>\n",
       "    </tr>\n",
       "    <tr>\n",
       "      <th>1</th>\n",
       "      <td>CloudEdge</td>\n",
       "      <td>Security</td>\n",
       "      <td>692871.0</td>\n",
       "      <td>116077.0</td>\n",
       "      <td>50</td>\n",
       "      <td>49</td>\n",
       "    </tr>\n",
       "    <tr>\n",
       "      <th>2</th>\n",
       "      <td>CoreAnalytics</td>\n",
       "      <td>Networking</td>\n",
       "      <td>657035.0</td>\n",
       "      <td>102221.0</td>\n",
       "      <td>51</td>\n",
       "      <td>46</td>\n",
       "    </tr>\n",
       "    <tr>\n",
       "      <th>3</th>\n",
       "      <td>DataSphere</td>\n",
       "      <td>Analytics</td>\n",
       "      <td>626508.0</td>\n",
       "      <td>106046.0</td>\n",
       "      <td>46</td>\n",
       "      <td>45</td>\n",
       "    </tr>\n",
       "    <tr>\n",
       "      <th>4</th>\n",
       "      <td>DataSphere</td>\n",
       "      <td>Networking</td>\n",
       "      <td>584554.0</td>\n",
       "      <td>101226.0</td>\n",
       "      <td>42</td>\n",
       "      <td>40</td>\n",
       "    </tr>\n",
       "    <tr>\n",
       "      <th>5</th>\n",
       "      <td>DataSphere</td>\n",
       "      <td>Cloud Platform</td>\n",
       "      <td>566411.0</td>\n",
       "      <td>128116.0</td>\n",
       "      <td>45</td>\n",
       "      <td>39</td>\n",
       "    </tr>\n",
       "    <tr>\n",
       "      <th>6</th>\n",
       "      <td>CloudEdge</td>\n",
       "      <td>IoT</td>\n",
       "      <td>552302.0</td>\n",
       "      <td>94908.0</td>\n",
       "      <td>36</td>\n",
       "      <td>34</td>\n",
       "    </tr>\n",
       "    <tr>\n",
       "      <th>7</th>\n",
       "      <td>CoreAnalytics</td>\n",
       "      <td>Analytics</td>\n",
       "      <td>540459.0</td>\n",
       "      <td>92259.0</td>\n",
       "      <td>42</td>\n",
       "      <td>39</td>\n",
       "    </tr>\n",
       "    <tr>\n",
       "      <th>8</th>\n",
       "      <td>NetConnect</td>\n",
       "      <td>Cloud Platform</td>\n",
       "      <td>527363.0</td>\n",
       "      <td>123900.0</td>\n",
       "      <td>43</td>\n",
       "      <td>39</td>\n",
       "    </tr>\n",
       "    <tr>\n",
       "      <th>9</th>\n",
       "      <td>CloudEdge</td>\n",
       "      <td>Cloud Platform</td>\n",
       "      <td>524343.0</td>\n",
       "      <td>94432.0</td>\n",
       "      <td>37</td>\n",
       "      <td>36</td>\n",
       "    </tr>\n",
       "    <tr>\n",
       "      <th>10</th>\n",
       "      <td>Insight360</td>\n",
       "      <td>IoT</td>\n",
       "      <td>519629.0</td>\n",
       "      <td>79866.0</td>\n",
       "      <td>41</td>\n",
       "      <td>37</td>\n",
       "    </tr>\n",
       "    <tr>\n",
       "      <th>11</th>\n",
       "      <td>Insight360</td>\n",
       "      <td>Cloud Platform</td>\n",
       "      <td>519201.0</td>\n",
       "      <td>114911.0</td>\n",
       "      <td>42</td>\n",
       "      <td>36</td>\n",
       "    </tr>\n",
       "    <tr>\n",
       "      <th>12</th>\n",
       "      <td>Insight360</td>\n",
       "      <td>Analytics</td>\n",
       "      <td>509140.0</td>\n",
       "      <td>110683.0</td>\n",
       "      <td>40</td>\n",
       "      <td>35</td>\n",
       "    </tr>\n",
       "    <tr>\n",
       "      <th>13</th>\n",
       "      <td>Insight360</td>\n",
       "      <td>Networking</td>\n",
       "      <td>494479.0</td>\n",
       "      <td>84670.0</td>\n",
       "      <td>35</td>\n",
       "      <td>33</td>\n",
       "    </tr>\n",
       "    <tr>\n",
       "      <th>14</th>\n",
       "      <td>CoreAnalytics</td>\n",
       "      <td>Cloud Platform</td>\n",
       "      <td>484499.0</td>\n",
       "      <td>103017.0</td>\n",
       "      <td>38</td>\n",
       "      <td>32</td>\n",
       "    </tr>\n",
       "    <tr>\n",
       "      <th>15</th>\n",
       "      <td>NetConnect</td>\n",
       "      <td>Networking</td>\n",
       "      <td>476842.0</td>\n",
       "      <td>125650.0</td>\n",
       "      <td>46</td>\n",
       "      <td>40</td>\n",
       "    </tr>\n",
       "    <tr>\n",
       "      <th>16</th>\n",
       "      <td>CloudEdge</td>\n",
       "      <td>Networking</td>\n",
       "      <td>465736.0</td>\n",
       "      <td>95065.0</td>\n",
       "      <td>35</td>\n",
       "      <td>33</td>\n",
       "    </tr>\n",
       "    <tr>\n",
       "      <th>17</th>\n",
       "      <td>Insight360</td>\n",
       "      <td>Security</td>\n",
       "      <td>455691.0</td>\n",
       "      <td>80911.0</td>\n",
       "      <td>36</td>\n",
       "      <td>34</td>\n",
       "    </tr>\n",
       "    <tr>\n",
       "      <th>18</th>\n",
       "      <td>CoreAnalytics</td>\n",
       "      <td>Security</td>\n",
       "      <td>447261.0</td>\n",
       "      <td>86220.0</td>\n",
       "      <td>34</td>\n",
       "      <td>32</td>\n",
       "    </tr>\n",
       "    <tr>\n",
       "      <th>19</th>\n",
       "      <td>DataSphere</td>\n",
       "      <td>IoT</td>\n",
       "      <td>434895.0</td>\n",
       "      <td>87467.0</td>\n",
       "      <td>39</td>\n",
       "      <td>37</td>\n",
       "    </tr>\n",
       "    <tr>\n",
       "      <th>20</th>\n",
       "      <td>NetConnect</td>\n",
       "      <td>IoT</td>\n",
       "      <td>431157.0</td>\n",
       "      <td>96452.0</td>\n",
       "      <td>34</td>\n",
       "      <td>33</td>\n",
       "    </tr>\n",
       "    <tr>\n",
       "      <th>21</th>\n",
       "      <td>NetConnect</td>\n",
       "      <td>Security</td>\n",
       "      <td>400851.0</td>\n",
       "      <td>75441.0</td>\n",
       "      <td>29</td>\n",
       "      <td>25</td>\n",
       "    </tr>\n",
       "    <tr>\n",
       "      <th>22</th>\n",
       "      <td>DataSphere</td>\n",
       "      <td>Security</td>\n",
       "      <td>398253.0</td>\n",
       "      <td>78690.0</td>\n",
       "      <td>33</td>\n",
       "      <td>31</td>\n",
       "    </tr>\n",
       "    <tr>\n",
       "      <th>23</th>\n",
       "      <td>NetConnect</td>\n",
       "      <td>Analytics</td>\n",
       "      <td>391777.0</td>\n",
       "      <td>99878.0</td>\n",
       "      <td>36</td>\n",
       "      <td>34</td>\n",
       "    </tr>\n",
       "    <tr>\n",
       "      <th>24</th>\n",
       "      <td>CoreAnalytics</td>\n",
       "      <td>IoT</td>\n",
       "      <td>390102.0</td>\n",
       "      <td>76707.0</td>\n",
       "      <td>33</td>\n",
       "      <td>32</td>\n",
       "    </tr>\n",
       "  </tbody>\n",
       "</table>\n",
       "</div>"
      ],
      "text/plain": [
       "     product_name product_category  total_sales_revenue  total_return_value  \\\n",
       "0       CloudEdge        Analytics             744371.0            142151.0   \n",
       "1       CloudEdge         Security             692871.0            116077.0   \n",
       "2   CoreAnalytics       Networking             657035.0            102221.0   \n",
       "3      DataSphere        Analytics             626508.0            106046.0   \n",
       "4      DataSphere       Networking             584554.0            101226.0   \n",
       "5      DataSphere   Cloud Platform             566411.0            128116.0   \n",
       "6       CloudEdge              IoT             552302.0             94908.0   \n",
       "7   CoreAnalytics        Analytics             540459.0             92259.0   \n",
       "8      NetConnect   Cloud Platform             527363.0            123900.0   \n",
       "9       CloudEdge   Cloud Platform             524343.0             94432.0   \n",
       "10     Insight360              IoT             519629.0             79866.0   \n",
       "11     Insight360   Cloud Platform             519201.0            114911.0   \n",
       "12     Insight360        Analytics             509140.0            110683.0   \n",
       "13     Insight360       Networking             494479.0             84670.0   \n",
       "14  CoreAnalytics   Cloud Platform             484499.0            103017.0   \n",
       "15     NetConnect       Networking             476842.0            125650.0   \n",
       "16      CloudEdge       Networking             465736.0             95065.0   \n",
       "17     Insight360         Security             455691.0             80911.0   \n",
       "18  CoreAnalytics         Security             447261.0             86220.0   \n",
       "19     DataSphere              IoT             434895.0             87467.0   \n",
       "20     NetConnect              IoT             431157.0             96452.0   \n",
       "21     NetConnect         Security             400851.0             75441.0   \n",
       "22     DataSphere         Security             398253.0             78690.0   \n",
       "23     NetConnect        Analytics             391777.0             99878.0   \n",
       "24  CoreAnalytics              IoT             390102.0             76707.0   \n",
       "\n",
       "    number_of_returns  number_of_orders  \n",
       "0                  57                54  \n",
       "1                  50                49  \n",
       "2                  51                46  \n",
       "3                  46                45  \n",
       "4                  42                40  \n",
       "5                  45                39  \n",
       "6                  36                34  \n",
       "7                  42                39  \n",
       "8                  43                39  \n",
       "9                  37                36  \n",
       "10                 41                37  \n",
       "11                 42                36  \n",
       "12                 40                35  \n",
       "13                 35                33  \n",
       "14                 38                32  \n",
       "15                 46                40  \n",
       "16                 35                33  \n",
       "17                 36                34  \n",
       "18                 34                32  \n",
       "19                 39                37  \n",
       "20                 34                33  \n",
       "21                 29                25  \n",
       "22                 33                31  \n",
       "23                 36                34  \n",
       "24                 33                32  "
      ]
     },
     "execution_count": 17,
     "metadata": {},
     "output_type": "execute_result"
    }
   ],
   "source": [
    "from intugle.dp_builder import DataProductBuilder\n",
    "\n",
    "# Create a DataProductBuilder\n",
    "dp_builder = DataProductBuilder()\n",
    "\n",
    "# Generate the data product\n",
    "data_product = dp_builder.build(data_product_config)\n",
    "\n",
    "data_product.to_df()\n"
   ]
  },
  {
   "cell_type": "markdown",
   "id": "e235b222",
   "metadata": {},
   "source": [
    "The `generate_product` function returns a `DataSet` object. You can also view the generated SQL query used for creating the data product:\n"
   ]
  },
  {
   "cell_type": "code",
   "execution_count": 18,
   "id": "31a3e32a",
   "metadata": {},
   "outputs": [
    {
     "data": {
      "text/plain": [
       "'SELECT \"products\".\"Product Name\" as product_name, \"products\".\"Product Category\" as product_category, sum(\"orders\".\"Order Value ($)\") as total_sales_revenue, sum(\"returns\".\"Return Value ($)\") as total_return_value, count(distinct \"returns\".\"Return_ID\") as number_of_returns, count(distinct \"orders\".\"Order ID\") as number_of_orders FROM returns LEFT JOIN orders ON \"orders\".\"Order ID\" = \"returns\".\"R Order ID\" LEFT JOIN products ON \"orders\".\"Product ID\" = \"products\".\"Product ID\" GROUP BY \"products\".\"Product Name\" , \"products\".\"Product Category\" ORDER BY total_sales_revenue DESC LIMIT 1000'"
      ]
     },
     "execution_count": 18,
     "metadata": {},
     "output_type": "execute_result"
    }
   ],
   "source": [
    "# The generated SQL query\n",
    "data_product.sql_query\n",
    "\n"
   ]
  },
  {
   "cell_type": "markdown",
   "id": "c29d33de",
   "metadata": {},
   "source": [
    "## Conclusion\n",
    "\n",
    "You've learned how to:\n",
    "\n",
    "*   Configure your LLM provider and Embeddings provider.\n",
    "*   Build a knowledge base using the `KnowledgeBuilder`.\n",
    "*   Access enriched metadata, business glossaries and visualize the relationships between your tables.\n",
    "*   Perform semantic search on your knowledge base.\n",
    "*   Generate data products from the semantic layer using the `DataProductBuilder`.\n",
    "\n",
    "This is just a starting point. This project has many other features to explore. We encourage you to try it with your own data and see how it can help you build a powerful semantic layer."
   ]
  }
 ],
 "metadata": {
  "kernelspec": {
   "display_name": "env",
   "language": "python",
   "name": "python3"
  },
  "language_info": {
   "codemirror_mode": {
    "name": "ipython",
    "version": 3
   },
   "file_extension": ".py",
   "mimetype": "text/x-python",
   "name": "python",
   "nbconvert_exporter": "python",
   "pygments_lexer": "ipython3",
   "version": "3.12.3"
  }
 },
 "nbformat": 4,
 "nbformat_minor": 5
}
