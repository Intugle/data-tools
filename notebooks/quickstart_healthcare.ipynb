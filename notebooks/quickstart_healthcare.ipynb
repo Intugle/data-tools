{
 "cells": [
  {
   "cell_type": "markdown",
   "id": "757096f5",
   "metadata": {},
   "source": [
    "# Quickstart: Building a GenAI powered Semantic Intelligence with Intugle\n",
    "\n",
    "This quickstart shows you how to use Intugle’s open-source library to transform fragmented datasets into a connected semantic layer. The semantic layer captures profiling, relationships, and business meaning of your data — making it instantly usable for exploration, search, and data product creation.\n",
    "\n",
    "**What is Semantic Intelligence?**\n",
    "\n",
    "A semantic layer is an intelligent knowledge graph of your data. It connects tables, discovers relationships, and enriches them with business glossaries — so both data teams and business users can query with clarity, not complexity.\n",
    "\n",
    "**Who is this for?**\n",
    "\n",
    "*   **Data Engineers & Architects** often spend weeks manually profiling, classifying, and stitching together fragmented data assets. With Intugle, they can automate this process end-to-end, uncovering meaningful links and relationships to instantly generate a connected semantic layer.\n",
    "*   **Data Analysts & Scientists** spend endless hours on data readiness and preparation before they can even start the real analysis. Intugle accelerates this by providing contextual intelligence, automatically generating SQL and reusable data products enriched with relationships and business meaning.\n",
    "*   **Business Analysts & Decision Makers** are slowed down by constant dependence on technical teams for answers. Intugle removes this bottleneck by enabling natural language queries and semantic search, giving them trusted insights on demand.\n",
    "\n",
    "**In this notebook, you will learn how to:**\n",
    "\n",
    "- **Profile and classify data** : Analyze your data sources to understand their structure, data types, and other characteristics.\n",
    "- **Discover links & relationships among data** : Reveal meaningful connections (PK & FK) across fragmented tables.\n",
    "- **Generate a business glossary & enable semantic search** : Create business-friendly terms and use them to query data with context.\n",
    "- **Create a semantic intelligence layer** : Build a unified model (YAML) of your data and relationships.\n",
    "- **Build unified data products** : Generate reusable SQL queries powered by the semantic layer."
   ]
  },
  {
   "cell_type": "markdown",
   "id": "a2a1b244",
   "metadata": {},
   "source": [
    "## 1. LLM Configuration\n",
    "\n",
    "Before running the project, you need to configure a Large Language Model (LLM). This is used for tasks like generating business glossaries and predicting links between tables. For the semantic search feature, you will also need to set up Qdrant and provide an OpenAI API key. For detailed setup instructions, please refer to the [README.md](README.md) file.\n",
    "\n",
    "You can configure the necessary services by setting the following environment variables:\n",
    "\n",
    "*   `LLM_PROVIDER`: The LLM provider and model to use (e.g., `openai:gpt-3.5-turbo`). The format follows langchain's format for initializing chat models. Checkout how to specify your model [here](https://python.langchain.com/docs/integrations/chat/)\n",
    "*   `API_KEY`: Your API key for the LLM provider. The exact name of the variable may vary from provider to provider (e.g., `OPENAI_API_KEY`, `ANTHROPIC_API_KEY`).\n",
    "*   `QDRANT_URL`: The URL of your Qdrant instance (e.g., `http://localhost:6333`).\n",
    "*   `QDRANT_API_KEY`: Your API key for the Qdrant instance, if authorization is enabled.\n",
    "*   `EMBEDDING_MODEL_NAME`: The embedding model to use. The format follows LangChain's conventions for initializing embedding models (e.g., `openai:ada`, `azure_openai:ada`).\n",
    "*   `OPENAI_API_KEY`: Your OpenAI API key, required if you are using an OpenAI embedding model.\n",
    "*   `AZURE_OPENAI_API_KEY`, `AZURE_OPENAI_ENDPOINT`, `OPENAI_API_VERSION`: Your Azure OpenAI credentials, required if you are using an Azure OpenAI embedding model.\n",
    "\n",
    "Here's an example of how to set these variables in your environment:\n",
    "\n",
    "```bash\n",
    "export LLM_PROVIDER=\"openai:gpt-3.5-turbo\"\n",
    "export OPENAI_API_KEY=\"your-openai-api-key\"\n",
    "```\n",
    "Alternatively, you can set them in the notebook like this:"
   ]
  },
  {
   "cell_type": "code",
   "execution_count": null,
   "id": "36454d44",
   "metadata": {},
   "outputs": [],
   "source": [
    "import os\n",
    "\n",
    "os.environ[\"LLM_PROVIDER\"] = \"openai:gpt-3.5-turbo\"\n",
    "os.environ[\"OPENAI_API_KEY\"] = \"your-openai-api-key\"  # Replace with your actual key\n",
    "\n",
    "# Semantic Search Configuration (Optional)\n",
    "os.environ[\"QDRANT_URL\"] = \"http://localhost:6333\"\n",
    "os.environ[\"QDRANT_API_KEY\"] = \"\" # if authorization is used\n",
    "os.environ[\"EMBEDDING_MODEL_NAME\"] = \"openai:ada\"\n",
    "os.environ[\"OPENAI_API_KEY\"] = \"your-openai-api-key\"\n",
    "\n",
    "# For Azure OpenAI models\n",
    "os.environ[\"EMBEDDING_MODEL_NAME\"] = \"azure_openai:ada\"\n",
    "os.environ[\"AZURE_OPENAI_API_KEY\"] = \"your-azure-openai-api-key\"\n",
    "os.environ[\"AZURE_OPENAI_ENDPOINT\"] = \"your-azure-openai-endpoint\"\n",
    "os.environ[\"OPENAI_API_VERSION\"] = \"your-openai-api-version\"\n",
    "\n"
   ]
  },
  {
   "cell_type": "markdown",
   "id": "fa9fda69",
   "metadata": {},
   "source": [
    "> Currently the langchain packages for OpenAI, Anthropic and Gemini is installed by default. For additional models, make sure you have the integration packages installed. E.g. you should have langchain-deepseek installed to use a DeepSeek model. You can get these packages here: [LangChain Chat Models](https://python.langchain.com/docs/integrations/chat/)"
   ]
  },
  {
   "cell_type": "markdown",
   "id": "a3dad9d8",
   "metadata": {},
   "source": [
    "## 2. Building the Knowledge Base\n",
    "\n",
    "The `KnowledgeBuilder` is the entry point for building your semantic layer. It takes a dictionary of datasets as input and performs the following steps:\n",
    "\n",
    "1.  **Data Profiling:** Calculates statistics for each column, such as distinct count, uniqueness, and completeness.\n",
    "2.  **Datatype Identification:** Identifies the data type of each column (e.g., integer, string, datetime).\n",
    "3.  **Key Identification:** Identifies potential primary keys.\n",
    "4.  **Glossary Generation:** Generates a business glossary for each column using an LLM.\n",
    "5.  **Link Prediction:** Predicts the relationships (foreign keys) between tables.\n",
    "\n",
    "Let's start by defining the datasets we want to use. The path shown below can be a local file path or a remote URL."
   ]
  },
  {
   "cell_type": "code",
   "execution_count": 2,
   "id": "7f0e28d7",
   "metadata": {},
   "outputs": [],
   "source": [
    "def generate_config(table_name: str) -> str:\n",
    "    \"\"\"Append the base URL to the table name.\"\"\"\n",
    "    return {\n",
    "        \"path\": f\"https://raw.githubusercontent.com/Intugle/data-tools/refs/heads/main/sample_data/healthcare/{table_name}.csv\",\n",
    "        \"type\": \"csv\",\n",
    "    }\n",
    "\n",
    "\n",
    "table_names = [\n",
    "    \"allergies\",\n",
    "    \"careplans\",\n",
    "    \"claims\",\n",
    "    \"claims_transactions\",\n",
    "    \"conditions\",\n",
    "    \"devices\",\n",
    "    \"encounters\",\n",
    "    \"imaging_studies\",\n",
    "    \"immunizations\",\n",
    "    \"medications\",\n",
    "    \"observations\",\n",
    "    \"organizations\",\n",
    "    \"patients\",\n",
    "    \"payers\",\n",
    "    \"payer_transitions\",\n",
    "    \"procedures\",\n",
    "    \"providers\",\n",
    "    \"supplies\",\n",
    "]\n",
    "\n",
    "datasets = {table: generate_config(table) for table in table_names}"
   ]
  },
  {
   "cell_type": "markdown",
   "id": "fffe1d34",
   "metadata": {},
   "source": [
    "Now, let's use the `KnowledgeBuilder` to build our semantic layer:\n",
    "\n",
    "> The `domain` parameter helps the LLM generate a more contextual business glossary. It specifies the industry domain that the dataset belongs to (e.g., \"Healthcare\", \"Finance\", \"E-commerce\")."
   ]
  },
  {
   "cell_type": "code",
   "execution_count": 3,
   "id": "ac8a78fa",
   "metadata": {},
   "outputs": [
    {
     "name": "stderr",
     "output_type": "stream",
     "text": [
      "/home/raphael/Downloads/intugle_demo/env/lib/python3.12/site-packages/tqdm/auto.py:21: TqdmWarning: IProgress not found. Please update jupyter and ipywidgets. See https://ipywidgets.readthedocs.io/en/stable/user_install.html\n",
      "  from .autonotebook import tqdm as notebook_tqdm\n",
      "/home/raphael/Downloads/intugle_demo/env/lib/python3.12/site-packages/pydantic/_internal/_fields.py:198: UserWarning: Field name \"schema\" in \"Source\" shadows an attribute in parent \"BaseResource\"\n",
      "  warnings.warn(\n"
     ]
    },
    {
     "name": "stdout",
     "output_type": "stream",
     "text": [
      "allergies loaded\n",
      "careplans loaded\n",
      "claims loaded\n",
      "claims_transactions loaded\n",
      "conditions loaded\n",
      "devices loaded\n",
      "encounters loaded\n",
      "imaging_studies loaded\n",
      "immunizations loaded\n",
      "medications loaded\n",
      "observations loaded\n",
      "organizations loaded\n",
      "patients loaded\n",
      "payers loaded\n",
      "payer_transitions loaded\n",
      "procedures loaded\n",
      "providers loaded\n",
      "supplies loaded\n"
     ]
    },
    {
     "name": "stderr",
     "output_type": "stream",
     "text": [
      "/home/raphael/Downloads/intugle_demo/env/lib/python3.12/site-packages/numpy/_core/fromnumeric.py:3859: RuntimeWarning: Mean of empty slice.\n",
      "  return _methods._mean(a, axis=axis, dtype=dtype,\n",
      "/home/raphael/Downloads/intugle_demo/env/lib/python3.12/site-packages/numpy/_core/_methods.py:144: RuntimeWarning: invalid value encountered in scalar divide\n",
      "  ret = ret.dtype.type(ret / rcount)\n",
      "[!] Empty column encountered for allergies ==> stop ...\n",
      "100%|██████████| 15/15 [00:08<00:00,  1.71it/s]\n",
      "100%|██████████| 15/15 [00:20<00:00,  1.37s/it]\n",
      "/home/raphael/Downloads/intugle_demo/env/lib/python3.12/site-packages/numpy/_core/fromnumeric.py:3859: RuntimeWarning: Mean of empty slice.\n",
      "  return _methods._mean(a, axis=axis, dtype=dtype,\n",
      "/home/raphael/Downloads/intugle_demo/env/lib/python3.12/site-packages/numpy/_core/_methods.py:144: RuntimeWarning: invalid value encountered in scalar divide\n",
      "  ret = ret.dtype.type(ret / rcount)\n",
      "100%|██████████| 9/9 [00:06<00:00,  1.48it/s]\n",
      "[*] careplans:   0%|          | 0/1 [00:00<?, ?it/s]/home/raphael/Downloads/intugle_demo/env/lib/python3.12/site-packages/intugle/core/pipeline/key_identification/ki.py:87: SettingWithCopyWarning: \n",
      "A value is trying to be set on a copy of a slice from a DataFrame\n",
      "\n",
      "See the caveats in the documentation: https://pandas.pydata.org/pandas-docs/stable/user_guide/indexing.html#returning-a-view-versus-a-copy\n",
      "  temp.rename(columns={\"datatype_l1\": \"datatype\"}, inplace=True)\n",
      "[*] careplans: 100%|██████████| 1/1 [00:00<00:00,  2.11it/s]\n",
      "100%|██████████| 9/9 [00:13<00:00,  1.46s/it]\n",
      "/home/raphael/Downloads/intugle_demo/env/lib/python3.12/site-packages/numpy/_core/fromnumeric.py:3859: RuntimeWarning: Mean of empty slice.\n",
      "  return _methods._mean(a, axis=axis, dtype=dtype,\n",
      "/home/raphael/Downloads/intugle_demo/env/lib/python3.12/site-packages/numpy/_core/_methods.py:144: RuntimeWarning: invalid value encountered in scalar divide\n",
      "  ret = ret.dtype.type(ret / rcount)\n",
      "[!] Empty column encountered for claims ==> referringproviderid ...\n",
      "100%|██████████| 31/31 [00:16<00:00,  1.87it/s]\n",
      "[*] claims:   0%|          | 0/1 [00:00<?, ?it/s]/home/raphael/Downloads/intugle_demo/env/lib/python3.12/site-packages/intugle/core/pipeline/key_identification/ki.py:87: SettingWithCopyWarning: \n",
      "A value is trying to be set on a copy of a slice from a DataFrame\n",
      "\n",
      "See the caveats in the documentation: https://pandas.pydata.org/pandas-docs/stable/user_guide/indexing.html#returning-a-view-versus-a-copy\n",
      "  temp.rename(columns={\"datatype_l1\": \"datatype\"}, inplace=True)\n",
      "[*] claims: 100%|██████████| 1/1 [00:00<00:00,  2.22it/s]\n",
      "100%|██████████| 31/31 [00:47<00:00,  1.53s/it]\n",
      "/home/raphael/Downloads/intugle_demo/env/lib/python3.12/site-packages/numpy/_core/fromnumeric.py:3859: RuntimeWarning: Mean of empty slice.\n",
      "  return _methods._mean(a, axis=axis, dtype=dtype,\n",
      "/home/raphael/Downloads/intugle_demo/env/lib/python3.12/site-packages/numpy/_core/_methods.py:144: RuntimeWarning: invalid value encountered in scalar divide\n",
      "  ret = ret.dtype.type(ret / rcount)\n",
      "[!] Empty column encountered for claims_transactions ==> modifier1 ...\n",
      "[!] Empty column encountered for claims_transactions ==> modifier2 ...\n",
      "[!] Empty column encountered for claims_transactions ==> adjustments ...\n",
      "[!] Empty column encountered for claims_transactions ==> linenote ...\n",
      "100%|██████████| 33/33 [00:21<00:00,  1.57it/s]\n",
      "[*] claims_transactions:   0%|          | 0/1 [00:00<?, ?it/s]/home/raphael/Downloads/intugle_demo/env/lib/python3.12/site-packages/intugle/core/pipeline/key_identification/ki.py:87: SettingWithCopyWarning: \n",
      "A value is trying to be set on a copy of a slice from a DataFrame\n",
      "\n",
      "See the caveats in the documentation: https://pandas.pydata.org/pandas-docs/stable/user_guide/indexing.html#returning-a-view-versus-a-copy\n",
      "  temp.rename(columns={\"datatype_l1\": \"datatype\"}, inplace=True)\n",
      "[*] claims_transactions: 100%|██████████| 1/1 [00:00<00:00,  1.03it/s]\n",
      "100%|██████████| 33/33 [00:51<00:00,  1.55s/it]\n",
      "/home/raphael/Downloads/intugle_demo/env/lib/python3.12/site-packages/numpy/_core/fromnumeric.py:3859: RuntimeWarning: Mean of empty slice.\n",
      "  return _methods._mean(a, axis=axis, dtype=dtype,\n",
      "/home/raphael/Downloads/intugle_demo/env/lib/python3.12/site-packages/numpy/_core/_methods.py:144: RuntimeWarning: invalid value encountered in scalar divide\n",
      "  ret = ret.dtype.type(ret / rcount)\n",
      "100%|██████████| 6/6 [00:03<00:00,  1.97it/s]\n",
      "100%|██████████| 6/6 [00:09<00:00,  1.50s/it]\n",
      "/home/raphael/Downloads/intugle_demo/env/lib/python3.12/site-packages/numpy/_core/fromnumeric.py:3859: RuntimeWarning: Mean of empty slice.\n",
      "  return _methods._mean(a, axis=axis, dtype=dtype,\n",
      "/home/raphael/Downloads/intugle_demo/env/lib/python3.12/site-packages/numpy/_core/_methods.py:144: RuntimeWarning: invalid value encountered in scalar divide\n",
      "  ret = ret.dtype.type(ret / rcount)\n",
      "100%|██████████| 7/7 [00:03<00:00,  1.99it/s]\n",
      "[*] devices:   0%|          | 0/1 [00:00<?, ?it/s]/home/raphael/Downloads/intugle_demo/env/lib/python3.12/site-packages/intugle/core/pipeline/key_identification/ki.py:87: SettingWithCopyWarning: \n",
      "A value is trying to be set on a copy of a slice from a DataFrame\n",
      "\n",
      "See the caveats in the documentation: https://pandas.pydata.org/pandas-docs/stable/user_guide/indexing.html#returning-a-view-versus-a-copy\n",
      "  temp.rename(columns={\"datatype_l1\": \"datatype\"}, inplace=True)\n",
      "[*] devices: 100%|██████████| 1/1 [00:00<00:00,  2.00it/s]\n",
      "100%|██████████| 7/7 [00:12<00:00,  1.78s/it]\n",
      "/home/raphael/Downloads/intugle_demo/env/lib/python3.12/site-packages/numpy/_core/fromnumeric.py:3859: RuntimeWarning: Mean of empty slice.\n",
      "  return _methods._mean(a, axis=axis, dtype=dtype,\n",
      "/home/raphael/Downloads/intugle_demo/env/lib/python3.12/site-packages/numpy/_core/_methods.py:144: RuntimeWarning: invalid value encountered in scalar divide\n",
      "  ret = ret.dtype.type(ret / rcount)\n",
      "100%|██████████| 15/15 [00:07<00:00,  2.04it/s]\n",
      "[*] encounters:   0%|          | 0/1 [00:00<?, ?it/s]/home/raphael/Downloads/intugle_demo/env/lib/python3.12/site-packages/intugle/core/pipeline/key_identification/ki.py:87: SettingWithCopyWarning: \n",
      "A value is trying to be set on a copy of a slice from a DataFrame\n",
      "\n",
      "See the caveats in the documentation: https://pandas.pydata.org/pandas-docs/stable/user_guide/indexing.html#returning-a-view-versus-a-copy\n",
      "  temp.rename(columns={\"datatype_l1\": \"datatype\"}, inplace=True)\n",
      "[*] encounters: 100%|██████████| 1/1 [00:00<00:00,  2.36it/s]\n",
      "100%|██████████| 15/15 [00:23<00:00,  1.54s/it]\n",
      "/home/raphael/Downloads/intugle_demo/env/lib/python3.12/site-packages/numpy/_core/fromnumeric.py:3859: RuntimeWarning: Mean of empty slice.\n",
      "  return _methods._mean(a, axis=axis, dtype=dtype,\n",
      "/home/raphael/Downloads/intugle_demo/env/lib/python3.12/site-packages/numpy/_core/_methods.py:144: RuntimeWarning: invalid value encountered in scalar divide\n",
      "  ret = ret.dtype.type(ret / rcount)\n",
      "100%|██████████| 13/13 [00:07<00:00,  1.80it/s]\n",
      "[*] imaging_studies:   0%|          | 0/1 [00:00<?, ?it/s]/home/raphael/Downloads/intugle_demo/env/lib/python3.12/site-packages/intugle/core/pipeline/key_identification/ki.py:87: SettingWithCopyWarning: \n",
      "A value is trying to be set on a copy of a slice from a DataFrame\n",
      "\n",
      "See the caveats in the documentation: https://pandas.pydata.org/pandas-docs/stable/user_guide/indexing.html#returning-a-view-versus-a-copy\n",
      "  temp.rename(columns={\"datatype_l1\": \"datatype\"}, inplace=True)\n",
      "[*] imaging_studies: 100%|██████████| 1/1 [00:00<00:00,  2.13it/s]\n",
      "100%|██████████| 13/13 [00:17<00:00,  1.36s/it]\n",
      "/home/raphael/Downloads/intugle_demo/env/lib/python3.12/site-packages/numpy/_core/fromnumeric.py:3859: RuntimeWarning: Mean of empty slice.\n",
      "  return _methods._mean(a, axis=axis, dtype=dtype,\n",
      "/home/raphael/Downloads/intugle_demo/env/lib/python3.12/site-packages/numpy/_core/_methods.py:144: RuntimeWarning: invalid value encountered in scalar divide\n",
      "  ret = ret.dtype.type(ret / rcount)\n",
      "100%|██████████| 6/6 [00:03<00:00,  1.94it/s]\n",
      "100%|██████████| 6/6 [00:08<00:00,  1.46s/it]\n",
      "/home/raphael/Downloads/intugle_demo/env/lib/python3.12/site-packages/numpy/_core/fromnumeric.py:3859: RuntimeWarning: Mean of empty slice.\n",
      "  return _methods._mean(a, axis=axis, dtype=dtype,\n",
      "/home/raphael/Downloads/intugle_demo/env/lib/python3.12/site-packages/numpy/_core/_methods.py:144: RuntimeWarning: invalid value encountered in scalar divide\n",
      "  ret = ret.dtype.type(ret / rcount)\n",
      "100%|██████████| 13/13 [00:13<00:00,  1.03s/it]\n",
      "100%|██████████| 13/13 [00:20<00:00,  1.55s/it]\n",
      "/home/raphael/Downloads/intugle_demo/env/lib/python3.12/site-packages/numpy/_core/fromnumeric.py:3859: RuntimeWarning: Mean of empty slice.\n",
      "  return _methods._mean(a, axis=axis, dtype=dtype,\n",
      "/home/raphael/Downloads/intugle_demo/env/lib/python3.12/site-packages/numpy/_core/_methods.py:144: RuntimeWarning: invalid value encountered in scalar divide\n",
      "  ret = ret.dtype.type(ret / rcount)\n",
      "100%|██████████| 9/9 [00:05<00:00,  1.57it/s]\n",
      "100%|██████████| 9/9 [00:13<00:00,  1.52s/it]\n",
      "/home/raphael/Downloads/intugle_demo/env/lib/python3.12/site-packages/numpy/_core/fromnumeric.py:3859: RuntimeWarning: Mean of empty slice.\n",
      "  return _methods._mean(a, axis=axis, dtype=dtype,\n",
      "/home/raphael/Downloads/intugle_demo/env/lib/python3.12/site-packages/numpy/_core/_methods.py:144: RuntimeWarning: invalid value encountered in scalar divide\n",
      "  ret = ret.dtype.type(ret / rcount)\n",
      "100%|██████████| 11/11 [00:06<00:00,  1.79it/s]\n",
      "[*] organizations:   0%|          | 0/1 [00:00<?, ?it/s]/home/raphael/Downloads/intugle_demo/env/lib/python3.12/site-packages/intugle/core/pipeline/key_identification/ki.py:87: SettingWithCopyWarning: \n",
      "A value is trying to be set on a copy of a slice from a DataFrame\n",
      "\n",
      "See the caveats in the documentation: https://pandas.pydata.org/pandas-docs/stable/user_guide/indexing.html#returning-a-view-versus-a-copy\n",
      "  temp.rename(columns={\"datatype_l1\": \"datatype\"}, inplace=True)\n",
      "[*] organizations: 100%|██████████| 1/1 [00:00<00:00,  1.57it/s]\n",
      "100%|██████████| 11/11 [00:14<00:00,  1.34s/it]\n",
      "/home/raphael/Downloads/intugle_demo/env/lib/python3.12/site-packages/numpy/_core/fromnumeric.py:3859: RuntimeWarning: Mean of empty slice.\n",
      "  return _methods._mean(a, axis=axis, dtype=dtype,\n",
      "/home/raphael/Downloads/intugle_demo/env/lib/python3.12/site-packages/numpy/_core/_methods.py:144: RuntimeWarning: invalid value encountered in scalar divide\n",
      "  ret = ret.dtype.type(ret / rcount)\n",
      "100%|██████████| 25/25 [00:16<00:00,  1.50it/s]\n",
      "[*] patients:   0%|          | 0/1 [00:00<?, ?it/s]/home/raphael/Downloads/intugle_demo/env/lib/python3.12/site-packages/intugle/core/pipeline/key_identification/ki.py:87: SettingWithCopyWarning: \n",
      "A value is trying to be set on a copy of a slice from a DataFrame\n",
      "\n",
      "See the caveats in the documentation: https://pandas.pydata.org/pandas-docs/stable/user_guide/indexing.html#returning-a-view-versus-a-copy\n",
      "  temp.rename(columns={\"datatype_l1\": \"datatype\"}, inplace=True)\n",
      "[*] patients: 100%|██████████| 1/1 [00:00<00:00,  1.09it/s]\n",
      "100%|██████████| 25/25 [00:39<00:00,  1.58s/it]\n",
      "/home/raphael/Downloads/intugle_demo/env/lib/python3.12/site-packages/numpy/_core/fromnumeric.py:3859: RuntimeWarning: Mean of empty slice.\n",
      "  return _methods._mean(a, axis=axis, dtype=dtype,\n",
      "/home/raphael/Downloads/intugle_demo/env/lib/python3.12/site-packages/numpy/_core/_methods.py:144: RuntimeWarning: invalid value encountered in scalar divide\n",
      "  ret = ret.dtype.type(ret / rcount)\n",
      "100%|██████████| 21/21 [00:11<00:00,  1.81it/s]\n",
      "[*] payers:   0%|          | 0/1 [00:00<?, ?it/s]/home/raphael/Downloads/intugle_demo/env/lib/python3.12/site-packages/intugle/core/pipeline/key_identification/ki.py:87: SettingWithCopyWarning: \n",
      "A value is trying to be set on a copy of a slice from a DataFrame\n",
      "\n",
      "See the caveats in the documentation: https://pandas.pydata.org/pandas-docs/stable/user_guide/indexing.html#returning-a-view-versus-a-copy\n",
      "  temp.rename(columns={\"datatype_l1\": \"datatype\"}, inplace=True)\n",
      "[*] payers: 100%|██████████| 1/1 [00:00<00:00,  1.95it/s]\n",
      "100%|██████████| 21/21 [00:28<00:00,  1.35s/it]\n",
      "/home/raphael/Downloads/intugle_demo/env/lib/python3.12/site-packages/numpy/_core/fromnumeric.py:3859: RuntimeWarning: Mean of empty slice.\n",
      "  return _methods._mean(a, axis=axis, dtype=dtype,\n",
      "/home/raphael/Downloads/intugle_demo/env/lib/python3.12/site-packages/numpy/_core/_methods.py:144: RuntimeWarning: invalid value encountered in scalar divide\n",
      "  ret = ret.dtype.type(ret / rcount)\n",
      "100%|██████████| 8/8 [00:05<00:00,  1.51it/s]\n",
      "[*] payer_transitions:   0%|          | 0/1 [00:00<?, ?it/s]/home/raphael/Downloads/intugle_demo/env/lib/python3.12/site-packages/intugle/core/pipeline/key_identification/ki.py:87: SettingWithCopyWarning: \n",
      "A value is trying to be set on a copy of a slice from a DataFrame\n",
      "\n",
      "See the caveats in the documentation: https://pandas.pydata.org/pandas-docs/stable/user_guide/indexing.html#returning-a-view-versus-a-copy\n",
      "  temp.rename(columns={\"datatype_l1\": \"datatype\"}, inplace=True)\n",
      "[!] Error while llm response parsing: Got invalid JSON object. Error: Expecting ',' delimiter: line 2 column 25 (char 26)\n",
      "For troubleshooting, visit: https://python.langchain.com/docs/troubleshooting/errors/OUTPUT_PARSING_FAILURE \n",
      "[!] None key identified by LLM is not a valid column of payer_transitions table\n",
      "[*] payer_transitions: 100%|██████████| 1/1 [00:03<00:00,  3.18s/it]\n",
      "100%|██████████| 8/8 [00:12<00:00,  1.55s/it]\n",
      "/home/raphael/Downloads/intugle_demo/env/lib/python3.12/site-packages/numpy/_core/fromnumeric.py:3859: RuntimeWarning: Mean of empty slice.\n",
      "  return _methods._mean(a, axis=axis, dtype=dtype,\n",
      "/home/raphael/Downloads/intugle_demo/env/lib/python3.12/site-packages/numpy/_core/_methods.py:144: RuntimeWarning: invalid value encountered in scalar divide\n",
      "  ret = ret.dtype.type(ret / rcount)\n",
      "100%|██████████| 9/9 [00:03<00:00,  2.28it/s]\n",
      "100%|██████████| 9/9 [00:12<00:00,  1.38s/it]\n",
      "/home/raphael/Downloads/intugle_demo/env/lib/python3.12/site-packages/numpy/_core/fromnumeric.py:3859: RuntimeWarning: Mean of empty slice.\n",
      "  return _methods._mean(a, axis=axis, dtype=dtype,\n",
      "/home/raphael/Downloads/intugle_demo/env/lib/python3.12/site-packages/numpy/_core/_methods.py:144: RuntimeWarning: invalid value encountered in scalar divide\n",
      "  ret = ret.dtype.type(ret / rcount)\n",
      "100%|██████████| 12/12 [00:07<00:00,  1.52it/s]\n",
      "[*] providers:   0%|          | 0/1 [00:00<?, ?it/s]/home/raphael/Downloads/intugle_demo/env/lib/python3.12/site-packages/intugle/core/pipeline/key_identification/ki.py:87: SettingWithCopyWarning: \n",
      "A value is trying to be set on a copy of a slice from a DataFrame\n",
      "\n",
      "See the caveats in the documentation: https://pandas.pydata.org/pandas-docs/stable/user_guide/indexing.html#returning-a-view-versus-a-copy\n",
      "  temp.rename(columns={\"datatype_l1\": \"datatype\"}, inplace=True)\n",
      "[*] providers: 100%|██████████| 1/1 [00:01<00:00,  1.07s/it]\n",
      "100%|██████████| 12/12 [00:19<00:00,  1.60s/it]\n",
      "/home/raphael/Downloads/intugle_demo/env/lib/python3.12/site-packages/numpy/_core/fromnumeric.py:3859: RuntimeWarning: Mean of empty slice.\n",
      "  return _methods._mean(a, axis=axis, dtype=dtype,\n",
      "/home/raphael/Downloads/intugle_demo/env/lib/python3.12/site-packages/numpy/_core/_methods.py:144: RuntimeWarning: invalid value encountered in scalar divide\n",
      "  ret = ret.dtype.type(ret / rcount)\n",
      "100%|██████████| 6/6 [00:02<00:00,  2.54it/s]\n",
      "100%|██████████| 6/6 [00:09<00:00,  1.54s/it]\n"
     ]
    },
    {
     "name": "stdout",
     "output_type": "stream",
     "text": [
      "Dataset 'allergies' already processed. Skipping analysis.\n",
      "Dataset 'careplans' already processed. Skipping analysis.\n",
      "Dataset 'claims' already processed. Skipping analysis.\n",
      "Dataset 'claims_transactions' already processed. Skipping analysis.\n",
      "Dataset 'conditions' already processed. Skipping analysis.\n",
      "Dataset 'devices' already processed. Skipping analysis.\n",
      "Dataset 'encounters' already processed. Skipping analysis.\n",
      "Dataset 'imaging_studies' already processed. Skipping analysis.\n",
      "Dataset 'immunizations' already processed. Skipping analysis.\n",
      "Dataset 'medications' already processed. Skipping analysis.\n",
      "Dataset 'observations' already processed. Skipping analysis.\n",
      "Dataset 'organizations' already processed. Skipping analysis.\n",
      "Dataset 'patients' already processed. Skipping analysis.\n",
      "Dataset 'payers' already processed. Skipping analysis.\n",
      "Dataset 'payer_transitions' already processed. Skipping analysis.\n",
      "Dataset 'procedures' already processed. Skipping analysis.\n",
      "Dataset 'providers' already processed. Skipping analysis.\n",
      "Dataset 'supplies' already processed. Skipping analysis.\n",
      "LinkPredictor initialized with datasets: ['allergies', 'careplans', 'claims', 'claims_transactions', 'conditions', 'devices', 'encounters', 'imaging_studies', 'immunizations', 'medications', 'observations', 'organizations', 'patients', 'payers', 'payer_transitions', 'procedures', 'providers', 'supplies']\n",
      "\n",
      "--- Comparing 'allergies' <=> 'careplans' ---\n"
     ]
    },
    {
     "name": "stderr",
     "output_type": "stream",
     "text": [
      "[*] allergies <==> careplans Runs:1: 100%|██████████| 1/1 [00:02<00:00,  2.65s/it]\n"
     ]
    },
    {
     "name": "stdout",
     "output_type": "stream",
     "text": [
      "No links found for this pair.\n",
      "\n",
      "--- Comparing 'allergies' <=> 'claims' ---\n"
     ]
    },
    {
     "name": "stderr",
     "output_type": "stream",
     "text": [
      "[*] allergies <==> claims Runs:1: 100%|██████████| 1/1 [00:02<00:00,  2.89s/it]\n"
     ]
    },
    {
     "name": "stdout",
     "output_type": "stream",
     "text": [
      "No links found for this pair.\n",
      "\n",
      "--- Comparing 'allergies' <=> 'claims_transactions' ---\n"
     ]
    },
    {
     "name": "stderr",
     "output_type": "stream",
     "text": [
      "[*] allergies <==> claims_transactions Runs:1: 100%|██████████| 1/1 [00:03<00:00,  3.15s/it]\n"
     ]
    },
    {
     "name": "stdout",
     "output_type": "stream",
     "text": [
      "No links found for this pair.\n",
      "\n",
      "--- Comparing 'allergies' <=> 'conditions' ---\n"
     ]
    },
    {
     "name": "stderr",
     "output_type": "stream",
     "text": [
      "[*] allergies <==> conditions Runs:1: 100%|██████████| 1/1 [00:02<00:00,  2.77s/it]\n"
     ]
    },
    {
     "name": "stdout",
     "output_type": "stream",
     "text": [
      "No links found for this pair.\n",
      "\n",
      "--- Comparing 'allergies' <=> 'devices' ---\n"
     ]
    },
    {
     "name": "stderr",
     "output_type": "stream",
     "text": [
      "[*] allergies <==> devices Runs:1: 100%|██████████| 1/1 [00:02<00:00,  2.66s/it]\n"
     ]
    },
    {
     "name": "stdout",
     "output_type": "stream",
     "text": [
      "No links found for this pair.\n",
      "\n",
      "--- Comparing 'allergies' <=> 'encounters' ---\n"
     ]
    },
    {
     "name": "stderr",
     "output_type": "stream",
     "text": [
      "[*] allergies <==> encounters Runs:1: 100%|██████████| 1/1 [00:01<00:00,  1.72s/it]\n"
     ]
    },
    {
     "name": "stdout",
     "output_type": "stream",
     "text": [
      "Found 1 potential link(s).\n",
      "\n",
      "--- Comparing 'allergies' <=> 'imaging_studies' ---\n"
     ]
    },
    {
     "name": "stderr",
     "output_type": "stream",
     "text": [
      "[*] allergies <==> imaging_studies Runs:1: 100%|██████████| 1/1 [00:09<00:00,  9.78s/it]\n"
     ]
    },
    {
     "name": "stdout",
     "output_type": "stream",
     "text": [
      "No links found for this pair.\n",
      "\n",
      "--- Comparing 'allergies' <=> 'immunizations' ---\n"
     ]
    },
    {
     "name": "stderr",
     "output_type": "stream",
     "text": [
      "[*] allergies <==> immunizations Runs:1: 100%|██████████| 1/1 [00:07<00:00,  7.33s/it]\n"
     ]
    },
    {
     "name": "stdout",
     "output_type": "stream",
     "text": [
      "No links found for this pair.\n",
      "\n",
      "--- Comparing 'allergies' <=> 'medications' ---\n"
     ]
    },
    {
     "name": "stderr",
     "output_type": "stream",
     "text": [
      "[*] allergies <==> medications Runs:1: 100%|██████████| 1/1 [00:10<00:00, 10.54s/it]\n"
     ]
    },
    {
     "name": "stdout",
     "output_type": "stream",
     "text": [
      "No links found for this pair.\n",
      "\n",
      "--- Comparing 'allergies' <=> 'observations' ---\n"
     ]
    },
    {
     "name": "stderr",
     "output_type": "stream",
     "text": [
      "[*] allergies <==> observations Runs:1: 100%|██████████| 1/1 [00:09<00:00,  9.84s/it]\n"
     ]
    },
    {
     "name": "stdout",
     "output_type": "stream",
     "text": [
      "No links found for this pair.\n",
      "\n",
      "--- Comparing 'allergies' <=> 'organizations' ---\n"
     ]
    },
    {
     "name": "stderr",
     "output_type": "stream",
     "text": [
      "[*] allergies <==> organizations Runs:1: 100%|██████████| 1/1 [00:01<00:00,  1.83s/it]\n"
     ]
    },
    {
     "name": "stdout",
     "output_type": "stream",
     "text": [
      "No links found for this pair.\n",
      "\n",
      "--- Comparing 'allergies' <=> 'patients' ---\n"
     ]
    },
    {
     "name": "stderr",
     "output_type": "stream",
     "text": [
      "[*] allergies <==> patients Runs:1: 100%|██████████| 1/1 [00:05<00:00,  5.60s/it]\n"
     ]
    },
    {
     "name": "stdout",
     "output_type": "stream",
     "text": [
      "Found 1 potential link(s).\n",
      "\n",
      "--- Comparing 'allergies' <=> 'payers' ---\n"
     ]
    },
    {
     "name": "stderr",
     "output_type": "stream",
     "text": [
      "[*] allergies <==> payers Runs:1: 100%|██████████| 1/1 [00:01<00:00,  1.53s/it]\n"
     ]
    },
    {
     "name": "stdout",
     "output_type": "stream",
     "text": [
      "No links found for this pair.\n",
      "\n",
      "--- Comparing 'allergies' <=> 'payer_transitions' ---\n"
     ]
    },
    {
     "name": "stderr",
     "output_type": "stream",
     "text": [
      "[*] allergies <==> payer_transitions Runs:1: 100%|██████████| 1/1 [00:02<00:00,  2.77s/it]\n"
     ]
    },
    {
     "name": "stdout",
     "output_type": "stream",
     "text": [
      "No links found for this pair.\n",
      "\n",
      "--- Comparing 'allergies' <=> 'procedures' ---\n"
     ]
    },
    {
     "name": "stderr",
     "output_type": "stream",
     "text": [
      "[*] allergies <==> procedures Runs:1: 100%|██████████| 1/1 [00:04<00:00,  4.09s/it]\n"
     ]
    },
    {
     "name": "stdout",
     "output_type": "stream",
     "text": [
      "No links found for this pair.\n",
      "\n",
      "--- Comparing 'allergies' <=> 'providers' ---\n"
     ]
    },
    {
     "name": "stderr",
     "output_type": "stream",
     "text": [
      "[*] allergies <==> providers Runs:1: 100%|██████████| 1/1 [00:00<00:00,  1.43it/s]\n"
     ]
    },
    {
     "name": "stdout",
     "output_type": "stream",
     "text": [
      "No links found for this pair.\n",
      "\n",
      "--- Comparing 'allergies' <=> 'supplies' ---\n"
     ]
    },
    {
     "name": "stderr",
     "output_type": "stream",
     "text": [
      "[*] allergies <==> supplies Runs:1: 100%|██████████| 1/1 [00:00<00:00,  1.54it/s]\n"
     ]
    },
    {
     "name": "stdout",
     "output_type": "stream",
     "text": [
      "No links found for this pair.\n",
      "\n",
      "--- Comparing 'careplans' <=> 'claims' ---\n"
     ]
    },
    {
     "name": "stderr",
     "output_type": "stream",
     "text": [
      "[*] careplans <==> claims Runs:1: 100%|██████████| 1/1 [00:02<00:00,  2.32s/it]\n"
     ]
    },
    {
     "name": "stdout",
     "output_type": "stream",
     "text": [
      "No links found for this pair.\n",
      "\n",
      "--- Comparing 'careplans' <=> 'claims_transactions' ---\n"
     ]
    },
    {
     "name": "stderr",
     "output_type": "stream",
     "text": [
      "[*] careplans <==> claims_transactions Runs:1: 100%|██████████| 1/1 [00:02<00:00,  2.39s/it]\n"
     ]
    },
    {
     "name": "stdout",
     "output_type": "stream",
     "text": [
      "No links found for this pair.\n",
      "\n",
      "--- Comparing 'careplans' <=> 'conditions' ---\n"
     ]
    },
    {
     "name": "stderr",
     "output_type": "stream",
     "text": [
      "[*] careplans <==> conditions Runs:1: 100%|██████████| 1/1 [00:01<00:00,  1.09s/it]\n"
     ]
    },
    {
     "name": "stdout",
     "output_type": "stream",
     "text": [
      "Found 1 potential link(s).\n",
      "\n",
      "--- Comparing 'careplans' <=> 'devices' ---\n"
     ]
    },
    {
     "name": "stderr",
     "output_type": "stream",
     "text": [
      "[*] careplans <==> devices Runs:1: 100%|██████████| 1/1 [00:04<00:00,  4.73s/it]\n"
     ]
    },
    {
     "name": "stdout",
     "output_type": "stream",
     "text": [
      "Found 1 potential link(s).\n",
      "\n",
      "--- Comparing 'careplans' <=> 'encounters' ---\n"
     ]
    },
    {
     "name": "stderr",
     "output_type": "stream",
     "text": [
      "[*] careplans <==> encounters Runs:1: 100%|██████████| 1/1 [00:06<00:00,  6.45s/it]\n"
     ]
    },
    {
     "name": "stdout",
     "output_type": "stream",
     "text": [
      "Found 1 potential link(s).\n",
      "\n",
      "--- Comparing 'careplans' <=> 'imaging_studies' ---\n"
     ]
    },
    {
     "name": "stderr",
     "output_type": "stream",
     "text": [
      "[*] careplans <==> imaging_studies Runs:1: 100%|██████████| 1/1 [00:09<00:00,  9.00s/it]\n"
     ]
    },
    {
     "name": "stdout",
     "output_type": "stream",
     "text": [
      "No links found for this pair.\n",
      "\n",
      "--- Comparing 'careplans' <=> 'immunizations' ---\n"
     ]
    },
    {
     "name": "stderr",
     "output_type": "stream",
     "text": [
      "[*] careplans <==> immunizations Runs:1: 100%|██████████| 1/1 [00:05<00:00,  5.96s/it]\n"
     ]
    },
    {
     "name": "stdout",
     "output_type": "stream",
     "text": [
      "No links found for this pair.\n",
      "\n",
      "--- Comparing 'careplans' <=> 'medications' ---\n"
     ]
    },
    {
     "name": "stderr",
     "output_type": "stream",
     "text": [
      "[*] careplans <==> medications Runs:1: 100%|██████████| 1/1 [00:05<00:00,  5.85s/it]\n"
     ]
    },
    {
     "name": "stdout",
     "output_type": "stream",
     "text": [
      "Found 1 potential link(s).\n",
      "\n",
      "--- Comparing 'careplans' <=> 'observations' ---\n"
     ]
    },
    {
     "name": "stderr",
     "output_type": "stream",
     "text": [
      "[*] careplans <==> observations Runs:1: 100%|██████████| 1/1 [00:03<00:00,  3.28s/it]\n"
     ]
    },
    {
     "name": "stdout",
     "output_type": "stream",
     "text": [
      "Found 1 potential link(s).\n",
      "\n",
      "--- Comparing 'careplans' <=> 'organizations' ---\n"
     ]
    },
    {
     "name": "stderr",
     "output_type": "stream",
     "text": [
      "[*] careplans <==> organizations Runs:1: 100%|██████████| 1/1 [00:02<00:00,  2.77s/it]\n"
     ]
    },
    {
     "name": "stdout",
     "output_type": "stream",
     "text": [
      "No links found for this pair.\n",
      "\n",
      "--- Comparing 'careplans' <=> 'patients' ---\n"
     ]
    },
    {
     "name": "stderr",
     "output_type": "stream",
     "text": [
      "[*] careplans <==> patients Runs:1: 100%|██████████| 1/1 [00:05<00:00,  5.23s/it]\n"
     ]
    },
    {
     "name": "stdout",
     "output_type": "stream",
     "text": [
      "Found 1 potential link(s).\n",
      "\n",
      "--- Comparing 'careplans' <=> 'payers' ---\n"
     ]
    },
    {
     "name": "stderr",
     "output_type": "stream",
     "text": [
      "[*] careplans <==> payers Runs:1: 100%|██████████| 1/1 [00:01<00:00,  1.10s/it]\n"
     ]
    },
    {
     "name": "stdout",
     "output_type": "stream",
     "text": [
      "No links found for this pair.\n",
      "\n",
      "--- Comparing 'careplans' <=> 'payer_transitions' ---\n"
     ]
    },
    {
     "name": "stderr",
     "output_type": "stream",
     "text": [
      "[*] careplans <==> payer_transitions Runs:1: 100%|██████████| 1/1 [00:03<00:00,  3.19s/it]\n"
     ]
    },
    {
     "name": "stdout",
     "output_type": "stream",
     "text": [
      "No links found for this pair.\n",
      "\n",
      "--- Comparing 'careplans' <=> 'procedures' ---\n"
     ]
    },
    {
     "name": "stderr",
     "output_type": "stream",
     "text": [
      "[*] careplans <==> procedures Runs:1: 100%|██████████| 1/1 [00:01<00:00,  1.45s/it]\n"
     ]
    },
    {
     "name": "stdout",
     "output_type": "stream",
     "text": [
      "Found 1 potential link(s).\n",
      "\n",
      "--- Comparing 'careplans' <=> 'providers' ---\n"
     ]
    },
    {
     "name": "stderr",
     "output_type": "stream",
     "text": [
      "[*] careplans <==> providers Runs:1: 100%|██████████| 1/1 [00:01<00:00,  1.64s/it]\n"
     ]
    },
    {
     "name": "stdout",
     "output_type": "stream",
     "text": [
      "No links found for this pair.\n",
      "\n",
      "--- Comparing 'careplans' <=> 'supplies' ---\n"
     ]
    },
    {
     "name": "stderr",
     "output_type": "stream",
     "text": [
      "[*] careplans <==> supplies Runs:1: 100%|██████████| 1/1 [00:01<00:00,  1.07s/it]\n"
     ]
    },
    {
     "name": "stdout",
     "output_type": "stream",
     "text": [
      "Found 1 potential link(s).\n",
      "\n",
      "--- Comparing 'claims' <=> 'claims_transactions' ---\n"
     ]
    },
    {
     "name": "stderr",
     "output_type": "stream",
     "text": [
      "[*] claims <==> claims_transactions Runs:1: 100%|██████████| 1/1 [00:02<00:00,  2.56s/it]\n"
     ]
    },
    {
     "name": "stdout",
     "output_type": "stream",
     "text": [
      "Found 1 potential link(s).\n",
      "\n",
      "--- Comparing 'claims' <=> 'conditions' ---\n"
     ]
    },
    {
     "name": "stderr",
     "output_type": "stream",
     "text": [
      "[*] claims <==> conditions Runs:1: 100%|██████████| 1/1 [00:02<00:00,  2.41s/it]\n"
     ]
    },
    {
     "name": "stdout",
     "output_type": "stream",
     "text": [
      "No links found for this pair.\n",
      "\n",
      "--- Comparing 'claims' <=> 'devices' ---\n"
     ]
    },
    {
     "name": "stderr",
     "output_type": "stream",
     "text": [
      "[*] claims <==> devices Runs:1: 100%|██████████| 1/1 [00:02<00:00,  2.39s/it]\n"
     ]
    },
    {
     "name": "stdout",
     "output_type": "stream",
     "text": [
      "No links found for this pair.\n",
      "\n",
      "--- Comparing 'claims' <=> 'encounters' ---\n"
     ]
    },
    {
     "name": "stderr",
     "output_type": "stream",
     "text": [
      "[*] claims <==> encounters Runs:1: 100%|██████████| 1/1 [00:12<00:00, 12.36s/it]\n"
     ]
    },
    {
     "name": "stdout",
     "output_type": "stream",
     "text": [
      "No links found for this pair.\n",
      "\n",
      "--- Comparing 'claims' <=> 'imaging_studies' ---\n"
     ]
    },
    {
     "name": "stderr",
     "output_type": "stream",
     "text": [
      "[*] claims <==> imaging_studies Runs:1: 100%|██████████| 1/1 [00:14<00:00, 14.38s/it]\n"
     ]
    },
    {
     "name": "stdout",
     "output_type": "stream",
     "text": [
      "No links found for this pair.\n",
      "\n",
      "--- Comparing 'claims' <=> 'immunizations' ---\n"
     ]
    },
    {
     "name": "stderr",
     "output_type": "stream",
     "text": [
      "[*] claims <==> immunizations Runs:1: 100%|██████████| 1/1 [00:11<00:00, 11.79s/it]\n"
     ]
    },
    {
     "name": "stdout",
     "output_type": "stream",
     "text": [
      "No links found for this pair.\n",
      "\n",
      "--- Comparing 'claims' <=> 'medications' ---\n"
     ]
    },
    {
     "name": "stderr",
     "output_type": "stream",
     "text": [
      "[*] claims <==> medications Runs:1: 100%|██████████| 1/1 [00:09<00:00,  9.01s/it]\n"
     ]
    },
    {
     "name": "stdout",
     "output_type": "stream",
     "text": [
      "No links found for this pair.\n",
      "\n",
      "--- Comparing 'claims' <=> 'observations' ---\n"
     ]
    },
    {
     "name": "stderr",
     "output_type": "stream",
     "text": [
      "[*] claims <==> observations Runs:1: 100%|██████████| 1/1 [00:05<00:00,  5.83s/it]\n"
     ]
    },
    {
     "name": "stdout",
     "output_type": "stream",
     "text": [
      "No links found for this pair.\n",
      "\n",
      "--- Comparing 'claims' <=> 'organizations' ---\n"
     ]
    },
    {
     "name": "stderr",
     "output_type": "stream",
     "text": [
      "[*] claims <==> organizations Runs:1: 100%|██████████| 1/1 [00:01<00:00,  1.32s/it]\n"
     ]
    },
    {
     "name": "stdout",
     "output_type": "stream",
     "text": [
      "Found 1 potential link(s).\n",
      "\n",
      "--- Comparing 'claims' <=> 'patients' ---\n"
     ]
    },
    {
     "name": "stderr",
     "output_type": "stream",
     "text": [
      "[*] claims <==> patients Runs:1: 100%|██████████| 1/1 [00:01<00:00,  1.44s/it]\n"
     ]
    },
    {
     "name": "stdout",
     "output_type": "stream",
     "text": [
      "Found 1 potential link(s).\n",
      "\n",
      "--- Comparing 'claims' <=> 'payers' ---\n"
     ]
    },
    {
     "name": "stderr",
     "output_type": "stream",
     "text": [
      "[*] claims <==> payers Runs:1: 100%|██████████| 1/1 [00:01<00:00,  1.31s/it]\n"
     ]
    },
    {
     "name": "stdout",
     "output_type": "stream",
     "text": [
      "Found 1 potential link(s).\n",
      "\n",
      "--- Comparing 'claims' <=> 'payer_transitions' ---\n"
     ]
    },
    {
     "name": "stderr",
     "output_type": "stream",
     "text": [
      "[*] claims <==> payer_transitions Runs:1: 100%|██████████| 1/1 [00:02<00:00,  2.45s/it]\n"
     ]
    },
    {
     "name": "stdout",
     "output_type": "stream",
     "text": [
      "No links found for this pair.\n",
      "\n",
      "--- Comparing 'claims' <=> 'procedures' ---\n"
     ]
    },
    {
     "name": "stderr",
     "output_type": "stream",
     "text": [
      "[*] claims <==> procedures Runs:1: 100%|██████████| 1/1 [00:11<00:00, 11.74s/it]\n"
     ]
    },
    {
     "name": "stdout",
     "output_type": "stream",
     "text": [
      "No links found for this pair.\n",
      "\n",
      "--- Comparing 'claims' <=> 'providers' ---\n"
     ]
    },
    {
     "name": "stderr",
     "output_type": "stream",
     "text": [
      "[*] claims <==> providers Runs:1: 100%|██████████| 1/1 [00:08<00:00,  8.86s/it]\n"
     ]
    },
    {
     "name": "stdout",
     "output_type": "stream",
     "text": [
      "Found 1 potential link(s).\n",
      "\n",
      "--- Comparing 'claims' <=> 'supplies' ---\n"
     ]
    },
    {
     "name": "stderr",
     "output_type": "stream",
     "text": [
      "[*] claims <==> supplies Runs:1: 100%|██████████| 1/1 [00:05<00:00,  5.50s/it]\n"
     ]
    },
    {
     "name": "stdout",
     "output_type": "stream",
     "text": [
      "No links found for this pair.\n",
      "\n",
      "--- Comparing 'claims_transactions' <=> 'conditions' ---\n"
     ]
    },
    {
     "name": "stderr",
     "output_type": "stream",
     "text": [
      "[*] claims_transactions <==> conditions Runs:1: 100%|██████████| 1/1 [00:12<00:00, 12.08s/it]\n"
     ]
    },
    {
     "name": "stdout",
     "output_type": "stream",
     "text": [
      "No links found for this pair.\n",
      "\n",
      "--- Comparing 'claims_transactions' <=> 'devices' ---\n"
     ]
    },
    {
     "name": "stderr",
     "output_type": "stream",
     "text": [
      "[*] claims_transactions <==> devices Runs:1: 100%|██████████| 1/1 [00:08<00:00,  8.76s/it]\n"
     ]
    },
    {
     "name": "stdout",
     "output_type": "stream",
     "text": [
      "No links found for this pair.\n",
      "\n",
      "--- Comparing 'claims_transactions' <=> 'encounters' ---\n"
     ]
    },
    {
     "name": "stderr",
     "output_type": "stream",
     "text": [
      "[*] claims_transactions <==> encounters Runs:1: 100%|██████████| 1/1 [00:04<00:00,  4.67s/it]\n"
     ]
    },
    {
     "name": "stdout",
     "output_type": "stream",
     "text": [
      "No links found for this pair.\n",
      "\n",
      "--- Comparing 'claims_transactions' <=> 'imaging_studies' ---\n"
     ]
    },
    {
     "name": "stderr",
     "output_type": "stream",
     "text": [
      "[*] claims_transactions <==> imaging_studies Runs:1: 100%|██████████| 1/1 [00:04<00:00,  4.36s/it]\n"
     ]
    },
    {
     "name": "stdout",
     "output_type": "stream",
     "text": [
      "No links found for this pair.\n",
      "\n",
      "--- Comparing 'claims_transactions' <=> 'immunizations' ---\n"
     ]
    },
    {
     "name": "stderr",
     "output_type": "stream",
     "text": [
      "[*] claims_transactions <==> immunizations Runs:1: 100%|██████████| 1/1 [00:05<00:00,  5.50s/it]\n"
     ]
    },
    {
     "name": "stdout",
     "output_type": "stream",
     "text": [
      "No links found for this pair.\n",
      "\n",
      "--- Comparing 'claims_transactions' <=> 'medications' ---\n"
     ]
    },
    {
     "name": "stderr",
     "output_type": "stream",
     "text": [
      "[*] claims_transactions <==> medications Runs:1: 100%|██████████| 1/1 [00:01<00:00,  1.58s/it]\n"
     ]
    },
    {
     "name": "stdout",
     "output_type": "stream",
     "text": [
      "No links found for this pair.\n",
      "\n",
      "--- Comparing 'claims_transactions' <=> 'observations' ---\n"
     ]
    },
    {
     "name": "stderr",
     "output_type": "stream",
     "text": [
      "[*] claims_transactions <==> observations Runs:1: 100%|██████████| 1/1 [00:17<00:00, 17.91s/it]\n"
     ]
    },
    {
     "name": "stdout",
     "output_type": "stream",
     "text": [
      "No links found for this pair.\n",
      "\n",
      "--- Comparing 'claims_transactions' <=> 'organizations' ---\n"
     ]
    },
    {
     "name": "stderr",
     "output_type": "stream",
     "text": [
      "[*] claims_transactions <==> organizations Runs:1: 100%|██████████| 1/1 [00:02<00:00,  2.82s/it]\n"
     ]
    },
    {
     "name": "stdout",
     "output_type": "stream",
     "text": [
      "No links found for this pair.\n",
      "\n",
      "--- Comparing 'claims_transactions' <=> 'patients' ---\n"
     ]
    },
    {
     "name": "stderr",
     "output_type": "stream",
     "text": [
      "[*] claims_transactions <==> patients Runs:1: 100%|██████████| 1/1 [00:01<00:00,  1.28s/it]\n"
     ]
    },
    {
     "name": "stdout",
     "output_type": "stream",
     "text": [
      "Found 1 potential link(s).\n",
      "\n",
      "--- Comparing 'claims_transactions' <=> 'payers' ---\n"
     ]
    },
    {
     "name": "stderr",
     "output_type": "stream",
     "text": [
      "[*] claims_transactions <==> payers Runs:1: 100%|██████████| 1/1 [00:08<00:00,  8.77s/it]\n"
     ]
    },
    {
     "name": "stdout",
     "output_type": "stream",
     "text": [
      "Found 1 potential link(s).\n",
      "\n",
      "--- Comparing 'claims_transactions' <=> 'payer_transitions' ---\n"
     ]
    },
    {
     "name": "stderr",
     "output_type": "stream",
     "text": [
      "[*] claims_transactions <==> payer_transitions Runs:1: 100%|██████████| 1/1 [00:10<00:00, 10.51s/it]\n"
     ]
    },
    {
     "name": "stdout",
     "output_type": "stream",
     "text": [
      "No links found for this pair.\n",
      "\n",
      "--- Comparing 'claims_transactions' <=> 'procedures' ---\n"
     ]
    },
    {
     "name": "stderr",
     "output_type": "stream",
     "text": [
      "[*] claims_transactions <==> procedures Runs:1: 100%|██████████| 1/1 [00:05<00:00,  5.39s/it]\n"
     ]
    },
    {
     "name": "stdout",
     "output_type": "stream",
     "text": [
      "No links found for this pair.\n",
      "\n",
      "--- Comparing 'claims_transactions' <=> 'providers' ---\n"
     ]
    },
    {
     "name": "stderr",
     "output_type": "stream",
     "text": [
      "[*] claims_transactions <==> providers Runs:1: 100%|██████████| 1/1 [00:01<00:00,  1.10s/it]\n"
     ]
    },
    {
     "name": "stdout",
     "output_type": "stream",
     "text": [
      "Found 1 potential link(s).\n",
      "\n",
      "--- Comparing 'claims_transactions' <=> 'supplies' ---\n"
     ]
    },
    {
     "name": "stderr",
     "output_type": "stream",
     "text": [
      "[*] claims_transactions <==> supplies Runs:1: 100%|██████████| 1/1 [00:03<00:00,  3.55s/it]\n"
     ]
    },
    {
     "name": "stdout",
     "output_type": "stream",
     "text": [
      "No links found for this pair.\n",
      "\n",
      "--- Comparing 'conditions' <=> 'devices' ---\n"
     ]
    },
    {
     "name": "stderr",
     "output_type": "stream",
     "text": [
      "[*] conditions <==> devices Runs:1: 100%|██████████| 1/1 [00:06<00:00,  6.17s/it]\n"
     ]
    },
    {
     "name": "stdout",
     "output_type": "stream",
     "text": [
      "No links found for this pair.\n",
      "\n",
      "--- Comparing 'conditions' <=> 'encounters' ---\n"
     ]
    },
    {
     "name": "stderr",
     "output_type": "stream",
     "text": [
      "[*] conditions <==> encounters Runs:1: 100%|██████████| 1/1 [00:01<00:00,  1.04s/it]\n"
     ]
    },
    {
     "name": "stdout",
     "output_type": "stream",
     "text": [
      "Found 1 potential link(s).\n",
      "\n",
      "--- Comparing 'conditions' <=> 'imaging_studies' ---\n"
     ]
    },
    {
     "name": "stderr",
     "output_type": "stream",
     "text": [
      "[*] conditions <==> imaging_studies Runs:1: 100%|██████████| 1/1 [00:08<00:00,  8.68s/it]\n"
     ]
    },
    {
     "name": "stdout",
     "output_type": "stream",
     "text": [
      "No links found for this pair.\n",
      "\n",
      "--- Comparing 'conditions' <=> 'immunizations' ---\n"
     ]
    },
    {
     "name": "stderr",
     "output_type": "stream",
     "text": [
      "[*] conditions <==> immunizations Runs:1: 100%|██████████| 1/1 [00:09<00:00,  9.99s/it]\n"
     ]
    },
    {
     "name": "stdout",
     "output_type": "stream",
     "text": [
      "No links found for this pair.\n",
      "\n",
      "--- Comparing 'conditions' <=> 'medications' ---\n"
     ]
    },
    {
     "name": "stderr",
     "output_type": "stream",
     "text": [
      "[*] conditions <==> medications Runs:1: 100%|██████████| 1/1 [00:04<00:00,  4.02s/it]\n"
     ]
    },
    {
     "name": "stdout",
     "output_type": "stream",
     "text": [
      "No links found for this pair.\n",
      "\n",
      "--- Comparing 'conditions' <=> 'observations' ---\n"
     ]
    },
    {
     "name": "stderr",
     "output_type": "stream",
     "text": [
      "[*] conditions <==> observations Runs:1: 100%|██████████| 1/1 [00:02<00:00,  2.02s/it]\n"
     ]
    },
    {
     "name": "stdout",
     "output_type": "stream",
     "text": [
      "No links found for this pair.\n",
      "\n",
      "--- Comparing 'conditions' <=> 'organizations' ---\n"
     ]
    },
    {
     "name": "stderr",
     "output_type": "stream",
     "text": [
      "[*] conditions <==> organizations Runs:1: 100%|██████████| 1/1 [00:06<00:00,  6.01s/it]\n"
     ]
    },
    {
     "name": "stdout",
     "output_type": "stream",
     "text": [
      "No links found for this pair.\n",
      "\n",
      "--- Comparing 'conditions' <=> 'patients' ---\n"
     ]
    },
    {
     "name": "stderr",
     "output_type": "stream",
     "text": [
      "[*] conditions <==> patients Runs:1: 100%|██████████| 1/1 [00:01<00:00,  1.31s/it]\n"
     ]
    },
    {
     "name": "stdout",
     "output_type": "stream",
     "text": [
      "Found 1 potential link(s).\n",
      "\n",
      "--- Comparing 'conditions' <=> 'payers' ---\n"
     ]
    },
    {
     "name": "stderr",
     "output_type": "stream",
     "text": [
      "[*] conditions <==> payers Runs:1: 100%|██████████| 1/1 [00:02<00:00,  2.98s/it]\n"
     ]
    },
    {
     "name": "stdout",
     "output_type": "stream",
     "text": [
      "No links found for this pair.\n",
      "\n",
      "--- Comparing 'conditions' <=> 'payer_transitions' ---\n"
     ]
    },
    {
     "name": "stderr",
     "output_type": "stream",
     "text": [
      "[*] conditions <==> payer_transitions Runs:1: 100%|██████████| 1/1 [00:08<00:00,  8.32s/it]\n"
     ]
    },
    {
     "name": "stdout",
     "output_type": "stream",
     "text": [
      "No links found for this pair.\n",
      "\n",
      "--- Comparing 'conditions' <=> 'procedures' ---\n"
     ]
    },
    {
     "name": "stderr",
     "output_type": "stream",
     "text": [
      "[*] conditions <==> procedures Runs:1: 100%|██████████| 1/1 [00:04<00:00,  4.84s/it]\n"
     ]
    },
    {
     "name": "stdout",
     "output_type": "stream",
     "text": [
      "No links found for this pair.\n",
      "\n",
      "--- Comparing 'conditions' <=> 'providers' ---\n"
     ]
    },
    {
     "name": "stderr",
     "output_type": "stream",
     "text": [
      "[*] conditions <==> providers Runs:1: 100%|██████████| 1/1 [00:01<00:00,  1.13s/it]\n"
     ]
    },
    {
     "name": "stdout",
     "output_type": "stream",
     "text": [
      "No links found for this pair.\n",
      "\n",
      "--- Comparing 'conditions' <=> 'supplies' ---\n"
     ]
    },
    {
     "name": "stderr",
     "output_type": "stream",
     "text": [
      "[*] conditions <==> supplies Runs:1: 100%|██████████| 1/1 [00:02<00:00,  2.18s/it]\n"
     ]
    },
    {
     "name": "stdout",
     "output_type": "stream",
     "text": [
      "No links found for this pair.\n",
      "\n",
      "--- Comparing 'devices' <=> 'encounters' ---\n"
     ]
    },
    {
     "name": "stderr",
     "output_type": "stream",
     "text": [
      "[*] devices <==> encounters Runs:1: 100%|██████████| 1/1 [00:00<00:00,  1.37it/s]\n"
     ]
    },
    {
     "name": "stdout",
     "output_type": "stream",
     "text": [
      "Found 1 potential link(s).\n",
      "\n",
      "--- Comparing 'devices' <=> 'imaging_studies' ---\n"
     ]
    },
    {
     "name": "stderr",
     "output_type": "stream",
     "text": [
      "[*] devices <==> imaging_studies Runs:1: 100%|██████████| 1/1 [00:02<00:00,  2.44s/it]\n"
     ]
    },
    {
     "name": "stdout",
     "output_type": "stream",
     "text": [
      "No links found for this pair.\n",
      "\n",
      "--- Comparing 'devices' <=> 'immunizations' ---\n"
     ]
    },
    {
     "name": "stderr",
     "output_type": "stream",
     "text": [
      "[*] devices <==> immunizations Runs:1: 100%|██████████| 1/1 [00:01<00:00,  1.68s/it]\n"
     ]
    },
    {
     "name": "stdout",
     "output_type": "stream",
     "text": [
      "No links found for this pair.\n",
      "\n",
      "--- Comparing 'devices' <=> 'medications' ---\n"
     ]
    },
    {
     "name": "stderr",
     "output_type": "stream",
     "text": [
      "[*] devices <==> medications Runs:1: 100%|██████████| 1/1 [00:08<00:00,  8.62s/it]\n"
     ]
    },
    {
     "name": "stdout",
     "output_type": "stream",
     "text": [
      "No links found for this pair.\n",
      "\n",
      "--- Comparing 'devices' <=> 'observations' ---\n"
     ]
    },
    {
     "name": "stderr",
     "output_type": "stream",
     "text": [
      "[*] devices <==> observations Runs:1: 100%|██████████| 1/1 [00:15<00:00, 15.99s/it]\n"
     ]
    },
    {
     "name": "stdout",
     "output_type": "stream",
     "text": [
      "No links found for this pair.\n",
      "\n",
      "--- Comparing 'devices' <=> 'organizations' ---\n"
     ]
    },
    {
     "name": "stderr",
     "output_type": "stream",
     "text": [
      "[*] devices <==> organizations Runs:1: 100%|██████████| 1/1 [00:01<00:00,  1.35s/it]\n"
     ]
    },
    {
     "name": "stdout",
     "output_type": "stream",
     "text": [
      "No links found for this pair.\n",
      "\n",
      "--- Comparing 'devices' <=> 'patients' ---\n"
     ]
    },
    {
     "name": "stderr",
     "output_type": "stream",
     "text": [
      "[*] devices <==> patients Runs:1: 100%|██████████| 1/1 [00:02<00:00,  2.02s/it]\n"
     ]
    },
    {
     "name": "stdout",
     "output_type": "stream",
     "text": [
      "Found 1 potential link(s).\n",
      "\n",
      "--- Comparing 'devices' <=> 'payers' ---\n"
     ]
    },
    {
     "name": "stderr",
     "output_type": "stream",
     "text": [
      "[*] devices <==> payers Runs:1: 100%|██████████| 1/1 [00:06<00:00,  6.17s/it]\n"
     ]
    },
    {
     "name": "stdout",
     "output_type": "stream",
     "text": [
      "No links found for this pair.\n",
      "\n",
      "--- Comparing 'devices' <=> 'payer_transitions' ---\n"
     ]
    },
    {
     "name": "stderr",
     "output_type": "stream",
     "text": [
      "[*] devices <==> payer_transitions Runs:1: 100%|██████████| 1/1 [00:12<00:00, 12.62s/it]\n"
     ]
    },
    {
     "name": "stdout",
     "output_type": "stream",
     "text": [
      "No links found for this pair.\n",
      "\n",
      "--- Comparing 'devices' <=> 'procedures' ---\n"
     ]
    },
    {
     "name": "stderr",
     "output_type": "stream",
     "text": [
      "[*] devices <==> procedures Runs:1: 100%|██████████| 1/1 [00:06<00:00,  6.53s/it]\n"
     ]
    },
    {
     "name": "stdout",
     "output_type": "stream",
     "text": [
      "No links found for this pair.\n",
      "\n",
      "--- Comparing 'devices' <=> 'providers' ---\n"
     ]
    },
    {
     "name": "stderr",
     "output_type": "stream",
     "text": [
      "[*] devices <==> providers Runs:1: 100%|██████████| 1/1 [00:01<00:00,  1.08s/it]\n"
     ]
    },
    {
     "name": "stdout",
     "output_type": "stream",
     "text": [
      "No links found for this pair.\n",
      "\n",
      "--- Comparing 'devices' <=> 'supplies' ---\n"
     ]
    },
    {
     "name": "stderr",
     "output_type": "stream",
     "text": [
      "[*] devices <==> supplies Runs:1: 100%|██████████| 1/1 [00:02<00:00,  2.80s/it]\n"
     ]
    },
    {
     "name": "stdout",
     "output_type": "stream",
     "text": [
      "No links found for this pair.\n",
      "\n",
      "--- Comparing 'encounters' <=> 'imaging_studies' ---\n"
     ]
    },
    {
     "name": "stderr",
     "output_type": "stream",
     "text": [
      "[*] encounters <==> imaging_studies Runs:1: 100%|██████████| 1/1 [00:01<00:00,  1.62s/it]\n"
     ]
    },
    {
     "name": "stdout",
     "output_type": "stream",
     "text": [
      "Found 1 potential link(s).\n",
      "\n",
      "--- Comparing 'encounters' <=> 'immunizations' ---\n"
     ]
    },
    {
     "name": "stderr",
     "output_type": "stream",
     "text": [
      "[*] encounters <==> immunizations Runs:1: 100%|██████████| 1/1 [00:01<00:00,  1.24s/it]\n"
     ]
    },
    {
     "name": "stdout",
     "output_type": "stream",
     "text": [
      "Found 1 potential link(s).\n",
      "\n",
      "--- Comparing 'encounters' <=> 'medications' ---\n"
     ]
    },
    {
     "name": "stderr",
     "output_type": "stream",
     "text": [
      "[*] encounters <==> medications Runs:1: 100%|██████████| 1/1 [00:01<00:00,  1.33s/it]\n"
     ]
    },
    {
     "name": "stdout",
     "output_type": "stream",
     "text": [
      "Found 1 potential link(s).\n",
      "\n",
      "--- Comparing 'encounters' <=> 'observations' ---\n"
     ]
    },
    {
     "name": "stderr",
     "output_type": "stream",
     "text": [
      "[*] encounters <==> observations Runs:1: 100%|██████████| 1/1 [00:01<00:00,  1.13s/it]\n"
     ]
    },
    {
     "name": "stdout",
     "output_type": "stream",
     "text": [
      "Found 1 potential link(s).\n",
      "\n",
      "--- Comparing 'encounters' <=> 'organizations' ---\n"
     ]
    },
    {
     "name": "stderr",
     "output_type": "stream",
     "text": [
      "[*] encounters <==> organizations Runs:1: 100%|██████████| 1/1 [00:00<00:00,  1.09it/s]\n"
     ]
    },
    {
     "name": "stdout",
     "output_type": "stream",
     "text": [
      "Found 1 potential link(s).\n",
      "\n",
      "--- Comparing 'encounters' <=> 'patients' ---\n"
     ]
    },
    {
     "name": "stderr",
     "output_type": "stream",
     "text": [
      "[*] encounters <==> patients Runs:1: 100%|██████████| 1/1 [00:04<00:00,  4.16s/it]\n"
     ]
    },
    {
     "name": "stdout",
     "output_type": "stream",
     "text": [
      "Found 1 potential link(s).\n",
      "\n",
      "--- Comparing 'encounters' <=> 'payers' ---\n"
     ]
    },
    {
     "name": "stderr",
     "output_type": "stream",
     "text": [
      "[*] encounters <==> payers Runs:1: 100%|██████████| 1/1 [00:02<00:00,  2.77s/it]\n"
     ]
    },
    {
     "name": "stdout",
     "output_type": "stream",
     "text": [
      "Found 1 potential link(s).\n",
      "\n",
      "--- Comparing 'encounters' <=> 'payer_transitions' ---\n"
     ]
    },
    {
     "name": "stderr",
     "output_type": "stream",
     "text": [
      "[*] encounters <==> payer_transitions Runs:1: 100%|██████████| 1/1 [00:14<00:00, 14.43s/it]\n"
     ]
    },
    {
     "name": "stdout",
     "output_type": "stream",
     "text": [
      "No links found for this pair.\n",
      "\n",
      "--- Comparing 'encounters' <=> 'procedures' ---\n"
     ]
    },
    {
     "name": "stderr",
     "output_type": "stream",
     "text": [
      "[*] encounters <==> procedures Runs:1: 100%|██████████| 1/1 [00:01<00:00,  1.16s/it]\n"
     ]
    },
    {
     "name": "stdout",
     "output_type": "stream",
     "text": [
      "Found 1 potential link(s).\n",
      "\n",
      "--- Comparing 'encounters' <=> 'providers' ---\n"
     ]
    },
    {
     "name": "stderr",
     "output_type": "stream",
     "text": [
      "[*] encounters <==> providers Runs:1: 100%|██████████| 1/1 [00:01<00:00,  1.10s/it]\n"
     ]
    },
    {
     "name": "stdout",
     "output_type": "stream",
     "text": [
      "Found 1 potential link(s).\n",
      "\n",
      "--- Comparing 'encounters' <=> 'supplies' ---\n"
     ]
    },
    {
     "name": "stderr",
     "output_type": "stream",
     "text": [
      "[*] encounters <==> supplies Runs:1: 100%|██████████| 1/1 [00:06<00:00,  6.19s/it]\n"
     ]
    },
    {
     "name": "stdout",
     "output_type": "stream",
     "text": [
      "Found 1 potential link(s).\n",
      "\n",
      "--- Comparing 'imaging_studies' <=> 'immunizations' ---\n"
     ]
    },
    {
     "name": "stderr",
     "output_type": "stream",
     "text": [
      "[*] imaging_studies <==> immunizations Runs:1: 100%|██████████| 1/1 [00:03<00:00,  3.35s/it]\n"
     ]
    },
    {
     "name": "stdout",
     "output_type": "stream",
     "text": [
      "No links found for this pair.\n",
      "\n",
      "--- Comparing 'imaging_studies' <=> 'medications' ---\n"
     ]
    },
    {
     "name": "stderr",
     "output_type": "stream",
     "text": [
      "[*] imaging_studies <==> medications Runs:1: 100%|██████████| 1/1 [00:10<00:00, 10.78s/it]\n"
     ]
    },
    {
     "name": "stdout",
     "output_type": "stream",
     "text": [
      "No links found for this pair.\n",
      "\n",
      "--- Comparing 'imaging_studies' <=> 'observations' ---\n"
     ]
    },
    {
     "name": "stderr",
     "output_type": "stream",
     "text": [
      "[*] imaging_studies <==> observations Runs:1: 100%|██████████| 1/1 [00:05<00:00,  5.48s/it]\n"
     ]
    },
    {
     "name": "stdout",
     "output_type": "stream",
     "text": [
      "No links found for this pair.\n",
      "\n",
      "--- Comparing 'imaging_studies' <=> 'organizations' ---\n"
     ]
    },
    {
     "name": "stderr",
     "output_type": "stream",
     "text": [
      "[*] imaging_studies <==> organizations Runs:1: 100%|██████████| 1/1 [00:01<00:00,  1.28s/it]\n"
     ]
    },
    {
     "name": "stdout",
     "output_type": "stream",
     "text": [
      "No links found for this pair.\n",
      "\n",
      "--- Comparing 'imaging_studies' <=> 'patients' ---\n"
     ]
    },
    {
     "name": "stderr",
     "output_type": "stream",
     "text": [
      "[*] imaging_studies <==> patients Runs:1: 100%|██████████| 1/1 [00:01<00:00,  1.29s/it]\n"
     ]
    },
    {
     "name": "stdout",
     "output_type": "stream",
     "text": [
      "Found 1 potential link(s).\n",
      "\n",
      "--- Comparing 'imaging_studies' <=> 'payers' ---\n"
     ]
    },
    {
     "name": "stderr",
     "output_type": "stream",
     "text": [
      "[*] imaging_studies <==> payers Runs:1: 100%|██████████| 1/1 [00:02<00:00,  2.12s/it]\n"
     ]
    },
    {
     "name": "stdout",
     "output_type": "stream",
     "text": [
      "No links found for this pair.\n",
      "\n",
      "--- Comparing 'imaging_studies' <=> 'payer_transitions' ---\n"
     ]
    },
    {
     "name": "stderr",
     "output_type": "stream",
     "text": [
      "[*] imaging_studies <==> payer_transitions Runs:1: 100%|██████████| 1/1 [00:01<00:00,  1.95s/it]\n"
     ]
    },
    {
     "name": "stdout",
     "output_type": "stream",
     "text": [
      "No links found for this pair.\n",
      "\n",
      "--- Comparing 'imaging_studies' <=> 'procedures' ---\n"
     ]
    },
    {
     "name": "stderr",
     "output_type": "stream",
     "text": [
      "[*] imaging_studies <==> procedures Runs:1: 100%|██████████| 1/1 [00:02<00:00,  2.38s/it]\n"
     ]
    },
    {
     "name": "stdout",
     "output_type": "stream",
     "text": [
      "No links found for this pair.\n",
      "\n",
      "--- Comparing 'imaging_studies' <=> 'providers' ---\n"
     ]
    },
    {
     "name": "stderr",
     "output_type": "stream",
     "text": [
      "[*] imaging_studies <==> providers Runs:1: 100%|██████████| 1/1 [00:01<00:00,  1.32s/it]\n"
     ]
    },
    {
     "name": "stdout",
     "output_type": "stream",
     "text": [
      "No links found for this pair.\n",
      "\n",
      "--- Comparing 'imaging_studies' <=> 'supplies' ---\n"
     ]
    },
    {
     "name": "stderr",
     "output_type": "stream",
     "text": [
      "[*] imaging_studies <==> supplies Runs:1: 100%|██████████| 1/1 [00:06<00:00,  6.86s/it]\n"
     ]
    },
    {
     "name": "stdout",
     "output_type": "stream",
     "text": [
      "No links found for this pair.\n",
      "\n",
      "--- Comparing 'immunizations' <=> 'medications' ---\n"
     ]
    },
    {
     "name": "stderr",
     "output_type": "stream",
     "text": [
      "[*] immunizations <==> medications Runs:1: 100%|██████████| 1/1 [00:14<00:00, 14.46s/it]\n"
     ]
    },
    {
     "name": "stdout",
     "output_type": "stream",
     "text": [
      "No links found for this pair.\n",
      "\n",
      "--- Comparing 'immunizations' <=> 'observations' ---\n"
     ]
    },
    {
     "name": "stderr",
     "output_type": "stream",
     "text": [
      "[*] immunizations <==> observations Runs:1: 100%|██████████| 1/1 [00:02<00:00,  2.38s/it]\n"
     ]
    },
    {
     "name": "stdout",
     "output_type": "stream",
     "text": [
      "No links found for this pair.\n",
      "\n",
      "--- Comparing 'immunizations' <=> 'organizations' ---\n"
     ]
    },
    {
     "name": "stderr",
     "output_type": "stream",
     "text": [
      "[*] immunizations <==> organizations Runs:1: 100%|██████████| 1/1 [00:01<00:00,  1.15s/it]\n"
     ]
    },
    {
     "name": "stdout",
     "output_type": "stream",
     "text": [
      "Found 1 potential link(s).\n",
      "\n",
      "--- Comparing 'immunizations' <=> 'patients' ---\n"
     ]
    },
    {
     "name": "stderr",
     "output_type": "stream",
     "text": [
      "[*] immunizations <==> patients Runs:1: 100%|██████████| 1/1 [00:03<00:00,  3.98s/it]\n"
     ]
    },
    {
     "name": "stdout",
     "output_type": "stream",
     "text": [
      "Found 1 potential link(s).\n",
      "\n",
      "--- Comparing 'immunizations' <=> 'payers' ---\n"
     ]
    },
    {
     "name": "stderr",
     "output_type": "stream",
     "text": [
      "[*] immunizations <==> payers Runs:1: 100%|██████████| 1/1 [00:01<00:00,  1.35s/it]\n"
     ]
    },
    {
     "name": "stdout",
     "output_type": "stream",
     "text": [
      "No links found for this pair.\n",
      "\n",
      "--- Comparing 'immunizations' <=> 'payer_transitions' ---\n"
     ]
    },
    {
     "name": "stderr",
     "output_type": "stream",
     "text": [
      "[*] immunizations <==> payer_transitions Runs:1: 100%|██████████| 1/1 [00:01<00:00,  1.97s/it]\n"
     ]
    },
    {
     "name": "stdout",
     "output_type": "stream",
     "text": [
      "No links found for this pair.\n",
      "\n",
      "--- Comparing 'immunizations' <=> 'procedures' ---\n"
     ]
    },
    {
     "name": "stderr",
     "output_type": "stream",
     "text": [
      "[*] immunizations <==> procedures Runs:1: 100%|██████████| 1/1 [00:11<00:00, 11.15s/it]\n"
     ]
    },
    {
     "name": "stdout",
     "output_type": "stream",
     "text": [
      "No links found for this pair.\n",
      "\n",
      "--- Comparing 'immunizations' <=> 'providers' ---\n"
     ]
    },
    {
     "name": "stderr",
     "output_type": "stream",
     "text": [
      "[*] immunizations <==> providers Runs:1: 100%|██████████| 1/1 [00:00<00:00,  1.03it/s]\n"
     ]
    },
    {
     "name": "stdout",
     "output_type": "stream",
     "text": [
      "No links found for this pair.\n",
      "\n",
      "--- Comparing 'immunizations' <=> 'supplies' ---\n"
     ]
    },
    {
     "name": "stderr",
     "output_type": "stream",
     "text": [
      "[*] immunizations <==> supplies Runs:1: 100%|██████████| 1/1 [00:04<00:00,  4.95s/it]\n"
     ]
    },
    {
     "name": "stdout",
     "output_type": "stream",
     "text": [
      "No links found for this pair.\n",
      "\n",
      "--- Comparing 'medications' <=> 'observations' ---\n"
     ]
    },
    {
     "name": "stderr",
     "output_type": "stream",
     "text": [
      "[*] medications <==> observations Runs:1: 100%|██████████| 1/1 [00:05<00:00,  5.61s/it]\n"
     ]
    },
    {
     "name": "stdout",
     "output_type": "stream",
     "text": [
      "No links found for this pair.\n",
      "\n",
      "--- Comparing 'medications' <=> 'organizations' ---\n"
     ]
    },
    {
     "name": "stderr",
     "output_type": "stream",
     "text": [
      "[*] medications <==> organizations Runs:1: 100%|██████████| 1/1 [00:01<00:00,  1.07s/it]\n"
     ]
    },
    {
     "name": "stdout",
     "output_type": "stream",
     "text": [
      "Found 1 potential link(s).\n",
      "\n",
      "--- Comparing 'medications' <=> 'patients' ---\n"
     ]
    },
    {
     "name": "stderr",
     "output_type": "stream",
     "text": [
      "[*] medications <==> patients Runs:1: 100%|██████████| 1/1 [00:00<00:00,  1.01it/s]\n"
     ]
    },
    {
     "name": "stdout",
     "output_type": "stream",
     "text": [
      "Found 1 potential link(s).\n",
      "\n",
      "--- Comparing 'medications' <=> 'payers' ---\n"
     ]
    },
    {
     "name": "stderr",
     "output_type": "stream",
     "text": [
      "[*] medications <==> payers Runs:1: 100%|██████████| 1/1 [00:00<00:00,  1.02it/s]\n"
     ]
    },
    {
     "name": "stdout",
     "output_type": "stream",
     "text": [
      "Found 1 potential link(s).\n",
      "\n",
      "--- Comparing 'medications' <=> 'payer_transitions' ---\n"
     ]
    },
    {
     "name": "stderr",
     "output_type": "stream",
     "text": [
      "[*] medications <==> payer_transitions Runs:1: 100%|██████████| 1/1 [00:02<00:00,  2.83s/it]\n"
     ]
    },
    {
     "name": "stdout",
     "output_type": "stream",
     "text": [
      "No links found for this pair.\n",
      "\n",
      "--- Comparing 'medications' <=> 'procedures' ---\n"
     ]
    },
    {
     "name": "stderr",
     "output_type": "stream",
     "text": [
      "[*] medications <==> procedures Runs:1: 100%|██████████| 1/1 [00:05<00:00,  5.92s/it]\n"
     ]
    },
    {
     "name": "stdout",
     "output_type": "stream",
     "text": [
      "No links found for this pair.\n",
      "\n",
      "--- Comparing 'medications' <=> 'providers' ---\n"
     ]
    },
    {
     "name": "stderr",
     "output_type": "stream",
     "text": [
      "[*] medications <==> providers Runs:1: 100%|██████████| 1/1 [00:00<00:00,  1.23it/s]\n"
     ]
    },
    {
     "name": "stdout",
     "output_type": "stream",
     "text": [
      "Found 1 potential link(s).\n",
      "\n",
      "--- Comparing 'medications' <=> 'supplies' ---\n"
     ]
    },
    {
     "name": "stderr",
     "output_type": "stream",
     "text": [
      "[*] medications <==> supplies Runs:1: 100%|██████████| 1/1 [00:02<00:00,  2.04s/it]\n"
     ]
    },
    {
     "name": "stdout",
     "output_type": "stream",
     "text": [
      "No links found for this pair.\n",
      "\n",
      "--- Comparing 'observations' <=> 'organizations' ---\n"
     ]
    },
    {
     "name": "stderr",
     "output_type": "stream",
     "text": [
      "[*] observations <==> organizations Runs:1: 100%|██████████| 1/1 [00:10<00:00, 10.11s/it]\n"
     ]
    },
    {
     "name": "stdout",
     "output_type": "stream",
     "text": [
      "No links found for this pair.\n",
      "\n",
      "--- Comparing 'observations' <=> 'patients' ---\n"
     ]
    },
    {
     "name": "stderr",
     "output_type": "stream",
     "text": [
      "[*] observations <==> patients Runs:1: 100%|██████████| 1/1 [00:02<00:00,  2.34s/it]\n"
     ]
    },
    {
     "name": "stdout",
     "output_type": "stream",
     "text": [
      "Found 1 potential link(s).\n",
      "\n",
      "--- Comparing 'observations' <=> 'payers' ---\n"
     ]
    },
    {
     "name": "stderr",
     "output_type": "stream",
     "text": [
      "[*] observations <==> payers Runs:1: 100%|██████████| 1/1 [00:01<00:00,  1.13s/it]\n"
     ]
    },
    {
     "name": "stdout",
     "output_type": "stream",
     "text": [
      "No links found for this pair.\n",
      "\n",
      "--- Comparing 'observations' <=> 'payer_transitions' ---\n"
     ]
    },
    {
     "name": "stderr",
     "output_type": "stream",
     "text": [
      "[*] observations <==> payer_transitions Runs:1: 100%|██████████| 1/1 [00:04<00:00,  4.67s/it]\n"
     ]
    },
    {
     "name": "stdout",
     "output_type": "stream",
     "text": [
      "No links found for this pair.\n",
      "\n",
      "--- Comparing 'observations' <=> 'procedures' ---\n"
     ]
    },
    {
     "name": "stderr",
     "output_type": "stream",
     "text": [
      "[*] observations <==> procedures Runs:1: 100%|██████████| 1/1 [00:04<00:00,  4.17s/it]\n"
     ]
    },
    {
     "name": "stdout",
     "output_type": "stream",
     "text": [
      "No links found for this pair.\n",
      "\n",
      "--- Comparing 'observations' <=> 'providers' ---\n"
     ]
    },
    {
     "name": "stderr",
     "output_type": "stream",
     "text": [
      "[*] observations <==> providers Runs:1: 100%|██████████| 1/1 [00:06<00:00,  6.87s/it]\n"
     ]
    },
    {
     "name": "stdout",
     "output_type": "stream",
     "text": [
      "No links found for this pair.\n",
      "\n",
      "--- Comparing 'observations' <=> 'supplies' ---\n"
     ]
    },
    {
     "name": "stderr",
     "output_type": "stream",
     "text": [
      "[*] observations <==> supplies Runs:1: 100%|██████████| 1/1 [00:04<00:00,  4.12s/it]\n"
     ]
    },
    {
     "name": "stdout",
     "output_type": "stream",
     "text": [
      "No links found for this pair.\n",
      "\n",
      "--- Comparing 'organizations' <=> 'patients' ---\n"
     ]
    },
    {
     "name": "stderr",
     "output_type": "stream",
     "text": [
      "[*] organizations <==> patients Runs:1: 100%|██████████| 1/1 [00:02<00:00,  2.78s/it]\n"
     ]
    },
    {
     "name": "stdout",
     "output_type": "stream",
     "text": [
      "No links found for this pair.\n",
      "\n",
      "--- Comparing 'organizations' <=> 'payers' ---\n"
     ]
    },
    {
     "name": "stderr",
     "output_type": "stream",
     "text": [
      "[*] organizations <==> payers Runs:1: 100%|██████████| 1/1 [00:02<00:00,  2.09s/it]\n"
     ]
    },
    {
     "name": "stdout",
     "output_type": "stream",
     "text": [
      "No links found for this pair.\n",
      "\n",
      "--- Comparing 'organizations' <=> 'payer_transitions' ---\n"
     ]
    },
    {
     "name": "stderr",
     "output_type": "stream",
     "text": [
      "[*] organizations <==> payer_transitions Runs:1: 100%|██████████| 1/1 [00:01<00:00,  1.36s/it]\n"
     ]
    },
    {
     "name": "stdout",
     "output_type": "stream",
     "text": [
      "No links found for this pair.\n",
      "\n",
      "--- Comparing 'organizations' <=> 'procedures' ---\n"
     ]
    },
    {
     "name": "stderr",
     "output_type": "stream",
     "text": [
      "[*] organizations <==> procedures Runs:1: 100%|██████████| 1/1 [00:04<00:00,  4.03s/it]\n"
     ]
    },
    {
     "name": "stdout",
     "output_type": "stream",
     "text": [
      "No links found for this pair.\n",
      "\n",
      "--- Comparing 'organizations' <=> 'providers' ---\n"
     ]
    },
    {
     "name": "stderr",
     "output_type": "stream",
     "text": [
      "[*] organizations <==> providers Runs:1: 100%|██████████| 1/1 [00:02<00:00,  2.04s/it]\n"
     ]
    },
    {
     "name": "stdout",
     "output_type": "stream",
     "text": [
      "Found 1 potential link(s).\n",
      "\n",
      "--- Comparing 'organizations' <=> 'supplies' ---\n"
     ]
    },
    {
     "name": "stderr",
     "output_type": "stream",
     "text": [
      "[*] organizations <==> supplies Runs:1: 100%|██████████| 1/1 [00:01<00:00,  1.03s/it]\n"
     ]
    },
    {
     "name": "stdout",
     "output_type": "stream",
     "text": [
      "No links found for this pair.\n",
      "\n",
      "--- Comparing 'patients' <=> 'payers' ---\n"
     ]
    },
    {
     "name": "stderr",
     "output_type": "stream",
     "text": [
      "[*] patients <==> payers Runs:1: 100%|██████████| 1/1 [00:01<00:00,  1.10s/it]\n"
     ]
    },
    {
     "name": "stdout",
     "output_type": "stream",
     "text": [
      "No links found for this pair.\n",
      "\n",
      "--- Comparing 'patients' <=> 'payer_transitions' ---\n"
     ]
    },
    {
     "name": "stderr",
     "output_type": "stream",
     "text": [
      "[*] patients <==> payer_transitions Runs:1: 100%|██████████| 1/1 [00:01<00:00,  1.83s/it]\n"
     ]
    },
    {
     "name": "stdout",
     "output_type": "stream",
     "text": [
      "Found 1 potential link(s).\n",
      "\n",
      "--- Comparing 'patients' <=> 'procedures' ---\n"
     ]
    },
    {
     "name": "stderr",
     "output_type": "stream",
     "text": [
      "[*] patients <==> procedures Runs:1: 100%|██████████| 1/1 [00:01<00:00,  1.09s/it]\n"
     ]
    },
    {
     "name": "stdout",
     "output_type": "stream",
     "text": [
      "Found 1 potential link(s).\n",
      "\n",
      "--- Comparing 'patients' <=> 'providers' ---\n"
     ]
    },
    {
     "name": "stderr",
     "output_type": "stream",
     "text": [
      "[*] patients <==> providers Runs:1: 100%|██████████| 1/1 [00:00<00:00,  1.35it/s]\n"
     ]
    },
    {
     "name": "stdout",
     "output_type": "stream",
     "text": [
      "No links found for this pair.\n",
      "\n",
      "--- Comparing 'patients' <=> 'supplies' ---\n"
     ]
    },
    {
     "name": "stderr",
     "output_type": "stream",
     "text": [
      "[*] patients <==> supplies Runs:1: 100%|██████████| 1/1 [00:04<00:00,  4.54s/it]\n"
     ]
    },
    {
     "name": "stdout",
     "output_type": "stream",
     "text": [
      "Found 1 potential link(s).\n",
      "\n",
      "--- Comparing 'payers' <=> 'payer_transitions' ---\n"
     ]
    },
    {
     "name": "stderr",
     "output_type": "stream",
     "text": [
      "[*] payers <==> payer_transitions Runs:1: 100%|██████████| 1/1 [00:01<00:00,  1.24s/it]\n"
     ]
    },
    {
     "name": "stdout",
     "output_type": "stream",
     "text": [
      "Found 1 potential link(s).\n",
      "\n",
      "--- Comparing 'payers' <=> 'procedures' ---\n"
     ]
    },
    {
     "name": "stderr",
     "output_type": "stream",
     "text": [
      "[*] payers <==> procedures Runs:1: 100%|██████████| 1/1 [00:01<00:00,  1.08s/it]\n"
     ]
    },
    {
     "name": "stdout",
     "output_type": "stream",
     "text": [
      "Found 1 potential link(s).\n",
      "\n",
      "--- Comparing 'payers' <=> 'providers' ---\n"
     ]
    },
    {
     "name": "stderr",
     "output_type": "stream",
     "text": [
      "[*] payers <==> providers Runs:1: 100%|██████████| 1/1 [00:01<00:00,  1.07s/it]\n"
     ]
    },
    {
     "name": "stdout",
     "output_type": "stream",
     "text": [
      "No links found for this pair.\n",
      "\n",
      "--- Comparing 'payers' <=> 'supplies' ---\n"
     ]
    },
    {
     "name": "stderr",
     "output_type": "stream",
     "text": [
      "[*] payers <==> supplies Runs:1: 100%|██████████| 1/1 [00:09<00:00,  9.14s/it]\n"
     ]
    },
    {
     "name": "stdout",
     "output_type": "stream",
     "text": [
      "No links found for this pair.\n",
      "\n",
      "--- Comparing 'payer_transitions' <=> 'procedures' ---\n"
     ]
    },
    {
     "name": "stderr",
     "output_type": "stream",
     "text": [
      "[*] payer_transitions <==> procedures Runs:1: 100%|██████████| 1/1 [00:03<00:00,  3.50s/it]\n"
     ]
    },
    {
     "name": "stdout",
     "output_type": "stream",
     "text": [
      "No links found for this pair.\n",
      "\n",
      "--- Comparing 'payer_transitions' <=> 'providers' ---\n"
     ]
    },
    {
     "name": "stderr",
     "output_type": "stream",
     "text": [
      "[*] payer_transitions <==> providers Runs:1: 100%|██████████| 1/1 [00:01<00:00,  1.03s/it]\n"
     ]
    },
    {
     "name": "stdout",
     "output_type": "stream",
     "text": [
      "No links found for this pair.\n",
      "\n",
      "--- Comparing 'payer_transitions' <=> 'supplies' ---\n"
     ]
    },
    {
     "name": "stderr",
     "output_type": "stream",
     "text": [
      "[*] payer_transitions <==> supplies Runs:1: 100%|██████████| 1/1 [00:05<00:00,  5.45s/it]\n"
     ]
    },
    {
     "name": "stdout",
     "output_type": "stream",
     "text": [
      "No links found for this pair.\n",
      "\n",
      "--- Comparing 'procedures' <=> 'providers' ---\n"
     ]
    },
    {
     "name": "stderr",
     "output_type": "stream",
     "text": [
      "[*] procedures <==> providers Runs:1: 100%|██████████| 1/1 [00:02<00:00,  2.06s/it]\n"
     ]
    },
    {
     "name": "stdout",
     "output_type": "stream",
     "text": [
      "Found 1 potential link(s).\n",
      "\n",
      "--- Comparing 'procedures' <=> 'supplies' ---\n"
     ]
    },
    {
     "name": "stderr",
     "output_type": "stream",
     "text": [
      "[*] procedures <==> supplies Runs:1: 100%|██████████| 1/1 [00:10<00:00, 10.06s/it]\n"
     ]
    },
    {
     "name": "stdout",
     "output_type": "stream",
     "text": [
      "No links found for this pair.\n",
      "\n",
      "--- Comparing 'providers' <=> 'supplies' ---\n"
     ]
    },
    {
     "name": "stderr",
     "output_type": "stream",
     "text": [
      "[*] providers <==> supplies Runs:1: 100%|██████████| 1/1 [00:00<00:00,  1.07it/s]\n"
     ]
    },
    {
     "name": "stdout",
     "output_type": "stream",
     "text": [
      "No links found for this pair.\n"
     ]
    },
    {
     "name": "stderr",
     "output_type": "stream",
     "text": [
      "/home/raphael/Downloads/intugle_demo/env/lib/python3.12/site-packages/intugle/core/vector_store/qdrant.py:77: UserWarning: Api key is used with an insecure connection.\n",
      "  self._client = AsyncQdrantClient(**self.client_config)\n"
     ]
    },
    {
     "data": {
      "text/plain": [
       "<intugle.knowledge_builder.KnowledgeBuilder at 0x7008d5bfe540>"
      ]
     },
     "execution_count": 3,
     "metadata": {},
     "output_type": "execute_result"
    }
   ],
   "source": [
    "from intugle import KnowledgeBuilder\n",
    "\n",
    "# Initialize the knowledge builder\n",
    "kb = KnowledgeBuilder(datasets, domain=\"Healthcare\")\n",
    "\n",
    "# Run the prediction\n",
    "kb.build()"
   ]
  },
  {
   "cell_type": "markdown",
   "id": "eb562acd",
   "metadata": {},
   "source": [
    "## 3. Accessing Enriched Metadata\n",
    "\n",
    "Now that the knowledge base is built, you can easily access the enriched metadata for each dataset.\n",
    "\n",
    "### Accessing a Dataset\n",
    "\n",
    "You can access a specific dataset by its name from the `kb.datasets` dictionary:"
   ]
  },
  {
   "cell_type": "code",
   "execution_count": 4,
   "id": "0aa894eb",
   "metadata": {},
   "outputs": [
    {
     "data": {
      "text/html": [
       "<div>\n",
       "<style scoped>\n",
       "    .dataframe tbody tr th:only-of-type {\n",
       "        vertical-align: middle;\n",
       "    }\n",
       "\n",
       "    .dataframe tbody tr th {\n",
       "        vertical-align: top;\n",
       "    }\n",
       "\n",
       "    .dataframe thead th {\n",
       "        text-align: right;\n",
       "    }\n",
       "</style>\n",
       "<table border=\"1\" class=\"dataframe\">\n",
       "  <thead>\n",
       "    <tr style=\"text-align: right;\">\n",
       "      <th></th>\n",
       "      <th>column_name</th>\n",
       "      <th>business_name</th>\n",
       "      <th>table_name</th>\n",
       "      <th>null_count</th>\n",
       "      <th>count</th>\n",
       "      <th>distinct_count</th>\n",
       "      <th>uniqueness</th>\n",
       "      <th>completeness</th>\n",
       "      <th>sample_data</th>\n",
       "      <th>dtype_sample</th>\n",
       "      <th>ts</th>\n",
       "      <th>datatype_l1</th>\n",
       "      <th>datatype_l2</th>\n",
       "      <th>business_glossary</th>\n",
       "      <th>business_tags</th>\n",
       "    </tr>\n",
       "  </thead>\n",
       "  <tbody>\n",
       "    <tr>\n",
       "      <th>0</th>\n",
       "      <td>id</td>\n",
       "      <td>id</td>\n",
       "      <td>patients</td>\n",
       "      <td>0</td>\n",
       "      <td>1163</td>\n",
       "      <td>1163</td>\n",
       "      <td>1.000000</td>\n",
       "      <td>1.000000</td>\n",
       "      <td>[1a4f3136-4eae-dc5d-f68d-046b7a2e11ea, acbb6a4...</td>\n",
       "      <td>[217f95a3-4e10-bd5d-fb67-0cfb5e8ba075, 23d16ee...</td>\n",
       "      <td>0.004991</td>\n",
       "      <td>alphanumeric</td>\n",
       "      <td>L2OutputTypes.dimension</td>\n",
       "      <td>Serves as a unique identifier for individual p...</td>\n",
       "      <td>[Patient Identifier, Unique Record Key, Health...</td>\n",
       "    </tr>\n",
       "    <tr>\n",
       "      <th>1</th>\n",
       "      <td>birthdate</td>\n",
       "      <td>birthdate</td>\n",
       "      <td>patients</td>\n",
       "      <td>0</td>\n",
       "      <td>1163</td>\n",
       "      <td>987</td>\n",
       "      <td>0.848667</td>\n",
       "      <td>1.000000</td>\n",
       "      <td>[1928-11-13, 1966-06-22, 2004-05-16, 1923-09-0...</td>\n",
       "      <td>[1993-12-23, 2018-09-16, 1970-09-14, 1956-10-2...</td>\n",
       "      <td>0.004395</td>\n",
       "      <td>date &amp; time</td>\n",
       "      <td>L2OutputTypes.dimension</td>\n",
       "      <td>Indicates the date on which an individual was ...</td>\n",
       "      <td>[Patient Demographics, Age Calculation, Health...</td>\n",
       "    </tr>\n",
       "    <tr>\n",
       "      <th>2</th>\n",
       "      <td>deathdate</td>\n",
       "      <td>deathdate</td>\n",
       "      <td>patients</td>\n",
       "      <td>1000</td>\n",
       "      <td>1163</td>\n",
       "      <td>163</td>\n",
       "      <td>0.140155</td>\n",
       "      <td>0.140155</td>\n",
       "      <td>[2001-09-05, 1966-05-07, 2010-01-13, 1955-11-2...</td>\n",
       "      <td>[2009-11-13, 2011-07-10, 1991-11-18, 2010-06-0...</td>\n",
       "      <td>0.005714</td>\n",
       "      <td>date &amp; time</td>\n",
       "      <td>L2OutputTypes.dimension</td>\n",
       "      <td>Indicates the date and time when an individual...</td>\n",
       "      <td>[Patient Mortality, End Of Life Date, Healthca...</td>\n",
       "    </tr>\n",
       "    <tr>\n",
       "      <th>3</th>\n",
       "      <td>ssn</td>\n",
       "      <td>ssn</td>\n",
       "      <td>patients</td>\n",
       "      <td>0</td>\n",
       "      <td>1163</td>\n",
       "      <td>1163</td>\n",
       "      <td>1.000000</td>\n",
       "      <td>1.000000</td>\n",
       "      <td>[999-52-4852, 999-95-8884, 999-31-6931, 999-37...</td>\n",
       "      <td>[999-59-7726, 999-16-7928, 999-47-2075, 999-31...</td>\n",
       "      <td>0.005779</td>\n",
       "      <td>alphanumeric</td>\n",
       "      <td>L2OutputTypes.dimension</td>\n",
       "      <td>Serves as a unique identifier for individuals ...</td>\n",
       "      <td>[Patient Identification, Social Security Numbe...</td>\n",
       "    </tr>\n",
       "    <tr>\n",
       "      <th>4</th>\n",
       "      <td>drivers</td>\n",
       "      <td>drivers</td>\n",
       "      <td>patients</td>\n",
       "      <td>215</td>\n",
       "      <td>1163</td>\n",
       "      <td>941</td>\n",
       "      <td>0.809114</td>\n",
       "      <td>0.815133</td>\n",
       "      <td>[S99918599, S99986354, S99954622, S99943469, S...</td>\n",
       "      <td>[S99916617, S99985809, S99999275, S99929211, S...</td>\n",
       "      <td>0.003784</td>\n",
       "      <td>alphanumeric</td>\n",
       "      <td>L2OutputTypes.dimension</td>\n",
       "      <td>Unique identifiers used to associate individua...</td>\n",
       "      <td>[Driver Identification, Healthcare Provider Re...</td>\n",
       "    </tr>\n",
       "    <tr>\n",
       "      <th>5</th>\n",
       "      <td>passport</td>\n",
       "      <td>passport</td>\n",
       "      <td>patients</td>\n",
       "      <td>276</td>\n",
       "      <td>1163</td>\n",
       "      <td>887</td>\n",
       "      <td>0.762683</td>\n",
       "      <td>0.762683</td>\n",
       "      <td>[X15711612X, X42921765X, X84876726X, X69721357...</td>\n",
       "      <td>[X75063318X, X33683613X, X77363212X, X62900787...</td>\n",
       "      <td>0.006447</td>\n",
       "      <td>alphanumeric</td>\n",
       "      <td>L2OutputTypes.dimension</td>\n",
       "      <td>Unique identifier used to document and track i...</td>\n",
       "      <td>[Patient Identification, Travel Documentation,...</td>\n",
       "    </tr>\n",
       "    <tr>\n",
       "      <th>6</th>\n",
       "      <td>prefix</td>\n",
       "      <td>prefix</td>\n",
       "      <td>patients</td>\n",
       "      <td>245</td>\n",
       "      <td>1163</td>\n",
       "      <td>3</td>\n",
       "      <td>0.002580</td>\n",
       "      <td>0.789338</td>\n",
       "      <td>[Mr., Mrs., Ms.]</td>\n",
       "      <td>[Ms., Mr., Mrs., Mrs., Mrs., Ms., Ms., Mr., Mr...</td>\n",
       "      <td>0.003622</td>\n",
       "      <td>close_ended_text</td>\n",
       "      <td>L2OutputTypes.dimension</td>\n",
       "      <td>Indicates the title or honorific used to addre...</td>\n",
       "      <td>[Patient Salutation, Personal Title, Demograph...</td>\n",
       "    </tr>\n",
       "    <tr>\n",
       "      <th>7</th>\n",
       "      <td>first</td>\n",
       "      <td>first</td>\n",
       "      <td>patients</td>\n",
       "      <td>0</td>\n",
       "      <td>1163</td>\n",
       "      <td>1002</td>\n",
       "      <td>0.861565</td>\n",
       "      <td>1.000000</td>\n",
       "      <td>[Elena945, Ana972, Donetta1, Chris95, Marivel8...</td>\n",
       "      <td>[Franklyn361, Bonita405, Jonathon205, Gerry91,...</td>\n",
       "      <td>0.006652</td>\n",
       "      <td>alphanumeric</td>\n",
       "      <td>L2OutputTypes.dimension</td>\n",
       "      <td>Identifies individuals using a unique alphanum...</td>\n",
       "      <td>[Patient Identifier, Healthcare Record Trackin...</td>\n",
       "    </tr>\n",
       "    <tr>\n",
       "      <th>8</th>\n",
       "      <td>last</td>\n",
       "      <td>last</td>\n",
       "      <td>patients</td>\n",
       "      <td>0</td>\n",
       "      <td>1163</td>\n",
       "      <td>477</td>\n",
       "      <td>0.410146</td>\n",
       "      <td>1.000000</td>\n",
       "      <td>[Greenfelder433, Gerhold939, Estévez304, Hane6...</td>\n",
       "      <td>[Walter473, Herzog843, Wisoky380, Runolfsson90...</td>\n",
       "      <td>0.005493</td>\n",
       "      <td>alphanumeric</td>\n",
       "      <td>L2OutputTypes.dimension</td>\n",
       "      <td>Identifies individuals uniquely within the pat...</td>\n",
       "      <td>[Patient Identifier, Healthcare Record Trackin...</td>\n",
       "    </tr>\n",
       "    <tr>\n",
       "      <th>9</th>\n",
       "      <td>suffix</td>\n",
       "      <td>suffix</td>\n",
       "      <td>patients</td>\n",
       "      <td>1147</td>\n",
       "      <td>1163</td>\n",
       "      <td>3</td>\n",
       "      <td>0.002580</td>\n",
       "      <td>0.013758</td>\n",
       "      <td>[JD, PhD, MD]</td>\n",
       "      <td>[JD, MD, PhD, PhD, MD, MD, PhD, PhD, JD, MD, P...</td>\n",
       "      <td>0.003334</td>\n",
       "      <td>close_ended_text</td>\n",
       "      <td>L2OutputTypes.dimension</td>\n",
       "      <td>Indicates the professional or academic designa...</td>\n",
       "      <td>[Professional Credentials, Patient Identificat...</td>\n",
       "    </tr>\n",
       "    <tr>\n",
       "      <th>10</th>\n",
       "      <td>maiden</td>\n",
       "      <td>maiden</td>\n",
       "      <td>patients</td>\n",
       "      <td>832</td>\n",
       "      <td>1163</td>\n",
       "      <td>248</td>\n",
       "      <td>0.213242</td>\n",
       "      <td>0.284609</td>\n",
       "      <td>[Trantow673, Aufderhar910, Runte676, Kuvalis36...</td>\n",
       "      <td>[Blanda868, Funk324, Lemke654, Gislason620, Ar...</td>\n",
       "      <td>0.005715</td>\n",
       "      <td>alphanumeric</td>\n",
       "      <td>L2OutputTypes.dimension</td>\n",
       "      <td>Tracks unique identifiers or codes associated ...</td>\n",
       "      <td>[Patient Identifier, Unique Code, Medical Reco...</td>\n",
       "    </tr>\n",
       "    <tr>\n",
       "      <th>11</th>\n",
       "      <td>marital</td>\n",
       "      <td>marital</td>\n",
       "      <td>patients</td>\n",
       "      <td>384</td>\n",
       "      <td>1163</td>\n",
       "      <td>2</td>\n",
       "      <td>0.001720</td>\n",
       "      <td>0.669819</td>\n",
       "      <td>[S, M]</td>\n",
       "      <td>[M, S, S, M, S, S, M, S, M, S, S, M, M, M, S, ...</td>\n",
       "      <td>0.003135</td>\n",
       "      <td>close_ended_text</td>\n",
       "      <td>L2OutputTypes.dimension</td>\n",
       "      <td>Indicates the relationship status of an indivi...</td>\n",
       "      <td>[Marital Status, Demographic Information, Pati...</td>\n",
       "    </tr>\n",
       "    <tr>\n",
       "      <th>12</th>\n",
       "      <td>race</td>\n",
       "      <td>race</td>\n",
       "      <td>patients</td>\n",
       "      <td>0</td>\n",
       "      <td>1163</td>\n",
       "      <td>6</td>\n",
       "      <td>0.005159</td>\n",
       "      <td>1.000000</td>\n",
       "      <td>[hawaiian, asian, black, white, other, native]</td>\n",
       "      <td>[white, native, black, other, hawaiian, asian,...</td>\n",
       "      <td>0.005455</td>\n",
       "      <td>close_ended_text</td>\n",
       "      <td>L2OutputTypes.dimension</td>\n",
       "      <td>Categorizes individuals based on self-identifi...</td>\n",
       "      <td>[Demographics, Patient Diversity, Health Equit...</td>\n",
       "    </tr>\n",
       "    <tr>\n",
       "      <th>13</th>\n",
       "      <td>ethnicity</td>\n",
       "      <td>ethnicity</td>\n",
       "      <td>patients</td>\n",
       "      <td>0</td>\n",
       "      <td>1163</td>\n",
       "      <td>2</td>\n",
       "      <td>0.001720</td>\n",
       "      <td>1.000000</td>\n",
       "      <td>[hispanic, nonhispanic]</td>\n",
       "      <td>[nonhispanic, hispanic, hispanic, hispanic, hi...</td>\n",
       "      <td>0.004667</td>\n",
       "      <td>close_ended_text</td>\n",
       "      <td>L2OutputTypes.dimension</td>\n",
       "      <td>Categorizes individuals based on their cultura...</td>\n",
       "      <td>[Demographic Classification, Health Equity Ana...</td>\n",
       "    </tr>\n",
       "    <tr>\n",
       "      <th>14</th>\n",
       "      <td>gender</td>\n",
       "      <td>gender</td>\n",
       "      <td>patients</td>\n",
       "      <td>0</td>\n",
       "      <td>1163</td>\n",
       "      <td>2</td>\n",
       "      <td>0.001720</td>\n",
       "      <td>1.000000</td>\n",
       "      <td>[M, F]</td>\n",
       "      <td>[F, M, M, M, F, F, F, F, F, F, M, F, F, M, M, ...</td>\n",
       "      <td>0.003129</td>\n",
       "      <td>close_ended_text</td>\n",
       "      <td>L2OutputTypes.dimension</td>\n",
       "      <td>Categorizes individuals based on their self-id...</td>\n",
       "      <td>[Patient Demographics, Gender Classification, ...</td>\n",
       "    </tr>\n",
       "    <tr>\n",
       "      <th>15</th>\n",
       "      <td>birthplace</td>\n",
       "      <td>birthplace</td>\n",
       "      <td>patients</td>\n",
       "      <td>0</td>\n",
       "      <td>1163</td>\n",
       "      <td>317</td>\n",
       "      <td>0.272571</td>\n",
       "      <td>1.000000</td>\n",
       "      <td>[Buenos Aires  Ciudad de Buenos Aires  AR, Sud...</td>\n",
       "      <td>[Danvers  Massachusetts  US, Blackstone  Massa...</td>\n",
       "      <td>0.003767</td>\n",
       "      <td>close_ended_text</td>\n",
       "      <td>L2OutputTypes.dimension</td>\n",
       "      <td>Identifies the geographical location where an ...</td>\n",
       "      <td>[Patient Demographics, Geographic Origin, Heal...</td>\n",
       "    </tr>\n",
       "    <tr>\n",
       "      <th>16</th>\n",
       "      <td>address</td>\n",
       "      <td>address</td>\n",
       "      <td>patients</td>\n",
       "      <td>0</td>\n",
       "      <td>1163</td>\n",
       "      <td>1163</td>\n",
       "      <td>1.000000</td>\n",
       "      <td>1.000000</td>\n",
       "      <td>[450 Kutch Bridge Unit 35, 418 Roob Trailer, 8...</td>\n",
       "      <td>[734 Brakus Pathway Unit 28, 902 Gutkowski Hol...</td>\n",
       "      <td>0.007850</td>\n",
       "      <td>alphanumeric</td>\n",
       "      <td>L2OutputTypes.dimension</td>\n",
       "      <td>Indicates the physical location associated wit...</td>\n",
       "      <td>[Patient Residential Information, Contact Loca...</td>\n",
       "    </tr>\n",
       "    <tr>\n",
       "      <th>17</th>\n",
       "      <td>city</td>\n",
       "      <td>city</td>\n",
       "      <td>patients</td>\n",
       "      <td>0</td>\n",
       "      <td>1163</td>\n",
       "      <td>256</td>\n",
       "      <td>0.220120</td>\n",
       "      <td>1.000000</td>\n",
       "      <td>[Rockport, Salem, Clinton, Rockland, Holbrook,...</td>\n",
       "      <td>[Somerville, Salem, Essex, Mashpee, Southborou...</td>\n",
       "      <td>0.003501</td>\n",
       "      <td>close_ended_text</td>\n",
       "      <td>L2OutputTypes.dimension</td>\n",
       "      <td>Indicates the geographical location associated...</td>\n",
       "      <td>[Patient Residence, Geographic Location, Commu...</td>\n",
       "    </tr>\n",
       "    <tr>\n",
       "      <th>18</th>\n",
       "      <td>state</td>\n",
       "      <td>state</td>\n",
       "      <td>patients</td>\n",
       "      <td>0</td>\n",
       "      <td>1163</td>\n",
       "      <td>1</td>\n",
       "      <td>0.000860</td>\n",
       "      <td>1.000000</td>\n",
       "      <td>[Massachusetts]</td>\n",
       "      <td>[Massachusetts, Massachusetts, Massachusetts, ...</td>\n",
       "      <td>0.003719</td>\n",
       "      <td>close_ended_text</td>\n",
       "      <td>L2OutputTypes.dimension</td>\n",
       "      <td>Indicates the administrative region associated...</td>\n",
       "      <td>[Geographic Location, Patient Residency, State...</td>\n",
       "    </tr>\n",
       "    <tr>\n",
       "      <th>19</th>\n",
       "      <td>county</td>\n",
       "      <td>county</td>\n",
       "      <td>patients</td>\n",
       "      <td>0</td>\n",
       "      <td>1163</td>\n",
       "      <td>13</td>\n",
       "      <td>0.011178</td>\n",
       "      <td>1.000000</td>\n",
       "      <td>[Suffolk County, Norfolk County, Bristol Count...</td>\n",
       "      <td>[Plymouth County, Norfolk County, Worcester Co...</td>\n",
       "      <td>0.004057</td>\n",
       "      <td>close_ended_text</td>\n",
       "      <td>L2OutputTypes.dimension</td>\n",
       "      <td>Identifies the administrative region associate...</td>\n",
       "      <td>[Geographic Location, Healthcare Service Regio...</td>\n",
       "    </tr>\n",
       "    <tr>\n",
       "      <th>20</th>\n",
       "      <td>zip</td>\n",
       "      <td>zip</td>\n",
       "      <td>patients</td>\n",
       "      <td>545</td>\n",
       "      <td>1163</td>\n",
       "      <td>223</td>\n",
       "      <td>0.191745</td>\n",
       "      <td>0.531384</td>\n",
       "      <td>[01201, 01001, 02451, 01938, 02420, 01566, 019...</td>\n",
       "      <td>[02131, 02043, 01844, 02155, 01902, 01852, 027...</td>\n",
       "      <td>0.004337</td>\n",
       "      <td>integer</td>\n",
       "      <td>L2OutputTypes.dimension</td>\n",
       "      <td>Identifies the geographic area associated with...</td>\n",
       "      <td>[Geographic Location, Patient Demographics, Re...</td>\n",
       "    </tr>\n",
       "    <tr>\n",
       "      <th>21</th>\n",
       "      <td>lat</td>\n",
       "      <td>lat</td>\n",
       "      <td>patients</td>\n",
       "      <td>0</td>\n",
       "      <td>1163</td>\n",
       "      <td>1163</td>\n",
       "      <td>1.000000</td>\n",
       "      <td>1.000000</td>\n",
       "      <td>[42.29539340255773, 42.419364702071974, 42.068...</td>\n",
       "      <td>[42.29255662362827, 42.39983230495903, 42.5061...</td>\n",
       "      <td>0.008021</td>\n",
       "      <td>float</td>\n",
       "      <td>L2OutputTypes.measure</td>\n",
       "      <td>Indicates the geographical latitude coordinate...</td>\n",
       "      <td>[Patient Location, Geospatial Data, Latitude C...</td>\n",
       "    </tr>\n",
       "    <tr>\n",
       "      <th>22</th>\n",
       "      <td>lon</td>\n",
       "      <td>lon</td>\n",
       "      <td>patients</td>\n",
       "      <td>0</td>\n",
       "      <td>1163</td>\n",
       "      <td>1163</td>\n",
       "      <td>1.000000</td>\n",
       "      <td>1.000000</td>\n",
       "      <td>[-71.14378789698912, -70.73893314975992, -71.2...</td>\n",
       "      <td>[-71.48251904737748, -71.02232158016432, -71.0...</td>\n",
       "      <td>0.005395</td>\n",
       "      <td>float</td>\n",
       "      <td>L2OutputTypes.dimension</td>\n",
       "      <td>Indicates the longitudinal geographic coordina...</td>\n",
       "      <td>[Geographic Location, Longitude Coordinate, Pa...</td>\n",
       "    </tr>\n",
       "    <tr>\n",
       "      <th>23</th>\n",
       "      <td>healthcare_expenses</td>\n",
       "      <td>healthcare_expenses</td>\n",
       "      <td>patients</td>\n",
       "      <td>0</td>\n",
       "      <td>1163</td>\n",
       "      <td>1163</td>\n",
       "      <td>1.000000</td>\n",
       "      <td>1.000000</td>\n",
       "      <td>[367249.88749999995, 570693.255, 2677158.173, ...</td>\n",
       "      <td>[390675.5774999999, 797287.0900000001, 1008922...</td>\n",
       "      <td>0.008081</td>\n",
       "      <td>float</td>\n",
       "      <td>L2OutputTypes.measure</td>\n",
       "      <td>Tracks the monetary costs incurred for medical...</td>\n",
       "      <td>[Healthcare Costs, Patient Financial Data, Med...</td>\n",
       "    </tr>\n",
       "    <tr>\n",
       "      <th>24</th>\n",
       "      <td>healthcare_coverage</td>\n",
       "      <td>healthcare_coverage</td>\n",
       "      <td>patients</td>\n",
       "      <td>0</td>\n",
       "      <td>1163</td>\n",
       "      <td>1036</td>\n",
       "      <td>0.890800</td>\n",
       "      <td>1.000000</td>\n",
       "      <td>[3786.1574999999993, 6659.3475, 44135.6035, 12...</td>\n",
       "      <td>[18067.094999999998, 154972.8415, 115026.04749...</td>\n",
       "      <td>0.008294</td>\n",
       "      <td>float</td>\n",
       "      <td>L2OutputTypes.measure</td>\n",
       "      <td>Monetary value allocated for an individual's i...</td>\n",
       "      <td>[InsuranceCoverageAmount, PatientFinancialResp...</td>\n",
       "    </tr>\n",
       "  </tbody>\n",
       "</table>\n",
       "</div>"
      ],
      "text/plain": [
       "            column_name        business_name table_name  null_count  count  \\\n",
       "0                    id                   id   patients           0   1163   \n",
       "1             birthdate            birthdate   patients           0   1163   \n",
       "2             deathdate            deathdate   patients        1000   1163   \n",
       "3                   ssn                  ssn   patients           0   1163   \n",
       "4               drivers              drivers   patients         215   1163   \n",
       "5              passport             passport   patients         276   1163   \n",
       "6                prefix               prefix   patients         245   1163   \n",
       "7                 first                first   patients           0   1163   \n",
       "8                  last                 last   patients           0   1163   \n",
       "9                suffix               suffix   patients        1147   1163   \n",
       "10               maiden               maiden   patients         832   1163   \n",
       "11              marital              marital   patients         384   1163   \n",
       "12                 race                 race   patients           0   1163   \n",
       "13            ethnicity            ethnicity   patients           0   1163   \n",
       "14               gender               gender   patients           0   1163   \n",
       "15           birthplace           birthplace   patients           0   1163   \n",
       "16              address              address   patients           0   1163   \n",
       "17                 city                 city   patients           0   1163   \n",
       "18                state                state   patients           0   1163   \n",
       "19               county               county   patients           0   1163   \n",
       "20                  zip                  zip   patients         545   1163   \n",
       "21                  lat                  lat   patients           0   1163   \n",
       "22                  lon                  lon   patients           0   1163   \n",
       "23  healthcare_expenses  healthcare_expenses   patients           0   1163   \n",
       "24  healthcare_coverage  healthcare_coverage   patients           0   1163   \n",
       "\n",
       "    distinct_count  uniqueness  completeness  \\\n",
       "0             1163    1.000000      1.000000   \n",
       "1              987    0.848667      1.000000   \n",
       "2              163    0.140155      0.140155   \n",
       "3             1163    1.000000      1.000000   \n",
       "4              941    0.809114      0.815133   \n",
       "5              887    0.762683      0.762683   \n",
       "6                3    0.002580      0.789338   \n",
       "7             1002    0.861565      1.000000   \n",
       "8              477    0.410146      1.000000   \n",
       "9                3    0.002580      0.013758   \n",
       "10             248    0.213242      0.284609   \n",
       "11               2    0.001720      0.669819   \n",
       "12               6    0.005159      1.000000   \n",
       "13               2    0.001720      1.000000   \n",
       "14               2    0.001720      1.000000   \n",
       "15             317    0.272571      1.000000   \n",
       "16            1163    1.000000      1.000000   \n",
       "17             256    0.220120      1.000000   \n",
       "18               1    0.000860      1.000000   \n",
       "19              13    0.011178      1.000000   \n",
       "20             223    0.191745      0.531384   \n",
       "21            1163    1.000000      1.000000   \n",
       "22            1163    1.000000      1.000000   \n",
       "23            1163    1.000000      1.000000   \n",
       "24            1036    0.890800      1.000000   \n",
       "\n",
       "                                          sample_data  \\\n",
       "0   [1a4f3136-4eae-dc5d-f68d-046b7a2e11ea, acbb6a4...   \n",
       "1   [1928-11-13, 1966-06-22, 2004-05-16, 1923-09-0...   \n",
       "2   [2001-09-05, 1966-05-07, 2010-01-13, 1955-11-2...   \n",
       "3   [999-52-4852, 999-95-8884, 999-31-6931, 999-37...   \n",
       "4   [S99918599, S99986354, S99954622, S99943469, S...   \n",
       "5   [X15711612X, X42921765X, X84876726X, X69721357...   \n",
       "6                                    [Mr., Mrs., Ms.]   \n",
       "7   [Elena945, Ana972, Donetta1, Chris95, Marivel8...   \n",
       "8   [Greenfelder433, Gerhold939, Estévez304, Hane6...   \n",
       "9                                       [JD, PhD, MD]   \n",
       "10  [Trantow673, Aufderhar910, Runte676, Kuvalis36...   \n",
       "11                                             [S, M]   \n",
       "12     [hawaiian, asian, black, white, other, native]   \n",
       "13                            [hispanic, nonhispanic]   \n",
       "14                                             [M, F]   \n",
       "15  [Buenos Aires  Ciudad de Buenos Aires  AR, Sud...   \n",
       "16  [450 Kutch Bridge Unit 35, 418 Roob Trailer, 8...   \n",
       "17  [Rockport, Salem, Clinton, Rockland, Holbrook,...   \n",
       "18                                    [Massachusetts]   \n",
       "19  [Suffolk County, Norfolk County, Bristol Count...   \n",
       "20  [01201, 01001, 02451, 01938, 02420, 01566, 019...   \n",
       "21  [42.29539340255773, 42.419364702071974, 42.068...   \n",
       "22  [-71.14378789698912, -70.73893314975992, -71.2...   \n",
       "23  [367249.88749999995, 570693.255, 2677158.173, ...   \n",
       "24  [3786.1574999999993, 6659.3475, 44135.6035, 12...   \n",
       "\n",
       "                                         dtype_sample        ts  \\\n",
       "0   [217f95a3-4e10-bd5d-fb67-0cfb5e8ba075, 23d16ee...  0.004991   \n",
       "1   [1993-12-23, 2018-09-16, 1970-09-14, 1956-10-2...  0.004395   \n",
       "2   [2009-11-13, 2011-07-10, 1991-11-18, 2010-06-0...  0.005714   \n",
       "3   [999-59-7726, 999-16-7928, 999-47-2075, 999-31...  0.005779   \n",
       "4   [S99916617, S99985809, S99999275, S99929211, S...  0.003784   \n",
       "5   [X75063318X, X33683613X, X77363212X, X62900787...  0.006447   \n",
       "6   [Ms., Mr., Mrs., Mrs., Mrs., Ms., Ms., Mr., Mr...  0.003622   \n",
       "7   [Franklyn361, Bonita405, Jonathon205, Gerry91,...  0.006652   \n",
       "8   [Walter473, Herzog843, Wisoky380, Runolfsson90...  0.005493   \n",
       "9   [JD, MD, PhD, PhD, MD, MD, PhD, PhD, JD, MD, P...  0.003334   \n",
       "10  [Blanda868, Funk324, Lemke654, Gislason620, Ar...  0.005715   \n",
       "11  [M, S, S, M, S, S, M, S, M, S, S, M, M, M, S, ...  0.003135   \n",
       "12  [white, native, black, other, hawaiian, asian,...  0.005455   \n",
       "13  [nonhispanic, hispanic, hispanic, hispanic, hi...  0.004667   \n",
       "14  [F, M, M, M, F, F, F, F, F, F, M, F, F, M, M, ...  0.003129   \n",
       "15  [Danvers  Massachusetts  US, Blackstone  Massa...  0.003767   \n",
       "16  [734 Brakus Pathway Unit 28, 902 Gutkowski Hol...  0.007850   \n",
       "17  [Somerville, Salem, Essex, Mashpee, Southborou...  0.003501   \n",
       "18  [Massachusetts, Massachusetts, Massachusetts, ...  0.003719   \n",
       "19  [Plymouth County, Norfolk County, Worcester Co...  0.004057   \n",
       "20  [02131, 02043, 01844, 02155, 01902, 01852, 027...  0.004337   \n",
       "21  [42.29255662362827, 42.39983230495903, 42.5061...  0.008021   \n",
       "22  [-71.48251904737748, -71.02232158016432, -71.0...  0.005395   \n",
       "23  [390675.5774999999, 797287.0900000001, 1008922...  0.008081   \n",
       "24  [18067.094999999998, 154972.8415, 115026.04749...  0.008294   \n",
       "\n",
       "         datatype_l1              datatype_l2  \\\n",
       "0       alphanumeric  L2OutputTypes.dimension   \n",
       "1        date & time  L2OutputTypes.dimension   \n",
       "2        date & time  L2OutputTypes.dimension   \n",
       "3       alphanumeric  L2OutputTypes.dimension   \n",
       "4       alphanumeric  L2OutputTypes.dimension   \n",
       "5       alphanumeric  L2OutputTypes.dimension   \n",
       "6   close_ended_text  L2OutputTypes.dimension   \n",
       "7       alphanumeric  L2OutputTypes.dimension   \n",
       "8       alphanumeric  L2OutputTypes.dimension   \n",
       "9   close_ended_text  L2OutputTypes.dimension   \n",
       "10      alphanumeric  L2OutputTypes.dimension   \n",
       "11  close_ended_text  L2OutputTypes.dimension   \n",
       "12  close_ended_text  L2OutputTypes.dimension   \n",
       "13  close_ended_text  L2OutputTypes.dimension   \n",
       "14  close_ended_text  L2OutputTypes.dimension   \n",
       "15  close_ended_text  L2OutputTypes.dimension   \n",
       "16      alphanumeric  L2OutputTypes.dimension   \n",
       "17  close_ended_text  L2OutputTypes.dimension   \n",
       "18  close_ended_text  L2OutputTypes.dimension   \n",
       "19  close_ended_text  L2OutputTypes.dimension   \n",
       "20           integer  L2OutputTypes.dimension   \n",
       "21             float    L2OutputTypes.measure   \n",
       "22             float  L2OutputTypes.dimension   \n",
       "23             float    L2OutputTypes.measure   \n",
       "24             float    L2OutputTypes.measure   \n",
       "\n",
       "                                    business_glossary  \\\n",
       "0   Serves as a unique identifier for individual p...   \n",
       "1   Indicates the date on which an individual was ...   \n",
       "2   Indicates the date and time when an individual...   \n",
       "3   Serves as a unique identifier for individuals ...   \n",
       "4   Unique identifiers used to associate individua...   \n",
       "5   Unique identifier used to document and track i...   \n",
       "6   Indicates the title or honorific used to addre...   \n",
       "7   Identifies individuals using a unique alphanum...   \n",
       "8   Identifies individuals uniquely within the pat...   \n",
       "9   Indicates the professional or academic designa...   \n",
       "10  Tracks unique identifiers or codes associated ...   \n",
       "11  Indicates the relationship status of an indivi...   \n",
       "12  Categorizes individuals based on self-identifi...   \n",
       "13  Categorizes individuals based on their cultura...   \n",
       "14  Categorizes individuals based on their self-id...   \n",
       "15  Identifies the geographical location where an ...   \n",
       "16  Indicates the physical location associated wit...   \n",
       "17  Indicates the geographical location associated...   \n",
       "18  Indicates the administrative region associated...   \n",
       "19  Identifies the administrative region associate...   \n",
       "20  Identifies the geographic area associated with...   \n",
       "21  Indicates the geographical latitude coordinate...   \n",
       "22  Indicates the longitudinal geographic coordina...   \n",
       "23  Tracks the monetary costs incurred for medical...   \n",
       "24  Monetary value allocated for an individual's i...   \n",
       "\n",
       "                                        business_tags  \n",
       "0   [Patient Identifier, Unique Record Key, Health...  \n",
       "1   [Patient Demographics, Age Calculation, Health...  \n",
       "2   [Patient Mortality, End Of Life Date, Healthca...  \n",
       "3   [Patient Identification, Social Security Numbe...  \n",
       "4   [Driver Identification, Healthcare Provider Re...  \n",
       "5   [Patient Identification, Travel Documentation,...  \n",
       "6   [Patient Salutation, Personal Title, Demograph...  \n",
       "7   [Patient Identifier, Healthcare Record Trackin...  \n",
       "8   [Patient Identifier, Healthcare Record Trackin...  \n",
       "9   [Professional Credentials, Patient Identificat...  \n",
       "10  [Patient Identifier, Unique Code, Medical Reco...  \n",
       "11  [Marital Status, Demographic Information, Pati...  \n",
       "12  [Demographics, Patient Diversity, Health Equit...  \n",
       "13  [Demographic Classification, Health Equity Ana...  \n",
       "14  [Patient Demographics, Gender Classification, ...  \n",
       "15  [Patient Demographics, Geographic Origin, Heal...  \n",
       "16  [Patient Residential Information, Contact Loca...  \n",
       "17  [Patient Residence, Geographic Location, Commu...  \n",
       "18  [Geographic Location, Patient Residency, State...  \n",
       "19  [Geographic Location, Healthcare Service Regio...  \n",
       "20  [Geographic Location, Patient Demographics, Re...  \n",
       "21  [Patient Location, Geospatial Data, Latitude C...  \n",
       "22  [Geographic Location, Longitude Coordinate, Pa...  \n",
       "23  [Healthcare Costs, Patient Financial Data, Med...  \n",
       "24  [InsuranceCoverageAmount, PatientFinancialResp...  "
      ]
     },
     "execution_count": 4,
     "metadata": {},
     "output_type": "execute_result"
    }
   ],
   "source": [
    "allergies_dataset = kb.datasets['patients']\n",
    "allergies_dataset.profiling_df\n"
   ]
  },
  {
   "cell_type": "markdown",
   "id": "6b3e8bfd",
   "metadata": {},
   "source": [
    "The profiling results can be accessed through the `profiling_df` property of the `DataSet` object. It's a pandas DataFrame that you can easily explore. \n",
    "> The business glossary is also available in the `profiling_df`:"
   ]
  },
  {
   "cell_type": "markdown",
   "id": "e083a8d8",
   "metadata": {},
   "source": [
    "\n",
    "### Visualizing Relationships\n",
    "\n",
    "The `KnowledgeBuilder` automatically discovers the relationships between your tables. You can access the predicted links as a list of `PredictedLink` objects:\n"
   ]
  },
  {
   "cell_type": "code",
   "execution_count": 5,
   "id": "fe4cd56d",
   "metadata": {},
   "outputs": [
    {
     "data": {
      "text/plain": [
       "[PredictedLink(from_dataset='allergies', from_column='encounter', to_dataset='encounters', to_column='id'),\n",
       " PredictedLink(from_dataset='allergies', from_column='patient', to_dataset='patients', to_column='id'),\n",
       " PredictedLink(from_dataset='careplans', from_column='encounter', to_dataset='conditions', to_column='encounter'),\n",
       " PredictedLink(from_dataset='careplans', from_column='encounter', to_dataset='devices', to_column='encounter'),\n",
       " PredictedLink(from_dataset='careplans', from_column='encounter', to_dataset='encounters', to_column='id'),\n",
       " PredictedLink(from_dataset='careplans', from_column='encounter', to_dataset='medications', to_column='encounter'),\n",
       " PredictedLink(from_dataset='careplans', from_column='encounter', to_dataset='observations', to_column='encounter'),\n",
       " PredictedLink(from_dataset='careplans', from_column='patient', to_dataset='patients', to_column='id'),\n",
       " PredictedLink(from_dataset='careplans', from_column='encounter', to_dataset='procedures', to_column='encounter'),\n",
       " PredictedLink(from_dataset='careplans', from_column='encounter', to_dataset='supplies', to_column='encounter'),\n",
       " PredictedLink(from_dataset='claims', from_column='id', to_dataset='claims_transactions', to_column='claimid'),\n",
       " PredictedLink(from_dataset='claims', from_column='providerid', to_dataset='organizations', to_column='id'),\n",
       " PredictedLink(from_dataset='claims', from_column='patientid', to_dataset='patients', to_column='id'),\n",
       " PredictedLink(from_dataset='claims', from_column='primarypatientinsuranceid', to_dataset='payers', to_column='id'),\n",
       " PredictedLink(from_dataset='claims', from_column='providerid', to_dataset='providers', to_column='id'),\n",
       " PredictedLink(from_dataset='claims_transactions', from_column='patientid', to_dataset='patients', to_column='id'),\n",
       " PredictedLink(from_dataset='claims_transactions', from_column='patientinsuranceid', to_dataset='payers', to_column='id'),\n",
       " PredictedLink(from_dataset='claims_transactions', from_column='providerid', to_dataset='providers', to_column='id'),\n",
       " PredictedLink(from_dataset='conditions', from_column='encounter', to_dataset='encounters', to_column='id'),\n",
       " PredictedLink(from_dataset='conditions', from_column='patient', to_dataset='patients', to_column='id'),\n",
       " PredictedLink(from_dataset='devices', from_column='encounter', to_dataset='encounters', to_column='id'),\n",
       " PredictedLink(from_dataset='devices', from_column='patient', to_dataset='patients', to_column='id'),\n",
       " PredictedLink(from_dataset='encounters', from_column='id', to_dataset='imaging_studies', to_column='encounter'),\n",
       " PredictedLink(from_dataset='encounters', from_column='id', to_dataset='immunizations', to_column='encounter'),\n",
       " PredictedLink(from_dataset='encounters', from_column='id', to_dataset='medications', to_column='encounter'),\n",
       " PredictedLink(from_dataset='encounters', from_column='id', to_dataset='observations', to_column='encounter'),\n",
       " PredictedLink(from_dataset='encounters', from_column='organization', to_dataset='organizations', to_column='id'),\n",
       " PredictedLink(from_dataset='encounters', from_column='patient', to_dataset='patients', to_column='id'),\n",
       " PredictedLink(from_dataset='encounters', from_column='payer', to_dataset='payers', to_column='id'),\n",
       " PredictedLink(from_dataset='encounters', from_column='id', to_dataset='procedures', to_column='encounter'),\n",
       " PredictedLink(from_dataset='encounters', from_column='provider', to_dataset='providers', to_column='id'),\n",
       " PredictedLink(from_dataset='encounters', from_column='id', to_dataset='supplies', to_column='encounter'),\n",
       " PredictedLink(from_dataset='imaging_studies', from_column='patient', to_dataset='patients', to_column='id'),\n",
       " PredictedLink(from_dataset='immunizations', from_column='encounter', to_dataset='organizations', to_column='id'),\n",
       " PredictedLink(from_dataset='immunizations', from_column='patient', to_dataset='patients', to_column='id'),\n",
       " PredictedLink(from_dataset='medications', from_column='payer', to_dataset='organizations', to_column='id'),\n",
       " PredictedLink(from_dataset='medications', from_column='patient', to_dataset='patients', to_column='id'),\n",
       " PredictedLink(from_dataset='medications', from_column='payer', to_dataset='payers', to_column='id'),\n",
       " PredictedLink(from_dataset='medications', from_column='payer', to_dataset='providers', to_column='id'),\n",
       " PredictedLink(from_dataset='observations', from_column='patient', to_dataset='patients', to_column='id'),\n",
       " PredictedLink(from_dataset='organizations', from_column='id', to_dataset='providers', to_column='organization'),\n",
       " PredictedLink(from_dataset='patients', from_column='id', to_dataset='payer_transitions', to_column='patient'),\n",
       " PredictedLink(from_dataset='patients', from_column='id', to_dataset='procedures', to_column='patient'),\n",
       " PredictedLink(from_dataset='patients', from_column='id', to_dataset='supplies', to_column='patient'),\n",
       " PredictedLink(from_dataset='payers', from_column='id', to_dataset='payer_transitions', to_column='payer'),\n",
       " PredictedLink(from_dataset='payers', from_column='id', to_dataset='procedures', to_column='patient'),\n",
       " PredictedLink(from_dataset='procedures', from_column='encounter', to_dataset='providers', to_column='id')]"
      ]
     },
     "execution_count": 5,
     "metadata": {},
     "output_type": "execute_result"
    }
   ],
   "source": [
    "kb.links"
   ]
  },
  {
   "cell_type": "markdown",
   "id": "9c8aa361",
   "metadata": {},
   "source": [
    "You can also visualize these relationships as a graph:\n"
   ]
  },
  {
   "cell_type": "code",
   "execution_count": null,
   "id": "a59704ba",
   "metadata": {},
   "outputs": [
    {
     "name": "stderr",
     "output_type": "stream",
     "text": [
      "/home/raphael/Downloads/intugle_demo/env/lib/python3.12/site-packages/tqdm/auto.py:21: TqdmWarning: IProgress not found. Please update jupyter and ipywidgets. See https://ipywidgets.readthedocs.io/en/stable/user_install.html\n",
      "  from .autonotebook import tqdm as notebook_tqdm\n",
      "/home/raphael/Downloads/intugle_demo/env/lib/python3.12/site-packages/pydantic/_internal/_fields.py:198: UserWarning: Field name \"schema\" in \"Source\" shadows an attribute in parent \"BaseResource\"\n",
      "  warnings.warn(\n"
     ]
    },
    {
     "name": "stdout",
     "output_type": "stream",
     "text": [
      "payer_transitions loaded\n",
      "encounters loaded\n",
      "careplans loaded\n",
      "patients loaded\n",
      "claims loaded\n",
      "organizations loaded\n",
      "medications loaded\n",
      "providers loaded\n",
      "supplies loaded\n",
      "devices loaded\n",
      "payers loaded\n",
      "conditions loaded\n",
      "observations loaded\n",
      "procedures loaded\n",
      "claims_transactions loaded\n",
      "imaging_studies loaded\n",
      "immunizations loaded\n",
      "allergies loaded\n",
      "top_patients_by_claim_count\n",
      "top_patients_by_claim_count loaded\n"
     ]
    },
    {
     "data": {
      "image/png": "[encoded data removed]",
      "text/plain": [
       "<Figure size 2000x2000 with 1 Axes>"
      ]
     },
     "metadata": {},
     "output_type": "display_data"
    }
   ],
   "source": [
    "kb.visualize()\n"
   ]
  },
  {
   "cell_type": "markdown",
   "id": "32fd4917",
   "metadata": {},
   "source": [
    "## 4. The Semantic Layer\n",
    "\n",
    "The KnowledgeBuilder results are used to generate YAML files which are saved automatically. These files defines the semantic layer, including the models (tables) and their relationships. \n",
    "\n",
    "By default, these files are saved in the current working directory. You can configure this path by setting the `PROJECT_BASE` environment variable.\n"
   ]
  },
  {
   "cell_type": "markdown",
   "id": "eb79c617",
   "metadata": {},
   "source": [
    "## 5. Semantic Search\n",
    "\n",
    "The semantic search feature allows you to search for columns in your datasets using natural language. \n",
    "\n",
    "> **Note:** To use this feature, you need to have a running Qdrant instance and an OpenAI API key. Please refer to the [README.md](README.md) for detailed setup instructions.\n",
    "\n",
    "Once you have built the knowledge base, you can use the `search` method to perform a semantic search. The search function returns a pandas DataFrame containing the search results, including the column's profiling metrics, category, table name, and table glossary.\n"
   ]
  },
  {
   "cell_type": "code",
   "execution_count": 4,
   "id": "ddbc8fd1",
   "metadata": {},
   "outputs": [
    {
     "name": "stderr",
     "output_type": "stream",
     "text": [
      "/home/raphael/Downloads/intugle_demo/env/lib/python3.12/site-packages/intugle/core/vector_store/qdrant.py:77: UserWarning: Api key is used with an insecure connection.\n",
      "  self._client = AsyncQdrantClient(**self.client_config)\n",
      "/home/raphael/Downloads/intugle_demo/env/lib/python3.12/site-packages/intugle/core/vector_store/qdrant.py:77: UserWarning: Api key is used with an insecure connection.\n",
      "  self._client = AsyncQdrantClient(**self.client_config)\n",
      "/home/raphael/Downloads/intugle_demo/env/lib/python3.12/site-packages/intugle/core/semantic_search/semantic_search.py:156: SettingWithCopyWarning: \n",
      "A value is trying to be set on a copy of a slice from a DataFrame.\n",
      "Try using .loc[row_indexer,col_indexer] = value instead\n",
      "\n",
      "See the caveats in the documentation: https://pandas.pydata.org/pandas-docs/stable/user_guide/indexing.html#returning-a-view-versus-a-copy\n",
      "  late_embedding_result_glossary[\"score\"] = late_embedding_result_glossary[\"score\"] / len(late_vector)\n"
     ]
    },
    {
     "data": {
      "text/html": [
       "<div>\n",
       "<style scoped>\n",
       "    .dataframe tbody tr th:only-of-type {\n",
       "        vertical-align: middle;\n",
       "    }\n",
       "\n",
       "    .dataframe tbody tr th {\n",
       "        vertical-align: top;\n",
       "    }\n",
       "\n",
       "    .dataframe thead th {\n",
       "        text-align: right;\n",
       "    }\n",
       "</style>\n",
       "<table border=\"1\" class=\"dataframe\">\n",
       "  <thead>\n",
       "    <tr style=\"text-align: right;\">\n",
       "      <th></th>\n",
       "      <th>column_id</th>\n",
       "      <th>score</th>\n",
       "      <th>relevancy</th>\n",
       "      <th>column_name</th>\n",
       "      <th>column_glossary</th>\n",
       "      <th>column_tags</th>\n",
       "      <th>category</th>\n",
       "      <th>table_name</th>\n",
       "      <th>table_glossary</th>\n",
       "      <th>uniqueness</th>\n",
       "      <th>completeness</th>\n",
       "      <th>count</th>\n",
       "      <th>null_count</th>\n",
       "      <th>distinct_count</th>\n",
       "      <th>sample_data</th>\n",
       "    </tr>\n",
       "  </thead>\n",
       "  <tbody>\n",
       "    <tr>\n",
       "      <th>0</th>\n",
       "      <td>encounters.reasoncode</td>\n",
       "      <td>0.884030</td>\n",
       "      <td>most-relevant</td>\n",
       "      <td>reasoncode</td>\n",
       "      <td>Indicates the coded reason for a specific inte...</td>\n",
       "      <td>[Encounter Reason, Clinical Coding, Diagnosis ...</td>\n",
       "      <td>dimension</td>\n",
       "      <td>encounters</td>\n",
       "      <td>Tracks interactions between individuals and se...</td>\n",
       "      <td>0.023000</td>\n",
       "      <td>0.2865</td>\n",
       "      <td>2000</td>\n",
       "      <td>1427</td>\n",
       "      <td>46</td>\n",
       "      <td>[6072007.0, 62106007.0, 128613002.0, 38822007....</td>\n",
       "    </tr>\n",
       "    <tr>\n",
       "      <th>1</th>\n",
       "      <td>claims.diagnosis8</td>\n",
       "      <td>0.883179</td>\n",
       "      <td>most-relevant</td>\n",
       "      <td>diagnosis8</td>\n",
       "      <td>Captures the eighth recorded medical condition...</td>\n",
       "      <td>[Medical Diagnosis Code, Healthcare Claims Pro...</td>\n",
       "      <td>dimension</td>\n",
       "      <td>claims</td>\n",
       "      <td>Tracks financial and administrative details re...</td>\n",
       "      <td>0.000500</td>\n",
       "      <td>0.0005</td>\n",
       "      <td>2000</td>\n",
       "      <td>1999</td>\n",
       "      <td>1</td>\n",
       "      <td>[840544004]</td>\n",
       "    </tr>\n",
       "    <tr>\n",
       "      <th>2</th>\n",
       "      <td>careplans.reasoncode</td>\n",
       "      <td>0.881082</td>\n",
       "      <td>most-relevant</td>\n",
       "      <td>reasoncode</td>\n",
       "      <td>Indicates the underlying justification or rati...</td>\n",
       "      <td>[Care Plan Justification, Clinical Reason Code...</td>\n",
       "      <td>dimension</td>\n",
       "      <td>careplans</td>\n",
       "      <td>Defines structured plans outlining care activi...</td>\n",
       "      <td>0.031500</td>\n",
       "      <td>0.8480</td>\n",
       "      <td>2000</td>\n",
       "      <td>304</td>\n",
       "      <td>63</td>\n",
       "      <td>[284551006, 95417003, 284549007, 62564004, 444...</td>\n",
       "    </tr>\n",
       "    <tr>\n",
       "      <th>3</th>\n",
       "      <td>claims.referringproviderid</td>\n",
       "      <td>0.880542</td>\n",
       "      <td>most-relevant</td>\n",
       "      <td>referringproviderid</td>\n",
       "      <td>Identifies the professional who directed a pat...</td>\n",
       "      <td>[Provider Referral Tracking, Healthcare Provid...</td>\n",
       "      <td>dimension</td>\n",
       "      <td>claims</td>\n",
       "      <td>Tracks financial and administrative details re...</td>\n",
       "      <td>0.000000</td>\n",
       "      <td>0.0000</td>\n",
       "      <td>2000</td>\n",
       "      <td>2000</td>\n",
       "      <td>0</td>\n",
       "      <td>[]</td>\n",
       "    </tr>\n",
       "    <tr>\n",
       "      <th>4</th>\n",
       "      <td>encounters.description</td>\n",
       "      <td>0.879891</td>\n",
       "      <td>most-relevant</td>\n",
       "      <td>description</td>\n",
       "      <td>Provides a concise label or category for the t...</td>\n",
       "      <td>[Healthcare Encounter Type, Patient Interactio...</td>\n",
       "      <td>dimension</td>\n",
       "      <td>encounters</td>\n",
       "      <td>Tracks interactions between individuals and se...</td>\n",
       "      <td>0.020500</td>\n",
       "      <td>1.0000</td>\n",
       "      <td>2000</td>\n",
       "      <td>0</td>\n",
       "      <td>41</td>\n",
       "      <td>[Screening surveillance (regime/therapy), Hosp...</td>\n",
       "    </tr>\n",
       "    <tr>\n",
       "      <th>...</th>\n",
       "      <td>...</td>\n",
       "      <td>...</td>\n",
       "      <td>...</td>\n",
       "      <td>...</td>\n",
       "      <td>...</td>\n",
       "      <td>...</td>\n",
       "      <td>...</td>\n",
       "      <td>...</td>\n",
       "      <td>...</td>\n",
       "      <td>...</td>\n",
       "      <td>...</td>\n",
       "      <td>...</td>\n",
       "      <td>...</td>\n",
       "      <td>...</td>\n",
       "      <td>...</td>\n",
       "    </tr>\n",
       "    <tr>\n",
       "      <th>244</th>\n",
       "      <td>encounters.code</td>\n",
       "      <td>0.809779</td>\n",
       "      <td>relevant</td>\n",
       "      <td>code</td>\n",
       "      <td>Identifies the type or category of medical enc...</td>\n",
       "      <td>[Encounter Classification, Healthcare Code Sta...</td>\n",
       "      <td>dimension</td>\n",
       "      <td>encounters</td>\n",
       "      <td>Tracks interactions between individuals and se...</td>\n",
       "      <td>0.016500</td>\n",
       "      <td>1.0000</td>\n",
       "      <td>2000</td>\n",
       "      <td>0</td>\n",
       "      <td>33</td>\n",
       "      <td>[32485007, 183452005, 86013001, 702927004, 170...</td>\n",
       "    </tr>\n",
       "    <tr>\n",
       "      <th>245</th>\n",
       "      <td>providers.zip</td>\n",
       "      <td>0.809742</td>\n",
       "      <td>relevant</td>\n",
       "      <td>zip</td>\n",
       "      <td>Identifies the postal code associated with the...</td>\n",
       "      <td>[Provider Location, Geographic Identifier, Pos...</td>\n",
       "      <td>dimension</td>\n",
       "      <td>providers</td>\n",
       "      <td>Serves as a centralized registry of profession...</td>\n",
       "      <td>0.312500</td>\n",
       "      <td>1.0000</td>\n",
       "      <td>2000</td>\n",
       "      <td>0</td>\n",
       "      <td>625</td>\n",
       "      <td>[01420, 02130, 01093, 02675-2171, 02151-3200, ...</td>\n",
       "    </tr>\n",
       "    <tr>\n",
       "      <th>246</th>\n",
       "      <td>allergies.encounter</td>\n",
       "      <td>0.808249</td>\n",
       "      <td>relevant</td>\n",
       "      <td>encounter</td>\n",
       "      <td>Tracks the specific interaction or event assoc...</td>\n",
       "      <td>[Patient Encounter, Clinical Event Tracking, H...</td>\n",
       "      <td>dimension</td>\n",
       "      <td>allergies</td>\n",
       "      <td>Tracks individual sensitivities or adverse rea...</td>\n",
       "      <td>0.225441</td>\n",
       "      <td>1.0000</td>\n",
       "      <td>794</td>\n",
       "      <td>0</td>\n",
       "      <td>179</td>\n",
       "      <td>[c7486b80-2598-a73d-8e81-ee05a2a73479, d4f68de...</td>\n",
       "    </tr>\n",
       "    <tr>\n",
       "      <th>247</th>\n",
       "      <td>procedures.description</td>\n",
       "      <td>0.807511</td>\n",
       "      <td>relevant</td>\n",
       "      <td>description</td>\n",
       "      <td>Details the type or category of medical or cli...</td>\n",
       "      <td>[Medical Procedures, Healthcare Services, Clin...</td>\n",
       "      <td>dimension</td>\n",
       "      <td>procedures</td>\n",
       "      <td>Tracks detailed records of medical or diagnost...</td>\n",
       "      <td>0.047500</td>\n",
       "      <td>1.0000</td>\n",
       "      <td>2000</td>\n",
       "      <td>0</td>\n",
       "      <td>95</td>\n",
       "      <td>[Sputum examination (procedure), Childbirth, S...</td>\n",
       "    </tr>\n",
       "    <tr>\n",
       "      <th>248</th>\n",
       "      <td>claims_transactions.adjustments</td>\n",
       "      <td>0.805766</td>\n",
       "      <td>relevant</td>\n",
       "      <td>adjustments</td>\n",
       "      <td>Modifications or changes applied to transactio...</td>\n",
       "      <td>[Claims Adjustments, Transaction Modifications...</td>\n",
       "      <td>dimension</td>\n",
       "      <td>claims_transactions</td>\n",
       "      <td>Tracks financial transactions related to claim...</td>\n",
       "      <td>0.000000</td>\n",
       "      <td>0.0000</td>\n",
       "      <td>2000</td>\n",
       "      <td>2000</td>\n",
       "      <td>0</td>\n",
       "      <td>[]</td>\n",
       "    </tr>\n",
       "  </tbody>\n",
       "</table>\n",
       "<p>249 rows × 15 columns</p>\n",
       "</div>"
      ],
      "text/plain": [
       "                           column_id     score      relevancy  \\\n",
       "0              encounters.reasoncode  0.884030  most-relevant   \n",
       "1                  claims.diagnosis8  0.883179  most-relevant   \n",
       "2               careplans.reasoncode  0.881082  most-relevant   \n",
       "3         claims.referringproviderid  0.880542  most-relevant   \n",
       "4             encounters.description  0.879891  most-relevant   \n",
       "..                               ...       ...            ...   \n",
       "244                  encounters.code  0.809779       relevant   \n",
       "245                    providers.zip  0.809742       relevant   \n",
       "246              allergies.encounter  0.808249       relevant   \n",
       "247           procedures.description  0.807511       relevant   \n",
       "248  claims_transactions.adjustments  0.805766       relevant   \n",
       "\n",
       "             column_name                                    column_glossary  \\\n",
       "0             reasoncode  Indicates the coded reason for a specific inte...   \n",
       "1             diagnosis8  Captures the eighth recorded medical condition...   \n",
       "2             reasoncode  Indicates the underlying justification or rati...   \n",
       "3    referringproviderid  Identifies the professional who directed a pat...   \n",
       "4            description  Provides a concise label or category for the t...   \n",
       "..                   ...                                                ...   \n",
       "244                 code  Identifies the type or category of medical enc...   \n",
       "245                  zip  Identifies the postal code associated with the...   \n",
       "246            encounter  Tracks the specific interaction or event assoc...   \n",
       "247          description  Details the type or category of medical or cli...   \n",
       "248          adjustments  Modifications or changes applied to transactio...   \n",
       "\n",
       "                                           column_tags   category  \\\n",
       "0    [Encounter Reason, Clinical Coding, Diagnosis ...  dimension   \n",
       "1    [Medical Diagnosis Code, Healthcare Claims Pro...  dimension   \n",
       "2    [Care Plan Justification, Clinical Reason Code...  dimension   \n",
       "3    [Provider Referral Tracking, Healthcare Provid...  dimension   \n",
       "4    [Healthcare Encounter Type, Patient Interactio...  dimension   \n",
       "..                                                 ...        ...   \n",
       "244  [Encounter Classification, Healthcare Code Sta...  dimension   \n",
       "245  [Provider Location, Geographic Identifier, Pos...  dimension   \n",
       "246  [Patient Encounter, Clinical Event Tracking, H...  dimension   \n",
       "247  [Medical Procedures, Healthcare Services, Clin...  dimension   \n",
       "248  [Claims Adjustments, Transaction Modifications...  dimension   \n",
       "\n",
       "              table_name                                     table_glossary  \\\n",
       "0             encounters  Tracks interactions between individuals and se...   \n",
       "1                 claims  Tracks financial and administrative details re...   \n",
       "2              careplans  Defines structured plans outlining care activi...   \n",
       "3                 claims  Tracks financial and administrative details re...   \n",
       "4             encounters  Tracks interactions between individuals and se...   \n",
       "..                   ...                                                ...   \n",
       "244           encounters  Tracks interactions between individuals and se...   \n",
       "245            providers  Serves as a centralized registry of profession...   \n",
       "246            allergies  Tracks individual sensitivities or adverse rea...   \n",
       "247           procedures  Tracks detailed records of medical or diagnost...   \n",
       "248  claims_transactions  Tracks financial transactions related to claim...   \n",
       "\n",
       "     uniqueness  completeness  count  null_count  distinct_count  \\\n",
       "0      0.023000        0.2865   2000        1427              46   \n",
       "1      0.000500        0.0005   2000        1999               1   \n",
       "2      0.031500        0.8480   2000         304              63   \n",
       "3      0.000000        0.0000   2000        2000               0   \n",
       "4      0.020500        1.0000   2000           0              41   \n",
       "..          ...           ...    ...         ...             ...   \n",
       "244    0.016500        1.0000   2000           0              33   \n",
       "245    0.312500        1.0000   2000           0             625   \n",
       "246    0.225441        1.0000    794           0             179   \n",
       "247    0.047500        1.0000   2000           0              95   \n",
       "248    0.000000        0.0000   2000        2000               0   \n",
       "\n",
       "                                           sample_data  \n",
       "0    [6072007.0, 62106007.0, 128613002.0, 38822007....  \n",
       "1                                          [840544004]  \n",
       "2    [284551006, 95417003, 284549007, 62564004, 444...  \n",
       "3                                                   []  \n",
       "4    [Screening surveillance (regime/therapy), Hosp...  \n",
       "..                                                 ...  \n",
       "244  [32485007, 183452005, 86013001, 702927004, 170...  \n",
       "245  [01420, 02130, 01093, 02675-2171, 02151-3200, ...  \n",
       "246  [c7486b80-2598-a73d-8e81-ee05a2a73479, d4f68de...  \n",
       "247  [Sputum examination (procedure), Childbirth, S...  \n",
       "248                                                 []  \n",
       "\n",
       "[249 rows x 15 columns]"
      ]
     },
     "execution_count": 4,
     "metadata": {},
     "output_type": "execute_result"
    }
   ],
   "source": [
    "# Perform a semantic search\n",
    "search_results = kb.search(\"reason for hospital visit\")\n",
    "\n",
    "# View the search results\n",
    "search_results"
   ]
  },
  {
   "cell_type": "markdown",
   "id": "3d086f45",
   "metadata": {},
   "source": [
    "## 6. Data Product Creation\n",
    "\n",
    "The semantic layer serves as a foundation for the DataProductBuilder, which streamlines the creation of reusable data products. This allows you\n",
    "to encapsulate business logic and create standardized, trustworthy data assets that can be easily shared and reused across different teams and \n",
    "applications.\n",
    "\n",
    "Let's define the model for the data product we want to build:"
   ]
  },
  {
   "cell_type": "code",
   "execution_count": 8,
   "id": "4b3ca934",
   "metadata": {},
   "outputs": [],
   "source": [
    "etl = {\n",
    "  \"name\": \"top_patients_by_claim_count\",\n",
    "  \"fields\": [\n",
    "    {\n",
    "      \"id\": \"patients.first\",\n",
    "      \"name\": \"first_name\",\n",
    "    },\n",
    "    {\n",
    "      \"id\": \"patients.last\",\n",
    "      \"name\": \"last_name\",\n",
    "    },\n",
    "    {\n",
    "      \"id\": \"claims.id\",\n",
    "      \"name\": \"number_of_claims\",\n",
    "      \"category\": \"measure\",\n",
    "      \"measure_func\": \"count\"\n",
    "    }\n",
    "  ],\n",
    "  \"filter\": {\n",
    "    \"sort_by\": [\n",
    "      {\n",
    "        \"id\": \"claims.id\",\n",
    "        \"alias\": \"number_of_claims\",\n",
    "        \"direction\": \"desc\"\n",
    "      }\n",
    "    ],\n",
    "    \"limit\": 10\n",
    "  }\n",
    "}"
   ]
  },
  {
   "cell_type": "markdown",
   "id": "2e4ff6be",
   "metadata": {},
   "source": [
    "Now, let's use the `DataProductBuilder` to generate the data product:"
   ]
  },
  {
   "cell_type": "code",
   "execution_count": 9,
   "id": "e0f9a090",
   "metadata": {},
   "outputs": [
    {
     "name": "stdout",
     "output_type": "stream",
     "text": [
      "payer_transitions loaded\n",
      "encounters loaded\n",
      "careplans loaded\n",
      "patients loaded\n",
      "claims loaded\n",
      "organizations loaded\n",
      "medications loaded\n",
      "providers loaded\n",
      "supplies loaded\n",
      "devices loaded\n",
      "payers loaded\n",
      "conditions loaded\n",
      "observations loaded\n",
      "procedures loaded\n",
      "claims_transactions loaded\n",
      "imaging_studies loaded\n",
      "immunizations loaded\n",
      "allergies loaded\n",
      "top_patients_by_claim_count\n",
      "top_patients_by_claim_count loaded\n"
     ]
    },
    {
     "data": {
      "text/html": [
       "<div>\n",
       "<style scoped>\n",
       "    .dataframe tbody tr th:only-of-type {\n",
       "        vertical-align: middle;\n",
       "    }\n",
       "\n",
       "    .dataframe tbody tr th {\n",
       "        vertical-align: top;\n",
       "    }\n",
       "\n",
       "    .dataframe thead th {\n",
       "        text-align: right;\n",
       "    }\n",
       "</style>\n",
       "<table border=\"1\" class=\"dataframe\">\n",
       "  <thead>\n",
       "    <tr style=\"text-align: right;\">\n",
       "      <th></th>\n",
       "      <th>first_name</th>\n",
       "      <th>last_name</th>\n",
       "      <th>number_of_claims</th>\n",
       "    </tr>\n",
       "  </thead>\n",
       "  <tbody>\n",
       "    <tr>\n",
       "      <th>0</th>\n",
       "      <td>Esther279</td>\n",
       "      <td>Runolfsson901</td>\n",
       "      <td>246</td>\n",
       "    </tr>\n",
       "    <tr>\n",
       "      <th>1</th>\n",
       "      <td>Zelda766</td>\n",
       "      <td>Ernser583</td>\n",
       "      <td>219</td>\n",
       "    </tr>\n",
       "    <tr>\n",
       "      <th>2</th>\n",
       "      <td>Bonita405</td>\n",
       "      <td>Bernier607</td>\n",
       "      <td>121</td>\n",
       "    </tr>\n",
       "    <tr>\n",
       "      <th>3</th>\n",
       "      <td>Pei116</td>\n",
       "      <td>Williamson769</td>\n",
       "      <td>98</td>\n",
       "    </tr>\n",
       "    <tr>\n",
       "      <th>4</th>\n",
       "      <td>Magdalene960</td>\n",
       "      <td>Orn563</td>\n",
       "      <td>90</td>\n",
       "    </tr>\n",
       "    <tr>\n",
       "      <th>5</th>\n",
       "      <td>Lavinia262</td>\n",
       "      <td>Heaney114</td>\n",
       "      <td>90</td>\n",
       "    </tr>\n",
       "    <tr>\n",
       "      <th>6</th>\n",
       "      <td>Tommye961</td>\n",
       "      <td>Simonis280</td>\n",
       "      <td>77</td>\n",
       "    </tr>\n",
       "    <tr>\n",
       "      <th>7</th>\n",
       "      <td>Franklyn361</td>\n",
       "      <td>Tromp100</td>\n",
       "      <td>71</td>\n",
       "    </tr>\n",
       "    <tr>\n",
       "      <th>8</th>\n",
       "      <td>Terry864</td>\n",
       "      <td>King743</td>\n",
       "      <td>69</td>\n",
       "    </tr>\n",
       "    <tr>\n",
       "      <th>9</th>\n",
       "      <td>Alaine226</td>\n",
       "      <td>Willms744</td>\n",
       "      <td>64</td>\n",
       "    </tr>\n",
       "  </tbody>\n",
       "</table>\n",
       "</div>"
      ],
      "text/plain": [
       "     first_name      last_name  number_of_claims\n",
       "0     Esther279  Runolfsson901               246\n",
       "1      Zelda766      Ernser583               219\n",
       "2     Bonita405     Bernier607               121\n",
       "3        Pei116  Williamson769                98\n",
       "4  Magdalene960         Orn563                90\n",
       "5    Lavinia262      Heaney114                90\n",
       "6     Tommye961     Simonis280                77\n",
       "7   Franklyn361       Tromp100                71\n",
       "8      Terry864        King743                69\n",
       "9     Alaine226      Willms744                64"
      ]
     },
     "execution_count": 9,
     "metadata": {},
     "output_type": "execute_result"
    }
   ],
   "source": [
    "from intugle.dp_builder import DataProductBuilder\n",
    "\n",
    "# Create a DataProductBuilder\n",
    "dp_builder = DataProductBuilder()\n",
    "\n",
    "# Generate the data product\n",
    "data_product = dp_builder.build(etl)\n",
    "\n",
    "data_product.to_df()\n"
   ]
  },
  {
   "cell_type": "markdown",
   "id": "e235b222",
   "metadata": {},
   "source": [
    "The `generate_product` function returns a `DataSet` object. You can also view the generated SQL query used for creating the data product:\n"
   ]
  },
  {
   "cell_type": "code",
   "execution_count": 10,
   "id": "31a3e32a",
   "metadata": {},
   "outputs": [
    {
     "data": {
      "text/plain": [
       "'SELECT \"patients\".\"first\" as first_name, \"patients\".\"last\" as last_name, count(\"claims\".\"id\") as number_of_claims FROM claims LEFT JOIN patients ON \"claims\".\"patientid\" = \"patients\".\"id\" GROUP BY \"patients\".\"first\" , \"patients\".\"last\" ORDER BY number_of_claims DESC LIMIT 10'"
      ]
     },
     "execution_count": 10,
     "metadata": {},
     "output_type": "execute_result"
    }
   ],
   "source": [
    "# The generated SQL query\n",
    "data_product.sql_query\n",
    "\n"
   ]
  },
  {
   "cell_type": "markdown",
   "id": "c29d33de",
   "metadata": {},
   "source": [
    "## Conclusion\n",
    "\n",
    "You've learned how to:\n",
    "\n",
    "*   Configure your LLM provider and Embeddings provider.\n",
    "*   Build a knowledge base using the `KnowledgeBuilder`.\n",
    "*   Access enriched metadata, business glossaries and visualize the relationships between your tables.\n",
    "*   Perform semantic search on your knowledge base.\n",
    "*   Generate data products from the semantic layer using the `DataProductBuilder`.\n",
    "\n",
    "This is just a starting point. This project has many other features to explore. We encourage you to try it with your own data and see how it can help you build a powerful semantic layer."
   ]
  }
 ],
 "metadata": {
  "kernelspec": {
   "display_name": "env",
   "language": "python",
   "name": "python3"
  },
  "language_info": {
   "codemirror_mode": {
    "name": "ipython",
    "version": 3
   },
   "file_extension": ".py",
   "mimetype": "text/x-python",
   "name": "python",
   "nbconvert_exporter": "python",
   "pygments_lexer": "ipython3",
   "version": "3.12.3"
  }
 },
 "nbformat": 4,
 "nbformat_minor": 5
}
