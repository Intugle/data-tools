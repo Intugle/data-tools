{
 "cells": [
  {
   "cell_type": "markdown",
   "id": "3e018c13",
   "metadata": {},
   "source": [
    "# Quickstart: Building a GenAI powered Semantic Data Model with Intugle\n",
    "\n",
    "This quickstart shows you how to use Intugle’s open-source library to transform fragmented datasets into a connected semantic model. The semantic model captures profiling, relationships, and business meaning of your data — making it instantly usable for exploration, search, and data product creation.\n",
    "\n",
    "**What is a Semantic Model?**\n",
    "\n",
    "A semantic model is an intelligent knowledge graph of your data. It connects tables, discovers relationships, and enriches them with business glossaries — so both data teams and business users can query with clarity, not complexity.\n",
    "\n",
    "**Who is this for?**\n",
    "\n",
    "*   **Data Engineers & Architects** often spend weeks manually profiling, classifying, and stitching together fragmented data assets. With Intugle, they can automate this process end-to-end, uncovering meaningful links and relationships to instantly generate a connected semantic layer.\n",
    "*   **Data Analysts & Scientists** spend endless hours on data readiness and preparation before they can even start the real analysis. Intugle accelerates this by providing contextual intelligence, automatically generating SQL and reusable data products enriched with relationships and business meaning.\n",
    "*   **Business Analysts & Decision Makers** are slowed down by constant dependence on technical teams for answers. Intugle removes this bottleneck by enabling natural language queries and semantic search, giving them trusted insights on demand.\n",
    "\n",
    "**In this notebook, you will learn how to:**\n",
    "\n",
    "*   **Generate Semantic Model** → The unified layer that transforms fragmented datasets, creating the foundation for connected intelligence.\n",
    "    *   **1.1 Profile and classify data** → Analyze your data sources to understand their structure, data types, and other characteristics.\n",
    "    *   **1.2 Discover links & relationships among data** → Reveal meaningful connections (PK & FK) across fragmented tables.\n",
    "    *   **1.3 Generate a business glossary** → Create business-friendly terms and use them to query data with context.\n",
    "    *   **1.4 Enable Semantic search** → Intelligent search that understands meaning, not just keywords—making data more accessible across both technical and business users.\n",
    "    *   **1.5 Visualize semantic model** → Get access to enriched metadata of the semantic model and visualize your data and relationships.\n",
    "*   **Build Unified Data Products** → Simply pick the attributes across your data tables, and let the toolkit auto-generate queries with all the required joins, transformations, and aggregations using the semantic layer. When executed, these queries produce reusable data products.\n",
    "\n",
    "Before you start, make sure you install the **Intugle Data Tools**:"
   ]
  },
  {
   "cell_type": "code",
   "execution_count": null,
   "id": "b8bf1758",
   "metadata": {},
   "outputs": [],
   "source": [
    "%pip install intugle"
   ]
  },
  {
   "cell_type": "markdown",
   "id": "76e2072e",
   "metadata": {},
   "source": [
    "### Downloading the dataset\n",
    "\n",
    "Make sure you download the sample data before getting started. We will be using a **healthcare** company dataset for this demo. You can run the following cell to download the datasets automatically:"
   ]
  },
  {
   "cell_type": "code",
   "execution_count": null,
   "id": "f114c841",
   "metadata": {},
   "outputs": [],
   "source": [
    "import os\n",
    "import requests\n",
    "\n",
    "raw_datasets='healthcare'\n",
    "api_url = f\"https://api.github.com/repos/Intugle/data-tools/contents/sample_data/{raw_datasets}\"\n",
    "local_dir = f\"sample_data/{raw_datasets}\"\n",
    "os.makedirs(local_dir, exist_ok=True)\n",
    "\n",
    "r = requests.get(api_url)\n",
    "r.raise_for_status()\n",
    "\n",
    "for item in r.json():\n",
    "    if item[\"name\"].endswith(\".csv\"):\n",
    "        print(f\"Downloading {item['name']}...\")\n",
    "        file_data = requests.get(item[\"download_url\"])\n",
    "        with open(os.path.join(local_dir, item[\"name\"]), \"wb\") as f:\n",
    "            f.write(file_data.content)\n",
    "\n",
    "print(\"All CSV files downloaded successfully.\")"
   ]
  },
  {
   "cell_type": "markdown",
   "id": "eba33fbc",
   "metadata": {},
   "source": [
    "> **Working with Remote URLs** : While `intugle` supports providing remote URLs (e.g., a raw GitHub file link) in the `path`, it is **not recommended for large datasets**. For best performance and stability, we recommend downloading files to your local filesystem first and providing a local path."
   ]
  },
  {
   "cell_type": "markdown",
   "id": "4887528e",
   "metadata": {},
   "source": [
    "## 1. LLM Configuration\n",
    "\n",
    "Before running the project, you need to configure a Large Language Model (LLM). This is used for tasks like generating business glossaries and predicting links between tables. For the semantic search feature, you will also need to set up Qdrant and provide an OpenAI API key. For detailed setup instructions, please refer to the [README.md](README.md) file.\n",
    "\n",
    "You can configure the necessary services by setting the following environment variables:\n",
    "\n",
    "*   `LLM_PROVIDER`: The LLM provider and model to use (e.g., `openai:gpt-3.5-turbo`). The format follows langchain's format for initializing chat models. Checkout how to specify your model [here](https://python.langchain.com/docs/integrations/chat/)\n",
    "*   `API_KEY`: Your API key for the LLM provider. The exact name of the variable may vary from provider to provider (e.g., `OPENAI_API_KEY`, `ANTHROPIC_API_KEY`).\n",
    "*   `QDRANT_URL`: The URL of your Qdrant instance (e.g., `http://localhost:6333`).\n",
    "*   `QDRANT_API_KEY`: Your API key for the Qdrant instance, if authorization is enabled.\n",
    "*   `EMBEDDING_MODEL_NAME`: The embedding model to use. The format follows LangChain's conventions for initializing embedding models (e.g., `openai:ada`, `azure_openai:ada`).\n",
    "*   `OPENAI_API_KEY`: Your OpenAI API key, required if you are using an OpenAI embedding model.\n",
    "*   `AZURE_OPENAI_API_KEY`, `AZURE_OPENAI_ENDPOINT`, `OPENAI_API_VERSION`: Your Azure OpenAI credentials, required if you are using an Azure OpenAI embedding model.\n",
    "\n",
    "Here's an example of how to set these variables in your environment:\n",
    "\n",
    "```bash\n",
    "export LLM_PROVIDER=\"openai:gpt-3.5-turbo\"\n",
    "export OPENAI_API_KEY=\"your-openai-api-key\"\n",
    "```\n",
    "Alternatively, you can set them in the notebook like this:"
   ]
  },
  {
   "cell_type": "code",
   "execution_count": null,
   "id": "177c4046",
   "metadata": {},
   "outputs": [],
   "source": [
    "import os\n",
    "\n",
    "os.environ[\"LLM_PROVIDER\"] = \"openai:gpt-3.5-turbo\"\n",
    "os.environ[\"OPENAI_API_KEY\"] = \"your-openai-api-key\"  # Replace with your actual key\n",
    "\n",
    "# Semantic Search Configuration (Optional)\n",
    "os.environ[\"QDRANT_URL\"] = \"http://localhost:6333\"\n",
    "os.environ[\"QDRANT_API_KEY\"] = \"\"  # if authorization is used\n",
    "os.environ[\"EMBEDDING_MODEL_NAME\"] = \"openai:ada\"\n",
    "os.environ[\"OPENAI_API_KEY\"] = \"your-openai-api-key\"\n",
    "\n",
    "# For Azure OpenAI models\n",
    "os.environ[\"EMBEDDING_MODEL_NAME\"] = \"azure_openai:ada\"\n",
    "os.environ[\"AZURE_OPENAI_API_KEY\"] = \"your-azure-openai-api-key\"\n",
    "os.environ[\"AZURE_OPENAI_ENDPOINT\"] = \"your-azure-openai-endpoint\"\n",
    "os.environ[\"OPENAI_API_VERSION\"] = \"your-openai-api-version\"\n",
    "\n"
   ]
  },
  {
   "cell_type": "markdown",
   "id": "9d554102",
   "metadata": {},
   "source": [
    "> Currently the langchain packages for OpenAI, Anthropic and Gemini is installed by default. For additional models, make sure you have the integration packages installed. E.g. you should have langchain-deepseek installed to use a DeepSeek model. You can get these packages here: [LangChain Chat Models](https://python.langchain.com/docs/integrations/chat/)"
   ]
  },
  {
   "cell_type": "markdown",
   "id": "ce326036",
   "metadata": {},
   "source": [
    "## 2. Building the Semantic Model\n",
    "\n",
    "The `SemanticModel` is the entry point for building your semantic layer. It takes a dictionary of datasets as input and performs the following steps:\n",
    "\n",
    "1.  **Data Profiling:** Calculates statistics for each column, such as distinct count, uniqueness, and completeness.\n",
    "2.  **Datatype Identification:** Identifies the data type of each column (e.g., integer, string, datetime).\n",
    "3.  **Key Identification:** Identifies potential primary keys.\n",
    "4.  **Glossary Generation:** Generates a business glossary for each column using an LLM.\n",
    "5.  **Link Prediction:** Predicts the relationships (foreign keys) between tables.\n",
    "\n",
    "Let's start by defining the datasets we want to use. The path shown below can be a local file path or a remote URL."
   ]
  },
  {
   "cell_type": "code",
   "execution_count": null,
   "id": "76771eda",
   "metadata": {},
   "outputs": [],
   "source": [
    "def generate_config(table_name: str) -> str:\n",
    "    \"\"\"Append the base URL to the table name.\"\"\"\n",
    "    return {\n",
    "        \"path\": f\"./sample_data/healthcare/{table_name}.csv\",\n",
    "        \"type\": \"csv\",\n",
    "    }\n",
    "\n",
    "\n",
    "table_names = [\n",
    "    \"allergies\",\n",
    "    \"careplans\",\n",
    "    \"claims\",\n",
    "    \"claims_transactions\",\n",
    "    \"conditions\",\n",
    "    \"devices\",\n",
    "    \"encounters\",\n",
    "    \"imaging_studies\",\n",
    "    \"immunizations\",\n",
    "    \"medications\",\n",
    "    \"observations\",\n",
    "    \"organizations\",\n",
    "    \"patients\",\n",
    "    \"payers\",\n",
    "    \"payer_transitions\",\n",
    "    \"procedures\",\n",
    "    \"providers\",\n",
    "    \"supplies\",\n",
    "]\n",
    "\n",
    "datasets = {table: generate_config(table) for table in table_names}"
   ]
  },
  {
   "cell_type": "markdown",
   "id": "624f0dd3",
   "metadata": {},
   "source": [
    "Now, let's use the `SemanticModel` to build our semantic layer:\n",
    "\n",
    "> The `domain` parameter helps the LLM generate a more contextual business glossary. It specifies the industry domain that the dataset belongs to (e.g., \"Healthcare\", \"Finance\", \"E-commerce\")."
   ]
  },
  {
   "cell_type": "code",
   "execution_count": 6,
   "id": "7d244a28",
   "metadata": {},
   "outputs": [
    {
     "name": "stdout",
     "output_type": "stream",
     "text": [
      "Found existing YAML for 'allergies'. Checking for staleness.\n",
      "allergies loaded\n",
      "careplans loaded\n",
      "claims loaded\n",
      "claims_transactions loaded\n",
      "conditions loaded\n",
      "devices loaded\n",
      "encounters loaded\n",
      "imaging_studies loaded\n",
      "immunizations loaded\n",
      "medications loaded\n",
      "observations loaded\n",
      "organizations loaded\n",
      "patients loaded\n",
      "payers loaded\n",
      "payer_transitions loaded\n",
      "procedures loaded\n",
      "providers loaded\n",
      "supplies loaded\n"
     ]
    },
    {
     "data": {
      "text/html": [
       "<pre style=\"white-space:pre;overflow-x:auto;line-height:normal;font-family:Menlo,'DejaVu Sans Mono',consolas,'Courier New',monospace\"><span style=\"color: #808000; text-decoration-color: #808000\">Starting profiling and key identification stage...</span>\n",
       "</pre>\n"
      ],
      "text/plain": [
       "\u001b[33mStarting profiling and key identification stage\u001b[0m\u001b[33m...\u001b[0m\n"
      ]
     },
     "metadata": {},
     "output_type": "display_data"
    },
    {
     "name": "stdout",
     "output_type": "stream",
     "text": [
      "Dataset 'allergies' already profiled. Skipping.\n"
     ]
    },
    {
     "data": {
      "text/html": [
       "<pre style=\"white-space:pre;overflow-x:auto;line-height:normal;font-family:Menlo,'DejaVu Sans Mono',consolas,'Courier New',monospace\"><span style=\"color: #ffaf00; text-decoration-color: #ffaf00\">Processing dataset: careplans</span>\n",
       "</pre>\n"
      ],
      "text/plain": [
       "\u001b[38;5;214mProcessing dataset: careplans\u001b[0m\n"
      ]
     },
     "metadata": {},
     "output_type": "display_data"
    },
    {
     "name": "stderr",
     "output_type": "stream",
     "text": [
      "/home/raphael/Downloads/intugle_demo/env/lib/python3.12/site-packages/numpy/_core/fromnumeric.py:3859: RuntimeWarning: Mean of empty slice.\n",
      "  return _methods._mean(a, axis=axis, dtype=dtype,\n",
      "/home/raphael/Downloads/intugle_demo/env/lib/python3.12/site-packages/numpy/_core/_methods.py:144: RuntimeWarning: invalid value encountered in scalar divide\n",
      "  ret = ret.dtype.type(ret / rcount)\n",
      "100%|██████████| 9/9 [00:04<00:00,  1.87it/s]\n",
      "[*] careplans:   0%|          | 0/1 [00:00<?, ?it/s]/home/raphael/intugle/data-tools/src/intugle/core/pipeline/key_identification/ki.py:87: SettingWithCopyWarning: \n",
      "A value is trying to be set on a copy of a slice from a DataFrame\n",
      "\n",
      "See the caveats in the documentation: https://pandas.pydata.org/pandas-docs/stable/user_guide/indexing.html#returning-a-view-versus-a-copy\n",
      "  temp.rename(columns={\"datatype_l1\": \"datatype\"}, inplace=True)\n",
      "[*] careplans: 100%|██████████| 1/1 [00:00<00:00,  1.79it/s]\n"
     ]
    },
    {
     "data": {
      "text/html": [
       "<pre style=\"white-space:pre;overflow-x:auto;line-height:normal;font-family:Menlo,'DejaVu Sans Mono',consolas,'Courier New',monospace\"><span style=\"color: #ffaf00; text-decoration-color: #ffaf00\">Processing dataset: claims</span>\n",
       "</pre>\n"
      ],
      "text/plain": [
       "\u001b[38;5;214mProcessing dataset: claims\u001b[0m\n"
      ]
     },
     "metadata": {},
     "output_type": "display_data"
    },
    {
     "name": "stderr",
     "output_type": "stream",
     "text": [
      "/home/raphael/Downloads/intugle_demo/env/lib/python3.12/site-packages/numpy/_core/fromnumeric.py:3859: RuntimeWarning: Mean of empty slice.\n",
      "  return _methods._mean(a, axis=axis, dtype=dtype,\n",
      "/home/raphael/Downloads/intugle_demo/env/lib/python3.12/site-packages/numpy/_core/_methods.py:144: RuntimeWarning: invalid value encountered in scalar divide\n",
      "  ret = ret.dtype.type(ret / rcount)\n",
      "[!] Empty column encountered for claims ==> referringproviderid ...\n",
      "100%|██████████| 31/31 [00:14<00:00,  2.08it/s]\n",
      "[*] claims:   0%|          | 0/1 [00:00<?, ?it/s]/home/raphael/intugle/data-tools/src/intugle/core/pipeline/key_identification/ki.py:87: SettingWithCopyWarning: \n",
      "A value is trying to be set on a copy of a slice from a DataFrame\n",
      "\n",
      "See the caveats in the documentation: https://pandas.pydata.org/pandas-docs/stable/user_guide/indexing.html#returning-a-view-versus-a-copy\n",
      "  temp.rename(columns={\"datatype_l1\": \"datatype\"}, inplace=True)\n",
      "[*] claims: 100%|██████████| 1/1 [00:00<00:00,  1.30it/s]\n"
     ]
    },
    {
     "data": {
      "text/html": [
       "<pre style=\"white-space:pre;overflow-x:auto;line-height:normal;font-family:Menlo,'DejaVu Sans Mono',consolas,'Courier New',monospace\"><span style=\"color: #ffaf00; text-decoration-color: #ffaf00\">Processing dataset: claims_transactions</span>\n",
       "</pre>\n"
      ],
      "text/plain": [
       "\u001b[38;5;214mProcessing dataset: claims_transactions\u001b[0m\n"
      ]
     },
     "metadata": {},
     "output_type": "display_data"
    },
    {
     "name": "stderr",
     "output_type": "stream",
     "text": [
      "/home/raphael/Downloads/intugle_demo/env/lib/python3.12/site-packages/numpy/_core/fromnumeric.py:3859: RuntimeWarning: Mean of empty slice.\n",
      "  return _methods._mean(a, axis=axis, dtype=dtype,\n",
      "/home/raphael/Downloads/intugle_demo/env/lib/python3.12/site-packages/numpy/_core/_methods.py:144: RuntimeWarning: invalid value encountered in scalar divide\n",
      "  ret = ret.dtype.type(ret / rcount)\n",
      "[!] Empty column encountered for claims_transactions ==> modifier1 ...\n",
      "[!] Empty column encountered for claims_transactions ==> modifier2 ...\n",
      "[!] Empty column encountered for claims_transactions ==> adjustments ...\n",
      "[!] Empty column encountered for claims_transactions ==> linenote ...\n",
      "100%|██████████| 33/33 [00:16<00:00,  1.97it/s]\n",
      "[*] claims_transactions:   0%|          | 0/1 [00:00<?, ?it/s]/home/raphael/intugle/data-tools/src/intugle/core/pipeline/key_identification/ki.py:87: SettingWithCopyWarning: \n",
      "A value is trying to be set on a copy of a slice from a DataFrame\n",
      "\n",
      "See the caveats in the documentation: https://pandas.pydata.org/pandas-docs/stable/user_guide/indexing.html#returning-a-view-versus-a-copy\n",
      "  temp.rename(columns={\"datatype_l1\": \"datatype\"}, inplace=True)\n",
      "[*] claims_transactions: 100%|██████████| 1/1 [00:00<00:00,  1.90it/s]\n"
     ]
    },
    {
     "data": {
      "text/html": [
       "<pre style=\"white-space:pre;overflow-x:auto;line-height:normal;font-family:Menlo,'DejaVu Sans Mono',consolas,'Courier New',monospace\"><span style=\"color: #ffaf00; text-decoration-color: #ffaf00\">Processing dataset: conditions</span>\n",
       "</pre>\n"
      ],
      "text/plain": [
       "\u001b[38;5;214mProcessing dataset: conditions\u001b[0m\n"
      ]
     },
     "metadata": {},
     "output_type": "display_data"
    },
    {
     "name": "stderr",
     "output_type": "stream",
     "text": [
      "/home/raphael/Downloads/intugle_demo/env/lib/python3.12/site-packages/numpy/_core/fromnumeric.py:3859: RuntimeWarning: Mean of empty slice.\n",
      "  return _methods._mean(a, axis=axis, dtype=dtype,\n",
      "/home/raphael/Downloads/intugle_demo/env/lib/python3.12/site-packages/numpy/_core/_methods.py:144: RuntimeWarning: invalid value encountered in scalar divide\n",
      "  ret = ret.dtype.type(ret / rcount)\n",
      "100%|██████████| 6/6 [00:03<00:00,  1.64it/s]\n"
     ]
    },
    {
     "data": {
      "text/html": [
       "<pre style=\"white-space:pre;overflow-x:auto;line-height:normal;font-family:Menlo,'DejaVu Sans Mono',consolas,'Courier New',monospace\"><span style=\"color: #ffaf00; text-decoration-color: #ffaf00\">Processing dataset: devices</span>\n",
       "</pre>\n"
      ],
      "text/plain": [
       "\u001b[38;5;214mProcessing dataset: devices\u001b[0m\n"
      ]
     },
     "metadata": {},
     "output_type": "display_data"
    },
    {
     "name": "stderr",
     "output_type": "stream",
     "text": [
      "/home/raphael/Downloads/intugle_demo/env/lib/python3.12/site-packages/numpy/_core/fromnumeric.py:3859: RuntimeWarning: Mean of empty slice.\n",
      "  return _methods._mean(a, axis=axis, dtype=dtype,\n",
      "/home/raphael/Downloads/intugle_demo/env/lib/python3.12/site-packages/numpy/_core/_methods.py:144: RuntimeWarning: invalid value encountered in scalar divide\n",
      "  ret = ret.dtype.type(ret / rcount)\n",
      "100%|██████████| 7/7 [00:04<00:00,  1.57it/s]\n",
      "[*] devices:   0%|          | 0/1 [00:00<?, ?it/s]/home/raphael/intugle/data-tools/src/intugle/core/pipeline/key_identification/ki.py:87: SettingWithCopyWarning: \n",
      "A value is trying to be set on a copy of a slice from a DataFrame\n",
      "\n",
      "See the caveats in the documentation: https://pandas.pydata.org/pandas-docs/stable/user_guide/indexing.html#returning-a-view-versus-a-copy\n",
      "  temp.rename(columns={\"datatype_l1\": \"datatype\"}, inplace=True)\n",
      "[*] devices: 100%|██████████| 1/1 [00:00<00:00,  2.02it/s]\n"
     ]
    },
    {
     "data": {
      "text/html": [
       "<pre style=\"white-space:pre;overflow-x:auto;line-height:normal;font-family:Menlo,'DejaVu Sans Mono',consolas,'Courier New',monospace\"><span style=\"color: #ffaf00; text-decoration-color: #ffaf00\">Processing dataset: encounters</span>\n",
       "</pre>\n"
      ],
      "text/plain": [
       "\u001b[38;5;214mProcessing dataset: encounters\u001b[0m\n"
      ]
     },
     "metadata": {},
     "output_type": "display_data"
    },
    {
     "name": "stderr",
     "output_type": "stream",
     "text": [
      "/home/raphael/Downloads/intugle_demo/env/lib/python3.12/site-packages/numpy/_core/fromnumeric.py:3859: RuntimeWarning: Mean of empty slice.\n",
      "  return _methods._mean(a, axis=axis, dtype=dtype,\n",
      "/home/raphael/Downloads/intugle_demo/env/lib/python3.12/site-packages/numpy/_core/_methods.py:144: RuntimeWarning: invalid value encountered in scalar divide\n",
      "  ret = ret.dtype.type(ret / rcount)\n",
      "100%|██████████| 15/15 [00:08<00:00,  1.69it/s]\n",
      "[*] encounters:   0%|          | 0/1 [00:00<?, ?it/s]/home/raphael/intugle/data-tools/src/intugle/core/pipeline/key_identification/ki.py:87: SettingWithCopyWarning: \n",
      "A value is trying to be set on a copy of a slice from a DataFrame\n",
      "\n",
      "See the caveats in the documentation: https://pandas.pydata.org/pandas-docs/stable/user_guide/indexing.html#returning-a-view-versus-a-copy\n",
      "  temp.rename(columns={\"datatype_l1\": \"datatype\"}, inplace=True)\n",
      "[*] encounters: 100%|██████████| 1/1 [00:07<00:00,  7.80s/it]\n"
     ]
    },
    {
     "data": {
      "text/html": [
       "<pre style=\"white-space:pre;overflow-x:auto;line-height:normal;font-family:Menlo,'DejaVu Sans Mono',consolas,'Courier New',monospace\"><span style=\"color: #ffaf00; text-decoration-color: #ffaf00\">Processing dataset: imaging_studies</span>\n",
       "</pre>\n"
      ],
      "text/plain": [
       "\u001b[38;5;214mProcessing dataset: imaging_studies\u001b[0m\n"
      ]
     },
     "metadata": {},
     "output_type": "display_data"
    },
    {
     "name": "stderr",
     "output_type": "stream",
     "text": [
      "/home/raphael/Downloads/intugle_demo/env/lib/python3.12/site-packages/numpy/_core/fromnumeric.py:3859: RuntimeWarning: Mean of empty slice.\n",
      "  return _methods._mean(a, axis=axis, dtype=dtype,\n",
      "/home/raphael/Downloads/intugle_demo/env/lib/python3.12/site-packages/numpy/_core/_methods.py:144: RuntimeWarning: invalid value encountered in scalar divide\n",
      "  ret = ret.dtype.type(ret / rcount)\n",
      "100%|██████████| 13/13 [00:06<00:00,  1.99it/s]\n",
      "[*] imaging_studies:   0%|          | 0/1 [00:00<?, ?it/s]/home/raphael/intugle/data-tools/src/intugle/core/pipeline/key_identification/ki.py:87: SettingWithCopyWarning: \n",
      "A value is trying to be set on a copy of a slice from a DataFrame\n",
      "\n",
      "See the caveats in the documentation: https://pandas.pydata.org/pandas-docs/stable/user_guide/indexing.html#returning-a-view-versus-a-copy\n",
      "  temp.rename(columns={\"datatype_l1\": \"datatype\"}, inplace=True)\n",
      "[*] imaging_studies: 100%|██████████| 1/1 [00:00<00:00,  1.73it/s]\n"
     ]
    },
    {
     "data": {
      "text/html": [
       "<pre style=\"white-space:pre;overflow-x:auto;line-height:normal;font-family:Menlo,'DejaVu Sans Mono',consolas,'Courier New',monospace\"><span style=\"color: #ffaf00; text-decoration-color: #ffaf00\">Processing dataset: immunizations</span>\n",
       "</pre>\n"
      ],
      "text/plain": [
       "\u001b[38;5;214mProcessing dataset: immunizations\u001b[0m\n"
      ]
     },
     "metadata": {},
     "output_type": "display_data"
    },
    {
     "name": "stderr",
     "output_type": "stream",
     "text": [
      "/home/raphael/Downloads/intugle_demo/env/lib/python3.12/site-packages/numpy/_core/fromnumeric.py:3859: RuntimeWarning: Mean of empty slice.\n",
      "  return _methods._mean(a, axis=axis, dtype=dtype,\n",
      "/home/raphael/Downloads/intugle_demo/env/lib/python3.12/site-packages/numpy/_core/_methods.py:144: RuntimeWarning: invalid value encountered in scalar divide\n",
      "  ret = ret.dtype.type(ret / rcount)\n",
      "100%|██████████| 6/6 [00:02<00:00,  2.19it/s]\n"
     ]
    },
    {
     "data": {
      "text/html": [
       "<pre style=\"white-space:pre;overflow-x:auto;line-height:normal;font-family:Menlo,'DejaVu Sans Mono',consolas,'Courier New',monospace\"><span style=\"color: #ffaf00; text-decoration-color: #ffaf00\">Processing dataset: medications</span>\n",
       "</pre>\n"
      ],
      "text/plain": [
       "\u001b[38;5;214mProcessing dataset: medications\u001b[0m\n"
      ]
     },
     "metadata": {},
     "output_type": "display_data"
    },
    {
     "name": "stderr",
     "output_type": "stream",
     "text": [
      "/home/raphael/Downloads/intugle_demo/env/lib/python3.12/site-packages/numpy/_core/fromnumeric.py:3859: RuntimeWarning: Mean of empty slice.\n",
      "  return _methods._mean(a, axis=axis, dtype=dtype,\n",
      "/home/raphael/Downloads/intugle_demo/env/lib/python3.12/site-packages/numpy/_core/_methods.py:144: RuntimeWarning: invalid value encountered in scalar divide\n",
      "  ret = ret.dtype.type(ret / rcount)\n",
      "100%|██████████| 13/13 [00:07<00:00,  1.72it/s]\n"
     ]
    },
    {
     "data": {
      "text/html": [
       "<pre style=\"white-space:pre;overflow-x:auto;line-height:normal;font-family:Menlo,'DejaVu Sans Mono',consolas,'Courier New',monospace\"><span style=\"color: #ffaf00; text-decoration-color: #ffaf00\">Processing dataset: observations</span>\n",
       "</pre>\n"
      ],
      "text/plain": [
       "\u001b[38;5;214mProcessing dataset: observations\u001b[0m\n"
      ]
     },
     "metadata": {},
     "output_type": "display_data"
    },
    {
     "name": "stderr",
     "output_type": "stream",
     "text": [
      "/home/raphael/Downloads/intugle_demo/env/lib/python3.12/site-packages/numpy/_core/fromnumeric.py:3859: RuntimeWarning: Mean of empty slice.\n",
      "  return _methods._mean(a, axis=axis, dtype=dtype,\n",
      "/home/raphael/Downloads/intugle_demo/env/lib/python3.12/site-packages/numpy/_core/_methods.py:144: RuntimeWarning: invalid value encountered in scalar divide\n",
      "  ret = ret.dtype.type(ret / rcount)\n",
      "100%|██████████| 9/9 [00:05<00:00,  1.51it/s]\n"
     ]
    },
    {
     "data": {
      "text/html": [
       "<pre style=\"white-space:pre;overflow-x:auto;line-height:normal;font-family:Menlo,'DejaVu Sans Mono',consolas,'Courier New',monospace\"><span style=\"color: #ffaf00; text-decoration-color: #ffaf00\">Processing dataset: organizations</span>\n",
       "</pre>\n"
      ],
      "text/plain": [
       "\u001b[38;5;214mProcessing dataset: organizations\u001b[0m\n"
      ]
     },
     "metadata": {},
     "output_type": "display_data"
    },
    {
     "name": "stderr",
     "output_type": "stream",
     "text": [
      "/home/raphael/Downloads/intugle_demo/env/lib/python3.12/site-packages/numpy/_core/fromnumeric.py:3859: RuntimeWarning: Mean of empty slice.\n",
      "  return _methods._mean(a, axis=axis, dtype=dtype,\n",
      "/home/raphael/Downloads/intugle_demo/env/lib/python3.12/site-packages/numpy/_core/_methods.py:144: RuntimeWarning: invalid value encountered in scalar divide\n",
      "  ret = ret.dtype.type(ret / rcount)\n",
      "100%|██████████| 11/11 [00:05<00:00,  2.10it/s]\n",
      "[*] organizations:   0%|          | 0/1 [00:00<?, ?it/s]/home/raphael/intugle/data-tools/src/intugle/core/pipeline/key_identification/ki.py:87: SettingWithCopyWarning: \n",
      "A value is trying to be set on a copy of a slice from a DataFrame\n",
      "\n",
      "See the caveats in the documentation: https://pandas.pydata.org/pandas-docs/stable/user_guide/indexing.html#returning-a-view-versus-a-copy\n",
      "  temp.rename(columns={\"datatype_l1\": \"datatype\"}, inplace=True)\n",
      "[*] organizations: 100%|██████████| 1/1 [00:00<00:00,  1.54it/s]\n"
     ]
    },
    {
     "data": {
      "text/html": [
       "<pre style=\"white-space:pre;overflow-x:auto;line-height:normal;font-family:Menlo,'DejaVu Sans Mono',consolas,'Courier New',monospace\"><span style=\"color: #ffaf00; text-decoration-color: #ffaf00\">Processing dataset: patients</span>\n",
       "</pre>\n"
      ],
      "text/plain": [
       "\u001b[38;5;214mProcessing dataset: patients\u001b[0m\n"
      ]
     },
     "metadata": {},
     "output_type": "display_data"
    },
    {
     "name": "stderr",
     "output_type": "stream",
     "text": [
      "/home/raphael/Downloads/intugle_demo/env/lib/python3.12/site-packages/numpy/_core/fromnumeric.py:3859: RuntimeWarning: Mean of empty slice.\n",
      "  return _methods._mean(a, axis=axis, dtype=dtype,\n",
      "/home/raphael/Downloads/intugle_demo/env/lib/python3.12/site-packages/numpy/_core/_methods.py:144: RuntimeWarning: invalid value encountered in scalar divide\n",
      "  ret = ret.dtype.type(ret / rcount)\n",
      "100%|██████████| 25/25 [00:18<00:00,  1.33it/s]\n",
      "[*] patients:   0%|          | 0/1 [00:00<?, ?it/s]/home/raphael/intugle/data-tools/src/intugle/core/pipeline/key_identification/ki.py:87: SettingWithCopyWarning: \n",
      "A value is trying to be set on a copy of a slice from a DataFrame\n",
      "\n",
      "See the caveats in the documentation: https://pandas.pydata.org/pandas-docs/stable/user_guide/indexing.html#returning-a-view-versus-a-copy\n",
      "  temp.rename(columns={\"datatype_l1\": \"datatype\"}, inplace=True)\n",
      "[*] patients: 100%|██████████| 1/1 [00:02<00:00,  2.01s/it]\n"
     ]
    },
    {
     "data": {
      "text/html": [
       "<pre style=\"white-space:pre;overflow-x:auto;line-height:normal;font-family:Menlo,'DejaVu Sans Mono',consolas,'Courier New',monospace\"><span style=\"color: #ffaf00; text-decoration-color: #ffaf00\">Processing dataset: payers</span>\n",
       "</pre>\n"
      ],
      "text/plain": [
       "\u001b[38;5;214mProcessing dataset: payers\u001b[0m\n"
      ]
     },
     "metadata": {},
     "output_type": "display_data"
    },
    {
     "name": "stderr",
     "output_type": "stream",
     "text": [
      "/home/raphael/Downloads/intugle_demo/env/lib/python3.12/site-packages/numpy/_core/fromnumeric.py:3859: RuntimeWarning: Mean of empty slice.\n",
      "  return _methods._mean(a, axis=axis, dtype=dtype,\n",
      "/home/raphael/Downloads/intugle_demo/env/lib/python3.12/site-packages/numpy/_core/_methods.py:144: RuntimeWarning: invalid value encountered in scalar divide\n",
      "  ret = ret.dtype.type(ret / rcount)\n",
      "100%|██████████| 21/21 [00:13<00:00,  1.57it/s]\n",
      "[*] payers:   0%|          | 0/1 [00:00<?, ?it/s]/home/raphael/intugle/data-tools/src/intugle/core/pipeline/key_identification/ki.py:87: SettingWithCopyWarning: \n",
      "A value is trying to be set on a copy of a slice from a DataFrame\n",
      "\n",
      "See the caveats in the documentation: https://pandas.pydata.org/pandas-docs/stable/user_guide/indexing.html#returning-a-view-versus-a-copy\n",
      "  temp.rename(columns={\"datatype_l1\": \"datatype\"}, inplace=True)\n",
      "[*] payers: 100%|██████████| 1/1 [00:00<00:00,  1.11it/s]\n"
     ]
    },
    {
     "data": {
      "text/html": [
       "<pre style=\"white-space:pre;overflow-x:auto;line-height:normal;font-family:Menlo,'DejaVu Sans Mono',consolas,'Courier New',monospace\"><span style=\"color: #ffaf00; text-decoration-color: #ffaf00\">Processing dataset: payer_transitions</span>\n",
       "</pre>\n"
      ],
      "text/plain": [
       "\u001b[38;5;214mProcessing dataset: payer_transitions\u001b[0m\n"
      ]
     },
     "metadata": {},
     "output_type": "display_data"
    },
    {
     "name": "stderr",
     "output_type": "stream",
     "text": [
      "/home/raphael/Downloads/intugle_demo/env/lib/python3.12/site-packages/numpy/_core/fromnumeric.py:3859: RuntimeWarning: Mean of empty slice.\n",
      "  return _methods._mean(a, axis=axis, dtype=dtype,\n",
      "/home/raphael/Downloads/intugle_demo/env/lib/python3.12/site-packages/numpy/_core/_methods.py:144: RuntimeWarning: invalid value encountered in scalar divide\n",
      "  ret = ret.dtype.type(ret / rcount)\n",
      "100%|██████████| 8/8 [00:04<00:00,  1.92it/s]\n",
      "[*] payer_transitions:   0%|          | 0/1 [00:00<?, ?it/s]/home/raphael/intugle/data-tools/src/intugle/core/pipeline/key_identification/ki.py:87: SettingWithCopyWarning: \n",
      "A value is trying to be set on a copy of a slice from a DataFrame\n",
      "\n",
      "See the caveats in the documentation: https://pandas.pydata.org/pandas-docs/stable/user_guide/indexing.html#returning-a-view-versus-a-copy\n",
      "  temp.rename(columns={\"datatype_l1\": \"datatype\"}, inplace=True)\n",
      "[!] None key identified by LLM is not a valid column of payer_transitions table\n",
      "[*] payer_transitions: 100%|██████████| 1/1 [00:00<00:00,  1.21it/s]\n"
     ]
    },
    {
     "data": {
      "text/html": [
       "<pre style=\"white-space:pre;overflow-x:auto;line-height:normal;font-family:Menlo,'DejaVu Sans Mono',consolas,'Courier New',monospace\"><span style=\"color: #ffaf00; text-decoration-color: #ffaf00\">Processing dataset: procedures</span>\n",
       "</pre>\n"
      ],
      "text/plain": [
       "\u001b[38;5;214mProcessing dataset: procedures\u001b[0m\n"
      ]
     },
     "metadata": {},
     "output_type": "display_data"
    },
    {
     "name": "stderr",
     "output_type": "stream",
     "text": [
      "/home/raphael/Downloads/intugle_demo/env/lib/python3.12/site-packages/numpy/_core/fromnumeric.py:3859: RuntimeWarning: Mean of empty slice.\n",
      "  return _methods._mean(a, axis=axis, dtype=dtype,\n",
      "/home/raphael/Downloads/intugle_demo/env/lib/python3.12/site-packages/numpy/_core/_methods.py:144: RuntimeWarning: invalid value encountered in scalar divide\n",
      "  ret = ret.dtype.type(ret / rcount)\n",
      "100%|██████████| 9/9 [00:04<00:00,  2.10it/s]\n"
     ]
    },
    {
     "data": {
      "text/html": [
       "<pre style=\"white-space:pre;overflow-x:auto;line-height:normal;font-family:Menlo,'DejaVu Sans Mono',consolas,'Courier New',monospace\"><span style=\"color: #ffaf00; text-decoration-color: #ffaf00\">Processing dataset: providers</span>\n",
       "</pre>\n"
      ],
      "text/plain": [
       "\u001b[38;5;214mProcessing dataset: providers\u001b[0m\n"
      ]
     },
     "metadata": {},
     "output_type": "display_data"
    },
    {
     "name": "stderr",
     "output_type": "stream",
     "text": [
      "/home/raphael/Downloads/intugle_demo/env/lib/python3.12/site-packages/numpy/_core/fromnumeric.py:3859: RuntimeWarning: Mean of empty slice.\n",
      "  return _methods._mean(a, axis=axis, dtype=dtype,\n",
      "/home/raphael/Downloads/intugle_demo/env/lib/python3.12/site-packages/numpy/_core/_methods.py:144: RuntimeWarning: invalid value encountered in scalar divide\n",
      "  ret = ret.dtype.type(ret / rcount)\n",
      "100%|██████████| 12/12 [00:06<00:00,  1.81it/s]\n",
      "[*] providers:   0%|          | 0/1 [00:00<?, ?it/s]/home/raphael/intugle/data-tools/src/intugle/core/pipeline/key_identification/ki.py:87: SettingWithCopyWarning: \n",
      "A value is trying to be set on a copy of a slice from a DataFrame\n",
      "\n",
      "See the caveats in the documentation: https://pandas.pydata.org/pandas-docs/stable/user_guide/indexing.html#returning-a-view-versus-a-copy\n",
      "  temp.rename(columns={\"datatype_l1\": \"datatype\"}, inplace=True)\n",
      "[*] providers: 100%|██████████| 1/1 [00:01<00:00,  1.13s/it]\n"
     ]
    },
    {
     "data": {
      "text/html": [
       "<pre style=\"white-space:pre;overflow-x:auto;line-height:normal;font-family:Menlo,'DejaVu Sans Mono',consolas,'Courier New',monospace\"><span style=\"color: #ffaf00; text-decoration-color: #ffaf00\">Processing dataset: supplies</span>\n",
       "</pre>\n"
      ],
      "text/plain": [
       "\u001b[38;5;214mProcessing dataset: supplies\u001b[0m\n"
      ]
     },
     "metadata": {},
     "output_type": "display_data"
    },
    {
     "name": "stderr",
     "output_type": "stream",
     "text": [
      "/home/raphael/Downloads/intugle_demo/env/lib/python3.12/site-packages/numpy/_core/fromnumeric.py:3859: RuntimeWarning: Mean of empty slice.\n",
      "  return _methods._mean(a, axis=axis, dtype=dtype,\n",
      "/home/raphael/Downloads/intugle_demo/env/lib/python3.12/site-packages/numpy/_core/_methods.py:144: RuntimeWarning: invalid value encountered in scalar divide\n",
      "  ret = ret.dtype.type(ret / rcount)\n",
      "100%|██████████| 6/6 [00:04<00:00,  1.23it/s]\n"
     ]
    },
    {
     "data": {
      "text/html": [
       "<pre style=\"white-space:pre;overflow-x:auto;line-height:normal;font-family:Menlo,'DejaVu Sans Mono',consolas,'Courier New',monospace\"><span style=\"color: #008000; text-decoration-color: #008000; font-weight: bold\">Profiling and key identification complete.</span>\n",
       "</pre>\n"
      ],
      "text/plain": [
       "\u001b[1;32mProfiling and key identification complete.\u001b[0m\n"
      ]
     },
     "metadata": {},
     "output_type": "display_data"
    },
    {
     "data": {
      "text/html": [
       "<pre style=\"white-space:pre;overflow-x:auto;line-height:normal;font-family:Menlo,'DejaVu Sans Mono',consolas,'Courier New',monospace\"><span style=\"color: #808000; text-decoration-color: #808000\">Starting link prediction stage...</span>\n",
       "</pre>\n"
      ],
      "text/plain": [
       "\u001b[33mStarting link prediction stage\u001b[0m\u001b[33m...\u001b[0m\n"
      ]
     },
     "metadata": {},
     "output_type": "display_data"
    },
    {
     "name": "stdout",
     "output_type": "stream",
     "text": [
      "Dataset 'allergies' already processed. Skipping analysis.\n",
      "Dataset 'careplans' already processed. Skipping analysis.\n",
      "Dataset 'claims' already processed. Skipping analysis.\n",
      "Dataset 'claims_transactions' already processed. Skipping analysis.\n",
      "Dataset 'conditions' already processed. Skipping analysis.\n",
      "Dataset 'devices' already processed. Skipping analysis.\n",
      "Dataset 'encounters' already processed. Skipping analysis.\n",
      "Dataset 'imaging_studies' already processed. Skipping analysis.\n",
      "Dataset 'immunizations' already processed. Skipping analysis.\n",
      "Dataset 'medications' already processed. Skipping analysis.\n",
      "Dataset 'observations' already processed. Skipping analysis.\n",
      "Dataset 'organizations' already processed. Skipping analysis.\n",
      "Dataset 'patients' already processed. Skipping analysis.\n",
      "Dataset 'payers' already processed. Skipping analysis.\n",
      "Dataset 'payer_transitions' already processed. Skipping analysis.\n",
      "Dataset 'procedures' already processed. Skipping analysis.\n",
      "Dataset 'providers' already processed. Skipping analysis.\n",
      "Dataset 'supplies' already processed. Skipping analysis.\n",
      "LinkPredictor initialized with datasets: ['allergies', 'careplans', 'claims', 'claims_transactions', 'conditions', 'devices', 'encounters', 'imaging_studies', 'immunizations', 'medications', 'observations', 'organizations', 'patients', 'payers', 'payer_transitions', 'procedures', 'providers', 'supplies']\n",
      "\n",
      "--- Comparing 'allergies' <=> 'careplans' ---\n"
     ]
    },
    {
     "name": "stderr",
     "output_type": "stream",
     "text": [
      "[*] allergies <==> careplans Runs:1: 100%|██████████| 1/1 [00:08<00:00,  8.19s/it]\n"
     ]
    },
    {
     "name": "stdout",
     "output_type": "stream",
     "text": [
      "No links found for this pair.\n",
      "\n",
      "--- Comparing 'allergies' <=> 'claims' ---\n"
     ]
    },
    {
     "name": "stderr",
     "output_type": "stream",
     "text": [
      "[*] allergies <==> claims Runs:1: 100%|██████████| 1/1 [00:05<00:00,  5.63s/it]\n"
     ]
    },
    {
     "name": "stdout",
     "output_type": "stream",
     "text": [
      "No links found for this pair.\n",
      "\n",
      "--- Comparing 'allergies' <=> 'claims_transactions' ---\n"
     ]
    },
    {
     "name": "stderr",
     "output_type": "stream",
     "text": [
      "[*] allergies <==> claims_transactions Runs:1: 100%|██████████| 1/1 [00:05<00:00,  5.10s/it]\n"
     ]
    },
    {
     "name": "stdout",
     "output_type": "stream",
     "text": [
      "No links found for this pair.\n",
      "\n",
      "--- Comparing 'allergies' <=> 'conditions' ---\n"
     ]
    },
    {
     "name": "stderr",
     "output_type": "stream",
     "text": [
      "[*] allergies <==> conditions Runs:1: 100%|██████████| 1/1 [00:02<00:00,  2.63s/it]\n"
     ]
    },
    {
     "name": "stdout",
     "output_type": "stream",
     "text": [
      "No links found for this pair.\n",
      "\n",
      "--- Comparing 'allergies' <=> 'devices' ---\n"
     ]
    },
    {
     "name": "stderr",
     "output_type": "stream",
     "text": [
      "[*] allergies <==> devices Runs:1: 100%|██████████| 1/1 [00:01<00:00,  1.97s/it]\n"
     ]
    },
    {
     "name": "stdout",
     "output_type": "stream",
     "text": [
      "No links found for this pair.\n",
      "\n",
      "--- Comparing 'allergies' <=> 'encounters' ---\n"
     ]
    },
    {
     "name": "stderr",
     "output_type": "stream",
     "text": [
      "[*] allergies <==> encounters Runs:1: 100%|██████████| 1/1 [00:05<00:00,  5.79s/it]\n"
     ]
    },
    {
     "name": "stdout",
     "output_type": "stream",
     "text": [
      "No links found for this pair.\n",
      "\n",
      "--- Comparing 'allergies' <=> 'imaging_studies' ---\n"
     ]
    },
    {
     "name": "stderr",
     "output_type": "stream",
     "text": [
      "[*] allergies <==> imaging_studies Runs:1: 100%|██████████| 1/1 [00:01<00:00,  1.83s/it]\n"
     ]
    },
    {
     "name": "stdout",
     "output_type": "stream",
     "text": [
      "No links found for this pair.\n",
      "\n",
      "--- Comparing 'allergies' <=> 'immunizations' ---\n"
     ]
    },
    {
     "name": "stderr",
     "output_type": "stream",
     "text": [
      "[*] allergies <==> immunizations Runs:1: 100%|██████████| 1/1 [00:01<00:00,  1.89s/it]\n"
     ]
    },
    {
     "name": "stdout",
     "output_type": "stream",
     "text": [
      "No links found for this pair.\n",
      "\n",
      "--- Comparing 'allergies' <=> 'medications' ---\n"
     ]
    },
    {
     "name": "stderr",
     "output_type": "stream",
     "text": [
      "[*] allergies <==> medications Runs:1: 100%|██████████| 1/1 [00:04<00:00,  4.24s/it]\n"
     ]
    },
    {
     "name": "stdout",
     "output_type": "stream",
     "text": [
      "No links found for this pair.\n",
      "\n",
      "--- Comparing 'allergies' <=> 'observations' ---\n"
     ]
    },
    {
     "name": "stderr",
     "output_type": "stream",
     "text": [
      "[*] allergies <==> observations Runs:1: 100%|██████████| 1/1 [00:19<00:00, 19.01s/it]\n"
     ]
    },
    {
     "name": "stdout",
     "output_type": "stream",
     "text": [
      "No links found for this pair.\n",
      "\n",
      "--- Comparing 'allergies' <=> 'organizations' ---\n"
     ]
    },
    {
     "name": "stderr",
     "output_type": "stream",
     "text": [
      "[*] allergies <==> organizations Runs:1: 100%|██████████| 1/1 [00:10<00:00, 10.57s/it]\n"
     ]
    },
    {
     "name": "stdout",
     "output_type": "stream",
     "text": [
      "No links found for this pair.\n",
      "\n",
      "--- Comparing 'allergies' <=> 'patients' ---\n"
     ]
    },
    {
     "name": "stderr",
     "output_type": "stream",
     "text": [
      "[*] allergies <==> patients Runs:1: 100%|██████████| 1/1 [00:07<00:00,  7.46s/it]\n"
     ]
    },
    {
     "name": "stdout",
     "output_type": "stream",
     "text": [
      "Found 1 potential link(s).\n",
      "\n",
      "--- Comparing 'allergies' <=> 'payers' ---\n"
     ]
    },
    {
     "name": "stderr",
     "output_type": "stream",
     "text": [
      "[*] allergies <==> payers Runs:1: 100%|██████████| 1/1 [00:00<00:00,  1.13it/s]\n"
     ]
    },
    {
     "name": "stdout",
     "output_type": "stream",
     "text": [
      "No links found for this pair.\n",
      "\n",
      "--- Comparing 'allergies' <=> 'payer_transitions' ---\n"
     ]
    },
    {
     "name": "stderr",
     "output_type": "stream",
     "text": [
      "[*] allergies <==> payer_transitions Runs:1: 100%|██████████| 1/1 [00:01<00:00,  1.51s/it]\n"
     ]
    },
    {
     "name": "stdout",
     "output_type": "stream",
     "text": [
      "No links found for this pair.\n",
      "\n",
      "--- Comparing 'allergies' <=> 'procedures' ---\n"
     ]
    },
    {
     "name": "stderr",
     "output_type": "stream",
     "text": [
      "[*] allergies <==> procedures Runs:1: 100%|██████████| 1/1 [00:02<00:00,  2.33s/it]\n"
     ]
    },
    {
     "name": "stdout",
     "output_type": "stream",
     "text": [
      "No links found for this pair.\n",
      "\n",
      "--- Comparing 'allergies' <=> 'providers' ---\n"
     ]
    },
    {
     "name": "stderr",
     "output_type": "stream",
     "text": [
      "[*] allergies <==> providers Runs:1: 100%|██████████| 1/1 [00:00<00:00,  1.16it/s]\n"
     ]
    },
    {
     "name": "stdout",
     "output_type": "stream",
     "text": [
      "No links found for this pair.\n",
      "\n",
      "--- Comparing 'allergies' <=> 'supplies' ---\n"
     ]
    },
    {
     "name": "stderr",
     "output_type": "stream",
     "text": [
      "[*] allergies <==> supplies Runs:1: 100%|██████████| 1/1 [00:06<00:00,  6.46s/it]\n"
     ]
    },
    {
     "name": "stdout",
     "output_type": "stream",
     "text": [
      "No links found for this pair.\n",
      "\n",
      "--- Comparing 'careplans' <=> 'claims' ---\n"
     ]
    },
    {
     "name": "stderr",
     "output_type": "stream",
     "text": [
      "[*] careplans <==> claims Runs:1: 100%|██████████| 1/1 [00:01<00:00,  1.79s/it]\n"
     ]
    },
    {
     "name": "stdout",
     "output_type": "stream",
     "text": [
      "No links found for this pair.\n",
      "\n",
      "--- Comparing 'careplans' <=> 'claims_transactions' ---\n"
     ]
    },
    {
     "name": "stderr",
     "output_type": "stream",
     "text": [
      "[*] careplans <==> claims_transactions Runs:1: 100%|██████████| 1/1 [00:05<00:00,  5.41s/it]\n"
     ]
    },
    {
     "name": "stdout",
     "output_type": "stream",
     "text": [
      "No links found for this pair.\n",
      "\n",
      "--- Comparing 'careplans' <=> 'conditions' ---\n"
     ]
    },
    {
     "name": "stderr",
     "output_type": "stream",
     "text": [
      "[*] careplans <==> conditions Runs:1: 100%|██████████| 1/1 [00:13<00:00, 13.65s/it]\n"
     ]
    },
    {
     "name": "stdout",
     "output_type": "stream",
     "text": [
      "No links found for this pair.\n",
      "\n",
      "--- Comparing 'careplans' <=> 'devices' ---\n"
     ]
    },
    {
     "name": "stderr",
     "output_type": "stream",
     "text": [
      "[*] careplans <==> devices Runs:1: 100%|██████████| 1/1 [00:03<00:00,  3.89s/it]\n"
     ]
    },
    {
     "name": "stdout",
     "output_type": "stream",
     "text": [
      "No links found for this pair.\n",
      "\n",
      "--- Comparing 'careplans' <=> 'encounters' ---\n"
     ]
    },
    {
     "name": "stderr",
     "output_type": "stream",
     "text": [
      "[*] careplans <==> encounters Runs:1: 100%|██████████| 1/1 [00:20<00:00, 20.83s/it]\n"
     ]
    },
    {
     "name": "stdout",
     "output_type": "stream",
     "text": [
      "No links found for this pair.\n",
      "\n",
      "--- Comparing 'careplans' <=> 'imaging_studies' ---\n"
     ]
    },
    {
     "name": "stderr",
     "output_type": "stream",
     "text": [
      "[*] careplans <==> imaging_studies Runs:1: 100%|██████████| 1/1 [00:09<00:00,  9.95s/it]\n"
     ]
    },
    {
     "name": "stdout",
     "output_type": "stream",
     "text": [
      "No links found for this pair.\n",
      "\n",
      "--- Comparing 'careplans' <=> 'immunizations' ---\n"
     ]
    },
    {
     "name": "stderr",
     "output_type": "stream",
     "text": [
      "[*] careplans <==> immunizations Runs:1: 100%|██████████| 1/1 [00:01<00:00,  1.70s/it]\n"
     ]
    },
    {
     "name": "stdout",
     "output_type": "stream",
     "text": [
      "No links found for this pair.\n",
      "\n",
      "--- Comparing 'careplans' <=> 'medications' ---\n"
     ]
    },
    {
     "name": "stderr",
     "output_type": "stream",
     "text": [
      "[*] careplans <==> medications Runs:1: 100%|██████████| 1/1 [00:08<00:00,  8.04s/it]\n"
     ]
    },
    {
     "name": "stdout",
     "output_type": "stream",
     "text": [
      "No links found for this pair.\n",
      "\n",
      "--- Comparing 'careplans' <=> 'observations' ---\n"
     ]
    },
    {
     "name": "stderr",
     "output_type": "stream",
     "text": [
      "[*] careplans <==> observations Runs:1: 100%|██████████| 1/1 [00:03<00:00,  3.71s/it]\n"
     ]
    },
    {
     "name": "stdout",
     "output_type": "stream",
     "text": [
      "No links found for this pair.\n",
      "\n",
      "--- Comparing 'careplans' <=> 'organizations' ---\n"
     ]
    },
    {
     "name": "stderr",
     "output_type": "stream",
     "text": [
      "[*] careplans <==> organizations Runs:1: 100%|██████████| 1/1 [00:03<00:00,  3.13s/it]\n"
     ]
    },
    {
     "name": "stdout",
     "output_type": "stream",
     "text": [
      "No links found for this pair.\n",
      "\n",
      "--- Comparing 'careplans' <=> 'patients' ---\n"
     ]
    },
    {
     "name": "stderr",
     "output_type": "stream",
     "text": [
      "[*] careplans <==> patients Runs:1: 100%|██████████| 1/1 [00:05<00:00,  5.84s/it]\n"
     ]
    },
    {
     "name": "stdout",
     "output_type": "stream",
     "text": [
      "Found 1 potential link(s).\n",
      "\n",
      "--- Comparing 'careplans' <=> 'payers' ---\n"
     ]
    },
    {
     "name": "stderr",
     "output_type": "stream",
     "text": [
      "[*] careplans <==> payers Runs:1: 100%|██████████| 1/1 [00:01<00:00,  1.17s/it]\n"
     ]
    },
    {
     "name": "stdout",
     "output_type": "stream",
     "text": [
      "No links found for this pair.\n",
      "\n",
      "--- Comparing 'careplans' <=> 'payer_transitions' ---\n"
     ]
    },
    {
     "name": "stderr",
     "output_type": "stream",
     "text": [
      "[*] careplans <==> payer_transitions Runs:1: 100%|██████████| 1/1 [00:02<00:00,  2.66s/it]\n"
     ]
    },
    {
     "name": "stdout",
     "output_type": "stream",
     "text": [
      "No links found for this pair.\n",
      "\n",
      "--- Comparing 'careplans' <=> 'procedures' ---\n"
     ]
    },
    {
     "name": "stderr",
     "output_type": "stream",
     "text": [
      "[*] careplans <==> procedures Runs:1: 100%|██████████| 1/1 [00:03<00:00,  3.67s/it]\n"
     ]
    },
    {
     "name": "stdout",
     "output_type": "stream",
     "text": [
      "No links found for this pair.\n",
      "\n",
      "--- Comparing 'careplans' <=> 'providers' ---\n"
     ]
    },
    {
     "name": "stderr",
     "output_type": "stream",
     "text": [
      "[*] careplans <==> providers Runs:1: 100%|██████████| 1/1 [00:01<00:00,  1.19s/it]\n"
     ]
    },
    {
     "name": "stdout",
     "output_type": "stream",
     "text": [
      "No links found for this pair.\n",
      "\n",
      "--- Comparing 'careplans' <=> 'supplies' ---\n"
     ]
    },
    {
     "name": "stderr",
     "output_type": "stream",
     "text": [
      "[*] careplans <==> supplies Runs:1: 100%|██████████| 1/1 [00:01<00:00,  1.93s/it]\n"
     ]
    },
    {
     "name": "stdout",
     "output_type": "stream",
     "text": [
      "No links found for this pair.\n",
      "\n",
      "--- Comparing 'claims' <=> 'claims_transactions' ---\n"
     ]
    },
    {
     "name": "stderr",
     "output_type": "stream",
     "text": [
      "[*] claims <==> claims_transactions Runs:1: 100%|██████████| 1/1 [00:06<00:00,  6.09s/it]\n"
     ]
    },
    {
     "name": "stdout",
     "output_type": "stream",
     "text": [
      "Found 1 potential link(s).\n",
      "\n",
      "--- Comparing 'claims' <=> 'conditions' ---\n"
     ]
    },
    {
     "name": "stderr",
     "output_type": "stream",
     "text": [
      "[*] claims <==> conditions Runs:1: 100%|██████████| 1/1 [00:04<00:00,  4.99s/it]\n"
     ]
    },
    {
     "name": "stdout",
     "output_type": "stream",
     "text": [
      "No links found for this pair.\n",
      "\n",
      "--- Comparing 'claims' <=> 'devices' ---\n"
     ]
    },
    {
     "name": "stderr",
     "output_type": "stream",
     "text": [
      "[*] claims <==> devices Runs:1: 100%|██████████| 1/1 [00:15<00:00, 15.26s/it]\n"
     ]
    },
    {
     "name": "stdout",
     "output_type": "stream",
     "text": [
      "No links found for this pair.\n",
      "\n",
      "--- Comparing 'claims' <=> 'encounters' ---\n"
     ]
    },
    {
     "name": "stderr",
     "output_type": "stream",
     "text": [
      "[*] claims <==> encounters Runs:1: 100%|██████████| 1/1 [00:02<00:00,  2.10s/it]\n"
     ]
    },
    {
     "name": "stdout",
     "output_type": "stream",
     "text": [
      "No links found for this pair.\n",
      "\n",
      "--- Comparing 'claims' <=> 'imaging_studies' ---\n"
     ]
    },
    {
     "name": "stderr",
     "output_type": "stream",
     "text": [
      "[*] claims <==> imaging_studies Runs:1: 100%|██████████| 1/1 [00:11<00:00, 11.80s/it]\n"
     ]
    },
    {
     "name": "stdout",
     "output_type": "stream",
     "text": [
      "No links found for this pair.\n",
      "\n",
      "--- Comparing 'claims' <=> 'immunizations' ---\n"
     ]
    },
    {
     "name": "stderr",
     "output_type": "stream",
     "text": [
      "[*] claims <==> immunizations Runs:1: 100%|██████████| 1/1 [00:09<00:00,  9.30s/it]\n"
     ]
    },
    {
     "name": "stdout",
     "output_type": "stream",
     "text": [
      "No links found for this pair.\n",
      "\n",
      "--- Comparing 'claims' <=> 'medications' ---\n"
     ]
    },
    {
     "name": "stderr",
     "output_type": "stream",
     "text": [
      "[*] claims <==> medications Runs:1: 100%|██████████| 1/1 [00:06<00:00,  6.97s/it]\n"
     ]
    },
    {
     "name": "stdout",
     "output_type": "stream",
     "text": [
      "No links found for this pair.\n",
      "\n",
      "--- Comparing 'claims' <=> 'observations' ---\n"
     ]
    },
    {
     "name": "stderr",
     "output_type": "stream",
     "text": [
      "[*] claims <==> observations Runs:1: 100%|██████████| 1/1 [00:05<00:00,  5.29s/it]\n"
     ]
    },
    {
     "name": "stdout",
     "output_type": "stream",
     "text": [
      "No links found for this pair.\n",
      "\n",
      "--- Comparing 'claims' <=> 'organizations' ---\n"
     ]
    },
    {
     "name": "stderr",
     "output_type": "stream",
     "text": [
      "[*] claims <==> organizations Runs:1: 100%|██████████| 1/1 [00:11<00:00, 11.85s/it]\n"
     ]
    },
    {
     "name": "stdout",
     "output_type": "stream",
     "text": [
      "No links found for this pair.\n",
      "\n",
      "--- Comparing 'claims' <=> 'patients' ---\n"
     ]
    },
    {
     "name": "stderr",
     "output_type": "stream",
     "text": [
      "[*] claims <==> patients Runs:1: 100%|██████████| 1/1 [00:12<00:00, 12.95s/it]\n"
     ]
    },
    {
     "name": "stdout",
     "output_type": "stream",
     "text": [
      "Found 1 potential link(s).\n",
      "\n",
      "--- Comparing 'claims' <=> 'payers' ---\n"
     ]
    },
    {
     "name": "stderr",
     "output_type": "stream",
     "text": [
      "[*] claims <==> payers Runs:1: 100%|██████████| 1/1 [00:12<00:00, 12.96s/it]\n"
     ]
    },
    {
     "name": "stdout",
     "output_type": "stream",
     "text": [
      "No links found for this pair.\n",
      "\n",
      "--- Comparing 'claims' <=> 'payer_transitions' ---\n"
     ]
    },
    {
     "name": "stderr",
     "output_type": "stream",
     "text": [
      "[*] claims <==> payer_transitions Runs:1: 100%|██████████| 1/1 [00:02<00:00,  2.13s/it]\n"
     ]
    },
    {
     "name": "stdout",
     "output_type": "stream",
     "text": [
      "No links found for this pair.\n",
      "\n",
      "--- Comparing 'claims' <=> 'procedures' ---\n"
     ]
    },
    {
     "name": "stderr",
     "output_type": "stream",
     "text": [
      "[*] claims <==> procedures Runs:1: 100%|██████████| 1/1 [00:07<00:00,  7.11s/it]\n"
     ]
    },
    {
     "name": "stdout",
     "output_type": "stream",
     "text": [
      "No links found for this pair.\n",
      "\n",
      "--- Comparing 'claims' <=> 'providers' ---\n"
     ]
    },
    {
     "name": "stderr",
     "output_type": "stream",
     "text": [
      "[*] claims <==> providers Runs:1: 100%|██████████| 1/1 [00:20<00:00, 20.37s/it]\n"
     ]
    },
    {
     "name": "stdout",
     "output_type": "stream",
     "text": [
      "No links found for this pair.\n",
      "\n",
      "--- Comparing 'claims' <=> 'supplies' ---\n"
     ]
    },
    {
     "name": "stderr",
     "output_type": "stream",
     "text": [
      "[*] claims <==> supplies Runs:1: 100%|██████████| 1/1 [00:02<00:00,  2.08s/it]\n"
     ]
    },
    {
     "name": "stdout",
     "output_type": "stream",
     "text": [
      "No links found for this pair.\n",
      "\n",
      "--- Comparing 'claims_transactions' <=> 'conditions' ---\n"
     ]
    },
    {
     "name": "stderr",
     "output_type": "stream",
     "text": [
      "[*] claims_transactions <==> conditions Runs:1: 100%|██████████| 1/1 [00:03<00:00,  3.36s/it]\n"
     ]
    },
    {
     "name": "stdout",
     "output_type": "stream",
     "text": [
      "No links found for this pair.\n",
      "\n",
      "--- Comparing 'claims_transactions' <=> 'devices' ---\n"
     ]
    },
    {
     "name": "stderr",
     "output_type": "stream",
     "text": [
      "[*] claims_transactions <==> devices Runs:1: 100%|██████████| 1/1 [00:23<00:00, 23.98s/it]\n"
     ]
    },
    {
     "name": "stdout",
     "output_type": "stream",
     "text": [
      "No links found for this pair.\n",
      "\n",
      "--- Comparing 'claims_transactions' <=> 'encounters' ---\n"
     ]
    },
    {
     "name": "stderr",
     "output_type": "stream",
     "text": [
      "[*] claims_transactions <==> encounters Runs:1: 100%|██████████| 1/1 [00:05<00:00,  5.20s/it]\n"
     ]
    },
    {
     "name": "stdout",
     "output_type": "stream",
     "text": [
      "No links found for this pair.\n",
      "\n",
      "--- Comparing 'claims_transactions' <=> 'imaging_studies' ---\n"
     ]
    },
    {
     "name": "stderr",
     "output_type": "stream",
     "text": [
      "[*] claims_transactions <==> imaging_studies Runs:1: 100%|██████████| 1/1 [00:04<00:00,  4.44s/it]\n"
     ]
    },
    {
     "name": "stdout",
     "output_type": "stream",
     "text": [
      "No links found for this pair.\n",
      "\n",
      "--- Comparing 'claims_transactions' <=> 'immunizations' ---\n"
     ]
    },
    {
     "name": "stderr",
     "output_type": "stream",
     "text": [
      "[*] claims_transactions <==> immunizations Runs:1: 100%|██████████| 1/1 [00:08<00:00,  8.93s/it]\n"
     ]
    },
    {
     "name": "stdout",
     "output_type": "stream",
     "text": [
      "No links found for this pair.\n",
      "\n",
      "--- Comparing 'claims_transactions' <=> 'medications' ---\n"
     ]
    },
    {
     "name": "stderr",
     "output_type": "stream",
     "text": [
      "[*] claims_transactions <==> medications Runs:1: 100%|██████████| 1/1 [00:02<00:00,  2.13s/it]\n"
     ]
    },
    {
     "name": "stdout",
     "output_type": "stream",
     "text": [
      "No links found for this pair.\n",
      "\n",
      "--- Comparing 'claims_transactions' <=> 'observations' ---\n"
     ]
    },
    {
     "name": "stderr",
     "output_type": "stream",
     "text": [
      "[*] claims_transactions <==> observations Runs:1: 100%|██████████| 1/1 [00:09<00:00,  9.27s/it]\n"
     ]
    },
    {
     "name": "stdout",
     "output_type": "stream",
     "text": [
      "No links found for this pair.\n",
      "\n",
      "--- Comparing 'claims_transactions' <=> 'organizations' ---\n"
     ]
    },
    {
     "name": "stderr",
     "output_type": "stream",
     "text": [
      "[*] claims_transactions <==> organizations Runs:1: 100%|██████████| 1/1 [00:02<00:00,  2.66s/it]\n"
     ]
    },
    {
     "name": "stdout",
     "output_type": "stream",
     "text": [
      "No links found for this pair.\n",
      "\n",
      "--- Comparing 'claims_transactions' <=> 'patients' ---\n"
     ]
    },
    {
     "name": "stderr",
     "output_type": "stream",
     "text": [
      "[*] claims_transactions <==> patients Runs:1: 100%|██████████| 1/1 [00:05<00:00,  5.49s/it]\n"
     ]
    },
    {
     "name": "stdout",
     "output_type": "stream",
     "text": [
      "Found 1 potential link(s).\n",
      "\n",
      "--- Comparing 'claims_transactions' <=> 'payers' ---\n"
     ]
    },
    {
     "name": "stderr",
     "output_type": "stream",
     "text": [
      "[*] claims_transactions <==> payers Runs:1: 100%|██████████| 1/1 [00:19<00:00, 19.63s/it]\n"
     ]
    },
    {
     "name": "stdout",
     "output_type": "stream",
     "text": [
      "No links found for this pair.\n",
      "\n",
      "--- Comparing 'claims_transactions' <=> 'payer_transitions' ---\n"
     ]
    },
    {
     "name": "stderr",
     "output_type": "stream",
     "text": [
      "[*] claims_transactions <==> payer_transitions Runs:1: 100%|██████████| 1/1 [00:02<00:00,  2.05s/it]\n"
     ]
    },
    {
     "name": "stdout",
     "output_type": "stream",
     "text": [
      "No links found for this pair.\n",
      "\n",
      "--- Comparing 'claims_transactions' <=> 'procedures' ---\n"
     ]
    },
    {
     "name": "stderr",
     "output_type": "stream",
     "text": [
      "[*] claims_transactions <==> procedures Runs:1: 100%|██████████| 1/1 [00:06<00:00,  6.10s/it]\n"
     ]
    },
    {
     "name": "stdout",
     "output_type": "stream",
     "text": [
      "No links found for this pair.\n",
      "\n",
      "--- Comparing 'claims_transactions' <=> 'providers' ---\n"
     ]
    },
    {
     "name": "stderr",
     "output_type": "stream",
     "text": [
      "[*] claims_transactions <==> providers Runs:1: 100%|██████████| 1/1 [00:05<00:00,  5.62s/it]\n"
     ]
    },
    {
     "name": "stdout",
     "output_type": "stream",
     "text": [
      "No links found for this pair.\n",
      "\n",
      "--- Comparing 'claims_transactions' <=> 'supplies' ---\n"
     ]
    },
    {
     "name": "stderr",
     "output_type": "stream",
     "text": [
      "[*] claims_transactions <==> supplies Runs:1: 100%|██████████| 1/1 [00:09<00:00,  9.43s/it]\n"
     ]
    },
    {
     "name": "stdout",
     "output_type": "stream",
     "text": [
      "No links found for this pair.\n",
      "\n",
      "--- Comparing 'conditions' <=> 'devices' ---\n"
     ]
    },
    {
     "name": "stderr",
     "output_type": "stream",
     "text": [
      "[*] conditions <==> devices Runs:1: 100%|██████████| 1/1 [00:02<00:00,  2.03s/it]\n"
     ]
    },
    {
     "name": "stdout",
     "output_type": "stream",
     "text": [
      "No links found for this pair.\n",
      "\n",
      "--- Comparing 'conditions' <=> 'encounters' ---\n"
     ]
    },
    {
     "name": "stderr",
     "output_type": "stream",
     "text": [
      "[*] conditions <==> encounters Runs:1: 100%|██████████| 1/1 [00:09<00:00,  9.04s/it]\n"
     ]
    },
    {
     "name": "stdout",
     "output_type": "stream",
     "text": [
      "No links found for this pair.\n",
      "\n",
      "--- Comparing 'conditions' <=> 'imaging_studies' ---\n"
     ]
    },
    {
     "name": "stderr",
     "output_type": "stream",
     "text": [
      "[*] conditions <==> imaging_studies Runs:1: 100%|██████████| 1/1 [00:01<00:00,  1.95s/it]\n"
     ]
    },
    {
     "name": "stdout",
     "output_type": "stream",
     "text": [
      "No links found for this pair.\n",
      "\n",
      "--- Comparing 'conditions' <=> 'immunizations' ---\n"
     ]
    },
    {
     "name": "stderr",
     "output_type": "stream",
     "text": [
      "[*] conditions <==> immunizations Runs:1: 100%|██████████| 1/1 [00:01<00:00,  1.84s/it]\n"
     ]
    },
    {
     "name": "stdout",
     "output_type": "stream",
     "text": [
      "No links found for this pair.\n",
      "\n",
      "--- Comparing 'conditions' <=> 'medications' ---\n"
     ]
    },
    {
     "name": "stderr",
     "output_type": "stream",
     "text": [
      "[*] conditions <==> medications Runs:1: 100%|██████████| 1/1 [00:03<00:00,  3.69s/it]\n"
     ]
    },
    {
     "name": "stdout",
     "output_type": "stream",
     "text": [
      "No links found for this pair.\n",
      "\n",
      "--- Comparing 'conditions' <=> 'observations' ---\n"
     ]
    },
    {
     "name": "stderr",
     "output_type": "stream",
     "text": [
      "[*] conditions <==> observations Runs:1: 100%|██████████| 1/1 [00:19<00:00, 19.24s/it]\n"
     ]
    },
    {
     "name": "stdout",
     "output_type": "stream",
     "text": [
      "No links found for this pair.\n",
      "\n",
      "--- Comparing 'conditions' <=> 'organizations' ---\n"
     ]
    },
    {
     "name": "stderr",
     "output_type": "stream",
     "text": [
      "[*] conditions <==> organizations Runs:1: 100%|██████████| 1/1 [00:01<00:00,  1.14s/it]\n"
     ]
    },
    {
     "name": "stdout",
     "output_type": "stream",
     "text": [
      "No links found for this pair.\n",
      "\n",
      "--- Comparing 'conditions' <=> 'patients' ---\n"
     ]
    },
    {
     "name": "stderr",
     "output_type": "stream",
     "text": [
      "[*] conditions <==> patients Runs:1: 100%|██████████| 1/1 [00:03<00:00,  3.73s/it]\n"
     ]
    },
    {
     "name": "stdout",
     "output_type": "stream",
     "text": [
      "Found 1 potential link(s).\n",
      "\n",
      "--- Comparing 'conditions' <=> 'payers' ---\n"
     ]
    },
    {
     "name": "stderr",
     "output_type": "stream",
     "text": [
      "[*] conditions <==> payers Runs:1: 100%|██████████| 1/1 [00:01<00:00,  1.15s/it]\n"
     ]
    },
    {
     "name": "stdout",
     "output_type": "stream",
     "text": [
      "No links found for this pair.\n",
      "\n",
      "--- Comparing 'conditions' <=> 'payer_transitions' ---\n"
     ]
    },
    {
     "name": "stderr",
     "output_type": "stream",
     "text": [
      "[*] conditions <==> payer_transitions Runs:1: 100%|██████████| 1/1 [00:01<00:00,  1.47s/it]\n"
     ]
    },
    {
     "name": "stdout",
     "output_type": "stream",
     "text": [
      "No links found for this pair.\n",
      "\n",
      "--- Comparing 'conditions' <=> 'procedures' ---\n"
     ]
    },
    {
     "name": "stderr",
     "output_type": "stream",
     "text": [
      "[*] conditions <==> procedures Runs:1: 100%|██████████| 1/1 [00:02<00:00,  2.93s/it]\n"
     ]
    },
    {
     "name": "stdout",
     "output_type": "stream",
     "text": [
      "No links found for this pair.\n",
      "\n",
      "--- Comparing 'conditions' <=> 'providers' ---\n"
     ]
    },
    {
     "name": "stderr",
     "output_type": "stream",
     "text": [
      "[*] conditions <==> providers Runs:1: 100%|██████████| 1/1 [00:01<00:00,  1.00s/it]\n"
     ]
    },
    {
     "name": "stdout",
     "output_type": "stream",
     "text": [
      "No links found for this pair.\n",
      "\n",
      "--- Comparing 'conditions' <=> 'supplies' ---\n"
     ]
    },
    {
     "name": "stderr",
     "output_type": "stream",
     "text": [
      "[*] conditions <==> supplies Runs:1: 100%|██████████| 1/1 [00:01<00:00,  1.85s/it]\n"
     ]
    },
    {
     "name": "stdout",
     "output_type": "stream",
     "text": [
      "No links found for this pair.\n",
      "\n",
      "--- Comparing 'devices' <=> 'encounters' ---\n"
     ]
    },
    {
     "name": "stderr",
     "output_type": "stream",
     "text": [
      "[*] devices <==> encounters Runs:1: 100%|██████████| 1/1 [00:12<00:00, 12.10s/it]\n"
     ]
    },
    {
     "name": "stdout",
     "output_type": "stream",
     "text": [
      "No links found for this pair.\n",
      "\n",
      "--- Comparing 'devices' <=> 'imaging_studies' ---\n"
     ]
    },
    {
     "name": "stderr",
     "output_type": "stream",
     "text": [
      "[*] devices <==> imaging_studies Runs:1: 100%|██████████| 1/1 [00:03<00:00,  3.19s/it]\n"
     ]
    },
    {
     "name": "stdout",
     "output_type": "stream",
     "text": [
      "No links found for this pair.\n",
      "\n",
      "--- Comparing 'devices' <=> 'immunizations' ---\n"
     ]
    },
    {
     "name": "stderr",
     "output_type": "stream",
     "text": [
      "[*] devices <==> immunizations Runs:1: 100%|██████████| 1/1 [00:02<00:00,  2.14s/it]\n"
     ]
    },
    {
     "name": "stdout",
     "output_type": "stream",
     "text": [
      "No links found for this pair.\n",
      "\n",
      "--- Comparing 'devices' <=> 'medications' ---\n"
     ]
    },
    {
     "name": "stderr",
     "output_type": "stream",
     "text": [
      "[*] devices <==> medications Runs:1: 100%|██████████| 1/1 [00:01<00:00,  1.79s/it]\n"
     ]
    },
    {
     "name": "stdout",
     "output_type": "stream",
     "text": [
      "No links found for this pair.\n",
      "\n",
      "--- Comparing 'devices' <=> 'observations' ---\n"
     ]
    },
    {
     "name": "stderr",
     "output_type": "stream",
     "text": [
      "[*] devices <==> observations Runs:1: 100%|██████████| 1/1 [00:06<00:00,  6.45s/it]\n"
     ]
    },
    {
     "name": "stdout",
     "output_type": "stream",
     "text": [
      "No links found for this pair.\n",
      "\n",
      "--- Comparing 'devices' <=> 'organizations' ---\n"
     ]
    },
    {
     "name": "stderr",
     "output_type": "stream",
     "text": [
      "[*] devices <==> organizations Runs:1: 100%|██████████| 1/1 [00:01<00:00,  1.11s/it]\n"
     ]
    },
    {
     "name": "stdout",
     "output_type": "stream",
     "text": [
      "No links found for this pair.\n",
      "\n",
      "--- Comparing 'devices' <=> 'patients' ---\n"
     ]
    },
    {
     "name": "stderr",
     "output_type": "stream",
     "text": [
      "[*] devices <==> patients Runs:1: 100%|██████████| 1/1 [00:24<00:00, 24.55s/it]\n"
     ]
    },
    {
     "name": "stdout",
     "output_type": "stream",
     "text": [
      "Found 1 potential link(s).\n",
      "\n",
      "--- Comparing 'devices' <=> 'payers' ---\n"
     ]
    },
    {
     "name": "stderr",
     "output_type": "stream",
     "text": [
      "[*] devices <==> payers Runs:1: 100%|██████████| 1/1 [00:01<00:00,  1.02s/it]\n"
     ]
    },
    {
     "name": "stdout",
     "output_type": "stream",
     "text": [
      "No links found for this pair.\n",
      "\n",
      "--- Comparing 'devices' <=> 'payer_transitions' ---\n"
     ]
    },
    {
     "name": "stderr",
     "output_type": "stream",
     "text": [
      "[*] devices <==> payer_transitions Runs:1: 100%|██████████| 1/1 [00:01<00:00,  1.95s/it]\n"
     ]
    },
    {
     "name": "stdout",
     "output_type": "stream",
     "text": [
      "No links found for this pair.\n",
      "\n",
      "--- Comparing 'devices' <=> 'procedures' ---\n"
     ]
    },
    {
     "name": "stderr",
     "output_type": "stream",
     "text": [
      "[*] devices <==> procedures Runs:1: 100%|██████████| 1/1 [00:01<00:00,  1.70s/it]\n"
     ]
    },
    {
     "name": "stdout",
     "output_type": "stream",
     "text": [
      "No links found for this pair.\n",
      "\n",
      "--- Comparing 'devices' <=> 'providers' ---\n"
     ]
    },
    {
     "name": "stderr",
     "output_type": "stream",
     "text": [
      "[*] devices <==> providers Runs:1: 100%|██████████| 1/1 [00:01<00:00,  1.47s/it]\n"
     ]
    },
    {
     "name": "stdout",
     "output_type": "stream",
     "text": [
      "No links found for this pair.\n",
      "\n",
      "--- Comparing 'devices' <=> 'supplies' ---\n"
     ]
    },
    {
     "name": "stderr",
     "output_type": "stream",
     "text": [
      "[*] devices <==> supplies Runs:1: 100%|██████████| 1/1 [00:01<00:00,  1.48s/it]\n"
     ]
    },
    {
     "name": "stdout",
     "output_type": "stream",
     "text": [
      "No links found for this pair.\n",
      "\n",
      "--- Comparing 'encounters' <=> 'imaging_studies' ---\n"
     ]
    },
    {
     "name": "stderr",
     "output_type": "stream",
     "text": [
      "[*] encounters <==> imaging_studies Runs:1: 100%|██████████| 1/1 [00:07<00:00,  7.63s/it]\n"
     ]
    },
    {
     "name": "stdout",
     "output_type": "stream",
     "text": [
      "No links found for this pair.\n",
      "\n",
      "--- Comparing 'encounters' <=> 'immunizations' ---\n"
     ]
    },
    {
     "name": "stderr",
     "output_type": "stream",
     "text": [
      "[*] encounters <==> immunizations Runs:1: 100%|██████████| 1/1 [00:07<00:00,  7.75s/it]\n"
     ]
    },
    {
     "name": "stdout",
     "output_type": "stream",
     "text": [
      "No links found for this pair.\n",
      "\n",
      "--- Comparing 'encounters' <=> 'medications' ---\n"
     ]
    },
    {
     "name": "stderr",
     "output_type": "stream",
     "text": [
      "[*] encounters <==> medications Runs:1: 100%|██████████| 1/1 [00:12<00:00, 12.94s/it]\n"
     ]
    },
    {
     "name": "stdout",
     "output_type": "stream",
     "text": [
      "No links found for this pair.\n",
      "\n",
      "--- Comparing 'encounters' <=> 'observations' ---\n"
     ]
    },
    {
     "name": "stderr",
     "output_type": "stream",
     "text": [
      "[*] encounters <==> observations Runs:1: 100%|██████████| 1/1 [00:06<00:00,  6.25s/it]\n"
     ]
    },
    {
     "name": "stdout",
     "output_type": "stream",
     "text": [
      "Found 1 potential link(s).\n",
      "\n",
      "--- Comparing 'encounters' <=> 'organizations' ---\n"
     ]
    },
    {
     "name": "stderr",
     "output_type": "stream",
     "text": [
      "[*] encounters <==> organizations Runs:1: 100%|██████████| 1/1 [00:10<00:00, 10.28s/it]\n"
     ]
    },
    {
     "name": "stdout",
     "output_type": "stream",
     "text": [
      "Found 1 potential link(s).\n",
      "\n",
      "--- Comparing 'encounters' <=> 'patients' ---\n"
     ]
    },
    {
     "name": "stderr",
     "output_type": "stream",
     "text": [
      "[*] encounters <==> patients Runs:1: 100%|██████████| 1/1 [00:06<00:00,  6.73s/it]\n"
     ]
    },
    {
     "name": "stdout",
     "output_type": "stream",
     "text": [
      "Found 1 potential link(s).\n",
      "\n",
      "--- Comparing 'encounters' <=> 'payers' ---\n"
     ]
    },
    {
     "name": "stderr",
     "output_type": "stream",
     "text": [
      "[*] encounters <==> payers Runs:1: 100%|██████████| 1/1 [00:07<00:00,  7.25s/it]\n"
     ]
    },
    {
     "name": "stdout",
     "output_type": "stream",
     "text": [
      "Found 1 potential link(s).\n",
      "\n",
      "--- Comparing 'encounters' <=> 'payer_transitions' ---\n"
     ]
    },
    {
     "name": "stderr",
     "output_type": "stream",
     "text": [
      "[*] encounters <==> payer_transitions Runs:1: 100%|██████████| 1/1 [00:01<00:00,  1.71s/it]\n"
     ]
    },
    {
     "name": "stdout",
     "output_type": "stream",
     "text": [
      "No links found for this pair.\n",
      "\n",
      "--- Comparing 'encounters' <=> 'procedures' ---\n"
     ]
    },
    {
     "name": "stderr",
     "output_type": "stream",
     "text": [
      "[*] encounters <==> procedures Runs:1: 100%|██████████| 1/1 [00:04<00:00,  4.51s/it]\n"
     ]
    },
    {
     "name": "stdout",
     "output_type": "stream",
     "text": [
      "Found 1 potential link(s).\n",
      "\n",
      "--- Comparing 'encounters' <=> 'providers' ---\n"
     ]
    },
    {
     "name": "stderr",
     "output_type": "stream",
     "text": [
      "[*] encounters <==> providers Runs:1: 100%|██████████| 1/1 [00:07<00:00,  7.17s/it]\n"
     ]
    },
    {
     "name": "stdout",
     "output_type": "stream",
     "text": [
      "No links found for this pair.\n",
      "\n",
      "--- Comparing 'encounters' <=> 'supplies' ---\n"
     ]
    },
    {
     "name": "stderr",
     "output_type": "stream",
     "text": [
      "[*] encounters <==> supplies Runs:1: 100%|██████████| 1/1 [00:03<00:00,  3.48s/it]\n"
     ]
    },
    {
     "name": "stdout",
     "output_type": "stream",
     "text": [
      "No links found for this pair.\n",
      "\n",
      "--- Comparing 'imaging_studies' <=> 'immunizations' ---\n"
     ]
    },
    {
     "name": "stderr",
     "output_type": "stream",
     "text": [
      "[*] imaging_studies <==> immunizations Runs:1: 100%|██████████| 1/1 [00:02<00:00,  2.12s/it]\n"
     ]
    },
    {
     "name": "stdout",
     "output_type": "stream",
     "text": [
      "No links found for this pair.\n",
      "\n",
      "--- Comparing 'imaging_studies' <=> 'medications' ---\n"
     ]
    },
    {
     "name": "stderr",
     "output_type": "stream",
     "text": [
      "[*] imaging_studies <==> medications Runs:1: 100%|██████████| 1/1 [00:02<00:00,  2.03s/it]\n"
     ]
    },
    {
     "name": "stdout",
     "output_type": "stream",
     "text": [
      "No links found for this pair.\n",
      "\n",
      "--- Comparing 'imaging_studies' <=> 'observations' ---\n"
     ]
    },
    {
     "name": "stderr",
     "output_type": "stream",
     "text": [
      "[*] imaging_studies <==> observations Runs:1: 100%|██████████| 1/1 [00:04<00:00,  4.02s/it]\n"
     ]
    },
    {
     "name": "stdout",
     "output_type": "stream",
     "text": [
      "No links found for this pair.\n",
      "\n",
      "--- Comparing 'imaging_studies' <=> 'organizations' ---\n"
     ]
    },
    {
     "name": "stderr",
     "output_type": "stream",
     "text": [
      "[*] imaging_studies <==> organizations Runs:1: 100%|██████████| 1/1 [00:03<00:00,  3.06s/it]\n"
     ]
    },
    {
     "name": "stdout",
     "output_type": "stream",
     "text": [
      "No links found for this pair.\n",
      "\n",
      "--- Comparing 'imaging_studies' <=> 'patients' ---\n"
     ]
    },
    {
     "name": "stderr",
     "output_type": "stream",
     "text": [
      "[*] imaging_studies <==> patients Runs:1: 100%|██████████| 1/1 [00:03<00:00,  3.32s/it]\n"
     ]
    },
    {
     "name": "stdout",
     "output_type": "stream",
     "text": [
      "Found 1 potential link(s).\n",
      "\n",
      "--- Comparing 'imaging_studies' <=> 'payers' ---\n"
     ]
    },
    {
     "name": "stderr",
     "output_type": "stream",
     "text": [
      "[*] imaging_studies <==> payers Runs:1: 100%|██████████| 1/1 [00:09<00:00,  9.22s/it]\n"
     ]
    },
    {
     "name": "stdout",
     "output_type": "stream",
     "text": [
      "No links found for this pair.\n",
      "\n",
      "--- Comparing 'imaging_studies' <=> 'payer_transitions' ---\n"
     ]
    },
    {
     "name": "stderr",
     "output_type": "stream",
     "text": [
      "[*] imaging_studies <==> payer_transitions Runs:1: 100%|██████████| 1/1 [00:04<00:00,  4.97s/it]\n"
     ]
    },
    {
     "name": "stdout",
     "output_type": "stream",
     "text": [
      "No links found for this pair.\n",
      "\n",
      "--- Comparing 'imaging_studies' <=> 'procedures' ---\n"
     ]
    },
    {
     "name": "stderr",
     "output_type": "stream",
     "text": [
      "[*] imaging_studies <==> procedures Runs:1: 100%|██████████| 1/1 [00:14<00:00, 14.98s/it]\n"
     ]
    },
    {
     "name": "stdout",
     "output_type": "stream",
     "text": [
      "No links found for this pair.\n",
      "\n",
      "--- Comparing 'imaging_studies' <=> 'providers' ---\n"
     ]
    },
    {
     "name": "stderr",
     "output_type": "stream",
     "text": [
      "[*] imaging_studies <==> providers Runs:1: 100%|██████████| 1/1 [00:01<00:00,  1.02s/it]\n"
     ]
    },
    {
     "name": "stdout",
     "output_type": "stream",
     "text": [
      "No links found for this pair.\n",
      "\n",
      "--- Comparing 'imaging_studies' <=> 'supplies' ---\n"
     ]
    },
    {
     "name": "stderr",
     "output_type": "stream",
     "text": [
      "[*] imaging_studies <==> supplies Runs:1: 100%|██████████| 1/1 [00:04<00:00,  5.00s/it]\n"
     ]
    },
    {
     "name": "stdout",
     "output_type": "stream",
     "text": [
      "No links found for this pair.\n",
      "\n",
      "--- Comparing 'immunizations' <=> 'medications' ---\n"
     ]
    },
    {
     "name": "stderr",
     "output_type": "stream",
     "text": [
      "[*] immunizations <==> medications Runs:1: 100%|██████████| 1/1 [00:07<00:00,  7.27s/it]\n"
     ]
    },
    {
     "name": "stdout",
     "output_type": "stream",
     "text": [
      "No links found for this pair.\n",
      "\n",
      "--- Comparing 'immunizations' <=> 'observations' ---\n"
     ]
    },
    {
     "name": "stderr",
     "output_type": "stream",
     "text": [
      "[*] immunizations <==> observations Runs:1: 100%|██████████| 1/1 [00:02<00:00,  2.26s/it]\n"
     ]
    },
    {
     "name": "stdout",
     "output_type": "stream",
     "text": [
      "No links found for this pair.\n",
      "\n",
      "--- Comparing 'immunizations' <=> 'organizations' ---\n"
     ]
    },
    {
     "name": "stderr",
     "output_type": "stream",
     "text": [
      "[*] immunizations <==> organizations Runs:1: 100%|██████████| 1/1 [00:01<00:00,  1.31s/it]\n"
     ]
    },
    {
     "name": "stdout",
     "output_type": "stream",
     "text": [
      "No links found for this pair.\n",
      "\n",
      "--- Comparing 'immunizations' <=> 'patients' ---\n"
     ]
    },
    {
     "name": "stderr",
     "output_type": "stream",
     "text": [
      "[*] immunizations <==> patients Runs:1: 100%|██████████| 1/1 [00:02<00:00,  2.08s/it]\n"
     ]
    },
    {
     "name": "stdout",
     "output_type": "stream",
     "text": [
      "Found 1 potential link(s).\n",
      "\n",
      "--- Comparing 'immunizations' <=> 'payers' ---\n"
     ]
    },
    {
     "name": "stderr",
     "output_type": "stream",
     "text": [
      "[*] immunizations <==> payers Runs:1: 100%|██████████| 1/1 [00:00<00:00,  1.03it/s]\n"
     ]
    },
    {
     "name": "stdout",
     "output_type": "stream",
     "text": [
      "No links found for this pair.\n",
      "\n",
      "--- Comparing 'immunizations' <=> 'payer_transitions' ---\n"
     ]
    },
    {
     "name": "stderr",
     "output_type": "stream",
     "text": [
      "[*] immunizations <==> payer_transitions Runs:1: 100%|██████████| 1/1 [00:02<00:00,  2.41s/it]\n"
     ]
    },
    {
     "name": "stdout",
     "output_type": "stream",
     "text": [
      "No links found for this pair.\n",
      "\n",
      "--- Comparing 'immunizations' <=> 'procedures' ---\n"
     ]
    },
    {
     "name": "stderr",
     "output_type": "stream",
     "text": [
      "[*] immunizations <==> procedures Runs:1: 100%|██████████| 1/1 [00:02<00:00,  2.22s/it]\n"
     ]
    },
    {
     "name": "stdout",
     "output_type": "stream",
     "text": [
      "No links found for this pair.\n",
      "\n",
      "--- Comparing 'immunizations' <=> 'providers' ---\n"
     ]
    },
    {
     "name": "stderr",
     "output_type": "stream",
     "text": [
      "[*] immunizations <==> providers Runs:1: 100%|██████████| 1/1 [00:01<00:00,  1.09s/it]\n"
     ]
    },
    {
     "name": "stdout",
     "output_type": "stream",
     "text": [
      "No links found for this pair.\n",
      "\n",
      "--- Comparing 'immunizations' <=> 'supplies' ---\n"
     ]
    },
    {
     "name": "stderr",
     "output_type": "stream",
     "text": [
      "[*] immunizations <==> supplies Runs:1: 100%|██████████| 1/1 [00:01<00:00,  1.75s/it]\n"
     ]
    },
    {
     "name": "stdout",
     "output_type": "stream",
     "text": [
      "No links found for this pair.\n",
      "\n",
      "--- Comparing 'medications' <=> 'observations' ---\n"
     ]
    },
    {
     "name": "stderr",
     "output_type": "stream",
     "text": [
      "[*] medications <==> observations Runs:1: 100%|██████████| 1/1 [00:02<00:00,  2.04s/it]\n"
     ]
    },
    {
     "name": "stdout",
     "output_type": "stream",
     "text": [
      "No links found for this pair.\n",
      "\n",
      "--- Comparing 'medications' <=> 'organizations' ---\n"
     ]
    },
    {
     "name": "stderr",
     "output_type": "stream",
     "text": [
      "[*] medications <==> organizations Runs:1: 100%|██████████| 1/1 [00:09<00:00,  9.16s/it]\n"
     ]
    },
    {
     "name": "stdout",
     "output_type": "stream",
     "text": [
      "No links found for this pair.\n",
      "\n",
      "--- Comparing 'medications' <=> 'patients' ---\n"
     ]
    },
    {
     "name": "stderr",
     "output_type": "stream",
     "text": [
      "[*] medications <==> patients Runs:1: 100%|██████████| 1/1 [00:02<00:00,  2.39s/it]\n"
     ]
    },
    {
     "name": "stdout",
     "output_type": "stream",
     "text": [
      "Found 1 potential link(s).\n",
      "\n",
      "--- Comparing 'medications' <=> 'payers' ---\n"
     ]
    },
    {
     "name": "stderr",
     "output_type": "stream",
     "text": [
      "[*] medications <==> payers Runs:1: 100%|██████████| 1/1 [00:04<00:00,  4.34s/it]\n"
     ]
    },
    {
     "name": "stdout",
     "output_type": "stream",
     "text": [
      "Found 1 potential link(s).\n",
      "\n",
      "--- Comparing 'medications' <=> 'payer_transitions' ---\n"
     ]
    },
    {
     "name": "stderr",
     "output_type": "stream",
     "text": [
      "[*] medications <==> payer_transitions Runs:1: 100%|██████████| 1/1 [00:14<00:00, 14.03s/it]\n"
     ]
    },
    {
     "name": "stdout",
     "output_type": "stream",
     "text": [
      "No links found for this pair.\n",
      "\n",
      "--- Comparing 'medications' <=> 'procedures' ---\n"
     ]
    },
    {
     "name": "stderr",
     "output_type": "stream",
     "text": [
      "[*] medications <==> procedures Runs:1: 100%|██████████| 1/1 [00:01<00:00,  1.92s/it]\n"
     ]
    },
    {
     "name": "stdout",
     "output_type": "stream",
     "text": [
      "No links found for this pair.\n",
      "\n",
      "--- Comparing 'medications' <=> 'providers' ---\n"
     ]
    },
    {
     "name": "stderr",
     "output_type": "stream",
     "text": [
      "[*] medications <==> providers Runs:1: 100%|██████████| 1/1 [00:07<00:00,  7.68s/it]\n"
     ]
    },
    {
     "name": "stdout",
     "output_type": "stream",
     "text": [
      "No links found for this pair.\n",
      "\n",
      "--- Comparing 'medications' <=> 'supplies' ---\n"
     ]
    },
    {
     "name": "stderr",
     "output_type": "stream",
     "text": [
      "[*] medications <==> supplies Runs:1: 100%|██████████| 1/1 [00:04<00:00,  4.65s/it]\n"
     ]
    },
    {
     "name": "stdout",
     "output_type": "stream",
     "text": [
      "No links found for this pair.\n",
      "\n",
      "--- Comparing 'observations' <=> 'organizations' ---\n"
     ]
    },
    {
     "name": "stderr",
     "output_type": "stream",
     "text": [
      "[*] observations <==> organizations Runs:1: 100%|██████████| 1/1 [00:02<00:00,  2.23s/it]\n"
     ]
    },
    {
     "name": "stdout",
     "output_type": "stream",
     "text": [
      "No links found for this pair.\n",
      "\n",
      "--- Comparing 'observations' <=> 'patients' ---\n"
     ]
    },
    {
     "name": "stderr",
     "output_type": "stream",
     "text": [
      "[*] observations <==> patients Runs:1: 100%|██████████| 1/1 [00:01<00:00,  1.81s/it]\n"
     ]
    },
    {
     "name": "stdout",
     "output_type": "stream",
     "text": [
      "Found 1 potential link(s).\n",
      "\n",
      "--- Comparing 'observations' <=> 'payers' ---\n"
     ]
    },
    {
     "name": "stderr",
     "output_type": "stream",
     "text": [
      "[*] observations <==> payers Runs:1: 100%|██████████| 1/1 [00:00<00:00,  1.11it/s]\n"
     ]
    },
    {
     "name": "stdout",
     "output_type": "stream",
     "text": [
      "No links found for this pair.\n",
      "\n",
      "--- Comparing 'observations' <=> 'payer_transitions' ---\n"
     ]
    },
    {
     "name": "stderr",
     "output_type": "stream",
     "text": [
      "[*] observations <==> payer_transitions Runs:1: 100%|██████████| 1/1 [00:02<00:00,  2.29s/it]\n"
     ]
    },
    {
     "name": "stdout",
     "output_type": "stream",
     "text": [
      "No links found for this pair.\n",
      "\n",
      "--- Comparing 'observations' <=> 'procedures' ---\n"
     ]
    },
    {
     "name": "stderr",
     "output_type": "stream",
     "text": [
      "[*] observations <==> procedures Runs:1: 100%|██████████| 1/1 [00:02<00:00,  2.05s/it]\n"
     ]
    },
    {
     "name": "stdout",
     "output_type": "stream",
     "text": [
      "No links found for this pair.\n",
      "\n",
      "--- Comparing 'observations' <=> 'providers' ---\n"
     ]
    },
    {
     "name": "stderr",
     "output_type": "stream",
     "text": [
      "[*] observations <==> providers Runs:1: 100%|██████████| 1/1 [00:01<00:00,  1.93s/it]\n"
     ]
    },
    {
     "name": "stdout",
     "output_type": "stream",
     "text": [
      "No links found for this pair.\n",
      "\n",
      "--- Comparing 'observations' <=> 'supplies' ---\n"
     ]
    },
    {
     "name": "stderr",
     "output_type": "stream",
     "text": [
      "[*] observations <==> supplies Runs:1: 100%|██████████| 1/1 [00:02<00:00,  2.84s/it]\n"
     ]
    },
    {
     "name": "stdout",
     "output_type": "stream",
     "text": [
      "No links found for this pair.\n",
      "\n",
      "--- Comparing 'organizations' <=> 'patients' ---\n"
     ]
    },
    {
     "name": "stderr",
     "output_type": "stream",
     "text": [
      "[*] organizations <==> patients Runs:1: 100%|██████████| 1/1 [00:00<00:00,  1.05it/s]\n"
     ]
    },
    {
     "name": "stdout",
     "output_type": "stream",
     "text": [
      "No links found for this pair.\n",
      "\n",
      "--- Comparing 'organizations' <=> 'payers' ---\n"
     ]
    },
    {
     "name": "stderr",
     "output_type": "stream",
     "text": [
      "[*] organizations <==> payers Runs:1: 100%|██████████| 1/1 [00:00<00:00,  1.03it/s]\n"
     ]
    },
    {
     "name": "stdout",
     "output_type": "stream",
     "text": [
      "No links found for this pair.\n",
      "\n",
      "--- Comparing 'organizations' <=> 'payer_transitions' ---\n"
     ]
    },
    {
     "name": "stderr",
     "output_type": "stream",
     "text": [
      "[*] organizations <==> payer_transitions Runs:1: 100%|██████████| 1/1 [00:11<00:00, 11.90s/it]\n"
     ]
    },
    {
     "name": "stdout",
     "output_type": "stream",
     "text": [
      "No links found for this pair.\n",
      "\n",
      "--- Comparing 'organizations' <=> 'procedures' ---\n"
     ]
    },
    {
     "name": "stderr",
     "output_type": "stream",
     "text": [
      "[*] organizations <==> procedures Runs:1: 100%|██████████| 1/1 [00:05<00:00,  5.81s/it]\n"
     ]
    },
    {
     "name": "stdout",
     "output_type": "stream",
     "text": [
      "No links found for this pair.\n",
      "\n",
      "--- Comparing 'organizations' <=> 'providers' ---\n"
     ]
    },
    {
     "name": "stderr",
     "output_type": "stream",
     "text": [
      "[*] organizations <==> providers Runs:1: 100%|██████████| 1/1 [00:03<00:00,  3.70s/it]\n"
     ]
    },
    {
     "name": "stdout",
     "output_type": "stream",
     "text": [
      "Found 1 potential link(s).\n",
      "\n",
      "--- Comparing 'organizations' <=> 'supplies' ---\n"
     ]
    },
    {
     "name": "stderr",
     "output_type": "stream",
     "text": [
      "[*] organizations <==> supplies Runs:1: 100%|██████████| 1/1 [00:07<00:00,  7.69s/it]\n"
     ]
    },
    {
     "name": "stdout",
     "output_type": "stream",
     "text": [
      "No links found for this pair.\n",
      "\n",
      "--- Comparing 'patients' <=> 'payers' ---\n"
     ]
    },
    {
     "name": "stderr",
     "output_type": "stream",
     "text": [
      "[*] patients <==> payers Runs:1: 100%|██████████| 1/1 [00:01<00:00,  1.33s/it]\n"
     ]
    },
    {
     "name": "stdout",
     "output_type": "stream",
     "text": [
      "No links found for this pair.\n",
      "\n",
      "--- Comparing 'patients' <=> 'payer_transitions' ---\n"
     ]
    },
    {
     "name": "stderr",
     "output_type": "stream",
     "text": [
      "[*] patients <==> payer_transitions Runs:1: 100%|██████████| 1/1 [00:02<00:00,  2.64s/it]\n"
     ]
    },
    {
     "name": "stdout",
     "output_type": "stream",
     "text": [
      "Found 1 potential link(s).\n",
      "\n",
      "--- Comparing 'patients' <=> 'procedures' ---\n"
     ]
    },
    {
     "name": "stderr",
     "output_type": "stream",
     "text": [
      "[*] patients <==> procedures Runs:1: 100%|██████████| 1/1 [00:02<00:00,  2.27s/it]\n"
     ]
    },
    {
     "name": "stdout",
     "output_type": "stream",
     "text": [
      "Found 1 potential link(s).\n",
      "\n",
      "--- Comparing 'patients' <=> 'providers' ---\n"
     ]
    },
    {
     "name": "stderr",
     "output_type": "stream",
     "text": [
      "[*] patients <==> providers Runs:1: 100%|██████████| 1/1 [00:07<00:00,  7.52s/it]\n"
     ]
    },
    {
     "name": "stdout",
     "output_type": "stream",
     "text": [
      "No links found for this pair.\n",
      "\n",
      "--- Comparing 'patients' <=> 'supplies' ---\n"
     ]
    },
    {
     "name": "stderr",
     "output_type": "stream",
     "text": [
      "[*] patients <==> supplies Runs:1: 100%|██████████| 1/1 [00:02<00:00,  2.95s/it]\n"
     ]
    },
    {
     "name": "stdout",
     "output_type": "stream",
     "text": [
      "Found 1 potential link(s).\n",
      "\n",
      "--- Comparing 'payers' <=> 'payer_transitions' ---\n"
     ]
    },
    {
     "name": "stderr",
     "output_type": "stream",
     "text": [
      "[*] payers <==> payer_transitions Runs:1: 100%|██████████| 1/1 [00:01<00:00,  1.88s/it]\n"
     ]
    },
    {
     "name": "stdout",
     "output_type": "stream",
     "text": [
      "Found 1 potential link(s).\n",
      "\n",
      "--- Comparing 'payers' <=> 'procedures' ---\n"
     ]
    },
    {
     "name": "stderr",
     "output_type": "stream",
     "text": [
      "[*] payers <==> procedures Runs:1: 100%|██████████| 1/1 [00:00<00:00,  1.08it/s]\n"
     ]
    },
    {
     "name": "stdout",
     "output_type": "stream",
     "text": [
      "No links found for this pair.\n",
      "\n",
      "--- Comparing 'payers' <=> 'providers' ---\n"
     ]
    },
    {
     "name": "stderr",
     "output_type": "stream",
     "text": [
      "[*] payers <==> providers Runs:1: 100%|██████████| 1/1 [00:00<00:00,  1.15it/s]\n"
     ]
    },
    {
     "name": "stdout",
     "output_type": "stream",
     "text": [
      "No links found for this pair.\n",
      "\n",
      "--- Comparing 'payers' <=> 'supplies' ---\n"
     ]
    },
    {
     "name": "stderr",
     "output_type": "stream",
     "text": [
      "[*] payers <==> supplies Runs:1: 100%|██████████| 1/1 [00:00<00:00,  1.09it/s]\n"
     ]
    },
    {
     "name": "stdout",
     "output_type": "stream",
     "text": [
      "No links found for this pair.\n",
      "\n",
      "--- Comparing 'payer_transitions' <=> 'procedures' ---\n"
     ]
    },
    {
     "name": "stderr",
     "output_type": "stream",
     "text": [
      "[*] payer_transitions <==> procedures Runs:1: 100%|██████████| 1/1 [00:01<00:00,  1.84s/it]\n"
     ]
    },
    {
     "name": "stdout",
     "output_type": "stream",
     "text": [
      "No links found for this pair.\n",
      "\n",
      "--- Comparing 'payer_transitions' <=> 'providers' ---\n"
     ]
    },
    {
     "name": "stderr",
     "output_type": "stream",
     "text": [
      "[*] payer_transitions <==> providers Runs:1: 100%|██████████| 1/1 [00:00<00:00,  1.09it/s]\n"
     ]
    },
    {
     "name": "stdout",
     "output_type": "stream",
     "text": [
      "No links found for this pair.\n",
      "\n",
      "--- Comparing 'payer_transitions' <=> 'supplies' ---\n"
     ]
    },
    {
     "name": "stderr",
     "output_type": "stream",
     "text": [
      "[*] payer_transitions <==> supplies Runs:1: 100%|██████████| 1/1 [00:01<00:00,  1.61s/it]\n"
     ]
    },
    {
     "name": "stdout",
     "output_type": "stream",
     "text": [
      "No links found for this pair.\n",
      "\n",
      "--- Comparing 'procedures' <=> 'providers' ---\n"
     ]
    },
    {
     "name": "stderr",
     "output_type": "stream",
     "text": [
      "[*] procedures <==> providers Runs:1: 100%|██████████| 1/1 [00:02<00:00,  2.94s/it]\n"
     ]
    },
    {
     "name": "stdout",
     "output_type": "stream",
     "text": [
      "No links found for this pair.\n",
      "\n",
      "--- Comparing 'procedures' <=> 'supplies' ---\n"
     ]
    },
    {
     "name": "stderr",
     "output_type": "stream",
     "text": [
      "[*] procedures <==> supplies Runs:1: 100%|██████████| 1/1 [00:02<00:00,  2.07s/it]\n"
     ]
    },
    {
     "name": "stdout",
     "output_type": "stream",
     "text": [
      "No links found for this pair.\n",
      "\n",
      "--- Comparing 'providers' <=> 'supplies' ---\n"
     ]
    },
    {
     "name": "stderr",
     "output_type": "stream",
     "text": [
      "[*] providers <==> supplies Runs:1: 100%|██████████| 1/1 [00:07<00:00,  7.35s/it]"
     ]
    },
    {
     "name": "stdout",
     "output_type": "stream",
     "text": [
      "No links found for this pair.\n"
     ]
    },
    {
     "name": "stderr",
     "output_type": "stream",
     "text": [
      "\n"
     ]
    },
    {
     "data": {
      "text/html": [
       "<pre style=\"white-space:pre;overflow-x:auto;line-height:normal;font-family:Menlo,'DejaVu Sans Mono',consolas,'Courier New',monospace\"><span style=\"color: #008000; text-decoration-color: #008000; font-weight: bold\">Link prediction complete.</span>\n",
       "</pre>\n"
      ],
      "text/plain": [
       "\u001b[1;32mLink prediction complete.\u001b[0m\n"
      ]
     },
     "metadata": {},
     "output_type": "display_data"
    },
    {
     "data": {
      "text/html": [
       "<pre style=\"white-space:pre;overflow-x:auto;line-height:normal;font-family:Menlo,'DejaVu Sans Mono',consolas,'Courier New',monospace\"><span style=\"color: #808000; text-decoration-color: #808000\">Starting business glossary generation stage...</span>\n",
       "</pre>\n"
      ],
      "text/plain": [
       "\u001b[33mStarting business glossary generation stage\u001b[0m\u001b[33m...\u001b[0m\n"
      ]
     },
     "metadata": {},
     "output_type": "display_data"
    },
    {
     "data": {
      "text/html": [
       "<pre style=\"white-space:pre;overflow-x:auto;line-height:normal;font-family:Menlo,'DejaVu Sans Mono',consolas,'Courier New',monospace\"><span style=\"color: #008000; text-decoration-color: #008000; font-weight: bold\">Generating glossary for dataset: allergies</span>\n",
       "</pre>\n"
      ],
      "text/plain": [
       "\u001b[1;32mGenerating glossary for dataset: allergies\u001b[0m\n"
      ]
     },
     "metadata": {},
     "output_type": "display_data"
    },
    {
     "name": "stderr",
     "output_type": "stream",
     "text": [
      "100%|██████████| 15/15 [00:21<00:00,  1.43s/it]\n"
     ]
    },
    {
     "data": {
      "text/html": [
       "<pre style=\"white-space:pre;overflow-x:auto;line-height:normal;font-family:Menlo,'DejaVu Sans Mono',consolas,'Courier New',monospace\"><span style=\"color: #008000; text-decoration-color: #008000; font-weight: bold\">Generating glossary for dataset: careplans</span>\n",
       "</pre>\n"
      ],
      "text/plain": [
       "\u001b[1;32mGenerating glossary for dataset: careplans\u001b[0m\n"
      ]
     },
     "metadata": {},
     "output_type": "display_data"
    },
    {
     "name": "stderr",
     "output_type": "stream",
     "text": [
      "100%|██████████| 9/9 [00:12<00:00,  1.43s/it]\n"
     ]
    },
    {
     "data": {
      "text/html": [
       "<pre style=\"white-space:pre;overflow-x:auto;line-height:normal;font-family:Menlo,'DejaVu Sans Mono',consolas,'Courier New',monospace\"><span style=\"color: #008000; text-decoration-color: #008000; font-weight: bold\">Generating glossary for dataset: claims</span>\n",
       "</pre>\n"
      ],
      "text/plain": [
       "\u001b[1;32mGenerating glossary for dataset: claims\u001b[0m\n"
      ]
     },
     "metadata": {},
     "output_type": "display_data"
    },
    {
     "name": "stderr",
     "output_type": "stream",
     "text": [
      "100%|██████████| 31/31 [00:44<00:00,  1.42s/it]\n"
     ]
    },
    {
     "data": {
      "text/html": [
       "<pre style=\"white-space:pre;overflow-x:auto;line-height:normal;font-family:Menlo,'DejaVu Sans Mono',consolas,'Courier New',monospace\"><span style=\"color: #008000; text-decoration-color: #008000; font-weight: bold\">Generating glossary for dataset: claims_transactions</span>\n",
       "</pre>\n"
      ],
      "text/plain": [
       "\u001b[1;32mGenerating glossary for dataset: claims_transactions\u001b[0m\n"
      ]
     },
     "metadata": {},
     "output_type": "display_data"
    },
    {
     "name": "stderr",
     "output_type": "stream",
     "text": [
      "100%|██████████| 33/33 [00:43<00:00,  1.33s/it]\n"
     ]
    },
    {
     "data": {
      "text/html": [
       "<pre style=\"white-space:pre;overflow-x:auto;line-height:normal;font-family:Menlo,'DejaVu Sans Mono',consolas,'Courier New',monospace\"><span style=\"color: #008000; text-decoration-color: #008000; font-weight: bold\">Generating glossary for dataset: conditions</span>\n",
       "</pre>\n"
      ],
      "text/plain": [
       "\u001b[1;32mGenerating glossary for dataset: conditions\u001b[0m\n"
      ]
     },
     "metadata": {},
     "output_type": "display_data"
    },
    {
     "name": "stderr",
     "output_type": "stream",
     "text": [
      "100%|██████████| 6/6 [00:07<00:00,  1.20s/it]\n"
     ]
    },
    {
     "data": {
      "text/html": [
       "<pre style=\"white-space:pre;overflow-x:auto;line-height:normal;font-family:Menlo,'DejaVu Sans Mono',consolas,'Courier New',monospace\"><span style=\"color: #008000; text-decoration-color: #008000; font-weight: bold\">Generating glossary for dataset: devices</span>\n",
       "</pre>\n"
      ],
      "text/plain": [
       "\u001b[1;32mGenerating glossary for dataset: devices\u001b[0m\n"
      ]
     },
     "metadata": {},
     "output_type": "display_data"
    },
    {
     "name": "stderr",
     "output_type": "stream",
     "text": [
      "100%|██████████| 7/7 [00:09<00:00,  1.30s/it]\n"
     ]
    },
    {
     "data": {
      "text/html": [
       "<pre style=\"white-space:pre;overflow-x:auto;line-height:normal;font-family:Menlo,'DejaVu Sans Mono',consolas,'Courier New',monospace\"><span style=\"color: #008000; text-decoration-color: #008000; font-weight: bold\">Generating glossary for dataset: encounters</span>\n",
       "</pre>\n"
      ],
      "text/plain": [
       "\u001b[1;32mGenerating glossary for dataset: encounters\u001b[0m\n"
      ]
     },
     "metadata": {},
     "output_type": "display_data"
    },
    {
     "name": "stderr",
     "output_type": "stream",
     "text": [
      "100%|██████████| 15/15 [00:23<00:00,  1.56s/it]\n"
     ]
    },
    {
     "data": {
      "text/html": [
       "<pre style=\"white-space:pre;overflow-x:auto;line-height:normal;font-family:Menlo,'DejaVu Sans Mono',consolas,'Courier New',monospace\"><span style=\"color: #008000; text-decoration-color: #008000; font-weight: bold\">Generating glossary for dataset: imaging_studies</span>\n",
       "</pre>\n"
      ],
      "text/plain": [
       "\u001b[1;32mGenerating glossary for dataset: imaging_studies\u001b[0m\n"
      ]
     },
     "metadata": {},
     "output_type": "display_data"
    },
    {
     "name": "stderr",
     "output_type": "stream",
     "text": [
      "100%|██████████| 13/13 [00:17<00:00,  1.34s/it]\n"
     ]
    },
    {
     "data": {
      "text/html": [
       "<pre style=\"white-space:pre;overflow-x:auto;line-height:normal;font-family:Menlo,'DejaVu Sans Mono',consolas,'Courier New',monospace\"><span style=\"color: #008000; text-decoration-color: #008000; font-weight: bold\">Generating glossary for dataset: immunizations</span>\n",
       "</pre>\n"
      ],
      "text/plain": [
       "\u001b[1;32mGenerating glossary for dataset: immunizations\u001b[0m\n"
      ]
     },
     "metadata": {},
     "output_type": "display_data"
    },
    {
     "name": "stderr",
     "output_type": "stream",
     "text": [
      "100%|██████████| 6/6 [00:09<00:00,  1.51s/it]\n"
     ]
    },
    {
     "data": {
      "text/html": [
       "<pre style=\"white-space:pre;overflow-x:auto;line-height:normal;font-family:Menlo,'DejaVu Sans Mono',consolas,'Courier New',monospace\"><span style=\"color: #008000; text-decoration-color: #008000; font-weight: bold\">Generating glossary for dataset: medications</span>\n",
       "</pre>\n"
      ],
      "text/plain": [
       "\u001b[1;32mGenerating glossary for dataset: medications\u001b[0m\n"
      ]
     },
     "metadata": {},
     "output_type": "display_data"
    },
    {
     "name": "stderr",
     "output_type": "stream",
     "text": [
      "100%|██████████| 13/13 [00:21<00:00,  1.65s/it]\n"
     ]
    },
    {
     "data": {
      "text/html": [
       "<pre style=\"white-space:pre;overflow-x:auto;line-height:normal;font-family:Menlo,'DejaVu Sans Mono',consolas,'Courier New',monospace\"><span style=\"color: #008000; text-decoration-color: #008000; font-weight: bold\">Generating glossary for dataset: observations</span>\n",
       "</pre>\n"
      ],
      "text/plain": [
       "\u001b[1;32mGenerating glossary for dataset: observations\u001b[0m\n"
      ]
     },
     "metadata": {},
     "output_type": "display_data"
    },
    {
     "name": "stderr",
     "output_type": "stream",
     "text": [
      "100%|██████████| 9/9 [00:12<00:00,  1.35s/it]\n"
     ]
    },
    {
     "data": {
      "text/html": [
       "<pre style=\"white-space:pre;overflow-x:auto;line-height:normal;font-family:Menlo,'DejaVu Sans Mono',consolas,'Courier New',monospace\"><span style=\"color: #008000; text-decoration-color: #008000; font-weight: bold\">Generating glossary for dataset: organizations</span>\n",
       "</pre>\n"
      ],
      "text/plain": [
       "\u001b[1;32mGenerating glossary for dataset: organizations\u001b[0m\n"
      ]
     },
     "metadata": {},
     "output_type": "display_data"
    },
    {
     "name": "stderr",
     "output_type": "stream",
     "text": [
      "100%|██████████| 11/11 [00:20<00:00,  1.83s/it]\n"
     ]
    },
    {
     "data": {
      "text/html": [
       "<pre style=\"white-space:pre;overflow-x:auto;line-height:normal;font-family:Menlo,'DejaVu Sans Mono',consolas,'Courier New',monospace\"><span style=\"color: #008000; text-decoration-color: #008000; font-weight: bold\">Generating glossary for dataset: patients</span>\n",
       "</pre>\n"
      ],
      "text/plain": [
       "\u001b[1;32mGenerating glossary for dataset: patients\u001b[0m\n"
      ]
     },
     "metadata": {},
     "output_type": "display_data"
    },
    {
     "name": "stderr",
     "output_type": "stream",
     "text": [
      "100%|██████████| 25/25 [00:34<00:00,  1.38s/it]\n"
     ]
    },
    {
     "data": {
      "text/html": [
       "<pre style=\"white-space:pre;overflow-x:auto;line-height:normal;font-family:Menlo,'DejaVu Sans Mono',consolas,'Courier New',monospace\"><span style=\"color: #008000; text-decoration-color: #008000; font-weight: bold\">Generating glossary for dataset: payers</span>\n",
       "</pre>\n"
      ],
      "text/plain": [
       "\u001b[1;32mGenerating glossary for dataset: payers\u001b[0m\n"
      ]
     },
     "metadata": {},
     "output_type": "display_data"
    },
    {
     "name": "stderr",
     "output_type": "stream",
     "text": [
      "100%|██████████| 21/21 [00:31<00:00,  1.48s/it]\n"
     ]
    },
    {
     "data": {
      "text/html": [
       "<pre style=\"white-space:pre;overflow-x:auto;line-height:normal;font-family:Menlo,'DejaVu Sans Mono',consolas,'Courier New',monospace\"><span style=\"color: #008000; text-decoration-color: #008000; font-weight: bold\">Generating glossary for dataset: payer_transitions</span>\n",
       "</pre>\n"
      ],
      "text/plain": [
       "\u001b[1;32mGenerating glossary for dataset: payer_transitions\u001b[0m\n"
      ]
     },
     "metadata": {},
     "output_type": "display_data"
    },
    {
     "name": "stderr",
     "output_type": "stream",
     "text": [
      "100%|██████████| 8/8 [00:14<00:00,  1.79s/it]\n"
     ]
    },
    {
     "data": {
      "text/html": [
       "<pre style=\"white-space:pre;overflow-x:auto;line-height:normal;font-family:Menlo,'DejaVu Sans Mono',consolas,'Courier New',monospace\"><span style=\"color: #008000; text-decoration-color: #008000; font-weight: bold\">Generating glossary for dataset: procedures</span>\n",
       "</pre>\n"
      ],
      "text/plain": [
       "\u001b[1;32mGenerating glossary for dataset: procedures\u001b[0m\n"
      ]
     },
     "metadata": {},
     "output_type": "display_data"
    },
    {
     "name": "stderr",
     "output_type": "stream",
     "text": [
      "100%|██████████| 9/9 [00:11<00:00,  1.30s/it]\n"
     ]
    },
    {
     "data": {
      "text/html": [
       "<pre style=\"white-space:pre;overflow-x:auto;line-height:normal;font-family:Menlo,'DejaVu Sans Mono',consolas,'Courier New',monospace\"><span style=\"color: #008000; text-decoration-color: #008000; font-weight: bold\">Generating glossary for dataset: providers</span>\n",
       "</pre>\n"
      ],
      "text/plain": [
       "\u001b[1;32mGenerating glossary for dataset: providers\u001b[0m\n"
      ]
     },
     "metadata": {},
     "output_type": "display_data"
    },
    {
     "name": "stderr",
     "output_type": "stream",
     "text": [
      "100%|██████████| 12/12 [00:16<00:00,  1.34s/it]\n"
     ]
    },
    {
     "data": {
      "text/html": [
       "<pre style=\"white-space:pre;overflow-x:auto;line-height:normal;font-family:Menlo,'DejaVu Sans Mono',consolas,'Courier New',monospace\"><span style=\"color: #008000; text-decoration-color: #008000; font-weight: bold\">Generating glossary for dataset: supplies</span>\n",
       "</pre>\n"
      ],
      "text/plain": [
       "\u001b[1;32mGenerating glossary for dataset: supplies\u001b[0m\n"
      ]
     },
     "metadata": {},
     "output_type": "display_data"
    },
    {
     "name": "stderr",
     "output_type": "stream",
     "text": [
      "100%|██████████| 6/6 [00:08<00:00,  1.36s/it]\n"
     ]
    },
    {
     "data": {
      "text/html": [
       "<pre style=\"white-space:pre;overflow-x:auto;line-height:normal;font-family:Menlo,'DejaVu Sans Mono',consolas,'Courier New',monospace\"><span style=\"color: #008000; text-decoration-color: #008000; font-weight: bold\">Business glossary generation complete.</span>\n",
       "</pre>\n"
      ],
      "text/plain": [
       "\u001b[1;32mBusiness glossary generation complete.\u001b[0m\n"
      ]
     },
     "metadata": {},
     "output_type": "display_data"
    },
    {
     "name": "stdout",
     "output_type": "stream",
     "text": [
      "Initializing semantic search...\n"
     ]
    },
    {
     "name": "stderr",
     "output_type": "stream",
     "text": [
      "/home/raphael/intugle/data-tools/src/intugle/core/vector_store/qdrant.py:77: UserWarning: Api key is used with an insecure connection.\n",
      "  self._client = AsyncQdrantClient(**self.client_config)\n"
     ]
    },
    {
     "name": "stdout",
     "output_type": "stream",
     "text": [
      "Semantic search initialized.\n"
     ]
    },
    {
     "data": {
      "text/plain": [
       "<intugle.semantic_model.SemanticModel at 0x7dc80af462d0>"
      ]
     },
     "execution_count": 6,
     "metadata": {},
     "output_type": "execute_result"
    }
   ],
   "source": [
    "from intugle import SemanticModel\n",
    "\n",
    "# Initialize the semantic model\n",
    "sm = SemanticModel(datasets, domain=\"Healthcare\")\n",
    "\n",
    "# Run the prediction\n",
    "sm.build()"
   ]
  },
  {
   "cell_type": "markdown",
   "id": "0ae71c3d",
   "metadata": {},
   "source": [
    "## 3. Accessing Enriched Metadata\n",
    "\n",
    "Now that the semantic model is built, you can easily access the enriched metadata for each dataset.\n",
    "\n",
    "### Accessing a Dataset\n",
    "\n",
    "You can access a specific dataset by its name from the `sm.datasets` dictionary:"
   ]
  },
  {
   "cell_type": "code",
   "execution_count": 7,
   "id": "77d54246",
   "metadata": {},
   "outputs": [
    {
     "data": {
      "text/html": [
       "<div>\n",
       "<style scoped>\n",
       "    .dataframe tbody tr th:only-of-type {\n",
       "        vertical-align: middle;\n",
       "    }\n",
       "\n",
       "    .dataframe tbody tr th {\n",
       "        vertical-align: top;\n",
       "    }\n",
       "\n",
       "    .dataframe thead th {\n",
       "        text-align: right;\n",
       "    }\n",
       "</style>\n",
       "<table border=\"1\" class=\"dataframe\">\n",
       "  <thead>\n",
       "    <tr style=\"text-align: right;\">\n",
       "      <th></th>\n",
       "      <th>column_name</th>\n",
       "      <th>table_name</th>\n",
       "      <th>business_name</th>\n",
       "      <th>datatype_l1</th>\n",
       "      <th>datatype_l2</th>\n",
       "      <th>business_glossary</th>\n",
       "      <th>business_tags</th>\n",
       "      <th>count</th>\n",
       "      <th>null_count</th>\n",
       "      <th>distinct_count</th>\n",
       "      <th>uniqueness</th>\n",
       "      <th>completeness</th>\n",
       "      <th>sample_data</th>\n",
       "    </tr>\n",
       "  </thead>\n",
       "  <tbody>\n",
       "    <tr>\n",
       "      <th>0</th>\n",
       "      <td>id</td>\n",
       "      <td>patients</td>\n",
       "      <td>id</td>\n",
       "      <td>alphanumeric</td>\n",
       "      <td>L2OutputTypes.dimension</td>\n",
       "      <td>Serves as a unique identifier for individual p...</td>\n",
       "      <td>[Patient Identifier, Unique Record Key, Health...</td>\n",
       "      <td>1163</td>\n",
       "      <td>0</td>\n",
       "      <td>1163</td>\n",
       "      <td>1.000000</td>\n",
       "      <td>1.000000</td>\n",
       "      <td>[1e6c1763-afae-06b8-e9ec-6a3cfee72c45, 4201748...</td>\n",
       "    </tr>\n",
       "    <tr>\n",
       "      <th>1</th>\n",
       "      <td>birthdate</td>\n",
       "      <td>patients</td>\n",
       "      <td>birthdate</td>\n",
       "      <td>date &amp; time</td>\n",
       "      <td>L2OutputTypes.dimension</td>\n",
       "      <td>Indicates the calendar date on which an indivi...</td>\n",
       "      <td>[Patient Demographics, Age Calculation, Health...</td>\n",
       "      <td>1163</td>\n",
       "      <td>0</td>\n",
       "      <td>987</td>\n",
       "      <td>0.848667</td>\n",
       "      <td>1.000000</td>\n",
       "      <td>[1958-11-07, 1996-11-01, 2002-06-22, 1989-03-1...</td>\n",
       "    </tr>\n",
       "    <tr>\n",
       "      <th>2</th>\n",
       "      <td>deathdate</td>\n",
       "      <td>patients</td>\n",
       "      <td>deathdate</td>\n",
       "      <td>date &amp; time</td>\n",
       "      <td>L2OutputTypes.dimension</td>\n",
       "      <td>Indicates the date and time when an individual...</td>\n",
       "      <td>[Patient Mortality, End Of Life Records, Healt...</td>\n",
       "      <td>1163</td>\n",
       "      <td>1000</td>\n",
       "      <td>163</td>\n",
       "      <td>0.140155</td>\n",
       "      <td>0.140155</td>\n",
       "      <td>[1996-05-12, 2010-01-04, 2020-04-09, 1981-09-2...</td>\n",
       "    </tr>\n",
       "    <tr>\n",
       "      <th>3</th>\n",
       "      <td>ssn</td>\n",
       "      <td>patients</td>\n",
       "      <td>ssn</td>\n",
       "      <td>alphanumeric</td>\n",
       "      <td>L2OutputTypes.dimension</td>\n",
       "      <td>Serves as a unique identifier for individuals ...</td>\n",
       "      <td>[Patient Identification, Sensitive Information...</td>\n",
       "      <td>1163</td>\n",
       "      <td>0</td>\n",
       "      <td>1163</td>\n",
       "      <td>1.000000</td>\n",
       "      <td>1.000000</td>\n",
       "      <td>[999-77-1814, 999-77-1520, 999-95-7242, 999-61...</td>\n",
       "    </tr>\n",
       "    <tr>\n",
       "      <th>4</th>\n",
       "      <td>drivers</td>\n",
       "      <td>patients</td>\n",
       "      <td>drivers</td>\n",
       "      <td>alphanumeric</td>\n",
       "      <td>L2OutputTypes.dimension</td>\n",
       "      <td>Unique identifiers associated with individuals...</td>\n",
       "      <td>[Patient Identifier, Healthcare Record Trackin...</td>\n",
       "      <td>1163</td>\n",
       "      <td>215</td>\n",
       "      <td>941</td>\n",
       "      <td>0.809114</td>\n",
       "      <td>0.815133</td>\n",
       "      <td>[S99967663, S99983332, S99942365, S99926700, S...</td>\n",
       "    </tr>\n",
       "    <tr>\n",
       "      <th>5</th>\n",
       "      <td>passport</td>\n",
       "      <td>patients</td>\n",
       "      <td>passport</td>\n",
       "      <td>alphanumeric</td>\n",
       "      <td>L2OutputTypes.dimension</td>\n",
       "      <td>Serves as a unique identifier issued by a gove...</td>\n",
       "      <td>[Patient Identification, International Travel ...</td>\n",
       "      <td>1163</td>\n",
       "      <td>276</td>\n",
       "      <td>887</td>\n",
       "      <td>0.762683</td>\n",
       "      <td>0.762683</td>\n",
       "      <td>[X64074744X, X48497456X, X28815069X, X88664635...</td>\n",
       "    </tr>\n",
       "    <tr>\n",
       "      <th>6</th>\n",
       "      <td>prefix</td>\n",
       "      <td>patients</td>\n",
       "      <td>prefix</td>\n",
       "      <td>close_ended_text</td>\n",
       "      <td>L2OutputTypes.dimension</td>\n",
       "      <td>Indicates the formal title used to address an ...</td>\n",
       "      <td>[Patient Salutation, Personal Title, Demograph...</td>\n",
       "      <td>1163</td>\n",
       "      <td>245</td>\n",
       "      <td>3</td>\n",
       "      <td>0.002580</td>\n",
       "      <td>0.789338</td>\n",
       "      <td>[Mrs., Mr., Ms.]</td>\n",
       "    </tr>\n",
       "    <tr>\n",
       "      <th>7</th>\n",
       "      <td>first</td>\n",
       "      <td>patients</td>\n",
       "      <td>first</td>\n",
       "      <td>alphanumeric</td>\n",
       "      <td>L2OutputTypes.dimension</td>\n",
       "      <td>Identifies a unique code or identifier associa...</td>\n",
       "      <td>[PatientIdentifier, UniquePatientCode, Patient...</td>\n",
       "      <td>1163</td>\n",
       "      <td>0</td>\n",
       "      <td>1002</td>\n",
       "      <td>0.861565</td>\n",
       "      <td>1.000000</td>\n",
       "      <td>[Bethanie176, Andera917, Kristopher775, Young1...</td>\n",
       "    </tr>\n",
       "    <tr>\n",
       "      <th>8</th>\n",
       "      <td>last</td>\n",
       "      <td>patients</td>\n",
       "      <td>last</td>\n",
       "      <td>alphanumeric</td>\n",
       "      <td>L2OutputTypes.dimension</td>\n",
       "      <td>Identifies the unique identifier or code assoc...</td>\n",
       "      <td>[Patient Identifier, Healthcare Record Trackin...</td>\n",
       "      <td>1163</td>\n",
       "      <td>0</td>\n",
       "      <td>477</td>\n",
       "      <td>0.410146</td>\n",
       "      <td>1.000000</td>\n",
       "      <td>[Schiller186, Treviño536, Wuckert783, Kerluke2...</td>\n",
       "    </tr>\n",
       "    <tr>\n",
       "      <th>9</th>\n",
       "      <td>suffix</td>\n",
       "      <td>patients</td>\n",
       "      <td>suffix</td>\n",
       "      <td>close_ended_text</td>\n",
       "      <td>L2OutputTypes.dimension</td>\n",
       "      <td>Indicates the professional or academic designa...</td>\n",
       "      <td>[Professional Credentials, Patient Identificat...</td>\n",
       "      <td>1163</td>\n",
       "      <td>1147</td>\n",
       "      <td>3</td>\n",
       "      <td>0.002580</td>\n",
       "      <td>0.013758</td>\n",
       "      <td>[MD, PhD, JD]</td>\n",
       "    </tr>\n",
       "    <tr>\n",
       "      <th>10</th>\n",
       "      <td>maiden</td>\n",
       "      <td>patients</td>\n",
       "      <td>maiden</td>\n",
       "      <td>alphanumeric</td>\n",
       "      <td>L2OutputTypes.dimension</td>\n",
       "      <td>Tracks a unique identifier or code associated ...</td>\n",
       "      <td>[Patient Identifier, Unique Code, Healthcare R...</td>\n",
       "      <td>1163</td>\n",
       "      <td>832</td>\n",
       "      <td>248</td>\n",
       "      <td>0.213242</td>\n",
       "      <td>0.284609</td>\n",
       "      <td>[Deckow585, Wilderman619, Labadie908, Gerlach3...</td>\n",
       "    </tr>\n",
       "    <tr>\n",
       "      <th>11</th>\n",
       "      <td>marital</td>\n",
       "      <td>patients</td>\n",
       "      <td>marital</td>\n",
       "      <td>close_ended_text</td>\n",
       "      <td>L2OutputTypes.dimension</td>\n",
       "      <td>Indicates the relationship status of an indivi...</td>\n",
       "      <td>[Marital Status, Demographic Information, Pati...</td>\n",
       "      <td>1163</td>\n",
       "      <td>384</td>\n",
       "      <td>2</td>\n",
       "      <td>0.001720</td>\n",
       "      <td>0.669819</td>\n",
       "      <td>[M, S]</td>\n",
       "    </tr>\n",
       "    <tr>\n",
       "      <th>12</th>\n",
       "      <td>race</td>\n",
       "      <td>patients</td>\n",
       "      <td>race</td>\n",
       "      <td>close_ended_text</td>\n",
       "      <td>L2OutputTypes.dimension</td>\n",
       "      <td>Categorizes individuals based on their self-id...</td>\n",
       "      <td>[Demographic Information, Health Equity Analys...</td>\n",
       "      <td>1163</td>\n",
       "      <td>0</td>\n",
       "      <td>6</td>\n",
       "      <td>0.005159</td>\n",
       "      <td>1.000000</td>\n",
       "      <td>[black, asian, white, other, hawaiian, native]</td>\n",
       "    </tr>\n",
       "    <tr>\n",
       "      <th>13</th>\n",
       "      <td>ethnicity</td>\n",
       "      <td>patients</td>\n",
       "      <td>ethnicity</td>\n",
       "      <td>close_ended_text</td>\n",
       "      <td>L2OutputTypes.dimension</td>\n",
       "      <td>Categorizes individuals based on their cultura...</td>\n",
       "      <td>[Demographic Classification, Health Equity Ana...</td>\n",
       "      <td>1163</td>\n",
       "      <td>0</td>\n",
       "      <td>2</td>\n",
       "      <td>0.001720</td>\n",
       "      <td>1.000000</td>\n",
       "      <td>[nonhispanic, hispanic]</td>\n",
       "    </tr>\n",
       "    <tr>\n",
       "      <th>14</th>\n",
       "      <td>gender</td>\n",
       "      <td>patients</td>\n",
       "      <td>gender</td>\n",
       "      <td>close_ended_text</td>\n",
       "      <td>L2OutputTypes.dimension</td>\n",
       "      <td>Categorizes individuals based on their self-id...</td>\n",
       "      <td>[Patient Demographics, Gender Classification, ...</td>\n",
       "      <td>1163</td>\n",
       "      <td>0</td>\n",
       "      <td>2</td>\n",
       "      <td>0.001720</td>\n",
       "      <td>1.000000</td>\n",
       "      <td>[F, M]</td>\n",
       "    </tr>\n",
       "    <tr>\n",
       "      <th>15</th>\n",
       "      <td>birthplace</td>\n",
       "      <td>patients</td>\n",
       "      <td>birthplace</td>\n",
       "      <td>close_ended_text</td>\n",
       "      <td>L2OutputTypes.dimension</td>\n",
       "      <td>Indicates the geographical location where an i...</td>\n",
       "      <td>[Patient Demographics, Geographic Location, Bi...</td>\n",
       "      <td>1163</td>\n",
       "      <td>0</td>\n",
       "      <td>317</td>\n",
       "      <td>0.272571</td>\n",
       "      <td>1.000000</td>\n",
       "      <td>[Ludlow  Massachusetts  US, Foxborough  Massac...</td>\n",
       "    </tr>\n",
       "    <tr>\n",
       "      <th>16</th>\n",
       "      <td>address</td>\n",
       "      <td>patients</td>\n",
       "      <td>address</td>\n",
       "      <td>alphanumeric</td>\n",
       "      <td>L2OutputTypes.dimension</td>\n",
       "      <td>Identifies the physical location associated wi...</td>\n",
       "      <td>[Patient Location, Contact Information, Reside...</td>\n",
       "      <td>1163</td>\n",
       "      <td>0</td>\n",
       "      <td>1163</td>\n",
       "      <td>1.000000</td>\n",
       "      <td>1.000000</td>\n",
       "      <td>[1045 Kovacek Drive, 182 Hansen Hollow Apt 29,...</td>\n",
       "    </tr>\n",
       "    <tr>\n",
       "      <th>17</th>\n",
       "      <td>city</td>\n",
       "      <td>patients</td>\n",
       "      <td>city</td>\n",
       "      <td>close_ended_text</td>\n",
       "      <td>L2OutputTypes.dimension</td>\n",
       "      <td>Location information used to identify the muni...</td>\n",
       "      <td>[Patient Residence, Geographic Location, Demog...</td>\n",
       "      <td>1163</td>\n",
       "      <td>0</td>\n",
       "      <td>256</td>\n",
       "      <td>0.220120</td>\n",
       "      <td>1.000000</td>\n",
       "      <td>[Weymouth, Heath, Middleborough Center, Hudson...</td>\n",
       "    </tr>\n",
       "    <tr>\n",
       "      <th>18</th>\n",
       "      <td>state</td>\n",
       "      <td>patients</td>\n",
       "      <td>state</td>\n",
       "      <td>close_ended_text</td>\n",
       "      <td>L2OutputTypes.dimension</td>\n",
       "      <td>Indicates the geographical region associated w...</td>\n",
       "      <td>[Geographic Location, Patient Residency, State...</td>\n",
       "      <td>1163</td>\n",
       "      <td>0</td>\n",
       "      <td>1</td>\n",
       "      <td>0.000860</td>\n",
       "      <td>1.000000</td>\n",
       "      <td>[Massachusetts]</td>\n",
       "    </tr>\n",
       "    <tr>\n",
       "      <th>19</th>\n",
       "      <td>county</td>\n",
       "      <td>patients</td>\n",
       "      <td>county</td>\n",
       "      <td>close_ended_text</td>\n",
       "      <td>L2OutputTypes.dimension</td>\n",
       "      <td>Identifies the administrative region associate...</td>\n",
       "      <td>[Geographic Location, Healthcare Service Regio...</td>\n",
       "      <td>1163</td>\n",
       "      <td>0</td>\n",
       "      <td>13</td>\n",
       "      <td>0.011178</td>\n",
       "      <td>1.000000</td>\n",
       "      <td>[Worcester County, Hampshire County, Nantucket...</td>\n",
       "    </tr>\n",
       "    <tr>\n",
       "      <th>20</th>\n",
       "      <td>zip</td>\n",
       "      <td>patients</td>\n",
       "      <td>zip</td>\n",
       "      <td>integer</td>\n",
       "      <td>L2OutputTypes.dimension</td>\n",
       "      <td>Identifies the geographic area associated with...</td>\n",
       "      <td>[Patient Location, Geographic Identifier, Regi...</td>\n",
       "      <td>1163</td>\n",
       "      <td>545</td>\n",
       "      <td>223</td>\n",
       "      <td>0.191745</td>\n",
       "      <td>0.531384</td>\n",
       "      <td>[02129, 01009, 01832, 02644, 02364, 02066, 021...</td>\n",
       "    </tr>\n",
       "    <tr>\n",
       "      <th>21</th>\n",
       "      <td>lat</td>\n",
       "      <td>patients</td>\n",
       "      <td>lat</td>\n",
       "      <td>float</td>\n",
       "      <td>L2OutputTypes.dimension</td>\n",
       "      <td>Indicates the geographical latitude coordinate...</td>\n",
       "      <td>[Geolocation, Patient Location, Latitude Coord...</td>\n",
       "      <td>1163</td>\n",
       "      <td>0</td>\n",
       "      <td>1163</td>\n",
       "      <td>1.000000</td>\n",
       "      <td>1.000000</td>\n",
       "      <td>[42.07056023865296, 42.414361073549614, 42.406...</td>\n",
       "    </tr>\n",
       "    <tr>\n",
       "      <th>22</th>\n",
       "      <td>lon</td>\n",
       "      <td>patients</td>\n",
       "      <td>lon</td>\n",
       "      <td>float</td>\n",
       "      <td>L2OutputTypes.measure</td>\n",
       "      <td>Indicates the longitudinal coordinate used to ...</td>\n",
       "      <td>[Geolocation, Longitude, Patient Location]</td>\n",
       "      <td>1163</td>\n",
       "      <td>0</td>\n",
       "      <td>1163</td>\n",
       "      <td>1.000000</td>\n",
       "      <td>1.000000</td>\n",
       "      <td>[-72.4888938156624, -71.17262434028189, -70.84...</td>\n",
       "    </tr>\n",
       "    <tr>\n",
       "      <th>23</th>\n",
       "      <td>healthcare_expenses</td>\n",
       "      <td>patients</td>\n",
       "      <td>healthcare_expenses</td>\n",
       "      <td>float</td>\n",
       "      <td>L2OutputTypes.measure</td>\n",
       "      <td>Tracks the monetary costs incurred for medical...</td>\n",
       "      <td>[Patient Financial Data, Healthcare Cost Analy...</td>\n",
       "      <td>1163</td>\n",
       "      <td>0</td>\n",
       "      <td>1163</td>\n",
       "      <td>1.000000</td>\n",
       "      <td>1.000000</td>\n",
       "      <td>[24925.29, 1576848.3225, 153040.72749999998, 7...</td>\n",
       "    </tr>\n",
       "    <tr>\n",
       "      <th>24</th>\n",
       "      <td>healthcare_coverage</td>\n",
       "      <td>patients</td>\n",
       "      <td>healthcare_coverage</td>\n",
       "      <td>float</td>\n",
       "      <td>L2OutputTypes.measure</td>\n",
       "      <td>Indicates the monetary value allocated for an ...</td>\n",
       "      <td>[Insurance Coverage Amount, Healthcare Financi...</td>\n",
       "      <td>1163</td>\n",
       "      <td>0</td>\n",
       "      <td>1036</td>\n",
       "      <td>0.890800</td>\n",
       "      <td>1.000000</td>\n",
       "      <td>[208924.67599999998, 4545.1425, 254363.5695000...</td>\n",
       "    </tr>\n",
       "  </tbody>\n",
       "</table>\n",
       "</div>"
      ],
      "text/plain": [
       "            column_name table_name        business_name       datatype_l1  \\\n",
       "0                    id   patients                   id      alphanumeric   \n",
       "1             birthdate   patients            birthdate       date & time   \n",
       "2             deathdate   patients            deathdate       date & time   \n",
       "3                   ssn   patients                  ssn      alphanumeric   \n",
       "4               drivers   patients              drivers      alphanumeric   \n",
       "5              passport   patients             passport      alphanumeric   \n",
       "6                prefix   patients               prefix  close_ended_text   \n",
       "7                 first   patients                first      alphanumeric   \n",
       "8                  last   patients                 last      alphanumeric   \n",
       "9                suffix   patients               suffix  close_ended_text   \n",
       "10               maiden   patients               maiden      alphanumeric   \n",
       "11              marital   patients              marital  close_ended_text   \n",
       "12                 race   patients                 race  close_ended_text   \n",
       "13            ethnicity   patients            ethnicity  close_ended_text   \n",
       "14               gender   patients               gender  close_ended_text   \n",
       "15           birthplace   patients           birthplace  close_ended_text   \n",
       "16              address   patients              address      alphanumeric   \n",
       "17                 city   patients                 city  close_ended_text   \n",
       "18                state   patients                state  close_ended_text   \n",
       "19               county   patients               county  close_ended_text   \n",
       "20                  zip   patients                  zip           integer   \n",
       "21                  lat   patients                  lat             float   \n",
       "22                  lon   patients                  lon             float   \n",
       "23  healthcare_expenses   patients  healthcare_expenses             float   \n",
       "24  healthcare_coverage   patients  healthcare_coverage             float   \n",
       "\n",
       "                datatype_l2  \\\n",
       "0   L2OutputTypes.dimension   \n",
       "1   L2OutputTypes.dimension   \n",
       "2   L2OutputTypes.dimension   \n",
       "3   L2OutputTypes.dimension   \n",
       "4   L2OutputTypes.dimension   \n",
       "5   L2OutputTypes.dimension   \n",
       "6   L2OutputTypes.dimension   \n",
       "7   L2OutputTypes.dimension   \n",
       "8   L2OutputTypes.dimension   \n",
       "9   L2OutputTypes.dimension   \n",
       "10  L2OutputTypes.dimension   \n",
       "11  L2OutputTypes.dimension   \n",
       "12  L2OutputTypes.dimension   \n",
       "13  L2OutputTypes.dimension   \n",
       "14  L2OutputTypes.dimension   \n",
       "15  L2OutputTypes.dimension   \n",
       "16  L2OutputTypes.dimension   \n",
       "17  L2OutputTypes.dimension   \n",
       "18  L2OutputTypes.dimension   \n",
       "19  L2OutputTypes.dimension   \n",
       "20  L2OutputTypes.dimension   \n",
       "21  L2OutputTypes.dimension   \n",
       "22    L2OutputTypes.measure   \n",
       "23    L2OutputTypes.measure   \n",
       "24    L2OutputTypes.measure   \n",
       "\n",
       "                                    business_glossary  \\\n",
       "0   Serves as a unique identifier for individual p...   \n",
       "1   Indicates the calendar date on which an indivi...   \n",
       "2   Indicates the date and time when an individual...   \n",
       "3   Serves as a unique identifier for individuals ...   \n",
       "4   Unique identifiers associated with individuals...   \n",
       "5   Serves as a unique identifier issued by a gove...   \n",
       "6   Indicates the formal title used to address an ...   \n",
       "7   Identifies a unique code or identifier associa...   \n",
       "8   Identifies the unique identifier or code assoc...   \n",
       "9   Indicates the professional or academic designa...   \n",
       "10  Tracks a unique identifier or code associated ...   \n",
       "11  Indicates the relationship status of an indivi...   \n",
       "12  Categorizes individuals based on their self-id...   \n",
       "13  Categorizes individuals based on their cultura...   \n",
       "14  Categorizes individuals based on their self-id...   \n",
       "15  Indicates the geographical location where an i...   \n",
       "16  Identifies the physical location associated wi...   \n",
       "17  Location information used to identify the muni...   \n",
       "18  Indicates the geographical region associated w...   \n",
       "19  Identifies the administrative region associate...   \n",
       "20  Identifies the geographic area associated with...   \n",
       "21  Indicates the geographical latitude coordinate...   \n",
       "22  Indicates the longitudinal coordinate used to ...   \n",
       "23  Tracks the monetary costs incurred for medical...   \n",
       "24  Indicates the monetary value allocated for an ...   \n",
       "\n",
       "                                        business_tags  count  null_count  \\\n",
       "0   [Patient Identifier, Unique Record Key, Health...   1163           0   \n",
       "1   [Patient Demographics, Age Calculation, Health...   1163           0   \n",
       "2   [Patient Mortality, End Of Life Records, Healt...   1163        1000   \n",
       "3   [Patient Identification, Sensitive Information...   1163           0   \n",
       "4   [Patient Identifier, Healthcare Record Trackin...   1163         215   \n",
       "5   [Patient Identification, International Travel ...   1163         276   \n",
       "6   [Patient Salutation, Personal Title, Demograph...   1163         245   \n",
       "7   [PatientIdentifier, UniquePatientCode, Patient...   1163           0   \n",
       "8   [Patient Identifier, Healthcare Record Trackin...   1163           0   \n",
       "9   [Professional Credentials, Patient Identificat...   1163        1147   \n",
       "10  [Patient Identifier, Unique Code, Healthcare R...   1163         832   \n",
       "11  [Marital Status, Demographic Information, Pati...   1163         384   \n",
       "12  [Demographic Information, Health Equity Analys...   1163           0   \n",
       "13  [Demographic Classification, Health Equity Ana...   1163           0   \n",
       "14  [Patient Demographics, Gender Classification, ...   1163           0   \n",
       "15  [Patient Demographics, Geographic Location, Bi...   1163           0   \n",
       "16  [Patient Location, Contact Information, Reside...   1163           0   \n",
       "17  [Patient Residence, Geographic Location, Demog...   1163           0   \n",
       "18  [Geographic Location, Patient Residency, State...   1163           0   \n",
       "19  [Geographic Location, Healthcare Service Regio...   1163           0   \n",
       "20  [Patient Location, Geographic Identifier, Regi...   1163         545   \n",
       "21  [Geolocation, Patient Location, Latitude Coord...   1163           0   \n",
       "22         [Geolocation, Longitude, Patient Location]   1163           0   \n",
       "23  [Patient Financial Data, Healthcare Cost Analy...   1163           0   \n",
       "24  [Insurance Coverage Amount, Healthcare Financi...   1163           0   \n",
       "\n",
       "    distinct_count  uniqueness  completeness  \\\n",
       "0             1163    1.000000      1.000000   \n",
       "1              987    0.848667      1.000000   \n",
       "2              163    0.140155      0.140155   \n",
       "3             1163    1.000000      1.000000   \n",
       "4              941    0.809114      0.815133   \n",
       "5              887    0.762683      0.762683   \n",
       "6                3    0.002580      0.789338   \n",
       "7             1002    0.861565      1.000000   \n",
       "8              477    0.410146      1.000000   \n",
       "9                3    0.002580      0.013758   \n",
       "10             248    0.213242      0.284609   \n",
       "11               2    0.001720      0.669819   \n",
       "12               6    0.005159      1.000000   \n",
       "13               2    0.001720      1.000000   \n",
       "14               2    0.001720      1.000000   \n",
       "15             317    0.272571      1.000000   \n",
       "16            1163    1.000000      1.000000   \n",
       "17             256    0.220120      1.000000   \n",
       "18               1    0.000860      1.000000   \n",
       "19              13    0.011178      1.000000   \n",
       "20             223    0.191745      0.531384   \n",
       "21            1163    1.000000      1.000000   \n",
       "22            1163    1.000000      1.000000   \n",
       "23            1163    1.000000      1.000000   \n",
       "24            1036    0.890800      1.000000   \n",
       "\n",
       "                                          sample_data  \n",
       "0   [1e6c1763-afae-06b8-e9ec-6a3cfee72c45, 4201748...  \n",
       "1   [1958-11-07, 1996-11-01, 2002-06-22, 1989-03-1...  \n",
       "2   [1996-05-12, 2010-01-04, 2020-04-09, 1981-09-2...  \n",
       "3   [999-77-1814, 999-77-1520, 999-95-7242, 999-61...  \n",
       "4   [S99967663, S99983332, S99942365, S99926700, S...  \n",
       "5   [X64074744X, X48497456X, X28815069X, X88664635...  \n",
       "6                                    [Mrs., Mr., Ms.]  \n",
       "7   [Bethanie176, Andera917, Kristopher775, Young1...  \n",
       "8   [Schiller186, Treviño536, Wuckert783, Kerluke2...  \n",
       "9                                       [MD, PhD, JD]  \n",
       "10  [Deckow585, Wilderman619, Labadie908, Gerlach3...  \n",
       "11                                             [M, S]  \n",
       "12     [black, asian, white, other, hawaiian, native]  \n",
       "13                            [nonhispanic, hispanic]  \n",
       "14                                             [F, M]  \n",
       "15  [Ludlow  Massachusetts  US, Foxborough  Massac...  \n",
       "16  [1045 Kovacek Drive, 182 Hansen Hollow Apt 29,...  \n",
       "17  [Weymouth, Heath, Middleborough Center, Hudson...  \n",
       "18                                    [Massachusetts]  \n",
       "19  [Worcester County, Hampshire County, Nantucket...  \n",
       "20  [02129, 01009, 01832, 02644, 02364, 02066, 021...  \n",
       "21  [42.07056023865296, 42.414361073549614, 42.406...  \n",
       "22  [-72.4888938156624, -71.17262434028189, -70.84...  \n",
       "23  [24925.29, 1576848.3225, 153040.72749999998, 7...  \n",
       "24  [208924.67599999998, 4545.1425, 254363.5695000...  "
      ]
     },
     "execution_count": 7,
     "metadata": {},
     "output_type": "execute_result"
    }
   ],
   "source": [
    "patients_dataset = sm.datasets['patients']\n",
    "patients_dataset.profiling_df"
   ]
  },
  {
   "cell_type": "markdown",
   "id": "8b6d563c",
   "metadata": {},
   "source": [
    "The profiling results can be accessed through the `profiling_df` property of the `DataSet` object. It's a pandas DataFrame that you can easily explore. \n",
    "> The business glossary is also available in the `profiling_df`:"
   ]
  },
  {
   "cell_type": "markdown",
   "id": "5bbe886c",
   "metadata": {},
   "source": [
    "### Visualizing Relationships\n",
    "\n",
    "The `SemanticModel` automatically discovers the relationships between your tables. You can access the predicted links as a list of `PredictedLink` objects:"
   ]
  },
  {
   "cell_type": "code",
   "execution_count": 8,
   "id": "89ff2fbc",
   "metadata": {},
   "outputs": [
    {
     "data": {
      "text/plain": [
       "[PredictedLink(from_dataset='allergies', from_column='patient', to_dataset='patients', to_column='id', intersect_count=179, intersect_ratio_from_col=1.0, intersect_ratio_to_col=0.154, accuracy=1.0),\n",
       " PredictedLink(from_dataset='careplans', from_column='patient', to_dataset='patients', to_column='id', intersect_count=552, intersect_ratio_from_col=1.0, intersect_ratio_to_col=0.475, accuracy=1.0),\n",
       " PredictedLink(from_dataset='claims', from_column='id', to_dataset='claims_transactions', to_column='claimid', intersect_count=196, intersect_ratio_from_col=0.098, intersect_ratio_to_col=1.0, accuracy=1.0),\n",
       " PredictedLink(from_dataset='claims', from_column='patientid', to_dataset='patients', to_column='id', intersect_count=35, intersect_ratio_from_col=1.0, intersect_ratio_to_col=0.03, accuracy=1.0),\n",
       " PredictedLink(from_dataset='claims_transactions', from_column='patientid', to_dataset='patients', to_column='id', intersect_count=9, intersect_ratio_from_col=1.0, intersect_ratio_to_col=0.008, accuracy=1.0),\n",
       " PredictedLink(from_dataset='conditions', from_column='patient', to_dataset='patients', to_column='id', intersect_count=80, intersect_ratio_from_col=1.0, intersect_ratio_to_col=0.069, accuracy=1.0),\n",
       " PredictedLink(from_dataset='devices', from_column='patient', to_dataset='patients', to_column='id', intersect_count=76, intersect_ratio_from_col=1.0, intersect_ratio_to_col=0.065, accuracy=1.0),\n",
       " PredictedLink(from_dataset='encounters', from_column='id', to_dataset='observations', to_column='encounter', intersect_count=99, intersect_ratio_from_col=0.05, intersect_ratio_to_col=1.0, accuracy=1.0),\n",
       " PredictedLink(from_dataset='encounters', from_column='organization', to_dataset='organizations', to_column='id', intersect_count=90, intersect_ratio_from_col=1.0, intersect_ratio_to_col=0.08, accuracy=1.0),\n",
       " PredictedLink(from_dataset='encounters', from_column='patient', to_dataset='patients', to_column='id', intersect_count=48, intersect_ratio_from_col=1.0, intersect_ratio_to_col=0.041, accuracy=1.0),\n",
       " PredictedLink(from_dataset='encounters', from_column='payer', to_dataset='payers', to_column='id', intersect_count=9, intersect_ratio_from_col=1.0, intersect_ratio_to_col=0.9, accuracy=1.0),\n",
       " PredictedLink(from_dataset='encounters', from_column='id', to_dataset='procedures', to_column='encounter', intersect_count=676, intersect_ratio_from_col=0.338, intersect_ratio_to_col=1.0, accuracy=1.0),\n",
       " PredictedLink(from_dataset='imaging_studies', from_column='patient', to_dataset='patients', to_column='id', intersect_count=13, intersect_ratio_from_col=1.0, intersect_ratio_to_col=0.011, accuracy=1.0),\n",
       " PredictedLink(from_dataset='immunizations', from_column='patient', to_dataset='patients', to_column='id', intersect_count=134, intersect_ratio_from_col=1.0, intersect_ratio_to_col=0.115, accuracy=1.0),\n",
       " PredictedLink(from_dataset='medications', from_column='patient', to_dataset='patients', to_column='id', intersect_count=79, intersect_ratio_from_col=1.0, intersect_ratio_to_col=0.068, accuracy=1.0),\n",
       " PredictedLink(from_dataset='medications', from_column='payer', to_dataset='payers', to_column='id', intersect_count=9, intersect_ratio_from_col=1.0, intersect_ratio_to_col=0.9, accuracy=1.0),\n",
       " PredictedLink(from_dataset='observations', from_column='patient', to_dataset='patients', to_column='id', intersect_count=11, intersect_ratio_from_col=1.0, intersect_ratio_to_col=0.009, accuracy=1.0),\n",
       " PredictedLink(from_dataset='organizations', from_column='id', to_dataset='providers', to_column='organization', intersect_count=673, intersect_ratio_from_col=0.597, intersect_ratio_to_col=1.0, accuracy=1.0),\n",
       " PredictedLink(from_dataset='patients', from_column='id', to_dataset='payer_transitions', to_column='patient', intersect_count=58, intersect_ratio_from_col=0.05, intersect_ratio_to_col=1.0, accuracy=1.0),\n",
       " PredictedLink(from_dataset='patients', from_column='id', to_dataset='procedures', to_column='patient', intersect_count=30, intersect_ratio_from_col=0.026, intersect_ratio_to_col=1.0, accuracy=1.0),\n",
       " PredictedLink(from_dataset='patients', from_column='id', to_dataset='supplies', to_column='patient', intersect_count=20, intersect_ratio_from_col=0.017, intersect_ratio_to_col=1.0, accuracy=1.0),\n",
       " PredictedLink(from_dataset='payers', from_column='id', to_dataset='payer_transitions', to_column='payer', intersect_count=9, intersect_ratio_from_col=0.9, intersect_ratio_to_col=1.0, accuracy=1.0)]"
      ]
     },
     "execution_count": 8,
     "metadata": {},
     "output_type": "execute_result"
    }
   ],
   "source": [
    "sm.links"
   ]
  },
  {
   "cell_type": "markdown",
   "id": "49eac63f",
   "metadata": {},
   "source": [
    "You can also visualize these relationships as a graph. In case you run into an error, make sure you install/upgrade your ipykernel package:\n",
    "> %pip install --upgrade ipykernel"
   ]
  },
  {
   "cell_type": "code",
   "execution_count": 9,
   "id": "991215f0",
   "metadata": {},
   "outputs": [
    {
     "data": {
      "image/png": "[encoded data removed]",
      "text/plain": [
       "<Figure size 2000x2000 with 1 Axes>"
      ]
     },
     "metadata": {},
     "output_type": "display_data"
    }
   ],
   "source": [
    "sm.visualize()  # To visualize the relationships as a graph"
   ]
  },
  {
   "cell_type": "markdown",
   "id": "99c19893",
   "metadata": {},
   "source": [
    "## 4. The Semantic Layer\n",
    "\n",
    "The SemanticModel results are used to generate YAML files which are saved automatically. These files defines the semantic layer, including the models (tables) and their relationships. \n",
    "\n",
    "By default, these files are saved in the current working directory. You can configure this path by setting the `PROJECT_BASE` environment variable."
   ]
  },
  {
   "cell_type": "markdown",
   "id": "a2d78400",
   "metadata": {},
   "source": [
    "## 5. Semantic Search\n",
    "\n",
    "The semantic search feature allows you to search for columns in your datasets using natural language. \n",
    "\n",
    "> **Note:** To use this feature, you need to have a running Qdrant instance and an OpenAI API key. Please refer to the [README.md](README.md) for detailed setup instructions.\n",
    ">\n",
    "> **Google Colab Users:** If you are running this notebook in Google Colab, you may not be able to connect to a local Qdrant instance running in Docker. In this case, you will need to use a remotely hosted Qdrant server.\n",
    ">\n",
    "> **Current Limitation:** Currently, the semantic search feature requires an OpenAI or Azure OpenAI key as it is tightly coupled with Ada embeddings. We are actively working on decoupling this.\n",
    "\n",
    "Once you have built the semantic model, you can use the `search` method to perform a semantic search. The search function returns a pandas DataFrame containing the search results, including the column's profiling metrics, category, table name, and table glossary."
   ]
  },
  {
   "cell_type": "code",
   "execution_count": 10,
   "id": "05c1085c",
   "metadata": {},
   "outputs": [
    {
     "name": "stderr",
     "output_type": "stream",
     "text": [
      "/home/raphael/intugle/data-tools/src/intugle/core/vector_store/qdrant.py:77: UserWarning: Api key is used with an insecure connection.\n",
      "  self._client = AsyncQdrantClient(**self.client_config)\n",
      "/home/raphael/intugle/data-tools/src/intugle/core/vector_store/qdrant.py:77: UserWarning: Api key is used with an insecure connection.\n",
      "  self._client = AsyncQdrantClient(**self.client_config)\n",
      "/home/raphael/intugle/data-tools/src/intugle/core/semantic_search/semantic_search.py:156: SettingWithCopyWarning: \n",
      "A value is trying to be set on a copy of a slice from a DataFrame.\n",
      "Try using .loc[row_indexer,col_indexer] = value instead\n",
      "\n",
      "See the caveats in the documentation: https://pandas.pydata.org/pandas-docs/stable/user_guide/indexing.html#returning-a-view-versus-a-copy\n",
      "  late_embedding_result_glossary[\"score\"] = late_embedding_result_glossary[\"score\"] / len(late_vector)\n"
     ]
    },
    {
     "data": {
      "text/html": [
       "<div>\n",
       "<style scoped>\n",
       "    .dataframe tbody tr th:only-of-type {\n",
       "        vertical-align: middle;\n",
       "    }\n",
       "\n",
       "    .dataframe tbody tr th {\n",
       "        vertical-align: top;\n",
       "    }\n",
       "\n",
       "    .dataframe thead th {\n",
       "        text-align: right;\n",
       "    }\n",
       "</style>\n",
       "<table border=\"1\" class=\"dataframe\">\n",
       "  <thead>\n",
       "    <tr style=\"text-align: right;\">\n",
       "      <th></th>\n",
       "      <th>column_id</th>\n",
       "      <th>score</th>\n",
       "      <th>relevancy</th>\n",
       "      <th>column_name</th>\n",
       "      <th>column_glossary</th>\n",
       "      <th>column_tags</th>\n",
       "      <th>category</th>\n",
       "      <th>table_name</th>\n",
       "      <th>table_glossary</th>\n",
       "      <th>uniqueness</th>\n",
       "      <th>completeness</th>\n",
       "      <th>count</th>\n",
       "      <th>null_count</th>\n",
       "      <th>distinct_count</th>\n",
       "      <th>sample_data</th>\n",
       "    </tr>\n",
       "  </thead>\n",
       "  <tbody>\n",
       "    <tr>\n",
       "      <th>0</th>\n",
       "      <td>encounters.reasondescription</td>\n",
       "      <td>0.964734</td>\n",
       "      <td>RelevancyCate</td>\n",
       "      <td>reasondescription</td>\n",
       "      <td>Describes the specific reason or condition ass...</td>\n",
       "      <td>[Reason For Visit, Clinical Diagnosis, Patient...</td>\n",
       "      <td>dimension</td>\n",
       "      <td>encounters</td>\n",
       "      <td>Tracks interactions between individuals and se...</td>\n",
       "      <td>0.023000</td>\n",
       "      <td>0.2865</td>\n",
       "      <td>2000</td>\n",
       "      <td>1427</td>\n",
       "      <td>46</td>\n",
       "      <td>[Otitis media, Secondary malignant neoplasm of...</td>\n",
       "    </tr>\n",
       "    <tr>\n",
       "      <th>1</th>\n",
       "      <td>careplans.reasondescription</td>\n",
       "      <td>0.888476</td>\n",
       "      <td>RelevancyCate</td>\n",
       "      <td>reasondescription</td>\n",
       "      <td>Describes the medical condition or reason for ...</td>\n",
       "      <td>[Medical Condition, Care Plan Reason, Diagnosi...</td>\n",
       "      <td>dimension</td>\n",
       "      <td>careplans</td>\n",
       "      <td>Defines structured plans outlining the timelin...</td>\n",
       "      <td>0.031500</td>\n",
       "      <td>0.8480</td>\n",
       "      <td>2000</td>\n",
       "      <td>304</td>\n",
       "      <td>63</td>\n",
       "      <td>[Suspected COVID-19, Fracture of rib, Rupture ...</td>\n",
       "    </tr>\n",
       "    <tr>\n",
       "      <th>2</th>\n",
       "      <td>careplans.reasoncode</td>\n",
       "      <td>0.881055</td>\n",
       "      <td>RelevancyCate</td>\n",
       "      <td>reasoncode</td>\n",
       "      <td>Indicates the underlying justification or rati...</td>\n",
       "      <td>[Clinical Reason Codes, Care Plan Justificatio...</td>\n",
       "      <td>dimension</td>\n",
       "      <td>careplans</td>\n",
       "      <td>Defines structured plans outlining the timelin...</td>\n",
       "      <td>0.031500</td>\n",
       "      <td>0.8480</td>\n",
       "      <td>2000</td>\n",
       "      <td>304</td>\n",
       "      <td>63</td>\n",
       "      <td>[55822004, 45816000, 840539006, 59621000, 3702...</td>\n",
       "    </tr>\n",
       "    <tr>\n",
       "      <th>3</th>\n",
       "      <td>careplans.id</td>\n",
       "      <td>0.878966</td>\n",
       "      <td>RelevancyCate</td>\n",
       "      <td>id</td>\n",
       "      <td>Serves as a unique identifier for individual c...</td>\n",
       "      <td>[CarePlanIdentifier, PatientCareTracking, Heal...</td>\n",
       "      <td>dimension</td>\n",
       "      <td>careplans</td>\n",
       "      <td>Defines structured plans outlining the timelin...</td>\n",
       "      <td>1.000000</td>\n",
       "      <td>1.0000</td>\n",
       "      <td>2000</td>\n",
       "      <td>0</td>\n",
       "      <td>2000</td>\n",
       "      <td>[265fad83-f439-03f4-d872-567def0aea68, c887871...</td>\n",
       "    </tr>\n",
       "    <tr>\n",
       "      <th>4</th>\n",
       "      <td>payers.amount_covered</td>\n",
       "      <td>0.878696</td>\n",
       "      <td>RelevancyCate</td>\n",
       "      <td>amount_covered</td>\n",
       "      <td>Indicates the monetary amount a payer is respo...</td>\n",
       "      <td>[Insurance Coverage, Healthcare Payments, Reim...</td>\n",
       "      <td>measure</td>\n",
       "      <td>payers</td>\n",
       "      <td>Organizations or entities responsible for fina...</td>\n",
       "      <td>1.000000</td>\n",
       "      <td>1.0000</td>\n",
       "      <td>10</td>\n",
       "      <td>0</td>\n",
       "      <td>10</td>\n",
       "      <td>[36196594.58, 1628527.74, 1252204.71, 34666020...</td>\n",
       "    </tr>\n",
       "    <tr>\n",
       "      <th>...</th>\n",
       "      <td>...</td>\n",
       "      <td>...</td>\n",
       "      <td>...</td>\n",
       "      <td>...</td>\n",
       "      <td>...</td>\n",
       "      <td>...</td>\n",
       "      <td>...</td>\n",
       "      <td>...</td>\n",
       "      <td>...</td>\n",
       "      <td>...</td>\n",
       "      <td>...</td>\n",
       "      <td>...</td>\n",
       "      <td>...</td>\n",
       "      <td>...</td>\n",
       "      <td>...</td>\n",
       "    </tr>\n",
       "    <tr>\n",
       "      <th>244</th>\n",
       "      <td>allergies.patient</td>\n",
       "      <td>0.811911</td>\n",
       "      <td>Relevanc</td>\n",
       "      <td>patient</td>\n",
       "      <td>Identifies individuals associated with recorde...</td>\n",
       "      <td>[Patient Identifier, Healthcare Record Linkage...</td>\n",
       "      <td>dimension</td>\n",
       "      <td>allergies</td>\n",
       "      <td>Tracks documented allergic conditions, intoler...</td>\n",
       "      <td>0.225441</td>\n",
       "      <td>1.0000</td>\n",
       "      <td>794</td>\n",
       "      <td>0</td>\n",
       "      <td>179</td>\n",
       "      <td>[ac58e6c6-b5d7-8fe7-a0f3-452885f7b560, ce0cf6c...</td>\n",
       "    </tr>\n",
       "    <tr>\n",
       "      <th>245</th>\n",
       "      <td>encounters.code</td>\n",
       "      <td>0.809779</td>\n",
       "      <td>Relevanc</td>\n",
       "      <td>code</td>\n",
       "      <td>Identifies the type or category of medical enc...</td>\n",
       "      <td>[Medical Procedure Code, Clinical Terminology,...</td>\n",
       "      <td>dimension</td>\n",
       "      <td>encounters</td>\n",
       "      <td>Tracks interactions between individuals and se...</td>\n",
       "      <td>0.016500</td>\n",
       "      <td>1.0000</td>\n",
       "      <td>2000</td>\n",
       "      <td>0</td>\n",
       "      <td>33</td>\n",
       "      <td>[439740005, 50849002, 223484005, 698314001, 23...</td>\n",
       "    </tr>\n",
       "    <tr>\n",
       "      <th>246</th>\n",
       "      <td>procedures.patient</td>\n",
       "      <td>0.808826</td>\n",
       "      <td>Relevanc</td>\n",
       "      <td>patient</td>\n",
       "      <td>Identifies individuals associated with medical...</td>\n",
       "      <td>[Patient Identifier, Healthcare Entity, Proced...</td>\n",
       "      <td>dimension</td>\n",
       "      <td>procedures</td>\n",
       "      <td>Tracks detailed records of medical procedures ...</td>\n",
       "      <td>0.015000</td>\n",
       "      <td>1.0000</td>\n",
       "      <td>2000</td>\n",
       "      <td>0</td>\n",
       "      <td>30</td>\n",
       "      <td>[8c2d5e9b-0717-9616-beb9-21296a5b547d, 61a2fcc...</td>\n",
       "    </tr>\n",
       "    <tr>\n",
       "      <th>247</th>\n",
       "      <td>supplies.code</td>\n",
       "      <td>0.808249</td>\n",
       "      <td>Relevanc</td>\n",
       "      <td>code</td>\n",
       "      <td>Identifies specific items or categories within...</td>\n",
       "      <td>[Medical Supply Classification, Healthcare Inv...</td>\n",
       "      <td>dimension</td>\n",
       "      <td>supplies</td>\n",
       "      <td>Tracks the distribution and usage of medical i...</td>\n",
       "      <td>0.012715</td>\n",
       "      <td>1.0000</td>\n",
       "      <td>1573</td>\n",
       "      <td>0</td>\n",
       "      <td>20</td>\n",
       "      <td>[409534002, 17102003, 470618009, 468601005, 46...</td>\n",
       "    </tr>\n",
       "    <tr>\n",
       "      <th>248</th>\n",
       "      <td>providers.address</td>\n",
       "      <td>0.807834</td>\n",
       "      <td>Relevanc</td>\n",
       "      <td>address</td>\n",
       "      <td>Identifies the physical location associated wi...</td>\n",
       "      <td>[Provider Location, Service Address, Healthcar...</td>\n",
       "      <td>dimension</td>\n",
       "      <td>providers</td>\n",
       "      <td>Captures information about individual professi...</td>\n",
       "      <td>0.314500</td>\n",
       "      <td>1.0000</td>\n",
       "      <td>2000</td>\n",
       "      <td>0</td>\n",
       "      <td>629</td>\n",
       "      <td>[40 WRIGHT STREET, 100 HIGHLAND ST, 148 CHESTN...</td>\n",
       "    </tr>\n",
       "  </tbody>\n",
       "</table>\n",
       "<p>249 rows × 15 columns</p>\n",
       "</div>"
      ],
      "text/plain": [
       "                        column_id     score      relevancy        column_name  \\\n",
       "0    encounters.reasondescription  0.964734  RelevancyCate  reasondescription   \n",
       "1     careplans.reasondescription  0.888476  RelevancyCate  reasondescription   \n",
       "2            careplans.reasoncode  0.881055  RelevancyCate         reasoncode   \n",
       "3                    careplans.id  0.878966  RelevancyCate                 id   \n",
       "4           payers.amount_covered  0.878696  RelevancyCate     amount_covered   \n",
       "..                            ...       ...            ...                ...   \n",
       "244             allergies.patient  0.811911       Relevanc            patient   \n",
       "245               encounters.code  0.809779       Relevanc               code   \n",
       "246            procedures.patient  0.808826       Relevanc            patient   \n",
       "247                 supplies.code  0.808249       Relevanc               code   \n",
       "248             providers.address  0.807834       Relevanc            address   \n",
       "\n",
       "                                       column_glossary  \\\n",
       "0    Describes the specific reason or condition ass...   \n",
       "1    Describes the medical condition or reason for ...   \n",
       "2    Indicates the underlying justification or rati...   \n",
       "3    Serves as a unique identifier for individual c...   \n",
       "4    Indicates the monetary amount a payer is respo...   \n",
       "..                                                 ...   \n",
       "244  Identifies individuals associated with recorde...   \n",
       "245  Identifies the type or category of medical enc...   \n",
       "246  Identifies individuals associated with medical...   \n",
       "247  Identifies specific items or categories within...   \n",
       "248  Identifies the physical location associated wi...   \n",
       "\n",
       "                                           column_tags   category  table_name  \\\n",
       "0    [Reason For Visit, Clinical Diagnosis, Patient...  dimension  encounters   \n",
       "1    [Medical Condition, Care Plan Reason, Diagnosi...  dimension   careplans   \n",
       "2    [Clinical Reason Codes, Care Plan Justificatio...  dimension   careplans   \n",
       "3    [CarePlanIdentifier, PatientCareTracking, Heal...  dimension   careplans   \n",
       "4    [Insurance Coverage, Healthcare Payments, Reim...    measure      payers   \n",
       "..                                                 ...        ...         ...   \n",
       "244  [Patient Identifier, Healthcare Record Linkage...  dimension   allergies   \n",
       "245  [Medical Procedure Code, Clinical Terminology,...  dimension  encounters   \n",
       "246  [Patient Identifier, Healthcare Entity, Proced...  dimension  procedures   \n",
       "247  [Medical Supply Classification, Healthcare Inv...  dimension    supplies   \n",
       "248  [Provider Location, Service Address, Healthcar...  dimension   providers   \n",
       "\n",
       "                                        table_glossary  uniqueness  \\\n",
       "0    Tracks interactions between individuals and se...    0.023000   \n",
       "1    Defines structured plans outlining the timelin...    0.031500   \n",
       "2    Defines structured plans outlining the timelin...    0.031500   \n",
       "3    Defines structured plans outlining the timelin...    1.000000   \n",
       "4    Organizations or entities responsible for fina...    1.000000   \n",
       "..                                                 ...         ...   \n",
       "244  Tracks documented allergic conditions, intoler...    0.225441   \n",
       "245  Tracks interactions between individuals and se...    0.016500   \n",
       "246  Tracks detailed records of medical procedures ...    0.015000   \n",
       "247  Tracks the distribution and usage of medical i...    0.012715   \n",
       "248  Captures information about individual professi...    0.314500   \n",
       "\n",
       "     completeness  count  null_count  distinct_count  \\\n",
       "0          0.2865   2000        1427              46   \n",
       "1          0.8480   2000         304              63   \n",
       "2          0.8480   2000         304              63   \n",
       "3          1.0000   2000           0            2000   \n",
       "4          1.0000     10           0              10   \n",
       "..            ...    ...         ...             ...   \n",
       "244        1.0000    794           0             179   \n",
       "245        1.0000   2000           0              33   \n",
       "246        1.0000   2000           0              30   \n",
       "247        1.0000   1573           0              20   \n",
       "248        1.0000   2000           0             629   \n",
       "\n",
       "                                           sample_data  \n",
       "0    [Otitis media, Secondary malignant neoplasm of...  \n",
       "1    [Suspected COVID-19, Fracture of rib, Rupture ...  \n",
       "2    [55822004, 45816000, 840539006, 59621000, 3702...  \n",
       "3    [265fad83-f439-03f4-d872-567def0aea68, c887871...  \n",
       "4    [36196594.58, 1628527.74, 1252204.71, 34666020...  \n",
       "..                                                 ...  \n",
       "244  [ac58e6c6-b5d7-8fe7-a0f3-452885f7b560, ce0cf6c...  \n",
       "245  [439740005, 50849002, 223484005, 698314001, 23...  \n",
       "246  [8c2d5e9b-0717-9616-beb9-21296a5b547d, 61a2fcc...  \n",
       "247  [409534002, 17102003, 470618009, 468601005, 46...  \n",
       "248  [40 WRIGHT STREET, 100 HIGHLAND ST, 148 CHESTN...  \n",
       "\n",
       "[249 rows x 15 columns]"
      ]
     },
     "execution_count": 10,
     "metadata": {},
     "output_type": "execute_result"
    }
   ],
   "source": [
    "# Perform a semantic search\n",
    "search_results = sm.search(\"reason for hospital visit\")\n",
    "\n",
    "# View the search results\n",
    "search_results"
   ]
  },
  {
   "cell_type": "markdown",
   "id": "8c72eb29",
   "metadata": {},
   "source": [
    "## 6. Data Product Creation\n",
    "\n",
    "The semantic layer serves as a foundation for the DataProduct, which streamlines the creation of reusable data products. This allows you\n",
    "to encapsulate business logic and create standardized, trustworthy data assets that can be easily shared and reused across different teams and \n",
    "applications.\n",
    "\n",
    "Let's define the model for the data product we want to build:"
   ]
  },
  {
   "cell_type": "code",
   "execution_count": 11,
   "id": "b2962ea0",
   "metadata": {},
   "outputs": [],
   "source": [
    "data_product_config = {\n",
    "  \"name\": \"top_patients_by_claim_count\",\n",
    "  \"fields\": [\n",
    "    {\n",
    "      \"id\": \"patients.first\",\n",
    "      \"name\": \"first_name\",\n",
    "    },\n",
    "    {\n",
    "      \"id\": \"patients.last\",\n",
    "      \"name\": \"last_name\",\n",
    "    },\n",
    "    {\n",
    "      \"id\": \"claims.id\",\n",
    "      \"name\": \"number_of_claims\",\n",
    "      \"category\": \"measure\",\n",
    "      \"measure_func\": \"count\"\n",
    "    }\n",
    "  ],\n",
    "  \"filter\": {\n",
    "    \"sort_by\": [\n",
    "      {\n",
    "        \"id\": \"claims.id\",\n",
    "        \"alias\": \"number_of_claims\",\n",
    "        \"direction\": \"desc\"\n",
    "      }\n",
    "    ],\n",
    "    \"limit\": 10\n",
    "  }\n",
    "}"
   ]
  },
  {
   "cell_type": "markdown",
   "id": "fd5798d9",
   "metadata": {},
   "source": [
    "Now, let's use the `DataProduct` to generate the data product:"
   ]
  },
  {
   "cell_type": "code",
   "execution_count": 12,
   "id": "006db138",
   "metadata": {},
   "outputs": [
    {
     "name": "stdout",
     "output_type": "stream",
     "text": [
      "Found existing YAML for 'payers'. Checking for staleness.\n",
      "payers loaded\n",
      "Found existing YAML for 'patients'. Checking for staleness.\n",
      "patients loaded\n",
      "Found existing YAML for 'immunizations'. Checking for staleness.\n",
      "immunizations loaded\n",
      "Found existing YAML for 'supplies'. Checking for staleness.\n",
      "supplies loaded\n",
      "Found existing YAML for 'imaging_studies'. Checking for staleness.\n",
      "imaging_studies loaded\n",
      "Found existing YAML for 'medications'. Checking for staleness.\n",
      "medications loaded\n",
      "Found existing YAML for 'careplans'. Checking for staleness.\n",
      "careplans loaded\n",
      "Found existing YAML for 'organizations'. Checking for staleness.\n",
      "organizations loaded\n",
      "Found existing YAML for 'observations'. Checking for staleness.\n",
      "observations loaded\n",
      "Found existing YAML for 'claims'. Checking for staleness.\n",
      "claims loaded\n",
      "Found existing YAML for 'allergies'. Checking for staleness.\n",
      "allergies loaded\n",
      "Found existing YAML for 'payer_transitions'. Checking for staleness.\n",
      "payer_transitions loaded\n",
      "Found existing YAML for 'encounters'. Checking for staleness.\n",
      "encounters loaded\n",
      "Found existing YAML for 'procedures'. Checking for staleness.\n",
      "procedures loaded\n",
      "Found existing YAML for 'claims_transactions'. Checking for staleness.\n",
      "claims_transactions loaded\n",
      "Found existing YAML for 'conditions'. Checking for staleness.\n",
      "conditions loaded\n",
      "Found existing YAML for 'devices'. Checking for staleness.\n",
      "devices loaded\n",
      "Found existing YAML for 'providers'. Checking for staleness.\n",
      "providers loaded\n",
      "top_patients_by_claim_count\n",
      "top_patients_by_claim_count loaded\n"
     ]
    },
    {
     "data": {
      "text/html": [
       "<div>\n",
       "<style scoped>\n",
       "    .dataframe tbody tr th:only-of-type {\n",
       "        vertical-align: middle;\n",
       "    }\n",
       "\n",
       "    .dataframe tbody tr th {\n",
       "        vertical-align: top;\n",
       "    }\n",
       "\n",
       "    .dataframe thead th {\n",
       "        text-align: right;\n",
       "    }\n",
       "</style>\n",
       "<table border=\"1\" class=\"dataframe\">\n",
       "  <thead>\n",
       "    <tr style=\"text-align: right;\">\n",
       "      <th></th>\n",
       "      <th>first_name</th>\n",
       "      <th>last_name</th>\n",
       "      <th>number_of_claims</th>\n",
       "    </tr>\n",
       "  </thead>\n",
       "  <tbody>\n",
       "    <tr>\n",
       "      <th>0</th>\n",
       "      <td>Esther279</td>\n",
       "      <td>Runolfsson901</td>\n",
       "      <td>246</td>\n",
       "    </tr>\n",
       "    <tr>\n",
       "      <th>1</th>\n",
       "      <td>Zelda766</td>\n",
       "      <td>Ernser583</td>\n",
       "      <td>219</td>\n",
       "    </tr>\n",
       "    <tr>\n",
       "      <th>2</th>\n",
       "      <td>Bonita405</td>\n",
       "      <td>Bernier607</td>\n",
       "      <td>121</td>\n",
       "    </tr>\n",
       "    <tr>\n",
       "      <th>3</th>\n",
       "      <td>Pei116</td>\n",
       "      <td>Williamson769</td>\n",
       "      <td>98</td>\n",
       "    </tr>\n",
       "    <tr>\n",
       "      <th>4</th>\n",
       "      <td>Lavinia262</td>\n",
       "      <td>Heaney114</td>\n",
       "      <td>90</td>\n",
       "    </tr>\n",
       "    <tr>\n",
       "      <th>5</th>\n",
       "      <td>Magdalene960</td>\n",
       "      <td>Orn563</td>\n",
       "      <td>90</td>\n",
       "    </tr>\n",
       "    <tr>\n",
       "      <th>6</th>\n",
       "      <td>Tommye961</td>\n",
       "      <td>Simonis280</td>\n",
       "      <td>77</td>\n",
       "    </tr>\n",
       "    <tr>\n",
       "      <th>7</th>\n",
       "      <td>Franklyn361</td>\n",
       "      <td>Tromp100</td>\n",
       "      <td>71</td>\n",
       "    </tr>\n",
       "    <tr>\n",
       "      <th>8</th>\n",
       "      <td>Terry864</td>\n",
       "      <td>King743</td>\n",
       "      <td>69</td>\n",
       "    </tr>\n",
       "    <tr>\n",
       "      <th>9</th>\n",
       "      <td>Alaine226</td>\n",
       "      <td>Willms744</td>\n",
       "      <td>64</td>\n",
       "    </tr>\n",
       "  </tbody>\n",
       "</table>\n",
       "</div>"
      ],
      "text/plain": [
       "     first_name      last_name  number_of_claims\n",
       "0     Esther279  Runolfsson901               246\n",
       "1      Zelda766      Ernser583               219\n",
       "2     Bonita405     Bernier607               121\n",
       "3        Pei116  Williamson769                98\n",
       "4    Lavinia262      Heaney114                90\n",
       "5  Magdalene960         Orn563                90\n",
       "6     Tommye961     Simonis280                77\n",
       "7   Franklyn361       Tromp100                71\n",
       "8      Terry864        King743                69\n",
       "9     Alaine226      Willms744                64"
      ]
     },
     "execution_count": 12,
     "metadata": {},
     "output_type": "execute_result"
    }
   ],
   "source": [
    "from intugle import DataProduct\n",
    "\n",
    "# Create a DataProduct\n",
    "dp = DataProduct()\n",
    "\n",
    "# Generate the data product\n",
    "data_product = dp.build(data_product_config)\n",
    "\n",
    "data_product.to_df()"
   ]
  },
  {
   "cell_type": "markdown",
   "id": "036ad641",
   "metadata": {},
   "source": [
    "The `build` function returns a `DataSet` object. You can also view the generated SQL query used for creating the data product:"
   ]
  },
  {
   "cell_type": "code",
   "execution_count": 13,
   "id": "5ecf2cbd",
   "metadata": {},
   "outputs": [
    {
     "data": {
      "text/plain": [
       "'SELECT \"patients\".\"first\" as first_name, \"patients\".\"last\" as last_name, count(\"claims\".\"id\") as number_of_claims FROM claims LEFT JOIN patients ON \"claims\".\"patientid\" = \"patients\".\"id\" GROUP BY \"patients\".\"first\" , \"patients\".\"last\" ORDER BY number_of_claims DESC LIMIT 10'"
      ]
     },
     "execution_count": 13,
     "metadata": {},
     "output_type": "execute_result"
    }
   ],
   "source": [
    "# The generated SQL query\n",
    "data_product.sql_query"
   ]
  },
  {
   "cell_type": "markdown",
   "id": "a60371d8",
   "metadata": {},
   "source": [
    "## Conclusion\n",
    "\n",
    "You've learned how to:\n",
    "\n",
    "*   Configure your LLM provider and Embeddings provider.\n",
    "*   Build a semantic model using the `SemanticModel`.\n",
    "*   Access enriched metadata, business glossaries and visualize the relationships between your tables.\n",
    "*   Perform semantic search on your semantic model.\n",
    "*   Generate data products from the semantic layer using the `DataProduct`.\n",
    "\n",
    "This is just a starting point. This project has many other features to explore. We encourage you to try it with your own data and see how it can help you build a powerful semantic layer."
   ]
  }
 ],
 "metadata": {
  "kernelspec": {
   "display_name": "intugle",
   "language": "python",
   "name": "python3"
  },
  "language_info": {
   "codemirror_mode": {
    "name": "ipython",
    "version": 3
   },
   "file_extension": ".py",
   "mimetype": "text/x-python",
   "name": "python",
   "nbconvert_exporter": "python",
   "pygments_lexer": "ipython3",
   "version": "3.12.3"
  }
 },
 "nbformat": 4,
 "nbformat_minor": 5
}
