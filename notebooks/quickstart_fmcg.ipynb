{
 "cells": [
  {
   "cell_type": "markdown",
   "id": "b530a559",
   "metadata": {},
   "source": [
    "# Quickstart: Building a GenAI powered Semantic Data Model with Intugle\n",
    "\n",
    "This quickstart shows you how to use Intugle’s open-source library to transform fragmented datasets into a connected semantic model. The semantic model captures profiling, relationships, and business meaning of your data — making it instantly usable for exploration, search, and data product creation.\n",
    "\n",
    "**What is a Semantic Model?**\n",
    "\n",
    "A semantic model is an intelligent knowledge graph of your data. It connects tables, discovers relationships, and enriches them with business glossaries — so both data teams and business users can query with clarity, not complexity.\n",
    "\n",
    "**Who is this for?**\n",
    "\n",
    "*   **Data Engineers & Architects** often spend weeks manually profiling, classifying, and stitching together fragmented data assets. With Intugle, they can automate this process end-to-end, uncovering meaningful links and relationships to instantly generate a connected semantic layer.\n",
    "*   **Data Analysts & Scientists** spend endless hours on data readiness and preparation before they can even start the real analysis. Intugle accelerates this by providing contextual intelligence, automatically generating SQL and reusable data products enriched with relationships and business meaning.\n",
    "*   **Business Analysts & Decision Makers** are slowed down by constant dependence on technical teams for answers. Intugle removes this bottleneck by enabling natural language queries and semantic search, giving them trusted insights on demand.\n",
    "\n",
    "**In this notebook, you will learn how to:**\n",
    "\n",
    "*   **Generate Semantic Model** → The unified layer that transforms fragmented datasets, creating the foundation for connected intelligence.\n",
    "    *   **1.1 Profile and classify data** → Analyze your data sources to understand their structure, data types, and other characteristics.\n",
    "    *   **1.2 Discover links & relationships among data** → Reveal meaningful connections (PK & FK) across fragmented tables.\n",
    "    *   **1.3 Generate a business glossary** → Create business-friendly terms and use them to query data with context.\n",
    "    *   **1.4 Enable Semantic search** → Intelligent search that understands meaning, not just keywords—making data more accessible across both technical and business users.\n",
    "    *   **1.5 Visualize semantic model** → Get access to enriched metadata of the semantic model and visualize your data and relationships.\n",
    "*   **Build Unified Data Products** → Simply pick the attributes across your data tables, and let the toolkit auto-generate queries with all the required joins, transformations, and aggregations using the semantic layer. When executed, these queries produce reusable data products.\n",
    "\n",
    "Before you start, make sure you install the **Intugle Data Tools**:"
   ]
  },
  {
   "cell_type": "code",
   "execution_count": null,
   "id": "ea7ac278",
   "metadata": {},
   "outputs": [],
   "source": [
    "%pip install intugle"
   ]
  },
  {
   "cell_type": "markdown",
   "id": "27de922f",
   "metadata": {},
   "source": [
    "## 1. LLM Configuration\n",
    "\n",
    "Before running the project, you need to configure a Large Language Model (LLM). This is used for tasks like generating business glossaries and predicting links between tables. For the semantic search feature, you will also need to set up Qdrant and provide an OpenAI API key. For detailed setup instructions, please refer to the [README.md](README.md) file.\n",
    "\n",
    "You can configure the necessary services by setting the following environment variables:\n",
    "\n",
    "*   `LLM_PROVIDER`: The LLM provider and model to use (e.g., `openai:gpt-3.5-turbo`). The format follows langchain's format for initializing chat models. Checkout how to specify your model [here](https://python.langchain.com/docs/integrations/chat/)\n",
    "*   `API_KEY`: Your API key for the LLM provider. The exact name of the variable may vary from provider to provider (e.g., `OPENAI_API_KEY`, `ANTHROPIC_API_KEY`).\n",
    "*   `QDRANT_URL`: The URL of your Qdrant instance (e.g., `http://localhost:6333`).\n",
    "*   `QDRANT_API_KEY`: Your API key for the Qdrant instance, if authorization is enabled.\n",
    "*   `EMBEDDING_MODEL_NAME`: The embedding model to use. The format follows LangChain's conventions for initializing embedding models (e.g., `openai:ada`, `azure_openai:ada`).\n",
    "*   `OPENAI_API_KEY`: Your OpenAI API key, required if you are using an OpenAI embedding model.\n",
    "*   `AZURE_OPENAI_API_KEY`, `AZURE_OPENAI_ENDPOINT`, `OPENAI_API_VERSION`: Your Azure OpenAI credentials, required if you are using an Azure OpenAI embedding model.\n",
    "\n",
    "Here's an example of how to set these variables in your environment:\n",
    "\n",
    "```bash\n",
    "export LLM_PROVIDER=\"openai:gpt-3.5-turbo\"\n",
    "export OPENAI_API_KEY=\"your-openai-api-key\"\n",
    "```\n",
    "Alternatively, you can set them in the notebook like this:"
   ]
  },
  {
   "cell_type": "code",
   "execution_count": null,
   "id": "63dad784",
   "metadata": {},
   "outputs": [],
   "source": [
    "import os\n",
    "\n",
    "os.environ[\"LLM_PROVIDER\"] = \"openai:gpt-3.5-turbo\"\n",
    "os.environ[\"OPENAI_API_KEY\"] = \"your-openai-api-key\"  # Replace with your actual key\n",
    "\n",
    "# Semantic Search Configuration (Optional)\n",
    "os.environ[\"QDRANT_URL\"] = \"http://localhost:6333\"\n",
    "os.environ[\"QDRANT_API_KEY\"] = \"\"  # if authorization is used\n",
    "os.environ[\"EMBEDDING_MODEL_NAME\"] = \"openai:ada\"\n",
    "os.environ[\"OPENAI_API_KEY\"] = \"your-openai-api-key\"\n",
    "\n",
    "# For Azure OpenAI models\n",
    "os.environ[\"EMBEDDING_MODEL_NAME\"] = \"azure_openai:ada\"\n",
    "os.environ[\"AZURE_OPENAI_API_KEY\"] = \"your-azure-openai-api-key\"\n",
    "os.environ[\"AZURE_OPENAI_ENDPOINT\"] = \"your-azure-openai-endpoint\"\n",
    "os.environ[\"OPENAI_API_VERSION\"] = \"your-openai-api-version\"\n"
   ]
  },
  {
   "cell_type": "markdown",
   "id": "af3ae0e5",
   "metadata": {},
   "source": [
    "> Currently the langchain packages for OpenAI, Anthropic and Gemini is installed by default. For additional models, make sure you have the integration packages installed. E.g. you should have langchain-deepseek installed to use a DeepSeek model. You can get these packages here: [LangChain Chat Models](https://python.langchain.com/docs/integrations/chat/)"
   ]
  },
  {
   "cell_type": "markdown",
   "id": "5a456419",
   "metadata": {},
   "source": [
    "## 2. Building the Semantic Model\n",
    "\n",
    "The `SemanticModel` is the entry point for building your semantic layer. It takes a dictionary of datasets as input and performs the following steps:\n",
    "\n",
    "1.  **Data Profiling:** Calculates statistics for each column, such as distinct count, uniqueness, and completeness.\n",
    "2.  **Datatype Identification:** Identifies the data type of each column (e.g., integer, string, datetime).\n",
    "3.  **Key Identification:** Identifies potential primary keys.\n",
    "4.  **Glossary Generation:** Generates a business glossary for each column using an LLM.\n",
    "5.  **Link Prediction:** Predicts the relationships (foreign keys) between tables.\n",
    "\n",
    "Let's start by defining the datasets we want to use. The path shown below can be a local file path or a remote URL."
   ]
  },
  {
   "cell_type": "code",
   "execution_count": null,
   "id": "f0ecc2ba",
   "metadata": {},
   "outputs": [],
   "source": [
    "def generate_config(table_name: str) -> str:\n",
    "    \"\"\"Append the base URL to the table name.\"\"\"\n",
    "    return {\n",
    "        \"path\": f\"https://github.com/Intugle/data-tools/tree/main/sample_data/fmcg/{table_name}.csv\",\n",
    "        \"type\": \"csv\",\n",
    "    }\n",
    "\n",
    "\n",
    "table_names = [\n",
    "\"ad_spends\",\n",
    "\"comp_price\",\n",
    "\"cons_fb\",\n",
    "\"disti\",\n",
    "\"mkt_coverage\",\n",
    "\"prd_mstr\",\n",
    "\"price_sense\",\n",
    "\"pric_strat\",\n",
    "\"promo_camp\",\n",
    "\"retail_audit\",\n",
    "\"rnd\",\n",
    "\"sales\",\n",
    "\"social\",\n",
    "]\n",
    "\n",
    "\n",
    "datasets = {table: generate_config(table) for table in table_names}"
   ]
  },
  {
   "cell_type": "markdown",
   "id": "043edf37",
   "metadata": {},
   "source": [
    "Now, let's use the `SemanticModel` to build our semantic layer:\n",
    "\n",
    "> The `domain` parameter helps the LLM generate a more contextual business glossary. It specifies the industry domain that the dataset belongs to (e.g., \"Healthcare\", \"Finance\", \"E-commerce\")."
   ]
  },
  {
   "cell_type": "code",
   "execution_count": 3,
   "id": "1a393847",
   "metadata": {},
   "outputs": [
    {
     "name": "stderr",
     "output_type": "stream",
     "text": [
      "/home/raphael/Downloads/intugle_demo/env/lib/python3.12/site-packages/tqdm/auto.py:21: TqdmWarning: IProgress not found. Please update jupyter and ipywidgets. See https://ipywidgets.readthedocs.io/en/stable/user_install.html\n",
      "  from .autonotebook import tqdm as notebook_tqdm\n",
      "/home/raphael/Downloads/intugle_demo/env/lib/python3.12/site-packages/pydantic/_internal/_fields.py:198: UserWarning: Field name \"schema\" in \"Source\" shadows an attribute in parent \"BaseResource\"\n",
      "  warnings.warn(\n"
     ]
    },
    {
     "name": "stdout",
     "output_type": "stream",
     "text": [
      "ad_spends loaded\n",
      "comp_price loaded\n",
      "cons_fb loaded\n",
      "disti loaded\n",
      "mkt_coverage loaded\n",
      "prd_mstr loaded\n",
      "price_sense loaded\n",
      "pric_strat loaded\n",
      "promo_camp loaded\n",
      "retail_audit loaded\n",
      "rnd loaded\n",
      "sales loaded\n",
      "social loaded\n"
     ]
    },
    {
     "data": {
      "text/html": [
       "<pre style=\"white-space:pre;overflow-x:auto;line-height:normal;font-family:Menlo,'DejaVu Sans Mono',consolas,'Courier New',monospace\"><span style=\"color: #808000; text-decoration-color: #808000\">Starting profiling and key identification stage...</span>\n",
       "</pre>\n"
      ],
      "text/plain": [
       "\u001b[33mStarting profiling and key identification stage\u001b[0m\u001b[33m...\u001b[0m\n"
      ]
     },
     "metadata": {},
     "output_type": "display_data"
    },
    {
     "data": {
      "text/html": [
       "<pre style=\"white-space:pre;overflow-x:auto;line-height:normal;font-family:Menlo,'DejaVu Sans Mono',consolas,'Courier New',monospace\"><span style=\"color: #ffaf00; text-decoration-color: #ffaf00\">Processing dataset: ad_spends</span>\n",
       "</pre>\n"
      ],
      "text/plain": [
       "\u001b[38;5;214mProcessing dataset: ad_spends\u001b[0m\n"
      ]
     },
     "metadata": {},
     "output_type": "display_data"
    },
    {
     "name": "stderr",
     "output_type": "stream",
     "text": [
      "/home/raphael/Downloads/intugle_demo/env/lib/python3.12/site-packages/numpy/_core/fromnumeric.py:3859: RuntimeWarning: Mean of empty slice.\n",
      "  return _methods._mean(a, axis=axis, dtype=dtype,\n",
      "/home/raphael/Downloads/intugle_demo/env/lib/python3.12/site-packages/numpy/_core/_methods.py:144: RuntimeWarning: invalid value encountered in scalar divide\n",
      "  ret = ret.dtype.type(ret / rcount)\n",
      "100%|██████████| 4/4 [00:01<00:00,  2.08it/s]\n",
      "[*] ad_spends:   0%|          | 0/1 [00:00<?, ?it/s]/home/raphael/intugle/data-tools/src/intugle/core/pipeline/key_identification/ki.py:87: SettingWithCopyWarning: \n",
      "A value is trying to be set on a copy of a slice from a DataFrame\n",
      "\n",
      "See the caveats in the documentation: https://pandas.pydata.org/pandas-docs/stable/user_guide/indexing.html#returning-a-view-versus-a-copy\n",
      "  temp.rename(columns={\"datatype_l1\": \"datatype\"}, inplace=True)\n",
      "[*] ad_spends: 100%|██████████| 1/1 [00:00<00:00,  1.38it/s]\n"
     ]
    },
    {
     "data": {
      "text/html": [
       "<pre style=\"white-space:pre;overflow-x:auto;line-height:normal;font-family:Menlo,'DejaVu Sans Mono',consolas,'Courier New',monospace\"><span style=\"color: #ffaf00; text-decoration-color: #ffaf00\">Processing dataset: comp_price</span>\n",
       "</pre>\n"
      ],
      "text/plain": [
       "\u001b[38;5;214mProcessing dataset: comp_price\u001b[0m\n"
      ]
     },
     "metadata": {},
     "output_type": "display_data"
    },
    {
     "name": "stderr",
     "output_type": "stream",
     "text": [
      "/home/raphael/Downloads/intugle_demo/env/lib/python3.12/site-packages/numpy/_core/fromnumeric.py:3859: RuntimeWarning: Mean of empty slice.\n",
      "  return _methods._mean(a, axis=axis, dtype=dtype,\n",
      "/home/raphael/Downloads/intugle_demo/env/lib/python3.12/site-packages/numpy/_core/_methods.py:144: RuntimeWarning: invalid value encountered in scalar divide\n",
      "  ret = ret.dtype.type(ret / rcount)\n",
      "100%|██████████| 4/4 [00:03<00:00,  1.11it/s]\n",
      "[*] comp_price:   0%|          | 0/1 [00:00<?, ?it/s]/home/raphael/intugle/data-tools/src/intugle/core/pipeline/key_identification/ki.py:87: SettingWithCopyWarning: \n",
      "A value is trying to be set on a copy of a slice from a DataFrame\n",
      "\n",
      "See the caveats in the documentation: https://pandas.pydata.org/pandas-docs/stable/user_guide/indexing.html#returning-a-view-versus-a-copy\n",
      "  temp.rename(columns={\"datatype_l1\": \"datatype\"}, inplace=True)\n",
      "[*] comp_price: 100%|██████████| 1/1 [00:00<00:00,  2.20it/s]\n"
     ]
    },
    {
     "data": {
      "text/html": [
       "<pre style=\"white-space:pre;overflow-x:auto;line-height:normal;font-family:Menlo,'DejaVu Sans Mono',consolas,'Courier New',monospace\"><span style=\"color: #ffaf00; text-decoration-color: #ffaf00\">Processing dataset: cons_fb</span>\n",
       "</pre>\n"
      ],
      "text/plain": [
       "\u001b[38;5;214mProcessing dataset: cons_fb\u001b[0m\n"
      ]
     },
     "metadata": {},
     "output_type": "display_data"
    },
    {
     "name": "stderr",
     "output_type": "stream",
     "text": [
      "/home/raphael/Downloads/intugle_demo/env/lib/python3.12/site-packages/numpy/_core/fromnumeric.py:3859: RuntimeWarning: Mean of empty slice.\n",
      "  return _methods._mean(a, axis=axis, dtype=dtype,\n",
      "/home/raphael/Downloads/intugle_demo/env/lib/python3.12/site-packages/numpy/_core/_methods.py:144: RuntimeWarning: invalid value encountered in scalar divide\n",
      "  ret = ret.dtype.type(ret / rcount)\n",
      "100%|██████████| 5/5 [00:03<00:00,  1.56it/s]\n",
      "[*] cons_fb:   0%|          | 0/1 [00:00<?, ?it/s]/home/raphael/intugle/data-tools/src/intugle/core/pipeline/key_identification/ki.py:87: SettingWithCopyWarning: \n",
      "A value is trying to be set on a copy of a slice from a DataFrame\n",
      "\n",
      "See the caveats in the documentation: https://pandas.pydata.org/pandas-docs/stable/user_guide/indexing.html#returning-a-view-versus-a-copy\n",
      "  temp.rename(columns={\"datatype_l1\": \"datatype\"}, inplace=True)\n",
      "[*] cons_fb: 100%|██████████| 1/1 [00:02<00:00,  2.00s/it]\n"
     ]
    },
    {
     "data": {
      "text/html": [
       "<pre style=\"white-space:pre;overflow-x:auto;line-height:normal;font-family:Menlo,'DejaVu Sans Mono',consolas,'Courier New',monospace\"><span style=\"color: #ffaf00; text-decoration-color: #ffaf00\">Processing dataset: disti</span>\n",
       "</pre>\n"
      ],
      "text/plain": [
       "\u001b[38;5;214mProcessing dataset: disti\u001b[0m\n"
      ]
     },
     "metadata": {},
     "output_type": "display_data"
    },
    {
     "name": "stderr",
     "output_type": "stream",
     "text": [
      "/home/raphael/Downloads/intugle_demo/env/lib/python3.12/site-packages/numpy/_core/fromnumeric.py:3859: RuntimeWarning: Mean of empty slice.\n",
      "  return _methods._mean(a, axis=axis, dtype=dtype,\n",
      "/home/raphael/Downloads/intugle_demo/env/lib/python3.12/site-packages/numpy/_core/_methods.py:144: RuntimeWarning: invalid value encountered in scalar divide\n",
      "  ret = ret.dtype.type(ret / rcount)\n",
      "100%|██████████| 4/4 [00:02<00:00,  1.58it/s]\n",
      "[*] disti:   0%|          | 0/1 [00:00<?, ?it/s]/home/raphael/intugle/data-tools/src/intugle/core/pipeline/key_identification/ki.py:87: SettingWithCopyWarning: \n",
      "A value is trying to be set on a copy of a slice from a DataFrame\n",
      "\n",
      "See the caveats in the documentation: https://pandas.pydata.org/pandas-docs/stable/user_guide/indexing.html#returning-a-view-versus-a-copy\n",
      "  temp.rename(columns={\"datatype_l1\": \"datatype\"}, inplace=True)\n",
      "[*] disti: 100%|██████████| 1/1 [00:00<00:00,  1.84it/s]\n"
     ]
    },
    {
     "data": {
      "text/html": [
       "<pre style=\"white-space:pre;overflow-x:auto;line-height:normal;font-family:Menlo,'DejaVu Sans Mono',consolas,'Courier New',monospace\"><span style=\"color: #ffaf00; text-decoration-color: #ffaf00\">Processing dataset: mkt_coverage</span>\n",
       "</pre>\n"
      ],
      "text/plain": [
       "\u001b[38;5;214mProcessing dataset: mkt_coverage\u001b[0m\n"
      ]
     },
     "metadata": {},
     "output_type": "display_data"
    },
    {
     "name": "stderr",
     "output_type": "stream",
     "text": [
      "/home/raphael/Downloads/intugle_demo/env/lib/python3.12/site-packages/numpy/_core/fromnumeric.py:3859: RuntimeWarning: Mean of empty slice.\n",
      "  return _methods._mean(a, axis=axis, dtype=dtype,\n",
      "/home/raphael/Downloads/intugle_demo/env/lib/python3.12/site-packages/numpy/_core/_methods.py:144: RuntimeWarning: invalid value encountered in scalar divide\n",
      "  ret = ret.dtype.type(ret / rcount)\n",
      "100%|██████████| 5/5 [00:02<00:00,  1.94it/s]\n"
     ]
    },
    {
     "data": {
      "text/html": [
       "<pre style=\"white-space:pre;overflow-x:auto;line-height:normal;font-family:Menlo,'DejaVu Sans Mono',consolas,'Courier New',monospace\"><span style=\"color: #ffaf00; text-decoration-color: #ffaf00\">Processing dataset: prd_mstr</span>\n",
       "</pre>\n"
      ],
      "text/plain": [
       "\u001b[38;5;214mProcessing dataset: prd_mstr\u001b[0m\n"
      ]
     },
     "metadata": {},
     "output_type": "display_data"
    },
    {
     "name": "stderr",
     "output_type": "stream",
     "text": [
      "/home/raphael/Downloads/intugle_demo/env/lib/python3.12/site-packages/numpy/_core/fromnumeric.py:3859: RuntimeWarning: Mean of empty slice.\n",
      "  return _methods._mean(a, axis=axis, dtype=dtype,\n",
      "/home/raphael/Downloads/intugle_demo/env/lib/python3.12/site-packages/numpy/_core/_methods.py:144: RuntimeWarning: invalid value encountered in scalar divide\n",
      "  ret = ret.dtype.type(ret / rcount)\n",
      "100%|██████████| 4/4 [00:02<00:00,  1.65it/s]\n",
      "[*] prd_mstr:   0%|          | 0/1 [00:00<?, ?it/s]/home/raphael/intugle/data-tools/src/intugle/core/pipeline/key_identification/ki.py:87: SettingWithCopyWarning: \n",
      "A value is trying to be set on a copy of a slice from a DataFrame\n",
      "\n",
      "See the caveats in the documentation: https://pandas.pydata.org/pandas-docs/stable/user_guide/indexing.html#returning-a-view-versus-a-copy\n",
      "  temp.rename(columns={\"datatype_l1\": \"datatype\"}, inplace=True)\n",
      "[*] prd_mstr: 100%|██████████| 1/1 [00:00<00:00,  1.45it/s]\n"
     ]
    },
    {
     "data": {
      "text/html": [
       "<pre style=\"white-space:pre;overflow-x:auto;line-height:normal;font-family:Menlo,'DejaVu Sans Mono',consolas,'Courier New',monospace\"><span style=\"color: #ffaf00; text-decoration-color: #ffaf00\">Processing dataset: price_sense</span>\n",
       "</pre>\n"
      ],
      "text/plain": [
       "\u001b[38;5;214mProcessing dataset: price_sense\u001b[0m\n"
      ]
     },
     "metadata": {},
     "output_type": "display_data"
    },
    {
     "name": "stderr",
     "output_type": "stream",
     "text": [
      "/home/raphael/Downloads/intugle_demo/env/lib/python3.12/site-packages/numpy/_core/fromnumeric.py:3859: RuntimeWarning: Mean of empty slice.\n",
      "  return _methods._mean(a, axis=axis, dtype=dtype,\n",
      "/home/raphael/Downloads/intugle_demo/env/lib/python3.12/site-packages/numpy/_core/_methods.py:144: RuntimeWarning: invalid value encountered in scalar divide\n",
      "  ret = ret.dtype.type(ret / rcount)\n",
      "100%|██████████| 5/5 [00:03<00:00,  1.41it/s]\n",
      "[*] price_sense:   0%|          | 0/1 [00:00<?, ?it/s]/home/raphael/intugle/data-tools/src/intugle/core/pipeline/key_identification/ki.py:87: SettingWithCopyWarning: \n",
      "A value is trying to be set on a copy of a slice from a DataFrame\n",
      "\n",
      "See the caveats in the documentation: https://pandas.pydata.org/pandas-docs/stable/user_guide/indexing.html#returning-a-view-versus-a-copy\n",
      "  temp.rename(columns={\"datatype_l1\": \"datatype\"}, inplace=True)\n",
      "[*] price_sense: 100%|██████████| 1/1 [00:05<00:00,  5.85s/it]\n"
     ]
    },
    {
     "data": {
      "text/html": [
       "<pre style=\"white-space:pre;overflow-x:auto;line-height:normal;font-family:Menlo,'DejaVu Sans Mono',consolas,'Courier New',monospace\"><span style=\"color: #ffaf00; text-decoration-color: #ffaf00\">Processing dataset: pric_strat</span>\n",
       "</pre>\n"
      ],
      "text/plain": [
       "\u001b[38;5;214mProcessing dataset: pric_strat\u001b[0m\n"
      ]
     },
     "metadata": {},
     "output_type": "display_data"
    },
    {
     "name": "stderr",
     "output_type": "stream",
     "text": [
      "/home/raphael/Downloads/intugle_demo/env/lib/python3.12/site-packages/numpy/_core/fromnumeric.py:3859: RuntimeWarning: Mean of empty slice.\n",
      "  return _methods._mean(a, axis=axis, dtype=dtype,\n",
      "/home/raphael/Downloads/intugle_demo/env/lib/python3.12/site-packages/numpy/_core/_methods.py:144: RuntimeWarning: invalid value encountered in scalar divide\n",
      "  ret = ret.dtype.type(ret / rcount)\n",
      "100%|██████████| 5/5 [00:02<00:00,  1.86it/s]\n",
      "[*] pric_strat:   0%|          | 0/1 [00:00<?, ?it/s]/home/raphael/intugle/data-tools/src/intugle/core/pipeline/key_identification/ki.py:87: SettingWithCopyWarning: \n",
      "A value is trying to be set on a copy of a slice from a DataFrame\n",
      "\n",
      "See the caveats in the documentation: https://pandas.pydata.org/pandas-docs/stable/user_guide/indexing.html#returning-a-view-versus-a-copy\n",
      "  temp.rename(columns={\"datatype_l1\": \"datatype\"}, inplace=True)\n",
      "[*] pric_strat: 100%|██████████| 1/1 [00:00<00:00,  1.70it/s]\n"
     ]
    },
    {
     "data": {
      "text/html": [
       "<pre style=\"white-space:pre;overflow-x:auto;line-height:normal;font-family:Menlo,'DejaVu Sans Mono',consolas,'Courier New',monospace\"><span style=\"color: #ffaf00; text-decoration-color: #ffaf00\">Processing dataset: promo_camp</span>\n",
       "</pre>\n"
      ],
      "text/plain": [
       "\u001b[38;5;214mProcessing dataset: promo_camp\u001b[0m\n"
      ]
     },
     "metadata": {},
     "output_type": "display_data"
    },
    {
     "name": "stderr",
     "output_type": "stream",
     "text": [
      "/home/raphael/Downloads/intugle_demo/env/lib/python3.12/site-packages/numpy/_core/fromnumeric.py:3859: RuntimeWarning: Mean of empty slice.\n",
      "  return _methods._mean(a, axis=axis, dtype=dtype,\n",
      "/home/raphael/Downloads/intugle_demo/env/lib/python3.12/site-packages/numpy/_core/_methods.py:144: RuntimeWarning: invalid value encountered in scalar divide\n",
      "  ret = ret.dtype.type(ret / rcount)\n",
      "100%|██████████| 6/6 [00:05<00:00,  1.02it/s]\n",
      "[*] promo_camp:   0%|          | 0/1 [00:00<?, ?it/s]/home/raphael/intugle/data-tools/src/intugle/core/pipeline/key_identification/ki.py:87: SettingWithCopyWarning: \n",
      "A value is trying to be set on a copy of a slice from a DataFrame\n",
      "\n",
      "See the caveats in the documentation: https://pandas.pydata.org/pandas-docs/stable/user_guide/indexing.html#returning-a-view-versus-a-copy\n",
      "  temp.rename(columns={\"datatype_l1\": \"datatype\"}, inplace=True)\n",
      "[*] promo_camp: 100%|██████████| 1/1 [00:05<00:00,  5.49s/it]\n"
     ]
    },
    {
     "data": {
      "text/html": [
       "<pre style=\"white-space:pre;overflow-x:auto;line-height:normal;font-family:Menlo,'DejaVu Sans Mono',consolas,'Courier New',monospace\"><span style=\"color: #ffaf00; text-decoration-color: #ffaf00\">Processing dataset: retail_audit</span>\n",
       "</pre>\n"
      ],
      "text/plain": [
       "\u001b[38;5;214mProcessing dataset: retail_audit\u001b[0m\n"
      ]
     },
     "metadata": {},
     "output_type": "display_data"
    },
    {
     "name": "stderr",
     "output_type": "stream",
     "text": [
      "/home/raphael/Downloads/intugle_demo/env/lib/python3.12/site-packages/numpy/_core/fromnumeric.py:3859: RuntimeWarning: Mean of empty slice.\n",
      "  return _methods._mean(a, axis=axis, dtype=dtype,\n",
      "/home/raphael/Downloads/intugle_demo/env/lib/python3.12/site-packages/numpy/_core/_methods.py:144: RuntimeWarning: invalid value encountered in scalar divide\n",
      "  ret = ret.dtype.type(ret / rcount)\n",
      "100%|██████████| 6/6 [00:02<00:00,  2.41it/s]\n"
     ]
    },
    {
     "data": {
      "text/html": [
       "<pre style=\"white-space:pre;overflow-x:auto;line-height:normal;font-family:Menlo,'DejaVu Sans Mono',consolas,'Courier New',monospace\"><span style=\"color: #ffaf00; text-decoration-color: #ffaf00\">Processing dataset: rnd</span>\n",
       "</pre>\n"
      ],
      "text/plain": [
       "\u001b[38;5;214mProcessing dataset: rnd\u001b[0m\n"
      ]
     },
     "metadata": {},
     "output_type": "display_data"
    },
    {
     "name": "stderr",
     "output_type": "stream",
     "text": [
      "/home/raphael/Downloads/intugle_demo/env/lib/python3.12/site-packages/numpy/_core/fromnumeric.py:3859: RuntimeWarning: Mean of empty slice.\n",
      "  return _methods._mean(a, axis=axis, dtype=dtype,\n",
      "/home/raphael/Downloads/intugle_demo/env/lib/python3.12/site-packages/numpy/_core/_methods.py:144: RuntimeWarning: invalid value encountered in scalar divide\n",
      "  ret = ret.dtype.type(ret / rcount)\n",
      "100%|██████████| 5/5 [00:07<00:00,  1.54s/it]\n",
      "[*] rnd:   0%|          | 0/1 [00:00<?, ?it/s]/home/raphael/intugle/data-tools/src/intugle/core/pipeline/key_identification/ki.py:87: SettingWithCopyWarning: \n",
      "A value is trying to be set on a copy of a slice from a DataFrame\n",
      "\n",
      "See the caveats in the documentation: https://pandas.pydata.org/pandas-docs/stable/user_guide/indexing.html#returning-a-view-versus-a-copy\n",
      "  temp.rename(columns={\"datatype_l1\": \"datatype\"}, inplace=True)\n",
      "[*] rnd: 100%|██████████| 1/1 [00:00<00:00,  1.15it/s]\n"
     ]
    },
    {
     "data": {
      "text/html": [
       "<pre style=\"white-space:pre;overflow-x:auto;line-height:normal;font-family:Menlo,'DejaVu Sans Mono',consolas,'Courier New',monospace\"><span style=\"color: #ffaf00; text-decoration-color: #ffaf00\">Processing dataset: sales</span>\n",
       "</pre>\n"
      ],
      "text/plain": [
       "\u001b[38;5;214mProcessing dataset: sales\u001b[0m\n"
      ]
     },
     "metadata": {},
     "output_type": "display_data"
    },
    {
     "name": "stderr",
     "output_type": "stream",
     "text": [
      "/home/raphael/Downloads/intugle_demo/env/lib/python3.12/site-packages/numpy/_core/fromnumeric.py:3859: RuntimeWarning: Mean of empty slice.\n",
      "  return _methods._mean(a, axis=axis, dtype=dtype,\n",
      "/home/raphael/Downloads/intugle_demo/env/lib/python3.12/site-packages/numpy/_core/_methods.py:144: RuntimeWarning: invalid value encountered in scalar divide\n",
      "  ret = ret.dtype.type(ret / rcount)\n",
      "100%|██████████| 5/5 [00:02<00:00,  1.69it/s]\n"
     ]
    },
    {
     "data": {
      "text/html": [
       "<pre style=\"white-space:pre;overflow-x:auto;line-height:normal;font-family:Menlo,'DejaVu Sans Mono',consolas,'Courier New',monospace\"><span style=\"color: #ffaf00; text-decoration-color: #ffaf00\">Processing dataset: social</span>\n",
       "</pre>\n"
      ],
      "text/plain": [
       "\u001b[38;5;214mProcessing dataset: social\u001b[0m\n"
      ]
     },
     "metadata": {},
     "output_type": "display_data"
    },
    {
     "name": "stderr",
     "output_type": "stream",
     "text": [
      "/home/raphael/Downloads/intugle_demo/env/lib/python3.12/site-packages/numpy/_core/fromnumeric.py:3859: RuntimeWarning: Mean of empty slice.\n",
      "  return _methods._mean(a, axis=axis, dtype=dtype,\n",
      "/home/raphael/Downloads/intugle_demo/env/lib/python3.12/site-packages/numpy/_core/_methods.py:144: RuntimeWarning: invalid value encountered in scalar divide\n",
      "  ret = ret.dtype.type(ret / rcount)\n",
      "100%|██████████| 6/6 [00:03<00:00,  1.72it/s]\n"
     ]
    },
    {
     "data": {
      "text/html": [
       "<pre style=\"white-space:pre;overflow-x:auto;line-height:normal;font-family:Menlo,'DejaVu Sans Mono',consolas,'Courier New',monospace\"><span style=\"color: #008000; text-decoration-color: #008000; font-weight: bold\">Profiling and key identification complete.</span>\n",
       "</pre>\n"
      ],
      "text/plain": [
       "\u001b[1;32mProfiling and key identification complete.\u001b[0m\n"
      ]
     },
     "metadata": {},
     "output_type": "display_data"
    },
    {
     "data": {
      "text/html": [
       "<pre style=\"white-space:pre;overflow-x:auto;line-height:normal;font-family:Menlo,'DejaVu Sans Mono',consolas,'Courier New',monospace\"><span style=\"color: #808000; text-decoration-color: #808000\">Starting link prediction stage...</span>\n",
       "</pre>\n"
      ],
      "text/plain": [
       "\u001b[33mStarting link prediction stage\u001b[0m\u001b[33m...\u001b[0m\n"
      ]
     },
     "metadata": {},
     "output_type": "display_data"
    },
    {
     "name": "stdout",
     "output_type": "stream",
     "text": [
      "Dataset 'ad_spends' already processed. Skipping analysis.\n",
      "Dataset 'comp_price' already processed. Skipping analysis.\n",
      "Dataset 'cons_fb' already processed. Skipping analysis.\n",
      "Dataset 'disti' already processed. Skipping analysis.\n",
      "Dataset 'mkt_coverage' already processed. Skipping analysis.\n",
      "Dataset 'prd_mstr' already processed. Skipping analysis.\n",
      "Dataset 'price_sense' already processed. Skipping analysis.\n",
      "Dataset 'pric_strat' already processed. Skipping analysis.\n",
      "Dataset 'promo_camp' already processed. Skipping analysis.\n",
      "Dataset 'retail_audit' already processed. Skipping analysis.\n",
      "Dataset 'rnd' already processed. Skipping analysis.\n",
      "Dataset 'sales' already processed. Skipping analysis.\n",
      "Dataset 'social' already processed. Skipping analysis.\n",
      "LinkPredictor initialized with datasets: ['ad_spends', 'comp_price', 'cons_fb', 'disti', 'mkt_coverage', 'prd_mstr', 'price_sense', 'pric_strat', 'promo_camp', 'retail_audit', 'rnd', 'sales', 'social']\n",
      "\n",
      "--- Comparing 'ad_spends' <=> 'comp_price' ---\n"
     ]
    },
    {
     "name": "stderr",
     "output_type": "stream",
     "text": [
      "[*] ad_spends <==> comp_price Runs:1: 100%|██████████| 1/1 [00:00<00:00,  1.15it/s]\n"
     ]
    },
    {
     "name": "stdout",
     "output_type": "stream",
     "text": [
      "No links found for this pair.\n",
      "\n",
      "--- Comparing 'ad_spends' <=> 'cons_fb' ---\n"
     ]
    },
    {
     "name": "stderr",
     "output_type": "stream",
     "text": [
      "[*] ad_spends <==> cons_fb Runs:1: 100%|██████████| 1/1 [00:09<00:00,  9.22s/it]\n"
     ]
    },
    {
     "name": "stdout",
     "output_type": "stream",
     "text": [
      "No links found for this pair.\n",
      "\n",
      "--- Comparing 'ad_spends' <=> 'disti' ---\n"
     ]
    },
    {
     "name": "stderr",
     "output_type": "stream",
     "text": [
      "[*] ad_spends <==> disti Runs:1: 100%|██████████| 1/1 [00:01<00:00,  1.28s/it]\n"
     ]
    },
    {
     "name": "stdout",
     "output_type": "stream",
     "text": [
      "No links found for this pair.\n",
      "\n",
      "--- Comparing 'ad_spends' <=> 'mkt_coverage' ---\n"
     ]
    },
    {
     "name": "stderr",
     "output_type": "stream",
     "text": [
      "[*] ad_spends <==> mkt_coverage Runs:1: 100%|██████████| 1/1 [00:02<00:00,  2.13s/it]\n"
     ]
    },
    {
     "name": "stdout",
     "output_type": "stream",
     "text": [
      "No links found for this pair.\n",
      "\n",
      "--- Comparing 'ad_spends' <=> 'prd_mstr' ---\n"
     ]
    },
    {
     "name": "stderr",
     "output_type": "stream",
     "text": [
      "[*] ad_spends <==> prd_mstr Runs:1: 100%|██████████| 1/1 [00:00<00:00,  1.23it/s]\n"
     ]
    },
    {
     "name": "stdout",
     "output_type": "stream",
     "text": [
      "No links found for this pair.\n",
      "\n",
      "--- Comparing 'ad_spends' <=> 'price_sense' ---\n"
     ]
    },
    {
     "name": "stderr",
     "output_type": "stream",
     "text": [
      "[*] ad_spends <==> price_sense Runs:1: 100%|██████████| 1/1 [00:00<00:00,  1.32it/s]\n"
     ]
    },
    {
     "name": "stdout",
     "output_type": "stream",
     "text": [
      "No links found for this pair.\n",
      "\n",
      "--- Comparing 'ad_spends' <=> 'pric_strat' ---\n"
     ]
    },
    {
     "name": "stderr",
     "output_type": "stream",
     "text": [
      "[*] ad_spends <==> pric_strat Runs:1: 100%|██████████| 1/1 [00:00<00:00,  1.35it/s]\n"
     ]
    },
    {
     "name": "stdout",
     "output_type": "stream",
     "text": [
      "No links found for this pair.\n",
      "\n",
      "--- Comparing 'ad_spends' <=> 'promo_camp' ---\n"
     ]
    },
    {
     "name": "stderr",
     "output_type": "stream",
     "text": [
      "[*] ad_spends <==> promo_camp Runs:1: 100%|██████████| 1/1 [00:00<00:00,  1.38it/s]\n"
     ]
    },
    {
     "name": "stdout",
     "output_type": "stream",
     "text": [
      "No links found for this pair.\n",
      "\n",
      "--- Comparing 'ad_spends' <=> 'retail_audit' ---\n"
     ]
    },
    {
     "name": "stderr",
     "output_type": "stream",
     "text": [
      "[*] ad_spends <==> retail_audit Runs:1: 100%|██████████| 1/1 [00:03<00:00,  3.67s/it]\n"
     ]
    },
    {
     "name": "stdout",
     "output_type": "stream",
     "text": [
      "No links found for this pair.\n",
      "\n",
      "--- Comparing 'ad_spends' <=> 'rnd' ---\n"
     ]
    },
    {
     "name": "stderr",
     "output_type": "stream",
     "text": [
      "[*] ad_spends <==> rnd Runs:1: 100%|██████████| 1/1 [00:00<00:00,  1.06it/s]\n"
     ]
    },
    {
     "name": "stdout",
     "output_type": "stream",
     "text": [
      "No links found for this pair.\n",
      "\n",
      "--- Comparing 'ad_spends' <=> 'sales' ---\n"
     ]
    },
    {
     "name": "stderr",
     "output_type": "stream",
     "text": [
      "[*] ad_spends <==> sales Runs:1: 100%|██████████| 1/1 [00:01<00:00,  1.04s/it]\n"
     ]
    },
    {
     "name": "stdout",
     "output_type": "stream",
     "text": [
      "No links found for this pair.\n",
      "\n",
      "--- Comparing 'ad_spends' <=> 'social' ---\n"
     ]
    },
    {
     "name": "stderr",
     "output_type": "stream",
     "text": [
      "[*] ad_spends <==> social Runs:1: 100%|██████████| 1/1 [00:01<00:00,  1.21s/it]\n"
     ]
    },
    {
     "name": "stdout",
     "output_type": "stream",
     "text": [
      "Found 1 potential link(s).\n",
      "\n",
      "--- Comparing 'comp_price' <=> 'cons_fb' ---\n"
     ]
    },
    {
     "name": "stderr",
     "output_type": "stream",
     "text": [
      "[*] comp_price <==> cons_fb Runs:1: 100%|██████████| 1/1 [00:01<00:00,  1.28s/it]\n"
     ]
    },
    {
     "name": "stdout",
     "output_type": "stream",
     "text": [
      "Found 1 potential link(s).\n",
      "\n",
      "--- Comparing 'comp_price' <=> 'disti' ---\n"
     ]
    },
    {
     "name": "stderr",
     "output_type": "stream",
     "text": [
      "[*] comp_price <==> disti Runs:1: 100%|██████████| 1/1 [00:01<00:00,  1.49s/it]\n"
     ]
    },
    {
     "name": "stdout",
     "output_type": "stream",
     "text": [
      "No links found for this pair.\n",
      "\n",
      "--- Comparing 'comp_price' <=> 'mkt_coverage' ---\n"
     ]
    },
    {
     "name": "stderr",
     "output_type": "stream",
     "text": [
      "[*] comp_price <==> mkt_coverage Runs:1: 100%|██████████| 1/1 [00:05<00:00,  5.40s/it]\n"
     ]
    },
    {
     "name": "stdout",
     "output_type": "stream",
     "text": [
      "No links found for this pair.\n",
      "\n",
      "--- Comparing 'comp_price' <=> 'prd_mstr' ---\n"
     ]
    },
    {
     "name": "stderr",
     "output_type": "stream",
     "text": [
      "[*] comp_price <==> prd_mstr Runs:1: 100%|██████████| 1/1 [00:00<00:00,  1.07it/s]\n"
     ]
    },
    {
     "name": "stdout",
     "output_type": "stream",
     "text": [
      "Found 1 potential link(s).\n",
      "\n",
      "--- Comparing 'comp_price' <=> 'price_sense' ---\n"
     ]
    },
    {
     "name": "stderr",
     "output_type": "stream",
     "text": [
      "[*] comp_price <==> price_sense Runs:1: 100%|██████████| 1/1 [00:00<00:00,  1.22it/s]\n"
     ]
    },
    {
     "name": "stdout",
     "output_type": "stream",
     "text": [
      "Found 1 potential link(s).\n",
      "\n",
      "--- Comparing 'comp_price' <=> 'pric_strat' ---\n"
     ]
    },
    {
     "name": "stderr",
     "output_type": "stream",
     "text": [
      "[*] comp_price <==> pric_strat Runs:1: 100%|██████████| 1/1 [00:01<00:00,  1.11s/it]\n"
     ]
    },
    {
     "name": "stdout",
     "output_type": "stream",
     "text": [
      "Found 1 potential link(s).\n",
      "\n",
      "--- Comparing 'comp_price' <=> 'promo_camp' ---\n"
     ]
    },
    {
     "name": "stderr",
     "output_type": "stream",
     "text": [
      "[*] comp_price <==> promo_camp Runs:1: 100%|██████████| 1/1 [00:00<00:00,  1.12it/s]\n"
     ]
    },
    {
     "name": "stdout",
     "output_type": "stream",
     "text": [
      "No links found for this pair.\n",
      "\n",
      "--- Comparing 'comp_price' <=> 'retail_audit' ---\n"
     ]
    },
    {
     "name": "stderr",
     "output_type": "stream",
     "text": [
      "[*] comp_price <==> retail_audit Runs:1: 100%|██████████| 1/1 [00:01<00:00,  1.39s/it]\n"
     ]
    },
    {
     "name": "stdout",
     "output_type": "stream",
     "text": [
      "No links found for this pair.\n",
      "\n",
      "--- Comparing 'comp_price' <=> 'rnd' ---\n"
     ]
    },
    {
     "name": "stderr",
     "output_type": "stream",
     "text": [
      "[*] comp_price <==> rnd Runs:1: 100%|██████████| 1/1 [00:02<00:00,  2.30s/it]\n"
     ]
    },
    {
     "name": "stdout",
     "output_type": "stream",
     "text": [
      "No links found for this pair.\n",
      "\n",
      "--- Comparing 'comp_price' <=> 'sales' ---\n"
     ]
    },
    {
     "name": "stderr",
     "output_type": "stream",
     "text": [
      "[*] comp_price <==> sales Runs:1: 100%|██████████| 1/1 [00:01<00:00,  1.70s/it]\n"
     ]
    },
    {
     "name": "stdout",
     "output_type": "stream",
     "text": [
      "No links found for this pair.\n",
      "\n",
      "--- Comparing 'comp_price' <=> 'social' ---\n"
     ]
    },
    {
     "name": "stderr",
     "output_type": "stream",
     "text": [
      "[*] comp_price <==> social Runs:1: 100%|██████████| 1/1 [00:00<00:00,  1.16it/s]\n"
     ]
    },
    {
     "name": "stdout",
     "output_type": "stream",
     "text": [
      "No links found for this pair.\n",
      "\n",
      "--- Comparing 'cons_fb' <=> 'disti' ---\n"
     ]
    },
    {
     "name": "stderr",
     "output_type": "stream",
     "text": [
      "[*] cons_fb <==> disti Runs:1: 100%|██████████| 1/1 [00:02<00:00,  2.97s/it]\n"
     ]
    },
    {
     "name": "stdout",
     "output_type": "stream",
     "text": [
      "No links found for this pair.\n",
      "\n",
      "--- Comparing 'cons_fb' <=> 'mkt_coverage' ---\n"
     ]
    },
    {
     "name": "stderr",
     "output_type": "stream",
     "text": [
      "[*] cons_fb <==> mkt_coverage Runs:1: 100%|██████████| 1/1 [00:01<00:00,  1.01s/it]\n"
     ]
    },
    {
     "name": "stdout",
     "output_type": "stream",
     "text": [
      "Found 1 potential link(s).\n",
      "\n",
      "--- Comparing 'cons_fb' <=> 'prd_mstr' ---\n"
     ]
    },
    {
     "name": "stderr",
     "output_type": "stream",
     "text": [
      "[*] cons_fb <==> prd_mstr Runs:1: 100%|██████████| 1/1 [00:01<00:00,  1.08s/it]\n"
     ]
    },
    {
     "name": "stdout",
     "output_type": "stream",
     "text": [
      "Found 1 potential link(s).\n",
      "\n",
      "--- Comparing 'cons_fb' <=> 'price_sense' ---\n"
     ]
    },
    {
     "name": "stderr",
     "output_type": "stream",
     "text": [
      "[*] cons_fb <==> price_sense Runs:1: 100%|██████████| 1/1 [00:00<00:00,  1.18it/s]\n"
     ]
    },
    {
     "name": "stdout",
     "output_type": "stream",
     "text": [
      "Found 1 potential link(s).\n",
      "\n",
      "--- Comparing 'cons_fb' <=> 'pric_strat' ---\n"
     ]
    },
    {
     "name": "stderr",
     "output_type": "stream",
     "text": [
      "[*] cons_fb <==> pric_strat Runs:1: 100%|██████████| 1/1 [00:03<00:00,  3.09s/it]\n"
     ]
    },
    {
     "name": "stdout",
     "output_type": "stream",
     "text": [
      "No links found for this pair.\n",
      "\n",
      "--- Comparing 'cons_fb' <=> 'promo_camp' ---\n"
     ]
    },
    {
     "name": "stderr",
     "output_type": "stream",
     "text": [
      "[*] cons_fb <==> promo_camp Runs:1: 100%|██████████| 1/1 [00:00<00:00,  1.25it/s]\n"
     ]
    },
    {
     "name": "stdout",
     "output_type": "stream",
     "text": [
      "No links found for this pair.\n",
      "\n",
      "--- Comparing 'cons_fb' <=> 'retail_audit' ---\n"
     ]
    },
    {
     "name": "stderr",
     "output_type": "stream",
     "text": [
      "[*] cons_fb <==> retail_audit Runs:1: 100%|██████████| 1/1 [00:02<00:00,  2.17s/it]\n"
     ]
    },
    {
     "name": "stdout",
     "output_type": "stream",
     "text": [
      "Found 1 potential link(s).\n",
      "\n",
      "--- Comparing 'cons_fb' <=> 'rnd' ---\n"
     ]
    },
    {
     "name": "stderr",
     "output_type": "stream",
     "text": [
      "[*] cons_fb <==> rnd Runs:1: 100%|██████████| 1/1 [00:01<00:00,  1.97s/it]\n"
     ]
    },
    {
     "name": "stdout",
     "output_type": "stream",
     "text": [
      "Found 1 potential link(s).\n",
      "\n",
      "--- Comparing 'cons_fb' <=> 'sales' ---\n"
     ]
    },
    {
     "name": "stderr",
     "output_type": "stream",
     "text": [
      "[*] cons_fb <==> sales Runs:1: 100%|██████████| 1/1 [00:00<00:00,  1.07it/s]\n"
     ]
    },
    {
     "name": "stdout",
     "output_type": "stream",
     "text": [
      "No links found for this pair.\n",
      "\n",
      "--- Comparing 'cons_fb' <=> 'social' ---\n"
     ]
    },
    {
     "name": "stderr",
     "output_type": "stream",
     "text": [
      "[*] cons_fb <==> social Runs:1: 100%|██████████| 1/1 [00:01<00:00,  1.47s/it]\n"
     ]
    },
    {
     "name": "stdout",
     "output_type": "stream",
     "text": [
      "No links found for this pair.\n",
      "\n",
      "--- Comparing 'disti' <=> 'mkt_coverage' ---\n"
     ]
    },
    {
     "name": "stderr",
     "output_type": "stream",
     "text": [
      "[*] disti <==> mkt_coverage Runs:1: 100%|██████████| 1/1 [00:01<00:00,  1.58s/it]\n"
     ]
    },
    {
     "name": "stdout",
     "output_type": "stream",
     "text": [
      "No links found for this pair.\n",
      "\n",
      "--- Comparing 'disti' <=> 'prd_mstr' ---\n"
     ]
    },
    {
     "name": "stderr",
     "output_type": "stream",
     "text": [
      "[*] disti <==> prd_mstr Runs:1: 100%|██████████| 1/1 [00:01<00:00,  1.15s/it]\n"
     ]
    },
    {
     "name": "stdout",
     "output_type": "stream",
     "text": [
      "Found 1 potential link(s).\n",
      "\n",
      "--- Comparing 'disti' <=> 'price_sense' ---\n"
     ]
    },
    {
     "name": "stderr",
     "output_type": "stream",
     "text": [
      "[*] disti <==> price_sense Runs:1: 100%|██████████| 1/1 [00:00<00:00,  1.13it/s]\n"
     ]
    },
    {
     "name": "stdout",
     "output_type": "stream",
     "text": [
      "Found 1 potential link(s).\n",
      "\n",
      "--- Comparing 'disti' <=> 'pric_strat' ---\n"
     ]
    },
    {
     "name": "stderr",
     "output_type": "stream",
     "text": [
      "[*] disti <==> pric_strat Runs:1: 100%|██████████| 1/1 [00:00<00:00,  1.10it/s]\n"
     ]
    },
    {
     "name": "stdout",
     "output_type": "stream",
     "text": [
      "Found 1 potential link(s).\n",
      "\n",
      "--- Comparing 'disti' <=> 'promo_camp' ---\n"
     ]
    },
    {
     "name": "stderr",
     "output_type": "stream",
     "text": [
      "[*] disti <==> promo_camp Runs:1: 100%|██████████| 1/1 [00:04<00:00,  4.59s/it]\n"
     ]
    },
    {
     "name": "stdout",
     "output_type": "stream",
     "text": [
      "No links found for this pair.\n",
      "\n",
      "--- Comparing 'disti' <=> 'retail_audit' ---\n"
     ]
    },
    {
     "name": "stderr",
     "output_type": "stream",
     "text": [
      "[*] disti <==> retail_audit Runs:1: 100%|██████████| 1/1 [00:01<00:00,  1.62s/it]\n"
     ]
    },
    {
     "name": "stdout",
     "output_type": "stream",
     "text": [
      "No links found for this pair.\n",
      "\n",
      "--- Comparing 'disti' <=> 'rnd' ---\n"
     ]
    },
    {
     "name": "stderr",
     "output_type": "stream",
     "text": [
      "[*] disti <==> rnd Runs:1: 100%|██████████| 1/1 [00:02<00:00,  2.32s/it]\n"
     ]
    },
    {
     "name": "stdout",
     "output_type": "stream",
     "text": [
      "No links found for this pair.\n",
      "\n",
      "--- Comparing 'disti' <=> 'sales' ---\n"
     ]
    },
    {
     "name": "stderr",
     "output_type": "stream",
     "text": [
      "[*] disti <==> sales Runs:1: 100%|██████████| 1/1 [00:03<00:00,  3.12s/it]\n"
     ]
    },
    {
     "name": "stdout",
     "output_type": "stream",
     "text": [
      "No links found for this pair.\n",
      "\n",
      "--- Comparing 'disti' <=> 'social' ---\n"
     ]
    },
    {
     "name": "stderr",
     "output_type": "stream",
     "text": [
      "[*] disti <==> social Runs:1: 100%|██████████| 1/1 [00:00<00:00,  1.22it/s]\n"
     ]
    },
    {
     "name": "stdout",
     "output_type": "stream",
     "text": [
      "No links found for this pair.\n",
      "\n",
      "--- Comparing 'mkt_coverage' <=> 'prd_mstr' ---\n"
     ]
    },
    {
     "name": "stderr",
     "output_type": "stream",
     "text": [
      "[*] mkt_coverage <==> prd_mstr Runs:1: 100%|██████████| 1/1 [00:01<00:00,  1.08s/it]\n"
     ]
    },
    {
     "name": "stdout",
     "output_type": "stream",
     "text": [
      "Found 1 potential link(s).\n",
      "\n",
      "--- Comparing 'mkt_coverage' <=> 'price_sense' ---\n"
     ]
    },
    {
     "name": "stderr",
     "output_type": "stream",
     "text": [
      "[*] mkt_coverage <==> price_sense Runs:1: 100%|██████████| 1/1 [00:03<00:00,  3.06s/it]\n"
     ]
    },
    {
     "name": "stdout",
     "output_type": "stream",
     "text": [
      "Found 1 potential link(s).\n",
      "\n",
      "--- Comparing 'mkt_coverage' <=> 'pric_strat' ---\n"
     ]
    },
    {
     "name": "stderr",
     "output_type": "stream",
     "text": [
      "[*] mkt_coverage <==> pric_strat Runs:1: 100%|██████████| 1/1 [00:00<00:00,  1.02it/s]\n"
     ]
    },
    {
     "name": "stdout",
     "output_type": "stream",
     "text": [
      "Found 1 potential link(s).\n",
      "\n",
      "--- Comparing 'mkt_coverage' <=> 'promo_camp' ---\n"
     ]
    },
    {
     "name": "stderr",
     "output_type": "stream",
     "text": [
      "[*] mkt_coverage <==> promo_camp Runs:1: 100%|██████████| 1/1 [00:00<00:00,  1.29it/s]\n"
     ]
    },
    {
     "name": "stdout",
     "output_type": "stream",
     "text": [
      "No links found for this pair.\n",
      "\n",
      "--- Comparing 'mkt_coverage' <=> 'retail_audit' ---\n"
     ]
    },
    {
     "name": "stderr",
     "output_type": "stream",
     "text": [
      "[*] mkt_coverage <==> retail_audit Runs:1: 100%|██████████| 1/1 [00:03<00:00,  4.00s/it]\n"
     ]
    },
    {
     "name": "stdout",
     "output_type": "stream",
     "text": [
      "No links found for this pair.\n",
      "\n",
      "--- Comparing 'mkt_coverage' <=> 'rnd' ---\n"
     ]
    },
    {
     "name": "stderr",
     "output_type": "stream",
     "text": [
      "[*] mkt_coverage <==> rnd Runs:1: 100%|██████████| 1/1 [00:04<00:00,  4.91s/it]\n"
     ]
    },
    {
     "name": "stdout",
     "output_type": "stream",
     "text": [
      "No links found for this pair.\n",
      "\n",
      "--- Comparing 'mkt_coverage' <=> 'sales' ---\n"
     ]
    },
    {
     "name": "stderr",
     "output_type": "stream",
     "text": [
      "[*] mkt_coverage <==> sales Runs:1: 100%|██████████| 1/1 [00:06<00:00,  6.57s/it]\n"
     ]
    },
    {
     "name": "stdout",
     "output_type": "stream",
     "text": [
      "No links found for this pair.\n",
      "\n",
      "--- Comparing 'mkt_coverage' <=> 'social' ---\n"
     ]
    },
    {
     "name": "stderr",
     "output_type": "stream",
     "text": [
      "[*] mkt_coverage <==> social Runs:1: 100%|██████████| 1/1 [00:01<00:00,  1.13s/it]\n"
     ]
    },
    {
     "name": "stdout",
     "output_type": "stream",
     "text": [
      "No links found for this pair.\n",
      "\n",
      "--- Comparing 'prd_mstr' <=> 'price_sense' ---\n"
     ]
    },
    {
     "name": "stderr",
     "output_type": "stream",
     "text": [
      "[*] prd_mstr <==> price_sense Runs:1: 100%|██████████| 1/1 [00:01<00:00,  1.14s/it]\n"
     ]
    },
    {
     "name": "stdout",
     "output_type": "stream",
     "text": [
      "Found 1 potential link(s).\n",
      "\n",
      "--- Comparing 'prd_mstr' <=> 'pric_strat' ---\n"
     ]
    },
    {
     "name": "stderr",
     "output_type": "stream",
     "text": [
      "[*] prd_mstr <==> pric_strat Runs:1: 100%|██████████| 1/1 [00:00<00:00,  1.04it/s]\n"
     ]
    },
    {
     "name": "stdout",
     "output_type": "stream",
     "text": [
      "Found 1 potential link(s).\n",
      "\n",
      "--- Comparing 'prd_mstr' <=> 'promo_camp' ---\n"
     ]
    },
    {
     "name": "stderr",
     "output_type": "stream",
     "text": [
      "[*] prd_mstr <==> promo_camp Runs:1: 100%|██████████| 1/1 [00:00<00:00,  1.09it/s]\n"
     ]
    },
    {
     "name": "stdout",
     "output_type": "stream",
     "text": [
      "No links found for this pair.\n",
      "\n",
      "--- Comparing 'prd_mstr' <=> 'retail_audit' ---\n"
     ]
    },
    {
     "name": "stderr",
     "output_type": "stream",
     "text": [
      "[*] prd_mstr <==> retail_audit Runs:1: 100%|██████████| 1/1 [00:01<00:00,  1.25s/it]\n"
     ]
    },
    {
     "name": "stdout",
     "output_type": "stream",
     "text": [
      "Found 1 potential link(s).\n",
      "\n",
      "--- Comparing 'prd_mstr' <=> 'rnd' ---\n"
     ]
    },
    {
     "name": "stderr",
     "output_type": "stream",
     "text": [
      "[*] prd_mstr <==> rnd Runs:1: 100%|██████████| 1/1 [00:00<00:00,  1.02it/s]\n"
     ]
    },
    {
     "name": "stdout",
     "output_type": "stream",
     "text": [
      "Found 1 potential link(s).\n",
      "\n",
      "--- Comparing 'prd_mstr' <=> 'sales' ---\n"
     ]
    },
    {
     "name": "stderr",
     "output_type": "stream",
     "text": [
      "[*] prd_mstr <==> sales Runs:1: 100%|██████████| 1/1 [00:01<00:00,  1.17s/it]\n"
     ]
    },
    {
     "name": "stdout",
     "output_type": "stream",
     "text": [
      "Found 1 potential link(s).\n",
      "\n",
      "--- Comparing 'prd_mstr' <=> 'social' ---\n"
     ]
    },
    {
     "name": "stderr",
     "output_type": "stream",
     "text": [
      "[*] prd_mstr <==> social Runs:1: 100%|██████████| 1/1 [00:01<00:00,  1.61s/it]\n"
     ]
    },
    {
     "name": "stdout",
     "output_type": "stream",
     "text": [
      "No links found for this pair.\n",
      "\n",
      "--- Comparing 'price_sense' <=> 'pric_strat' ---\n"
     ]
    },
    {
     "name": "stderr",
     "output_type": "stream",
     "text": [
      "[*] price_sense <==> pric_strat Runs:1: 100%|██████████| 1/1 [00:00<00:00,  1.01it/s]\n"
     ]
    },
    {
     "name": "stdout",
     "output_type": "stream",
     "text": [
      "No links found for this pair.\n",
      "\n",
      "--- Comparing 'price_sense' <=> 'promo_camp' ---\n"
     ]
    },
    {
     "name": "stderr",
     "output_type": "stream",
     "text": [
      "[*] price_sense <==> promo_camp Runs:1: 100%|██████████| 1/1 [00:00<00:00,  1.06it/s]\n"
     ]
    },
    {
     "name": "stdout",
     "output_type": "stream",
     "text": [
      "No links found for this pair.\n",
      "\n",
      "--- Comparing 'price_sense' <=> 'retail_audit' ---\n"
     ]
    },
    {
     "name": "stderr",
     "output_type": "stream",
     "text": [
      "[*] price_sense <==> retail_audit Runs:1: 100%|██████████| 1/1 [00:02<00:00,  2.38s/it]\n"
     ]
    },
    {
     "name": "stdout",
     "output_type": "stream",
     "text": [
      "Found 1 potential link(s).\n",
      "\n",
      "--- Comparing 'price_sense' <=> 'rnd' ---\n"
     ]
    },
    {
     "name": "stderr",
     "output_type": "stream",
     "text": [
      "[*] price_sense <==> rnd Runs:1: 100%|██████████| 1/1 [00:00<00:00,  1.08it/s]\n"
     ]
    },
    {
     "name": "stdout",
     "output_type": "stream",
     "text": [
      "Found 1 potential link(s).\n",
      "\n",
      "--- Comparing 'price_sense' <=> 'sales' ---\n"
     ]
    },
    {
     "name": "stderr",
     "output_type": "stream",
     "text": [
      "[*] price_sense <==> sales Runs:1: 100%|██████████| 1/1 [00:01<00:00,  1.07s/it]\n"
     ]
    },
    {
     "name": "stdout",
     "output_type": "stream",
     "text": [
      "Found 1 potential link(s).\n",
      "\n",
      "--- Comparing 'price_sense' <=> 'social' ---\n"
     ]
    },
    {
     "name": "stderr",
     "output_type": "stream",
     "text": [
      "[*] price_sense <==> social Runs:1: 100%|██████████| 1/1 [00:00<00:00,  1.15it/s]\n"
     ]
    },
    {
     "name": "stdout",
     "output_type": "stream",
     "text": [
      "No links found for this pair.\n",
      "\n",
      "--- Comparing 'pric_strat' <=> 'promo_camp' ---\n"
     ]
    },
    {
     "name": "stderr",
     "output_type": "stream",
     "text": [
      "[*] pric_strat <==> promo_camp Runs:1: 100%|██████████| 1/1 [00:00<00:00,  1.05it/s]\n"
     ]
    },
    {
     "name": "stdout",
     "output_type": "stream",
     "text": [
      "No links found for this pair.\n",
      "\n",
      "--- Comparing 'pric_strat' <=> 'retail_audit' ---\n"
     ]
    },
    {
     "name": "stderr",
     "output_type": "stream",
     "text": [
      "[*] pric_strat <==> retail_audit Runs:1: 100%|██████████| 1/1 [00:00<00:00,  1.00it/s]\n"
     ]
    },
    {
     "name": "stdout",
     "output_type": "stream",
     "text": [
      "Found 1 potential link(s).\n",
      "\n",
      "--- Comparing 'pric_strat' <=> 'rnd' ---\n"
     ]
    },
    {
     "name": "stderr",
     "output_type": "stream",
     "text": [
      "[*] pric_strat <==> rnd Runs:1: 100%|██████████| 1/1 [00:01<00:00,  1.83s/it]\n"
     ]
    },
    {
     "name": "stdout",
     "output_type": "stream",
     "text": [
      "Found 1 potential link(s).\n",
      "\n",
      "--- Comparing 'pric_strat' <=> 'sales' ---\n"
     ]
    },
    {
     "name": "stderr",
     "output_type": "stream",
     "text": [
      "[*] pric_strat <==> sales Runs:1: 100%|██████████| 1/1 [00:02<00:00,  2.31s/it]\n"
     ]
    },
    {
     "name": "stdout",
     "output_type": "stream",
     "text": [
      "Found 1 potential link(s).\n",
      "\n",
      "--- Comparing 'pric_strat' <=> 'social' ---\n"
     ]
    },
    {
     "name": "stderr",
     "output_type": "stream",
     "text": [
      "[*] pric_strat <==> social Runs:1: 100%|██████████| 1/1 [00:00<00:00,  1.02it/s]\n"
     ]
    },
    {
     "name": "stdout",
     "output_type": "stream",
     "text": [
      "No links found for this pair.\n",
      "\n",
      "--- Comparing 'promo_camp' <=> 'retail_audit' ---\n"
     ]
    },
    {
     "name": "stderr",
     "output_type": "stream",
     "text": [
      "[*] promo_camp <==> retail_audit Runs:1: 100%|██████████| 1/1 [00:05<00:00,  5.17s/it]\n"
     ]
    },
    {
     "name": "stdout",
     "output_type": "stream",
     "text": [
      "No links found for this pair.\n",
      "\n",
      "--- Comparing 'promo_camp' <=> 'rnd' ---\n"
     ]
    },
    {
     "name": "stderr",
     "output_type": "stream",
     "text": [
      "[*] promo_camp <==> rnd Runs:1: 100%|██████████| 1/1 [00:01<00:00,  1.03s/it]\n"
     ]
    },
    {
     "name": "stdout",
     "output_type": "stream",
     "text": [
      "No links found for this pair.\n",
      "\n",
      "--- Comparing 'promo_camp' <=> 'sales' ---\n"
     ]
    },
    {
     "name": "stderr",
     "output_type": "stream",
     "text": [
      "[*] promo_camp <==> sales Runs:1: 100%|██████████| 1/1 [00:00<00:00,  1.19it/s]\n"
     ]
    },
    {
     "name": "stdout",
     "output_type": "stream",
     "text": [
      "No links found for this pair.\n",
      "\n",
      "--- Comparing 'promo_camp' <=> 'social' ---\n"
     ]
    },
    {
     "name": "stderr",
     "output_type": "stream",
     "text": [
      "[*] promo_camp <==> social Runs:1: 100%|██████████| 1/1 [00:01<00:00,  1.12s/it]\n"
     ]
    },
    {
     "name": "stdout",
     "output_type": "stream",
     "text": [
      "No links found for this pair.\n",
      "\n",
      "--- Comparing 'retail_audit' <=> 'rnd' ---\n"
     ]
    },
    {
     "name": "stderr",
     "output_type": "stream",
     "text": [
      "[*] retail_audit <==> rnd Runs:1: 100%|██████████| 1/1 [00:03<00:00,  3.07s/it]\n"
     ]
    },
    {
     "name": "stdout",
     "output_type": "stream",
     "text": [
      "No links found for this pair.\n",
      "\n",
      "--- Comparing 'retail_audit' <=> 'sales' ---\n"
     ]
    },
    {
     "name": "stderr",
     "output_type": "stream",
     "text": [
      "[*] retail_audit <==> sales Runs:1: 100%|██████████| 1/1 [00:01<00:00,  1.51s/it]\n"
     ]
    },
    {
     "name": "stdout",
     "output_type": "stream",
     "text": [
      "No links found for this pair.\n",
      "\n",
      "--- Comparing 'retail_audit' <=> 'social' ---\n"
     ]
    },
    {
     "name": "stderr",
     "output_type": "stream",
     "text": [
      "[*] retail_audit <==> social Runs:1: 100%|██████████| 1/1 [00:00<00:00,  1.28it/s]\n"
     ]
    },
    {
     "name": "stdout",
     "output_type": "stream",
     "text": [
      "No links found for this pair.\n",
      "\n",
      "--- Comparing 'rnd' <=> 'sales' ---\n"
     ]
    },
    {
     "name": "stderr",
     "output_type": "stream",
     "text": [
      "[*] rnd <==> sales Runs:1: 100%|██████████| 1/1 [00:01<00:00,  1.42s/it]\n"
     ]
    },
    {
     "name": "stdout",
     "output_type": "stream",
     "text": [
      "No links found for this pair.\n",
      "\n",
      "--- Comparing 'rnd' <=> 'social' ---\n"
     ]
    },
    {
     "name": "stderr",
     "output_type": "stream",
     "text": [
      "[*] rnd <==> social Runs:1: 100%|██████████| 1/1 [00:00<00:00,  1.01it/s]\n"
     ]
    },
    {
     "name": "stdout",
     "output_type": "stream",
     "text": [
      "No links found for this pair.\n",
      "\n",
      "--- Comparing 'sales' <=> 'social' ---\n"
     ]
    },
    {
     "name": "stderr",
     "output_type": "stream",
     "text": [
      "[*] sales <==> social Runs:1: 100%|██████████| 1/1 [00:00<00:00,  1.13it/s]"
     ]
    },
    {
     "name": "stdout",
     "output_type": "stream",
     "text": [
      "No links found for this pair.\n"
     ]
    },
    {
     "name": "stderr",
     "output_type": "stream",
     "text": [
      "\n"
     ]
    },
    {
     "data": {
      "text/html": [
       "<pre style=\"white-space:pre;overflow-x:auto;line-height:normal;font-family:Menlo,'DejaVu Sans Mono',consolas,'Courier New',monospace\"><span style=\"color: #008000; text-decoration-color: #008000; font-weight: bold\">Link prediction complete.</span>\n",
       "</pre>\n"
      ],
      "text/plain": [
       "\u001b[1;32mLink prediction complete.\u001b[0m\n"
      ]
     },
     "metadata": {},
     "output_type": "display_data"
    },
    {
     "data": {
      "text/html": [
       "<pre style=\"white-space:pre;overflow-x:auto;line-height:normal;font-family:Menlo,'DejaVu Sans Mono',consolas,'Courier New',monospace\"><span style=\"color: #808000; text-decoration-color: #808000\">Starting business glossary generation stage...</span>\n",
       "</pre>\n"
      ],
      "text/plain": [
       "\u001b[33mStarting business glossary generation stage\u001b[0m\u001b[33m...\u001b[0m\n"
      ]
     },
     "metadata": {},
     "output_type": "display_data"
    },
    {
     "data": {
      "text/html": [
       "<pre style=\"white-space:pre;overflow-x:auto;line-height:normal;font-family:Menlo,'DejaVu Sans Mono',consolas,'Courier New',monospace\"><span style=\"color: #008000; text-decoration-color: #008000; font-weight: bold\">Generating glossary for dataset: ad_spends</span>\n",
       "</pre>\n"
      ],
      "text/plain": [
       "\u001b[1;32mGenerating glossary for dataset: ad_spends\u001b[0m\n"
      ]
     },
     "metadata": {},
     "output_type": "display_data"
    },
    {
     "name": "stderr",
     "output_type": "stream",
     "text": [
      "100%|██████████| 4/4 [00:12<00:00,  3.23s/it]\n"
     ]
    },
    {
     "data": {
      "text/html": [
       "<pre style=\"white-space:pre;overflow-x:auto;line-height:normal;font-family:Menlo,'DejaVu Sans Mono',consolas,'Courier New',monospace\"><span style=\"color: #008000; text-decoration-color: #008000; font-weight: bold\">Generating glossary for dataset: comp_price</span>\n",
       "</pre>\n"
      ],
      "text/plain": [
       "\u001b[1;32mGenerating glossary for dataset: comp_price\u001b[0m\n"
      ]
     },
     "metadata": {},
     "output_type": "display_data"
    },
    {
     "name": "stderr",
     "output_type": "stream",
     "text": [
      "100%|██████████| 4/4 [00:07<00:00,  1.77s/it]\n"
     ]
    },
    {
     "data": {
      "text/html": [
       "<pre style=\"white-space:pre;overflow-x:auto;line-height:normal;font-family:Menlo,'DejaVu Sans Mono',consolas,'Courier New',monospace\"><span style=\"color: #008000; text-decoration-color: #008000; font-weight: bold\">Generating glossary for dataset: cons_fb</span>\n",
       "</pre>\n"
      ],
      "text/plain": [
       "\u001b[1;32mGenerating glossary for dataset: cons_fb\u001b[0m\n"
      ]
     },
     "metadata": {},
     "output_type": "display_data"
    },
    {
     "name": "stderr",
     "output_type": "stream",
     "text": [
      "100%|██████████| 5/5 [00:13<00:00,  2.65s/it]\n"
     ]
    },
    {
     "data": {
      "text/html": [
       "<pre style=\"white-space:pre;overflow-x:auto;line-height:normal;font-family:Menlo,'DejaVu Sans Mono',consolas,'Courier New',monospace\"><span style=\"color: #008000; text-decoration-color: #008000; font-weight: bold\">Generating glossary for dataset: disti</span>\n",
       "</pre>\n"
      ],
      "text/plain": [
       "\u001b[1;32mGenerating glossary for dataset: disti\u001b[0m\n"
      ]
     },
     "metadata": {},
     "output_type": "display_data"
    },
    {
     "name": "stderr",
     "output_type": "stream",
     "text": [
      "100%|██████████| 4/4 [00:06<00:00,  1.66s/it]\n"
     ]
    },
    {
     "data": {
      "text/html": [
       "<pre style=\"white-space:pre;overflow-x:auto;line-height:normal;font-family:Menlo,'DejaVu Sans Mono',consolas,'Courier New',monospace\"><span style=\"color: #008000; text-decoration-color: #008000; font-weight: bold\">Generating glossary for dataset: mkt_coverage</span>\n",
       "</pre>\n"
      ],
      "text/plain": [
       "\u001b[1;32mGenerating glossary for dataset: mkt_coverage\u001b[0m\n"
      ]
     },
     "metadata": {},
     "output_type": "display_data"
    },
    {
     "name": "stderr",
     "output_type": "stream",
     "text": [
      "100%|██████████| 5/5 [00:08<00:00,  1.64s/it]\n"
     ]
    },
    {
     "data": {
      "text/html": [
       "<pre style=\"white-space:pre;overflow-x:auto;line-height:normal;font-family:Menlo,'DejaVu Sans Mono',consolas,'Courier New',monospace\"><span style=\"color: #008000; text-decoration-color: #008000; font-weight: bold\">Generating glossary for dataset: prd_mstr</span>\n",
       "</pre>\n"
      ],
      "text/plain": [
       "\u001b[1;32mGenerating glossary for dataset: prd_mstr\u001b[0m\n"
      ]
     },
     "metadata": {},
     "output_type": "display_data"
    },
    {
     "name": "stderr",
     "output_type": "stream",
     "text": [
      "100%|██████████| 4/4 [00:07<00:00,  1.91s/it]\n"
     ]
    },
    {
     "data": {
      "text/html": [
       "<pre style=\"white-space:pre;overflow-x:auto;line-height:normal;font-family:Menlo,'DejaVu Sans Mono',consolas,'Courier New',monospace\"><span style=\"color: #008000; text-decoration-color: #008000; font-weight: bold\">Generating glossary for dataset: price_sense</span>\n",
       "</pre>\n"
      ],
      "text/plain": [
       "\u001b[1;32mGenerating glossary for dataset: price_sense\u001b[0m\n"
      ]
     },
     "metadata": {},
     "output_type": "display_data"
    },
    {
     "name": "stderr",
     "output_type": "stream",
     "text": [
      "100%|██████████| 5/5 [00:10<00:00,  2.11s/it]\n"
     ]
    },
    {
     "data": {
      "text/html": [
       "<pre style=\"white-space:pre;overflow-x:auto;line-height:normal;font-family:Menlo,'DejaVu Sans Mono',consolas,'Courier New',monospace\"><span style=\"color: #008000; text-decoration-color: #008000; font-weight: bold\">Generating glossary for dataset: pric_strat</span>\n",
       "</pre>\n"
      ],
      "text/plain": [
       "\u001b[1;32mGenerating glossary for dataset: pric_strat\u001b[0m\n"
      ]
     },
     "metadata": {},
     "output_type": "display_data"
    },
    {
     "name": "stderr",
     "output_type": "stream",
     "text": [
      "100%|██████████| 5/5 [00:07<00:00,  1.53s/it]\n"
     ]
    },
    {
     "data": {
      "text/html": [
       "<pre style=\"white-space:pre;overflow-x:auto;line-height:normal;font-family:Menlo,'DejaVu Sans Mono',consolas,'Courier New',monospace\"><span style=\"color: #008000; text-decoration-color: #008000; font-weight: bold\">Generating glossary for dataset: promo_camp</span>\n",
       "</pre>\n"
      ],
      "text/plain": [
       "\u001b[1;32mGenerating glossary for dataset: promo_camp\u001b[0m\n"
      ]
     },
     "metadata": {},
     "output_type": "display_data"
    },
    {
     "name": "stderr",
     "output_type": "stream",
     "text": [
      "100%|██████████| 6/6 [00:14<00:00,  2.40s/it]\n"
     ]
    },
    {
     "data": {
      "text/html": [
       "<pre style=\"white-space:pre;overflow-x:auto;line-height:normal;font-family:Menlo,'DejaVu Sans Mono',consolas,'Courier New',monospace\"><span style=\"color: #008000; text-decoration-color: #008000; font-weight: bold\">Generating glossary for dataset: retail_audit</span>\n",
       "</pre>\n"
      ],
      "text/plain": [
       "\u001b[1;32mGenerating glossary for dataset: retail_audit\u001b[0m\n"
      ]
     },
     "metadata": {},
     "output_type": "display_data"
    },
    {
     "name": "stderr",
     "output_type": "stream",
     "text": [
      "100%|██████████| 6/6 [00:09<00:00,  1.59s/it]\n"
     ]
    },
    {
     "data": {
      "text/html": [
       "<pre style=\"white-space:pre;overflow-x:auto;line-height:normal;font-family:Menlo,'DejaVu Sans Mono',consolas,'Courier New',monospace\"><span style=\"color: #008000; text-decoration-color: #008000; font-weight: bold\">Generating glossary for dataset: rnd</span>\n",
       "</pre>\n"
      ],
      "text/plain": [
       "\u001b[1;32mGenerating glossary for dataset: rnd\u001b[0m\n"
      ]
     },
     "metadata": {},
     "output_type": "display_data"
    },
    {
     "name": "stderr",
     "output_type": "stream",
     "text": [
      "100%|██████████| 5/5 [00:06<00:00,  1.29s/it]\n"
     ]
    },
    {
     "data": {
      "text/html": [
       "<pre style=\"white-space:pre;overflow-x:auto;line-height:normal;font-family:Menlo,'DejaVu Sans Mono',consolas,'Courier New',monospace\"><span style=\"color: #008000; text-decoration-color: #008000; font-weight: bold\">Generating glossary for dataset: sales</span>\n",
       "</pre>\n"
      ],
      "text/plain": [
       "\u001b[1;32mGenerating glossary for dataset: sales\u001b[0m\n"
      ]
     },
     "metadata": {},
     "output_type": "display_data"
    },
    {
     "name": "stderr",
     "output_type": "stream",
     "text": [
      "100%|██████████| 5/5 [00:10<00:00,  2.07s/it]\n"
     ]
    },
    {
     "data": {
      "text/html": [
       "<pre style=\"white-space:pre;overflow-x:auto;line-height:normal;font-family:Menlo,'DejaVu Sans Mono',consolas,'Courier New',monospace\"><span style=\"color: #008000; text-decoration-color: #008000; font-weight: bold\">Generating glossary for dataset: social</span>\n",
       "</pre>\n"
      ],
      "text/plain": [
       "\u001b[1;32mGenerating glossary for dataset: social\u001b[0m\n"
      ]
     },
     "metadata": {},
     "output_type": "display_data"
    },
    {
     "name": "stderr",
     "output_type": "stream",
     "text": [
      "100%|██████████| 6/6 [00:10<00:00,  1.75s/it]\n"
     ]
    },
    {
     "data": {
      "text/html": [
       "<pre style=\"white-space:pre;overflow-x:auto;line-height:normal;font-family:Menlo,'DejaVu Sans Mono',consolas,'Courier New',monospace\"><span style=\"color: #008000; text-decoration-color: #008000; font-weight: bold\">Business glossary generation complete.</span>\n",
       "</pre>\n"
      ],
      "text/plain": [
       "\u001b[1;32mBusiness glossary generation complete.\u001b[0m\n"
      ]
     },
     "metadata": {},
     "output_type": "display_data"
    },
    {
     "name": "stdout",
     "output_type": "stream",
     "text": [
      "Initializing semantic search...\n"
     ]
    },
    {
     "name": "stderr",
     "output_type": "stream",
     "text": [
      "/home/raphael/intugle/data-tools/src/intugle/core/vector_store/qdrant.py:77: UserWarning: Api key is used with an insecure connection.\n",
      "  self._client = AsyncQdrantClient(**self.client_config)\n"
     ]
    },
    {
     "name": "stdout",
     "output_type": "stream",
     "text": [
      "Semantic search initialized.\n"
     ]
    },
    {
     "data": {
      "text/plain": [
       "<intugle.semantic_model.SemanticModel at 0x7d2f6579e150>"
      ]
     },
     "execution_count": 3,
     "metadata": {},
     "output_type": "execute_result"
    }
   ],
   "source": [
    "from intugle import SemanticModel\n",
    "\n",
    "# Initialize the semantic model\n",
    "sm = SemanticModel(datasets, domain=\"Fast Moving Consumer Goods\")\n",
    "\n",
    "# Run the prediction\n",
    "sm.build()"
   ]
  },
  {
   "cell_type": "markdown",
   "id": "5985853a",
   "metadata": {},
   "source": [
    "## 3. Accessing Enriched Metadata\n",
    "\n",
    "Now that the semantic model is built, you can easily access the enriched metadata for each dataset.\n",
    "\n",
    "### Accessing a Dataset\n",
    "\n",
    "You can access a specific dataset by its name from the `sm.datasets` dictionary:"
   ]
  },
  {
   "cell_type": "code",
   "execution_count": 4,
   "id": "6bda3e4d",
   "metadata": {},
   "outputs": [
    {
     "data": {
      "text/html": [
       "<div>\n",
       "<style scoped>\n",
       "    .dataframe tbody tr th:only-of-type {\n",
       "        vertical-align: middle;\n",
       "    }\n",
       "\n",
       "    .dataframe tbody tr th {\n",
       "        vertical-align: top;\n",
       "    }\n",
       "\n",
       "    .dataframe thead th {\n",
       "        text-align: right;\n",
       "    }\n",
       "</style>\n",
       "<table border=\"1\" class=\"dataframe\">\n",
       "  <thead>\n",
       "    <tr style=\"text-align: right;\">\n",
       "      <th></th>\n",
       "      <th>column_name</th>\n",
       "      <th>table_name</th>\n",
       "      <th>business_name</th>\n",
       "      <th>datatype_l1</th>\n",
       "      <th>datatype_l2</th>\n",
       "      <th>business_glossary</th>\n",
       "      <th>business_tags</th>\n",
       "      <th>count</th>\n",
       "      <th>null_count</th>\n",
       "      <th>distinct_count</th>\n",
       "      <th>uniqueness</th>\n",
       "      <th>completeness</th>\n",
       "      <th>sample_data</th>\n",
       "    </tr>\n",
       "  </thead>\n",
       "  <tbody>\n",
       "    <tr>\n",
       "      <th>0</th>\n",
       "      <td>date</td>\n",
       "      <td>sales</td>\n",
       "      <td>date</td>\n",
       "      <td>date &amp; time</td>\n",
       "      <td>L2OutputTypes.dimension</td>\n",
       "      <td>Marks the specific calendar day associated wit...</td>\n",
       "      <td>[Sales Transaction Date, Revenue Tracking, Tim...</td>\n",
       "      <td>200</td>\n",
       "      <td>0</td>\n",
       "      <td>120</td>\n",
       "      <td>0.600</td>\n",
       "      <td>1.0</td>\n",
       "      <td>[2022-11-02, 2022-01-30, 2021-10-25, 2021-12-2...</td>\n",
       "    </tr>\n",
       "    <tr>\n",
       "      <th>1</th>\n",
       "      <td>prod_id</td>\n",
       "      <td>sales</td>\n",
       "      <td>prod_id</td>\n",
       "      <td>alphanumeric</td>\n",
       "      <td>L2OutputTypes.dimension</td>\n",
       "      <td>Identifies individual products involved in sal...</td>\n",
       "      <td>[Product Identifier, Sales Tracking, Inventory...</td>\n",
       "      <td>200</td>\n",
       "      <td>0</td>\n",
       "      <td>100</td>\n",
       "      <td>0.500</td>\n",
       "      <td>1.0</td>\n",
       "      <td>[P194, P142, P168, P106, P123, P126, P107, P18...</td>\n",
       "    </tr>\n",
       "    <tr>\n",
       "      <th>2</th>\n",
       "      <td>vol</td>\n",
       "      <td>sales</td>\n",
       "      <td>vol</td>\n",
       "      <td>integer</td>\n",
       "      <td>L2OutputTypes.measure</td>\n",
       "      <td>Measures the quantity of items sold in a speci...</td>\n",
       "      <td>[Sales Volume, Product Demand, Transaction Met...</td>\n",
       "      <td>200</td>\n",
       "      <td>0</td>\n",
       "      <td>93</td>\n",
       "      <td>0.465</td>\n",
       "      <td>1.0</td>\n",
       "      <td>[781, 761, 216, 438, 655, 613, 674, 129, 551, ...</td>\n",
       "    </tr>\n",
       "    <tr>\n",
       "      <th>3</th>\n",
       "      <td>amt</td>\n",
       "      <td>sales</td>\n",
       "      <td>amt</td>\n",
       "      <td>float</td>\n",
       "      <td>L2OutputTypes.measure</td>\n",
       "      <td>Represents the monetary value associated with ...</td>\n",
       "      <td>[Sales Revenue, Transaction Amount, Monetary V...</td>\n",
       "      <td>200</td>\n",
       "      <td>0</td>\n",
       "      <td>100</td>\n",
       "      <td>0.500</td>\n",
       "      <td>1.0</td>\n",
       "      <td>[99634.44, 71897.63, 89830.57, 14784.2, 68217....</td>\n",
       "    </tr>\n",
       "    <tr>\n",
       "      <th>4</th>\n",
       "      <td>return_per</td>\n",
       "      <td>sales</td>\n",
       "      <td>return_per</td>\n",
       "      <td>float</td>\n",
       "      <td>L2OutputTypes.measure</td>\n",
       "      <td>Indicates the percentage rate at which sales i...</td>\n",
       "      <td>[Product Return Rate, Customer Returns Analysi...</td>\n",
       "      <td>200</td>\n",
       "      <td>0</td>\n",
       "      <td>88</td>\n",
       "      <td>0.440</td>\n",
       "      <td>1.0</td>\n",
       "      <td>[1.54, 1.12, 4.24, 2.53, 3.01, 4.54, 2.22, 2.6...</td>\n",
       "    </tr>\n",
       "  </tbody>\n",
       "</table>\n",
       "</div>"
      ],
      "text/plain": [
       "  column_name table_name business_name   datatype_l1              datatype_l2  \\\n",
       "0        date      sales          date   date & time  L2OutputTypes.dimension   \n",
       "1     prod_id      sales       prod_id  alphanumeric  L2OutputTypes.dimension   \n",
       "2         vol      sales           vol       integer    L2OutputTypes.measure   \n",
       "3         amt      sales           amt         float    L2OutputTypes.measure   \n",
       "4  return_per      sales    return_per         float    L2OutputTypes.measure   \n",
       "\n",
       "                                   business_glossary  \\\n",
       "0  Marks the specific calendar day associated wit...   \n",
       "1  Identifies individual products involved in sal...   \n",
       "2  Measures the quantity of items sold in a speci...   \n",
       "3  Represents the monetary value associated with ...   \n",
       "4  Indicates the percentage rate at which sales i...   \n",
       "\n",
       "                                       business_tags  count  null_count  \\\n",
       "0  [Sales Transaction Date, Revenue Tracking, Tim...    200           0   \n",
       "1  [Product Identifier, Sales Tracking, Inventory...    200           0   \n",
       "2  [Sales Volume, Product Demand, Transaction Met...    200           0   \n",
       "3  [Sales Revenue, Transaction Amount, Monetary V...    200           0   \n",
       "4  [Product Return Rate, Customer Returns Analysi...    200           0   \n",
       "\n",
       "   distinct_count  uniqueness  completeness  \\\n",
       "0             120       0.600           1.0   \n",
       "1             100       0.500           1.0   \n",
       "2              93       0.465           1.0   \n",
       "3             100       0.500           1.0   \n",
       "4              88       0.440           1.0   \n",
       "\n",
       "                                         sample_data  \n",
       "0  [2022-11-02, 2022-01-30, 2021-10-25, 2021-12-2...  \n",
       "1  [P194, P142, P168, P106, P123, P126, P107, P18...  \n",
       "2  [781, 761, 216, 438, 655, 613, 674, 129, 551, ...  \n",
       "3  [99634.44, 71897.63, 89830.57, 14784.2, 68217....  \n",
       "4  [1.54, 1.12, 4.24, 2.53, 3.01, 4.54, 2.22, 2.6...  "
      ]
     },
     "execution_count": 4,
     "metadata": {},
     "output_type": "execute_result"
    }
   ],
   "source": [
    "sales_dataset = sm.datasets['sales']\n",
    "sales_dataset.profiling_df"
   ]
  },
  {
   "cell_type": "markdown",
   "id": "8320e7e9",
   "metadata": {},
   "source": [
    "The profiling results can be accessed through the `profiling_df` property of the `DataSet` object. It's a pandas DataFrame that you can easily explore. \n",
    "> The business glossary is also available in the `profiling_df`:"
   ]
  },
  {
   "cell_type": "markdown",
   "id": "2893a73e",
   "metadata": {},
   "source": [
    "### Visualizing Relationships\n",
    "\n",
    "The `SemanticModel` automatically discovers the relationships between your tables. You can access the predicted links as a list of `PredictedLink` objects:"
   ]
  },
  {
   "cell_type": "code",
   "execution_count": 5,
   "id": "70fffa1f",
   "metadata": {},
   "outputs": [
    {
     "data": {
      "text/plain": [
       "[PredictedLink(from_dataset='ad_spends', from_column='camp_id', to_dataset='social', to_column='camp_id', intersect_count=4, intersect_ratio_from_col=0.04, intersect_ratio_to_col=1.0, accuracy=1.0),\n",
       " PredictedLink(from_dataset='comp_price', from_column='pid', to_dataset='cons_fb', to_column='p_id', intersect_count=88, intersect_ratio_from_col=1.0, intersect_ratio_to_col=0.88, accuracy=1.0),\n",
       " PredictedLink(from_dataset='comp_price', from_column='pid', to_dataset='prd_mstr', to_column='prd_id', intersect_count=88, intersect_ratio_from_col=1.0, intersect_ratio_to_col=0.88, accuracy=1.0),\n",
       " PredictedLink(from_dataset='comp_price', from_column='pid', to_dataset='price_sense', to_column='pid', intersect_count=88, intersect_ratio_from_col=1.0, intersect_ratio_to_col=0.88, accuracy=1.0),\n",
       " PredictedLink(from_dataset='comp_price', from_column='pid', to_dataset='pric_strat', to_column='prdid', intersect_count=88, intersect_ratio_from_col=1.0, intersect_ratio_to_col=0.88, accuracy=1.0),\n",
       " PredictedLink(from_dataset='cons_fb', from_column='p_id', to_dataset='mkt_coverage', to_column='p_id', intersect_count=50, intersect_ratio_from_col=0.5, intersect_ratio_to_col=1.0, accuracy=1.0),\n",
       " PredictedLink(from_dataset='cons_fb', from_column='p_id', to_dataset='prd_mstr', to_column='prd_id', intersect_count=100, intersect_ratio_from_col=1.0, intersect_ratio_to_col=1.0, accuracy=1.0),\n",
       " PredictedLink(from_dataset='cons_fb', from_column='p_id', to_dataset='price_sense', to_column='pid', intersect_count=100, intersect_ratio_from_col=1.0, intersect_ratio_to_col=1.0, accuracy=1.0),\n",
       " PredictedLink(from_dataset='cons_fb', from_column='p_id', to_dataset='retail_audit', to_column='pid', intersect_count=89, intersect_ratio_from_col=0.89, intersect_ratio_to_col=1.0, accuracy=1.0),\n",
       " PredictedLink(from_dataset='cons_fb', from_column='p_id', to_dataset='rnd', to_column='prod_id', intersect_count=84, intersect_ratio_from_col=0.84, intersect_ratio_to_col=1.0, accuracy=1.0),\n",
       " PredictedLink(from_dataset='disti', from_column='prd_id', to_dataset='prd_mstr', to_column='prd_id', intersect_count=81, intersect_ratio_from_col=1.0, intersect_ratio_to_col=0.81, accuracy=1.0),\n",
       " PredictedLink(from_dataset='disti', from_column='prd_id', to_dataset='price_sense', to_column='pid', intersect_count=81, intersect_ratio_from_col=1.0, intersect_ratio_to_col=0.81, accuracy=1.0),\n",
       " PredictedLink(from_dataset='disti', from_column='prd_id', to_dataset='pric_strat', to_column='prdid', intersect_count=81, intersect_ratio_from_col=1.0, intersect_ratio_to_col=0.81, accuracy=1.0),\n",
       " PredictedLink(from_dataset='mkt_coverage', from_column='p_id', to_dataset='prd_mstr', to_column='prd_id', intersect_count=50, intersect_ratio_from_col=1.0, intersect_ratio_to_col=0.5, accuracy=1.0),\n",
       " PredictedLink(from_dataset='mkt_coverage', from_column='p_id', to_dataset='price_sense', to_column='pid', intersect_count=50, intersect_ratio_from_col=1.0, intersect_ratio_to_col=0.5, accuracy=1.0),\n",
       " PredictedLink(from_dataset='mkt_coverage', from_column='p_id', to_dataset='pric_strat', to_column='prdid', intersect_count=50, intersect_ratio_from_col=1.0, intersect_ratio_to_col=0.5, accuracy=1.0),\n",
       " PredictedLink(from_dataset='prd_mstr', from_column='prd_id', to_dataset='price_sense', to_column='pid', intersect_count=100, intersect_ratio_from_col=1.0, intersect_ratio_to_col=1.0, accuracy=1.0),\n",
       " PredictedLink(from_dataset='prd_mstr', from_column='prd_id', to_dataset='pric_strat', to_column='prdid', intersect_count=100, intersect_ratio_from_col=1.0, intersect_ratio_to_col=1.0, accuracy=1.0),\n",
       " PredictedLink(from_dataset='prd_mstr', from_column='prd_id', to_dataset='retail_audit', to_column='pid', intersect_count=89, intersect_ratio_from_col=0.89, intersect_ratio_to_col=1.0, accuracy=1.0),\n",
       " PredictedLink(from_dataset='prd_mstr', from_column='prd_id', to_dataset='rnd', to_column='prod_id', intersect_count=84, intersect_ratio_from_col=0.84, intersect_ratio_to_col=1.0, accuracy=1.0),\n",
       " PredictedLink(from_dataset='prd_mstr', from_column='prd_id', to_dataset='sales', to_column='prod_id', intersect_count=100, intersect_ratio_from_col=1.0, intersect_ratio_to_col=1.0, accuracy=1.0),\n",
       " PredictedLink(from_dataset='price_sense', from_column='pid', to_dataset='retail_audit', to_column='pid', intersect_count=89, intersect_ratio_from_col=0.89, intersect_ratio_to_col=1.0, accuracy=1.0),\n",
       " PredictedLink(from_dataset='price_sense', from_column='pid', to_dataset='rnd', to_column='prod_id', intersect_count=84, intersect_ratio_from_col=0.84, intersect_ratio_to_col=1.0, accuracy=1.0),\n",
       " PredictedLink(from_dataset='price_sense', from_column='pid', to_dataset='sales', to_column='prod_id', intersect_count=100, intersect_ratio_from_col=1.0, intersect_ratio_to_col=1.0, accuracy=1.0),\n",
       " PredictedLink(from_dataset='pric_strat', from_column='prdid', to_dataset='retail_audit', to_column='pid', intersect_count=89, intersect_ratio_from_col=0.89, intersect_ratio_to_col=1.0, accuracy=1.0),\n",
       " PredictedLink(from_dataset='pric_strat', from_column='prdid', to_dataset='rnd', to_column='prod_id', intersect_count=84, intersect_ratio_from_col=0.84, intersect_ratio_to_col=1.0, accuracy=1.0),\n",
       " PredictedLink(from_dataset='pric_strat', from_column='prdid', to_dataset='sales', to_column='prod_id', intersect_count=100, intersect_ratio_from_col=1.0, intersect_ratio_to_col=1.0, accuracy=1.0)]"
      ]
     },
     "execution_count": 5,
     "metadata": {},
     "output_type": "execute_result"
    }
   ],
   "source": [
    "sm.links"
   ]
  },
  {
   "cell_type": "markdown",
   "id": "fcc47aa0",
   "metadata": {},
   "source": [
    "You can also visualize these relationships as a graph. In case you run into an error, make sure you install/upgrade your ipykernel package:\n",
    "> %pip install --upgrade ipykernel"
   ]
  },
  {
   "cell_type": "code",
   "execution_count": 6,
   "id": "2d0fea13",
   "metadata": {},
   "outputs": [
    {
     "data": {
      "image/png": "[encoded data removed]",
      "text/plain": [
       "<Figure size 2000x2000 with 1 Axes>"
      ]
     },
     "metadata": {},
     "output_type": "display_data"
    }
   ],
   "source": [
    "sm.visualize()  # To visualize the relationships as a graph"
   ]
  },
  {
   "cell_type": "markdown",
   "id": "5ea53c02",
   "metadata": {},
   "source": [
    "## 4. The Semantic Layer\n",
    "\n",
    "The SemanticModel results are used to generate YAML files which are saved automatically. These files defines the semantic layer, including the models (tables) and their relationships. \n",
    "\n",
    "By default, these files are saved in the current working directory. You can configure this path by setting the `PROJECT_BASE` environment variable."
   ]
  },
  {
   "cell_type": "markdown",
   "id": "3508ec1d",
   "metadata": {},
   "source": [
    "## 5. Semantic Search\n",
    "\n",
    "The semantic search feature allows you to search for columns in your datasets using natural language. \n",
    "\n",
    "> **Note:** To use this feature, you need to have a running Qdrant instance and an OpenAI API key. Please refer to the [README.md](https://github.com/Intugle/data-tools/blob/main/README.md) for detailed setup instructions.\n",
    ">\n",
    "> **Google Colab Users:** If you are running this notebook in Google Colab, you may not be able to connect to a local Qdrant instance running in Docker. In this case, you will need to use a remotely hosted Qdrant server.\n",
    ">\n",
    "> **Current Limitation:** Currently, the semantic search feature requires an OpenAI or Azure OpenAI key as it is tightly coupled with Ada embeddings. We are actively working on decoupling this.\n",
    "\n",
    "Once you have built the semantic model, you can use the `search` method to perform a semantic search. The search function returns a pandas DataFrame containing the search results, including the column's profiling metrics, category, table name, and table glossary."
   ]
  },
  {
   "cell_type": "code",
   "execution_count": 7,
   "id": "bd6ff2d6",
   "metadata": {},
   "outputs": [
    {
     "name": "stderr",
     "output_type": "stream",
     "text": [
      "/home/raphael/intugle/data-tools/src/intugle/core/vector_store/qdrant.py:77: UserWarning: Api key is used with an insecure connection.\n",
      "  self._client = AsyncQdrantClient(**self.client_config)\n",
      "/home/raphael/intugle/data-tools/src/intugle/core/vector_store/qdrant.py:77: UserWarning: Api key is used with an insecure connection.\n",
      "  self._client = AsyncQdrantClient(**self.client_config)\n",
      "/home/raphael/intugle/data-tools/src/intugle/core/semantic_search/semantic_search.py:156: SettingWithCopyWarning: \n",
      "A value is trying to be set on a copy of a slice from a DataFrame.\n",
      "Try using .loc[row_indexer,col_indexer] = value instead\n",
      "\n",
      "See the caveats in the documentation: https://pandas.pydata.org/pandas-docs/stable/user_guide/indexing.html#returning-a-view-versus-a-copy\n",
      "  late_embedding_result_glossary[\"score\"] = late_embedding_result_glossary[\"score\"] / len(late_vector)\n"
     ]
    },
    {
     "data": {
      "text/html": [
       "<div>\n",
       "<style scoped>\n",
       "    .dataframe tbody tr th:only-of-type {\n",
       "        vertical-align: middle;\n",
       "    }\n",
       "\n",
       "    .dataframe tbody tr th {\n",
       "        vertical-align: top;\n",
       "    }\n",
       "\n",
       "    .dataframe thead th {\n",
       "        text-align: right;\n",
       "    }\n",
       "</style>\n",
       "<table border=\"1\" class=\"dataframe\">\n",
       "  <thead>\n",
       "    <tr style=\"text-align: right;\">\n",
       "      <th></th>\n",
       "      <th>column_id</th>\n",
       "      <th>score</th>\n",
       "      <th>relevancy</th>\n",
       "      <th>column_name</th>\n",
       "      <th>column_glossary</th>\n",
       "      <th>column_tags</th>\n",
       "      <th>category</th>\n",
       "      <th>table_name</th>\n",
       "      <th>table_glossary</th>\n",
       "      <th>uniqueness</th>\n",
       "      <th>completeness</th>\n",
       "      <th>count</th>\n",
       "      <th>null_count</th>\n",
       "      <th>distinct_count</th>\n",
       "      <th>sample_data</th>\n",
       "    </tr>\n",
       "  </thead>\n",
       "  <tbody>\n",
       "    <tr>\n",
       "      <th>0</th>\n",
       "      <td>mkt_coverage.geo_cov_per</td>\n",
       "      <td>0.999997</td>\n",
       "      <td>RelevancyCate</td>\n",
       "      <td>geo_cov_per</td>\n",
       "      <td>Indicates the percentage of geographical area ...</td>\n",
       "      <td>[Geographical Coverage, Market Penetration, Re...</td>\n",
       "      <td>measure</td>\n",
       "      <td>mkt_coverage</td>\n",
       "      <td>Tracks regional distribution metrics, includin...</td>\n",
       "      <td>1.00</td>\n",
       "      <td>1.0</td>\n",
       "      <td>100</td>\n",
       "      <td>0</td>\n",
       "      <td>100</td>\n",
       "      <td>[63.38, 40.0, 76.98, 47.1, 72.56, 91.93, 71.77...</td>\n",
       "    </tr>\n",
       "    <tr>\n",
       "      <th>1</th>\n",
       "      <td>pric_strat.sales_chg</td>\n",
       "      <td>0.898194</td>\n",
       "      <td>RelevancyCate</td>\n",
       "      <td>sales_chg</td>\n",
       "      <td>Indicates the percentage change in sales perfo...</td>\n",
       "      <td>[Sales Performance, Revenue Trend Analysis, Bu...</td>\n",
       "      <td>measure</td>\n",
       "      <td>pric_strat</td>\n",
       "      <td>Captures pricing strategies and their impact o...</td>\n",
       "      <td>0.97</td>\n",
       "      <td>1.0</td>\n",
       "      <td>100</td>\n",
       "      <td>0</td>\n",
       "      <td>97</td>\n",
       "      <td>[7.52, 3.67, 10.96, 3.39, 2.74, 2.9, 2.57, 8.0...</td>\n",
       "    </tr>\n",
       "    <tr>\n",
       "      <th>2</th>\n",
       "      <td>social.reach</td>\n",
       "      <td>0.879449</td>\n",
       "      <td>RelevancyCate</td>\n",
       "      <td>reach</td>\n",
       "      <td>Indicates the number of individuals exposed to...</td>\n",
       "      <td>[Social Media Engagement, Audience Reach, Mark...</td>\n",
       "      <td>measure</td>\n",
       "      <td>social</td>\n",
       "      <td>Tracks the performance metrics of marketing ca...</td>\n",
       "      <td>0.91</td>\n",
       "      <td>1.0</td>\n",
       "      <td>100</td>\n",
       "      <td>0</td>\n",
       "      <td>91</td>\n",
       "      <td>[691, 432, 775, 985, 657, 943, 388, 793, 68, 764]</td>\n",
       "    </tr>\n",
       "    <tr>\n",
       "      <th>3</th>\n",
       "      <td>promo_camp.date</td>\n",
       "      <td>0.861466</td>\n",
       "      <td>RelevancyCate</td>\n",
       "      <td>date</td>\n",
       "      <td>Indicates the scheduled timeframe for promotio...</td>\n",
       "      <td>[Promotion Campaign Timeline, Marketing Event ...</td>\n",
       "      <td>dimension</td>\n",
       "      <td>promo_camp</td>\n",
       "      <td>Tracks promotional campaigns, detailing their ...</td>\n",
       "      <td>0.12</td>\n",
       "      <td>1.0</td>\n",
       "      <td>200</td>\n",
       "      <td>0</td>\n",
       "      <td>24</td>\n",
       "      <td>[23-Sep, 22-May, 23-Feb, 23-Apr, 22-Jun, 23-Ju...</td>\n",
       "    </tr>\n",
       "    <tr>\n",
       "      <th>4</th>\n",
       "      <td>price_sense.demand_dec_1</td>\n",
       "      <td>0.855925</td>\n",
       "      <td>RelevancyCate</td>\n",
       "      <td>demand_dec_1</td>\n",
       "      <td>Indicates the projected or estimated demand fo...</td>\n",
       "      <td>[Demand Forecasting, Consumer Behavior Analysi...</td>\n",
       "      <td>measure</td>\n",
       "      <td>price_sense</td>\n",
       "      <td>Analyzes the relationship between price change...</td>\n",
       "      <td>0.97</td>\n",
       "      <td>1.0</td>\n",
       "      <td>100</td>\n",
       "      <td>0</td>\n",
       "      <td>97</td>\n",
       "      <td>[27.68, 6.37, 11.45, 7.03, 12.91, 25.63, 10.43...</td>\n",
       "    </tr>\n",
       "    <tr>\n",
       "      <th>...</th>\n",
       "      <td>...</td>\n",
       "      <td>...</td>\n",
       "      <td>...</td>\n",
       "      <td>...</td>\n",
       "      <td>...</td>\n",
       "      <td>...</td>\n",
       "      <td>...</td>\n",
       "      <td>...</td>\n",
       "      <td>...</td>\n",
       "      <td>...</td>\n",
       "      <td>...</td>\n",
       "      <td>...</td>\n",
       "      <td>...</td>\n",
       "      <td>...</td>\n",
       "      <td>...</td>\n",
       "    </tr>\n",
       "    <tr>\n",
       "      <th>59</th>\n",
       "      <td>sales.date</td>\n",
       "      <td>0.813971</td>\n",
       "      <td>Relevanc</td>\n",
       "      <td>date</td>\n",
       "      <td>Marks the specific calendar day associated wit...</td>\n",
       "      <td>[Sales Transaction Date, Revenue Tracking, Tim...</td>\n",
       "      <td>dimension</td>\n",
       "      <td>sales</td>\n",
       "      <td>Tracks product sales performance over time, in...</td>\n",
       "      <td>0.60</td>\n",
       "      <td>1.0</td>\n",
       "      <td>200</td>\n",
       "      <td>0</td>\n",
       "      <td>120</td>\n",
       "      <td>[2022-11-02, 2022-01-30, 2021-10-25, 2021-12-2...</td>\n",
       "    </tr>\n",
       "    <tr>\n",
       "      <th>60</th>\n",
       "      <td>comp_price.comp_name</td>\n",
       "      <td>0.813672</td>\n",
       "      <td>Relevanc</td>\n",
       "      <td>comp_name</td>\n",
       "      <td>Name of a competitor organization involved in ...</td>\n",
       "      <td>[Competitor Identification, Market Analysis, C...</td>\n",
       "      <td>dimension</td>\n",
       "      <td>comp_price</td>\n",
       "      <td>Tracks competitor product prices and their dif...</td>\n",
       "      <td>0.03</td>\n",
       "      <td>1.0</td>\n",
       "      <td>100</td>\n",
       "      <td>0</td>\n",
       "      <td>3</td>\n",
       "      <td>[Competitor A, Competitor C, Competitor B]</td>\n",
       "    </tr>\n",
       "    <tr>\n",
       "      <th>61</th>\n",
       "      <td>cons_fb.p_id</td>\n",
       "      <td>0.813341</td>\n",
       "      <td>Relevanc</td>\n",
       "      <td>p_id</td>\n",
       "      <td>Identifies unique products within the context ...</td>\n",
       "      <td>[Product Identifier, Consumer Goods Tracking, ...</td>\n",
       "      <td>dimension</td>\n",
       "      <td>cons_fb</td>\n",
       "      <td>Captures consumer feedback on product quality,...</td>\n",
       "      <td>1.00</td>\n",
       "      <td>1.0</td>\n",
       "      <td>100</td>\n",
       "      <td>0</td>\n",
       "      <td>100</td>\n",
       "      <td>[P105, P167, P125, P130, P174, P158, P193, P18...</td>\n",
       "    </tr>\n",
       "    <tr>\n",
       "      <th>62</th>\n",
       "      <td>ad_spends.channel</td>\n",
       "      <td>0.813189</td>\n",
       "      <td>Relevanc</td>\n",
       "      <td>channel</td>\n",
       "      <td>Categorizes the medium used for advertising ca...</td>\n",
       "      <td>[Advertising Medium, Marketing Channel, Campai...</td>\n",
       "      <td>dimension</td>\n",
       "      <td>ad_spends</td>\n",
       "      <td>Tracks advertising expenditures across various...</td>\n",
       "      <td>0.05</td>\n",
       "      <td>1.0</td>\n",
       "      <td>100</td>\n",
       "      <td>0</td>\n",
       "      <td>5</td>\n",
       "      <td>[Online, Print, Television, Radio, Social Media]</td>\n",
       "    </tr>\n",
       "    <tr>\n",
       "      <th>63</th>\n",
       "      <td>price_sense.pid</td>\n",
       "      <td>0.812554</td>\n",
       "      <td>Relevanc</td>\n",
       "      <td>pid</td>\n",
       "      <td>Serves as a unique identifier for products in ...</td>\n",
       "      <td>[Product Identifier, Pricing Reference, SKU Tr...</td>\n",
       "      <td>dimension</td>\n",
       "      <td>price_sense</td>\n",
       "      <td>Analyzes the relationship between price change...</td>\n",
       "      <td>1.00</td>\n",
       "      <td>1.0</td>\n",
       "      <td>100</td>\n",
       "      <td>0</td>\n",
       "      <td>100</td>\n",
       "      <td>[P193, P172, P148, P114, P176, P111, P117, P11...</td>\n",
       "    </tr>\n",
       "  </tbody>\n",
       "</table>\n",
       "<p>64 rows × 15 columns</p>\n",
       "</div>"
      ],
      "text/plain": [
       "                   column_id     score      relevancy   column_name  \\\n",
       "0   mkt_coverage.geo_cov_per  0.999997  RelevancyCate   geo_cov_per   \n",
       "1       pric_strat.sales_chg  0.898194  RelevancyCate     sales_chg   \n",
       "2               social.reach  0.879449  RelevancyCate         reach   \n",
       "3            promo_camp.date  0.861466  RelevancyCate          date   \n",
       "4   price_sense.demand_dec_1  0.855925  RelevancyCate  demand_dec_1   \n",
       "..                       ...       ...            ...           ...   \n",
       "59                sales.date  0.813971       Relevanc          date   \n",
       "60      comp_price.comp_name  0.813672       Relevanc     comp_name   \n",
       "61              cons_fb.p_id  0.813341       Relevanc          p_id   \n",
       "62         ad_spends.channel  0.813189       Relevanc       channel   \n",
       "63           price_sense.pid  0.812554       Relevanc           pid   \n",
       "\n",
       "                                      column_glossary  \\\n",
       "0   Indicates the percentage of geographical area ...   \n",
       "1   Indicates the percentage change in sales perfo...   \n",
       "2   Indicates the number of individuals exposed to...   \n",
       "3   Indicates the scheduled timeframe for promotio...   \n",
       "4   Indicates the projected or estimated demand fo...   \n",
       "..                                                ...   \n",
       "59  Marks the specific calendar day associated wit...   \n",
       "60  Name of a competitor organization involved in ...   \n",
       "61  Identifies unique products within the context ...   \n",
       "62  Categorizes the medium used for advertising ca...   \n",
       "63  Serves as a unique identifier for products in ...   \n",
       "\n",
       "                                          column_tags   category  \\\n",
       "0   [Geographical Coverage, Market Penetration, Re...    measure   \n",
       "1   [Sales Performance, Revenue Trend Analysis, Bu...    measure   \n",
       "2   [Social Media Engagement, Audience Reach, Mark...    measure   \n",
       "3   [Promotion Campaign Timeline, Marketing Event ...  dimension   \n",
       "4   [Demand Forecasting, Consumer Behavior Analysi...    measure   \n",
       "..                                                ...        ...   \n",
       "59  [Sales Transaction Date, Revenue Tracking, Tim...  dimension   \n",
       "60  [Competitor Identification, Market Analysis, C...  dimension   \n",
       "61  [Product Identifier, Consumer Goods Tracking, ...  dimension   \n",
       "62  [Advertising Medium, Marketing Channel, Campai...  dimension   \n",
       "63  [Product Identifier, Pricing Reference, SKU Tr...  dimension   \n",
       "\n",
       "      table_name                                     table_glossary  \\\n",
       "0   mkt_coverage  Tracks regional distribution metrics, includin...   \n",
       "1     pric_strat  Captures pricing strategies and their impact o...   \n",
       "2         social  Tracks the performance metrics of marketing ca...   \n",
       "3     promo_camp  Tracks promotional campaigns, detailing their ...   \n",
       "4    price_sense  Analyzes the relationship between price change...   \n",
       "..           ...                                                ...   \n",
       "59         sales  Tracks product sales performance over time, in...   \n",
       "60    comp_price  Tracks competitor product prices and their dif...   \n",
       "61       cons_fb  Captures consumer feedback on product quality,...   \n",
       "62     ad_spends  Tracks advertising expenditures across various...   \n",
       "63   price_sense  Analyzes the relationship between price change...   \n",
       "\n",
       "    uniqueness  completeness  count  null_count  distinct_count  \\\n",
       "0         1.00           1.0    100           0             100   \n",
       "1         0.97           1.0    100           0              97   \n",
       "2         0.91           1.0    100           0              91   \n",
       "3         0.12           1.0    200           0              24   \n",
       "4         0.97           1.0    100           0              97   \n",
       "..         ...           ...    ...         ...             ...   \n",
       "59        0.60           1.0    200           0             120   \n",
       "60        0.03           1.0    100           0               3   \n",
       "61        1.00           1.0    100           0             100   \n",
       "62        0.05           1.0    100           0               5   \n",
       "63        1.00           1.0    100           0             100   \n",
       "\n",
       "                                          sample_data  \n",
       "0   [63.38, 40.0, 76.98, 47.1, 72.56, 91.93, 71.77...  \n",
       "1   [7.52, 3.67, 10.96, 3.39, 2.74, 2.9, 2.57, 8.0...  \n",
       "2   [691, 432, 775, 985, 657, 943, 388, 793, 68, 764]  \n",
       "3   [23-Sep, 22-May, 23-Feb, 23-Apr, 22-Jun, 23-Ju...  \n",
       "4   [27.68, 6.37, 11.45, 7.03, 12.91, 25.63, 10.43...  \n",
       "..                                                ...  \n",
       "59  [2022-11-02, 2022-01-30, 2021-10-25, 2021-12-2...  \n",
       "60         [Competitor A, Competitor C, Competitor B]  \n",
       "61  [P105, P167, P125, P130, P174, P158, P193, P18...  \n",
       "62   [Online, Print, Television, Radio, Social Media]  \n",
       "63  [P193, P172, P148, P114, P176, P111, P117, P11...  \n",
       "\n",
       "[64 rows x 15 columns]"
      ]
     },
     "execution_count": 7,
     "metadata": {},
     "output_type": "execute_result"
    }
   ],
   "source": [
    "# Perform a semantic search\n",
    "search_results = sm.search(\"regional performance\")\n",
    "\n",
    "# View the search results\n",
    "search_results"
   ]
  },
  {
   "cell_type": "markdown",
   "id": "7e701f1e",
   "metadata": {},
   "source": [
    "## 6. Data Product Creation\n",
    "\n",
    "The semantic layer serves as a foundation for the DataProduct, which streamlines the creation of reusable data products. This allows you\n",
    "to encapsulate business logic and create standardized, trustworthy data assets that can be easily shared and reused across different teams and \n",
    "applications.\n",
    "\n",
    "Let's define the model for the data product we want to build:"
   ]
  },
  {
   "cell_type": "code",
   "execution_count": 8,
   "id": "38094295",
   "metadata": {},
   "outputs": [],
   "source": [
    "data_product_config = \\\n",
    "{\n",
    "  \"name\": \"competitor_pricing_by_product\",\n",
    "  \"fields\": [\n",
    "    {\n",
    "      \"id\": \"prd_mstr.name\",\n",
    "      \"name\": \"product_name\"\n",
    "    },\n",
    "    {\n",
    "      \"id\": \"comp_price.comp_name\",\n",
    "         \"name\": \"competitor_name\"\n",
    "       },\n",
    "       {\n",
    "         \"id\": \"comp_price.price\",\n",
    "         \"name\": \"competitor_price\"\n",
    "       }\n",
    "     ],\n",
    "     \"filter\": {\n",
    "       \"sort_by\": [\n",
    "         {\n",
    "           \"id\": \"prd_mstr.name\",\n",
    "           \"direction\": \"asc\"\n",
    "         },\n",
    "         {\n",
    "           \"id\": \"comp_price.price\",\n",
    "           \"direction\": \"desc\"\n",
    "         }\n",
    "       ]\n",
    "     }\n",
    "   }"
   ]
  },
  {
   "cell_type": "markdown",
   "id": "deb79c32",
   "metadata": {},
   "source": [
    "Now, let's use the `DataProduct` to generate the data product:"
   ]
  },
  {
   "cell_type": "code",
   "execution_count": 9,
   "id": "1604e78d",
   "metadata": {},
   "outputs": [
    {
     "name": "stdout",
     "output_type": "stream",
     "text": [
      "Found existing YAML for 'prd_mstr'. Checking for staleness.\n",
      "prd_mstr loaded\n",
      "Found existing YAML for 'retail_audit'. Checking for staleness.\n",
      "retail_audit loaded\n",
      "Found existing YAML for 'mkt_coverage'. Checking for staleness.\n",
      "mkt_coverage loaded\n",
      "Found existing YAML for 'rnd'. Checking for staleness.\n",
      "rnd loaded\n",
      "Found existing YAML for 'sales'. Checking for staleness.\n",
      "sales loaded\n",
      "Found existing YAML for 'comp_price'. Checking for staleness.\n",
      "comp_price loaded\n",
      "Found existing YAML for 'pric_strat'. Checking for staleness.\n",
      "pric_strat loaded\n",
      "Found existing YAML for 'social'. Checking for staleness.\n",
      "social loaded\n",
      "Found existing YAML for 'promo_camp'. Checking for staleness.\n",
      "promo_camp loaded\n",
      "Found existing YAML for 'cons_fb'. Checking for staleness.\n",
      "cons_fb loaded\n",
      "Found existing YAML for 'ad_spends'. Checking for staleness.\n",
      "ad_spends loaded\n",
      "Found existing YAML for 'price_sense'. Checking for staleness.\n",
      "price_sense loaded\n",
      "Found existing YAML for 'disti'. Checking for staleness.\n",
      "disti loaded\n",
      "competitor_pricing_by_product\n",
      "competitor_pricing_by_product loaded\n"
     ]
    },
    {
     "data": {
      "text/html": [
       "<div>\n",
       "<style scoped>\n",
       "    .dataframe tbody tr th:only-of-type {\n",
       "        vertical-align: middle;\n",
       "    }\n",
       "\n",
       "    .dataframe tbody tr th {\n",
       "        vertical-align: top;\n",
       "    }\n",
       "\n",
       "    .dataframe thead th {\n",
       "        text-align: right;\n",
       "    }\n",
       "</style>\n",
       "<table border=\"1\" class=\"dataframe\">\n",
       "  <thead>\n",
       "    <tr style=\"text-align: right;\">\n",
       "      <th></th>\n",
       "      <th>product_name</th>\n",
       "      <th>competitor_name</th>\n",
       "      <th>competitor_price</th>\n",
       "    </tr>\n",
       "  </thead>\n",
       "  <tbody>\n",
       "    <tr>\n",
       "      <th>0</th>\n",
       "      <td>Product 10</td>\n",
       "      <td>Competitor A</td>\n",
       "      <td>78.48</td>\n",
       "    </tr>\n",
       "    <tr>\n",
       "      <th>1</th>\n",
       "      <td>Product 11</td>\n",
       "      <td>Competitor A</td>\n",
       "      <td>54.60</td>\n",
       "    </tr>\n",
       "    <tr>\n",
       "      <th>2</th>\n",
       "      <td>Product 12</td>\n",
       "      <td>Competitor A</td>\n",
       "      <td>96.25</td>\n",
       "    </tr>\n",
       "    <tr>\n",
       "      <th>3</th>\n",
       "      <td>Product 13</td>\n",
       "      <td>Competitor A</td>\n",
       "      <td>44.17</td>\n",
       "    </tr>\n",
       "    <tr>\n",
       "      <th>4</th>\n",
       "      <td>Product 14</td>\n",
       "      <td>Competitor A</td>\n",
       "      <td>28.23</td>\n",
       "    </tr>\n",
       "    <tr>\n",
       "      <th>...</th>\n",
       "      <td>...</td>\n",
       "      <td>...</td>\n",
       "      <td>...</td>\n",
       "    </tr>\n",
       "    <tr>\n",
       "      <th>95</th>\n",
       "      <td>Product 87</td>\n",
       "      <td>Competitor C</td>\n",
       "      <td>32.76</td>\n",
       "    </tr>\n",
       "    <tr>\n",
       "      <th>96</th>\n",
       "      <td>Product 88</td>\n",
       "      <td>Competitor C</td>\n",
       "      <td>49.77</td>\n",
       "    </tr>\n",
       "    <tr>\n",
       "      <th>97</th>\n",
       "      <td>Product 89</td>\n",
       "      <td>Competitor C</td>\n",
       "      <td>58.54</td>\n",
       "    </tr>\n",
       "    <tr>\n",
       "      <th>98</th>\n",
       "      <td>Product 9</td>\n",
       "      <td>Competitor A</td>\n",
       "      <td>45.96</td>\n",
       "    </tr>\n",
       "    <tr>\n",
       "      <th>99</th>\n",
       "      <td>Product 90</td>\n",
       "      <td>Competitor C</td>\n",
       "      <td>84.19</td>\n",
       "    </tr>\n",
       "  </tbody>\n",
       "</table>\n",
       "<p>100 rows × 3 columns</p>\n",
       "</div>"
      ],
      "text/plain": [
       "   product_name competitor_name  competitor_price\n",
       "0    Product 10    Competitor A             78.48\n",
       "1    Product 11    Competitor A             54.60\n",
       "2    Product 12    Competitor A             96.25\n",
       "3    Product 13    Competitor A             44.17\n",
       "4    Product 14    Competitor A             28.23\n",
       "..          ...             ...               ...\n",
       "95   Product 87    Competitor C             32.76\n",
       "96   Product 88    Competitor C             49.77\n",
       "97   Product 89    Competitor C             58.54\n",
       "98    Product 9    Competitor A             45.96\n",
       "99   Product 90    Competitor C             84.19\n",
       "\n",
       "[100 rows x 3 columns]"
      ]
     },
     "execution_count": 9,
     "metadata": {},
     "output_type": "execute_result"
    }
   ],
   "source": [
    "from intugle import DataProduct\n",
    "\n",
    "# Create a DataProduct\n",
    "dp = DataProduct()\n",
    "\n",
    "# Generate the data product\n",
    "data_product = dp.build(data_product_config)\n",
    "\n",
    "data_product.to_df()"
   ]
  },
  {
   "cell_type": "markdown",
   "id": "25411b06",
   "metadata": {},
   "source": [
    "The `build` function returns a `DataSet` object. You can also view the generated SQL query used for creating the data product:"
   ]
  },
  {
   "cell_type": "code",
   "execution_count": 10,
   "id": "42856c92",
   "metadata": {},
   "outputs": [
    {
     "data": {
      "text/plain": [
       "'SELECT \"prd_mstr\".\"name\" as product_name, \"comp_price\".\"comp_name\" as competitor_name, \"comp_price\".\"price\" as competitor_price FROM comp_price LEFT JOIN prd_mstr ON \"comp_price\".\"pid\" = \"prd_mstr\".\"prd_id\" ORDER BY prd_mstr.name ASC , comp_price.price DESC'"
      ]
     },
     "execution_count": 10,
     "metadata": {},
     "output_type": "execute_result"
    }
   ],
   "source": [
    "# The generated SQL query\n",
    "data_product.sql_query"
   ]
  },
  {
   "cell_type": "markdown",
   "id": "b26e2d62",
   "metadata": {},
   "source": [
    "## Conclusion\n",
    "\n",
    "You've learned how to:\n",
    "\n",
    "*   Configure your LLM provider and Embeddings provider.\n",
    "*   Build a semantic model using the `SemanticModel`.\n",
    "*   Access enriched metadata, business glossaries and visualize the relationships between your tables.\n",
    "*   Perform semantic search on your semantic model.\n",
    "*   Generate data products from the semantic layer using the `DataProduct`.\n",
    "\n",
    "This is just a starting point. This project has many other features to explore. We encourage you to try it with your own data and see how it can help you build a powerful semantic layer."
   ]
  }
 ],
 "metadata": {
  "kernelspec": {
   "display_name": "env",
   "language": "python",
   "name": "python3"
  },
  "language_info": {
   "codemirror_mode": {
    "name": "ipython",
    "version": 3
   },
   "file_extension": ".py",
   "mimetype": "text/x-python",
   "name": "python",
   "nbconvert_exporter": "python",
   "pygments_lexer": "ipython3",
   "version": "3.12.3"
  }
 },
 "nbformat": 4,
 "nbformat_minor": 5
}
