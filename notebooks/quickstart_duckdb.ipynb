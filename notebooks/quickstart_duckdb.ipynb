{
 "cells": [
  {
   "cell_type": "markdown",
   "id": "757096f5",
   "metadata": {},
   "source": [
    "# Quickstart: Building a Semantic Layer with Intugle\n",
    "\n",
    "This notebook provides a quick introduction to this project. You'll learn how to use its key features to automatically build a semantic layer over your data.\n",
    "\n",
    "**What is a Semantic Layer?**\n",
    "\n",
    "A semantic layer is a business-friendly representation of your data. It hides the complexity of the underlying data sources and provides a unified view of your data using familiar business terms. This makes it easier for both business users and data teams to understand and query the data, accelerating data-driven insights.\n",
    "\n",
    "**Who is this for?**\n",
    "\n",
    "This tool is designed for both **data teams** and **business teams**. \n",
    "\n",
    "* **Data teams** can use it to automate data profiling, schema discovery, and documentation, significantly accelerating their workflow.\n",
    "* **Business teams** can use it to gain a better understanding of their data and to perform self-service analytics without needing to write complex SQL queries.\n",
    "\n",
    "**In this notebook, you will learn how to:**\n",
    "\n",
    "1. **Profile your data:** Analyze your data sources to understand their structure, data types, and other characteristics.\n",
    "2. **Business Glossary Generation:** Generate a business glossary for each column, with support for industry-specific domains.\n",
    "2. **Automatically predict links:** Use a Large Language Model (LLM) to automatically discover relationships (foreign keys) between tables.\n",
    "3. **Generate a semantic layer:** Create YAML files file that defines your semantic layer.\n",
    "4. **Generate SQL queries:** Use the semantic layer to generate SQL queries and retrieve data."
   ]
  },
  {
   "cell_type": "markdown",
   "id": "a2a1b244",
   "metadata": {},
   "source": [
    "## 1. LLM Configuration\n",
    "\n",
    "Before running the project, you need to configure a Large Language Model (LLM). This is used for tasks like generating business glossaries and predicting links between tables.\n",
    "\n",
    "You can configure the LLM by setting the following environment variables:\n",
    "\n",
    "* `LLM_PROVIDER`: The LLM provider and model to use (e.g., `openai:gpt-3.5-turbo`). The format follows langchain's format for initializing chat models. Checkout how to specify your model [here](https://python.langchain.com/docs/integrations/chat/) \n",
    "* `OPENAI_API_KEY`: Your API key for the LLM provider.\n",
    "\n",
    "Here's an example of how to set these variables in your environment:\n",
    "\n",
    "```bash\n",
    "export LLM_PROVIDER=\"openai:gpt-3.5-turbo\"\n",
    "export OPENAI_API_KEY=\"your-openai-api-key\"\n",
    "```\n",
    "\n",
    "Alternatively, you can set them in the notebook like this:"
   ]
  },
  {
   "cell_type": "code",
   "execution_count": null,
   "id": "36454d44",
   "metadata": {},
   "outputs": [],
   "source": [
    "import os\n",
    "\n",
    "os.environ[\"LLM_PROVIDER\"] = \"openai:gpt-3.5-turbo\"\n",
    "os.environ[\"OPENAI_API_KEY\"] = \"your-openai-api-key\"  # Replace with your actual key\n"
   ]
  },
  {
   "cell_type": "markdown",
   "id": "fa9fda69",
   "metadata": {},
   "source": [
    "> Currently the langchain packages for OpenAI, Anthropic and Gemini is installed by default. For additional models, make sure you have the integration packages installed. E.g. you should have langchain-deepseek installed to use a DeepSeek model. You can get these packages here: [LangChain Chat Models](https://python.langchain.com/docs/integrations/chat/)"
   ]
  },
  {
   "cell_type": "markdown",
   "id": "a3dad9d8",
   "metadata": {},
   "source": [
    "## 2. Data Profiling and Glossary Generation\n",
    "\n",
    "The first step in building a semantic layer is to profile your data. This involves analyzing your data sources to understand their structure, data types, and other characteristics. This tool provides a pipeline for this purpose. It can also generate business glossary for your data.\n"
   ]
  },
  {
   "cell_type": "code",
   "execution_count": null,
   "id": "7f0e28d7",
   "metadata": {},
   "outputs": [],
   "source": [
    "from intugle import DataSet"
   ]
  },
  {
   "cell_type": "code",
   "execution_count": null,
   "id": "8d3e8299",
   "metadata": {},
   "outputs": [],
   "source": [
    "allergies_data = {\n",
    "    \"path\": \"https://raw.githubusercontent.com/Intugle/data-tools/refs/heads/main/sample_data/healthcare/allergies.csv\",\n",
    "    \"type\": \"csv\"\n",
    "}\n",
    "# Create a DataSet object and run the profiling pipeline\n",
    "dataset_allergies = DataSet(allergies_data, \"allergies\")\n",
    "dataset_allergies.run(domain=\"Healthcare\")\n",
    "\n",
    "# Or you can run each step manually:\n",
    "# dataset_allergies.profile().identify_datatypes().identify_keys().generate_glossary(domain=\"Healthcare\")"
   ]
  },
  {
   "cell_type": "markdown",
   "id": "0f4ea58f",
   "metadata": {},
   "source": [
    "The `run()` method performs a series of analysis steps, including:\n",
    "\n",
    "* **Profiling:** Calculates statistics for each column, such as distinct count, uniqueness, and completeness.\n",
    "* **Datatype Identification:** Identifies the data type of each column (e.g., integer, string, datetime).\n",
    "* **Key Identification:** Identifies potential primary keys.\n",
    "* **Glossary Generation:** Generates a business glossary for each column using an LLM.\n",
    "\n",
    "> The `domain` parameter helps the LLM generate a more contextual business glossary. It specifies the industry domain that the dataset belongs to (e.g., \"Healthcare\", \"Finance\", \"E-commerce\").\n"
   ]
  },
  {
   "cell_type": "code",
   "execution_count": null,
   "id": "ac8a78fa",
   "metadata": {},
   "outputs": [],
   "source": [
    "dataset_allergies.result_to_pandas()[[\"business_glossary\"]]"
   ]
  },
  {
   "cell_type": "code",
   "execution_count": null,
   "id": "86d162c1",
   "metadata": {},
   "outputs": [],
   "source": [
    "dataset_allergies.to_df()"
   ]
  },
  {
   "cell_type": "code",
   "execution_count": null,
   "id": "83a72c04",
   "metadata": {},
   "outputs": [],
   "source": [
    "from intugle.core.settings import settings\n",
    "\n",
    "settings.PROJECT_BASE"
   ]
  },
  {
   "cell_type": "markdown",
   "id": "eb562acd",
   "metadata": {},
   "source": [
    "## 3. Automated Link Prediction\n",
    "\n",
    "Now that we've profiled our data, let's discover the relationships between tables. This tool uses an LLM to predict links (foreign keys) between tables.\n",
    "\n",
    "First, we'll load a few more tables from the sample dataset."
   ]
  },
  {
   "cell_type": "code",
   "execution_count": null,
   "id": "0aa894eb",
   "metadata": {},
   "outputs": [],
   "source": [
    "table_names = [\"patients\", \"claims\", \"careplans\", \"claims_transactions\", \"medications\"]\n",
    "datasets = [dataset_allergies]\n",
    "\n",
    "\n",
    "def generate_config(table_name: str) -> str:\n",
    "    \"\"\"Append the base URL to the table name.\"\"\"\n",
    "    return {\n",
    "        \"path\": f\"https://raw.githubusercontent.com/Intugle/data-tools/refs/heads/main/sample_data/healthcare/{table_name}.csv\",\n",
    "        \"type\": \"csv\"\n",
    "    }\n",
    "\n",
    "\n",
    "for table_name in table_names:\n",
    "    config = generate_config(table_name)\n",
    "    dataset = DataSet({**config}, table_name)\n",
    "    datasets.append(dataset)"
   ]
  },
  {
   "cell_type": "markdown",
   "id": "e083a8d8",
   "metadata": {},
   "source": [
    "Now, let's run the link prediction pipeline."
   ]
  },
  {
   "cell_type": "code",
   "execution_count": null,
   "id": "fe4cd56d",
   "metadata": {},
   "outputs": [],
   "source": [
    "from intugle import LinkPredictor\n",
    "\n",
    "# Initialize the predictor\n",
    "predictor = LinkPredictor(datasets)\n",
    "\n",
    "# Run the prediction\n",
    "results = predictor.predict(save=True)\n",
    "results.links"
   ]
  },
  {
   "cell_type": "markdown",
   "id": "d18dc421",
   "metadata": {},
   "source": [
    "The `results` object contains the predicted links between the tables. You can also visualize the relationships as a graph.\n"
   ]
  },
  {
   "cell_type": "code",
   "execution_count": null,
   "id": "a59704ba",
   "metadata": {},
   "outputs": [],
   "source": [
    "results.show_graph()\n"
   ]
  },
  {
   "cell_type": "markdown",
   "id": "32fd4917",
   "metadata": {},
   "source": [
    "## 4. The Semantic Layer\n",
    "\n",
    "The profiling and link prediction results are used to generate YAML files which are saved automatically. These files defines the semantic layer, including the models (tables) and their relationships. \n",
    "\n",
    "By default, these files are saved in the current working directory. You can configure this path by setting the `PROJECT_BASE` environment variable. They can also be saved manually as shown below:"
   ]
  },
  {
   "cell_type": "code",
   "execution_count": null,
   "id": "a0daf854",
   "metadata": {},
   "outputs": [],
   "source": [
    "for ds in datasets:\n",
    "    ds.save_yaml()\n",
    "\n",
    "results.save_yaml(\"relationships.yml\")"
   ]
  },
  {
   "cell_type": "markdown",
   "id": "8cf08923",
   "metadata": {},
   "source": [
    "Now, we can load the YAML files and create a manifest."
   ]
  },
  {
   "cell_type": "markdown",
   "id": "3d086f45",
   "metadata": {},
   "source": [
    "## 5. SQL Generation\n",
    "\n",
    "Once you have a semantic layer, you can use the `SqlGenerator` to generate SQL queries. This allows you to query the data using business-friendly terms, without having to write complex SQL.\n",
    "\n",
    "Let's create an ETL model to define the query we want to generate."
   ]
  },
  {
   "cell_type": "code",
   "execution_count": null,
   "id": "2570af46",
   "metadata": {},
   "outputs": [],
   "source": [
    "\n",
    "etl = {\n",
    "    \"name\": \"patient_names\",\n",
    "    \"fields\": [\n",
    "        {\"id\": \"patients.first\", \"name\": \"first_name\"},\n",
    "        {\"id\": \"patients.last\", \"name\": \"last_name\"},\n",
    "        {\"id\": \"allergies.start\", \"name\": \"start_date\"},\n",
    "    ],\n",
    "    \"filter\": {\n",
    "        \"selections\": [{\"id\": \"claims.departmentid\", \"values\": [\"3\", \"20\"]}],\n",
    "    },\n",
    "}"
   ]
  },
  {
   "cell_type": "markdown",
   "id": "2e4ff6be",
   "metadata": {},
   "source": [
    "Now, let's use the `SqlGenerator` to generate the SQL query."
   ]
  },
  {
   "cell_type": "code",
   "execution_count": null,
   "id": "e0f9a090",
   "metadata": {},
   "outputs": [],
   "source": [
    "from intugle.sql_generator import SqlGenerator\n"
   ]
  },
  {
   "cell_type": "code",
   "execution_count": null,
   "id": "f0432e77",
   "metadata": {},
   "outputs": [],
   "source": [
    "\n",
    "# Create a SqlGenerator\n",
    "sql_generator = SqlGenerator()\n",
    "\n",
    "# Generate the query\n",
    "test_etl = sql_generator.generate_product(etl)\n",
    "\n",
    "# Print the query\n",
    "test_etl.data"
   ]
  },
  {
   "cell_type": "code",
   "execution_count": null,
   "id": "95d2e49d",
   "metadata": {},
   "outputs": [],
   "source": [
    "test_etl.to_df()"
   ]
  },
  {
   "cell_type": "code",
   "execution_count": null,
   "id": "fa02b661",
   "metadata": {},
   "outputs": [],
   "source": [
    "sql_generator.plot_sources_graph()"
   ]
  },
  {
   "cell_type": "markdown",
   "id": "bfde8c96",
   "metadata": {},
   "source": [
    "## 6. MCP Server: Interacting with Your Semantic Layer\n",
    "\n",
    "Now that you have a semantic layer, you can serve it as a MCP server to interact with it using natural language. The MCP server exposes your semantic layer as a set of tools that can be used by any MCP client.\n",
    "\n",
    "### Starting the MCP Server\n",
    "\n",
    "To start the MCP server, run the following command in your terminal:\n",
    "\n",
    "```bash\n",
    "intugle-mcp\n",
    "```\n",
    "\n",
    "This will start a server on `localhost:8000`.\n",
    "\n",
    "### Connecting to the MCP Server\n",
    "\n",
    "Once the server is running, you can connect to it from any MCP client. The endpoint for the MCP server is:\n",
    "\n",
    "`http://localhost:8000/semantic_layer/mcp`\n",
    "\n",
    "You can use a variety of MCP clients to connect to the server, such as Claude Desktop, Gemini CLI etc.\n",
    "\n",
    "### Use Cases\n",
    "\n",
    "Once connected, you can interact with your semantic layer using natural language. Here are some exciting applications:\n",
    "\n",
    "*   **Generate SQL Queries:** Ask questions in natural language and have the MCP server generate the corresponding SQL query.\n",
    "*   **Data Discovery:** Ask questions about the tables and columns in your semantic layer to better understand your data.\n",
    "\n",
    "> To execute the generated SQL queries, you can also connect your database instance as a MCP tool to your client."
   ]
  },
  {
   "cell_type": "markdown",
   "id": "c29d33de",
   "metadata": {},
   "source": [
    "## Conclusion\n",
    "\n",
    "You've learned how to:\n",
    "\n",
    "* Configure your LLM provider.\n",
    "* Profile your data to understand its characteristics.\n",
    "* Use an LLM to automatically predict links between tables.\n",
    "* Generate a semantic layer.\n",
    "* Use the semantic layer to generate SQL queries.\n",
    "* Interact with your semantic layer using the MCP server.\n",
    "\n",
    "This is just a starting point. This project has many other features to explore. We encourage you to try it with your own data and see how it can help you build a powerful semantic layer.\n"
   ]
  }
 ],
 "metadata": {
  "kernelspec": {
   "display_name": "data-tools",
   "language": "python",
   "name": "python3"
  },
  "language_info": {
   "codemirror_mode": {
    "name": "ipython",
    "version": 3
   },
   "file_extension": ".py",
   "mimetype": "text/x-python",
   "name": "python",
   "nbconvert_exporter": "python",
   "pygments_lexer": "ipython3",
   "version": "3.12.3"
  }
 },
 "nbformat": 4,
 "nbformat_minor": 5
}
