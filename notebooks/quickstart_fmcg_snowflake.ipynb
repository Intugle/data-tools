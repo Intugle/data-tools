{
 "cells": [
  {
   "cell_type": "markdown",
   "id": "ce110000-1111-2222-3333-ffffff000000",
   "metadata": {
    "application/vnd.databricks.v1+cell": {
     "cellMetadata": {},
     "inputWidgets": {},
     "nuid": "0d192dbf-bae0-4ac5-ad61-c70a77ad503b",
     "showTitle": false,
     "tableResultSettingsMap": {},
     "title": ""
    },
    "name": "cell1"
   },
   "source": [
    "# Quickstart: Building a GenAI powered Semantic Data Model with Intugle\n",
    "\n",
    "This quickstart shows you how to use Intugle’s open-source library to transform fragmented datasets into a connected semantic model. The semantic model captures profiling, relationships, and business meaning of your data — making it instantly usable for exploration, search, and data product creation.\n",
    "\n",
    "**What is a Semantic Model?**\n",
    "\n",
    "A semantic model is an intelligent knowledge graph of your data. It connects tables, discovers relationships, and enriches them with business glossaries — so both data teams and business users can query with clarity, not complexity.\n",
    "\n",
    "**Who is this for?**\n",
    "\n",
    "*   **Data Engineers & Architects** often spend weeks manually profiling, classifying, and stitching together fragmented data assets. With Intugle, they can automate this process end-to-end, uncovering meaningful links and relationships to instantly generate a connected semantic layer.\n",
    "*   **Data Analysts & Scientists** spend endless hours on data readiness and preparation before they can even start the real analysis. Intugle accelerates this by providing contextual intelligence, automatically generating SQL and reusable data products enriched with relationships and business meaning.\n",
    "*   **Business Analysts & Decision Makers** are slowed down by constant dependence on technical teams for answers. Intugle removes this bottleneck by enabling natural language queries and semantic search, giving them trusted insights on demand.\n",
    "\n",
    "**In this notebook, you will learn how to:**\n",
    "\n",
    "*   **Generate Semantic Model** → The unified layer that transforms fragmented datasets, creating the foundation for connected intelligence.\n",
    "    *   **1.1 Profile and classify data** → Analyze your data sources to understand their structure, data types, and other characteristics.\n",
    "    *   **1.2 Discover links & relationships among data** → Reveal meaningful connections (PK & FK) across fragmented tables.\n",
    "    *   **1.3 Generate a business glossary** → Create business-friendly terms and use them to query data with context.\n",
    "    *   **1.4 Enable Semantic search** → Intelligent search that understands meaning, not just keywords—making data more accessible across both technical and business users.\n",
    "    *   **1.5 Visualize semantic model** → Get access to enriched metadata of the semantic model and visualize your data and relationships.\n",
    "*   **Build Unified Data Products** → Simply pick the attributes across your data tables, and let the toolkit auto-generate queries with all the required joins, transformations, and aggregations using the semantic layer. When executed, these queries produce reusable data products.\n",
    "\n",
    "Before you start, make sure you install the **Intugle Data Tools**:"
   ]
  },
  {
   "cell_type": "markdown",
   "id": "18c83294-e1ab-407e-b6e1-d28ae5d6ba35",
   "metadata": {
    "collapsed": false,
    "name": "cell45"
   },
   "source": [
    "### Access to install 3rd party libraries\n",
    "The following code snippet needs to be executed by a Snowflake `ACCOUNTADMIN` to give access to the user to download external python packages\n",
    "> Replace <ROLE> with the user's role"
   ]
  },
  {
   "cell_type": "code",
   "execution_count": null,
   "id": "e8939ade-51e6-4bcf-bfe8-28ee06e4d331",
   "metadata": {
    "language": "sql",
    "name": "cell44"
   },
   "outputs": [],
   "source": [
    "CREATE OR REPLACE NETWORK RULE pypi_network_rule\n",
    "MODE = EGRESS\n",
    "TYPE = HOST_PORT\n",
    "VALUE_LIST = ('pypi.org', 'pypi.python.org', 'pythonhosted.org', 'files.pythonhosted.org');\n",
    "\n",
    "CREATE OR REPLACE NETWORK RULE nltk_network_rule\n",
    "MODE = EGRESS\n",
    "TYPE = HOST_PORT\n",
    "VALUE_LIST = ('raw.githubusercontent.com');\n",
    "\n",
    "CREATE OR REPLACE NETWORK RULE duckdb_download_rule\n",
    "MODE = EGRESS\n",
    "TYPE = HOST_PORT\n",
    "VALUE_LIST = ('extensions.duckdb.org:80');\n",
    "\n",
    "CREATE OR REPLACE NETWORK RULE openai_rule\n",
    "  MODE = EGRESS\n",
    "  TYPE = HOST_PORT\n",
    "  VALUE_LIST = ('api.openai.com');\n",
    "\n"
   ]
  },
  {
   "cell_type": "code",
   "execution_count": null,
   "id": "c6b7df33-3819-4fb3-8ff2-403b715bdde2",
   "metadata": {
    "language": "sql",
    "name": "cell46"
   },
   "outputs": [],
   "source": [
    "CREATE OR REPLACE EXTERNAL ACCESS INTEGRATION intugle_integration\n",
    "ALLOWED_NETWORK_RULES = (pypi_network_rule, nltk_network_rule, duckdb_download_rule, openai_rule)\n",
    "ENABLED = true;\n",
    "\n",
    "\n",
    "GRANT USAGE ON INTEGRATION intugle_integration TO ROLE <ROLE>;"
   ]
  },
  {
   "cell_type": "markdown",
   "id": "268227e5-65e3-4a4b-b72c-00949eec0fc2",
   "metadata": {
    "collapsed": false,
    "name": "cell47"
   },
   "source": [
    "### Installing "
   ]
  },
  {
   "cell_type": "code",
   "execution_count": null,
   "id": "ce110000-1111-2222-3333-ffffff000001",
   "metadata": {
    "application/vnd.databricks.v1+cell": {
     "cellMetadata": {},
     "inputWidgets": {},
     "nuid": "9d69bb52-5158-4767-a6eb-981851d94e68",
     "showTitle": false,
     "tableResultSettingsMap": {},
     "title": ""
    },
    "language": "python",
    "name": "cell2"
   },
   "outputs": [],
   "source": [
    "%pip install intugle"
   ]
  },
  {
   "cell_type": "markdown",
   "id": "ce110000-1111-2222-3333-ffffff000002",
   "metadata": {
    "application/vnd.databricks.v1+cell": {
     "cellMetadata": {},
     "inputWidgets": {},
     "nuid": "ef6d7c18-330f-42ef-bddd-818e4774e897",
     "showTitle": false,
     "tableResultSettingsMap": {},
     "title": ""
    },
    "name": "cell3"
   },
   "source": [
    "This project also has a dependency on sqlglot. Make sure you install sqlglot as well:"
   ]
  },
  {
   "cell_type": "code",
   "execution_count": null,
   "id": "ce110000-1111-2222-3333-ffffff000003",
   "metadata": {
    "application/vnd.databricks.v1+cell": {
     "cellMetadata": {},
     "inputWidgets": {},
     "nuid": "8ba366c0-2897-4905-8677-93adeb330a2d",
     "showTitle": false,
     "tableResultSettingsMap": {},
     "title": ""
    },
    "language": "python",
    "name": "cell4"
   },
   "outputs": [],
   "source": [
    "%pip install sqlglot"
   ]
  },
  {
   "cell_type": "markdown",
   "id": "ce110000-1111-2222-3333-ffffff000004",
   "metadata": {
    "application/vnd.databricks.v1+cell": {
     "cellMetadata": {},
     "inputWidgets": {},
     "nuid": "c17cad38-309d-437b-b159-10a65eab3c58",
     "showTitle": false,
     "tableResultSettingsMap": {},
     "title": ""
    },
    "name": "cell5"
   },
   "source": [
    "## 1. LLM Configuration\n",
    "\n",
    "Before running the project, you need to configure a Large Language Model (LLM). This is used for tasks like generating business glossaries and predicting links between tables. For the semantic search feature, you will also need to set up Qdrant and provide an OpenAI API key. For detailed setup instructions, please refer to the [README.md](README.md) file.\n",
    "\n",
    "You can configure the necessary services by setting the following environment variables:\n",
    "\n",
    "*   `LLM_PROVIDER`: The LLM provider and model to use (e.g., `openai:gpt-3.5-turbo`). The format follows langchain's format for initializing chat models. Checkout how to specify your model [here](https://python.langchain.com/docs/integrations/chat/)\n",
    "*   `API_KEY`: Your API key for the LLM provider. The exact name of the variable may vary from provider to provider (e.g., `OPENAI_API_KEY`, `ANTHROPIC_API_KEY`).\n",
    "*   `QDRANT_URL`: The URL of your Qdrant instance (e.g., `http://localhost:6333`).\n",
    "*   `QDRANT_API_KEY`: Your API key for the Qdrant instance, if authorization is enabled.\n",
    "*   `EMBEDDING_MODEL_NAME`: The embedding model to use. The format follows LangChain's conventions for initializing embedding models (e.g., `openai:ada`, `azure_openai:ada`).\n",
    "*   `OPENAI_API_KEY`: Your OpenAI API key, required if you are using an OpenAI embedding model.\n",
    "*   `AZURE_OPENAI_API_KEY`, `AZURE_OPENAI_ENDPOINT`, `OPENAI_API_VERSION`: Your Azure OpenAI credentials, required if you are using an Azure OpenAI embedding model.\n",
    "\n",
    "Here's an example of how to set these variables in your environment:\n",
    "\n",
    "```bash\n",
    "export LLM_PROVIDER=\"openai:gpt-3.5-turbo\"\n",
    "export OPENAI_API_KEY=\"your-openai-api-key\"\n",
    "```\n",
    "Alternatively, you can set them in the notebook like this:"
   ]
  },
  {
   "cell_type": "code",
   "execution_count": 1,
   "id": "ce110000-1111-2222-3333-ffffff000005",
   "metadata": {
    "application/vnd.databricks.v1+cell": {
     "cellMetadata": {
      "byteLimit": 2048000,
      "rowLimit": 10000
     },
     "inputWidgets": {},
     "nuid": "54e202fe-a178-4a45-8fc6-435ae6cf15be",
     "showTitle": false,
     "tableResultSettingsMap": {},
     "title": ""
    },
    "language": "python",
    "name": "cell6"
   },
   "outputs": [
    {
     "data": {
      "text/plain": [
       "True"
      ]
     },
     "execution_count": 1,
     "metadata": {},
     "output_type": "execute_result"
    }
   ],
   "source": [
    "import os\n",
    "from dotenv import load_dotenv\n",
    "\n",
    "\n",
    "os.environ[\"LLM_PROVIDER\"] = \"openai:gpt-3.5-turbo\"\n",
    "os.environ[\"OPENAI_API_KEY\"] = \"your-openai-api-key\"  # Replace with your actual key\n",
    "\n",
    "\n",
    "# Load environment variables from .env file\n",
    "load_dotenv(override=True)\n"
   ]
  },
  {
   "cell_type": "markdown",
   "id": "ce110000-1111-2222-3333-ffffff000006",
   "metadata": {
    "name": "cell7"
   },
   "source": [
    "### Qdrant Setup\n",
    "```\n",
    "docker run -d -p 6333:6333 -p 6334:6334 \\\n",
    "    -v qdrant_storage:/qdrant/storage:z \\\n",
    "    --name qdrant qdrant/qdrant\n",
    "```"
   ]
  },
  {
   "cell_type": "markdown",
   "id": "ce110000-1111-2222-3333-ffffff000007",
   "metadata": {
    "application/vnd.databricks.v1+cell": {
     "cellMetadata": {
      "byteLimit": 2048000,
      "rowLimit": 10000
     },
     "inputWidgets": {},
     "nuid": "377bd8ea-b404-44b1-a10e-65c85c42cbd3",
     "showTitle": false,
     "tableResultSettingsMap": {},
     "title": ""
    },
    "name": "cell8"
   },
   "source": [
    "> Currently the langchain packages for OpenAI, Anthropic and Gemini is installed by default. For additional models, make sure you have the integration packages installed. E.g. you should have langchain-deepseek installed to use a DeepSeek model. You can get these packages here: [LangChain Chat Models](https://python.langchain.com/docs/integrations/chat/)"
   ]
  },
  {
   "cell_type": "markdown",
   "id": "ce110000-1111-2222-3333-ffffff000008",
   "metadata": {
    "name": "cell9"
   },
   "source": [
    "## Snowflake Configuration"
   ]
  },
  {
   "cell_type": "code",
   "execution_count": 2,
   "id": "ce110000-1111-2222-3333-ffffff000010",
   "metadata": {
    "language": "python",
    "name": "cell11"
   },
   "outputs": [],
   "source": [
    "\n",
    "# Snowflake Parameters\n",
    "SNOWFLAKE_DATABASE = \"SNOWFLAKE_LEARNING_DB\"\n",
    "SNOWFLAKE_SCHEMA = \"FMCG\"\n"
   ]
  },
  {
   "cell_type": "markdown",
   "id": "ce110000-1111-2222-3333-ffffff000011",
   "metadata": {
    "application/vnd.databricks.v1+cell": {
     "cellMetadata": {
      "byteLimit": 2048000,
      "rowLimit": 10000
     },
     "inputWidgets": {},
     "nuid": "421fda1a-e340-47f9-a83c-a21564d6348f",
     "showTitle": false,
     "tableResultSettingsMap": {},
     "title": ""
    },
    "name": "cell12"
   },
   "source": [
    "## 2. Building the Semantic Model\n",
    "\n",
    "The `SemanticModel` is the entry point for building your semantic layer. It takes a dictionary of datasets as input and performs the following steps:\n",
    "\n",
    "1.  **Data Profiling:** Calculates statistics for each column, such as distinct count, uniqueness, and completeness.\n",
    "2.  **Datatype Identification:** Identifies the data type of each column (e.g., integer, string, datetime).\n",
    "3.  **Key Identification:** Identifies potential primary keys.\n",
    "4.  **Glossary Generation:** Generates a business glossary for each column using an LLM.\n",
    "5.  **Link Prediction:** Predicts the relationships (foreign keys) between tables.\n",
    "\n",
    "Let's start by defining the datasets we want to use. The path shown below can be a local file path or a remote URL."
   ]
  },
  {
   "cell_type": "markdown",
   "metadata": {},
   "source": [
    "> This Demo uses the FMCG sample dataset which can be found here : [FMCG DATASET](https://github.com/Intugle/data-tools/blob/main/sample_data/fmcg)"
   ]
  },
  {
   "cell_type": "code",
   "execution_count": 5,
   "id": "ce110000-1111-2222-3333-ffffff000012",
   "metadata": {
    "application/vnd.databricks.v1+cell": {
     "cellMetadata": {
      "byteLimit": 2048000,
      "rowLimit": 10000
     },
     "inputWidgets": {},
     "nuid": "97e3b4aa-337b-49f7-8a4a-916f83ab819e",
     "showTitle": false,
     "tableResultSettingsMap": {},
     "title": ""
    },
    "language": "python",
    "name": "cell13"
   },
   "outputs": [],
   "source": [
    "def generate_config(table_name: str) -> str:\n",
    "    \"\"\"Append the base URL to the table name.\"\"\"\n",
    "    return {\n",
    "        \"path\": f'./fmcg/{table_name}.csv',\n",
    "        \"type\": \"csv\",\n",
    "    }\n",
    "    \n",
    "\n",
    "\n",
    "table_names = [\n",
    "\"ad_spends\",\n",
    "\"comp_price\",\n",
    "\"cons_fb\",\n",
    "\"disti\",\n",
    "\"mkt_coverage\",\n",
    "\"prd_mstr\",\n",
    "\"price_sense\",\n",
    "\"pric_strat\",\n",
    "\"promo_camp\",\n",
    "\"retail_audit\",\n",
    "\"rnd\",\n",
    "\"sales\",\n",
    "\"social\",\n",
    "]\n",
    "\n",
    "datasets = {table: generate_config(table) for table in table_names}"
   ]
  },
  {
   "cell_type": "markdown",
   "id": "ce110000-1111-2222-3333-ffffff000013",
   "metadata": {
    "application/vnd.databricks.v1+cell": {
     "cellMetadata": {
      "byteLimit": 2048000,
      "rowLimit": 10000
     },
     "inputWidgets": {},
     "nuid": "1fa7f2ff-d708-49b1-9541-7b406d2f82c4",
     "showTitle": false,
     "tableResultSettingsMap": {},
     "title": ""
    },
    "name": "cell14"
   },
   "source": [
    "Now, let's use the `SemanticModel` to build our semantic layer:\n",
    "\n",
    "> The `domain` parameter helps the LLM generate a more contextual business glossary. It specifies the industry domain that the dataset belongs to (e.g., \"Healthcare\", \"Finance\", \"E-commerce\")."
   ]
  },
  {
   "cell_type": "code",
   "execution_count": 7,
   "id": "ce110000-1111-2222-3333-ffffff000014",
   "metadata": {
    "application/vnd.databricks.v1+cell": {
     "cellMetadata": {
      "byteLimit": 2048000,
      "rowLimit": 10000
     },
     "inputWidgets": {},
     "nuid": "114bbb96-3d13-4b04-9b4e-fbac089d7781",
     "showTitle": false,
     "tableResultSettingsMap": {},
     "title": ""
    },
    "language": "python",
    "name": "cell15"
   },
   "outputs": [
    {
     "name": "stdout",
     "output_type": "stream",
     "text": [
      "Found existing YAML for 'ad_spends'. Checking for staleness.\n",
      "ad_spends loaded\n",
      "Found existing YAML for 'comp_price'. Checking for staleness.\n",
      "comp_price loaded\n",
      "Found existing YAML for 'cons_fb'. Checking for staleness.\n",
      "cons_fb loaded\n",
      "Found existing YAML for 'disti'. Checking for staleness.\n",
      "disti loaded\n",
      "Found existing YAML for 'mkt_coverage'. Checking for staleness.\n",
      "mkt_coverage loaded\n",
      "Found existing YAML for 'prd_mstr'. Checking for staleness.\n",
      "prd_mstr loaded\n",
      "Found existing YAML for 'price_sense'. Checking for staleness.\n",
      "price_sense loaded\n",
      "Found existing YAML for 'pric_strat'. Checking for staleness.\n",
      "pric_strat loaded\n",
      "Found existing YAML for 'promo_camp'. Checking for staleness.\n",
      "promo_camp loaded\n",
      "Found existing YAML for 'retail_audit'. Checking for staleness.\n",
      "retail_audit loaded\n",
      "Found existing YAML for 'rnd'. Checking for staleness.\n",
      "rnd loaded\n",
      "Found existing YAML for 'sales'. Checking for staleness.\n",
      "sales loaded\n",
      "Found existing YAML for 'social'. Checking for staleness.\n",
      "social loaded\n"
     ]
    },
    {
     "data": {
      "text/html": [
       "<pre style=\"white-space:pre;overflow-x:auto;line-height:normal;font-family:Menlo,'DejaVu Sans Mono',consolas,'Courier New',monospace\"><span style=\"color: #808000; text-decoration-color: #808000\">Starting profiling and key identification stage...</span>\n",
       "</pre>\n"
      ],
      "text/plain": [
       "\u001b[33mStarting profiling and key identification stage\u001b[0m\u001b[33m...\u001b[0m\n"
      ]
     },
     "metadata": {},
     "output_type": "display_data"
    },
    {
     "name": "stdout",
     "output_type": "stream",
     "text": [
      "Dataset 'ad_spends' already profiled. Skipping.\n",
      "Dataset 'comp_price' already profiled. Skipping.\n",
      "Dataset 'cons_fb' already profiled. Skipping.\n",
      "Dataset 'disti' already profiled. Skipping.\n",
      "Dataset 'mkt_coverage' already profiled. Skipping.\n",
      "Dataset 'prd_mstr' already profiled. Skipping.\n",
      "Dataset 'price_sense' already profiled. Skipping.\n",
      "Dataset 'pric_strat' already profiled. Skipping.\n",
      "Dataset 'promo_camp' already profiled. Skipping.\n",
      "Dataset 'retail_audit' already profiled. Skipping.\n",
      "Dataset 'rnd' already profiled. Skipping.\n",
      "Dataset 'sales' already profiled. Skipping.\n",
      "Dataset 'social' already profiled. Skipping.\n"
     ]
    },
    {
     "data": {
      "text/html": [
       "<pre style=\"white-space:pre;overflow-x:auto;line-height:normal;font-family:Menlo,'DejaVu Sans Mono',consolas,'Courier New',monospace\"><span style=\"color: #008000; text-decoration-color: #008000; font-weight: bold\">Profiling and key identification complete.</span>\n",
       "</pre>\n"
      ],
      "text/plain": [
       "\u001b[1;32mProfiling and key identification complete.\u001b[0m\n"
      ]
     },
     "metadata": {},
     "output_type": "display_data"
    },
    {
     "data": {
      "text/html": [
       "<pre style=\"white-space:pre;overflow-x:auto;line-height:normal;font-family:Menlo,'DejaVu Sans Mono',consolas,'Courier New',monospace\"><span style=\"color: #808000; text-decoration-color: #808000\">Starting link prediction stage...</span>\n",
       "</pre>\n"
      ],
      "text/plain": [
       "\u001b[33mStarting link prediction stage\u001b[0m\u001b[33m...\u001b[0m\n"
      ]
     },
     "metadata": {},
     "output_type": "display_data"
    },
    {
     "name": "stdout",
     "output_type": "stream",
     "text": [
      "Dataset 'ad_spends' already processed. Skipping analysis.\n",
      "Dataset 'comp_price' already processed. Skipping analysis.\n",
      "Dataset 'cons_fb' already processed. Skipping analysis.\n",
      "Dataset 'disti' already processed. Skipping analysis.\n",
      "Dataset 'mkt_coverage' already processed. Skipping analysis.\n",
      "Dataset 'prd_mstr' already processed. Skipping analysis.\n",
      "Dataset 'price_sense' already processed. Skipping analysis.\n",
      "Dataset 'pric_strat' already processed. Skipping analysis.\n",
      "Dataset 'promo_camp' already processed. Skipping analysis.\n",
      "Dataset 'retail_audit' already processed. Skipping analysis.\n",
      "Dataset 'rnd' already processed. Skipping analysis.\n",
      "Dataset 'sales' already processed. Skipping analysis.\n",
      "Dataset 'social' already processed. Skipping analysis.\n",
      "LinkPredictor initialized with datasets: ['ad_spends', 'comp_price', 'cons_fb', 'disti', 'mkt_coverage', 'prd_mstr', 'price_sense', 'pric_strat', 'promo_camp', 'retail_audit', 'rnd', 'sales', 'social']\n"
     ]
    },
    {
     "data": {
      "text/html": [
       "<pre style=\"white-space:pre;overflow-x:auto;line-height:normal;font-family:Menlo,'DejaVu Sans Mono',consolas,'Courier New',monospace\"><span style=\"color: #008000; text-decoration-color: #008000\">Link predictions are up-to-date. Loading from cache.</span>\n",
       "</pre>\n"
      ],
      "text/plain": [
       "\u001b[32mLink predictions are up-to-date. Loading from cache.\u001b[0m\n"
      ]
     },
     "metadata": {},
     "output_type": "display_data"
    },
    {
     "data": {
      "text/html": [
       "<pre style=\"white-space:pre;overflow-x:auto;line-height:normal;font-family:Menlo,'DejaVu Sans Mono',consolas,'Courier New',monospace\"><span style=\"color: #008000; text-decoration-color: #008000; font-weight: bold\">Link prediction complete.</span>\n",
       "</pre>\n"
      ],
      "text/plain": [
       "\u001b[1;32mLink prediction complete.\u001b[0m\n"
      ]
     },
     "metadata": {},
     "output_type": "display_data"
    },
    {
     "data": {
      "text/html": [
       "<pre style=\"white-space:pre;overflow-x:auto;line-height:normal;font-family:Menlo,'DejaVu Sans Mono',consolas,'Courier New',monospace\"><span style=\"color: #808000; text-decoration-color: #808000\">Starting business glossary generation stage...</span>\n",
       "</pre>\n"
      ],
      "text/plain": [
       "\u001b[33mStarting business glossary generation stage\u001b[0m\u001b[33m...\u001b[0m\n"
      ]
     },
     "metadata": {},
     "output_type": "display_data"
    },
    {
     "data": {
      "text/html": [
       "<pre style=\"white-space:pre;overflow-x:auto;line-height:normal;font-family:Menlo,'DejaVu Sans Mono',consolas,'Courier New',monospace\">Glossary for <span style=\"color: #008000; text-decoration-color: #008000\">'ad_spends'</span> already exists. Skipping.\n",
       "</pre>\n"
      ],
      "text/plain": [
       "Glossary for \u001b[32m'ad_spends'\u001b[0m already exists. Skipping.\n"
      ]
     },
     "metadata": {},
     "output_type": "display_data"
    },
    {
     "data": {
      "text/html": [
       "<pre style=\"white-space:pre;overflow-x:auto;line-height:normal;font-family:Menlo,'DejaVu Sans Mono',consolas,'Courier New',monospace\">Glossary for <span style=\"color: #008000; text-decoration-color: #008000\">'comp_price'</span> already exists. Skipping.\n",
       "</pre>\n"
      ],
      "text/plain": [
       "Glossary for \u001b[32m'comp_price'\u001b[0m already exists. Skipping.\n"
      ]
     },
     "metadata": {},
     "output_type": "display_data"
    },
    {
     "data": {
      "text/html": [
       "<pre style=\"white-space:pre;overflow-x:auto;line-height:normal;font-family:Menlo,'DejaVu Sans Mono',consolas,'Courier New',monospace\">Glossary for <span style=\"color: #008000; text-decoration-color: #008000\">'cons_fb'</span> already exists. Skipping.\n",
       "</pre>\n"
      ],
      "text/plain": [
       "Glossary for \u001b[32m'cons_fb'\u001b[0m already exists. Skipping.\n"
      ]
     },
     "metadata": {},
     "output_type": "display_data"
    },
    {
     "data": {
      "text/html": [
       "<pre style=\"white-space:pre;overflow-x:auto;line-height:normal;font-family:Menlo,'DejaVu Sans Mono',consolas,'Courier New',monospace\">Glossary for <span style=\"color: #008000; text-decoration-color: #008000\">'disti'</span> already exists. Skipping.\n",
       "</pre>\n"
      ],
      "text/plain": [
       "Glossary for \u001b[32m'disti'\u001b[0m already exists. Skipping.\n"
      ]
     },
     "metadata": {},
     "output_type": "display_data"
    },
    {
     "data": {
      "text/html": [
       "<pre style=\"white-space:pre;overflow-x:auto;line-height:normal;font-family:Menlo,'DejaVu Sans Mono',consolas,'Courier New',monospace\">Glossary for <span style=\"color: #008000; text-decoration-color: #008000\">'mkt_coverage'</span> already exists. Skipping.\n",
       "</pre>\n"
      ],
      "text/plain": [
       "Glossary for \u001b[32m'mkt_coverage'\u001b[0m already exists. Skipping.\n"
      ]
     },
     "metadata": {},
     "output_type": "display_data"
    },
    {
     "data": {
      "text/html": [
       "<pre style=\"white-space:pre;overflow-x:auto;line-height:normal;font-family:Menlo,'DejaVu Sans Mono',consolas,'Courier New',monospace\">Glossary for <span style=\"color: #008000; text-decoration-color: #008000\">'prd_mstr'</span> already exists. Skipping.\n",
       "</pre>\n"
      ],
      "text/plain": [
       "Glossary for \u001b[32m'prd_mstr'\u001b[0m already exists. Skipping.\n"
      ]
     },
     "metadata": {},
     "output_type": "display_data"
    },
    {
     "data": {
      "text/html": [
       "<pre style=\"white-space:pre;overflow-x:auto;line-height:normal;font-family:Menlo,'DejaVu Sans Mono',consolas,'Courier New',monospace\">Glossary for <span style=\"color: #008000; text-decoration-color: #008000\">'price_sense'</span> already exists. Skipping.\n",
       "</pre>\n"
      ],
      "text/plain": [
       "Glossary for \u001b[32m'price_sense'\u001b[0m already exists. Skipping.\n"
      ]
     },
     "metadata": {},
     "output_type": "display_data"
    },
    {
     "data": {
      "text/html": [
       "<pre style=\"white-space:pre;overflow-x:auto;line-height:normal;font-family:Menlo,'DejaVu Sans Mono',consolas,'Courier New',monospace\">Glossary for <span style=\"color: #008000; text-decoration-color: #008000\">'pric_strat'</span> already exists. Skipping.\n",
       "</pre>\n"
      ],
      "text/plain": [
       "Glossary for \u001b[32m'pric_strat'\u001b[0m already exists. Skipping.\n"
      ]
     },
     "metadata": {},
     "output_type": "display_data"
    },
    {
     "data": {
      "text/html": [
       "<pre style=\"white-space:pre;overflow-x:auto;line-height:normal;font-family:Menlo,'DejaVu Sans Mono',consolas,'Courier New',monospace\">Glossary for <span style=\"color: #008000; text-decoration-color: #008000\">'promo_camp'</span> already exists. Skipping.\n",
       "</pre>\n"
      ],
      "text/plain": [
       "Glossary for \u001b[32m'promo_camp'\u001b[0m already exists. Skipping.\n"
      ]
     },
     "metadata": {},
     "output_type": "display_data"
    },
    {
     "data": {
      "text/html": [
       "<pre style=\"white-space:pre;overflow-x:auto;line-height:normal;font-family:Menlo,'DejaVu Sans Mono',consolas,'Courier New',monospace\">Glossary for <span style=\"color: #008000; text-decoration-color: #008000\">'retail_audit'</span> already exists. Skipping.\n",
       "</pre>\n"
      ],
      "text/plain": [
       "Glossary for \u001b[32m'retail_audit'\u001b[0m already exists. Skipping.\n"
      ]
     },
     "metadata": {},
     "output_type": "display_data"
    },
    {
     "data": {
      "text/html": [
       "<pre style=\"white-space:pre;overflow-x:auto;line-height:normal;font-family:Menlo,'DejaVu Sans Mono',consolas,'Courier New',monospace\">Glossary for <span style=\"color: #008000; text-decoration-color: #008000\">'rnd'</span> already exists. Skipping.\n",
       "</pre>\n"
      ],
      "text/plain": [
       "Glossary for \u001b[32m'rnd'\u001b[0m already exists. Skipping.\n"
      ]
     },
     "metadata": {},
     "output_type": "display_data"
    },
    {
     "data": {
      "text/html": [
       "<pre style=\"white-space:pre;overflow-x:auto;line-height:normal;font-family:Menlo,'DejaVu Sans Mono',consolas,'Courier New',monospace\">Glossary for <span style=\"color: #008000; text-decoration-color: #008000\">'sales'</span> already exists. Skipping.\n",
       "</pre>\n"
      ],
      "text/plain": [
       "Glossary for \u001b[32m'sales'\u001b[0m already exists. Skipping.\n"
      ]
     },
     "metadata": {},
     "output_type": "display_data"
    },
    {
     "data": {
      "text/html": [
       "<pre style=\"white-space:pre;overflow-x:auto;line-height:normal;font-family:Menlo,'DejaVu Sans Mono',consolas,'Courier New',monospace\">Glossary for <span style=\"color: #008000; text-decoration-color: #008000\">'social'</span> already exists. Skipping.\n",
       "</pre>\n"
      ],
      "text/plain": [
       "Glossary for \u001b[32m'social'\u001b[0m already exists. Skipping.\n"
      ]
     },
     "metadata": {},
     "output_type": "display_data"
    },
    {
     "data": {
      "text/html": [
       "<pre style=\"white-space:pre;overflow-x:auto;line-height:normal;font-family:Menlo,'DejaVu Sans Mono',consolas,'Courier New',monospace\"><span style=\"color: #008000; text-decoration-color: #008000; font-weight: bold\">Business glossary generation complete.</span>\n",
       "</pre>\n"
      ],
      "text/plain": [
       "\u001b[1;32mBusiness glossary generation complete.\u001b[0m\n"
      ]
     },
     "metadata": {},
     "output_type": "display_data"
    },
    {
     "name": "stdout",
     "output_type": "stream",
     "text": [
      "Initializing semantic search...\n"
     ]
    },
    {
     "name": "stderr",
     "output_type": "stream",
     "text": [
      "/home/raphael/intugle/demo/snowflake_intugle/.venv/lib/python3.12/site-packages/intugle/core/vector_store/qdrant.py:77: UserWarning: Api key is used with an insecure connection.\n",
      "  self._client = AsyncQdrantClient(**self.client_config)\n"
     ]
    },
    {
     "name": "stdout",
     "output_type": "stream",
     "text": [
      "Semantic search initialized.\n"
     ]
    },
    {
     "data": {
      "text/plain": [
       "<intugle.semantic_model.SemanticModel at 0x70f8ed6ea4b0>"
      ]
     },
     "execution_count": 7,
     "metadata": {},
     "output_type": "execute_result"
    }
   ],
   "source": [
    "from intugle import SemanticModel\n",
    "\n",
    "# Initialize the semantic model\n",
    "sm = SemanticModel(datasets, domain=\"Fast Moving Consumer Goods\")\n",
    "\n",
    "# Run the prediction\n",
    "sm.build()"
   ]
  },
  {
   "cell_type": "markdown",
   "id": "ce110000-1111-2222-3333-ffffff000015",
   "metadata": {
    "application/vnd.databricks.v1+cell": {
     "cellMetadata": {
      "byteLimit": 2048000,
      "rowLimit": 10000
     },
     "inputWidgets": {},
     "nuid": "e7ba8e67-2cdf-4b41-ac4a-b0afbb7da451",
     "showTitle": false,
     "tableResultSettingsMap": {},
     "title": ""
    },
    "name": "cell16"
   },
   "source": [
    "## 3. Accessing Enriched Metadata\n",
    "\n",
    "Now that the semantic model is built, you can easily access the enriched metadata for each dataset.\n",
    "\n",
    "### Accessing a Dataset\n",
    "\n",
    "You can access a specific dataset by its name from the `sm.datasets` dictionary:"
   ]
  },
  {
   "cell_type": "code",
   "execution_count": 9,
   "id": "ce110000-1111-2222-3333-ffffff000016",
   "metadata": {
    "application/vnd.databricks.v1+cell": {
     "cellMetadata": {
      "byteLimit": 2048000,
      "rowLimit": 10000
     },
     "inputWidgets": {},
     "nuid": "21281092-f3f9-4455-8024-cb5aad070bbe",
     "showTitle": false,
     "tableResultSettingsMap": {},
     "title": ""
    },
    "language": "python",
    "name": "cell17"
   },
   "outputs": [
    {
     "data": {
      "text/html": [
       "<div>\n",
       "<style scoped>\n",
       "    .dataframe tbody tr th:only-of-type {\n",
       "        vertical-align: middle;\n",
       "    }\n",
       "\n",
       "    .dataframe tbody tr th {\n",
       "        vertical-align: top;\n",
       "    }\n",
       "\n",
       "    .dataframe thead th {\n",
       "        text-align: right;\n",
       "    }\n",
       "</style>\n",
       "<table border=\"1\" class=\"dataframe\">\n",
       "  <thead>\n",
       "    <tr style=\"text-align: right;\">\n",
       "      <th></th>\n",
       "      <th>column_name</th>\n",
       "      <th>table_name</th>\n",
       "      <th>business_name</th>\n",
       "      <th>datatype_l1</th>\n",
       "      <th>datatype_l2</th>\n",
       "      <th>business_glossary</th>\n",
       "      <th>business_tags</th>\n",
       "      <th>count</th>\n",
       "      <th>null_count</th>\n",
       "      <th>distinct_count</th>\n",
       "      <th>uniqueness</th>\n",
       "      <th>completeness</th>\n",
       "      <th>sample_data</th>\n",
       "    </tr>\n",
       "  </thead>\n",
       "  <tbody>\n",
       "    <tr>\n",
       "      <th>0</th>\n",
       "      <td>date</td>\n",
       "      <td>sales</td>\n",
       "      <td>date</td>\n",
       "      <td>date &amp; time</td>\n",
       "      <td>dimension</td>\n",
       "      <td>Indicates the specific calendar day associated...</td>\n",
       "      <td>[Sales Transaction Date, Revenue Tracking, Bus...</td>\n",
       "      <td>200</td>\n",
       "      <td>0</td>\n",
       "      <td>120</td>\n",
       "      <td>0.600</td>\n",
       "      <td>1.0</td>\n",
       "      <td>[2021-07-22, 2022-06-26, 2022-10-22, 2021-05-0...</td>\n",
       "    </tr>\n",
       "    <tr>\n",
       "      <th>1</th>\n",
       "      <td>prod_id</td>\n",
       "      <td>sales</td>\n",
       "      <td>prod_id</td>\n",
       "      <td>alphanumeric</td>\n",
       "      <td>dimension</td>\n",
       "      <td>Uniquely identifies a product involved in sale...</td>\n",
       "      <td>[Product Identifier, Sales Tracking, Inventory...</td>\n",
       "      <td>200</td>\n",
       "      <td>0</td>\n",
       "      <td>100</td>\n",
       "      <td>0.500</td>\n",
       "      <td>1.0</td>\n",
       "      <td>[P197, P114, P190, P160, P171, P144, P142, P18...</td>\n",
       "    </tr>\n",
       "    <tr>\n",
       "      <th>2</th>\n",
       "      <td>vol</td>\n",
       "      <td>sales</td>\n",
       "      <td>vol</td>\n",
       "      <td>integer</td>\n",
       "      <td>measure</td>\n",
       "      <td>Tracks the quantity of items sold during a spe...</td>\n",
       "      <td>[Sales Volume, Product Demand, Transaction Met...</td>\n",
       "      <td>200</td>\n",
       "      <td>0</td>\n",
       "      <td>93</td>\n",
       "      <td>0.465</td>\n",
       "      <td>1.0</td>\n",
       "      <td>[610, 655, 697, 798, 730, 212, 447, 269, 761, ...</td>\n",
       "    </tr>\n",
       "    <tr>\n",
       "      <th>3</th>\n",
       "      <td>amt</td>\n",
       "      <td>sales</td>\n",
       "      <td>amt</td>\n",
       "      <td>float</td>\n",
       "      <td>measure</td>\n",
       "      <td>Represents the total monetary value associated...</td>\n",
       "      <td>[Sales Revenue, Transaction Amount, Monetary V...</td>\n",
       "      <td>200</td>\n",
       "      <td>0</td>\n",
       "      <td>100</td>\n",
       "      <td>0.500</td>\n",
       "      <td>1.0</td>\n",
       "      <td>[58707.06, 71897.63, 57856.48, 51785.91, 50833...</td>\n",
       "    </tr>\n",
       "    <tr>\n",
       "      <th>4</th>\n",
       "      <td>return_per</td>\n",
       "      <td>sales</td>\n",
       "      <td>return_per</td>\n",
       "      <td>float</td>\n",
       "      <td>measure</td>\n",
       "      <td>Indicates the percentage of products returned ...</td>\n",
       "      <td>[Product Return Rate, Customer Satisfaction Me...</td>\n",
       "      <td>200</td>\n",
       "      <td>0</td>\n",
       "      <td>88</td>\n",
       "      <td>0.440</td>\n",
       "      <td>1.0</td>\n",
       "      <td>[4.45, 3.26, 2.45, 4.25, 4.23, 3.32, 2.9, 1.59...</td>\n",
       "    </tr>\n",
       "  </tbody>\n",
       "</table>\n",
       "</div>"
      ],
      "text/plain": [
       "  column_name table_name business_name   datatype_l1 datatype_l2  \\\n",
       "0        date      sales          date   date & time   dimension   \n",
       "1     prod_id      sales       prod_id  alphanumeric   dimension   \n",
       "2         vol      sales           vol       integer     measure   \n",
       "3         amt      sales           amt         float     measure   \n",
       "4  return_per      sales    return_per         float     measure   \n",
       "\n",
       "                                   business_glossary  \\\n",
       "0  Indicates the specific calendar day associated...   \n",
       "1  Uniquely identifies a product involved in sale...   \n",
       "2  Tracks the quantity of items sold during a spe...   \n",
       "3  Represents the total monetary value associated...   \n",
       "4  Indicates the percentage of products returned ...   \n",
       "\n",
       "                                       business_tags  count  null_count  \\\n",
       "0  [Sales Transaction Date, Revenue Tracking, Bus...    200           0   \n",
       "1  [Product Identifier, Sales Tracking, Inventory...    200           0   \n",
       "2  [Sales Volume, Product Demand, Transaction Met...    200           0   \n",
       "3  [Sales Revenue, Transaction Amount, Monetary V...    200           0   \n",
       "4  [Product Return Rate, Customer Satisfaction Me...    200           0   \n",
       "\n",
       "   distinct_count  uniqueness  completeness  \\\n",
       "0             120       0.600           1.0   \n",
       "1             100       0.500           1.0   \n",
       "2              93       0.465           1.0   \n",
       "3             100       0.500           1.0   \n",
       "4              88       0.440           1.0   \n",
       "\n",
       "                                         sample_data  \n",
       "0  [2021-07-22, 2022-06-26, 2022-10-22, 2021-05-0...  \n",
       "1  [P197, P114, P190, P160, P171, P144, P142, P18...  \n",
       "2  [610, 655, 697, 798, 730, 212, 447, 269, 761, ...  \n",
       "3  [58707.06, 71897.63, 57856.48, 51785.91, 50833...  \n",
       "4  [4.45, 3.26, 2.45, 4.25, 4.23, 3.32, 2.9, 1.59...  "
      ]
     },
     "execution_count": 9,
     "metadata": {},
     "output_type": "execute_result"
    }
   ],
   "source": [
    "sales_dataset = sm.datasets['sales']\n",
    "sales_dataset.profiling_df"
   ]
  },
  {
   "cell_type": "markdown",
   "id": "ce110000-1111-2222-3333-ffffff000017",
   "metadata": {
    "application/vnd.databricks.v1+cell": {
     "cellMetadata": {
      "byteLimit": 2048000,
      "rowLimit": 10000
     },
     "inputWidgets": {},
     "nuid": "45a59e54-53d1-476d-80cb-4f4f861a349a",
     "showTitle": false,
     "tableResultSettingsMap": {},
     "title": ""
    },
    "name": "cell18"
   },
   "source": [
    "The profiling results can be accessed through the `profiling_df` property of the `DataSet` object. It's a pandas DataFrame that you can easily explore. \n",
    "> The business glossary is also available in the `profiling_df`:"
   ]
  },
  {
   "cell_type": "markdown",
   "id": "ce110000-1111-2222-3333-ffffff000018",
   "metadata": {
    "application/vnd.databricks.v1+cell": {
     "cellMetadata": {
      "byteLimit": 2048000,
      "rowLimit": 10000
     },
     "inputWidgets": {},
     "nuid": "f0b6507a-482a-44a2-838c-1cfda216f644",
     "showTitle": false,
     "tableResultSettingsMap": {},
     "title": ""
    },
    "name": "cell19"
   },
   "source": [
    "### Visualizing Relationships\n",
    "\n",
    "The `SemanticModel` automatically discovers the relationships between your tables. You can access the predicted links as a list of `PredictedLink` objects:"
   ]
  },
  {
   "cell_type": "code",
   "execution_count": 10,
   "id": "ce110000-1111-2222-3333-ffffff000019",
   "metadata": {
    "application/vnd.databricks.v1+cell": {
     "cellMetadata": {
      "byteLimit": 2048000,
      "rowLimit": 10000
     },
     "inputWidgets": {},
     "nuid": "e607803a-637c-477b-a7db-72b37d4a12dd",
     "showTitle": false,
     "tableResultSettingsMap": {},
     "title": ""
    },
    "language": "python",
    "name": "cell20"
   },
   "outputs": [
    {
     "data": {
      "text/plain": [
       "[PredictedLink(from_dataset='ad_spends', from_column='camp_id', to_dataset='social', to_column='camp_id', intersect_count=None, intersect_ratio_from_col=None, intersect_ratio_to_col=None, accuracy=None),\n",
       " PredictedLink(from_dataset='comp_price', from_column='pid', to_dataset='cons_fb', to_column='p_id', intersect_count=None, intersect_ratio_from_col=None, intersect_ratio_to_col=None, accuracy=None),\n",
       " PredictedLink(from_dataset='comp_price', from_column='pid', to_dataset='prd_mstr', to_column='prd_id', intersect_count=None, intersect_ratio_from_col=None, intersect_ratio_to_col=None, accuracy=None),\n",
       " PredictedLink(from_dataset='comp_price', from_column='pid', to_dataset='price_sense', to_column='pid', intersect_count=None, intersect_ratio_from_col=None, intersect_ratio_to_col=None, accuracy=None),\n",
       " PredictedLink(from_dataset='comp_price', from_column='pid', to_dataset='pric_strat', to_column='prdid', intersect_count=None, intersect_ratio_from_col=None, intersect_ratio_to_col=None, accuracy=None),\n",
       " PredictedLink(from_dataset='cons_fb', from_column='p_id', to_dataset='mkt_coverage', to_column='p_id', intersect_count=None, intersect_ratio_from_col=None, intersect_ratio_to_col=None, accuracy=None),\n",
       " PredictedLink(from_dataset='cons_fb', from_column='p_id', to_dataset='price_sense', to_column='pid', intersect_count=None, intersect_ratio_from_col=None, intersect_ratio_to_col=None, accuracy=None),\n",
       " PredictedLink(from_dataset='cons_fb', from_column='p_id', to_dataset='retail_audit', to_column='pid', intersect_count=None, intersect_ratio_from_col=None, intersect_ratio_to_col=None, accuracy=None),\n",
       " PredictedLink(from_dataset='cons_fb', from_column='p_id', to_dataset='rnd', to_column='prod_id', intersect_count=None, intersect_ratio_from_col=None, intersect_ratio_to_col=None, accuracy=None),\n",
       " PredictedLink(from_dataset='disti', from_column='prd_id', to_dataset='prd_mstr', to_column='prd_id', intersect_count=None, intersect_ratio_from_col=None, intersect_ratio_to_col=None, accuracy=None),\n",
       " PredictedLink(from_dataset='disti', from_column='prd_id', to_dataset='price_sense', to_column='pid', intersect_count=None, intersect_ratio_from_col=None, intersect_ratio_to_col=None, accuracy=None),\n",
       " PredictedLink(from_dataset='disti', from_column='prd_id', to_dataset='pric_strat', to_column='prdid', intersect_count=None, intersect_ratio_from_col=None, intersect_ratio_to_col=None, accuracy=None),\n",
       " PredictedLink(from_dataset='mkt_coverage', from_column='p_id', to_dataset='prd_mstr', to_column='prd_id', intersect_count=None, intersect_ratio_from_col=None, intersect_ratio_to_col=None, accuracy=None),\n",
       " PredictedLink(from_dataset='mkt_coverage', from_column='p_id', to_dataset='price_sense', to_column='pid', intersect_count=None, intersect_ratio_from_col=None, intersect_ratio_to_col=None, accuracy=None),\n",
       " PredictedLink(from_dataset='mkt_coverage', from_column='p_id', to_dataset='pric_strat', to_column='prdid', intersect_count=None, intersect_ratio_from_col=None, intersect_ratio_to_col=None, accuracy=None),\n",
       " PredictedLink(from_dataset='prd_mstr', from_column='prd_id', to_dataset='price_sense', to_column='pid', intersect_count=None, intersect_ratio_from_col=None, intersect_ratio_to_col=None, accuracy=None),\n",
       " PredictedLink(from_dataset='prd_mstr', from_column='prd_id', to_dataset='pric_strat', to_column='prdid', intersect_count=None, intersect_ratio_from_col=None, intersect_ratio_to_col=None, accuracy=None),\n",
       " PredictedLink(from_dataset='prd_mstr', from_column='prd_id', to_dataset='retail_audit', to_column='pid', intersect_count=None, intersect_ratio_from_col=None, intersect_ratio_to_col=None, accuracy=None),\n",
       " PredictedLink(from_dataset='prd_mstr', from_column='prd_id', to_dataset='rnd', to_column='prod_id', intersect_count=None, intersect_ratio_from_col=None, intersect_ratio_to_col=None, accuracy=None),\n",
       " PredictedLink(from_dataset='prd_mstr', from_column='prd_id', to_dataset='sales', to_column='prod_id', intersect_count=None, intersect_ratio_from_col=None, intersect_ratio_to_col=None, accuracy=None),\n",
       " PredictedLink(from_dataset='price_sense', from_column='pid', to_dataset='retail_audit', to_column='pid', intersect_count=None, intersect_ratio_from_col=None, intersect_ratio_to_col=None, accuracy=None),\n",
       " PredictedLink(from_dataset='price_sense', from_column='pid', to_dataset='rnd', to_column='prod_id', intersect_count=None, intersect_ratio_from_col=None, intersect_ratio_to_col=None, accuracy=None),\n",
       " PredictedLink(from_dataset='price_sense', from_column='pid', to_dataset='sales', to_column='prod_id', intersect_count=None, intersect_ratio_from_col=None, intersect_ratio_to_col=None, accuracy=None),\n",
       " PredictedLink(from_dataset='pric_strat', from_column='prdid', to_dataset='retail_audit', to_column='pid', intersect_count=None, intersect_ratio_from_col=None, intersect_ratio_to_col=None, accuracy=None),\n",
       " PredictedLink(from_dataset='pric_strat', from_column='prdid', to_dataset='rnd', to_column='prod_id', intersect_count=None, intersect_ratio_from_col=None, intersect_ratio_to_col=None, accuracy=None),\n",
       " PredictedLink(from_dataset='pric_strat', from_column='prdid', to_dataset='sales', to_column='prod_id', intersect_count=None, intersect_ratio_from_col=None, intersect_ratio_to_col=None, accuracy=None)]"
      ]
     },
     "execution_count": 10,
     "metadata": {},
     "output_type": "execute_result"
    }
   ],
   "source": [
    "sm.links"
   ]
  },
  {
   "cell_type": "markdown",
   "id": "ce110000-1111-2222-3333-ffffff000020",
   "metadata": {
    "application/vnd.databricks.v1+cell": {
     "cellMetadata": {
      "byteLimit": 2048000,
      "rowLimit": 10000
     },
     "inputWidgets": {},
     "nuid": "6f5dbe3e-2844-4aa4-b98b-106dc376d4ad",
     "showTitle": false,
     "tableResultSettingsMap": {},
     "title": ""
    },
    "name": "cell21"
   },
   "source": [
    "You can also visualize these relationships as a graph. In case you run into an error, make sure you install/upgrade your ipykernel package:\n",
    "> %pip install --upgrade ipykernel"
   ]
  },
  {
   "cell_type": "code",
   "execution_count": 11,
   "id": "ce110000-1111-2222-3333-ffffff000021",
   "metadata": {
    "application/vnd.databricks.v1+cell": {
     "cellMetadata": {
      "byteLimit": 2048000,
      "rowLimit": 10000
     },
     "inputWidgets": {},
     "nuid": "e3f2d294-8e24-4820-9d1d-267a15592ef6",
     "showTitle": false,
     "tableResultSettingsMap": {},
     "title": ""
    },
    "language": "python",
    "name": "cell22"
   },
   "outputs": [
    {
     "data": {
      "image/png": "[encoded data removed]",
      "text/plain": [
       "<Figure size 2000x2000 with 1 Axes>"
      ]
     },
     "metadata": {},
     "output_type": "display_data"
    }
   ],
   "source": [
    "sm.visualize()  # To visualize the relationships as a graph\n"
   ]
  },
  {
   "cell_type": "markdown",
   "id": "ce110000-1111-2222-3333-ffffff000023",
   "metadata": {
    "application/vnd.databricks.v1+cell": {
     "cellMetadata": {
      "byteLimit": 2048000,
      "rowLimit": 10000
     },
     "inputWidgets": {},
     "nuid": "4bbde975-cbfd-4873-b50a-359f81361a43",
     "showTitle": false,
     "tableResultSettingsMap": {},
     "title": ""
    },
    "name": "cell24"
   },
   "source": [
    "## Syncing with Snowflake Horizon Catalog\n"
   ]
  },
  {
   "cell_type": "code",
   "execution_count": 12,
   "id": "ce110000-1111-2222-3333-ffffff000024",
   "metadata": {
    "application/vnd.databricks.v1+cell": {
     "cellMetadata": {
      "byteLimit": 2048000,
      "rowLimit": 10000
     },
     "inputWidgets": {},
     "nuid": "08886302-6506-40c4-9aa9-c51c74cc170c",
     "showTitle": false,
     "tableResultSettingsMap": {},
     "title": ""
    },
    "language": "python",
    "name": "cell25"
   },
   "outputs": [
    {
     "name": "stdout",
     "output_type": "stream",
     "text": [
      "Connecting to Snowflake...\n",
      "Connection successful.\n",
      "Loading Intugle manifest from: /home/raphael/intugle/demo/snowflake_intugle/models\n",
      "Manifest loaded successfully.\n",
      "Starting table creation in database 'SNOWFLAKE_LEARNING_DB', schema 'FMCG'...\n",
      "\n",
      "Processing table: \"SNOWFLAKE_LEARNING_DB\".\"FMCG\".\"prd_mstr\"\n",
      "Executing CREATE TABLE statement (with temp VARCHAR for dates)...\n",
      "Table \"SNOWFLAKE_LEARNING_DB\".\"FMCG\".\"prd_mstr\" created.\n",
      "Uploading ./fmcg/prd_mstr.csv to @FMCG_RAW...\n",
      "Loading data into \"SNOWFLAKE_LEARNING_DB\".\"FMCG\".\"prd_mstr\" from stage...\n",
      "Successfully loaded raw data.\n",
      "Successfully populated and configured table \"SNOWFLAKE_LEARNING_DB\".\"FMCG\".\"prd_mstr\".\n",
      "\n",
      "Processing table: \"SNOWFLAKE_LEARNING_DB\".\"FMCG\".\"retail_audit\"\n",
      "Executing CREATE TABLE statement (with temp VARCHAR for dates)...\n",
      "Table \"SNOWFLAKE_LEARNING_DB\".\"FMCG\".\"retail_audit\" created.\n",
      "Uploading ./fmcg/retail_audit.csv to @FMCG_RAW...\n",
      "Loading data into \"SNOWFLAKE_LEARNING_DB\".\"FMCG\".\"retail_audit\" from stage...\n",
      "Successfully loaded raw data.\n",
      "Altering date/timestamp columns to their final types...\n",
      "  - Column \"date\" successfully converted to TIMESTAMP_NTZ.\n",
      "Successfully populated and configured table \"SNOWFLAKE_LEARNING_DB\".\"FMCG\".\"retail_audit\".\n",
      "\n",
      "Processing table: \"SNOWFLAKE_LEARNING_DB\".\"FMCG\".\"mkt_coverage\"\n",
      "Executing CREATE TABLE statement (with temp VARCHAR for dates)...\n",
      "Table \"SNOWFLAKE_LEARNING_DB\".\"FMCG\".\"mkt_coverage\" created.\n",
      "Uploading ./fmcg/mkt_coverage.csv to @FMCG_RAW...\n",
      "Loading data into \"SNOWFLAKE_LEARNING_DB\".\"FMCG\".\"mkt_coverage\" from stage...\n",
      "Successfully loaded raw data.\n",
      "Successfully populated and configured table \"SNOWFLAKE_LEARNING_DB\".\"FMCG\".\"mkt_coverage\".\n",
      "\n",
      "Processing table: \"SNOWFLAKE_LEARNING_DB\".\"FMCG\".\"rnd\"\n",
      "Executing CREATE TABLE statement (with temp VARCHAR for dates)...\n",
      "Table \"SNOWFLAKE_LEARNING_DB\".\"FMCG\".\"rnd\" created.\n",
      "Uploading ./fmcg/rnd.csv to @FMCG_RAW...\n",
      "Loading data into \"SNOWFLAKE_LEARNING_DB\".\"FMCG\".\"rnd\" from stage...\n",
      "Successfully loaded raw data.\n",
      "Successfully populated and configured table \"SNOWFLAKE_LEARNING_DB\".\"FMCG\".\"rnd\".\n",
      "\n",
      "Processing table: \"SNOWFLAKE_LEARNING_DB\".\"FMCG\".\"sales\"\n",
      "Executing CREATE TABLE statement (with temp VARCHAR for dates)...\n",
      "Table \"SNOWFLAKE_LEARNING_DB\".\"FMCG\".\"sales\" created.\n",
      "Uploading ./fmcg/sales.csv to @FMCG_RAW...\n",
      "Loading data into \"SNOWFLAKE_LEARNING_DB\".\"FMCG\".\"sales\" from stage...\n",
      "Successfully loaded raw data.\n",
      "Altering date/timestamp columns to their final types...\n",
      "  - Column \"date\" successfully converted to TIMESTAMP_NTZ.\n",
      "Successfully populated and configured table \"SNOWFLAKE_LEARNING_DB\".\"FMCG\".\"sales\".\n",
      "\n",
      "Processing table: \"SNOWFLAKE_LEARNING_DB\".\"FMCG\".\"comp_price\"\n",
      "Executing CREATE TABLE statement (with temp VARCHAR for dates)...\n",
      "Table \"SNOWFLAKE_LEARNING_DB\".\"FMCG\".\"comp_price\" created.\n",
      "Uploading ./fmcg/comp_price.csv to @FMCG_RAW...\n",
      "Loading data into \"SNOWFLAKE_LEARNING_DB\".\"FMCG\".\"comp_price\" from stage...\n",
      "Successfully loaded raw data.\n",
      "Successfully populated and configured table \"SNOWFLAKE_LEARNING_DB\".\"FMCG\".\"comp_price\".\n",
      "\n",
      "Processing table: \"SNOWFLAKE_LEARNING_DB\".\"FMCG\".\"pric_strat\"\n",
      "Executing CREATE TABLE statement (with temp VARCHAR for dates)...\n",
      "Table \"SNOWFLAKE_LEARNING_DB\".\"FMCG\".\"pric_strat\" created.\n",
      "Uploading ./fmcg/pric_strat.csv to @FMCG_RAW...\n",
      "Loading data into \"SNOWFLAKE_LEARNING_DB\".\"FMCG\".\"pric_strat\" from stage...\n",
      "Successfully loaded raw data.\n",
      "Successfully populated and configured table \"SNOWFLAKE_LEARNING_DB\".\"FMCG\".\"pric_strat\".\n",
      "\n",
      "Processing table: \"SNOWFLAKE_LEARNING_DB\".\"FMCG\".\"social\"\n",
      "Executing CREATE TABLE statement (with temp VARCHAR for dates)...\n",
      "Table \"SNOWFLAKE_LEARNING_DB\".\"FMCG\".\"social\" created.\n",
      "Uploading ./fmcg/social.csv to @FMCG_RAW...\n",
      "Loading data into \"SNOWFLAKE_LEARNING_DB\".\"FMCG\".\"social\" from stage...\n",
      "Successfully loaded raw data.\n",
      "Successfully populated and configured table \"SNOWFLAKE_LEARNING_DB\".\"FMCG\".\"social\".\n",
      "\n",
      "Processing table: \"SNOWFLAKE_LEARNING_DB\".\"FMCG\".\"promo_camp\"\n",
      "Executing CREATE TABLE statement (with temp VARCHAR for dates)...\n",
      "Table \"SNOWFLAKE_LEARNING_DB\".\"FMCG\".\"promo_camp\" created.\n",
      "Uploading ./fmcg/promo_camp.csv to @FMCG_RAW...\n",
      "Loading data into \"SNOWFLAKE_LEARNING_DB\".\"FMCG\".\"promo_camp\" from stage...\n",
      "Successfully loaded raw data.\n",
      "Altering date/timestamp columns to their final types...\n",
      "  - Column \"date\" successfully converted to TIMESTAMP_NTZ.\n",
      "Successfully populated and configured table \"SNOWFLAKE_LEARNING_DB\".\"FMCG\".\"promo_camp\".\n",
      "\n",
      "Processing table: \"SNOWFLAKE_LEARNING_DB\".\"FMCG\".\"cons_fb\"\n",
      "Executing CREATE TABLE statement (with temp VARCHAR for dates)...\n",
      "Table \"SNOWFLAKE_LEARNING_DB\".\"FMCG\".\"cons_fb\" created.\n",
      "Uploading ./fmcg/cons_fb.csv to @FMCG_RAW...\n",
      "Loading data into \"SNOWFLAKE_LEARNING_DB\".\"FMCG\".\"cons_fb\" from stage...\n",
      "Successfully loaded raw data.\n",
      "Successfully populated and configured table \"SNOWFLAKE_LEARNING_DB\".\"FMCG\".\"cons_fb\".\n",
      "\n",
      "Processing table: \"SNOWFLAKE_LEARNING_DB\".\"FMCG\".\"ad_spends\"\n",
      "Executing CREATE TABLE statement (with temp VARCHAR for dates)...\n",
      "Table \"SNOWFLAKE_LEARNING_DB\".\"FMCG\".\"ad_spends\" created.\n",
      "Uploading ./fmcg/ad_spends.csv to @FMCG_RAW...\n",
      "Loading data into \"SNOWFLAKE_LEARNING_DB\".\"FMCG\".\"ad_spends\" from stage...\n",
      "Successfully loaded raw data.\n",
      "Successfully populated and configured table \"SNOWFLAKE_LEARNING_DB\".\"FMCG\".\"ad_spends\".\n",
      "\n",
      "Processing table: \"SNOWFLAKE_LEARNING_DB\".\"FMCG\".\"price_sense\"\n",
      "Executing CREATE TABLE statement (with temp VARCHAR for dates)...\n",
      "Table \"SNOWFLAKE_LEARNING_DB\".\"FMCG\".\"price_sense\" created.\n",
      "Uploading ./fmcg/price_sense.csv to @FMCG_RAW...\n",
      "Loading data into \"SNOWFLAKE_LEARNING_DB\".\"FMCG\".\"price_sense\" from stage...\n",
      "Successfully loaded raw data.\n",
      "Successfully populated and configured table \"SNOWFLAKE_LEARNING_DB\".\"FMCG\".\"price_sense\".\n",
      "\n",
      "Processing table: \"SNOWFLAKE_LEARNING_DB\".\"FMCG\".\"disti\"\n",
      "Executing CREATE TABLE statement (with temp VARCHAR for dates)...\n",
      "Table \"SNOWFLAKE_LEARNING_DB\".\"FMCG\".\"disti\" created.\n",
      "Uploading ./fmcg/disti.csv to @FMCG_RAW...\n",
      "Loading data into \"SNOWFLAKE_LEARNING_DB\".\"FMCG\".\"disti\" from stage...\n",
      "Successfully loaded raw data.\n",
      "Successfully populated and configured table \"SNOWFLAKE_LEARNING_DB\".\"FMCG\".\"disti\".\n",
      "\n",
      "Applying tags to tables and columns...\n",
      "\n",
      "-------------------------------------------------\n",
      "Snowflake setup process completed successfully!\n",
      "-------------------------------------------------\n",
      "\n",
      "Snowflake connection closed.\n"
     ]
    }
   ],
   "source": [
    "import os\n",
    "import sqlglot\n",
    "from snowflake.snowpark.session import Session\n",
    "from snowflake.snowpark.exceptions import SnowparkSQLException\n",
    "\n",
    "# Assuming the intugle library and its dependencies are installed in your Snowflake environment.\n",
    "# You can add it to your environment via the 'Packages' menu.\n",
    "# Required packages: intugle, sqlglot, pandas, pyyaml, etc.\n",
    "from intugle.parser.manifest import ManifestLoader\n",
    "from intugle.analysis.models import DataSet\n",
    "from intugle.core.settings import settings\n",
    "from snowflake.snowpark.context import get_active_session\n",
    "\n",
    "session = get_active_session()\n",
    "\n",
    "# Name for the internal stage to be created in Snowflake for file uploads\n",
    "SNOWFLAKE_STAGE_NAME = \"FMCG_RAW\"\n",
    "SNOWFLAKE_FILE_FORMAT_NAME = \"intugle_csv_format\"\n",
    "SNOWFLAKE_CSV_STAGE_NAME = \"SEMANTIC_LAYER_YAML\"\n",
    "\n",
    "# Set to True to skip the local CSV upload (PUT command).\n",
    "# Use this if your files are already in the Snowflake stage specified above.\n",
    "SKIP_CSV_UPLOAD = False\n",
    "\n",
    "\n",
    "def load_intugle_manifest(project_path: str):\n",
    "    \"\"\"Loads the complete Intugle manifest from the specified project directory.\"\"\"\n",
    "    print(f\"Loading Intugle manifest from: {project_path}\")\n",
    "    if not os.path.isdir(project_path):\n",
    "        raise FileNotFoundError(\n",
    "            f\"The specified Intugle project path does not exist: {project_path}\"\n",
    "        )\n",
    "    manifest_loader = ManifestLoader(project_path)\n",
    "    manifest_loader.load()\n",
    "    print(\"Manifest loaded successfully.\")\n",
    "    return manifest_loader.manifest\n",
    "\n",
    "\n",
    "def map_intugle_to_snowflake_type(intugle_type: str) -> str:\n",
    "    \"\"\"Maps data types from Intugle's analysis to Snowflake SQL data types.\"\"\"\n",
    "    type_mapping = {\n",
    "        \"string\": \"VARCHAR\",\n",
    "        \"integer\": \"NUMBER\",\n",
    "        \"float\": \"FLOAT\",\n",
    "        \"date & time\": \"TIMESTAMP_NTZ\",\n",
    "        \"date\": \"DATE\",\n",
    "        \"boolean\": \"BOOLEAN\",\n",
    "    }\n",
    "    return type_mapping.get(intugle_type, \"VARCHAR\")\n",
    "\n",
    "\n",
    "def create_and_populate_tables_snowpark(\n",
    "    session: Session,\n",
    "    manifest,\n",
    "    db: str,\n",
    "    schema: str,\n",
    "):\n",
    "    \"\"\"\n",
    "    Creates tables in Snowflake using Snowpark, stages local CSVs, and populates the tables.\n",
    "    \"\"\"\n",
    "    print(f\"Starting table creation in database '{db}', schema '{schema}'...\")\n",
    "\n",
    "    # Ensure the database and schema exist\n",
    "    session.sql(f\"USE DATABASE {db}\").collect()\n",
    "    session.sql(f\"CREATE SCHEMA IF NOT EXISTS {schema}\").collect()\n",
    "    session.sql(f\"USE SCHEMA {schema}\").collect()\n",
    "\n",
    "    # Create a stage and file format for CSV loading\n",
    "    session.sql(f\"CREATE STAGE IF NOT EXISTS {SNOWFLAKE_STAGE_NAME}\").collect()\n",
    "    session.sql(\n",
    "        f\"\"\"\n",
    "    CREATE OR REPLACE FILE FORMAT {SNOWFLAKE_FILE_FORMAT_NAME}\n",
    "    TYPE = 'CSV'\n",
    "    FIELD_OPTIONALLY_ENCLOSED_BY = '\"'\n",
    "    SKIP_HEADER = 1\n",
    "    TRIM_SPACE = TRUE\n",
    "    EMPTY_FIELD_AS_NULL = TRUE;\n",
    "    \"\"\"\n",
    "    ).collect()\n",
    "\n",
    "    for source in manifest.sources.values():\n",
    "        table = source.table\n",
    "        table_name = table.name\n",
    "        full_table_name = f'\"{db}\".\"{schema}\".\"{table_name}\"'\n",
    "        print(f\"\\nProcessing table: {full_table_name}\")\n",
    "\n",
    "        # --- 1. Generate CREATE TABLE Statement ---\n",
    "        column_definitions = []\n",
    "        cols_to_alter = []\n",
    "\n",
    "        for col in table.columns:\n",
    "            final_sf_type = map_intugle_to_snowflake_type(col.type)\n",
    "            load_sf_type = \"VARCHAR\" if final_sf_type in (\"TIMESTAMP_NTZ\", \"DATE\") else final_sf_type\n",
    "            if load_sf_type != final_sf_type:\n",
    "                cols_to_alter.append((col.name, final_sf_type, col.description))\n",
    "            not_null = \" NOT NULL\" if col.name == table.key else \"\"\n",
    "            comment = f\"\"\" COMMENT '{col.description.replace(\"'\", \"''\")}'\"\"\" if col.description else \"\"\n",
    "            column_definitions.append(f'  \"{col.name}\" {load_sf_type}{not_null}{comment}')\n",
    "\n",
    "        table_comment = f\"\"\"COMMENT = '{table.description.replace(\"'\", \"''\")}'\"\"\" if table.description else \"\"\n",
    "        create_ddl = f\"\"\"\n",
    "        CREATE OR REPLACE TABLE {full_table_name} (\n",
    "        {','.join(column_definitions)}\n",
    "        )\n",
    "        {table_comment};\n",
    "        \"\"\"\n",
    "        print(\"Executing CREATE TABLE statement (with temp VARCHAR for dates)...\")\n",
    "        session.sql(create_ddl).collect()\n",
    "        print(f\"Table {full_table_name} created.\")\n",
    "\n",
    "        # --- 2. Stage and Load Data from CSV ---\n",
    "        relative_path = table.details.get(\"path\")\n",
    "        if not relative_path:\n",
    "            print(f\"WARNING: No file path for table '{table_name}'. Skipping data load.\")\n",
    "            continue\n",
    "\n",
    "        csv_filename_in_stage = os.path.basename(relative_path)\n",
    "\n",
    "        if not SKIP_CSV_UPLOAD:\n",
    "            local_csv_path = relative_path\n",
    "            if not os.path.exists(local_csv_path):\n",
    "                print(f\"ERROR: CSV file not found at '{local_csv_path}'. Skipping.\")\n",
    "                continue\n",
    "            print(f\"Uploading {local_csv_path} to @{SNOWFLAKE_STAGE_NAME}...\")\n",
    "            session.file.put(local_csv_path, f\"@{SNOWFLAKE_STAGE_NAME}\", auto_compress=True, overwrite=True)\n",
    "        else:\n",
    "            print(f\"Skipping CSV upload for {csv_filename_in_stage}. Assuming it exists in stage.\")\n",
    "\n",
    "        copy_command = f\"\"\"\n",
    "        COPY INTO {full_table_name}\n",
    "        FROM '@{SNOWFLAKE_STAGE_NAME}/{csv_filename_in_stage}.gz'\n",
    "        FILE_FORMAT = (FORMAT_NAME = '{SNOWFLAKE_FILE_FORMAT_NAME}');\n",
    "        \"\"\"\n",
    "        print(f\"Loading data into {full_table_name} from stage...\")\n",
    "        session.sql(copy_command).collect()\n",
    "        print(\"Successfully loaded raw data.\")\n",
    "\n",
    "        # --- 3. Alter Column Types using a robust Add, Update, Drop, Rename pattern ---\n",
    "        if cols_to_alter:\n",
    "            print(\"Altering date/timestamp columns to their final types...\")\n",
    "            for col_name, final_type, description in cols_to_alter:\n",
    "                temp_col_name = f\"{col_name}_TEMP_TYPE_CONV\"\n",
    "                try:\n",
    "                    comment_clause = f\"\"\" COMMENT '{description.replace(\"'\", \"''\")}'\"\"\" if description else \"\"\n",
    "                    session.sql(f'ALTER TABLE {full_table_name} ADD COLUMN \"{temp_col_name}\" {final_type}{comment_clause}').collect()\n",
    "                    cast_function = \"TRY_TO_TIMESTAMP_NTZ\" if final_type == \"TIMESTAMP_NTZ\" else \"TRY_TO_DATE\"\n",
    "                    session.sql(f'UPDATE {full_table_name} SET \"{temp_col_name}\" = {cast_function}(\"{col_name}\")').collect()\n",
    "                    session.sql(f'ALTER TABLE {full_table_name} DROP COLUMN \"{col_name}\"').collect()\n",
    "                    session.sql(f'ALTER TABLE {full_table_name} RENAME COLUMN \"{temp_col_name}\" TO \"{col_name}\"').collect()\n",
    "                    print(f'  - Column \"{col_name}\" successfully converted to {final_type}.')\n",
    "                except SnowparkSQLException as e:\n",
    "                    print(f'  - WARNING: Could not convert column \"{col_name}\". Cleaning up. Reason: {e}')\n",
    "                    session.sql(f'ALTER TABLE {full_table_name} DROP COLUMN IF EXISTS \"{temp_col_name}\"').collect()\n",
    "        \n",
    "        print(f\"Successfully populated and configured table {full_table_name}.\")\n",
    "\n",
    "\n",
    "def apply_relationships_snowpark(session: Session, manifest, db: str, schema: str):\n",
    "    \"\"\"Applies primary and foreign key constraints in Snowflake using Snowpark.\"\"\"\n",
    "    if not manifest.relationships:\n",
    "        print(\"\\nNo relationships found. Skipping constraint application.\")\n",
    "        return\n",
    "\n",
    "    print(\"\\nApplying table relationships (Primary and Foreign Keys)...\")\n",
    "    session.sql(f\"USE DATABASE {db}\").collect()\n",
    "    session.sql(f\"USE SCHEMA {schema}\").collect()\n",
    "\n",
    "    for rel in manifest.relationships.values():\n",
    "        pk_table = f'\"{db}\".\"{schema}\".\"{rel.target.table}\"'\n",
    "        pk_column = f'\"{rel.target.column}\"'\n",
    "        fk_table = f'\"{db}\".\"{schema}\".\"{rel.source.table}\"'\n",
    "        fk_column = f'\"{rel.source.column}\"'\n",
    "\n",
    "        try:\n",
    "            print(f\"Applying PRIMARY KEY on {pk_table}({pk_column})\")\n",
    "            session.sql(f\"ALTER TABLE {pk_table} ADD PRIMARY KEY ({pk_column})\").collect()\n",
    "        except SnowparkSQLException as e:\n",
    "            if \"already exists\" in str(e):\n",
    "                print(f\"Primary key on {pk_table} already exists.\")\n",
    "            else:\n",
    "                print(f\"WARNING: Could not apply PK to {pk_table}. Reason: {e}\")\n",
    "\n",
    "        try:\n",
    "            print(f\"Applying FOREIGN KEY from {fk_table} to {pk_table}\")\n",
    "            fk_ddl = f\"ALTER TABLE {fk_table} ADD FOREIGN KEY ({fk_column}) REFERENCES {pk_table}({pk_column})\"\n",
    "            session.sql(fk_ddl).collect()\n",
    "        except SnowparkSQLException as e:\n",
    "            if \"already exists\" in str(e):\n",
    "                print(f\"Foreign key on {fk_table} already exists.\")\n",
    "            else:\n",
    "                print(f\"WARNING: Could not apply FK to {fk_table}. Reason: {e}\")\n",
    "\n",
    "\n",
    "def _standardize_tag_name(tag: str) -> str:\n",
    "    \"\"\"Converts a human-readable tag into a safe Snowflake identifier.\"\"\"\n",
    "    import re\n",
    "    safe_name = re.sub(r'[^a-zA-Z0-9_]+', '_', tag)\n",
    "    return safe_name.upper()\n",
    "\n",
    "\n",
    "def apply_tags_snowpark(session: Session, manifest, db: str, schema: str):\n",
    "    \"\"\"Applies tags to tables and columns in Snowflake using Snowpark.\"\"\"\n",
    "    print(\"\\nApplying tags to tables and columns...\")\n",
    "    session.sql(f\"USE DATABASE {db}\").collect()\n",
    "    session.sql(f\"USE SCHEMA {schema}\").collect()\n",
    "\n",
    "    tag_mapping = {}\n",
    "    for source in manifest.sources.values():\n",
    "        for tag in source.table.tags or []:\n",
    "            if tag not in tag_mapping:\n",
    "                tag_mapping[tag] = _standardize_tag_name(tag)\n",
    "        for col in source.table.columns:\n",
    "            for tag in col.tags or []:\n",
    "                if tag not in tag_mapping:\n",
    "                    tag_mapping[tag] = _standardize_tag_name(tag)\n",
    "\n",
    "    for original_name, safe_name in tag_mapping.items():\n",
    "        try:\n",
    "            comment = original_name.replace(\"'\", \"''\")\n",
    "            session.sql(f\"CREATE TAG IF NOT EXISTS {safe_name} COMMENT = '{comment}'\").collect()\n",
    "        except SnowparkSQLException as e:\n",
    "            print(f\"Warning: Could not create tag '{safe_name}'. Reason: {e}\")\n",
    "\n",
    "    for source in manifest.sources.values():\n",
    "        table = source.table\n",
    "        full_table_name = f'\"{db}\".\"{schema}\".\"{table.name}\"'\n",
    "        if table.tags:\n",
    "            for tag in table.tags:\n",
    "                safe_name = tag_mapping.get(tag)\n",
    "                if safe_name:\n",
    "                    try:\n",
    "                        session.sql(f'ALTER TABLE {full_table_name} SET TAG \"{safe_name}\" = \\'true\\'').collect()\n",
    "                    except SnowparkSQLException as e:\n",
    "                        print(f\"WARNING: Could not apply tag '{safe_name}' to table {full_table_name}. Reason: {e}\")\n",
    "        for col in table.columns:\n",
    "            if col.tags:\n",
    "                for tag in col.tags:\n",
    "                    safe_name = tag_mapping.get(tag)\n",
    "                    if safe_name:\n",
    "                        try:\n",
    "                            session.sql(f'ALTER TABLE {full_table_name} MODIFY COLUMN \"{col.name}\" SET TAG \"{safe_name}\" = \\'true\\'').collect()\n",
    "                        except SnowparkSQLException as e:\n",
    "                            print(f\"WARNING: Could not apply tag '{safe_name}' to column {col.name}. Reason: {e}\")\n",
    "\n",
    "\n",
    "\n",
    "def upload_folder_to_stage(session: Session, local_folder_path: str, stage_name: str):\n",
    "    \"\"\"\n",
    "    Uploads all contents of a local folder to a specified Snowflake stage, preserving the subdirectory structure.\n",
    "    The stage will be created or replaced.\n",
    "\n",
    "    Args:\n",
    "        session: The active Snowpark session.\n",
    "        local_folder_path: The absolute path to the local folder to upload.\n",
    "        stage_name: The name of the Snowflake stage to create/upload to.\n",
    "    \"\"\"\n",
    "    print(f\"\\nUploading contents of folder '{local_folder_path}' to stage '@{stage_name}'...\")\n",
    "\n",
    "    if not os.path.isdir(local_folder_path):\n",
    "        print(f\"ERROR: Local folder not found at '{local_folder_path}'. Aborting upload.\")\n",
    "        return\n",
    "\n",
    "    try:\n",
    "        # Create (or replace) the stage to ensure it's clean\n",
    "        session.sql(f\"CREATE OR REPLACE STAGE {stage_name}\").collect()\n",
    "        print(f\"Stage '@{stage_name}' created/re-created successfully.\")\n",
    "\n",
    "        # Walk through the local folder\n",
    "        for root, _, files in os.walk(local_folder_path):\n",
    "            for filename in files:\n",
    "                local_file = os.path.join(root, filename)\n",
    "                # Determine the relative path to preserve the folder structure in the stage\n",
    "                relative_path = os.path.relpath(local_file, local_folder_path)\n",
    "                # Snowflake paths use forward slashes\n",
    "                stage_path = os.path.dirname(relative_path).replace(\"\\\\\", \"/\")\n",
    "\n",
    "                print(f\"  - Uploading {local_file} to @{stage_name}/{stage_path}\")\n",
    "                session.file.put(local_file, f\"@{stage_name}/{stage_path}\", auto_compress=False, overwrite=True)\n",
    "\n",
    "        print(f\"Successfully uploaded all files from '{local_folder_path}' to stage '@{stage_name}'.\")\n",
    "\n",
    "    except Exception as e:\n",
    "        print(f\"ERROR: Failed to upload folder to stage. Reason: {e}\")\n",
    "\n",
    "\n",
    "\n",
    "\n",
    "def main(session: Session):\n",
    "    \"\"\"\n",
    "    Main execution function to set up the Snowflake semantic layer from within a Snowpark Notebook.\n",
    "    \n",
    "    Args:\n",
    "        session: The active Snowpark session, automatically provided in a Snowflake Notebook.\n",
    "    \"\"\"\n",
    "    try:\n",
    "        # 1. Load metadata from Intugle's YAML files\n",
    "        manifest = load_intugle_manifest(settings.PROJECT_BASE)\n",
    "\n",
    "        # 2. Create tables and populate them with data\n",
    "        create_and_populate_tables_snowpark(\n",
    "            session,\n",
    "            manifest,\n",
    "            SNOWFLAKE_DATABASE,\n",
    "            SNOWFLAKE_SCHEMA,\n",
    "        )\n",
    "\n",
    "        # 3. Apply primary and foreign key constraints\n",
    "        # apply_relationships_snowpark(session, manifest, SNOWFLAKE_DATABASE, SNOWFLAKE_SCHEMA)\n",
    "\n",
    "        # 4. Apply tags to tables and columns\n",
    "        apply_tags_snowpark(session, manifest, SNOWFLAKE_DATABASE, SNOWFLAKE_SCHEMA)\n",
    "\n",
    "        # 5. Upload YAML files to Snowflake Stage\n",
    "        upload_folder_to_stage(session, settings.PROJECT_BASE, SNOWFLAKE_CSV_STAGE_NAME)\n",
    "\n",
    "        print(\"\\n-------------------------------------------------\")\n",
    "        print(\"Snowflake setup process completed successfully!\")\n",
    "        print(\"-------------------------------------------------\")\n",
    "\n",
    "    except Exception as e:\n",
    "        print(f\"\\nAn unexpected error occurred: {e}\")\n",
    "        import traceback\n",
    "        traceback.print_exc()\n",
    "\n",
    "\n",
    "main(session)\n"
   ]
  },
  {
   "cell_type": "markdown",
   "id": "ce110000-1111-2222-3333-ffffff000022",
   "metadata": {
    "application/vnd.databricks.v1+cell": {
     "cellMetadata": {
      "byteLimit": 2048000,
      "rowLimit": 10000
     },
     "inputWidgets": {},
     "nuid": "5c6fbb49-aba2-45b1-bbf8-f6d1ce40508e",
     "showTitle": false,
     "tableResultSettingsMap": {},
     "title": ""
    },
    "collapsed": false,
    "name": "cell23"
   },
   "source": [
    "## 4. The Semantic Layer\n",
    "\n",
    "The SemanticModel results are used to generate YAML files which are saved automatically. These files defines the semantic layer, including the models (tables) and their relationships. \n",
    "\n",
    "By default, these files are saved in the current working directory. You can configure this path by setting the `PROJECT_BASE` environment variable."
   ]
  },
  {
   "cell_type": "markdown",
   "id": "ce110000-1111-2222-3333-ffffff000027",
   "metadata": {
    "application/vnd.databricks.v1+cell": {
     "cellMetadata": {
      "byteLimit": 2048000,
      "rowLimit": 10000
     },
     "inputWidgets": {},
     "nuid": "5648a0bd-c392-44b9-b3fd-6b6f4c245be3",
     "showTitle": false,
     "tableResultSettingsMap": {},
     "title": ""
    },
    "collapsed": false,
    "name": "cell28"
   },
   "source": [
    "## 5. Data Product Creation\n",
    "\n",
    "The semantic layer serves as a foundation for the DataProduct, which streamlines the creation of reusable data products. This allows you\n",
    "to encapsulate business logic and create standardized, trustworthy data assets that can be easily shared and reused across different teams and \n",
    "applications.\n",
    "\n",
    "Let's define the model for the data product we want to build:"
   ]
  },
  {
   "cell_type": "markdown",
   "id": "ce110000-1111-2222-3333-ffffff000028",
   "metadata": {
    "application/vnd.databricks.v1+cell": {
     "cellMetadata": {},
     "inputWidgets": {},
     "nuid": "804d2d5d-e8e2-4ec5-90a2-771992dc4fbf",
     "showTitle": false,
     "tableResultSettingsMap": {},
     "title": ""
    },
    "name": "cell29"
   },
   "source": [
    "#### EXAMPLE 1 : Pricing Strategy Impact: Economy Tier"
   ]
  },
  {
   "cell_type": "code",
   "execution_count": 18,
   "id": "ce110000-1111-2222-3333-ffffff000029",
   "metadata": {
    "application/vnd.databricks.v1+cell": {
     "cellMetadata": {
      "byteLimit": 2048000,
      "rowLimit": 10000
     },
     "inputWidgets": {},
     "nuid": "87738de2-14d5-414d-9a4c-21267df9c231",
     "showTitle": false,
     "tableResultSettingsMap": {},
     "title": ""
    },
    "language": "python",
    "name": "cell30"
   },
   "outputs": [],
   "source": [
    "data_product_config = \\\n",
    "{\n",
    "  \"name\": \"filtered_pricing_and_competition\",\n",
    "  \"fields\": [\n",
    "    {\"id\": \"prd_mstr.name\", \"name\": \"product_name\"},\n",
    "    {\"id\": \"prd_mstr.category\", \"name\": \"product_category\"},\n",
    "    {\"id\": \"pric_strat.strat_type\", \"name\": \"pricing_strategy\"},\n",
    "    {\"id\": \"pric_strat.sales_chg\", \"name\": \"avg_sales_change_pct\", \"category\": \"measure\", \"measure_func\": \"average\"},\n",
    "    {\"id\": \"comp_price.price_diff\", \"name\": \"avg_price_diff_vs_competitor\", \"category\": \"measure\", \"measure_func\": \"average\"},\n",
    "    {\"id\": \"price_sense.demand_dec\", \"name\": \"avg_demand_decrease_on_price_inc\", \"category\": \"measure\", \"measure_func\": \"average\"}\n",
    "     ],\n",
    "     \"filter\": {\n",
    "       \"selections\": [\n",
    "         {\n",
    "           \"id\": \"pric_strat.strat_type\",\n",
    "           \"values\": [\"Economy Pricing\"]\n",
    "         }\n",
    "       ],\n",
    "       \"sort_by\": [\n",
    "         {\n",
    "           \"id\": \"pric_strat.sales_chg\",\n",
    "           \"alias\": \"avg_sales_change_pct\",\n",
    "           \"direction\": \"desc\"\n",
    "         }\n",
    "       ],\n",
    "       \"limit\": 15\n",
    "     }\n",
    "   }\n"
   ]
  },
  {
   "cell_type": "markdown",
   "id": "ce110000-1111-2222-3333-ffffff000030",
   "metadata": {
    "application/vnd.databricks.v1+cell": {
     "cellMetadata": {
      "byteLimit": 2048000,
      "rowLimit": 10000
     },
     "inputWidgets": {},
     "nuid": "2c97802d-5bb3-4663-97e6-4d4bfe8c0490",
     "showTitle": false,
     "tableResultSettingsMap": {},
     "title": ""
    },
    "name": "cell31"
   },
   "source": [
    "Now, let's use the `DataProduct` to generate the data product:"
   ]
  },
  {
   "cell_type": "code",
   "execution_count": 19,
   "id": "ce110000-1111-2222-3333-ffffff000031",
   "metadata": {
    "application/vnd.databricks.v1+cell": {
     "cellMetadata": {
      "byteLimit": 2048000,
      "rowLimit": 10000
     },
     "inputWidgets": {},
     "nuid": "026f6483-877f-4861-9c60-83ef87d7f1f6",
     "showTitle": false,
     "tableResultSettingsMap": {},
     "title": ""
    },
    "language": "python",
    "name": "cell32"
   },
   "outputs": [
    {
     "name": "stdout",
     "output_type": "stream",
     "text": [
      "Found existing YAML for 'prd_mstr'. Checking for staleness.\n",
      "prd_mstr loaded\n",
      "Found existing YAML for 'retail_audit'. Checking for staleness.\n",
      "retail_audit loaded\n",
      "Found existing YAML for 'mkt_coverage'. Checking for staleness.\n",
      "mkt_coverage loaded\n",
      "Found existing YAML for 'rnd'. Checking for staleness.\n",
      "rnd loaded\n",
      "Found existing YAML for 'sales'. Checking for staleness.\n",
      "sales loaded\n",
      "Found existing YAML for 'comp_price'. Checking for staleness.\n",
      "comp_price loaded\n",
      "Found existing YAML for 'pric_strat'. Checking for staleness.\n",
      "pric_strat loaded\n",
      "Found existing YAML for 'social'. Checking for staleness.\n",
      "social loaded\n",
      "Found existing YAML for 'promo_camp'. Checking for staleness.\n",
      "promo_camp loaded\n",
      "Found existing YAML for 'cons_fb'. Checking for staleness.\n",
      "cons_fb loaded\n",
      "Found existing YAML for 'ad_spends'. Checking for staleness.\n",
      "ad_spends loaded\n",
      "Found existing YAML for 'price_sense'. Checking for staleness.\n",
      "price_sense loaded\n",
      "Found existing YAML for 'disti'. Checking for staleness.\n",
      "disti loaded\n",
      "filtered_pricing_and_competition\n",
      "filtered_pricing_and_competition loaded\n"
     ]
    },
    {
     "data": {
      "text/html": [
       "<div>\n",
       "<style scoped>\n",
       "    .dataframe tbody tr th:only-of-type {\n",
       "        vertical-align: middle;\n",
       "    }\n",
       "\n",
       "    .dataframe tbody tr th {\n",
       "        vertical-align: top;\n",
       "    }\n",
       "\n",
       "    .dataframe thead th {\n",
       "        text-align: right;\n",
       "    }\n",
       "</style>\n",
       "<table border=\"1\" class=\"dataframe\">\n",
       "  <thead>\n",
       "    <tr style=\"text-align: right;\">\n",
       "      <th></th>\n",
       "      <th>product_name</th>\n",
       "      <th>product_category</th>\n",
       "      <th>pricing_strategy</th>\n",
       "      <th>avg_sales_change_pct</th>\n",
       "      <th>avg_price_diff_vs_competitor</th>\n",
       "      <th>avg_demand_decrease_on_price_inc</th>\n",
       "    </tr>\n",
       "  </thead>\n",
       "  <tbody>\n",
       "    <tr>\n",
       "      <th>0</th>\n",
       "      <td>Product 81</td>\n",
       "      <td>Personal Care</td>\n",
       "      <td>Economy Pricing</td>\n",
       "      <td>14.84</td>\n",
       "      <td>1.230</td>\n",
       "      <td>17.68</td>\n",
       "    </tr>\n",
       "    <tr>\n",
       "      <th>1</th>\n",
       "      <td>Product 22</td>\n",
       "      <td>Home Care</td>\n",
       "      <td>Economy Pricing</td>\n",
       "      <td>14.81</td>\n",
       "      <td>6.720</td>\n",
       "      <td>18.32</td>\n",
       "    </tr>\n",
       "    <tr>\n",
       "      <th>2</th>\n",
       "      <td>Product 35</td>\n",
       "      <td>Biscuits &amp; Cookies</td>\n",
       "      <td>Economy Pricing</td>\n",
       "      <td>14.70</td>\n",
       "      <td>2.760</td>\n",
       "      <td>5.26</td>\n",
       "    </tr>\n",
       "    <tr>\n",
       "      <th>3</th>\n",
       "      <td>Product 51</td>\n",
       "      <td>Beverage</td>\n",
       "      <td>Economy Pricing</td>\n",
       "      <td>14.34</td>\n",
       "      <td>7.680</td>\n",
       "      <td>5.68</td>\n",
       "    </tr>\n",
       "    <tr>\n",
       "      <th>4</th>\n",
       "      <td>Product 86</td>\n",
       "      <td>Cakes</td>\n",
       "      <td>Economy Pricing</td>\n",
       "      <td>12.79</td>\n",
       "      <td>9.560</td>\n",
       "      <td>19.62</td>\n",
       "    </tr>\n",
       "    <tr>\n",
       "      <th>5</th>\n",
       "      <td>Product 59</td>\n",
       "      <td>Cakes</td>\n",
       "      <td>Economy Pricing</td>\n",
       "      <td>12.35</td>\n",
       "      <td>-12.910</td>\n",
       "      <td>21.06</td>\n",
       "    </tr>\n",
       "    <tr>\n",
       "      <th>6</th>\n",
       "      <td>Product 73</td>\n",
       "      <td>Beverage</td>\n",
       "      <td>Economy Pricing</td>\n",
       "      <td>12.04</td>\n",
       "      <td>8.760</td>\n",
       "      <td>16.20</td>\n",
       "    </tr>\n",
       "    <tr>\n",
       "      <th>7</th>\n",
       "      <td>Product 27</td>\n",
       "      <td>Personal Care</td>\n",
       "      <td>Economy Pricing</td>\n",
       "      <td>10.96</td>\n",
       "      <td>11.985</td>\n",
       "      <td>8.58</td>\n",
       "    </tr>\n",
       "    <tr>\n",
       "      <th>8</th>\n",
       "      <td>Product 56</td>\n",
       "      <td>Cakes</td>\n",
       "      <td>Economy Pricing</td>\n",
       "      <td>10.31</td>\n",
       "      <td>-8.970</td>\n",
       "      <td>14.79</td>\n",
       "    </tr>\n",
       "    <tr>\n",
       "      <th>9</th>\n",
       "      <td>Product 52</td>\n",
       "      <td>Personal Care</td>\n",
       "      <td>Economy Pricing</td>\n",
       "      <td>10.01</td>\n",
       "      <td>8.235</td>\n",
       "      <td>11.49</td>\n",
       "    </tr>\n",
       "    <tr>\n",
       "      <th>10</th>\n",
       "      <td>Product 23</td>\n",
       "      <td>Beverage</td>\n",
       "      <td>Economy Pricing</td>\n",
       "      <td>9.08</td>\n",
       "      <td>4.995</td>\n",
       "      <td>22.64</td>\n",
       "    </tr>\n",
       "    <tr>\n",
       "      <th>11</th>\n",
       "      <td>Product 75</td>\n",
       "      <td>Personal Care</td>\n",
       "      <td>Economy Pricing</td>\n",
       "      <td>8.05</td>\n",
       "      <td>11.970</td>\n",
       "      <td>28.68</td>\n",
       "    </tr>\n",
       "    <tr>\n",
       "      <th>12</th>\n",
       "      <td>Product 10</td>\n",
       "      <td>Personal Care</td>\n",
       "      <td>Economy Pricing</td>\n",
       "      <td>7.90</td>\n",
       "      <td>7.110</td>\n",
       "      <td>20.97</td>\n",
       "    </tr>\n",
       "    <tr>\n",
       "      <th>13</th>\n",
       "      <td>Product 40</td>\n",
       "      <td>Home Care</td>\n",
       "      <td>Economy Pricing</td>\n",
       "      <td>6.17</td>\n",
       "      <td>10.480</td>\n",
       "      <td>7.68</td>\n",
       "    </tr>\n",
       "    <tr>\n",
       "      <th>14</th>\n",
       "      <td>Product 12</td>\n",
       "      <td>Beverage</td>\n",
       "      <td>Economy Pricing</td>\n",
       "      <td>3.95</td>\n",
       "      <td>-12.860</td>\n",
       "      <td>5.90</td>\n",
       "    </tr>\n",
       "  </tbody>\n",
       "</table>\n",
       "</div>"
      ],
      "text/plain": [
       "   product_name    product_category pricing_strategy  avg_sales_change_pct  \\\n",
       "0    Product 81       Personal Care  Economy Pricing                 14.84   \n",
       "1    Product 22           Home Care  Economy Pricing                 14.81   \n",
       "2    Product 35  Biscuits & Cookies  Economy Pricing                 14.70   \n",
       "3    Product 51            Beverage  Economy Pricing                 14.34   \n",
       "4    Product 86               Cakes  Economy Pricing                 12.79   \n",
       "5    Product 59               Cakes  Economy Pricing                 12.35   \n",
       "6    Product 73            Beverage  Economy Pricing                 12.04   \n",
       "7    Product 27       Personal Care  Economy Pricing                 10.96   \n",
       "8    Product 56               Cakes  Economy Pricing                 10.31   \n",
       "9    Product 52       Personal Care  Economy Pricing                 10.01   \n",
       "10   Product 23            Beverage  Economy Pricing                  9.08   \n",
       "11   Product 75       Personal Care  Economy Pricing                  8.05   \n",
       "12   Product 10       Personal Care  Economy Pricing                  7.90   \n",
       "13   Product 40           Home Care  Economy Pricing                  6.17   \n",
       "14   Product 12            Beverage  Economy Pricing                  3.95   \n",
       "\n",
       "    avg_price_diff_vs_competitor  avg_demand_decrease_on_price_inc  \n",
       "0                          1.230                             17.68  \n",
       "1                          6.720                             18.32  \n",
       "2                          2.760                              5.26  \n",
       "3                          7.680                              5.68  \n",
       "4                          9.560                             19.62  \n",
       "5                        -12.910                             21.06  \n",
       "6                          8.760                             16.20  \n",
       "7                         11.985                              8.58  \n",
       "8                         -8.970                             14.79  \n",
       "9                          8.235                             11.49  \n",
       "10                         4.995                             22.64  \n",
       "11                        11.970                             28.68  \n",
       "12                         7.110                             20.97  \n",
       "13                        10.480                              7.68  \n",
       "14                       -12.860                              5.90  "
      ]
     },
     "execution_count": 19,
     "metadata": {},
     "output_type": "execute_result"
    }
   ],
   "source": [
    "from intugle import DataProduct\n",
    "\n",
    "# Create a DataProduct\n",
    "dp = DataProduct() \n",
    "\n",
    "# Generate the data product\n",
    "data_product = dp.build(data_product_config)\n",
    "\n",
    "data_product.to_df()"
   ]
  },
  {
   "cell_type": "markdown",
   "id": "ce110000-1111-2222-3333-ffffff000032",
   "metadata": {
    "application/vnd.databricks.v1+cell": {
     "cellMetadata": {
      "byteLimit": 2048000,
      "rowLimit": 10000
     },
     "inputWidgets": {},
     "nuid": "0989bca6-5572-47a5-8feb-ff39cd3870c6",
     "showTitle": false,
     "tableResultSettingsMap": {},
     "title": ""
    },
    "name": "cell33"
   },
   "source": [
    "The `build` function returns a `DataSet` object. You can also view the generated SQL query used for creating the data product:\n"
   ]
  },
  {
   "cell_type": "code",
   "execution_count": 20,
   "id": "ce110000-1111-2222-3333-ffffff000033",
   "metadata": {
    "application/vnd.databricks.v1+cell": {
     "cellMetadata": {
      "byteLimit": 2048000,
      "rowLimit": 10000
     },
     "inputWidgets": {},
     "nuid": "cad0a5de-0a68-4f8d-8fa5-4cfac1bfb725",
     "showTitle": false,
     "tableResultSettingsMap": {},
     "title": ""
    },
    "language": "python",
    "name": "cell34"
   },
   "outputs": [
    {
     "data": {
      "text/plain": [
       "'SELECT \"prd_mstr\".\"name\" as product_name, \"prd_mstr\".\"category\" as product_category, \"pric_strat\".\"strat_type\" as pricing_strategy, avg(\"pric_strat\".\"sales_chg\") as avg_sales_change_pct, avg(\"comp_price\".\"price_diff\") as avg_price_diff_vs_competitor, avg(\"price_sense\".\"demand_dec\") as avg_demand_decrease_on_price_inc FROM price_sense LEFT JOIN prd_mstr ON \"prd_mstr\".\"prd_id\" = \"price_sense\".\"pid\" LEFT JOIN comp_price ON \"comp_price\".\"pid\" = \"prd_mstr\".\"prd_id\" LEFT JOIN pric_strat ON \"comp_price\".\"pid\" = \"pric_strat\".\"prdid\" WHERE (\"pric_strat\".\"strat_type\" IN (\\'Economy Pricing\\',)) GROUP BY \"prd_mstr\".\"name\" , \"prd_mstr\".\"category\" , \"pric_strat\".\"strat_type\" ORDER BY avg_sales_change_pct DESC LIMIT 15'"
      ]
     },
     "execution_count": 20,
     "metadata": {},
     "output_type": "execute_result"
    }
   ],
   "source": [
    "# The generated SQL query\n",
    "data_product.sql_query\n",
    "\n"
   ]
  },
  {
   "cell_type": "markdown",
   "id": "ce110000-1111-2222-3333-ffffff000034",
   "metadata": {
    "application/vnd.databricks.v1+cell": {
     "cellMetadata": {
      "byteLimit": 2048000,
      "rowLimit": 10000
     },
     "inputWidgets": {},
     "nuid": "0c77ba3b-5e47-47aa-aa39-97758817fb9e",
     "showTitle": false,
     "tableResultSettingsMap": {},
     "title": ""
    },
    "name": "cell35"
   },
   "source": [
    "### Generating glossary for the Data Product"
   ]
  },
  {
   "cell_type": "markdown",
   "id": "ce110000-1111-2222-3333-ffffff000035",
   "metadata": {
    "application/vnd.databricks.v1+cell": {
     "cellMetadata": {
      "byteLimit": 2048000,
      "rowLimit": 10000
     },
     "inputWidgets": {},
     "nuid": "df6896ee-2a7f-4431-af02-538d93df119c",
     "showTitle": false,
     "tableResultSettingsMap": {},
     "title": ""
    },
    "name": "cell36"
   },
   "source": [
    "The `data_product` is in itself a DataSet object. Hence we can run generate glossaries for it as well. "
   ]
  },
  {
   "cell_type": "code",
   "execution_count": 21,
   "id": "ce110000-1111-2222-3333-ffffff000036",
   "metadata": {
    "application/vnd.databricks.v1+cell": {
     "cellMetadata": {
      "byteLimit": 2048000,
      "rowLimit": 10000
     },
     "inputWidgets": {},
     "nuid": "968c1692-152e-4f3d-999c-45b1b3fb8ae6",
     "showTitle": false,
     "tableResultSettingsMap": {},
     "title": ""
    },
    "language": "python",
    "name": "cell37"
   },
   "outputs": [
    {
     "name": "stderr",
     "output_type": "stream",
     "text": [
      "/home/raphael/intugle/demo/snowflake_intugle/.venv/lib/python3.12/site-packages/numpy/_core/fromnumeric.py:3859: RuntimeWarning: Mean of empty slice.\n",
      "  return _methods._mean(a, axis=axis, dtype=dtype,\n",
      "/home/raphael/intugle/demo/snowflake_intugle/.venv/lib/python3.12/site-packages/numpy/_core/_methods.py:144: RuntimeWarning: invalid value encountered in scalar divide\n",
      "  ret = ret.dtype.type(ret / rcount)\n",
      "100%|██████████| 6/6 [00:02<00:00,  2.42it/s]\n",
      "[*] filtered_pricing_and_competition:   0%|          | 0/1 [00:00<?, ?it/s]/home/raphael/intugle/demo/snowflake_intugle/.venv/lib/python3.12/site-packages/intugle/core/pipeline/key_identification/ki.py:87: SettingWithCopyWarning: \n",
      "A value is trying to be set on a copy of a slice from a DataFrame\n",
      "\n",
      "See the caveats in the documentation: https://pandas.pydata.org/pandas-docs/stable/user_guide/indexing.html#returning-a-view-versus-a-copy\n",
      "  temp.rename(columns={\"datatype_l1\": \"datatype\"}, inplace=True)\n",
      "[*] filtered_pricing_and_competition: 100%|██████████| 1/1 [00:00<00:00,  1.49it/s]\n",
      "100%|██████████| 6/6 [00:08<00:00,  1.41s/it]\n"
     ]
    },
    {
     "data": {
      "text/html": [
       "<div>\n",
       "<style scoped>\n",
       "    .dataframe tbody tr th:only-of-type {\n",
       "        vertical-align: middle;\n",
       "    }\n",
       "\n",
       "    .dataframe tbody tr th {\n",
       "        vertical-align: top;\n",
       "    }\n",
       "\n",
       "    .dataframe thead th {\n",
       "        text-align: right;\n",
       "    }\n",
       "</style>\n",
       "<table border=\"1\" class=\"dataframe\">\n",
       "  <thead>\n",
       "    <tr style=\"text-align: right;\">\n",
       "      <th></th>\n",
       "      <th>column_name</th>\n",
       "      <th>table_name</th>\n",
       "      <th>business_name</th>\n",
       "      <th>datatype_l1</th>\n",
       "      <th>datatype_l2</th>\n",
       "      <th>business_glossary</th>\n",
       "      <th>business_tags</th>\n",
       "      <th>count</th>\n",
       "      <th>null_count</th>\n",
       "      <th>distinct_count</th>\n",
       "      <th>uniqueness</th>\n",
       "      <th>completeness</th>\n",
       "      <th>sample_data</th>\n",
       "    </tr>\n",
       "  </thead>\n",
       "  <tbody>\n",
       "    <tr>\n",
       "      <th>0</th>\n",
       "      <td>product_name</td>\n",
       "      <td>filtered_pricing_and_competition</td>\n",
       "      <td>product_name</td>\n",
       "      <td>alphanumeric</td>\n",
       "      <td>L2OutputTypes.dimension</td>\n",
       "      <td>Identifies the name used to distinguish indivi...</td>\n",
       "      <td>[Product Identification, Competitive Analysis,...</td>\n",
       "      <td>15</td>\n",
       "      <td>0</td>\n",
       "      <td>15</td>\n",
       "      <td>1.000000</td>\n",
       "      <td>1.0</td>\n",
       "      <td>[Product 81, Product 52, Product 51, Product 5...</td>\n",
       "    </tr>\n",
       "    <tr>\n",
       "      <th>1</th>\n",
       "      <td>product_category</td>\n",
       "      <td>filtered_pricing_and_competition</td>\n",
       "      <td>product_category</td>\n",
       "      <td>close_ended_text</td>\n",
       "      <td>L2OutputTypes.dimension</td>\n",
       "      <td>Groups products into predefined classification...</td>\n",
       "      <td>[Product Classification, Category Insights, Ma...</td>\n",
       "      <td>15</td>\n",
       "      <td>0</td>\n",
       "      <td>5</td>\n",
       "      <td>0.333333</td>\n",
       "      <td>1.0</td>\n",
       "      <td>[Personal Care, Cakes, Beverage, Home Care, Bi...</td>\n",
       "    </tr>\n",
       "    <tr>\n",
       "      <th>2</th>\n",
       "      <td>pricing_strategy</td>\n",
       "      <td>filtered_pricing_and_competition</td>\n",
       "      <td>pricing_strategy</td>\n",
       "      <td>close_ended_text</td>\n",
       "      <td>L2OutputTypes.dimension</td>\n",
       "      <td>Defines the approach used to set product price...</td>\n",
       "      <td>[Pricing Model, Market Strategy, Cost Optimiza...</td>\n",
       "      <td>15</td>\n",
       "      <td>0</td>\n",
       "      <td>1</td>\n",
       "      <td>0.066667</td>\n",
       "      <td>1.0</td>\n",
       "      <td>[Economy Pricing]</td>\n",
       "    </tr>\n",
       "    <tr>\n",
       "      <th>3</th>\n",
       "      <td>avg_sales_change_pct</td>\n",
       "      <td>filtered_pricing_and_competition</td>\n",
       "      <td>avg_sales_change_pct</td>\n",
       "      <td>float</td>\n",
       "      <td>L2OutputTypes.measure</td>\n",
       "      <td>Measures the average percentage change in sale...</td>\n",
       "      <td>[Sales Performance Analysis, Percentage Change...</td>\n",
       "      <td>15</td>\n",
       "      <td>0</td>\n",
       "      <td>15</td>\n",
       "      <td>1.000000</td>\n",
       "      <td>1.0</td>\n",
       "      <td>[8.05, 10.96, 10.31, 10.01, 7.9, 14.84, 12.04,...</td>\n",
       "    </tr>\n",
       "    <tr>\n",
       "      <th>4</th>\n",
       "      <td>avg_price_diff_vs_competitor</td>\n",
       "      <td>filtered_pricing_and_competition</td>\n",
       "      <td>avg_price_diff_vs_competitor</td>\n",
       "      <td>float</td>\n",
       "      <td>L2OutputTypes.measure</td>\n",
       "      <td>Indicates the average price difference of a pr...</td>\n",
       "      <td>[Competitive Pricing Analysis, Market Position...</td>\n",
       "      <td>15</td>\n",
       "      <td>0</td>\n",
       "      <td>15</td>\n",
       "      <td>1.000000</td>\n",
       "      <td>1.0</td>\n",
       "      <td>[10.48, 4.994999999999999, 11.985, 6.72, 8.76,...</td>\n",
       "    </tr>\n",
       "  </tbody>\n",
       "</table>\n",
       "</div>"
      ],
      "text/plain": [
       "<intugle.analysis.models.DataSet at 0x70f8c73da150>"
      ]
     },
     "execution_count": 21,
     "metadata": {},
     "output_type": "execute_result"
    }
   ],
   "source": [
    "\n",
    "data_product.run(domain=\"Fast-Moving Consumer Goods\")\n",
    "data_product.profiling_df"
   ]
  },
  {
   "cell_type": "markdown",
   "id": "ce110000-1111-2222-3333-ffffff000037",
   "metadata": {
    "application/vnd.databricks.v1+cell": {
     "cellMetadata": {
      "byteLimit": 2048000,
      "rowLimit": 10000
     },
     "inputWidgets": {},
     "nuid": "dc21276f-1457-4096-a98a-7a176d4e0922",
     "showTitle": false,
     "tableResultSettingsMap": {},
     "title": ""
    },
    "name": "cell38"
   },
   "source": [
    "## Syncing the data product with Snowflake Catalog"
   ]
  },
  {
   "cell_type": "markdown",
   "id": "ce110000-1111-2222-3333-ffffff000038",
   "metadata": {
    "application/vnd.databricks.v1+cell": {
     "cellMetadata": {
      "byteLimit": 2048000,
      "rowLimit": 10000
     },
     "inputWidgets": {},
     "nuid": "68ca4617-b0f6-4125-a0d6-c1d99f7f41f6",
     "showTitle": false,
     "tableResultSettingsMap": {},
     "title": ""
    },
    "name": "cell39"
   },
   "source": [
    "A data product can be passed in the `create_dp_table_in_snowflake` function along with the target catalog and schema to store it in the Unity Catalog"
   ]
  },
  {
   "cell_type": "code",
   "execution_count": 22,
   "id": "ce110000-1111-2222-3333-ffffff000039",
   "metadata": {
    "application/vnd.databricks.v1+cell": {
     "cellMetadata": {
      "byteLimit": 2048000,
      "rowLimit": 10000
     },
     "inputWidgets": {},
     "nuid": "b3bc11c8-53b0-4eea-a294-3d10cb9d342b",
     "showTitle": false,
     "tableResultSettingsMap": {},
     "title": ""
    },
    "language": "python",
    "name": "cell40"
   },
   "outputs": [],
   "source": [
    "import sqlglot\n",
    "from intugle.analysis.models import DataSet\n",
    "from snowflake.snowpark.context import get_active_session\n",
    "\n",
    "session = get_active_session()\n",
    "\n",
    "\n",
    "def create_dp_in_snowflake(\n",
    "    data_product: DataSet,\n",
    "    db: str,\n",
    "    schema: str,\n",
    "    table_name: str,\n",
    "):\n",
    "    \"\"\"Executes a data product's query and saves it as a new table in Snowflake using Snowpark.\"\"\"\n",
    "    print(f\"\\nAttempting to create data product table: {table_name}\")\n",
    "    session.sql(f\"USE DATABASE {db}\").collect()\n",
    "    session.sql(f\"CREATE SCHEMA IF NOT EXISTS {schema}\").collect()\n",
    "    session.sql(f\"USE SCHEMA {schema}\").collect()\n",
    "    full_table_name = f'\"{db}\".\"{schema}\".\"{table_name}\"'\n",
    "\n",
    "    duckdb_query = data_product.sql_query\n",
    "    if not duckdb_query:\n",
    "        print(\"ERROR: Data product does not contain a SQL query.\")\n",
    "        return\n",
    "\n",
    "    try:\n",
    "        expression = sqlglot.parse_one(duckdb_query, read=\"duckdb\")\n",
    "        snowflake_sql = expression.sql(dialect=\"snowflake\", pretty=True, identify=True)\n",
    "        print(\"Successfully translated SQL query for Snowflake (with quoted identifiers):\")\n",
    "        print(snowflake_sql)\n",
    "    except Exception as e:\n",
    "        print(f\"ERROR: Failed to transpile SQL query using sqlglot. Reason: {e}\")\n",
    "        return\n",
    "\n",
    "    try:\n",
    "        print(f\"Executing CREATE TABLE AS SELECT for {full_table_name}...\")\n",
    "        session.sql(f\"CREATE OR REPLACE TABLE {full_table_name} AS\\n{snowflake_sql}\").collect()\n",
    "        print(\"Table created successfully.\")\n",
    "\n",
    "        # --- Apply all metadata (Comments and Tags) ---\n",
    "        print(\"Applying metadata to new data product table...\")\n",
    "\n",
    "        # 1. Collect, standardize, and create all necessary tags\n",
    "        tag_mapping = {}\n",
    "        for tag in data_product.source_table_model.tags or []:\n",
    "            if tag not in tag_mapping:\n",
    "                tag_mapping[tag] = _standardize_tag_name(tag)\n",
    "        for col in data_product.source_table_model.columns:\n",
    "            for tag in col.tags or []:\n",
    "                if tag not in tag_mapping:\n",
    "                    tag_mapping[tag] = _standardize_tag_name(tag)\n",
    "\n",
    "        for original_name, safe_name in tag_mapping.items():\n",
    "            try:\n",
    "                comment = original_name.replace(\"'\", \"''\")\n",
    "                session.sql(f\"CREATE TAG IF NOT EXISTS {safe_name} COMMENT = '{comment}'\").collect()\n",
    "            except SnowparkSQLException as e:\n",
    "                print(f\"Warning: Could not create tag '{safe_name}'. Reason: {e}\")\n",
    "\n",
    "        # 2. Apply table comment\n",
    "        if data_product.source_table_model.description:\n",
    "            comment = data_product.source_table_model.description.replace(\"'\", \"''\")\n",
    "            session.sql(f\"COMMENT ON TABLE {full_table_name} IS '{comment}'\").collect()\n",
    "            print(\"  - Applied table comment.\")\n",
    "\n",
    "        # 3. Apply table tags\n",
    "        if data_product.source_table_model.tags:\n",
    "            for tag in data_product.source_table_model.tags:\n",
    "                safe_name = tag_mapping.get(tag)\n",
    "                if safe_name:\n",
    "                    try:\n",
    "                        session.sql(f'ALTER TABLE {full_table_name} SET TAG \"{safe_name}\" = \\'true\\'').collect()\n",
    "                    except SnowparkSQLException as e:\n",
    "                        print(f\"  - WARNING: Could not apply tag '{safe_name}' to table {full_table_name}. Reason: {e}\")\n",
    "            print(\"  - Applied table tags.\")\n",
    "\n",
    "        # 4. Apply column comments and tags\n",
    "        for col in data_product.source_table_model.columns:\n",
    "            # Apply column comment\n",
    "            if col.description:\n",
    "                col_comment = col.description.replace(\"'\", \"''\")\n",
    "                try:\n",
    "                    session.sql(f'ALTER TABLE {full_table_name} MODIFY COLUMN \"{col.name}\" COMMENT \\'{col_comment}\\'').collect()\n",
    "                except SnowparkSQLException as e:\n",
    "                    print(f'  - WARNING: Could not apply comment to column \"{col.name}\". Reason: {e}')\n",
    "\n",
    "            # Apply column tags\n",
    "            if col.tags:\n",
    "                for tag in col.tags:\n",
    "                    safe_name = tag_mapping.get(tag)\n",
    "                    if safe_name:\n",
    "                        try:\n",
    "                            session.sql(f'ALTER TABLE {full_table_name} MODIFY COLUMN \"{col.name}\" SET TAG \"{safe_name}\" = \\'true\\'').collect()\n",
    "                        except SnowparkSQLException as e:\n",
    "                            print(f'  - WARNING: Could not apply tag \"{safe_name}\" to column \"{col.name}\". Reason: {e}')\n",
    "        print(\"  - Applied all column comments and tags.\")\n",
    "        \n",
    "        print(f\"\\nData product '{table_name}' successfully created and documented in Snowflake.\")\n",
    "\n",
    "    except Exception as e:\n",
    "        print(f\"ERROR: Failed to create or document data product table '{full_table_name}'. Reason: {e}\")\n",
    "    "
   ]
  },
  {
   "cell_type": "markdown",
   "id": "ce110000-1111-2222-3333-ffffff000040",
   "metadata": {
    "application/vnd.databricks.v1+cell": {
     "cellMetadata": {
      "byteLimit": 2048000,
      "rowLimit": 10000
     },
     "inputWidgets": {},
     "nuid": "18141b97-8d02-4927-ab8e-05029060ab2d",
     "showTitle": false,
     "tableResultSettingsMap": {},
     "title": ""
    },
    "name": "cell41"
   },
   "source": [
    "Now you can call the `create_dp_table_in_databricks` to create the data product in the unity catalog. "
   ]
  },
  {
   "cell_type": "code",
   "execution_count": 23,
   "id": "ce110000-1111-2222-3333-ffffff000041",
   "metadata": {
    "application/vnd.databricks.v1+cell": {
     "cellMetadata": {
      "byteLimit": 2048000,
      "rowLimit": 10000
     },
     "inputWidgets": {},
     "nuid": "33e4073d-d3d6-45bf-80c4-85dc8affbb3c",
     "showTitle": false,
     "tableResultSettingsMap": {},
     "title": ""
    },
    "language": "python",
    "name": "cell42"
   },
   "outputs": [
    {
     "name": "stdout",
     "output_type": "stream",
     "text": [
      "Connecting to Snowflake...\n",
      "Connection successful.\n",
      "\n",
      "Attempting to create data product table: competitor_pricing_by_product\n",
      "Successfully translated SQL query for Snowflake (with quoted identifiers):\n",
      "SELECT\n",
      "  \"prd_mstr\".\"name\" AS \"product_name\",\n",
      "  \"prd_mstr\".\"category\" AS \"product_category\",\n",
      "  \"pric_strat\".\"strat_type\" AS \"pricing_strategy\",\n",
      "  AVG(\"pric_strat\".\"sales_chg\") AS \"avg_sales_change_pct\",\n",
      "  AVG(\"comp_price\".\"price_diff\") AS \"avg_price_diff_vs_competitor\",\n",
      "  AVG(\"price_sense\".\"demand_dec\") AS \"avg_demand_decrease_on_price_inc\"\n",
      "FROM \"price_sense\"\n",
      "LEFT JOIN \"prd_mstr\"\n",
      "  ON \"prd_mstr\".\"prd_id\" = \"price_sense\".\"pid\"\n",
      "LEFT JOIN \"comp_price\"\n",
      "  ON \"comp_price\".\"pid\" = \"prd_mstr\".\"prd_id\"\n",
      "LEFT JOIN \"pric_strat\"\n",
      "  ON \"comp_price\".\"pid\" = \"pric_strat\".\"prdid\"\n",
      "WHERE\n",
      "  (\n",
      "    \"pric_strat\".\"strat_type\" IN ('Economy Pricing')\n",
      "  )\n",
      "GROUP BY\n",
      "  \"prd_mstr\".\"name\",\n",
      "  \"prd_mstr\".\"category\",\n",
      "  \"pric_strat\".\"strat_type\"\n",
      "ORDER BY\n",
      "  \"avg_sales_change_pct\" DESC NULLS LAST\n",
      "LIMIT 15\n",
      "Executing CREATE TABLE AS SELECT for \"SNOWFLAKE_LEARNING_DB\".\"FMCG\".\"competitor_pricing_by_product\"...\n",
      "Table created successfully.\n",
      "Applying metadata to new data product table...\n",
      "Applied all table and column metadata.\n",
      "Data product 'competitor_pricing_by_product' successfully created in Snowflake.\n",
      "\n",
      "-------------------------------------------------\n",
      "Data Product creation completed successfully!\n",
      "-------------------------------------------------\n",
      "\n",
      "Snowflake connection closed.\n"
     ]
    }
   ],
   "source": [
    "# Define where to save it in Unity Catalog\n",
    "db = SNOWFLAKE_DATABASE\n",
    "schema = SNOWFLAKE_SCHEMA\n",
    "   \n",
    "# 3. Call the new function to create it in Databricks\n",
    "create_dp_in_snowflake(data_product, db, schema, \"competitor_pricing_by_product\")"
   ]
  },
  {
   "cell_type": "markdown",
   "id": "ce110000-1111-2222-3333-ffffff000042",
   "metadata": {
    "application/vnd.databricks.v1+cell": {
     "cellMetadata": {
      "byteLimit": 2048000,
      "rowLimit": 10000
     },
     "inputWidgets": {},
     "nuid": "476f725c-8e65-41ba-842c-f6ca5486f347",
     "showTitle": false,
     "tableResultSettingsMap": {},
     "title": ""
    },
    "name": "cell43"
   },
   "source": [
    "## Conclusion\n",
    "\n",
    "You've learned how to:\n",
    "\n",
    "*   Configure your LLM provider and Embeddings provider.\n",
    "*   Build a semantic model using the `SemanticModel`.\n",
    "*   Access enriched metadata, business glossaries and visualize the relationships between your tables.\n",
    "*   Sync the semantic model with Snowflake Catalog\n",
    "*   Perform semantic search on your semantic model.\n",
    "*   Generate data products from the semantic layer using the `DataProduct`.\n",
    "*   Sync the `DataProduct` to Snowflake\n",
    "\n",
    "This is just a starting point. This project has many other features to explore. We encourage you to try it with your own data and see how it can help you build a powerful semantic layer."
   ]
  }
 ],
 "metadata": {
  "application/vnd.databricks.v1+notebook": {
   "computePreferences": {
    "hardware": {
     "accelerator": null,
     "gpuPoolId": null,
     "memory": null
    }
   },
   "dashboards": [],
   "environmentMetadata": {
    "base_environment": "",
    "dependencies": [
     "intugle",
     "sqlglot"
    ],
    "environment_version": "3"
   },
   "inputWidgetPreferences": null,
   "language": "python",
   "notebookMetadata": {
    "pythonIndentUnit": 4
   },
   "notebookName": "quickstart_healthcare",
   "widgets": {}
  },
  "kernelspec": {
   "display_name": ".venv",
   "language": "python",
   "name": "python3"
  },
  "language_info": {
   "codemirror_mode": {
    "name": "ipython",
    "version": 3
   },
   "file_extension": ".py",
   "mimetype": "text/x-python",
   "name": "python",
   "nbconvert_exporter": "python",
   "pygments_lexer": "ipython3",
   "version": "3.12.3"
  },
  "lastEditStatus": {
   "authorEmail": "RAPHAEL.TONY@INTUGLE.AI",
   "authorId": "9200264168148",
   "authorName": "RAPHAEL.TONY",
   "lastEditTime": 1758912863465,
   "notebookId": "x66kyp4slilqa57nssgf",
   "sessionId": "b160c611-102a-4b72-a168-d02ce43a9abc"
  }
 },
 "nbformat": 4,
 "nbformat_minor": 0
}
