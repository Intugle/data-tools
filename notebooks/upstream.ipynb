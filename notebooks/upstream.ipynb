{
 "cells": [
  {
   "cell_type": "code",
   "execution_count": null,
   "id": "f057598e",
   "metadata": {},
   "outputs": [],
   "source": [
    "import os\n",
    "\n",
    "os.environ['PROJECT_BASE'] = ''"
   ]
  },
  {
   "cell_type": "code",
   "execution_count": 1,
   "id": "36972132",
   "metadata": {},
   "outputs": [
    {
     "name": "stderr",
     "output_type": "stream",
     "text": [
      "/home/juhel-phanju/Documents/intugle/projects/data-tools/data-tools/.venv/lib/python3.12/site-packages/tqdm/auto.py:21: TqdmWarning: IProgress not found. Please update jupyter and ipywidgets. See https://ipywidgets.readthedocs.io/en/stable/user_install.html\n",
      "  from .autonotebook import tqdm as notebook_tqdm\n",
      "/home/juhel-phanju/Documents/intugle/projects/data-tools/data-tools/.venv/lib/python3.12/site-packages/pydantic/_internal/_fields.py:198: UserWarning: Field name \"schema\" in \"Source\" shadows an attribute in parent \"BaseResource\"\n",
      "  warnings.warn(\n"
     ]
    }
   ],
   "source": [
    "import pandas as pd\n",
    "\n",
    "from data_tools.analysis.models import DataSet\n",
    "from data_tools.analysis.pipeline import Pipeline\n",
    "from data_tools.analysis.steps import (\n",
    "    BusinessGlossaryGenerator,\n",
    "    ColumnProfiler,\n",
    "    DataTypeIdentifierL1,\n",
    "    DataTypeIdentifierL2,\n",
    "    TableProfiler,\n",
    ")\n"
   ]
  },
  {
   "cell_type": "code",
   "execution_count": 2,
   "id": "f499945b",
   "metadata": {},
   "outputs": [
    {
     "name": "stderr",
     "output_type": "stream",
     "text": [
      "/home/juhel-phanju/Documents/intugle/projects/data-tools/data-tools/.venv/lib/python3.12/site-packages/numpy/core/fromnumeric.py:3504: RuntimeWarning: Mean of empty slice.\n",
      "  return _methods._mean(a, axis=axis, dtype=dtype,\n",
      "/home/juhel-phanju/Documents/intugle/projects/data-tools/data-tools/.venv/lib/python3.12/site-packages/numpy/core/_methods.py:129: RuntimeWarning: invalid value encountered in scalar divide\n",
      "  ret = ret.dtype.type(ret / rcount)\n",
      "100%|██████████| 4/4 [00:02<00:00,  1.77it/s]\n",
      "100%|██████████| 4/4 [00:05<00:00,  1.43s/it]\n"
     ]
    }
   ],
   "source": [
    "# 1. Prepare dummy data\n",
    "df = pd.DataFrame({\n",
    "    \"product_id\": [1, 2, 3],\n",
    "    \"product_name\": [\"Laptop\", \"Mouse\", \"Keyboard\"],\n",
    "    \"price\": [1200.00, 25.00, 75.00],\n",
    "    \"last_updated\": pd.to_datetime([\"2023-01-01\", \"2023-01-05\", \"2023-01-10\"]),\n",
    "})\n",
    "table_name = \"products\"\n",
    "domain = \"e-commerce\"\n",
    "\n",
    "pipeline = Pipeline([\n",
    "    TableProfiler(),\n",
    "    ColumnProfiler(),\n",
    "    DataTypeIdentifierL1(),\n",
    "    DataTypeIdentifierL2(),\n",
    "    BusinessGlossaryGenerator(domain=domain),\n",
    "])\n",
    "\n",
    "# 2. Initialize DataSet\n",
    "dataset = DataSet(df=df, name=table_name)\n",
    "\n",
    "# 3. Run prerequisite steps (TableProfiler, ColumnProfiler)\n",
    "dataset = pipeline.run(df, table_name)\n",
    "\n"
   ]
  },
  {
   "cell_type": "code",
   "execution_count": 3,
   "id": "99c1b2c8",
   "metadata": {},
   "outputs": [],
   "source": [
    "\n",
    "dataset.save_yaml()"
   ]
  },
  {
   "cell_type": "markdown",
   "id": "b89d3e54",
   "metadata": {},
   "source": [
    "# Create pandas dataframe for tables of postgres"
   ]
  },
  {
   "cell_type": "code",
   "execution_count": 9,
   "id": "ad2359d3",
   "metadata": {},
   "outputs": [],
   "source": [
    "import pandas as pd\n",
    "\n",
    "from data_tools.analysis.models import DataSet\n",
    "from data_tools.analysis.pipeline import Pipeline\n",
    "from data_tools.analysis.steps import (\n",
    "    BusinessGlossaryGenerator,\n",
    "    ColumnProfiler,\n",
    "    DataTypeIdentifierL1,\n",
    "    DataTypeIdentifierL2,\n",
    "    KeyIdentifier,\n",
    "    TableProfiler,\n",
    ")\n",
    "from data_tools.core.settings import settings\n",
    "from data_tools.mcp.adapter.psql import PsqlPool\n",
    "\n"
   ]
  },
  {
   "cell_type": "code",
   "execution_count": 2,
   "id": "bdbface2",
   "metadata": {},
   "outputs": [],
   "source": [
    "psql = PsqlPool(\n",
    "    user=settings.POSTGRES_USER,\n",
    "    password=settings.POSTGRES_PASSWORD,\n",
    "    host=settings.POSTGRES_HOST,\n",
    "    database=settings.POSTGRES_DB,\n",
    "    port=settings.POSTGRES_PORT,\n",
    "    schema=settings.POSTGRES_SCHEMA,\n",
    ")"
   ]
  },
  {
   "cell_type": "code",
   "execution_count": 3,
   "id": "1ce9b58b",
   "metadata": {},
   "outputs": [],
   "source": [
    "tables = [\n",
    "    \"conditions\",\n",
    "    \"claims\",\n",
    "    \"claims_transactions\",\n",
    "    \"medications\",\n",
    "    \"observations\",\n",
    "    \"encounters\",\n",
    "    \"careplans\",\n",
    "    \"immunizations\",\n",
    "    \"patients\",\n",
    "    \"allergies\",\n",
    "    \"providers\",\n",
    "    \"organizations\"\n",
    "]\n",
    "\n",
    "domain = \"healthcare\""
   ]
  },
  {
   "cell_type": "code",
   "execution_count": 4,
   "id": "5ae63abe",
   "metadata": {},
   "outputs": [],
   "source": [
    "table_dfs: dict[str, pd.DataFrame] = {}\n",
    "\n",
    "# Create DataFrame for each table\n",
    "for table in tables:\n",
    "    query = f\"select * from {table} limit 10000\"\n",
    "\n",
    "    data = await psql.execute(query)\n",
    "    data = [dict(d) for d in data]\n",
    "\n",
    "    df = pd.DataFrame(data)\n",
    "\n",
    "    table_dfs[table] = df"
   ]
  },
  {
   "cell_type": "code",
   "execution_count": 5,
   "id": "5ddbf52c",
   "metadata": {},
   "outputs": [
    {
     "name": "stderr",
     "output_type": "stream",
     "text": [
      "/home/juhel-phanju/Documents/intugle/projects/data-tools/data-tools/.venv/lib/python3.12/site-packages/numpy/core/fromnumeric.py:3504: RuntimeWarning: Mean of empty slice.\n",
      "  return _methods._mean(a, axis=axis, dtype=dtype,\n",
      "/home/juhel-phanju/Documents/intugle/projects/data-tools/data-tools/.venv/lib/python3.12/site-packages/numpy/core/_methods.py:129: RuntimeWarning: invalid value encountered in scalar divide\n",
      "  ret = ret.dtype.type(ret / rcount)\n",
      " 33%|███▎      | 2/6 [00:00<00:00,  4.00it/s][!] Error while llm response parsing: Got invalid JSON object. Error: Expecting ',' delimiter: line 2 column 27 (char 28)\n",
      "For troubleshooting, visit: https://python.langchain.com/docs/troubleshooting/errors/OUTPUT_PARSING_FAILURE \n",
      "100%|██████████| 6/6 [00:02<00:00,  2.38it/s]\n",
      "100%|██████████| 6/6 [00:08<00:00,  1.41s/it]\n",
      "/home/juhel-phanju/Documents/intugle/projects/data-tools/data-tools/.venv/lib/python3.12/site-packages/numpy/core/fromnumeric.py:3504: RuntimeWarning: Mean of empty slice.\n",
      "  return _methods._mean(a, axis=axis, dtype=dtype,\n",
      "/home/juhel-phanju/Documents/intugle/projects/data-tools/data-tools/.venv/lib/python3.12/site-packages/numpy/core/_methods.py:129: RuntimeWarning: invalid value encountered in scalar divide\n",
      "  ret = ret.dtype.type(ret / rcount)\n",
      "[!] Empty column encountered for claims ==> referringproviderid ...\n",
      " 45%|████▌     | 14/31 [00:09<00:16,  1.04it/s][!] Error while llm response parsing: Got invalid JSON object. Error: Expecting ',' delimiter: line 2 column 25 (char 26)\n",
      "For troubleshooting, visit: https://python.langchain.com/docs/troubleshooting/errors/OUTPUT_PARSING_FAILURE \n",
      " 48%|████▊     | 15/31 [00:09<00:13,  1.20it/s][!] Error while llm response parsing: Got invalid JSON object. Error: Expecting ',' delimiter: line 2 column 27 (char 28)\n",
      "For troubleshooting, visit: https://python.langchain.com/docs/troubleshooting/errors/OUTPUT_PARSING_FAILURE \n",
      " 74%|███████▍  | 23/31 [00:13<00:03,  2.40it/s][!] Error while llm response parsing: Got invalid JSON object. Error: Expecting ',' delimiter: line 2 column 27 (char 28)\n",
      "For troubleshooting, visit: https://python.langchain.com/docs/troubleshooting/errors/OUTPUT_PARSING_FAILURE \n",
      " 77%|███████▋  | 24/31 [00:13<00:03,  2.25it/s][!] Error while llm response parsing: Got invalid JSON object. Error: Expecting ',' delimiter: line 2 column 25 (char 26)\n",
      "For troubleshooting, visit: https://python.langchain.com/docs/troubleshooting/errors/OUTPUT_PARSING_FAILURE \n",
      " 81%|████████  | 25/31 [00:14<00:02,  2.25it/s][!] Error while llm response parsing: Got invalid JSON object. Error: Expecting ',' delimiter: line 2 column 25 (char 26)\n",
      "For troubleshooting, visit: https://python.langchain.com/docs/troubleshooting/errors/OUTPUT_PARSING_FAILURE \n",
      "100%|██████████| 31/31 [00:17<00:00,  1.80it/s]\n",
      "100%|██████████| 31/31 [00:43<00:00,  1.41s/it]\n",
      "[*] claims:   0%|          | 0/1 [00:00<?, ?it/s]/home/juhel-phanju/Documents/intugle/projects/data-tools/data-tools/src/data_tools/core/pipeline/key_identification/ki.py:89: SettingWithCopyWarning: \n",
      "A value is trying to be set on a copy of a slice from a DataFrame\n",
      "\n",
      "See the caveats in the documentation: https://pandas.pydata.org/pandas-docs/stable/user_guide/indexing.html#returning-a-view-versus-a-copy\n",
      "  temp.rename(columns={\"datatype_l1\": \"datatype\"}, inplace=True)\n",
      "[*] claims: 100%|██████████| 1/1 [00:00<00:00,  1.25it/s]\n",
      "/home/juhel-phanju/Documents/intugle/projects/data-tools/data-tools/.venv/lib/python3.12/site-packages/numpy/core/fromnumeric.py:3504: RuntimeWarning: Mean of empty slice.\n",
      "  return _methods._mean(a, axis=axis, dtype=dtype,\n",
      "/home/juhel-phanju/Documents/intugle/projects/data-tools/data-tools/.venv/lib/python3.12/site-packages/numpy/core/_methods.py:129: RuntimeWarning: invalid value encountered in scalar divide\n",
      "  ret = ret.dtype.type(ret / rcount)\n",
      "[!] Empty column encountered for claims_transactions ==> modifier1 ...\n",
      "[!] Empty column encountered for claims_transactions ==> modifier2 ...\n",
      "[!] Empty column encountered for claims_transactions ==> adjustments ...\n",
      "[!] Empty column encountered for claims_transactions ==> linenote ...\n",
      " 39%|███▉      | 13/33 [00:05<00:08,  2.44it/s][!] Error while llm response parsing: Got invalid JSON object. Error: Expecting ',' delimiter: line 2 column 25 (char 26)\n",
      "For troubleshooting, visit: https://python.langchain.com/docs/troubleshooting/errors/OUTPUT_PARSING_FAILURE \n",
      " 42%|████▏     | 14/33 [00:06<00:08,  2.25it/s][!] Error while llm response parsing: Got invalid JSON object. Error: Expecting ',' delimiter: line 2 column 27 (char 28)\n",
      "For troubleshooting, visit: https://python.langchain.com/docs/troubleshooting/errors/OUTPUT_PARSING_FAILURE \n",
      " 48%|████▊     | 16/33 [00:07<00:07,  2.16it/s][!] Error while llm response parsing: Got invalid JSON object. Error: Expecting ',' delimiter: line 2 column 25 (char 26)\n",
      "For troubleshooting, visit: https://python.langchain.com/docs/troubleshooting/errors/OUTPUT_PARSING_FAILURE \n",
      " 76%|███████▌  | 25/33 [00:11<00:03,  2.08it/s][!] Error while llm response parsing: Got invalid JSON object. Error: Expecting ',' delimiter: line 2 column 25 (char 26)\n",
      "For troubleshooting, visit: https://python.langchain.com/docs/troubleshooting/errors/OUTPUT_PARSING_FAILURE \n",
      "100%|██████████| 33/33 [00:16<00:00,  1.97it/s]\n",
      "100%|██████████| 33/33 [00:41<00:00,  1.27s/it]\n",
      "[*] claims_transactions:   0%|          | 0/1 [00:00<?, ?it/s]/home/juhel-phanju/Documents/intugle/projects/data-tools/data-tools/src/data_tools/core/pipeline/key_identification/ki.py:89: SettingWithCopyWarning: \n",
      "A value is trying to be set on a copy of a slice from a DataFrame\n",
      "\n",
      "See the caveats in the documentation: https://pandas.pydata.org/pandas-docs/stable/user_guide/indexing.html#returning-a-view-versus-a-copy\n",
      "  temp.rename(columns={\"datatype_l1\": \"datatype\"}, inplace=True)\n",
      "[*] claims_transactions: 100%|██████████| 1/1 [00:01<00:00,  1.04s/it]\n",
      "/home/juhel-phanju/Documents/intugle/projects/data-tools/data-tools/.venv/lib/python3.12/site-packages/numpy/core/fromnumeric.py:3504: RuntimeWarning: Mean of empty slice.\n",
      "  return _methods._mean(a, axis=axis, dtype=dtype,\n",
      "/home/juhel-phanju/Documents/intugle/projects/data-tools/data-tools/.venv/lib/python3.12/site-packages/numpy/core/_methods.py:129: RuntimeWarning: invalid value encountered in scalar divide\n",
      "  ret = ret.dtype.type(ret / rcount)\n",
      "100%|██████████| 13/13 [00:06<00:00,  2.00it/s]\n",
      "100%|██████████| 13/13 [00:16<00:00,  1.24s/it]\n",
      "/home/juhel-phanju/Documents/intugle/projects/data-tools/data-tools/.venv/lib/python3.12/site-packages/numpy/core/fromnumeric.py:3504: RuntimeWarning: Mean of empty slice.\n",
      "  return _methods._mean(a, axis=axis, dtype=dtype,\n",
      "/home/juhel-phanju/Documents/intugle/projects/data-tools/data-tools/.venv/lib/python3.12/site-packages/numpy/core/_methods.py:129: RuntimeWarning: invalid value encountered in scalar divide\n",
      "  ret = ret.dtype.type(ret / rcount)\n",
      " 78%|███████▊  | 7/9 [00:02<00:00,  2.60it/s][!] Error while llm response parsing: Got invalid JSON object. Error: Expecting ',' delimiter: line 2 column 25 (char 26)\n",
      "For troubleshooting, visit: https://python.langchain.com/docs/troubleshooting/errors/OUTPUT_PARSING_FAILURE \n",
      "100%|██████████| 9/9 [00:04<00:00,  2.20it/s]\n",
      "100%|██████████| 9/9 [00:10<00:00,  1.13s/it]\n",
      "/home/juhel-phanju/Documents/intugle/projects/data-tools/data-tools/.venv/lib/python3.12/site-packages/numpy/core/fromnumeric.py:3504: RuntimeWarning: Mean of empty slice.\n",
      "  return _methods._mean(a, axis=axis, dtype=dtype,\n",
      "/home/juhel-phanju/Documents/intugle/projects/data-tools/data-tools/.venv/lib/python3.12/site-packages/numpy/core/_methods.py:129: RuntimeWarning: invalid value encountered in scalar divide\n",
      "  ret = ret.dtype.type(ret / rcount)\n",
      "100%|██████████| 15/15 [00:06<00:00,  2.19it/s]\n",
      "100%|██████████| 15/15 [00:17<00:00,  1.16s/it]\n",
      "[*] encounters:   0%|          | 0/1 [00:00<?, ?it/s]/home/juhel-phanju/Documents/intugle/projects/data-tools/data-tools/src/data_tools/core/pipeline/key_identification/ki.py:89: SettingWithCopyWarning: \n",
      "A value is trying to be set on a copy of a slice from a DataFrame\n",
      "\n",
      "See the caveats in the documentation: https://pandas.pydata.org/pandas-docs/stable/user_guide/indexing.html#returning-a-view-versus-a-copy\n",
      "  temp.rename(columns={\"datatype_l1\": \"datatype\"}, inplace=True)\n",
      "[*] encounters: 100%|██████████| 1/1 [00:00<00:00,  1.38it/s]\n",
      "/home/juhel-phanju/Documents/intugle/projects/data-tools/data-tools/.venv/lib/python3.12/site-packages/numpy/core/fromnumeric.py:3504: RuntimeWarning: Mean of empty slice.\n",
      "  return _methods._mean(a, axis=axis, dtype=dtype,\n",
      "/home/juhel-phanju/Documents/intugle/projects/data-tools/data-tools/.venv/lib/python3.12/site-packages/numpy/core/_methods.py:129: RuntimeWarning: invalid value encountered in scalar divide\n",
      "  ret = ret.dtype.type(ret / rcount)\n",
      " 22%|██▏       | 2/9 [00:00<00:03,  2.26it/s][!] Error while llm response parsing: Got invalid JSON object. Error: Expecting ',' delimiter: line 2 column 27 (char 28)\n",
      "For troubleshooting, visit: https://python.langchain.com/docs/troubleshooting/errors/OUTPUT_PARSING_FAILURE \n",
      "100%|██████████| 9/9 [00:04<00:00,  1.96it/s]\n",
      "100%|██████████| 9/9 [00:10<00:00,  1.12s/it]\n",
      "[*] careplans:   0%|          | 0/1 [00:00<?, ?it/s]/home/juhel-phanju/Documents/intugle/projects/data-tools/data-tools/src/data_tools/core/pipeline/key_identification/ki.py:89: SettingWithCopyWarning: \n",
      "A value is trying to be set on a copy of a slice from a DataFrame\n",
      "\n",
      "See the caveats in the documentation: https://pandas.pydata.org/pandas-docs/stable/user_guide/indexing.html#returning-a-view-versus-a-copy\n",
      "  temp.rename(columns={\"datatype_l1\": \"datatype\"}, inplace=True)\n",
      "[*] careplans: 100%|██████████| 1/1 [00:00<00:00,  1.66it/s]\n",
      "/home/juhel-phanju/Documents/intugle/projects/data-tools/data-tools/.venv/lib/python3.12/site-packages/numpy/core/fromnumeric.py:3504: RuntimeWarning: Mean of empty slice.\n",
      "  return _methods._mean(a, axis=axis, dtype=dtype,\n",
      "/home/juhel-phanju/Documents/intugle/projects/data-tools/data-tools/.venv/lib/python3.12/site-packages/numpy/core/_methods.py:129: RuntimeWarning: invalid value encountered in scalar divide\n",
      "  ret = ret.dtype.type(ret / rcount)\n",
      "100%|██████████| 6/6 [00:02<00:00,  2.06it/s]\n",
      "100%|██████████| 6/6 [00:06<00:00,  1.12s/it]\n",
      "/home/juhel-phanju/Documents/intugle/projects/data-tools/data-tools/.venv/lib/python3.12/site-packages/numpy/core/fromnumeric.py:3504: RuntimeWarning: Mean of empty slice.\n",
      "  return _methods._mean(a, axis=axis, dtype=dtype,\n",
      "/home/juhel-phanju/Documents/intugle/projects/data-tools/data-tools/.venv/lib/python3.12/site-packages/numpy/core/_methods.py:129: RuntimeWarning: invalid value encountered in scalar divide\n",
      "  ret = ret.dtype.type(ret / rcount)\n",
      " 44%|████▍     | 11/25 [00:09<00:05,  2.39it/s][!] Error while llm response parsing: Got invalid JSON object. Error: Expecting ',' delimiter: line 2 column 27 (char 28)\n",
      "For troubleshooting, visit: https://python.langchain.com/docs/troubleshooting/errors/OUTPUT_PARSING_FAILURE \n",
      "100%|██████████| 25/25 [00:15<00:00,  1.63it/s]\n",
      "100%|██████████| 25/25 [00:28<00:00,  1.16s/it]\n",
      "[*] patients:   0%|          | 0/1 [00:00<?, ?it/s]/home/juhel-phanju/Documents/intugle/projects/data-tools/data-tools/src/data_tools/core/pipeline/key_identification/ki.py:89: SettingWithCopyWarning: \n",
      "A value is trying to be set on a copy of a slice from a DataFrame\n",
      "\n",
      "See the caveats in the documentation: https://pandas.pydata.org/pandas-docs/stable/user_guide/indexing.html#returning-a-view-versus-a-copy\n",
      "  temp.rename(columns={\"datatype_l1\": \"datatype\"}, inplace=True)\n",
      "[*] patients: 100%|██████████| 1/1 [00:00<00:00,  1.68it/s]\n",
      "/home/juhel-phanju/Documents/intugle/projects/data-tools/data-tools/.venv/lib/python3.12/site-packages/numpy/core/fromnumeric.py:3504: RuntimeWarning: Mean of empty slice.\n",
      "  return _methods._mean(a, axis=axis, dtype=dtype,\n",
      "/home/juhel-phanju/Documents/intugle/projects/data-tools/data-tools/.venv/lib/python3.12/site-packages/numpy/core/_methods.py:129: RuntimeWarning: invalid value encountered in scalar divide\n",
      "  ret = ret.dtype.type(ret / rcount)\n",
      "[!] Empty column encountered for allergies ==> stop ...\n",
      "100%|██████████| 15/15 [00:06<00:00,  2.28it/s]\n",
      "100%|██████████| 15/15 [00:18<00:00,  1.21s/it]\n",
      "/home/juhel-phanju/Documents/intugle/projects/data-tools/data-tools/.venv/lib/python3.12/site-packages/numpy/core/fromnumeric.py:3504: RuntimeWarning: Mean of empty slice.\n",
      "  return _methods._mean(a, axis=axis, dtype=dtype,\n",
      "/home/juhel-phanju/Documents/intugle/projects/data-tools/data-tools/.venv/lib/python3.12/site-packages/numpy/core/_methods.py:129: RuntimeWarning: invalid value encountered in scalar divide\n",
      "  ret = ret.dtype.type(ret / rcount)\n",
      " 92%|█████████▏| 11/12 [00:04<00:00,  2.35it/s][!] Error while llm response parsing: Got invalid JSON object. Error: Expecting ',' delimiter: line 2 column 25 (char 26)\n",
      "For troubleshooting, visit: https://python.langchain.com/docs/troubleshooting/errors/OUTPUT_PARSING_FAILURE \n",
      "100%|██████████| 12/12 [00:05<00:00,  2.23it/s]\n",
      "100%|██████████| 12/12 [00:15<00:00,  1.27s/it]\n",
      "[*] providers:   0%|          | 0/1 [00:00<?, ?it/s]/home/juhel-phanju/Documents/intugle/projects/data-tools/data-tools/src/data_tools/core/pipeline/key_identification/ki.py:89: SettingWithCopyWarning: \n",
      "A value is trying to be set on a copy of a slice from a DataFrame\n",
      "\n",
      "See the caveats in the documentation: https://pandas.pydata.org/pandas-docs/stable/user_guide/indexing.html#returning-a-view-versus-a-copy\n",
      "  temp.rename(columns={\"datatype_l1\": \"datatype\"}, inplace=True)\n",
      "[*] providers: 100%|██████████| 1/1 [00:00<00:00,  1.50it/s]\n",
      "/home/juhel-phanju/Documents/intugle/projects/data-tools/data-tools/.venv/lib/python3.12/site-packages/numpy/core/fromnumeric.py:3504: RuntimeWarning: Mean of empty slice.\n",
      "  return _methods._mean(a, axis=axis, dtype=dtype,\n",
      "/home/juhel-phanju/Documents/intugle/projects/data-tools/data-tools/.venv/lib/python3.12/site-packages/numpy/core/_methods.py:129: RuntimeWarning: invalid value encountered in scalar divide\n",
      "  ret = ret.dtype.type(ret / rcount)\n",
      " 82%|████████▏ | 9/11 [00:03<00:00,  2.47it/s][!] Error while llm response parsing: Got invalid JSON object. Error: Expecting ',' delimiter: line 2 column 27 (char 28)\n",
      "For troubleshooting, visit: https://python.langchain.com/docs/troubleshooting/errors/OUTPUT_PARSING_FAILURE \n",
      "100%|██████████| 11/11 [00:05<00:00,  2.02it/s]\n",
      "100%|██████████| 11/11 [00:12<00:00,  1.15s/it]\n",
      "[*] organizations:   0%|          | 0/1 [00:00<?, ?it/s]/home/juhel-phanju/Documents/intugle/projects/data-tools/data-tools/src/data_tools/core/pipeline/key_identification/ki.py:89: SettingWithCopyWarning: \n",
      "A value is trying to be set on a copy of a slice from a DataFrame\n",
      "\n",
      "See the caveats in the documentation: https://pandas.pydata.org/pandas-docs/stable/user_guide/indexing.html#returning-a-view-versus-a-copy\n",
      "  temp.rename(columns={\"datatype_l1\": \"datatype\"}, inplace=True)\n",
      "[*] organizations: 100%|██████████| 1/1 [00:00<00:00,  1.54it/s]\n"
     ]
    }
   ],
   "source": [
    "# Initialize the pipeline with the domain\n",
    "pipeline = Pipeline([\n",
    "    TableProfiler(),\n",
    "    ColumnProfiler(),\n",
    "    DataTypeIdentifierL1(),\n",
    "    DataTypeIdentifierL2(),\n",
    "    BusinessGlossaryGenerator(domain=domain),\n",
    "    KeyIdentifier(),\n",
    "])\n",
    "\n",
    "\n",
    "datasets: dict[str, DataSet] = {}\n",
    "# Run Pipeline for each datafram and save results\n",
    "for table, df in table_dfs.items():\n",
    "    ds = pipeline.run(df, table)\n",
    "\n",
    "    datasets[table] = ds\n"
   ]
  },
  {
   "cell_type": "code",
   "execution_count": 6,
   "id": "6e00c23e",
   "metadata": {},
   "outputs": [],
   "source": [
    "# save all datasets metadata to YAML files\n",
    "for ds in datasets.values():\n",
    "    ds.save_yaml()"
   ]
  },
  {
   "cell_type": "markdown",
   "id": "02adabc8",
   "metadata": {},
   "source": [
    "# Run Link prediction and save"
   ]
  },
  {
   "cell_type": "code",
   "execution_count": 22,
   "id": "d1f0bc2e",
   "metadata": {},
   "outputs": [],
   "source": [
    "from data_tools.link_predictor.predictor import LinkPredictionSaver, LinkPredictor"
   ]
  },
  {
   "cell_type": "code",
   "execution_count": 14,
   "id": "b3166037",
   "metadata": {},
   "outputs": [
    {
     "name": "stdout",
     "output_type": "stream",
     "text": [
      "Dataset 'conditions' is missing key identification. Running prerequisite analysis...\n"
     ]
    },
    {
     "name": "stderr",
     "output_type": "stream",
     "text": [
      "/home/juhel-phanju/Documents/intugle/projects/data-tools/data-tools/.venv/lib/python3.12/site-packages/numpy/core/fromnumeric.py:3504: RuntimeWarning: Mean of empty slice.\n",
      "  return _methods._mean(a, axis=axis, dtype=dtype,\n",
      "/home/juhel-phanju/Documents/intugle/projects/data-tools/data-tools/.venv/lib/python3.12/site-packages/numpy/core/_methods.py:129: RuntimeWarning: invalid value encountered in scalar divide\n",
      "  ret = ret.dtype.type(ret / rcount)\n",
      "100%|██████████| 6/6 [00:02<00:00,  2.07it/s]\n"
     ]
    },
    {
     "name": "stdout",
     "output_type": "stream",
     "text": [
      "Dataset 'claims' already processed. Skipping analysis.\n",
      "Dataset 'claims_transactions' already processed. Skipping analysis.\n",
      "Dataset 'medications' is missing key identification. Running prerequisite analysis...\n"
     ]
    },
    {
     "name": "stderr",
     "output_type": "stream",
     "text": [
      "/home/juhel-phanju/Documents/intugle/projects/data-tools/data-tools/.venv/lib/python3.12/site-packages/numpy/core/fromnumeric.py:3504: RuntimeWarning: Mean of empty slice.\n",
      "  return _methods._mean(a, axis=axis, dtype=dtype,\n",
      "/home/juhel-phanju/Documents/intugle/projects/data-tools/data-tools/.venv/lib/python3.12/site-packages/numpy/core/_methods.py:129: RuntimeWarning: invalid value encountered in scalar divide\n",
      "  ret = ret.dtype.type(ret / rcount)\n",
      "100%|██████████| 13/13 [00:06<00:00,  2.16it/s]"
     ]
    },
    {
     "name": "stdout",
     "output_type": "stream",
     "text": [
      "Dataset 'observations' is missing key identification. Running prerequisite analysis...\n"
     ]
    },
    {
     "name": "stderr",
     "output_type": "stream",
     "text": [
      "\n",
      "/home/juhel-phanju/Documents/intugle/projects/data-tools/data-tools/.venv/lib/python3.12/site-packages/numpy/core/fromnumeric.py:3504: RuntimeWarning: Mean of empty slice.\n",
      "  return _methods._mean(a, axis=axis, dtype=dtype,\n",
      "/home/juhel-phanju/Documents/intugle/projects/data-tools/data-tools/.venv/lib/python3.12/site-packages/numpy/core/_methods.py:129: RuntimeWarning: invalid value encountered in scalar divide\n",
      "  ret = ret.dtype.type(ret / rcount)\n",
      "100%|██████████| 9/9 [00:04<00:00,  2.24it/s]"
     ]
    },
    {
     "name": "stdout",
     "output_type": "stream",
     "text": [
      "Dataset 'encounters' already processed. Skipping analysis.\n",
      "Dataset 'careplans' already processed. Skipping analysis.\n",
      "Dataset 'immunizations' is missing key identification. Running prerequisite analysis...\n"
     ]
    },
    {
     "name": "stderr",
     "output_type": "stream",
     "text": [
      "\n",
      "/home/juhel-phanju/Documents/intugle/projects/data-tools/data-tools/.venv/lib/python3.12/site-packages/numpy/core/fromnumeric.py:3504: RuntimeWarning: Mean of empty slice.\n",
      "  return _methods._mean(a, axis=axis, dtype=dtype,\n",
      "/home/juhel-phanju/Documents/intugle/projects/data-tools/data-tools/.venv/lib/python3.12/site-packages/numpy/core/_methods.py:129: RuntimeWarning: invalid value encountered in scalar divide\n",
      "  ret = ret.dtype.type(ret / rcount)\n",
      "100%|██████████| 6/6 [00:03<00:00,  1.95it/s]"
     ]
    },
    {
     "name": "stdout",
     "output_type": "stream",
     "text": [
      "Dataset 'patients' already processed. Skipping analysis.\n",
      "Dataset 'allergies' is missing key identification. Running prerequisite analysis...\n"
     ]
    },
    {
     "name": "stderr",
     "output_type": "stream",
     "text": [
      "\n",
      "/home/juhel-phanju/Documents/intugle/projects/data-tools/data-tools/.venv/lib/python3.12/site-packages/numpy/core/fromnumeric.py:3504: RuntimeWarning: Mean of empty slice.\n",
      "  return _methods._mean(a, axis=axis, dtype=dtype,\n",
      "/home/juhel-phanju/Documents/intugle/projects/data-tools/data-tools/.venv/lib/python3.12/site-packages/numpy/core/_methods.py:129: RuntimeWarning: invalid value encountered in scalar divide\n",
      "  ret = ret.dtype.type(ret / rcount)\n",
      "[!] Empty column encountered for allergies ==> stop ...\n",
      "  0%|          | 0/15 [00:00<?, ?it/s][!] Error while llm response parsing: Got invalid JSON object. Error: Expecting ',' delimiter: line 2 column 27 (char 28)\n",
      "For troubleshooting, visit: https://python.langchain.com/docs/troubleshooting/errors/OUTPUT_PARSING_FAILURE \n",
      "100%|██████████| 15/15 [00:11<00:00,  1.31it/s]\n"
     ]
    },
    {
     "name": "stdout",
     "output_type": "stream",
     "text": [
      "Dataset 'providers' already processed. Skipping analysis.\n",
      "Dataset 'organizations' already processed. Skipping analysis.\n",
      "LinkPredictor initialized with datasets: ['conditions', 'claims', 'claims_transactions', 'medications', 'observations', 'encounters', 'careplans', 'immunizations', 'patients', 'allergies', 'providers', 'organizations']\n",
      "\n",
      "--- Comparing 'conditions' <=> 'claims' ---\n"
     ]
    },
    {
     "name": "stderr",
     "output_type": "stream",
     "text": [
      "[*] conditions <==> claims Runs:1: 100%|██████████| 1/1 [00:01<00:00,  1.72s/it]\n"
     ]
    },
    {
     "name": "stdout",
     "output_type": "stream",
     "text": [
      "No links found for this pair.\n",
      "\n",
      "--- Comparing 'conditions' <=> 'claims_transactions' ---\n"
     ]
    },
    {
     "name": "stderr",
     "output_type": "stream",
     "text": [
      "[*] conditions <==> claims_transactions Runs:1: 100%|██████████| 1/1 [00:02<00:00,  2.05s/it]\n"
     ]
    },
    {
     "name": "stdout",
     "output_type": "stream",
     "text": [
      "No links found for this pair.\n",
      "\n",
      "--- Comparing 'conditions' <=> 'medications' ---\n"
     ]
    },
    {
     "name": "stderr",
     "output_type": "stream",
     "text": [
      "[*] conditions <==> medications Runs:1: 100%|██████████| 1/1 [00:01<00:00,  1.44s/it]\n"
     ]
    },
    {
     "name": "stdout",
     "output_type": "stream",
     "text": [
      "No links found for this pair.\n",
      "\n",
      "--- Comparing 'conditions' <=> 'observations' ---\n"
     ]
    },
    {
     "name": "stderr",
     "output_type": "stream",
     "text": [
      "[*] conditions <==> observations Runs:1: 100%|██████████| 1/1 [00:01<00:00,  1.40s/it]\n"
     ]
    },
    {
     "name": "stdout",
     "output_type": "stream",
     "text": [
      "No links found for this pair.\n",
      "\n",
      "--- Comparing 'conditions' <=> 'encounters' ---\n"
     ]
    },
    {
     "name": "stderr",
     "output_type": "stream",
     "text": [
      "[*] conditions <==> encounters Runs:1: 100%|██████████| 1/1 [00:00<00:00,  1.07it/s]\n"
     ]
    },
    {
     "name": "stdout",
     "output_type": "stream",
     "text": [
      "Found 1 potential link(s).\n",
      "\n",
      "--- Comparing 'conditions' <=> 'careplans' ---\n"
     ]
    },
    {
     "name": "stderr",
     "output_type": "stream",
     "text": [
      "[*] conditions <==> careplans Runs:1: 100%|██████████| 1/1 [00:00<00:00,  1.07it/s]\n"
     ]
    },
    {
     "name": "stdout",
     "output_type": "stream",
     "text": [
      "Found 1 potential link(s).\n",
      "\n",
      "--- Comparing 'conditions' <=> 'immunizations' ---\n"
     ]
    },
    {
     "name": "stderr",
     "output_type": "stream",
     "text": [
      "[*] conditions <==> immunizations Runs:1: 100%|██████████| 1/1 [00:01<00:00,  1.32s/it]\n"
     ]
    },
    {
     "name": "stdout",
     "output_type": "stream",
     "text": [
      "No links found for this pair.\n",
      "\n",
      "--- Comparing 'conditions' <=> 'patients' ---\n"
     ]
    },
    {
     "name": "stderr",
     "output_type": "stream",
     "text": [
      "[*] conditions <==> patients Runs:1: 100%|██████████| 1/1 [00:00<00:00,  1.12it/s]\n"
     ]
    },
    {
     "name": "stdout",
     "output_type": "stream",
     "text": [
      "Found 1 potential link(s).\n",
      "\n",
      "--- Comparing 'conditions' <=> 'allergies' ---\n"
     ]
    },
    {
     "name": "stderr",
     "output_type": "stream",
     "text": [
      "[*] conditions <==> allergies Runs:1: 100%|██████████| 1/1 [00:01<00:00,  1.42s/it]\n"
     ]
    },
    {
     "name": "stdout",
     "output_type": "stream",
     "text": [
      "No links found for this pair.\n",
      "\n",
      "--- Comparing 'conditions' <=> 'providers' ---\n"
     ]
    },
    {
     "name": "stderr",
     "output_type": "stream",
     "text": [
      "[*] conditions <==> providers Runs:1: 100%|██████████| 1/1 [00:00<00:00,  1.19it/s]\n"
     ]
    },
    {
     "name": "stdout",
     "output_type": "stream",
     "text": [
      "No links found for this pair.\n",
      "\n",
      "--- Comparing 'conditions' <=> 'organizations' ---\n"
     ]
    },
    {
     "name": "stderr",
     "output_type": "stream",
     "text": [
      "[*] conditions <==> organizations Runs:1: 100%|██████████| 1/1 [00:00<00:00,  1.05it/s]\n"
     ]
    },
    {
     "name": "stdout",
     "output_type": "stream",
     "text": [
      "No links found for this pair.\n",
      "\n",
      "--- Comparing 'claims' <=> 'claims_transactions' ---\n"
     ]
    },
    {
     "name": "stderr",
     "output_type": "stream",
     "text": [
      "[*] claims <==> claims_transactions Runs:1: 100%|██████████| 1/1 [00:01<00:00,  1.15s/it]\n"
     ]
    },
    {
     "name": "stdout",
     "output_type": "stream",
     "text": [
      "Found 1 potential link(s).\n",
      "\n",
      "--- Comparing 'claims' <=> 'medications' ---\n"
     ]
    },
    {
     "name": "stderr",
     "output_type": "stream",
     "text": [
      "[*] claims <==> medications Runs:1: 100%|██████████| 1/1 [00:18<00:00, 18.97s/it]\n"
     ]
    },
    {
     "name": "stdout",
     "output_type": "stream",
     "text": [
      "No links found for this pair.\n",
      "\n",
      "--- Comparing 'claims' <=> 'observations' ---\n"
     ]
    },
    {
     "name": "stderr",
     "output_type": "stream",
     "text": [
      "[*] claims <==> observations Runs:1: 100%|██████████| 1/1 [00:22<00:00, 22.05s/it]\n"
     ]
    },
    {
     "name": "stdout",
     "output_type": "stream",
     "text": [
      "No links found for this pair.\n",
      "\n",
      "--- Comparing 'claims' <=> 'encounters' ---\n"
     ]
    },
    {
     "name": "stderr",
     "output_type": "stream",
     "text": [
      "[*] claims <==> encounters Runs:1: 100%|██████████| 1/1 [00:03<00:00,  3.99s/it]\n"
     ]
    },
    {
     "name": "stdout",
     "output_type": "stream",
     "text": [
      "No links found for this pair.\n",
      "\n",
      "--- Comparing 'claims' <=> 'careplans' ---\n"
     ]
    },
    {
     "name": "stderr",
     "output_type": "stream",
     "text": [
      "[*] claims <==> careplans Runs:1: 100%|██████████| 1/1 [00:01<00:00,  1.57s/it]\n"
     ]
    },
    {
     "name": "stdout",
     "output_type": "stream",
     "text": [
      "No links found for this pair.\n",
      "\n",
      "--- Comparing 'claims' <=> 'immunizations' ---\n"
     ]
    },
    {
     "name": "stderr",
     "output_type": "stream",
     "text": [
      "[*] claims <==> immunizations Runs:1: 100%|██████████| 1/1 [00:03<00:00,  3.65s/it]\n"
     ]
    },
    {
     "name": "stdout",
     "output_type": "stream",
     "text": [
      "No links found for this pair.\n",
      "\n",
      "--- Comparing 'claims' <=> 'patients' ---\n"
     ]
    },
    {
     "name": "stderr",
     "output_type": "stream",
     "text": [
      "[*] claims <==> patients Runs:1: 100%|██████████| 1/1 [00:03<00:00,  3.59s/it]\n"
     ]
    },
    {
     "name": "stdout",
     "output_type": "stream",
     "text": [
      "Found 1 potential link(s).\n",
      "\n",
      "--- Comparing 'claims' <=> 'allergies' ---\n"
     ]
    },
    {
     "name": "stderr",
     "output_type": "stream",
     "text": [
      "[*] claims <==> allergies Runs:1: 100%|██████████| 1/1 [00:01<00:00,  1.60s/it]\n"
     ]
    },
    {
     "name": "stdout",
     "output_type": "stream",
     "text": [
      "No links found for this pair.\n",
      "\n",
      "--- Comparing 'claims' <=> 'providers' ---\n"
     ]
    },
    {
     "name": "stderr",
     "output_type": "stream",
     "text": [
      "[*] claims <==> providers Runs:1: 100%|██████████| 1/1 [00:00<00:00,  1.04it/s]\n"
     ]
    },
    {
     "name": "stdout",
     "output_type": "stream",
     "text": [
      "Found 1 potential link(s).\n",
      "\n",
      "--- Comparing 'claims' <=> 'organizations' ---\n"
     ]
    },
    {
     "name": "stderr",
     "output_type": "stream",
     "text": [
      "[*] claims <==> organizations Runs:1: 100%|██████████| 1/1 [00:03<00:00,  3.23s/it]\n"
     ]
    },
    {
     "name": "stdout",
     "output_type": "stream",
     "text": [
      "Found 1 potential link(s).\n",
      "\n",
      "--- Comparing 'claims_transactions' <=> 'medications' ---\n"
     ]
    },
    {
     "name": "stderr",
     "output_type": "stream",
     "text": [
      "[*] claims_transactions <==> medications Runs:1: 100%|██████████| 1/1 [00:15<00:00, 15.05s/it]\n"
     ]
    },
    {
     "name": "stdout",
     "output_type": "stream",
     "text": [
      "No links found for this pair.\n",
      "\n",
      "--- Comparing 'claims_transactions' <=> 'observations' ---\n"
     ]
    },
    {
     "name": "stderr",
     "output_type": "stream",
     "text": [
      "[*] claims_transactions <==> observations Runs:1: 100%|██████████| 1/1 [00:22<00:00, 22.02s/it]\n"
     ]
    },
    {
     "name": "stdout",
     "output_type": "stream",
     "text": [
      "No links found for this pair.\n",
      "\n",
      "--- Comparing 'claims_transactions' <=> 'encounters' ---\n"
     ]
    },
    {
     "name": "stderr",
     "output_type": "stream",
     "text": [
      "[*] claims_transactions <==> encounters Runs:1: 100%|██████████| 1/1 [00:03<00:00,  3.77s/it]\n"
     ]
    },
    {
     "name": "stdout",
     "output_type": "stream",
     "text": [
      "No links found for this pair.\n",
      "\n",
      "--- Comparing 'claims_transactions' <=> 'careplans' ---\n"
     ]
    },
    {
     "name": "stderr",
     "output_type": "stream",
     "text": [
      "[*] claims_transactions <==> careplans Runs:1: 100%|██████████| 1/1 [00:04<00:00,  4.28s/it]\n"
     ]
    },
    {
     "name": "stdout",
     "output_type": "stream",
     "text": [
      "No links found for this pair.\n",
      "\n",
      "--- Comparing 'claims_transactions' <=> 'immunizations' ---\n"
     ]
    },
    {
     "name": "stderr",
     "output_type": "stream",
     "text": [
      "[*] claims_transactions <==> immunizations Runs:1: 100%|██████████| 1/1 [00:01<00:00,  1.62s/it]\n"
     ]
    },
    {
     "name": "stdout",
     "output_type": "stream",
     "text": [
      "No links found for this pair.\n",
      "\n",
      "--- Comparing 'claims_transactions' <=> 'patients' ---\n"
     ]
    },
    {
     "name": "stderr",
     "output_type": "stream",
     "text": [
      "[*] claims_transactions <==> patients Runs:1: 100%|██████████| 1/1 [00:01<00:00,  1.02s/it]\n"
     ]
    },
    {
     "name": "stdout",
     "output_type": "stream",
     "text": [
      "Found 1 potential link(s).\n",
      "\n",
      "--- Comparing 'claims_transactions' <=> 'allergies' ---\n"
     ]
    },
    {
     "name": "stderr",
     "output_type": "stream",
     "text": [
      "[*] claims_transactions <==> allergies Runs:1: 100%|██████████| 1/1 [00:02<00:00,  2.62s/it]\n"
     ]
    },
    {
     "name": "stdout",
     "output_type": "stream",
     "text": [
      "No links found for this pair.\n",
      "\n",
      "--- Comparing 'claims_transactions' <=> 'providers' ---\n"
     ]
    },
    {
     "name": "stderr",
     "output_type": "stream",
     "text": [
      "[*] claims_transactions <==> providers Runs:1: 100%|██████████| 1/1 [00:01<00:00,  1.22s/it]\n"
     ]
    },
    {
     "name": "stdout",
     "output_type": "stream",
     "text": [
      "Found 1 potential link(s).\n",
      "\n",
      "--- Comparing 'claims_transactions' <=> 'organizations' ---\n"
     ]
    },
    {
     "name": "stderr",
     "output_type": "stream",
     "text": [
      "[*] claims_transactions <==> organizations Runs:1: 100%|██████████| 1/1 [00:00<00:00,  1.03it/s]\n"
     ]
    },
    {
     "name": "stdout",
     "output_type": "stream",
     "text": [
      "No links found for this pair.\n",
      "\n",
      "--- Comparing 'medications' <=> 'observations' ---\n"
     ]
    },
    {
     "name": "stderr",
     "output_type": "stream",
     "text": [
      "[*] medications <==> observations Runs:1: 100%|██████████| 1/1 [00:01<00:00,  1.60s/it]\n"
     ]
    },
    {
     "name": "stdout",
     "output_type": "stream",
     "text": [
      "No links found for this pair.\n",
      "\n",
      "--- Comparing 'medications' <=> 'encounters' ---\n"
     ]
    },
    {
     "name": "stderr",
     "output_type": "stream",
     "text": [
      "[*] medications <==> encounters Runs:1: 100%|██████████| 1/1 [00:06<00:00,  6.08s/it]\n"
     ]
    },
    {
     "name": "stdout",
     "output_type": "stream",
     "text": [
      "Found 1 potential link(s).\n",
      "\n",
      "--- Comparing 'medications' <=> 'careplans' ---\n"
     ]
    },
    {
     "name": "stderr",
     "output_type": "stream",
     "text": [
      "[*] medications <==> careplans Runs:1: 100%|██████████| 1/1 [00:10<00:00, 10.22s/it]\n"
     ]
    },
    {
     "name": "stdout",
     "output_type": "stream",
     "text": [
      "Found 1 potential link(s).\n",
      "\n",
      "--- Comparing 'medications' <=> 'immunizations' ---\n"
     ]
    },
    {
     "name": "stderr",
     "output_type": "stream",
     "text": [
      "[*] medications <==> immunizations Runs:1: 100%|██████████| 1/1 [00:13<00:00, 13.59s/it]\n"
     ]
    },
    {
     "name": "stdout",
     "output_type": "stream",
     "text": [
      "No links found for this pair.\n",
      "\n",
      "--- Comparing 'medications' <=> 'patients' ---\n"
     ]
    },
    {
     "name": "stderr",
     "output_type": "stream",
     "text": [
      "[*] medications <==> patients Runs:1: 100%|██████████| 1/1 [00:08<00:00,  8.45s/it]\n"
     ]
    },
    {
     "name": "stdout",
     "output_type": "stream",
     "text": [
      "Found 1 potential link(s).\n",
      "\n",
      "--- Comparing 'medications' <=> 'allergies' ---\n"
     ]
    },
    {
     "name": "stderr",
     "output_type": "stream",
     "text": [
      "[*] medications <==> allergies Runs:1: 100%|██████████| 1/1 [00:02<00:00,  2.83s/it]\n"
     ]
    },
    {
     "name": "stdout",
     "output_type": "stream",
     "text": [
      "No links found for this pair.\n",
      "\n",
      "--- Comparing 'medications' <=> 'providers' ---\n"
     ]
    },
    {
     "name": "stderr",
     "output_type": "stream",
     "text": [
      "[*] medications <==> providers Runs:1: 100%|██████████| 1/1 [00:00<00:00,  1.11it/s]\n"
     ]
    },
    {
     "name": "stdout",
     "output_type": "stream",
     "text": [
      "Found 1 potential link(s).\n",
      "\n",
      "--- Comparing 'medications' <=> 'organizations' ---\n"
     ]
    },
    {
     "name": "stderr",
     "output_type": "stream",
     "text": [
      "[*] medications <==> organizations Runs:1: 100%|██████████| 1/1 [00:03<00:00,  3.79s/it]\n"
     ]
    },
    {
     "name": "stdout",
     "output_type": "stream",
     "text": [
      "Found 1 potential link(s).\n",
      "\n",
      "--- Comparing 'observations' <=> 'encounters' ---\n"
     ]
    },
    {
     "name": "stderr",
     "output_type": "stream",
     "text": [
      "[*] observations <==> encounters Runs:1: 100%|██████████| 1/1 [00:01<00:00,  1.03s/it]\n"
     ]
    },
    {
     "name": "stdout",
     "output_type": "stream",
     "text": [
      "Found 1 potential link(s).\n",
      "\n",
      "--- Comparing 'observations' <=> 'careplans' ---\n"
     ]
    },
    {
     "name": "stderr",
     "output_type": "stream",
     "text": [
      "[*] observations <==> careplans Runs:1: 100%|██████████| 1/1 [00:00<00:00,  1.04it/s]\n"
     ]
    },
    {
     "name": "stdout",
     "output_type": "stream",
     "text": [
      "Found 1 potential link(s).\n",
      "\n",
      "--- Comparing 'observations' <=> 'immunizations' ---\n"
     ]
    },
    {
     "name": "stderr",
     "output_type": "stream",
     "text": [
      "[*] observations <==> immunizations Runs:1: 100%|██████████| 1/1 [00:01<00:00,  1.55s/it]\n"
     ]
    },
    {
     "name": "stdout",
     "output_type": "stream",
     "text": [
      "No links found for this pair.\n",
      "\n",
      "--- Comparing 'observations' <=> 'patients' ---\n"
     ]
    },
    {
     "name": "stderr",
     "output_type": "stream",
     "text": [
      "[*] observations <==> patients Runs:1: 100%|██████████| 1/1 [00:00<00:00,  1.04it/s]\n"
     ]
    },
    {
     "name": "stdout",
     "output_type": "stream",
     "text": [
      "Found 1 potential link(s).\n",
      "\n",
      "--- Comparing 'observations' <=> 'allergies' ---\n"
     ]
    },
    {
     "name": "stderr",
     "output_type": "stream",
     "text": [
      "[*] observations <==> allergies Runs:1: 100%|██████████| 1/1 [00:01<00:00,  1.59s/it]\n"
     ]
    },
    {
     "name": "stdout",
     "output_type": "stream",
     "text": [
      "No links found for this pair.\n",
      "\n",
      "--- Comparing 'observations' <=> 'providers' ---\n"
     ]
    },
    {
     "name": "stderr",
     "output_type": "stream",
     "text": [
      "[*] observations <==> providers Runs:1: 100%|██████████| 1/1 [00:00<00:00,  1.13it/s]\n"
     ]
    },
    {
     "name": "stdout",
     "output_type": "stream",
     "text": [
      "No links found for this pair.\n",
      "\n",
      "--- Comparing 'observations' <=> 'organizations' ---\n"
     ]
    },
    {
     "name": "stderr",
     "output_type": "stream",
     "text": [
      "[*] observations <==> organizations Runs:1: 100%|██████████| 1/1 [00:00<00:00,  1.08it/s]\n"
     ]
    },
    {
     "name": "stdout",
     "output_type": "stream",
     "text": [
      "No links found for this pair.\n",
      "\n",
      "--- Comparing 'encounters' <=> 'careplans' ---\n"
     ]
    },
    {
     "name": "stderr",
     "output_type": "stream",
     "text": [
      "[*] encounters <==> careplans Runs:1: 100%|██████████| 1/1 [00:01<00:00,  1.09s/it]\n"
     ]
    },
    {
     "name": "stdout",
     "output_type": "stream",
     "text": [
      "Found 1 potential link(s).\n",
      "\n",
      "--- Comparing 'encounters' <=> 'immunizations' ---\n"
     ]
    },
    {
     "name": "stderr",
     "output_type": "stream",
     "text": [
      "[*] encounters <==> immunizations Runs:1: 100%|██████████| 1/1 [00:01<00:00,  1.03s/it]\n"
     ]
    },
    {
     "name": "stdout",
     "output_type": "stream",
     "text": [
      "Found 1 potential link(s).\n",
      "\n",
      "--- Comparing 'encounters' <=> 'patients' ---\n"
     ]
    },
    {
     "name": "stderr",
     "output_type": "stream",
     "text": [
      "[*] encounters <==> patients Runs:1: 100%|██████████| 1/1 [00:00<00:00,  1.03it/s]\n"
     ]
    },
    {
     "name": "stdout",
     "output_type": "stream",
     "text": [
      "Found 1 potential link(s).\n",
      "\n",
      "--- Comparing 'encounters' <=> 'allergies' ---\n"
     ]
    },
    {
     "name": "stderr",
     "output_type": "stream",
     "text": [
      "[*] encounters <==> allergies Runs:1: 100%|██████████| 1/1 [00:00<00:00,  1.02it/s]\n"
     ]
    },
    {
     "name": "stdout",
     "output_type": "stream",
     "text": [
      "Found 1 potential link(s).\n",
      "\n",
      "--- Comparing 'encounters' <=> 'providers' ---\n"
     ]
    },
    {
     "name": "stderr",
     "output_type": "stream",
     "text": [
      "[*] encounters <==> providers Runs:1: 100%|██████████| 1/1 [00:01<00:00,  1.96s/it]\n"
     ]
    },
    {
     "name": "stdout",
     "output_type": "stream",
     "text": [
      "Found 1 potential link(s).\n",
      "\n",
      "--- Comparing 'encounters' <=> 'organizations' ---\n"
     ]
    },
    {
     "name": "stderr",
     "output_type": "stream",
     "text": [
      "[*] encounters <==> organizations Runs:1: 100%|██████████| 1/1 [00:10<00:00, 10.11s/it]\n"
     ]
    },
    {
     "name": "stdout",
     "output_type": "stream",
     "text": [
      "Found 1 potential link(s).\n",
      "\n",
      "--- Comparing 'careplans' <=> 'immunizations' ---\n"
     ]
    },
    {
     "name": "stderr",
     "output_type": "stream",
     "text": [
      "[*] careplans <==> immunizations Runs:1: 100%|██████████| 1/1 [00:13<00:00, 13.63s/it]\n"
     ]
    },
    {
     "name": "stdout",
     "output_type": "stream",
     "text": [
      "No links found for this pair.\n",
      "\n",
      "--- Comparing 'careplans' <=> 'patients' ---\n"
     ]
    },
    {
     "name": "stderr",
     "output_type": "stream",
     "text": [
      "[*] careplans <==> patients Runs:1: 100%|██████████| 1/1 [00:11<00:00, 11.53s/it]\n"
     ]
    },
    {
     "name": "stdout",
     "output_type": "stream",
     "text": [
      "Found 1 potential link(s).\n",
      "\n",
      "--- Comparing 'careplans' <=> 'allergies' ---\n"
     ]
    },
    {
     "name": "stderr",
     "output_type": "stream",
     "text": [
      "[*] careplans <==> allergies Runs:1: 100%|██████████| 1/1 [00:01<00:00,  1.51s/it]\n"
     ]
    },
    {
     "name": "stdout",
     "output_type": "stream",
     "text": [
      "No links found for this pair.\n",
      "\n",
      "--- Comparing 'careplans' <=> 'providers' ---\n"
     ]
    },
    {
     "name": "stderr",
     "output_type": "stream",
     "text": [
      "[*] careplans <==> providers Runs:1: 100%|██████████| 1/1 [00:00<00:00,  1.06it/s]\n"
     ]
    },
    {
     "name": "stdout",
     "output_type": "stream",
     "text": [
      "No links found for this pair.\n",
      "\n",
      "--- Comparing 'careplans' <=> 'organizations' ---\n"
     ]
    },
    {
     "name": "stderr",
     "output_type": "stream",
     "text": [
      "[*] careplans <==> organizations Runs:1: 100%|██████████| 1/1 [00:00<00:00,  1.13it/s]\n"
     ]
    },
    {
     "name": "stdout",
     "output_type": "stream",
     "text": [
      "No links found for this pair.\n",
      "\n",
      "--- Comparing 'immunizations' <=> 'patients' ---\n"
     ]
    },
    {
     "name": "stderr",
     "output_type": "stream",
     "text": [
      "[*] immunizations <==> patients Runs:1: 100%|██████████| 1/1 [00:01<00:00,  1.09s/it]\n"
     ]
    },
    {
     "name": "stdout",
     "output_type": "stream",
     "text": [
      "Found 1 potential link(s).\n",
      "\n",
      "--- Comparing 'immunizations' <=> 'allergies' ---\n"
     ]
    },
    {
     "name": "stderr",
     "output_type": "stream",
     "text": [
      "[*] immunizations <==> allergies Runs:1: 100%|██████████| 1/1 [00:01<00:00,  1.48s/it]\n"
     ]
    },
    {
     "name": "stdout",
     "output_type": "stream",
     "text": [
      "No links found for this pair.\n",
      "\n",
      "--- Comparing 'immunizations' <=> 'providers' ---\n"
     ]
    },
    {
     "name": "stderr",
     "output_type": "stream",
     "text": [
      "[*] immunizations <==> providers Runs:1: 100%|██████████| 1/1 [00:00<00:00,  1.09it/s]\n"
     ]
    },
    {
     "name": "stdout",
     "output_type": "stream",
     "text": [
      "No links found for this pair.\n",
      "\n",
      "--- Comparing 'immunizations' <=> 'organizations' ---\n"
     ]
    },
    {
     "name": "stderr",
     "output_type": "stream",
     "text": [
      "[*] immunizations <==> organizations Runs:1: 100%|██████████| 1/1 [00:00<00:00,  1.19it/s]\n"
     ]
    },
    {
     "name": "stdout",
     "output_type": "stream",
     "text": [
      "No links found for this pair.\n",
      "\n",
      "--- Comparing 'patients' <=> 'allergies' ---\n"
     ]
    },
    {
     "name": "stderr",
     "output_type": "stream",
     "text": [
      "[*] patients <==> allergies Runs:1: 100%|██████████| 1/1 [00:03<00:00,  3.25s/it]\n"
     ]
    },
    {
     "name": "stdout",
     "output_type": "stream",
     "text": [
      "Found 1 potential link(s).\n",
      "\n",
      "--- Comparing 'patients' <=> 'providers' ---\n"
     ]
    },
    {
     "name": "stderr",
     "output_type": "stream",
     "text": [
      "[*] patients <==> providers Runs:1: 100%|██████████| 1/1 [00:00<00:00,  1.04it/s]\n"
     ]
    },
    {
     "name": "stdout",
     "output_type": "stream",
     "text": [
      "No links found for this pair.\n",
      "\n",
      "--- Comparing 'patients' <=> 'organizations' ---\n"
     ]
    },
    {
     "name": "stderr",
     "output_type": "stream",
     "text": [
      "[*] patients <==> organizations Runs:1: 100%|██████████| 1/1 [00:00<00:00,  1.06it/s]\n"
     ]
    },
    {
     "name": "stdout",
     "output_type": "stream",
     "text": [
      "No links found for this pair.\n",
      "\n",
      "--- Comparing 'allergies' <=> 'providers' ---\n"
     ]
    },
    {
     "name": "stderr",
     "output_type": "stream",
     "text": [
      "[*] allergies <==> providers Runs:1: 100%|██████████| 1/1 [00:00<00:00,  1.01it/s]\n"
     ]
    },
    {
     "name": "stdout",
     "output_type": "stream",
     "text": [
      "No links found for this pair.\n",
      "\n",
      "--- Comparing 'allergies' <=> 'organizations' ---\n"
     ]
    },
    {
     "name": "stderr",
     "output_type": "stream",
     "text": [
      "[*] allergies <==> organizations Runs:1: 100%|██████████| 1/1 [00:00<00:00,  1.04it/s]\n"
     ]
    },
    {
     "name": "stdout",
     "output_type": "stream",
     "text": [
      "No links found for this pair.\n",
      "\n",
      "--- Comparing 'providers' <=> 'organizations' ---\n"
     ]
    },
    {
     "name": "stderr",
     "output_type": "stream",
     "text": [
      "[*] providers <==> organizations Runs:1: 100%|██████████| 1/1 [00:00<00:00,  1.09it/s]"
     ]
    },
    {
     "name": "stdout",
     "output_type": "stream",
     "text": [
      "Found 1 potential link(s).\n"
     ]
    },
    {
     "name": "stderr",
     "output_type": "stream",
     "text": [
      "\n"
     ]
    }
   ],
   "source": [
    "# Initialize the predictor\n",
    "predictor = LinkPredictor(list(datasets.values()))\n",
    "\n",
    "# Run the prediction\n",
    "results = predictor.predict()"
   ]
  },
  {
   "cell_type": "code",
   "execution_count": 17,
   "id": "a44b7f3d",
   "metadata": {},
   "outputs": [
    {
     "data": {
      "text/plain": [
       "LinkPredictionResult(links=[PredictedLink(from_dataset='conditions', from_column='encounter', to_dataset='encounters', to_column='id'), PredictedLink(from_dataset='conditions', from_column='encounter', to_dataset='careplans', to_column='encounter'), PredictedLink(from_dataset='conditions', from_column='patient', to_dataset='patients', to_column='id'), PredictedLink(from_dataset='claims', from_column='id', to_dataset='claims_transactions', to_column='claimid'), PredictedLink(from_dataset='claims', from_column='patientid', to_dataset='patients', to_column='id'), PredictedLink(from_dataset='claims', from_column='providerid', to_dataset='providers', to_column='id'), PredictedLink(from_dataset='claims', from_column='providerid', to_dataset='organizations', to_column='id'), PredictedLink(from_dataset='claims_transactions', from_column='patientid', to_dataset='patients', to_column='id'), PredictedLink(from_dataset='claims_transactions', from_column='providerid', to_dataset='providers', to_column='id'), PredictedLink(from_dataset='medications', from_column='encounter', to_dataset='encounters', to_column='id'), PredictedLink(from_dataset='medications', from_column='encounter', to_dataset='careplans', to_column='encounter'), PredictedLink(from_dataset='medications', from_column='patient', to_dataset='patients', to_column='id'), PredictedLink(from_dataset='medications', from_column='encounter', to_dataset='providers', to_column='id'), PredictedLink(from_dataset='medications', from_column='payer', to_dataset='organizations', to_column='id'), PredictedLink(from_dataset='observations', from_column='encounter', to_dataset='encounters', to_column='id'), PredictedLink(from_dataset='observations', from_column='encounter', to_dataset='careplans', to_column='encounter'), PredictedLink(from_dataset='observations', from_column='patient', to_dataset='patients', to_column='id'), PredictedLink(from_dataset='encounters', from_column='id', to_dataset='careplans', to_column='encounter'), PredictedLink(from_dataset='encounters', from_column='id', to_dataset='immunizations', to_column='encounter'), PredictedLink(from_dataset='encounters', from_column='patient', to_dataset='patients', to_column='id'), PredictedLink(from_dataset='encounters', from_column='id', to_dataset='allergies', to_column='encounter'), PredictedLink(from_dataset='encounters', from_column='provider', to_dataset='providers', to_column='id'), PredictedLink(from_dataset='encounters', from_column='organization', to_dataset='organizations', to_column='id'), PredictedLink(from_dataset='careplans', from_column='patient', to_dataset='patients', to_column='id'), PredictedLink(from_dataset='immunizations', from_column='patient', to_dataset='patients', to_column='id'), PredictedLink(from_dataset='patients', from_column='id', to_dataset='allergies', to_column='patient'), PredictedLink(from_dataset='providers', from_column='organization', to_dataset='organizations', to_column='id')])"
      ]
     },
     "execution_count": 17,
     "metadata": {},
     "output_type": "execute_result"
    }
   ],
   "source": [
    "results"
   ]
  },
  {
   "cell_type": "code",
   "execution_count": 23,
   "id": "81c285ff",
   "metadata": {},
   "outputs": [],
   "source": [
    "LinkPredictionSaver.save_yaml(results, \"__relationships__.yaml\")"
   ]
  }
 ],
 "metadata": {
  "kernelspec": {
   "display_name": "data-tools",
   "language": "python",
   "name": "python3"
  },
  "language_info": {
   "codemirror_mode": {
    "name": "ipython",
    "version": 3
   },
   "file_extension": ".py",
   "mimetype": "text/x-python",
   "name": "python",
   "nbconvert_exporter": "python",
   "pygments_lexer": "ipython3",
   "version": "3.12.3"
  }
 },
 "nbformat": 4,
 "nbformat_minor": 5
}
