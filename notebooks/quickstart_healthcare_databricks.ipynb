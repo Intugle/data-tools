{
 "cells": [
  {
   "cell_type": "markdown",
   "metadata": {
    "application/vnd.databricks.v1+cell": {
     "cellMetadata": {},
     "inputWidgets": {},
     "nuid": "0d192dbf-bae0-4ac5-ad61-c70a77ad503b",
     "showTitle": false,
     "tableResultSettingsMap": {},
     "title": ""
    }
   },
   "source": [
    "# Quickstart: Building a GenAI powered Semantic Data Model with Intugle\n",
    "\n",
    "This quickstart shows you how to use Intugle’s open-source library to transform fragmented datasets into a connected semantic model. The semantic model captures profiling, relationships, and business meaning of your data — making it instantly usable for exploration, search, and data product creation.\n",
    "\n",
    "**What is a Semantic Model?**\n",
    "\n",
    "A semantic model is an intelligent knowledge graph of your data. It connects tables, discovers relationships, and enriches them with business glossaries — so both data teams and business users can query with clarity, not complexity.\n",
    "\n",
    "**Who is this for?**\n",
    "\n",
    "*   **Data Engineers & Architects** often spend weeks manually profiling, classifying, and stitching together fragmented data assets. With Intugle, they can automate this process end-to-end, uncovering meaningful links and relationships to instantly generate a connected semantic layer.\n",
    "*   **Data Analysts & Scientists** spend endless hours on data readiness and preparation before they can even start the real analysis. Intugle accelerates this by providing contextual intelligence, automatically generating SQL and reusable data products enriched with relationships and business meaning.\n",
    "*   **Business Analysts & Decision Makers** are slowed down by constant dependence on technical teams for answers. Intugle removes this bottleneck by enabling natural language queries and semantic search, giving them trusted insights on demand.\n",
    "\n",
    "**In this notebook, you will learn how to:**\n",
    "\n",
    "*   **Generate Semantic Model** → The unified layer that transforms fragmented datasets, creating the foundation for connected intelligence.\n",
    "    *   **1.1 Profile and classify data** → Analyze your data sources to understand their structure, data types, and other characteristics.\n",
    "    *   **1.2 Discover links & relationships among data** → Reveal meaningful connections (PK & FK) across fragmented tables.\n",
    "    *   **1.3 Generate a business glossary** → Create business-friendly terms and use them to query data with context.\n",
    "    *   **1.4 Enable Semantic search** → Intelligent search that understands meaning, not just keywords—making data more accessible across both technical and business users.\n",
    "    *   **1.5 Visualize semantic model** → Get access to enriched metadata of the semantic model and visualize your data and relationships.\n",
    "*   **Build Unified Data Products** → Simply pick the attributes across your data tables, and let the toolkit auto-generate queries with all the required joins, transformations, and aggregations using the semantic layer. When executed, these queries produce reusable data products.\n",
    "\n",
    "Before you start, make sure you install the **Intugle Data Tools**:"
   ]
  },
  {
   "cell_type": "code",
   "execution_count": 0,
   "metadata": {
    "application/vnd.databricks.v1+cell": {
     "cellMetadata": {},
     "inputWidgets": {},
     "nuid": "9d69bb52-5158-4767-a6eb-981851d94e68",
     "showTitle": false,
     "tableResultSettingsMap": {},
     "title": ""
    }
   },
   "outputs": [],
   "source": [
    "%pip install intugle"
   ]
  },
  {
   "cell_type": "markdown",
   "metadata": {
    "application/vnd.databricks.v1+cell": {
     "cellMetadata": {},
     "inputWidgets": {},
     "nuid": "ef6d7c18-330f-42ef-bddd-818e4774e897",
     "showTitle": false,
     "tableResultSettingsMap": {},
     "title": ""
    }
   },
   "source": [
    "This project also has a dependency on sqlglot. Make sure you install sqlglot as well:"
   ]
  },
  {
   "cell_type": "code",
   "execution_count": 0,
   "metadata": {
    "application/vnd.databricks.v1+cell": {
     "cellMetadata": {},
     "inputWidgets": {},
     "nuid": "8ba366c0-2897-4905-8677-93adeb330a2d",
     "showTitle": false,
     "tableResultSettingsMap": {},
     "title": ""
    }
   },
   "outputs": [],
   "source": [
    "%pip install sqlglot"
   ]
  },
  {
   "cell_type": "markdown",
   "metadata": {
    "application/vnd.databricks.v1+cell": {
     "cellMetadata": {},
     "inputWidgets": {},
     "nuid": "c17cad38-309d-437b-b159-10a65eab3c58",
     "showTitle": false,
     "tableResultSettingsMap": {},
     "title": ""
    }
   },
   "source": [
    "## 1. LLM Configuration\n",
    "\n",
    "Before running the project, you need to configure a Large Language Model (LLM). This is used for tasks like generating business glossaries and predicting links between tables. For detailed setup instructions, please refer to the [README.md](https://github.com/Intugle/data-tools/blob/main/README.md) file.\n",
    "\n",
    "You can configure the necessary services by setting the following environment variables:\n",
    "\n",
    "*   `LLM_PROVIDER`: The LLM provider and model to use (e.g., `openai:gpt-3.5-turbo`). The format follows langchain's format for initializing chat models. Checkout how to specify your model [here](https://python.langchain.com/docs/integrations/chat/)\n",
    "*   `API_KEY`: Your API key for the LLM provider. The exact name of the variable may vary from provider to provider (e.g., `OPENAI_API_KEY`, `ANTHROPIC_API_KEY`).\n",
    "\n",
    "Here's an example of how to set these variables in your environment:\n",
    "\n",
    "```bash\n",
    "export LLM_PROVIDER=\"openai:gpt-3.5-turbo\"\n",
    "export OPENAI_API_KEY=\"your-openai-api-key\"\n",
    "```\n",
    "Alternatively, you can set them in the notebook like this:"
   ]
  },
  {
   "cell_type": "code",
   "execution_count": 0,
   "metadata": {
    "application/vnd.databricks.v1+cell": {
     "cellMetadata": {
      "byteLimit": 2048000,
      "rowLimit": 10000
     },
     "inputWidgets": {},
     "nuid": "54e202fe-a178-4a45-8fc6-435ae6cf15be",
     "showTitle": false,
     "tableResultSettingsMap": {},
     "title": ""
    }
   },
   "outputs": [],
   "source": [
    "import os\n",
    "\n",
    "os.environ[\"LLM_PROVIDER\"] = \"openai:gpt-3.5-turbo\"\n",
    "os.environ[\"OPENAI_API_KEY\"] = \"your-openai-api-key\"  # Replace with your actual key\n"
   ]
  },
  {
   "cell_type": "markdown",
   "metadata": {
    "application/vnd.databricks.v1+cell": {
     "cellMetadata": {
      "byteLimit": 2048000,
      "rowLimit": 10000
     },
     "inputWidgets": {},
     "nuid": "377bd8ea-b404-44b1-a10e-65c85c42cbd3",
     "showTitle": false,
     "tableResultSettingsMap": {},
     "title": ""
    }
   },
   "source": [
    "> Currently the langchain packages for OpenAI, Anthropic and Gemini is installed by default. For additional models, make sure you have the integration packages installed. E.g. you should have langchain-deepseek installed to use a DeepSeek model. You can get these packages here: [LangChain Chat Models](https://python.langchain.com/docs/integrations/chat/)"
   ]
  },
  {
   "cell_type": "markdown",
   "metadata": {
    "application/vnd.databricks.v1+cell": {
     "cellMetadata": {
      "byteLimit": 2048000,
      "rowLimit": 10000
     },
     "inputWidgets": {},
     "nuid": "421fda1a-e340-47f9-a83c-a21564d6348f",
     "showTitle": false,
     "tableResultSettingsMap": {},
     "title": ""
    }
   },
   "source": [
    "## 2. Building the Semantic Model\n",
    "\n",
    "The `SemanticModel` is the entry point for building your semantic layer. It takes a dictionary of datasets as input and performs the following steps:\n",
    "\n",
    "1.  **Data Profiling:** Calculates statistics for each column, such as distinct count, uniqueness, and completeness.\n",
    "2.  **Datatype Identification:** Identifies the data type of each column (e.g., integer, string, datetime).\n",
    "3.  **Key Identification:** Identifies potential primary keys.\n",
    "4.  **Glossary Generation:** Generates a business glossary for each column using an LLM.\n",
    "5.  **Link Prediction:** Predicts the relationships (foreign keys) between tables.\n",
    "\n",
    "Let's start by defining the datasets we want to use. The path shown below can be a local file path or a remote URL."
   ]
  },
  {
   "cell_type": "code",
   "execution_count": 0,
   "metadata": {
    "application/vnd.databricks.v1+cell": {
     "cellMetadata": {
      "byteLimit": 2048000,
      "rowLimit": 10000
     },
     "inputWidgets": {},
     "nuid": "97e3b4aa-337b-49f7-8a4a-916f83ab819e",
     "showTitle": false,
     "tableResultSettingsMap": {},
     "title": ""
    }
   },
   "outputs": [],
   "source": [
    "def generate_config(table_name: str) -> str:\n",
    "    \"\"\"Append the base URL to the table name.\"\"\"\n",
    "    return {\n",
    "        \"path\": f\"/Volumes/intugle/default/sample_datasets/{table_name}.csv\",   # replace with your path volume path in databricks\n",
    "        \"type\": \"csv\",\n",
    "    }\n",
    "\n",
    "\n",
    "table_names = [\n",
    "    \"allergies\",\n",
    "    \"careplans\",\n",
    "    \"claims\",\n",
    "    \"claims_transactions\",\n",
    "    \"devices\",\n",
    "    \"encounters\",\n",
    "    \"medications\",\n",
    "    \"patients\",\n",
    "]\n",
    "\n",
    "datasets = {table: generate_config(table) for table in table_names}"
   ]
  },
  {
   "cell_type": "markdown",
   "metadata": {
    "application/vnd.databricks.v1+cell": {
     "cellMetadata": {
      "byteLimit": 2048000,
      "rowLimit": 10000
     },
     "inputWidgets": {},
     "nuid": "1fa7f2ff-d708-49b1-9541-7b406d2f82c4",
     "showTitle": false,
     "tableResultSettingsMap": {},
     "title": ""
    }
   },
   "source": [
    "Now, let's use the `SemanticModel` to build our semantic layer:\n",
    "\n",
    "> The `domain` parameter helps the LLM generate a more contextual business glossary. It specifies the industry domain that the dataset belongs to (e.g., \"Healthcare\", \"Finance\", \"E-commerce\")."
   ]
  },
  {
   "cell_type": "code",
   "execution_count": 0,
   "metadata": {
    "application/vnd.databricks.v1+cell": {
     "cellMetadata": {
      "byteLimit": 2048000,
      "rowLimit": 10000
     },
     "inputWidgets": {},
     "nuid": "114bbb96-3d13-4b04-9b4e-fbac089d7781",
     "showTitle": false,
     "tableResultSettingsMap": {},
     "title": ""
    }
   },
   "outputs": [
    {
     "name": "stderr",
     "output_type": "stream",
     "text": [
      "Exception ignored on calling ctypes callback function: <function _ThreadpoolInfo._find_modules_with_dl_iterate_phdr.<locals>.match_module_callback at 0x7f9a0df46e80>\n",
      "Traceback (most recent call last):\n",
      "  File \"/databricks/python/lib/python3.12/site-packages/threadpoolctl.py\", line 400, in match_module_callback\n",
      "    self._make_module_from_path(filepath)\n",
      "  File \"/databricks/python/lib/python3.12/site-packages/threadpoolctl.py\", line 515, in _make_module_from_path\n",
      "    module = module_class(filepath, prefix, user_api, internal_api)\n",
      "             ^^^^^^^^^^^^^^^^^^^^^^^^^^^^^^^^^^^^^^^^^^^^^^^^^^^^^^\n",
      "  File \"/databricks/python/lib/python3.12/site-packages/threadpoolctl.py\", line 606, in __init__\n",
      "    self.version = self.get_version()\n",
      "                   ^^^^^^^^^^^^^^^^^^\n",
      "  File \"/databricks/python/lib/python3.12/site-packages/threadpoolctl.py\", line 646, in get_version\n",
      "    config = get_config().split()\n",
      "             ^^^^^^^^^^^^^^^^^^\n",
      "AttributeError: 'NoneType' object has no attribute 'split'\n",
      "[nltk_data] Downloading package words to /home/spark-\n",
      "[nltk_data]     be50f3e0-0e39-4b76-80e9-7a/nltk_data...\n",
      "[nltk_data]   Unzipping corpora/words.zip.\n",
      "[nltk_data] Downloading package punkt to /home/spark-\n",
      "[nltk_data]     be50f3e0-0e39-4b76-80e9-7a/nltk_data...\n",
      "[nltk_data]   Unzipping tokenizers/punkt.zip.\n",
      "[nltk_data] Downloading package stopwords to /home/spark-\n",
      "[nltk_data]     be50f3e0-0e39-4b76-80e9-7a/nltk_data...\n",
      "[nltk_data]   Unzipping corpora/stopwords.zip.\n",
      "/databricks/python_shell/lib/dbruntime/autoreload/discoverability/autoreload_discoverability_hook.py:72: UserWarning: Field name \"schema\" in \"Source\" shadows an attribute in parent \"BaseResource\"\n",
      "  return orig_warn(*args, **kwargs)\n"
     ]
    },
    {
     "name": "stdout",
     "output_type": "stream",
     "text": [
      "Found existing YAML for 'allergies'. Checking for staleness.\n",
      "allergies loaded\n",
      "Found existing YAML for 'careplans'. Checking for staleness.\n",
      "careplans loaded\n",
      "Found existing YAML for 'claims'. Checking for staleness.\n",
      "claims loaded\n",
      "Found existing YAML for 'claims_transactions'. Checking for staleness.\n",
      "claims_transactions loaded\n",
      "Found existing YAML for 'devices'. Checking for staleness.\n",
      "devices loaded\n",
      "Found existing YAML for 'encounters'. Checking for staleness.\n",
      "encounters loaded\n",
      "Found existing YAML for 'medications'. Checking for staleness.\n",
      "medications loaded\n",
      "Found existing YAML for 'patients'. Checking for staleness.\n",
      "patients loaded\n"
     ]
    },
    {
     "data": {
      "text/html": [
       "<pre style=\"white-space:pre;overflow-x:auto;line-height:normal;font-family:Menlo,'DejaVu Sans Mono',consolas,'Courier New',monospace\"><span style=\"color: #808000; text-decoration-color: #808000\">Starting profiling and key identification stage...</span>\n",
       "</pre>\n"
      ],
      "text/plain": [
       "\u001b[33mStarting profiling and key identification stage\u001b[0m\u001b[33m...\u001b[0m\n"
      ]
     },
     "metadata": {},
     "output_type": "display_data"
    },
    {
     "name": "stdout",
     "output_type": "stream",
     "text": [
      "Dataset 'allergies' already profiled. Skipping.\n",
      "Dataset 'careplans' already profiled. Skipping.\n",
      "Dataset 'claims' already profiled. Skipping.\n",
      "Dataset 'claims_transactions' already profiled. Skipping.\n",
      "Dataset 'devices' already profiled. Skipping.\n",
      "Dataset 'encounters' already profiled. Skipping.\n",
      "Dataset 'medications' already profiled. Skipping.\n",
      "Dataset 'patients' already profiled. Skipping.\n"
     ]
    },
    {
     "data": {
      "text/html": [
       "<pre style=\"white-space:pre;overflow-x:auto;line-height:normal;font-family:Menlo,'DejaVu Sans Mono',consolas,'Courier New',monospace\"><span style=\"color: #008000; text-decoration-color: #008000; font-weight: bold\">Profiling and key identification complete.</span>\n",
       "</pre>\n"
      ],
      "text/plain": [
       "\u001b[1;32mProfiling and key identification complete.\u001b[0m\n"
      ]
     },
     "metadata": {},
     "output_type": "display_data"
    },
    {
     "data": {
      "text/html": [
       "<pre style=\"white-space:pre;overflow-x:auto;line-height:normal;font-family:Menlo,'DejaVu Sans Mono',consolas,'Courier New',monospace\"><span style=\"color: #808000; text-decoration-color: #808000\">Starting link prediction stage...</span>\n",
       "</pre>\n"
      ],
      "text/plain": [
       "\u001b[33mStarting link prediction stage\u001b[0m\u001b[33m...\u001b[0m\n"
      ]
     },
     "metadata": {},
     "output_type": "display_data"
    },
    {
     "name": "stdout",
     "output_type": "stream",
     "text": [
      "Dataset 'allergies' already processed. Skipping analysis.\n",
      "Dataset 'careplans' already processed. Skipping analysis.\n",
      "Dataset 'claims' already processed. Skipping analysis.\n",
      "Dataset 'claims_transactions' already processed. Skipping analysis.\n",
      "Dataset 'devices' already processed. Skipping analysis.\n",
      "Dataset 'encounters' already processed. Skipping analysis.\n",
      "Dataset 'medications' already processed. Skipping analysis.\n",
      "Dataset 'patients' already processed. Skipping analysis.\n",
      "LinkPredictor initialized with datasets: ['allergies', 'careplans', 'claims', 'claims_transactions', 'devices', 'encounters', 'medications', 'patients']\n",
      "\n",
      "--- Comparing 'allergies' <=> 'careplans' ---\n"
     ]
    },
    {
     "name": "stderr",
     "output_type": "stream",
     "text": [
      "\r  0%|          | 0/1 [00:00<?, ?it/s]\r[*] allergies <==> careplans Runs:1:   0%|          | 0/1 [00:00<?, ?it/s]\r[*] allergies <==> careplans Runs:1: 100%|██████████| 1/1 [00:02<00:00,  2.96s/it]\r[*] allergies <==> careplans Runs:1: 100%|██████████| 1/1 [00:02<00:00,  2.96s/it]\n"
     ]
    },
    {
     "name": "stdout",
     "output_type": "stream",
     "text": [
      "No links found for this pair.\n",
      "\n",
      "--- Comparing 'allergies' <=> 'claims' ---\n"
     ]
    },
    {
     "name": "stderr",
     "output_type": "stream",
     "text": [
      "\r  0%|          | 0/1 [00:00<?, ?it/s]\r[*] allergies <==> claims Runs:1:   0%|          | 0/1 [00:00<?, ?it/s]\r[*] allergies <==> claims Runs:1: 100%|██████████| 1/1 [00:04<00:00,  4.03s/it]\r[*] allergies <==> claims Runs:1: 100%|██████████| 1/1 [00:04<00:00,  4.03s/it]\n"
     ]
    },
    {
     "name": "stdout",
     "output_type": "stream",
     "text": [
      "No links found for this pair.\n",
      "\n",
      "--- Comparing 'allergies' <=> 'claims_transactions' ---\n"
     ]
    },
    {
     "name": "stderr",
     "output_type": "stream",
     "text": [
      "\r  0%|          | 0/1 [00:00<?, ?it/s]\r[*] allergies <==> claims_transactions Runs:1:   0%|          | 0/1 [00:00<?, ?it/s]\r[*] allergies <==> claims_transactions Runs:1: 100%|██████████| 1/1 [00:03<00:00,  3.51s/it]\r[*] allergies <==> claims_transactions Runs:1: 100%|██████████| 1/1 [00:03<00:00,  3.51s/it]\n"
     ]
    },
    {
     "name": "stdout",
     "output_type": "stream",
     "text": [
      "No links found for this pair.\n",
      "\n",
      "--- Comparing 'allergies' <=> 'devices' ---\n"
     ]
    },
    {
     "name": "stderr",
     "output_type": "stream",
     "text": [
      "\r  0%|          | 0/1 [00:00<?, ?it/s]\r[*] allergies <==> devices Runs:1:   0%|          | 0/1 [00:00<?, ?it/s]\r[*] allergies <==> devices Runs:1: 100%|██████████| 1/1 [00:03<00:00,  3.62s/it]\r[*] allergies <==> devices Runs:1: 100%|██████████| 1/1 [00:03<00:00,  3.62s/it]\n"
     ]
    },
    {
     "name": "stdout",
     "output_type": "stream",
     "text": [
      "No links found for this pair.\n",
      "\n",
      "--- Comparing 'allergies' <=> 'encounters' ---\n"
     ]
    },
    {
     "name": "stderr",
     "output_type": "stream",
     "text": [
      "\r  0%|          | 0/1 [00:00<?, ?it/s]\r[*] allergies <==> encounters Runs:1:   0%|          | 0/1 [00:00<?, ?it/s]\r[*] allergies <==> encounters Runs:1: 100%|██████████| 1/1 [00:02<00:00,  2.15s/it]\r[*] allergies <==> encounters Runs:1: 100%|██████████| 1/1 [00:02<00:00,  2.15s/it]\n"
     ]
    },
    {
     "name": "stdout",
     "output_type": "stream",
     "text": [
      "Found 1 potential link(s).\n",
      "\n",
      "--- Comparing 'allergies' <=> 'medications' ---\n"
     ]
    },
    {
     "name": "stderr",
     "output_type": "stream",
     "text": [
      "\r  0%|          | 0/1 [00:00<?, ?it/s]\r[*] allergies <==> medications Runs:1:   0%|          | 0/1 [00:00<?, ?it/s]\r[*] allergies <==> medications Runs:1: 100%|██████████| 1/1 [00:05<00:00,  5.47s/it]\r[*] allergies <==> medications Runs:1: 100%|██████████| 1/1 [00:05<00:00,  5.47s/it]\n"
     ]
    },
    {
     "name": "stdout",
     "output_type": "stream",
     "text": [
      "No links found for this pair.\n",
      "\n",
      "--- Comparing 'allergies' <=> 'patients' ---\n"
     ]
    },
    {
     "name": "stderr",
     "output_type": "stream",
     "text": [
      "\r  0%|          | 0/1 [00:00<?, ?it/s]\r[*] allergies <==> patients Runs:1:   0%|          | 0/1 [00:00<?, ?it/s]\r[*] allergies <==> patients Runs:1: 100%|██████████| 1/1 [00:02<00:00,  2.05s/it]\r[*] allergies <==> patients Runs:1: 100%|██████████| 1/1 [00:02<00:00,  2.05s/it]\n"
     ]
    },
    {
     "name": "stdout",
     "output_type": "stream",
     "text": [
      "Found 1 potential link(s).\n",
      "\n",
      "--- Comparing 'careplans' <=> 'claims' ---\n"
     ]
    },
    {
     "name": "stderr",
     "output_type": "stream",
     "text": [
      "\r  0%|          | 0/1 [00:00<?, ?it/s]\r[*] careplans <==> claims Runs:1:   0%|          | 0/1 [00:00<?, ?it/s]\r[*] careplans <==> claims Runs:1: 100%|██████████| 1/1 [00:03<00:00,  3.68s/it]\r[*] careplans <==> claims Runs:1: 100%|██████████| 1/1 [00:03<00:00,  3.68s/it]\n"
     ]
    },
    {
     "name": "stdout",
     "output_type": "stream",
     "text": [
      "No links found for this pair.\n",
      "\n",
      "--- Comparing 'careplans' <=> 'claims_transactions' ---\n"
     ]
    },
    {
     "name": "stderr",
     "output_type": "stream",
     "text": [
      "\r  0%|          | 0/1 [00:00<?, ?it/s]\r[*] careplans <==> claims_transactions Runs:1:   0%|          | 0/1 [00:00<?, ?it/s]\r[*] careplans <==> claims_transactions Runs:1: 100%|██████████| 1/1 [00:03<00:00,  3.94s/it]\r[*] careplans <==> claims_transactions Runs:1: 100%|██████████| 1/1 [00:03<00:00,  3.94s/it]\n"
     ]
    },
    {
     "name": "stdout",
     "output_type": "stream",
     "text": [
      "No links found for this pair.\n",
      "\n",
      "--- Comparing 'careplans' <=> 'devices' ---\n"
     ]
    },
    {
     "name": "stderr",
     "output_type": "stream",
     "text": [
      "\r  0%|          | 0/1 [00:00<?, ?it/s]\r[*] careplans <==> devices Runs:1:   0%|          | 0/1 [00:00<?, ?it/s]\r[*] careplans <==> devices Runs:1: 100%|██████████| 1/1 [00:30<00:00, 30.12s/it]\r[*] careplans <==> devices Runs:1: 100%|██████████| 1/1 [00:30<00:00, 30.13s/it]\n"
     ]
    },
    {
     "name": "stdout",
     "output_type": "stream",
     "text": [
      "Found 1 potential link(s).\n",
      "\n",
      "--- Comparing 'careplans' <=> 'encounters' ---\n"
     ]
    },
    {
     "name": "stderr",
     "output_type": "stream",
     "text": [
      "\r  0%|          | 0/1 [00:00<?, ?it/s]\r[*] careplans <==> encounters Runs:1:   0%|          | 0/1 [00:00<?, ?it/s]\r[*] careplans <==> encounters Runs:1: 100%|██████████| 1/1 [00:01<00:00,  1.98s/it]\r[*] careplans <==> encounters Runs:1: 100%|██████████| 1/1 [00:01<00:00,  1.98s/it]\n"
     ]
    },
    {
     "name": "stdout",
     "output_type": "stream",
     "text": [
      "Found 1 potential link(s).\n",
      "\n",
      "--- Comparing 'careplans' <=> 'medications' ---\n"
     ]
    },
    {
     "name": "stderr",
     "output_type": "stream",
     "text": [
      "\r  0%|          | 0/1 [00:00<?, ?it/s]\r[*] careplans <==> medications Runs:1:   0%|          | 0/1 [00:00<?, ?it/s]\r[*] careplans <==> medications Runs:1: 100%|██████████| 1/1 [00:02<00:00,  2.05s/it]\r[*] careplans <==> medications Runs:1: 100%|██████████| 1/1 [00:02<00:00,  2.05s/it]\n"
     ]
    },
    {
     "name": "stdout",
     "output_type": "stream",
     "text": [
      "Found 1 potential link(s).\n",
      "\n",
      "--- Comparing 'careplans' <=> 'patients' ---\n"
     ]
    },
    {
     "name": "stderr",
     "output_type": "stream",
     "text": [
      "\r  0%|          | 0/1 [00:00<?, ?it/s]\r[*] careplans <==> patients Runs:1:   0%|          | 0/1 [00:00<?, ?it/s]\r[*] careplans <==> patients Runs:1: 100%|██████████| 1/1 [00:01<00:00,  1.88s/it]\r[*] careplans <==> patients Runs:1: 100%|██████████| 1/1 [00:01<00:00,  1.88s/it]\n"
     ]
    },
    {
     "name": "stdout",
     "output_type": "stream",
     "text": [
      "Found 1 potential link(s).\n",
      "\n",
      "--- Comparing 'claims' <=> 'claims_transactions' ---\n"
     ]
    },
    {
     "name": "stderr",
     "output_type": "stream",
     "text": [
      "\r  0%|          | 0/1 [00:00<?, ?it/s]\r[*] claims <==> claims_transactions Runs:1:   0%|          | 0/1 [00:00<?, ?it/s]\r[*] claims <==> claims_transactions Runs:1: 100%|██████████| 1/1 [00:02<00:00,  2.38s/it]\r[*] claims <==> claims_transactions Runs:1: 100%|██████████| 1/1 [00:02<00:00,  2.38s/it]\n"
     ]
    },
    {
     "name": "stdout",
     "output_type": "stream",
     "text": [
      "Found 1 potential link(s).\n",
      "\n",
      "--- Comparing 'claims' <=> 'devices' ---\n"
     ]
    },
    {
     "name": "stderr",
     "output_type": "stream",
     "text": [
      "\r  0%|          | 0/1 [00:00<?, ?it/s]\r[*] claims <==> devices Runs:1:   0%|          | 0/1 [00:00<?, ?it/s]\r[*] claims <==> devices Runs:1: 100%|██████████| 1/1 [00:03<00:00,  3.07s/it]\r[*] claims <==> devices Runs:1: 100%|██████████| 1/1 [00:03<00:00,  3.07s/it]\n"
     ]
    },
    {
     "name": "stdout",
     "output_type": "stream",
     "text": [
      "No links found for this pair.\n",
      "\n",
      "--- Comparing 'claims' <=> 'encounters' ---\n"
     ]
    },
    {
     "name": "stderr",
     "output_type": "stream",
     "text": [
      "\r  0%|          | 0/1 [00:00<?, ?it/s]\r[*] claims <==> encounters Runs:1:   0%|          | 0/1 [00:00<?, ?it/s]\r[*] claims <==> encounters Runs:1: 100%|██████████| 1/1 [00:05<00:00,  5.80s/it]\r[*] claims <==> encounters Runs:1: 100%|██████████| 1/1 [00:05<00:00,  5.80s/it]\n"
     ]
    },
    {
     "name": "stdout",
     "output_type": "stream",
     "text": [
      "No links found for this pair.\n",
      "\n",
      "--- Comparing 'claims' <=> 'medications' ---\n"
     ]
    },
    {
     "name": "stderr",
     "output_type": "stream",
     "text": [
      "\r  0%|          | 0/1 [00:00<?, ?it/s]\r[*] claims <==> medications Runs:1:   0%|          | 0/1 [00:00<?, ?it/s]\r[*] claims <==> medications Runs:1: 100%|██████████| 1/1 [00:06<00:00,  6.57s/it]\r[*] claims <==> medications Runs:1: 100%|██████████| 1/1 [00:06<00:00,  6.57s/it]\n"
     ]
    },
    {
     "name": "stdout",
     "output_type": "stream",
     "text": [
      "No links found for this pair.\n",
      "\n",
      "--- Comparing 'claims' <=> 'patients' ---\n"
     ]
    },
    {
     "name": "stderr",
     "output_type": "stream",
     "text": [
      "\r  0%|          | 0/1 [00:00<?, ?it/s]\r[*] claims <==> patients Runs:1:   0%|          | 0/1 [00:00<?, ?it/s]\r[*] claims <==> patients Runs:1: 100%|██████████| 1/1 [00:02<00:00,  2.38s/it]\r[*] claims <==> patients Runs:1: 100%|██████████| 1/1 [00:02<00:00,  2.38s/it]\n"
     ]
    },
    {
     "name": "stdout",
     "output_type": "stream",
     "text": [
      "Found 1 potential link(s).\n",
      "\n",
      "--- Comparing 'claims_transactions' <=> 'devices' ---\n"
     ]
    },
    {
     "name": "stderr",
     "output_type": "stream",
     "text": [
      "\r  0%|          | 0/1 [00:00<?, ?it/s]\r[*] claims_transactions <==> devices Runs:1:   0%|          | 0/1 [00:00<?, ?it/s]\r[*] claims_transactions <==> devices Runs:1: 100%|██████████| 1/1 [00:05<00:00,  5.82s/it]\r[*] claims_transactions <==> devices Runs:1: 100%|██████████| 1/1 [00:05<00:00,  5.82s/it]\n"
     ]
    },
    {
     "name": "stdout",
     "output_type": "stream",
     "text": [
      "No links found for this pair.\n",
      "\n",
      "--- Comparing 'claims_transactions' <=> 'encounters' ---\n"
     ]
    },
    {
     "name": "stderr",
     "output_type": "stream",
     "text": [
      "\r  0%|          | 0/1 [00:00<?, ?it/s]\r[*] claims_transactions <==> encounters Runs:1:   0%|          | 0/1 [00:00<?, ?it/s]\r[*] claims_transactions <==> encounters Runs:1: 100%|██████████| 1/1 [00:05<00:00,  5.60s/it]\r[*] claims_transactions <==> encounters Runs:1: 100%|██████████| 1/1 [00:05<00:00,  5.60s/it]\n"
     ]
    },
    {
     "name": "stdout",
     "output_type": "stream",
     "text": [
      "No links found for this pair.\n",
      "\n",
      "--- Comparing 'claims_transactions' <=> 'medications' ---\n"
     ]
    },
    {
     "name": "stderr",
     "output_type": "stream",
     "text": [
      "\r  0%|          | 0/1 [00:00<?, ?it/s]\r[*] claims_transactions <==> medications Runs:1:   0%|          | 0/1 [00:00<?, ?it/s]\r[*] claims_transactions <==> medications Runs:1: 100%|██████████| 1/1 [00:25<00:00, 25.07s/it]\r[*] claims_transactions <==> medications Runs:1: 100%|██████████| 1/1 [00:25<00:00, 25.07s/it]\n"
     ]
    },
    {
     "name": "stdout",
     "output_type": "stream",
     "text": [
      "No links found for this pair.\n",
      "\n",
      "--- Comparing 'claims_transactions' <=> 'patients' ---\n"
     ]
    },
    {
     "name": "stderr",
     "output_type": "stream",
     "text": [
      "\r  0%|          | 0/1 [00:00<?, ?it/s]\r[*] claims_transactions <==> patients Runs:1:   0%|          | 0/1 [00:00<?, ?it/s]\r[*] claims_transactions <==> patients Runs:1: 100%|██████████| 1/1 [00:05<00:00,  5.24s/it]\r[*] claims_transactions <==> patients Runs:1: 100%|██████████| 1/1 [00:05<00:00,  5.24s/it]\n"
     ]
    },
    {
     "name": "stdout",
     "output_type": "stream",
     "text": [
      "Found 1 potential link(s).\n",
      "\n",
      "--- Comparing 'devices' <=> 'encounters' ---\n"
     ]
    },
    {
     "name": "stderr",
     "output_type": "stream",
     "text": [
      "\r  0%|          | 0/1 [00:00<?, ?it/s]\r[*] devices <==> encounters Runs:1:   0%|          | 0/1 [00:00<?, ?it/s]\r[*] devices <==> encounters Runs:1: 100%|██████████| 1/1 [00:02<00:00,  2.14s/it]\r[*] devices <==> encounters Runs:1: 100%|██████████| 1/1 [00:02<00:00,  2.14s/it]\n"
     ]
    },
    {
     "name": "stdout",
     "output_type": "stream",
     "text": [
      "Found 1 potential link(s).\n",
      "\n",
      "--- Comparing 'devices' <=> 'medications' ---\n"
     ]
    },
    {
     "name": "stderr",
     "output_type": "stream",
     "text": [
      "\r  0%|          | 0/1 [00:00<?, ?it/s]\r[*] devices <==> medications Runs:1:   0%|          | 0/1 [00:00<?, ?it/s]\r[*] devices <==> medications Runs:1: 100%|██████████| 1/1 [00:03<00:00,  3.06s/it]\r[*] devices <==> medications Runs:1: 100%|██████████| 1/1 [00:03<00:00,  3.06s/it]\n"
     ]
    },
    {
     "name": "stdout",
     "output_type": "stream",
     "text": [
      "No links found for this pair.\n",
      "\n",
      "--- Comparing 'devices' <=> 'patients' ---\n"
     ]
    },
    {
     "name": "stderr",
     "output_type": "stream",
     "text": [
      "\r  0%|          | 0/1 [00:00<?, ?it/s]\r[*] devices <==> patients Runs:1:   0%|          | 0/1 [00:00<?, ?it/s]\r[*] devices <==> patients Runs:1: 100%|██████████| 1/1 [00:01<00:00,  1.98s/it]\r[*] devices <==> patients Runs:1: 100%|██████████| 1/1 [00:01<00:00,  1.98s/it]\n"
     ]
    },
    {
     "name": "stdout",
     "output_type": "stream",
     "text": [
      "Found 1 potential link(s).\n",
      "\n",
      "--- Comparing 'encounters' <=> 'medications' ---\n"
     ]
    },
    {
     "name": "stderr",
     "output_type": "stream",
     "text": [
      "\r  0%|          | 0/1 [00:00<?, ?it/s]\r[*] encounters <==> medications Runs:1:   0%|          | 0/1 [00:00<?, ?it/s]\r[*] encounters <==> medications Runs:1: 100%|██████████| 1/1 [00:02<00:00,  2.22s/it]\r[*] encounters <==> medications Runs:1: 100%|██████████| 1/1 [00:02<00:00,  2.22s/it]\n"
     ]
    },
    {
     "name": "stdout",
     "output_type": "stream",
     "text": [
      "Found 1 potential link(s).\n",
      "\n",
      "--- Comparing 'encounters' <=> 'patients' ---\n"
     ]
    },
    {
     "name": "stderr",
     "output_type": "stream",
     "text": [
      "\r  0%|          | 0/1 [00:00<?, ?it/s]\r[*] encounters <==> patients Runs:1:   0%|          | 0/1 [00:00<?, ?it/s]\r[*] encounters <==> patients Runs:1: 100%|██████████| 1/1 [00:02<00:00,  2.34s/it]\r[*] encounters <==> patients Runs:1: 100%|██████████| 1/1 [00:02<00:00,  2.34s/it]\n"
     ]
    },
    {
     "name": "stdout",
     "output_type": "stream",
     "text": [
      "Found 1 potential link(s).\n",
      "\n",
      "--- Comparing 'medications' <=> 'patients' ---\n"
     ]
    },
    {
     "name": "stderr",
     "output_type": "stream",
     "text": [
      "\r  0%|          | 0/1 [00:00<?, ?it/s]\r[*] medications <==> patients Runs:1:   0%|          | 0/1 [00:00<?, ?it/s]\r[*] medications <==> patients Runs:1: 100%|██████████| 1/1 [00:02<00:00,  2.10s/it]\r[*] medications <==> patients Runs:1: 100%|██████████| 1/1 [00:02<00:00,  2.10s/it]"
     ]
    },
    {
     "name": "stdout",
     "output_type": "stream",
     "text": [
      "Found 1 potential link(s).\n"
     ]
    },
    {
     "name": "stderr",
     "output_type": "stream",
     "text": [
      "\n"
     ]
    },
    {
     "data": {
      "text/html": [
       "<pre style=\"white-space:pre;overflow-x:auto;line-height:normal;font-family:Menlo,'DejaVu Sans Mono',consolas,'Courier New',monospace\"><span style=\"color: #008000; text-decoration-color: #008000; font-weight: bold\">Link prediction complete.</span>\n",
       "</pre>\n"
      ],
      "text/plain": [
       "\u001b[1;32mLink prediction complete.\u001b[0m\n"
      ]
     },
     "metadata": {},
     "output_type": "display_data"
    },
    {
     "data": {
      "text/html": [
       "<pre style=\"white-space:pre;overflow-x:auto;line-height:normal;font-family:Menlo,'DejaVu Sans Mono',consolas,'Courier New',monospace\"><span style=\"color: #808000; text-decoration-color: #808000\">Starting business glossary generation stage...</span>\n",
       "</pre>\n"
      ],
      "text/plain": [
       "\u001b[33mStarting business glossary generation stage\u001b[0m\u001b[33m...\u001b[0m\n"
      ]
     },
     "metadata": {},
     "output_type": "display_data"
    },
    {
     "data": {
      "text/html": [
       "<pre style=\"white-space:pre;overflow-x:auto;line-height:normal;font-family:Menlo,'DejaVu Sans Mono',consolas,'Courier New',monospace\">Glossary for <span style=\"color: #008000; text-decoration-color: #008000\">'allergies'</span> already exists. Skipping.\n",
       "</pre>\n"
      ],
      "text/plain": [
       "Glossary for \u001b[32m'allergies'\u001b[0m already exists. Skipping.\n"
      ]
     },
     "metadata": {},
     "output_type": "display_data"
    },
    {
     "data": {
      "text/html": [
       "<pre style=\"white-space:pre;overflow-x:auto;line-height:normal;font-family:Menlo,'DejaVu Sans Mono',consolas,'Courier New',monospace\">Glossary for <span style=\"color: #008000; text-decoration-color: #008000\">'careplans'</span> already exists. Skipping.\n",
       "</pre>\n"
      ],
      "text/plain": [
       "Glossary for \u001b[32m'careplans'\u001b[0m already exists. Skipping.\n"
      ]
     },
     "metadata": {},
     "output_type": "display_data"
    },
    {
     "data": {
      "text/html": [
       "<pre style=\"white-space:pre;overflow-x:auto;line-height:normal;font-family:Menlo,'DejaVu Sans Mono',consolas,'Courier New',monospace\">Glossary for <span style=\"color: #008000; text-decoration-color: #008000\">'claims'</span> already exists. Skipping.\n",
       "</pre>\n"
      ],
      "text/plain": [
       "Glossary for \u001b[32m'claims'\u001b[0m already exists. Skipping.\n"
      ]
     },
     "metadata": {},
     "output_type": "display_data"
    },
    {
     "data": {
      "text/html": [
       "<pre style=\"white-space:pre;overflow-x:auto;line-height:normal;font-family:Menlo,'DejaVu Sans Mono',consolas,'Courier New',monospace\">Glossary for <span style=\"color: #008000; text-decoration-color: #008000\">'claims_transactions'</span> already exists. Skipping.\n",
       "</pre>\n"
      ],
      "text/plain": [
       "Glossary for \u001b[32m'claims_transactions'\u001b[0m already exists. Skipping.\n"
      ]
     },
     "metadata": {},
     "output_type": "display_data"
    },
    {
     "data": {
      "text/html": [
       "<pre style=\"white-space:pre;overflow-x:auto;line-height:normal;font-family:Menlo,'DejaVu Sans Mono',consolas,'Courier New',monospace\">Glossary for <span style=\"color: #008000; text-decoration-color: #008000\">'devices'</span> already exists. Skipping.\n",
       "</pre>\n"
      ],
      "text/plain": [
       "Glossary for \u001b[32m'devices'\u001b[0m already exists. Skipping.\n"
      ]
     },
     "metadata": {},
     "output_type": "display_data"
    },
    {
     "data": {
      "text/html": [
       "<pre style=\"white-space:pre;overflow-x:auto;line-height:normal;font-family:Menlo,'DejaVu Sans Mono',consolas,'Courier New',monospace\">Glossary for <span style=\"color: #008000; text-decoration-color: #008000\">'encounters'</span> already exists. Skipping.\n",
       "</pre>\n"
      ],
      "text/plain": [
       "Glossary for \u001b[32m'encounters'\u001b[0m already exists. Skipping.\n"
      ]
     },
     "metadata": {},
     "output_type": "display_data"
    },
    {
     "data": {
      "text/html": [
       "<pre style=\"white-space:pre;overflow-x:auto;line-height:normal;font-family:Menlo,'DejaVu Sans Mono',consolas,'Courier New',monospace\">Glossary for <span style=\"color: #008000; text-decoration-color: #008000\">'medications'</span> already exists. Skipping.\n",
       "</pre>\n"
      ],
      "text/plain": [
       "Glossary for \u001b[32m'medications'\u001b[0m already exists. Skipping.\n"
      ]
     },
     "metadata": {},
     "output_type": "display_data"
    },
    {
     "data": {
      "text/html": [
       "<pre style=\"white-space:pre;overflow-x:auto;line-height:normal;font-family:Menlo,'DejaVu Sans Mono',consolas,'Courier New',monospace\">Glossary for <span style=\"color: #008000; text-decoration-color: #008000\">'patients'</span> already exists. Skipping.\n",
       "</pre>\n"
      ],
      "text/plain": [
       "Glossary for \u001b[32m'patients'\u001b[0m already exists. Skipping.\n"
      ]
     },
     "metadata": {},
     "output_type": "display_data"
    },
    {
     "data": {
      "text/html": [
       "<pre style=\"white-space:pre;overflow-x:auto;line-height:normal;font-family:Menlo,'DejaVu Sans Mono',consolas,'Courier New',monospace\"><span style=\"color: #008000; text-decoration-color: #008000; font-weight: bold\">Business glossary generation complete.</span>\n",
       "</pre>\n"
      ],
      "text/plain": [
       "\u001b[1;32mBusiness glossary generation complete.\u001b[0m\n"
      ]
     },
     "metadata": {},
     "output_type": "display_data"
    },
    {
     "name": "stdout",
     "output_type": "stream",
     "text": [
      "Initializing semantic search...\n"
     ]
    },
    {
     "name": "stderr",
     "output_type": "stream",
     "text": [
      "/local_disk0/.ephemeral_nfs/envs/pythonEnv-be50f3e0-0e39-4b76-80e9-7a5806855f79/lib/python3.12/site-packages/intugle/core/vector_store/qdrant.py:77: UserWarning: Api key is used with an insecure connection.\n",
      "  self._client = AsyncQdrantClient(**self.client_config)\n",
      "ERROR:intugle.core.vector_store.qdrant:AsyncQdrantService: Couldn't create collection, reason: All connection attempts failed\n",
      "WARNING:intugle.knowledge_builder:Could not initialize semantic search: All connection attempts failed\n",
      "WARNING:intugle.knowledge_builder:Semantic search initialization failed during build: All connection attempts failed\n"
     ]
    },
    {
     "data": {
      "text/plain": [
       "<intugle.knowledge_builder.KnowledgeBuilder at 0x7f9a7455d100>"
      ]
     },
     "execution_count": 7,
     "metadata": {},
     "output_type": "execute_result"
    }
   ],
   "source": [
    "from intugle import SemanticModel\n",
    "\n",
    "# Initialize the semantic model\n",
    "sm = SemanticModel(datasets, domain=\"Healthcare\")\n",
    "\n",
    "# Run the prediction\n",
    "sm.build()"
   ]
  },
  {
   "cell_type": "markdown",
   "metadata": {
    "application/vnd.databricks.v1+cell": {
     "cellMetadata": {
      "byteLimit": 2048000,
      "rowLimit": 10000
     },
     "inputWidgets": {},
     "nuid": "e7ba8e67-2cdf-4b41-ac4a-b0afbb7da451",
     "showTitle": false,
     "tableResultSettingsMap": {},
     "title": ""
    }
   },
   "source": [
    "## 3. Accessing Enriched Metadata\n",
    "\n",
    "Now that the semantic model is built, you can easily access the enriched metadata for each dataset.\n",
    "\n",
    "### Accessing a Dataset\n",
    "\n",
    "You can access a specific dataset by its name from the `sm.datasets` dictionary:"
   ]
  },
  {
   "cell_type": "code",
   "execution_count": 0,
   "metadata": {
    "application/vnd.databricks.v1+cell": {
     "cellMetadata": {
      "byteLimit": 2048000,
      "rowLimit": 10000
     },
     "inputWidgets": {},
     "nuid": "21281092-f3f9-4455-8024-cb5aad070bbe",
     "showTitle": false,
     "tableResultSettingsMap": {},
     "title": ""
    }
   },
   "outputs": [
    {
     "data": {
      "text/html": [
       "<div>\n",
       "<style scoped>\n",
       "    .dataframe tbody tr th:only-of-type {\n",
       "        vertical-align: middle;\n",
       "    }\n",
       "\n",
       "    .dataframe tbody tr th {\n",
       "        vertical-align: top;\n",
       "    }\n",
       "\n",
       "    .dataframe thead th {\n",
       "        text-align: right;\n",
       "    }\n",
       "</style>\n",
       "<table border=\"1\" class=\"dataframe\">\n",
       "  <thead>\n",
       "    <tr style=\"text-align: right;\">\n",
       "      <th></th>\n",
       "      <th>column_name</th>\n",
       "      <th>table_name</th>\n",
       "      <th>business_name</th>\n",
       "      <th>datatype_l1</th>\n",
       "      <th>datatype_l2</th>\n",
       "      <th>business_glossary</th>\n",
       "      <th>business_tags</th>\n",
       "      <th>count</th>\n",
       "      <th>null_count</th>\n",
       "      <th>distinct_count</th>\n",
       "      <th>uniqueness</th>\n",
       "      <th>completeness</th>\n",
       "      <th>sample_data</th>\n",
       "    </tr>\n",
       "  </thead>\n",
       "  <tbody>\n",
       "    <tr>\n",
       "      <th>0</th>\n",
       "      <td>id</td>\n",
       "      <td>patients</td>\n",
       "      <td>id</td>\n",
       "      <td>alphanumeric</td>\n",
       "      <td>dimension</td>\n",
       "      <td>Unique identifier assigned to each patient for...</td>\n",
       "      <td>[Patient Identifier, Unique Record Key, Health...</td>\n",
       "      <td>1163</td>\n",
       "      <td>0</td>\n",
       "      <td>1163</td>\n",
       "      <td>1.000000</td>\n",
       "      <td>1.000000</td>\n",
       "      <td>[56cfe6a5-4835-d925-fd7a-84faf11306f0, eca161a...</td>\n",
       "    </tr>\n",
       "    <tr>\n",
       "      <th>1</th>\n",
       "      <td>birthdate</td>\n",
       "      <td>patients</td>\n",
       "      <td>birthdate</td>\n",
       "      <td>date &amp; time</td>\n",
       "      <td>dimension</td>\n",
       "      <td>Indicates the date on which an individual was ...</td>\n",
       "      <td>[Patient Demographics, Date Of Birth, Age Calc...</td>\n",
       "      <td>1163</td>\n",
       "      <td>0</td>\n",
       "      <td>987</td>\n",
       "      <td>0.848667</td>\n",
       "      <td>1.000000</td>\n",
       "      <td>[1992-01-21, 2015-09-12, 2010-09-27, 1979-01-1...</td>\n",
       "    </tr>\n",
       "    <tr>\n",
       "      <th>2</th>\n",
       "      <td>deathdate</td>\n",
       "      <td>patients</td>\n",
       "      <td>deathdate</td>\n",
       "      <td>date &amp; time</td>\n",
       "      <td>dimension</td>\n",
       "      <td>Indicates the recorded date and time when an i...</td>\n",
       "      <td>[Patient Mortality, End Of Life Date, Healthca...</td>\n",
       "      <td>1163</td>\n",
       "      <td>1000</td>\n",
       "      <td>163</td>\n",
       "      <td>0.140155</td>\n",
       "      <td>0.140155</td>\n",
       "      <td>[2011-07-10, 2013-05-18, 1990-11-23, 2001-08-2...</td>\n",
       "    </tr>\n",
       "    <tr>\n",
       "      <th>3</th>\n",
       "      <td>ssn</td>\n",
       "      <td>patients</td>\n",
       "      <td>ssn</td>\n",
       "      <td>alphanumeric</td>\n",
       "      <td>dimension</td>\n",
       "      <td>Serves as a unique identifier for individuals ...</td>\n",
       "      <td>[Patient Identification, Sensitive Information...</td>\n",
       "      <td>1163</td>\n",
       "      <td>0</td>\n",
       "      <td>1163</td>\n",
       "      <td>1.000000</td>\n",
       "      <td>1.000000</td>\n",
       "      <td>[999-97-6651, 999-15-4286, 999-98-9977, 999-82...</td>\n",
       "    </tr>\n",
       "    <tr>\n",
       "      <th>4</th>\n",
       "      <td>drivers</td>\n",
       "      <td>patients</td>\n",
       "      <td>drivers</td>\n",
       "      <td>alphanumeric</td>\n",
       "      <td>dimension</td>\n",
       "      <td>Identifies unique individuals associated with ...</td>\n",
       "      <td>[Driver Identification, Healthcare Logistics, ...</td>\n",
       "      <td>1163</td>\n",
       "      <td>215</td>\n",
       "      <td>941</td>\n",
       "      <td>0.809114</td>\n",
       "      <td>0.815133</td>\n",
       "      <td>[S99957224, S99965293, S99982318, S99945957, S...</td>\n",
       "    </tr>\n",
       "    <tr>\n",
       "      <th>5</th>\n",
       "      <td>passport</td>\n",
       "      <td>patients</td>\n",
       "      <td>passport</td>\n",
       "      <td>alphanumeric</td>\n",
       "      <td>dimension</td>\n",
       "      <td>Serves as a unique identifier for individuals ...</td>\n",
       "      <td>[Patient Identification, Travel Documentation,...</td>\n",
       "      <td>1163</td>\n",
       "      <td>276</td>\n",
       "      <td>887</td>\n",
       "      <td>0.762683</td>\n",
       "      <td>0.762683</td>\n",
       "      <td>[X10101321X, X63302614X, X77153984X, X32144900...</td>\n",
       "    </tr>\n",
       "    <tr>\n",
       "      <th>6</th>\n",
       "      <td>prefix</td>\n",
       "      <td>patients</td>\n",
       "      <td>prefix</td>\n",
       "      <td>close_ended_text</td>\n",
       "      <td>dimension</td>\n",
       "      <td>Indicates the title or salutation used to addr...</td>\n",
       "      <td>[Patient Salutation, Personal Title, Demograph...</td>\n",
       "      <td>1163</td>\n",
       "      <td>245</td>\n",
       "      <td>3</td>\n",
       "      <td>0.002580</td>\n",
       "      <td>0.789338</td>\n",
       "      <td>[Mr., Ms., Mrs.]</td>\n",
       "    </tr>\n",
       "    <tr>\n",
       "      <th>7</th>\n",
       "      <td>first</td>\n",
       "      <td>patients</td>\n",
       "      <td>first</td>\n",
       "      <td>alphanumeric</td>\n",
       "      <td>dimension</td>\n",
       "      <td>Identifies individuals using a unique alphanum...</td>\n",
       "      <td>[PatientIdentifier, UniqueCode, HealthcareReco...</td>\n",
       "      <td>1163</td>\n",
       "      <td>0</td>\n",
       "      <td>1002</td>\n",
       "      <td>0.861565</td>\n",
       "      <td>1.000000</td>\n",
       "      <td>[Gladys682, Gabriel934, Nedra260, Marylin690, ...</td>\n",
       "    </tr>\n",
       "    <tr>\n",
       "      <th>8</th>\n",
       "      <td>last</td>\n",
       "      <td>patients</td>\n",
       "      <td>last</td>\n",
       "      <td>alphanumeric</td>\n",
       "      <td>dimension</td>\n",
       "      <td>Identifies individuals uniquely within the pat...</td>\n",
       "      <td>[Patient Identifier, Last Name Reference, Heal...</td>\n",
       "      <td>1163</td>\n",
       "      <td>0</td>\n",
       "      <td>477</td>\n",
       "      <td>0.410146</td>\n",
       "      <td>1.000000</td>\n",
       "      <td>[Rael318, Senger904, Williamson769, Bogan287, ...</td>\n",
       "    </tr>\n",
       "    <tr>\n",
       "      <th>9</th>\n",
       "      <td>suffix</td>\n",
       "      <td>patients</td>\n",
       "      <td>suffix</td>\n",
       "      <td>close_ended_text</td>\n",
       "      <td>dimension</td>\n",
       "      <td>Indicates a professional or academic designati...</td>\n",
       "      <td>[Professional Credentials, Patient Identificat...</td>\n",
       "      <td>1163</td>\n",
       "      <td>1147</td>\n",
       "      <td>3</td>\n",
       "      <td>0.002580</td>\n",
       "      <td>0.013758</td>\n",
       "      <td>[PhD, MD, JD]</td>\n",
       "    </tr>\n",
       "    <tr>\n",
       "      <th>10</th>\n",
       "      <td>maiden</td>\n",
       "      <td>patients</td>\n",
       "      <td>maiden</td>\n",
       "      <td>alphanumeric</td>\n",
       "      <td>dimension</td>\n",
       "      <td>Tracks secondary identifiers associated with i...</td>\n",
       "      <td>[Patient Identifier, Unique Code, Healthcare R...</td>\n",
       "      <td>1163</td>\n",
       "      <td>832</td>\n",
       "      <td>248</td>\n",
       "      <td>0.213242</td>\n",
       "      <td>0.284609</td>\n",
       "      <td>[Gislason620, DuBuque211, Purdy2, Halvorson124...</td>\n",
       "    </tr>\n",
       "    <tr>\n",
       "      <th>11</th>\n",
       "      <td>marital</td>\n",
       "      <td>patients</td>\n",
       "      <td>marital</td>\n",
       "      <td>close_ended_text</td>\n",
       "      <td>dimension</td>\n",
       "      <td>Indicates the relationship status of an indivi...</td>\n",
       "      <td>[Marital Status, Demographics, Patient Profile]</td>\n",
       "      <td>1163</td>\n",
       "      <td>384</td>\n",
       "      <td>2</td>\n",
       "      <td>0.001720</td>\n",
       "      <td>0.669819</td>\n",
       "      <td>[S, M]</td>\n",
       "    </tr>\n",
       "    <tr>\n",
       "      <th>12</th>\n",
       "      <td>race</td>\n",
       "      <td>patients</td>\n",
       "      <td>race</td>\n",
       "      <td>close_ended_text</td>\n",
       "      <td>dimension</td>\n",
       "      <td>Categorizes individuals based on their self-id...</td>\n",
       "      <td>[Demographic Classification, Health Equity Ana...</td>\n",
       "      <td>1163</td>\n",
       "      <td>0</td>\n",
       "      <td>6</td>\n",
       "      <td>0.005159</td>\n",
       "      <td>1.000000</td>\n",
       "      <td>[hawaiian, other, black, native, white, asian]</td>\n",
       "    </tr>\n",
       "    <tr>\n",
       "      <th>13</th>\n",
       "      <td>ethnicity</td>\n",
       "      <td>patients</td>\n",
       "      <td>ethnicity</td>\n",
       "      <td>close_ended_text</td>\n",
       "      <td>dimension</td>\n",
       "      <td>Categorizes individuals based on their cultura...</td>\n",
       "      <td>[Demographic Classification, Population Health...</td>\n",
       "      <td>1163</td>\n",
       "      <td>0</td>\n",
       "      <td>2</td>\n",
       "      <td>0.001720</td>\n",
       "      <td>1.000000</td>\n",
       "      <td>[hispanic, nonhispanic]</td>\n",
       "    </tr>\n",
       "    <tr>\n",
       "      <th>14</th>\n",
       "      <td>gender</td>\n",
       "      <td>patients</td>\n",
       "      <td>gender</td>\n",
       "      <td>close_ended_text</td>\n",
       "      <td>dimension</td>\n",
       "      <td>Describes the classification of individuals ba...</td>\n",
       "      <td>[Patient Demographics, Gender Classification, ...</td>\n",
       "      <td>1163</td>\n",
       "      <td>0</td>\n",
       "      <td>2</td>\n",
       "      <td>0.001720</td>\n",
       "      <td>1.000000</td>\n",
       "      <td>[M, F]</td>\n",
       "    </tr>\n",
       "    <tr>\n",
       "      <th>15</th>\n",
       "      <td>birthplace</td>\n",
       "      <td>patients</td>\n",
       "      <td>birthplace</td>\n",
       "      <td>close_ended_text</td>\n",
       "      <td>dimension</td>\n",
       "      <td>Indicates the location where an individual was...</td>\n",
       "      <td>[Place Of Birth, Demographic Information, Geog...</td>\n",
       "      <td>1163</td>\n",
       "      <td>0</td>\n",
       "      <td>317</td>\n",
       "      <td>0.272571</td>\n",
       "      <td>1.000000</td>\n",
       "      <td>[Franklin  Massachusetts  US, Caguas  Puerto R...</td>\n",
       "    </tr>\n",
       "    <tr>\n",
       "      <th>16</th>\n",
       "      <td>address</td>\n",
       "      <td>patients</td>\n",
       "      <td>address</td>\n",
       "      <td>alphanumeric</td>\n",
       "      <td>dimension</td>\n",
       "      <td>Indicates the physical location associated wit...</td>\n",
       "      <td>[Patient Location, Contact Information, Reside...</td>\n",
       "      <td>1163</td>\n",
       "      <td>0</td>\n",
       "      <td>1163</td>\n",
       "      <td>1.000000</td>\n",
       "      <td>1.000000</td>\n",
       "      <td>[351 Ferry Street Suite 24, 223 Rohan Bypass S...</td>\n",
       "    </tr>\n",
       "    <tr>\n",
       "      <th>17</th>\n",
       "      <td>city</td>\n",
       "      <td>patients</td>\n",
       "      <td>city</td>\n",
       "      <td>close_ended_text</td>\n",
       "      <td>dimension</td>\n",
       "      <td>Indicates the geographical location associated...</td>\n",
       "      <td>[Patient Residence, Geographic Location, Healt...</td>\n",
       "      <td>1163</td>\n",
       "      <td>0</td>\n",
       "      <td>256</td>\n",
       "      <td>0.220120</td>\n",
       "      <td>1.000000</td>\n",
       "      <td>[Northbridge, Plymouth, Franklin, Barnstable, ...</td>\n",
       "    </tr>\n",
       "    <tr>\n",
       "      <th>18</th>\n",
       "      <td>state</td>\n",
       "      <td>patients</td>\n",
       "      <td>state</td>\n",
       "      <td>close_ended_text</td>\n",
       "      <td>dimension</td>\n",
       "      <td>Indicates the geographical region associated w...</td>\n",
       "      <td>[Patient Location, State of Residence, Geograp...</td>\n",
       "      <td>1163</td>\n",
       "      <td>0</td>\n",
       "      <td>1</td>\n",
       "      <td>0.000860</td>\n",
       "      <td>1.000000</td>\n",
       "      <td>[Massachusetts]</td>\n",
       "    </tr>\n",
       "    <tr>\n",
       "      <th>19</th>\n",
       "      <td>county</td>\n",
       "      <td>patients</td>\n",
       "      <td>county</td>\n",
       "      <td>close_ended_text</td>\n",
       "      <td>dimension</td>\n",
       "      <td>Identifies the administrative region associate...</td>\n",
       "      <td>[Geographic Location, Patient Demographics, Re...</td>\n",
       "      <td>1163</td>\n",
       "      <td>0</td>\n",
       "      <td>13</td>\n",
       "      <td>0.011178</td>\n",
       "      <td>1.000000</td>\n",
       "      <td>[Hampden County, Berkshire County, Essex Count...</td>\n",
       "    </tr>\n",
       "    <tr>\n",
       "      <th>20</th>\n",
       "      <td>zip</td>\n",
       "      <td>patients</td>\n",
       "      <td>zip</td>\n",
       "      <td>integer</td>\n",
       "      <td>dimension</td>\n",
       "      <td>Indicates the geographic area associated with ...</td>\n",
       "      <td>[Geographic Location, Patient Demographics, Re...</td>\n",
       "      <td>1163</td>\n",
       "      <td>545</td>\n",
       "      <td>223</td>\n",
       "      <td>0.191745</td>\n",
       "      <td>0.531384</td>\n",
       "      <td>[01107, 01420, 01969, 01001, 02184, 01033, 010...</td>\n",
       "    </tr>\n",
       "    <tr>\n",
       "      <th>21</th>\n",
       "      <td>lat</td>\n",
       "      <td>patients</td>\n",
       "      <td>lat</td>\n",
       "      <td>float</td>\n",
       "      <td>measure</td>\n",
       "      <td>Indicates the geographical latitude associated...</td>\n",
       "      <td>[Geolocation, Patient Location, Latitude Coord...</td>\n",
       "      <td>1163</td>\n",
       "      <td>0</td>\n",
       "      <td>1163</td>\n",
       "      <td>1.000000</td>\n",
       "      <td>1.000000</td>\n",
       "      <td>[42.403636828728615, 42.3818748756275, 42.3824...</td>\n",
       "    </tr>\n",
       "    <tr>\n",
       "      <th>22</th>\n",
       "      <td>lon</td>\n",
       "      <td>patients</td>\n",
       "      <td>lon</td>\n",
       "      <td>float</td>\n",
       "      <td>measure</td>\n",
       "      <td>Indicates the geographical longitude coordinat...</td>\n",
       "      <td>[Geolocation, Longitude, Patient Location]</td>\n",
       "      <td>1163</td>\n",
       "      <td>0</td>\n",
       "      <td>1163</td>\n",
       "      <td>1.000000</td>\n",
       "      <td>1.000000</td>\n",
       "      <td>[-71.13747580000071, -72.61043401021963, -71.4...</td>\n",
       "    </tr>\n",
       "    <tr>\n",
       "      <th>23</th>\n",
       "      <td>healthcare_expenses</td>\n",
       "      <td>patients</td>\n",
       "      <td>healthcare_expenses</td>\n",
       "      <td>float</td>\n",
       "      <td>measure</td>\n",
       "      <td>Tracks the monetary costs associated with serv...</td>\n",
       "      <td>[Healthcare Costs, Patient Financial Data, Med...</td>\n",
       "      <td>1163</td>\n",
       "      <td>0</td>\n",
       "      <td>1163</td>\n",
       "      <td>1.000000</td>\n",
       "      <td>1.000000</td>\n",
       "      <td>[670467.1099999999, 508065.13, 1855792.1399999...</td>\n",
       "    </tr>\n",
       "    <tr>\n",
       "      <th>24</th>\n",
       "      <td>healthcare_coverage</td>\n",
       "      <td>patients</td>\n",
       "      <td>healthcare_coverage</td>\n",
       "      <td>float</td>\n",
       "      <td>measure</td>\n",
       "      <td>Indicates the monetary value allocated for an ...</td>\n",
       "      <td>[Healthcare Financial Coverage, Patient Insura...</td>\n",
       "      <td>1163</td>\n",
       "      <td>0</td>\n",
       "      <td>1036</td>\n",
       "      <td>0.890800</td>\n",
       "      <td>1.000000</td>\n",
       "      <td>[323196.155, 5422.41, 10200.4635, 201436.727, ...</td>\n",
       "    </tr>\n",
       "  </tbody>\n",
       "</table>\n",
       "</div>"
      ],
      "text/plain": [
       "            column_name  ...                                        sample_data\n",
       "0                    id  ...  [56cfe6a5-4835-d925-fd7a-84faf11306f0, eca161a...\n",
       "1             birthdate  ...  [1992-01-21, 2015-09-12, 2010-09-27, 1979-01-1...\n",
       "2             deathdate  ...  [2011-07-10, 2013-05-18, 1990-11-23, 2001-08-2...\n",
       "3                   ssn  ...  [999-97-6651, 999-15-4286, 999-98-9977, 999-82...\n",
       "4               drivers  ...  [S99957224, S99965293, S99982318, S99945957, S...\n",
       "5              passport  ...  [X10101321X, X63302614X, X77153984X, X32144900...\n",
       "6                prefix  ...                                   [Mr., Ms., Mrs.]\n",
       "7                 first  ...  [Gladys682, Gabriel934, Nedra260, Marylin690, ...\n",
       "8                  last  ...  [Rael318, Senger904, Williamson769, Bogan287, ...\n",
       "9                suffix  ...                                      [PhD, MD, JD]\n",
       "10               maiden  ...  [Gislason620, DuBuque211, Purdy2, Halvorson124...\n",
       "11              marital  ...                                             [S, M]\n",
       "12                 race  ...     [hawaiian, other, black, native, white, asian]\n",
       "13            ethnicity  ...                            [hispanic, nonhispanic]\n",
       "14               gender  ...                                             [M, F]\n",
       "15           birthplace  ...  [Franklin  Massachusetts  US, Caguas  Puerto R...\n",
       "16              address  ...  [351 Ferry Street Suite 24, 223 Rohan Bypass S...\n",
       "17                 city  ...  [Northbridge, Plymouth, Franklin, Barnstable, ...\n",
       "18                state  ...                                    [Massachusetts]\n",
       "19               county  ...  [Hampden County, Berkshire County, Essex Count...\n",
       "20                  zip  ...  [01107, 01420, 01969, 01001, 02184, 01033, 010...\n",
       "21                  lat  ...  [42.403636828728615, 42.3818748756275, 42.3824...\n",
       "22                  lon  ...  [-71.13747580000071, -72.61043401021963, -71.4...\n",
       "23  healthcare_expenses  ...  [670467.1099999999, 508065.13, 1855792.1399999...\n",
       "24  healthcare_coverage  ...  [323196.155, 5422.41, 10200.4635, 201436.727, ...\n",
       "\n",
       "[25 rows x 13 columns]"
      ]
     },
     "execution_count": 8,
     "metadata": {},
     "output_type": "execute_result"
    }
   ],
   "source": [
    "patients_dataset = sm.datasets['patients']\n",
    "patients_dataset.profiling_df"
   ]
  },
  {
   "cell_type": "markdown",
   "metadata": {
    "application/vnd.databricks.v1+cell": {
     "cellMetadata": {
      "byteLimit": 2048000,
      "rowLimit": 10000
     },
     "inputWidgets": {},
     "nuid": "45a59e54-53d1-476d-80cb-4f4f861a349a",
     "showTitle": false,
     "tableResultSettingsMap": {},
     "title": ""
    }
   },
   "source": [
    "The profiling results can be accessed through the `profiling_df` property of the `DataSet` object. It's a pandas DataFrame that you can easily explore. \n",
    "> The business glossary is also available in the `profiling_df`:"
   ]
  },
  {
   "cell_type": "markdown",
   "metadata": {
    "application/vnd.databricks.v1+cell": {
     "cellMetadata": {
      "byteLimit": 2048000,
      "rowLimit": 10000
     },
     "inputWidgets": {},
     "nuid": "f0b6507a-482a-44a2-838c-1cfda216f644",
     "showTitle": false,
     "tableResultSettingsMap": {},
     "title": ""
    }
   },
   "source": [
    "### Visualizing Relationships\n",
    "\n",
    "The `SemanticModel` automatically discovers the relationships between your tables. You can access the predicted links as a list of `PredictedLink` objects:"
   ]
  },
  {
   "cell_type": "code",
   "execution_count": 0,
   "metadata": {
    "application/vnd.databricks.v1+cell": {
     "cellMetadata": {
      "byteLimit": 2048000,
      "rowLimit": 10000
     },
     "inputWidgets": {},
     "nuid": "e607803a-637c-477b-a7db-72b37d4a12dd",
     "showTitle": false,
     "tableResultSettingsMap": {},
     "title": ""
    }
   },
   "outputs": [
    {
     "data": {
      "text/plain": [
       "[PredictedLink(from_dataset='allergies', from_column='encounter', to_dataset='encounters', to_column='id'),\n",
       " PredictedLink(from_dataset='allergies', from_column='patient', to_dataset='patients', to_column='id'),\n",
       " PredictedLink(from_dataset='careplans', from_column='encounter', to_dataset='devices', to_column='encounter'),\n",
       " PredictedLink(from_dataset='careplans', from_column='encounter', to_dataset='encounters', to_column='id'),\n",
       " PredictedLink(from_dataset='careplans', from_column='encounter', to_dataset='medications', to_column='encounter'),\n",
       " PredictedLink(from_dataset='careplans', from_column='patient', to_dataset='patients', to_column='id'),\n",
       " PredictedLink(from_dataset='claims', from_column='id', to_dataset='claims_transactions', to_column='claimid'),\n",
       " PredictedLink(from_dataset='claims', from_column='patientid', to_dataset='patients', to_column='id'),\n",
       " PredictedLink(from_dataset='claims_transactions', from_column='patientid', to_dataset='patients', to_column='id'),\n",
       " PredictedLink(from_dataset='devices', from_column='encounter', to_dataset='encounters', to_column='id'),\n",
       " PredictedLink(from_dataset='devices', from_column='patient', to_dataset='patients', to_column='id'),\n",
       " PredictedLink(from_dataset='encounters', from_column='id', to_dataset='medications', to_column='encounter'),\n",
       " PredictedLink(from_dataset='encounters', from_column='patient', to_dataset='patients', to_column='id'),\n",
       " PredictedLink(from_dataset='medications', from_column='patient', to_dataset='patients', to_column='id')]"
      ]
     },
     "execution_count": 9,
     "metadata": {},
     "output_type": "execute_result"
    }
   ],
   "source": [
    "sm.links"
   ]
  },
  {
   "cell_type": "markdown",
   "metadata": {
    "application/vnd.databricks.v1+cell": {
     "cellMetadata": {
      "byteLimit": 2048000,
      "rowLimit": 10000
     },
     "inputWidgets": {},
     "nuid": "6f5dbe3e-2844-4aa4-b98b-106dc376d4ad",
     "showTitle": false,
     "tableResultSettingsMap": {},
     "title": ""
    }
   },
   "source": [
    "You can also visualize these relationships as a graph. In case you run into an error, make sure you install/upgrade your ipykernel package:\n",
    "> %pip install --upgrade ipykernel"
   ]
  },
  {
   "cell_type": "code",
   "execution_count": 0,
   "metadata": {
    "application/vnd.databricks.v1+cell": {
     "cellMetadata": {
      "byteLimit": 2048000,
      "rowLimit": 10000
     },
     "inputWidgets": {},
     "nuid": "e3f2d294-8e24-4820-9d1d-267a15592ef6",
     "showTitle": false,
     "tableResultSettingsMap": {},
     "title": ""
    }
   },
   "outputs": [
    {
     "data": {
      "image/png": "[encoded data removed]",
      "text/plain": [
       "<Figure size 2000x2000 with 1 Axes>"
      ]
     },
     "metadata": {},
     "output_type": "display_data"
    }
   ],
   "source": [
    "sm.visualize()  # To visualize the relationships as a graph\n"
   ]
  },
  {
   "cell_type": "markdown",
   "metadata": {
    "application/vnd.databricks.v1+cell": {
     "cellMetadata": {
      "byteLimit": 2048000,
      "rowLimit": 10000
     },
     "inputWidgets": {},
     "nuid": "5c6fbb49-aba2-45b1-bbf8-f6d1ce40508e",
     "showTitle": false,
     "tableResultSettingsMap": {},
     "title": ""
    }
   },
   "source": [
    "## 4. The Semantic Layer\n",
    "\n",
    "The SemanticModel results are used to generate YAML files which are saved automatically. These files defines the semantic layer, including the models (tables) and their relationships. \n",
    "\n",
    "By default, these files are saved in the current working directory. You can configure this path by setting the `PROJECT_BASE` environment variable."
   ]
  },
  {
   "cell_type": "markdown",
   "metadata": {
    "application/vnd.databricks.v1+cell": {
     "cellMetadata": {
      "byteLimit": 2048000,
      "rowLimit": 10000
     },
     "inputWidgets": {},
     "nuid": "4bbde975-cbfd-4873-b50a-359f81361a43",
     "showTitle": false,
     "tableResultSettingsMap": {},
     "title": ""
    }
   },
   "source": [
    "## Syncing with Databricks Unity Catalog\n"
   ]
  },
  {
   "cell_type": "markdown",
   "metadata": {
    "application/vnd.databricks.v1+cell": {
     "cellMetadata": {},
     "inputWidgets": {},
     "nuid": "bd469266-61dc-485b-8aba-8528958d9f03",
     "showTitle": false,
     "tableResultSettingsMap": {},
     "title": ""
    }
   },
   "source": [
    "Fill in the variables required in the code snippet below:"
   ]
  },
  {
   "cell_type": "code",
   "execution_count": 0,
   "metadata": {
    "application/vnd.databricks.v1+cell": {
     "cellMetadata": {
      "byteLimit": 2048000,
      "rowLimit": 10000
     },
     "inputWidgets": {},
     "nuid": "08886302-6506-40c4-9aa9-c51c74cc170c",
     "showTitle": false,
     "tableResultSettingsMap": {},
     "title": ""
    }
   },
   "outputs": [],
   "source": [
    "import os\n",
    "\n",
    "from pyspark.sql import SparkSession\n",
    "from pyspark.sql.types import (\n",
    "    BooleanType,\n",
    "    DateType,\n",
    "    DoubleType,\n",
    "    LongType,\n",
    "    StringType,\n",
    "    StructField,\n",
    "    StructType,\n",
    "    TimestampType,\n",
    ")\n",
    "\n",
    "# Assuming the intugle library is installed in the Databricks environment\n",
    "# If not, you would need to install it, e.g., with %pip install intugle\n",
    "from intugle.parser.manifest import ManifestLoader\n",
    "\n",
    "# --- Configuration ---\n",
    "# Please update these values to match your Databricks environment\n",
    "\n",
    "# The name of the Unity Catalog to use\n",
    "CATALOG_NAME = \"intugle\"\n",
    "\n",
    "# The name of the schema (database) within the catalog to create tables in\n",
    "SCHEMA_NAME = \"default\"\n",
    "\n",
    "# The absolute path to your Intugle project's root directory within Databricks.\n",
    "# This is where your .yml files are located.\n",
    "# Example: \"/Workspace/Users/your.email@domain.com/data-tools/\"\n",
    "INTUGLE_PROJECT_ROOT = \"/Workspace/Users/raphael.tony@intugle.ai/models/\"\n",
    "\n",
    "# The base path for your raw data files (CSVs) within Databricks Volumes.\n",
    "# The script will combine this path with the relative paths from your YAML files.\n",
    "# Example: \"/Volumes/main/default/raw_data/\"\n",
    "VOLUME_MOUNT_PATH = \"/Volumes/intugle/default/sample_datasets/\"\n",
    "\n",
    "# --- End of Configuration ---"
   ]
  },
  {
   "cell_type": "markdown",
   "metadata": {
    "application/vnd.databricks.v1+cell": {
     "cellMetadata": {},
     "inputWidgets": {},
     "nuid": "d2a7c565-bf29-4aee-a7a3-876fcd646619",
     "showTitle": false,
     "tableResultSettingsMap": {},
     "title": ""
    }
   },
   "source": [
    "Run the snippet below to sync with the Unity catalog"
   ]
  },
  {
   "cell_type": "code",
   "execution_count": 0,
   "metadata": {
    "application/vnd.databricks.v1+cell": {
     "cellMetadata": {
      "byteLimit": 2048000,
      "rowLimit": 10000
     },
     "inputWidgets": {},
     "nuid": "15ae2a89-bc93-4ed1-a10c-b15e1c95d717",
     "showTitle": false,
     "tableResultSettingsMap": {},
     "title": ""
    }
   },
   "outputs": [
    {
     "name": "stdout",
     "output_type": "stream",
     "text": [
      "Loading Intugle manifest from: /Workspace/Users/raphael.tony@intugle.ai/models/\n",
      "Manifest loaded successfully.\n",
      "Starting table creation in catalog 'intugle', schema 'default'...\n",
      "\n",
      "Processing table: intugle.default.encounters\n",
      "Executing CREATE TABLE statement...\n",
      "Table intugle.default.encounters created or already exists.\n",
      "Reading data from: /Volumes/intugle/default/sample_datasets/encounters.csv\n",
      "Generated Spark schema for CSV reading.\n",
      "Writing data to intugle.default.encounters...\n",
      "Successfully populated table intugle.default.encounters.\n",
      "\n",
      "Processing table: intugle.default.claims\n",
      "Executing CREATE TABLE statement...\n",
      "Table intugle.default.claims created or already exists.\n",
      "Reading data from: /Volumes/intugle/default/sample_datasets/claims.csv\n",
      "Generated Spark schema for CSV reading.\n",
      "Writing data to intugle.default.claims...\n",
      "Successfully populated table intugle.default.claims.\n",
      "\n",
      "Processing table: intugle.default.medications\n",
      "Executing CREATE TABLE statement...\n",
      "Table intugle.default.medications created or already exists.\n",
      "Reading data from: /Volumes/intugle/default/sample_datasets/medications.csv\n",
      "Generated Spark schema for CSV reading.\n",
      "Writing data to intugle.default.medications...\n",
      "Successfully populated table intugle.default.medications.\n",
      "\n",
      "Processing table: intugle.default.allergies\n",
      "Executing CREATE TABLE statement...\n",
      "Table intugle.default.allergies created or already exists.\n",
      "Reading data from: /Volumes/intugle/default/sample_datasets/allergies.csv\n",
      "Generated Spark schema for CSV reading.\n",
      "Writing data to intugle.default.allergies...\n",
      "Successfully populated table intugle.default.allergies.\n",
      "\n",
      "Processing table: intugle.default.careplans\n",
      "Executing CREATE TABLE statement...\n",
      "Table intugle.default.careplans created or already exists.\n",
      "Reading data from: /Volumes/intugle/default/sample_datasets/careplans.csv\n",
      "Generated Spark schema for CSV reading.\n",
      "Writing data to intugle.default.careplans...\n",
      "Successfully populated table intugle.default.careplans.\n",
      "\n",
      "Processing table: intugle.default.claims_transactions\n",
      "Executing CREATE TABLE statement...\n",
      "Table intugle.default.claims_transactions created or already exists.\n",
      "Reading data from: /Volumes/intugle/default/sample_datasets/claims_transactions.csv\n",
      "Generated Spark schema for CSV reading.\n",
      "Writing data to intugle.default.claims_transactions...\n",
      "Successfully populated table intugle.default.claims_transactions.\n",
      "\n",
      "Processing table: intugle.default.devices\n",
      "Executing CREATE TABLE statement...\n",
      "Table intugle.default.devices created or already exists.\n",
      "Reading data from: /Volumes/intugle/default/sample_datasets/devices.csv\n",
      "Generated Spark schema for CSV reading.\n",
      "Writing data to intugle.default.devices...\n",
      "Successfully populated table intugle.default.devices.\n",
      "\n",
      "Processing table: intugle.default.patients\n",
      "Executing CREATE TABLE statement...\n",
      "Table intugle.default.patients created or already exists.\n",
      "Reading data from: /Volumes/intugle/default/sample_datasets/patients.csv\n",
      "Generated Spark schema for CSV reading.\n",
      "Writing data to intugle.default.patients...\n",
      "Successfully populated table intugle.default.patients.\n",
      "\n",
      "Applying tags to tables and columns...\n",
      "Applying tags to column intugle.default.encounters.`id`\n",
      "Applying tags to column intugle.default.encounters.`start`\n",
      "Applying tags to column intugle.default.encounters.`stop`\n",
      "Applying tags to column intugle.default.encounters.`patient`\n",
      "Applying tags to column intugle.default.encounters.`organization`\n",
      "Applying tags to column intugle.default.encounters.`provider`\n",
      "Applying tags to column intugle.default.encounters.`payer`\n",
      "Applying tags to column intugle.default.encounters.`encounterclass`\n",
      "Applying tags to column intugle.default.encounters.`code`\n",
      "Applying tags to column intugle.default.encounters.`description`\n",
      "Applying tags to column intugle.default.encounters.`base_encounter_cost`\n",
      "Applying tags to column intugle.default.encounters.`total_claim_cost`\n",
      "Applying tags to column intugle.default.encounters.`payer_coverage`\n",
      "Applying tags to column intugle.default.encounters.`reasoncode`\n",
      "Applying tags to column intugle.default.encounters.`reasondescription`\n",
      "Applying tags to column intugle.default.claims.`id`\n",
      "Applying tags to column intugle.default.claims.`patientid`\n",
      "Applying tags to column intugle.default.claims.`providerid`\n",
      "Applying tags to column intugle.default.claims.`primarypatientinsuranceid`\n",
      "Applying tags to column intugle.default.claims.`secondarypatientinsuranceid`\n",
      "Applying tags to column intugle.default.claims.`departmentid`\n",
      "Applying tags to column intugle.default.claims.`patientdepartmentid`\n",
      "Applying tags to column intugle.default.claims.`diagnosis1`\n",
      "Applying tags to column intugle.default.claims.`diagnosis2`\n",
      "Applying tags to column intugle.default.claims.`diagnosis3`\n",
      "Applying tags to column intugle.default.claims.`diagnosis4`\n",
      "Applying tags to column intugle.default.claims.`diagnosis5`\n",
      "Applying tags to column intugle.default.claims.`diagnosis6`\n",
      "Applying tags to column intugle.default.claims.`diagnosis7`\n",
      "Applying tags to column intugle.default.claims.`diagnosis8`\n",
      "Applying tags to column intugle.default.claims.`referringproviderid`\n",
      "Applying tags to column intugle.default.claims.`appointmentid`\n",
      "Applying tags to column intugle.default.claims.`currentillnessdate`\n",
      "Applying tags to column intugle.default.claims.`servicedate`\n",
      "Applying tags to column intugle.default.claims.`supervisingproviderid`\n",
      "Applying tags to column intugle.default.claims.`status1`\n",
      "Applying tags to column intugle.default.claims.`status2`\n",
      "Applying tags to column intugle.default.claims.`statusp`\n",
      "Applying tags to column intugle.default.claims.`outstanding1`\n",
      "Applying tags to column intugle.default.claims.`outstanding2`\n",
      "Applying tags to column intugle.default.claims.`outstandingp`\n",
      "Applying tags to column intugle.default.claims.`lastbilleddate1`\n",
      "Applying tags to column intugle.default.claims.`lastbilleddate2`\n",
      "Applying tags to column intugle.default.claims.`lastbilleddatep`\n",
      "Applying tags to column intugle.default.claims.`healthcareclaimtypeid1`\n",
      "Applying tags to column intugle.default.claims.`healthcareclaimtypeid2`\n",
      "Applying tags to column intugle.default.medications.`start`\n",
      "Applying tags to column intugle.default.medications.`stop`\n",
      "Applying tags to column intugle.default.medications.`patient`\n",
      "Applying tags to column intugle.default.medications.`payer`\n",
      "Applying tags to column intugle.default.medications.`encounter`\n",
      "Applying tags to column intugle.default.medications.`code`\n",
      "Applying tags to column intugle.default.medications.`description`\n",
      "Applying tags to column intugle.default.medications.`base_cost`\n",
      "Applying tags to column intugle.default.medications.`payer_coverage`\n",
      "Applying tags to column intugle.default.medications.`dispenses`\n",
      "Applying tags to column intugle.default.medications.`totalcost`\n",
      "Applying tags to column intugle.default.medications.`reasoncode`\n",
      "Applying tags to column intugle.default.medications.`reasondescription`\n",
      "Applying tags to column intugle.default.allergies.`start`\n",
      "Applying tags to column intugle.default.allergies.`stop`\n",
      "Applying tags to column intugle.default.allergies.`patient`\n",
      "Applying tags to column intugle.default.allergies.`encounter`\n",
      "Applying tags to column intugle.default.allergies.`code`\n",
      "Applying tags to column intugle.default.allergies.`system`\n",
      "Applying tags to column intugle.default.allergies.`description`\n",
      "Applying tags to column intugle.default.allergies.`type`\n",
      "Applying tags to column intugle.default.allergies.`category`\n",
      "Applying tags to column intugle.default.allergies.`reaction1`\n",
      "Applying tags to column intugle.default.allergies.`description1`\n",
      "Applying tags to column intugle.default.allergies.`severity1`\n",
      "Applying tags to column intugle.default.allergies.`reaction2`\n",
      "Applying tags to column intugle.default.allergies.`description2`\n",
      "Applying tags to column intugle.default.allergies.`severity2`\n",
      "Applying tags to column intugle.default.careplans.`id`\n",
      "Applying tags to column intugle.default.careplans.`start`\n",
      "Applying tags to column intugle.default.careplans.`stop`\n",
      "Applying tags to column intugle.default.careplans.`patient`\n",
      "Applying tags to column intugle.default.careplans.`encounter`\n",
      "Applying tags to column intugle.default.careplans.`code`\n",
      "Applying tags to column intugle.default.careplans.`description`\n",
      "Applying tags to column intugle.default.careplans.`reasoncode`\n",
      "Applying tags to column intugle.default.careplans.`reasondescription`\n",
      "Applying tags to column intugle.default.claims_transactions.`id`\n",
      "Applying tags to column intugle.default.claims_transactions.`claimid`\n",
      "Applying tags to column intugle.default.claims_transactions.`chargeid`\n",
      "Applying tags to column intugle.default.claims_transactions.`patientid`\n",
      "Applying tags to column intugle.default.claims_transactions.`type`\n",
      "Applying tags to column intugle.default.claims_transactions.`amount`\n",
      "Applying tags to column intugle.default.claims_transactions.`method`\n",
      "Applying tags to column intugle.default.claims_transactions.`fromdate`\n",
      "Applying tags to column intugle.default.claims_transactions.`todate`\n",
      "Applying tags to column intugle.default.claims_transactions.`placeofservice`\n",
      "Applying tags to column intugle.default.claims_transactions.`procedurecode`\n",
      "Applying tags to column intugle.default.claims_transactions.`modifier1`\n",
      "Applying tags to column intugle.default.claims_transactions.`modifier2`\n",
      "Applying tags to column intugle.default.claims_transactions.`diagnosisref1`\n",
      "Applying tags to column intugle.default.claims_transactions.`diagnosisref2`\n",
      "Applying tags to column intugle.default.claims_transactions.`diagnosisref3`\n",
      "Applying tags to column intugle.default.claims_transactions.`diagnosisref4`\n",
      "Applying tags to column intugle.default.claims_transactions.`units`\n",
      "Applying tags to column intugle.default.claims_transactions.`departmentid`\n",
      "Applying tags to column intugle.default.claims_transactions.`notes`\n",
      "Applying tags to column intugle.default.claims_transactions.`unitamount`\n",
      "Applying tags to column intugle.default.claims_transactions.`transferoutid`\n",
      "WARNING: Could not apply tags to column intugle.default.claims_transactions.`transferoutid`. Reason: [RequestId=34ece83d-f456-402a-8bda-c55bad85158b ErrorClass=INVALID_PARAMETER_VALUE.INVALID_PARAMETER_VALUE] Tag name Inter-Facility Movement contains one or more of the reserved characters: List(., ,, -, =, /, :)\n",
      "\n",
      "JVM stacktrace:\n",
      "com.databricks.sql.managedcatalog.UnityCatalogServiceException\n",
      "\tat com.databricks.managedcatalog.ErrorDetailsHandler.wrapServiceException(ErrorDetailsHandler.scala:126)\n",
      "\tat com.databricks.managedcatalog.ErrorDetailsHandler.wrapServiceException$(ErrorDetailsHandler.scala:66)\n",
      "\tat com.databricks.managedcatalog.ManagedCatalogClientImpl.wrapServiceException(ManagedCatalogClientImpl.scala:268)\n",
      "\tat com.databricks.managedcatalog.ManagedCatalogClientImpl.recordAndWrapExceptionBase(ManagedCatalogClientImpl.scala:7485)\n",
      "\tat com.databricks.managedcatalog.ManagedCatalogClientImpl.recordAndWrapException(ManagedCatalogClientImpl.scala:7471)\n",
      "\tat com.databricks.managedcatalog.ManagedCatalogClientImpl.setColumnTags(ManagedCatalogClientImpl.scala:7952)\n",
      "\tat com.databricks.sql.managedcatalog.ManagedCatalogCommon.setColumnTags(ManagedCatalogCommon.scala:3643)\n",
      "\tat com.databricks.sql.managedcatalog.ProfiledManagedCatalog.$anonfun$setColumnTags$1(ProfiledManagedCatalog.scala:1066)\n",
      "\tat scala.runtime.java8.JFunction0$mcV$sp.apply(JFunction0$mcV$sp.scala:18)\n",
      "\tat org.apache.spark.sql.catalyst.MetricKeyUtils$.measure(MetricKey.scala:1867)\n",
      "\tat com.databricks.sql.managedcatalog.ProfiledManagedCatalog.$anonfun$profile$1(ProfiledManagedCatalog.scala:64)\n",
      "\tat com.databricks.spark.util.FrameProfiler$.$anonfun$record$1(FrameProfiler.scala:113)\n",
      "\tat com.databricks.spark.util.FrameProfilerExporter$.maybeExportFrameProfiler(FrameProfilerExporter.scala:159)\n",
      "\tat com.databricks.spark.util.FrameProfiler$.record(FrameProfiler.scala:104)\n",
      "\tat com.databricks.sql.managedcatalog.ProfiledManagedCatalog.profile(ProfiledManagedCatalog.scala:63)\n",
      "\tat com.databricks.sql.managedcatalog.ProfiledManagedCatalog.setColumnTags(ProfiledManagedCatalog.scala:1066)\n",
      "\tat com.databricks.sql.managedcatalog.ManagedCatalogSessionCatalog.setColumnTags(ManagedCatalogSessionCatalog.scala:2994)\n",
      "\tat com.databricks.sql.managedcatalog.command.SetColumnTagsCommand.run(TaggingCommand.scala:94)\n",
      "\tat org.apache.spark.sql.execution.command.ExecutedCommandExec.$anonfun$sideEffectResult$2(commands.scala:87)\n",
      "\tat org.apache.spark.sql.execution.SparkPlan.runCommandInAetherOrSpark(SparkPlan.scala:195)\n",
      "\tat org.apache.spark.sql.execution.command.ExecutedCommandExec.$anonfun$sideEffectResult$1(commands.scala:87)\n",
      "\tat com.databricks.spark.util.FrameProfiler$.$anonfun$record$1(FrameProfiler.scala:113)\n",
      "\tat com.databricks.spark.util.FrameProfilerExporter$.maybeExportFrameProfiler(FrameProfilerExporter.scala:159)\n",
      "\tat com.databricks.spark.util.FrameProfiler$.record(FrameProfiler.scala:104)\n",
      "\tat org.apache.spark.sql.execution.command.ExecutedCommandExec.sideEffectResult$lzycompute(commands.scala:84)\n",
      "\tat org.apache.spark.sql.execution.command.ExecutedCommandExec.sideEffectResult(commands.scala:83)\n",
      "\tat org.apache.spark.sql.execution.command.ExecutedCommandExec.executeCollect(commands.scala:97)\n",
      "\tat org.apache.spark.sql.execution.QueryExecution.$anonfun$eagerlyExecuteCommands$5(QueryExecution.scala:507)\n",
      "\tat com.databricks.util.LexicalThreadLocal$Handle.runWith(LexicalThreadLocal.scala:63)\n",
      "\tat org.apache.spark.sql.execution.QueryExecution.$anonfun$eagerlyExecuteCommands$4(QueryExecution.scala:507)\n",
      "\tat org.apache.spark.sql.catalyst.QueryPlanningTracker$.withTracker(QueryPlanningTracker.scala:267)\n",
      "\tat org.apache.spark.sql.execution.QueryExecution.$anonfun$eagerlyExecuteCommands$3(QueryExecution.scala:506)\n",
      "\tat org.apache.spark.sql.execution.SQLExecution$.$anonfun$withNewExecutionId0$13(SQLExecution.scala:536)\n",
      "\tat com.databricks.sql.util.MemoryTrackerHelper.withMemoryTracking(MemoryTrackerHelper.scala:111)\n",
      "\tat org.apache.spark.sql.execution.SQLExecution$.$anonfun$withNewExecutionId0$12(SQLExecution.scala:458)\n",
      "\tat org.apache.spark.sql.execution.SQLExecution$.withSessionTagsApplied(SQLExecution.scala:834)\n",
      "\tat org.apache.spark.sql.execution.SQLExecution$.$anonfun$withNewExecutionId0$11(SQLExecution.scala:386)\n",
      "\tat org.apache.spark.JobArtifactSet$.withActiveJobArtifactState(JobArtifactSet.scala:97)\n",
      "\tat org.apache.spark.sql.artifact.ArtifactManager.$anonfun$withResources$1(ArtifactManager.scala:121)\n",
      "\tat org.apache.spark.sql.artifact.ArtifactManager.withClassLoaderIfNeeded(ArtifactManager.scala:115)\n",
      "\tat org.apache.spark.sql.artifact.ArtifactManager.withResources(ArtifactManager.scala:120)\n",
      "\tat org.apache.spark.sql.execution.SQLExecution$.$anonfun$withNewExecutionId0$10(SQLExecution.scala:386)\n",
      "\tat org.apache.spark.sql.execution.SQLExecution$.withSQLConfPropagated(SQLExecution.scala:863)\n",
      "\tat org.apache.spark.sql.execution.SQLExecution$.$anonfun$withNewExecutionId0$1(SQLExecution.scala:385)\n",
      "\tat org.apache.spark.sql.SparkSession.withActive(SparkSession.scala:860)\n",
      "\tat org.apache.spark.sql.execution.SQLExecution$.withNewExecutionId0(SQLExecution.scala:238)\n",
      "\tat org.apache.spark.sql.execution.SQLExecution$.withNewExecutionId(SQLExecution.scala:787)\n",
      "\tat org.apache.spark.sql.execution.QueryExecution.$anonfun$eagerlyExecuteCommands$2(QueryExecution.scala:502)\n",
      "\tat org.apache.spark.sql.execution.QueryExecution$.withInternalError(QueryExecution.scala:1449)\n",
      "\tat org.apache.spark.sql.execution.QueryExecution.$anonfun$eagerlyExecuteCommands$1(QueryExecution.scala:498)\n",
      "\tat org.apache.spark.sql.execution.QueryExecution.withMVTagsIfNecessary(QueryExecution.scala:418)\n",
      "\tat org.apache.spark.sql.execution.QueryExecution.org$apache$spark$sql$execution$QueryExecution$$eagerlyExecute$1(QueryExecution.scala:496)\n",
      "\tat org.apache.spark.sql.execution.QueryExecution$$anonfun$$nestedInanonfun$eagerlyExecuteCommands$8$1.applyOrElse(QueryExecution.scala:578)\n",
      "\tat org.apache.spark.sql.execution.QueryExecution$$anonfun$$nestedInanonfun$eagerlyExecuteCommands$8$1.applyOrElse(QueryExecution.scala:570)\n",
      "\tat org.apache.spark.sql.catalyst.trees.TreeNode.$anonfun$transformDownWithPruning$1(TreeNode.scala:529)\n",
      "\tat org.apache.spark.sql.catalyst.trees.CurrentOrigin$.withOrigin(origin.scala:121)\n",
      "\tat org.apache.spark.sql.catalyst.trees.TreeNode.transformDownWithPruning(TreeNode.scala:529)\n",
      "\tat org.apache.spark.sql.catalyst.plans.logical.LogicalPlan.org$apache$spark$sql$catalyst$plans$logical$AnalysisHelper$$super$transformDownWithPruning(LogicalPlan.scala:42)\n",
      "\tat org.apache.spark.sql.catalyst.plans.logical.AnalysisHelper.transformDownWithPruning(AnalysisHelper.scala:361)\n",
      "\tat org.apache.spark.sql.catalyst.plans.logical.AnalysisHelper.transformDownWithPruning$(AnalysisHelper.scala:357)\n",
      "\tat org.apache.spark.sql.catalyst.plans.logical.LogicalPlan.transformDownWithPruning(LogicalPlan.scala:42)\n",
      "\tat org.apache.spark.sql.catalyst.plans.logical.LogicalPlan.transformDownWithPruning(LogicalPlan.scala:42)\n",
      "\tat org.apache.spark.sql.catalyst.trees.TreeNode.transformDown(TreeNode.scala:505)\n",
      "\tat org.apache.spark.sql.execution.QueryExecution.$anonfun$eagerlyExecuteCommands$8(QueryExecution.scala:570)\n",
      "\tat org.apache.spark.sql.catalyst.plans.logical.AnalysisHelper$.allowInvokingTransformsInAnalyzer(AnalysisHelper.scala:418)\n",
      "\tat org.apache.spark.sql.execution.QueryExecution.eagerlyExecuteCommands(QueryExecution.scala:570)\n",
      "\tat org.apache.spark.sql.execution.QueryExecution.$anonfun$lazyCommandExecuted$1(QueryExecution.scala:374)\n",
      "\tat scala.util.Try$.apply(Try.scala:217)\n",
      "\tat org.apache.spark.util.Utils$.doTryWithCallerStacktrace(Utils.scala:1686)\n",
      "\tat org.apache.spark.util.Utils$.getTryWithCallerStacktrace(Utils.scala:1747)\n",
      "\tat org.apache.spark.util.LazyTry.get(LazyTry.scala:75)\n",
      "\tat org.apache.spark.sql.execution.QueryExecution.commandExecuted(QueryExecution.scala:379)\n",
      "\tat org.apache.spark.sql.classic.Dataset.<init>(Dataset.scala:432)\n",
      "\tat org.apache.spark.sql.classic.Dataset$.$anonfun$ofRows$3(Dataset.scala:155)\n",
      "\tat org.apache.spark.sql.SparkSession.withActive(SparkSession.scala:860)\n",
      "\tat org.apache.spark.sql.classic.SparkSession.$anonfun$withActiveAndFrameProfiler$1(SparkSession.scala:1072)\n",
      "\tat com.databricks.spark.util.FrameProfiler$.$anonfun$record$1(FrameProfiler.scala:113)\n",
      "\tat com.databricks.spark.util.FrameProfilerExporter$.maybeExportFrameProfiler(FrameProfilerExporter.scala:159)\n",
      "\tat com.databricks.spark.util.FrameProfiler$.record(FrameProfiler.scala:104)\n",
      "\tat org.apache.spark.sql.classic.SparkSession.withActiveAndFrameProfiler(SparkSession.scala:1072)\n",
      "\tat org.apache.spark.sql.classic.Dataset$.ofRows(Dataset.scala:146)\n",
      "\tat org.apache.spark.sql.classic.SparkSession.$anonfun$sql$4(SparkSession.scala:851)\n",
      "\tat org.apache.spark.sql.SparkSession.withActive(SparkSession.scala:860)\n",
      "\tat org.apache.spark.sql.classic.SparkSession.sql(SparkSession.scala:814)\n",
      "\tat org.apache.spark.sql.connect.planner.SparkConnectPlanner.executeSQL(SparkConnectPlanner.scala:3510)\n",
      "\tat org.apache.spark.sql.connect.planner.SparkConnectPlanner.handleSqlCommand(SparkConnectPlanner.scala:3340)\n",
      "\tat org.apache.spark.sql.connect.planner.SparkConnectPlanner.process(SparkConnectPlanner.scala:3217)\n",
      "\tat org.apache.spark.sql.connect.execution.ExecuteThreadRunner.handleCommand(ExecuteThreadRunner.scala:385)\n",
      "\tat org.apache.spark.sql.connect.execution.ExecuteThreadRunner.$anonfun$executeInternal$1(ExecuteThreadRunner.scala:282)\n",
      "\tat org.apache.spark.sql.connect.execution.ExecuteThreadRunner.$anonfun$executeInternal$1$adapted(ExecuteThreadRunner.scala:238)\n",
      "\tat org.apache.spark.sql.connect.service.SessionHolder.$anonfun$withSession$2(SessionHolder.scala:466)\n",
      "\tat org.apache.spark.sql.SparkSession.withActive(SparkSession.scala:860)\n",
      "\tat org.apache.spark.sql.connect.service.SessionHolder.$anonfun$withSession$1(SessionHolder.scala:466)\n",
      "\tat org.apache.spark.JobArtifactSet$.withActiveJobArtifactState(JobArtifactSet.scala:97)\n",
      "\tat org.apache.spark.sql.artifact.ArtifactManager.$anonfun$withResources$1(ArtifactManager.scala:121)\n",
      "\tat org.apache.spark.sql.artifact.ArtifactManager.withClassLoaderIfNeeded(ArtifactManager.scala:115)\n",
      "\tat org.apache.spark.sql.artifact.ArtifactManager.withResources(ArtifactManager.scala:120)\n",
      "\tat org.apache.spark.sql.connect.service.SessionHolder.withSession(SessionHolder.scala:465)\n",
      "\tat org.apache.spark.sql.connect.execution.ExecuteThreadRunner.executeInternal(ExecuteThreadRunner.scala:238)\n",
      "\tat org.apache.spark.sql.connect.execution.ExecuteThreadRunner.$anonfun$execute$1(ExecuteThreadRunner.scala:141)\n",
      "\tat scala.runtime.java8.JFunction0$mcV$sp.apply(JFunction0$mcV$sp.scala:18)\n",
      "\tat com.databricks.spark.connect.service.UtilizationMetrics.recordActiveQueries(UtilizationMetrics.scala:43)\n",
      "\tat com.databricks.spark.connect.service.UtilizationMetrics.recordActiveQueries$(UtilizationMetrics.scala:40)\n",
      "\tat org.apache.spark.sql.connect.execution.ExecuteThreadRunner.recordActiveQueries(ExecuteThreadRunner.scala:53)\n",
      "\tat org.apache.spark.sql.connect.execution.ExecuteThreadRunner.org$apache$spark$sql$connect$execution$ExecuteThreadRunner$$execute(ExecuteThreadRunner.scala:139)\n",
      "\tat org.apache.spark.sql.connect.execution.ExecuteThreadRunner$ExecutionThread.$anonfun$run$2(ExecuteThreadRunner.scala:586)\n",
      "\tat scala.runtime.java8.JFunction0$mcV$sp.apply(JFunction0$mcV$sp.scala:18)\n",
      "\tat com.databricks.unity.UCSEphemeralState$Handle.runWith(UCSEphemeralState.scala:51)\n",
      "\tat com.databricks.unity.HandleImpl.runWith(UCSHandle.scala:104)\n",
      "\tat com.databricks.unity.HandleImpl.$anonfun$runWithAndClose$1(UCSHandle.scala:109)\n",
      "\tat scala.util.Using$.resource(Using.scala:296)\n",
      "\tat com.databricks.unity.HandleImpl.runWithAndClose(UCSHandle.scala:108)\n",
      "\tat org.apache.spark.sql.connect.execution.ExecuteThreadRunner$ExecutionThread.run(ExecuteThreadRunner.scala:586)\n",
      "Applying tags to column intugle.default.claims_transactions.`transfertype`\n",
      "Applying tags to column intugle.default.claims_transactions.`payments`\n",
      "Applying tags to column intugle.default.claims_transactions.`adjustments`\n",
      "Applying tags to column intugle.default.claims_transactions.`transfers`\n",
      "Applying tags to column intugle.default.claims_transactions.`outstanding`\n",
      "Applying tags to column intugle.default.claims_transactions.`appointmentid`\n",
      "Applying tags to column intugle.default.claims_transactions.`linenote`\n",
      "Applying tags to column intugle.default.claims_transactions.`patientinsuranceid`\n",
      "Applying tags to column intugle.default.claims_transactions.`feescheduleid`\n",
      "Applying tags to column intugle.default.claims_transactions.`providerid`\n",
      "Applying tags to column intugle.default.claims_transactions.`supervisingproviderid`\n",
      "Applying tags to column intugle.default.devices.`start`\n",
      "Applying tags to column intugle.default.devices.`stop`\n",
      "Applying tags to column intugle.default.devices.`patient`\n",
      "Applying tags to column intugle.default.devices.`encounter`\n",
      "Applying tags to column intugle.default.devices.`code`\n",
      "Applying tags to column intugle.default.devices.`description`\n",
      "Applying tags to column intugle.default.devices.`udi`\n",
      "Applying tags to column intugle.default.patients.`id`\n",
      "Applying tags to column intugle.default.patients.`birthdate`\n",
      "Applying tags to column intugle.default.patients.`deathdate`\n",
      "Applying tags to column intugle.default.patients.`ssn`\n",
      "Applying tags to column intugle.default.patients.`drivers`\n",
      "Applying tags to column intugle.default.patients.`passport`\n",
      "Applying tags to column intugle.default.patients.`prefix`\n",
      "Applying tags to column intugle.default.patients.`first`\n",
      "Applying tags to column intugle.default.patients.`last`\n",
      "Applying tags to column intugle.default.patients.`suffix`\n",
      "Applying tags to column intugle.default.patients.`maiden`\n",
      "Applying tags to column intugle.default.patients.`marital`\n",
      "Applying tags to column intugle.default.patients.`race`\n",
      "Applying tags to column intugle.default.patients.`ethnicity`\n",
      "Applying tags to column intugle.default.patients.`gender`\n",
      "Applying tags to column intugle.default.patients.`birthplace`\n",
      "Applying tags to column intugle.default.patients.`address`\n",
      "Applying tags to column intugle.default.patients.`city`\n",
      "Applying tags to column intugle.default.patients.`state`\n",
      "Applying tags to column intugle.default.patients.`county`\n",
      "Applying tags to column intugle.default.patients.`zip`\n",
      "Applying tags to column intugle.default.patients.`lat`\n",
      "Applying tags to column intugle.default.patients.`lon`\n",
      "Applying tags to column intugle.default.patients.`healthcare_expenses`\n",
      "Applying tags to column intugle.default.patients.`healthcare_coverage`\n",
      "\n",
      "-------------------------------------------------\n",
      "Unity Catalog setup process completed successfully!\n",
      "-------------------------------------------------\n"
     ]
    }
   ],
   "source": [
    "import os\n",
    "\n",
    "import sqlglot\n",
    "\n",
    "# Assuming the intugle library is installed in the Databricks environment\n",
    "# If not, you would need to install it, e.g., with %pip install intugle\n",
    "\n",
    "\n",
    "def load_intugle_manifest(project_path: str):\n",
    "    \"\"\"\n",
    "    Loads the complete Intugle manifest from the specified project directory.\n",
    "\n",
    "    Args:\n",
    "        project_path: The root path of the Intugle project containing .yml files.\n",
    "\n",
    "    Returns:\n",
    "        An instance of the Manifest object populated with all metadata.\n",
    "    \"\"\"\n",
    "    print(f\"Loading Intugle manifest from: {project_path}\")\n",
    "    if not os.path.isdir(project_path):\n",
    "        raise FileNotFoundError(\n",
    "            f\"The specified Intugle project path does not exist: {project_path}\"\n",
    "        )\n",
    "    manifest_loader = ManifestLoader(project_path)\n",
    "    manifest_loader.load()\n",
    "    print(\"Manifest loaded successfully.\")\n",
    "    return manifest_loader.manifest\n",
    "\n",
    "\n",
    "def map_intugle_to_spark_type(intugle_type: str) -> str:\n",
    "    \"\"\"\n",
    "    Maps data types from Intugle's analysis to Spark SQL data types for DDL.\n",
    "\n",
    "    Args:\n",
    "        intugle_type: The data type string from Intugle (e.g., 'string', 'integer').\n",
    "\n",
    "    Returns:\n",
    "        The corresponding Spark SQL data type string.\n",
    "    \"\"\"\n",
    "    type_mapping = {\n",
    "        \"string\": \"STRING\",\n",
    "        \"integer\": \"BIGINT\",\n",
    "        \"float\": \"DOUBLE\",\n",
    "        \"date & time\": \"TIMESTAMP\",\n",
    "        \"date\": \"DATE\",\n",
    "        \"boolean\": \"BOOLEAN\",\n",
    "    }\n",
    "    # Default to STRING if the type is not found in the mapping\n",
    "    return type_mapping.get(intugle_type, \"STRING\")\n",
    "\n",
    "\n",
    "def get_spark_schema(columns) -> StructType:\n",
    "    \"\"\"\n",
    "    Converts a list of Intugle columns from the manifest to a PySpark StructType\n",
    "    to be used when reading CSVs.\n",
    "\n",
    "    Args:\n",
    "        columns: A list of Column objects from the Intugle manifest.\n",
    "\n",
    "    Returns:\n",
    "        A PySpark StructType defining the schema.\n",
    "    \"\"\"\n",
    "\n",
    "    def get_spark_type_object(intugle_type: str):\n",
    "        \"\"\"Maps Intugle type string to a Spark DataType object.\"\"\"\n",
    "        type_mapping = {\n",
    "            \"string\": StringType(),\n",
    "            \"integer\": LongType(),\n",
    "            \"float\": DoubleType(),\n",
    "            \"date & time\": TimestampType(),\n",
    "            \"date\": DateType(),\n",
    "            \"boolean\": BooleanType(),\n",
    "        }\n",
    "        # Default to StringType for unknown or unspecified types\n",
    "        return type_mapping.get(intugle_type, StringType())\n",
    "\n",
    "    fields = []\n",
    "    for col in columns:\n",
    "        spark_type = get_spark_type_object(col.type)\n",
    "        # Assume all columns are nullable when reading from a raw CSV\n",
    "        fields.append(StructField(col.name, spark_type, True))\n",
    "\n",
    "    return StructType(fields)\n",
    "\n",
    "\n",
    "def create_and_populate_tables(\n",
    "    spark: SparkSession, manifest, catalog: str, schema: str, volume_base_path: str\n",
    "):\n",
    "    \"\"\"\n",
    "    Generates and executes SQL to create tables in Unity Catalog and populates them\n",
    "    with data from the source CSV files.\n",
    "\n",
    "    Args:\n",
    "        spark: The active SparkSession.\n",
    "        manifest: The loaded Intugle Manifest object.\n",
    "        catalog: The name of the Unity Catalog.\n",
    "        schema: The name of the schema to create tables in.\n",
    "        volume_base_path: The base path where raw CSV files are located.\n",
    "    \"\"\"\n",
    "    print(f\"Starting table creation in catalog '{catalog}', schema '{schema}'...\")\n",
    "\n",
    "    # Ensure the catalog and schema exist\n",
    "    spark.sql(f\"USE CATALOG {catalog}\")\n",
    "    spark.sql(f\"CREATE SCHEMA IF NOT EXISTS {schema}\")\n",
    "\n",
    "    for source in manifest.sources.values():\n",
    "        table = source.table\n",
    "        table_name = table.name\n",
    "        full_table_name = f\"{catalog}.{schema}.{table_name}\"\n",
    "        print(f\"\\nProcessing table: {full_table_name}\")\n",
    "\n",
    "        # --- 1. Generate CREATE TABLE Statement ---\n",
    "        column_definitions = []\n",
    "        for col in table.columns:\n",
    "            spark_type = map_intugle_to_spark_type(col.type)\n",
    "\n",
    "            # Add NOT NULL constraint if the column is a primary key\n",
    "            not_null_constraint = \" NOT NULL\" if col.name == table.key else \"\"\n",
    "\n",
    "            # Add comments for column descriptions\n",
    "            comment = (\n",
    "                f\" COMMENT '{col.description.replace(\"'\", \"\\\\'\")}'\"\n",
    "                if col.description\n",
    "                else \"\"\n",
    "            )\n",
    "            column_definitions.append(\n",
    "                f\"  `{col.name}` {spark_type}{not_null_constraint}{comment}\"\n",
    "            )\n",
    "\n",
    "        table_comment = (\n",
    "            f\"COMMENT '{table.description.replace(\"'\", \"\\\\'\")}'\"\n",
    "            if table.description\n",
    "            else \"\"\n",
    "        )\n",
    "\n",
    "        create_table_ddl = f\"\"\"\n",
    "        CREATE TABLE IF NOT EXISTS {full_table_name} (\n",
    "        {',\\n'.join(column_definitions)}\n",
    "        )\n",
    "        {table_comment}\n",
    "        \"\"\"\n",
    "\n",
    "        print(\"Executing CREATE TABLE statement...\")\n",
    "        spark.sql(create_table_ddl)\n",
    "        print(f\"Table {full_table_name} created or already exists.\")\n",
    "\n",
    "        # --- 2. Load Data from CSV and Populate Table ---\n",
    "        try:\n",
    "            relative_path = table.details.get(\"path\")\n",
    "            if not relative_path:\n",
    "                print(f\"WARNING: No file path found for table '{table_name}'. Skipping data load.\")\n",
    "                continue\n",
    "\n",
    "            csv_path = os.path.join(volume_base_path, relative_path)\n",
    "            print(f\"Reading data from: {csv_path}\")\n",
    "\n",
    "            if not os.path.exists(csv_path):\n",
    "                # Fallback for different volume mount structures\n",
    "                if volume_base_path.startswith('/Volumes'):\n",
    "                    csv_path_alt = '/dbfs' + csv_path\n",
    "                    if os.path.exists(csv_path_alt):\n",
    "                        csv_path = csv_path_alt\n",
    "                    else:\n",
    "                        print(f\"ERROR: CSV file not found at '{csv_path}' or '{csv_path_alt}'. Skipping data load.\")\n",
    "                        continue\n",
    "                else:\n",
    "                    print(f\"ERROR: CSV file not found at '{csv_path}'. Skipping data load.\")\n",
    "                    continue\n",
    "\n",
    "            # --- 2a. Define Explicit Schema for CSV Reading ---\n",
    "            spark_schema = get_spark_schema(table.columns)\n",
    "            print(\"Generated Spark schema for CSV reading.\")\n",
    "\n",
    "            df = spark.read.csv(csv_path, header=True, schema=spark_schema)\n",
    "\n",
    "            print(f\"Writing data to {full_table_name}...\")\n",
    "            # Use overwrite mode to ensure idempotency\n",
    "            df.write.mode(\"overwrite\").saveAsTable(full_table_name)\n",
    "            print(f\"Successfully populated table {full_table_name}.\")\n",
    "\n",
    "        except Exception as e:\n",
    "            print(f\"ERROR: Failed to load data for table {table_name}. Reason: {e}\")\n",
    "\n",
    "\n",
    "def apply_tags(spark: SparkSession, manifest, catalog: str, schema: str):\n",
    "    \"\"\"\n",
    "    Applies tags to tables and columns in Unity Catalog based on the manifest.\n",
    "\n",
    "    Args:\n",
    "        spark: The active SparkSession.\n",
    "        manifest: The loaded Intugle Manifest object.\n",
    "        catalog: The name of the Unity Catalog.\n",
    "        schema: The name of the schema where tables exist.\n",
    "    \"\"\"\n",
    "    print(\"\\nApplying tags to tables and columns...\")\n",
    "    spark.sql(f\"USE CATALOG {catalog}\")\n",
    "    spark.sql(f\"USE SCHEMA {schema}\")\n",
    "\n",
    "    for source in manifest.sources.values():\n",
    "        table = source.table\n",
    "        full_table_name = f\"{catalog}.{schema}.{table.name}\"\n",
    "\n",
    "        # --- 1. Apply Table Tags ---\n",
    "        if table.tags:\n",
    "            try:\n",
    "                # Format tags for SQL: ('key1' = 'true', 'key2' = 'true')\n",
    "                tag_str = \", \".join([f\"'{tag}'\" for tag in table.tags])\n",
    "                ddl = f\"ALTER TABLE {full_table_name} SET TAGS ({tag_str})\"\n",
    "                print(f\"Applying tags to table {full_table_name}\")\n",
    "                spark.sql(ddl)\n",
    "            except Exception as e:\n",
    "                print(f\"WARNING: Could not apply tags to table {full_table_name}. Reason: {e}\")\n",
    "\n",
    "        # --- 2. Apply Column Tags ---\n",
    "        for col in table.columns:\n",
    "            if col.tags:\n",
    "                try:\n",
    "                    tag_str = \", \".join([f\"'{tag}'\" for tag in col.tags])\n",
    "                    ddl = f\"ALTER TABLE {full_table_name} ALTER COLUMN `{col.name}` SET TAGS ({tag_str})\"\n",
    "                    print(f\"Applying tags to column {full_table_name}.`{col.name}`\")\n",
    "                    spark.sql(ddl)\n",
    "                except Exception as e:\n",
    "                    print(\n",
    "                        f\"WARNING: Could not apply tags to column {full_table_name}.`{col.name}`. Reason: {e}\"\n",
    "                    )\n",
    "\n",
    "\n",
    "def main():\n",
    "    \"\"\"\n",
    "    Main execution function to set up the Unity Catalog tables.\n",
    "    \"\"\"\n",
    "    # In a Databricks notebook, SparkSession is automatically available as `spark`\n",
    "    spark = SparkSession.builder.appName(\"IntugleUnityCatalogSetup\").getOrCreate()\n",
    "\n",
    "    try:\n",
    "        # 1. Load metadata from Intugle's YAML files\n",
    "        manifest = load_intugle_manifest(INTUGLE_PROJECT_ROOT)\n",
    "\n",
    "        # 2. Create tables and populate them with data\n",
    "        create_and_populate_tables(\n",
    "            spark, manifest, CATALOG_NAME, SCHEMA_NAME, VOLUME_MOUNT_PATH\n",
    "        )\n",
    "\n",
    "        # 3. Apply tags to tables and columns\n",
    "        apply_tags(spark, manifest, CATALOG_NAME, SCHEMA_NAME)\n",
    "\n",
    "        print(\"\\n-------------------------------------------------\")\n",
    "        print(\"Unity Catalog setup process completed successfully!\")\n",
    "        print(\"-------------------------------------------------\")\n",
    "\n",
    "    except Exception as e:\n",
    "        print(f\"\\nAn unexpected error occurred: {e}\")\n",
    "        import traceback\n",
    "        traceback.print_exc()\n",
    "\n",
    "\n",
    "if __name__ == \"__main__\":\n",
    "    main()"
   ]
  },
  {
   "cell_type": "markdown",
   "metadata": {
    "application/vnd.databricks.v1+cell": {
     "cellMetadata": {
      "byteLimit": 2048000,
      "rowLimit": 10000
     },
     "inputWidgets": {},
     "nuid": "5648a0bd-c392-44b9-b3fd-6b6f4c245be3",
     "showTitle": false,
     "tableResultSettingsMap": {},
     "title": ""
    }
   },
   "source": [
    "## 6. Data Product Creation\n",
    "\n",
    "The semantic layer serves as a foundation for the DataProduct, which streamlines the creation of reusable data products. This allows you\n",
    "to encapsulate business logic and create standardized, trustworthy data assets that can be easily shared and reused across different teams and \n",
    "applications.\n",
    "\n",
    "Let's define the model for the data product we want to build:"
   ]
  },
  {
   "cell_type": "markdown",
   "metadata": {
    "application/vnd.databricks.v1+cell": {
     "cellMetadata": {},
     "inputWidgets": {},
     "nuid": "804d2d5d-e8e2-4ec5-90a2-771992dc4fbf",
     "showTitle": false,
     "tableResultSettingsMap": {},
     "title": ""
    }
   },
   "source": [
    "#### EXAMPLE 1 : Top Patients by Claim Count"
   ]
  },
  {
   "cell_type": "code",
   "execution_count": 0,
   "metadata": {
    "application/vnd.databricks.v1+cell": {
     "cellMetadata": {
      "byteLimit": 2048000,
      "rowLimit": 10000
     },
     "inputWidgets": {},
     "nuid": "87738de2-14d5-414d-9a4c-21267df9c231",
     "showTitle": false,
     "tableResultSettingsMap": {},
     "title": ""
    }
   },
   "outputs": [],
   "source": [
    "data_product_config = {\n",
    "  \"name\": \"top_patients_by_claim_count\",\n",
    "  \"fields\": [\n",
    "    {\n",
    "      \"id\": \"patients.first\",\n",
    "      \"name\": \"first_name\",\n",
    "    },\n",
    "    {\n",
    "      \"id\": \"patients.last\",\n",
    "      \"name\": \"last_name\",\n",
    "    },\n",
    "    {\n",
    "      \"id\": \"claims.id\",\n",
    "      \"name\": \"number_of_claims\",\n",
    "      \"category\": \"measure\",\n",
    "      \"measure_func\": \"count\"\n",
    "    }\n",
    "  ],\n",
    "  \"filter\": {\n",
    "    \"sort_by\": [\n",
    "      {\n",
    "        \"id\": \"claims.id\",\n",
    "        \"alias\": \"number_of_claims\",\n",
    "        \"direction\": \"desc\"\n",
    "      }\n",
    "    ],\n",
    "    \"limit\": 10\n",
    "  }\n",
    "}"
   ]
  },
  {
   "cell_type": "markdown",
   "metadata": {
    "application/vnd.databricks.v1+cell": {
     "cellMetadata": {
      "byteLimit": 2048000,
      "rowLimit": 10000
     },
     "inputWidgets": {},
     "nuid": "2c97802d-5bb3-4663-97e6-4d4bfe8c0490",
     "showTitle": false,
     "tableResultSettingsMap": {},
     "title": ""
    }
   },
   "source": [
    "Now, let's use the `DataProduct` to generate the data product:"
   ]
  },
  {
   "cell_type": "code",
   "execution_count": 0,
   "metadata": {
    "application/vnd.databricks.v1+cell": {
     "cellMetadata": {
      "byteLimit": 2048000,
      "rowLimit": 10000
     },
     "inputWidgets": {},
     "nuid": "026f6483-877f-4861-9c60-83ef87d7f1f6",
     "showTitle": false,
     "tableResultSettingsMap": {},
     "title": ""
    }
   },
   "outputs": [
    {
     "name": "stdout",
     "output_type": "stream",
     "text": [
      "Found existing YAML for 'encounters'. Checking for staleness.\n",
      "encounters loaded\n",
      "Found existing YAML for 'claims'. Checking for staleness.\n",
      "claims loaded\n",
      "Found existing YAML for 'medications'. Checking for staleness.\n",
      "medications loaded\n",
      "Found existing YAML for 'allergies'. Checking for staleness.\n",
      "allergies loaded\n",
      "Found existing YAML for 'careplans'. Checking for staleness.\n",
      "careplans loaded\n",
      "Found existing YAML for 'claims_transactions'. Checking for staleness.\n",
      "claims_transactions loaded\n",
      "Found existing YAML for 'devices'. Checking for staleness.\n",
      "devices loaded\n",
      "Found existing YAML for 'patients'. Checking for staleness.\n",
      "patients loaded\n",
      "top_patients_by_claim_count\n",
      "top_patients_by_claim_count loaded\n"
     ]
    },
    {
     "data": {
      "text/html": [
       "<div>\n",
       "<style scoped>\n",
       "    .dataframe tbody tr th:only-of-type {\n",
       "        vertical-align: middle;\n",
       "    }\n",
       "\n",
       "    .dataframe tbody tr th {\n",
       "        vertical-align: top;\n",
       "    }\n",
       "\n",
       "    .dataframe thead th {\n",
       "        text-align: right;\n",
       "    }\n",
       "</style>\n",
       "<table border=\"1\" class=\"dataframe\">\n",
       "  <thead>\n",
       "    <tr style=\"text-align: right;\">\n",
       "      <th></th>\n",
       "      <th>first_name</th>\n",
       "      <th>last_name</th>\n",
       "      <th>number_of_claims</th>\n",
       "    </tr>\n",
       "  </thead>\n",
       "  <tbody>\n",
       "    <tr>\n",
       "      <th>0</th>\n",
       "      <td>Esther279</td>\n",
       "      <td>Runolfsson901</td>\n",
       "      <td>246</td>\n",
       "    </tr>\n",
       "    <tr>\n",
       "      <th>1</th>\n",
       "      <td>Zelda766</td>\n",
       "      <td>Ernser583</td>\n",
       "      <td>219</td>\n",
       "    </tr>\n",
       "    <tr>\n",
       "      <th>2</th>\n",
       "      <td>Bonita405</td>\n",
       "      <td>Bernier607</td>\n",
       "      <td>121</td>\n",
       "    </tr>\n",
       "    <tr>\n",
       "      <th>3</th>\n",
       "      <td>Pei116</td>\n",
       "      <td>Williamson769</td>\n",
       "      <td>98</td>\n",
       "    </tr>\n",
       "    <tr>\n",
       "      <th>4</th>\n",
       "      <td>Lavinia262</td>\n",
       "      <td>Heaney114</td>\n",
       "      <td>90</td>\n",
       "    </tr>\n",
       "    <tr>\n",
       "      <th>5</th>\n",
       "      <td>Magdalene960</td>\n",
       "      <td>Orn563</td>\n",
       "      <td>90</td>\n",
       "    </tr>\n",
       "    <tr>\n",
       "      <th>6</th>\n",
       "      <td>Tommye961</td>\n",
       "      <td>Simonis280</td>\n",
       "      <td>77</td>\n",
       "    </tr>\n",
       "    <tr>\n",
       "      <th>7</th>\n",
       "      <td>Franklyn361</td>\n",
       "      <td>Tromp100</td>\n",
       "      <td>71</td>\n",
       "    </tr>\n",
       "    <tr>\n",
       "      <th>8</th>\n",
       "      <td>Terry864</td>\n",
       "      <td>King743</td>\n",
       "      <td>69</td>\n",
       "    </tr>\n",
       "    <tr>\n",
       "      <th>9</th>\n",
       "      <td>Alaine226</td>\n",
       "      <td>Willms744</td>\n",
       "      <td>64</td>\n",
       "    </tr>\n",
       "  </tbody>\n",
       "</table>\n",
       "</div>"
      ],
      "text/plain": [
       "     first_name      last_name  number_of_claims\n",
       "0     Esther279  Runolfsson901               246\n",
       "1      Zelda766      Ernser583               219\n",
       "2     Bonita405     Bernier607               121\n",
       "3        Pei116  Williamson769                98\n",
       "4    Lavinia262      Heaney114                90\n",
       "5  Magdalene960         Orn563                90\n",
       "6     Tommye961     Simonis280                77\n",
       "7   Franklyn361       Tromp100                71\n",
       "8      Terry864        King743                69\n",
       "9     Alaine226      Willms744                64"
      ]
     },
     "execution_count": 14,
     "metadata": {},
     "output_type": "execute_result"
    }
   ],
   "source": [
    "from intugle import DataProduct\n",
    "\n",
    "# Create a DataProduct\n",
    "dp = DataProduct()\n",
    "\n",
    "# Generate the data product\n",
    "data_product = dp.build(data_product_config)\n",
    "\n",
    "data_product.to_df()"
   ]
  },
  {
   "cell_type": "markdown",
   "metadata": {
    "application/vnd.databricks.v1+cell": {
     "cellMetadata": {
      "byteLimit": 2048000,
      "rowLimit": 10000
     },
     "inputWidgets": {},
     "nuid": "0989bca6-5572-47a5-8feb-ff39cd3870c6",
     "showTitle": false,
     "tableResultSettingsMap": {},
     "title": ""
    }
   },
   "source": [
    "The `generate_product` function returns a `DataSet` object. You can also view the generated SQL query used for creating the data product:\n"
   ]
  },
  {
   "cell_type": "code",
   "execution_count": 0,
   "metadata": {
    "application/vnd.databricks.v1+cell": {
     "cellMetadata": {
      "byteLimit": 2048000,
      "rowLimit": 10000
     },
     "inputWidgets": {},
     "nuid": "cad0a5de-0a68-4f8d-8fa5-4cfac1bfb725",
     "showTitle": false,
     "tableResultSettingsMap": {},
     "title": ""
    }
   },
   "outputs": [
    {
     "data": {
      "text/plain": [
       "'SELECT \"patients\".\"first\" as first_name, \"patients\".\"last\" as last_name, count(\"claims\".\"id\") as number_of_claims FROM claims LEFT JOIN patients ON \"claims\".\"patientid\" = \"patients\".\"id\" GROUP BY \"patients\".\"first\" , \"patients\".\"last\" ORDER BY number_of_claims DESC LIMIT 10'"
      ]
     },
     "execution_count": 15,
     "metadata": {},
     "output_type": "execute_result"
    }
   ],
   "source": [
    "# The generated SQL query\n",
    "data_product.sql_query\n",
    "\n"
   ]
  },
  {
   "cell_type": "markdown",
   "metadata": {
    "application/vnd.databricks.v1+cell": {
     "cellMetadata": {
      "byteLimit": 2048000,
      "rowLimit": 10000
     },
     "inputWidgets": {},
     "nuid": "0c77ba3b-5e47-47aa-aa39-97758817fb9e",
     "showTitle": false,
     "tableResultSettingsMap": {},
     "title": ""
    }
   },
   "source": [
    "### Generating glossary for the Data Product"
   ]
  },
  {
   "cell_type": "markdown",
   "metadata": {
    "application/vnd.databricks.v1+cell": {
     "cellMetadata": {
      "byteLimit": 2048000,
      "rowLimit": 10000
     },
     "inputWidgets": {},
     "nuid": "df6896ee-2a7f-4431-af02-538d93df119c",
     "showTitle": false,
     "tableResultSettingsMap": {},
     "title": ""
    }
   },
   "source": [
    "The `data_product` is in itself a DataSet object. Hence we can run generate glossaries for it as well. "
   ]
  },
  {
   "cell_type": "code",
   "execution_count": 0,
   "metadata": {
    "application/vnd.databricks.v1+cell": {
     "cellMetadata": {
      "byteLimit": 2048000,
      "rowLimit": 10000
     },
     "inputWidgets": {},
     "nuid": "968c1692-152e-4f3d-999c-45b1b3fb8ae6",
     "showTitle": false,
     "tableResultSettingsMap": {},
     "title": ""
    }
   },
   "outputs": [
    {
     "name": "stderr",
     "output_type": "stream",
     "text": [
      "/databricks/python/lib/python3.12/site-packages/numpy/core/fromnumeric.py:3504: RuntimeWarning: Mean of empty slice.\n",
      "  return _methods._mean(a, axis=axis, dtype=dtype,\n",
      "/databricks/python/lib/python3.12/site-packages/numpy/core/_methods.py:129: RuntimeWarning: invalid value encountered in scalar divide\n",
      "  ret = ret.dtype.type(ret / rcount)\n",
      "/databricks/python/lib/python3.12/site-packages/sklearn/base.py:376: InconsistentVersionWarning: Trying to unpickle estimator DecisionTreeClassifier from version 1.7.1 when using version 1.4.2. This might lead to breaking code or invalid results. Use at your own risk. For more info please refer to:\n",
      "https://scikit-learn.org/stable/model_persistence.html#security-maintainability-limitations\n",
      "  warnings.warn(\n",
      "/databricks/python/lib/python3.12/site-packages/sklearn/base.py:376: InconsistentVersionWarning: Trying to unpickle estimator RandomForestClassifier from version 1.7.1 when using version 1.4.2. This might lead to breaking code or invalid results. Use at your own risk. For more info please refer to:\n",
      "https://scikit-learn.org/stable/model_persistence.html#security-maintainability-limitations\n",
      "  warnings.warn(\n",
      "/databricks/python/lib/python3.12/site-packages/sklearn/base.py:376: InconsistentVersionWarning: Trying to unpickle estimator LabelEncoder from version 1.7.1 when using version 1.4.2. This might lead to breaking code or invalid results. Use at your own risk. For more info please refer to:\n",
      "https://scikit-learn.org/stable/model_persistence.html#security-maintainability-limitations\n",
      "  warnings.warn(\n",
      "/databricks/python/lib/python3.12/site-packages/sklearn/base.py:376: InconsistentVersionWarning: Trying to unpickle estimator VotingClassifier from version 1.7.1 when using version 1.4.2. This might lead to breaking code or invalid results. Use at your own risk. For more info please refer to:\n",
      "https://scikit-learn.org/stable/model_persistence.html#security-maintainability-limitations\n",
      "  warnings.warn(\n"
     ]
    },
    {
     "data": {
      "application/vnd.jupyter.widget-view+json": {
       "model_id": "0ee07d06f9694748ab294e15250da362",
       "version_major": 2,
       "version_minor": 0
      },
      "text/plain": [
       "  0%|          | 0/3 [00:00<?, ?it/s]"
      ]
     },
     "metadata": {},
     "output_type": "display_data"
    },
    {
     "name": "stderr",
     "output_type": "stream",
     "text": [
      "\r  0%|          | 0/1 [00:00<?, ?it/s]\r[*] top_patients_by_claim_count:   0%|          | 0/1 [00:00<?, ?it/s]/local_disk0/.ephemeral_nfs/envs/pythonEnv-be50f3e0-0e39-4b76-80e9-7a5806855f79/lib/python3.12/site-packages/intugle/core/pipeline/key_identification/ki.py:87: SettingWithCopyWarning: \n",
      "A value is trying to be set on a copy of a slice from a DataFrame\n",
      "\n",
      "See the caveats in the documentation: https://pandas.pydata.org/pandas-docs/stable/user_guide/indexing.html#returning-a-view-versus-a-copy\n",
      "  temp.rename(columns={\"datatype_l1\": \"datatype\"}, inplace=True)\n",
      "WARNING:intugle.core.pipeline.key_identification.ki:[!] None key identified by LLM is not a valid column of top_patients_by_claim_count table\n",
      "\r[*] top_patients_by_claim_count: 100%|██████████| 1/1 [00:01<00:00,  1.42s/it]\r[*] top_patients_by_claim_count: 100%|██████████| 1/1 [00:01<00:00,  1.42s/it]\n"
     ]
    },
    {
     "data": {
      "application/vnd.jupyter.widget-view+json": {
       "model_id": "9e48785273c14421b7f487cf9c83b122",
       "version_major": 2,
       "version_minor": 0
      },
      "text/plain": [
       "  0%|          | 0/3 [00:00<?, ?it/s]"
      ]
     },
     "metadata": {},
     "output_type": "display_data"
    },
    {
     "data": {
      "text/html": [
       "<div>\n",
       "<style scoped>\n",
       "    .dataframe tbody tr th:only-of-type {\n",
       "        vertical-align: middle;\n",
       "    }\n",
       "\n",
       "    .dataframe tbody tr th {\n",
       "        vertical-align: top;\n",
       "    }\n",
       "\n",
       "    .dataframe thead th {\n",
       "        text-align: right;\n",
       "    }\n",
       "</style>\n",
       "<table border=\"1\" class=\"dataframe\">\n",
       "  <thead>\n",
       "    <tr style=\"text-align: right;\">\n",
       "      <th></th>\n",
       "      <th>column_name</th>\n",
       "      <th>table_name</th>\n",
       "      <th>business_name</th>\n",
       "      <th>datatype_l1</th>\n",
       "      <th>datatype_l2</th>\n",
       "      <th>business_glossary</th>\n",
       "      <th>business_tags</th>\n",
       "      <th>count</th>\n",
       "      <th>null_count</th>\n",
       "      <th>distinct_count</th>\n",
       "      <th>uniqueness</th>\n",
       "      <th>completeness</th>\n",
       "      <th>sample_data</th>\n",
       "    </tr>\n",
       "  </thead>\n",
       "  <tbody>\n",
       "    <tr>\n",
       "      <th>0</th>\n",
       "      <td>first_name</td>\n",
       "      <td>top_patients_by_claim_count</td>\n",
       "      <td>first_name</td>\n",
       "      <td>alphanumeric</td>\n",
       "      <td>L2OutputTypes.dimension</td>\n",
       "      <td>Identifies the given name of individuals liste...</td>\n",
       "      <td>[Patient Identification, Healthcare Claims Ana...</td>\n",
       "      <td>10</td>\n",
       "      <td>0</td>\n",
       "      <td>10</td>\n",
       "      <td>1.0</td>\n",
       "      <td>1.0</td>\n",
       "      <td>[Franklyn361, Terry864, Bonita405, Esther279, ...</td>\n",
       "    </tr>\n",
       "    <tr>\n",
       "      <th>1</th>\n",
       "      <td>last_name</td>\n",
       "      <td>top_patients_by_claim_count</td>\n",
       "      <td>last_name</td>\n",
       "      <td>alphanumeric</td>\n",
       "      <td>L2OutputTypes.dimension</td>\n",
       "      <td>Identifies the family name associated with ind...</td>\n",
       "      <td>[Patient Identification, Claims Analysis, Heal...</td>\n",
       "      <td>10</td>\n",
       "      <td>0</td>\n",
       "      <td>10</td>\n",
       "      <td>1.0</td>\n",
       "      <td>1.0</td>\n",
       "      <td>[Simonis280, Orn563, Williamson769, Ernser583,...</td>\n",
       "    </tr>\n",
       "    <tr>\n",
       "      <th>2</th>\n",
       "      <td>number_of_claims</td>\n",
       "      <td>top_patients_by_claim_count</td>\n",
       "      <td>number_of_claims</td>\n",
       "      <td>integer</td>\n",
       "      <td>L2OutputTypes.measure</td>\n",
       "      <td>Indicates the total count of claims associated...</td>\n",
       "      <td>[Claims Volume, Patient Activity, Healthcare U...</td>\n",
       "      <td>10</td>\n",
       "      <td>0</td>\n",
       "      <td>9</td>\n",
       "      <td>0.9</td>\n",
       "      <td>1.0</td>\n",
       "      <td>[77, 69, 71, 219, 90, 98, 246, 121, 64]</td>\n",
       "    </tr>\n",
       "  </tbody>\n",
       "</table>\n",
       "</div>"
      ],
      "text/plain": [
       "<intugle.analysis.models.DataSet at 0x7f99ea1eee70>"
      ]
     },
     "execution_count": 16,
     "metadata": {},
     "output_type": "execute_result"
    }
   ],
   "source": [
    "\n",
    "data_product.run(domain=\"Healthcare\")"
   ]
  },
  {
   "cell_type": "markdown",
   "metadata": {
    "application/vnd.databricks.v1+cell": {
     "cellMetadata": {
      "byteLimit": 2048000,
      "rowLimit": 10000
     },
     "inputWidgets": {},
     "nuid": "dc21276f-1457-4096-a98a-7a176d4e0922",
     "showTitle": false,
     "tableResultSettingsMap": {},
     "title": ""
    }
   },
   "source": [
    "## Syncing the data product with Unity Catalog"
   ]
  },
  {
   "cell_type": "markdown",
   "metadata": {
    "application/vnd.databricks.v1+cell": {
     "cellMetadata": {
      "byteLimit": 2048000,
      "rowLimit": 10000
     },
     "inputWidgets": {},
     "nuid": "68ca4617-b0f6-4125-a0d6-c1d99f7f41f6",
     "showTitle": false,
     "tableResultSettingsMap": {},
     "title": ""
    }
   },
   "source": [
    "A data product can be passed in the `create_dp_table_in_databricks` function along with the target catalog and schema to store it in the Unity Catalog"
   ]
  },
  {
   "cell_type": "code",
   "execution_count": 0,
   "metadata": {
    "application/vnd.databricks.v1+cell": {
     "cellMetadata": {
      "byteLimit": 2048000,
      "rowLimit": 10000
     },
     "inputWidgets": {},
     "nuid": "b3bc11c8-53b0-4eea-a294-3d10cb9d342b",
     "showTitle": false,
     "tableResultSettingsMap": {},
     "title": ""
    }
   },
   "outputs": [],
   "source": [
    "from intugle.analysis.models import DataSet\n",
    "\n",
    "\n",
    "def create_dp_table_in_databricks(\n",
    "    data_product: DataSet, catalog_name: str, schema_name: str, table_name: str\n",
    "):\n",
    "    \"\"\"\n",
    "    Executes a data product's SQL query on Databricks and saves the result\n",
    "    as a table in Unity Catalog, including all metadata.\n",
    "\n",
    "    NOTE: Requires the sqlglot library to be installed in the environment.\n",
    "          (e.g., with %pip install sqlglot)\n",
    "\n",
    "    Args:\n",
    "        data_product: The Intugle DataSet object representing the data product.\n",
    "        catalog_name: The destination Unity Catalog name.\n",
    "        schema_name: The destination schema name.\n",
    "        table_name: The name for the new table to be created.\n",
    "    \"\"\"\n",
    "    spark = SparkSession.builder.appName(\n",
    "        f\"CreateDataProduct_{table_name}\"\n",
    "    ).getOrCreate()\n",
    "    full_table_name = f\"{catalog_name}.{schema_name}.{table_name}\"\n",
    "    print(f\"Attempting to create data product table: {full_table_name}\")\n",
    "\n",
    "    # 1. Extract and Translate SQL Query\n",
    "    duckdb_query = data_product.sql_query\n",
    "    if not duckdb_query:\n",
    "        print(f\"ERROR: Data product '{data_product.name}' does not contain a SQL query.\")\n",
    "        return\n",
    "\n",
    "    # Translate from DuckDB dialect to Databricks (Spark) dialect using sqlglot\n",
    "    try:\n",
    "        spark_sql_query = sqlglot.transpile(\n",
    "            duckdb_query, read=\"duckdb\", write=\"databricks\", pretty=True\n",
    "        )[0]\n",
    "        print(\"Successfully translated SQL query for Databricks:\")\n",
    "        print(spark_sql_query)\n",
    "    except Exception as e:\n",
    "        print(f\"ERROR: Failed to transpile SQL query using sqlglot. Reason: {e}\")\n",
    "        print(\"Falling back to simple quote replacement.\")\n",
    "        spark_sql_query = duckdb_query.replace('\"', \"`\")\n",
    "\n",
    "    try:\n",
    "        # 2. Execute the Query\n",
    "        print(\"Executing Spark SQL query...\")\n",
    "        result_df = spark.sql(spark_sql_query)\n",
    "\n",
    "        # 3. Persist the Result as a Table\n",
    "        print(f\"Saving results to table: {full_table_name}\")\n",
    "        result_df.write.mode(\"overwrite\").saveAsTable(full_table_name)\n",
    "        print(\"Table created successfully.\")\n",
    "\n",
    "        # 4. Apply Table and Column Metadata (Comments and Tags)\n",
    "        # Add table comment\n",
    "        if data_product.source_table_model.description:\n",
    "            table_comment = data_product.source_table_model.description.replace(\"'\", \"\\\\'\")\n",
    "            spark.sql(f\"COMMENT ON TABLE {full_table_name} IS '{table_comment}'\")\n",
    "            print(\"Applied table comment.\")\n",
    "\n",
    "        # Add table tags\n",
    "        if data_product.source_table_model.tags:\n",
    "            table_tags = \", \".join([f\"'{tag}'\" for tag in data_product.source_table_model.tags])\n",
    "            spark.sql(f\"ALTER TABLE {full_table_name} SET TAGS ({table_tags})\")\n",
    "            print(\"Applied table tags.\")\n",
    "\n",
    "        # Add column comments and tags\n",
    "        for col in data_product.source_table_model.columns:\n",
    "            if col.description:\n",
    "                col_comment = col.description.replace(\"'\", \"\\\\'\")\n",
    "                spark.sql(\n",
    "                    f\"ALTER TABLE {full_table_name} ALTER COLUMN `{col.name}` COMMENT '{col_comment}'\"\n",
    "                )\n",
    "            if col.tags:\n",
    "                col_tags = \", \".join([f\"'{tag}'\" for tag in col.tags])\n",
    "                spark.sql(\n",
    "                    f\"ALTER TABLE {full_table_name} ALTER COLUMN `{col.name}` SET TAGS ({col_tags})\"\n",
    "                )\n",
    "        print(\"Applied all column comments and tags.\")\n",
    "        print(f\"\\nData product '{table_name}' successfully created in Unity Catalog.\")\n",
    "\n",
    "    except Exception as e:\n",
    "        print(f\"ERROR: Failed to create data product table '{full_table_name}'. Reason: {e}\")\n",
    "        import traceback\n",
    "        traceback.print_exc()"
   ]
  },
  {
   "cell_type": "markdown",
   "metadata": {
    "application/vnd.databricks.v1+cell": {
     "cellMetadata": {
      "byteLimit": 2048000,
      "rowLimit": 10000
     },
     "inputWidgets": {},
     "nuid": "18141b97-8d02-4927-ab8e-05029060ab2d",
     "showTitle": false,
     "tableResultSettingsMap": {},
     "title": ""
    }
   },
   "source": [
    "Now you can call the `create_dp_table_in_databricks` to create the data product in the unity catalog. "
   ]
  },
  {
   "cell_type": "code",
   "execution_count": 0,
   "metadata": {
    "application/vnd.databricks.v1+cell": {
     "cellMetadata": {
      "byteLimit": 2048000,
      "rowLimit": 10000
     },
     "inputWidgets": {},
     "nuid": "33e4073d-d3d6-45bf-80c4-85dc8affbb3c",
     "showTitle": false,
     "tableResultSettingsMap": {},
     "title": ""
    }
   },
   "outputs": [
    {
     "name": "stdout",
     "output_type": "stream",
     "text": [
      "Attempting to create data product table: intugle.data_products.top_patients_by_claim_count\n",
      "Successfully translated SQL query for Databricks:\n",
      "SELECT\n",
      "  `patients`.`first` AS first_name,\n",
      "  `patients`.`last` AS last_name,\n",
      "  COUNT(`claims`.`id`) AS number_of_claims\n",
      "FROM claims\n",
      "LEFT JOIN patients\n",
      "  ON `claims`.`patientid` = `patients`.`id`\n",
      "GROUP BY\n",
      "  `patients`.`first`,\n",
      "  `patients`.`last`\n",
      "ORDER BY\n",
      "  number_of_claims DESC\n",
      "LIMIT 10\n",
      "Executing Spark SQL query...\n",
      "Saving results to table: intugle.data_products.top_patients_by_claim_count\n",
      "Table created successfully.\n",
      "Applied table comment.\n",
      "Applied all column comments and tags.\n",
      "\n",
      "Data product 'top_patients_by_claim_count' successfully created in Unity Catalog.\n"
     ]
    }
   ],
   "source": [
    "# Define where to save it in Unity Catalog\n",
    "catalog = \"intugle\"\n",
    "schema = \"data_products\"\n",
    "   \n",
    "# 3. Call the new function to create it in Databricks\n",
    "create_dp_table_in_databricks(data_product, catalog, schema, \"top_patients_by_claim_count\")"
   ]
  },
  {
   "cell_type": "markdown",
   "metadata": {
    "application/vnd.databricks.v1+cell": {
     "cellMetadata": {
      "byteLimit": 2048000,
      "rowLimit": 10000
     },
     "inputWidgets": {},
     "nuid": "476f725c-8e65-41ba-842c-f6ca5486f347",
     "showTitle": false,
     "tableResultSettingsMap": {},
     "title": ""
    }
   },
   "source": [
    "## Conclusion\n",
    "\n",
    "You've learned how to:\n",
    "\n",
    "*   Configure your LLM provider.\n",
    "*   Build a semantic model\n",
    "*   Sync your tables with Unity Catalog.\n",
    "*   Generate data products from the semantic layer\n",
    "*   Sync the data products with Unity Catalog\n",
    "\n",
    "This is just a starting point. This project has many other features to explore. We encourage you to try it with your own data and see how it can help you build a powerful semantic layer."
   ]
  }
 ],
 "metadata": {
  "application/vnd.databricks.v1+notebook": {
   "computePreferences": {
    "hardware": {
     "accelerator": null,
     "gpuPoolId": null,
     "memory": null
    }
   },
   "dashboards": [],
   "environmentMetadata": {
    "base_environment": "",
    "dependencies": [
     "intugle",
     "sqlglot"
    ],
    "environment_version": "3"
   },
   "inputWidgetPreferences": null,
   "language": "python",
   "notebookMetadata": {
    "pythonIndentUnit": 4
   },
   "notebookName": "quickstart_healthcare",
   "widgets": {}
  },
  "kernelspec": {
   "display_name": "intugle",
   "language": "python",
   "name": "python3"
  },
  "language_info": {
   "name": "python"
  }
 },
 "nbformat": 4,
 "nbformat_minor": 0
}
