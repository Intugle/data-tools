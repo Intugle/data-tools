{
 "cells": [
  {
   "cell_type": "markdown",
   "id": "24e7b3d6-6473-4735-8e84-d7b8936ddc85",
   "metadata": {
    "collapsed": false,
    "name": "cell1"
   },
   "source": [
    "# Quickstart: Building a GenAI powered Semantic Data Model with Intugle\n",
    "\n",
    "This quickstart shows you how to use Intugle’s open-source library to transform fragmented datasets into a connected semantic model. The semantic model captures profiling, relationships, and business meaning of your data — making it instantly usable for exploration, search, and data product creation.\n",
    "\n",
    "**What is a Semantic Model?**\n",
    "\n",
    "A semantic model is an intelligent knowledge graph of your data. It connects tables, discovers relationships, and enriches them with business glossaries — so both data teams and business users can query with clarity, not complexity.\n",
    "\n",
    "**Who is this for?**\n",
    "\n",
    "*   **Data Engineers & Architects** often spend weeks manually profiling, classifying, and stitching together fragmented data assets. With Intugle, they can automate this process end-to-end, uncovering meaningful links and relationships to instantly generate a connected semantic layer.\n",
    "*   **Data Analysts & Scientists** spend endless hours on data readiness and preparation before they can even start the real analysis. Intugle accelerates this by providing contextual intelligence, automatically generating SQL and reusable data products enriched with relationships and business meaning.\n",
    "*   **Business Analysts & Decision Makers** are slowed down by constant dependence on technical teams for answers. Intugle removes this bottleneck by enabling natural language queries and semantic search, giving them trusted insights on demand.\n",
    "\n",
    "**In this notebook, you will learn how to:**\n",
    "\n",
    "*   **Generate Semantic Model** → The unified layer that transforms fragmented datasets, creating the foundation for connected intelligence.\n",
    "    *   **1.1 Profile and classify data** → Analyze your data sources to understand their structure, data types, and other characteristics.\n",
    "    *   **1.2 Discover links & relationships among data** → Reveal meaningful connections (PK & FK) across fragmented tables.\n",
    "    *   **1.3 Generate a business glossary** → Create business-friendly terms and use them to query data with context.\n",
    "    *   **1.4 Enable Semantic search** → Intelligent search that understands meaning, not just keywords—making data more accessible across both technical and business users.\n",
    "    *   **1.5 Visualize semantic model** → Get access to enriched metadata of the semantic model and visualize your data and relationships.\n",
    "*   **Build Unified Data Products** → Simply pick the attributes across your data tables, and let the toolkit auto-generate queries with all the required joins, transformations, and aggregations using the semantic layer. When executed, these queries produce reusable data products.\n",
    "\n",
    "Before you start, make sure you install the **Intugle Data Tools**:"
   ]
  },
  {
   "cell_type": "code",
   "execution_count": null,
   "id": "d43fd52b-f133-4d48-9b1a-26ddc06057a8",
   "metadata": {
    "language": "sql",
    "name": "cell31"
   },
   "outputs": [],
   "source": [
    "CREATE OR REPLACE NETWORK RULE pypi_network_rule\n",
    "MODE = EGRESS\n",
    "TYPE = HOST_PORT\n",
    "VALUE_LIST = ('pypi.org', 'pypi.python.org', 'pythonhosted.org', 'files.pythonhosted.org');\n",
    "\n",
    "CREATE OR REPLACE NETWORK RULE nltk_network_rule\n",
    "MODE = EGRESS\n",
    "TYPE = HOST_PORT\n",
    "VALUE_LIST = ('raw.githubusercontent.com');\n",
    "\n",
    "CREATE OR REPLACE NETWORK RULE duckdb_download_rule\n",
    "MODE = EGRESS\n",
    "TYPE = HOST_PORT\n",
    "VALUE_LIST = ('extensions.duckdb.org:80');\n",
    "\n",
    "CREATE OR REPLACE NETWORK RULE openai_rule\n",
    "  MODE = EGRESS\n",
    "  TYPE = HOST_PORT\n",
    "  VALUE_LIST = ('api.openai.com');\n",
    "\n"
   ]
  },
  {
   "cell_type": "code",
   "execution_count": null,
   "id": "0f6b6c7f-453f-4a5a-a1c9-e922f2023a14",
   "metadata": {
    "language": "sql",
    "name": "cell32"
   },
   "outputs": [],
   "source": [
    "CREATE OR REPLACE EXTERNAL ACCESS INTEGRATION intugle_integration\n",
    "ALLOWED_NETWORK_RULES = (pypi_network_rule, nltk_network_rule, duckdb_download_rule, openai_rule)\n",
    "ENABLED = true;\n",
    "\n",
    "\n",
    "GRANT USAGE ON INTEGRATION intugle_integration TO ROLE SNOWFLAKE_LEARNING_ROLE;"
   ]
  },
  {
   "cell_type": "code",
   "execution_count": null,
   "id": "6369ad5e-bc65-4217-a2eb-dc6707d13c2e",
   "metadata": {
    "codeCollapsed": false,
    "collapsed": true,
    "language": "python",
    "name": "cell2"
   },
   "outputs": [],
   "source": [
    "%pip install intugle[snowflake]"
   ]
  },
  {
   "cell_type": "markdown",
   "id": "2edf7147-f1e8-4999-a7b5-fa4bfc46317c",
   "metadata": {
    "collapsed": false,
    "name": "cell3"
   },
   "source": [
    "## 1. LLM Configuration\n",
    "\n",
    "Before running the project, you need to configure a Large Language Model (LLM). This is used for tasks like generating business glossaries and predicting links between tables. For the semantic search feature, you will also need to set up Qdrant and provide an OpenAI API key. For detailed setup instructions, please refer to the [README.md](README.md) file.\n",
    "\n",
    "You can configure the necessary services by setting the following environment variables:\n",
    "\n",
    "*   `LLM_PROVIDER`: The LLM provider and model to use (e.g., `openai:gpt-3.5-turbo`). The format follows langchain's format for initializing chat models. Checkout how to specify your model [here](https://python.langchain.com/docs/integrations/chat/)\n",
    "*   `API_KEY`: Your API key for the LLM provider. The exact name of the variable may vary from provider to provider (e.g., `OPENAI_API_KEY`, `ANTHROPIC_API_KEY`).\n",
    "\n",
    "Here's an example of how to set these variables in your environment:\n",
    "\n",
    "```bash\n",
    "export LLM_PROVIDER=\"openai:gpt-3.5-turbo\"\n",
    "export OPENAI_API_KEY=\"your-openai-api-key\"\n",
    "```\n",
    "Alternatively, you can set them in the notebook like this:"
   ]
  },
  {
   "cell_type": "code",
   "execution_count": 1,
   "id": "41c8d0d5-8d0f-41f0-aa6f-8dbde81a62a7",
   "metadata": {
    "language": "python",
    "name": "cell4"
   },
   "outputs": [
    {
     "data": {
      "text/plain": [
       "True"
      ]
     },
     "execution_count": 1,
     "metadata": {},
     "output_type": "execute_result"
    }
   ],
   "source": [
    "import os\n",
    "from dotenv import load_dotenv\n",
    "\n",
    "\n",
    "os.environ[\"LLM_PROVIDER\"] = \"openai:gpt-3.5-turbo\"\n",
    "os.environ[\"OPENAI_API_KEY\"] = \"your-openai-api-key\"  # Replace with your actual key\n",
    "\n",
    "\n",
    "# Load environment variables from .env file\n",
    "load_dotenv(override=True)\n",
    "\n"
   ]
  },
  {
   "cell_type": "markdown",
   "id": "04eda6c3-9d16-45d4-913d-f5e39d9326ed",
   "metadata": {
    "name": "cell5"
   },
   "source": [
    "> Currently the langchain packages for OpenAI, Anthropic and Gemini is installed by default. For additional models, make sure you have the integration packages installed. E.g. you should have langchain-deepseek installed to use a DeepSeek model. You can get these packages here: [LangChain Chat Models](https://python.langchain.com/docs/integrations/chat/)"
   ]
  },
  {
   "cell_type": "markdown",
   "id": "e987be94-2f2a-499a-8649-8dc24c814cdb",
   "metadata": {
    "name": "cell6"
   },
   "source": [
    "## 2. Building the Semantic Model\n",
    "\n",
    "The `SemanticModel` is the entry point for building your semantic layer. It takes a dictionary of datasets as input and performs the following steps:\n",
    "\n",
    "1.  **Data Profiling:** Calculates statistics for each column, such as distinct count, uniqueness, and completeness.\n",
    "2.  **Datatype Identification:** Identifies the data type of each column (e.g., integer, string, datetime).\n",
    "3.  **Key Identification:** Identifies potential primary keys.\n",
    "4.  **Glossary Generation:** Generates a business glossary for each column using an LLM.\n",
    "5.  **Link Prediction:** Predicts the relationships (foreign keys) between tables.\n",
    "\n",
    "Let's start by defining the datasets we want to use. The path shown below can be a local file path or a remote URL."
   ]
  },
  {
   "cell_type": "markdown",
   "id": "2cd9817f-3b0c-4a68-822b-0cb6e3ce5951",
   "metadata": {
    "collapsed": false,
    "name": "cell37"
   },
   "source": [
    "> For this demo, we will be using the technology manufacturing dataset which can be found under [sample_data/tech_manufacturing](https://github.com/Intugle/data-tools/blob/main/notebooks/quickstart_native_snowflake.ipynb) in the repo"
   ]
  },
  {
   "cell_type": "code",
   "execution_count": 2,
   "id": "a55fa189-8c6c-45b0-a58c-f58bd448985d",
   "metadata": {
    "language": "python",
    "name": "cell7"
   },
   "outputs": [],
   "source": [
    "def generate_config(table_name: str) -> str:\n",
    "    \"\"\"Append the base URL to the table name.\"\"\"\n",
    "    return {\n",
    "        \"identifier\": table_name,\n",
    "    }\n",
    "\n",
    "\n",
    "table_names = \\\n",
    "[\n",
    "    \"CAMPAIGNS\",\n",
    "    \"CAMPAIGN_SURVEY\",\n",
    "    \"CUSTOMER_HIERARCHY\",\n",
    "    \"CUSTOMERS\",\n",
    "    \"DELIVERY_SURVEY\",\n",
    "    \"EXPENSE\",\n",
    "    \"INSTALL_BASE\",\n",
    "    \"INVENTORY\",\n",
    "    \"LOGISTICS\",\n",
    "    \"NPS_SURVEY\",\n",
    "    \"OPPORTUNITY\",\n",
    "    \"ORDERS\",\n",
    "    \"PROB_STATEMENT_ISSUE\",\n",
    "    \"PRODUCT_FEATURE\",\n",
    "    \"PRODUCT_HIERARCHY\",\n",
    "    \"PRODUCTS\",\n",
    "    \"RENEWALS\",\n",
    "    \"RETURNS\",\n",
    "    \"SERVICE_REQUESTS\",\n",
    "    \"WEBSITE\",\n",
    "]\n",
    "\n",
    "\n",
    "datasets = {table: generate_config(table) for table in table_names}"
   ]
  },
  {
   "cell_type": "markdown",
   "id": "087b380e-c2d2-447d-96f5-c06911fc9313",
   "metadata": {
    "name": "cell8"
   },
   "source": [
    "Now, let's use the `SemanticModel` to build our semantic layer:\n",
    "\n",
    "> The `domain` parameter helps the LLM generate a more contextual business glossary. It specifies the industry domain that the dataset belongs to (e.g., \"Healthcare\", \"Finance\", \"E-commerce\")."
   ]
  },
  {
   "cell_type": "code",
   "execution_count": 3,
   "id": "934101c8-e125-4e0a-a181-c0110d59ca4d",
   "metadata": {
    "language": "python",
    "name": "cell9"
   },
   "outputs": [
    {
     "name": "stderr",
     "output_type": "stream",
     "text": [
      "/home/raphael/intugle/data-tools/.venv/lib/python3.12/site-packages/pydantic/_internal/_fields.py:198: UserWarning: Field name \"schema\" in \"SnowflakeConnectionConfig\" shadows an attribute in parent \"SchemaBase\"\n",
      "  warnings.warn(\n",
      "/home/raphael/intugle/data-tools/.venv/lib/python3.12/site-packages/tqdm/auto.py:21: TqdmWarning: IProgress not found. Please update jupyter and ipywidgets. See https://ipywidgets.readthedocs.io/en/stable/user_install.html\n",
      "  from .autonotebook import tqdm as notebook_tqdm\n",
      "/home/raphael/intugle/data-tools/.venv/lib/python3.12/site-packages/pydantic/_internal/_fields.py:198: UserWarning: Field name \"schema\" in \"Source\" shadows an attribute in parent \"BaseResource\"\n",
      "  warnings.warn(\n"
     ]
    },
    {
     "name": "stdout",
     "output_type": "stream",
     "text": [
      "No active Snowpark session found. Creating a new session from profiles.yml.\n",
      "CAMPAIGNS loaded\n",
      "Found active Snowpark session. Using it for connection.\n",
      "CAMPAIGN_SURVEY loaded\n",
      "Found active Snowpark session. Using it for connection.\n",
      "CUSTOMER_HIERARCHY loaded\n",
      "Found active Snowpark session. Using it for connection.\n",
      "CUSTOMERS loaded\n",
      "Found active Snowpark session. Using it for connection.\n",
      "DELIVERY_SURVEY loaded\n",
      "Found active Snowpark session. Using it for connection.\n",
      "EXPENSE loaded\n",
      "Found active Snowpark session. Using it for connection.\n",
      "INSTALL_BASE loaded\n",
      "Found active Snowpark session. Using it for connection.\n",
      "INVENTORY loaded\n",
      "Found active Snowpark session. Using it for connection.\n",
      "LOGISTICS loaded\n",
      "Found active Snowpark session. Using it for connection.\n",
      "NPS_SURVEY loaded\n",
      "Found active Snowpark session. Using it for connection.\n",
      "OPPORTUNITY loaded\n",
      "Found active Snowpark session. Using it for connection.\n",
      "ORDERS loaded\n",
      "Found active Snowpark session. Using it for connection.\n",
      "PROB_STATEMENT_ISSUE loaded\n",
      "Found active Snowpark session. Using it for connection.\n",
      "PRODUCT_FEATURE loaded\n",
      "Found active Snowpark session. Using it for connection.\n",
      "PRODUCT_HIERARCHY loaded\n",
      "Found active Snowpark session. Using it for connection.\n",
      "PRODUCTS loaded\n",
      "Found active Snowpark session. Using it for connection.\n",
      "RENEWALS loaded\n",
      "Found active Snowpark session. Using it for connection.\n",
      "RETURNS loaded\n",
      "Found active Snowpark session. Using it for connection.\n",
      "SERVICE_REQUESTS loaded\n",
      "Found active Snowpark session. Using it for connection.\n",
      "WEBSITE loaded\n"
     ]
    },
    {
     "data": {
      "text/html": [
       "<pre style=\"white-space:pre;overflow-x:auto;line-height:normal;font-family:Menlo,'DejaVu Sans Mono',consolas,'Courier New',monospace\"><span style=\"color: #808000; text-decoration-color: #808000\">Starting profiling and key identification stage...</span>\n",
       "</pre>\n"
      ],
      "text/plain": [
       "\u001b[33mStarting profiling and key identification stage\u001b[0m\u001b[33m...\u001b[0m\n"
      ]
     },
     "metadata": {},
     "output_type": "display_data"
    },
    {
     "data": {
      "text/html": [
       "<pre style=\"white-space:pre;overflow-x:auto;line-height:normal;font-family:Menlo,'DejaVu Sans Mono',consolas,'Courier New',monospace\"><span style=\"color: #ffaf00; text-decoration-color: #ffaf00\">Processing dataset: CAMPAIGNS</span>\n",
       "</pre>\n"
      ],
      "text/plain": [
       "\u001b[38;5;214mProcessing dataset: CAMPAIGNS\u001b[0m\n"
      ]
     },
     "metadata": {},
     "output_type": "display_data"
    },
    {
     "name": "stderr",
     "output_type": "stream",
     "text": [
      "/home/raphael/intugle/data-tools/.venv/lib/python3.12/site-packages/numpy/_core/fromnumeric.py:3859: RuntimeWarning: Mean of empty slice.\n",
      "  return _methods._mean(a, axis=axis, dtype=dtype,\n",
      "/home/raphael/intugle/data-tools/.venv/lib/python3.12/site-packages/numpy/_core/_methods.py:144: RuntimeWarning: invalid value encountered in scalar divide\n",
      "  ret = ret.dtype.type(ret / rcount)\n",
      "/usr/lib/python3.12/pickle.py:1710: UserWarning: [01:34:40] WARNING: /workspace/src/collective/../data/../common/error_msg.h:82: If you are loading a serialized model (like pickle in Python, RDS in R) or\n",
      "configuration generated by an older version of XGBoost, please export the model by calling\n",
      "`Booster.save_model` from that version first, then load it back in current version. See:\n",
      "\n",
      "    https://xgboost.readthedocs.io/en/stable/tutorials/saving_model.html\n",
      "\n",
      "for more details about differences between saving model and serializing.\n",
      "\n",
      "  setstate(state)\n",
      "100%|██████████| 13/13 [00:06<00:00,  2.01it/s]\n",
      "[*] CAMPAIGNS:   0%|          | 0/1 [00:00<?, ?it/s]/home/raphael/intugle/data-tools/src/intugle/core/pipeline/key_identification/ki.py:87: SettingWithCopyWarning: \n",
      "A value is trying to be set on a copy of a slice from a DataFrame\n",
      "\n",
      "See the caveats in the documentation: https://pandas.pydata.org/pandas-docs/stable/user_guide/indexing.html#returning-a-view-versus-a-copy\n",
      "  temp.rename(columns={\"datatype_l1\": \"datatype\"}, inplace=True)\n",
      "[*] CAMPAIGNS: 100%|██████████| 1/1 [00:01<00:00,  1.07s/it]\n"
     ]
    },
    {
     "data": {
      "text/html": [
       "<pre style=\"white-space:pre;overflow-x:auto;line-height:normal;font-family:Menlo,'DejaVu Sans Mono',consolas,'Courier New',monospace\"><span style=\"color: #ffaf00; text-decoration-color: #ffaf00\">Processing dataset: CAMPAIGN_SURVEY</span>\n",
       "</pre>\n"
      ],
      "text/plain": [
       "\u001b[38;5;214mProcessing dataset: CAMPAIGN_SURVEY\u001b[0m\n"
      ]
     },
     "metadata": {},
     "output_type": "display_data"
    },
    {
     "name": "stderr",
     "output_type": "stream",
     "text": [
      "/home/raphael/intugle/data-tools/.venv/lib/python3.12/site-packages/numpy/_core/fromnumeric.py:3859: RuntimeWarning: Mean of empty slice.\n",
      "  return _methods._mean(a, axis=axis, dtype=dtype,\n",
      "/home/raphael/intugle/data-tools/.venv/lib/python3.12/site-packages/numpy/_core/_methods.py:144: RuntimeWarning: invalid value encountered in scalar divide\n",
      "  ret = ret.dtype.type(ret / rcount)\n",
      "100%|██████████| 9/9 [00:04<00:00,  2.02it/s]\n",
      "[*] CAMPAIGN_SURVEY:   0%|          | 0/1 [00:00<?, ?it/s]/home/raphael/intugle/data-tools/src/intugle/core/pipeline/key_identification/ki.py:87: SettingWithCopyWarning: \n",
      "A value is trying to be set on a copy of a slice from a DataFrame\n",
      "\n",
      "See the caveats in the documentation: https://pandas.pydata.org/pandas-docs/stable/user_guide/indexing.html#returning-a-view-versus-a-copy\n",
      "  temp.rename(columns={\"datatype_l1\": \"datatype\"}, inplace=True)\n",
      "[*] CAMPAIGN_SURVEY: 100%|██████████| 1/1 [00:00<00:00,  1.66it/s]\n"
     ]
    },
    {
     "data": {
      "text/html": [
       "<pre style=\"white-space:pre;overflow-x:auto;line-height:normal;font-family:Menlo,'DejaVu Sans Mono',consolas,'Courier New',monospace\"><span style=\"color: #ffaf00; text-decoration-color: #ffaf00\">Processing dataset: CUSTOMER_HIERARCHY</span>\n",
       "</pre>\n"
      ],
      "text/plain": [
       "\u001b[38;5;214mProcessing dataset: CUSTOMER_HIERARCHY\u001b[0m\n"
      ]
     },
     "metadata": {},
     "output_type": "display_data"
    },
    {
     "name": "stderr",
     "output_type": "stream",
     "text": [
      "/home/raphael/intugle/data-tools/.venv/lib/python3.12/site-packages/numpy/_core/fromnumeric.py:3859: RuntimeWarning: Mean of empty slice.\n",
      "  return _methods._mean(a, axis=axis, dtype=dtype,\n",
      "/home/raphael/intugle/data-tools/.venv/lib/python3.12/site-packages/numpy/_core/_methods.py:144: RuntimeWarning: invalid value encountered in scalar divide\n",
      "  ret = ret.dtype.type(ret / rcount)\n",
      "100%|██████████| 8/8 [00:03<00:00,  2.01it/s]\n",
      "[*] CUSTOMER_HIERARCHY:   0%|          | 0/1 [00:00<?, ?it/s]/home/raphael/intugle/data-tools/src/intugle/core/pipeline/key_identification/ki.py:87: SettingWithCopyWarning: \n",
      "A value is trying to be set on a copy of a slice from a DataFrame\n",
      "\n",
      "See the caveats in the documentation: https://pandas.pydata.org/pandas-docs/stable/user_guide/indexing.html#returning-a-view-versus-a-copy\n",
      "  temp.rename(columns={\"datatype_l1\": \"datatype\"}, inplace=True)\n",
      "[*] CUSTOMER_HIERARCHY: 100%|██████████| 1/1 [00:00<00:00,  1.15it/s]\n"
     ]
    },
    {
     "data": {
      "text/html": [
       "<pre style=\"white-space:pre;overflow-x:auto;line-height:normal;font-family:Menlo,'DejaVu Sans Mono',consolas,'Courier New',monospace\"><span style=\"color: #ffaf00; text-decoration-color: #ffaf00\">Processing dataset: CUSTOMERS</span>\n",
       "</pre>\n"
      ],
      "text/plain": [
       "\u001b[38;5;214mProcessing dataset: CUSTOMERS\u001b[0m\n"
      ]
     },
     "metadata": {},
     "output_type": "display_data"
    },
    {
     "name": "stderr",
     "output_type": "stream",
     "text": [
      "/home/raphael/intugle/data-tools/.venv/lib/python3.12/site-packages/numpy/_core/fromnumeric.py:3859: RuntimeWarning: Mean of empty slice.\n",
      "  return _methods._mean(a, axis=axis, dtype=dtype,\n",
      "/home/raphael/intugle/data-tools/.venv/lib/python3.12/site-packages/numpy/_core/_methods.py:144: RuntimeWarning: invalid value encountered in scalar divide\n",
      "  ret = ret.dtype.type(ret / rcount)\n",
      "100%|██████████| 9/9 [00:03<00:00,  2.26it/s]\n",
      "[*] CUSTOMERS:   0%|          | 0/1 [00:00<?, ?it/s]/home/raphael/intugle/data-tools/src/intugle/core/pipeline/key_identification/ki.py:87: SettingWithCopyWarning: \n",
      "A value is trying to be set on a copy of a slice from a DataFrame\n",
      "\n",
      "See the caveats in the documentation: https://pandas.pydata.org/pandas-docs/stable/user_guide/indexing.html#returning-a-view-versus-a-copy\n",
      "  temp.rename(columns={\"datatype_l1\": \"datatype\"}, inplace=True)\n",
      "[*] CUSTOMERS: 100%|██████████| 1/1 [00:02<00:00,  2.02s/it]\n"
     ]
    },
    {
     "data": {
      "text/html": [
       "<pre style=\"white-space:pre;overflow-x:auto;line-height:normal;font-family:Menlo,'DejaVu Sans Mono',consolas,'Courier New',monospace\"><span style=\"color: #ffaf00; text-decoration-color: #ffaf00\">Processing dataset: DELIVERY_SURVEY</span>\n",
       "</pre>\n"
      ],
      "text/plain": [
       "\u001b[38;5;214mProcessing dataset: DELIVERY_SURVEY\u001b[0m\n"
      ]
     },
     "metadata": {},
     "output_type": "display_data"
    },
    {
     "name": "stderr",
     "output_type": "stream",
     "text": [
      "/home/raphael/intugle/data-tools/.venv/lib/python3.12/site-packages/numpy/_core/fromnumeric.py:3859: RuntimeWarning: Mean of empty slice.\n",
      "  return _methods._mean(a, axis=axis, dtype=dtype,\n",
      "/home/raphael/intugle/data-tools/.venv/lib/python3.12/site-packages/numpy/_core/_methods.py:144: RuntimeWarning: invalid value encountered in scalar divide\n",
      "  ret = ret.dtype.type(ret / rcount)\n",
      "100%|██████████| 8/8 [00:04<00:00,  1.69it/s]\n",
      "[*] DELIVERY_SURVEY:   0%|          | 0/1 [00:00<?, ?it/s]/home/raphael/intugle/data-tools/src/intugle/core/pipeline/key_identification/ki.py:87: SettingWithCopyWarning: \n",
      "A value is trying to be set on a copy of a slice from a DataFrame\n",
      "\n",
      "See the caveats in the documentation: https://pandas.pydata.org/pandas-docs/stable/user_guide/indexing.html#returning-a-view-versus-a-copy\n",
      "  temp.rename(columns={\"datatype_l1\": \"datatype\"}, inplace=True)\n",
      "[*] DELIVERY_SURVEY: 100%|██████████| 1/1 [00:00<00:00,  1.47it/s]\n"
     ]
    },
    {
     "data": {
      "text/html": [
       "<pre style=\"white-space:pre;overflow-x:auto;line-height:normal;font-family:Menlo,'DejaVu Sans Mono',consolas,'Courier New',monospace\"><span style=\"color: #ffaf00; text-decoration-color: #ffaf00\">Processing dataset: EXPENSE</span>\n",
       "</pre>\n"
      ],
      "text/plain": [
       "\u001b[38;5;214mProcessing dataset: EXPENSE\u001b[0m\n"
      ]
     },
     "metadata": {},
     "output_type": "display_data"
    },
    {
     "name": "stderr",
     "output_type": "stream",
     "text": [
      "/home/raphael/intugle/data-tools/.venv/lib/python3.12/site-packages/numpy/_core/fromnumeric.py:3859: RuntimeWarning: Mean of empty slice.\n",
      "  return _methods._mean(a, axis=axis, dtype=dtype,\n",
      "/home/raphael/intugle/data-tools/.venv/lib/python3.12/site-packages/numpy/_core/_methods.py:144: RuntimeWarning: invalid value encountered in scalar divide\n",
      "  ret = ret.dtype.type(ret / rcount)\n",
      "100%|██████████| 11/11 [00:04<00:00,  2.58it/s]\n",
      "[*] EXPENSE:   0%|          | 0/1 [00:00<?, ?it/s]/home/raphael/intugle/data-tools/src/intugle/core/pipeline/key_identification/ki.py:87: SettingWithCopyWarning: \n",
      "A value is trying to be set on a copy of a slice from a DataFrame\n",
      "\n",
      "See the caveats in the documentation: https://pandas.pydata.org/pandas-docs/stable/user_guide/indexing.html#returning-a-view-versus-a-copy\n",
      "  temp.rename(columns={\"datatype_l1\": \"datatype\"}, inplace=True)\n",
      "[*] EXPENSE: 100%|██████████| 1/1 [00:04<00:00,  4.48s/it]\n"
     ]
    },
    {
     "data": {
      "text/html": [
       "<pre style=\"white-space:pre;overflow-x:auto;line-height:normal;font-family:Menlo,'DejaVu Sans Mono',consolas,'Courier New',monospace\"><span style=\"color: #ffaf00; text-decoration-color: #ffaf00\">Processing dataset: INSTALL_BASE</span>\n",
       "</pre>\n"
      ],
      "text/plain": [
       "\u001b[38;5;214mProcessing dataset: INSTALL_BASE\u001b[0m\n"
      ]
     },
     "metadata": {},
     "output_type": "display_data"
    },
    {
     "name": "stderr",
     "output_type": "stream",
     "text": [
      "/home/raphael/intugle/data-tools/.venv/lib/python3.12/site-packages/numpy/_core/fromnumeric.py:3859: RuntimeWarning: Mean of empty slice.\n",
      "  return _methods._mean(a, axis=axis, dtype=dtype,\n",
      "/home/raphael/intugle/data-tools/.venv/lib/python3.12/site-packages/numpy/_core/_methods.py:144: RuntimeWarning: invalid value encountered in scalar divide\n",
      "  ret = ret.dtype.type(ret / rcount)\n",
      "100%|██████████| 13/13 [00:07<00:00,  1.85it/s]\n",
      "[*] INSTALL_BASE:   0%|          | 0/1 [00:00<?, ?it/s]/home/raphael/intugle/data-tools/src/intugle/core/pipeline/key_identification/ki.py:87: SettingWithCopyWarning: \n",
      "A value is trying to be set on a copy of a slice from a DataFrame\n",
      "\n",
      "See the caveats in the documentation: https://pandas.pydata.org/pandas-docs/stable/user_guide/indexing.html#returning-a-view-versus-a-copy\n",
      "  temp.rename(columns={\"datatype_l1\": \"datatype\"}, inplace=True)\n",
      "[*] INSTALL_BASE: 100%|██████████| 1/1 [00:00<00:00,  1.48it/s]\n"
     ]
    },
    {
     "data": {
      "text/html": [
       "<pre style=\"white-space:pre;overflow-x:auto;line-height:normal;font-family:Menlo,'DejaVu Sans Mono',consolas,'Courier New',monospace\"><span style=\"color: #ffaf00; text-decoration-color: #ffaf00\">Processing dataset: INVENTORY</span>\n",
       "</pre>\n"
      ],
      "text/plain": [
       "\u001b[38;5;214mProcessing dataset: INVENTORY\u001b[0m\n"
      ]
     },
     "metadata": {},
     "output_type": "display_data"
    },
    {
     "name": "stderr",
     "output_type": "stream",
     "text": [
      "/home/raphael/intugle/data-tools/.venv/lib/python3.12/site-packages/numpy/_core/fromnumeric.py:3859: RuntimeWarning: Mean of empty slice.\n",
      "  return _methods._mean(a, axis=axis, dtype=dtype,\n",
      "/home/raphael/intugle/data-tools/.venv/lib/python3.12/site-packages/numpy/_core/_methods.py:144: RuntimeWarning: invalid value encountered in scalar divide\n",
      "  ret = ret.dtype.type(ret / rcount)\n",
      "100%|██████████| 11/11 [00:05<00:00,  2.19it/s]\n",
      "[*] INVENTORY:   0%|          | 0/1 [00:00<?, ?it/s]/home/raphael/intugle/data-tools/src/intugle/core/pipeline/key_identification/ki.py:87: SettingWithCopyWarning: \n",
      "A value is trying to be set on a copy of a slice from a DataFrame\n",
      "\n",
      "See the caveats in the documentation: https://pandas.pydata.org/pandas-docs/stable/user_guide/indexing.html#returning-a-view-versus-a-copy\n",
      "  temp.rename(columns={\"datatype_l1\": \"datatype\"}, inplace=True)\n",
      "[*] INVENTORY: 100%|██████████| 1/1 [00:00<00:00,  1.59it/s]\n"
     ]
    },
    {
     "data": {
      "text/html": [
       "<pre style=\"white-space:pre;overflow-x:auto;line-height:normal;font-family:Menlo,'DejaVu Sans Mono',consolas,'Courier New',monospace\"><span style=\"color: #ffaf00; text-decoration-color: #ffaf00\">Processing dataset: LOGISTICS</span>\n",
       "</pre>\n"
      ],
      "text/plain": [
       "\u001b[38;5;214mProcessing dataset: LOGISTICS\u001b[0m\n"
      ]
     },
     "metadata": {},
     "output_type": "display_data"
    },
    {
     "name": "stderr",
     "output_type": "stream",
     "text": [
      "/home/raphael/intugle/data-tools/.venv/lib/python3.12/site-packages/numpy/_core/fromnumeric.py:3859: RuntimeWarning: Mean of empty slice.\n",
      "  return _methods._mean(a, axis=axis, dtype=dtype,\n",
      "/home/raphael/intugle/data-tools/.venv/lib/python3.12/site-packages/numpy/_core/_methods.py:144: RuntimeWarning: invalid value encountered in scalar divide\n",
      "  ret = ret.dtype.type(ret / rcount)\n",
      "100%|██████████| 10/10 [00:05<00:00,  1.83it/s]\n",
      "[*] LOGISTICS:   0%|          | 0/1 [00:00<?, ?it/s]/home/raphael/intugle/data-tools/src/intugle/core/pipeline/key_identification/ki.py:87: SettingWithCopyWarning: \n",
      "A value is trying to be set on a copy of a slice from a DataFrame\n",
      "\n",
      "See the caveats in the documentation: https://pandas.pydata.org/pandas-docs/stable/user_guide/indexing.html#returning-a-view-versus-a-copy\n",
      "  temp.rename(columns={\"datatype_l1\": \"datatype\"}, inplace=True)\n",
      "[*] LOGISTICS: 100%|██████████| 1/1 [00:00<00:00,  1.42it/s]\n"
     ]
    },
    {
     "data": {
      "text/html": [
       "<pre style=\"white-space:pre;overflow-x:auto;line-height:normal;font-family:Menlo,'DejaVu Sans Mono',consolas,'Courier New',monospace\"><span style=\"color: #ffaf00; text-decoration-color: #ffaf00\">Processing dataset: NPS_SURVEY</span>\n",
       "</pre>\n"
      ],
      "text/plain": [
       "\u001b[38;5;214mProcessing dataset: NPS_SURVEY\u001b[0m\n"
      ]
     },
     "metadata": {},
     "output_type": "display_data"
    },
    {
     "name": "stderr",
     "output_type": "stream",
     "text": [
      "/home/raphael/intugle/data-tools/.venv/lib/python3.12/site-packages/numpy/_core/fromnumeric.py:3859: RuntimeWarning: Mean of empty slice.\n",
      "  return _methods._mean(a, axis=axis, dtype=dtype,\n",
      "/home/raphael/intugle/data-tools/.venv/lib/python3.12/site-packages/numpy/_core/_methods.py:144: RuntimeWarning: invalid value encountered in scalar divide\n",
      "  ret = ret.dtype.type(ret / rcount)\n",
      "100%|██████████| 10/10 [00:05<00:00,  1.91it/s]\n",
      "[*] NPS_SURVEY:   0%|          | 0/1 [00:00<?, ?it/s]/home/raphael/intugle/data-tools/src/intugle/core/pipeline/key_identification/ki.py:87: SettingWithCopyWarning: \n",
      "A value is trying to be set on a copy of a slice from a DataFrame\n",
      "\n",
      "See the caveats in the documentation: https://pandas.pydata.org/pandas-docs/stable/user_guide/indexing.html#returning-a-view-versus-a-copy\n",
      "  temp.rename(columns={\"datatype_l1\": \"datatype\"}, inplace=True)\n",
      "[*] NPS_SURVEY: 100%|██████████| 1/1 [00:01<00:00,  1.02s/it]\n"
     ]
    },
    {
     "data": {
      "text/html": [
       "<pre style=\"white-space:pre;overflow-x:auto;line-height:normal;font-family:Menlo,'DejaVu Sans Mono',consolas,'Courier New',monospace\"><span style=\"color: #ffaf00; text-decoration-color: #ffaf00\">Processing dataset: OPPORTUNITY</span>\n",
       "</pre>\n"
      ],
      "text/plain": [
       "\u001b[38;5;214mProcessing dataset: OPPORTUNITY\u001b[0m\n"
      ]
     },
     "metadata": {},
     "output_type": "display_data"
    },
    {
     "name": "stderr",
     "output_type": "stream",
     "text": [
      "/home/raphael/intugle/data-tools/.venv/lib/python3.12/site-packages/numpy/_core/fromnumeric.py:3859: RuntimeWarning: Mean of empty slice.\n",
      "  return _methods._mean(a, axis=axis, dtype=dtype,\n",
      "/home/raphael/intugle/data-tools/.venv/lib/python3.12/site-packages/numpy/_core/_methods.py:144: RuntimeWarning: invalid value encountered in scalar divide\n",
      "  ret = ret.dtype.type(ret / rcount)\n",
      "100%|██████████| 12/12 [00:06<00:00,  1.83it/s]\n",
      "[*] OPPORTUNITY:   0%|          | 0/1 [00:00<?, ?it/s]/home/raphael/intugle/data-tools/src/intugle/core/pipeline/key_identification/ki.py:87: SettingWithCopyWarning: \n",
      "A value is trying to be set on a copy of a slice from a DataFrame\n",
      "\n",
      "See the caveats in the documentation: https://pandas.pydata.org/pandas-docs/stable/user_guide/indexing.html#returning-a-view-versus-a-copy\n",
      "  temp.rename(columns={\"datatype_l1\": \"datatype\"}, inplace=True)\n",
      "[*] OPPORTUNITY: 100%|██████████| 1/1 [00:01<00:00,  1.03s/it]\n"
     ]
    },
    {
     "data": {
      "text/html": [
       "<pre style=\"white-space:pre;overflow-x:auto;line-height:normal;font-family:Menlo,'DejaVu Sans Mono',consolas,'Courier New',monospace\"><span style=\"color: #ffaf00; text-decoration-color: #ffaf00\">Processing dataset: ORDERS</span>\n",
       "</pre>\n"
      ],
      "text/plain": [
       "\u001b[38;5;214mProcessing dataset: ORDERS\u001b[0m\n"
      ]
     },
     "metadata": {},
     "output_type": "display_data"
    },
    {
     "name": "stderr",
     "output_type": "stream",
     "text": [
      "/home/raphael/intugle/data-tools/.venv/lib/python3.12/site-packages/numpy/_core/fromnumeric.py:3859: RuntimeWarning: Mean of empty slice.\n",
      "  return _methods._mean(a, axis=axis, dtype=dtype,\n",
      "/home/raphael/intugle/data-tools/.venv/lib/python3.12/site-packages/numpy/_core/_methods.py:144: RuntimeWarning: invalid value encountered in scalar divide\n",
      "  ret = ret.dtype.type(ret / rcount)\n",
      "100%|██████████| 7/7 [00:03<00:00,  2.01it/s]\n",
      "[*] ORDERS:   0%|          | 0/1 [00:00<?, ?it/s]/home/raphael/intugle/data-tools/src/intugle/core/pipeline/key_identification/ki.py:87: SettingWithCopyWarning: \n",
      "A value is trying to be set on a copy of a slice from a DataFrame\n",
      "\n",
      "See the caveats in the documentation: https://pandas.pydata.org/pandas-docs/stable/user_guide/indexing.html#returning-a-view-versus-a-copy\n",
      "  temp.rename(columns={\"datatype_l1\": \"datatype\"}, inplace=True)\n",
      "[*] ORDERS: 100%|██████████| 1/1 [00:01<00:00,  1.70s/it]\n"
     ]
    },
    {
     "data": {
      "text/html": [
       "<pre style=\"white-space:pre;overflow-x:auto;line-height:normal;font-family:Menlo,'DejaVu Sans Mono',consolas,'Courier New',monospace\"><span style=\"color: #ffaf00; text-decoration-color: #ffaf00\">Processing dataset: PROB_STATEMENT_ISSUE</span>\n",
       "</pre>\n"
      ],
      "text/plain": [
       "\u001b[38;5;214mProcessing dataset: PROB_STATEMENT_ISSUE\u001b[0m\n"
      ]
     },
     "metadata": {},
     "output_type": "display_data"
    },
    {
     "name": "stderr",
     "output_type": "stream",
     "text": [
      "/home/raphael/intugle/data-tools/.venv/lib/python3.12/site-packages/numpy/_core/fromnumeric.py:3859: RuntimeWarning: Mean of empty slice.\n",
      "  return _methods._mean(a, axis=axis, dtype=dtype,\n",
      "/home/raphael/intugle/data-tools/.venv/lib/python3.12/site-packages/numpy/_core/_methods.py:144: RuntimeWarning: invalid value encountered in scalar divide\n",
      "  ret = ret.dtype.type(ret / rcount)\n",
      "100%|██████████| 8/8 [00:04<00:00,  1.73it/s]\n",
      "[*] PROB_STATEMENT_ISSUE:   0%|          | 0/1 [00:00<?, ?it/s]/home/raphael/intugle/data-tools/src/intugle/core/pipeline/key_identification/ki.py:87: SettingWithCopyWarning: \n",
      "A value is trying to be set on a copy of a slice from a DataFrame\n",
      "\n",
      "See the caveats in the documentation: https://pandas.pydata.org/pandas-docs/stable/user_guide/indexing.html#returning-a-view-versus-a-copy\n",
      "  temp.rename(columns={\"datatype_l1\": \"datatype\"}, inplace=True)\n",
      "[*] PROB_STATEMENT_ISSUE: 100%|██████████| 1/1 [00:01<00:00,  1.21s/it]\n"
     ]
    },
    {
     "data": {
      "text/html": [
       "<pre style=\"white-space:pre;overflow-x:auto;line-height:normal;font-family:Menlo,'DejaVu Sans Mono',consolas,'Courier New',monospace\"><span style=\"color: #ffaf00; text-decoration-color: #ffaf00\">Processing dataset: PRODUCT_FEATURE</span>\n",
       "</pre>\n"
      ],
      "text/plain": [
       "\u001b[38;5;214mProcessing dataset: PRODUCT_FEATURE\u001b[0m\n"
      ]
     },
     "metadata": {},
     "output_type": "display_data"
    },
    {
     "name": "stderr",
     "output_type": "stream",
     "text": [
      "/home/raphael/intugle/data-tools/.venv/lib/python3.12/site-packages/numpy/_core/fromnumeric.py:3859: RuntimeWarning: Mean of empty slice.\n",
      "  return _methods._mean(a, axis=axis, dtype=dtype,\n",
      "/home/raphael/intugle/data-tools/.venv/lib/python3.12/site-packages/numpy/_core/_methods.py:144: RuntimeWarning: invalid value encountered in scalar divide\n",
      "  ret = ret.dtype.type(ret / rcount)\n",
      "100%|██████████| 8/8 [00:05<00:00,  1.60it/s]\n"
     ]
    },
    {
     "data": {
      "text/html": [
       "<pre style=\"white-space:pre;overflow-x:auto;line-height:normal;font-family:Menlo,'DejaVu Sans Mono',consolas,'Courier New',monospace\"><span style=\"color: #ffaf00; text-decoration-color: #ffaf00\">Processing dataset: PRODUCT_HIERARCHY</span>\n",
       "</pre>\n"
      ],
      "text/plain": [
       "\u001b[38;5;214mProcessing dataset: PRODUCT_HIERARCHY\u001b[0m\n"
      ]
     },
     "metadata": {},
     "output_type": "display_data"
    },
    {
     "name": "stderr",
     "output_type": "stream",
     "text": [
      "/home/raphael/intugle/data-tools/.venv/lib/python3.12/site-packages/numpy/_core/fromnumeric.py:3859: RuntimeWarning: Mean of empty slice.\n",
      "  return _methods._mean(a, axis=axis, dtype=dtype,\n",
      "/home/raphael/intugle/data-tools/.venv/lib/python3.12/site-packages/numpy/_core/_methods.py:144: RuntimeWarning: invalid value encountered in scalar divide\n",
      "  ret = ret.dtype.type(ret / rcount)\n",
      "100%|██████████| 7/7 [00:02<00:00,  2.58it/s]\n",
      "[*] PRODUCT_HIERARCHY:   0%|          | 0/1 [00:00<?, ?it/s]/home/raphael/intugle/data-tools/src/intugle/core/pipeline/key_identification/ki.py:87: SettingWithCopyWarning: \n",
      "A value is trying to be set on a copy of a slice from a DataFrame\n",
      "\n",
      "See the caveats in the documentation: https://pandas.pydata.org/pandas-docs/stable/user_guide/indexing.html#returning-a-view-versus-a-copy\n",
      "  temp.rename(columns={\"datatype_l1\": \"datatype\"}, inplace=True)\n",
      "[*] PRODUCT_HIERARCHY: 100%|██████████| 1/1 [00:00<00:00,  1.38it/s]\n"
     ]
    },
    {
     "data": {
      "text/html": [
       "<pre style=\"white-space:pre;overflow-x:auto;line-height:normal;font-family:Menlo,'DejaVu Sans Mono',consolas,'Courier New',monospace\"><span style=\"color: #ffaf00; text-decoration-color: #ffaf00\">Processing dataset: PRODUCTS</span>\n",
       "</pre>\n"
      ],
      "text/plain": [
       "\u001b[38;5;214mProcessing dataset: PRODUCTS\u001b[0m\n"
      ]
     },
     "metadata": {},
     "output_type": "display_data"
    },
    {
     "name": "stderr",
     "output_type": "stream",
     "text": [
      "/home/raphael/intugle/data-tools/.venv/lib/python3.12/site-packages/numpy/_core/fromnumeric.py:3859: RuntimeWarning: Mean of empty slice.\n",
      "  return _methods._mean(a, axis=axis, dtype=dtype,\n",
      "/home/raphael/intugle/data-tools/.venv/lib/python3.12/site-packages/numpy/_core/_methods.py:144: RuntimeWarning: invalid value encountered in scalar divide\n",
      "  ret = ret.dtype.type(ret / rcount)\n",
      "100%|██████████| 10/10 [00:04<00:00,  2.01it/s]\n",
      "[*] PRODUCTS:   0%|          | 0/1 [00:00<?, ?it/s]/home/raphael/intugle/data-tools/src/intugle/core/pipeline/key_identification/ki.py:87: SettingWithCopyWarning: \n",
      "A value is trying to be set on a copy of a slice from a DataFrame\n",
      "\n",
      "See the caveats in the documentation: https://pandas.pydata.org/pandas-docs/stable/user_guide/indexing.html#returning-a-view-versus-a-copy\n",
      "  temp.rename(columns={\"datatype_l1\": \"datatype\"}, inplace=True)\n",
      "[*] PRODUCTS: 100%|██████████| 1/1 [00:01<00:00,  1.37s/it]\n"
     ]
    },
    {
     "data": {
      "text/html": [
       "<pre style=\"white-space:pre;overflow-x:auto;line-height:normal;font-family:Menlo,'DejaVu Sans Mono',consolas,'Courier New',monospace\"><span style=\"color: #ffaf00; text-decoration-color: #ffaf00\">Processing dataset: RENEWALS</span>\n",
       "</pre>\n"
      ],
      "text/plain": [
       "\u001b[38;5;214mProcessing dataset: RENEWALS\u001b[0m\n"
      ]
     },
     "metadata": {},
     "output_type": "display_data"
    },
    {
     "name": "stderr",
     "output_type": "stream",
     "text": [
      "/home/raphael/intugle/data-tools/.venv/lib/python3.12/site-packages/numpy/_core/fromnumeric.py:3859: RuntimeWarning: Mean of empty slice.\n",
      "  return _methods._mean(a, axis=axis, dtype=dtype,\n",
      "/home/raphael/intugle/data-tools/.venv/lib/python3.12/site-packages/numpy/_core/_methods.py:144: RuntimeWarning: invalid value encountered in scalar divide\n",
      "  ret = ret.dtype.type(ret / rcount)\n",
      "100%|██████████| 8/8 [00:04<00:00,  1.62it/s]\n",
      "[*] RENEWALS:   0%|          | 0/1 [00:00<?, ?it/s]/home/raphael/intugle/data-tools/src/intugle/core/pipeline/key_identification/ki.py:87: SettingWithCopyWarning: \n",
      "A value is trying to be set on a copy of a slice from a DataFrame\n",
      "\n",
      "See the caveats in the documentation: https://pandas.pydata.org/pandas-docs/stable/user_guide/indexing.html#returning-a-view-versus-a-copy\n",
      "  temp.rename(columns={\"datatype_l1\": \"datatype\"}, inplace=True)\n",
      "[*] RENEWALS: 100%|██████████| 1/1 [00:01<00:00,  1.01s/it]\n"
     ]
    },
    {
     "data": {
      "text/html": [
       "<pre style=\"white-space:pre;overflow-x:auto;line-height:normal;font-family:Menlo,'DejaVu Sans Mono',consolas,'Courier New',monospace\"><span style=\"color: #ffaf00; text-decoration-color: #ffaf00\">Processing dataset: RETURNS</span>\n",
       "</pre>\n"
      ],
      "text/plain": [
       "\u001b[38;5;214mProcessing dataset: RETURNS\u001b[0m\n"
      ]
     },
     "metadata": {},
     "output_type": "display_data"
    },
    {
     "name": "stderr",
     "output_type": "stream",
     "text": [
      "/home/raphael/intugle/data-tools/.venv/lib/python3.12/site-packages/numpy/_core/fromnumeric.py:3859: RuntimeWarning: Mean of empty slice.\n",
      "  return _methods._mean(a, axis=axis, dtype=dtype,\n",
      "/home/raphael/intugle/data-tools/.venv/lib/python3.12/site-packages/numpy/_core/_methods.py:144: RuntimeWarning: invalid value encountered in scalar divide\n",
      "  ret = ret.dtype.type(ret / rcount)\n",
      "100%|██████████| 11/11 [00:05<00:00,  1.86it/s]\n",
      "[*] RETURNS:   0%|          | 0/1 [00:00<?, ?it/s]/home/raphael/intugle/data-tools/src/intugle/core/pipeline/key_identification/ki.py:87: SettingWithCopyWarning: \n",
      "A value is trying to be set on a copy of a slice from a DataFrame\n",
      "\n",
      "See the caveats in the documentation: https://pandas.pydata.org/pandas-docs/stable/user_guide/indexing.html#returning-a-view-versus-a-copy\n",
      "  temp.rename(columns={\"datatype_l1\": \"datatype\"}, inplace=True)\n",
      "[*] RETURNS: 100%|██████████| 1/1 [00:01<00:00,  1.02s/it]\n"
     ]
    },
    {
     "data": {
      "text/html": [
       "<pre style=\"white-space:pre;overflow-x:auto;line-height:normal;font-family:Menlo,'DejaVu Sans Mono',consolas,'Courier New',monospace\"><span style=\"color: #ffaf00; text-decoration-color: #ffaf00\">Processing dataset: SERVICE_REQUESTS</span>\n",
       "</pre>\n"
      ],
      "text/plain": [
       "\u001b[38;5;214mProcessing dataset: SERVICE_REQUESTS\u001b[0m\n"
      ]
     },
     "metadata": {},
     "output_type": "display_data"
    },
    {
     "name": "stderr",
     "output_type": "stream",
     "text": [
      "/home/raphael/intugle/data-tools/.venv/lib/python3.12/site-packages/numpy/_core/fromnumeric.py:3859: RuntimeWarning: Mean of empty slice.\n",
      "  return _methods._mean(a, axis=axis, dtype=dtype,\n",
      "/home/raphael/intugle/data-tools/.venv/lib/python3.12/site-packages/numpy/_core/_methods.py:144: RuntimeWarning: invalid value encountered in scalar divide\n",
      "  ret = ret.dtype.type(ret / rcount)\n",
      "100%|██████████| 11/11 [00:05<00:00,  1.85it/s]\n",
      "[*] SERVICE_REQUESTS:   0%|          | 0/1 [00:00<?, ?it/s]/home/raphael/intugle/data-tools/src/intugle/core/pipeline/key_identification/ki.py:87: SettingWithCopyWarning: \n",
      "A value is trying to be set on a copy of a slice from a DataFrame\n",
      "\n",
      "See the caveats in the documentation: https://pandas.pydata.org/pandas-docs/stable/user_guide/indexing.html#returning-a-view-versus-a-copy\n",
      "  temp.rename(columns={\"datatype_l1\": \"datatype\"}, inplace=True)\n",
      "[!] Error while llm invoke: Error code: 429 - {'error': {'code': '429', 'message': 'Requests to the ChatCompletions_Create Operation under Azure OpenAI API version 2024-12-01-preview have exceeded token rate limit of your current OpenAI S0 pricing tier. Please retry after 60 seconds. Please go here: https://aka.ms/oai/quotaincrease if you would like to further increase the default rate limit. For Free Account customers, upgrade to Pay as you Go here: https://aka.ms/429TrialUpgrade.'}}\n",
      "[!] Error while llm response parsing: Error code: 429 - {'error': {'code': '429', 'message': 'Requests to the ChatCompletions_Create Operation under Azure OpenAI API version 2024-12-01-preview have exceeded token rate limit of your current OpenAI S0 pricing tier. Please retry after 60 seconds. Please go here: https://aka.ms/oai/quotaincrease if you would like to further increase the default rate limit. For Free Account customers, upgrade to Pay as you Go here: https://aka.ms/429TrialUpgrade.'}}\n",
      "[!] Error while parsing : 'NoneType' object has no attribute 'group'\n",
      "[!]  key identified by LLM is not a valid column of SERVICE_REQUESTS table\n",
      "[*] SERVICE_REQUESTS: 100%|██████████| 1/1 [10:07<00:00, 607.28s/it]\n"
     ]
    },
    {
     "data": {
      "text/html": [
       "<pre style=\"white-space:pre;overflow-x:auto;line-height:normal;font-family:Menlo,'DejaVu Sans Mono',consolas,'Courier New',monospace\"><span style=\"color: #ffaf00; text-decoration-color: #ffaf00\">Processing dataset: WEBSITE</span>\n",
       "</pre>\n"
      ],
      "text/plain": [
       "\u001b[38;5;214mProcessing dataset: WEBSITE\u001b[0m\n"
      ]
     },
     "metadata": {},
     "output_type": "display_data"
    },
    {
     "name": "stderr",
     "output_type": "stream",
     "text": [
      "/home/raphael/intugle/data-tools/.venv/lib/python3.12/site-packages/numpy/_core/fromnumeric.py:3859: RuntimeWarning: Mean of empty slice.\n",
      "  return _methods._mean(a, axis=axis, dtype=dtype,\n",
      "/home/raphael/intugle/data-tools/.venv/lib/python3.12/site-packages/numpy/_core/_methods.py:144: RuntimeWarning: invalid value encountered in scalar divide\n",
      "  ret = ret.dtype.type(ret / rcount)\n",
      "100%|██████████| 9/9 [00:04<00:00,  2.04it/s]\n",
      "[*] WEBSITE:   0%|          | 0/1 [00:00<?, ?it/s]/home/raphael/intugle/data-tools/src/intugle/core/pipeline/key_identification/ki.py:87: SettingWithCopyWarning: \n",
      "A value is trying to be set on a copy of a slice from a DataFrame\n",
      "\n",
      "See the caveats in the documentation: https://pandas.pydata.org/pandas-docs/stable/user_guide/indexing.html#returning-a-view-versus-a-copy\n",
      "  temp.rename(columns={\"datatype_l1\": \"datatype\"}, inplace=True)\n",
      "[*] WEBSITE: 100%|██████████| 1/1 [00:01<00:00,  1.99s/it]\n"
     ]
    },
    {
     "data": {
      "text/html": [
       "<pre style=\"white-space:pre;overflow-x:auto;line-height:normal;font-family:Menlo,'DejaVu Sans Mono',consolas,'Courier New',monospace\"><span style=\"color: #008000; text-decoration-color: #008000; font-weight: bold\">Profiling and key identification complete.</span>\n",
       "</pre>\n"
      ],
      "text/plain": [
       "\u001b[1;32mProfiling and key identification complete.\u001b[0m\n"
      ]
     },
     "metadata": {},
     "output_type": "display_data"
    },
    {
     "data": {
      "text/html": [
       "<pre style=\"white-space:pre;overflow-x:auto;line-height:normal;font-family:Menlo,'DejaVu Sans Mono',consolas,'Courier New',monospace\"><span style=\"color: #808000; text-decoration-color: #808000\">Starting link prediction stage...</span>\n",
       "</pre>\n"
      ],
      "text/plain": [
       "\u001b[33mStarting link prediction stage\u001b[0m\u001b[33m...\u001b[0m\n"
      ]
     },
     "metadata": {},
     "output_type": "display_data"
    },
    {
     "name": "stdout",
     "output_type": "stream",
     "text": [
      "Dataset 'CAMPAIGNS' already processed. Skipping analysis.\n",
      "Dataset 'CAMPAIGN_SURVEY' already processed. Skipping analysis.\n",
      "Dataset 'CUSTOMER_HIERARCHY' already processed. Skipping analysis.\n",
      "Dataset 'CUSTOMERS' already processed. Skipping analysis.\n",
      "Dataset 'DELIVERY_SURVEY' already processed. Skipping analysis.\n",
      "Dataset 'EXPENSE' already processed. Skipping analysis.\n",
      "Dataset 'INSTALL_BASE' already processed. Skipping analysis.\n",
      "Dataset 'INVENTORY' already processed. Skipping analysis.\n",
      "Dataset 'LOGISTICS' already processed. Skipping analysis.\n",
      "Dataset 'NPS_SURVEY' already processed. Skipping analysis.\n",
      "Dataset 'OPPORTUNITY' already processed. Skipping analysis.\n",
      "Dataset 'ORDERS' already processed. Skipping analysis.\n",
      "Dataset 'PROB_STATEMENT_ISSUE' already processed. Skipping analysis.\n",
      "Dataset 'PRODUCT_FEATURE' already processed. Skipping analysis.\n",
      "Dataset 'PRODUCT_HIERARCHY' already processed. Skipping analysis.\n",
      "Dataset 'PRODUCTS' already processed. Skipping analysis.\n",
      "Dataset 'RENEWALS' already processed. Skipping analysis.\n",
      "Dataset 'RETURNS' already processed. Skipping analysis.\n",
      "Dataset 'SERVICE_REQUESTS' already processed. Skipping analysis.\n",
      "Dataset 'WEBSITE' already processed. Skipping analysis.\n",
      "LinkPredictor initialized with datasets: ['CAMPAIGNS', 'CAMPAIGN_SURVEY', 'CUSTOMER_HIERARCHY', 'CUSTOMERS', 'DELIVERY_SURVEY', 'EXPENSE', 'INSTALL_BASE', 'INVENTORY', 'LOGISTICS', 'NPS_SURVEY', 'OPPORTUNITY', 'ORDERS', 'PROB_STATEMENT_ISSUE', 'PRODUCT_FEATURE', 'PRODUCT_HIERARCHY', 'PRODUCTS', 'RENEWALS', 'RETURNS', 'SERVICE_REQUESTS', 'WEBSITE']\n",
      "\n",
      "--- Comparing 'CAMPAIGNS' <=> 'CAMPAIGN_SURVEY' ---\n"
     ]
    },
    {
     "name": "stderr",
     "output_type": "stream",
     "text": [
      "[*] CAMPAIGNS <==> CAMPAIGN_SURVEY Runs:1: 100%|██████████| 1/1 [00:02<00:00,  2.65s/it]\n"
     ]
    },
    {
     "name": "stdout",
     "output_type": "stream",
     "text": [
      "Found 1 potential link(s).\n",
      "\n",
      "--- Comparing 'CAMPAIGNS' <=> 'CUSTOMER_HIERARCHY' ---\n"
     ]
    },
    {
     "name": "stderr",
     "output_type": "stream",
     "text": [
      "[*] CAMPAIGNS <==> CUSTOMER_HIERARCHY Runs:1: 100%|██████████| 1/1 [00:01<00:00,  1.32s/it]\n"
     ]
    },
    {
     "name": "stdout",
     "output_type": "stream",
     "text": [
      "No links found for this pair.\n",
      "\n",
      "--- Comparing 'CAMPAIGNS' <=> 'CUSTOMERS' ---\n"
     ]
    },
    {
     "name": "stderr",
     "output_type": "stream",
     "text": [
      "[*] CAMPAIGNS <==> CUSTOMERS Runs:1: 100%|██████████| 1/1 [00:02<00:00,  2.42s/it]\n"
     ]
    },
    {
     "name": "stdout",
     "output_type": "stream",
     "text": [
      "Found 1 potential link(s).\n",
      "\n",
      "--- Comparing 'CAMPAIGNS' <=> 'DELIVERY_SURVEY' ---\n"
     ]
    },
    {
     "name": "stderr",
     "output_type": "stream",
     "text": [
      "[*] CAMPAIGNS <==> DELIVERY_SURVEY Runs:1: 100%|██████████| 1/1 [00:01<00:00,  1.42s/it]\n"
     ]
    },
    {
     "name": "stdout",
     "output_type": "stream",
     "text": [
      "No links found for this pair.\n",
      "\n",
      "--- Comparing 'CAMPAIGNS' <=> 'EXPENSE' ---\n"
     ]
    },
    {
     "name": "stderr",
     "output_type": "stream",
     "text": [
      "[*] CAMPAIGNS <==> EXPENSE Runs:1: 100%|██████████| 1/1 [00:01<00:00,  1.24s/it]\n"
     ]
    },
    {
     "name": "stdout",
     "output_type": "stream",
     "text": [
      "No links found for this pair.\n",
      "\n",
      "--- Comparing 'CAMPAIGNS' <=> 'INSTALL_BASE' ---\n"
     ]
    },
    {
     "name": "stderr",
     "output_type": "stream",
     "text": [
      "[*] CAMPAIGNS <==> INSTALL_BASE Runs:1: 100%|██████████| 1/1 [00:01<00:00,  1.55s/it]\n"
     ]
    },
    {
     "name": "stdout",
     "output_type": "stream",
     "text": [
      "No links found for this pair.\n",
      "\n",
      "--- Comparing 'CAMPAIGNS' <=> 'INVENTORY' ---\n"
     ]
    },
    {
     "name": "stderr",
     "output_type": "stream",
     "text": [
      "[*] CAMPAIGNS <==> INVENTORY Runs:1: 100%|██████████| 1/1 [00:01<00:00,  1.32s/it]\n"
     ]
    },
    {
     "name": "stdout",
     "output_type": "stream",
     "text": [
      "No links found for this pair.\n",
      "\n",
      "--- Comparing 'CAMPAIGNS' <=> 'LOGISTICS' ---\n"
     ]
    },
    {
     "name": "stderr",
     "output_type": "stream",
     "text": [
      "[*] CAMPAIGNS <==> LOGISTICS Runs:1: 100%|██████████| 1/1 [00:46<00:00, 46.46s/it]\n"
     ]
    },
    {
     "name": "stdout",
     "output_type": "stream",
     "text": [
      "No links found for this pair.\n",
      "\n",
      "--- Comparing 'CAMPAIGNS' <=> 'NPS_SURVEY' ---\n"
     ]
    },
    {
     "name": "stderr",
     "output_type": "stream",
     "text": [
      "[*] CAMPAIGNS <==> NPS_SURVEY Runs:1: 100%|██████████| 1/1 [00:01<00:00,  1.55s/it]\n"
     ]
    },
    {
     "name": "stdout",
     "output_type": "stream",
     "text": [
      "No links found for this pair.\n",
      "\n",
      "--- Comparing 'CAMPAIGNS' <=> 'OPPORTUNITY' ---\n"
     ]
    },
    {
     "name": "stderr",
     "output_type": "stream",
     "text": [
      "[*] CAMPAIGNS <==> OPPORTUNITY Runs:1: 100%|██████████| 1/1 [00:01<00:00,  1.48s/it]\n"
     ]
    },
    {
     "name": "stdout",
     "output_type": "stream",
     "text": [
      "No links found for this pair.\n",
      "\n",
      "--- Comparing 'CAMPAIGNS' <=> 'ORDERS' ---\n"
     ]
    },
    {
     "name": "stderr",
     "output_type": "stream",
     "text": [
      "[*] CAMPAIGNS <==> ORDERS Runs:1: 100%|██████████| 1/1 [00:01<00:00,  1.41s/it]\n"
     ]
    },
    {
     "name": "stdout",
     "output_type": "stream",
     "text": [
      "No links found for this pair.\n",
      "\n",
      "--- Comparing 'CAMPAIGNS' <=> 'PROB_STATEMENT_ISSUE' ---\n"
     ]
    },
    {
     "name": "stderr",
     "output_type": "stream",
     "text": [
      "[*] CAMPAIGNS <==> PROB_STATEMENT_ISSUE Runs:1: 100%|██████████| 1/1 [00:01<00:00,  1.47s/it]\n"
     ]
    },
    {
     "name": "stdout",
     "output_type": "stream",
     "text": [
      "No links found for this pair.\n",
      "\n",
      "--- Comparing 'CAMPAIGNS' <=> 'PRODUCT_FEATURE' ---\n"
     ]
    },
    {
     "name": "stderr",
     "output_type": "stream",
     "text": [
      "[*] CAMPAIGNS <==> PRODUCT_FEATURE Runs:1: 100%|██████████| 1/1 [00:01<00:00,  1.45s/it]\n"
     ]
    },
    {
     "name": "stdout",
     "output_type": "stream",
     "text": [
      "No links found for this pair.\n",
      "\n",
      "--- Comparing 'CAMPAIGNS' <=> 'PRODUCT_HIERARCHY' ---\n"
     ]
    },
    {
     "name": "stderr",
     "output_type": "stream",
     "text": [
      "[*] CAMPAIGNS <==> PRODUCT_HIERARCHY Runs:1: 100%|██████████| 1/1 [00:01<00:00,  1.30s/it]\n"
     ]
    },
    {
     "name": "stdout",
     "output_type": "stream",
     "text": [
      "No links found for this pair.\n",
      "\n",
      "--- Comparing 'CAMPAIGNS' <=> 'PRODUCTS' ---\n"
     ]
    },
    {
     "name": "stderr",
     "output_type": "stream",
     "text": [
      "[*] CAMPAIGNS <==> PRODUCTS Runs:1: 100%|██████████| 1/1 [00:02<00:00,  2.41s/it]\n"
     ]
    },
    {
     "name": "stdout",
     "output_type": "stream",
     "text": [
      "Found 1 potential link(s).\n",
      "\n",
      "--- Comparing 'CAMPAIGNS' <=> 'RENEWALS' ---\n"
     ]
    },
    {
     "name": "stderr",
     "output_type": "stream",
     "text": [
      "[*] CAMPAIGNS <==> RENEWALS Runs:1: 100%|██████████| 1/1 [00:01<00:00,  1.43s/it]\n"
     ]
    },
    {
     "name": "stdout",
     "output_type": "stream",
     "text": [
      "No links found for this pair.\n",
      "\n",
      "--- Comparing 'CAMPAIGNS' <=> 'RETURNS' ---\n"
     ]
    },
    {
     "name": "stderr",
     "output_type": "stream",
     "text": [
      "[*] CAMPAIGNS <==> RETURNS Runs:1: 100%|██████████| 1/1 [00:01<00:00,  1.46s/it]\n"
     ]
    },
    {
     "name": "stdout",
     "output_type": "stream",
     "text": [
      "No links found for this pair.\n",
      "\n",
      "--- Comparing 'CAMPAIGNS' <=> 'SERVICE_REQUESTS' ---\n"
     ]
    },
    {
     "name": "stderr",
     "output_type": "stream",
     "text": [
      "[*] CAMPAIGNS <==> SERVICE_REQUESTS Runs:1: 100%|██████████| 1/1 [00:01<00:00,  1.59s/it]\n"
     ]
    },
    {
     "name": "stdout",
     "output_type": "stream",
     "text": [
      "No links found for this pair.\n",
      "\n",
      "--- Comparing 'CAMPAIGNS' <=> 'WEBSITE' ---\n"
     ]
    },
    {
     "name": "stderr",
     "output_type": "stream",
     "text": [
      "[*] CAMPAIGNS <==> WEBSITE Runs:1: 100%|██████████| 1/1 [00:02<00:00,  2.58s/it]\n"
     ]
    },
    {
     "name": "stdout",
     "output_type": "stream",
     "text": [
      "Found 1 potential link(s).\n",
      "\n",
      "--- Comparing 'CAMPAIGN_SURVEY' <=> 'CUSTOMER_HIERARCHY' ---\n"
     ]
    },
    {
     "name": "stderr",
     "output_type": "stream",
     "text": [
      "[*] CAMPAIGN_SURVEY <==> CUSTOMER_HIERARCHY Runs:1: 100%|██████████| 1/1 [00:00<00:00,  1.61it/s]\n"
     ]
    },
    {
     "name": "stdout",
     "output_type": "stream",
     "text": [
      "No links found for this pair.\n",
      "\n",
      "--- Comparing 'CAMPAIGN_SURVEY' <=> 'CUSTOMERS' ---\n"
     ]
    },
    {
     "name": "stderr",
     "output_type": "stream",
     "text": [
      "[*] CAMPAIGN_SURVEY <==> CUSTOMERS Runs:1: 100%|██████████| 1/1 [00:00<00:00,  1.54it/s]\n"
     ]
    },
    {
     "name": "stdout",
     "output_type": "stream",
     "text": [
      "No links found for this pair.\n",
      "\n",
      "--- Comparing 'CAMPAIGN_SURVEY' <=> 'DELIVERY_SURVEY' ---\n"
     ]
    },
    {
     "name": "stderr",
     "output_type": "stream",
     "text": [
      "[*] CAMPAIGN_SURVEY <==> DELIVERY_SURVEY Runs:1: 100%|██████████| 1/1 [00:36<00:00, 36.66s/it]\n"
     ]
    },
    {
     "name": "stdout",
     "output_type": "stream",
     "text": [
      "No links found for this pair.\n",
      "\n",
      "--- Comparing 'CAMPAIGN_SURVEY' <=> 'EXPENSE' ---\n"
     ]
    },
    {
     "name": "stderr",
     "output_type": "stream",
     "text": [
      "[*] CAMPAIGN_SURVEY <==> EXPENSE Runs:1: 100%|██████████| 1/1 [00:02<00:00,  2.61s/it]\n"
     ]
    },
    {
     "name": "stdout",
     "output_type": "stream",
     "text": [
      "No links found for this pair.\n",
      "\n",
      "--- Comparing 'CAMPAIGN_SURVEY' <=> 'INSTALL_BASE' ---\n"
     ]
    },
    {
     "name": "stderr",
     "output_type": "stream",
     "text": [
      "[*] CAMPAIGN_SURVEY <==> INSTALL_BASE Runs:1: 100%|██████████| 1/1 [00:00<00:00,  1.20it/s]\n"
     ]
    },
    {
     "name": "stdout",
     "output_type": "stream",
     "text": [
      "No links found for this pair.\n",
      "\n",
      "--- Comparing 'CAMPAIGN_SURVEY' <=> 'INVENTORY' ---\n"
     ]
    },
    {
     "name": "stderr",
     "output_type": "stream",
     "text": [
      "[*] CAMPAIGN_SURVEY <==> INVENTORY Runs:1: 100%|██████████| 1/1 [00:00<00:00,  1.50it/s]\n"
     ]
    },
    {
     "name": "stdout",
     "output_type": "stream",
     "text": [
      "No links found for this pair.\n",
      "\n",
      "--- Comparing 'CAMPAIGN_SURVEY' <=> 'LOGISTICS' ---\n"
     ]
    },
    {
     "name": "stderr",
     "output_type": "stream",
     "text": [
      "[*] CAMPAIGN_SURVEY <==> LOGISTICS Runs:1: 100%|██████████| 1/1 [00:00<00:00,  1.66it/s]\n"
     ]
    },
    {
     "name": "stdout",
     "output_type": "stream",
     "text": [
      "No links found for this pair.\n",
      "\n",
      "--- Comparing 'CAMPAIGN_SURVEY' <=> 'NPS_SURVEY' ---\n"
     ]
    },
    {
     "name": "stderr",
     "output_type": "stream",
     "text": [
      "[*] CAMPAIGN_SURVEY <==> NPS_SURVEY Runs:1: 100%|██████████| 1/1 [00:00<00:00,  1.52it/s]\n"
     ]
    },
    {
     "name": "stdout",
     "output_type": "stream",
     "text": [
      "No links found for this pair.\n",
      "\n",
      "--- Comparing 'CAMPAIGN_SURVEY' <=> 'OPPORTUNITY' ---\n"
     ]
    },
    {
     "name": "stderr",
     "output_type": "stream",
     "text": [
      "[*] CAMPAIGN_SURVEY <==> OPPORTUNITY Runs:1: 100%|██████████| 1/1 [00:00<00:00,  1.52it/s]\n"
     ]
    },
    {
     "name": "stdout",
     "output_type": "stream",
     "text": [
      "No links found for this pair.\n",
      "\n",
      "--- Comparing 'CAMPAIGN_SURVEY' <=> 'ORDERS' ---\n"
     ]
    },
    {
     "name": "stderr",
     "output_type": "stream",
     "text": [
      "[*] CAMPAIGN_SURVEY <==> ORDERS Runs:1: 100%|██████████| 1/1 [00:00<00:00,  1.76it/s]\n"
     ]
    },
    {
     "name": "stdout",
     "output_type": "stream",
     "text": [
      "No links found for this pair.\n",
      "\n",
      "--- Comparing 'CAMPAIGN_SURVEY' <=> 'PROB_STATEMENT_ISSUE' ---\n"
     ]
    },
    {
     "name": "stderr",
     "output_type": "stream",
     "text": [
      "[*] CAMPAIGN_SURVEY <==> PROB_STATEMENT_ISSUE Runs:1: 100%|██████████| 1/1 [00:00<00:00,  1.38it/s]\n"
     ]
    },
    {
     "name": "stdout",
     "output_type": "stream",
     "text": [
      "No links found for this pair.\n",
      "\n",
      "--- Comparing 'CAMPAIGN_SURVEY' <=> 'PRODUCT_FEATURE' ---\n"
     ]
    },
    {
     "name": "stderr",
     "output_type": "stream",
     "text": [
      "[*] CAMPAIGN_SURVEY <==> PRODUCT_FEATURE Runs:1: 100%|██████████| 1/1 [00:00<00:00,  1.17it/s]\n"
     ]
    },
    {
     "name": "stdout",
     "output_type": "stream",
     "text": [
      "No links found for this pair.\n",
      "\n",
      "--- Comparing 'CAMPAIGN_SURVEY' <=> 'PRODUCT_HIERARCHY' ---\n"
     ]
    },
    {
     "name": "stderr",
     "output_type": "stream",
     "text": [
      "[*] CAMPAIGN_SURVEY <==> PRODUCT_HIERARCHY Runs:1: 100%|██████████| 1/1 [00:00<00:00,  1.28it/s]\n"
     ]
    },
    {
     "name": "stdout",
     "output_type": "stream",
     "text": [
      "No links found for this pair.\n",
      "\n",
      "--- Comparing 'CAMPAIGN_SURVEY' <=> 'PRODUCTS' ---\n"
     ]
    },
    {
     "name": "stderr",
     "output_type": "stream",
     "text": [
      "[*] CAMPAIGN_SURVEY <==> PRODUCTS Runs:1: 100%|██████████| 1/1 [00:00<00:00,  1.50it/s]\n"
     ]
    },
    {
     "name": "stdout",
     "output_type": "stream",
     "text": [
      "No links found for this pair.\n",
      "\n",
      "--- Comparing 'CAMPAIGN_SURVEY' <=> 'RENEWALS' ---\n"
     ]
    },
    {
     "name": "stderr",
     "output_type": "stream",
     "text": [
      "[*] CAMPAIGN_SURVEY <==> RENEWALS Runs:1: 100%|██████████| 1/1 [00:00<00:00,  1.46it/s]\n"
     ]
    },
    {
     "name": "stdout",
     "output_type": "stream",
     "text": [
      "No links found for this pair.\n",
      "\n",
      "--- Comparing 'CAMPAIGN_SURVEY' <=> 'RETURNS' ---\n"
     ]
    },
    {
     "name": "stderr",
     "output_type": "stream",
     "text": [
      "[*] CAMPAIGN_SURVEY <==> RETURNS Runs:1: 100%|██████████| 1/1 [00:00<00:00,  1.19it/s]\n"
     ]
    },
    {
     "name": "stdout",
     "output_type": "stream",
     "text": [
      "No links found for this pair.\n",
      "\n",
      "--- Comparing 'CAMPAIGN_SURVEY' <=> 'SERVICE_REQUESTS' ---\n"
     ]
    },
    {
     "name": "stderr",
     "output_type": "stream",
     "text": [
      "[*] CAMPAIGN_SURVEY <==> SERVICE_REQUESTS Runs:1: 100%|██████████| 1/1 [00:00<00:00,  1.49it/s]\n"
     ]
    },
    {
     "name": "stdout",
     "output_type": "stream",
     "text": [
      "No links found for this pair.\n",
      "\n",
      "--- Comparing 'CAMPAIGN_SURVEY' <=> 'WEBSITE' ---\n"
     ]
    },
    {
     "name": "stderr",
     "output_type": "stream",
     "text": [
      "[*] CAMPAIGN_SURVEY <==> WEBSITE Runs:1: 100%|██████████| 1/1 [00:01<00:00,  1.30s/it]\n"
     ]
    },
    {
     "name": "stdout",
     "output_type": "stream",
     "text": [
      "No links found for this pair.\n",
      "\n",
      "--- Comparing 'CUSTOMER_HIERARCHY' <=> 'CUSTOMERS' ---\n"
     ]
    },
    {
     "name": "stderr",
     "output_type": "stream",
     "text": [
      "[*] CUSTOMER_HIERARCHY <==> CUSTOMERS Runs:1: 100%|██████████| 1/1 [00:02<00:00,  2.41s/it]\n"
     ]
    },
    {
     "name": "stdout",
     "output_type": "stream",
     "text": [
      "Found 1 potential link(s).\n",
      "\n",
      "--- Comparing 'CUSTOMER_HIERARCHY' <=> 'DELIVERY_SURVEY' ---\n"
     ]
    },
    {
     "name": "stderr",
     "output_type": "stream",
     "text": [
      "[*] CUSTOMER_HIERARCHY <==> DELIVERY_SURVEY Runs:1: 100%|██████████| 1/1 [00:01<00:00,  1.74s/it]\n"
     ]
    },
    {
     "name": "stdout",
     "output_type": "stream",
     "text": [
      "No links found for this pair.\n",
      "\n",
      "--- Comparing 'CUSTOMER_HIERARCHY' <=> 'EXPENSE' ---\n"
     ]
    },
    {
     "name": "stderr",
     "output_type": "stream",
     "text": [
      "[*] CUSTOMER_HIERARCHY <==> EXPENSE Runs:1: 100%|██████████| 1/1 [00:01<00:00,  1.36s/it]\n"
     ]
    },
    {
     "name": "stdout",
     "output_type": "stream",
     "text": [
      "No links found for this pair.\n",
      "\n",
      "--- Comparing 'CUSTOMER_HIERARCHY' <=> 'INSTALL_BASE' ---\n"
     ]
    },
    {
     "name": "stderr",
     "output_type": "stream",
     "text": [
      "[*] CUSTOMER_HIERARCHY <==> INSTALL_BASE Runs:1: 100%|██████████| 1/1 [00:01<00:00,  1.39s/it]\n"
     ]
    },
    {
     "name": "stdout",
     "output_type": "stream",
     "text": [
      "No links found for this pair.\n",
      "\n",
      "--- Comparing 'CUSTOMER_HIERARCHY' <=> 'INVENTORY' ---\n"
     ]
    },
    {
     "name": "stderr",
     "output_type": "stream",
     "text": [
      "[*] CUSTOMER_HIERARCHY <==> INVENTORY Runs:1: 100%|██████████| 1/1 [00:00<00:00,  1.47it/s]\n"
     ]
    },
    {
     "name": "stdout",
     "output_type": "stream",
     "text": [
      "No links found for this pair.\n",
      "\n",
      "--- Comparing 'CUSTOMER_HIERARCHY' <=> 'LOGISTICS' ---\n"
     ]
    },
    {
     "name": "stderr",
     "output_type": "stream",
     "text": [
      "[*] CUSTOMER_HIERARCHY <==> LOGISTICS Runs:1: 100%|██████████| 1/1 [00:01<00:00,  1.36s/it]\n"
     ]
    },
    {
     "name": "stdout",
     "output_type": "stream",
     "text": [
      "No links found for this pair.\n",
      "\n",
      "--- Comparing 'CUSTOMER_HIERARCHY' <=> 'NPS_SURVEY' ---\n"
     ]
    },
    {
     "name": "stderr",
     "output_type": "stream",
     "text": [
      "[*] CUSTOMER_HIERARCHY <==> NPS_SURVEY Runs:1: 100%|██████████| 1/1 [00:38<00:00, 38.66s/it]\n"
     ]
    },
    {
     "name": "stdout",
     "output_type": "stream",
     "text": [
      "No links found for this pair.\n",
      "\n",
      "--- Comparing 'CUSTOMER_HIERARCHY' <=> 'OPPORTUNITY' ---\n"
     ]
    },
    {
     "name": "stderr",
     "output_type": "stream",
     "text": [
      "[*] CUSTOMER_HIERARCHY <==> OPPORTUNITY Runs:1: 100%|██████████| 1/1 [00:01<00:00,  1.58s/it]\n"
     ]
    },
    {
     "name": "stdout",
     "output_type": "stream",
     "text": [
      "No links found for this pair.\n",
      "\n",
      "--- Comparing 'CUSTOMER_HIERARCHY' <=> 'ORDERS' ---\n"
     ]
    },
    {
     "name": "stderr",
     "output_type": "stream",
     "text": [
      "[*] CUSTOMER_HIERARCHY <==> ORDERS Runs:1: 100%|██████████| 1/1 [00:01<00:00,  1.49s/it]\n"
     ]
    },
    {
     "name": "stdout",
     "output_type": "stream",
     "text": [
      "No links found for this pair.\n",
      "\n",
      "--- Comparing 'CUSTOMER_HIERARCHY' <=> 'PROB_STATEMENT_ISSUE' ---\n"
     ]
    },
    {
     "name": "stderr",
     "output_type": "stream",
     "text": [
      "[*] CUSTOMER_HIERARCHY <==> PROB_STATEMENT_ISSUE Runs:1: 100%|██████████| 1/1 [00:01<00:00,  1.47s/it]\n"
     ]
    },
    {
     "name": "stdout",
     "output_type": "stream",
     "text": [
      "No links found for this pair.\n",
      "\n",
      "--- Comparing 'CUSTOMER_HIERARCHY' <=> 'PRODUCT_FEATURE' ---\n"
     ]
    },
    {
     "name": "stderr",
     "output_type": "stream",
     "text": [
      "[*] CUSTOMER_HIERARCHY <==> PRODUCT_FEATURE Runs:1: 100%|██████████| 1/1 [00:00<00:00,  1.67it/s]\n"
     ]
    },
    {
     "name": "stdout",
     "output_type": "stream",
     "text": [
      "No links found for this pair.\n",
      "\n",
      "--- Comparing 'CUSTOMER_HIERARCHY' <=> 'PRODUCT_HIERARCHY' ---\n"
     ]
    },
    {
     "name": "stderr",
     "output_type": "stream",
     "text": [
      "[*] CUSTOMER_HIERARCHY <==> PRODUCT_HIERARCHY Runs:1: 100%|██████████| 1/1 [00:00<00:00,  1.67it/s]\n"
     ]
    },
    {
     "name": "stdout",
     "output_type": "stream",
     "text": [
      "No links found for this pair.\n",
      "\n",
      "--- Comparing 'CUSTOMER_HIERARCHY' <=> 'PRODUCTS' ---\n"
     ]
    },
    {
     "name": "stderr",
     "output_type": "stream",
     "text": [
      "[*] CUSTOMER_HIERARCHY <==> PRODUCTS Runs:1: 100%|██████████| 1/1 [00:00<00:00,  1.17it/s]\n"
     ]
    },
    {
     "name": "stdout",
     "output_type": "stream",
     "text": [
      "No links found for this pair.\n",
      "\n",
      "--- Comparing 'CUSTOMER_HIERARCHY' <=> 'RENEWALS' ---\n"
     ]
    },
    {
     "name": "stderr",
     "output_type": "stream",
     "text": [
      "[*] CUSTOMER_HIERARCHY <==> RENEWALS Runs:1: 100%|██████████| 1/1 [00:01<00:00,  1.41s/it]\n"
     ]
    },
    {
     "name": "stdout",
     "output_type": "stream",
     "text": [
      "No links found for this pair.\n",
      "\n",
      "--- Comparing 'CUSTOMER_HIERARCHY' <=> 'RETURNS' ---\n"
     ]
    },
    {
     "name": "stderr",
     "output_type": "stream",
     "text": [
      "[*] CUSTOMER_HIERARCHY <==> RETURNS Runs:1: 100%|██████████| 1/1 [00:02<00:00,  2.41s/it]\n"
     ]
    },
    {
     "name": "stdout",
     "output_type": "stream",
     "text": [
      "No links found for this pair.\n",
      "\n",
      "--- Comparing 'CUSTOMER_HIERARCHY' <=> 'SERVICE_REQUESTS' ---\n"
     ]
    },
    {
     "name": "stderr",
     "output_type": "stream",
     "text": [
      "[*] CUSTOMER_HIERARCHY <==> SERVICE_REQUESTS Runs:1: 100%|██████████| 1/1 [00:03<00:00,  3.42s/it]\n"
     ]
    },
    {
     "name": "stdout",
     "output_type": "stream",
     "text": [
      "No links found for this pair.\n",
      "\n",
      "--- Comparing 'CUSTOMER_HIERARCHY' <=> 'WEBSITE' ---\n"
     ]
    },
    {
     "name": "stderr",
     "output_type": "stream",
     "text": [
      "[*] CUSTOMER_HIERARCHY <==> WEBSITE Runs:1: 100%|██████████| 1/1 [00:00<00:00,  1.70it/s]\n"
     ]
    },
    {
     "name": "stdout",
     "output_type": "stream",
     "text": [
      "No links found for this pair.\n",
      "\n",
      "--- Comparing 'CUSTOMERS' <=> 'DELIVERY_SURVEY' ---\n"
     ]
    },
    {
     "name": "stderr",
     "output_type": "stream",
     "text": [
      "[*] CUSTOMERS <==> DELIVERY_SURVEY Runs:1: 100%|██████████| 1/1 [00:03<00:00,  3.14s/it]\n"
     ]
    },
    {
     "name": "stdout",
     "output_type": "stream",
     "text": [
      "Found 1 potential link(s).\n",
      "\n",
      "--- Comparing 'CUSTOMERS' <=> 'EXPENSE' ---\n"
     ]
    },
    {
     "name": "stderr",
     "output_type": "stream",
     "text": [
      "[*] CUSTOMERS <==> EXPENSE Runs:1: 100%|██████████| 1/1 [00:02<00:00,  2.39s/it]\n"
     ]
    },
    {
     "name": "stdout",
     "output_type": "stream",
     "text": [
      "Found 1 potential link(s).\n",
      "\n",
      "--- Comparing 'CUSTOMERS' <=> 'INSTALL_BASE' ---\n"
     ]
    },
    {
     "name": "stderr",
     "output_type": "stream",
     "text": [
      "[*] CUSTOMERS <==> INSTALL_BASE Runs:1: 100%|██████████| 1/1 [00:02<00:00,  2.45s/it]\n"
     ]
    },
    {
     "name": "stdout",
     "output_type": "stream",
     "text": [
      "Found 1 potential link(s).\n",
      "\n",
      "--- Comparing 'CUSTOMERS' <=> 'INVENTORY' ---\n"
     ]
    },
    {
     "name": "stderr",
     "output_type": "stream",
     "text": [
      "[*] CUSTOMERS <==> INVENTORY Runs:1: 100%|██████████| 1/1 [00:00<00:00,  1.06it/s]\n"
     ]
    },
    {
     "name": "stdout",
     "output_type": "stream",
     "text": [
      "No links found for this pair.\n",
      "\n",
      "--- Comparing 'CUSTOMERS' <=> 'LOGISTICS' ---\n"
     ]
    },
    {
     "name": "stderr",
     "output_type": "stream",
     "text": [
      "[*] CUSTOMERS <==> LOGISTICS Runs:1: 100%|██████████| 1/1 [00:03<00:00,  3.25s/it]\n"
     ]
    },
    {
     "name": "stdout",
     "output_type": "stream",
     "text": [
      "Found 1 potential link(s).\n",
      "\n",
      "--- Comparing 'CUSTOMERS' <=> 'NPS_SURVEY' ---\n"
     ]
    },
    {
     "name": "stderr",
     "output_type": "stream",
     "text": [
      "[*] CUSTOMERS <==> NPS_SURVEY Runs:1: 100%|██████████| 1/1 [00:02<00:00,  2.39s/it]\n"
     ]
    },
    {
     "name": "stdout",
     "output_type": "stream",
     "text": [
      "Found 1 potential link(s).\n",
      "\n",
      "--- Comparing 'CUSTOMERS' <=> 'OPPORTUNITY' ---\n"
     ]
    },
    {
     "name": "stderr",
     "output_type": "stream",
     "text": [
      "[*] CUSTOMERS <==> OPPORTUNITY Runs:1: 100%|██████████| 1/1 [00:02<00:00,  2.32s/it]\n"
     ]
    },
    {
     "name": "stdout",
     "output_type": "stream",
     "text": [
      "Found 1 potential link(s).\n",
      "\n",
      "--- Comparing 'CUSTOMERS' <=> 'ORDERS' ---\n"
     ]
    },
    {
     "name": "stderr",
     "output_type": "stream",
     "text": [
      "[*] CUSTOMERS <==> ORDERS Runs:1: 100%|██████████| 1/1 [00:02<00:00,  2.48s/it]\n"
     ]
    },
    {
     "name": "stdout",
     "output_type": "stream",
     "text": [
      "Found 1 potential link(s).\n",
      "\n",
      "--- Comparing 'CUSTOMERS' <=> 'PROB_STATEMENT_ISSUE' ---\n"
     ]
    },
    {
     "name": "stderr",
     "output_type": "stream",
     "text": [
      "[*] CUSTOMERS <==> PROB_STATEMENT_ISSUE Runs:1: 100%|██████████| 1/1 [00:24<00:00, 24.87s/it]\n"
     ]
    },
    {
     "name": "stdout",
     "output_type": "stream",
     "text": [
      "Found 1 potential link(s).\n",
      "\n",
      "--- Comparing 'CUSTOMERS' <=> 'PRODUCT_FEATURE' ---\n"
     ]
    },
    {
     "name": "stderr",
     "output_type": "stream",
     "text": [
      "[*] CUSTOMERS <==> PRODUCT_FEATURE Runs:1: 100%|██████████| 1/1 [00:00<00:00,  1.27it/s]\n"
     ]
    },
    {
     "name": "stdout",
     "output_type": "stream",
     "text": [
      "No links found for this pair.\n",
      "\n",
      "--- Comparing 'CUSTOMERS' <=> 'PRODUCT_HIERARCHY' ---\n"
     ]
    },
    {
     "name": "stderr",
     "output_type": "stream",
     "text": [
      "[*] CUSTOMERS <==> PRODUCT_HIERARCHY Runs:1: 100%|██████████| 1/1 [00:00<00:00,  1.49it/s]\n"
     ]
    },
    {
     "name": "stdout",
     "output_type": "stream",
     "text": [
      "No links found for this pair.\n",
      "\n",
      "--- Comparing 'CUSTOMERS' <=> 'PRODUCTS' ---\n"
     ]
    },
    {
     "name": "stderr",
     "output_type": "stream",
     "text": [
      "[*] CUSTOMERS <==> PRODUCTS Runs:1: 100%|██████████| 1/1 [00:00<00:00,  1.50it/s]\n"
     ]
    },
    {
     "name": "stdout",
     "output_type": "stream",
     "text": [
      "No links found for this pair.\n",
      "\n",
      "--- Comparing 'CUSTOMERS' <=> 'RENEWALS' ---\n"
     ]
    },
    {
     "name": "stderr",
     "output_type": "stream",
     "text": [
      "[*] CUSTOMERS <==> RENEWALS Runs:1: 100%|██████████| 1/1 [00:02<00:00,  2.28s/it]\n"
     ]
    },
    {
     "name": "stdout",
     "output_type": "stream",
     "text": [
      "Found 1 potential link(s).\n",
      "\n",
      "--- Comparing 'CUSTOMERS' <=> 'RETURNS' ---\n"
     ]
    },
    {
     "name": "stderr",
     "output_type": "stream",
     "text": [
      "[*] CUSTOMERS <==> RETURNS Runs:1: 100%|██████████| 1/1 [00:02<00:00,  2.36s/it]\n"
     ]
    },
    {
     "name": "stdout",
     "output_type": "stream",
     "text": [
      "Found 1 potential link(s).\n",
      "\n",
      "--- Comparing 'CUSTOMERS' <=> 'SERVICE_REQUESTS' ---\n"
     ]
    },
    {
     "name": "stderr",
     "output_type": "stream",
     "text": [
      "[*] CUSTOMERS <==> SERVICE_REQUESTS Runs:1: 100%|██████████| 1/1 [00:02<00:00,  2.42s/it]\n"
     ]
    },
    {
     "name": "stdout",
     "output_type": "stream",
     "text": [
      "Found 1 potential link(s).\n",
      "\n",
      "--- Comparing 'CUSTOMERS' <=> 'WEBSITE' ---\n"
     ]
    },
    {
     "name": "stderr",
     "output_type": "stream",
     "text": [
      "[*] CUSTOMERS <==> WEBSITE Runs:1: 100%|██████████| 1/1 [00:00<00:00,  1.37it/s]\n"
     ]
    },
    {
     "name": "stdout",
     "output_type": "stream",
     "text": [
      "No links found for this pair.\n",
      "\n",
      "--- Comparing 'DELIVERY_SURVEY' <=> 'EXPENSE' ---\n"
     ]
    },
    {
     "name": "stderr",
     "output_type": "stream",
     "text": [
      "[*] DELIVERY_SURVEY <==> EXPENSE Runs:1: 100%|██████████| 1/1 [00:01<00:00,  1.39s/it]\n"
     ]
    },
    {
     "name": "stdout",
     "output_type": "stream",
     "text": [
      "No links found for this pair.\n",
      "\n",
      "--- Comparing 'DELIVERY_SURVEY' <=> 'INSTALL_BASE' ---\n"
     ]
    },
    {
     "name": "stderr",
     "output_type": "stream",
     "text": [
      "[*] DELIVERY_SURVEY <==> INSTALL_BASE Runs:1: 100%|██████████| 1/1 [00:06<00:00,  6.30s/it]\n"
     ]
    },
    {
     "name": "stdout",
     "output_type": "stream",
     "text": [
      "No links found for this pair.\n",
      "\n",
      "--- Comparing 'DELIVERY_SURVEY' <=> 'INVENTORY' ---\n"
     ]
    },
    {
     "name": "stderr",
     "output_type": "stream",
     "text": [
      "[*] DELIVERY_SURVEY <==> INVENTORY Runs:1: 100%|██████████| 1/1 [00:01<00:00,  1.80s/it]\n"
     ]
    },
    {
     "name": "stdout",
     "output_type": "stream",
     "text": [
      "No links found for this pair.\n",
      "\n",
      "--- Comparing 'DELIVERY_SURVEY' <=> 'LOGISTICS' ---\n"
     ]
    },
    {
     "name": "stderr",
     "output_type": "stream",
     "text": [
      "[*] DELIVERY_SURVEY <==> LOGISTICS Runs:1: 100%|██████████| 1/1 [00:02<00:00,  2.52s/it]\n"
     ]
    },
    {
     "name": "stdout",
     "output_type": "stream",
     "text": [
      "No links found for this pair.\n",
      "\n",
      "--- Comparing 'DELIVERY_SURVEY' <=> 'NPS_SURVEY' ---\n"
     ]
    },
    {
     "name": "stderr",
     "output_type": "stream",
     "text": [
      "[*] DELIVERY_SURVEY <==> NPS_SURVEY Runs:1: 100%|██████████| 1/1 [00:01<00:00,  1.59s/it]\n"
     ]
    },
    {
     "name": "stdout",
     "output_type": "stream",
     "text": [
      "No links found for this pair.\n",
      "\n",
      "--- Comparing 'DELIVERY_SURVEY' <=> 'OPPORTUNITY' ---\n"
     ]
    },
    {
     "name": "stderr",
     "output_type": "stream",
     "text": [
      "[*] DELIVERY_SURVEY <==> OPPORTUNITY Runs:1: 100%|██████████| 1/1 [00:01<00:00,  1.49s/it]\n"
     ]
    },
    {
     "name": "stdout",
     "output_type": "stream",
     "text": [
      "No links found for this pair.\n",
      "\n",
      "--- Comparing 'DELIVERY_SURVEY' <=> 'ORDERS' ---\n"
     ]
    },
    {
     "name": "stderr",
     "output_type": "stream",
     "text": [
      "[*] DELIVERY_SURVEY <==> ORDERS Runs:1: 100%|██████████| 1/1 [00:03<00:00,  3.56s/it]\n"
     ]
    },
    {
     "name": "stdout",
     "output_type": "stream",
     "text": [
      "Found 1 potential link(s).\n",
      "\n",
      "--- Comparing 'DELIVERY_SURVEY' <=> 'PROB_STATEMENT_ISSUE' ---\n"
     ]
    },
    {
     "name": "stderr",
     "output_type": "stream",
     "text": [
      "[*] DELIVERY_SURVEY <==> PROB_STATEMENT_ISSUE Runs:1: 100%|██████████| 1/1 [00:02<00:00,  2.41s/it]\n"
     ]
    },
    {
     "name": "stdout",
     "output_type": "stream",
     "text": [
      "No links found for this pair.\n",
      "\n",
      "--- Comparing 'DELIVERY_SURVEY' <=> 'PRODUCT_FEATURE' ---\n"
     ]
    },
    {
     "name": "stderr",
     "output_type": "stream",
     "text": [
      "[*] DELIVERY_SURVEY <==> PRODUCT_FEATURE Runs:1: 100%|██████████| 1/1 [00:25<00:00, 25.58s/it]\n"
     ]
    },
    {
     "name": "stdout",
     "output_type": "stream",
     "text": [
      "No links found for this pair.\n",
      "\n",
      "--- Comparing 'DELIVERY_SURVEY' <=> 'PRODUCT_HIERARCHY' ---\n"
     ]
    },
    {
     "name": "stderr",
     "output_type": "stream",
     "text": [
      "[*] DELIVERY_SURVEY <==> PRODUCT_HIERARCHY Runs:1: 100%|██████████| 1/1 [00:03<00:00,  3.24s/it]\n"
     ]
    },
    {
     "name": "stdout",
     "output_type": "stream",
     "text": [
      "No links found for this pair.\n",
      "\n",
      "--- Comparing 'DELIVERY_SURVEY' <=> 'PRODUCTS' ---\n"
     ]
    },
    {
     "name": "stderr",
     "output_type": "stream",
     "text": [
      "[*] DELIVERY_SURVEY <==> PRODUCTS Runs:1: 100%|██████████| 1/1 [00:02<00:00,  2.40s/it]\n"
     ]
    },
    {
     "name": "stdout",
     "output_type": "stream",
     "text": [
      "Found 1 potential link(s).\n",
      "\n",
      "--- Comparing 'DELIVERY_SURVEY' <=> 'RENEWALS' ---\n"
     ]
    },
    {
     "name": "stderr",
     "output_type": "stream",
     "text": [
      "[*] DELIVERY_SURVEY <==> RENEWALS Runs:1: 100%|██████████| 1/1 [00:03<00:00,  3.26s/it]\n"
     ]
    },
    {
     "name": "stdout",
     "output_type": "stream",
     "text": [
      "No links found for this pair.\n",
      "\n",
      "--- Comparing 'DELIVERY_SURVEY' <=> 'RETURNS' ---\n"
     ]
    },
    {
     "name": "stderr",
     "output_type": "stream",
     "text": [
      "[*] DELIVERY_SURVEY <==> RETURNS Runs:1: 100%|██████████| 1/1 [00:03<00:00,  3.05s/it]\n"
     ]
    },
    {
     "name": "stdout",
     "output_type": "stream",
     "text": [
      "No links found for this pair.\n",
      "\n",
      "--- Comparing 'DELIVERY_SURVEY' <=> 'SERVICE_REQUESTS' ---\n"
     ]
    },
    {
     "name": "stderr",
     "output_type": "stream",
     "text": [
      "[*] DELIVERY_SURVEY <==> SERVICE_REQUESTS Runs:1: 100%|██████████| 1/1 [00:07<00:00,  7.68s/it]\n"
     ]
    },
    {
     "name": "stdout",
     "output_type": "stream",
     "text": [
      "No links found for this pair.\n",
      "\n",
      "--- Comparing 'DELIVERY_SURVEY' <=> 'WEBSITE' ---\n"
     ]
    },
    {
     "name": "stderr",
     "output_type": "stream",
     "text": [
      "[*] DELIVERY_SURVEY <==> WEBSITE Runs:1: 100%|██████████| 1/1 [00:00<00:00,  1.39it/s]\n"
     ]
    },
    {
     "name": "stdout",
     "output_type": "stream",
     "text": [
      "No links found for this pair.\n",
      "\n",
      "--- Comparing 'EXPENSE' <=> 'INSTALL_BASE' ---\n"
     ]
    },
    {
     "name": "stderr",
     "output_type": "stream",
     "text": [
      "[*] EXPENSE <==> INSTALL_BASE Runs:1: 100%|██████████| 1/1 [00:02<00:00,  2.49s/it]\n"
     ]
    },
    {
     "name": "stdout",
     "output_type": "stream",
     "text": [
      "No links found for this pair.\n",
      "\n",
      "--- Comparing 'EXPENSE' <=> 'INVENTORY' ---\n"
     ]
    },
    {
     "name": "stderr",
     "output_type": "stream",
     "text": [
      "[*] EXPENSE <==> INVENTORY Runs:1: 100%|██████████| 1/1 [00:02<00:00,  2.88s/it]\n"
     ]
    },
    {
     "name": "stdout",
     "output_type": "stream",
     "text": [
      "Found 1 potential link(s).\n",
      "\n",
      "--- Comparing 'EXPENSE' <=> 'LOGISTICS' ---\n"
     ]
    },
    {
     "name": "stderr",
     "output_type": "stream",
     "text": [
      "[*] EXPENSE <==> LOGISTICS Runs:1: 100%|██████████| 1/1 [00:01<00:00,  1.32s/it]\n"
     ]
    },
    {
     "name": "stdout",
     "output_type": "stream",
     "text": [
      "No links found for this pair.\n",
      "\n",
      "--- Comparing 'EXPENSE' <=> 'NPS_SURVEY' ---\n"
     ]
    },
    {
     "name": "stderr",
     "output_type": "stream",
     "text": [
      "[*] EXPENSE <==> NPS_SURVEY Runs:1: 100%|██████████| 1/1 [00:01<00:00,  1.45s/it]\n"
     ]
    },
    {
     "name": "stdout",
     "output_type": "stream",
     "text": [
      "No links found for this pair.\n",
      "\n",
      "--- Comparing 'EXPENSE' <=> 'OPPORTUNITY' ---\n"
     ]
    },
    {
     "name": "stderr",
     "output_type": "stream",
     "text": [
      "[*] EXPENSE <==> OPPORTUNITY Runs:1: 100%|██████████| 1/1 [00:01<00:00,  1.59s/it]\n"
     ]
    },
    {
     "name": "stdout",
     "output_type": "stream",
     "text": [
      "No links found for this pair.\n",
      "\n",
      "--- Comparing 'EXPENSE' <=> 'ORDERS' ---\n"
     ]
    },
    {
     "name": "stderr",
     "output_type": "stream",
     "text": [
      "[*] EXPENSE <==> ORDERS Runs:1: 100%|██████████| 1/1 [00:02<00:00,  2.44s/it]\n"
     ]
    },
    {
     "name": "stdout",
     "output_type": "stream",
     "text": [
      "No links found for this pair.\n",
      "\n",
      "--- Comparing 'EXPENSE' <=> 'PROB_STATEMENT_ISSUE' ---\n"
     ]
    },
    {
     "name": "stderr",
     "output_type": "stream",
     "text": [
      "[*] EXPENSE <==> PROB_STATEMENT_ISSUE Runs:1: 100%|██████████| 1/1 [00:28<00:00, 28.39s/it]\n"
     ]
    },
    {
     "name": "stdout",
     "output_type": "stream",
     "text": [
      "No links found for this pair.\n",
      "\n",
      "--- Comparing 'EXPENSE' <=> 'PRODUCT_FEATURE' ---\n"
     ]
    },
    {
     "name": "stderr",
     "output_type": "stream",
     "text": [
      "[*] EXPENSE <==> PRODUCT_FEATURE Runs:1: 100%|██████████| 1/1 [00:00<00:00,  1.50it/s]\n"
     ]
    },
    {
     "name": "stdout",
     "output_type": "stream",
     "text": [
      "No links found for this pair.\n",
      "\n",
      "--- Comparing 'EXPENSE' <=> 'PRODUCT_HIERARCHY' ---\n"
     ]
    },
    {
     "name": "stderr",
     "output_type": "stream",
     "text": [
      "[*] EXPENSE <==> PRODUCT_HIERARCHY Runs:1: 100%|██████████| 1/1 [00:00<00:00,  1.28it/s]\n"
     ]
    },
    {
     "name": "stdout",
     "output_type": "stream",
     "text": [
      "No links found for this pair.\n",
      "\n",
      "--- Comparing 'EXPENSE' <=> 'PRODUCTS' ---\n"
     ]
    },
    {
     "name": "stderr",
     "output_type": "stream",
     "text": [
      "[*] EXPENSE <==> PRODUCTS Runs:1: 100%|██████████| 1/1 [00:02<00:00,  2.72s/it]\n"
     ]
    },
    {
     "name": "stdout",
     "output_type": "stream",
     "text": [
      "No links found for this pair.\n",
      "\n",
      "--- Comparing 'EXPENSE' <=> 'RENEWALS' ---\n"
     ]
    },
    {
     "name": "stderr",
     "output_type": "stream",
     "text": [
      "[*] EXPENSE <==> RENEWALS Runs:1: 100%|██████████| 1/1 [00:02<00:00,  2.48s/it]\n"
     ]
    },
    {
     "name": "stdout",
     "output_type": "stream",
     "text": [
      "No links found for this pair.\n",
      "\n",
      "--- Comparing 'EXPENSE' <=> 'RETURNS' ---\n"
     ]
    },
    {
     "name": "stderr",
     "output_type": "stream",
     "text": [
      "[*] EXPENSE <==> RETURNS Runs:1: 100%|██████████| 1/1 [00:04<00:00,  4.47s/it]\n"
     ]
    },
    {
     "name": "stdout",
     "output_type": "stream",
     "text": [
      "No links found for this pair.\n",
      "\n",
      "--- Comparing 'EXPENSE' <=> 'SERVICE_REQUESTS' ---\n"
     ]
    },
    {
     "name": "stderr",
     "output_type": "stream",
     "text": [
      "[*] EXPENSE <==> SERVICE_REQUESTS Runs:1: 100%|██████████| 1/1 [00:03<00:00,  3.52s/it]\n"
     ]
    },
    {
     "name": "stdout",
     "output_type": "stream",
     "text": [
      "No links found for this pair.\n",
      "\n",
      "--- Comparing 'EXPENSE' <=> 'WEBSITE' ---\n"
     ]
    },
    {
     "name": "stderr",
     "output_type": "stream",
     "text": [
      "[*] EXPENSE <==> WEBSITE Runs:1: 100%|██████████| 1/1 [00:00<00:00,  1.31it/s]\n"
     ]
    },
    {
     "name": "stdout",
     "output_type": "stream",
     "text": [
      "No links found for this pair.\n",
      "\n",
      "--- Comparing 'INSTALL_BASE' <=> 'INVENTORY' ---\n"
     ]
    },
    {
     "name": "stderr",
     "output_type": "stream",
     "text": [
      "[*] INSTALL_BASE <==> INVENTORY Runs:1: 100%|██████████| 1/1 [00:02<00:00,  2.28s/it]\n"
     ]
    },
    {
     "name": "stdout",
     "output_type": "stream",
     "text": [
      "No links found for this pair.\n",
      "\n",
      "--- Comparing 'INSTALL_BASE' <=> 'LOGISTICS' ---\n"
     ]
    },
    {
     "name": "stderr",
     "output_type": "stream",
     "text": [
      "[*] INSTALL_BASE <==> LOGISTICS Runs:1: 100%|██████████| 1/1 [00:02<00:00,  2.99s/it]\n"
     ]
    },
    {
     "name": "stdout",
     "output_type": "stream",
     "text": [
      "No links found for this pair.\n",
      "\n",
      "--- Comparing 'INSTALL_BASE' <=> 'NPS_SURVEY' ---\n"
     ]
    },
    {
     "name": "stderr",
     "output_type": "stream",
     "text": [
      "[*] INSTALL_BASE <==> NPS_SURVEY Runs:1: 100%|██████████| 1/1 [00:03<00:00,  3.32s/it]\n"
     ]
    },
    {
     "name": "stdout",
     "output_type": "stream",
     "text": [
      "No links found for this pair.\n",
      "\n",
      "--- Comparing 'INSTALL_BASE' <=> 'OPPORTUNITY' ---\n"
     ]
    },
    {
     "name": "stderr",
     "output_type": "stream",
     "text": [
      "[*] INSTALL_BASE <==> OPPORTUNITY Runs:1: 100%|██████████| 1/1 [00:01<00:00,  1.34s/it]\n"
     ]
    },
    {
     "name": "stdout",
     "output_type": "stream",
     "text": [
      "No links found for this pair.\n",
      "\n",
      "--- Comparing 'INSTALL_BASE' <=> 'ORDERS' ---\n"
     ]
    },
    {
     "name": "stderr",
     "output_type": "stream",
     "text": [
      "[*] INSTALL_BASE <==> ORDERS Runs:1: 100%|██████████| 1/1 [00:02<00:00,  2.76s/it]\n"
     ]
    },
    {
     "name": "stdout",
     "output_type": "stream",
     "text": [
      "Found 1 potential link(s).\n",
      "\n",
      "--- Comparing 'INSTALL_BASE' <=> 'PROB_STATEMENT_ISSUE' ---\n"
     ]
    },
    {
     "name": "stderr",
     "output_type": "stream",
     "text": [
      "[*] INSTALL_BASE <==> PROB_STATEMENT_ISSUE Runs:1: 100%|██████████| 1/1 [00:01<00:00,  1.55s/it]\n"
     ]
    },
    {
     "name": "stdout",
     "output_type": "stream",
     "text": [
      "No links found for this pair.\n",
      "\n",
      "--- Comparing 'INSTALL_BASE' <=> 'PRODUCT_FEATURE' ---\n"
     ]
    },
    {
     "name": "stderr",
     "output_type": "stream",
     "text": [
      "[*] INSTALL_BASE <==> PRODUCT_FEATURE Runs:1: 100%|██████████| 1/1 [00:01<00:00,  1.64s/it]\n"
     ]
    },
    {
     "name": "stdout",
     "output_type": "stream",
     "text": [
      "No links found for this pair.\n",
      "\n",
      "--- Comparing 'INSTALL_BASE' <=> 'PRODUCT_HIERARCHY' ---\n"
     ]
    },
    {
     "name": "stderr",
     "output_type": "stream",
     "text": [
      "[*] INSTALL_BASE <==> PRODUCT_HIERARCHY Runs:1: 100%|██████████| 1/1 [00:26<00:00, 26.48s/it]\n"
     ]
    },
    {
     "name": "stdout",
     "output_type": "stream",
     "text": [
      "No links found for this pair.\n",
      "\n",
      "--- Comparing 'INSTALL_BASE' <=> 'PRODUCTS' ---\n"
     ]
    },
    {
     "name": "stderr",
     "output_type": "stream",
     "text": [
      "[*] INSTALL_BASE <==> PRODUCTS Runs:1: 100%|██████████| 1/1 [00:03<00:00,  3.10s/it]\n"
     ]
    },
    {
     "name": "stdout",
     "output_type": "stream",
     "text": [
      "Found 1 potential link(s).\n",
      "\n",
      "--- Comparing 'INSTALL_BASE' <=> 'RENEWALS' ---\n"
     ]
    },
    {
     "name": "stderr",
     "output_type": "stream",
     "text": [
      "[*] INSTALL_BASE <==> RENEWALS Runs:1: 100%|██████████| 1/1 [00:03<00:00,  3.33s/it]\n"
     ]
    },
    {
     "name": "stdout",
     "output_type": "stream",
     "text": [
      "No links found for this pair.\n",
      "\n",
      "--- Comparing 'INSTALL_BASE' <=> 'RETURNS' ---\n"
     ]
    },
    {
     "name": "stderr",
     "output_type": "stream",
     "text": [
      "[*] INSTALL_BASE <==> RETURNS Runs:1: 100%|██████████| 1/1 [00:03<00:00,  3.23s/it]\n"
     ]
    },
    {
     "name": "stdout",
     "output_type": "stream",
     "text": [
      "No links found for this pair.\n",
      "\n",
      "--- Comparing 'INSTALL_BASE' <=> 'SERVICE_REQUESTS' ---\n"
     ]
    },
    {
     "name": "stderr",
     "output_type": "stream",
     "text": [
      "[*] INSTALL_BASE <==> SERVICE_REQUESTS Runs:1: 100%|██████████| 1/1 [00:08<00:00,  8.14s/it]\n"
     ]
    },
    {
     "name": "stdout",
     "output_type": "stream",
     "text": [
      "No links found for this pair.\n",
      "\n",
      "--- Comparing 'INSTALL_BASE' <=> 'WEBSITE' ---\n"
     ]
    },
    {
     "name": "stderr",
     "output_type": "stream",
     "text": [
      "[*] INSTALL_BASE <==> WEBSITE Runs:1: 100%|██████████| 1/1 [00:00<00:00,  1.27it/s]\n"
     ]
    },
    {
     "name": "stdout",
     "output_type": "stream",
     "text": [
      "No links found for this pair.\n",
      "\n",
      "--- Comparing 'INVENTORY' <=> 'LOGISTICS' ---\n"
     ]
    },
    {
     "name": "stderr",
     "output_type": "stream",
     "text": [
      "[*] INVENTORY <==> LOGISTICS Runs:1: 100%|██████████| 1/1 [00:00<00:00,  1.54it/s]\n"
     ]
    },
    {
     "name": "stdout",
     "output_type": "stream",
     "text": [
      "No links found for this pair.\n",
      "\n",
      "--- Comparing 'INVENTORY' <=> 'NPS_SURVEY' ---\n"
     ]
    },
    {
     "name": "stderr",
     "output_type": "stream",
     "text": [
      "[*] INVENTORY <==> NPS_SURVEY Runs:1: 100%|██████████| 1/1 [00:00<00:00,  1.50it/s]\n"
     ]
    },
    {
     "name": "stdout",
     "output_type": "stream",
     "text": [
      "No links found for this pair.\n",
      "\n",
      "--- Comparing 'INVENTORY' <=> 'OPPORTUNITY' ---\n"
     ]
    },
    {
     "name": "stderr",
     "output_type": "stream",
     "text": [
      "[*] INVENTORY <==> OPPORTUNITY Runs:1: 100%|██████████| 1/1 [00:00<00:00,  1.49it/s]\n"
     ]
    },
    {
     "name": "stdout",
     "output_type": "stream",
     "text": [
      "No links found for this pair.\n",
      "\n",
      "--- Comparing 'INVENTORY' <=> 'ORDERS' ---\n"
     ]
    },
    {
     "name": "stderr",
     "output_type": "stream",
     "text": [
      "[*] INVENTORY <==> ORDERS Runs:1: 100%|██████████| 1/1 [00:01<00:00,  1.34s/it]\n"
     ]
    },
    {
     "name": "stdout",
     "output_type": "stream",
     "text": [
      "No links found for this pair.\n",
      "\n",
      "--- Comparing 'INVENTORY' <=> 'PROB_STATEMENT_ISSUE' ---\n"
     ]
    },
    {
     "name": "stderr",
     "output_type": "stream",
     "text": [
      "[*] INVENTORY <==> PROB_STATEMENT_ISSUE Runs:1: 100%|██████████| 1/1 [00:03<00:00,  3.55s/it]\n"
     ]
    },
    {
     "name": "stdout",
     "output_type": "stream",
     "text": [
      "No links found for this pair.\n",
      "\n",
      "--- Comparing 'INVENTORY' <=> 'PRODUCT_FEATURE' ---\n"
     ]
    },
    {
     "name": "stderr",
     "output_type": "stream",
     "text": [
      "[*] INVENTORY <==> PRODUCT_FEATURE Runs:1: 100%|██████████| 1/1 [00:01<00:00,  1.52s/it]\n"
     ]
    },
    {
     "name": "stdout",
     "output_type": "stream",
     "text": [
      "No links found for this pair.\n",
      "\n",
      "--- Comparing 'INVENTORY' <=> 'PRODUCT_HIERARCHY' ---\n"
     ]
    },
    {
     "name": "stderr",
     "output_type": "stream",
     "text": [
      "[*] INVENTORY <==> PRODUCT_HIERARCHY Runs:1: 100%|██████████| 1/1 [00:02<00:00,  2.53s/it]\n"
     ]
    },
    {
     "name": "stdout",
     "output_type": "stream",
     "text": [
      "No links found for this pair.\n",
      "\n",
      "--- Comparing 'INVENTORY' <=> 'PRODUCTS' ---\n"
     ]
    },
    {
     "name": "stderr",
     "output_type": "stream",
     "text": [
      "[*] INVENTORY <==> PRODUCTS Runs:1: 100%|██████████| 1/1 [00:02<00:00,  2.45s/it]\n"
     ]
    },
    {
     "name": "stdout",
     "output_type": "stream",
     "text": [
      "Found 1 potential link(s).\n",
      "\n",
      "--- Comparing 'INVENTORY' <=> 'RENEWALS' ---\n"
     ]
    },
    {
     "name": "stderr",
     "output_type": "stream",
     "text": [
      "[*] INVENTORY <==> RENEWALS Runs:1: 100%|██████████| 1/1 [00:01<00:00,  1.34s/it]\n"
     ]
    },
    {
     "name": "stdout",
     "output_type": "stream",
     "text": [
      "No links found for this pair.\n",
      "\n",
      "--- Comparing 'INVENTORY' <=> 'RETURNS' ---\n"
     ]
    },
    {
     "name": "stderr",
     "output_type": "stream",
     "text": [
      "[*] INVENTORY <==> RETURNS Runs:1: 100%|██████████| 1/1 [00:22<00:00, 22.58s/it]\n"
     ]
    },
    {
     "name": "stdout",
     "output_type": "stream",
     "text": [
      "No links found for this pair.\n",
      "\n",
      "--- Comparing 'INVENTORY' <=> 'SERVICE_REQUESTS' ---\n"
     ]
    },
    {
     "name": "stderr",
     "output_type": "stream",
     "text": [
      "[*] INVENTORY <==> SERVICE_REQUESTS Runs:1: 100%|██████████| 1/1 [00:03<00:00,  3.52s/it]\n"
     ]
    },
    {
     "name": "stdout",
     "output_type": "stream",
     "text": [
      "No links found for this pair.\n",
      "\n",
      "--- Comparing 'INVENTORY' <=> 'WEBSITE' ---\n"
     ]
    },
    {
     "name": "stderr",
     "output_type": "stream",
     "text": [
      "[*] INVENTORY <==> WEBSITE Runs:1: 100%|██████████| 1/1 [00:02<00:00,  2.73s/it]\n"
     ]
    },
    {
     "name": "stdout",
     "output_type": "stream",
     "text": [
      "No links found for this pair.\n",
      "\n",
      "--- Comparing 'LOGISTICS' <=> 'NPS_SURVEY' ---\n"
     ]
    },
    {
     "name": "stderr",
     "output_type": "stream",
     "text": [
      "[*] LOGISTICS <==> NPS_SURVEY Runs:1: 100%|██████████| 1/1 [00:03<00:00,  3.55s/it]\n"
     ]
    },
    {
     "name": "stdout",
     "output_type": "stream",
     "text": [
      "No links found for this pair.\n",
      "\n",
      "--- Comparing 'LOGISTICS' <=> 'OPPORTUNITY' ---\n"
     ]
    },
    {
     "name": "stderr",
     "output_type": "stream",
     "text": [
      "[*] LOGISTICS <==> OPPORTUNITY Runs:1: 100%|██████████| 1/1 [00:04<00:00,  4.52s/it]\n"
     ]
    },
    {
     "name": "stdout",
     "output_type": "stream",
     "text": [
      "No links found for this pair.\n",
      "\n",
      "--- Comparing 'LOGISTICS' <=> 'ORDERS' ---\n"
     ]
    },
    {
     "name": "stderr",
     "output_type": "stream",
     "text": [
      "[*] LOGISTICS <==> ORDERS Runs:1: 100%|██████████| 1/1 [00:04<00:00,  4.30s/it]\n"
     ]
    },
    {
     "name": "stdout",
     "output_type": "stream",
     "text": [
      "Found 1 potential link(s).\n",
      "\n",
      "--- Comparing 'LOGISTICS' <=> 'PROB_STATEMENT_ISSUE' ---\n"
     ]
    },
    {
     "name": "stderr",
     "output_type": "stream",
     "text": [
      "[*] LOGISTICS <==> PROB_STATEMENT_ISSUE Runs:1: 100%|██████████| 1/1 [00:00<00:00,  1.34it/s]\n"
     ]
    },
    {
     "name": "stdout",
     "output_type": "stream",
     "text": [
      "No links found for this pair.\n",
      "\n",
      "--- Comparing 'LOGISTICS' <=> 'PRODUCT_FEATURE' ---\n"
     ]
    },
    {
     "name": "stderr",
     "output_type": "stream",
     "text": [
      "[*] LOGISTICS <==> PRODUCT_FEATURE Runs:1: 100%|██████████| 1/1 [00:00<00:00,  1.75it/s]\n"
     ]
    },
    {
     "name": "stdout",
     "output_type": "stream",
     "text": [
      "No links found for this pair.\n",
      "\n",
      "--- Comparing 'LOGISTICS' <=> 'PRODUCT_HIERARCHY' ---\n"
     ]
    },
    {
     "name": "stderr",
     "output_type": "stream",
     "text": [
      "[*] LOGISTICS <==> PRODUCT_HIERARCHY Runs:1: 100%|██████████| 1/1 [00:00<00:00,  1.70it/s]\n"
     ]
    },
    {
     "name": "stdout",
     "output_type": "stream",
     "text": [
      "No links found for this pair.\n",
      "\n",
      "--- Comparing 'LOGISTICS' <=> 'PRODUCTS' ---\n"
     ]
    },
    {
     "name": "stderr",
     "output_type": "stream",
     "text": [
      "[*] LOGISTICS <==> PRODUCTS Runs:1: 100%|██████████| 1/1 [00:00<00:00,  1.42it/s]\n"
     ]
    },
    {
     "name": "stdout",
     "output_type": "stream",
     "text": [
      "No links found for this pair.\n",
      "\n",
      "--- Comparing 'LOGISTICS' <=> 'RENEWALS' ---\n"
     ]
    },
    {
     "name": "stderr",
     "output_type": "stream",
     "text": [
      "[*] LOGISTICS <==> RENEWALS Runs:1: 100%|██████████| 1/1 [00:02<00:00,  2.93s/it]\n"
     ]
    },
    {
     "name": "stdout",
     "output_type": "stream",
     "text": [
      "No links found for this pair.\n",
      "\n",
      "--- Comparing 'LOGISTICS' <=> 'RETURNS' ---\n"
     ]
    },
    {
     "name": "stderr",
     "output_type": "stream",
     "text": [
      "[*] LOGISTICS <==> RETURNS Runs:1: 100%|██████████| 1/1 [00:03<00:00,  3.31s/it]\n"
     ]
    },
    {
     "name": "stdout",
     "output_type": "stream",
     "text": [
      "No links found for this pair.\n",
      "\n",
      "--- Comparing 'LOGISTICS' <=> 'SERVICE_REQUESTS' ---\n"
     ]
    },
    {
     "name": "stderr",
     "output_type": "stream",
     "text": [
      "[*] LOGISTICS <==> SERVICE_REQUESTS Runs:1: 100%|██████████| 1/1 [00:01<00:00,  1.48s/it]\n"
     ]
    },
    {
     "name": "stdout",
     "output_type": "stream",
     "text": [
      "No links found for this pair.\n",
      "\n",
      "--- Comparing 'LOGISTICS' <=> 'WEBSITE' ---\n"
     ]
    },
    {
     "name": "stderr",
     "output_type": "stream",
     "text": [
      "[*] LOGISTICS <==> WEBSITE Runs:1: 100%|██████████| 1/1 [00:00<00:00,  1.75it/s]\n"
     ]
    },
    {
     "name": "stdout",
     "output_type": "stream",
     "text": [
      "No links found for this pair.\n",
      "\n",
      "--- Comparing 'NPS_SURVEY' <=> 'OPPORTUNITY' ---\n"
     ]
    },
    {
     "name": "stderr",
     "output_type": "stream",
     "text": [
      "[*] NPS_SURVEY <==> OPPORTUNITY Runs:1: 100%|██████████| 1/1 [00:01<00:00,  1.39s/it]\n"
     ]
    },
    {
     "name": "stdout",
     "output_type": "stream",
     "text": [
      "No links found for this pair.\n",
      "\n",
      "--- Comparing 'NPS_SURVEY' <=> 'ORDERS' ---\n"
     ]
    },
    {
     "name": "stderr",
     "output_type": "stream",
     "text": [
      "[*] NPS_SURVEY <==> ORDERS Runs:1: 100%|██████████| 1/1 [00:01<00:00,  1.41s/it]\n"
     ]
    },
    {
     "name": "stdout",
     "output_type": "stream",
     "text": [
      "No links found for this pair.\n",
      "\n",
      "--- Comparing 'NPS_SURVEY' <=> 'PROB_STATEMENT_ISSUE' ---\n"
     ]
    },
    {
     "name": "stderr",
     "output_type": "stream",
     "text": [
      "[*] NPS_SURVEY <==> PROB_STATEMENT_ISSUE Runs:1: 100%|██████████| 1/1 [00:05<00:00,  5.19s/it]\n"
     ]
    },
    {
     "name": "stdout",
     "output_type": "stream",
     "text": [
      "No links found for this pair.\n",
      "\n",
      "--- Comparing 'NPS_SURVEY' <=> 'PRODUCT_FEATURE' ---\n"
     ]
    },
    {
     "name": "stderr",
     "output_type": "stream",
     "text": [
      "[*] NPS_SURVEY <==> PRODUCT_FEATURE Runs:1: 100%|██████████| 1/1 [00:00<00:00,  1.68it/s]\n"
     ]
    },
    {
     "name": "stdout",
     "output_type": "stream",
     "text": [
      "No links found for this pair.\n",
      "\n",
      "--- Comparing 'NPS_SURVEY' <=> 'PRODUCT_HIERARCHY' ---\n"
     ]
    },
    {
     "name": "stderr",
     "output_type": "stream",
     "text": [
      "[*] NPS_SURVEY <==> PRODUCT_HIERARCHY Runs:1: 100%|██████████| 1/1 [00:19<00:00, 19.72s/it]\n"
     ]
    },
    {
     "name": "stdout",
     "output_type": "stream",
     "text": [
      "No links found for this pair.\n",
      "\n",
      "--- Comparing 'NPS_SURVEY' <=> 'PRODUCTS' ---\n"
     ]
    },
    {
     "name": "stderr",
     "output_type": "stream",
     "text": [
      "[*] NPS_SURVEY <==> PRODUCTS Runs:1: 100%|██████████| 1/1 [00:01<00:00,  1.70s/it]\n"
     ]
    },
    {
     "name": "stdout",
     "output_type": "stream",
     "text": [
      "No links found for this pair.\n",
      "\n",
      "--- Comparing 'NPS_SURVEY' <=> 'RENEWALS' ---\n"
     ]
    },
    {
     "name": "stderr",
     "output_type": "stream",
     "text": [
      "[*] NPS_SURVEY <==> RENEWALS Runs:1: 100%|██████████| 1/1 [00:04<00:00,  4.48s/it]\n"
     ]
    },
    {
     "name": "stdout",
     "output_type": "stream",
     "text": [
      "No links found for this pair.\n",
      "\n",
      "--- Comparing 'NPS_SURVEY' <=> 'RETURNS' ---\n"
     ]
    },
    {
     "name": "stderr",
     "output_type": "stream",
     "text": [
      "[*] NPS_SURVEY <==> RETURNS Runs:1: 100%|██████████| 1/1 [00:04<00:00,  4.56s/it]\n"
     ]
    },
    {
     "name": "stdout",
     "output_type": "stream",
     "text": [
      "Found 1 potential link(s).\n",
      "\n",
      "--- Comparing 'NPS_SURVEY' <=> 'SERVICE_REQUESTS' ---\n"
     ]
    },
    {
     "name": "stderr",
     "output_type": "stream",
     "text": [
      "[*] NPS_SURVEY <==> SERVICE_REQUESTS Runs:1: 100%|██████████| 1/1 [00:02<00:00,  2.82s/it]\n"
     ]
    },
    {
     "name": "stdout",
     "output_type": "stream",
     "text": [
      "Found 1 potential link(s).\n",
      "\n",
      "--- Comparing 'NPS_SURVEY' <=> 'WEBSITE' ---\n"
     ]
    },
    {
     "name": "stderr",
     "output_type": "stream",
     "text": [
      "[*] NPS_SURVEY <==> WEBSITE Runs:1: 100%|██████████| 1/1 [00:00<00:00,  1.31it/s]\n"
     ]
    },
    {
     "name": "stdout",
     "output_type": "stream",
     "text": [
      "No links found for this pair.\n",
      "\n",
      "--- Comparing 'OPPORTUNITY' <=> 'ORDERS' ---\n"
     ]
    },
    {
     "name": "stderr",
     "output_type": "stream",
     "text": [
      "[*] OPPORTUNITY <==> ORDERS Runs:1: 100%|██████████| 1/1 [00:02<00:00,  2.71s/it]\n"
     ]
    },
    {
     "name": "stdout",
     "output_type": "stream",
     "text": [
      "No links found for this pair.\n",
      "\n",
      "--- Comparing 'OPPORTUNITY' <=> 'PROB_STATEMENT_ISSUE' ---\n"
     ]
    },
    {
     "name": "stderr",
     "output_type": "stream",
     "text": [
      "[*] OPPORTUNITY <==> PROB_STATEMENT_ISSUE Runs:1: 100%|██████████| 1/1 [00:03<00:00,  3.42s/it]\n"
     ]
    },
    {
     "name": "stdout",
     "output_type": "stream",
     "text": [
      "No links found for this pair.\n",
      "\n",
      "--- Comparing 'OPPORTUNITY' <=> 'PRODUCT_FEATURE' ---\n"
     ]
    },
    {
     "name": "stderr",
     "output_type": "stream",
     "text": [
      "[*] OPPORTUNITY <==> PRODUCT_FEATURE Runs:1: 100%|██████████| 1/1 [00:00<00:00,  1.50it/s]\n"
     ]
    },
    {
     "name": "stdout",
     "output_type": "stream",
     "text": [
      "No links found for this pair.\n",
      "\n",
      "--- Comparing 'OPPORTUNITY' <=> 'PRODUCT_HIERARCHY' ---\n"
     ]
    },
    {
     "name": "stderr",
     "output_type": "stream",
     "text": [
      "[*] OPPORTUNITY <==> PRODUCT_HIERARCHY Runs:1: 100%|██████████| 1/1 [00:00<00:00,  1.50it/s]\n"
     ]
    },
    {
     "name": "stdout",
     "output_type": "stream",
     "text": [
      "No links found for this pair.\n",
      "\n",
      "--- Comparing 'OPPORTUNITY' <=> 'PRODUCTS' ---\n"
     ]
    },
    {
     "name": "stderr",
     "output_type": "stream",
     "text": [
      "[*] OPPORTUNITY <==> PRODUCTS Runs:1: 100%|██████████| 1/1 [00:02<00:00,  2.63s/it]\n"
     ]
    },
    {
     "name": "stdout",
     "output_type": "stream",
     "text": [
      "No links found for this pair.\n",
      "\n",
      "--- Comparing 'OPPORTUNITY' <=> 'RENEWALS' ---\n"
     ]
    },
    {
     "name": "stderr",
     "output_type": "stream",
     "text": [
      "[*] OPPORTUNITY <==> RENEWALS Runs:1: 100%|██████████| 1/1 [00:03<00:00,  3.43s/it]\n"
     ]
    },
    {
     "name": "stdout",
     "output_type": "stream",
     "text": [
      "No links found for this pair.\n",
      "\n",
      "--- Comparing 'OPPORTUNITY' <=> 'RETURNS' ---\n"
     ]
    },
    {
     "name": "stderr",
     "output_type": "stream",
     "text": [
      "[*] OPPORTUNITY <==> RETURNS Runs:1: 100%|██████████| 1/1 [00:01<00:00,  1.39s/it]\n"
     ]
    },
    {
     "name": "stdout",
     "output_type": "stream",
     "text": [
      "No links found for this pair.\n",
      "\n",
      "--- Comparing 'OPPORTUNITY' <=> 'SERVICE_REQUESTS' ---\n"
     ]
    },
    {
     "name": "stderr",
     "output_type": "stream",
     "text": [
      "[*] OPPORTUNITY <==> SERVICE_REQUESTS Runs:1: 100%|██████████| 1/1 [00:02<00:00,  2.30s/it]\n"
     ]
    },
    {
     "name": "stdout",
     "output_type": "stream",
     "text": [
      "No links found for this pair.\n",
      "\n",
      "--- Comparing 'OPPORTUNITY' <=> 'WEBSITE' ---\n"
     ]
    },
    {
     "name": "stderr",
     "output_type": "stream",
     "text": [
      "[*] OPPORTUNITY <==> WEBSITE Runs:1: 100%|██████████| 1/1 [00:01<00:00,  1.29s/it]\n"
     ]
    },
    {
     "name": "stdout",
     "output_type": "stream",
     "text": [
      "No links found for this pair.\n",
      "\n",
      "--- Comparing 'ORDERS' <=> 'PROB_STATEMENT_ISSUE' ---\n"
     ]
    },
    {
     "name": "stderr",
     "output_type": "stream",
     "text": [
      "[*] ORDERS <==> PROB_STATEMENT_ISSUE Runs:1: 100%|██████████| 1/1 [00:26<00:00, 26.17s/it]\n"
     ]
    },
    {
     "name": "stdout",
     "output_type": "stream",
     "text": [
      "No links found for this pair.\n",
      "\n",
      "--- Comparing 'ORDERS' <=> 'PRODUCT_FEATURE' ---\n"
     ]
    },
    {
     "name": "stderr",
     "output_type": "stream",
     "text": [
      "[*] ORDERS <==> PRODUCT_FEATURE Runs:1: 100%|██████████| 1/1 [00:09<00:00,  9.00s/it]\n"
     ]
    },
    {
     "name": "stdout",
     "output_type": "stream",
     "text": [
      "No links found for this pair.\n",
      "\n",
      "--- Comparing 'ORDERS' <=> 'PRODUCT_HIERARCHY' ---\n"
     ]
    },
    {
     "name": "stderr",
     "output_type": "stream",
     "text": [
      "[*] ORDERS <==> PRODUCT_HIERARCHY Runs:1: 100%|██████████| 1/1 [00:02<00:00,  2.33s/it]\n"
     ]
    },
    {
     "name": "stdout",
     "output_type": "stream",
     "text": [
      "No links found for this pair.\n",
      "\n",
      "--- Comparing 'ORDERS' <=> 'PRODUCTS' ---\n"
     ]
    },
    {
     "name": "stderr",
     "output_type": "stream",
     "text": [
      "[*] ORDERS <==> PRODUCTS Runs:1: 100%|██████████| 1/1 [00:04<00:00,  4.80s/it]\n"
     ]
    },
    {
     "name": "stdout",
     "output_type": "stream",
     "text": [
      "Found 1 potential link(s).\n",
      "\n",
      "--- Comparing 'ORDERS' <=> 'RENEWALS' ---\n"
     ]
    },
    {
     "name": "stderr",
     "output_type": "stream",
     "text": [
      "[*] ORDERS <==> RENEWALS Runs:1: 100%|██████████| 1/1 [00:02<00:00,  2.30s/it]\n"
     ]
    },
    {
     "name": "stdout",
     "output_type": "stream",
     "text": [
      "Found 1 potential link(s).\n",
      "\n",
      "--- Comparing 'ORDERS' <=> 'RETURNS' ---\n"
     ]
    },
    {
     "name": "stderr",
     "output_type": "stream",
     "text": [
      "[*] ORDERS <==> RETURNS Runs:1: 100%|██████████| 1/1 [00:02<00:00,  2.23s/it]\n"
     ]
    },
    {
     "name": "stdout",
     "output_type": "stream",
     "text": [
      "Found 1 potential link(s).\n",
      "\n",
      "--- Comparing 'ORDERS' <=> 'SERVICE_REQUESTS' ---\n"
     ]
    },
    {
     "name": "stderr",
     "output_type": "stream",
     "text": [
      "[*] ORDERS <==> SERVICE_REQUESTS Runs:1: 100%|██████████| 1/1 [00:02<00:00,  2.28s/it]\n"
     ]
    },
    {
     "name": "stdout",
     "output_type": "stream",
     "text": [
      "Found 1 potential link(s).\n",
      "\n",
      "--- Comparing 'ORDERS' <=> 'WEBSITE' ---\n"
     ]
    },
    {
     "name": "stderr",
     "output_type": "stream",
     "text": [
      "[*] ORDERS <==> WEBSITE Runs:1: 100%|██████████| 1/1 [00:00<00:00,  1.51it/s]\n"
     ]
    },
    {
     "name": "stdout",
     "output_type": "stream",
     "text": [
      "No links found for this pair.\n",
      "\n",
      "--- Comparing 'PROB_STATEMENT_ISSUE' <=> 'PRODUCT_FEATURE' ---\n"
     ]
    },
    {
     "name": "stderr",
     "output_type": "stream",
     "text": [
      "[*] PROB_STATEMENT_ISSUE <==> PRODUCT_FEATURE Runs:1: 100%|██████████| 1/1 [00:01<00:00,  1.44s/it]\n"
     ]
    },
    {
     "name": "stdout",
     "output_type": "stream",
     "text": [
      "No links found for this pair.\n",
      "\n",
      "--- Comparing 'PROB_STATEMENT_ISSUE' <=> 'PRODUCT_HIERARCHY' ---\n"
     ]
    },
    {
     "name": "stderr",
     "output_type": "stream",
     "text": [
      "[*] PROB_STATEMENT_ISSUE <==> PRODUCT_HIERARCHY Runs:1: 100%|██████████| 1/1 [00:01<00:00,  1.35s/it]\n"
     ]
    },
    {
     "name": "stdout",
     "output_type": "stream",
     "text": [
      "No links found for this pair.\n",
      "\n",
      "--- Comparing 'PROB_STATEMENT_ISSUE' <=> 'PRODUCTS' ---\n"
     ]
    },
    {
     "name": "stderr",
     "output_type": "stream",
     "text": [
      "[*] PROB_STATEMENT_ISSUE <==> PRODUCTS Runs:1: 100%|██████████| 1/1 [00:02<00:00,  2.52s/it]\n"
     ]
    },
    {
     "name": "stdout",
     "output_type": "stream",
     "text": [
      "Found 1 potential link(s).\n",
      "\n",
      "--- Comparing 'PROB_STATEMENT_ISSUE' <=> 'RENEWALS' ---\n"
     ]
    },
    {
     "name": "stderr",
     "output_type": "stream",
     "text": [
      "[*] PROB_STATEMENT_ISSUE <==> RENEWALS Runs:1: 100%|██████████| 1/1 [00:01<00:00,  1.49s/it]\n"
     ]
    },
    {
     "name": "stdout",
     "output_type": "stream",
     "text": [
      "No links found for this pair.\n",
      "\n",
      "--- Comparing 'PROB_STATEMENT_ISSUE' <=> 'RETURNS' ---\n"
     ]
    },
    {
     "name": "stderr",
     "output_type": "stream",
     "text": [
      "[*] PROB_STATEMENT_ISSUE <==> RETURNS Runs:1: 100%|██████████| 1/1 [00:02<00:00,  2.93s/it]\n"
     ]
    },
    {
     "name": "stdout",
     "output_type": "stream",
     "text": [
      "No links found for this pair.\n",
      "\n",
      "--- Comparing 'PROB_STATEMENT_ISSUE' <=> 'SERVICE_REQUESTS' ---\n"
     ]
    },
    {
     "name": "stderr",
     "output_type": "stream",
     "text": [
      "[*] PROB_STATEMENT_ISSUE <==> SERVICE_REQUESTS Runs:1: 100%|██████████| 1/1 [00:02<00:00,  2.41s/it]\n"
     ]
    },
    {
     "name": "stdout",
     "output_type": "stream",
     "text": [
      "Found 1 potential link(s).\n",
      "\n",
      "--- Comparing 'PROB_STATEMENT_ISSUE' <=> 'WEBSITE' ---\n"
     ]
    },
    {
     "name": "stderr",
     "output_type": "stream",
     "text": [
      "[*] PROB_STATEMENT_ISSUE <==> WEBSITE Runs:1: 100%|██████████| 1/1 [00:00<00:00,  1.31it/s]\n"
     ]
    },
    {
     "name": "stdout",
     "output_type": "stream",
     "text": [
      "No links found for this pair.\n",
      "\n",
      "--- Comparing 'PRODUCT_FEATURE' <=> 'PRODUCT_HIERARCHY' ---\n"
     ]
    },
    {
     "name": "stderr",
     "output_type": "stream",
     "text": [
      "[*] PRODUCT_FEATURE <==> PRODUCT_HIERARCHY Runs:1: 100%|██████████| 1/1 [00:01<00:00,  1.36s/it]\n"
     ]
    },
    {
     "name": "stdout",
     "output_type": "stream",
     "text": [
      "No links found for this pair.\n",
      "\n",
      "--- Comparing 'PRODUCT_FEATURE' <=> 'PRODUCTS' ---\n"
     ]
    },
    {
     "name": "stderr",
     "output_type": "stream",
     "text": [
      "[*] PRODUCT_FEATURE <==> PRODUCTS Runs:1: 100%|██████████| 1/1 [00:02<00:00,  2.39s/it]\n"
     ]
    },
    {
     "name": "stdout",
     "output_type": "stream",
     "text": [
      "Found 1 potential link(s).\n",
      "\n",
      "--- Comparing 'PRODUCT_FEATURE' <=> 'RENEWALS' ---\n"
     ]
    },
    {
     "name": "stderr",
     "output_type": "stream",
     "text": [
      "[*] PRODUCT_FEATURE <==> RENEWALS Runs:1: 100%|██████████| 1/1 [00:01<00:00,  1.39s/it]\n"
     ]
    },
    {
     "name": "stdout",
     "output_type": "stream",
     "text": [
      "No links found for this pair.\n",
      "\n",
      "--- Comparing 'PRODUCT_FEATURE' <=> 'RETURNS' ---\n"
     ]
    },
    {
     "name": "stderr",
     "output_type": "stream",
     "text": [
      "[*] PRODUCT_FEATURE <==> RETURNS Runs:1: 100%|██████████| 1/1 [00:16<00:00, 16.37s/it]\n"
     ]
    },
    {
     "name": "stdout",
     "output_type": "stream",
     "text": [
      "No links found for this pair.\n",
      "\n",
      "--- Comparing 'PRODUCT_FEATURE' <=> 'SERVICE_REQUESTS' ---\n"
     ]
    },
    {
     "name": "stderr",
     "output_type": "stream",
     "text": [
      "[*] PRODUCT_FEATURE <==> SERVICE_REQUESTS Runs:1: 100%|██████████| 1/1 [00:03<00:00,  3.32s/it]\n"
     ]
    },
    {
     "name": "stdout",
     "output_type": "stream",
     "text": [
      "No links found for this pair.\n",
      "\n",
      "--- Comparing 'PRODUCT_FEATURE' <=> 'WEBSITE' ---\n"
     ]
    },
    {
     "name": "stderr",
     "output_type": "stream",
     "text": [
      "[*] PRODUCT_FEATURE <==> WEBSITE Runs:1: 100%|██████████| 1/1 [00:00<00:00,  1.46it/s]\n"
     ]
    },
    {
     "name": "stdout",
     "output_type": "stream",
     "text": [
      "No links found for this pair.\n",
      "\n",
      "--- Comparing 'PRODUCT_HIERARCHY' <=> 'PRODUCTS' ---\n"
     ]
    },
    {
     "name": "stderr",
     "output_type": "stream",
     "text": [
      "[*] PRODUCT_HIERARCHY <==> PRODUCTS Runs:1: 100%|██████████| 1/1 [00:02<00:00,  2.57s/it]\n"
     ]
    },
    {
     "name": "stdout",
     "output_type": "stream",
     "text": [
      "Found 1 potential link(s).\n",
      "\n",
      "--- Comparing 'PRODUCT_HIERARCHY' <=> 'RENEWALS' ---\n"
     ]
    },
    {
     "name": "stderr",
     "output_type": "stream",
     "text": [
      "[*] PRODUCT_HIERARCHY <==> RENEWALS Runs:1: 100%|██████████| 1/1 [00:04<00:00,  4.44s/it]\n"
     ]
    },
    {
     "name": "stdout",
     "output_type": "stream",
     "text": [
      "No links found for this pair.\n",
      "\n",
      "--- Comparing 'PRODUCT_HIERARCHY' <=> 'RETURNS' ---\n"
     ]
    },
    {
     "name": "stderr",
     "output_type": "stream",
     "text": [
      "[*] PRODUCT_HIERARCHY <==> RETURNS Runs:1: 100%|██████████| 1/1 [00:05<00:00,  5.39s/it]\n"
     ]
    },
    {
     "name": "stdout",
     "output_type": "stream",
     "text": [
      "No links found for this pair.\n",
      "\n",
      "--- Comparing 'PRODUCT_HIERARCHY' <=> 'SERVICE_REQUESTS' ---\n"
     ]
    },
    {
     "name": "stderr",
     "output_type": "stream",
     "text": [
      "[*] PRODUCT_HIERARCHY <==> SERVICE_REQUESTS Runs:1: 100%|██████████| 1/1 [00:07<00:00,  7.32s/it]\n"
     ]
    },
    {
     "name": "stdout",
     "output_type": "stream",
     "text": [
      "No links found for this pair.\n",
      "\n",
      "--- Comparing 'PRODUCT_HIERARCHY' <=> 'WEBSITE' ---\n"
     ]
    },
    {
     "name": "stderr",
     "output_type": "stream",
     "text": [
      "[*] PRODUCT_HIERARCHY <==> WEBSITE Runs:1: 100%|██████████| 1/1 [00:00<00:00,  1.45it/s]\n"
     ]
    },
    {
     "name": "stdout",
     "output_type": "stream",
     "text": [
      "No links found for this pair.\n",
      "\n",
      "--- Comparing 'PRODUCTS' <=> 'RENEWALS' ---\n"
     ]
    },
    {
     "name": "stderr",
     "output_type": "stream",
     "text": [
      "[*] PRODUCTS <==> RENEWALS Runs:1: 100%|██████████| 1/1 [00:02<00:00,  2.42s/it]\n"
     ]
    },
    {
     "name": "stdout",
     "output_type": "stream",
     "text": [
      "Found 1 potential link(s).\n",
      "\n",
      "--- Comparing 'PRODUCTS' <=> 'RETURNS' ---\n"
     ]
    },
    {
     "name": "stderr",
     "output_type": "stream",
     "text": [
      "[*] PRODUCTS <==> RETURNS Runs:1: 100%|██████████| 1/1 [00:02<00:00,  2.42s/it]\n"
     ]
    },
    {
     "name": "stdout",
     "output_type": "stream",
     "text": [
      "Found 1 potential link(s).\n",
      "\n",
      "--- Comparing 'PRODUCTS' <=> 'SERVICE_REQUESTS' ---\n"
     ]
    },
    {
     "name": "stderr",
     "output_type": "stream",
     "text": [
      "[*] PRODUCTS <==> SERVICE_REQUESTS Runs:1: 100%|██████████| 1/1 [00:02<00:00,  2.34s/it]\n"
     ]
    },
    {
     "name": "stdout",
     "output_type": "stream",
     "text": [
      "Found 1 potential link(s).\n",
      "\n",
      "--- Comparing 'PRODUCTS' <=> 'WEBSITE' ---\n"
     ]
    },
    {
     "name": "stderr",
     "output_type": "stream",
     "text": [
      "[*] PRODUCTS <==> WEBSITE Runs:1: 100%|██████████| 1/1 [00:00<00:00,  1.46it/s]\n"
     ]
    },
    {
     "name": "stdout",
     "output_type": "stream",
     "text": [
      "No links found for this pair.\n",
      "\n",
      "--- Comparing 'RENEWALS' <=> 'RETURNS' ---\n"
     ]
    },
    {
     "name": "stderr",
     "output_type": "stream",
     "text": [
      "[*] RENEWALS <==> RETURNS Runs:1: 100%|██████████| 1/1 [00:01<00:00,  1.70s/it]\n"
     ]
    },
    {
     "name": "stdout",
     "output_type": "stream",
     "text": [
      "No links found for this pair.\n",
      "\n",
      "--- Comparing 'RENEWALS' <=> 'SERVICE_REQUESTS' ---\n"
     ]
    },
    {
     "name": "stderr",
     "output_type": "stream",
     "text": [
      "[*] RENEWALS <==> SERVICE_REQUESTS Runs:1: 100%|██████████| 1/1 [00:01<00:00,  1.50s/it]\n"
     ]
    },
    {
     "name": "stdout",
     "output_type": "stream",
     "text": [
      "No links found for this pair.\n",
      "\n",
      "--- Comparing 'RENEWALS' <=> 'WEBSITE' ---\n"
     ]
    },
    {
     "name": "stderr",
     "output_type": "stream",
     "text": [
      "[*] RENEWALS <==> WEBSITE Runs:1: 100%|██████████| 1/1 [00:00<00:00,  1.52it/s]\n"
     ]
    },
    {
     "name": "stdout",
     "output_type": "stream",
     "text": [
      "No links found for this pair.\n",
      "\n",
      "--- Comparing 'RETURNS' <=> 'SERVICE_REQUESTS' ---\n"
     ]
    },
    {
     "name": "stderr",
     "output_type": "stream",
     "text": [
      "[*] RETURNS <==> SERVICE_REQUESTS Runs:1: 100%|██████████| 1/1 [00:03<00:00,  3.06s/it]\n"
     ]
    },
    {
     "name": "stdout",
     "output_type": "stream",
     "text": [
      "Found 1 potential link(s).\n",
      "\n",
      "--- Comparing 'RETURNS' <=> 'WEBSITE' ---\n"
     ]
    },
    {
     "name": "stderr",
     "output_type": "stream",
     "text": [
      "[*] RETURNS <==> WEBSITE Runs:1: 100%|██████████| 1/1 [00:00<00:00,  1.76it/s]\n"
     ]
    },
    {
     "name": "stdout",
     "output_type": "stream",
     "text": [
      "No links found for this pair.\n",
      "\n",
      "--- Comparing 'SERVICE_REQUESTS' <=> 'WEBSITE' ---\n"
     ]
    },
    {
     "name": "stderr",
     "output_type": "stream",
     "text": [
      "[*] SERVICE_REQUESTS <==> WEBSITE Runs:1: 100%|██████████| 1/1 [00:00<00:00,  1.54it/s]"
     ]
    },
    {
     "name": "stdout",
     "output_type": "stream",
     "text": [
      "No links found for this pair.\n"
     ]
    },
    {
     "name": "stderr",
     "output_type": "stream",
     "text": [
      "\n"
     ]
    },
    {
     "data": {
      "text/html": [
       "<pre style=\"white-space:pre;overflow-x:auto;line-height:normal;font-family:Menlo,'DejaVu Sans Mono',consolas,'Courier New',monospace\"><span style=\"color: #008000; text-decoration-color: #008000; font-weight: bold\">Link prediction complete.</span>\n",
       "</pre>\n"
      ],
      "text/plain": [
       "\u001b[1;32mLink prediction complete.\u001b[0m\n"
      ]
     },
     "metadata": {},
     "output_type": "display_data"
    },
    {
     "data": {
      "text/html": [
       "<pre style=\"white-space:pre;overflow-x:auto;line-height:normal;font-family:Menlo,'DejaVu Sans Mono',consolas,'Courier New',monospace\"><span style=\"color: #808000; text-decoration-color: #808000\">Starting business glossary generation stage...</span>\n",
       "</pre>\n"
      ],
      "text/plain": [
       "\u001b[33mStarting business glossary generation stage\u001b[0m\u001b[33m...\u001b[0m\n"
      ]
     },
     "metadata": {},
     "output_type": "display_data"
    },
    {
     "data": {
      "text/html": [
       "<pre style=\"white-space:pre;overflow-x:auto;line-height:normal;font-family:Menlo,'DejaVu Sans Mono',consolas,'Courier New',monospace\"><span style=\"color: #008000; text-decoration-color: #008000; font-weight: bold\">Generating glossary for dataset: CAMPAIGNS</span>\n",
       "</pre>\n"
      ],
      "text/plain": [
       "\u001b[1;32mGenerating glossary for dataset: CAMPAIGNS\u001b[0m\n"
      ]
     },
     "metadata": {},
     "output_type": "display_data"
    },
    {
     "name": "stderr",
     "output_type": "stream",
     "text": [
      "100%|██████████| 13/13 [00:27<00:00,  2.10s/it]\n"
     ]
    },
    {
     "data": {
      "text/html": [
       "<pre style=\"white-space:pre;overflow-x:auto;line-height:normal;font-family:Menlo,'DejaVu Sans Mono',consolas,'Courier New',monospace\"><span style=\"color: #008000; text-decoration-color: #008000; font-weight: bold\">Generating glossary for dataset: CAMPAIGN_SURVEY</span>\n",
       "</pre>\n"
      ],
      "text/plain": [
       "\u001b[1;32mGenerating glossary for dataset: CAMPAIGN_SURVEY\u001b[0m\n"
      ]
     },
     "metadata": {},
     "output_type": "display_data"
    },
    {
     "name": "stderr",
     "output_type": "stream",
     "text": [
      "100%|██████████| 9/9 [00:11<00:00,  1.29s/it]\n"
     ]
    },
    {
     "data": {
      "text/html": [
       "<pre style=\"white-space:pre;overflow-x:auto;line-height:normal;font-family:Menlo,'DejaVu Sans Mono',consolas,'Courier New',monospace\"><span style=\"color: #008000; text-decoration-color: #008000; font-weight: bold\">Generating glossary for dataset: CUSTOMER_HIERARCHY</span>\n",
       "</pre>\n"
      ],
      "text/plain": [
       "\u001b[1;32mGenerating glossary for dataset: CUSTOMER_HIERARCHY\u001b[0m\n"
      ]
     },
     "metadata": {},
     "output_type": "display_data"
    },
    {
     "name": "stderr",
     "output_type": "stream",
     "text": [
      "100%|██████████| 8/8 [00:10<00:00,  1.37s/it]\n"
     ]
    },
    {
     "data": {
      "text/html": [
       "<pre style=\"white-space:pre;overflow-x:auto;line-height:normal;font-family:Menlo,'DejaVu Sans Mono',consolas,'Courier New',monospace\"><span style=\"color: #008000; text-decoration-color: #008000; font-weight: bold\">Generating glossary for dataset: CUSTOMERS</span>\n",
       "</pre>\n"
      ],
      "text/plain": [
       "\u001b[1;32mGenerating glossary for dataset: CUSTOMERS\u001b[0m\n"
      ]
     },
     "metadata": {},
     "output_type": "display_data"
    },
    {
     "name": "stderr",
     "output_type": "stream",
     "text": [
      "100%|██████████| 9/9 [00:11<00:00,  1.27s/it]\n"
     ]
    },
    {
     "data": {
      "text/html": [
       "<pre style=\"white-space:pre;overflow-x:auto;line-height:normal;font-family:Menlo,'DejaVu Sans Mono',consolas,'Courier New',monospace\"><span style=\"color: #008000; text-decoration-color: #008000; font-weight: bold\">Generating glossary for dataset: DELIVERY_SURVEY</span>\n",
       "</pre>\n"
      ],
      "text/plain": [
       "\u001b[1;32mGenerating glossary for dataset: DELIVERY_SURVEY\u001b[0m\n"
      ]
     },
     "metadata": {},
     "output_type": "display_data"
    },
    {
     "name": "stderr",
     "output_type": "stream",
     "text": [
      "100%|██████████| 8/8 [00:09<00:00,  1.22s/it]\n"
     ]
    },
    {
     "data": {
      "text/html": [
       "<pre style=\"white-space:pre;overflow-x:auto;line-height:normal;font-family:Menlo,'DejaVu Sans Mono',consolas,'Courier New',monospace\"><span style=\"color: #008000; text-decoration-color: #008000; font-weight: bold\">Generating glossary for dataset: EXPENSE</span>\n",
       "</pre>\n"
      ],
      "text/plain": [
       "\u001b[1;32mGenerating glossary for dataset: EXPENSE\u001b[0m\n"
      ]
     },
     "metadata": {},
     "output_type": "display_data"
    },
    {
     "name": "stderr",
     "output_type": "stream",
     "text": [
      "100%|██████████| 11/11 [00:14<00:00,  1.31s/it]\n"
     ]
    },
    {
     "data": {
      "text/html": [
       "<pre style=\"white-space:pre;overflow-x:auto;line-height:normal;font-family:Menlo,'DejaVu Sans Mono',consolas,'Courier New',monospace\"><span style=\"color: #008000; text-decoration-color: #008000; font-weight: bold\">Generating glossary for dataset: INSTALL_BASE</span>\n",
       "</pre>\n"
      ],
      "text/plain": [
       "\u001b[1;32mGenerating glossary for dataset: INSTALL_BASE\u001b[0m\n"
      ]
     },
     "metadata": {},
     "output_type": "display_data"
    },
    {
     "name": "stderr",
     "output_type": "stream",
     "text": [
      "100%|██████████| 13/13 [00:16<00:00,  1.26s/it]\n"
     ]
    },
    {
     "data": {
      "text/html": [
       "<pre style=\"white-space:pre;overflow-x:auto;line-height:normal;font-family:Menlo,'DejaVu Sans Mono',consolas,'Courier New',monospace\"><span style=\"color: #008000; text-decoration-color: #008000; font-weight: bold\">Generating glossary for dataset: INVENTORY</span>\n",
       "</pre>\n"
      ],
      "text/plain": [
       "\u001b[1;32mGenerating glossary for dataset: INVENTORY\u001b[0m\n"
      ]
     },
     "metadata": {},
     "output_type": "display_data"
    },
    {
     "name": "stderr",
     "output_type": "stream",
     "text": [
      "100%|██████████| 11/11 [00:13<00:00,  1.24s/it]\n"
     ]
    },
    {
     "data": {
      "text/html": [
       "<pre style=\"white-space:pre;overflow-x:auto;line-height:normal;font-family:Menlo,'DejaVu Sans Mono',consolas,'Courier New',monospace\"><span style=\"color: #008000; text-decoration-color: #008000; font-weight: bold\">Generating glossary for dataset: LOGISTICS</span>\n",
       "</pre>\n"
      ],
      "text/plain": [
       "\u001b[1;32mGenerating glossary for dataset: LOGISTICS\u001b[0m\n"
      ]
     },
     "metadata": {},
     "output_type": "display_data"
    },
    {
     "name": "stderr",
     "output_type": "stream",
     "text": [
      "100%|██████████| 10/10 [00:13<00:00,  1.32s/it]\n"
     ]
    },
    {
     "data": {
      "text/html": [
       "<pre style=\"white-space:pre;overflow-x:auto;line-height:normal;font-family:Menlo,'DejaVu Sans Mono',consolas,'Courier New',monospace\"><span style=\"color: #008000; text-decoration-color: #008000; font-weight: bold\">Generating glossary for dataset: NPS_SURVEY</span>\n",
       "</pre>\n"
      ],
      "text/plain": [
       "\u001b[1;32mGenerating glossary for dataset: NPS_SURVEY\u001b[0m\n"
      ]
     },
     "metadata": {},
     "output_type": "display_data"
    },
    {
     "name": "stderr",
     "output_type": "stream",
     "text": [
      "100%|██████████| 10/10 [00:19<00:00,  1.95s/it]\n"
     ]
    },
    {
     "data": {
      "text/html": [
       "<pre style=\"white-space:pre;overflow-x:auto;line-height:normal;font-family:Menlo,'DejaVu Sans Mono',consolas,'Courier New',monospace\"><span style=\"color: #008000; text-decoration-color: #008000; font-weight: bold\">Generating glossary for dataset: OPPORTUNITY</span>\n",
       "</pre>\n"
      ],
      "text/plain": [
       "\u001b[1;32mGenerating glossary for dataset: OPPORTUNITY\u001b[0m\n"
      ]
     },
     "metadata": {},
     "output_type": "display_data"
    },
    {
     "name": "stderr",
     "output_type": "stream",
     "text": [
      "100%|██████████| 12/12 [00:15<00:00,  1.25s/it]\n"
     ]
    },
    {
     "data": {
      "text/html": [
       "<pre style=\"white-space:pre;overflow-x:auto;line-height:normal;font-family:Menlo,'DejaVu Sans Mono',consolas,'Courier New',monospace\"><span style=\"color: #008000; text-decoration-color: #008000; font-weight: bold\">Generating glossary for dataset: ORDERS</span>\n",
       "</pre>\n"
      ],
      "text/plain": [
       "\u001b[1;32mGenerating glossary for dataset: ORDERS\u001b[0m\n"
      ]
     },
     "metadata": {},
     "output_type": "display_data"
    },
    {
     "name": "stderr",
     "output_type": "stream",
     "text": [
      "100%|██████████| 7/7 [00:08<00:00,  1.22s/it]\n"
     ]
    },
    {
     "data": {
      "text/html": [
       "<pre style=\"white-space:pre;overflow-x:auto;line-height:normal;font-family:Menlo,'DejaVu Sans Mono',consolas,'Courier New',monospace\"><span style=\"color: #008000; text-decoration-color: #008000; font-weight: bold\">Generating glossary for dataset: PROB_STATEMENT_ISSUE</span>\n",
       "</pre>\n"
      ],
      "text/plain": [
       "\u001b[1;32mGenerating glossary for dataset: PROB_STATEMENT_ISSUE\u001b[0m\n"
      ]
     },
     "metadata": {},
     "output_type": "display_data"
    },
    {
     "name": "stderr",
     "output_type": "stream",
     "text": [
      "100%|██████████| 8/8 [00:09<00:00,  1.24s/it]\n"
     ]
    },
    {
     "data": {
      "text/html": [
       "<pre style=\"white-space:pre;overflow-x:auto;line-height:normal;font-family:Menlo,'DejaVu Sans Mono',consolas,'Courier New',monospace\"><span style=\"color: #008000; text-decoration-color: #008000; font-weight: bold\">Generating glossary for dataset: PRODUCT_FEATURE</span>\n",
       "</pre>\n"
      ],
      "text/plain": [
       "\u001b[1;32mGenerating glossary for dataset: PRODUCT_FEATURE\u001b[0m\n"
      ]
     },
     "metadata": {},
     "output_type": "display_data"
    },
    {
     "name": "stderr",
     "output_type": "stream",
     "text": [
      "100%|██████████| 8/8 [00:10<00:00,  1.34s/it]\n"
     ]
    },
    {
     "data": {
      "text/html": [
       "<pre style=\"white-space:pre;overflow-x:auto;line-height:normal;font-family:Menlo,'DejaVu Sans Mono',consolas,'Courier New',monospace\"><span style=\"color: #008000; text-decoration-color: #008000; font-weight: bold\">Generating glossary for dataset: PRODUCT_HIERARCHY</span>\n",
       "</pre>\n"
      ],
      "text/plain": [
       "\u001b[1;32mGenerating glossary for dataset: PRODUCT_HIERARCHY\u001b[0m\n"
      ]
     },
     "metadata": {},
     "output_type": "display_data"
    },
    {
     "name": "stderr",
     "output_type": "stream",
     "text": [
      "100%|██████████| 7/7 [00:08<00:00,  1.21s/it]\n"
     ]
    },
    {
     "data": {
      "text/html": [
       "<pre style=\"white-space:pre;overflow-x:auto;line-height:normal;font-family:Menlo,'DejaVu Sans Mono',consolas,'Courier New',monospace\"><span style=\"color: #008000; text-decoration-color: #008000; font-weight: bold\">Generating glossary for dataset: PRODUCTS</span>\n",
       "</pre>\n"
      ],
      "text/plain": [
       "\u001b[1;32mGenerating glossary for dataset: PRODUCTS\u001b[0m\n"
      ]
     },
     "metadata": {},
     "output_type": "display_data"
    },
    {
     "name": "stderr",
     "output_type": "stream",
     "text": [
      "100%|██████████| 10/10 [00:16<00:00,  1.65s/it]\n"
     ]
    },
    {
     "data": {
      "text/html": [
       "<pre style=\"white-space:pre;overflow-x:auto;line-height:normal;font-family:Menlo,'DejaVu Sans Mono',consolas,'Courier New',monospace\"><span style=\"color: #008000; text-decoration-color: #008000; font-weight: bold\">Generating glossary for dataset: RENEWALS</span>\n",
       "</pre>\n"
      ],
      "text/plain": [
       "\u001b[1;32mGenerating glossary for dataset: RENEWALS\u001b[0m\n"
      ]
     },
     "metadata": {},
     "output_type": "display_data"
    },
    {
     "name": "stderr",
     "output_type": "stream",
     "text": [
      "100%|██████████| 8/8 [00:09<00:00,  1.16s/it]\n"
     ]
    },
    {
     "data": {
      "text/html": [
       "<pre style=\"white-space:pre;overflow-x:auto;line-height:normal;font-family:Menlo,'DejaVu Sans Mono',consolas,'Courier New',monospace\"><span style=\"color: #008000; text-decoration-color: #008000; font-weight: bold\">Generating glossary for dataset: RETURNS</span>\n",
       "</pre>\n"
      ],
      "text/plain": [
       "\u001b[1;32mGenerating glossary for dataset: RETURNS\u001b[0m\n"
      ]
     },
     "metadata": {},
     "output_type": "display_data"
    },
    {
     "name": "stderr",
     "output_type": "stream",
     "text": [
      "100%|██████████| 11/11 [00:14<00:00,  1.33s/it]\n"
     ]
    },
    {
     "data": {
      "text/html": [
       "<pre style=\"white-space:pre;overflow-x:auto;line-height:normal;font-family:Menlo,'DejaVu Sans Mono',consolas,'Courier New',monospace\"><span style=\"color: #008000; text-decoration-color: #008000; font-weight: bold\">Generating glossary for dataset: SERVICE_REQUESTS</span>\n",
       "</pre>\n"
      ],
      "text/plain": [
       "\u001b[1;32mGenerating glossary for dataset: SERVICE_REQUESTS\u001b[0m\n"
      ]
     },
     "metadata": {},
     "output_type": "display_data"
    },
    {
     "name": "stderr",
     "output_type": "stream",
     "text": [
      "100%|██████████| 11/11 [00:13<00:00,  1.23s/it]\n"
     ]
    },
    {
     "data": {
      "text/html": [
       "<pre style=\"white-space:pre;overflow-x:auto;line-height:normal;font-family:Menlo,'DejaVu Sans Mono',consolas,'Courier New',monospace\"><span style=\"color: #008000; text-decoration-color: #008000; font-weight: bold\">Generating glossary for dataset: WEBSITE</span>\n",
       "</pre>\n"
      ],
      "text/plain": [
       "\u001b[1;32mGenerating glossary for dataset: WEBSITE\u001b[0m\n"
      ]
     },
     "metadata": {},
     "output_type": "display_data"
    },
    {
     "name": "stderr",
     "output_type": "stream",
     "text": [
      "100%|██████████| 9/9 [00:12<00:00,  1.43s/it]\n"
     ]
    },
    {
     "data": {
      "text/html": [
       "<pre style=\"white-space:pre;overflow-x:auto;line-height:normal;font-family:Menlo,'DejaVu Sans Mono',consolas,'Courier New',monospace\"><span style=\"color: #008000; text-decoration-color: #008000; font-weight: bold\">Business glossary generation complete.</span>\n",
       "</pre>\n"
      ],
      "text/plain": [
       "\u001b[1;32mBusiness glossary generation complete.\u001b[0m\n"
      ]
     },
     "metadata": {},
     "output_type": "display_data"
    },
    {
     "name": "stdout",
     "output_type": "stream",
     "text": [
      "Initializing semantic search...\n"
     ]
    },
    {
     "name": "stderr",
     "output_type": "stream",
     "text": [
      "ERROR:intugle.core.vector_store.qdrant:AsyncQdrantService: Couldn't create collection, reason: All connection attempts failed\n",
      "WARNING:intugle.semantic_model:Could not initialize semantic search: All connection attempts failed\n",
      "WARNING:intugle.semantic_model:Semantic search initialization failed during build: All connection attempts failed\n"
     ]
    },
    {
     "data": {
      "text/plain": [
       "<intugle.semantic_model.SemanticModel at 0x71218dd3d400>"
      ]
     },
     "execution_count": 3,
     "metadata": {},
     "output_type": "execute_result"
    }
   ],
   "source": [
    "from intugle import SemanticModel\n",
    "\n",
    "# Initialize the semantic model\n",
    "sm = SemanticModel(datasets, domain=\"Technology Manufacturing Company\")\n",
    "\n",
    "# Run the prediction\n",
    "sm.build()"
   ]
  },
  {
   "cell_type": "markdown",
   "id": "2f25ca9c-73cd-413a-a705-2e8f42c755f1",
   "metadata": {
    "name": "cell10"
   },
   "source": [
    "## 3. Accessing Enriched Metadata\n",
    "\n",
    "Now that the semantic model is built, you can easily access the enriched metadata for each dataset.\n",
    "\n",
    "### Accessing a Dataset\n",
    "\n",
    "You can access a specific dataset by its name from the `sm.datasets` dictionary:"
   ]
  },
  {
   "cell_type": "code",
   "execution_count": 4,
   "id": "8134b5a5-3c89-4699-813d-7ac0acfa32e1",
   "metadata": {
    "language": "python",
    "name": "cell11"
   },
   "outputs": [
    {
     "data": {
      "text/html": [
       "<div>\n",
       "<style scoped>\n",
       "    .dataframe tbody tr th:only-of-type {\n",
       "        vertical-align: middle;\n",
       "    }\n",
       "\n",
       "    .dataframe tbody tr th {\n",
       "        vertical-align: top;\n",
       "    }\n",
       "\n",
       "    .dataframe thead th {\n",
       "        text-align: right;\n",
       "    }\n",
       "</style>\n",
       "<table border=\"1\" class=\"dataframe\">\n",
       "  <thead>\n",
       "    <tr style=\"text-align: right;\">\n",
       "      <th></th>\n",
       "      <th>column_name</th>\n",
       "      <th>table_name</th>\n",
       "      <th>business_name</th>\n",
       "      <th>datatype_l1</th>\n",
       "      <th>datatype_l2</th>\n",
       "      <th>business_glossary</th>\n",
       "      <th>business_tags</th>\n",
       "      <th>count</th>\n",
       "      <th>null_count</th>\n",
       "      <th>distinct_count</th>\n",
       "      <th>uniqueness</th>\n",
       "      <th>completeness</th>\n",
       "      <th>sample_data</th>\n",
       "    </tr>\n",
       "  </thead>\n",
       "  <tbody>\n",
       "    <tr>\n",
       "      <th>0</th>\n",
       "      <td>PRODUCT_ID</td>\n",
       "      <td>PRODUCTS</td>\n",
       "      <td>product_id</td>\n",
       "      <td>alphanumeric</td>\n",
       "      <td>L2OutputTypes.dimension</td>\n",
       "      <td>Serves as a unique identifier for individual p...</td>\n",
       "      <td>[Product Identification, Inventory Tracking, M...</td>\n",
       "      <td>1000</td>\n",
       "      <td>0</td>\n",
       "      <td>1000</td>\n",
       "      <td>1.000</td>\n",
       "      <td>1.0</td>\n",
       "      <td>[PROD-11993, PROD-11216, PROD-11477, PROD-1125...</td>\n",
       "    </tr>\n",
       "    <tr>\n",
       "      <th>1</th>\n",
       "      <td>PRODUCT_NAME</td>\n",
       "      <td>PRODUCTS</td>\n",
       "      <td>product_name</td>\n",
       "      <td>alphanumeric</td>\n",
       "      <td>L2OutputTypes.dimension</td>\n",
       "      <td>Identifies the name assigned to a product offe...</td>\n",
       "      <td>[Product Portfolio, Technology Solutions, Bran...</td>\n",
       "      <td>1000</td>\n",
       "      <td>0</td>\n",
       "      <td>5</td>\n",
       "      <td>0.005</td>\n",
       "      <td>1.0</td>\n",
       "      <td>[Insight360, CoreAnalytics, NetConnect, CloudE...</td>\n",
       "    </tr>\n",
       "    <tr>\n",
       "      <th>2</th>\n",
       "      <td>PRODUCT_CATEGORY</td>\n",
       "      <td>PRODUCTS</td>\n",
       "      <td>product_category</td>\n",
       "      <td>close_ended_text</td>\n",
       "      <td>L2OutputTypes.dimension</td>\n",
       "      <td>Groups products based on their functional or m...</td>\n",
       "      <td>[Product Classification, Technology Domain, Bu...</td>\n",
       "      <td>1000</td>\n",
       "      <td>0</td>\n",
       "      <td>5</td>\n",
       "      <td>0.005</td>\n",
       "      <td>1.0</td>\n",
       "      <td>[IoT, Networking, Security, Cloud Platform, An...</td>\n",
       "    </tr>\n",
       "    <tr>\n",
       "      <th>3</th>\n",
       "      <td>PRODUCT_STATUS</td>\n",
       "      <td>PRODUCTS</td>\n",
       "      <td>product_status</td>\n",
       "      <td>close_ended_text</td>\n",
       "      <td>L2OutputTypes.dimension</td>\n",
       "      <td>Indicates the current lifecycle phase of a pro...</td>\n",
       "      <td>[Lifecycle Management, Product Development Sta...</td>\n",
       "      <td>1000</td>\n",
       "      <td>0</td>\n",
       "      <td>5</td>\n",
       "      <td>0.005</td>\n",
       "      <td>1.0</td>\n",
       "      <td>[Retired, GA (General Availability), In Develo...</td>\n",
       "    </tr>\n",
       "    <tr>\n",
       "      <th>4</th>\n",
       "      <td>\"r&amp;d initiation date\"</td>\n",
       "      <td>PRODUCTS</td>\n",
       "      <td>r_d_initiation_date</td>\n",
       "      <td>date &amp; time</td>\n",
       "      <td>L2OutputTypes.dimension</td>\n",
       "      <td>Indicates the date and time when the research ...</td>\n",
       "      <td>[Product Development Timeline, Research And De...</td>\n",
       "      <td>1000</td>\n",
       "      <td>0</td>\n",
       "      <td>777</td>\n",
       "      <td>0.777</td>\n",
       "      <td>1.0</td>\n",
       "      <td>[2022-10-09, 2021-02-21, 2022-05-03, 2021-08-2...</td>\n",
       "    </tr>\n",
       "    <tr>\n",
       "      <th>5</th>\n",
       "      <td>\"r&amp;d stage\"</td>\n",
       "      <td>PRODUCTS</td>\n",
       "      <td>r_d_stage</td>\n",
       "      <td>close_ended_text</td>\n",
       "      <td>L2OutputTypes.dimension</td>\n",
       "      <td>Indicates the current phase of development for...</td>\n",
       "      <td>[Product Development Lifecycle, Innovation Man...</td>\n",
       "      <td>1000</td>\n",
       "      <td>0</td>\n",
       "      <td>5</td>\n",
       "      <td>0.005</td>\n",
       "      <td>1.0</td>\n",
       "      <td>[Prototype, Pre-Launch, Enhancement, Testing, ...</td>\n",
       "    </tr>\n",
       "    <tr>\n",
       "      <th>6</th>\n",
       "      <td>LAUNCH_STATUS</td>\n",
       "      <td>PRODUCTS</td>\n",
       "      <td>launch_status</td>\n",
       "      <td>close_ended_text</td>\n",
       "      <td>L2OutputTypes.dimension</td>\n",
       "      <td>Indicates the current progress or outcome of a...</td>\n",
       "      <td>[Product Lifecycle, Launch Planning, Status Tr...</td>\n",
       "      <td>1000</td>\n",
       "      <td>0</td>\n",
       "      <td>5</td>\n",
       "      <td>0.005</td>\n",
       "      <td>1.0</td>\n",
       "      <td>[Planned, Not Launched, Launched, In Pipeline,...</td>\n",
       "    </tr>\n",
       "    <tr>\n",
       "      <th>7</th>\n",
       "      <td>LAUNCH_DATE</td>\n",
       "      <td>PRODUCTS</td>\n",
       "      <td>launch_date</td>\n",
       "      <td>date &amp; time</td>\n",
       "      <td>L2OutputTypes.dimension</td>\n",
       "      <td>Indicates the date and time when a product bec...</td>\n",
       "      <td>[Product Launch Timeline, Go-To-Market Strateg...</td>\n",
       "      <td>1000</td>\n",
       "      <td>0</td>\n",
       "      <td>659</td>\n",
       "      <td>0.659</td>\n",
       "      <td>1.0</td>\n",
       "      <td>[2023-08-06, 2024-08-05, 2025-01-27, 2024-08-2...</td>\n",
       "    </tr>\n",
       "    <tr>\n",
       "      <th>8</th>\n",
       "      <td>PM_NAME</td>\n",
       "      <td>PRODUCTS</td>\n",
       "      <td>pm_name</td>\n",
       "      <td>close_ended_text</td>\n",
       "      <td>L2OutputTypes.dimension</td>\n",
       "      <td>Identifies the individual responsible for mana...</td>\n",
       "      <td>[Product Manager, Employee Name, Responsible P...</td>\n",
       "      <td>1000</td>\n",
       "      <td>0</td>\n",
       "      <td>994</td>\n",
       "      <td>0.994</td>\n",
       "      <td>1.0</td>\n",
       "      <td>[Darrell Palmer, Mrs. Rachel Davidson, Gregory...</td>\n",
       "    </tr>\n",
       "    <tr>\n",
       "      <th>9</th>\n",
       "      <td>\"product cost ($)\"</td>\n",
       "      <td>PRODUCTS</td>\n",
       "      <td>product_cost</td>\n",
       "      <td>integer</td>\n",
       "      <td>L2OutputTypes.measure</td>\n",
       "      <td>Tracks the monetary expense incurred to produc...</td>\n",
       "      <td>[Product Pricing, Cost Analysis, Manufacturing...</td>\n",
       "      <td>1000</td>\n",
       "      <td>0</td>\n",
       "      <td>998</td>\n",
       "      <td>0.998</td>\n",
       "      <td>1.0</td>\n",
       "      <td>[218276, 364894, 186668, 350676, 597190, 31221...</td>\n",
       "    </tr>\n",
       "  </tbody>\n",
       "</table>\n",
       "</div>"
      ],
      "text/plain": [
       "             column_name table_name        business_name       datatype_l1  \\\n",
       "0             PRODUCT_ID   PRODUCTS           product_id      alphanumeric   \n",
       "1           PRODUCT_NAME   PRODUCTS         product_name      alphanumeric   \n",
       "2       PRODUCT_CATEGORY   PRODUCTS     product_category  close_ended_text   \n",
       "3         PRODUCT_STATUS   PRODUCTS       product_status  close_ended_text   \n",
       "4  \"r&d initiation date\"   PRODUCTS  r_d_initiation_date       date & time   \n",
       "5            \"r&d stage\"   PRODUCTS            r_d_stage  close_ended_text   \n",
       "6          LAUNCH_STATUS   PRODUCTS        launch_status  close_ended_text   \n",
       "7            LAUNCH_DATE   PRODUCTS          launch_date       date & time   \n",
       "8                PM_NAME   PRODUCTS              pm_name  close_ended_text   \n",
       "9     \"product cost ($)\"   PRODUCTS         product_cost           integer   \n",
       "\n",
       "               datatype_l2                                  business_glossary  \\\n",
       "0  L2OutputTypes.dimension  Serves as a unique identifier for individual p...   \n",
       "1  L2OutputTypes.dimension  Identifies the name assigned to a product offe...   \n",
       "2  L2OutputTypes.dimension  Groups products based on their functional or m...   \n",
       "3  L2OutputTypes.dimension  Indicates the current lifecycle phase of a pro...   \n",
       "4  L2OutputTypes.dimension  Indicates the date and time when the research ...   \n",
       "5  L2OutputTypes.dimension  Indicates the current phase of development for...   \n",
       "6  L2OutputTypes.dimension  Indicates the current progress or outcome of a...   \n",
       "7  L2OutputTypes.dimension  Indicates the date and time when a product bec...   \n",
       "8  L2OutputTypes.dimension  Identifies the individual responsible for mana...   \n",
       "9    L2OutputTypes.measure  Tracks the monetary expense incurred to produc...   \n",
       "\n",
       "                                       business_tags  count  null_count  \\\n",
       "0  [Product Identification, Inventory Tracking, M...   1000           0   \n",
       "1  [Product Portfolio, Technology Solutions, Bran...   1000           0   \n",
       "2  [Product Classification, Technology Domain, Bu...   1000           0   \n",
       "3  [Lifecycle Management, Product Development Sta...   1000           0   \n",
       "4  [Product Development Timeline, Research And De...   1000           0   \n",
       "5  [Product Development Lifecycle, Innovation Man...   1000           0   \n",
       "6  [Product Lifecycle, Launch Planning, Status Tr...   1000           0   \n",
       "7  [Product Launch Timeline, Go-To-Market Strateg...   1000           0   \n",
       "8  [Product Manager, Employee Name, Responsible P...   1000           0   \n",
       "9  [Product Pricing, Cost Analysis, Manufacturing...   1000           0   \n",
       "\n",
       "   distinct_count  uniqueness  completeness  \\\n",
       "0            1000       1.000           1.0   \n",
       "1               5       0.005           1.0   \n",
       "2               5       0.005           1.0   \n",
       "3               5       0.005           1.0   \n",
       "4             777       0.777           1.0   \n",
       "5               5       0.005           1.0   \n",
       "6               5       0.005           1.0   \n",
       "7             659       0.659           1.0   \n",
       "8             994       0.994           1.0   \n",
       "9             998       0.998           1.0   \n",
       "\n",
       "                                         sample_data  \n",
       "0  [PROD-11993, PROD-11216, PROD-11477, PROD-1125...  \n",
       "1  [Insight360, CoreAnalytics, NetConnect, CloudE...  \n",
       "2  [IoT, Networking, Security, Cloud Platform, An...  \n",
       "3  [Retired, GA (General Availability), In Develo...  \n",
       "4  [2022-10-09, 2021-02-21, 2022-05-03, 2021-08-2...  \n",
       "5  [Prototype, Pre-Launch, Enhancement, Testing, ...  \n",
       "6  [Planned, Not Launched, Launched, In Pipeline,...  \n",
       "7  [2023-08-06, 2024-08-05, 2025-01-27, 2024-08-2...  \n",
       "8  [Darrell Palmer, Mrs. Rachel Davidson, Gregory...  \n",
       "9  [218276, 364894, 186668, 350676, 597190, 31221...  "
      ]
     },
     "execution_count": 4,
     "metadata": {},
     "output_type": "execute_result"
    }
   ],
   "source": [
    "products_dataset = sm.datasets['PRODUCTS']\n",
    "products_dataset.profiling_df"
   ]
  },
  {
   "cell_type": "markdown",
   "id": "066e6d22-9f22-4199-9eec-29e1717a2e96",
   "metadata": {
    "name": "cell12"
   },
   "source": [
    "The profiling results can be accessed through the `profiling_df` property of the `DataSet` object. It's a pandas DataFrame that you can easily explore. \n",
    "> The business glossary is also available in the `profiling_df`:"
   ]
  },
  {
   "cell_type": "markdown",
   "id": "fc37ad75-0aca-4233-9c54-89ff32a88b11",
   "metadata": {
    "name": "cell13"
   },
   "source": [
    "### Visualizing Relationships\n",
    "\n",
    "The `SemanticModel` automatically discovers the relationships between your tables. You can access the predicted links as a list of `PredictedLink` objects:"
   ]
  },
  {
   "cell_type": "code",
   "execution_count": 5,
   "id": "3edc6a60-f768-4460-83cd-25fc483108a6",
   "metadata": {
    "language": "python",
    "name": "cell14"
   },
   "outputs": [
    {
     "data": {
      "text/plain": [
       "[PredictedLink(from_dataset='CAMPAIGNS', from_column='CAMPAIGN_ID', to_dataset='CAMPAIGN_SURVEY', to_column='CAMP_ID', intersect_count=635, intersect_ratio_from_col=0.635, intersect_ratio_to_col=1.0, accuracy=1.0),\n",
       " PredictedLink(from_dataset='CAMPAIGNS', from_column='PROSPECT_ID', to_dataset='CUSTOMERS', to_column='C_ID', intersect_count=622, intersect_ratio_from_col=1.0, intersect_ratio_to_col=0.622, accuracy=1.0),\n",
       " PredictedLink(from_dataset='CAMPAIGNS', from_column='PROD_ID', to_dataset='PRODUCTS', to_column='PRODUCT_ID', intersect_count=633, intersect_ratio_from_col=1.0, intersect_ratio_to_col=0.633, accuracy=1.0),\n",
       " PredictedLink(from_dataset='CAMPAIGNS', from_column='CAMPAIGN_ID', to_dataset='WEBSITE', to_column='CMGN_ID', intersect_count=618, intersect_ratio_from_col=0.618, intersect_ratio_to_col=1.0, accuracy=1.0),\n",
       " PredictedLink(from_dataset='CUSTOMER_HIERARCHY', from_column='PARTY_ID', to_dataset='CUSTOMERS', to_column='C_ID', intersect_count=616, intersect_ratio_from_col=1.0, intersect_ratio_to_col=0.616, accuracy=1.0),\n",
       " PredictedLink(from_dataset='CUSTOMERS', from_column='C_ID', to_dataset='DELIVERY_SURVEY', to_column='CUSTOMER_ID', intersect_count=627, intersect_ratio_from_col=0.627, intersect_ratio_to_col=1.0, accuracy=1.0),\n",
       " PredictedLink(from_dataset='CUSTOMERS', from_column='C_ID', to_dataset='EXPENSE', to_column='CONTACT_ID', intersect_count=646, intersect_ratio_from_col=0.646, intersect_ratio_to_col=1.0, accuracy=1.0),\n",
       " PredictedLink(from_dataset='CUSTOMERS', from_column='C_ID', to_dataset='INSTALL_BASE', to_column='PARTY_ID', intersect_count=638, intersect_ratio_from_col=0.638, intersect_ratio_to_col=1.0, accuracy=1.0),\n",
       " PredictedLink(from_dataset='CUSTOMERS', from_column='C_ID', to_dataset='LOGISTICS', to_column='CUST_ID', intersect_count=612, intersect_ratio_from_col=0.612, intersect_ratio_to_col=1.0, accuracy=1.0),\n",
       " PredictedLink(from_dataset='CUSTOMERS', from_column='C_ID', to_dataset='NPS_SURVEY', to_column='CUSTOMER_ID', intersect_count=615, intersect_ratio_from_col=0.615, intersect_ratio_to_col=1.0, accuracy=1.0),\n",
       " PredictedLink(from_dataset='CUSTOMERS', from_column='C_ID', to_dataset='OPPORTUNITY', to_column='CUST_ID', intersect_count=636, intersect_ratio_from_col=0.636, intersect_ratio_to_col=1.0, accuracy=1.0),\n",
       " PredictedLink(from_dataset='CUSTOMERS', from_column='C_ID', to_dataset='ORDERS', to_column='PARTY_ID', intersect_count=994, intersect_ratio_from_col=0.994, intersect_ratio_to_col=1.0, accuracy=1.0),\n",
       " PredictedLink(from_dataset='CUSTOMERS', from_column='CUSTOMER_NAME', to_dataset='PROB_STATEMENT_ISSUE', to_column='CUSTOMER_NAME', intersect_count=624, intersect_ratio_from_col=0.647, intersect_ratio_to_col=1.0, accuracy=1.0),\n",
       " PredictedLink(from_dataset='CUSTOMERS', from_column='C_ID', to_dataset='RENEWALS', to_column='CUS_ID', intersect_count=637, intersect_ratio_from_col=0.637, intersect_ratio_to_col=1.0, accuracy=1.0),\n",
       " PredictedLink(from_dataset='CUSTOMERS', from_column='C_ID', to_dataset='RETURNS', to_column='CUSTOMER_ID', intersect_count=652, intersect_ratio_from_col=0.652, intersect_ratio_to_col=1.0, accuracy=1.0),\n",
       " PredictedLink(from_dataset='CUSTOMERS', from_column='C_ID', to_dataset='SERVICE_REQUESTS', to_column='C_ID', intersect_count=993, intersect_ratio_from_col=0.993, intersect_ratio_to_col=1.0, accuracy=1.0),\n",
       " PredictedLink(from_dataset='DELIVERY_SURVEY', from_column='ODR_ID', to_dataset='ORDERS', to_column='ORDER_ID', intersect_count=893, intersect_ratio_from_col=1.0, intersect_ratio_to_col=0.179, accuracy=1.0),\n",
       " PredictedLink(from_dataset='DELIVERY_SURVEY', from_column='PD_ID', to_dataset='PRODUCTS', to_column='PRODUCT_ID', intersect_count=640, intersect_ratio_from_col=1.0, intersect_ratio_to_col=0.64, accuracy=1.0),\n",
       " PredictedLink(from_dataset='EXPENSE', from_column='INVOICE_NUMBER', to_dataset='INVENTORY', to_column='INVENTORY_ID', intersect_count=1000, intersect_ratio_from_col=1.0, intersect_ratio_to_col=1.0, accuracy=1.0),\n",
       " PredictedLink(from_dataset='INSTALL_BASE', from_column='ORDER_ID', to_dataset='ORDERS', to_column='ORDER_ID', intersect_count=1000, intersect_ratio_from_col=1.0, intersect_ratio_to_col=0.2, accuracy=1.0),\n",
       " PredictedLink(from_dataset='INSTALL_BASE', from_column='PRODUCT_ID', to_dataset='PRODUCTS', to_column='PRODUCT_ID', intersect_count=630, intersect_ratio_from_col=1.0, intersect_ratio_to_col=0.63, accuracy=1.0),\n",
       " PredictedLink(from_dataset='INVENTORY', from_column='PROD_ID', to_dataset='PRODUCTS', to_column='PRODUCT_ID', intersect_count=621, intersect_ratio_from_col=1.0, intersect_ratio_to_col=0.621, accuracy=1.0),\n",
       " PredictedLink(from_dataset='LOGISTICS', from_column='OD_CONTRACT_ID', to_dataset='ORDERS', to_column='ORDER_ID', intersect_count=890, intersect_ratio_from_col=1.0, intersect_ratio_to_col=0.178, accuracy=1.0),\n",
       " PredictedLink(from_dataset='NPS_SURVEY', from_column='RETURN_ID', to_dataset='RETURNS', to_column='RETURN_ID', intersect_count=627, intersect_ratio_from_col=1.0, intersect_ratio_to_col=0.627, accuracy=1.0),\n",
       " PredictedLink(from_dataset='NPS_SURVEY', from_column='INCIDENT_ID', to_dataset='SERVICE_REQUESTS', to_column='SR_ID', intersect_count=911, intersect_ratio_from_col=1.0, intersect_ratio_to_col=0.182, accuracy=1.0),\n",
       " PredictedLink(from_dataset='ORDERS', from_column='PRODUCT_ID', to_dataset='PRODUCTS', to_column='PRODUCT_ID', intersect_count=994, intersect_ratio_from_col=1.0, intersect_ratio_to_col=0.994, accuracy=1.0),\n",
       " PredictedLink(from_dataset='ORDERS', from_column='ORDER_ID', to_dataset='RENEWALS', to_column='OD_ID', intersect_count=906, intersect_ratio_from_col=0.181, intersect_ratio_to_col=1.0, accuracy=1.0),\n",
       " PredictedLink(from_dataset='ORDERS', from_column='ORDER_ID', to_dataset='RETURNS', to_column='R_ORDER_ID', intersect_count=925, intersect_ratio_from_col=0.185, intersect_ratio_to_col=1.0, accuracy=1.0),\n",
       " PredictedLink(from_dataset='ORDERS', from_column='ORDER_ID', to_dataset='SERVICE_REQUESTS', to_column='SALES_ORD_ID', intersect_count=3223, intersect_ratio_from_col=0.645, intersect_ratio_to_col=1.0, accuracy=1.0),\n",
       " PredictedLink(from_dataset='PROB_STATEMENT_ISSUE', from_column='PD_ID', to_dataset='PRODUCTS', to_column='PRODUCT_ID', intersect_count=628, intersect_ratio_from_col=1.0, intersect_ratio_to_col=0.628, accuracy=1.0),\n",
       " PredictedLink(from_dataset='PROB_STATEMENT_ISSUE', from_column='SR_ID', to_dataset='SERVICE_REQUESTS', to_column='SR_ID', intersect_count=890, intersect_ratio_from_col=1.0, intersect_ratio_to_col=0.178, accuracy=1.0),\n",
       " PredictedLink(from_dataset='PRODUCT_FEATURE', from_column='P_ID', to_dataset='PRODUCTS', to_column='PRODUCT_ID', intersect_count=644, intersect_ratio_from_col=1.0, intersect_ratio_to_col=0.644, accuracy=1.0),\n",
       " PredictedLink(from_dataset='PRODUCT_HIERARCHY', from_column='PRODUCT_ID', to_dataset='PRODUCTS', to_column='PRODUCT_ID', intersect_count=631, intersect_ratio_from_col=1.0, intersect_ratio_to_col=0.631, accuracy=1.0),\n",
       " PredictedLink(from_dataset='PRODUCTS', from_column='PRODUCT_ID', to_dataset='RENEWALS', to_column='PR_ID', intersect_count=646, intersect_ratio_from_col=0.646, intersect_ratio_to_col=1.0, accuracy=1.0),\n",
       " PredictedLink(from_dataset='PRODUCTS', from_column='PRODUCT_ID', to_dataset='RETURNS', to_column='PRODUCT_ID', intersect_count=642, intersect_ratio_from_col=0.642, intersect_ratio_to_col=1.0, accuracy=1.0),\n",
       " PredictedLink(from_dataset='PRODUCTS', from_column='PRODUCT_ID', to_dataset='SERVICE_REQUESTS', to_column='PROD_ID', intersect_count=993, intersect_ratio_from_col=0.993, intersect_ratio_to_col=1.0, accuracy=1.0),\n",
       " PredictedLink(from_dataset='RETURNS', from_column='SR_ID', to_dataset='SERVICE_REQUESTS', to_column='SR_ID', intersect_count=1000, intersect_ratio_from_col=1.0, intersect_ratio_to_col=0.2, accuracy=1.0)]"
      ]
     },
     "execution_count": 5,
     "metadata": {},
     "output_type": "execute_result"
    }
   ],
   "source": [
    "sm.links"
   ]
  },
  {
   "cell_type": "markdown",
   "id": "f21cb851-6c0d-410d-a037-2bd027a629c8",
   "metadata": {
    "name": "cell15"
   },
   "source": [
    "You can also visualize these relationships as a graph. In case you run into an error, make sure you install/upgrade your ipykernel package:\n",
    "> %pip install --upgrade ipykernel"
   ]
  },
  {
   "cell_type": "code",
   "execution_count": 6,
   "id": "65c81899-2075-474f-b375-2134ba246543",
   "metadata": {
    "language": "python",
    "name": "cell16"
   },
   "outputs": [
    {
     "data": {
      "image/png": "[encoded data removed]",
      "text/plain": [
       "<Figure size 2000x2000 with 1 Axes>"
      ]
     },
     "metadata": {},
     "output_type": "display_data"
    }
   ],
   "source": [
    "sm.visualize()  # To visualize the relationships as a graph"
   ]
  },
  {
   "cell_type": "markdown",
   "id": "0d3fcdcb-2861-45b7-851c-041d922d7138",
   "metadata": {
    "name": "cell17"
   },
   "source": [
    "## 4. The Semantic Layer\n",
    "\n",
    "The SemanticModel results are used to generate YAML files which are saved automatically. These files defines the semantic layer, including the models (tables) and their relationships. \n",
    "\n",
    "By default, these files are saved in the current working directory. You can configure this path by setting the `PROJECT_BASE` environment variable."
   ]
  },
  {
   "cell_type": "markdown",
   "id": "4be9bcfb-af62-4aa3-bb9d-69c6c67da66c",
   "metadata": {
    "collapsed": false,
    "name": "cell19"
   },
   "source": [
    "## 5. Deploying to Snowflake"
   ]
  },
  {
   "cell_type": "markdown",
   "id": "d972bcb7-02f0-4a63-84ac-520c6a51a2f9",
   "metadata": {
    "collapsed": false,
    "name": "cell29"
   },
   "source": [
    "Syncs the business glossaries with the source tables. Creates a semantic view in Snowflake complete with business glossaries, datatypes and relationships"
   ]
  },
  {
   "cell_type": "code",
   "execution_count": 7,
   "id": "a84f30d2-dde1-4955-a47a-71f08a6f2b6b",
   "metadata": {
    "language": "python",
    "name": "cell21"
   },
   "outputs": [
    {
     "data": {
      "text/html": [
       "<pre style=\"white-space:pre;overflow-x:auto;line-height:normal;font-family:Menlo,'DejaVu Sans Mono',consolas,'Courier New',monospace\"><span style=\"color: #808000; text-decoration-color: #808000\">Starting deployment to </span><span style=\"color: #008000; text-decoration-color: #008000\">'snowflake'</span><span style=\"color: #808000; text-decoration-color: #808000\"> based on project YAML files...</span>\n",
       "</pre>\n"
      ],
      "text/plain": [
       "\u001b[33mStarting deployment to \u001b[0m\u001b[32m'snowflake'\u001b[0m\u001b[33m based on project YAML files\u001b[0m\u001b[33m...\u001b[0m\n"
      ]
     },
     "metadata": {},
     "output_type": "display_data"
    },
    {
     "name": "stdout",
     "output_type": "stream",
     "text": [
      "Found active Snowpark session. Using it for connection.\n",
      "Syncing metadata to Snowflake tables...\n",
      "Metadata sync complete.\n",
      "Deploying semantic model view 'intugle_semantic_view' to Snowflake...\n",
      "Semantic model view 'intugle_semantic_view' deployed successfully.\n"
     ]
    },
    {
     "data": {
      "text/html": [
       "<pre style=\"white-space:pre;overflow-x:auto;line-height:normal;font-family:Menlo,'DejaVu Sans Mono',consolas,'Courier New',monospace\"><span style=\"color: #008000; text-decoration-color: #008000; font-weight: bold\">Successfully deployed semantic model to </span><span style=\"color: #008000; text-decoration-color: #008000\">'snowflake'</span><span style=\"color: #008000; text-decoration-color: #008000; font-weight: bold\">.</span>\n",
       "</pre>\n"
      ],
      "text/plain": [
       "\u001b[1;32mSuccessfully deployed semantic model to \u001b[0m\u001b[32m'snowflake'\u001b[0m\u001b[1;32m.\u001b[0m\n"
      ]
     },
     "metadata": {},
     "output_type": "display_data"
    }
   ],
   "source": [
    "sm.deploy('snowflake')"
   ]
  },
  {
   "cell_type": "markdown",
   "id": "d6de32dd-503a-407f-8997-862e387aa65f",
   "metadata": {
    "collapsed": false,
    "name": "cell34"
   },
   "source": [
    "You can also just create the YAML compatible with Snowflake Semantic Views:"
   ]
  },
  {
   "cell_type": "code",
   "execution_count": null,
   "id": "6fd853fd-6c56-4fa3-a0c8-4cbb864dee5a",
   "metadata": {
    "language": "python",
    "name": "cell20"
   },
   "outputs": [],
   "source": [
    "sm.export(format=\"snowflake\", path=\"snowflake_semantic_model.yml\")"
   ]
  },
  {
   "cell_type": "markdown",
   "id": "530dc414-055e-40ac-a9aa-67b6ecbbd7df",
   "metadata": {
    "collapsed": false,
    "name": "cell33"
   },
   "source": [
    ">Now that you have deployed a Semantic View, you can use **Snowflake Cortex Analyst** to **converse with your data** using natural language. Cortex Analyst leverages the relationships and context defined in your Semantic View to answer questions without requiring you to write SQL.\n",
    "To get started, navigate to **AI & ML** -> **Cortex Analyst** in the **Snowflake UI** and select your newly created view."
   ]
  },
  {
   "cell_type": "markdown",
   "id": "039777b0-bfd2-4d27-8580-4e34b7a08998",
   "metadata": {
    "name": "cell22"
   },
   "source": [
    "## 6. Data Product Creation\n",
    "\n",
    "The semantic layer serves as a foundation for the DataProduct, which streamlines the creation of reusable data products. This allows you\n",
    "to encapsulate business logic and create standardized, trustworthy data assets that can be easily shared and reused across different teams and \n",
    "applications.\n",
    "\n",
    "Let's define the model for the data product we want to build:"
   ]
  },
  {
   "cell_type": "code",
   "execution_count": 9,
   "id": "690f5c85-9e8e-4f04-b396-1b652c8f71b6",
   "metadata": {
    "language": "python",
    "name": "cell23"
   },
   "outputs": [],
   "source": [
    "data_product_config = \\\n",
    "{\n",
    "    \"name\": \"customer_kpi_summary\",\n",
    "    \"fields\": [\n",
    "        {\n",
    "            \"id\": \"CUSTOMERS.C_ID\",\n",
    "            \"name\": \"c_id\"\n",
    "        },\n",
    "        {\n",
    "            \"id\": \"CUSTOMERS.CUSTOMER_NAME\",\n",
    "            \"name\": \"customer_name\"\n",
    "        },\n",
    "        {\n",
    "            \"id\": \"CUSTOMER_HIERARCHY.\\\"global / parent account\\\"\",\n",
    "            \"name\": \"global_parent_account\"\n",
    "        },\n",
    "        {\n",
    "            \"id\": \"CUSTOMER_HIERARCHY.REGION\",\n",
    "            \"name\": \"region\"\n",
    "        },\n",
    "        {\n",
    "            \"id\": \"CUSTOMER_HIERARCHY.\\\"global / local entity\\\"\",\n",
    "            \"name\": \"global_local_entity\"\n",
    "        },\n",
    "        {\n",
    "            \"id\": \"PRODUCTS.PRODUCT_NAME\",\n",
    "            \"name\": \"product_name\"\n",
    "        },\n",
    "        {\n",
    "            \"id\": \"ORDERS.\\\"order value ($)\\\"\",\n",
    "            \"name\": \"sum_order_value\",\n",
    "            \"category\": \"measure\",\n",
    "            \"measure_func\": \"sum\"\n",
    "        },\n",
    "        {\n",
    "            \"id\": \"ORDERS.ORDER_ID\",\n",
    "            \"name\": \"count_distinct_order_id\",\n",
    "            \"category\": \"measure\",\n",
    "            \"measure_func\": \"count\"\n",
    "        },\n",
    "        {\n",
    "            \"id\": \"ORDERS.ORDER_QTY\",\n",
    "            \"name\": \"sum_order_qty\",\n",
    "            \"category\": \"measure\",\n",
    "            \"measure_func\": \"sum\"\n",
    "        },\n",
    "        {\n",
    "            \"id\": \"SERVICE_REQUESTS.SR_ID\",\n",
    "            \"name\": \"count_distinct_sr_id\",\n",
    "            \"category\": \"measure\",\n",
    "            \"measure_func\": \"count\"\n",
    "        },\n",
    "        {\n",
    "            \"id\": \"SERVICE_REQUESTS.PROD_ID\",\n",
    "            \"name\": \"count_distinct_prod_id\",\n",
    "            \"category\": \"measure\",\n",
    "            \"measure_func\": \"count\"\n",
    "        },\n",
    "        {\n",
    "            \"id\": \"RETURNS.R_ORDER_ID\",\n",
    "            \"name\": \"count_distinct_r_order_id\",\n",
    "            \"category\": \"measure\",\n",
    "            \"measure_func\": \"count\"\n",
    "        },\n",
    "        {\n",
    "            \"id\": \"NPS_SURVEY.SURVEY_SCORE\",\n",
    "            \"name\": \"sum_survey_score\",\n",
    "            \"category\": \"measure\",\n",
    "            \"measure_func\": \"sum\"\n",
    "        }\n",
    "    ]\n",
    "}"
   ]
  },
  {
   "cell_type": "markdown",
   "id": "47738f38",
   "metadata": {},
   "source": [
    "> Checkout the Intugle documentation to learn how to add sorting and filters to your data product"
   ]
  },
  {
   "cell_type": "markdown",
   "id": "66b569ab-0ae9-4906-b6b7-94b86e785988",
   "metadata": {
    "name": "cell24"
   },
   "source": [
    "Now, let's use the `DataProduct` to generate the data product:"
   ]
  },
  {
   "cell_type": "code",
   "execution_count": 10,
   "id": "c25ba5e2-e539-44c5-b167-c60255f66806",
   "metadata": {
    "language": "python",
    "name": "cell25"
   },
   "outputs": [
    {
     "name": "stdout",
     "output_type": "stream",
     "text": [
      "Found active Snowpark session. Using it for connection.\n",
      "Found existing YAML for 'PRODUCTS'. Checking for staleness.\n",
      "PRODUCTS loaded\n",
      "Found active Snowpark session. Using it for connection.\n",
      "Found existing YAML for 'INVENTORY'. Checking for staleness.\n",
      "INVENTORY loaded\n",
      "Found active Snowpark session. Using it for connection.\n",
      "Found existing YAML for 'CAMPAIGNS'. Checking for staleness.\n",
      "CAMPAIGNS loaded\n",
      "Found active Snowpark session. Using it for connection.\n",
      "Found existing YAML for 'CUSTOMER_HIERARCHY'. Checking for staleness.\n",
      "CUSTOMER_HIERARCHY loaded\n",
      "Found active Snowpark session. Using it for connection.\n",
      "Found existing YAML for 'PRODUCT_HIERARCHY'. Checking for staleness.\n",
      "PRODUCT_HIERARCHY loaded\n",
      "Found active Snowpark session. Using it for connection.\n",
      "Found existing YAML for 'INSTALL_BASE'. Checking for staleness.\n",
      "INSTALL_BASE loaded\n",
      "Found active Snowpark session. Using it for connection.\n",
      "Found existing YAML for 'RENEWALS'. Checking for staleness.\n",
      "RENEWALS loaded\n",
      "Found active Snowpark session. Using it for connection.\n",
      "Found existing YAML for 'NPS_SURVEY'. Checking for staleness.\n",
      "NPS_SURVEY loaded\n",
      "Found active Snowpark session. Using it for connection.\n",
      "Found existing YAML for 'CAMPAIGN_SURVEY'. Checking for staleness.\n",
      "CAMPAIGN_SURVEY loaded\n",
      "Found active Snowpark session. Using it for connection.\n",
      "Found existing YAML for 'DELIVERY_SURVEY'. Checking for staleness.\n",
      "DELIVERY_SURVEY loaded\n",
      "Found active Snowpark session. Using it for connection.\n",
      "Found existing YAML for 'WEBSITE'. Checking for staleness.\n",
      "WEBSITE loaded\n",
      "Found active Snowpark session. Using it for connection.\n",
      "Found existing YAML for 'CUSTOMERS'. Checking for staleness.\n",
      "CUSTOMERS loaded\n",
      "Found active Snowpark session. Using it for connection.\n",
      "Found existing YAML for 'OPPORTUNITY'. Checking for staleness.\n",
      "OPPORTUNITY loaded\n",
      "Found active Snowpark session. Using it for connection.\n",
      "Found existing YAML for 'PROB_STATEMENT_ISSUE'. Checking for staleness.\n",
      "PROB_STATEMENT_ISSUE loaded\n",
      "Found active Snowpark session. Using it for connection.\n",
      "Found existing YAML for 'EXPENSE'. Checking for staleness.\n",
      "EXPENSE loaded\n",
      "Found active Snowpark session. Using it for connection.\n",
      "Found existing YAML for 'ORDERS'. Checking for staleness.\n",
      "ORDERS loaded\n",
      "Found active Snowpark session. Using it for connection.\n",
      "Found existing YAML for 'SERVICE_REQUESTS'. Checking for staleness.\n",
      "SERVICE_REQUESTS loaded\n",
      "Found active Snowpark session. Using it for connection.\n",
      "Found existing YAML for 'RETURNS'. Checking for staleness.\n",
      "RETURNS loaded\n",
      "Found active Snowpark session. Using it for connection.\n",
      "Found existing YAML for 'LOGISTICS'. Checking for staleness.\n",
      "LOGISTICS loaded\n",
      "Found active Snowpark session. Using it for connection.\n",
      "Found existing YAML for 'PRODUCT_FEATURE'. Checking for staleness.\n",
      "PRODUCT_FEATURE loaded\n",
      "Found active Snowpark session. Using it for connection.\n",
      "Found active Snowpark session. Using it for connection.\n",
      "customer_kpi_summary loaded\n"
     ]
    },
    {
     "data": {
      "text/html": [
       "<div>\n",
       "<style scoped>\n",
       "    .dataframe tbody tr th:only-of-type {\n",
       "        vertical-align: middle;\n",
       "    }\n",
       "\n",
       "    .dataframe tbody tr th {\n",
       "        vertical-align: top;\n",
       "    }\n",
       "\n",
       "    .dataframe thead th {\n",
       "        text-align: right;\n",
       "    }\n",
       "</style>\n",
       "<table border=\"1\" class=\"dataframe\">\n",
       "  <thead>\n",
       "    <tr style=\"text-align: right;\">\n",
       "      <th></th>\n",
       "      <th>C_ID</th>\n",
       "      <th>CUSTOMER_NAME</th>\n",
       "      <th>GLOBAL_PARENT_ACCOUNT</th>\n",
       "      <th>REGION</th>\n",
       "      <th>GLOBAL_LOCAL_ENTITY</th>\n",
       "      <th>PRODUCT_NAME</th>\n",
       "      <th>SUM_ORDER_VALUE</th>\n",
       "      <th>COUNT_DISTINCT_ORDER_ID</th>\n",
       "      <th>SUM_ORDER_QTY</th>\n",
       "      <th>COUNT_DISTINCT_SR_ID</th>\n",
       "      <th>COUNT_DISTINCT_PROD_ID</th>\n",
       "      <th>COUNT_DISTINCT_R_ORDER_ID</th>\n",
       "      <th>SUM_SURVEY_SCORE</th>\n",
       "    </tr>\n",
       "  </thead>\n",
       "  <tbody>\n",
       "    <tr>\n",
       "      <th>0</th>\n",
       "      <td>CUST-10109</td>\n",
       "      <td>Johnston Inc</td>\n",
       "      <td>Mendoza-Singleton Holdings</td>\n",
       "      <td>Middle East</td>\n",
       "      <td>Local</td>\n",
       "      <td>NetConnect</td>\n",
       "      <td>27916.0</td>\n",
       "      <td>4</td>\n",
       "      <td>28.0</td>\n",
       "      <td>4</td>\n",
       "      <td>4</td>\n",
       "      <td>4</td>\n",
       "      <td>10</td>\n",
       "    </tr>\n",
       "    <tr>\n",
       "      <th>1</th>\n",
       "      <td>CUST-10136</td>\n",
       "      <td>Freeman-Hunt</td>\n",
       "      <td>Stout Holdings</td>\n",
       "      <td>North America</td>\n",
       "      <td>Global</td>\n",
       "      <td>Insight360</td>\n",
       "      <td>57350.0</td>\n",
       "      <td>4</td>\n",
       "      <td>95.0</td>\n",
       "      <td>4</td>\n",
       "      <td>4</td>\n",
       "      <td>4</td>\n",
       "      <td>24</td>\n",
       "    </tr>\n",
       "    <tr>\n",
       "      <th>2</th>\n",
       "      <td>CUST-10791</td>\n",
       "      <td>Hobbs, Carlson and Hughes</td>\n",
       "      <td>Baker Holdings</td>\n",
       "      <td>APAC</td>\n",
       "      <td>Local</td>\n",
       "      <td>DataSphere</td>\n",
       "      <td>29685.0</td>\n",
       "      <td>2</td>\n",
       "      <td>57.0</td>\n",
       "      <td>2</td>\n",
       "      <td>2</td>\n",
       "      <td>2</td>\n",
       "      <td>0</td>\n",
       "    </tr>\n",
       "    <tr>\n",
       "      <th>3</th>\n",
       "      <td>CUST-10293</td>\n",
       "      <td>Johnson, Harrison and Farrell</td>\n",
       "      <td>None</td>\n",
       "      <td>None</td>\n",
       "      <td>None</td>\n",
       "      <td>CloudEdge</td>\n",
       "      <td>13315.0</td>\n",
       "      <td>1</td>\n",
       "      <td>10.0</td>\n",
       "      <td>1</td>\n",
       "      <td>1</td>\n",
       "      <td>1</td>\n",
       "      <td>8</td>\n",
       "    </tr>\n",
       "    <tr>\n",
       "      <th>4</th>\n",
       "      <td>CUST-10658</td>\n",
       "      <td>Hill, Brown and Jackson</td>\n",
       "      <td>None</td>\n",
       "      <td>None</td>\n",
       "      <td>None</td>\n",
       "      <td>CloudEdge</td>\n",
       "      <td>200648.0</td>\n",
       "      <td>14</td>\n",
       "      <td>344.0</td>\n",
       "      <td>14</td>\n",
       "      <td>14</td>\n",
       "      <td>14</td>\n",
       "      <td>35</td>\n",
       "    </tr>\n",
       "    <tr>\n",
       "      <th>...</th>\n",
       "      <td>...</td>\n",
       "      <td>...</td>\n",
       "      <td>...</td>\n",
       "      <td>...</td>\n",
       "      <td>...</td>\n",
       "      <td>...</td>\n",
       "      <td>...</td>\n",
       "      <td>...</td>\n",
       "      <td>...</td>\n",
       "      <td>...</td>\n",
       "      <td>...</td>\n",
       "      <td>...</td>\n",
       "      <td>...</td>\n",
       "    </tr>\n",
       "    <tr>\n",
       "      <th>1084</th>\n",
       "      <td>CUST-10082</td>\n",
       "      <td>Vargas, Smith and Walker</td>\n",
       "      <td>Rodriguez Holdings</td>\n",
       "      <td>North America</td>\n",
       "      <td>Global</td>\n",
       "      <td>None</td>\n",
       "      <td>NaN</td>\n",
       "      <td>0</td>\n",
       "      <td>NaN</td>\n",
       "      <td>0</td>\n",
       "      <td>0</td>\n",
       "      <td>0</td>\n",
       "      <td>19</td>\n",
       "    </tr>\n",
       "    <tr>\n",
       "      <th>1085</th>\n",
       "      <td>CUST-10057</td>\n",
       "      <td>Kemp Inc</td>\n",
       "      <td>Williams, Holdings</td>\n",
       "      <td>North America</td>\n",
       "      <td>Global</td>\n",
       "      <td>None</td>\n",
       "      <td>NaN</td>\n",
       "      <td>0</td>\n",
       "      <td>NaN</td>\n",
       "      <td>0</td>\n",
       "      <td>0</td>\n",
       "      <td>0</td>\n",
       "      <td>6</td>\n",
       "    </tr>\n",
       "    <tr>\n",
       "      <th>1086</th>\n",
       "      <td>CUST-10075</td>\n",
       "      <td>Terry, Robertson and Pruitt</td>\n",
       "      <td>Ibarra Holdings</td>\n",
       "      <td>APAC</td>\n",
       "      <td>Global</td>\n",
       "      <td>None</td>\n",
       "      <td>NaN</td>\n",
       "      <td>0</td>\n",
       "      <td>NaN</td>\n",
       "      <td>0</td>\n",
       "      <td>0</td>\n",
       "      <td>0</td>\n",
       "      <td>6</td>\n",
       "    </tr>\n",
       "    <tr>\n",
       "      <th>1087</th>\n",
       "      <td>CUST-10714</td>\n",
       "      <td>Vaughan, Erickson and Navarro</td>\n",
       "      <td>West-Day Holdings</td>\n",
       "      <td>North America</td>\n",
       "      <td>Global</td>\n",
       "      <td>None</td>\n",
       "      <td>NaN</td>\n",
       "      <td>0</td>\n",
       "      <td>NaN</td>\n",
       "      <td>0</td>\n",
       "      <td>0</td>\n",
       "      <td>0</td>\n",
       "      <td>3</td>\n",
       "    </tr>\n",
       "    <tr>\n",
       "      <th>1088</th>\n",
       "      <td>CUST-10851</td>\n",
       "      <td>Molina Ltd</td>\n",
       "      <td>None</td>\n",
       "      <td>None</td>\n",
       "      <td>None</td>\n",
       "      <td>None</td>\n",
       "      <td>NaN</td>\n",
       "      <td>0</td>\n",
       "      <td>NaN</td>\n",
       "      <td>0</td>\n",
       "      <td>0</td>\n",
       "      <td>0</td>\n",
       "      <td>1</td>\n",
       "    </tr>\n",
       "  </tbody>\n",
       "</table>\n",
       "<p>1089 rows × 13 columns</p>\n",
       "</div>"
      ],
      "text/plain": [
       "            C_ID                  CUSTOMER_NAME       GLOBAL_PARENT_ACCOUNT  \\\n",
       "0     CUST-10109                   Johnston Inc  Mendoza-Singleton Holdings   \n",
       "1     CUST-10136                   Freeman-Hunt              Stout Holdings   \n",
       "2     CUST-10791      Hobbs, Carlson and Hughes              Baker Holdings   \n",
       "3     CUST-10293  Johnson, Harrison and Farrell                        None   \n",
       "4     CUST-10658        Hill, Brown and Jackson                        None   \n",
       "...          ...                            ...                         ...   \n",
       "1084  CUST-10082       Vargas, Smith and Walker          Rodriguez Holdings   \n",
       "1085  CUST-10057                       Kemp Inc          Williams, Holdings   \n",
       "1086  CUST-10075    Terry, Robertson and Pruitt             Ibarra Holdings   \n",
       "1087  CUST-10714  Vaughan, Erickson and Navarro           West-Day Holdings   \n",
       "1088  CUST-10851                     Molina Ltd                        None   \n",
       "\n",
       "             REGION GLOBAL_LOCAL_ENTITY PRODUCT_NAME  SUM_ORDER_VALUE  \\\n",
       "0       Middle East               Local   NetConnect          27916.0   \n",
       "1     North America              Global   Insight360          57350.0   \n",
       "2              APAC               Local   DataSphere          29685.0   \n",
       "3              None                None    CloudEdge          13315.0   \n",
       "4              None                None    CloudEdge         200648.0   \n",
       "...             ...                 ...          ...              ...   \n",
       "1084  North America              Global         None              NaN   \n",
       "1085  North America              Global         None              NaN   \n",
       "1086           APAC              Global         None              NaN   \n",
       "1087  North America              Global         None              NaN   \n",
       "1088           None                None         None              NaN   \n",
       "\n",
       "      COUNT_DISTINCT_ORDER_ID  SUM_ORDER_QTY  COUNT_DISTINCT_SR_ID  \\\n",
       "0                           4           28.0                     4   \n",
       "1                           4           95.0                     4   \n",
       "2                           2           57.0                     2   \n",
       "3                           1           10.0                     1   \n",
       "4                          14          344.0                    14   \n",
       "...                       ...            ...                   ...   \n",
       "1084                        0            NaN                     0   \n",
       "1085                        0            NaN                     0   \n",
       "1086                        0            NaN                     0   \n",
       "1087                        0            NaN                     0   \n",
       "1088                        0            NaN                     0   \n",
       "\n",
       "      COUNT_DISTINCT_PROD_ID  COUNT_DISTINCT_R_ORDER_ID  SUM_SURVEY_SCORE  \n",
       "0                          4                          4                10  \n",
       "1                          4                          4                24  \n",
       "2                          2                          2                 0  \n",
       "3                          1                          1                 8  \n",
       "4                         14                         14                35  \n",
       "...                      ...                        ...               ...  \n",
       "1084                       0                          0                19  \n",
       "1085                       0                          0                 6  \n",
       "1086                       0                          0                 6  \n",
       "1087                       0                          0                 3  \n",
       "1088                       0                          0                 1  \n",
       "\n",
       "[1089 rows x 13 columns]"
      ]
     },
     "execution_count": 10,
     "metadata": {},
     "output_type": "execute_result"
    }
   ],
   "source": [
    "from intugle import DataProduct\n",
    "\n",
    "# Create a DataProduct\n",
    "dp = DataProduct()\n",
    "\n",
    "# Generate the data product\n",
    "data_product = dp.build(data_product_config)\n",
    "\n",
    "data_product.to_df()"
   ]
  },
  {
   "cell_type": "markdown",
   "id": "e1725529-837a-4b33-8cb8-1028224047df",
   "metadata": {
    "name": "cell26"
   },
   "source": [
    "The `build` function returns a `DataSet` object. You can also view the generated SQL query used for creating the data product:"
   ]
  },
  {
   "cell_type": "code",
   "execution_count": 11,
   "id": "f8811d37-69af-463c-b859-b75ca38d315f",
   "metadata": {
    "language": "python",
    "name": "cell27"
   },
   "outputs": [
    {
     "data": {
      "text/plain": [
       "'SELECT \"CUSTOMERS\".\"C_ID\" as c_id, \"CUSTOMERS\".\"CUSTOMER_NAME\" as customer_name, \"CUSTOMER_HIERARCHY\".\"\"global / parent account\"\" as global_parent_account, \"CUSTOMER_HIERARCHY\".\"REGION\" as region, \"CUSTOMER_HIERARCHY\".\"\"global / local entity\"\" as global_local_entity, \"PRODUCTS\".\"PRODUCT_NAME\" as product_name, sum(\"ORDERS\".\"\"order value ($)\"\") as sum_order_value, count(\"ORDERS\".\"ORDER_ID\") as count_distinct_order_id, sum(\"ORDERS\".\"ORDER_QTY\") as sum_order_qty, count(\"SERVICE_REQUESTS\".\"SR_ID\") as count_distinct_sr_id, count(\"SERVICE_REQUESTS\".\"PROD_ID\") as count_distinct_prod_id, count(\"RETURNS\".\"R_ORDER_ID\") as count_distinct_r_order_id, sum(\"NPS_SURVEY\".\"SURVEY_SCORE\") as sum_survey_score FROM NPS_SURVEY LEFT JOIN CUSTOMERS ON \"CUSTOMERS\".\"C_ID\" = \"NPS_SURVEY\".\"CUSTOMER_ID\" LEFT JOIN CUSTOMER_HIERARCHY ON \"CUSTOMER_HIERARCHY\".\"PARTY_ID\" = \"CUSTOMERS\".\"C_ID\" LEFT JOIN CAMPAIGNS ON \"CAMPAIGNS\".\"PROSPECT_ID\" = \"CUSTOMERS\".\"C_ID\" LEFT JOIN PRODUCTS ON \"CAMPAIGNS\".\"PROD_ID\" = \"PRODUCTS\".\"PRODUCT_ID\" LEFT JOIN RETURNS ON \"PRODUCTS\".\"PRODUCT_ID\" = \"RETURNS\".\"PRODUCT_ID\" LEFT JOIN SERVICE_REQUESTS ON \"RETURNS\".\"SR_ID\" = \"SERVICE_REQUESTS\".\"SR_ID\" LEFT JOIN ORDERS ON \"ORDERS\".\"ORDER_ID\" = \"SERVICE_REQUESTS\".\"SALES_ORD_ID\" GROUP BY \"CUSTOMERS\".\"C_ID\" , \"CUSTOMERS\".\"CUSTOMER_NAME\" , \"CUSTOMER_HIERARCHY\".\"\"global / parent account\"\" , \"CUSTOMER_HIERARCHY\".\"REGION\" , \"CUSTOMER_HIERARCHY\".\"\"global / local entity\"\" , \"PRODUCTS\".\"PRODUCT_NAME\"'"
      ]
     },
     "execution_count": 11,
     "metadata": {},
     "output_type": "execute_result"
    }
   ],
   "source": [
    "# The generated SQL query\n",
    "data_product.sql_query"
   ]
  },
  {
   "cell_type": "markdown",
   "id": "71bcd971-bec8-4cca-8df1-ab196e0b1c07",
   "metadata": {
    "collapsed": false,
    "name": "cell36"
   },
   "source": [
    "### Enriching the Data Product\n",
    "\n",
    "The `data_product` is in itself a DataSet object. Hence we can run generate glossaries for it as well. "
   ]
  },
  {
   "cell_type": "code",
   "execution_count": 12,
   "id": "b58a2a8e-90a5-4ec0-8db3-7f7b727f8f26",
   "metadata": {
    "language": "python",
    "name": "cell28"
   },
   "outputs": [
    {
     "name": "stderr",
     "output_type": "stream",
     "text": [
      "/home/raphael/intugle/data-tools/.venv/lib/python3.12/site-packages/numpy/_core/fromnumeric.py:3859: RuntimeWarning: Mean of empty slice.\n",
      "  return _methods._mean(a, axis=axis, dtype=dtype,\n",
      "/home/raphael/intugle/data-tools/.venv/lib/python3.12/site-packages/numpy/_core/_methods.py:144: RuntimeWarning: invalid value encountered in scalar divide\n",
      "  ret = ret.dtype.type(ret / rcount)\n",
      "100%|██████████| 13/13 [00:06<00:00,  1.97it/s]\n",
      "100%|██████████| 13/13 [00:17<00:00,  1.33s/it]\n"
     ]
    },
    {
     "data": {
      "text/html": [
       "<div>\n",
       "<style scoped>\n",
       "    .dataframe tbody tr th:only-of-type {\n",
       "        vertical-align: middle;\n",
       "    }\n",
       "\n",
       "    .dataframe tbody tr th {\n",
       "        vertical-align: top;\n",
       "    }\n",
       "\n",
       "    .dataframe thead th {\n",
       "        text-align: right;\n",
       "    }\n",
       "</style>\n",
       "<table border=\"1\" class=\"dataframe\">\n",
       "  <thead>\n",
       "    <tr style=\"text-align: right;\">\n",
       "      <th></th>\n",
       "      <th>column_name</th>\n",
       "      <th>table_name</th>\n",
       "      <th>business_name</th>\n",
       "      <th>datatype_l1</th>\n",
       "      <th>datatype_l2</th>\n",
       "      <th>business_glossary</th>\n",
       "      <th>business_tags</th>\n",
       "      <th>count</th>\n",
       "      <th>null_count</th>\n",
       "      <th>distinct_count</th>\n",
       "      <th>uniqueness</th>\n",
       "      <th>completeness</th>\n",
       "      <th>sample_data</th>\n",
       "    </tr>\n",
       "  </thead>\n",
       "  <tbody>\n",
       "    <tr>\n",
       "      <th>0</th>\n",
       "      <td>C_ID</td>\n",
       "      <td>customer_kpi_summary</td>\n",
       "      <td>c_id</td>\n",
       "      <td>alphanumeric</td>\n",
       "      <td>L2OutputTypes.dimension</td>\n",
       "      <td>Identifies individual customers for tracking p...</td>\n",
       "      <td>[Customer Identifier, Customer Record Tracking...</td>\n",
       "      <td>1089</td>\n",
       "      <td>0</td>\n",
       "      <td>615</td>\n",
       "      <td>0.564738</td>\n",
       "      <td>1.000000</td>\n",
       "      <td>[CUST-10196, CUST-10362, CUST-10696, CUST-1044...</td>\n",
       "    </tr>\n",
       "    <tr>\n",
       "      <th>1</th>\n",
       "      <td>CUSTOMER_NAME</td>\n",
       "      <td>customer_kpi_summary</td>\n",
       "      <td>customer_name</td>\n",
       "      <td>close_ended_text</td>\n",
       "      <td>L2OutputTypes.dimension</td>\n",
       "      <td>Identifies the name of the organization or ent...</td>\n",
       "      <td>[Customer Identification, Business Entity Name...</td>\n",
       "      <td>1089</td>\n",
       "      <td>0</td>\n",
       "      <td>599</td>\n",
       "      <td>0.550046</td>\n",
       "      <td>1.000000</td>\n",
       "      <td>[Hampton, Mcclain and Arroyo, Robinson-Warner,...</td>\n",
       "    </tr>\n",
       "    <tr>\n",
       "      <th>2</th>\n",
       "      <td>GLOBAL_PARENT_ACCOUNT</td>\n",
       "      <td>customer_kpi_summary</td>\n",
       "      <td>global_parent_account</td>\n",
       "      <td>close_ended_text</td>\n",
       "      <td>L2OutputTypes.dimension</td>\n",
       "      <td>Identifies the overarching corporate entity as...</td>\n",
       "      <td>[Global Account Hierarchy, Parent Company Iden...</td>\n",
       "      <td>1089</td>\n",
       "      <td>299</td>\n",
       "      <td>410</td>\n",
       "      <td>0.376492</td>\n",
       "      <td>0.725436</td>\n",
       "      <td>[Palmer-Barrett Holdings, Bonilla, Holdings, W...</td>\n",
       "    </tr>\n",
       "    <tr>\n",
       "      <th>3</th>\n",
       "      <td>REGION</td>\n",
       "      <td>customer_kpi_summary</td>\n",
       "      <td>region</td>\n",
       "      <td>close_ended_text</td>\n",
       "      <td>L2OutputTypes.dimension</td>\n",
       "      <td>Geographical area associated with customer per...</td>\n",
       "      <td>[Geographical Region, Market Segmentation, Cus...</td>\n",
       "      <td>1089</td>\n",
       "      <td>299</td>\n",
       "      <td>6</td>\n",
       "      <td>0.005510</td>\n",
       "      <td>0.725436</td>\n",
       "      <td>[APAC, North America, Middle East, LATAM, None...</td>\n",
       "    </tr>\n",
       "    <tr>\n",
       "      <th>4</th>\n",
       "      <td>GLOBAL_LOCAL_ENTITY</td>\n",
       "      <td>customer_kpi_summary</td>\n",
       "      <td>global_local_entity</td>\n",
       "      <td>close_ended_text</td>\n",
       "      <td>L2OutputTypes.dimension</td>\n",
       "      <td>Indicates the scope or operational focus of a ...</td>\n",
       "      <td>[Entity Scope, Operational Coverage, Geographi...</td>\n",
       "      <td>1089</td>\n",
       "      <td>299</td>\n",
       "      <td>3</td>\n",
       "      <td>0.002755</td>\n",
       "      <td>0.725436</td>\n",
       "      <td>[None, Local, Global]</td>\n",
       "    </tr>\n",
       "    <tr>\n",
       "      <th>5</th>\n",
       "      <td>PRODUCT_NAME</td>\n",
       "      <td>customer_kpi_summary</td>\n",
       "      <td>product_name</td>\n",
       "      <td>close_ended_text</td>\n",
       "      <td>L2OutputTypes.dimension</td>\n",
       "      <td>Name of the product associated with customer p...</td>\n",
       "      <td>[Product Portfolio, Customer Offering, Technol...</td>\n",
       "      <td>1089</td>\n",
       "      <td>329</td>\n",
       "      <td>6</td>\n",
       "      <td>0.005510</td>\n",
       "      <td>0.697888</td>\n",
       "      <td>[Insight360, NetConnect, CloudEdge, CoreAnalyt...</td>\n",
       "    </tr>\n",
       "    <tr>\n",
       "      <th>6</th>\n",
       "      <td>SUM_ORDER_VALUE</td>\n",
       "      <td>customer_kpi_summary</td>\n",
       "      <td>sum_order_value</td>\n",
       "      <td>integer</td>\n",
       "      <td>L2OutputTypes.measure</td>\n",
       "      <td>Aggregated monetary value of all orders associ...</td>\n",
       "      <td>[Customer Order Value, Revenue Aggregation, Sa...</td>\n",
       "      <td>1089</td>\n",
       "      <td>562</td>\n",
       "      <td>343</td>\n",
       "      <td>0.314968</td>\n",
       "      <td>0.483930</td>\n",
       "      <td>[13899, 45489, 44964, 10586, 5986, 51409, 4012...</td>\n",
       "    </tr>\n",
       "    <tr>\n",
       "      <th>7</th>\n",
       "      <td>COUNT_DISTINCT_ORDER_ID</td>\n",
       "      <td>customer_kpi_summary</td>\n",
       "      <td>count_distinct_order_id</td>\n",
       "      <td>integer</td>\n",
       "      <td>L2OutputTypes.measure</td>\n",
       "      <td>Tracks the total number of unique orders assoc...</td>\n",
       "      <td>[Customer Order Metrics, Distinct Order Tracki...</td>\n",
       "      <td>1089</td>\n",
       "      <td>0</td>\n",
       "      <td>14</td>\n",
       "      <td>0.012856</td>\n",
       "      <td>1.000000</td>\n",
       "      <td>[2, 5, 3, 8, 16, 12, 4, 0, 6, 9, 1, 20, 10, 14]</td>\n",
       "    </tr>\n",
       "    <tr>\n",
       "      <th>8</th>\n",
       "      <td>SUM_ORDER_QTY</td>\n",
       "      <td>customer_kpi_summary</td>\n",
       "      <td>sum_order_qty</td>\n",
       "      <td>integer</td>\n",
       "      <td>L2OutputTypes.measure</td>\n",
       "      <td>Tracks the total quantity of items ordered by ...</td>\n",
       "      <td>[Customer Order Volume, Order Quantity Aggrega...</td>\n",
       "      <td>1089</td>\n",
       "      <td>562</td>\n",
       "      <td>139</td>\n",
       "      <td>0.127640</td>\n",
       "      <td>0.483930</td>\n",
       "      <td>[150, 9, 81, 164, 40, 147, 21, 7, 190, 176, 2,...</td>\n",
       "    </tr>\n",
       "    <tr>\n",
       "      <th>9</th>\n",
       "      <td>COUNT_DISTINCT_SR_ID</td>\n",
       "      <td>customer_kpi_summary</td>\n",
       "      <td>count_distinct_sr_id</td>\n",
       "      <td>integer</td>\n",
       "      <td>L2OutputTypes.measure</td>\n",
       "      <td>Tracks the number of unique service request id...</td>\n",
       "      <td>[Customer Service Requests, Unique Identifiers...</td>\n",
       "      <td>1089</td>\n",
       "      <td>0</td>\n",
       "      <td>14</td>\n",
       "      <td>0.012856</td>\n",
       "      <td>1.000000</td>\n",
       "      <td>[9, 6, 10, 3, 1, 12, 2, 20, 4, 5, 0, 16, 14, 8]</td>\n",
       "    </tr>\n",
       "    <tr>\n",
       "      <th>10</th>\n",
       "      <td>COUNT_DISTINCT_PROD_ID</td>\n",
       "      <td>customer_kpi_summary</td>\n",
       "      <td>count_distinct_prod_id</td>\n",
       "      <td>integer</td>\n",
       "      <td>L2OutputTypes.measure</td>\n",
       "      <td>Tracks the number of unique products associate...</td>\n",
       "      <td>[Unique Products Purchased, Customer Product D...</td>\n",
       "      <td>1089</td>\n",
       "      <td>0</td>\n",
       "      <td>14</td>\n",
       "      <td>0.012856</td>\n",
       "      <td>1.000000</td>\n",
       "      <td>[8, 16, 12, 20, 0, 6, 3, 10, 4, 14, 9, 1, 5, 2]</td>\n",
       "    </tr>\n",
       "    <tr>\n",
       "      <th>11</th>\n",
       "      <td>COUNT_DISTINCT_R_ORDER_ID</td>\n",
       "      <td>customer_kpi_summary</td>\n",
       "      <td>count_distinct_r_order_id</td>\n",
       "      <td>integer</td>\n",
       "      <td>L2OutputTypes.measure</td>\n",
       "      <td>Tracks the number of unique orders associated ...</td>\n",
       "      <td>[Customer Order Metrics, Distinct Order Count,...</td>\n",
       "      <td>1089</td>\n",
       "      <td>0</td>\n",
       "      <td>14</td>\n",
       "      <td>0.012856</td>\n",
       "      <td>1.000000</td>\n",
       "      <td>[16, 3, 4, 10, 9, 6, 8, 0, 14, 5, 20, 2, 1, 12]</td>\n",
       "    </tr>\n",
       "    <tr>\n",
       "      <th>12</th>\n",
       "      <td>SUM_SURVEY_SCORE</td>\n",
       "      <td>customer_kpi_summary</td>\n",
       "      <td>sum_survey_score</td>\n",
       "      <td>integer</td>\n",
       "      <td>L2OutputTypes.measure</td>\n",
       "      <td>Aggregates the total score from customer surve...</td>\n",
       "      <td>[Customer Satisfaction, Survey Performance Met...</td>\n",
       "      <td>1089</td>\n",
       "      <td>0</td>\n",
       "      <td>53</td>\n",
       "      <td>0.048669</td>\n",
       "      <td>1.000000</td>\n",
       "      <td>[12, 17, 48, 7, 15, 34, 26, 23, 95, 38, 8, 36,...</td>\n",
       "    </tr>\n",
       "  </tbody>\n",
       "</table>\n",
       "</div>"
      ],
      "text/plain": [
       "                  column_name            table_name  \\\n",
       "0                        C_ID  customer_kpi_summary   \n",
       "1               CUSTOMER_NAME  customer_kpi_summary   \n",
       "2       GLOBAL_PARENT_ACCOUNT  customer_kpi_summary   \n",
       "3                      REGION  customer_kpi_summary   \n",
       "4         GLOBAL_LOCAL_ENTITY  customer_kpi_summary   \n",
       "5                PRODUCT_NAME  customer_kpi_summary   \n",
       "6             SUM_ORDER_VALUE  customer_kpi_summary   \n",
       "7     COUNT_DISTINCT_ORDER_ID  customer_kpi_summary   \n",
       "8               SUM_ORDER_QTY  customer_kpi_summary   \n",
       "9        COUNT_DISTINCT_SR_ID  customer_kpi_summary   \n",
       "10     COUNT_DISTINCT_PROD_ID  customer_kpi_summary   \n",
       "11  COUNT_DISTINCT_R_ORDER_ID  customer_kpi_summary   \n",
       "12           SUM_SURVEY_SCORE  customer_kpi_summary   \n",
       "\n",
       "                business_name       datatype_l1              datatype_l2  \\\n",
       "0                        c_id      alphanumeric  L2OutputTypes.dimension   \n",
       "1               customer_name  close_ended_text  L2OutputTypes.dimension   \n",
       "2       global_parent_account  close_ended_text  L2OutputTypes.dimension   \n",
       "3                      region  close_ended_text  L2OutputTypes.dimension   \n",
       "4         global_local_entity  close_ended_text  L2OutputTypes.dimension   \n",
       "5                product_name  close_ended_text  L2OutputTypes.dimension   \n",
       "6             sum_order_value           integer    L2OutputTypes.measure   \n",
       "7     count_distinct_order_id           integer    L2OutputTypes.measure   \n",
       "8               sum_order_qty           integer    L2OutputTypes.measure   \n",
       "9        count_distinct_sr_id           integer    L2OutputTypes.measure   \n",
       "10     count_distinct_prod_id           integer    L2OutputTypes.measure   \n",
       "11  count_distinct_r_order_id           integer    L2OutputTypes.measure   \n",
       "12           sum_survey_score           integer    L2OutputTypes.measure   \n",
       "\n",
       "                                    business_glossary  \\\n",
       "0   Identifies individual customers for tracking p...   \n",
       "1   Identifies the name of the organization or ent...   \n",
       "2   Identifies the overarching corporate entity as...   \n",
       "3   Geographical area associated with customer per...   \n",
       "4   Indicates the scope or operational focus of a ...   \n",
       "5   Name of the product associated with customer p...   \n",
       "6   Aggregated monetary value of all orders associ...   \n",
       "7   Tracks the total number of unique orders assoc...   \n",
       "8   Tracks the total quantity of items ordered by ...   \n",
       "9   Tracks the number of unique service request id...   \n",
       "10  Tracks the number of unique products associate...   \n",
       "11  Tracks the number of unique orders associated ...   \n",
       "12  Aggregates the total score from customer surve...   \n",
       "\n",
       "                                        business_tags  count  null_count  \\\n",
       "0   [Customer Identifier, Customer Record Tracking...   1089           0   \n",
       "1   [Customer Identification, Business Entity Name...   1089           0   \n",
       "2   [Global Account Hierarchy, Parent Company Iden...   1089         299   \n",
       "3   [Geographical Region, Market Segmentation, Cus...   1089         299   \n",
       "4   [Entity Scope, Operational Coverage, Geographi...   1089         299   \n",
       "5   [Product Portfolio, Customer Offering, Technol...   1089         329   \n",
       "6   [Customer Order Value, Revenue Aggregation, Sa...   1089         562   \n",
       "7   [Customer Order Metrics, Distinct Order Tracki...   1089           0   \n",
       "8   [Customer Order Volume, Order Quantity Aggrega...   1089         562   \n",
       "9   [Customer Service Requests, Unique Identifiers...   1089           0   \n",
       "10  [Unique Products Purchased, Customer Product D...   1089           0   \n",
       "11  [Customer Order Metrics, Distinct Order Count,...   1089           0   \n",
       "12  [Customer Satisfaction, Survey Performance Met...   1089           0   \n",
       "\n",
       "    distinct_count  uniqueness  completeness  \\\n",
       "0              615    0.564738      1.000000   \n",
       "1              599    0.550046      1.000000   \n",
       "2              410    0.376492      0.725436   \n",
       "3                6    0.005510      0.725436   \n",
       "4                3    0.002755      0.725436   \n",
       "5                6    0.005510      0.697888   \n",
       "6              343    0.314968      0.483930   \n",
       "7               14    0.012856      1.000000   \n",
       "8              139    0.127640      0.483930   \n",
       "9               14    0.012856      1.000000   \n",
       "10              14    0.012856      1.000000   \n",
       "11              14    0.012856      1.000000   \n",
       "12              53    0.048669      1.000000   \n",
       "\n",
       "                                          sample_data  \n",
       "0   [CUST-10196, CUST-10362, CUST-10696, CUST-1044...  \n",
       "1   [Hampton, Mcclain and Arroyo, Robinson-Warner,...  \n",
       "2   [Palmer-Barrett Holdings, Bonilla, Holdings, W...  \n",
       "3   [APAC, North America, Middle East, LATAM, None...  \n",
       "4                               [None, Local, Global]  \n",
       "5   [Insight360, NetConnect, CloudEdge, CoreAnalyt...  \n",
       "6   [13899, 45489, 44964, 10586, 5986, 51409, 4012...  \n",
       "7     [2, 5, 3, 8, 16, 12, 4, 0, 6, 9, 1, 20, 10, 14]  \n",
       "8   [150, 9, 81, 164, 40, 147, 21, 7, 190, 176, 2,...  \n",
       "9     [9, 6, 10, 3, 1, 12, 2, 20, 4, 5, 0, 16, 14, 8]  \n",
       "10    [8, 16, 12, 20, 0, 6, 3, 10, 4, 14, 9, 1, 5, 2]  \n",
       "11    [16, 3, 4, 10, 9, 6, 8, 0, 14, 5, 20, 2, 1, 12]  \n",
       "12  [12, 17, 48, 7, 15, 34, 26, 23, 95, 38, 8, 36,...  "
      ]
     },
     "execution_count": 12,
     "metadata": {},
     "output_type": "execute_result"
    }
   ],
   "source": [
    "data_product.run(domain=\"Technology Manufacturing Company\")\n",
    "data_product.profiling_df"
   ]
  },
  {
   "cell_type": "markdown",
   "id": "f9e68b00-9c2b-4c46-ae23-85176279a847",
   "metadata": {
    "collapsed": false,
    "name": "cell35"
   },
   "source": [
    "### Syncing with Snowflake Semantic View\n",
    "Lets sync the data product with the Snowflake Semantic View as well"
   ]
  },
  {
   "cell_type": "code",
   "execution_count": 13,
   "id": "88bc9367-6266-4b94-af0b-97950249e0c1",
   "metadata": {
    "language": "python",
    "name": "cell18"
   },
   "outputs": [
    {
     "data": {
      "text/html": [
       "<pre style=\"white-space:pre;overflow-x:auto;line-height:normal;font-family:Menlo,'DejaVu Sans Mono',consolas,'Courier New',monospace\"><span style=\"color: #808000; text-decoration-color: #808000\">Starting deployment to </span><span style=\"color: #008000; text-decoration-color: #008000\">'snowflake'</span><span style=\"color: #808000; text-decoration-color: #808000\"> based on project YAML files...</span>\n",
       "</pre>\n"
      ],
      "text/plain": [
       "\u001b[33mStarting deployment to \u001b[0m\u001b[32m'snowflake'\u001b[0m\u001b[33m based on project YAML files\u001b[0m\u001b[33m...\u001b[0m\n"
      ]
     },
     "metadata": {},
     "output_type": "display_data"
    },
    {
     "name": "stdout",
     "output_type": "stream",
     "text": [
      "Found active Snowpark session. Using it for connection.\n",
      "Syncing metadata to Snowflake tables...\n",
      "Metadata sync complete.\n",
      "Deploying semantic model view 'intugle_semantic_view' to Snowflake...\n",
      "Semantic model view 'intugle_semantic_view' deployed successfully.\n"
     ]
    },
    {
     "data": {
      "text/html": [
       "<pre style=\"white-space:pre;overflow-x:auto;line-height:normal;font-family:Menlo,'DejaVu Sans Mono',consolas,'Courier New',monospace\"><span style=\"color: #008000; text-decoration-color: #008000; font-weight: bold\">Successfully deployed semantic model to </span><span style=\"color: #008000; text-decoration-color: #008000\">'snowflake'</span><span style=\"color: #008000; text-decoration-color: #008000; font-weight: bold\">.</span>\n",
       "</pre>\n"
      ],
      "text/plain": [
       "\u001b[1;32mSuccessfully deployed semantic model to \u001b[0m\u001b[32m'snowflake'\u001b[0m\u001b[1;32m.\u001b[0m\n"
      ]
     },
     "metadata": {},
     "output_type": "display_data"
    }
   ],
   "source": [
    "sm.deploy('snowflake')"
   ]
  },
  {
   "cell_type": "markdown",
   "id": "bfb3ee59-34e6-4182-beb6-d320c2933d12",
   "metadata": {
    "collapsed": false,
    "name": "cell30"
   },
   "source": [
    "## Conclusion\n",
    "\n",
    "You've learned how to:\n",
    "\n",
    "*   Configure your LLM provider\n",
    "*   Build a semantic model using the `SemanticModel`.\n",
    "*   Access enriched metadata, business glossaries and visualize the relationships between your tables.\n",
    "*   Generate data products from the semantic layer using the `DataProduct`.\n",
    "*   Sync the semantic model with Snowflake Semantic Views\n",
    "\n",
    "This is just a starting point. This project has many other features to explore. We encourage you to try it with your own data and see how it can help you build a powerful semantic layer."
   ]
  }
 ],
 "metadata": {
  "kernelspec": {
   "display_name": "intugle",
   "language": "python",
   "name": "python3"
  },
  "language_info": {
   "codemirror_mode": {
    "name": "ipython",
    "version": 3
   },
   "file_extension": ".py",
   "mimetype": "text/x-python",
   "name": "python",
   "nbconvert_exporter": "python",
   "pygments_lexer": "ipython3",
   "version": "3.12.3"
  },
  "lastEditStatus": {
   "authorEmail": "RAPHAEL.TONY@INTUGLE.AI",
   "authorId": "9200264168148",
   "authorName": "RAPHAEL.TONY",
   "lastEditTime": 1759433896509,
   "notebookId": "vk6kvtijqawizengiokk",
   "sessionId": "ce6ad5bc-8f6f-4bfd-93a8-bd6841b44952"
  }
 },
 "nbformat": 4,
 "nbformat_minor": 5
}
