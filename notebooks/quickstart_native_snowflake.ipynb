{
 "metadata": {
  "kernelspec": {
   "display_name": "intugle",
   "language": "python",
   "name": "python3"
  },
  "language_info": {
   "codemirror_mode": {
    "name": "ipython",
    "version": 3
   },
   "file_extension": ".py",
   "mimetype": "text/x-python",
   "name": "python",
   "nbconvert_exporter": "python",
   "pygments_lexer": "ipython3",
   "version": "3.12.3"
  },
  "lastEditStatus": {
   "notebookId": "vk73bqovcjrpxfwupz5j",
   "authorId": "9200264168148",
   "authorName": "RAPHAEL.TONY",
   "authorEmail": "RAPHAEL.TONY@INTUGLE.AI",
   "sessionId": "ab2dde1f-cac7-4355-81ef-0b0cc866b0db",
   "lastEditTime": 1759419536254
  }
 },
 "nbformat_minor": 5,
 "nbformat": 4,
 "cells": [
  {
   "cell_type": "markdown",
   "id": "24e7b3d6-6473-4735-8e84-d7b8936ddc85",
   "metadata": {
    "name": "cell1",
    "collapsed": false
   },
   "source": [
    "# Quickstart: Building a GenAI powered Semantic Data Model with Intugle\n",
    "\n",
    "This quickstart shows you how to use Intugle’s open-source library to transform fragmented datasets into a connected semantic model. The semantic model captures profiling, relationships, and business meaning of your data — making it instantly usable for exploration, search, and data product creation.\n",
    "\n",
    "**What is a Semantic Model?**\n",
    "\n",
    "A semantic model is an intelligent knowledge graph of your data. It connects tables, discovers relationships, and enriches them with business glossaries — so both data teams and business users can query with clarity, not complexity.\n",
    "\n",
    "**Who is this for?**\n",
    "\n",
    "*   **Data Engineers & Architects** often spend weeks manually profiling, classifying, and stitching together fragmented data assets. With Intugle, they can automate this process end-to-end, uncovering meaningful links and relationships to instantly generate a connected semantic layer.\n",
    "*   **Data Analysts & Scientists** spend endless hours on data readiness and preparation before they can even start the real analysis. Intugle accelerates this by providing contextual intelligence, automatically generating SQL and reusable data products enriched with relationships and business meaning.\n",
    "*   **Business Analysts & Decision Makers** are slowed down by constant dependence on technical teams for answers. Intugle removes this bottleneck by enabling natural language queries and semantic search, giving them trusted insights on demand.\n",
    "\n",
    "**In this notebook, you will learn how to:**\n",
    "\n",
    "*   **Generate Semantic Model** → The unified layer that transforms fragmented datasets, creating the foundation for connected intelligence.\n",
    "    *   **1.1 Profile and classify data** → Analyze your data sources to understand their structure, data types, and other characteristics.\n",
    "    *   **1.2 Discover links & relationships among data** → Reveal meaningful connections (PK & FK) across fragmented tables.\n",
    "    *   **1.3 Generate a business glossary** → Create business-friendly terms and use them to query data with context.\n",
    "    *   **1.4 Enable Semantic search** → Intelligent search that understands meaning, not just keywords—making data more accessible across both technical and business users.\n",
    "    *   **1.5 Visualize semantic model** → Get access to enriched metadata of the semantic model and visualize your data and relationships.\n",
    "*   **Build Unified Data Products** → Simply pick the attributes across your data tables, and let the toolkit auto-generate queries with all the required joins, transformations, and aggregations using the semantic layer. When executed, these queries produce reusable data products.\n",
    "\n",
    "Before you start, make sure you install the **Intugle Data Tools**:"
   ]
  },
  {
   "cell_type": "code",
   "id": "d43fd52b-f133-4d48-9b1a-26ddc06057a8",
   "metadata": {
    "language": "sql",
    "name": "cell31"
   },
   "outputs": [],
   "source": "CREATE OR REPLACE NETWORK RULE pypi_network_rule\nMODE = EGRESS\nTYPE = HOST_PORT\nVALUE_LIST = ('pypi.org', 'pypi.python.org', 'pythonhosted.org', 'files.pythonhosted.org');\n\nCREATE OR REPLACE NETWORK RULE nltk_network_rule\nMODE = EGRESS\nTYPE = HOST_PORT\nVALUE_LIST = ('raw.githubusercontent.com');\n\nCREATE OR REPLACE NETWORK RULE duckdb_download_rule\nMODE = EGRESS\nTYPE = HOST_PORT\nVALUE_LIST = ('extensions.duckdb.org:80');\n\nCREATE OR REPLACE NETWORK RULE openai_rule\n  MODE = EGRESS\n  TYPE = HOST_PORT\n  VALUE_LIST = ('api.openai.com');\n\n",
   "execution_count": null
  },
  {
   "cell_type": "code",
   "id": "0f6b6c7f-453f-4a5a-a1c9-e922f2023a14",
   "metadata": {
    "language": "sql",
    "name": "cell32"
   },
   "outputs": [],
   "source": "CREATE OR REPLACE EXTERNAL ACCESS INTEGRATION intugle_integration\nALLOWED_NETWORK_RULES = (pypi_network_rule, nltk_network_rule, duckdb_download_rule, openai_rule)\nENABLED = true;\n\n\nGRANT USAGE ON INTEGRATION intugle_integration TO ROLE SNOWFLAKE_LEARNING_ROLE;",
   "execution_count": null
  },
  {
   "cell_type": "code",
   "execution_count": null,
   "id": "6369ad5e-bc65-4217-a2eb-dc6707d13c2e",
   "metadata": {
    "name": "cell2",
    "language": "python",
    "collapsed": true,
    "codeCollapsed": false
   },
   "outputs": [],
   "source": "%pip install intugle[snowflake]"
  },
  {
   "cell_type": "markdown",
   "id": "2edf7147-f1e8-4999-a7b5-fa4bfc46317c",
   "metadata": {
    "name": "cell3",
    "collapsed": false
   },
   "source": "## 1. LLM Configuration\n\nBefore running the project, you need to configure a Large Language Model (LLM). This is used for tasks like generating business glossaries and predicting links between tables. For the semantic search feature, you will also need to set up Qdrant and provide an OpenAI API key. For detailed setup instructions, please refer to the [README.md](README.md) file.\n\nYou can configure the necessary services by setting the following environment variables:\n\n*   `LLM_PROVIDER`: The LLM provider and model to use (e.g., `openai:gpt-3.5-turbo`). The format follows langchain's format for initializing chat models. Checkout how to specify your model [here](https://python.langchain.com/docs/integrations/chat/)\n*   `API_KEY`: Your API key for the LLM provider. The exact name of the variable may vary from provider to provider (e.g., `OPENAI_API_KEY`, `ANTHROPIC_API_KEY`).\n\nHere's an example of how to set these variables in your environment:\n\n```bash\nexport LLM_PROVIDER=\"openai:gpt-3.5-turbo\"\nexport OPENAI_API_KEY=\"your-openai-api-key\"\n```\nAlternatively, you can set them in the notebook like this:"
  },
  {
   "cell_type": "code",
   "execution_count": 1,
   "id": "41c8d0d5-8d0f-41f0-aa6f-8dbde81a62a7",
   "metadata": {
    "name": "cell4",
    "language": "python"
   },
   "outputs": [],
   "source": "import os\nfrom dotenv import load_dotenv\n\n\nos.environ[\"LLM_PROVIDER\"] = \"openai:gpt-3.5-turbo\"\nos.environ[\"OPENAI_API_KEY\"] = \"your-openai-api-key\"  # Replace with your actual key\n\n\n# Load environment variables from .env file\nload_dotenv(override=True)\n\n"
  },
  {
   "cell_type": "markdown",
   "id": "04eda6c3-9d16-45d4-913d-f5e39d9326ed",
   "metadata": {
    "name": "cell5"
   },
   "source": [
    "> Currently the langchain packages for OpenAI, Anthropic and Gemini is installed by default. For additional models, make sure you have the integration packages installed. E.g. you should have langchain-deepseek installed to use a DeepSeek model. You can get these packages here: [LangChain Chat Models](https://python.langchain.com/docs/integrations/chat/)"
   ]
  },
  {
   "cell_type": "markdown",
   "id": "e987be94-2f2a-499a-8649-8dc24c814cdb",
   "metadata": {
    "name": "cell6"
   },
   "source": [
    "## 2. Building the Semantic Model\n",
    "\n",
    "The `SemanticModel` is the entry point for building your semantic layer. It takes a dictionary of datasets as input and performs the following steps:\n",
    "\n",
    "1.  **Data Profiling:** Calculates statistics for each column, such as distinct count, uniqueness, and completeness.\n",
    "2.  **Datatype Identification:** Identifies the data type of each column (e.g., integer, string, datetime).\n",
    "3.  **Key Identification:** Identifies potential primary keys.\n",
    "4.  **Glossary Generation:** Generates a business glossary for each column using an LLM.\n",
    "5.  **Link Prediction:** Predicts the relationships (foreign keys) between tables.\n",
    "\n",
    "Let's start by defining the datasets we want to use. The path shown below can be a local file path or a remote URL."
   ]
  },
  {
   "cell_type": "markdown",
   "id": "2cd9817f-3b0c-4a68-822b-0cb6e3ce5951",
   "metadata": {
    "name": "cell37",
    "collapsed": false
   },
   "source": "> For this demo, we will be using the technology manufacturing dataset which can be found under [sample_data/tech_manufacturing](https://github.com/Intugle/data-tools/blob/main/notebooks/quickstart_native_snowflake.ipynb) in the repo"
  },
  {
   "cell_type": "code",
   "execution_count": 2,
   "id": "a55fa189-8c6c-45b0-a58c-f58bd448985d",
   "metadata": {
    "name": "cell7",
    "language": "python"
   },
   "outputs": [],
   "source": "def generate_config(table_name: str) -> str:\n    \"\"\"Append the base URL to the table name.\"\"\"\n    return {\n        \"identifier\": table_name,\n    }\n\n\ntable_names = \\\n[\n    \"CAMPAIGNS\",\n    \"CAMPAIGN_SURVEY\",\n    \"CUSTOMER_HIERARCHY\",\n    \"CUSTOMERS\",\n    \"DELIVERY_SURVEY\",\n    \"EXPENSE\",\n    \"INSTALL_BASE\",\n    \"INVENTORY\",\n    \"LOGISTICS\",\n    \"NPS_SURVEY\",\n    \"OPPORTUNITY\",\n    \"ORDERS\",\n    \"PROB_STATEMENT_ISSUE\",\n    \"PRODUCT_FEATURE\",\n    \"PRODUCT_HIERARCHY\",\n    \"PRODUCTS\",\n    \"RENEWALS\",\n    \"RETURNS\",\n    \"SERVICE_REQUESTS\",\n    \"WEBSITE\",\n]\n\n\ndatasets = {table: generate_config(table) for table in table_names}"
  },
  {
   "cell_type": "markdown",
   "id": "087b380e-c2d2-447d-96f5-c06911fc9313",
   "metadata": {
    "name": "cell8"
   },
   "source": [
    "Now, let's use the `SemanticModel` to build our semantic layer:\n",
    "\n",
    "> The `domain` parameter helps the LLM generate a more contextual business glossary. It specifies the industry domain that the dataset belongs to (e.g., \"Healthcare\", \"Finance\", \"E-commerce\")."
   ]
  },
  {
   "cell_type": "code",
   "execution_count": 4,
   "id": "934101c8-e125-4e0a-a181-c0110d59ca4d",
   "metadata": {
    "name": "cell9",
    "language": "python"
   },
   "outputs": [
    {
     "name": "stdout",
     "output_type": "stream",
     "text": [
      "Found existing YAML for 'ALLERGIES'. Checking for staleness.\n",
      "ALLERGIES loaded\n",
      "CAREPLANS loaded\n",
      "Found existing YAML for 'CLAIMS'. Checking for staleness.\n",
      "CLAIMS loaded\n",
      "ENCOUNTERS loaded\n",
      "Found existing YAML for 'PATIENTS'. Checking for staleness.\n",
      "PATIENTS loaded\n",
      "PAYERS loaded\n",
      "PAYER_TRANSITIONS loaded\n",
      "PROCEDURES loaded\n",
      "SUPPLIES loaded\n"
     ]
    },
    {
     "data": {
      "text/html": [
       "<pre style=\"white-space:pre;overflow-x:auto;line-height:normal;font-family:Menlo,'DejaVu Sans Mono',consolas,'Courier New',monospace\"><span style=\"color: #808000; text-decoration-color: #808000\">Starting profiling and key identification stage...</span>\n",
       "</pre>\n"
      ],
      "text/plain": [
       "\u001b[33mStarting profiling and key identification stage\u001b[0m\u001b[33m...\u001b[0m\n"
      ]
     },
     "metadata": {},
     "output_type": "display_data"
    },
    {
     "name": "stdout",
     "output_type": "stream",
     "text": [
      "Dataset 'ALLERGIES' already profiled. Skipping.\n"
     ]
    },
    {
     "data": {
      "text/html": [
       "<pre style=\"white-space:pre;overflow-x:auto;line-height:normal;font-family:Menlo,'DejaVu Sans Mono',consolas,'Courier New',monospace\"><span style=\"color: #ffaf00; text-decoration-color: #ffaf00\">Processing dataset: CAREPLANS</span>\n",
       "</pre>\n"
      ],
      "text/plain": [
       "\u001b[38;5;214mProcessing dataset: CAREPLANS\u001b[0m\n"
      ]
     },
     "metadata": {},
     "output_type": "display_data"
    },
    {
     "name": "stderr",
     "output_type": "stream",
     "text": [
      "/home/raphael/intugle/data-tools/.venv/lib/python3.12/site-packages/numpy/_core/fromnumeric.py:3859: RuntimeWarning: Mean of empty slice.\n",
      "  return _methods._mean(a, axis=axis, dtype=dtype,\n",
      "/home/raphael/intugle/data-tools/.venv/lib/python3.12/site-packages/numpy/_core/_methods.py:144: RuntimeWarning: invalid value encountered in scalar divide\n",
      "  ret = ret.dtype.type(ret / rcount)\n",
      "100%|██████████| 9/9 [00:05<00:00,  1.74it/s]\n",
      "[*] CAREPLANS:   0%|          | 0/1 [00:00<?, ?it/s]/home/raphael/intugle/data-tools/src/intugle/core/pipeline/key_identification/ki.py:87: SettingWithCopyWarning: \n",
      "A value is trying to be set on a copy of a slice from a DataFrame\n",
      "\n",
      "See the caveats in the documentation: https://pandas.pydata.org/pandas-docs/stable/user_guide/indexing.html#returning-a-view-versus-a-copy\n",
      "  temp.rename(columns={\"datatype_l1\": \"datatype\"}, inplace=True)\n",
      "[*] CAREPLANS: 100%|██████████| 1/1 [04:03<00:00, 243.27s/it]"
     ]
    },
    {
     "name": "stdout",
     "output_type": "stream",
     "text": [
      "Dataset 'CLAIMS' already profiled. Skipping.\n"
     ]
    },
    {
     "name": "stderr",
     "output_type": "stream",
     "text": [
      "\n"
     ]
    },
    {
     "data": {
      "text/html": [
       "<pre style=\"white-space:pre;overflow-x:auto;line-height:normal;font-family:Menlo,'DejaVu Sans Mono',consolas,'Courier New',monospace\"><span style=\"color: #ffaf00; text-decoration-color: #ffaf00\">Processing dataset: ENCOUNTERS</span>\n",
       "</pre>\n"
      ],
      "text/plain": [
       "\u001b[38;5;214mProcessing dataset: ENCOUNTERS\u001b[0m\n"
      ]
     },
     "metadata": {},
     "output_type": "display_data"
    },
    {
     "name": "stderr",
     "output_type": "stream",
     "text": [
      "/home/raphael/intugle/data-tools/.venv/lib/python3.12/site-packages/numpy/_core/fromnumeric.py:3859: RuntimeWarning: Mean of empty slice.\n",
      "  return _methods._mean(a, axis=axis, dtype=dtype,\n",
      "/home/raphael/intugle/data-tools/.venv/lib/python3.12/site-packages/numpy/_core/_methods.py:144: RuntimeWarning: invalid value encountered in scalar divide\n",
      "  ret = ret.dtype.type(ret / rcount)\n",
      "100%|██████████| 15/15 [00:14<00:00,  1.07it/s]\n",
      "[*] ENCOUNTERS:   0%|          | 0/1 [00:00<?, ?it/s]/home/raphael/intugle/data-tools/src/intugle/core/pipeline/key_identification/ki.py:87: SettingWithCopyWarning: \n",
      "A value is trying to be set on a copy of a slice from a DataFrame\n",
      "\n",
      "See the caveats in the documentation: https://pandas.pydata.org/pandas-docs/stable/user_guide/indexing.html#returning-a-view-versus-a-copy\n",
      "  temp.rename(columns={\"datatype_l1\": \"datatype\"}, inplace=True)\n",
      "[*] ENCOUNTERS: 100%|██████████| 1/1 [01:05<00:00, 65.26s/it]"
     ]
    },
    {
     "name": "stdout",
     "output_type": "stream",
     "text": [
      "Dataset 'PATIENTS' already profiled. Skipping.\n"
     ]
    },
    {
     "name": "stderr",
     "output_type": "stream",
     "text": [
      "\n"
     ]
    },
    {
     "data": {
      "text/html": [
       "<pre style=\"white-space:pre;overflow-x:auto;line-height:normal;font-family:Menlo,'DejaVu Sans Mono',consolas,'Courier New',monospace\"><span style=\"color: #ffaf00; text-decoration-color: #ffaf00\">Processing dataset: PAYERS</span>\n",
       "</pre>\n"
      ],
      "text/plain": [
       "\u001b[38;5;214mProcessing dataset: PAYERS\u001b[0m\n"
      ]
     },
     "metadata": {},
     "output_type": "display_data"
    },
    {
     "name": "stderr",
     "output_type": "stream",
     "text": [
      "/home/raphael/intugle/data-tools/.venv/lib/python3.12/site-packages/numpy/_core/fromnumeric.py:3859: RuntimeWarning: Mean of empty slice.\n",
      "  return _methods._mean(a, axis=axis, dtype=dtype,\n",
      "/home/raphael/intugle/data-tools/.venv/lib/python3.12/site-packages/numpy/_core/_methods.py:144: RuntimeWarning: invalid value encountered in scalar divide\n",
      "  ret = ret.dtype.type(ret / rcount)\n",
      "100%|██████████| 21/21 [00:11<00:00,  1.78it/s]\n",
      "[*] PAYERS:   0%|          | 0/1 [00:00<?, ?it/s]/home/raphael/intugle/data-tools/src/intugle/core/pipeline/key_identification/ki.py:87: SettingWithCopyWarning: \n",
      "A value is trying to be set on a copy of a slice from a DataFrame\n",
      "\n",
      "See the caveats in the documentation: https://pandas.pydata.org/pandas-docs/stable/user_guide/indexing.html#returning-a-view-versus-a-copy\n",
      "  temp.rename(columns={\"datatype_l1\": \"datatype\"}, inplace=True)\n",
      "[*] PAYERS: 100%|██████████| 1/1 [00:00<00:00,  1.49it/s]\n"
     ]
    },
    {
     "data": {
      "text/html": [
       "<pre style=\"white-space:pre;overflow-x:auto;line-height:normal;font-family:Menlo,'DejaVu Sans Mono',consolas,'Courier New',monospace\"><span style=\"color: #ffaf00; text-decoration-color: #ffaf00\">Processing dataset: PAYER_TRANSITIONS</span>\n",
       "</pre>\n"
      ],
      "text/plain": [
       "\u001b[38;5;214mProcessing dataset: PAYER_TRANSITIONS\u001b[0m\n"
      ]
     },
     "metadata": {},
     "output_type": "display_data"
    },
    {
     "name": "stderr",
     "output_type": "stream",
     "text": [
      "/home/raphael/intugle/data-tools/.venv/lib/python3.12/site-packages/numpy/_core/fromnumeric.py:3859: RuntimeWarning: Mean of empty slice.\n",
      "  return _methods._mean(a, axis=axis, dtype=dtype,\n",
      "/home/raphael/intugle/data-tools/.venv/lib/python3.12/site-packages/numpy/_core/_methods.py:144: RuntimeWarning: invalid value encountered in scalar divide\n",
      "  ret = ret.dtype.type(ret / rcount)\n",
      "100%|██████████| 8/8 [00:04<00:00,  1.61it/s]\n",
      "[*] PAYER_TRANSITIONS:   0%|          | 0/1 [00:00<?, ?it/s]/home/raphael/intugle/data-tools/src/intugle/core/pipeline/key_identification/ki.py:87: SettingWithCopyWarning: \n",
      "A value is trying to be set on a copy of a slice from a DataFrame\n",
      "\n",
      "See the caveats in the documentation: https://pandas.pydata.org/pandas-docs/stable/user_guide/indexing.html#returning-a-view-versus-a-copy\n",
      "  temp.rename(columns={\"datatype_l1\": \"datatype\"}, inplace=True)\n",
      "[!]  key identified by LLM is not a valid column of PAYER_TRANSITIONS table\n",
      "[*] PAYER_TRANSITIONS: 100%|██████████| 1/1 [00:03<00:00,  3.27s/it]\n"
     ]
    },
    {
     "data": {
      "text/html": [
       "<pre style=\"white-space:pre;overflow-x:auto;line-height:normal;font-family:Menlo,'DejaVu Sans Mono',consolas,'Courier New',monospace\"><span style=\"color: #ffaf00; text-decoration-color: #ffaf00\">Processing dataset: PROCEDURES</span>\n",
       "</pre>\n"
      ],
      "text/plain": [
       "\u001b[38;5;214mProcessing dataset: PROCEDURES\u001b[0m\n"
      ]
     },
     "metadata": {},
     "output_type": "display_data"
    },
    {
     "name": "stderr",
     "output_type": "stream",
     "text": [
      "/home/raphael/intugle/data-tools/.venv/lib/python3.12/site-packages/numpy/_core/fromnumeric.py:3859: RuntimeWarning: Mean of empty slice.\n",
      "  return _methods._mean(a, axis=axis, dtype=dtype,\n",
      "/home/raphael/intugle/data-tools/.venv/lib/python3.12/site-packages/numpy/_core/_methods.py:144: RuntimeWarning: invalid value encountered in scalar divide\n",
      "  ret = ret.dtype.type(ret / rcount)\n",
      "100%|██████████| 9/9 [00:04<00:00,  1.95it/s]\n"
     ]
    },
    {
     "data": {
      "text/html": [
       "<pre style=\"white-space:pre;overflow-x:auto;line-height:normal;font-family:Menlo,'DejaVu Sans Mono',consolas,'Courier New',monospace\"><span style=\"color: #ffaf00; text-decoration-color: #ffaf00\">Processing dataset: SUPPLIES</span>\n",
       "</pre>\n"
      ],
      "text/plain": [
       "\u001b[38;5;214mProcessing dataset: SUPPLIES\u001b[0m\n"
      ]
     },
     "metadata": {},
     "output_type": "display_data"
    },
    {
     "name": "stderr",
     "output_type": "stream",
     "text": [
      "/home/raphael/intugle/data-tools/.venv/lib/python3.12/site-packages/numpy/_core/fromnumeric.py:3859: RuntimeWarning: Mean of empty slice.\n",
      "  return _methods._mean(a, axis=axis, dtype=dtype,\n",
      "/home/raphael/intugle/data-tools/.venv/lib/python3.12/site-packages/numpy/_core/_methods.py:144: RuntimeWarning: invalid value encountered in scalar divide\n",
      "  ret = ret.dtype.type(ret / rcount)\n",
      "100%|██████████| 6/6 [00:03<00:00,  1.97it/s]\n"
     ]
    },
    {
     "data": {
      "text/html": [
       "<pre style=\"white-space:pre;overflow-x:auto;line-height:normal;font-family:Menlo,'DejaVu Sans Mono',consolas,'Courier New',monospace\"><span style=\"color: #008000; text-decoration-color: #008000; font-weight: bold\">Profiling and key identification complete.</span>\n",
       "</pre>\n"
      ],
      "text/plain": [
       "\u001b[1;32mProfiling and key identification complete.\u001b[0m\n"
      ]
     },
     "metadata": {},
     "output_type": "display_data"
    },
    {
     "data": {
      "text/html": [
       "<pre style=\"white-space:pre;overflow-x:auto;line-height:normal;font-family:Menlo,'DejaVu Sans Mono',consolas,'Courier New',monospace\"><span style=\"color: #808000; text-decoration-color: #808000\">Starting link prediction stage...</span>\n",
       "</pre>\n"
      ],
      "text/plain": [
       "\u001b[33mStarting link prediction stage\u001b[0m\u001b[33m...\u001b[0m\n"
      ]
     },
     "metadata": {},
     "output_type": "display_data"
    },
    {
     "name": "stdout",
     "output_type": "stream",
     "text": [
      "Dataset 'ALLERGIES' already processed. Skipping analysis.\n",
      "Dataset 'CAREPLANS' already processed. Skipping analysis.\n",
      "Dataset 'CLAIMS' already processed. Skipping analysis.\n",
      "Dataset 'ENCOUNTERS' already processed. Skipping analysis.\n",
      "Dataset 'PATIENTS' already processed. Skipping analysis.\n",
      "Dataset 'PAYERS' already processed. Skipping analysis.\n",
      "Dataset 'PAYER_TRANSITIONS' already processed. Skipping analysis.\n",
      "Dataset 'PROCEDURES' already processed. Skipping analysis.\n",
      "Dataset 'SUPPLIES' already processed. Skipping analysis.\n",
      "LinkPredictor initialized with datasets: ['ALLERGIES', 'CAREPLANS', 'CLAIMS', 'ENCOUNTERS', 'PATIENTS', 'PAYERS', 'PAYER_TRANSITIONS', 'PROCEDURES', 'SUPPLIES']\n",
      "\n",
      "--- Comparing 'ALLERGIES' <=> 'CAREPLANS' ---\n"
     ]
    },
    {
     "name": "stderr",
     "output_type": "stream",
     "text": [
      "[*] ALLERGIES <==> CAREPLANS Runs:1: 100%|██████████| 1/1 [00:01<00:00,  1.87s/it]\n"
     ]
    },
    {
     "name": "stdout",
     "output_type": "stream",
     "text": [
      "No links found for this pair.\n",
      "\n",
      "--- Comparing 'ALLERGIES' <=> 'CLAIMS' ---\n"
     ]
    },
    {
     "name": "stderr",
     "output_type": "stream",
     "text": [
      "[*] ALLERGIES <==> CLAIMS Runs:1: 100%|██████████| 1/1 [00:01<00:00,  1.48s/it]\n"
     ]
    },
    {
     "name": "stdout",
     "output_type": "stream",
     "text": [
      "No links found for this pair.\n",
      "\n",
      "--- Comparing 'ALLERGIES' <=> 'ENCOUNTERS' ---\n"
     ]
    },
    {
     "name": "stderr",
     "output_type": "stream",
     "text": [
      "[*] ALLERGIES <==> ENCOUNTERS Runs:1: 100%|██████████| 1/1 [00:07<00:00,  7.25s/it]\n"
     ]
    },
    {
     "name": "stdout",
     "output_type": "stream",
     "text": [
      "No links found for this pair.\n",
      "\n",
      "--- Comparing 'ALLERGIES' <=> 'PATIENTS' ---\n"
     ]
    },
    {
     "name": "stderr",
     "output_type": "stream",
     "text": [
      "[*] ALLERGIES <==> PATIENTS Runs:1: 100%|██████████| 1/1 [00:02<00:00,  2.53s/it]\n"
     ]
    },
    {
     "name": "stdout",
     "output_type": "stream",
     "text": [
      "Found 1 potential link(s).\n",
      "\n",
      "--- Comparing 'ALLERGIES' <=> 'PAYERS' ---\n"
     ]
    },
    {
     "name": "stderr",
     "output_type": "stream",
     "text": [
      "[*] ALLERGIES <==> PAYERS Runs:1: 100%|██████████| 1/1 [00:00<00:00,  1.32it/s]\n"
     ]
    },
    {
     "name": "stdout",
     "output_type": "stream",
     "text": [
      "No links found for this pair.\n",
      "\n",
      "--- Comparing 'ALLERGIES' <=> 'PAYER_TRANSITIONS' ---\n"
     ]
    },
    {
     "name": "stderr",
     "output_type": "stream",
     "text": [
      "[*] ALLERGIES <==> PAYER_TRANSITIONS Runs:1: 100%|██████████| 1/1 [00:01<00:00,  1.44s/it]\n"
     ]
    },
    {
     "name": "stdout",
     "output_type": "stream",
     "text": [
      "No links found for this pair.\n",
      "\n",
      "--- Comparing 'ALLERGIES' <=> 'PROCEDURES' ---\n"
     ]
    },
    {
     "name": "stderr",
     "output_type": "stream",
     "text": [
      "[*] ALLERGIES <==> PROCEDURES Runs:1: 100%|██████████| 1/1 [00:01<00:00,  1.55s/it]\n"
     ]
    },
    {
     "name": "stdout",
     "output_type": "stream",
     "text": [
      "No links found for this pair.\n",
      "\n",
      "--- Comparing 'ALLERGIES' <=> 'SUPPLIES' ---\n"
     ]
    },
    {
     "name": "stderr",
     "output_type": "stream",
     "text": [
      "[*] ALLERGIES <==> SUPPLIES Runs:1: 100%|██████████| 1/1 [00:01<00:00,  1.54s/it]\n"
     ]
    },
    {
     "name": "stdout",
     "output_type": "stream",
     "text": [
      "No links found for this pair.\n",
      "\n",
      "--- Comparing 'CAREPLANS' <=> 'CLAIMS' ---\n"
     ]
    },
    {
     "name": "stderr",
     "output_type": "stream",
     "text": [
      "[*] CAREPLANS <==> CLAIMS Runs:1: 100%|██████████| 1/1 [00:13<00:00, 13.74s/it]\n"
     ]
    },
    {
     "name": "stdout",
     "output_type": "stream",
     "text": [
      "No links found for this pair.\n",
      "\n",
      "--- Comparing 'CAREPLANS' <=> 'ENCOUNTERS' ---\n"
     ]
    },
    {
     "name": "stderr",
     "output_type": "stream",
     "text": [
      "[*] CAREPLANS <==> ENCOUNTERS Runs:1: 100%|██████████| 1/1 [00:28<00:00, 28.05s/it]\n"
     ]
    },
    {
     "name": "stdout",
     "output_type": "stream",
     "text": [
      "No links found for this pair.\n",
      "\n",
      "--- Comparing 'CAREPLANS' <=> 'PATIENTS' ---\n"
     ]
    },
    {
     "name": "stderr",
     "output_type": "stream",
     "text": [
      "[*] CAREPLANS <==> PATIENTS Runs:1: 100%|██████████| 1/1 [00:03<00:00,  3.01s/it]\n"
     ]
    },
    {
     "name": "stdout",
     "output_type": "stream",
     "text": [
      "Found 1 potential link(s).\n",
      "\n",
      "--- Comparing 'CAREPLANS' <=> 'PAYERS' ---\n"
     ]
    },
    {
     "name": "stderr",
     "output_type": "stream",
     "text": [
      "[*] CAREPLANS <==> PAYERS Runs:1: 100%|██████████| 1/1 [00:00<00:00,  1.31it/s]\n"
     ]
    },
    {
     "name": "stdout",
     "output_type": "stream",
     "text": [
      "No links found for this pair.\n",
      "\n",
      "--- Comparing 'CAREPLANS' <=> 'PAYER_TRANSITIONS' ---\n"
     ]
    },
    {
     "name": "stderr",
     "output_type": "stream",
     "text": [
      "[*] CAREPLANS <==> PAYER_TRANSITIONS Runs:1: 100%|██████████| 1/1 [00:01<00:00,  1.48s/it]\n"
     ]
    },
    {
     "name": "stdout",
     "output_type": "stream",
     "text": [
      "No links found for this pair.\n",
      "\n",
      "--- Comparing 'CAREPLANS' <=> 'PROCEDURES' ---\n"
     ]
    },
    {
     "name": "stderr",
     "output_type": "stream",
     "text": [
      "[*] CAREPLANS <==> PROCEDURES Runs:1: 100%|██████████| 1/1 [00:03<00:00,  3.16s/it]\n"
     ]
    },
    {
     "name": "stdout",
     "output_type": "stream",
     "text": [
      "No links found for this pair.\n",
      "\n",
      "--- Comparing 'CAREPLANS' <=> 'SUPPLIES' ---\n"
     ]
    },
    {
     "name": "stderr",
     "output_type": "stream",
     "text": [
      "[*] CAREPLANS <==> SUPPLIES Runs:1: 100%|██████████| 1/1 [00:01<00:00,  1.54s/it]\n"
     ]
    },
    {
     "name": "stdout",
     "output_type": "stream",
     "text": [
      "No links found for this pair.\n",
      "\n",
      "--- Comparing 'CLAIMS' <=> 'ENCOUNTERS' ---\n"
     ]
    },
    {
     "name": "stderr",
     "output_type": "stream",
     "text": [
      "[*] CLAIMS <==> ENCOUNTERS Runs:1: 100%|██████████| 1/1 [00:03<00:00,  3.41s/it]\n"
     ]
    },
    {
     "name": "stdout",
     "output_type": "stream",
     "text": [
      "Found 1 potential link(s).\n",
      "\n",
      "--- Comparing 'CLAIMS' <=> 'PATIENTS' ---\n"
     ]
    },
    {
     "name": "stderr",
     "output_type": "stream",
     "text": [
      "[*] CLAIMS <==> PATIENTS Runs:1: 100%|██████████| 1/1 [00:03<00:00,  3.27s/it]\n"
     ]
    },
    {
     "name": "stdout",
     "output_type": "stream",
     "text": [
      "Found 1 potential link(s).\n",
      "\n",
      "--- Comparing 'CLAIMS' <=> 'PAYERS' ---\n"
     ]
    },
    {
     "name": "stderr",
     "output_type": "stream",
     "text": [
      "[*] CLAIMS <==> PAYERS Runs:1: 100%|██████████| 1/1 [00:06<00:00,  6.72s/it]\n"
     ]
    },
    {
     "name": "stdout",
     "output_type": "stream",
     "text": [
      "No links found for this pair.\n",
      "\n",
      "--- Comparing 'CLAIMS' <=> 'PAYER_TRANSITIONS' ---\n"
     ]
    },
    {
     "name": "stderr",
     "output_type": "stream",
     "text": [
      "[*] CLAIMS <==> PAYER_TRANSITIONS Runs:1: 100%|██████████| 1/1 [00:01<00:00,  1.48s/it]\n"
     ]
    },
    {
     "name": "stdout",
     "output_type": "stream",
     "text": [
      "No links found for this pair.\n",
      "\n",
      "--- Comparing 'CLAIMS' <=> 'PROCEDURES' ---\n"
     ]
    },
    {
     "name": "stderr",
     "output_type": "stream",
     "text": [
      "[*] CLAIMS <==> PROCEDURES Runs:1: 100%|██████████| 1/1 [00:30<00:00, 30.76s/it]\n"
     ]
    },
    {
     "name": "stdout",
     "output_type": "stream",
     "text": [
      "No links found for this pair.\n",
      "\n",
      "--- Comparing 'CLAIMS' <=> 'SUPPLIES' ---\n"
     ]
    },
    {
     "name": "stderr",
     "output_type": "stream",
     "text": [
      "[*] CLAIMS <==> SUPPLIES Runs:1: 100%|██████████| 1/1 [00:04<00:00,  4.56s/it]\n"
     ]
    },
    {
     "name": "stdout",
     "output_type": "stream",
     "text": [
      "No links found for this pair.\n",
      "\n",
      "--- Comparing 'ENCOUNTERS' <=> 'PATIENTS' ---\n"
     ]
    },
    {
     "name": "stderr",
     "output_type": "stream",
     "text": [
      "[*] ENCOUNTERS <==> PATIENTS Runs:1: 100%|██████████| 1/1 [00:06<00:00,  6.35s/it]\n"
     ]
    },
    {
     "name": "stdout",
     "output_type": "stream",
     "text": [
      "Found 1 potential link(s).\n",
      "\n",
      "--- Comparing 'ENCOUNTERS' <=> 'PAYERS' ---\n"
     ]
    },
    {
     "name": "stderr",
     "output_type": "stream",
     "text": [
      "[*] ENCOUNTERS <==> PAYERS Runs:1: 100%|██████████| 1/1 [00:02<00:00,  2.54s/it]\n"
     ]
    },
    {
     "name": "stdout",
     "output_type": "stream",
     "text": [
      "Found 1 potential link(s).\n",
      "\n",
      "--- Comparing 'ENCOUNTERS' <=> 'PAYER_TRANSITIONS' ---\n"
     ]
    },
    {
     "name": "stderr",
     "output_type": "stream",
     "text": [
      "[*] ENCOUNTERS <==> PAYER_TRANSITIONS Runs:1: 100%|██████████| 1/1 [00:01<00:00,  1.50s/it]\n"
     ]
    },
    {
     "name": "stdout",
     "output_type": "stream",
     "text": [
      "No links found for this pair.\n",
      "\n",
      "--- Comparing 'ENCOUNTERS' <=> 'PROCEDURES' ---\n"
     ]
    },
    {
     "name": "stderr",
     "output_type": "stream",
     "text": [
      "[*] ENCOUNTERS <==> PROCEDURES Runs:1: 100%|██████████| 1/1 [00:02<00:00,  2.96s/it]\n"
     ]
    },
    {
     "name": "stdout",
     "output_type": "stream",
     "text": [
      "Found 1 potential link(s).\n",
      "\n",
      "--- Comparing 'ENCOUNTERS' <=> 'SUPPLIES' ---\n"
     ]
    },
    {
     "name": "stderr",
     "output_type": "stream",
     "text": [
      "[*] ENCOUNTERS <==> SUPPLIES Runs:1: 100%|██████████| 1/1 [00:03<00:00,  3.48s/it]\n"
     ]
    },
    {
     "name": "stdout",
     "output_type": "stream",
     "text": [
      "No links found for this pair.\n",
      "\n",
      "--- Comparing 'PATIENTS' <=> 'PAYERS' ---\n"
     ]
    },
    {
     "name": "stderr",
     "output_type": "stream",
     "text": [
      "[*] PATIENTS <==> PAYERS Runs:1: 100%|██████████| 1/1 [00:00<00:00,  1.26it/s]\n"
     ]
    },
    {
     "name": "stdout",
     "output_type": "stream",
     "text": [
      "No links found for this pair.\n",
      "\n",
      "--- Comparing 'PATIENTS' <=> 'PAYER_TRANSITIONS' ---\n"
     ]
    },
    {
     "name": "stderr",
     "output_type": "stream",
     "text": [
      "[*] PATIENTS <==> PAYER_TRANSITIONS Runs:1: 100%|██████████| 1/1 [00:03<00:00,  3.76s/it]\n"
     ]
    },
    {
     "name": "stdout",
     "output_type": "stream",
     "text": [
      "Found 1 potential link(s).\n",
      "\n",
      "--- Comparing 'PATIENTS' <=> 'PROCEDURES' ---\n"
     ]
    },
    {
     "name": "stderr",
     "output_type": "stream",
     "text": [
      "[*] PATIENTS <==> PROCEDURES Runs:1: 100%|██████████| 1/1 [00:02<00:00,  2.53s/it]\n"
     ]
    },
    {
     "name": "stdout",
     "output_type": "stream",
     "text": [
      "Found 1 potential link(s).\n",
      "\n",
      "--- Comparing 'PATIENTS' <=> 'SUPPLIES' ---\n"
     ]
    },
    {
     "name": "stderr",
     "output_type": "stream",
     "text": [
      "[*] PATIENTS <==> SUPPLIES Runs:1: 100%|██████████| 1/1 [00:02<00:00,  2.52s/it]\n"
     ]
    },
    {
     "name": "stdout",
     "output_type": "stream",
     "text": [
      "Found 1 potential link(s).\n",
      "\n",
      "--- Comparing 'PAYERS' <=> 'PAYER_TRANSITIONS' ---\n"
     ]
    },
    {
     "name": "stderr",
     "output_type": "stream",
     "text": [
      "[*] PAYERS <==> PAYER_TRANSITIONS Runs:1: 100%|██████████| 1/1 [00:03<00:00,  3.80s/it]\n"
     ]
    },
    {
     "name": "stdout",
     "output_type": "stream",
     "text": [
      "Found 1 potential link(s).\n",
      "\n",
      "--- Comparing 'PAYERS' <=> 'PROCEDURES' ---\n"
     ]
    },
    {
     "name": "stderr",
     "output_type": "stream",
     "text": [
      "[*] PAYERS <==> PROCEDURES Runs:1: 100%|██████████| 1/1 [00:02<00:00,  2.97s/it]\n"
     ]
    },
    {
     "name": "stdout",
     "output_type": "stream",
     "text": [
      "No links found for this pair.\n",
      "\n",
      "--- Comparing 'PAYERS' <=> 'SUPPLIES' ---\n"
     ]
    },
    {
     "name": "stderr",
     "output_type": "stream",
     "text": [
      "[*] PAYERS <==> SUPPLIES Runs:1: 100%|██████████| 1/1 [00:00<00:00,  1.36it/s]\n"
     ]
    },
    {
     "name": "stdout",
     "output_type": "stream",
     "text": [
      "No links found for this pair.\n",
      "\n",
      "--- Comparing 'PAYER_TRANSITIONS' <=> 'PROCEDURES' ---\n"
     ]
    },
    {
     "name": "stderr",
     "output_type": "stream",
     "text": [
      "[*] PAYER_TRANSITIONS <==> PROCEDURES Runs:1: 100%|██████████| 1/1 [00:01<00:00,  1.46s/it]\n"
     ]
    },
    {
     "name": "stdout",
     "output_type": "stream",
     "text": [
      "No links found for this pair.\n",
      "\n",
      "--- Comparing 'PAYER_TRANSITIONS' <=> 'SUPPLIES' ---\n"
     ]
    },
    {
     "name": "stderr",
     "output_type": "stream",
     "text": [
      "[*] PAYER_TRANSITIONS <==> SUPPLIES Runs:1: 100%|██████████| 1/1 [00:01<00:00,  1.74s/it]\n"
     ]
    },
    {
     "name": "stdout",
     "output_type": "stream",
     "text": [
      "No links found for this pair.\n",
      "\n",
      "--- Comparing 'PROCEDURES' <=> 'SUPPLIES' ---\n"
     ]
    },
    {
     "name": "stderr",
     "output_type": "stream",
     "text": [
      "[*] PROCEDURES <==> SUPPLIES Runs:1: 100%|██████████| 1/1 [00:16<00:00, 16.81s/it]"
     ]
    },
    {
     "name": "stdout",
     "output_type": "stream",
     "text": [
      "No links found for this pair.\n"
     ]
    },
    {
     "name": "stderr",
     "output_type": "stream",
     "text": [
      "\n"
     ]
    },
    {
     "data": {
      "text/html": [
       "<pre style=\"white-space:pre;overflow-x:auto;line-height:normal;font-family:Menlo,'DejaVu Sans Mono',consolas,'Courier New',monospace\"><span style=\"color: #008000; text-decoration-color: #008000; font-weight: bold\">Link prediction complete.</span>\n",
       "</pre>\n"
      ],
      "text/plain": [
       "\u001b[1;32mLink prediction complete.\u001b[0m\n"
      ]
     },
     "metadata": {},
     "output_type": "display_data"
    },
    {
     "data": {
      "text/html": [
       "<pre style=\"white-space:pre;overflow-x:auto;line-height:normal;font-family:Menlo,'DejaVu Sans Mono',consolas,'Courier New',monospace\"><span style=\"color: #808000; text-decoration-color: #808000\">Starting business glossary generation stage...</span>\n",
       "</pre>\n"
      ],
      "text/plain": [
       "\u001b[33mStarting business glossary generation stage\u001b[0m\u001b[33m...\u001b[0m\n"
      ]
     },
     "metadata": {},
     "output_type": "display_data"
    },
    {
     "data": {
      "text/html": [
       "<pre style=\"white-space:pre;overflow-x:auto;line-height:normal;font-family:Menlo,'DejaVu Sans Mono',consolas,'Courier New',monospace\">Glossary for <span style=\"color: #008000; text-decoration-color: #008000\">'ALLERGIES'</span> already exists. Skipping.\n",
       "</pre>\n"
      ],
      "text/plain": [
       "Glossary for \u001b[32m'ALLERGIES'\u001b[0m already exists. Skipping.\n"
      ]
     },
     "metadata": {},
     "output_type": "display_data"
    },
    {
     "data": {
      "text/html": [
       "<pre style=\"white-space:pre;overflow-x:auto;line-height:normal;font-family:Menlo,'DejaVu Sans Mono',consolas,'Courier New',monospace\"><span style=\"color: #008000; text-decoration-color: #008000; font-weight: bold\">Generating glossary for dataset: CAREPLANS</span>\n",
       "</pre>\n"
      ],
      "text/plain": [
       "\u001b[1;32mGenerating glossary for dataset: CAREPLANS\u001b[0m\n"
      ]
     },
     "metadata": {},
     "output_type": "display_data"
    },
    {
     "name": "stderr",
     "output_type": "stream",
     "text": [
      "100%|██████████| 9/9 [00:15<00:00,  1.68s/it]\n"
     ]
    },
    {
     "data": {
      "text/html": [
       "<pre style=\"white-space:pre;overflow-x:auto;line-height:normal;font-family:Menlo,'DejaVu Sans Mono',consolas,'Courier New',monospace\">Glossary for <span style=\"color: #008000; text-decoration-color: #008000\">'CLAIMS'</span> already exists. Skipping.\n",
       "</pre>\n"
      ],
      "text/plain": [
       "Glossary for \u001b[32m'CLAIMS'\u001b[0m already exists. Skipping.\n"
      ]
     },
     "metadata": {},
     "output_type": "display_data"
    },
    {
     "data": {
      "text/html": [
       "<pre style=\"white-space:pre;overflow-x:auto;line-height:normal;font-family:Menlo,'DejaVu Sans Mono',consolas,'Courier New',monospace\"><span style=\"color: #008000; text-decoration-color: #008000; font-weight: bold\">Generating glossary for dataset: ENCOUNTERS</span>\n",
       "</pre>\n"
      ],
      "text/plain": [
       "\u001b[1;32mGenerating glossary for dataset: ENCOUNTERS\u001b[0m\n"
      ]
     },
     "metadata": {},
     "output_type": "display_data"
    },
    {
     "name": "stderr",
     "output_type": "stream",
     "text": [
      "100%|██████████| 15/15 [00:20<00:00,  1.36s/it]\n"
     ]
    },
    {
     "data": {
      "text/html": [
       "<pre style=\"white-space:pre;overflow-x:auto;line-height:normal;font-family:Menlo,'DejaVu Sans Mono',consolas,'Courier New',monospace\">Glossary for <span style=\"color: #008000; text-decoration-color: #008000\">'PATIENTS'</span> already exists. Skipping.\n",
       "</pre>\n"
      ],
      "text/plain": [
       "Glossary for \u001b[32m'PATIENTS'\u001b[0m already exists. Skipping.\n"
      ]
     },
     "metadata": {},
     "output_type": "display_data"
    },
    {
     "data": {
      "text/html": [
       "<pre style=\"white-space:pre;overflow-x:auto;line-height:normal;font-family:Menlo,'DejaVu Sans Mono',consolas,'Courier New',monospace\"><span style=\"color: #008000; text-decoration-color: #008000; font-weight: bold\">Generating glossary for dataset: PAYERS</span>\n",
       "</pre>\n"
      ],
      "text/plain": [
       "\u001b[1;32mGenerating glossary for dataset: PAYERS\u001b[0m\n"
      ]
     },
     "metadata": {},
     "output_type": "display_data"
    },
    {
     "name": "stderr",
     "output_type": "stream",
     "text": [
      "100%|██████████| 21/21 [00:29<00:00,  1.40s/it]\n"
     ]
    },
    {
     "data": {
      "text/html": [
       "<pre style=\"white-space:pre;overflow-x:auto;line-height:normal;font-family:Menlo,'DejaVu Sans Mono',consolas,'Courier New',monospace\"><span style=\"color: #008000; text-decoration-color: #008000; font-weight: bold\">Generating glossary for dataset: PAYER_TRANSITIONS</span>\n",
       "</pre>\n"
      ],
      "text/plain": [
       "\u001b[1;32mGenerating glossary for dataset: PAYER_TRANSITIONS\u001b[0m\n"
      ]
     },
     "metadata": {},
     "output_type": "display_data"
    },
    {
     "name": "stderr",
     "output_type": "stream",
     "text": [
      "100%|██████████| 8/8 [00:11<00:00,  1.41s/it]\n"
     ]
    },
    {
     "data": {
      "text/html": [
       "<pre style=\"white-space:pre;overflow-x:auto;line-height:normal;font-family:Menlo,'DejaVu Sans Mono',consolas,'Courier New',monospace\"><span style=\"color: #008000; text-decoration-color: #008000; font-weight: bold\">Generating glossary for dataset: PROCEDURES</span>\n",
       "</pre>\n"
      ],
      "text/plain": [
       "\u001b[1;32mGenerating glossary for dataset: PROCEDURES\u001b[0m\n"
      ]
     },
     "metadata": {},
     "output_type": "display_data"
    },
    {
     "name": "stderr",
     "output_type": "stream",
     "text": [
      "100%|██████████| 9/9 [00:12<00:00,  1.34s/it]\n"
     ]
    },
    {
     "data": {
      "text/html": [
       "<pre style=\"white-space:pre;overflow-x:auto;line-height:normal;font-family:Menlo,'DejaVu Sans Mono',consolas,'Courier New',monospace\"><span style=\"color: #008000; text-decoration-color: #008000; font-weight: bold\">Generating glossary for dataset: SUPPLIES</span>\n",
       "</pre>\n"
      ],
      "text/plain": [
       "\u001b[1;32mGenerating glossary for dataset: SUPPLIES\u001b[0m\n"
      ]
     },
     "metadata": {},
     "output_type": "display_data"
    },
    {
     "name": "stderr",
     "output_type": "stream",
     "text": [
      "100%|██████████| 6/6 [00:08<00:00,  1.33s/it]\n"
     ]
    },
    {
     "data": {
      "text/html": [
       "<pre style=\"white-space:pre;overflow-x:auto;line-height:normal;font-family:Menlo,'DejaVu Sans Mono',consolas,'Courier New',monospace\"><span style=\"color: #008000; text-decoration-color: #008000; font-weight: bold\">Business glossary generation complete.</span>\n",
       "</pre>\n"
      ],
      "text/plain": [
       "\u001b[1;32mBusiness glossary generation complete.\u001b[0m\n"
      ]
     },
     "metadata": {},
     "output_type": "display_data"
    },
    {
     "name": "stdout",
     "output_type": "stream",
     "text": [
      "Initializing semantic search...\n"
     ]
    },
    {
     "name": "stderr",
     "output_type": "stream",
     "text": [
      "/home/raphael/intugle/data-tools/src/intugle/core/vector_store/qdrant.py:77: UserWarning: Api key is used with an insecure connection.\n",
      "  self._client = AsyncQdrantClient(**self.client_config)\n"
     ]
    },
    {
     "name": "stdout",
     "output_type": "stream",
     "text": [
      "Semantic search initialized.\n"
     ]
    },
    {
     "data": {
      "text/plain": [
       "<intugle.semantic_model.SemanticModel at 0x7fd8ae5dd160>"
      ]
     },
     "execution_count": 4,
     "metadata": {},
     "output_type": "execute_result"
    }
   ],
   "source": "from intugle import SemanticModel\n\n# Initialize the semantic model\nsm = SemanticModel(datasets, domain=\"Technology Manufacturing Company\")\n\n# Run the prediction\nsm.build()"
  },
  {
   "cell_type": "markdown",
   "id": "2f25ca9c-73cd-413a-a705-2e8f42c755f1",
   "metadata": {
    "name": "cell10"
   },
   "source": [
    "## 3. Accessing Enriched Metadata\n",
    "\n",
    "Now that the semantic model is built, you can easily access the enriched metadata for each dataset.\n",
    "\n",
    "### Accessing a Dataset\n",
    "\n",
    "You can access a specific dataset by its name from the `sm.datasets` dictionary:"
   ]
  },
  {
   "cell_type": "code",
   "execution_count": 5,
   "id": "8134b5a5-3c89-4699-813d-7ac0acfa32e1",
   "metadata": {
    "name": "cell11",
    "language": "python"
   },
   "outputs": [
    {
     "data": {
      "text/html": [
       "<div>\n",
       "<style scoped>\n",
       "    .dataframe tbody tr th:only-of-type {\n",
       "        vertical-align: middle;\n",
       "    }\n",
       "\n",
       "    .dataframe tbody tr th {\n",
       "        vertical-align: top;\n",
       "    }\n",
       "\n",
       "    .dataframe thead th {\n",
       "        text-align: right;\n",
       "    }\n",
       "</style>\n",
       "<table border=\"1\" class=\"dataframe\">\n",
       "  <thead>\n",
       "    <tr style=\"text-align: right;\">\n",
       "      <th></th>\n",
       "      <th>column_name</th>\n",
       "      <th>table_name</th>\n",
       "      <th>business_name</th>\n",
       "      <th>datatype_l1</th>\n",
       "      <th>datatype_l2</th>\n",
       "      <th>business_glossary</th>\n",
       "      <th>business_tags</th>\n",
       "      <th>count</th>\n",
       "      <th>null_count</th>\n",
       "      <th>distinct_count</th>\n",
       "      <th>uniqueness</th>\n",
       "      <th>completeness</th>\n",
       "      <th>sample_data</th>\n",
       "    </tr>\n",
       "  </thead>\n",
       "  <tbody>\n",
       "    <tr>\n",
       "      <th>0</th>\n",
       "      <td>ID</td>\n",
       "      <td>PATIENTS</td>\n",
       "      <td>id</td>\n",
       "      <td>alphanumeric</td>\n",
       "      <td>dimension</td>\n",
       "      <td>Serves as a unique identifier for individuals ...</td>\n",
       "      <td>[Patient Identifier, Unique Identifier, Health...</td>\n",
       "      <td>1163</td>\n",
       "      <td>0</td>\n",
       "      <td>1163</td>\n",
       "      <td>1.000000</td>\n",
       "      <td>1.000000</td>\n",
       "      <td>[fed745aa-0d47-4eb7-58e0-5d132b90a24f, ccfc4db...</td>\n",
       "    </tr>\n",
       "    <tr>\n",
       "      <th>1</th>\n",
       "      <td>BIRTHDATE</td>\n",
       "      <td>PATIENTS</td>\n",
       "      <td>birthdate</td>\n",
       "      <td>date &amp; time</td>\n",
       "      <td>dimension</td>\n",
       "      <td>Indicates the date on which an individual was ...</td>\n",
       "      <td>[Patient Demographics, Date Of Birth, Age Calc...</td>\n",
       "      <td>1163</td>\n",
       "      <td>0</td>\n",
       "      <td>987</td>\n",
       "      <td>0.848667</td>\n",
       "      <td>1.000000</td>\n",
       "      <td>[1967-01-30, 1969-10-19, 1959-07-24, 2006-07-0...</td>\n",
       "    </tr>\n",
       "    <tr>\n",
       "      <th>2</th>\n",
       "      <td>DEATHDATE</td>\n",
       "      <td>PATIENTS</td>\n",
       "      <td>deathdate</td>\n",
       "      <td>date &amp; time</td>\n",
       "      <td>dimension</td>\n",
       "      <td>Date associated with the end of an individual'...</td>\n",
       "      <td>[Patient Mortality Tracking, End Of Life Date,...</td>\n",
       "      <td>1163</td>\n",
       "      <td>1000</td>\n",
       "      <td>164</td>\n",
       "      <td>0.141015</td>\n",
       "      <td>0.140155</td>\n",
       "      <td>[2008-07-04, 2006-11-17, 2002-02-01, 1996-05-1...</td>\n",
       "    </tr>\n",
       "    <tr>\n",
       "      <th>3</th>\n",
       "      <td>SSN</td>\n",
       "      <td>PATIENTS</td>\n",
       "      <td>ssn</td>\n",
       "      <td>alphanumeric</td>\n",
       "      <td>dimension</td>\n",
       "      <td>Serves as a unique identifier for individuals ...</td>\n",
       "      <td>[Personal Identification, Patient Record Linki...</td>\n",
       "      <td>1163</td>\n",
       "      <td>0</td>\n",
       "      <td>1163</td>\n",
       "      <td>1.000000</td>\n",
       "      <td>1.000000</td>\n",
       "      <td>[999-24-1375, 999-71-1856, 999-40-8176, 999-11...</td>\n",
       "    </tr>\n",
       "    <tr>\n",
       "      <th>4</th>\n",
       "      <td>DRIVERS</td>\n",
       "      <td>PATIENTS</td>\n",
       "      <td>drivers</td>\n",
       "      <td>alphanumeric</td>\n",
       "      <td>dimension</td>\n",
       "      <td>Indicates the unique identifier or status rela...</td>\n",
       "      <td>[Patient Identification, Healthcare System Dri...</td>\n",
       "      <td>1163</td>\n",
       "      <td>215</td>\n",
       "      <td>942</td>\n",
       "      <td>0.809974</td>\n",
       "      <td>0.815133</td>\n",
       "      <td>[S99912542, S99913091, S99920464, S99911315, S...</td>\n",
       "    </tr>\n",
       "    <tr>\n",
       "      <th>5</th>\n",
       "      <td>PASSPORT</td>\n",
       "      <td>PATIENTS</td>\n",
       "      <td>passport</td>\n",
       "      <td>alphanumeric</td>\n",
       "      <td>dimension</td>\n",
       "      <td>Unique identifier used to document official tr...</td>\n",
       "      <td>[Identity Verification, Travel Documentation, ...</td>\n",
       "      <td>1163</td>\n",
       "      <td>276</td>\n",
       "      <td>888</td>\n",
       "      <td>0.763543</td>\n",
       "      <td>0.762683</td>\n",
       "      <td>[X4451825X, X87002556X, X56072907X, X64916399X...</td>\n",
       "    </tr>\n",
       "    <tr>\n",
       "      <th>6</th>\n",
       "      <td>PREFIX</td>\n",
       "      <td>PATIENTS</td>\n",
       "      <td>prefix</td>\n",
       "      <td>close_ended_text</td>\n",
       "      <td>dimension</td>\n",
       "      <td>Indicates the title or honorific used to addre...</td>\n",
       "      <td>[Patient Salutation, Personal Title, Demograph...</td>\n",
       "      <td>1163</td>\n",
       "      <td>245</td>\n",
       "      <td>4</td>\n",
       "      <td>0.003439</td>\n",
       "      <td>0.789338</td>\n",
       "      <td>[None, Mr., Mrs., Ms.]</td>\n",
       "    </tr>\n",
       "    <tr>\n",
       "      <th>7</th>\n",
       "      <td>FIRST</td>\n",
       "      <td>PATIENTS</td>\n",
       "      <td>first</td>\n",
       "      <td>alphanumeric</td>\n",
       "      <td>dimension</td>\n",
       "      <td>Identifies the given name of individuals in th...</td>\n",
       "      <td>[PatientFirstName, PersonalIdentification, Hea...</td>\n",
       "      <td>1163</td>\n",
       "      <td>0</td>\n",
       "      <td>1002</td>\n",
       "      <td>0.861565</td>\n",
       "      <td>1.000000</td>\n",
       "      <td>[Weston546, Sunni15, Elvin140, Trinh357, Antio...</td>\n",
       "    </tr>\n",
       "    <tr>\n",
       "      <th>8</th>\n",
       "      <td>LAST</td>\n",
       "      <td>PATIENTS</td>\n",
       "      <td>last</td>\n",
       "      <td>alphanumeric</td>\n",
       "      <td>dimension</td>\n",
       "      <td>Identifies the surname or family name associat...</td>\n",
       "      <td>[Patient Identifier, Unique Code, Healthcare R...</td>\n",
       "      <td>1163</td>\n",
       "      <td>0</td>\n",
       "      <td>477</td>\n",
       "      <td>0.410146</td>\n",
       "      <td>1.000000</td>\n",
       "      <td>[Wintheiser220, Bartell116, Powlowski563, Hart...</td>\n",
       "    </tr>\n",
       "    <tr>\n",
       "      <th>9</th>\n",
       "      <td>SUFFIX</td>\n",
       "      <td>PATIENTS</td>\n",
       "      <td>suffix</td>\n",
       "      <td>close_ended_text</td>\n",
       "      <td>dimension</td>\n",
       "      <td>Indicates the professional or academic designa...</td>\n",
       "      <td>[Professional Credentials, Patient Identificat...</td>\n",
       "      <td>1163</td>\n",
       "      <td>1147</td>\n",
       "      <td>4</td>\n",
       "      <td>0.003439</td>\n",
       "      <td>0.013758</td>\n",
       "      <td>[JD, None, MD, PhD]</td>\n",
       "    </tr>\n",
       "    <tr>\n",
       "      <th>10</th>\n",
       "      <td>MAIDEN</td>\n",
       "      <td>PATIENTS</td>\n",
       "      <td>maiden</td>\n",
       "      <td>alphanumeric</td>\n",
       "      <td>dimension</td>\n",
       "      <td>Tracks a secondary surname or identifier poten...</td>\n",
       "      <td>[Patient Identity, Family History, Name Variat...</td>\n",
       "      <td>1163</td>\n",
       "      <td>832</td>\n",
       "      <td>249</td>\n",
       "      <td>0.214101</td>\n",
       "      <td>0.284609</td>\n",
       "      <td>[Lueilwitz711, Considine820, Goodwin327, Pagac...</td>\n",
       "    </tr>\n",
       "    <tr>\n",
       "      <th>11</th>\n",
       "      <td>MARITAL</td>\n",
       "      <td>PATIENTS</td>\n",
       "      <td>marital</td>\n",
       "      <td>close_ended_text</td>\n",
       "      <td>dimension</td>\n",
       "      <td>Indicates the marital status of an individual ...</td>\n",
       "      <td>[Marital Status, Demographic Information, Pati...</td>\n",
       "      <td>1163</td>\n",
       "      <td>384</td>\n",
       "      <td>3</td>\n",
       "      <td>0.002580</td>\n",
       "      <td>0.669819</td>\n",
       "      <td>[M, None, S]</td>\n",
       "    </tr>\n",
       "    <tr>\n",
       "      <th>12</th>\n",
       "      <td>RACE</td>\n",
       "      <td>PATIENTS</td>\n",
       "      <td>race</td>\n",
       "      <td>close_ended_text</td>\n",
       "      <td>dimension</td>\n",
       "      <td>Categorizes individuals based on their self-id...</td>\n",
       "      <td>[Demographics, Patient Diversity, Health Equity]</td>\n",
       "      <td>1163</td>\n",
       "      <td>0</td>\n",
       "      <td>6</td>\n",
       "      <td>0.005159</td>\n",
       "      <td>1.000000</td>\n",
       "      <td>[other, asian, native, black, hawaiian, white]</td>\n",
       "    </tr>\n",
       "    <tr>\n",
       "      <th>13</th>\n",
       "      <td>ETHNICITY</td>\n",
       "      <td>PATIENTS</td>\n",
       "      <td>ethnicity</td>\n",
       "      <td>close_ended_text</td>\n",
       "      <td>dimension</td>\n",
       "      <td>Categorizes individuals based on their cultura...</td>\n",
       "      <td>[Demographic Classification, Cultural Identity...</td>\n",
       "      <td>1163</td>\n",
       "      <td>0</td>\n",
       "      <td>2</td>\n",
       "      <td>0.001720</td>\n",
       "      <td>1.000000</td>\n",
       "      <td>[hispanic, nonhispanic]</td>\n",
       "    </tr>\n",
       "    <tr>\n",
       "      <th>14</th>\n",
       "      <td>GENDER</td>\n",
       "      <td>PATIENTS</td>\n",
       "      <td>gender</td>\n",
       "      <td>close_ended_text</td>\n",
       "      <td>dimension</td>\n",
       "      <td>Indicates the classification of individuals ba...</td>\n",
       "      <td>[Patient Demographics, Gender Classification, ...</td>\n",
       "      <td>1163</td>\n",
       "      <td>0</td>\n",
       "      <td>2</td>\n",
       "      <td>0.001720</td>\n",
       "      <td>1.000000</td>\n",
       "      <td>[F, M]</td>\n",
       "    </tr>\n",
       "    <tr>\n",
       "      <th>15</th>\n",
       "      <td>BIRTHPLACE</td>\n",
       "      <td>PATIENTS</td>\n",
       "      <td>birthplace</td>\n",
       "      <td>close_ended_text</td>\n",
       "      <td>dimension</td>\n",
       "      <td>Indicates the geographical location where an i...</td>\n",
       "      <td>[Place Of Birth, Geographic Location, Demograp...</td>\n",
       "      <td>1163</td>\n",
       "      <td>0</td>\n",
       "      <td>317</td>\n",
       "      <td>0.272571</td>\n",
       "      <td>1.000000</td>\n",
       "      <td>[West Springfield  Massachusetts  US, Mashpee ...</td>\n",
       "    </tr>\n",
       "    <tr>\n",
       "      <th>16</th>\n",
       "      <td>ADDRESS</td>\n",
       "      <td>PATIENTS</td>\n",
       "      <td>address</td>\n",
       "      <td>alphanumeric</td>\n",
       "      <td>dimension</td>\n",
       "      <td>Location details associated with individuals f...</td>\n",
       "      <td>[Patient Residential Address, Contact Location...</td>\n",
       "      <td>1163</td>\n",
       "      <td>0</td>\n",
       "      <td>1163</td>\n",
       "      <td>1.000000</td>\n",
       "      <td>1.000000</td>\n",
       "      <td>[497 Miller Divide Unit 37, 749 Rowe Route Uni...</td>\n",
       "    </tr>\n",
       "    <tr>\n",
       "      <th>17</th>\n",
       "      <td>CITY</td>\n",
       "      <td>PATIENTS</td>\n",
       "      <td>city</td>\n",
       "      <td>close_ended_text</td>\n",
       "      <td>dimension</td>\n",
       "      <td>Indicates the municipality associated with an ...</td>\n",
       "      <td>[Patient Residential Location, Geographic Regi...</td>\n",
       "      <td>1163</td>\n",
       "      <td>0</td>\n",
       "      <td>256</td>\n",
       "      <td>0.220120</td>\n",
       "      <td>1.000000</td>\n",
       "      <td>[Weymouth, Belchertown, Westford, North Eastha...</td>\n",
       "    </tr>\n",
       "    <tr>\n",
       "      <th>18</th>\n",
       "      <td>STATE</td>\n",
       "      <td>PATIENTS</td>\n",
       "      <td>state</td>\n",
       "      <td>close_ended_text</td>\n",
       "      <td>dimension</td>\n",
       "      <td>Indicates the geographical region associated w...</td>\n",
       "      <td>[Geographic Location, Patient Residency, State...</td>\n",
       "      <td>1163</td>\n",
       "      <td>0</td>\n",
       "      <td>1</td>\n",
       "      <td>0.000860</td>\n",
       "      <td>1.000000</td>\n",
       "      <td>[Massachusetts]</td>\n",
       "    </tr>\n",
       "    <tr>\n",
       "      <th>19</th>\n",
       "      <td>COUNTY</td>\n",
       "      <td>PATIENTS</td>\n",
       "      <td>county</td>\n",
       "      <td>close_ended_text</td>\n",
       "      <td>dimension</td>\n",
       "      <td>Identifies the administrative division or regi...</td>\n",
       "      <td>[Geographic Location, Administrative Division,...</td>\n",
       "      <td>1163</td>\n",
       "      <td>0</td>\n",
       "      <td>13</td>\n",
       "      <td>0.011178</td>\n",
       "      <td>1.000000</td>\n",
       "      <td>[Bristol County, Berkshire County, Essex Count...</td>\n",
       "    </tr>\n",
       "    <tr>\n",
       "      <th>20</th>\n",
       "      <td>ZIP</td>\n",
       "      <td>PATIENTS</td>\n",
       "      <td>zip</td>\n",
       "      <td>integer</td>\n",
       "      <td>dimension</td>\n",
       "      <td>Identifies the postal code associated with a p...</td>\n",
       "      <td>[Patient Location, Geographic Identifier, Regi...</td>\n",
       "      <td>1163</td>\n",
       "      <td>545</td>\n",
       "      <td>224</td>\n",
       "      <td>0.192605</td>\n",
       "      <td>0.531384</td>\n",
       "      <td>[2130, 1128, 2724, 2171, 2111, 2129, 1420, 109...</td>\n",
       "    </tr>\n",
       "    <tr>\n",
       "      <th>21</th>\n",
       "      <td>LAT</td>\n",
       "      <td>PATIENTS</td>\n",
       "      <td>lat</td>\n",
       "      <td>float</td>\n",
       "      <td>measure</td>\n",
       "      <td>Indicates the geographical latitude coordinate...</td>\n",
       "      <td>[Geolocation, Patient Location, Latitude Coord...</td>\n",
       "      <td>1163</td>\n",
       "      <td>0</td>\n",
       "      <td>1163</td>\n",
       "      <td>1.000000</td>\n",
       "      <td>1.000000</td>\n",
       "      <td>[42.657003129984190, 41.940637989824170, 42.28...</td>\n",
       "    </tr>\n",
       "    <tr>\n",
       "      <th>22</th>\n",
       "      <td>LON</td>\n",
       "      <td>PATIENTS</td>\n",
       "      <td>lon</td>\n",
       "      <td>float</td>\n",
       "      <td>measure</td>\n",
       "      <td>Indicates the longitudinal coordinate used to ...</td>\n",
       "      <td>[Geographic Longitude, Patient Location Mappin...</td>\n",
       "      <td>1163</td>\n",
       "      <td>0</td>\n",
       "      <td>1163</td>\n",
       "      <td>1.000000</td>\n",
       "      <td>1.000000</td>\n",
       "      <td>[-72.43031328524798, -71.07977501340793, -72.4...</td>\n",
       "    </tr>\n",
       "    <tr>\n",
       "      <th>23</th>\n",
       "      <td>HEALTHCARE_EXPENSES</td>\n",
       "      <td>PATIENTS</td>\n",
       "      <td>healthcare_expenses</td>\n",
       "      <td>float</td>\n",
       "      <td>measure</td>\n",
       "      <td>Tracks the monetary costs incurred for service...</td>\n",
       "      <td>[Patient Financial Data, Healthcare Cost Analy...</td>\n",
       "      <td>1163</td>\n",
       "      <td>0</td>\n",
       "      <td>1163</td>\n",
       "      <td>1.000000</td>\n",
       "      <td>1.000000</td>\n",
       "      <td>[1473050.9370000002, 1840593.0890000002, 20403...</td>\n",
       "    </tr>\n",
       "    <tr>\n",
       "      <th>24</th>\n",
       "      <td>HEALTHCARE_COVERAGE</td>\n",
       "      <td>PATIENTS</td>\n",
       "      <td>healthcare_coverage</td>\n",
       "      <td>float</td>\n",
       "      <td>measure</td>\n",
       "      <td>Indicates the monetary value allocated for an ...</td>\n",
       "      <td>[InsuranceCoverageAmount, PatientFinancialResp...</td>\n",
       "      <td>1163</td>\n",
       "      <td>0</td>\n",
       "      <td>1036</td>\n",
       "      <td>0.890800</td>\n",
       "      <td>1.000000</td>\n",
       "      <td>[150843.39449999997, 7908.892499999999, 12172....</td>\n",
       "    </tr>\n",
       "  </tbody>\n",
       "</table>\n",
       "</div>"
      ],
      "text/plain": [
       "            column_name table_name        business_name       datatype_l1  \\\n",
       "0                    ID   PATIENTS                   id      alphanumeric   \n",
       "1             BIRTHDATE   PATIENTS            birthdate       date & time   \n",
       "2             DEATHDATE   PATIENTS            deathdate       date & time   \n",
       "3                   SSN   PATIENTS                  ssn      alphanumeric   \n",
       "4               DRIVERS   PATIENTS              drivers      alphanumeric   \n",
       "5              PASSPORT   PATIENTS             passport      alphanumeric   \n",
       "6                PREFIX   PATIENTS               prefix  close_ended_text   \n",
       "7                 FIRST   PATIENTS                first      alphanumeric   \n",
       "8                  LAST   PATIENTS                 last      alphanumeric   \n",
       "9                SUFFIX   PATIENTS               suffix  close_ended_text   \n",
       "10               MAIDEN   PATIENTS               maiden      alphanumeric   \n",
       "11              MARITAL   PATIENTS              marital  close_ended_text   \n",
       "12                 RACE   PATIENTS                 race  close_ended_text   \n",
       "13            ETHNICITY   PATIENTS            ethnicity  close_ended_text   \n",
       "14               GENDER   PATIENTS               gender  close_ended_text   \n",
       "15           BIRTHPLACE   PATIENTS           birthplace  close_ended_text   \n",
       "16              ADDRESS   PATIENTS              address      alphanumeric   \n",
       "17                 CITY   PATIENTS                 city  close_ended_text   \n",
       "18                STATE   PATIENTS                state  close_ended_text   \n",
       "19               COUNTY   PATIENTS               county  close_ended_text   \n",
       "20                  ZIP   PATIENTS                  zip           integer   \n",
       "21                  LAT   PATIENTS                  lat             float   \n",
       "22                  LON   PATIENTS                  lon             float   \n",
       "23  HEALTHCARE_EXPENSES   PATIENTS  healthcare_expenses             float   \n",
       "24  HEALTHCARE_COVERAGE   PATIENTS  healthcare_coverage             float   \n",
       "\n",
       "   datatype_l2                                  business_glossary  \\\n",
       "0    dimension  Serves as a unique identifier for individuals ...   \n",
       "1    dimension  Indicates the date on which an individual was ...   \n",
       "2    dimension  Date associated with the end of an individual'...   \n",
       "3    dimension  Serves as a unique identifier for individuals ...   \n",
       "4    dimension  Indicates the unique identifier or status rela...   \n",
       "5    dimension  Unique identifier used to document official tr...   \n",
       "6    dimension  Indicates the title or honorific used to addre...   \n",
       "7    dimension  Identifies the given name of individuals in th...   \n",
       "8    dimension  Identifies the surname or family name associat...   \n",
       "9    dimension  Indicates the professional or academic designa...   \n",
       "10   dimension  Tracks a secondary surname or identifier poten...   \n",
       "11   dimension  Indicates the marital status of an individual ...   \n",
       "12   dimension  Categorizes individuals based on their self-id...   \n",
       "13   dimension  Categorizes individuals based on their cultura...   \n",
       "14   dimension  Indicates the classification of individuals ba...   \n",
       "15   dimension  Indicates the geographical location where an i...   \n",
       "16   dimension  Location details associated with individuals f...   \n",
       "17   dimension  Indicates the municipality associated with an ...   \n",
       "18   dimension  Indicates the geographical region associated w...   \n",
       "19   dimension  Identifies the administrative division or regi...   \n",
       "20   dimension  Identifies the postal code associated with a p...   \n",
       "21     measure  Indicates the geographical latitude coordinate...   \n",
       "22     measure  Indicates the longitudinal coordinate used to ...   \n",
       "23     measure  Tracks the monetary costs incurred for service...   \n",
       "24     measure  Indicates the monetary value allocated for an ...   \n",
       "\n",
       "                                        business_tags  count  null_count  \\\n",
       "0   [Patient Identifier, Unique Identifier, Health...   1163           0   \n",
       "1   [Patient Demographics, Date Of Birth, Age Calc...   1163           0   \n",
       "2   [Patient Mortality Tracking, End Of Life Date,...   1163        1000   \n",
       "3   [Personal Identification, Patient Record Linki...   1163           0   \n",
       "4   [Patient Identification, Healthcare System Dri...   1163         215   \n",
       "5   [Identity Verification, Travel Documentation, ...   1163         276   \n",
       "6   [Patient Salutation, Personal Title, Demograph...   1163         245   \n",
       "7   [PatientFirstName, PersonalIdentification, Hea...   1163           0   \n",
       "8   [Patient Identifier, Unique Code, Healthcare R...   1163           0   \n",
       "9   [Professional Credentials, Patient Identificat...   1163        1147   \n",
       "10  [Patient Identity, Family History, Name Variat...   1163         832   \n",
       "11  [Marital Status, Demographic Information, Pati...   1163         384   \n",
       "12   [Demographics, Patient Diversity, Health Equity]   1163           0   \n",
       "13  [Demographic Classification, Cultural Identity...   1163           0   \n",
       "14  [Patient Demographics, Gender Classification, ...   1163           0   \n",
       "15  [Place Of Birth, Geographic Location, Demograp...   1163           0   \n",
       "16  [Patient Residential Address, Contact Location...   1163           0   \n",
       "17  [Patient Residential Location, Geographic Regi...   1163           0   \n",
       "18  [Geographic Location, Patient Residency, State...   1163           0   \n",
       "19  [Geographic Location, Administrative Division,...   1163           0   \n",
       "20  [Patient Location, Geographic Identifier, Regi...   1163         545   \n",
       "21  [Geolocation, Patient Location, Latitude Coord...   1163           0   \n",
       "22  [Geographic Longitude, Patient Location Mappin...   1163           0   \n",
       "23  [Patient Financial Data, Healthcare Cost Analy...   1163           0   \n",
       "24  [InsuranceCoverageAmount, PatientFinancialResp...   1163           0   \n",
       "\n",
       "    distinct_count  uniqueness  completeness  \\\n",
       "0             1163    1.000000      1.000000   \n",
       "1              987    0.848667      1.000000   \n",
       "2              164    0.141015      0.140155   \n",
       "3             1163    1.000000      1.000000   \n",
       "4              942    0.809974      0.815133   \n",
       "5              888    0.763543      0.762683   \n",
       "6                4    0.003439      0.789338   \n",
       "7             1002    0.861565      1.000000   \n",
       "8              477    0.410146      1.000000   \n",
       "9                4    0.003439      0.013758   \n",
       "10             249    0.214101      0.284609   \n",
       "11               3    0.002580      0.669819   \n",
       "12               6    0.005159      1.000000   \n",
       "13               2    0.001720      1.000000   \n",
       "14               2    0.001720      1.000000   \n",
       "15             317    0.272571      1.000000   \n",
       "16            1163    1.000000      1.000000   \n",
       "17             256    0.220120      1.000000   \n",
       "18               1    0.000860      1.000000   \n",
       "19              13    0.011178      1.000000   \n",
       "20             224    0.192605      0.531384   \n",
       "21            1163    1.000000      1.000000   \n",
       "22            1163    1.000000      1.000000   \n",
       "23            1163    1.000000      1.000000   \n",
       "24            1036    0.890800      1.000000   \n",
       "\n",
       "                                          sample_data  \n",
       "0   [fed745aa-0d47-4eb7-58e0-5d132b90a24f, ccfc4db...  \n",
       "1   [1967-01-30, 1969-10-19, 1959-07-24, 2006-07-0...  \n",
       "2   [2008-07-04, 2006-11-17, 2002-02-01, 1996-05-1...  \n",
       "3   [999-24-1375, 999-71-1856, 999-40-8176, 999-11...  \n",
       "4   [S99912542, S99913091, S99920464, S99911315, S...  \n",
       "5   [X4451825X, X87002556X, X56072907X, X64916399X...  \n",
       "6                              [None, Mr., Mrs., Ms.]  \n",
       "7   [Weston546, Sunni15, Elvin140, Trinh357, Antio...  \n",
       "8   [Wintheiser220, Bartell116, Powlowski563, Hart...  \n",
       "9                                 [JD, None, MD, PhD]  \n",
       "10  [Lueilwitz711, Considine820, Goodwin327, Pagac...  \n",
       "11                                       [M, None, S]  \n",
       "12     [other, asian, native, black, hawaiian, white]  \n",
       "13                            [hispanic, nonhispanic]  \n",
       "14                                             [F, M]  \n",
       "15  [West Springfield  Massachusetts  US, Mashpee ...  \n",
       "16  [497 Miller Divide Unit 37, 749 Rowe Route Uni...  \n",
       "17  [Weymouth, Belchertown, Westford, North Eastha...  \n",
       "18                                    [Massachusetts]  \n",
       "19  [Bristol County, Berkshire County, Essex Count...  \n",
       "20  [2130, 1128, 2724, 2171, 2111, 2129, 1420, 109...  \n",
       "21  [42.657003129984190, 41.940637989824170, 42.28...  \n",
       "22  [-72.43031328524798, -71.07977501340793, -72.4...  \n",
       "23  [1473050.9370000002, 1840593.0890000002, 20403...  \n",
       "24  [150843.39449999997, 7908.892499999999, 12172....  "
      ]
     },
     "execution_count": 5,
     "metadata": {},
     "output_type": "execute_result"
    }
   ],
   "source": "patients_dataset = sm.datasets['PRODUCTS']\npatients_dataset.profiling_df"
  },
  {
   "cell_type": "markdown",
   "id": "066e6d22-9f22-4199-9eec-29e1717a2e96",
   "metadata": {
    "name": "cell12"
   },
   "source": [
    "The profiling results can be accessed through the `profiling_df` property of the `DataSet` object. It's a pandas DataFrame that you can easily explore. \n",
    "> The business glossary is also available in the `profiling_df`:"
   ]
  },
  {
   "cell_type": "markdown",
   "id": "fc37ad75-0aca-4233-9c54-89ff32a88b11",
   "metadata": {
    "name": "cell13"
   },
   "source": [
    "### Visualizing Relationships\n",
    "\n",
    "The `SemanticModel` automatically discovers the relationships between your tables. You can access the predicted links as a list of `PredictedLink` objects:"
   ]
  },
  {
   "cell_type": "code",
   "execution_count": 6,
   "id": "3edc6a60-f768-4460-83cd-25fc483108a6",
   "metadata": {
    "name": "cell14",
    "language": "python"
   },
   "outputs": [
    {
     "data": {
      "text/plain": [
       "[PredictedLink(from_dataset='ALLERGIES', from_column='PATIENT', to_dataset='PATIENTS', to_column='ID', intersect_count=179, intersect_ratio_from_col=1.0, intersect_ratio_to_col=0.154, accuracy=1.0),\n",
       " PredictedLink(from_dataset='CAREPLANS', from_column='PATIENT', to_dataset='PATIENTS', to_column='ID', intersect_count=552, intersect_ratio_from_col=1.0, intersect_ratio_to_col=0.475, accuracy=1.0),\n",
       " PredictedLink(from_dataset='CLAIMS', from_column='APPOINTMENTID', to_dataset='ENCOUNTERS', to_column='ID', intersect_count=1339, intersect_ratio_from_col=1.0, intersect_ratio_to_col=0.67, accuracy=1.0),\n",
       " PredictedLink(from_dataset='CLAIMS', from_column='PATIENTID', to_dataset='PATIENTS', to_column='ID', intersect_count=35, intersect_ratio_from_col=1.0, intersect_ratio_to_col=0.03, accuracy=1.0),\n",
       " PredictedLink(from_dataset='ENCOUNTERS', from_column='PATIENT', to_dataset='PATIENTS', to_column='ID', intersect_count=48, intersect_ratio_from_col=1.0, intersect_ratio_to_col=0.041, accuracy=1.0),\n",
       " PredictedLink(from_dataset='ENCOUNTERS', from_column='PAYER', to_dataset='PAYERS', to_column='ID', intersect_count=9, intersect_ratio_from_col=1.0, intersect_ratio_to_col=0.9, accuracy=1.0),\n",
       " PredictedLink(from_dataset='ENCOUNTERS', from_column='ID', to_dataset='PROCEDURES', to_column='ENCOUNTER', intersect_count=676, intersect_ratio_from_col=0.338, intersect_ratio_to_col=1.0, accuracy=1.0),\n",
       " PredictedLink(from_dataset='PATIENTS', from_column='ID', to_dataset='PAYER_TRANSITIONS', to_column='PATIENT', intersect_count=58, intersect_ratio_from_col=0.05, intersect_ratio_to_col=1.0, accuracy=1.0),\n",
       " PredictedLink(from_dataset='PATIENTS', from_column='ID', to_dataset='PROCEDURES', to_column='PATIENT', intersect_count=30, intersect_ratio_from_col=0.026, intersect_ratio_to_col=1.0, accuracy=1.0),\n",
       " PredictedLink(from_dataset='PATIENTS', from_column='ID', to_dataset='SUPPLIES', to_column='PATIENT', intersect_count=20, intersect_ratio_from_col=0.017, intersect_ratio_to_col=1.0, accuracy=1.0),\n",
       " PredictedLink(from_dataset='PAYERS', from_column='ID', to_dataset='PAYER_TRANSITIONS', to_column='PAYER', intersect_count=9, intersect_ratio_from_col=0.9, intersect_ratio_to_col=1.0, accuracy=1.0)]"
      ]
     },
     "execution_count": 6,
     "metadata": {},
     "output_type": "execute_result"
    }
   ],
   "source": [
    "sm.links"
   ]
  },
  {
   "cell_type": "markdown",
   "id": "f21cb851-6c0d-410d-a037-2bd027a629c8",
   "metadata": {
    "name": "cell15"
   },
   "source": [
    "You can also visualize these relationships as a graph. In case you run into an error, make sure you install/upgrade your ipykernel package:\n",
    "> %pip install --upgrade ipykernel"
   ]
  },
  {
   "cell_type": "code",
   "execution_count": 7,
   "id": "65c81899-2075-474f-b375-2134ba246543",
   "metadata": {
    "name": "cell16",
    "language": "python"
   },
   "outputs": [
    {
     "data": {
      "image/png": "[encoded data removed]",
      "text/plain": [
       "<Figure size 2000x2000 with 1 Axes>"
      ]
     },
     "metadata": {},
     "output_type": "display_data"
    }
   ],
   "source": [
    "sm.visualize()  # To visualize the relationships as a graph"
   ]
  },
  {
   "cell_type": "markdown",
   "id": "0d3fcdcb-2861-45b7-851c-041d922d7138",
   "metadata": {
    "name": "cell17"
   },
   "source": [
    "## 4. The Semantic Layer\n",
    "\n",
    "The SemanticModel results are used to generate YAML files which are saved automatically. These files defines the semantic layer, including the models (tables) and their relationships. \n",
    "\n",
    "By default, these files are saved in the current working directory. You can configure this path by setting the `PROJECT_BASE` environment variable."
   ]
  },
  {
   "cell_type": "markdown",
   "id": "4be9bcfb-af62-4aa3-bb9d-69c6c67da66c",
   "metadata": {
    "name": "cell19",
    "collapsed": false
   },
   "source": "## 5. Deploying to Snowflake"
  },
  {
   "cell_type": "markdown",
   "id": "d972bcb7-02f0-4a63-84ac-520c6a51a2f9",
   "metadata": {
    "name": "cell29",
    "collapsed": false
   },
   "source": "Syncs the business glossaries with the source tables. Creates a semantic view in Snowflake complete with business glossaries, datatypes and relationships"
  },
  {
   "cell_type": "code",
   "id": "a84f30d2-dde1-4955-a47a-71f08a6f2b6b",
   "metadata": {
    "language": "python",
    "name": "cell21"
   },
   "outputs": [],
   "source": "sm.deploy('snowflake')",
   "execution_count": null
  },
  {
   "cell_type": "markdown",
   "id": "d6de32dd-503a-407f-8997-862e387aa65f",
   "metadata": {
    "name": "cell34",
    "collapsed": false
   },
   "source": "You can also just create the YAML compatible with Snowflake Semantic Views:"
  },
  {
   "cell_type": "code",
   "execution_count": 9,
   "id": "6fd853fd-6c56-4fa3-a0c8-4cbb864dee5a",
   "metadata": {
    "name": "cell20",
    "language": "python"
   },
   "outputs": [
    {
     "name": "stdout",
     "output_type": "stream",
     "text": [
      "Successfully exported to snowflake_semantic_model.yml\n"
     ]
    },
    {
     "data": {
      "text/plain": [
       "{'name': 'intugle_generated_model',\n",
       " 'description': 'Semantic model generated by Intugle',\n",
       " 'tables': [{'name': 'PROCEDURES',\n",
       "   'description': 'Tracks detailed information about procedures performed, including their timing, associated patients and encounters, procedural codes, descriptions, costs, and reasons for execution.',\n",
       "   'base_table': {'database': 'SNOWFLAKE_LEARNING_DB',\n",
       "    'schema': 'HEALTHCARE',\n",
       "    'table': 'PROCEDURES'},\n",
       "   'dimensions': [{'name': 'START_',\n",
       "     'description': 'Marks the initiation timestamp of a procedure or activity.',\n",
       "     'expr': '\"START_\"',\n",
       "     'data_type': 'DATETIME',\n",
       "     'unique': False},\n",
       "    {'name': 'STOP',\n",
       "     'description': 'Marks the conclusion timestamp of a specific procedure or activity.',\n",
       "     'expr': '\"STOP\"',\n",
       "     'data_type': 'DATETIME',\n",
       "     'unique': False},\n",
       "    {'name': 'PATIENT',\n",
       "     'description': 'Identifies individuals associated with medical procedures for tracking and record-keeping purposes.',\n",
       "     'expr': '\"PATIENT\"',\n",
       "     'data_type': 'TEXT',\n",
       "     'unique': False},\n",
       "    {'name': 'ENCOUNTER',\n",
       "     'description': 'Identifies a specific instance of interaction or event associated with a procedure.',\n",
       "     'expr': '\"ENCOUNTER\"',\n",
       "     'data_type': 'TEXT',\n",
       "     'unique': False},\n",
       "    {'name': 'CODE',\n",
       "     'description': 'Identifies specific procedures performed or documented within a business process.',\n",
       "     'expr': '\"CODE\"',\n",
       "     'data_type': 'NUMBER',\n",
       "     'unique': False},\n",
       "    {'name': 'DESCRIPTION',\n",
       "     'description': 'Details the specific medical procedure performed or planned.',\n",
       "     'expr': '\"DESCRIPTION\"',\n",
       "     'data_type': 'TEXT',\n",
       "     'unique': False},\n",
       "    {'name': 'REASONCODE',\n",
       "     'description': 'Indicates the underlying justification or rationale associated with a specific procedure.',\n",
       "     'expr': '\"REASONCODE\"',\n",
       "     'data_type': 'NUMBER',\n",
       "     'unique': False},\n",
       "    {'name': 'REASONDESCRIPTION',\n",
       "     'description': 'Explanation or justification associated with a specific procedure.',\n",
       "     'expr': '\"REASONDESCRIPTION\"',\n",
       "     'data_type': 'TEXT',\n",
       "     'unique': False}],\n",
       "   'facts': [{'name': 'BASE_COST',\n",
       "     'description': 'The foundational monetary amount associated with a procedure before any adjustments or additional charges.',\n",
       "     'expr': '\"BASE_COST\"',\n",
       "     'data_type': 'FLOAT'}]},\n",
       "  {'name': 'ALLERGIES',\n",
       "   'description': \"Tracks information about individuals' allergies, including their type, category, reactions, and severity, to support effective management and prevention of adverse effects during interactions.\",\n",
       "   'base_table': {'database': 'SNOWFLAKE_LEARNING_DB',\n",
       "    'schema': 'HEALTHCARE',\n",
       "    'table': 'ALLERGIES'},\n",
       "   'dimensions': [{'name': '_start',\n",
       "     'description': 'Indicates the date when an allergy record was first documented or became relevant.',\n",
       "     'expr': '\"start\"',\n",
       "     'data_type': 'DATETIME',\n",
       "     'unique': False},\n",
       "    {'name': 'STOP',\n",
       "     'description': 'Indicates the cessation or conclusion of a relevant process or condition.',\n",
       "     'expr': '\"STOP\"',\n",
       "     'data_type': 'TEXT',\n",
       "     'unique': False},\n",
       "    {'name': 'PATIENT',\n",
       "     'description': 'Identifies individuals associated with recorded allergy information.',\n",
       "     'expr': '\"PATIENT\"',\n",
       "     'data_type': 'TEXT',\n",
       "     'unique': False},\n",
       "    {'name': 'ENCOUNTER',\n",
       "     'description': 'Identifies the specific instance of interaction or event associated with a record of allergic reactions.',\n",
       "     'expr': '\"ENCOUNTER\"',\n",
       "     'data_type': 'TEXT',\n",
       "     'unique': False},\n",
       "    {'name': 'CODE',\n",
       "     'description': 'Identifies a specific allergy using a unique alphanumeric identifier.',\n",
       "     'expr': '\"CODE\"',\n",
       "     'data_type': 'NUMBER',\n",
       "     'unique': False},\n",
       "    {'name': 'SYSTEM',\n",
       "     'description': 'Identifies the source or origin related to the recorded information.',\n",
       "     'expr': '\"SYSTEM\"',\n",
       "     'data_type': 'TEXT',\n",
       "     'unique': False},\n",
       "    {'name': 'DESCRIPTION',\n",
       "     'description': 'Details the specific substances or medications that individuals may have adverse reactions to.',\n",
       "     'expr': '\"DESCRIPTION\"',\n",
       "     'data_type': 'TEXT',\n",
       "     'unique': False},\n",
       "    {'name': 'TYPE',\n",
       "     'description': \"Categorizes the nature of a condition impacting an individual's ability to tolerate substances or elements.\",\n",
       "     'expr': '\"TYPE\"',\n",
       "     'data_type': 'TEXT',\n",
       "     'unique': False},\n",
       "    {'name': 'CATEGORY',\n",
       "     'description': 'Classifies the type or source of allergic reactions.',\n",
       "     'expr': '\"CATEGORY\"',\n",
       "     'data_type': 'TEXT',\n",
       "     'unique': False},\n",
       "    {'name': 'REACTION1',\n",
       "     'description': 'Describes the specific physical or physiological response experienced due to exposure to an allergen.',\n",
       "     'expr': '\"REACTION1\"',\n",
       "     'data_type': 'NUMBER',\n",
       "     'unique': False},\n",
       "    {'name': 'DESCRIPTION1',\n",
       "     'description': \"Provides a brief textual description of an individual's allergic reactions or symptoms.\",\n",
       "     'expr': '\"DESCRIPTION1\"',\n",
       "     'data_type': 'TEXT',\n",
       "     'unique': False},\n",
       "    {'name': 'SEVERITY1',\n",
       "     'description': 'Indicates the intensity level of an allergic reaction.',\n",
       "     'expr': '\"SEVERITY1\"',\n",
       "     'data_type': 'TEXT',\n",
       "     'unique': False},\n",
       "    {'name': 'REACTION2',\n",
       "     'description': 'Describes the secondary reaction or symptom experienced in response to an allergen.',\n",
       "     'expr': '\"REACTION2\"',\n",
       "     'data_type': 'NUMBER',\n",
       "     'unique': False},\n",
       "    {'name': 'DESCRIPTION2',\n",
       "     'description': 'Provides supplementary details about allergy symptoms or findings.',\n",
       "     'expr': '\"DESCRIPTION2\"',\n",
       "     'data_type': 'TEXT',\n",
       "     'unique': False},\n",
       "    {'name': 'SEVERITY2',\n",
       "     'description': 'Indicates the intensity or seriousness of an allergic reaction.',\n",
       "     'expr': '\"SEVERITY2\"',\n",
       "     'data_type': 'TEXT',\n",
       "     'unique': False}],\n",
       "   'facts': []},\n",
       "  {'name': 'ENCOUNTERS',\n",
       "   'description': 'Logs interactions between individuals and service providers, capturing details such as timing, type, associated costs, and reasons for the interaction.',\n",
       "   'base_table': {'database': 'SNOWFLAKE_LEARNING_DB',\n",
       "    'schema': 'HEALTHCARE',\n",
       "    'table': 'ENCOUNTERS'},\n",
       "   'dimensions': [{'name': 'ID',\n",
       "     'description': 'Serves as a unique identifier for individual records associated with specific interactions or events.',\n",
       "     'expr': '\"ID\"',\n",
       "     'data_type': 'TEXT',\n",
       "     'unique': True},\n",
       "    {'name': 'START_',\n",
       "     'description': 'Marks the initiation of an event or interaction within a defined process or system.',\n",
       "     'expr': '\"START_\"',\n",
       "     'data_type': 'DATETIME',\n",
       "     'unique': False},\n",
       "    {'name': 'STOP',\n",
       "     'description': 'Marks the conclusion of a specific interaction or event within a defined process.',\n",
       "     'expr': '\"STOP\"',\n",
       "     'data_type': 'DATETIME',\n",
       "     'unique': False},\n",
       "    {'name': 'PATIENT',\n",
       "     'description': 'Identifies individuals associated with specific interactions or events within the organization.',\n",
       "     'expr': '\"PATIENT\"',\n",
       "     'data_type': 'TEXT',\n",
       "     'unique': False},\n",
       "    {'name': 'ORGANIZATION',\n",
       "     'description': 'Identifies the entity responsible for managing or overseeing the encounter.',\n",
       "     'expr': '\"ORGANIZATION\"',\n",
       "     'data_type': 'TEXT',\n",
       "     'unique': False},\n",
       "    {'name': 'PROVIDER',\n",
       "     'description': 'Identifies the entity responsible for delivering services or conducting activities during an interaction or event.',\n",
       "     'expr': '\"PROVIDER\"',\n",
       "     'data_type': 'TEXT',\n",
       "     'unique': False},\n",
       "    {'name': 'PAYER',\n",
       "     'description': 'Identifies the entity responsible for financing or reimbursing the cost of services provided during an encounter.',\n",
       "     'expr': '\"PAYER\"',\n",
       "     'data_type': 'TEXT',\n",
       "     'unique': False},\n",
       "    {'name': 'ENCOUNTERCLASS',\n",
       "     'description': 'Categorizes the type of interaction or setting in which services or care are provided.',\n",
       "     'expr': '\"ENCOUNTERCLASS\"',\n",
       "     'data_type': 'TEXT',\n",
       "     'unique': False},\n",
       "    {'name': 'CODE',\n",
       "     'description': 'Identifies specific types or categories of medical encounters or events.',\n",
       "     'expr': '\"CODE\"',\n",
       "     'data_type': 'NUMBER',\n",
       "     'unique': False},\n",
       "    {'name': 'DESCRIPTION',\n",
       "     'description': 'Details the type or purpose of a specific interaction or event involving an individual.',\n",
       "     'expr': '\"DESCRIPTION\"',\n",
       "     'data_type': 'TEXT',\n",
       "     'unique': False},\n",
       "    {'name': 'REASONCODE',\n",
       "     'description': 'Indicates the specific reason or justification associated with an encounter or event.',\n",
       "     'expr': '\"REASONCODE\"',\n",
       "     'data_type': 'NUMBER',\n",
       "     'unique': False},\n",
       "    {'name': 'REASONDESCRIPTION',\n",
       "     'description': 'Describes the primary reason or condition associated with a specific encounter or interaction.',\n",
       "     'expr': '\"REASONDESCRIPTION\"',\n",
       "     'data_type': 'TEXT',\n",
       "     'unique': False}],\n",
       "   'facts': [{'name': 'BASE_ENCOUNTER_COST',\n",
       "     'description': 'Represents the foundational expense associated with a service interaction or event.',\n",
       "     'expr': '\"BASE_ENCOUNTER_COST\"',\n",
       "     'data_type': 'FLOAT'},\n",
       "    {'name': 'TOTAL_CLAIM_COST',\n",
       "     'description': 'The total monetary amount associated with a claim in an encounter.',\n",
       "     'expr': '\"TOTAL_CLAIM_COST\"',\n",
       "     'data_type': 'FLOAT'},\n",
       "    {'name': 'PAYER_COVERAGE',\n",
       "     'description': 'Indicates the financial contribution or coverage provided by a payer for a specific encounter.',\n",
       "     'expr': '\"PAYER_COVERAGE\"',\n",
       "     'data_type': 'FLOAT'}],\n",
       "   'primary_key': {'columns': ['ID']}},\n",
       "  {'name': 'SUPPLIES',\n",
       "   'description': 'Tracks the distribution and utilization of items or materials provided to individuals during specific interactions or events, including details such as type, quantity, and associated identifiers.',\n",
       "   'base_table': {'database': 'SNOWFLAKE_LEARNING_DB',\n",
       "    'schema': 'HEALTHCARE',\n",
       "    'table': 'SUPPLIES'},\n",
       "   'dimensions': [{'name': 'DATE',\n",
       "     'description': 'Indicates the specific day associated with the availability or tracking of supplies.',\n",
       "     'expr': '\"DATE\"',\n",
       "     'data_type': 'DATETIME',\n",
       "     'unique': False},\n",
       "    {'name': 'PATIENT',\n",
       "     'description': 'Identifies individuals associated with the distribution or utilization of supplies.',\n",
       "     'expr': '\"PATIENT\"',\n",
       "     'data_type': 'TEXT',\n",
       "     'unique': False},\n",
       "    {'name': 'ENCOUNTER',\n",
       "     'description': 'Identifies a specific interaction or event associated with the provision or usage of supplies.',\n",
       "     'expr': '\"ENCOUNTER\"',\n",
       "     'data_type': 'TEXT',\n",
       "     'unique': False},\n",
       "    {'name': 'CODE',\n",
       "     'description': 'Identifies specific items or categories within the inventory management system.',\n",
       "     'expr': '\"CODE\"',\n",
       "     'data_type': 'NUMBER',\n",
       "     'unique': False},\n",
       "    {'name': 'DESCRIPTION',\n",
       "     'description': 'Details the type or category of items used in operational processes or procedures.',\n",
       "     'expr': '\"DESCRIPTION\"',\n",
       "     'data_type': 'TEXT',\n",
       "     'unique': False}],\n",
       "   'facts': [{'name': 'QUANTITY',\n",
       "     'description': 'Indicates the count of items available or provided in a supply transaction.',\n",
       "     'expr': '\"QUANTITY\"',\n",
       "     'data_type': 'NUMBER'}]},\n",
       "  {'name': 'PAYERS',\n",
       "   'description': 'Identifies organizations or entities responsible for funding or reimbursing costs related to services, procedures, medications, and other benefits for individuals, while tracking financial coverage, uncovered amounts, and customer metrics.',\n",
       "   'base_table': {'database': 'SNOWFLAKE_LEARNING_DB',\n",
       "    'schema': 'HEALTHCARE',\n",
       "    'table': 'PAYERS'},\n",
       "   'dimensions': [{'name': 'ID',\n",
       "     'description': 'Serves as a unique identifier for entities responsible for payment transactions.',\n",
       "     'expr': '\"ID\"',\n",
       "     'data_type': 'TEXT',\n",
       "     'unique': True},\n",
       "    {'name': 'NAME',\n",
       "     'description': 'Identifies entities responsible for funding or reimbursing services.',\n",
       "     'expr': '\"NAME\"',\n",
       "     'data_type': 'TEXT',\n",
       "     'unique': False},\n",
       "    {'name': 'ADDRESS',\n",
       "     'description': 'Location details associated with entities responsible for payment transactions.',\n",
       "     'expr': '\"ADDRESS\"',\n",
       "     'data_type': 'TEXT',\n",
       "     'unique': False},\n",
       "    {'name': 'CITY',\n",
       "     'description': \"Identifies the geographical location associated with the payer's operations or address.\",\n",
       "     'expr': '\"CITY\"',\n",
       "     'data_type': 'TEXT',\n",
       "     'unique': False},\n",
       "    {'name': 'STATE_HEADQUARTERED',\n",
       "     'description': 'Indicates the state where the payer organization is officially based or registered.',\n",
       "     'expr': '\"STATE_HEADQUARTERED\"',\n",
       "     'data_type': 'TEXT',\n",
       "     'unique': False},\n",
       "    {'name': 'ZIP',\n",
       "     'description': \"Identifies the postal code associated with the payer's address.\",\n",
       "     'expr': '\"ZIP\"',\n",
       "     'data_type': 'NUMBER',\n",
       "     'unique': False},\n",
       "    {'name': 'PHONE',\n",
       "     'description': 'Provides a contact number for entities responsible for payment processing or financial transactions.',\n",
       "     'expr': '\"PHONE\"',\n",
       "     'data_type': 'TEXT',\n",
       "     'unique': False}],\n",
       "   'facts': [{'name': 'AMOUNT_COVERED',\n",
       "     'description': 'Indicates the monetary amount a payer is responsible for covering in a financial transaction.',\n",
       "     'expr': '\"AMOUNT_COVERED\"',\n",
       "     'data_type': 'FLOAT'},\n",
       "    {'name': 'AMOUNT_UNCOVERED',\n",
       "     'description': 'Represents the portion of financial responsibility not covered by payers in a transaction or agreement.',\n",
       "     'expr': '\"AMOUNT_UNCOVERED\"',\n",
       "     'data_type': 'FLOAT'},\n",
       "    {'name': 'REVENUE',\n",
       "     'description': 'Measures the total income generated by entities responsible for payment transactions.',\n",
       "     'expr': '\"REVENUE\"',\n",
       "     'data_type': 'NUMBER'},\n",
       "    {'name': 'COVERED_ENCOUNTERS',\n",
       "     'description': 'Tracks the number of medical service interactions covered by an insurance payer.',\n",
       "     'expr': '\"COVERED_ENCOUNTERS\"',\n",
       "     'data_type': 'NUMBER'},\n",
       "    {'name': 'UNCOVERED_ENCOUNTERS',\n",
       "     'description': 'Tracks the number of patient interactions or visits not covered by a payer or insurance entity.',\n",
       "     'expr': '\"UNCOVERED_ENCOUNTERS\"',\n",
       "     'data_type': 'NUMBER'},\n",
       "    {'name': 'COVERED_MEDICATIONS',\n",
       "     'description': 'Indicates the medications included in the coverage provided by payers.',\n",
       "     'expr': '\"COVERED_MEDICATIONS\"',\n",
       "     'data_type': 'NUMBER'},\n",
       "    {'name': 'UNCOVERED_MEDICATIONS',\n",
       "     'description': \"Indicates the count of medications not included in a payer's coverage plan.\",\n",
       "     'expr': '\"UNCOVERED_MEDICATIONS\"',\n",
       "     'data_type': 'NUMBER'},\n",
       "    {'name': 'COVERED_PROCEDURES',\n",
       "     'description': 'Indicates the procedures included in the coverage provided by payers.',\n",
       "     'expr': '\"COVERED_PROCEDURES\"',\n",
       "     'data_type': 'NUMBER'},\n",
       "    {'name': 'UNCOVERED_PROCEDURES',\n",
       "     'description': \"Indicates the count of medical procedures not covered by a payer's insurance plan.\",\n",
       "     'expr': '\"UNCOVERED_PROCEDURES\"',\n",
       "     'data_type': 'NUMBER'},\n",
       "    {'name': 'COVERED_IMMUNIZATIONS',\n",
       "     'description': 'Indicates the number of immunizations financially supported by a payer.',\n",
       "     'expr': '\"COVERED_IMMUNIZATIONS\"',\n",
       "     'data_type': 'NUMBER'},\n",
       "    {'name': 'UNCOVERED_IMMUNIZATIONS',\n",
       "     'description': \"Tracks the count of immunizations not covered by a payer's insurance plan.\",\n",
       "     'expr': '\"UNCOVERED_IMMUNIZATIONS\"',\n",
       "     'data_type': 'NUMBER'},\n",
       "    {'name': 'UNIQUE_CUSTOMERS',\n",
       "     'description': 'Tracks the count of distinct individuals associated with a payer entity.',\n",
       "     'expr': '\"UNIQUE_CUSTOMERS\"',\n",
       "     'data_type': 'NUMBER'},\n",
       "    {'name': 'QOLS_AVG',\n",
       "     'description': 'Measures the average quality of life score associated with payers.',\n",
       "     'expr': '\"QOLS_AVG\"',\n",
       "     'data_type': 'FLOAT'},\n",
       "    {'name': 'MEMBER_MONTHS',\n",
       "     'description': 'Tracks the total duration of membership coverage measured in months for individuals associated with a payer.',\n",
       "     'expr': '\"MEMBER_MONTHS\"',\n",
       "     'data_type': 'NUMBER'}],\n",
       "   'primary_key': {'columns': ['ID']}},\n",
       "  {'name': 'top_patients_by_claim_count',\n",
       "   'description': 'Identifies individuals with the highest claim counts to support analysis of claim patterns and resource utilization.',\n",
       "   'base_table': {'database': 'SNOWFLAKE_LEARNING_DB',\n",
       "    'schema': 'HEALTHCARE',\n",
       "    'table': 'top_patients_by_claim_count'},\n",
       "   'dimensions': [{'name': 'FIRST_NAME',\n",
       "     'description': 'Identifies the given name of individuals listed in the dataset related to claim counts.',\n",
       "     'expr': '\"FIRST_NAME\"',\n",
       "     'data_type': 'TEXT',\n",
       "     'unique': True},\n",
       "    {'name': 'LAST_NAME',\n",
       "     'description': 'Identifies the surname of individuals listed in the dataset related to claim counts.',\n",
       "     'expr': '\"LAST_NAME\"',\n",
       "     'data_type': 'TEXT',\n",
       "     'unique': False}],\n",
       "   'facts': [{'name': 'NUMBER_OF_CLAIMS',\n",
       "     'description': 'Indicates the total count of claims associated with an individual or entity in a specific dataset.',\n",
       "     'expr': '\"NUMBER_OF_CLAIMS\"',\n",
       "     'data_type': 'NUMBER'}],\n",
       "   'primary_key': {'columns': ['FIRST_NAME']}},\n",
       "  {'name': 'PAYER_TRANSITIONS',\n",
       "   'description': 'Tracks changes in payer relationships and coverage details over time for individuals, including primary and secondary payer roles, ownership status, and associated ownership details.',\n",
       "   'base_table': {'database': 'SNOWFLAKE_LEARNING_DB',\n",
       "    'schema': 'HEALTHCARE',\n",
       "    'table': 'PAYER_TRANSITIONS'},\n",
       "   'dimensions': [{'name': 'PATIENT',\n",
       "     'description': 'Identifies individuals involved in transitions between payment entities or arrangements.',\n",
       "     'expr': '\"PATIENT\"',\n",
       "     'data_type': 'TEXT',\n",
       "     'unique': False},\n",
       "    {'name': 'MEMBERID',\n",
       "     'description': 'Unique identifier used to track individuals within payer-related transitions.',\n",
       "     'expr': '\"MEMBERID\"',\n",
       "     'data_type': 'TEXT',\n",
       "     'unique': False},\n",
       "    {'name': 'START_YEAR',\n",
       "     'description': 'Marks the initiation date of a transition involving a payer entity.',\n",
       "     'expr': '\"START_YEAR\"',\n",
       "     'data_type': 'DATETIME',\n",
       "     'unique': False},\n",
       "    {'name': 'END_YEAR',\n",
       "     'description': \"Marks the conclusion of a payer's transition period within a specified timeline.\",\n",
       "     'expr': '\"END_YEAR\"',\n",
       "     'data_type': 'DATETIME',\n",
       "     'unique': False},\n",
       "    {'name': 'PAYER',\n",
       "     'description': 'Identifies the entity responsible for funding or reimbursing transactions within a financial or operational workflow.',\n",
       "     'expr': '\"PAYER\"',\n",
       "     'data_type': 'TEXT',\n",
       "     'unique': False},\n",
       "    {'name': 'SECONDARY_PAYER',\n",
       "     'description': 'Identifies the entity responsible for providing secondary financial coverage or payment in a transaction.',\n",
       "     'expr': '\"SECONDARY_PAYER\"',\n",
       "     'data_type': 'TEXT',\n",
       "     'unique': False},\n",
       "    {'name': 'OWNERSHIP',\n",
       "     'description': 'Indicates the relationship or responsibility of an individual or entity in managing or overseeing a specific transition.',\n",
       "     'expr': '\"OWNERSHIP\"',\n",
       "     'data_type': 'TEXT',\n",
       "     'unique': False},\n",
       "    {'name': 'OWNERNAME',\n",
       "     'description': 'Identifies the individual or entity responsible for overseeing or managing transitions related to payers.',\n",
       "     'expr': '\"OWNERNAME\"',\n",
       "     'data_type': 'TEXT',\n",
       "     'unique': False}],\n",
       "   'facts': []},\n",
       "  {'name': 'PATIENTS',\n",
       "   'description': 'Captures demographic, identification, and geographical details of individuals along with financial data related to their expenses and coverage.',\n",
       "   'base_table': {'database': 'SNOWFLAKE_LEARNING_DB',\n",
       "    'schema': 'HEALTHCARE',\n",
       "    'table': 'PATIENTS'},\n",
       "   'dimensions': [{'name': 'ID',\n",
       "     'description': 'Serves as a unique identifier for individuals within the patient records system.',\n",
       "     'expr': '\"ID\"',\n",
       "     'data_type': 'TEXT',\n",
       "     'unique': True},\n",
       "    {'name': 'BIRTHDATE',\n",
       "     'description': 'Indicates the date on which an individual was born.',\n",
       "     'expr': '\"BIRTHDATE\"',\n",
       "     'data_type': 'DATETIME',\n",
       "     'unique': False},\n",
       "    {'name': 'DEATHDATE',\n",
       "     'description': \"Date associated with the end of an individual's life.\",\n",
       "     'expr': '\"DEATHDATE\"',\n",
       "     'data_type': 'DATETIME',\n",
       "     'unique': False},\n",
       "    {'name': 'SSN',\n",
       "     'description': 'Serves as a unique identifier for individuals within the patient records system.',\n",
       "     'expr': '\"SSN\"',\n",
       "     'data_type': 'TEXT',\n",
       "     'unique': False},\n",
       "    {'name': 'DRIVERS',\n",
       "     'description': \"Indicates the unique identifier or status related to an individual's driving eligibility or record.\",\n",
       "     'expr': '\"DRIVERS\"',\n",
       "     'data_type': 'TEXT',\n",
       "     'unique': False},\n",
       "    {'name': 'PASSPORT',\n",
       "     'description': 'Unique identifier used to document official travel or identification credentials for individuals.',\n",
       "     'expr': '\"PASSPORT\"',\n",
       "     'data_type': 'TEXT',\n",
       "     'unique': False},\n",
       "    {'name': 'PREFIX',\n",
       "     'description': 'Indicates the title or honorific used to address an individual.',\n",
       "     'expr': '\"PREFIX\"',\n",
       "     'data_type': 'TEXT',\n",
       "     'unique': False},\n",
       "    {'name': 'FIRST',\n",
       "     'description': 'Identifies the given name of individuals in the dataset.',\n",
       "     'expr': '\"FIRST\"',\n",
       "     'data_type': 'TEXT',\n",
       "     'unique': False},\n",
       "    {'name': 'LAST',\n",
       "     'description': 'Identifies the surname or family name associated with an individual record.',\n",
       "     'expr': '\"LAST\"',\n",
       "     'data_type': 'TEXT',\n",
       "     'unique': False},\n",
       "    {'name': 'SUFFIX',\n",
       "     'description': \"Indicates the professional or academic designation appended to an individual's name.\",\n",
       "     'expr': '\"SUFFIX\"',\n",
       "     'data_type': 'TEXT',\n",
       "     'unique': False},\n",
       "    {'name': 'MAIDEN',\n",
       "     'description': 'Tracks a secondary surname or identifier potentially linked to familial or historical naming conventions.',\n",
       "     'expr': '\"MAIDEN\"',\n",
       "     'data_type': 'TEXT',\n",
       "     'unique': False},\n",
       "    {'name': 'MARITAL',\n",
       "     'description': 'Indicates the marital status of an individual in the context of patient records.',\n",
       "     'expr': '\"MARITAL\"',\n",
       "     'data_type': 'TEXT',\n",
       "     'unique': False},\n",
       "    {'name': 'RACE',\n",
       "     'description': 'Categorizes individuals based on their self-identified ethnic or cultural background.',\n",
       "     'expr': '\"RACE\"',\n",
       "     'data_type': 'TEXT',\n",
       "     'unique': False},\n",
       "    {'name': 'ETHNICITY',\n",
       "     'description': 'Categorizes individuals based on their cultural or ancestral background for demographic analysis.',\n",
       "     'expr': '\"ETHNICITY\"',\n",
       "     'data_type': 'TEXT',\n",
       "     'unique': False},\n",
       "    {'name': 'GENDER',\n",
       "     'description': 'Indicates the classification of individuals based on their identity or characteristics.',\n",
       "     'expr': '\"GENDER\"',\n",
       "     'data_type': 'TEXT',\n",
       "     'unique': False},\n",
       "    {'name': 'BIRTHPLACE',\n",
       "     'description': 'Indicates the geographical location where an individual was born.',\n",
       "     'expr': '\"BIRTHPLACE\"',\n",
       "     'data_type': 'TEXT',\n",
       "     'unique': False},\n",
       "    {'name': 'ADDRESS',\n",
       "     'description': 'Location details associated with individuals for identification or correspondence purposes.',\n",
       "     'expr': '\"ADDRESS\"',\n",
       "     'data_type': 'TEXT',\n",
       "     'unique': False},\n",
       "    {'name': 'CITY',\n",
       "     'description': 'Indicates the municipality associated with an individual or entity.',\n",
       "     'expr': '\"CITY\"',\n",
       "     'data_type': 'TEXT',\n",
       "     'unique': False},\n",
       "    {'name': 'STATE',\n",
       "     'description': 'Indicates the geographical region associated with an individual.',\n",
       "     'expr': '\"STATE\"',\n",
       "     'data_type': 'TEXT',\n",
       "     'unique': False},\n",
       "    {'name': 'COUNTY',\n",
       "     'description': 'Identifies the administrative division or region associated with an individual or entity.',\n",
       "     'expr': '\"COUNTY\"',\n",
       "     'data_type': 'TEXT',\n",
       "     'unique': False},\n",
       "    {'name': 'ZIP',\n",
       "     'description': \"Identifies the postal code associated with a patient's address for location-based purposes.\",\n",
       "     'expr': '\"ZIP\"',\n",
       "     'data_type': 'NUMBER',\n",
       "     'unique': False}],\n",
       "   'facts': [{'name': 'LAT',\n",
       "     'description': 'Indicates the geographical latitude coordinate associated with a patient.',\n",
       "     'expr': '\"LAT\"',\n",
       "     'data_type': 'FLOAT'},\n",
       "    {'name': 'LON',\n",
       "     'description': 'Indicates the longitudinal coordinate used to identify a geographic location.',\n",
       "     'expr': '\"LON\"',\n",
       "     'data_type': 'FLOAT'},\n",
       "    {'name': 'HEALTHCARE_EXPENSES',\n",
       "     'description': 'Tracks the monetary costs incurred for services or treatments associated with individuals.',\n",
       "     'expr': '\"HEALTHCARE_EXPENSES\"',\n",
       "     'data_type': 'FLOAT'},\n",
       "    {'name': 'HEALTHCARE_COVERAGE',\n",
       "     'description': \"Indicates the monetary value allocated for an individual's coverage under a health-related insurance plan.\",\n",
       "     'expr': '\"HEALTHCARE_COVERAGE\"',\n",
       "     'data_type': 'FLOAT'}],\n",
       "   'primary_key': {'columns': ['ID']}},\n",
       "  {'name': 'CLAIMS',\n",
       "   'description': 'Captures information related to service requests and billing processes associated with patients, healthcare providers, diagnoses, insurance coverage, and claim statuses.',\n",
       "   'base_table': {'database': 'SNOWFLAKE_LEARNING_DB',\n",
       "    'schema': 'HEALTHCARE',\n",
       "    'table': 'CLAIMS'},\n",
       "   'dimensions': [{'name': 'ID',\n",
       "     'description': 'Serves as a unique identifier for individual claims within the system.',\n",
       "     'expr': '\"ID\"',\n",
       "     'data_type': 'TEXT',\n",
       "     'unique': True},\n",
       "    {'name': 'PATIENTID',\n",
       "     'description': 'Identifies individuals associated with insurance claims.',\n",
       "     'expr': '\"PATIENTID\"',\n",
       "     'data_type': 'TEXT',\n",
       "     'unique': False},\n",
       "    {'name': 'PROVIDERID',\n",
       "     'description': 'Identifies the entity responsible for providing services or goods associated with a claim.',\n",
       "     'expr': '\"PROVIDERID\"',\n",
       "     'data_type': 'TEXT',\n",
       "     'unique': False},\n",
       "    {'name': 'PRIMARYPATIENTINSURANCEID',\n",
       "     'description': 'Identifies the primary insurance policy associated with a patient for processing claims.',\n",
       "     'expr': '\"PRIMARYPATIENTINSURANCEID\"',\n",
       "     'data_type': 'TEXT',\n",
       "     'unique': False},\n",
       "    {'name': 'SECONDARYPATIENTINSURANCEID',\n",
       "     'description': 'Identifies the secondary insurance policy associated with a patient for claim processing.',\n",
       "     'expr': '\"SECONDARYPATIENTINSURANCEID\"',\n",
       "     'data_type': 'NUMBER',\n",
       "     'unique': False},\n",
       "    {'name': 'DEPARTMENTID',\n",
       "     'description': 'Identifies the organizational unit responsible for processing or managing claims.',\n",
       "     'expr': '\"DEPARTMENTID\"',\n",
       "     'data_type': 'NUMBER',\n",
       "     'unique': False},\n",
       "    {'name': 'PATIENTDEPARTMENTID',\n",
       "     'description': 'Identifies the department associated with a patient for claim processing purposes.',\n",
       "     'expr': '\"PATIENTDEPARTMENTID\"',\n",
       "     'data_type': 'NUMBER',\n",
       "     'unique': False},\n",
       "    {'name': 'DIAGNOSIS1',\n",
       "     'description': 'Primary diagnosis associated with a claim submitted for reimbursement or record-keeping.',\n",
       "     'expr': '\"DIAGNOSIS1\"',\n",
       "     'data_type': 'NUMBER',\n",
       "     'unique': False},\n",
       "    {'name': 'DIAGNOSIS2',\n",
       "     'description': 'Captures secondary medical conditions or diagnoses associated with a claim.',\n",
       "     'expr': '\"DIAGNOSIS2\"',\n",
       "     'data_type': 'NUMBER',\n",
       "     'unique': False},\n",
       "    {'name': 'DIAGNOSIS3',\n",
       "     'description': 'Captures the tertiary diagnosis code associated with a claim for categorizing medical conditions or procedures.',\n",
       "     'expr': '\"DIAGNOSIS3\"',\n",
       "     'data_type': 'NUMBER',\n",
       "     'unique': False},\n",
       "    {'name': 'DIAGNOSIS4',\n",
       "     'description': 'Captures the fourth recorded medical condition or diagnosis associated with a claim.',\n",
       "     'expr': '\"DIAGNOSIS4\"',\n",
       "     'data_type': 'NUMBER',\n",
       "     'unique': False},\n",
       "    {'name': 'DIAGNOSIS5',\n",
       "     'description': 'Captures the fifth recorded diagnosis associated with a claim.',\n",
       "     'expr': '\"DIAGNOSIS5\"',\n",
       "     'data_type': 'NUMBER',\n",
       "     'unique': False},\n",
       "    {'name': 'DIAGNOSIS6',\n",
       "     'description': 'Captures the sixth recorded medical condition or reason for a healthcare service in a claim.',\n",
       "     'expr': '\"DIAGNOSIS6\"',\n",
       "     'data_type': 'NUMBER',\n",
       "     'unique': False},\n",
       "    {'name': 'DIAGNOSIS7',\n",
       "     'description': 'Captures the seventh recorded medical condition or diagnosis associated with a claim.',\n",
       "     'expr': '\"DIAGNOSIS7\"',\n",
       "     'data_type': 'NUMBER',\n",
       "     'unique': False},\n",
       "    {'name': 'DIAGNOSIS8',\n",
       "     'description': 'Captures the eighth recorded medical condition or reason for a healthcare service in a claim submission.',\n",
       "     'expr': '\"DIAGNOSIS8\"',\n",
       "     'data_type': 'NUMBER',\n",
       "     'unique': False},\n",
       "    {'name': 'REFERRINGPROVIDERID',\n",
       "     'description': 'Identifies the provider who directed the patient to another healthcare professional or service.',\n",
       "     'expr': '\"REFERRINGPROVIDERID\"',\n",
       "     'data_type': 'TEXT',\n",
       "     'unique': False},\n",
       "    {'name': 'APPOINTMENTID',\n",
       "     'description': 'Identifies the unique instance of a scheduled meeting or consultation associated with a claim.',\n",
       "     'expr': '\"APPOINTMENTID\"',\n",
       "     'data_type': 'TEXT',\n",
       "     'unique': False},\n",
       "    {'name': 'CURRENTILLNESSDATE',\n",
       "     'description': 'Indicates the date when the illness or condition relevant to the claim began.',\n",
       "     'expr': '\"CURRENTILLNESSDATE\"',\n",
       "     'data_type': 'DATETIME',\n",
       "     'unique': False},\n",
       "    {'name': 'SERVICEDATE',\n",
       "     'description': 'Indicates the date when a service was provided or performed.',\n",
       "     'expr': '\"SERVICEDATE\"',\n",
       "     'data_type': 'DATETIME',\n",
       "     'unique': False},\n",
       "    {'name': 'SUPERVISINGPROVIDERID',\n",
       "     'description': 'Identifies the individual responsible for overseeing the services or procedures associated with a claim.',\n",
       "     'expr': '\"SUPERVISINGPROVIDERID\"',\n",
       "     'data_type': 'TEXT',\n",
       "     'unique': False},\n",
       "    {'name': 'STATUS1',\n",
       "     'description': 'Indicates the current progress or resolution stage of a claim.',\n",
       "     'expr': '\"STATUS1\"',\n",
       "     'data_type': 'TEXT',\n",
       "     'unique': False},\n",
       "    {'name': 'STATUS2',\n",
       "     'description': 'Indicates the current state of a claim in the processing lifecycle.',\n",
       "     'expr': '\"STATUS2\"',\n",
       "     'data_type': 'TEXT',\n",
       "     'unique': False},\n",
       "    {'name': 'STATUSP',\n",
       "     'description': 'Indicates the current state of a claim in the processing lifecycle.',\n",
       "     'expr': '\"STATUSP\"',\n",
       "     'data_type': 'TEXT',\n",
       "     'unique': False},\n",
       "    {'name': 'OUTSTANDING2',\n",
       "     'description': 'Indicates the status or presence of unresolved items related to a claim.',\n",
       "     'expr': '\"OUTSTANDING2\"',\n",
       "     'data_type': 'NUMBER',\n",
       "     'unique': False},\n",
       "    {'name': 'LASTBILLEDDATE1',\n",
       "     'description': 'Indicates the most recent date a billing activity was recorded for a claim.',\n",
       "     'expr': '\"LASTBILLEDDATE1\"',\n",
       "     'data_type': 'DATETIME',\n",
       "     'unique': False},\n",
       "    {'name': 'LASTBILLEDDATE2',\n",
       "     'description': 'Tracks the most recent date a billing activity was processed for a claim.',\n",
       "     'expr': '\"LASTBILLEDDATE2\"',\n",
       "     'data_type': 'DATETIME',\n",
       "     'unique': False},\n",
       "    {'name': 'LASTBILLEDDATEP',\n",
       "     'description': 'Indicates the most recent date a billing activity was processed for a claim.',\n",
       "     'expr': '\"LASTBILLEDDATEP\"',\n",
       "     'data_type': 'DATETIME',\n",
       "     'unique': False},\n",
       "    {'name': 'HEALTHCARECLAIMTYPEID1',\n",
       "     'description': 'Categorizes the type of claim submitted for processing.',\n",
       "     'expr': '\"HEALTHCARECLAIMTYPEID1\"',\n",
       "     'data_type': 'NUMBER',\n",
       "     'unique': False},\n",
       "    {'name': 'HEALTHCARECLAIMTYPEID2',\n",
       "     'description': 'Categorizes the type of claim submitted for processing.',\n",
       "     'expr': '\"HEALTHCARECLAIMTYPEID2\"',\n",
       "     'data_type': 'NUMBER',\n",
       "     'unique': False}],\n",
       "   'facts': [{'name': 'OUTSTANDING1',\n",
       "     'description': 'Tracks the unresolved status or pending amount associated with a claim.',\n",
       "     'expr': '\"OUTSTANDING1\"',\n",
       "     'data_type': 'NUMBER'},\n",
       "    {'name': 'OUTSTANDINGP',\n",
       "     'description': 'Indicates the pending status of a claim in the claims process.',\n",
       "     'expr': '\"OUTSTANDINGP\"',\n",
       "     'data_type': 'NUMBER'}],\n",
       "   'primary_key': {'columns': ['ID']}},\n",
       "  {'name': 'CAREPLANS',\n",
       "   'description': 'Organizes structured plans detailing the care, treatment, or management strategies designed to address specific conditions or needs for individuals over a defined period.',\n",
       "   'base_table': {'database': 'SNOWFLAKE_LEARNING_DB',\n",
       "    'schema': 'HEALTHCARE',\n",
       "    'table': 'CAREPLANS'},\n",
       "   'dimensions': [{'name': 'ID',\n",
       "     'description': 'Unique identifier for care plans used to track and manage individual plans within the system.',\n",
       "     'expr': '\"ID\"',\n",
       "     'data_type': 'TEXT',\n",
       "     'unique': True},\n",
       "    {'name': 'START_',\n",
       "     'description': 'Marks the initiation date and time of a care plan process.',\n",
       "     'expr': '\"START_\"',\n",
       "     'data_type': 'DATETIME',\n",
       "     'unique': False},\n",
       "    {'name': 'STOP',\n",
       "     'description': 'Indicates the date and time when a care plan is scheduled to end or has been discontinued.',\n",
       "     'expr': '\"STOP\"',\n",
       "     'data_type': 'DATETIME',\n",
       "     'unique': False},\n",
       "    {'name': 'PATIENT',\n",
       "     'description': 'Identifies individuals associated with care plans.',\n",
       "     'expr': '\"PATIENT\"',\n",
       "     'data_type': 'TEXT',\n",
       "     'unique': False},\n",
       "    {'name': 'ENCOUNTER',\n",
       "     'description': 'A unique identifier associated with a specific interaction or event involving a patient and a healthcare provider.',\n",
       "     'expr': '\"ENCOUNTER\"',\n",
       "     'data_type': 'TEXT',\n",
       "     'unique': False},\n",
       "    {'name': 'CODE',\n",
       "     'description': 'Identifies standardized classifications or categories associated with care plans.',\n",
       "     'expr': '\"CODE\"',\n",
       "     'data_type': 'NUMBER',\n",
       "     'unique': False},\n",
       "    {'name': 'DESCRIPTION',\n",
       "     'description': 'Provides a concise label for the type of care or treatment plan associated with a specific medical condition or patient need.',\n",
       "     'expr': '\"DESCRIPTION\"',\n",
       "     'data_type': 'TEXT',\n",
       "     'unique': False},\n",
       "    {'name': 'REASONCODE',\n",
       "     'description': 'Indicates the underlying reason or justification associated with a specific care plan.',\n",
       "     'expr': '\"REASONCODE\"',\n",
       "     'data_type': 'NUMBER',\n",
       "     'unique': False},\n",
       "    {'name': 'REASONDESCRIPTION',\n",
       "     'description': 'Describes the underlying condition or justification associated with a specific care plan.',\n",
       "     'expr': '\"REASONDESCRIPTION\"',\n",
       "     'data_type': 'TEXT',\n",
       "     'unique': False}],\n",
       "   'facts': [],\n",
       "   'primary_key': {'columns': ['ID']}}],\n",
       " 'relationships': [{'name': 'ALLERGIES_PATIENTS',\n",
       "   'left_table': 'ALLERGIES',\n",
       "   'right_table': 'PATIENTS',\n",
       "   'relationship_columns': [{'left_column': 'PATIENT', 'right_column': 'ID'}],\n",
       "   'join_type': 'left_outer',\n",
       "   'relationship_type': 'many_to_one'},\n",
       "  {'name': 'CAREPLANS_PATIENTS',\n",
       "   'left_table': 'CAREPLANS',\n",
       "   'right_table': 'PATIENTS',\n",
       "   'relationship_columns': [{'left_column': 'PATIENT', 'right_column': 'ID'}],\n",
       "   'join_type': 'left_outer',\n",
       "   'relationship_type': 'many_to_one'},\n",
       "  {'name': 'CLAIMS_ENCOUNTERS',\n",
       "   'left_table': 'CLAIMS',\n",
       "   'right_table': 'ENCOUNTERS',\n",
       "   'relationship_columns': [{'left_column': 'APPOINTMENTID',\n",
       "     'right_column': 'ID'}],\n",
       "   'join_type': 'left_outer',\n",
       "   'relationship_type': 'many_to_one'},\n",
       "  {'name': 'CLAIMS_PATIENTS',\n",
       "   'left_table': 'CLAIMS',\n",
       "   'right_table': 'PATIENTS',\n",
       "   'relationship_columns': [{'left_column': 'PATIENTID',\n",
       "     'right_column': 'ID'}],\n",
       "   'join_type': 'left_outer',\n",
       "   'relationship_type': 'many_to_one'},\n",
       "  {'name': 'ENCOUNTERS_PATIENTS',\n",
       "   'left_table': 'ENCOUNTERS',\n",
       "   'right_table': 'PATIENTS',\n",
       "   'relationship_columns': [{'left_column': 'PATIENT', 'right_column': 'ID'}],\n",
       "   'join_type': 'left_outer',\n",
       "   'relationship_type': 'many_to_one'},\n",
       "  {'name': 'ENCOUNTERS_PAYERS',\n",
       "   'left_table': 'ENCOUNTERS',\n",
       "   'right_table': 'PAYERS',\n",
       "   'relationship_columns': [{'left_column': 'PAYER', 'right_column': 'ID'}],\n",
       "   'join_type': 'left_outer',\n",
       "   'relationship_type': 'many_to_one'},\n",
       "  {'name': 'ENCOUNTERS_PROCEDURES',\n",
       "   'left_table': 'PROCEDURES',\n",
       "   'right_table': 'ENCOUNTERS',\n",
       "   'relationship_columns': [{'left_column': 'ENCOUNTER',\n",
       "     'right_column': 'ID'}],\n",
       "   'join_type': 'left_outer',\n",
       "   'relationship_type': 'many_to_one'},\n",
       "  {'name': 'PATIENTS_PAYER_TRANSITIONS',\n",
       "   'left_table': 'PAYER_TRANSITIONS',\n",
       "   'right_table': 'PATIENTS',\n",
       "   'relationship_columns': [{'left_column': 'PATIENT', 'right_column': 'ID'}],\n",
       "   'join_type': 'left_outer',\n",
       "   'relationship_type': 'many_to_one'},\n",
       "  {'name': 'PATIENTS_PROCEDURES',\n",
       "   'left_table': 'PROCEDURES',\n",
       "   'right_table': 'PATIENTS',\n",
       "   'relationship_columns': [{'left_column': 'PATIENT', 'right_column': 'ID'}],\n",
       "   'join_type': 'left_outer',\n",
       "   'relationship_type': 'many_to_one'},\n",
       "  {'name': 'PATIENTS_SUPPLIES',\n",
       "   'left_table': 'SUPPLIES',\n",
       "   'right_table': 'PATIENTS',\n",
       "   'relationship_columns': [{'left_column': 'PATIENT', 'right_column': 'ID'}],\n",
       "   'join_type': 'left_outer',\n",
       "   'relationship_type': 'many_to_one'},\n",
       "  {'name': 'PAYERS_PAYER_TRANSITIONS',\n",
       "   'left_table': 'PAYER_TRANSITIONS',\n",
       "   'right_table': 'PAYERS',\n",
       "   'relationship_columns': [{'left_column': 'PAYER', 'right_column': 'ID'}],\n",
       "   'join_type': 'left_outer',\n",
       "   'relationship_type': 'many_to_one'}]}"
      ]
     },
     "execution_count": 9,
     "metadata": {},
     "output_type": "execute_result"
    }
   ],
   "source": [
    "sm.export(format=\"snowflake\", path=\"snowflake_semantic_model.yml\")"
   ]
  },
  {
   "cell_type": "markdown",
   "id": "530dc414-055e-40ac-a9aa-67b6ecbbd7df",
   "metadata": {
    "name": "cell33",
    "collapsed": false
   },
   "source": ">Now that you have deployed a Semantic View, you can use **Snowflake Cortex Analyst** to **converse with your data** using natural language. Cortex Analyst leverages the relationships and context defined in your Semantic View to answer questions without requiring you to write SQL.\nTo get started, navigate to **AI & ML** -> **Cortex Analyst** in the **Snowflake UI** and select your newly created view."
  },
  {
   "cell_type": "markdown",
   "id": "039777b0-bfd2-4d27-8580-4e34b7a08998",
   "metadata": {
    "name": "cell22"
   },
   "source": [
    "## 6. Data Product Creation\n",
    "\n",
    "The semantic layer serves as a foundation for the DataProduct, which streamlines the creation of reusable data products. This allows you\n",
    "to encapsulate business logic and create standardized, trustworthy data assets that can be easily shared and reused across different teams and \n",
    "applications.\n",
    "\n",
    "Let's define the model for the data product we want to build:"
   ]
  },
  {
   "cell_type": "code",
   "execution_count": 15,
   "id": "690f5c85-9e8e-4f04-b396-1b652c8f71b6",
   "metadata": {
    "name": "cell23",
    "language": "python"
   },
   "outputs": [],
   "source": "data_product_config = \\\n{\n    \"name\": \"customer_kpi_summary\",\n    \"fields\": [\n        {\n            \"id\": \"CUSTOMERS.C_ID\",\n            \"name\": \"c_id\"\n        },\n        {\n            \"id\": \"CUSTOMERS.CUSTOMER_NAME\",\n            \"name\": \"customer_name\"\n        },\n        {\n            \"id\": \"CUSTOMER_HIERARCHY.\\\"global / parent account\\\"\",\n            \"name\": \"global_parent_account\"\n        },\n        {\n            \"id\": \"CUSTOMER_HIERARCHY.REGION\",\n            \"name\": \"region\"\n        },\n        {\n            \"id\": \"CUSTOMER_HIERARCHY.\\\"global / local entity\\\"\",\n            \"name\": \"global_local_entity\"\n        },\n        {\n            \"id\": \"PRODUCTS.PRODUCT_NAME\",\n            \"name\": \"product_name\"\n        },\n        {\n            \"id\": \"ORDERS.\\\"order value ($)\\\"\",\n            \"name\": \"sum_order_value\",\n            \"category\": \"measure\",\n            \"measure_func\": \"sum\"\n        },\n        {\n            \"id\": \"ORDERS.ORDER_ID\",\n            \"name\": \"count_distinct_order_id\",\n            \"category\": \"measure\",\n            \"measure_func\": \"count\"\n        },\n        {\n            \"id\": \"ORDERS.ORDER_QTY\",\n            \"name\": \"sum_order_qty\",\n            \"category\": \"measure\",\n            \"measure_func\": \"sum\"\n        },\n        {\n            \"id\": \"SERVICE_REQUESTS.SR_ID\",\n            \"name\": \"count_distinct_sr_id\",\n            \"category\": \"measure\",\n            \"measure_func\": \"count\"\n        },\n        {\n            \"id\": \"SERVICE_REQUESTS.PROD_ID\",\n            \"name\": \"count_distinct_prod_id\",\n            \"category\": \"measure\",\n            \"measure_func\": \"count\"\n        },\n        {\n            \"id\": \"RETURNS.R_ORDER_ID\",\n            \"name\": \"count_distinct_r_order_id\",\n            \"category\": \"measure\",\n            \"measure_func\": \"count\"\n        },\n        {\n            \"id\": \"NPS_SURVEY.SURVEY_SCORE\",\n            \"name\": \"sum_survey_score\",\n            \"category\": \"measure\",\n            \"measure_func\": \"sum\"\n        }\n    ]\n}"
  },
  {
   "cell_type": "markdown",
   "id": "66b569ab-0ae9-4906-b6b7-94b86e785988",
   "metadata": {
    "name": "cell24"
   },
   "source": [
    "Now, let's use the `DataProduct` to generate the data product:"
   ]
  },
  {
   "cell_type": "code",
   "execution_count": 16,
   "id": "c25ba5e2-e539-44c5-b167-c60255f66806",
   "metadata": {
    "name": "cell25",
    "language": "python"
   },
   "outputs": [
    {
     "name": "stdout",
     "output_type": "stream",
     "text": [
      "Found existing YAML for 'PROCEDURES'. Checking for staleness.\n",
      "PROCEDURES loaded\n",
      "Found existing YAML for 'ALLERGIES'. Checking for staleness.\n",
      "ALLERGIES loaded\n",
      "Found existing YAML for 'ENCOUNTERS'. Checking for staleness.\n",
      "ENCOUNTERS loaded\n",
      "Found existing YAML for 'SUPPLIES'. Checking for staleness.\n",
      "SUPPLIES loaded\n",
      "Found existing YAML for 'PAYERS'. Checking for staleness.\n",
      "PAYERS loaded\n",
      "Found existing YAML for 'PAYER_TRANSITIONS'. Checking for staleness.\n",
      "PAYER_TRANSITIONS loaded\n",
      "Found existing YAML for 'PATIENTS'. Checking for staleness.\n",
      "PATIENTS loaded\n",
      "Found existing YAML for 'CLAIMS'. Checking for staleness.\n",
      "CLAIMS loaded\n",
      "Found existing YAML for 'CAREPLANS'. Checking for staleness.\n",
      "CAREPLANS loaded\n",
      "top_patients_by_claim_count loaded\n"
     ]
    },
    {
     "data": {
      "text/html": [
       "<div>\n",
       "<style scoped>\n",
       "    .dataframe tbody tr th:only-of-type {\n",
       "        vertical-align: middle;\n",
       "    }\n",
       "\n",
       "    .dataframe tbody tr th {\n",
       "        vertical-align: top;\n",
       "    }\n",
       "\n",
       "    .dataframe thead th {\n",
       "        text-align: right;\n",
       "    }\n",
       "</style>\n",
       "<table border=\"1\" class=\"dataframe\">\n",
       "  <thead>\n",
       "    <tr style=\"text-align: right;\">\n",
       "      <th></th>\n",
       "      <th>FIRST_NAME</th>\n",
       "      <th>LAST_NAME</th>\n",
       "      <th>NUMBER_OF_CLAIMS</th>\n",
       "    </tr>\n",
       "  </thead>\n",
       "  <tbody>\n",
       "    <tr>\n",
       "      <th>0</th>\n",
       "      <td>Esther279</td>\n",
       "      <td>Runolfsson901</td>\n",
       "      <td>246</td>\n",
       "    </tr>\n",
       "    <tr>\n",
       "      <th>1</th>\n",
       "      <td>Zelda766</td>\n",
       "      <td>Ernser583</td>\n",
       "      <td>219</td>\n",
       "    </tr>\n",
       "    <tr>\n",
       "      <th>2</th>\n",
       "      <td>Bonita405</td>\n",
       "      <td>Bernier607</td>\n",
       "      <td>121</td>\n",
       "    </tr>\n",
       "    <tr>\n",
       "      <th>3</th>\n",
       "      <td>Pei116</td>\n",
       "      <td>Williamson769</td>\n",
       "      <td>98</td>\n",
       "    </tr>\n",
       "    <tr>\n",
       "      <th>4</th>\n",
       "      <td>Lavinia262</td>\n",
       "      <td>Heaney114</td>\n",
       "      <td>90</td>\n",
       "    </tr>\n",
       "    <tr>\n",
       "      <th>5</th>\n",
       "      <td>Magdalene960</td>\n",
       "      <td>Orn563</td>\n",
       "      <td>90</td>\n",
       "    </tr>\n",
       "    <tr>\n",
       "      <th>6</th>\n",
       "      <td>Tommye961</td>\n",
       "      <td>Simonis280</td>\n",
       "      <td>77</td>\n",
       "    </tr>\n",
       "    <tr>\n",
       "      <th>7</th>\n",
       "      <td>Franklyn361</td>\n",
       "      <td>Tromp100</td>\n",
       "      <td>71</td>\n",
       "    </tr>\n",
       "    <tr>\n",
       "      <th>8</th>\n",
       "      <td>Terry864</td>\n",
       "      <td>King743</td>\n",
       "      <td>69</td>\n",
       "    </tr>\n",
       "    <tr>\n",
       "      <th>9</th>\n",
       "      <td>Alaine226</td>\n",
       "      <td>Willms744</td>\n",
       "      <td>64</td>\n",
       "    </tr>\n",
       "  </tbody>\n",
       "</table>\n",
       "</div>"
      ],
      "text/plain": [
       "     FIRST_NAME      LAST_NAME  NUMBER_OF_CLAIMS\n",
       "0     Esther279  Runolfsson901               246\n",
       "1      Zelda766      Ernser583               219\n",
       "2     Bonita405     Bernier607               121\n",
       "3        Pei116  Williamson769                98\n",
       "4    Lavinia262      Heaney114                90\n",
       "5  Magdalene960         Orn563                90\n",
       "6     Tommye961     Simonis280                77\n",
       "7   Franklyn361       Tromp100                71\n",
       "8      Terry864        King743                69\n",
       "9     Alaine226      Willms744                64"
      ]
     },
     "execution_count": 16,
     "metadata": {},
     "output_type": "execute_result"
    }
   ],
   "source": [
    "from intugle import DataProduct\n",
    "\n",
    "# Create a DataProduct\n",
    "dp = DataProduct()\n",
    "\n",
    "# Generate the data product\n",
    "data_product = dp.build(data_product_config)\n",
    "\n",
    "data_product.to_df()"
   ]
  },
  {
   "cell_type": "markdown",
   "id": "e1725529-837a-4b33-8cb8-1028224047df",
   "metadata": {
    "name": "cell26"
   },
   "source": [
    "The `build` function returns a `DataSet` object. You can also view the generated SQL query used for creating the data product:"
   ]
  },
  {
   "cell_type": "code",
   "execution_count": 17,
   "id": "f8811d37-69af-463c-b859-b75ca38d315f",
   "metadata": {
    "name": "cell27",
    "language": "python"
   },
   "outputs": [
    {
     "data": {
      "text/plain": [
       "'SELECT \"PATIENTS\".\"FIRST\" as first_name, \"PATIENTS\".\"LAST\" as last_name, count(\"CLAIMS\".\"ID\") as number_of_claims FROM CLAIMS LEFT JOIN PATIENTS ON \"CLAIMS\".\"PATIENTID\" = \"PATIENTS\".\"ID\" GROUP BY \"PATIENTS\".\"FIRST\" , \"PATIENTS\".\"LAST\" ORDER BY number_of_claims DESC LIMIT 10'"
      ]
     },
     "execution_count": 17,
     "metadata": {},
     "output_type": "execute_result"
    }
   ],
   "source": [
    "# The generated SQL query\n",
    "data_product.sql_query"
   ]
  },
  {
   "cell_type": "markdown",
   "id": "71bcd971-bec8-4cca-8df1-ab196e0b1c07",
   "metadata": {
    "name": "cell36",
    "collapsed": false
   },
   "source": "### Enriching the Data Product\n\nThe `data_product` is in itself a DataSet object. Hence we can run generate glossaries for it as well. "
  },
  {
   "cell_type": "code",
   "execution_count": 18,
   "id": "b58a2a8e-90a5-4ec0-8db3-7f7b727f8f26",
   "metadata": {
    "name": "cell28",
    "language": "python"
   },
   "outputs": [
    {
     "name": "stderr",
     "output_type": "stream",
     "text": [
      "/home/raphael/intugle/data-tools/.venv/lib/python3.12/site-packages/numpy/_core/fromnumeric.py:3859: RuntimeWarning: Mean of empty slice.\n",
      "  return _methods._mean(a, axis=axis, dtype=dtype,\n",
      "/home/raphael/intugle/data-tools/.venv/lib/python3.12/site-packages/numpy/_core/_methods.py:144: RuntimeWarning: invalid value encountered in scalar divide\n",
      "  ret = ret.dtype.type(ret / rcount)\n",
      "100%|██████████| 3/3 [00:01<00:00,  1.52it/s]\n",
      "[*] top_patients_by_claim_count:   0%|          | 0/1 [00:00<?, ?it/s]/home/raphael/intugle/data-tools/src/intugle/core/pipeline/key_identification/ki.py:87: SettingWithCopyWarning: \n",
      "A value is trying to be set on a copy of a slice from a DataFrame\n",
      "\n",
      "See the caveats in the documentation: https://pandas.pydata.org/pandas-docs/stable/user_guide/indexing.html#returning-a-view-versus-a-copy\n",
      "  temp.rename(columns={\"datatype_l1\": \"datatype\"}, inplace=True)\n",
      "[!] None key identified by LLM is not a valid column of top_patients_by_claim_count table\n",
      "[*] top_patients_by_claim_count: 100%|██████████| 1/1 [00:00<00:00,  2.28it/s]\n",
      "100%|██████████| 3/3 [00:04<00:00,  1.39s/it]\n"
     ]
    },
    {
     "data": {
      "text/html": [
       "<div>\n",
       "<style scoped>\n",
       "    .dataframe tbody tr th:only-of-type {\n",
       "        vertical-align: middle;\n",
       "    }\n",
       "\n",
       "    .dataframe tbody tr th {\n",
       "        vertical-align: top;\n",
       "    }\n",
       "\n",
       "    .dataframe thead th {\n",
       "        text-align: right;\n",
       "    }\n",
       "</style>\n",
       "<table border=\"1\" class=\"dataframe\">\n",
       "  <thead>\n",
       "    <tr style=\"text-align: right;\">\n",
       "      <th></th>\n",
       "      <th>column_name</th>\n",
       "      <th>table_name</th>\n",
       "      <th>business_name</th>\n",
       "      <th>datatype_l1</th>\n",
       "      <th>datatype_l2</th>\n",
       "      <th>business_glossary</th>\n",
       "      <th>business_tags</th>\n",
       "      <th>count</th>\n",
       "      <th>null_count</th>\n",
       "      <th>distinct_count</th>\n",
       "      <th>uniqueness</th>\n",
       "      <th>completeness</th>\n",
       "      <th>sample_data</th>\n",
       "    </tr>\n",
       "  </thead>\n",
       "  <tbody>\n",
       "    <tr>\n",
       "      <th>0</th>\n",
       "      <td>FIRST_NAME</td>\n",
       "      <td>top_patients_by_claim_count</td>\n",
       "      <td>first_name</td>\n",
       "      <td>alphanumeric</td>\n",
       "      <td>L2OutputTypes.dimension</td>\n",
       "      <td>Identifies the given name of individuals liste...</td>\n",
       "      <td>[Patient Identification, Healthcare Claims Ana...</td>\n",
       "      <td>10</td>\n",
       "      <td>0</td>\n",
       "      <td>10</td>\n",
       "      <td>1.0</td>\n",
       "      <td>1.0</td>\n",
       "      <td>[Tommye961, Magdalene960, Alaine226, Bonita405...</td>\n",
       "    </tr>\n",
       "    <tr>\n",
       "      <th>1</th>\n",
       "      <td>LAST_NAME</td>\n",
       "      <td>top_patients_by_claim_count</td>\n",
       "      <td>last_name</td>\n",
       "      <td>alphanumeric</td>\n",
       "      <td>L2OutputTypes.dimension</td>\n",
       "      <td>Identifies the family name of individuals list...</td>\n",
       "      <td>[Patient Identification, Claims Analysis, Heal...</td>\n",
       "      <td>10</td>\n",
       "      <td>0</td>\n",
       "      <td>10</td>\n",
       "      <td>1.0</td>\n",
       "      <td>1.0</td>\n",
       "      <td>[Bernier607, Runolfsson901, Simonis280, Willia...</td>\n",
       "    </tr>\n",
       "    <tr>\n",
       "      <th>2</th>\n",
       "      <td>NUMBER_OF_CLAIMS</td>\n",
       "      <td>top_patients_by_claim_count</td>\n",
       "      <td>number_of_claims</td>\n",
       "      <td>integer</td>\n",
       "      <td>L2OutputTypes.measure</td>\n",
       "      <td>Indicates the total count of claims associated...</td>\n",
       "      <td>[Claim Volume Analysis, Patient Utilization Me...</td>\n",
       "      <td>10</td>\n",
       "      <td>0</td>\n",
       "      <td>9</td>\n",
       "      <td>0.9</td>\n",
       "      <td>1.0</td>\n",
       "      <td>[246, 90, 121, 77, 98, 69, 219, 71, 64]</td>\n",
       "    </tr>\n",
       "  </tbody>\n",
       "</table>\n",
       "</div>"
      ],
      "text/plain": [
       "<intugle.analysis.models.DataSet at 0x7fd8d3343830>"
      ]
     },
     "execution_count": 18,
     "metadata": {},
     "output_type": "execute_result"
    }
   ],
   "source": "data_product.run(domain=\"Healthcare\")\ndata_product.profiling_df"
  },
  {
   "cell_type": "markdown",
   "id": "f9e68b00-9c2b-4c46-ae23-85176279a847",
   "metadata": {
    "name": "cell35",
    "collapsed": false
   },
   "source": "### Syncing with Snowflake Semantic View\nLets sync the data product with the Snowflake Semantic View as well"
  },
  {
   "cell_type": "code",
   "id": "88bc9367-6266-4b94-af0b-97950249e0c1",
   "metadata": {
    "language": "python",
    "name": "cell18"
   },
   "outputs": [],
   "source": "sm.deploy('snowflake')",
   "execution_count": null
  },
  {
   "cell_type": "markdown",
   "id": "bfb3ee59-34e6-4182-beb6-d320c2933d12",
   "metadata": {
    "name": "cell30",
    "collapsed": false
   },
   "source": "## Conclusion\n\nYou've learned how to:\n\n*   Configure your LLM provider\n*   Build a semantic model using the `SemanticModel`.\n*   Access enriched metadata, business glossaries and visualize the relationships between your tables.\n*   Generate data products from the semantic layer using the `DataProduct`.\n*   Sync the semantic model with Snowflake Semantic Views\n\nThis is just a starting point. This project has many other features to explore. We encourage you to try it with your own data and see how it can help you build a powerful semantic layer."
  }
 ]
}