{
 "cells": [
  {
   "cell_type": "markdown",
   "id": "757096f5",
   "metadata": {},
   "source": [
    "# Quickstart: Building a GenAI powered Semantic Intelligence with Intugle\n",
    "\n",
    "This quickstart shows you how to use Intugle’s open-source library to transform fragmented datasets into a connected semantic layer. The semantic layer captures profiling, relationships, and business meaning of your data — making it instantly usable for exploration, search, and data product creation.\n",
    "\n",
    "**What is Semantic Intelligence?**\n",
    "\n",
    "A semantic layer is an intelligent knowledge graph of your data. It connects tables, discovers relationships, and enriches them with business glossaries — so both data teams and business users can query with clarity, not complexity.\n",
    "\n",
    "**Who is this for?**\n",
    "\n",
    "*   **Data Engineers & Architects** often spend weeks manually profiling, classifying, and stitching together fragmented data assets. With Intugle, they can automate this process end-to-end, uncovering meaningful links and relationships to instantly generate a connected semantic layer.\n",
    "*   **Data Analysts & Scientists** spend endless hours on data readiness and preparation before they can even start the real analysis. Intugle accelerates this by providing contextual intelligence, automatically generating SQL and reusable data products enriched with relationships and business meaning.\n",
    "*   **Business Analysts & Decision Makers** are slowed down by constant dependence on technical teams for answers. Intugle removes this bottleneck by enabling natural language queries and semantic search, giving them trusted insights on demand.\n",
    "\n",
    "**In this notebook, you will learn how to:**\n",
    "\n",
    "- **Profile and classify data** : Analyze your data sources to understand their structure, data types, and other characteristics.\n",
    "- **Discover links & relationships among data** : Reveal meaningful connections (PK & FK) across fragmented tables.\n",
    "- **Generate a business glossary & enable semantic search** : Create business-friendly terms and use them to query data with context.\n",
    "- **Create a semantic intelligence layer** : Build a unified model (YAML) of your data and relationships.\n",
    "- **Build unified data products** : Generate reusable SQL queries powered by the semantic layer."
   ]
  },
  {
   "cell_type": "markdown",
   "id": "a2a1b244",
   "metadata": {},
   "source": [
    "\n",
    "## 1. LLM Configuration\n",
    "\n",
    "Before running the project, you need to configure a Large Language Model (LLM). This is used for tasks like generating business glossaries and predicting links between tables.\n",
    "\n",
    "You can configure the LLM by setting the following environment variables:\n",
    "\n",
    "*   `LLM_PROVIDER`: The LLM provider and model to use (e.g., `openai:gpt-3.5-turbo`). The format follows langchain's format for initializing chat models. Checkout how to specify your model [here](https://python.langchain.com/docs/integrations/chat/)\n",
    "*   `API_KEY`: Your API key for the LLM provider. The exact name of the variable may vary from provider to provider\n",
    "\n",
    "Here's an example of how to set these variables in your environment:\n",
    "\n",
    "```bash\n",
    "export LLM_PROVIDER=\"openai:gpt-3.5-turbo\"\n",
    "export OPENAI_API_KEY=\"your-openai-api-key\"\n",
    "```\n",
    "\n",
    "Alternatively, you can set them in the notebook like this:\n"
   ]
  },
  {
   "cell_type": "code",
   "execution_count": null,
   "id": "36454d44",
   "metadata": {},
   "outputs": [],
   "source": [
    "import os\n",
    "\n",
    "os.environ[\"LLM_PROVIDER\"] = \"openai:gpt-3.5-turbo\"\n",
    "os.environ[\"OPENAI_API_KEY\"] = \"your-openai-api-key\"  # Replace with your actual key\n"
   ]
  },
  {
   "cell_type": "markdown",
   "id": "fa9fda69",
   "metadata": {},
   "source": [
    "> Currently the langchain packages for OpenAI, Anthropic and Gemini is installed by default. For additional models, make sure you have the integration packages installed. E.g. you should have langchain-deepseek installed to use a DeepSeek model. You can get these packages here: [LangChain Chat Models](https://python.langchain.com/docs/integrations/chat/)"
   ]
  },
  {
   "cell_type": "markdown",
   "id": "a3dad9d8",
   "metadata": {},
   "source": [
    "## 2. Building the Knowledge Base\n",
    "\n",
    "The `KnowledgeBuilder` is the entry point for building your semantic layer. It takes a dictionary of datasets as input and performs the following steps:\n",
    "\n",
    "1.  **Data Profiling:** Calculates statistics for each column, such as distinct count, uniqueness, and completeness.\n",
    "2.  **Datatype Identification:** Identifies the data type of each column (e.g., integer, string, datetime).\n",
    "3.  **Key Identification:** Identifies potential primary keys.\n",
    "4.  **Glossary Generation:** Generates a business glossary for each column using an LLM.\n",
    "5.  **Link Prediction:** Predicts the relationships (foreign keys) between tables.\n",
    "\n",
    "Let's start by defining the datasets we want to use:"
   ]
  },
  {
   "cell_type": "code",
   "execution_count": null,
   "id": "7f0e28d7",
   "metadata": {},
   "outputs": [],
   "source": [
    "def generate_config(table_name: str) -> str:\n",
    "    \"\"\"Append the base URL to the table name.\"\"\"\n",
    "    return {\n",
    "        \"path\": f\"https://raw.githubusercontent.com/Intugle/data-tools/refs/heads/main/sample_data/healthcare/{table_name}.csv\",\n",
    "        \"type\": \"csv\"\n",
    "    }\n",
    "\n",
    "\n",
    "table_names = [\n",
    "    \"allergies\",\n",
    "    \"careplans\",\n",
    "    \"claims\",\n",
    "    \"claims_transactions\",\n",
    "    \"conditions\",\n",
    "    \"devices\",\n",
    "    \"encounters\",\n",
    "    \"imaging_studies\",\n",
    "    \"immunizations\",\n",
    "    \"medications\",\n",
    "    \"observations\",\n",
    "    \"organizations\",\n",
    "    \"patients\",\n",
    "    \"payers\",\n",
    "    \"payer_transitions\",\n",
    "    \"procedures\",\n",
    "    \"providers\",\n",
    "    \"supplies\",\n",
    "]\n",
    "\n",
    "datasets = {table: generate_config(table) for table in table_names}"
   ]
  },
  {
   "cell_type": "markdown",
   "id": "fffe1d34",
   "metadata": {},
   "source": [
    "Now, let's use the `KnowledgeBuilder` to build our semantic layer:\n",
    "\n",
    "> The `domain` parameter helps the LLM generate a more contextual business glossary. It specifies the industry domain that the dataset belongs to (e.g., \"Healthcare\", \"Finance\", \"E-commerce\")."
   ]
  },
  {
   "cell_type": "code",
   "execution_count": null,
   "id": "ac8a78fa",
   "metadata": {},
   "outputs": [],
   "source": [
    "from intugle import KnowledgeBuilder\n",
    "\n",
    "# Initialize the knowledge builder\n",
    "kb = KnowledgeBuilder(datasets, domain=\"Healthcare\")\n",
    "\n",
    "# Run the prediction\n",
    "kb.build()"
   ]
  },
  {
   "cell_type": "markdown",
   "id": "eb562acd",
   "metadata": {},
   "source": [
    "## 3. Accessing Enriched Metadata\n",
    "\n",
    "Now that the knowledge base is built, you can easily access the enriched metadata for each dataset.\n",
    "\n",
    "### Accessing a Dataset\n",
    "\n",
    "You can access a specific dataset by its name from the `kb.datasets` dictionary:"
   ]
  },
  {
   "cell_type": "code",
   "execution_count": null,
   "id": "0aa894eb",
   "metadata": {},
   "outputs": [],
   "source": [
    "allergies_dataset = kb.datasets['patients']\n",
    "allergies_dataset.profiling_df\n"
   ]
  },
  {
   "cell_type": "markdown",
   "id": "6b3e8bfd",
   "metadata": {},
   "source": [
    "The profiling results can be accessed through the `profiling_df` property of the `DataSet` object. It's a pandas DataFrame that you can easily explore. \n",
    "> The business glossary is also available in the `profiling_df`:"
   ]
  },
  {
   "cell_type": "markdown",
   "id": "e083a8d8",
   "metadata": {},
   "source": [
    "\n",
    "### Visualizing Relationships\n",
    "\n",
    "The `KnowledgeBuilder` automatically discovers the relationships between your tables. You can access the predicted links as a list of `PredictedLink` objects:\n"
   ]
  },
  {
   "cell_type": "code",
   "execution_count": null,
   "id": "fe4cd56d",
   "metadata": {},
   "outputs": [],
   "source": [
    "kb.links"
   ]
  },
  {
   "cell_type": "markdown",
   "id": "9c8aa361",
   "metadata": {},
   "source": [
    "You can also visualize these relationships as a graph:\n"
   ]
  },
  {
   "cell_type": "code",
   "execution_count": null,
   "id": "a59704ba",
   "metadata": {},
   "outputs": [],
   "source": [
    "kb.visualize()\n"
   ]
  },
  {
   "cell_type": "markdown",
   "id": "32fd4917",
   "metadata": {},
   "source": [
    "## 4. The Semantic Layer\n",
    "\n",
    "The KnowledgeBuilder results are used to generate YAML files which are saved automatically. These files defines the semantic layer, including the models (tables) and their relationships. \n",
    "\n",
    "By default, these files are saved in the current working directory. You can configure this path by setting the `PROJECT_BASE` environment variable.\n"
   ]
  },
  {
   "cell_type": "markdown",
   "id": "3d086f45",
   "metadata": {},
   "source": [
    "## 5. Data Product Creation\n",
    "\n",
    "The semantic layer serves as a foundation for the DataProductBuilder, which streamlines the creation of reusable data products. This allows you\n",
    "to encapsulate business logic and create standardized, trustworthy data assets that can be easily shared and reused across different teams and \n",
    "applications.\n",
    "\n",
    "Let's define the model for the data product we want to build:"
   ]
  },
  {
   "cell_type": "code",
   "execution_count": null,
   "id": "4b3ca934",
   "metadata": {},
   "outputs": [],
   "source": [
    "etl = {\n",
    "  \"name\": \"top_patients_by_claim_count\",\n",
    "  \"fields\": [\n",
    "    {\n",
    "      \"id\": \"patients.first\",\n",
    "      \"name\": \"first_name\",\n",
    "    },\n",
    "    {\n",
    "      \"id\": \"patients.last\",\n",
    "      \"name\": \"last_name\",\n",
    "    },\n",
    "    {\n",
    "      \"id\": \"claims.id\",\n",
    "      \"name\": \"number_of_claims\",\n",
    "      \"category\": \"measure\",\n",
    "      \"measure_func\": \"count\"\n",
    "    }\n",
    "  ],\n",
    "  \"filter\": {\n",
    "    \"sort_by\": [\n",
    "      {\n",
    "        \"id\": \"claims.id\",\n",
    "        \"alias\": \"number_of_claims\",\n",
    "        \"direction\": \"desc\"\n",
    "      }\n",
    "    ],\n",
    "    \"limit\": 10\n",
    "  }\n",
    "}"
   ]
  },
  {
   "cell_type": "markdown",
   "id": "2e4ff6be",
   "metadata": {},
   "source": [
    "Now, let's use the `DataProductBuilder` to generate the data product:"
   ]
  },
  {
   "cell_type": "code",
   "execution_count": null,
   "id": "e0f9a090",
   "metadata": {},
   "outputs": [],
   "source": [
    "from intugle.dp_builder import DataProductBuilder\n",
    "\n",
    "# Create a DataProductBuilder\n",
    "dp_builder = DataProductBuilder()\n",
    "\n",
    "# Generate the data product\n",
    "data_product = dp_builder.build(etl)\n",
    "\n",
    "data_product.to_df()\n"
   ]
  },
  {
   "cell_type": "markdown",
   "id": "e235b222",
   "metadata": {},
   "source": [
    "The `generate_product` function returns a `DataSet` object. You can also view the generated SQL query used for creating the data product:\n"
   ]
  },
  {
   "cell_type": "code",
   "execution_count": null,
   "id": "31a3e32a",
   "metadata": {},
   "outputs": [],
   "source": [
    "# The generated SQL query\n",
    "data_product.sql_query\n",
    "\n"
   ]
  },
  {
   "cell_type": "markdown",
   "id": "c29d33de",
   "metadata": {},
   "source": [
    "## Conclusion\n",
    "\n",
    "You've learned how to:\n",
    "\n",
    "*   Configure your LLM provider.\n",
    "*   Build a knowledge base using the `KnowledgeBuilder`.\n",
    "*   Access enriched metadata, business glossaries and visualize the relationships between your tables.\n",
    "*   Generate data products from the semantic layer using the `DataProductBuilder`.\n",
    "\n",
    "This is just a starting point. This project has many other features to explore. We encourage you to try it with your own data and see how it can help you build a powerful semantic layer.\n"
   ]
  }
 ],
 "metadata": {
  "kernelspec": {
   "display_name": "intugle",
   "language": "python",
   "name": "python3"
  },
  "language_info": {
   "codemirror_mode": {
    "name": "ipython",
    "version": 3
   },
   "file_extension": ".py",
   "mimetype": "text/x-python",
   "name": "python",
   "nbconvert_exporter": "python",
   "pygments_lexer": "ipython3",
   "version": "3.10.17"
  }
 },
 "nbformat": 4,
 "nbformat_minor": 5
}
