{
 "cells": [
  {
   "cell_type": "markdown",
   "id": "757096f5",
   "metadata": {},
   "source": [
    "# Quickstart: Building a Semantic Layer with Data-Tools\n",
    "\n",
    "This notebook provides a quick introduction to the `intugle` project. You'll learn how to use its key features to automatically build a semantic layer over your data.\n",
    "\n",
    "**What is a Semantic Layer?**\n",
    "\n",
    "A semantic layer is a business-friendly representation of your data. It hides the complexity of the underlying data sources and provides a unified view of your data using familiar business terms. This makes it easier for both business users and data teams to understand and query the data, accelerating data-driven insights.\n",
    "\n",
    "**Who is this for?**\n",
    "\n",
    "This tool is designed for both **data teams** and **business teams**. \n",
    "\n",
    "* **Data teams** can use it to automate data profiling, schema discovery, and documentation, significantly accelerating their workflow.\n",
    "* **Business teams** can use it to gain a better understanding of their data and to perform self-service analytics without needing to write complex SQL queries.\n",
    "\n",
    "**In this notebook, you will learn how to:**\n",
    "\n",
    "1. **Profile your data:** Analyze your data sources to understand their structure, data types, and other characteristics.\n",
    "2. **Business Glossary Generation:** Generate a business glossary for each column, with support for industry-specific domains.\n",
    "2. **Automatically predict links:** Use a Large Language Model (LLM) to automatically discover relationships (foreign keys) between tables.\n",
    "3. **Generate a semantic layer:** Create YAML files file that defines your semantic layer.\n",
    "4. **Generate SQL queries:** Use the semantic layer to generate SQL queries and retrieve data."
   ]
  },
  {
   "cell_type": "markdown",
   "id": "a2a1b244",
   "metadata": {},
   "source": [
    "## 1. LLM Configuration\n",
    "\n",
    "Before running the project, you need to configure a Large Language Model (LLM). This is used for tasks like generating business glossaries and predicting links between tables.\n",
    "\n",
    "You can configure the LLM by setting the following environment variables:\n",
    "\n",
    "* `LLM_PROVIDER`: The LLM provider and model to use (e.g., `openai:gpt-3.5-turbo`).\n",
    "* `OPENAI_API_KEY`: Your API key for the LLM provider.\n",
    "\n",
    "Here's an example of how to set these variables in your environment:\n",
    "\n",
    "```bash\n",
    "export LLM_PROVIDER=\"openai:gpt-3.5-turbo\"\n",
    "export OPENAI_API_KEY=\"your-openai-api-key\"\n",
    "```\n",
    "\n",
    "Alternatively, you can set them in the notebook like this:"
   ]
  },
  {
   "cell_type": "code",
   "execution_count": null,
   "id": "36454d44",
   "metadata": {},
   "outputs": [],
   "source": [
    "import os\n",
    "\n",
    "os.environ[\"LLM_PROVIDER\"] = \"openai:gpt-3.5-turbo\"\n",
    "os.environ[\"OPENAI_API_KEY\"] = \"your-openai-api-key\" # Replace with your actual key\n"
   ]
  },
  {
   "cell_type": "markdown",
   "id": "a3dad9d8",
   "metadata": {},
   "source": [
    "## 2. Data Profiling\n",
    "\n",
    "The first step in building a semantic layer is to profile your data. This involves analyzing your data sources to understand their structure, data types, and other characteristics. The `data-tools` project provides a pipeline for this purpose.\n"
   ]
  },
  {
   "cell_type": "code",
   "execution_count": 18,
   "id": "7f0e28d7",
   "metadata": {},
   "outputs": [
    {
     "name": "stderr",
     "output_type": "stream",
     "text": [
      "/home/raphael/intugle/data-tools/.venv/lib/python3.12/site-packages/pydantic/_internal/_fields.py:198: UserWarning: Field name \"schema\" in \"Source\" shadows an attribute in parent \"BaseResource\"\n",
      "  warnings.warn(\n"
     ]
    }
   ],
   "source": [
    "import pandas as pd\n",
    "\n",
    "from intugle import DataSet"
   ]
  },
  {
   "cell_type": "code",
   "execution_count": 19,
   "id": "0e8971bb",
   "metadata": {},
   "outputs": [
    {
     "data": {
      "text/html": [
       "<div>\n",
       "<style scoped>\n",
       "    .dataframe tbody tr th:only-of-type {\n",
       "        vertical-align: middle;\n",
       "    }\n",
       "\n",
       "    .dataframe tbody tr th {\n",
       "        vertical-align: top;\n",
       "    }\n",
       "\n",
       "    .dataframe thead th {\n",
       "        text-align: right;\n",
       "    }\n",
       "</style>\n",
       "<table border=\"1\" class=\"dataframe\">\n",
       "  <thead>\n",
       "    <tr style=\"text-align: right;\">\n",
       "      <th></th>\n",
       "      <th>start</th>\n",
       "      <th>stop</th>\n",
       "      <th>patient</th>\n",
       "      <th>encounter</th>\n",
       "      <th>code</th>\n",
       "      <th>system</th>\n",
       "      <th>description</th>\n",
       "      <th>type</th>\n",
       "      <th>category</th>\n",
       "      <th>reaction1</th>\n",
       "      <th>description1</th>\n",
       "      <th>severity1</th>\n",
       "      <th>reaction2</th>\n",
       "      <th>description2</th>\n",
       "      <th>severity2</th>\n",
       "    </tr>\n",
       "  </thead>\n",
       "  <tbody>\n",
       "    <tr>\n",
       "      <th>0</th>\n",
       "      <td>2020-02-17</td>\n",
       "      <td>NaN</td>\n",
       "      <td>b9c610cd-28a6-4636-ccb6-c7a0d2a4cb85</td>\n",
       "      <td>01efcc52-15d6-51e9-faa2-bee069fcbe44</td>\n",
       "      <td>111088007</td>\n",
       "      <td>Unknown</td>\n",
       "      <td>Latex (substance)</td>\n",
       "      <td>allergy</td>\n",
       "      <td>environment</td>\n",
       "      <td>247472004.0</td>\n",
       "      <td>Wheal (finding)</td>\n",
       "      <td>MILD</td>\n",
       "      <td>NaN</td>\n",
       "      <td>NaN</td>\n",
       "      <td>NaN</td>\n",
       "    </tr>\n",
       "    <tr>\n",
       "      <th>1</th>\n",
       "      <td>2020-02-17</td>\n",
       "      <td>NaN</td>\n",
       "      <td>b9c610cd-28a6-4636-ccb6-c7a0d2a4cb85</td>\n",
       "      <td>01efcc52-15d6-51e9-faa2-bee069fcbe44</td>\n",
       "      <td>84489001</td>\n",
       "      <td>Unknown</td>\n",
       "      <td>Mold (organism)</td>\n",
       "      <td>allergy</td>\n",
       "      <td>environment</td>\n",
       "      <td>76067001.0</td>\n",
       "      <td>Sneezing</td>\n",
       "      <td>MILD</td>\n",
       "      <td>NaN</td>\n",
       "      <td>NaN</td>\n",
       "      <td>NaN</td>\n",
       "    </tr>\n",
       "    <tr>\n",
       "      <th>2</th>\n",
       "      <td>2020-02-17</td>\n",
       "      <td>NaN</td>\n",
       "      <td>b9c610cd-28a6-4636-ccb6-c7a0d2a4cb85</td>\n",
       "      <td>01efcc52-15d6-51e9-faa2-bee069fcbe44</td>\n",
       "      <td>260147004</td>\n",
       "      <td>Unknown</td>\n",
       "      <td>House dust mite (organism)</td>\n",
       "      <td>allergy</td>\n",
       "      <td>environment</td>\n",
       "      <td>NaN</td>\n",
       "      <td>NaN</td>\n",
       "      <td>NaN</td>\n",
       "      <td>NaN</td>\n",
       "      <td>NaN</td>\n",
       "      <td>NaN</td>\n",
       "    </tr>\n",
       "    <tr>\n",
       "      <th>3</th>\n",
       "      <td>2020-02-17</td>\n",
       "      <td>NaN</td>\n",
       "      <td>b9c610cd-28a6-4636-ccb6-c7a0d2a4cb85</td>\n",
       "      <td>01efcc52-15d6-51e9-faa2-bee069fcbe44</td>\n",
       "      <td>264287008</td>\n",
       "      <td>Unknown</td>\n",
       "      <td>Animal dander (substance)</td>\n",
       "      <td>allergy</td>\n",
       "      <td>environment</td>\n",
       "      <td>878820003.0</td>\n",
       "      <td>Rhinoconjunctivitis (disorder)</td>\n",
       "      <td>MODERATE</td>\n",
       "      <td>271807003.0</td>\n",
       "      <td>Eruption of skin (disorder)</td>\n",
       "      <td>MILD</td>\n",
       "    </tr>\n",
       "    <tr>\n",
       "      <th>4</th>\n",
       "      <td>2020-02-17</td>\n",
       "      <td>NaN</td>\n",
       "      <td>b9c610cd-28a6-4636-ccb6-c7a0d2a4cb85</td>\n",
       "      <td>01efcc52-15d6-51e9-faa2-bee069fcbe44</td>\n",
       "      <td>256277009</td>\n",
       "      <td>Unknown</td>\n",
       "      <td>Grass pollen (substance)</td>\n",
       "      <td>allergy</td>\n",
       "      <td>environment</td>\n",
       "      <td>NaN</td>\n",
       "      <td>NaN</td>\n",
       "      <td>NaN</td>\n",
       "      <td>NaN</td>\n",
       "      <td>NaN</td>\n",
       "      <td>NaN</td>\n",
       "    </tr>\n",
       "  </tbody>\n",
       "</table>\n",
       "</div>"
      ],
      "text/plain": [
       "        start  stop                               patient  \\\n",
       "0  2020-02-17   NaN  b9c610cd-28a6-4636-ccb6-c7a0d2a4cb85   \n",
       "1  2020-02-17   NaN  b9c610cd-28a6-4636-ccb6-c7a0d2a4cb85   \n",
       "2  2020-02-17   NaN  b9c610cd-28a6-4636-ccb6-c7a0d2a4cb85   \n",
       "3  2020-02-17   NaN  b9c610cd-28a6-4636-ccb6-c7a0d2a4cb85   \n",
       "4  2020-02-17   NaN  b9c610cd-28a6-4636-ccb6-c7a0d2a4cb85   \n",
       "\n",
       "                              encounter       code   system  \\\n",
       "0  01efcc52-15d6-51e9-faa2-bee069fcbe44  111088007  Unknown   \n",
       "1  01efcc52-15d6-51e9-faa2-bee069fcbe44   84489001  Unknown   \n",
       "2  01efcc52-15d6-51e9-faa2-bee069fcbe44  260147004  Unknown   \n",
       "3  01efcc52-15d6-51e9-faa2-bee069fcbe44  264287008  Unknown   \n",
       "4  01efcc52-15d6-51e9-faa2-bee069fcbe44  256277009  Unknown   \n",
       "\n",
       "                  description     type     category    reaction1  \\\n",
       "0           Latex (substance)  allergy  environment  247472004.0   \n",
       "1             Mold (organism)  allergy  environment   76067001.0   \n",
       "2  House dust mite (organism)  allergy  environment          NaN   \n",
       "3   Animal dander (substance)  allergy  environment  878820003.0   \n",
       "4    Grass pollen (substance)  allergy  environment          NaN   \n",
       "\n",
       "                     description1 severity1    reaction2  \\\n",
       "0                 Wheal (finding)      MILD          NaN   \n",
       "1                        Sneezing      MILD          NaN   \n",
       "2                             NaN       NaN          NaN   \n",
       "3  Rhinoconjunctivitis (disorder)  MODERATE  271807003.0   \n",
       "4                             NaN       NaN          NaN   \n",
       "\n",
       "                  description2 severity2  \n",
       "0                          NaN       NaN  \n",
       "1                          NaN       NaN  \n",
       "2                          NaN       NaN  \n",
       "3  Eruption of skin (disorder)      MILD  \n",
       "4                          NaN       NaN  "
      ]
     },
     "execution_count": 19,
     "metadata": {},
     "output_type": "execute_result"
    }
   ],
   "source": [
    "# Load the sample data\n",
    "allergies_df = pd.read_csv('https://raw.githubusercontent.com/Intugle/data-tools/refs/heads/main/sample_data/healthcare/allergies.csv')\n",
    "allergies_df.head()"
   ]
  },
  {
   "cell_type": "code",
   "execution_count": 20,
   "id": "8d3e8299",
   "metadata": {},
   "outputs": [
    {
     "name": "stderr",
     "output_type": "stream",
     "text": [
      "/home/raphael/intugle/data-tools/.venv/lib/python3.12/site-packages/numpy/core/fromnumeric.py:3504: RuntimeWarning: Mean of empty slice.\n",
      "  return _methods._mean(a, axis=axis, dtype=dtype,\n",
      "/home/raphael/intugle/data-tools/.venv/lib/python3.12/site-packages/numpy/core/_methods.py:129: RuntimeWarning: invalid value encountered in scalar divide\n",
      "  ret = ret.dtype.type(ret / rcount)\n",
      "[!] Empty column encountered for allergies ==> stop ...\n",
      "100%|██████████| 15/15 [00:07<00:00,  1.94it/s]\n",
      "100%|██████████| 15/15 [00:20<00:00,  1.34s/it]\n"
     ]
    },
    {
     "data": {
      "text/html": [
       "<div>\n",
       "<style scoped>\n",
       "    .dataframe tbody tr th:only-of-type {\n",
       "        vertical-align: middle;\n",
       "    }\n",
       "\n",
       "    .dataframe tbody tr th {\n",
       "        vertical-align: top;\n",
       "    }\n",
       "\n",
       "    .dataframe thead th {\n",
       "        text-align: right;\n",
       "    }\n",
       "</style>\n",
       "<table border=\"1\" class=\"dataframe\">\n",
       "  <thead>\n",
       "    <tr style=\"text-align: right;\">\n",
       "      <th></th>\n",
       "      <th>column_name</th>\n",
       "      <th>business_name</th>\n",
       "      <th>table_name</th>\n",
       "      <th>null_count</th>\n",
       "      <th>count</th>\n",
       "      <th>distinct_count</th>\n",
       "      <th>uniqueness</th>\n",
       "      <th>completeness</th>\n",
       "      <th>sample_data</th>\n",
       "      <th>dtype_sample</th>\n",
       "      <th>ts</th>\n",
       "      <th>datatype_l1</th>\n",
       "      <th>datatype_l2</th>\n",
       "      <th>business_glossary</th>\n",
       "      <th>business_tags</th>\n",
       "    </tr>\n",
       "  </thead>\n",
       "  <tbody>\n",
       "    <tr>\n",
       "      <th>0</th>\n",
       "      <td>start</td>\n",
       "      <td>start</td>\n",
       "      <td>allergies</td>\n",
       "      <td>0</td>\n",
       "      <td>794</td>\n",
       "      <td>179</td>\n",
       "      <td>0.225441</td>\n",
       "      <td>1.0</td>\n",
       "      <td>[2004-09-28, 1954-08-25, 1993-03-10, 2015-01-2...</td>\n",
       "      <td>[2020-02-17, 1981-05-17, 1960-01-05, 1960-05-2...</td>\n",
       "      <td>0.009269</td>\n",
       "      <td>date &amp; time</td>\n",
       "      <td>L2OutputTypes.dimension</td>\n",
       "      <td>Indicates the initial date and time when an al...</td>\n",
       "      <td>[Allergy Onset Date, Patient Medical History, ...</td>\n",
       "    </tr>\n",
       "    <tr>\n",
       "      <th>1</th>\n",
       "      <td>stop</td>\n",
       "      <td>stop</td>\n",
       "      <td>allergies</td>\n",
       "      <td>794</td>\n",
       "      <td>794</td>\n",
       "      <td>0</td>\n",
       "      <td>0.000000</td>\n",
       "      <td>0.0</td>\n",
       "      <td>[]</td>\n",
       "      <td>[]</td>\n",
       "      <td>0.000883</td>\n",
       "      <td>others</td>\n",
       "      <td>L2OutputTypes.unknown</td>\n",
       "      <td>Indicates the conclusion or cessation of a spe...</td>\n",
       "      <td>[EndDate, AllergyResolution, InactiveStatus]</td>\n",
       "    </tr>\n",
       "    <tr>\n",
       "      <th>2</th>\n",
       "      <td>patient</td>\n",
       "      <td>patient</td>\n",
       "      <td>allergies</td>\n",
       "      <td>0</td>\n",
       "      <td>794</td>\n",
       "      <td>179</td>\n",
       "      <td>0.225441</td>\n",
       "      <td>1.0</td>\n",
       "      <td>[d3e4ad8c-11f2-14cf-28be-e4400b6caff1, ce54be4...</td>\n",
       "      <td>[b9c610cd-28a6-4636-ccb6-c7a0d2a4cb85, 0288c42...</td>\n",
       "      <td>0.008875</td>\n",
       "      <td>alphanumeric</td>\n",
       "      <td>L2OutputTypes.dimension</td>\n",
       "      <td>Identifies individuals associated with recorde...</td>\n",
       "      <td>[Patient Identifier, Healthcare Record Linkage...</td>\n",
       "    </tr>\n",
       "    <tr>\n",
       "      <th>3</th>\n",
       "      <td>encounter</td>\n",
       "      <td>encounter</td>\n",
       "      <td>allergies</td>\n",
       "      <td>0</td>\n",
       "      <td>794</td>\n",
       "      <td>179</td>\n",
       "      <td>0.225441</td>\n",
       "      <td>1.0</td>\n",
       "      <td>[42fb21d3-b631-9722-b8b2-58756e071049, c677fed...</td>\n",
       "      <td>[01efcc52-15d6-51e9-faa2-bee069fcbe44, 79de99b...</td>\n",
       "      <td>0.009535</td>\n",
       "      <td>alphanumeric</td>\n",
       "      <td>L2OutputTypes.dimension</td>\n",
       "      <td>A unique identifier associated with a specific...</td>\n",
       "      <td>[Patient Encounter, Clinical Visit Tracking, H...</td>\n",
       "    </tr>\n",
       "    <tr>\n",
       "      <th>4</th>\n",
       "      <td>code</td>\n",
       "      <td>code</td>\n",
       "      <td>allergies</td>\n",
       "      <td>0</td>\n",
       "      <td>794</td>\n",
       "      <td>21</td>\n",
       "      <td>0.026448</td>\n",
       "      <td>1.0</td>\n",
       "      <td>[3718001, 735971005, 25037, 29046, 84489001, 5...</td>\n",
       "      <td>[111088007, 84489001, 260147004, 264287008, 25...</td>\n",
       "      <td>0.010052</td>\n",
       "      <td>integer</td>\n",
       "      <td>L2OutputTypes.dimension</td>\n",
       "      <td>Identifies specific types of allergic reaction...</td>\n",
       "      <td>[Allergy Identifier, Medical Classification, H...</td>\n",
       "    </tr>\n",
       "  </tbody>\n",
       "</table>\n",
       "</div>"
      ],
      "text/plain": [
       "<intugle.analysis.models.DataSet at 0x745a21e2a6c0>"
      ]
     },
     "execution_count": 20,
     "metadata": {},
     "output_type": "execute_result"
    }
   ],
   "source": [
    "# Create a DataSet object and run the profiling pipeline\n",
    "dataset_allergies = DataSet(allergies_df, \"allergies\")\n",
    "dataset_allergies.run(domain=\"Healthcare\")"
   ]
  },
  {
   "cell_type": "markdown",
   "id": "0f4ea58f",
   "metadata": {},
   "source": [
    "The `run()` method performs a series of analysis steps, including:\n",
    "\n",
    "* **Profiling:** Calculates statistics for each column, such as distinct count, uniqueness, and completeness.\n",
    "* **Datatype Identification:** Identifies the data type of each column (e.g., integer, string, datetime).\n",
    "* **Key Identification:** Identifies potential primary keys.\n",
    "* **Glossary Generation:** Generates a business glossary for each column using an LLM.\n",
    "\n",
    "> The `domain` parameter helps the LLM generate a more contextual business glossary. It specifies the industry domain that the dataset belongs to (e.g., \"Healthcare\", \"Finance\", \"E-commerce\").\n"
   ]
  },
  {
   "cell_type": "markdown",
   "id": "eb562acd",
   "metadata": {},
   "source": [
    "## 3. Automated Link Prediction\n",
    "\n",
    "Now that we've profiled our data, let's discover the relationships between tables. The `data-tools` project uses a LLM to predict links (foreign keys) between tables.\n",
    "\n",
    "First, we'll load a few more tables from the sample dataset."
   ]
  },
  {
   "cell_type": "code",
   "execution_count": null,
   "id": "0aa894eb",
   "metadata": {},
   "outputs": [
    {
     "name": "stderr",
     "output_type": "stream",
     "text": [
      "/home/raphael/intugle/data-tools/.venv/lib/python3.12/site-packages/numpy/core/fromnumeric.py:3504: RuntimeWarning: Mean of empty slice.\n",
      "  return _methods._mean(a, axis=axis, dtype=dtype,\n",
      "/home/raphael/intugle/data-tools/.venv/lib/python3.12/site-packages/numpy/core/_methods.py:129: RuntimeWarning: invalid value encountered in scalar divide\n",
      "  ret = ret.dtype.type(ret / rcount)\n",
      " 52%|█████▏    | 13/25 [00:06<00:05,  2.05it/s][!] Error while llm response parsing: Got invalid JSON object. Error: Expecting ',' delimiter: line 2 column 27 (char 28)\n",
      "For troubleshooting, visit: https://python.langchain.com/docs/troubleshooting/errors/OUTPUT_PARSING_FAILURE \n",
      " 64%|██████▍   | 16/25 [00:08<00:04,  2.10it/s][!] Error while llm response parsing: Got invalid JSON object. Error: Expecting ',' delimiter: line 2 column 27 (char 28)\n",
      "For troubleshooting, visit: https://python.langchain.com/docs/troubleshooting/errors/OUTPUT_PARSING_FAILURE \n",
      "100%|██████████| 25/25 [00:13<00:00,  1.82it/s]\n",
      "[*] patients:   0%|          | 0/1 [00:00<?, ?it/s]/home/raphael/intugle/data-tools/src/intugle/core/pipeline/key_identification/ki.py:87: SettingWithCopyWarning: \n",
      "A value is trying to be set on a copy of a slice from a DataFrame\n",
      "\n",
      "See the caveats in the documentation: https://pandas.pydata.org/pandas-docs/stable/user_guide/indexing.html#returning-a-view-versus-a-copy\n",
      "  temp.rename(columns={\"datatype_l1\": \"datatype\"}, inplace=True)\n",
      "[*] patients: 100%|██████████| 1/1 [00:00<00:00,  1.32it/s]\n",
      "100%|██████████| 25/25 [00:32<00:00,  1.29s/it]\n",
      "/home/raphael/intugle/data-tools/.venv/lib/python3.12/site-packages/numpy/core/fromnumeric.py:3504: RuntimeWarning: Mean of empty slice.\n",
      "  return _methods._mean(a, axis=axis, dtype=dtype,\n",
      "/home/raphael/intugle/data-tools/.venv/lib/python3.12/site-packages/numpy/core/_methods.py:129: RuntimeWarning: invalid value encountered in scalar divide\n",
      "  ret = ret.dtype.type(ret / rcount)\n",
      "[!] Empty column encountered for claims ==> referringproviderid ...\n",
      " 32%|███▏      | 10/31 [00:04<00:11,  1.83it/s][!] Error while llm response parsing: Got invalid JSON object. Error: Expecting ',' delimiter: line 2 column 25 (char 26)\n",
      "For troubleshooting, visit: https://python.langchain.com/docs/troubleshooting/errors/OUTPUT_PARSING_FAILURE \n",
      " 35%|███▌      | 11/31 [00:05<00:11,  1.76it/s][!] Error while llm response parsing: Got invalid JSON object. Error: Expecting ',' delimiter: line 2 column 27 (char 28)\n",
      "For troubleshooting, visit: https://python.langchain.com/docs/troubleshooting/errors/OUTPUT_PARSING_FAILURE \n",
      " 81%|████████  | 25/31 [00:12<00:03,  1.92it/s][!] Error while llm response parsing: Got invalid JSON object. Error: Expecting ',' delimiter: line 2 column 25 (char 26)\n",
      "For troubleshooting, visit: https://python.langchain.com/docs/troubleshooting/errors/OUTPUT_PARSING_FAILURE \n",
      "100%|██████████| 31/31 [00:16<00:00,  1.88it/s]\n",
      "[*] claims:   0%|          | 0/1 [00:00<?, ?it/s]/home/raphael/intugle/data-tools/src/intugle/core/pipeline/key_identification/ki.py:87: SettingWithCopyWarning: \n",
      "A value is trying to be set on a copy of a slice from a DataFrame\n",
      "\n",
      "See the caveats in the documentation: https://pandas.pydata.org/pandas-docs/stable/user_guide/indexing.html#returning-a-view-versus-a-copy\n",
      "  temp.rename(columns={\"datatype_l1\": \"datatype\"}, inplace=True)\n",
      "[*] claims: 100%|██████████| 1/1 [00:00<00:00,  2.03it/s]\n",
      "100%|██████████| 31/31 [00:42<00:00,  1.37s/it]\n",
      "/home/raphael/intugle/data-tools/.venv/lib/python3.12/site-packages/numpy/core/fromnumeric.py:3504: RuntimeWarning: Mean of empty slice.\n",
      "  return _methods._mean(a, axis=axis, dtype=dtype,\n",
      "/home/raphael/intugle/data-tools/.venv/lib/python3.12/site-packages/numpy/core/_methods.py:129: RuntimeWarning: invalid value encountered in scalar divide\n",
      "  ret = ret.dtype.type(ret / rcount)\n",
      "100%|██████████| 9/9 [00:04<00:00,  1.85it/s]\n",
      "[*] careplans:   0%|          | 0/1 [00:00<?, ?it/s]/home/raphael/intugle/data-tools/src/intugle/core/pipeline/key_identification/ki.py:87: SettingWithCopyWarning: \n",
      "A value is trying to be set on a copy of a slice from a DataFrame\n",
      "\n",
      "See the caveats in the documentation: https://pandas.pydata.org/pandas-docs/stable/user_guide/indexing.html#returning-a-view-versus-a-copy\n",
      "  temp.rename(columns={\"datatype_l1\": \"datatype\"}, inplace=True)\n",
      "[*] careplans: 100%|██████████| 1/1 [00:00<00:00,  1.26it/s]\n",
      "100%|██████████| 9/9 [00:13<00:00,  1.45s/it]\n",
      "/home/raphael/intugle/data-tools/.venv/lib/python3.12/site-packages/numpy/core/fromnumeric.py:3504: RuntimeWarning: Mean of empty slice.\n",
      "  return _methods._mean(a, axis=axis, dtype=dtype,\n",
      "/home/raphael/intugle/data-tools/.venv/lib/python3.12/site-packages/numpy/core/_methods.py:129: RuntimeWarning: invalid value encountered in scalar divide\n",
      "  ret = ret.dtype.type(ret / rcount)\n",
      "[!] Empty column encountered for claims_transactions ==> modifier1 ...\n",
      "[!] Empty column encountered for claims_transactions ==> modifier2 ...\n",
      "[!] Empty column encountered for claims_transactions ==> adjustments ...\n",
      "[!] Empty column encountered for claims_transactions ==> linenote ...\n",
      " 36%|███▋      | 12/33 [00:05<00:12,  1.71it/s][!] Error while llm response parsing: Got invalid JSON object. Error: Expecting ',' delimiter: line 2 column 25 (char 26)\n",
      "For troubleshooting, visit: https://python.langchain.com/docs/troubleshooting/errors/OUTPUT_PARSING_FAILURE \n",
      " 39%|███▉      | 13/33 [00:06<00:12,  1.60it/s][!] Error while llm response parsing: Got invalid JSON object. Error: Expecting ',' delimiter: line 2 column 25 (char 26)\n",
      "For troubleshooting, visit: https://python.langchain.com/docs/troubleshooting/errors/OUTPUT_PARSING_FAILURE \n",
      " 76%|███████▌  | 25/33 [00:13<00:04,  1.65it/s][!] Error while llm response parsing: Got invalid JSON object. Error: Expecting ',' delimiter: line 2 column 25 (char 26)\n",
      "For troubleshooting, visit: https://python.langchain.com/docs/troubleshooting/errors/OUTPUT_PARSING_FAILURE \n",
      "100%|██████████| 33/33 [00:19<00:00,  1.73it/s]\n",
      "[*] claims_transactions:   0%|          | 0/1 [00:00<?, ?it/s]/home/raphael/intugle/data-tools/src/intugle/core/pipeline/key_identification/ki.py:87: SettingWithCopyWarning: \n",
      "A value is trying to be set on a copy of a slice from a DataFrame\n",
      "\n",
      "See the caveats in the documentation: https://pandas.pydata.org/pandas-docs/stable/user_guide/indexing.html#returning-a-view-versus-a-copy\n",
      "  temp.rename(columns={\"datatype_l1\": \"datatype\"}, inplace=True)\n",
      "[*] claims_transactions: 100%|██████████| 1/1 [00:00<00:00,  1.84it/s]\n",
      "100%|██████████| 33/33 [00:42<00:00,  1.30s/it]\n",
      "/home/raphael/intugle/data-tools/.venv/lib/python3.12/site-packages/numpy/core/fromnumeric.py:3504: RuntimeWarning: Mean of empty slice.\n",
      "  return _methods._mean(a, axis=axis, dtype=dtype,\n",
      "/home/raphael/intugle/data-tools/.venv/lib/python3.12/site-packages/numpy/core/_methods.py:129: RuntimeWarning: invalid value encountered in scalar divide\n",
      "  ret = ret.dtype.type(ret / rcount)\n",
      "100%|██████████| 13/13 [00:06<00:00,  2.02it/s]\n",
      "100%|██████████| 13/13 [00:18<00:00,  1.39s/it]\n"
     ]
    }
   ],
   "source": [
    "table_names = [\"patients\", \"claims\", \"careplans\", \"claims_transactions\", \"medications\"]\n",
    "datasets = [dataset_allergies]\n",
    "\n",
    "\n",
    "def generate_table_url(table_name: str) -> str:\n",
    "    \"\"\"Append the base URL to the table name.\"\"\"\n",
    "    return f\"https://raw.githubusercontent.com/Intugle/data-tools/refs/heads/main/sample_data/healthcare/{table_name}.csv\"\n",
    "\n",
    "\n",
    "for table_name in table_names:\n",
    "    table_url = generate_table_url(table_name)\n",
    "    df = pd.read_csv(table_url)\n",
    "    dataset = DataSet(df, table_name)\n",
    "    dataset.run(domain=\"Healthcare\")\n",
    "    datasets.append(dataset)"
   ]
  },
  {
   "cell_type": "markdown",
   "id": "e083a8d8",
   "metadata": {},
   "source": [
    "Now, let's run the link prediction pipeline."
   ]
  },
  {
   "cell_type": "code",
   "execution_count": 22,
   "id": "fe4cd56d",
   "metadata": {},
   "outputs": [
    {
     "name": "stdout",
     "output_type": "stream",
     "text": [
      "Dataset 'allergies' is missing key identification. Running prerequisite analysis...\n"
     ]
    },
    {
     "name": "stderr",
     "output_type": "stream",
     "text": [
      "/home/raphael/intugle/data-tools/.venv/lib/python3.12/site-packages/numpy/core/fromnumeric.py:3504: RuntimeWarning: Mean of empty slice.\n",
      "  return _methods._mean(a, axis=axis, dtype=dtype,\n",
      "/home/raphael/intugle/data-tools/.venv/lib/python3.12/site-packages/numpy/core/_methods.py:129: RuntimeWarning: invalid value encountered in scalar divide\n",
      "  ret = ret.dtype.type(ret / rcount)\n",
      "[!] Empty column encountered for allergies ==> stop ...\n",
      "100%|██████████| 15/15 [00:06<00:00,  2.60it/s][!] Error while llm response parsing: Got invalid JSON object. Error: Expecting ',' delimiter: line 2 column 27 (char 28)\n",
      "For troubleshooting, visit: https://python.langchain.com/docs/troubleshooting/errors/OUTPUT_PARSING_FAILURE \n",
      "100%|██████████| 15/15 [00:07<00:00,  2.10it/s]"
     ]
    },
    {
     "name": "stdout",
     "output_type": "stream",
     "text": [
      "Dataset 'patients' already processed. Skipping analysis.\n",
      "Dataset 'claims' already processed. Skipping analysis.\n",
      "Dataset 'careplans' already processed. Skipping analysis.\n",
      "Dataset 'claims_transactions' already processed. Skipping analysis.\n",
      "Dataset 'medications' is missing key identification. Running prerequisite analysis...\n"
     ]
    },
    {
     "name": "stderr",
     "output_type": "stream",
     "text": [
      "\n",
      "/home/raphael/intugle/data-tools/.venv/lib/python3.12/site-packages/numpy/core/fromnumeric.py:3504: RuntimeWarning: Mean of empty slice.\n",
      "  return _methods._mean(a, axis=axis, dtype=dtype,\n",
      "/home/raphael/intugle/data-tools/.venv/lib/python3.12/site-packages/numpy/core/_methods.py:129: RuntimeWarning: invalid value encountered in scalar divide\n",
      "  ret = ret.dtype.type(ret / rcount)\n",
      "100%|██████████| 13/13 [00:08<00:00,  1.53it/s]\n"
     ]
    },
    {
     "name": "stdout",
     "output_type": "stream",
     "text": [
      "LinkPredictor initialized with datasets: ['allergies', 'patients', 'claims', 'careplans', 'claims_transactions', 'medications']\n",
      "\n",
      "--- Comparing 'allergies' <=> 'patients' ---\n"
     ]
    },
    {
     "name": "stderr",
     "output_type": "stream",
     "text": [
      "[*] allergies <==> patients Runs:1: 100%|██████████| 1/1 [00:01<00:00,  1.04s/it]\n"
     ]
    },
    {
     "name": "stdout",
     "output_type": "stream",
     "text": [
      "Found 1 potential link(s).\n",
      "\n",
      "--- Comparing 'allergies' <=> 'claims' ---\n"
     ]
    },
    {
     "name": "stderr",
     "output_type": "stream",
     "text": [
      "[*] allergies <==> claims Runs:1: 100%|██████████| 1/1 [00:02<00:00,  2.44s/it]\n"
     ]
    },
    {
     "name": "stdout",
     "output_type": "stream",
     "text": [
      "No links found for this pair.\n",
      "\n",
      "--- Comparing 'allergies' <=> 'careplans' ---\n"
     ]
    },
    {
     "name": "stderr",
     "output_type": "stream",
     "text": [
      "[*] allergies <==> careplans Runs:1: 100%|██████████| 1/1 [00:02<00:00,  2.32s/it]\n"
     ]
    },
    {
     "name": "stdout",
     "output_type": "stream",
     "text": [
      "No links found for this pair.\n",
      "\n",
      "--- Comparing 'allergies' <=> 'claims_transactions' ---\n"
     ]
    },
    {
     "name": "stderr",
     "output_type": "stream",
     "text": [
      "[*] allergies <==> claims_transactions Runs:1: 100%|██████████| 1/1 [00:03<00:00,  3.17s/it]\n"
     ]
    },
    {
     "name": "stdout",
     "output_type": "stream",
     "text": [
      "No links found for this pair.\n",
      "\n",
      "--- Comparing 'allergies' <=> 'medications' ---\n"
     ]
    },
    {
     "name": "stderr",
     "output_type": "stream",
     "text": [
      "[*] allergies <==> medications Runs:1: 100%|██████████| 1/1 [00:02<00:00,  2.55s/it]\n"
     ]
    },
    {
     "name": "stdout",
     "output_type": "stream",
     "text": [
      "No links found for this pair.\n",
      "\n",
      "--- Comparing 'patients' <=> 'claims' ---\n"
     ]
    },
    {
     "name": "stderr",
     "output_type": "stream",
     "text": [
      "[*] patients <==> claims Runs:1: 100%|██████████| 1/1 [00:04<00:00,  4.56s/it]\n"
     ]
    },
    {
     "name": "stdout",
     "output_type": "stream",
     "text": [
      "Found 1 potential link(s).\n",
      "\n",
      "--- Comparing 'patients' <=> 'careplans' ---\n"
     ]
    },
    {
     "name": "stderr",
     "output_type": "stream",
     "text": [
      "[*] patients <==> careplans Runs:1: 100%|██████████| 1/1 [00:01<00:00,  1.17s/it]\n"
     ]
    },
    {
     "name": "stdout",
     "output_type": "stream",
     "text": [
      "Found 1 potential link(s).\n",
      "\n",
      "--- Comparing 'patients' <=> 'claims_transactions' ---\n"
     ]
    },
    {
     "name": "stderr",
     "output_type": "stream",
     "text": [
      "[*] patients <==> claims_transactions Runs:1: 100%|██████████| 1/1 [00:01<00:00,  1.21s/it]\n"
     ]
    },
    {
     "name": "stdout",
     "output_type": "stream",
     "text": [
      "Found 1 potential link(s).\n",
      "\n",
      "--- Comparing 'patients' <=> 'medications' ---\n"
     ]
    },
    {
     "name": "stderr",
     "output_type": "stream",
     "text": [
      "[*] patients <==> medications Runs:1: 100%|██████████| 1/1 [00:01<00:00,  1.21s/it]\n"
     ]
    },
    {
     "name": "stdout",
     "output_type": "stream",
     "text": [
      "Found 1 potential link(s).\n",
      "\n",
      "--- Comparing 'claims' <=> 'careplans' ---\n"
     ]
    },
    {
     "name": "stderr",
     "output_type": "stream",
     "text": [
      "[*] claims <==> careplans Runs:1: 100%|██████████| 1/1 [00:10<00:00, 10.48s/it]\n"
     ]
    },
    {
     "name": "stdout",
     "output_type": "stream",
     "text": [
      "No links found for this pair.\n",
      "\n",
      "--- Comparing 'claims' <=> 'claims_transactions' ---\n"
     ]
    },
    {
     "name": "stderr",
     "output_type": "stream",
     "text": [
      "[*] claims <==> claims_transactions Runs:1: 100%|██████████| 1/1 [00:08<00:00,  8.00s/it]\n"
     ]
    },
    {
     "name": "stdout",
     "output_type": "stream",
     "text": [
      "Found 1 potential link(s).\n",
      "\n",
      "--- Comparing 'claims' <=> 'medications' ---\n"
     ]
    },
    {
     "name": "stderr",
     "output_type": "stream",
     "text": [
      "[*] claims <==> medications Runs:1: 100%|██████████| 1/1 [00:17<00:00, 17.98s/it]\n"
     ]
    },
    {
     "name": "stdout",
     "output_type": "stream",
     "text": [
      "No links found for this pair.\n",
      "\n",
      "--- Comparing 'careplans' <=> 'claims_transactions' ---\n"
     ]
    },
    {
     "name": "stderr",
     "output_type": "stream",
     "text": [
      "[*] careplans <==> claims_transactions Runs:1: 100%|██████████| 1/1 [00:05<00:00,  5.82s/it]\n"
     ]
    },
    {
     "name": "stdout",
     "output_type": "stream",
     "text": [
      "No links found for this pair.\n",
      "\n",
      "--- Comparing 'careplans' <=> 'medications' ---\n"
     ]
    },
    {
     "name": "stderr",
     "output_type": "stream",
     "text": [
      "[*] careplans <==> medications Runs:1: 100%|██████████| 1/1 [00:00<00:00,  1.43it/s]\n"
     ]
    },
    {
     "name": "stdout",
     "output_type": "stream",
     "text": [
      "Found 1 potential link(s).\n",
      "\n",
      "--- Comparing 'claims_transactions' <=> 'medications' ---\n"
     ]
    },
    {
     "name": "stderr",
     "output_type": "stream",
     "text": [
      "[*] claims_transactions <==> medications Runs:1: 100%|██████████| 1/1 [00:02<00:00,  2.70s/it]"
     ]
    },
    {
     "name": "stdout",
     "output_type": "stream",
     "text": [
      "No links found for this pair.\n"
     ]
    },
    {
     "name": "stderr",
     "output_type": "stream",
     "text": [
      "\n"
     ]
    },
    {
     "data": {
      "text/plain": [
       "[PredictedLink(from_dataset='allergies', from_column='patient', to_dataset='patients', to_column='id'),\n",
       " PredictedLink(from_dataset='patients', from_column='id', to_dataset='claims', to_column='patientid'),\n",
       " PredictedLink(from_dataset='patients', from_column='id', to_dataset='careplans', to_column='patient'),\n",
       " PredictedLink(from_dataset='patients', from_column='id', to_dataset='claims_transactions', to_column='patientid'),\n",
       " PredictedLink(from_dataset='patients', from_column='id', to_dataset='medications', to_column='patient'),\n",
       " PredictedLink(from_dataset='claims', from_column='id', to_dataset='claims_transactions', to_column='claimid'),\n",
       " PredictedLink(from_dataset='careplans', from_column='encounter', to_dataset='medications', to_column='encounter')]"
      ]
     },
     "execution_count": 22,
     "metadata": {},
     "output_type": "execute_result"
    }
   ],
   "source": [
    "from intugle import LinkPredictor\n",
    "\n",
    "# Initialize the predictor\n",
    "predictor = LinkPredictor(datasets)\n",
    "\n",
    "# Run the prediction\n",
    "results = predictor.predict()\n",
    "results.links"
   ]
  },
  {
   "cell_type": "markdown",
   "id": "d18dc421",
   "metadata": {},
   "source": [
    "The `results` object contains the predicted links between the tables. You can also visualize the relationships as a graph.\n"
   ]
  },
  {
   "cell_type": "code",
   "execution_count": 23,
   "id": "a59704ba",
   "metadata": {},
   "outputs": [
    {
     "data": {
      "image/png": "[encoded data removed]",
      "text/plain": [
       "<Figure size 2000x2000 with 1 Axes>"
      ]
     },
     "metadata": {},
     "output_type": "display_data"
    }
   ],
   "source": [
    "results.show_graph()\n"
   ]
  },
  {
   "cell_type": "markdown",
   "id": "32fd4917",
   "metadata": {},
   "source": [
    "## 4. The Semantic Layer (Manifest)\n",
    "\n",
    "The profiling and link prediction results are used to generate YAML files which are saved automatically. These files defines the semantic layer, including the models (tables) and their relationships. \n",
    "\n",
    "By default, these files are saved in the current working directory. You can configure this path by setting the `PROJECT_BASE` environment variable. They can also be saved manually as shown below:"
   ]
  },
  {
   "cell_type": "code",
   "execution_count": 24,
   "id": "a0daf854",
   "metadata": {},
   "outputs": [],
   "source": [
    "for ds in datasets:\n",
    "    ds.save_yaml()\n",
    "\n",
    "results.save_yaml(\"relationships.yml\")"
   ]
  },
  {
   "cell_type": "markdown",
   "id": "8cf08923",
   "metadata": {},
   "source": [
    "Now, we can load the YAML files and create a manifest."
   ]
  },
  {
   "cell_type": "markdown",
   "id": "3d086f45",
   "metadata": {},
   "source": [
    "## 5. SQL Generation\n",
    "\n",
    "Once you have a semantic layer, you can use the `SqlGenerator` to generate SQL queries. This allows you to query the data using business-friendly terms, without having to write complex SQL.\n",
    "\n",
    "Let's create an ETL model to define the query we want to generate."
   ]
  },
  {
   "cell_type": "code",
   "execution_count": 25,
   "id": "2570af46",
   "metadata": {},
   "outputs": [],
   "source": [
    "\n",
    "etl = {\n",
    "    \"name\": \"test_etl\",\n",
    "    \"fields\": [\n",
    "        {\"id\": \"patients.first\", \"name\": \"first_name\"},\n",
    "        {\"id\": \"patients.last\", \"name\": \"last_name\"},\n",
    "        {\"id\": \"allergies.start\", \"name\": \"start_date\"},\n",
    "    ],\n",
    "    \"filter\": {\n",
    "        \"selections\": [{\"id\": \"claims.departmentid\", \"values\": [\"3\", \"20\"]}],\n",
    "    },\n",
    "}"
   ]
  },
  {
   "cell_type": "markdown",
   "id": "2e4ff6be",
   "metadata": {},
   "source": [
    "Now, let's use the `SqlGenerator` to generate the SQL query."
   ]
  },
  {
   "cell_type": "code",
   "execution_count": 26,
   "id": "f0432e77",
   "metadata": {},
   "outputs": [
    {
     "name": "stdout",
     "output_type": "stream",
     "text": [
      "SELECT patients.first as `first_name`, patients.last as `last_name`, allergies.start as `start_date` FROM `claims` LEFT JOIN `patients` ON patients.id = claims.patientid LEFT JOIN `allergies` ON allergies.patient = patients.id WHERE (claims.departmentid IN '['3', '20']')\n"
     ]
    }
   ],
   "source": [
    "from intugle.sql_generator import SqlGenerator\n",
    "\n",
    "# Create a SqlGenerator\n",
    "sql_generator = SqlGenerator()\n",
    "\n",
    "# Generate the query\n",
    "sql_query = sql_generator.generate_query(etl)\n",
    "\n",
    "# Print the query\n",
    "print(sql_query)"
   ]
  },
  {
   "cell_type": "markdown",
   "id": "c29d33de",
   "metadata": {},
   "source": [
    "## Conclusion\n",
    "\n",
    "This notebook has provided a brief overview of the `data-tools` project. You've learned how to:\n",
    "\n",
    "* Configure your LLM provider.\n",
    "* Profile your data to understand its characteristics.\n",
    "* Use an LLM to automatically predict links between tables.\n",
    "* Generate a semantic layer.\n",
    "* Use the semantic layer to generate SQL queries.\n",
    "\n",
    "This is just a starting point. The `data-tools` project has many other features to explore. We encourage you to try it with your own data and see how it can help you build a powerful semantic layer.\n"
   ]
  }
 ],
 "metadata": {
  "kernelspec": {
   "display_name": "data-tools",
   "language": "python",
   "name": "python3"
  },
  "language_info": {
   "codemirror_mode": {
    "name": "ipython",
    "version": 3
   },
   "file_extension": ".py",
   "mimetype": "text/x-python",
   "name": "python",
   "nbconvert_exporter": "python",
   "pygments_lexer": "ipython3",
   "version": "3.12.3"
  }
 },
 "nbformat": 4,
 "nbformat_minor": 5
}
